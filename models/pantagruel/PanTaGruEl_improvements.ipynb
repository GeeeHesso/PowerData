{
 "cells": [
  {
   "cell_type": "markdown",
   "id": "b94aac47-fd56-43a4-94e8-7567b9758fa1",
   "metadata": {},
   "source": [
    "This notebook completes the PanTaGruEl model as found at [https://github.com/laurentpagnier/PanTaGruEl.jl](https://github.com/laurentpagnier/PanTaGruEl.jl)"
   ]
  },
  {
   "cell_type": "markdown",
   "id": "f5369178-6275-44f6-9c25-7bd97c24672a",
   "metadata": {},
   "source": [
    "# Import model"
   ]
  },
  {
   "cell_type": "code",
   "execution_count": 1,
   "id": "9e3f3486-d938-46e7-bcf9-b64126ef54ec",
   "metadata": {},
   "outputs": [],
   "source": [
    "import os\n",
    "import json"
   ]
  },
  {
   "cell_type": "code",
   "execution_count": 2,
   "id": "90271ef6-6b33-40db-87de-6528d7a2a4d5",
   "metadata": {},
   "outputs": [],
   "source": [
    "with open('../pantagruel.json') as f:\n",
    "    model = json.load(f)"
   ]
  },
  {
   "cell_type": "markdown",
   "id": "d1e2d374-7b91-4af3-8b1e-fedbb3d411be",
   "metadata": {
    "jp-MarkdownHeadingCollapsed": true
   },
   "source": [
    "# Fix missing bus locations"
   ]
  },
  {
   "cell_type": "code",
   "execution_count": 3,
   "id": "0a3ced60-93ac-4679-903e-491606d01e4a",
   "metadata": {},
   "outputs": [],
   "source": [
    "bus_location_fix = {\n",
    "    \"7321\": \"FR\",\n",
    "    \"7578\": \"FR\",\n",
    "    \"7015\": \"FR\",\n",
    "    \"7586\": \"FR\",\n",
    "    \"7788\": \"FR\",\n",
    "    \"1482\": \"IT\",\n",
    "    \"7822\": \"FR\",\n",
    "    \"7380\": \"FR\",\n",
    "    \"7336\": \"FR\",\n",
    "    \"7333\": \"FR\",\n",
    "    \"7327\": \"FR\",\n",
    "    \"7175\": \"PT\",\n",
    "    \"6988\": \"DK\",\n",
    "    \"7334\": \"FR\",\n",
    "    \"6873\": \"DK\",\n",
    "    \"7821\": \"FR\",\n",
    "    \"7575\": \"FR\",\n",
    "    \"7750\": \"FR\",\n",
    "    \"7337\": \"FR\",\n",
    "    \"7715\": \"FR\",\n",
    "    \"7339\": \"FR\",\n",
    "    \"7741\": \"FR\",\n",
    "    \"6949\": \"FR\",\n",
    "    \"6943\": \"FR\",\n",
    "    \"7322\": \"FR\",\n",
    "    \"7326\": \"FR\"\n",
    "}"
   ]
  },
  {
   "cell_type": "code",
   "execution_count": 4,
   "id": "7f7bfb60-82c6-452b-91c8-950c1574cb25",
   "metadata": {},
   "outputs": [],
   "source": [
    "for (id, country) in bus_location_fix.items():\n",
    "    model[\"bus\"][id][\"country\"] = country"
   ]
  },
  {
   "cell_type": "markdown",
   "id": "b3c3ff6a-8d1d-4897-ae08-f66d3eeebab1",
   "metadata": {
    "jp-MarkdownHeadingCollapsed": true
   },
   "source": [
    "# Add ENTSO-E generator names"
   ]
  },
  {
   "cell_type": "markdown",
   "id": "b815004b-5c60-4964-857f-4323e37f2d40",
   "metadata": {},
   "source": [
    "Add temporary unique generator name for all gens of the model, as well as the generators country:"
   ]
  },
  {
   "cell_type": "code",
   "execution_count": 5,
   "id": "a6bcb335-72ea-45df-a140-9f4579698ea6",
   "metadata": {},
   "outputs": [],
   "source": [
    "for gen_id, gen in model['gen'].items():\n",
    "    bus_id = str(gen['gen_bus'])\n",
    "    gen['name'] = model['bus'][bus_id]['name'] + ' ' + gen_id\n",
    "    gen['country'] = model['bus'][bus_id]['country']"
   ]
  },
  {
   "cell_type": "code",
   "execution_count": 6,
   "id": "d3e55961-df97-4500-8167-dd98c31fe15c",
   "metadata": {},
   "outputs": [],
   "source": [
    "all_gen_names = {gen['name'] for gen in model['gen'].values()}"
   ]
  },
  {
   "cell_type": "markdown",
   "id": "286c5b5a-768e-41b7-bd99-0d5b3551bb20",
   "metadata": {},
   "source": [
    "Import list of generators from ENTSO-E at a given reference time (January 2016)"
   ]
  },
  {
   "cell_type": "code",
   "execution_count": 7,
   "id": "3ee1f218-e84a-44dd-b068-d30375a77025",
   "metadata": {},
   "outputs": [],
   "source": [
    "import pandas as pd"
   ]
  },
  {
   "cell_type": "code",
   "execution_count": 8,
   "id": "a7a5afc2-63a4-4451-a2e0-754d3d89c7cc",
   "metadata": {},
   "outputs": [],
   "source": [
    "entsoe_data_dir = os.path.expanduser('~/data/entso-e/raw')"
   ]
  },
  {
   "cell_type": "code",
   "execution_count": 9,
   "id": "7b4ad2b0-d467-4b2f-8013-b86de14de35f",
   "metadata": {},
   "outputs": [
    {
     "data": {
      "text/html": [
       "<div>\n",
       "<style scoped>\n",
       "    .dataframe tbody tr th:only-of-type {\n",
       "        vertical-align: middle;\n",
       "    }\n",
       "\n",
       "    .dataframe tbody tr th {\n",
       "        vertical-align: top;\n",
       "    }\n",
       "\n",
       "    .dataframe thead th {\n",
       "        text-align: right;\n",
       "    }\n",
       "</style>\n",
       "<table border=\"1\" class=\"dataframe\">\n",
       "  <thead>\n",
       "    <tr style=\"text-align: right;\">\n",
       "      <th></th>\n",
       "      <th>PowerSystemResourceName</th>\n",
       "      <th>MapCode</th>\n",
       "      <th>ProductionType</th>\n",
       "      <th>InstalledGenCapacity</th>\n",
       "      <th>ActualGenerationOutput</th>\n",
       "    </tr>\n",
       "  </thead>\n",
       "  <tbody>\n",
       "    <tr>\n",
       "      <th>0</th>\n",
       "      <td>ABOÑO 1</td>\n",
       "      <td>ES</td>\n",
       "      <td>Fossil Hard coal</td>\n",
       "      <td>341.7</td>\n",
       "      <td>155.520027</td>\n",
       "    </tr>\n",
       "    <tr>\n",
       "      <th>1</th>\n",
       "      <td>ABOÑO 2</td>\n",
       "      <td>ES</td>\n",
       "      <td>Fossil Hard coal</td>\n",
       "      <td>535.8</td>\n",
       "      <td>411.376075</td>\n",
       "    </tr>\n",
       "    <tr>\n",
       "      <th>2</th>\n",
       "      <td>ABTH7</td>\n",
       "      <td>GB</td>\n",
       "      <td>Fossil Hard coal</td>\n",
       "      <td>535.0</td>\n",
       "      <td>501.421135</td>\n",
       "    </tr>\n",
       "    <tr>\n",
       "      <th>3</th>\n",
       "      <td>ABTH8</td>\n",
       "      <td>GB</td>\n",
       "      <td>Fossil Hard coal</td>\n",
       "      <td>535.0</td>\n",
       "      <td>483.604071</td>\n",
       "    </tr>\n",
       "    <tr>\n",
       "      <th>4</th>\n",
       "      <td>ABTH9</td>\n",
       "      <td>GB</td>\n",
       "      <td>Fossil Hard coal</td>\n",
       "      <td>535.0</td>\n",
       "      <td>395.362667</td>\n",
       "    </tr>\n",
       "    <tr>\n",
       "      <th>...</th>\n",
       "      <td>...</td>\n",
       "      <td>...</td>\n",
       "      <td>...</td>\n",
       "      <td>...</td>\n",
       "      <td>...</td>\n",
       "    </tr>\n",
       "    <tr>\n",
       "      <th>1679</th>\n",
       "      <td>Zydowo H3</td>\n",
       "      <td>PL</td>\n",
       "      <td>Hydro Pumped Storage</td>\n",
       "      <td>54.0</td>\n",
       "      <td>2.414234</td>\n",
       "    </tr>\n",
       "    <tr>\n",
       "      <th>1680</th>\n",
       "      <td>iPower Solutions ltd</td>\n",
       "      <td>NIE</td>\n",
       "      <td>Fossil Oil</td>\n",
       "      <td>74.0</td>\n",
       "      <td>0.034341</td>\n",
       "    </tr>\n",
       "    <tr>\n",
       "      <th>1681</th>\n",
       "      <td>Åbyverket Örebro</td>\n",
       "      <td>SE</td>\n",
       "      <td>Biomass</td>\n",
       "      <td>106.0</td>\n",
       "      <td>29.132615</td>\n",
       "    </tr>\n",
       "    <tr>\n",
       "      <th>1682</th>\n",
       "      <td>Öresundsverket CHP G1</td>\n",
       "      <td>SE</td>\n",
       "      <td>Fossil Gas</td>\n",
       "      <td>294.0</td>\n",
       "      <td>210.140970</td>\n",
       "    </tr>\n",
       "    <tr>\n",
       "      <th>1683</th>\n",
       "      <td>Öresundsverket CHP G2</td>\n",
       "      <td>SE</td>\n",
       "      <td>Fossil Gas</td>\n",
       "      <td>154.0</td>\n",
       "      <td>94.636523</td>\n",
       "    </tr>\n",
       "  </tbody>\n",
       "</table>\n",
       "<p>1684 rows × 5 columns</p>\n",
       "</div>"
      ],
      "text/plain": [
       "     PowerSystemResourceName MapCode        ProductionType  \\\n",
       "0                    ABOÑO 1      ES      Fossil Hard coal   \n",
       "1                    ABOÑO 2      ES      Fossil Hard coal   \n",
       "2                      ABTH7      GB      Fossil Hard coal   \n",
       "3                      ABTH8      GB      Fossil Hard coal   \n",
       "4                      ABTH9      GB      Fossil Hard coal   \n",
       "...                      ...     ...                   ...   \n",
       "1679               Zydowo H3      PL  Hydro Pumped Storage   \n",
       "1680    iPower Solutions ltd     NIE            Fossil Oil   \n",
       "1681        Åbyverket Örebro      SE               Biomass   \n",
       "1682   Öresundsverket CHP G1      SE            Fossil Gas   \n",
       "1683   Öresundsverket CHP G2      SE            Fossil Gas   \n",
       "\n",
       "      InstalledGenCapacity  ActualGenerationOutput  \n",
       "0                    341.7              155.520027  \n",
       "1                    535.8              411.376075  \n",
       "2                    535.0              501.421135  \n",
       "3                    535.0              483.604071  \n",
       "4                    535.0              395.362667  \n",
       "...                    ...                     ...  \n",
       "1679                  54.0                2.414234  \n",
       "1680                  74.0                0.034341  \n",
       "1681                 106.0               29.132615  \n",
       "1682                 294.0              210.140970  \n",
       "1683                 154.0               94.636523  \n",
       "\n",
       "[1684 rows x 5 columns]"
      ]
     },
     "execution_count": 9,
     "metadata": {},
     "output_type": "execute_result"
    }
   ],
   "source": [
    "entsoe_data = pd.DataFrame(pd.read_csv('%s/2016_01_ActualGenerationOutputPerGenerationUnit_16.1.A.csv' % entsoe_data_dir, sep='\\t') \\\n",
    "    .groupby(['PowerSystemResourceName', 'MapCode', 'ProductionType', 'InstalledGenCapacity'])['ActualGenerationOutput'].mean()) \\\n",
    "    .reset_index()\n",
    "entsoe_data"
   ]
  },
  {
   "cell_type": "markdown",
   "id": "e6909a36-daad-4b49-8746-37b614224c52",
   "metadata": {},
   "source": [
    "Determine country from MapCode column:"
   ]
  },
  {
   "cell_type": "code",
   "execution_count": 10,
   "id": "4e6e4b63-2be4-46a0-8d1d-75aa2255e9d6",
   "metadata": {},
   "outputs": [],
   "source": [
    "entsoe_country_map = {mapcode: mapcode for mapcode in entsoe_data['MapCode']}\n",
    "for mapcode in entsoe_country_map.keys():\n",
    "    if mapcode[0:2] == 'DE':\n",
    "        entsoe_country_map[mapcode] = 'DE'\n",
    "entsoe_data.insert(2, 'Country', list(map(lambda mapcode: entsoe_country_map[mapcode], entsoe_data['MapCode'])))"
   ]
  },
  {
   "cell_type": "markdown",
   "id": "f7ec691c-09f7-4bdf-af23-67f1a50cb277",
   "metadata": {},
   "source": [
    "Filter generators that are in one of the model's country (ENTSO-E data also containes UK, Ireland, Sweden...)"
   ]
  },
  {
   "cell_type": "code",
   "execution_count": 11,
   "id": "9349ef95-a3d8-4eec-9443-9d0bdb9e62dd",
   "metadata": {},
   "outputs": [
    {
     "data": {
      "text/plain": [
       "{'AL',\n",
       " 'AT',\n",
       " 'BA',\n",
       " 'BE',\n",
       " 'BG',\n",
       " 'CH',\n",
       " 'CZ',\n",
       " 'DE',\n",
       " 'DK',\n",
       " 'ES',\n",
       " 'FR',\n",
       " 'GR',\n",
       " 'HR',\n",
       " 'HU',\n",
       " 'IT',\n",
       " 'LU',\n",
       " 'ME',\n",
       " 'MK',\n",
       " 'NL',\n",
       " 'PL',\n",
       " 'PT',\n",
       " 'RO',\n",
       " 'RS',\n",
       " 'SI',\n",
       " 'SK',\n",
       " 'XX'}"
      ]
     },
     "execution_count": 11,
     "metadata": {},
     "output_type": "execute_result"
    }
   ],
   "source": [
    "model_countries = {gen['country'] for gen in model['gen'].values()}\n",
    "model_countries"
   ]
  },
  {
   "cell_type": "code",
   "execution_count": 12,
   "id": "56ca944e-0bf1-4179-a856-21aa7c319b38",
   "metadata": {},
   "outputs": [],
   "source": [
    "entsoe_data = entsoe_data[entsoe_data['Country'].isin(model_countries)]"
   ]
  },
  {
   "cell_type": "markdown",
   "id": "8c374f12-83cd-41a8-bb1a-30cdcb0bb14f",
   "metadata": {
    "jp-MarkdownHeadingCollapsed": true
   },
   "source": [
    "### Switzerland"
   ]
  },
  {
   "cell_type": "markdown",
   "id": "414132ec-be44-4801-a199-ba3b6480de9a",
   "metadata": {},
   "source": [
    "Manually examine ENTSO-E generators list:"
   ]
  },
  {
   "cell_type": "code",
   "execution_count": 13,
   "id": "a2be301d-a1d9-4efc-8e89-ee4204574bf6",
   "metadata": {},
   "outputs": [],
   "source": [
    "CH_name_map = {\n",
    "    'Beznau 943': ['Beznau 1', 'Beznau 2'],\n",
    "    'Mühleberg 917': ['KKM Produktion'],\n",
    "    'Leibstadt 908': ['Leibstadt'],\n",
    "    'Gösgen 921': ['Kernkraftwerk Gösgen'],\n",
    "    'Biasca 938': ['Centrale di Biasca'],\n",
    "    'Veytaux 913': ['Usine de Veytaux'],\n",
    "    'Bâtiaz 912': ['Usine de la Bâtiaz'],\n",
    "    'Chamoson 914': ['Usine de Bieudron', 'Usine de Nendaz'],\n",
    "    'Fionnay GD 911': ['Usine de Fionnay'],\n",
    "    'Verbano 922': ['Centrale di Verbano'],\n",
    "    'Robiei 936': ['Centrale di Robiei'],\n",
    "    'Bitsch 916': ['Kraftwerk Bitsch'],\n",
    "    'Bavona 935': ['Centrale di Bavona'],\n",
    "    'Cavergno 923': ['Centrale di Cavergno'],\n",
    "    'Mapragg 939': ['Mapragg - Gigerwald G1'],\n",
    "    'Grimsel 909': ['KWO Produktion'],\n",
    "    'Innertkirchen 918': ['KWO Produktion'],\n",
    "    'Riddes 173': ['Stufe FMM Produktion Total'],\n",
    "    'Fionnay FMM 910': ['Stufe FMM Produktion Total'],\n",
    "    'Limmern 958': ['Limmern - Muttsee G1'],\n",
    "    'Tierfehd 926': ['Tierfehd - Limmern GPSW'],\n",
    "    'Olivone 925': ['AET Leventina']\n",
    "}"
   ]
  },
  {
   "cell_type": "code",
   "execution_count": 14,
   "id": "e4141eba-ba09-4920-a479-6dcf39322de1",
   "metadata": {},
   "outputs": [],
   "source": [
    "CH_name_values = {name for list_of_names in CH_name_map.values() for name in list_of_names}"
   ]
  },
  {
   "cell_type": "markdown",
   "id": "c1dfa408-4369-464a-b799-cf3c2bcdd259",
   "metadata": {},
   "source": [
    "Check that the keys are part of the model's names:"
   ]
  },
  {
   "cell_type": "code",
   "execution_count": 15,
   "id": "a8a631f4-3818-4f26-bd84-ba1a9f758f95",
   "metadata": {},
   "outputs": [],
   "source": [
    "assert set(CH_name_map.keys()).issubset(all_gen_names)"
   ]
  },
  {
   "cell_type": "markdown",
   "id": "916972c8-2b2f-4e9d-a2f9-9cdf0968355a",
   "metadata": {},
   "source": [
    "Check that the names belong to the ENTSO-E names:"
   ]
  },
  {
   "cell_type": "code",
   "execution_count": 16,
   "id": "bf4ba08c-4795-4824-a78f-62ecd5c82160",
   "metadata": {},
   "outputs": [],
   "source": [
    "assert CH_name_values.issubset(entsoe_data['PowerSystemResourceName'])"
   ]
  },
  {
   "cell_type": "markdown",
   "id": "36f23ffc-8798-4fc5-87f7-0f0439a362b4",
   "metadata": {},
   "source": [
    "Model's generators not in the list:"
   ]
  },
  {
   "cell_type": "code",
   "execution_count": 17,
   "id": "37189812-f3c3-44a2-91a3-411eb27997e0",
   "metadata": {},
   "outputs": [
    {
     "data": {
      "text/html": [
       "<div>\n",
       "<style scoped>\n",
       "    .dataframe tbody tr th:only-of-type {\n",
       "        vertical-align: middle;\n",
       "    }\n",
       "\n",
       "    .dataframe tbody tr th {\n",
       "        vertical-align: top;\n",
       "    }\n",
       "\n",
       "    .dataframe thead th {\n",
       "        text-align: right;\n",
       "    }\n",
       "</style>\n",
       "<table border=\"1\" class=\"dataframe\">\n",
       "  <thead>\n",
       "    <tr style=\"text-align: right;\">\n",
       "      <th></th>\n",
       "      <th>Name</th>\n",
       "      <th>Type</th>\n",
       "      <th>Pmax</th>\n",
       "    </tr>\n",
       "  </thead>\n",
       "  <tbody>\n",
       "    <tr>\n",
       "      <th>11</th>\n",
       "      <td>Bärenburg 930</td>\n",
       "      <td>hydro_pure_storage</td>\n",
       "      <td>220.0</td>\n",
       "    </tr>\n",
       "    <tr>\n",
       "      <th>0</th>\n",
       "      <td>Castasegna 928</td>\n",
       "      <td>hydro_pure_storage</td>\n",
       "      <td>100.0</td>\n",
       "    </tr>\n",
       "    <tr>\n",
       "      <th>3</th>\n",
       "      <td>Ferrera 929</td>\n",
       "      <td>hydro_mixed</td>\n",
       "      <td>180.0</td>\n",
       "    </tr>\n",
       "    <tr>\n",
       "      <th>9</th>\n",
       "      <td>Foretaille 766</td>\n",
       "      <td>hydro_ror</td>\n",
       "      <td>98.0</td>\n",
       "    </tr>\n",
       "    <tr>\n",
       "      <th>5</th>\n",
       "      <td>Göschenen 919</td>\n",
       "      <td>hydro_pure_storage</td>\n",
       "      <td>160.0</td>\n",
       "    </tr>\n",
       "    <tr>\n",
       "      <th>6</th>\n",
       "      <td>Handeck 937</td>\n",
       "      <td>hydro_mixed</td>\n",
       "      <td>113.0</td>\n",
       "    </tr>\n",
       "    <tr>\n",
       "      <th>2</th>\n",
       "      <td>Laufenburg 920</td>\n",
       "      <td>hydro_ror</td>\n",
       "      <td>106.0</td>\n",
       "    </tr>\n",
       "    <tr>\n",
       "      <th>12</th>\n",
       "      <td>Löbbia 933</td>\n",
       "      <td>hydro_pure_storage</td>\n",
       "      <td>95.0</td>\n",
       "    </tr>\n",
       "    <tr>\n",
       "      <th>1</th>\n",
       "      <td>Pradella 934</td>\n",
       "      <td>hydro_pure_storage</td>\n",
       "      <td>288.0</td>\n",
       "    </tr>\n",
       "    <tr>\n",
       "      <th>4</th>\n",
       "      <td>Rothenbrunnen 932</td>\n",
       "      <td>hydro_pure_storage</td>\n",
       "      <td>127.0</td>\n",
       "    </tr>\n",
       "    <tr>\n",
       "      <th>8</th>\n",
       "      <td>Sedrun 924</td>\n",
       "      <td>hydro_pure_storage</td>\n",
       "      <td>147.0</td>\n",
       "    </tr>\n",
       "    <tr>\n",
       "      <th>10</th>\n",
       "      <td>Sils 931</td>\n",
       "      <td>hydro_pure_storage</td>\n",
       "      <td>247.0</td>\n",
       "    </tr>\n",
       "    <tr>\n",
       "      <th>7</th>\n",
       "      <td>Stalden 915</td>\n",
       "      <td>hydro_pure_storage</td>\n",
       "      <td>180.0</td>\n",
       "    </tr>\n",
       "    <tr>\n",
       "      <th>13</th>\n",
       "      <td>Tavanasa 927</td>\n",
       "      <td>hydro_pure_storage</td>\n",
       "      <td>176.0</td>\n",
       "    </tr>\n",
       "  </tbody>\n",
       "</table>\n",
       "</div>"
      ],
      "text/plain": [
       "                 Name                Type   Pmax\n",
       "11      Bärenburg 930  hydro_pure_storage  220.0\n",
       "0      Castasegna 928  hydro_pure_storage  100.0\n",
       "3         Ferrera 929         hydro_mixed  180.0\n",
       "9      Foretaille 766           hydro_ror   98.0\n",
       "5       Göschenen 919  hydro_pure_storage  160.0\n",
       "6         Handeck 937         hydro_mixed  113.0\n",
       "2      Laufenburg 920           hydro_ror  106.0\n",
       "12         Löbbia 933  hydro_pure_storage   95.0\n",
       "1        Pradella 934  hydro_pure_storage  288.0\n",
       "4   Rothenbrunnen 932  hydro_pure_storage  127.0\n",
       "8          Sedrun 924  hydro_pure_storage  147.0\n",
       "10           Sils 931  hydro_pure_storage  247.0\n",
       "7         Stalden 915  hydro_pure_storage  180.0\n",
       "13       Tavanasa 927  hydro_pure_storage  176.0"
      ]
     },
     "execution_count": 17,
     "metadata": {},
     "output_type": "execute_result"
    }
   ],
   "source": [
    "pd.DataFrame([[gen['name'], gen['type'], 100 * gen['pmax']] for gen in model['gen'].values()\n",
    "             if gen['country'] == 'CH' and gen['name'] not in CH_name_map.keys()],\n",
    "             columns=['Name', 'Type', 'Pmax']).sort_values('Name')"
   ]
  },
  {
   "cell_type": "markdown",
   "id": "6031a2ad-d73f-41d9-9f0a-5080ca97476a",
   "metadata": {},
   "source": [
    "ENTSO-E generators not in the list:"
   ]
  },
  {
   "cell_type": "code",
   "execution_count": 18,
   "id": "340d61a4-ba5d-46c4-bcdd-0057db2de19a",
   "metadata": {},
   "outputs": [
    {
     "data": {
      "text/html": [
       "<div>\n",
       "<style scoped>\n",
       "    .dataframe tbody tr th:only-of-type {\n",
       "        vertical-align: middle;\n",
       "    }\n",
       "\n",
       "    .dataframe tbody tr th {\n",
       "        vertical-align: top;\n",
       "    }\n",
       "\n",
       "    .dataframe thead th {\n",
       "        text-align: right;\n",
       "    }\n",
       "</style>\n",
       "<table border=\"1\" class=\"dataframe\">\n",
       "  <thead>\n",
       "    <tr style=\"text-align: right;\">\n",
       "      <th></th>\n",
       "      <th>PowerSystemResourceName</th>\n",
       "      <th>ProductionType</th>\n",
       "      <th>InstalledGenCapacity</th>\n",
       "    </tr>\n",
       "  </thead>\n",
       "  <tbody>\n",
       "    <tr>\n",
       "      <th>776</th>\n",
       "      <td>KW Rheinfelden CH</td>\n",
       "      <td>Hydro Run-of-river and poundage</td>\n",
       "      <td>100.0</td>\n",
       "    </tr>\n",
       "    <tr>\n",
       "      <th>1580</th>\n",
       "      <td>Usine de Vallorcine</td>\n",
       "      <td>Hydro Water Reservoir</td>\n",
       "      <td>230.0</td>\n",
       "    </tr>\n",
       "  </tbody>\n",
       "</table>\n",
       "</div>"
      ],
      "text/plain": [
       "     PowerSystemResourceName                   ProductionType  \\\n",
       "776        KW Rheinfelden CH  Hydro Run-of-river and poundage   \n",
       "1580     Usine de Vallorcine            Hydro Water Reservoir   \n",
       "\n",
       "      InstalledGenCapacity  \n",
       "776                  100.0  \n",
       "1580                 230.0  "
      ]
     },
     "execution_count": 18,
     "metadata": {},
     "output_type": "execute_result"
    }
   ],
   "source": [
    "entsoe_data[(entsoe_data['Country'] == 'CH') & (~entsoe_data['PowerSystemResourceName'].isin(CH_name_values))] \\\n",
    "    [['PowerSystemResourceName', 'ProductionType', 'InstalledGenCapacity']]"
   ]
  },
  {
   "cell_type": "markdown",
   "id": "8ac63ee9-03b2-4e4c-8fa1-b542d505a1fc",
   "metadata": {
    "jp-MarkdownHeadingCollapsed": true
   },
   "source": [
    "### France"
   ]
  },
  {
   "cell_type": "code",
   "execution_count": 19,
   "id": "ad7847c6-e92a-4294-80bf-a6c88c631cb4",
   "metadata": {},
   "outputs": [],
   "source": [
    "FR_name_map = {\n",
    "    'Belleville 757': ['BELLEVILLE 1', 'BELLEVILLE 2'],\n",
    "    'Boctois 715': ['NOGENT 1', 'NOGENT 2'],\n",
    "    'Cattenom 732': ['CATTENOM 1', 'CATTENOM 2', 'CATTENOM 3', 'CATTENOM 4'],\n",
    "    'Chinon B 751': ['CHINON 1', 'CHINON 2', 'CHINON 3', 'CHINON 4'],\n",
    "    'Chooz 518': ['CHOOZ 1', 'CHOOZ 2'],\n",
    "    'Civaux 602': ['CIVAUX 1', 'CIVAUX 2'],\n",
    "    'Coulange 657': ['CRUAS 1', 'CRUAS 2', 'CRUAS 3', 'CRUAS 4'],\n",
    "    'Creys 690': ['BUGEY 2', 'BUGEY 3', 'BUGEY 4', 'BUGEY 5'],\n",
    "    'Dampierre 708': ['DAMPIERRE 1', 'DAMPIERRE 2', 'DAMPIERRE 3', 'DAMPIERRE 4'],\n",
    "    'Fessenheim 318': ['FESSENHEIM 1', 'FESSENHEIM 2'],\n",
    "    'Flamanville 982': ['FLAMANVILLE 1', 'FLAMANVILLE 2'],\n",
    "    'Golfech 552': ['GOLFECH 1', 'GOLFECH 2'],\n",
    "    'Gravelines 723': ['GRAVELINES 1', 'GRAVELINES 2', 'GRAVELINES 3', 'GRAVELINES 4', 'GRAVELINES 5', 'GRAVELINES 6'],\n",
    "    'Le Blayais 583': ['BLAYAIS 1', 'BLAYAIS 2', 'BLAYAIS 3', 'BLAYAIS 4'],\n",
    "    'Paluel 718': ['PALUEL 1', 'PALUEL 2', 'PALUEL 3', 'PALUEL 4'],\n",
    "    'Penly Poste 717': ['PENLY 1', 'PENLY 2'],\n",
    "    'P.Cordier 670': ['ST ALBAN 1', 'ST ALBAN 2'],\n",
    "    'St. Laurent 554': ['ST LAURENT 1', 'ST LAURENT 2'],\n",
    "    'Tricastin 658': ['TRICASTIN 1', 'TRICASTIN 2', 'TRICASTIN 3', 'TRICASTIN 4'],\n",
    "    'Cordemais Poste 986': ['CORDEMAIS 2', 'CORDEMAIS 3', 'CORDEMAIS 4', 'CORDEMAIS 5'],\n",
    "    'Porcheville 711': ['PORCHEVILLE 1', 'PORCHEVILLE 2', 'PORCHEVILLE 3', 'PORCHEVILLE 4'],\n",
    "    'Aramon 556': ['ARAMON 1', 'ARAMON 2'],\n",
    "    'Villarodin 695': ['VILLARODIN 1', 'VILLARODIN 2'],\n",
    "    'Le Pouget 553': ['POUGET 4'],\n",
    "    'Brommat 758': ['BROMMAT 7'],\n",
    "    'Le Cheylas 685': ['CHEYLAS 1', 'CHEYLAS 2'],\n",
    "    'S. Bissorte 765': ['SUPER BISSORTE 1', 'SUPER BISSORTE 2', 'SUPER BISSORTE 3', 'SUPER BISSORTE 4', 'SUPER BISSORTE 5'],\n",
    "    'Montezic poste et centrale 759': ['MONTEZIC 1', 'MONTEZIC 2', 'MONTEZIC 3', 'MONTEZIC 4'],\n",
    "    'Revin 726': ['REVIN 1', 'REVIN 2', 'REVIN 3', 'REVIN 4'],\n",
    "    'Guersac 987': ['SPEM CCG'],\n",
    "    'Quartes 725': ['Pont-sur-Sambre'],\n",
    "    'Braek 555': ['DK6-TG1', 'DK6-TG2', 'DK6-TV1', 'DK6-TV2'],\n",
    "    'Ratier 754': ['AMFARD14', 'AMFARD15'],\n",
    "    'Darse 610': ['COMBIGOLFE CCG', 'CYCOFOS PL1', 'CYCOFOS PL2'],\n",
    "    'Ponteau 955': ['MARTIGUES PONTEAU 5', 'MARTIGUES PONTEAU 6'],\n",
    "    'Custines 749': ['Croix-de-Metz'],\n",
    "    'St. Avold 731': ['EMILE HUCHET 6', 'EMILE HUCHET 7', 'EMILE HUCHET 8'],\n",
    "    'Bezaumont 729': ['BLENOD 5'],\n",
    "    'Le Havre 603': ['HAVRE 4'],\n",
    "    'La Palun 672': ['PROVENCE 5'],\n",
    "    'Arrighi 709': ['ARRIGHI 1', 'ARRIGHI 2'],\n",
    "    'Brennilis 985': ['BRENNILIS 1', 'BRENNILIS 2', 'BRENNILIS 3'],\n",
    "    'Loscoat 983': ['DIRINON 1', 'DIRINON 2'],\n",
    "    'Le Chesnoy 714': ['MONTEREAU 5', 'MONTEREAU 6'],\n",
    "    'Villevaude 716': ['VAIRES 1', 'VAIRES 2', 'VAIRES 3'],\n",
    "    'Sisteron 677': ['SISTERON 1', 'SISTERON 2'],\n",
    "    'Le Chastang 612': ['CHASTANG 2', 'CHASTANG 3']\n",
    "}"
   ]
  },
  {
   "cell_type": "code",
   "execution_count": 20,
   "id": "44c14b02-9fc4-48f7-81a3-3b1782bacc69",
   "metadata": {},
   "outputs": [],
   "source": [
    "FR_name_values = {name for list_of_names in FR_name_map.values() for name in list_of_names}"
   ]
  },
  {
   "cell_type": "markdown",
   "id": "9d6cbdee-4b96-414d-ad71-bdc7586b8d1a",
   "metadata": {},
   "source": [
    "Check that the keys are part of the model's names:"
   ]
  },
  {
   "cell_type": "code",
   "execution_count": 21,
   "id": "68176014-ee4e-457e-9a9f-d14b9955b483",
   "metadata": {},
   "outputs": [],
   "source": [
    "assert set(FR_name_map.keys()).issubset(all_gen_names)"
   ]
  },
  {
   "cell_type": "markdown",
   "id": "c04e7fd3-e235-40b3-93ea-056e7bdbf36e",
   "metadata": {},
   "source": [
    "Check that the names belong to the ENTSO-E names:"
   ]
  },
  {
   "cell_type": "code",
   "execution_count": 22,
   "id": "d23a9146-7359-413b-b4f6-e633989c3366",
   "metadata": {},
   "outputs": [],
   "source": [
    "assert FR_name_values.issubset(entsoe_data['PowerSystemResourceName'])"
   ]
  },
  {
   "cell_type": "markdown",
   "id": "0741d7bd-f764-42ce-b9a5-3b5be6314ad8",
   "metadata": {},
   "source": [
    "Model's generators not in the list:"
   ]
  },
  {
   "cell_type": "code",
   "execution_count": 23,
   "id": "483cb897-cd61-4f38-bed0-67fb9f56017e",
   "metadata": {},
   "outputs": [
    {
     "data": {
      "text/html": [
       "<div>\n",
       "<style scoped>\n",
       "    .dataframe tbody tr th:only-of-type {\n",
       "        vertical-align: middle;\n",
       "    }\n",
       "\n",
       "    .dataframe tbody tr th {\n",
       "        vertical-align: top;\n",
       "    }\n",
       "\n",
       "    .dataframe thead th {\n",
       "        text-align: right;\n",
       "    }\n",
       "</style>\n",
       "<table border=\"1\" class=\"dataframe\">\n",
       "  <thead>\n",
       "    <tr style=\"text-align: right;\">\n",
       "      <th></th>\n",
       "      <th>Name</th>\n",
       "      <th>Type</th>\n",
       "      <th>Pmax</th>\n",
       "    </tr>\n",
       "  </thead>\n",
       "  <tbody>\n",
       "    <tr>\n",
       "      <th>73</th>\n",
       "      <td>Airvault 597</td>\n",
       "      <td>Biomass</td>\n",
       "      <td>2.1260</td>\n",
       "    </tr>\n",
       "    <tr>\n",
       "      <th>72</th>\n",
       "      <td>Amiens 720</td>\n",
       "      <td>Biomass</td>\n",
       "      <td>2.8300</td>\n",
       "    </tr>\n",
       "    <tr>\n",
       "      <th>122</th>\n",
       "      <td>Amiens 721</td>\n",
       "      <td>Biomass</td>\n",
       "      <td>1.9030</td>\n",
       "    </tr>\n",
       "    <tr>\n",
       "      <th>158</th>\n",
       "      <td>Arnage 601</td>\n",
       "      <td>Biomass</td>\n",
       "      <td>14.3750</td>\n",
       "    </tr>\n",
       "    <tr>\n",
       "      <th>153</th>\n",
       "      <td>Aston 557</td>\n",
       "      <td>hydro_ror</td>\n",
       "      <td>104.0000</td>\n",
       "    </tr>\n",
       "    <tr>\n",
       "      <th>...</th>\n",
       "      <td>...</td>\n",
       "      <td>...</td>\n",
       "      <td>...</td>\n",
       "    </tr>\n",
       "    <tr>\n",
       "      <th>59</th>\n",
       "      <td>Vignol 668</td>\n",
       "      <td>Hydro</td>\n",
       "      <td>6.2600</td>\n",
       "    </tr>\n",
       "    <tr>\n",
       "      <th>95</th>\n",
       "      <td>Vincey 727</td>\n",
       "      <td>Hydro</td>\n",
       "      <td>1.5009</td>\n",
       "    </tr>\n",
       "    <tr>\n",
       "      <th>56</th>\n",
       "      <td>Vogelgrun 737</td>\n",
       "      <td>hydro_ror</td>\n",
       "      <td>141.0000</td>\n",
       "    </tr>\n",
       "    <tr>\n",
       "      <th>134</th>\n",
       "      <td>Volvon 762</td>\n",
       "      <td>Hydro</td>\n",
       "      <td>2.7200</td>\n",
       "    </tr>\n",
       "    <tr>\n",
       "      <th>47</th>\n",
       "      <td>Vouglans 703</td>\n",
       "      <td>hydro_ror</td>\n",
       "      <td>285.0000</td>\n",
       "    </tr>\n",
       "  </tbody>\n",
       "</table>\n",
       "<p>207 rows × 3 columns</p>\n",
       "</div>"
      ],
      "text/plain": [
       "              Name       Type      Pmax\n",
       "73    Airvault 597    Biomass    2.1260\n",
       "72      Amiens 720    Biomass    2.8300\n",
       "122     Amiens 721    Biomass    1.9030\n",
       "158     Arnage 601    Biomass   14.3750\n",
       "153      Aston 557  hydro_ror  104.0000\n",
       "..             ...        ...       ...\n",
       "59      Vignol 668      Hydro    6.2600\n",
       "95      Vincey 727      Hydro    1.5009\n",
       "56   Vogelgrun 737  hydro_ror  141.0000\n",
       "134     Volvon 762      Hydro    2.7200\n",
       "47    Vouglans 703  hydro_ror  285.0000\n",
       "\n",
       "[207 rows x 3 columns]"
      ]
     },
     "execution_count": 23,
     "metadata": {},
     "output_type": "execute_result"
    }
   ],
   "source": [
    "pd.DataFrame([[gen['name'], gen['type'], 100 * gen['pmax']] for gen in model['gen'].values()\n",
    "             if gen['country'] == 'FR' and gen['name'] not in FR_name_map.keys()],\n",
    "             columns=['Name', 'Type', 'Pmax']).sort_values('Name')"
   ]
  },
  {
   "cell_type": "markdown",
   "id": "76a88dcc-1f5d-4607-92bd-227e982048d3",
   "metadata": {},
   "source": [
    "ENTSO-E generators not in the list:"
   ]
  },
  {
   "cell_type": "code",
   "execution_count": 24,
   "id": "e161487b-5320-4a31-beb9-175f3079cac7",
   "metadata": {},
   "outputs": [
    {
     "data": {
      "text/html": [
       "<div>\n",
       "<style scoped>\n",
       "    .dataframe tbody tr th:only-of-type {\n",
       "        vertical-align: middle;\n",
       "    }\n",
       "\n",
       "    .dataframe tbody tr th {\n",
       "        vertical-align: top;\n",
       "    }\n",
       "\n",
       "    .dataframe thead th {\n",
       "        text-align: right;\n",
       "    }\n",
       "</style>\n",
       "<table border=\"1\" class=\"dataframe\">\n",
       "  <thead>\n",
       "    <tr style=\"text-align: right;\">\n",
       "      <th></th>\n",
       "      <th>PowerSystemResourceName</th>\n",
       "      <th>ProductionType</th>\n",
       "      <th>InstalledGenCapacity</th>\n",
       "    </tr>\n",
       "  </thead>\n",
       "  <tbody>\n",
       "    <tr>\n",
       "      <th>15</th>\n",
       "      <td>AIGLE 6</td>\n",
       "      <td>Hydro Water Reservoir</td>\n",
       "      <td>146.0</td>\n",
       "    </tr>\n",
       "    <tr>\n",
       "      <th>118</th>\n",
       "      <td>BORT 1</td>\n",
       "      <td>Hydro Water Reservoir</td>\n",
       "      <td>118.0</td>\n",
       "    </tr>\n",
       "    <tr>\n",
       "      <th>119</th>\n",
       "      <td>BORT 2</td>\n",
       "      <td>Hydro Water Reservoir</td>\n",
       "      <td>114.0</td>\n",
       "    </tr>\n",
       "    <tr>\n",
       "      <th>245</th>\n",
       "      <td>COMBE D'AVRIEUX 1</td>\n",
       "      <td>Hydro Water Reservoir</td>\n",
       "      <td>123.0</td>\n",
       "    </tr>\n",
       "    <tr>\n",
       "      <th>548</th>\n",
       "      <td>FR-GA-MORANT1</td>\n",
       "      <td>Fossil Gas</td>\n",
       "      <td>401.0</td>\n",
       "    </tr>\n",
       "    <tr>\n",
       "      <th>569</th>\n",
       "      <td>GENNEVILLIERS 1</td>\n",
       "      <td>Fossil Gas</td>\n",
       "      <td>203.0</td>\n",
       "    </tr>\n",
       "    <tr>\n",
       "      <th>585</th>\n",
       "      <td>GRAND MAISON 1</td>\n",
       "      <td>Hydro Pumped Storage</td>\n",
       "      <td>152.0</td>\n",
       "    </tr>\n",
       "    <tr>\n",
       "      <th>586</th>\n",
       "      <td>GRAND MAISON 10</td>\n",
       "      <td>Hydro Pumped Storage</td>\n",
       "      <td>157.0</td>\n",
       "    </tr>\n",
       "    <tr>\n",
       "      <th>587</th>\n",
       "      <td>GRAND MAISON 11</td>\n",
       "      <td>Hydro Pumped Storage</td>\n",
       "      <td>157.0</td>\n",
       "    </tr>\n",
       "    <tr>\n",
       "      <th>588</th>\n",
       "      <td>GRAND MAISON 12</td>\n",
       "      <td>Hydro Pumped Storage</td>\n",
       "      <td>157.0</td>\n",
       "    </tr>\n",
       "    <tr>\n",
       "      <th>589</th>\n",
       "      <td>GRAND MAISON 2</td>\n",
       "      <td>Hydro Pumped Storage</td>\n",
       "      <td>152.0</td>\n",
       "    </tr>\n",
       "    <tr>\n",
       "      <th>590</th>\n",
       "      <td>GRAND MAISON 3</td>\n",
       "      <td>Hydro Pumped Storage</td>\n",
       "      <td>152.0</td>\n",
       "    </tr>\n",
       "    <tr>\n",
       "      <th>591</th>\n",
       "      <td>GRAND MAISON 4</td>\n",
       "      <td>Hydro Pumped Storage</td>\n",
       "      <td>152.0</td>\n",
       "    </tr>\n",
       "    <tr>\n",
       "      <th>592</th>\n",
       "      <td>GRAND MAISON 5</td>\n",
       "      <td>Hydro Pumped Storage</td>\n",
       "      <td>152.0</td>\n",
       "    </tr>\n",
       "    <tr>\n",
       "      <th>593</th>\n",
       "      <td>GRAND MAISON 6</td>\n",
       "      <td>Hydro Pumped Storage</td>\n",
       "      <td>152.0</td>\n",
       "    </tr>\n",
       "    <tr>\n",
       "      <th>594</th>\n",
       "      <td>GRAND MAISON 7</td>\n",
       "      <td>Hydro Pumped Storage</td>\n",
       "      <td>152.0</td>\n",
       "    </tr>\n",
       "    <tr>\n",
       "      <th>595</th>\n",
       "      <td>GRAND MAISON 8</td>\n",
       "      <td>Hydro Pumped Storage</td>\n",
       "      <td>152.0</td>\n",
       "    </tr>\n",
       "    <tr>\n",
       "      <th>596</th>\n",
       "      <td>GRAND MAISON 9</td>\n",
       "      <td>Hydro Pumped Storage</td>\n",
       "      <td>157.0</td>\n",
       "    </tr>\n",
       "    <tr>\n",
       "      <th>1193</th>\n",
       "      <td>SAINT-PIERRE</td>\n",
       "      <td>Hydro Run-of-river and poundage</td>\n",
       "      <td>122.0</td>\n",
       "    </tr>\n",
       "  </tbody>\n",
       "</table>\n",
       "</div>"
      ],
      "text/plain": [
       "     PowerSystemResourceName                   ProductionType  \\\n",
       "15                   AIGLE 6            Hydro Water Reservoir   \n",
       "118                   BORT 1            Hydro Water Reservoir   \n",
       "119                   BORT 2            Hydro Water Reservoir   \n",
       "245        COMBE D'AVRIEUX 1            Hydro Water Reservoir   \n",
       "548            FR-GA-MORANT1                       Fossil Gas   \n",
       "569          GENNEVILLIERS 1                       Fossil Gas   \n",
       "585           GRAND MAISON 1             Hydro Pumped Storage   \n",
       "586          GRAND MAISON 10             Hydro Pumped Storage   \n",
       "587          GRAND MAISON 11             Hydro Pumped Storage   \n",
       "588          GRAND MAISON 12             Hydro Pumped Storage   \n",
       "589           GRAND MAISON 2             Hydro Pumped Storage   \n",
       "590           GRAND MAISON 3             Hydro Pumped Storage   \n",
       "591           GRAND MAISON 4             Hydro Pumped Storage   \n",
       "592           GRAND MAISON 5             Hydro Pumped Storage   \n",
       "593           GRAND MAISON 6             Hydro Pumped Storage   \n",
       "594           GRAND MAISON 7             Hydro Pumped Storage   \n",
       "595           GRAND MAISON 8             Hydro Pumped Storage   \n",
       "596           GRAND MAISON 9             Hydro Pumped Storage   \n",
       "1193            SAINT-PIERRE  Hydro Run-of-river and poundage   \n",
       "\n",
       "      InstalledGenCapacity  \n",
       "15                   146.0  \n",
       "118                  118.0  \n",
       "119                  114.0  \n",
       "245                  123.0  \n",
       "548                  401.0  \n",
       "569                  203.0  \n",
       "585                  152.0  \n",
       "586                  157.0  \n",
       "587                  157.0  \n",
       "588                  157.0  \n",
       "589                  152.0  \n",
       "590                  152.0  \n",
       "591                  152.0  \n",
       "592                  152.0  \n",
       "593                  152.0  \n",
       "594                  152.0  \n",
       "595                  152.0  \n",
       "596                  157.0  \n",
       "1193                 122.0  "
      ]
     },
     "execution_count": 24,
     "metadata": {},
     "output_type": "execute_result"
    }
   ],
   "source": [
    "entsoe_data[(entsoe_data['Country'] == 'FR') & (~entsoe_data['PowerSystemResourceName'].isin(FR_name_values))] \\\n",
    "    [['PowerSystemResourceName', 'ProductionType', 'InstalledGenCapacity']]"
   ]
  },
  {
   "cell_type": "markdown",
   "id": "43b91fe9-1f17-41f5-bd0b-4a9bd454040d",
   "metadata": {
    "jp-MarkdownHeadingCollapsed": true
   },
   "source": [
    "### Spain"
   ]
  },
  {
   "cell_type": "code",
   "execution_count": 25,
   "id": "4c5aee82-c1b6-4b8d-b3de-df529493d898",
   "metadata": {},
   "outputs": [],
   "source": [
    "ES_name_map = {\n",
    "    'Asco 79': ['ASCO 1', 'ASCO 2'],\n",
    "    'C.N. Almaraz 160': ['ALMARAZ 1', 'ALMARAZ 2'],\n",
    "    'Sagunto 87': ['COFRENTES'],\n",
    "    'La Robla 1005': ['ROBLA 1', 'ROBLA 2'],\n",
    "    'Soto de Ribera 1013': ['SOTO RIB 2', 'SOTO RIB 3'],\n",
    "    'P.G. Rodriguez 998': ['P.G.RODR 1', 'P.G.RODR 2', 'P.G.RODR 3', 'P.G.RODR 4'],\n",
    "    'Teruel 77': ['TERUEL 1', 'TERUEL 2', 'TERUEL 3'],\n",
    "    'Lada 1009': ['LADA IV'],\n",
    "    'Compostilla I 1004': ['ANLLARES 1', 'COMPOSTI 4', 'COMPOSTI 5'],\n",
    "    'Belesar 997': ['BELESAR 1', 'BELESAR 2', 'BELESAR 3'],\n",
    "    'G. y Galan 152': ['GGALAN GEN'],\n",
    "}"
   ]
  },
  {
   "cell_type": "code",
   "execution_count": 26,
   "id": "42a8cd20-6904-44da-9998-7d55a6ff2a84",
   "metadata": {},
   "outputs": [],
   "source": [
    "ES_name_values = {name for list_of_names in ES_name_map.values() for name in list_of_names}"
   ]
  },
  {
   "cell_type": "markdown",
   "id": "0a49fbc9-ffbe-41b2-96a5-c54adb01c790",
   "metadata": {},
   "source": [
    "Check that the keys are part of the model's names:"
   ]
  },
  {
   "cell_type": "code",
   "execution_count": 27,
   "id": "e413c61d-11ae-426a-a988-b065d1c63a6f",
   "metadata": {},
   "outputs": [],
   "source": [
    "assert set(ES_name_map.keys()).issubset(all_gen_names)"
   ]
  },
  {
   "cell_type": "markdown",
   "id": "31e33ba2-a121-4566-8de8-17f4dc781c99",
   "metadata": {},
   "source": [
    "Check that the names belong to the ENTSO-E names:"
   ]
  },
  {
   "cell_type": "code",
   "execution_count": 28,
   "id": "7bc465e3-9673-4558-8367-f6bcc660923e",
   "metadata": {},
   "outputs": [],
   "source": [
    "assert ES_name_values.issubset(entsoe_data['PowerSystemResourceName'])"
   ]
  },
  {
   "cell_type": "markdown",
   "id": "93831080-9ec5-4117-be7c-8148cb93563a",
   "metadata": {},
   "source": [
    "Model's generators not in the list:"
   ]
  },
  {
   "cell_type": "code",
   "execution_count": 29,
   "id": "c2c7a1ba-53bd-459b-895b-045b9fef6b54",
   "metadata": {},
   "outputs": [
    {
     "data": {
      "text/html": [
       "<div>\n",
       "<style scoped>\n",
       "    .dataframe tbody tr th:only-of-type {\n",
       "        vertical-align: middle;\n",
       "    }\n",
       "\n",
       "    .dataframe tbody tr th {\n",
       "        vertical-align: top;\n",
       "    }\n",
       "\n",
       "    .dataframe thead th {\n",
       "        text-align: right;\n",
       "    }\n",
       "</style>\n",
       "<table border=\"1\" class=\"dataframe\">\n",
       "  <thead>\n",
       "    <tr style=\"text-align: right;\">\n",
       "      <th></th>\n",
       "      <th>Name</th>\n",
       "      <th>Type</th>\n",
       "      <th>Pmax</th>\n",
       "    </tr>\n",
       "  </thead>\n",
       "  <tbody>\n",
       "    <tr>\n",
       "      <th>56</th>\n",
       "      <td>Aguayo 1010</td>\n",
       "      <td>Hydro</td>\n",
       "      <td>360.60</td>\n",
       "    </tr>\n",
       "    <tr>\n",
       "      <th>41</th>\n",
       "      <td>Aldeadávila II 166</td>\n",
       "      <td>hydro_ror</td>\n",
       "      <td>820.00</td>\n",
       "    </tr>\n",
       "    <tr>\n",
       "      <th>60</th>\n",
       "      <td>Alvarado 158</td>\n",
       "      <td>other_nl</td>\n",
       "      <td>150.00</td>\n",
       "    </tr>\n",
       "    <tr>\n",
       "      <th>66</th>\n",
       "      <td>Andújar 143</td>\n",
       "      <td>Waste</td>\n",
       "      <td>15.00</td>\n",
       "    </tr>\n",
       "    <tr>\n",
       "      <th>71</th>\n",
       "      <td>Aravaca 161</td>\n",
       "      <td>Hydro</td>\n",
       "      <td>61.95</td>\n",
       "    </tr>\n",
       "    <tr>\n",
       "      <th>...</th>\n",
       "      <td>...</td>\n",
       "      <td>...</td>\n",
       "      <td>...</td>\n",
       "    </tr>\n",
       "    <tr>\n",
       "      <th>48</th>\n",
       "      <td>Vandellos 80</td>\n",
       "      <td>Gas</td>\n",
       "      <td>39.58</td>\n",
       "    </tr>\n",
       "    <tr>\n",
       "      <th>82</th>\n",
       "      <td>Vilecha 1006</td>\n",
       "      <td>Hydro</td>\n",
       "      <td>34.68</td>\n",
       "    </tr>\n",
       "    <tr>\n",
       "      <th>17</th>\n",
       "      <td>Villalcampo 156</td>\n",
       "      <td>hydro_ror</td>\n",
       "      <td>881.00</td>\n",
       "    </tr>\n",
       "    <tr>\n",
       "      <th>9</th>\n",
       "      <td>Villamayor 154</td>\n",
       "      <td>other_nl</td>\n",
       "      <td>120.00</td>\n",
       "    </tr>\n",
       "    <tr>\n",
       "      <th>53</th>\n",
       "      <td>Villarino 155</td>\n",
       "      <td>hydro_ror</td>\n",
       "      <td>881.00</td>\n",
       "    </tr>\n",
       "  </tbody>\n",
       "</table>\n",
       "<p>85 rows × 3 columns</p>\n",
       "</div>"
      ],
      "text/plain": [
       "                  Name       Type    Pmax\n",
       "56         Aguayo 1010      Hydro  360.60\n",
       "41  Aldeadávila II 166  hydro_ror  820.00\n",
       "60        Alvarado 158   other_nl  150.00\n",
       "66         Andújar 143      Waste   15.00\n",
       "71         Aravaca 161      Hydro   61.95\n",
       "..                 ...        ...     ...\n",
       "48        Vandellos 80        Gas   39.58\n",
       "82        Vilecha 1006      Hydro   34.68\n",
       "17     Villalcampo 156  hydro_ror  881.00\n",
       "9       Villamayor 154   other_nl  120.00\n",
       "53       Villarino 155  hydro_ror  881.00\n",
       "\n",
       "[85 rows x 3 columns]"
      ]
     },
     "execution_count": 29,
     "metadata": {},
     "output_type": "execute_result"
    }
   ],
   "source": [
    "pd.DataFrame([[gen['name'], gen['type'], 100 * gen['pmax']] for gen in model['gen'].values()\n",
    "             if gen['country'] == 'ES' and gen['name'] not in ES_name_map.keys()],\n",
    "             columns=['Name', 'Type', 'Pmax']).sort_values('Name')"
   ]
  },
  {
   "cell_type": "markdown",
   "id": "9f0457d4-fcec-4333-ac68-175f076206ac",
   "metadata": {},
   "source": [
    "ENTSO-E generators not in the list:"
   ]
  },
  {
   "cell_type": "code",
   "execution_count": 30,
   "id": "956501ac-d236-49d5-9397-5ead507bcde5",
   "metadata": {},
   "outputs": [
    {
     "data": {
      "text/html": [
       "<div>\n",
       "<style scoped>\n",
       "    .dataframe tbody tr th:only-of-type {\n",
       "        vertical-align: middle;\n",
       "    }\n",
       "\n",
       "    .dataframe tbody tr th {\n",
       "        vertical-align: top;\n",
       "    }\n",
       "\n",
       "    .dataframe thead th {\n",
       "        text-align: right;\n",
       "    }\n",
       "</style>\n",
       "<table border=\"1\" class=\"dataframe\">\n",
       "  <thead>\n",
       "    <tr style=\"text-align: right;\">\n",
       "      <th></th>\n",
       "      <th>PowerSystemResourceName</th>\n",
       "      <th>ProductionType</th>\n",
       "      <th>InstalledGenCapacity</th>\n",
       "    </tr>\n",
       "  </thead>\n",
       "  <tbody>\n",
       "    <tr>\n",
       "      <th>0</th>\n",
       "      <td>ABOÑO 1</td>\n",
       "      <td>Fossil Hard coal</td>\n",
       "      <td>341.7</td>\n",
       "    </tr>\n",
       "    <tr>\n",
       "      <th>1</th>\n",
       "      <td>ABOÑO 2</td>\n",
       "      <td>Fossil Hard coal</td>\n",
       "      <td>535.8</td>\n",
       "    </tr>\n",
       "    <tr>\n",
       "      <th>5</th>\n",
       "      <td>ACECA 3</td>\n",
       "      <td>Fossil Gas</td>\n",
       "      <td>386.0</td>\n",
       "    </tr>\n",
       "    <tr>\n",
       "      <th>6</th>\n",
       "      <td>ACECA4</td>\n",
       "      <td>Fossil Gas</td>\n",
       "      <td>372.6</td>\n",
       "    </tr>\n",
       "    <tr>\n",
       "      <th>16</th>\n",
       "      <td>ALDEA I G1</td>\n",
       "      <td>Hydro Water Reservoir</td>\n",
       "      <td>132.9</td>\n",
       "    </tr>\n",
       "    <tr>\n",
       "      <th>...</th>\n",
       "      <td>...</td>\n",
       "      <td>...</td>\n",
       "      <td>...</td>\n",
       "    </tr>\n",
       "    <tr>\n",
       "      <th>1601</th>\n",
       "      <td>VLLRINO 4G</td>\n",
       "      <td>Hydro Water Reservoir</td>\n",
       "      <td>138.7</td>\n",
       "    </tr>\n",
       "    <tr>\n",
       "      <th>1602</th>\n",
       "      <td>VLLRINO 5B</td>\n",
       "      <td>Hydro Pumped Storage</td>\n",
       "      <td>138.0</td>\n",
       "    </tr>\n",
       "    <tr>\n",
       "      <th>1603</th>\n",
       "      <td>VLLRINO 5G</td>\n",
       "      <td>Hydro Water Reservoir</td>\n",
       "      <td>148.9</td>\n",
       "    </tr>\n",
       "    <tr>\n",
       "      <th>1604</th>\n",
       "      <td>VLLRINO 6B</td>\n",
       "      <td>Hydro Pumped Storage</td>\n",
       "      <td>138.0</td>\n",
       "    </tr>\n",
       "    <tr>\n",
       "      <th>1605</th>\n",
       "      <td>VLLRINO 6G</td>\n",
       "      <td>Hydro Water Reservoir</td>\n",
       "      <td>148.6</td>\n",
       "    </tr>\n",
       "  </tbody>\n",
       "</table>\n",
       "<p>163 rows × 3 columns</p>\n",
       "</div>"
      ],
      "text/plain": [
       "     PowerSystemResourceName         ProductionType  InstalledGenCapacity\n",
       "0                    ABOÑO 1       Fossil Hard coal                 341.7\n",
       "1                    ABOÑO 2       Fossil Hard coal                 535.8\n",
       "5                    ACECA 3             Fossil Gas                 386.0\n",
       "6                     ACECA4             Fossil Gas                 372.6\n",
       "16                ALDEA I G1  Hydro Water Reservoir                 132.9\n",
       "...                      ...                    ...                   ...\n",
       "1601              VLLRINO 4G  Hydro Water Reservoir                 138.7\n",
       "1602              VLLRINO 5B   Hydro Pumped Storage                 138.0\n",
       "1603              VLLRINO 5G  Hydro Water Reservoir                 148.9\n",
       "1604              VLLRINO 6B   Hydro Pumped Storage                 138.0\n",
       "1605              VLLRINO 6G  Hydro Water Reservoir                 148.6\n",
       "\n",
       "[163 rows x 3 columns]"
      ]
     },
     "execution_count": 30,
     "metadata": {},
     "output_type": "execute_result"
    }
   ],
   "source": [
    "entsoe_data[(entsoe_data['Country'] == 'ES') & (~entsoe_data['PowerSystemResourceName'].isin(ES_name_values))] \\\n",
    "    [['PowerSystemResourceName', 'ProductionType', 'InstalledGenCapacity']]"
   ]
  },
  {
   "cell_type": "markdown",
   "id": "b7b1c671-6c76-4353-bb50-48895c5c2e9a",
   "metadata": {
    "jp-MarkdownHeadingCollapsed": true
   },
   "source": [
    "### Germany"
   ]
  },
  {
   "cell_type": "code",
   "execution_count": 31,
   "id": "aff7da46-6030-4386-a9b4-e65e169d4234",
   "metadata": {},
   "outputs": [],
   "source": [
    "DE_name_map = {\n",
    "    'Brokdorf 210': ['Brokdorf'],\n",
    "    'Gundremmingen 256': ['Gundremmingen B'],\n",
    "    'Gundremmingen 257': ['Gundremmingen C'],\n",
    "    'Isar 265': ['Isar 2'],\n",
    "    'Philippsburg 232': ['KKW Philippsburg 2'],\n",
    "    'Grohnde 209': ['Grohnde'],\n",
    "    'Emsland 249': ['Emsland A'],\n",
    "    'GKN 2 950': ['KKW Neckarwestheim 2'],\n",
    "    'Boxberg 314': ['KW Boxberg Block N', 'KW Boxberg Block P', 'KW Boxberg Block Q', 'KW Boxberg Block R'],\n",
    "    'Jänschwalde 312': ['KW Jänschwalde Block A', 'KW Jänschwalde Block B', 'KW Jänschwalde Block C',\n",
    "                        'KW Jänschwalde Block D', 'KW Jänschwalde Block E', 'KW Jänschwalde Block F'],\n",
    "    'Lippendorf 214': ['KW Lippendorf Block R', 'KW Lippendorf Block S'],\n",
    "    'Neurath 238': ['Neurath A', 'Neurath B', 'Neurath C', 'Neurath D', 'Neurath E', 'Neurath F', 'Neurath G'],\n",
    "    'Niederaußem 237': ['Niederaußem C', 'Niederaußem D', 'Niederaußem E', 'Niederaußem F',\n",
    "                        'Niederaußem G', 'Niederaußem H', 'Niederaußem K (BoA 1)',\n",
    "                        'Frimmersdorf P', 'Frimmersdorf Q',\n",
    "                        'Weisweiler E', 'Weisweiler F', 'Weisweiler G', 'Weisweiler H'],\n",
    "    'Schkopau 215': ['Schkopau A', 'Schkopau B'],\n",
    "    'Buschhaus 213': ['Buschhaus'],\n",
    "    'Schwarze Pumpe 313': ['KW Schwarze Pumpe Block A', 'KW Schwarze Pumpe Block B'],\n",
    "    'Heilbronn 254': ['HKW Heilbronn Block 7'],\n",
    "    'Rostock 304': ['Kraftwerk Rostock'], # incomplete,\n",
    "    'Moorburg 319': ['HKW Moorburg Block A', 'HKW Moorburg Block B'],\n",
    "    'Wilhelmshaven 204': ['Wilhelmshaven'],\n",
    "    'Großkrotzenburg 272': ['Staudinger 5'], # incomplete\n",
    "    'Bexbach 225': ['BEXBACH_A_GESAMT'],\n",
    "    'Lippborg 248': ['BERGKAMEN_A'],\n",
    "    'Ensdorf 948': ['Ensdorf 1', 'Ensdorf 3'],\n",
    "    'Gersteinwerk 240': ['Gersteinwerk K2'],\n",
    "    'Altbach 307': ['HKW Altbach/Deizisau Block 1', 'HKW Altbach/Deizisau Block 2'],\n",
    "    'Reuter West 216': ['HKW Reuter West Block D', 'HKW Reuter West Block E'],\n",
    "    'Kummerfeld 290': ['HKW Wedel Block 1', 'HKW Wedel Block 2'],\n",
    "    'Ibbenbüren 309': ['Ibbenbüren B'],\n",
    "    'Voerde 203': ['Kraftwerk Voerde Block A', 'Kraftwerk Voerde Block B'],\n",
    "    'Scholven 243': ['Scholven B', 'Scholven C'], # incomplete\n",
    "    'Ingolstadt 263': ['Ingolstadt 3', 'Ingolstadt 4'],\n",
    "    'Vierraden 302': ['IKS Schwedt SE1 Block 1', 'IKS Schwedt SE2 Block 2']\n",
    "}"
   ]
  },
  {
   "cell_type": "code",
   "execution_count": 32,
   "id": "2ce3adaf-61f7-4a94-8001-65aeaa76f6d3",
   "metadata": {},
   "outputs": [],
   "source": [
    "DE_name_values = {name for list_of_names in DE_name_map.values() for name in list_of_names}"
   ]
  },
  {
   "cell_type": "markdown",
   "id": "e082a651-9917-4779-b518-917a480b8239",
   "metadata": {},
   "source": [
    "Check that the keys are part of the model's names:"
   ]
  },
  {
   "cell_type": "code",
   "execution_count": 33,
   "id": "50f85fd1-f449-4595-82ef-5d8178bad719",
   "metadata": {},
   "outputs": [],
   "source": [
    "assert set(DE_name_map.keys()).issubset(all_gen_names)"
   ]
  },
  {
   "cell_type": "markdown",
   "id": "596add34-1a8b-40dc-a696-81d2da5f608e",
   "metadata": {},
   "source": [
    "Check that the names belong to the ENTSO-E names:"
   ]
  },
  {
   "cell_type": "code",
   "execution_count": 34,
   "id": "29f62ed8-b968-4b11-a13d-2d145b082644",
   "metadata": {},
   "outputs": [],
   "source": [
    "assert DE_name_values.issubset(entsoe_data['PowerSystemResourceName'])"
   ]
  },
  {
   "cell_type": "markdown",
   "id": "13fbc8d3-10b6-41d9-88a2-01bc84cc8088",
   "metadata": {},
   "source": [
    "Model's generators not in the list:"
   ]
  },
  {
   "cell_type": "code",
   "execution_count": 35,
   "id": "b5d915e3-37c6-42a7-a381-49b2f7a291e2",
   "metadata": {},
   "outputs": [
    {
     "data": {
      "text/html": [
       "<div>\n",
       "<style scoped>\n",
       "    .dataframe tbody tr th:only-of-type {\n",
       "        vertical-align: middle;\n",
       "    }\n",
       "\n",
       "    .dataframe tbody tr th {\n",
       "        vertical-align: top;\n",
       "    }\n",
       "\n",
       "    .dataframe thead th {\n",
       "        text-align: right;\n",
       "    }\n",
       "</style>\n",
       "<table border=\"1\" class=\"dataframe\">\n",
       "  <thead>\n",
       "    <tr style=\"text-align: right;\">\n",
       "      <th></th>\n",
       "      <th>Name</th>\n",
       "      <th>Type</th>\n",
       "      <th>Pmax</th>\n",
       "    </tr>\n",
       "  </thead>\n",
       "  <tbody>\n",
       "    <tr>\n",
       "      <th>65</th>\n",
       "      <td>Altenkleusheim 245</td>\n",
       "      <td>hydro_pure_ps</td>\n",
       "      <td>140.0</td>\n",
       "    </tr>\n",
       "    <tr>\n",
       "      <th>27</th>\n",
       "      <td>Altentreptow/Süd 972</td>\n",
       "      <td>Gas</td>\n",
       "      <td>75.0</td>\n",
       "    </tr>\n",
       "    <tr>\n",
       "      <th>25</th>\n",
       "      <td>BASF 270</td>\n",
       "      <td>fossil_coal_gas</td>\n",
       "      <td>460.0</td>\n",
       "    </tr>\n",
       "    <tr>\n",
       "      <th>106</th>\n",
       "      <td>BASF 271</td>\n",
       "      <td>fossil_coal_hard</td>\n",
       "      <td>870.0</td>\n",
       "    </tr>\n",
       "    <tr>\n",
       "      <th>103</th>\n",
       "      <td>Bergrheinfeld 281</td>\n",
       "      <td>hydro_pure_ps</td>\n",
       "      <td>160.0</td>\n",
       "    </tr>\n",
       "    <tr>\n",
       "      <th>...</th>\n",
       "      <td>...</td>\n",
       "      <td>...</td>\n",
       "      <td>...</td>\n",
       "    </tr>\n",
       "    <tr>\n",
       "      <th>0</th>\n",
       "      <td>Wengerohr 228</td>\n",
       "      <td>Hydro</td>\n",
       "      <td>16.4</td>\n",
       "    </tr>\n",
       "    <tr>\n",
       "      <th>78</th>\n",
       "      <td>Wengerohr 229</td>\n",
       "      <td>Hydro</td>\n",
       "      <td>13.6</td>\n",
       "    </tr>\n",
       "    <tr>\n",
       "      <th>26</th>\n",
       "      <td>Windpark Iven 954</td>\n",
       "      <td>Gas</td>\n",
       "      <td>15.1</td>\n",
       "    </tr>\n",
       "    <tr>\n",
       "      <th>85</th>\n",
       "      <td>Wolmirstedt 292</td>\n",
       "      <td>Gas</td>\n",
       "      <td>52.0</td>\n",
       "    </tr>\n",
       "    <tr>\n",
       "      <th>15</th>\n",
       "      <td>Zolling 264</td>\n",
       "      <td>fossil_brown_lignite</td>\n",
       "      <td>449.0</td>\n",
       "    </tr>\n",
       "  </tbody>\n",
       "</table>\n",
       "<p>108 rows × 3 columns</p>\n",
       "</div>"
      ],
      "text/plain": [
       "                     Name                  Type   Pmax\n",
       "65     Altenkleusheim 245         hydro_pure_ps  140.0\n",
       "27   Altentreptow/Süd 972                   Gas   75.0\n",
       "25               BASF 270       fossil_coal_gas  460.0\n",
       "106              BASF 271      fossil_coal_hard  870.0\n",
       "103     Bergrheinfeld 281         hydro_pure_ps  160.0\n",
       "..                    ...                   ...    ...\n",
       "0           Wengerohr 228                 Hydro   16.4\n",
       "78          Wengerohr 229                 Hydro   13.6\n",
       "26      Windpark Iven 954                   Gas   15.1\n",
       "85        Wolmirstedt 292                   Gas   52.0\n",
       "15            Zolling 264  fossil_brown_lignite  449.0\n",
       "\n",
       "[108 rows x 3 columns]"
      ]
     },
     "execution_count": 35,
     "metadata": {},
     "output_type": "execute_result"
    }
   ],
   "source": [
    "pd.DataFrame([[gen['name'], gen['type'], 100 * gen['pmax']] for gen in model['gen'].values()\n",
    "             if gen['country'] == 'DE' and gen['name'] not in DE_name_map.keys()],\n",
    "             columns=['Name', 'Type', 'Pmax']).sort_values('Name')"
   ]
  },
  {
   "cell_type": "markdown",
   "id": "127d41bb-76f4-400d-a854-6b804badf28c",
   "metadata": {},
   "source": [
    "ENTSO-E generators not in the list:"
   ]
  },
  {
   "cell_type": "code",
   "execution_count": 36,
   "id": "b4cc9277-819a-4e68-9b94-9d196ced8db0",
   "metadata": {},
   "outputs": [
    {
     "data": {
      "text/html": [
       "<div>\n",
       "<style scoped>\n",
       "    .dataframe tbody tr th:only-of-type {\n",
       "        vertical-align: middle;\n",
       "    }\n",
       "\n",
       "    .dataframe tbody tr th {\n",
       "        vertical-align: top;\n",
       "    }\n",
       "\n",
       "    .dataframe thead th {\n",
       "        text-align: right;\n",
       "    }\n",
       "</style>\n",
       "<table border=\"1\" class=\"dataframe\">\n",
       "  <thead>\n",
       "    <tr style=\"text-align: right;\">\n",
       "      <th></th>\n",
       "      <th>PowerSystemResourceName</th>\n",
       "      <th>ProductionType</th>\n",
       "      <th>InstalledGenCapacity</th>\n",
       "    </tr>\n",
       "  </thead>\n",
       "  <tbody>\n",
       "    <tr>\n",
       "      <th>169</th>\n",
       "      <td>Block 1</td>\n",
       "      <td>Fossil Hard coal</td>\n",
       "      <td>136.0</td>\n",
       "    </tr>\n",
       "    <tr>\n",
       "      <th>170</th>\n",
       "      <td>Block 2</td>\n",
       "      <td>Fossil Hard coal</td>\n",
       "      <td>136.0</td>\n",
       "    </tr>\n",
       "    <tr>\n",
       "      <th>171</th>\n",
       "      <td>Block 3</td>\n",
       "      <td>Fossil Hard coal</td>\n",
       "      <td>690.0</td>\n",
       "    </tr>\n",
       "    <tr>\n",
       "      <th>172</th>\n",
       "      <td>Block AGuD</td>\n",
       "      <td>Fossil Gas</td>\n",
       "      <td>100.0</td>\n",
       "    </tr>\n",
       "    <tr>\n",
       "      <th>173</th>\n",
       "      <td>Block B</td>\n",
       "      <td>Fossil Gas</td>\n",
       "      <td>100.0</td>\n",
       "    </tr>\n",
       "    <tr>\n",
       "      <th>...</th>\n",
       "      <td>...</td>\n",
       "      <td>...</td>\n",
       "      <td>...</td>\n",
       "    </tr>\n",
       "    <tr>\n",
       "      <th>1659</th>\n",
       "      <td>Weisweiler VGT - BI. G</td>\n",
       "      <td>Fossil Gas</td>\n",
       "      <td>200.0</td>\n",
       "    </tr>\n",
       "    <tr>\n",
       "      <th>1660</th>\n",
       "      <td>Weisweiler VGT - BI. H</td>\n",
       "      <td>Fossil Gas</td>\n",
       "      <td>200.0</td>\n",
       "    </tr>\n",
       "    <tr>\n",
       "      <th>1662</th>\n",
       "      <td>Westfalen C</td>\n",
       "      <td>Fossil Hard coal</td>\n",
       "      <td>250.0</td>\n",
       "    </tr>\n",
       "    <tr>\n",
       "      <th>1663</th>\n",
       "      <td>Westfalen E</td>\n",
       "      <td>Fossil Hard coal</td>\n",
       "      <td>763.7</td>\n",
       "    </tr>\n",
       "    <tr>\n",
       "      <th>1666</th>\n",
       "      <td>Witznau</td>\n",
       "      <td>Hydro Pumped Storage</td>\n",
       "      <td>110.0</td>\n",
       "    </tr>\n",
       "  </tbody>\n",
       "</table>\n",
       "<p>133 rows × 3 columns</p>\n",
       "</div>"
      ],
      "text/plain": [
       "     PowerSystemResourceName        ProductionType  InstalledGenCapacity\n",
       "169                  Block 1      Fossil Hard coal                 136.0\n",
       "170                  Block 2      Fossil Hard coal                 136.0\n",
       "171                  Block 3      Fossil Hard coal                 690.0\n",
       "172               Block AGuD            Fossil Gas                 100.0\n",
       "173                  Block B            Fossil Gas                 100.0\n",
       "...                      ...                   ...                   ...\n",
       "1659  Weisweiler VGT - BI. G            Fossil Gas                 200.0\n",
       "1660  Weisweiler VGT - BI. H            Fossil Gas                 200.0\n",
       "1662             Westfalen C      Fossil Hard coal                 250.0\n",
       "1663             Westfalen E      Fossil Hard coal                 763.7\n",
       "1666                 Witznau  Hydro Pumped Storage                 110.0\n",
       "\n",
       "[133 rows x 3 columns]"
      ]
     },
     "execution_count": 36,
     "metadata": {},
     "output_type": "execute_result"
    }
   ],
   "source": [
    "entsoe_data[(entsoe_data['Country'] == 'DE') & (~entsoe_data['PowerSystemResourceName'].isin(DE_name_values))] \\\n",
    "    [['PowerSystemResourceName', 'ProductionType', 'InstalledGenCapacity']]"
   ]
  },
  {
   "cell_type": "markdown",
   "id": "ff9e0373-e575-4551-a6f6-9f80feee8e63",
   "metadata": {
    "jp-MarkdownHeadingCollapsed": true
   },
   "source": [
    "### Nuclear plants in other countries"
   ]
  },
  {
   "cell_type": "code",
   "execution_count": 37,
   "id": "e60da62a-6c88-4753-9dc6-a40bb98a9591",
   "metadata": {},
   "outputs": [],
   "source": [
    "jaslovske = [name for name in all_gen_names if name[-3:] == '377'][0]\n",
    "name_map = CH_name_map | FR_name_map | ES_name_map | DE_name_map | {\n",
    "    jaslovske: ['Bohunice TG31', 'Bohunice TG32', 'Bohunice TG41', 'Bohunice TG42'],\n",
    "    'Borssele 846': ['Borssele 30'],\n",
    "    'Tihange 521': ['TIHANGE 1N', 'TIHANGE 1S', 'TIHANGE 2', 'TIHANGE 3'],\n",
    "    'Mochovce 378': ['Mochovce TG11', 'Mochovce TG12', 'Mochovce TG21', 'Mochovce TG22'],\n",
    "    'Cernavoda 404': ['CNE_U1_RET_CA', 'CNE_U2_RET_CA'],\n",
    "    'Kallo 515': ['DOEL 1', 'DOEL 2', 'DOEL 3', 'DOEL 4'],\n",
    "    'Dukovany 176': ['EDUK_B1____', 'EDUK_B2____', 'EDUK_B3____', 'EDUK_B4____'],\n",
    "    'Temelín 179': ['ETEM_G1____', 'ETEM_G2____'],\n",
    "    'Kozloduy 418': ['NPP KZL G9', 'NPP KZL G10'],\n",
    "    'Paks 782': ['PA_gép1', 'PA_gép2', 'PA_gép3', 'PA_gép4', 'PA_gép5', 'PA_gép6', 'PA_gép7', 'PA_gép8'],\n",
    "}"
   ]
  },
  {
   "cell_type": "code",
   "execution_count": 38,
   "id": "ac00d993-2279-4da4-9c95-5542798192d5",
   "metadata": {},
   "outputs": [],
   "source": [
    "name_values = {name for list_of_names in name_map.values() for name in list_of_names}"
   ]
  },
  {
   "cell_type": "markdown",
   "id": "bddebb8a-35fe-418e-a477-7379e8440626",
   "metadata": {},
   "source": [
    "Total number of model generators, total number of ENTSO-E generators:"
   ]
  },
  {
   "cell_type": "code",
   "execution_count": 39,
   "id": "be5c88de-3e85-4a74-96bc-1aafd3b22f01",
   "metadata": {},
   "outputs": [
    {
     "data": {
      "text/plain": [
       "(123, 275)"
      ]
     },
     "execution_count": 39,
     "metadata": {},
     "output_type": "execute_result"
    }
   ],
   "source": [
    "len(name_map), len(name_values)"
   ]
  },
  {
   "cell_type": "markdown",
   "id": "81f1784d-48cd-4e4d-9df2-d156f37031d1",
   "metadata": {},
   "source": [
    "Check that the keys are part of the model's names:"
   ]
  },
  {
   "cell_type": "code",
   "execution_count": 40,
   "id": "9f5a634c-c9d3-4f44-a8cf-b416ef3f7343",
   "metadata": {},
   "outputs": [],
   "source": [
    "assert set(name_map.keys()).issubset(all_gen_names)"
   ]
  },
  {
   "cell_type": "markdown",
   "id": "ae55dff0-6226-4577-8977-8fa166f3ac48",
   "metadata": {},
   "source": [
    "Check that the names belong to the ENTSO-E names:"
   ]
  },
  {
   "cell_type": "code",
   "execution_count": 41,
   "id": "6f5c51a5-ff1f-4dd9-b71e-567b64e0adc4",
   "metadata": {},
   "outputs": [],
   "source": [
    "assert name_values.issubset(entsoe_data['PowerSystemResourceName'])"
   ]
  },
  {
   "cell_type": "markdown",
   "id": "42920339-7641-4fa4-8a78-d5ce3b9134c5",
   "metadata": {},
   "source": [
    "Model's nuclear generators not in the list:"
   ]
  },
  {
   "cell_type": "code",
   "execution_count": 42,
   "id": "2cd3d0aa-8106-4791-befd-b3f3fd832bcb",
   "metadata": {},
   "outputs": [
    {
     "data": {
      "text/html": [
       "<div>\n",
       "<style scoped>\n",
       "    .dataframe tbody tr th:only-of-type {\n",
       "        vertical-align: middle;\n",
       "    }\n",
       "\n",
       "    .dataframe tbody tr th {\n",
       "        vertical-align: top;\n",
       "    }\n",
       "\n",
       "    .dataframe thead th {\n",
       "        text-align: right;\n",
       "    }\n",
       "</style>\n",
       "<table border=\"1\" class=\"dataframe\">\n",
       "  <thead>\n",
       "    <tr style=\"text-align: right;\">\n",
       "      <th></th>\n",
       "      <th>Name</th>\n",
       "      <th>Type</th>\n",
       "      <th>Pmax</th>\n",
       "    </tr>\n",
       "  </thead>\n",
       "  <tbody>\n",
       "    <tr>\n",
       "      <th>1</th>\n",
       "      <td>Grafenrheinfeld 282</td>\n",
       "      <td>nuclear_cons</td>\n",
       "      <td>1275.0</td>\n",
       "    </tr>\n",
       "    <tr>\n",
       "      <th>0</th>\n",
       "      <td>Krško 886</td>\n",
       "      <td>nuclear</td>\n",
       "      <td>696.0</td>\n",
       "    </tr>\n",
       "  </tbody>\n",
       "</table>\n",
       "</div>"
      ],
      "text/plain": [
       "                  Name          Type    Pmax\n",
       "1  Grafenrheinfeld 282  nuclear_cons  1275.0\n",
       "0            Krško 886       nuclear   696.0"
      ]
     },
     "execution_count": 42,
     "metadata": {},
     "output_type": "execute_result"
    }
   ],
   "source": [
    "pd.DataFrame([[gen['name'], gen['type'], 100 * gen['pmax']] for gen in model['gen'].values()\n",
    "             if 'nuclear' in gen['type'] and gen['name'] not in name_map.keys()],\n",
    "             columns=['Name', 'Type', 'Pmax']).sort_values('Name')"
   ]
  },
  {
   "cell_type": "markdown",
   "id": "fdc9c96f-9f9e-413f-a9c2-0a0375b5c938",
   "metadata": {},
   "source": [
    "ENTSO-E nuclear generators not in the list:"
   ]
  },
  {
   "cell_type": "code",
   "execution_count": 43,
   "id": "c79bc95e-a79e-46a1-bbf4-f86c248208a7",
   "metadata": {},
   "outputs": [
    {
     "data": {
      "text/html": [
       "<div>\n",
       "<style scoped>\n",
       "    .dataframe tbody tr th:only-of-type {\n",
       "        vertical-align: middle;\n",
       "    }\n",
       "\n",
       "    .dataframe tbody tr th {\n",
       "        vertical-align: top;\n",
       "    }\n",
       "\n",
       "    .dataframe thead th {\n",
       "        text-align: right;\n",
       "    }\n",
       "</style>\n",
       "<table border=\"1\" class=\"dataframe\">\n",
       "  <thead>\n",
       "    <tr style=\"text-align: right;\">\n",
       "      <th></th>\n",
       "      <th>PowerSystemResourceName</th>\n",
       "      <th>ProductionType</th>\n",
       "      <th>InstalledGenCapacity</th>\n",
       "    </tr>\n",
       "  </thead>\n",
       "  <tbody>\n",
       "    <tr>\n",
       "      <th>1186</th>\n",
       "      <td>S.M.GAROÑA</td>\n",
       "      <td>Nuclear</td>\n",
       "      <td>455.2</td>\n",
       "    </tr>\n",
       "    <tr>\n",
       "      <th>1353</th>\n",
       "      <td>TRILLO</td>\n",
       "      <td>Nuclear</td>\n",
       "      <td>1003.4</td>\n",
       "    </tr>\n",
       "    <tr>\n",
       "      <th>1588</th>\n",
       "      <td>VANDELLOS</td>\n",
       "      <td>Nuclear</td>\n",
       "      <td>1045.3</td>\n",
       "    </tr>\n",
       "  </tbody>\n",
       "</table>\n",
       "</div>"
      ],
      "text/plain": [
       "     PowerSystemResourceName ProductionType  InstalledGenCapacity\n",
       "1186              S.M.GAROÑA        Nuclear                 455.2\n",
       "1353                  TRILLO        Nuclear                1003.4\n",
       "1588               VANDELLOS        Nuclear                1045.3"
      ]
     },
     "execution_count": 43,
     "metadata": {},
     "output_type": "execute_result"
    }
   ],
   "source": [
    "entsoe_data[(entsoe_data['ProductionType'] == 'Nuclear') & (~entsoe_data['PowerSystemResourceName'].isin(name_values))] \\\n",
    "    [['PowerSystemResourceName', 'ProductionType', 'InstalledGenCapacity']]"
   ]
  },
  {
   "cell_type": "markdown",
   "id": "0b9ffe67-431d-4e0e-84eb-dba02918f55b",
   "metadata": {
    "jp-MarkdownHeadingCollapsed": true
   },
   "source": [
    "### Update the model"
   ]
  },
  {
   "cell_type": "markdown",
   "id": "2b2f9dfe-472b-410a-90d3-f011b75bfa60",
   "metadata": {},
   "source": [
    "Add 'entsoe_names' field to the generators in the model and delete the temporary name:"
   ]
  },
  {
   "cell_type": "code",
   "execution_count": 44,
   "id": "6c94fce9-4ab5-4626-9206-827bd2f62d1f",
   "metadata": {},
   "outputs": [],
   "source": [
    "for gen in model['gen'].values():\n",
    "    gen['entsoe_names'] = name_map[gen['name']] if gen['name'] in name_map.keys() else []\n",
    "    del gen['name']"
   ]
  },
  {
   "cell_type": "markdown",
   "id": "0b2023ec-2311-4b12-8bb4-3a06ef0f8f28",
   "metadata": {},
   "source": [
    "# Export improved model"
   ]
  },
  {
   "cell_type": "markdown",
   "id": "406ec296-b565-40c7-9220-4370ad23b71b",
   "metadata": {},
   "source": [
    "Export:"
   ]
  },
  {
   "cell_type": "code",
   "execution_count": 45,
   "id": "4bbcdae5-e8af-458f-aad2-f841016672c3",
   "metadata": {},
   "outputs": [],
   "source": [
    "model_json = json.dumps(model)\n",
    "with open('../europe.json', 'w') as f:\n",
    "    f.write(model_json)"
   ]
  },
  {
   "cell_type": "code",
   "execution_count": null,
   "id": "22708f32-d0aa-43d3-82a8-ea619c824a48",
   "metadata": {},
   "outputs": [],
   "source": []
  }
 ],
 "metadata": {
  "kernelspec": {
   "display_name": "Python 3 (ipykernel)",
   "language": "python",
   "name": "python3"
  },
  "language_info": {
   "codemirror_mode": {
    "name": "ipython",
    "version": 3
   },
   "file_extension": ".py",
   "mimetype": "text/x-python",
   "name": "python",
   "nbconvert_exporter": "python",
   "pygments_lexer": "ipython3",
   "version": "3.10.14"
  }
 },
 "nbformat": 4,
 "nbformat_minor": 5
}
