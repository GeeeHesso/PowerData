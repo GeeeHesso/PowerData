{
 "cells": [
  {
   "cell_type": "code",
   "execution_count": 1,
   "id": "6c6146f1-7d3b-44c3-b3a1-ed4287989653",
   "metadata": {},
   "outputs": [],
   "source": [
    "country = 'CH'\n",
    "country_name = 'switzerland'"
   ]
  },
  {
   "cell_type": "code",
   "execution_count": 2,
   "id": "e0a4f723-ffb2-4724-88df-fc1a85c5cb95",
   "metadata": {},
   "outputs": [],
   "source": [
    "import json"
   ]
  },
  {
   "cell_type": "code",
   "execution_count": 3,
   "id": "504bf6df-b05c-4b7f-ad0f-04b97008dc99",
   "metadata": {},
   "outputs": [],
   "source": [
    "with open('../europe.json') as f:\n",
    "    model = json.load(f)"
   ]
  },
  {
   "cell_type": "code",
   "execution_count": 4,
   "id": "76735f08-51cc-4709-9172-bc32620fa2c2",
   "metadata": {},
   "outputs": [
    {
     "data": {
      "text/plain": [
       "{'bus': 4097,\n",
       " 'dcline': 0,\n",
       " 'gen': 1083,\n",
       " 'branch': 8375,\n",
       " 'storage': 0,\n",
       " 'switch': 0,\n",
       " 'shunt': 0,\n",
       " 'load': 4097}"
      ]
     },
     "execution_count": 4,
     "metadata": {},
     "output_type": "execute_result"
    }
   ],
   "source": [
    "{id: len(val) for id, val in model.items() if isinstance(val, dict)}"
   ]
  },
  {
   "cell_type": "markdown",
   "id": "5f375e3a-e197-4d9a-b003-040a4f38903e",
   "metadata": {},
   "source": [
    "Delete all foreign buses:"
   ]
  },
  {
   "cell_type": "code",
   "execution_count": 5,
   "id": "038fbcfb-a10b-4dfe-a5e1-5a1d29d27957",
   "metadata": {},
   "outputs": [],
   "source": [
    "for id in [id for id, bus in model['bus'].items() if bus['country'] != country]:\n",
    "    del model['bus'][id]"
   ]
  },
  {
   "cell_type": "markdown",
   "id": "f19e78ba-1eeb-4a9d-a07f-1907fbf327c0",
   "metadata": {},
   "source": [
    "Delete all foreign lines (including lines across the border):"
   ]
  },
  {
   "cell_type": "code",
   "execution_count": 6,
   "id": "3df7c580-b28e-4e53-921e-9c01d39f6f65",
   "metadata": {},
   "outputs": [],
   "source": [
    "for id in [id for id, line in model['branch'].items()\n",
    "           if str(line['f_bus']) not in model['bus'] or str(line['t_bus']) not in model['bus']]:\n",
    "    del model['branch'][id]"
   ]
  },
  {
   "cell_type": "markdown",
   "id": "4f6c497b-6350-4eb3-8242-c3ac947b2ba6",
   "metadata": {},
   "source": [
    "Check whether all nodes are still connected to the rest of the model:"
   ]
  },
  {
   "cell_type": "code",
   "execution_count": 7,
   "id": "f2219f63-9744-4654-954f-9e275c8eaabe",
   "metadata": {},
   "outputs": [],
   "source": [
    "bus_degree = {id: 0 for id in model['bus'].keys()}\n",
    "for line in model['branch'].values():\n",
    "    bus_degree[str(line['f_bus'])] += 1\n",
    "    bus_degree[str(line['t_bus'])] += 1"
   ]
  },
  {
   "cell_type": "code",
   "execution_count": 8,
   "id": "366c69d2-51e4-4b1f-b20e-ce5d45c6e1a2",
   "metadata": {},
   "outputs": [
    {
     "data": {
      "text/plain": [
       "{'5628'}"
      ]
     },
     "execution_count": 8,
     "metadata": {},
     "output_type": "execute_result"
    }
   ],
   "source": [
    "disconnected_buses = {id for id, degree in bus_degree.items() if degree == 0}\n",
    "disconnected_buses"
   ]
  },
  {
   "cell_type": "code",
   "execution_count": 9,
   "id": "705dded1-b9f1-47d8-86c9-35675ce21271",
   "metadata": {},
   "outputs": [],
   "source": [
    "for id in disconnected_buses:\n",
    "    del model['bus'][id]\n",
    "    del bus_degree[id]"
   ]
  },
  {
   "cell_type": "code",
   "execution_count": 10,
   "id": "ff8e9dda-ec42-4216-9755-22756f30aca7",
   "metadata": {},
   "outputs": [
    {
     "data": {
      "text/plain": [
       "{('7974', ('5115', '5116'))}"
      ]
     },
     "execution_count": 10,
     "metadata": {},
     "output_type": "execute_result"
    }
   ],
   "source": [
    "disconnected_pairs = {(id, (str(line['f_bus']), str(line['t_bus'])))\n",
    "                      for id, line in model['branch'].items()\n",
    "                      if bus_degree[str(line['f_bus'])] == 1 and bus_degree[str(line['t_bus'])] == 1}\n",
    "disconnected_pairs"
   ]
  },
  {
   "cell_type": "code",
   "execution_count": 11,
   "id": "2ddcbda3-3459-48ed-bea3-816e4254ab32",
   "metadata": {},
   "outputs": [],
   "source": [
    "for line_id, (bus_id_1, bus_id_2) in disconnected_pairs:\n",
    "    del model['branch'][line_id]\n",
    "    del model['bus'][bus_id_1]\n",
    "    del model['bus'][bus_id_2]\n",
    "    del bus_degree[bus_id_1]\n",
    "    del bus_degree[bus_id_2]"
   ]
  },
  {
   "cell_type": "markdown",
   "id": "f0d8038b-9b17-430d-9a8e-a474af4ce098",
   "metadata": {},
   "source": [
    "Delete all foreign loads:"
   ]
  },
  {
   "cell_type": "code",
   "execution_count": 12,
   "id": "edd6a69a-2051-4ec8-965f-26a749cc2b64",
   "metadata": {},
   "outputs": [],
   "source": [
    "for id in [id for id, load in model['load'].items() if str(load['load_bus']) not in model['bus']]:\n",
    "    del model['load'][id]"
   ]
  },
  {
   "cell_type": "markdown",
   "id": "83abd2bf-fc7d-4f64-8ea7-fb2d8b79887d",
   "metadata": {},
   "source": [
    "Delete all foreign gens:"
   ]
  },
  {
   "cell_type": "code",
   "execution_count": 13,
   "id": "b5387486-60a5-4d76-be83-9b808eeb5fb2",
   "metadata": {},
   "outputs": [],
   "source": [
    "for id in [id for id, gen in model['gen'].items() if str(gen['gen_bus']) not in model['bus']]:\n",
    "    del model['gen'][id]"
   ]
  },
  {
   "cell_type": "markdown",
   "id": "517517ed-19e3-4fa4-aca0-ba1322af1b6b",
   "metadata": {},
   "source": [
    "Remaining model:"
   ]
  },
  {
   "cell_type": "code",
   "execution_count": 14,
   "id": "b8940ecc-cde7-45d4-be4e-7390bc759ccd",
   "metadata": {},
   "outputs": [
    {
     "data": {
      "text/plain": [
       "{'bus': 160,\n",
       " 'dcline': 0,\n",
       " 'gen': 36,\n",
       " 'branch': 330,\n",
       " 'storage': 0,\n",
       " 'switch': 0,\n",
       " 'shunt': 0,\n",
       " 'load': 160}"
      ]
     },
     "execution_count": 14,
     "metadata": {},
     "output_type": "execute_result"
    }
   ],
   "source": [
    "{id: len(val) for id, val in model.items() if isinstance(val, dict)}"
   ]
  },
  {
   "cell_type": "markdown",
   "id": "8b1daa97-aec0-4dad-adf0-d9795cfd907c",
   "metadata": {},
   "source": [
    "Export:"
   ]
  },
  {
   "cell_type": "code",
   "execution_count": 15,
   "id": "33924dbd-a157-4c5e-a8d2-7d5891c75416",
   "metadata": {},
   "outputs": [],
   "source": [
    "model_json = json.dumps(model)\n",
    "with open('../%s.json' % country_name, 'w') as f:\n",
    "    f.write(model_json)"
   ]
  },
  {
   "cell_type": "code",
   "execution_count": null,
   "id": "4d576c86-6aa3-4653-b504-1e31c285252e",
   "metadata": {},
   "outputs": [],
   "source": []
  }
 ],
 "metadata": {
  "kernelspec": {
   "display_name": "Python 3 (ipykernel)",
   "language": "python",
   "name": "python3"
  },
  "language_info": {
   "codemirror_mode": {
    "name": "ipython",
    "version": 3
   },
   "file_extension": ".py",
   "mimetype": "text/x-python",
   "name": "python",
   "nbconvert_exporter": "python",
   "pygments_lexer": "ipython3",
   "version": "3.11.9"
  }
 },
 "nbformat": 4,
 "nbformat_minor": 5
}
