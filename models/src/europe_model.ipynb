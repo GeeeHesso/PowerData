{
 "cells": [
  {
   "cell_type": "markdown",
   "id": "b94aac47-fd56-43a4-94e8-7567b9758fa1",
   "metadata": {},
   "source": [
    "This notebook completes the PanTaGruEl model as found at [https://github.com/laurentpagnier/PanTaGruEl.jl](https://github.com/laurentpagnier/PanTaGruEl.jl)\n",
    "\n",
    "It relies on some data that can be downloaded from the [ENTSO-E transparency platform](https://transparency.entsoe.eu/) using SFTP. The data must be stored in the following directory:"
   ]
  },
  {
   "cell_type": "code",
   "execution_count": 1,
   "id": "52f1aa59-1f01-4fd5-b531-5f1a50f5fe9e",
   "metadata": {},
   "outputs": [],
   "source": [
    "import os\n",
    "entsoe_data_dir = os.path.expanduser('~/data/entso-e/raw')"
   ]
  },
  {
   "cell_type": "markdown",
   "id": "f5369178-6275-44f6-9c25-7bd97c24672a",
   "metadata": {},
   "source": [
    "# Import PanTaGruEl model\n",
    "\n",
    "Use the JSON file located in the parent directory:"
   ]
  },
  {
   "cell_type": "code",
   "execution_count": 2,
   "id": "9e3f3486-d938-46e7-bcf9-b64126ef54ec",
   "metadata": {},
   "outputs": [],
   "source": [
    "import json"
   ]
  },
  {
   "cell_type": "code",
   "execution_count": 3,
   "id": "90271ef6-6b33-40db-87de-6528d7a2a4d5",
   "metadata": {},
   "outputs": [],
   "source": [
    "with open('../pantagruel.json') as f:\n",
    "    model = json.load(f)"
   ]
  },
  {
   "cell_type": "code",
   "execution_count": 4,
   "id": "9d8b9e7e-381f-494c-8611-5c4972ad19a1",
   "metadata": {},
   "outputs": [
    {
     "data": {
      "text/plain": [
       "{'bus': 4097,\n",
       " 'dcline': 0,\n",
       " 'gen': 1083,\n",
       " 'branch': 8375,\n",
       " 'storage': 0,\n",
       " 'switch': 0,\n",
       " 'shunt': 0,\n",
       " 'load': 3998}"
      ]
     },
     "execution_count": 4,
     "metadata": {},
     "output_type": "execute_result"
    }
   ],
   "source": [
    "{key: len(values) for key, values in model.items() if isinstance(values, dict)}"
   ]
  },
  {
   "cell_type": "markdown",
   "id": "37696d98-1880-4d43-9a0c-2e3c5ee923ec",
   "metadata": {},
   "source": [
    "# Compute susceptance for all lines\n",
    "\n",
    "The susceptance $B$ is given in terms of the resistance $R$ and reactance $X$ by the formula\n",
    "$$B = \\frac{X}{R^2 + X^2}$$"
   ]
  },
  {
   "cell_type": "code",
   "execution_count": 5,
   "id": "2e5390cd-aa6d-436b-bc0a-e79e0b955b78",
   "metadata": {},
   "outputs": [],
   "source": [
    "for line in model['branch'].values():\n",
    "    line['br_b'] = line['br_x'] / (line['br_x']**2 + line['br_r']**2)"
   ]
  },
  {
   "cell_type": "markdown",
   "id": "d1e2d374-7b91-4af3-8b1e-fedbb3d411be",
   "metadata": {},
   "source": [
    "# Fix missing bus locations\n",
    "\n",
    "Some buses of the PanTaGruEl model file are missing the country information. This can be fixed by hand based on the latitude and longitude."
   ]
  },
  {
   "cell_type": "code",
   "execution_count": 6,
   "id": "0a3ced60-93ac-4679-903e-491606d01e4a",
   "metadata": {},
   "outputs": [],
   "source": [
    "bus_location_fix = {\n",
    "    \"7321\": \"FR\",\n",
    "    \"7578\": \"FR\",\n",
    "    \"7015\": \"FR\",\n",
    "    \"7586\": \"FR\",\n",
    "    \"7788\": \"FR\",\n",
    "    \"1482\": \"IT\",\n",
    "    \"7822\": \"FR\",\n",
    "    \"7380\": \"FR\",\n",
    "    \"7336\": \"FR\",\n",
    "    \"7333\": \"FR\",\n",
    "    \"7327\": \"FR\",\n",
    "    \"7175\": \"PT\",\n",
    "    \"6988\": \"DK\",\n",
    "    \"7334\": \"FR\",\n",
    "    \"6873\": \"DK\",\n",
    "    \"7821\": \"FR\",\n",
    "    \"7575\": \"FR\",\n",
    "    \"7750\": \"FR\",\n",
    "    \"7337\": \"FR\",\n",
    "    \"7715\": \"FR\",\n",
    "    \"7339\": \"FR\",\n",
    "    \"7741\": \"FR\",\n",
    "    \"6949\": \"FR\",\n",
    "    \"6943\": \"FR\",\n",
    "    \"7322\": \"FR\",\n",
    "    \"7326\": \"FR\"\n",
    "}"
   ]
  },
  {
   "cell_type": "code",
   "execution_count": 7,
   "id": "7f7bfb60-82c6-452b-91c8-950c1574cb25",
   "metadata": {},
   "outputs": [],
   "source": [
    "for (id, country) in bus_location_fix.items():\n",
    "    model[\"bus\"][id][\"country\"] = country"
   ]
  },
  {
   "cell_type": "markdown",
   "id": "087f31ac-8ed2-4117-b4f4-dc16eb2177ff",
   "metadata": {},
   "source": [
    "# Remove small generators"
   ]
  },
  {
   "cell_type": "code",
   "execution_count": 8,
   "id": "d58605f9-f3ba-4768-a857-4aa1013d410c",
   "metadata": {},
   "outputs": [],
   "source": [
    "# [(id, gen['type'], gen['pmax']) for id, gen in sorted(model['gen'].items(), key=lambda item: item[1]['pmax'])]"
   ]
  },
  {
   "cell_type": "code",
   "execution_count": 9,
   "id": "85f04e4e-12c1-4e3b-9367-fdf0584eae14",
   "metadata": {},
   "outputs": [],
   "source": [
    "# import matplotlib.pyplot as plt\n",
    "# plt.hist([gen['pmax'] for (id, gen) in model['gen'].items()], bins=100, range=(0, 2))\n",
    "# plt.show()"
   ]
  },
  {
   "cell_type": "markdown",
   "id": "ea0c265f-e63e-4b74-bf33-b2878b893784",
   "metadata": {},
   "source": [
    "All generators with output below 50 MW are removed:"
   ]
  },
  {
   "cell_type": "code",
   "execution_count": 10,
   "id": "6ac58d07-cd34-437c-82fd-79ec0a0582fd",
   "metadata": {},
   "outputs": [
    {
     "data": {
      "text/plain": [
       "268"
      ]
     },
     "execution_count": 10,
     "metadata": {},
     "output_type": "execute_result"
    }
   ],
   "source": [
    "low_power_gens = [id for (id, gen) in model['gen'].items() if gen['pmax'] < 0.5]\n",
    "len(low_power_gens)"
   ]
  },
  {
   "cell_type": "code",
   "execution_count": 11,
   "id": "fbec4f98-8873-476f-bc5e-6c77d2e58788",
   "metadata": {},
   "outputs": [],
   "source": [
    "for id in low_power_gens:\n",
    "    del model['gen'][id]"
   ]
  },
  {
   "cell_type": "markdown",
   "id": "7a88b4a4-16b1-4e37-b1a6-8cc455461886",
   "metadata": {},
   "source": [
    "The buses' type must be updated in some cases:"
   ]
  },
  {
   "cell_type": "code",
   "execution_count": 12,
   "id": "3f1b97f8-5dc0-4a93-ac76-2f31bf4fe2da",
   "metadata": {},
   "outputs": [],
   "source": [
    "buses_with_gens = {str(gen['gen_bus']) for gen in model['gen'].values()}"
   ]
  },
  {
   "cell_type": "code",
   "execution_count": 13,
   "id": "f4f10137-0c77-462b-a1e7-1810c9661b83",
   "metadata": {},
   "outputs": [],
   "source": [
    "for id, bus in model['bus'].items():\n",
    "    if bus['bus_type'] == 2 and id not in buses_with_gens:\n",
    "        bus['bus_type'] = 1"
   ]
  },
  {
   "cell_type": "markdown",
   "id": "795c3ed0-6f31-4f0a-9cce-6c1f09966129",
   "metadata": {},
   "source": [
    "# Add a load at every bus"
   ]
  },
  {
   "cell_type": "markdown",
   "id": "f695e210-420d-4da7-af3b-e33c9cf893a2",
   "metadata": {},
   "source": [
    "Some buses do not have an associated load in PanTaGruEl."
   ]
  },
  {
   "cell_type": "code",
   "execution_count": 14,
   "id": "122bf101-e91d-485d-a588-6f4406fbfe7b",
   "metadata": {},
   "outputs": [
    {
     "data": {
      "text/plain": [
       "4097"
      ]
     },
     "execution_count": 14,
     "metadata": {},
     "output_type": "execute_result"
    }
   ],
   "source": [
    "all_buses = set(model['bus'].keys())\n",
    "len(all_buses)"
   ]
  },
  {
   "cell_type": "code",
   "execution_count": 15,
   "id": "67dcb53c-87e7-4ec5-ab8c-7d106c7c72b3",
   "metadata": {},
   "outputs": [
    {
     "data": {
      "text/plain": [
       "3998"
      ]
     },
     "execution_count": 15,
     "metadata": {},
     "output_type": "execute_result"
    }
   ],
   "source": [
    "buses_with_loads = {str(load['load_bus']) for load in model['load'].values()}\n",
    "len(buses_with_loads)"
   ]
  },
  {
   "cell_type": "markdown",
   "id": "00642a76-d4b0-4cb0-b6f1-7999cd7fa3e4",
   "metadata": {},
   "source": [
    "Map between bus and load:"
   ]
  },
  {
   "cell_type": "code",
   "execution_count": 16,
   "id": "e6166490-064c-4f7e-a7ea-9d02ae422e66",
   "metadata": {},
   "outputs": [],
   "source": [
    "load_by_bus = {str(load['load_bus']): load['pd'] for load in model['load'].values()}"
   ]
  },
  {
   "cell_type": "markdown",
   "id": "93a1bbc1-8acb-4ec7-b280-dd8525746ade",
   "metadata": {},
   "source": [
    "Re-assign loads with IDs matching the buses, using the given value for existing loads, and otherwise zero."
   ]
  },
  {
   "cell_type": "code",
   "execution_count": 17,
   "id": "16019257-6eab-4f2f-8b95-b2771cc428db",
   "metadata": {},
   "outputs": [],
   "source": [
    "model['load'] = {id: {\n",
    "                    'index'   : int(id),\n",
    "                    'load_bus': int(id),\n",
    "                    'status'  : 1,\n",
    "                    'pd'      : load_by_bus[id] if id in load_by_bus else 0.0,\n",
    "                    'qd'      : 0\n",
    "                } for id in all_buses}"
   ]
  },
  {
   "cell_type": "markdown",
   "id": "8eb4797b-6410-4b74-87d2-9de3ca3ee595",
   "metadata": {},
   "source": [
    "Ensure that the 'load_prop' properties add up to one for every country:"
   ]
  },
  {
   "cell_type": "code",
   "execution_count": 18,
   "id": "5ff7a7a3-eef4-439a-9d4b-deca0ca70b28",
   "metadata": {},
   "outputs": [
    {
     "data": {
      "text/plain": [
       "{'XX': 0.0}"
      ]
     },
     "execution_count": 18,
     "metadata": {},
     "output_type": "execute_result"
    }
   ],
   "source": [
    "load_prop_by_country = {bus['country']: 0.0 for bus in model['bus'].values()}\n",
    "for bus in model['bus'].values():\n",
    "    load_prop_by_country[bus['country']] += bus['load_prop']\n",
    "\n",
    "{country: value for country, value in load_prop_by_country.items() if abs(value - 1.0) > 1e-6}"
   ]
  },
  {
   "cell_type": "code",
   "execution_count": 19,
   "id": "843b8837-81d8-41d6-9bd1-5463f2b927c9",
   "metadata": {},
   "outputs": [
    {
     "data": {
      "text/plain": [
       "13"
      ]
     },
     "execution_count": 19,
     "metadata": {},
     "output_type": "execute_result"
    }
   ],
   "source": [
    "n_bus_XX = [bus[\"country\"] for bus in model[\"bus\"].values()].count('XX')\n",
    "n_bus_XX"
   ]
  },
  {
   "cell_type": "code",
   "execution_count": 20,
   "id": "fca93ba0-1f88-4a2e-9ecd-e07eae7bdfc0",
   "metadata": {},
   "outputs": [],
   "source": [
    "for bus in model['bus'].values():\n",
    "    if bus['country'] == 'XX':\n",
    "        bus['load_prop'] = 1 / n_bus_XX"
   ]
  },
  {
   "cell_type": "markdown",
   "id": "b3c3ff6a-8d1d-4897-ae08-f66d3eeebab1",
   "metadata": {},
   "source": [
    "# Add ENTSO-E generator names"
   ]
  },
  {
   "cell_type": "markdown",
   "id": "b815004b-5c60-4964-857f-4323e37f2d40",
   "metadata": {},
   "source": [
    "Add temporary unique generator name for all gens of the model, as well as the generators country:"
   ]
  },
  {
   "cell_type": "code",
   "execution_count": 21,
   "id": "a6bcb335-72ea-45df-a140-9f4579698ea6",
   "metadata": {},
   "outputs": [],
   "source": [
    "for gen_id, gen in model['gen'].items():\n",
    "    bus_id = str(gen['gen_bus'])\n",
    "    gen['name'] = model['bus'][bus_id]['name'] + ' ' + gen_id\n",
    "    gen['country'] = model['bus'][bus_id]['country']"
   ]
  },
  {
   "cell_type": "code",
   "execution_count": 22,
   "id": "d3e55961-df97-4500-8167-dd98c31fe15c",
   "metadata": {},
   "outputs": [],
   "source": [
    "all_gen_names = {gen['name'] for gen in model['gen'].values()}"
   ]
  },
  {
   "cell_type": "markdown",
   "id": "286c5b5a-768e-41b7-bd99-0d5b3551bb20",
   "metadata": {},
   "source": [
    "Import list of generators from ENTSO-E at a given reference time (January 2016)"
   ]
  },
  {
   "cell_type": "code",
   "execution_count": 23,
   "id": "3ee1f218-e84a-44dd-b068-d30375a77025",
   "metadata": {},
   "outputs": [],
   "source": [
    "import pandas as pd"
   ]
  },
  {
   "cell_type": "code",
   "execution_count": 24,
   "id": "7b4ad2b0-d467-4b2f-8013-b86de14de35f",
   "metadata": {},
   "outputs": [
    {
     "data": {
      "text/html": [
       "<div>\n",
       "<style scoped>\n",
       "    .dataframe tbody tr th:only-of-type {\n",
       "        vertical-align: middle;\n",
       "    }\n",
       "\n",
       "    .dataframe tbody tr th {\n",
       "        vertical-align: top;\n",
       "    }\n",
       "\n",
       "    .dataframe thead th {\n",
       "        text-align: right;\n",
       "    }\n",
       "</style>\n",
       "<table border=\"1\" class=\"dataframe\">\n",
       "  <thead>\n",
       "    <tr style=\"text-align: right;\">\n",
       "      <th></th>\n",
       "      <th>PowerSystemResourceName</th>\n",
       "      <th>MapCode</th>\n",
       "      <th>ProductionType</th>\n",
       "      <th>InstalledGenCapacity</th>\n",
       "      <th>ActualGenerationOutput</th>\n",
       "    </tr>\n",
       "  </thead>\n",
       "  <tbody>\n",
       "    <tr>\n",
       "      <th>0</th>\n",
       "      <td>ABOÑO 1</td>\n",
       "      <td>ES</td>\n",
       "      <td>Fossil Hard coal</td>\n",
       "      <td>341.7</td>\n",
       "      <td>155.520027</td>\n",
       "    </tr>\n",
       "    <tr>\n",
       "      <th>1</th>\n",
       "      <td>ABOÑO 2</td>\n",
       "      <td>ES</td>\n",
       "      <td>Fossil Hard coal</td>\n",
       "      <td>535.8</td>\n",
       "      <td>411.376075</td>\n",
       "    </tr>\n",
       "    <tr>\n",
       "      <th>2</th>\n",
       "      <td>ABTH7</td>\n",
       "      <td>GB</td>\n",
       "      <td>Fossil Hard coal</td>\n",
       "      <td>535.0</td>\n",
       "      <td>501.421135</td>\n",
       "    </tr>\n",
       "    <tr>\n",
       "      <th>3</th>\n",
       "      <td>ABTH8</td>\n",
       "      <td>GB</td>\n",
       "      <td>Fossil Hard coal</td>\n",
       "      <td>535.0</td>\n",
       "      <td>483.604071</td>\n",
       "    </tr>\n",
       "    <tr>\n",
       "      <th>4</th>\n",
       "      <td>ABTH9</td>\n",
       "      <td>GB</td>\n",
       "      <td>Fossil Hard coal</td>\n",
       "      <td>535.0</td>\n",
       "      <td>395.362667</td>\n",
       "    </tr>\n",
       "    <tr>\n",
       "      <th>...</th>\n",
       "      <td>...</td>\n",
       "      <td>...</td>\n",
       "      <td>...</td>\n",
       "      <td>...</td>\n",
       "      <td>...</td>\n",
       "    </tr>\n",
       "    <tr>\n",
       "      <th>1679</th>\n",
       "      <td>Zydowo H3</td>\n",
       "      <td>PL</td>\n",
       "      <td>Hydro Pumped Storage</td>\n",
       "      <td>54.0</td>\n",
       "      <td>2.414234</td>\n",
       "    </tr>\n",
       "    <tr>\n",
       "      <th>1680</th>\n",
       "      <td>iPower Solutions ltd</td>\n",
       "      <td>NIE</td>\n",
       "      <td>Fossil Oil</td>\n",
       "      <td>74.0</td>\n",
       "      <td>0.034341</td>\n",
       "    </tr>\n",
       "    <tr>\n",
       "      <th>1681</th>\n",
       "      <td>Åbyverket Örebro</td>\n",
       "      <td>SE</td>\n",
       "      <td>Biomass</td>\n",
       "      <td>106.0</td>\n",
       "      <td>29.132615</td>\n",
       "    </tr>\n",
       "    <tr>\n",
       "      <th>1682</th>\n",
       "      <td>Öresundsverket CHP G1</td>\n",
       "      <td>SE</td>\n",
       "      <td>Fossil Gas</td>\n",
       "      <td>294.0</td>\n",
       "      <td>210.140970</td>\n",
       "    </tr>\n",
       "    <tr>\n",
       "      <th>1683</th>\n",
       "      <td>Öresundsverket CHP G2</td>\n",
       "      <td>SE</td>\n",
       "      <td>Fossil Gas</td>\n",
       "      <td>154.0</td>\n",
       "      <td>94.636523</td>\n",
       "    </tr>\n",
       "  </tbody>\n",
       "</table>\n",
       "<p>1684 rows × 5 columns</p>\n",
       "</div>"
      ],
      "text/plain": [
       "     PowerSystemResourceName MapCode        ProductionType  \\\n",
       "0                    ABOÑO 1      ES      Fossil Hard coal   \n",
       "1                    ABOÑO 2      ES      Fossil Hard coal   \n",
       "2                      ABTH7      GB      Fossil Hard coal   \n",
       "3                      ABTH8      GB      Fossil Hard coal   \n",
       "4                      ABTH9      GB      Fossil Hard coal   \n",
       "...                      ...     ...                   ...   \n",
       "1679               Zydowo H3      PL  Hydro Pumped Storage   \n",
       "1680    iPower Solutions ltd     NIE            Fossil Oil   \n",
       "1681        Åbyverket Örebro      SE               Biomass   \n",
       "1682   Öresundsverket CHP G1      SE            Fossil Gas   \n",
       "1683   Öresundsverket CHP G2      SE            Fossil Gas   \n",
       "\n",
       "      InstalledGenCapacity  ActualGenerationOutput  \n",
       "0                    341.7              155.520027  \n",
       "1                    535.8              411.376075  \n",
       "2                    535.0              501.421135  \n",
       "3                    535.0              483.604071  \n",
       "4                    535.0              395.362667  \n",
       "...                    ...                     ...  \n",
       "1679                  54.0                2.414234  \n",
       "1680                  74.0                0.034341  \n",
       "1681                 106.0               29.132615  \n",
       "1682                 294.0              210.140970  \n",
       "1683                 154.0               94.636523  \n",
       "\n",
       "[1684 rows x 5 columns]"
      ]
     },
     "execution_count": 24,
     "metadata": {},
     "output_type": "execute_result"
    }
   ],
   "source": [
    "entsoe_data = pd.DataFrame(pd.read_csv('%s/2016_01_ActualGenerationOutputPerGenerationUnit_16.1.A.csv' % entsoe_data_dir, sep='\\t') \\\n",
    "    .groupby(['PowerSystemResourceName', 'MapCode', 'ProductionType', 'InstalledGenCapacity'])['ActualGenerationOutput'].mean()) \\\n",
    "    .reset_index()\n",
    "entsoe_data"
   ]
  },
  {
   "cell_type": "markdown",
   "id": "e6909a36-daad-4b49-8746-37b614224c52",
   "metadata": {},
   "source": [
    "Determine country from MapCode column:"
   ]
  },
  {
   "cell_type": "code",
   "execution_count": 25,
   "id": "4e6e4b63-2be4-46a0-8d1d-75aa2255e9d6",
   "metadata": {},
   "outputs": [],
   "source": [
    "entsoe_country_map = {mapcode: mapcode for mapcode in entsoe_data['MapCode']}\n",
    "for mapcode in entsoe_country_map.keys():\n",
    "    if mapcode[0:2] == 'DE':\n",
    "        entsoe_country_map[mapcode] = 'DE'\n",
    "entsoe_data.insert(2, 'Country', list(map(lambda mapcode: entsoe_country_map[mapcode], entsoe_data['MapCode'])))"
   ]
  },
  {
   "cell_type": "markdown",
   "id": "f7ec691c-09f7-4bdf-af23-67f1a50cb277",
   "metadata": {},
   "source": [
    "Filter generators that are in one of the model's country (ENTSO-E data also containes UK, Ireland, Sweden...)"
   ]
  },
  {
   "cell_type": "code",
   "execution_count": 26,
   "id": "9349ef95-a3d8-4eec-9443-9d0bdb9e62dd",
   "metadata": {},
   "outputs": [
    {
     "data": {
      "text/plain": [
       "{'AL',\n",
       " 'AT',\n",
       " 'BA',\n",
       " 'BE',\n",
       " 'BG',\n",
       " 'CH',\n",
       " 'CZ',\n",
       " 'DE',\n",
       " 'DK',\n",
       " 'ES',\n",
       " 'FR',\n",
       " 'GR',\n",
       " 'HR',\n",
       " 'HU',\n",
       " 'IT',\n",
       " 'LU',\n",
       " 'ME',\n",
       " 'MK',\n",
       " 'NL',\n",
       " 'PL',\n",
       " 'PT',\n",
       " 'RO',\n",
       " 'RS',\n",
       " 'SI',\n",
       " 'SK',\n",
       " 'XX'}"
      ]
     },
     "execution_count": 26,
     "metadata": {},
     "output_type": "execute_result"
    }
   ],
   "source": [
    "model_countries = {gen['country'] for gen in model['gen'].values()}\n",
    "model_countries"
   ]
  },
  {
   "cell_type": "code",
   "execution_count": 27,
   "id": "56ca944e-0bf1-4179-a856-21aa7c319b38",
   "metadata": {},
   "outputs": [],
   "source": [
    "entsoe_data = entsoe_data[entsoe_data['Country'].isin(model_countries)]"
   ]
  },
  {
   "cell_type": "markdown",
   "id": "8c374f12-83cd-41a8-bb1a-30cdcb0bb14f",
   "metadata": {},
   "source": [
    "### Switzerland"
   ]
  },
  {
   "cell_type": "markdown",
   "id": "414132ec-be44-4801-a199-ba3b6480de9a",
   "metadata": {},
   "source": [
    "Manually examine ENTSO-E generators list:"
   ]
  },
  {
   "cell_type": "code",
   "execution_count": 28,
   "id": "a2be301d-a1d9-4efc-8e89-ee4204574bf6",
   "metadata": {},
   "outputs": [],
   "source": [
    "CH_name_map = {\n",
    "    'Beznau 943': ['Beznau 1', 'Beznau 2'],\n",
    "    'Mühleberg 917': ['KKM Produktion'],\n",
    "    'Leibstadt 908': ['Leibstadt'],\n",
    "    'Gösgen 921': ['Kernkraftwerk Gösgen'],\n",
    "    'Biasca 938': ['Centrale di Biasca'],\n",
    "    'Veytaux 913': ['Usine de Veytaux'],\n",
    "    'Bâtiaz 912': ['Usine de la Bâtiaz'],\n",
    "    'Chamoson 914': ['Usine de Bieudron', 'Usine de Nendaz'],\n",
    "    'Fionnay GD 911': ['Usine de Fionnay'],\n",
    "    'Verbano 922': ['Centrale di Verbano'],\n",
    "    'Robiei 936': ['Centrale di Robiei'],\n",
    "    'Bitsch 916': ['Kraftwerk Bitsch'],\n",
    "    'Bavona 935': ['Centrale di Bavona'],\n",
    "    'Cavergno 923': ['Centrale di Cavergno'],\n",
    "    'Mapragg 939': ['Mapragg - Gigerwald G1'],\n",
    "    'Grimsel 909': ['KWO Produktion'],\n",
    "    'Innertkirchen 918': ['KWO Produktion'],\n",
    "    'Riddes 173': ['Stufe FMM Produktion Total'],\n",
    "    'Fionnay FMM 910': ['Stufe FMM Produktion Total'],\n",
    "    'Limmern 958': ['Limmern - Muttsee G1'],\n",
    "    'Tierfehd 926': ['Tierfehd - Limmern GPSW'],\n",
    "    'Olivone 925': ['AET Leventina']\n",
    "}"
   ]
  },
  {
   "cell_type": "code",
   "execution_count": 29,
   "id": "e4141eba-ba09-4920-a479-6dcf39322de1",
   "metadata": {},
   "outputs": [],
   "source": [
    "CH_name_values = {name for list_of_names in CH_name_map.values() for name in list_of_names}"
   ]
  },
  {
   "cell_type": "markdown",
   "id": "c1dfa408-4369-464a-b799-cf3c2bcdd259",
   "metadata": {},
   "source": [
    "Check that the keys are part of the model's names:"
   ]
  },
  {
   "cell_type": "code",
   "execution_count": 30,
   "id": "a8a631f4-3818-4f26-bd84-ba1a9f758f95",
   "metadata": {},
   "outputs": [],
   "source": [
    "assert set(CH_name_map.keys()).issubset(all_gen_names)"
   ]
  },
  {
   "cell_type": "markdown",
   "id": "916972c8-2b2f-4e9d-a2f9-9cdf0968355a",
   "metadata": {},
   "source": [
    "Check that the names belong to the ENTSO-E names:"
   ]
  },
  {
   "cell_type": "code",
   "execution_count": 31,
   "id": "bf4ba08c-4795-4824-a78f-62ecd5c82160",
   "metadata": {},
   "outputs": [],
   "source": [
    "assert CH_name_values.issubset(entsoe_data['PowerSystemResourceName'])"
   ]
  },
  {
   "cell_type": "markdown",
   "id": "36f23ffc-8798-4fc5-87f7-0f0439a362b4",
   "metadata": {},
   "source": [
    "Model's generators not in the list:"
   ]
  },
  {
   "cell_type": "code",
   "execution_count": 32,
   "id": "37189812-f3c3-44a2-91a3-411eb27997e0",
   "metadata": {},
   "outputs": [
    {
     "data": {
      "text/html": [
       "<div>\n",
       "<style scoped>\n",
       "    .dataframe tbody tr th:only-of-type {\n",
       "        vertical-align: middle;\n",
       "    }\n",
       "\n",
       "    .dataframe tbody tr th {\n",
       "        vertical-align: top;\n",
       "    }\n",
       "\n",
       "    .dataframe thead th {\n",
       "        text-align: right;\n",
       "    }\n",
       "</style>\n",
       "<table border=\"1\" class=\"dataframe\">\n",
       "  <thead>\n",
       "    <tr style=\"text-align: right;\">\n",
       "      <th></th>\n",
       "      <th>Name</th>\n",
       "      <th>Type</th>\n",
       "      <th>Pmax</th>\n",
       "    </tr>\n",
       "  </thead>\n",
       "  <tbody>\n",
       "    <tr>\n",
       "      <th>11</th>\n",
       "      <td>Bärenburg 930</td>\n",
       "      <td>hydro_pure_storage</td>\n",
       "      <td>220.0</td>\n",
       "    </tr>\n",
       "    <tr>\n",
       "      <th>0</th>\n",
       "      <td>Castasegna 928</td>\n",
       "      <td>hydro_pure_storage</td>\n",
       "      <td>100.0</td>\n",
       "    </tr>\n",
       "    <tr>\n",
       "      <th>3</th>\n",
       "      <td>Ferrera 929</td>\n",
       "      <td>hydro_mixed</td>\n",
       "      <td>180.0</td>\n",
       "    </tr>\n",
       "    <tr>\n",
       "      <th>9</th>\n",
       "      <td>Foretaille 766</td>\n",
       "      <td>hydro_ror</td>\n",
       "      <td>98.0</td>\n",
       "    </tr>\n",
       "    <tr>\n",
       "      <th>5</th>\n",
       "      <td>Göschenen 919</td>\n",
       "      <td>hydro_pure_storage</td>\n",
       "      <td>160.0</td>\n",
       "    </tr>\n",
       "    <tr>\n",
       "      <th>6</th>\n",
       "      <td>Handeck 937</td>\n",
       "      <td>hydro_mixed</td>\n",
       "      <td>113.0</td>\n",
       "    </tr>\n",
       "    <tr>\n",
       "      <th>2</th>\n",
       "      <td>Laufenburg 920</td>\n",
       "      <td>hydro_ror</td>\n",
       "      <td>106.0</td>\n",
       "    </tr>\n",
       "    <tr>\n",
       "      <th>12</th>\n",
       "      <td>Löbbia 933</td>\n",
       "      <td>hydro_pure_storage</td>\n",
       "      <td>95.0</td>\n",
       "    </tr>\n",
       "    <tr>\n",
       "      <th>1</th>\n",
       "      <td>Pradella 934</td>\n",
       "      <td>hydro_pure_storage</td>\n",
       "      <td>288.0</td>\n",
       "    </tr>\n",
       "    <tr>\n",
       "      <th>4</th>\n",
       "      <td>Rothenbrunnen 932</td>\n",
       "      <td>hydro_pure_storage</td>\n",
       "      <td>127.0</td>\n",
       "    </tr>\n",
       "    <tr>\n",
       "      <th>8</th>\n",
       "      <td>Sedrun 924</td>\n",
       "      <td>hydro_pure_storage</td>\n",
       "      <td>147.0</td>\n",
       "    </tr>\n",
       "    <tr>\n",
       "      <th>10</th>\n",
       "      <td>Sils 931</td>\n",
       "      <td>hydro_pure_storage</td>\n",
       "      <td>247.0</td>\n",
       "    </tr>\n",
       "    <tr>\n",
       "      <th>7</th>\n",
       "      <td>Stalden 915</td>\n",
       "      <td>hydro_pure_storage</td>\n",
       "      <td>180.0</td>\n",
       "    </tr>\n",
       "    <tr>\n",
       "      <th>13</th>\n",
       "      <td>Tavanasa 927</td>\n",
       "      <td>hydro_pure_storage</td>\n",
       "      <td>176.0</td>\n",
       "    </tr>\n",
       "  </tbody>\n",
       "</table>\n",
       "</div>"
      ],
      "text/plain": [
       "                 Name                Type   Pmax\n",
       "11      Bärenburg 930  hydro_pure_storage  220.0\n",
       "0      Castasegna 928  hydro_pure_storage  100.0\n",
       "3         Ferrera 929         hydro_mixed  180.0\n",
       "9      Foretaille 766           hydro_ror   98.0\n",
       "5       Göschenen 919  hydro_pure_storage  160.0\n",
       "6         Handeck 937         hydro_mixed  113.0\n",
       "2      Laufenburg 920           hydro_ror  106.0\n",
       "12         Löbbia 933  hydro_pure_storage   95.0\n",
       "1        Pradella 934  hydro_pure_storage  288.0\n",
       "4   Rothenbrunnen 932  hydro_pure_storage  127.0\n",
       "8          Sedrun 924  hydro_pure_storage  147.0\n",
       "10           Sils 931  hydro_pure_storage  247.0\n",
       "7         Stalden 915  hydro_pure_storage  180.0\n",
       "13       Tavanasa 927  hydro_pure_storage  176.0"
      ]
     },
     "execution_count": 32,
     "metadata": {},
     "output_type": "execute_result"
    }
   ],
   "source": [
    "pd.DataFrame([[gen['name'], gen['type'], 100 * gen['pmax']] for gen in model['gen'].values()\n",
    "             if gen['country'] == 'CH' and gen['name'] not in CH_name_map.keys()],\n",
    "             columns=['Name', 'Type', 'Pmax']).sort_values('Name')"
   ]
  },
  {
   "cell_type": "markdown",
   "id": "6031a2ad-d73f-41d9-9f0a-5080ca97476a",
   "metadata": {},
   "source": [
    "ENTSO-E generators not in the list:"
   ]
  },
  {
   "cell_type": "code",
   "execution_count": 33,
   "id": "340d61a4-ba5d-46c4-bcdd-0057db2de19a",
   "metadata": {},
   "outputs": [
    {
     "data": {
      "text/html": [
       "<div>\n",
       "<style scoped>\n",
       "    .dataframe tbody tr th:only-of-type {\n",
       "        vertical-align: middle;\n",
       "    }\n",
       "\n",
       "    .dataframe tbody tr th {\n",
       "        vertical-align: top;\n",
       "    }\n",
       "\n",
       "    .dataframe thead th {\n",
       "        text-align: right;\n",
       "    }\n",
       "</style>\n",
       "<table border=\"1\" class=\"dataframe\">\n",
       "  <thead>\n",
       "    <tr style=\"text-align: right;\">\n",
       "      <th></th>\n",
       "      <th>PowerSystemResourceName</th>\n",
       "      <th>ProductionType</th>\n",
       "      <th>InstalledGenCapacity</th>\n",
       "    </tr>\n",
       "  </thead>\n",
       "  <tbody>\n",
       "    <tr>\n",
       "      <th>776</th>\n",
       "      <td>KW Rheinfelden CH</td>\n",
       "      <td>Hydro Run-of-river and poundage</td>\n",
       "      <td>100.0</td>\n",
       "    </tr>\n",
       "    <tr>\n",
       "      <th>1580</th>\n",
       "      <td>Usine de Vallorcine</td>\n",
       "      <td>Hydro Water Reservoir</td>\n",
       "      <td>230.0</td>\n",
       "    </tr>\n",
       "  </tbody>\n",
       "</table>\n",
       "</div>"
      ],
      "text/plain": [
       "     PowerSystemResourceName                   ProductionType  \\\n",
       "776        KW Rheinfelden CH  Hydro Run-of-river and poundage   \n",
       "1580     Usine de Vallorcine            Hydro Water Reservoir   \n",
       "\n",
       "      InstalledGenCapacity  \n",
       "776                  100.0  \n",
       "1580                 230.0  "
      ]
     },
     "execution_count": 33,
     "metadata": {},
     "output_type": "execute_result"
    }
   ],
   "source": [
    "entsoe_data[(entsoe_data['Country'] == 'CH') & (~entsoe_data['PowerSystemResourceName'].isin(CH_name_values))] \\\n",
    "    [['PowerSystemResourceName', 'ProductionType', 'InstalledGenCapacity']]"
   ]
  },
  {
   "cell_type": "markdown",
   "id": "8ac63ee9-03b2-4e4c-8fa1-b542d505a1fc",
   "metadata": {},
   "source": [
    "### France"
   ]
  },
  {
   "cell_type": "markdown",
   "id": "7c443339-b4c6-488e-971d-a650db351a3a",
   "metadata": {},
   "source": [
    "Manually examine ENTSO-E generators list:"
   ]
  },
  {
   "cell_type": "code",
   "execution_count": 34,
   "id": "ad7847c6-e92a-4294-80bf-a6c88c631cb4",
   "metadata": {},
   "outputs": [],
   "source": [
    "FR_name_map = {\n",
    "    'Belleville 757': ['BELLEVILLE 1', 'BELLEVILLE 2'],\n",
    "    'Boctois 715': ['NOGENT 1', 'NOGENT 2'],\n",
    "    'Cattenom 732': ['CATTENOM 1', 'CATTENOM 2', 'CATTENOM 3', 'CATTENOM 4'],\n",
    "    'Chinon B 751': ['CHINON 1', 'CHINON 2', 'CHINON 3', 'CHINON 4'],\n",
    "    'Chooz 518': ['CHOOZ 1', 'CHOOZ 2'],\n",
    "    'Civaux 602': ['CIVAUX 1', 'CIVAUX 2'],\n",
    "    'Coulange 657': ['CRUAS 1', 'CRUAS 2', 'CRUAS 3', 'CRUAS 4'],\n",
    "    'Creys 690': ['BUGEY 2', 'BUGEY 3', 'BUGEY 4', 'BUGEY 5'],\n",
    "    'Dampierre 708': ['DAMPIERRE 1', 'DAMPIERRE 2', 'DAMPIERRE 3', 'DAMPIERRE 4'],\n",
    "    'Fessenheim 318': ['FESSENHEIM 1', 'FESSENHEIM 2'],\n",
    "    'Flamanville 982': ['FLAMANVILLE 1', 'FLAMANVILLE 2'],\n",
    "    'Golfech 552': ['GOLFECH 1', 'GOLFECH 2'],\n",
    "    'Gravelines 723': ['GRAVELINES 1', 'GRAVELINES 2', 'GRAVELINES 3', 'GRAVELINES 4', 'GRAVELINES 5', 'GRAVELINES 6'],\n",
    "    'Le Blayais 583': ['BLAYAIS 1', 'BLAYAIS 2', 'BLAYAIS 3', 'BLAYAIS 4'],\n",
    "    'Paluel 718': ['PALUEL 1', 'PALUEL 2', 'PALUEL 3', 'PALUEL 4'],\n",
    "    'Penly Poste 717': ['PENLY 1', 'PENLY 2'],\n",
    "    'P.Cordier 670': ['ST ALBAN 1', 'ST ALBAN 2'],\n",
    "    'St. Laurent 554': ['ST LAURENT 1', 'ST LAURENT 2'],\n",
    "    'Tricastin 658': ['TRICASTIN 1', 'TRICASTIN 2', 'TRICASTIN 3', 'TRICASTIN 4'],\n",
    "    'Cordemais Poste 986': ['CORDEMAIS 2', 'CORDEMAIS 3', 'CORDEMAIS 4', 'CORDEMAIS 5'],\n",
    "    'Porcheville 711': ['PORCHEVILLE 1', 'PORCHEVILLE 2', 'PORCHEVILLE 3', 'PORCHEVILLE 4'],\n",
    "    'Aramon 556': ['ARAMON 1', 'ARAMON 2'],\n",
    "    'Villarodin 695': ['VILLARODIN 1', 'VILLARODIN 2'],\n",
    "    'Le Pouget 553': ['POUGET 4'],\n",
    "    'Brommat 758': ['BROMMAT 7'],\n",
    "    'Le Cheylas 685': ['CHEYLAS 1', 'CHEYLAS 2'],\n",
    "    'S. Bissorte 765': ['SUPER BISSORTE 1', 'SUPER BISSORTE 2', 'SUPER BISSORTE 3', 'SUPER BISSORTE 4', 'SUPER BISSORTE 5'],\n",
    "    'Montezic poste et centrale 759': ['MONTEZIC 1', 'MONTEZIC 2', 'MONTEZIC 3', 'MONTEZIC 4'],\n",
    "    'Revin 726': ['REVIN 1', 'REVIN 2', 'REVIN 3', 'REVIN 4'],\n",
    "    'Guersac 987': ['SPEM CCG'],\n",
    "    'Quartes 725': ['Pont-sur-Sambre'],\n",
    "    'Braek 555': ['DK6-TG1', 'DK6-TG2', 'DK6-TV1', 'DK6-TV2'],\n",
    "    'Ratier 754': ['AMFARD14', 'AMFARD15'],\n",
    "    'Darse 610': ['COMBIGOLFE CCG', 'CYCOFOS PL1', 'CYCOFOS PL2'],\n",
    "    'Ponteau 955': ['MARTIGUES PONTEAU 5', 'MARTIGUES PONTEAU 6'],\n",
    "    'Custines 749': ['Croix-de-Metz'],\n",
    "    'St. Avold 731': ['EMILE HUCHET 6', 'EMILE HUCHET 7', 'EMILE HUCHET 8'],\n",
    "    'Bezaumont 729': ['BLENOD 5'],\n",
    "    'Le Havre 603': ['HAVRE 4'],\n",
    "    'La Palun 672': ['PROVENCE 5'],\n",
    "    'Arrighi 709': ['ARRIGHI 1', 'ARRIGHI 2'],\n",
    "    'Brennilis 985': ['BRENNILIS 1', 'BRENNILIS 2', 'BRENNILIS 3'],\n",
    "    'Loscoat 983': ['DIRINON 1', 'DIRINON 2'],\n",
    "    'Le Chesnoy 714': ['MONTEREAU 5', 'MONTEREAU 6'],\n",
    "    'Villevaude 716': ['VAIRES 1', 'VAIRES 2', 'VAIRES 3'],\n",
    "    'Sisteron 677': ['SISTERON 1', 'SISTERON 2'],\n",
    "    'Le Chastang 612': ['CHASTANG 2', 'CHASTANG 3']\n",
    "}"
   ]
  },
  {
   "cell_type": "code",
   "execution_count": 35,
   "id": "44c14b02-9fc4-48f7-81a3-3b1782bacc69",
   "metadata": {},
   "outputs": [],
   "source": [
    "FR_name_values = {name for list_of_names in FR_name_map.values() for name in list_of_names}"
   ]
  },
  {
   "cell_type": "markdown",
   "id": "9d6cbdee-4b96-414d-ad71-bdc7586b8d1a",
   "metadata": {},
   "source": [
    "Check that the keys are part of the model's names:"
   ]
  },
  {
   "cell_type": "code",
   "execution_count": 36,
   "id": "68176014-ee4e-457e-9a9f-d14b9955b483",
   "metadata": {},
   "outputs": [],
   "source": [
    "assert set(FR_name_map.keys()).issubset(all_gen_names)"
   ]
  },
  {
   "cell_type": "markdown",
   "id": "c04e7fd3-e235-40b3-93ea-056e7bdbf36e",
   "metadata": {},
   "source": [
    "Check that the names belong to the ENTSO-E names:"
   ]
  },
  {
   "cell_type": "code",
   "execution_count": 37,
   "id": "d23a9146-7359-413b-b4f6-e633989c3366",
   "metadata": {},
   "outputs": [],
   "source": [
    "assert FR_name_values.issubset(entsoe_data['PowerSystemResourceName'])"
   ]
  },
  {
   "cell_type": "markdown",
   "id": "0741d7bd-f764-42ce-b9a5-3b5be6314ad8",
   "metadata": {},
   "source": [
    "Model's generators not in the list:"
   ]
  },
  {
   "cell_type": "code",
   "execution_count": 38,
   "id": "483cb897-cd61-4f38-bed0-67fb9f56017e",
   "metadata": {},
   "outputs": [
    {
     "data": {
      "text/html": [
       "<div>\n",
       "<style scoped>\n",
       "    .dataframe tbody tr th:only-of-type {\n",
       "        vertical-align: middle;\n",
       "    }\n",
       "\n",
       "    .dataframe tbody tr th {\n",
       "        vertical-align: top;\n",
       "    }\n",
       "\n",
       "    .dataframe thead th {\n",
       "        text-align: right;\n",
       "    }\n",
       "</style>\n",
       "<table border=\"1\" class=\"dataframe\">\n",
       "  <thead>\n",
       "    <tr style=\"text-align: right;\">\n",
       "      <th></th>\n",
       "      <th>Name</th>\n",
       "      <th>Type</th>\n",
       "      <th>Pmax</th>\n",
       "    </tr>\n",
       "  </thead>\n",
       "  <tbody>\n",
       "    <tr>\n",
       "      <th>51</th>\n",
       "      <td>Aston 557</td>\n",
       "      <td>hydro_ror</td>\n",
       "      <td>104.0</td>\n",
       "    </tr>\n",
       "    <tr>\n",
       "      <th>17</th>\n",
       "      <td>Aussois 696</td>\n",
       "      <td>hydro_ror</td>\n",
       "      <td>87.0</td>\n",
       "    </tr>\n",
       "    <tr>\n",
       "      <th>37</th>\n",
       "      <td>Beaucaire 654</td>\n",
       "      <td>hydro_ror</td>\n",
       "      <td>210.0</td>\n",
       "    </tr>\n",
       "    <tr>\n",
       "      <th>50</th>\n",
       "      <td>Beauchastel 661</td>\n",
       "      <td>hydro_ror</td>\n",
       "      <td>222.0</td>\n",
       "    </tr>\n",
       "    <tr>\n",
       "      <th>35</th>\n",
       "      <td>Bissy 691</td>\n",
       "      <td>hydro_ror</td>\n",
       "      <td>91.0</td>\n",
       "    </tr>\n",
       "    <tr>\n",
       "      <th>...</th>\n",
       "      <td>...</td>\n",
       "      <td>...</td>\n",
       "      <td>...</td>\n",
       "    </tr>\n",
       "    <tr>\n",
       "      <th>48</th>\n",
       "      <td>St. Tulle 674</td>\n",
       "      <td>hydro_ror</td>\n",
       "      <td>88.0</td>\n",
       "    </tr>\n",
       "    <tr>\n",
       "      <th>15</th>\n",
       "      <td>Strasbourg 739</td>\n",
       "      <td>hydro_ror</td>\n",
       "      <td>147.0</td>\n",
       "    </tr>\n",
       "    <tr>\n",
       "      <th>45</th>\n",
       "      <td>Vallorcine 741</td>\n",
       "      <td>hydro_ror</td>\n",
       "      <td>190.0</td>\n",
       "    </tr>\n",
       "    <tr>\n",
       "      <th>16</th>\n",
       "      <td>Vogelgrun 737</td>\n",
       "      <td>hydro_ror</td>\n",
       "      <td>141.0</td>\n",
       "    </tr>\n",
       "    <tr>\n",
       "      <th>11</th>\n",
       "      <td>Vouglans 703</td>\n",
       "      <td>hydro_ror</td>\n",
       "      <td>285.0</td>\n",
       "    </tr>\n",
       "  </tbody>\n",
       "</table>\n",
       "<p>69 rows × 3 columns</p>\n",
       "</div>"
      ],
      "text/plain": [
       "               Name       Type   Pmax\n",
       "51        Aston 557  hydro_ror  104.0\n",
       "17      Aussois 696  hydro_ror   87.0\n",
       "37    Beaucaire 654  hydro_ror  210.0\n",
       "50  Beauchastel 661  hydro_ror  222.0\n",
       "35        Bissy 691  hydro_ror   91.0\n",
       "..              ...        ...    ...\n",
       "48    St. Tulle 674  hydro_ror   88.0\n",
       "15   Strasbourg 739  hydro_ror  147.0\n",
       "45   Vallorcine 741  hydro_ror  190.0\n",
       "16    Vogelgrun 737  hydro_ror  141.0\n",
       "11     Vouglans 703  hydro_ror  285.0\n",
       "\n",
       "[69 rows x 3 columns]"
      ]
     },
     "execution_count": 38,
     "metadata": {},
     "output_type": "execute_result"
    }
   ],
   "source": [
    "pd.DataFrame([[gen['name'], gen['type'], 100 * gen['pmax']] for gen in model['gen'].values()\n",
    "             if gen['country'] == 'FR' and gen['name'] not in FR_name_map.keys()],\n",
    "             columns=['Name', 'Type', 'Pmax']).sort_values('Name')"
   ]
  },
  {
   "cell_type": "markdown",
   "id": "76a88dcc-1f5d-4607-92bd-227e982048d3",
   "metadata": {},
   "source": [
    "ENTSO-E generators not in the list:"
   ]
  },
  {
   "cell_type": "code",
   "execution_count": 39,
   "id": "e161487b-5320-4a31-beb9-175f3079cac7",
   "metadata": {},
   "outputs": [
    {
     "data": {
      "text/html": [
       "<div>\n",
       "<style scoped>\n",
       "    .dataframe tbody tr th:only-of-type {\n",
       "        vertical-align: middle;\n",
       "    }\n",
       "\n",
       "    .dataframe tbody tr th {\n",
       "        vertical-align: top;\n",
       "    }\n",
       "\n",
       "    .dataframe thead th {\n",
       "        text-align: right;\n",
       "    }\n",
       "</style>\n",
       "<table border=\"1\" class=\"dataframe\">\n",
       "  <thead>\n",
       "    <tr style=\"text-align: right;\">\n",
       "      <th></th>\n",
       "      <th>PowerSystemResourceName</th>\n",
       "      <th>ProductionType</th>\n",
       "      <th>InstalledGenCapacity</th>\n",
       "    </tr>\n",
       "  </thead>\n",
       "  <tbody>\n",
       "    <tr>\n",
       "      <th>15</th>\n",
       "      <td>AIGLE 6</td>\n",
       "      <td>Hydro Water Reservoir</td>\n",
       "      <td>146.0</td>\n",
       "    </tr>\n",
       "    <tr>\n",
       "      <th>118</th>\n",
       "      <td>BORT 1</td>\n",
       "      <td>Hydro Water Reservoir</td>\n",
       "      <td>118.0</td>\n",
       "    </tr>\n",
       "    <tr>\n",
       "      <th>119</th>\n",
       "      <td>BORT 2</td>\n",
       "      <td>Hydro Water Reservoir</td>\n",
       "      <td>114.0</td>\n",
       "    </tr>\n",
       "    <tr>\n",
       "      <th>245</th>\n",
       "      <td>COMBE D'AVRIEUX 1</td>\n",
       "      <td>Hydro Water Reservoir</td>\n",
       "      <td>123.0</td>\n",
       "    </tr>\n",
       "    <tr>\n",
       "      <th>548</th>\n",
       "      <td>FR-GA-MORANT1</td>\n",
       "      <td>Fossil Gas</td>\n",
       "      <td>401.0</td>\n",
       "    </tr>\n",
       "    <tr>\n",
       "      <th>569</th>\n",
       "      <td>GENNEVILLIERS 1</td>\n",
       "      <td>Fossil Gas</td>\n",
       "      <td>203.0</td>\n",
       "    </tr>\n",
       "    <tr>\n",
       "      <th>585</th>\n",
       "      <td>GRAND MAISON 1</td>\n",
       "      <td>Hydro Pumped Storage</td>\n",
       "      <td>152.0</td>\n",
       "    </tr>\n",
       "    <tr>\n",
       "      <th>586</th>\n",
       "      <td>GRAND MAISON 10</td>\n",
       "      <td>Hydro Pumped Storage</td>\n",
       "      <td>157.0</td>\n",
       "    </tr>\n",
       "    <tr>\n",
       "      <th>587</th>\n",
       "      <td>GRAND MAISON 11</td>\n",
       "      <td>Hydro Pumped Storage</td>\n",
       "      <td>157.0</td>\n",
       "    </tr>\n",
       "    <tr>\n",
       "      <th>588</th>\n",
       "      <td>GRAND MAISON 12</td>\n",
       "      <td>Hydro Pumped Storage</td>\n",
       "      <td>157.0</td>\n",
       "    </tr>\n",
       "    <tr>\n",
       "      <th>589</th>\n",
       "      <td>GRAND MAISON 2</td>\n",
       "      <td>Hydro Pumped Storage</td>\n",
       "      <td>152.0</td>\n",
       "    </tr>\n",
       "    <tr>\n",
       "      <th>590</th>\n",
       "      <td>GRAND MAISON 3</td>\n",
       "      <td>Hydro Pumped Storage</td>\n",
       "      <td>152.0</td>\n",
       "    </tr>\n",
       "    <tr>\n",
       "      <th>591</th>\n",
       "      <td>GRAND MAISON 4</td>\n",
       "      <td>Hydro Pumped Storage</td>\n",
       "      <td>152.0</td>\n",
       "    </tr>\n",
       "    <tr>\n",
       "      <th>592</th>\n",
       "      <td>GRAND MAISON 5</td>\n",
       "      <td>Hydro Pumped Storage</td>\n",
       "      <td>152.0</td>\n",
       "    </tr>\n",
       "    <tr>\n",
       "      <th>593</th>\n",
       "      <td>GRAND MAISON 6</td>\n",
       "      <td>Hydro Pumped Storage</td>\n",
       "      <td>152.0</td>\n",
       "    </tr>\n",
       "    <tr>\n",
       "      <th>594</th>\n",
       "      <td>GRAND MAISON 7</td>\n",
       "      <td>Hydro Pumped Storage</td>\n",
       "      <td>152.0</td>\n",
       "    </tr>\n",
       "    <tr>\n",
       "      <th>595</th>\n",
       "      <td>GRAND MAISON 8</td>\n",
       "      <td>Hydro Pumped Storage</td>\n",
       "      <td>152.0</td>\n",
       "    </tr>\n",
       "    <tr>\n",
       "      <th>596</th>\n",
       "      <td>GRAND MAISON 9</td>\n",
       "      <td>Hydro Pumped Storage</td>\n",
       "      <td>157.0</td>\n",
       "    </tr>\n",
       "    <tr>\n",
       "      <th>1193</th>\n",
       "      <td>SAINT-PIERRE</td>\n",
       "      <td>Hydro Run-of-river and poundage</td>\n",
       "      <td>122.0</td>\n",
       "    </tr>\n",
       "  </tbody>\n",
       "</table>\n",
       "</div>"
      ],
      "text/plain": [
       "     PowerSystemResourceName                   ProductionType  \\\n",
       "15                   AIGLE 6            Hydro Water Reservoir   \n",
       "118                   BORT 1            Hydro Water Reservoir   \n",
       "119                   BORT 2            Hydro Water Reservoir   \n",
       "245        COMBE D'AVRIEUX 1            Hydro Water Reservoir   \n",
       "548            FR-GA-MORANT1                       Fossil Gas   \n",
       "569          GENNEVILLIERS 1                       Fossil Gas   \n",
       "585           GRAND MAISON 1             Hydro Pumped Storage   \n",
       "586          GRAND MAISON 10             Hydro Pumped Storage   \n",
       "587          GRAND MAISON 11             Hydro Pumped Storage   \n",
       "588          GRAND MAISON 12             Hydro Pumped Storage   \n",
       "589           GRAND MAISON 2             Hydro Pumped Storage   \n",
       "590           GRAND MAISON 3             Hydro Pumped Storage   \n",
       "591           GRAND MAISON 4             Hydro Pumped Storage   \n",
       "592           GRAND MAISON 5             Hydro Pumped Storage   \n",
       "593           GRAND MAISON 6             Hydro Pumped Storage   \n",
       "594           GRAND MAISON 7             Hydro Pumped Storage   \n",
       "595           GRAND MAISON 8             Hydro Pumped Storage   \n",
       "596           GRAND MAISON 9             Hydro Pumped Storage   \n",
       "1193            SAINT-PIERRE  Hydro Run-of-river and poundage   \n",
       "\n",
       "      InstalledGenCapacity  \n",
       "15                   146.0  \n",
       "118                  118.0  \n",
       "119                  114.0  \n",
       "245                  123.0  \n",
       "548                  401.0  \n",
       "569                  203.0  \n",
       "585                  152.0  \n",
       "586                  157.0  \n",
       "587                  157.0  \n",
       "588                  157.0  \n",
       "589                  152.0  \n",
       "590                  152.0  \n",
       "591                  152.0  \n",
       "592                  152.0  \n",
       "593                  152.0  \n",
       "594                  152.0  \n",
       "595                  152.0  \n",
       "596                  157.0  \n",
       "1193                 122.0  "
      ]
     },
     "execution_count": 39,
     "metadata": {},
     "output_type": "execute_result"
    }
   ],
   "source": [
    "entsoe_data[(entsoe_data['Country'] == 'FR') & (~entsoe_data['PowerSystemResourceName'].isin(FR_name_values))] \\\n",
    "    [['PowerSystemResourceName', 'ProductionType', 'InstalledGenCapacity']]"
   ]
  },
  {
   "cell_type": "markdown",
   "id": "43b91fe9-1f17-41f5-bd0b-4a9bd454040d",
   "metadata": {},
   "source": [
    "### Spain"
   ]
  },
  {
   "cell_type": "markdown",
   "id": "133d1c62-a5a6-43cd-9e51-24b1b8091ad6",
   "metadata": {},
   "source": [
    "Manually examine ENTSO-E generators list:"
   ]
  },
  {
   "cell_type": "code",
   "execution_count": 40,
   "id": "4c5aee82-c1b6-4b8d-b3de-df529493d898",
   "metadata": {},
   "outputs": [],
   "source": [
    "ES_name_map = {\n",
    "    'Asco 79': ['ASCO 1', 'ASCO 2'],\n",
    "    'C.N. Almaraz 160': ['ALMARAZ 1', 'ALMARAZ 2'],\n",
    "    'Sagunto 87': ['COFRENTES'],\n",
    "    'La Robla 1005': ['ROBLA 1', 'ROBLA 2'],\n",
    "    'Soto de Ribera 1013': ['SOTO RIB 2', 'SOTO RIB 3'],\n",
    "    'P.G. Rodriguez 998': ['P.G.RODR 1', 'P.G.RODR 2', 'P.G.RODR 3', 'P.G.RODR 4'],\n",
    "    'Teruel 77': ['TERUEL 1', 'TERUEL 2', 'TERUEL 3'],\n",
    "    'Lada 1009': ['LADA IV'],\n",
    "    'Compostilla I 1004': ['ANLLARES 1', 'COMPOSTI 4', 'COMPOSTI 5'],\n",
    "    'Belesar 997': ['BELESAR 1', 'BELESAR 2', 'BELESAR 3'],\n",
    "    'G. y Galan 152': ['GGALAN GEN'],\n",
    "}"
   ]
  },
  {
   "cell_type": "code",
   "execution_count": 41,
   "id": "42a8cd20-6904-44da-9998-7d55a6ff2a84",
   "metadata": {},
   "outputs": [],
   "source": [
    "ES_name_values = {name for list_of_names in ES_name_map.values() for name in list_of_names}"
   ]
  },
  {
   "cell_type": "markdown",
   "id": "0a49fbc9-ffbe-41b2-96a5-c54adb01c790",
   "metadata": {},
   "source": [
    "Check that the keys are part of the model's names:"
   ]
  },
  {
   "cell_type": "code",
   "execution_count": 42,
   "id": "e413c61d-11ae-426a-a988-b065d1c63a6f",
   "metadata": {},
   "outputs": [],
   "source": [
    "assert set(ES_name_map.keys()).issubset(all_gen_names)"
   ]
  },
  {
   "cell_type": "markdown",
   "id": "31e33ba2-a121-4566-8de8-17f4dc781c99",
   "metadata": {},
   "source": [
    "Check that the names belong to the ENTSO-E names:"
   ]
  },
  {
   "cell_type": "code",
   "execution_count": 43,
   "id": "7bc465e3-9673-4558-8367-f6bcc660923e",
   "metadata": {},
   "outputs": [],
   "source": [
    "assert ES_name_values.issubset(entsoe_data['PowerSystemResourceName'])"
   ]
  },
  {
   "cell_type": "markdown",
   "id": "93831080-9ec5-4117-be7c-8148cb93563a",
   "metadata": {},
   "source": [
    "Model's generators not in the list:"
   ]
  },
  {
   "cell_type": "code",
   "execution_count": 44,
   "id": "c2c7a1ba-53bd-459b-895b-045b9fef6b54",
   "metadata": {},
   "outputs": [
    {
     "data": {
      "text/html": [
       "<div>\n",
       "<style scoped>\n",
       "    .dataframe tbody tr th:only-of-type {\n",
       "        vertical-align: middle;\n",
       "    }\n",
       "\n",
       "    .dataframe tbody tr th {\n",
       "        vertical-align: top;\n",
       "    }\n",
       "\n",
       "    .dataframe thead th {\n",
       "        text-align: right;\n",
       "    }\n",
       "</style>\n",
       "<table border=\"1\" class=\"dataframe\">\n",
       "  <thead>\n",
       "    <tr style=\"text-align: right;\">\n",
       "      <th></th>\n",
       "      <th>Name</th>\n",
       "      <th>Type</th>\n",
       "      <th>Pmax</th>\n",
       "    </tr>\n",
       "  </thead>\n",
       "  <tbody>\n",
       "    <tr>\n",
       "      <th>32</th>\n",
       "      <td>Aguayo 1010</td>\n",
       "      <td>Hydro</td>\n",
       "      <td>360.60</td>\n",
       "    </tr>\n",
       "    <tr>\n",
       "      <th>24</th>\n",
       "      <td>Aldeadávila II 166</td>\n",
       "      <td>hydro_ror</td>\n",
       "      <td>820.00</td>\n",
       "    </tr>\n",
       "    <tr>\n",
       "      <th>34</th>\n",
       "      <td>Alvarado 158</td>\n",
       "      <td>other_nl</td>\n",
       "      <td>150.00</td>\n",
       "    </tr>\n",
       "    <tr>\n",
       "      <th>42</th>\n",
       "      <td>Aravaca 161</td>\n",
       "      <td>Hydro</td>\n",
       "      <td>61.95</td>\n",
       "    </tr>\n",
       "    <tr>\n",
       "      <th>22</th>\n",
       "      <td>Asco 78</td>\n",
       "      <td>Hydro</td>\n",
       "      <td>52.52</td>\n",
       "    </tr>\n",
       "    <tr>\n",
       "      <th>38</th>\n",
       "      <td>Azutan 149</td>\n",
       "      <td>hydro_ror</td>\n",
       "      <td>198.00</td>\n",
       "    </tr>\n",
       "    <tr>\n",
       "      <th>7</th>\n",
       "      <td>Cortes II 73</td>\n",
       "      <td>Hydro</td>\n",
       "      <td>70.17</td>\n",
       "    </tr>\n",
       "    <tr>\n",
       "      <th>23</th>\n",
       "      <td>Cortes II 74</td>\n",
       "      <td>Hydro</td>\n",
       "      <td>953.32</td>\n",
       "    </tr>\n",
       "    <tr>\n",
       "      <th>41</th>\n",
       "      <td>Cortes II 75</td>\n",
       "      <td>Hydro</td>\n",
       "      <td>634.00</td>\n",
       "    </tr>\n",
       "    <tr>\n",
       "      <th>28</th>\n",
       "      <td>Cortes II 76</td>\n",
       "      <td>Hydro</td>\n",
       "      <td>877.95</td>\n",
       "    </tr>\n",
       "    <tr>\n",
       "      <th>36</th>\n",
       "      <td>G. y Galan 153</td>\n",
       "      <td>Hydro</td>\n",
       "      <td>52.21</td>\n",
       "    </tr>\n",
       "    <tr>\n",
       "      <th>43</th>\n",
       "      <td>Guillena 142</td>\n",
       "      <td>Hydro</td>\n",
       "      <td>207.99</td>\n",
       "    </tr>\n",
       "    <tr>\n",
       "      <th>46</th>\n",
       "      <td>Isona 956</td>\n",
       "      <td>Hydro</td>\n",
       "      <td>107.40</td>\n",
       "    </tr>\n",
       "    <tr>\n",
       "      <th>2</th>\n",
       "      <td>Litoral de Almería 157</td>\n",
       "      <td>other_nl</td>\n",
       "      <td>1159.00</td>\n",
       "    </tr>\n",
       "    <tr>\n",
       "      <th>5</th>\n",
       "      <td>Mediano 898</td>\n",
       "      <td>Hydro</td>\n",
       "      <td>66.97</td>\n",
       "    </tr>\n",
       "    <tr>\n",
       "      <th>8</th>\n",
       "      <td>Mequinenza 82</td>\n",
       "      <td>Hydro</td>\n",
       "      <td>322.36</td>\n",
       "    </tr>\n",
       "    <tr>\n",
       "      <th>49</th>\n",
       "      <td>Narcea 1008</td>\n",
       "      <td>hydro_ror</td>\n",
       "      <td>595.00</td>\n",
       "    </tr>\n",
       "    <tr>\n",
       "      <th>35</th>\n",
       "      <td>P. de Sanabria 1003</td>\n",
       "      <td>Hydro</td>\n",
       "      <td>65.10</td>\n",
       "    </tr>\n",
       "    <tr>\n",
       "      <th>25</th>\n",
       "      <td>P.Bibey 996</td>\n",
       "      <td>hydro_ror</td>\n",
       "      <td>325.00</td>\n",
       "    </tr>\n",
       "    <tr>\n",
       "      <th>17</th>\n",
       "      <td>P.G. Rodriguez 999</td>\n",
       "      <td>Hydro</td>\n",
       "      <td>54.40</td>\n",
       "    </tr>\n",
       "    <tr>\n",
       "      <th>37</th>\n",
       "      <td>Palos 159</td>\n",
       "      <td>other_nl</td>\n",
       "      <td>1195.00</td>\n",
       "    </tr>\n",
       "    <tr>\n",
       "      <th>12</th>\n",
       "      <td>Pesoz 1014</td>\n",
       "      <td>hydro_ror</td>\n",
       "      <td>50.00</td>\n",
       "    </tr>\n",
       "    <tr>\n",
       "      <th>39</th>\n",
       "      <td>Prada 1000</td>\n",
       "      <td>hydro_ror</td>\n",
       "      <td>72.00</td>\n",
       "    </tr>\n",
       "    <tr>\n",
       "      <th>27</th>\n",
       "      <td>Prada 1001</td>\n",
       "      <td>hydro_ror</td>\n",
       "      <td>55.00</td>\n",
       "    </tr>\n",
       "    <tr>\n",
       "      <th>47</th>\n",
       "      <td>Puertollano 150</td>\n",
       "      <td>other_nl</td>\n",
       "      <td>221.00</td>\n",
       "    </tr>\n",
       "    <tr>\n",
       "      <th>0</th>\n",
       "      <td>Riba Roja 81</td>\n",
       "      <td>Hydro</td>\n",
       "      <td>261.28</td>\n",
       "    </tr>\n",
       "    <tr>\n",
       "      <th>44</th>\n",
       "      <td>S. Esteban 995</td>\n",
       "      <td>Hydro</td>\n",
       "      <td>86.48</td>\n",
       "    </tr>\n",
       "    <tr>\n",
       "      <th>15</th>\n",
       "      <td>S.Agustin 1002</td>\n",
       "      <td>hydro_ror</td>\n",
       "      <td>63.00</td>\n",
       "    </tr>\n",
       "    <tr>\n",
       "      <th>13</th>\n",
       "      <td>S.Pedro 993</td>\n",
       "      <td>Hydro</td>\n",
       "      <td>181.02</td>\n",
       "    </tr>\n",
       "    <tr>\n",
       "      <th>18</th>\n",
       "      <td>Salas 1012</td>\n",
       "      <td>hydro_ror</td>\n",
       "      <td>255.00</td>\n",
       "    </tr>\n",
       "    <tr>\n",
       "      <th>14</th>\n",
       "      <td>Sallente 905</td>\n",
       "      <td>Hydro</td>\n",
       "      <td>219.14</td>\n",
       "    </tr>\n",
       "    <tr>\n",
       "      <th>19</th>\n",
       "      <td>Saucelle 151</td>\n",
       "      <td>hydro_ror</td>\n",
       "      <td>254.00</td>\n",
       "    </tr>\n",
       "    <tr>\n",
       "      <th>30</th>\n",
       "      <td>Sentmenat 86</td>\n",
       "      <td>Hydro</td>\n",
       "      <td>67.52</td>\n",
       "    </tr>\n",
       "    <tr>\n",
       "      <th>6</th>\n",
       "      <td>Torrejon 148</td>\n",
       "      <td>hydro_ror</td>\n",
       "      <td>131.00</td>\n",
       "    </tr>\n",
       "    <tr>\n",
       "      <th>45</th>\n",
       "      <td>Unnamed 1061 1061</td>\n",
       "      <td>Coal</td>\n",
       "      <td>299.76</td>\n",
       "    </tr>\n",
       "    <tr>\n",
       "      <th>21</th>\n",
       "      <td>Unnamed 1312 1076</td>\n",
       "      <td>Gas</td>\n",
       "      <td>1585.39</td>\n",
       "    </tr>\n",
       "    <tr>\n",
       "      <th>40</th>\n",
       "      <td>Unnamed 495 1038</td>\n",
       "      <td>Hydro</td>\n",
       "      <td>61.15</td>\n",
       "    </tr>\n",
       "    <tr>\n",
       "      <th>16</th>\n",
       "      <td>Unnamed 501 1039</td>\n",
       "      <td>Gas</td>\n",
       "      <td>93.00</td>\n",
       "    </tr>\n",
       "    <tr>\n",
       "      <th>31</th>\n",
       "      <td>Unnamed 568 1047</td>\n",
       "      <td>Hydro</td>\n",
       "      <td>80.73</td>\n",
       "    </tr>\n",
       "    <tr>\n",
       "      <th>3</th>\n",
       "      <td>Unnamed 622 1049</td>\n",
       "      <td>Hydro</td>\n",
       "      <td>55.56</td>\n",
       "    </tr>\n",
       "    <tr>\n",
       "      <th>1</th>\n",
       "      <td>Unnamed 622 1050</td>\n",
       "      <td>Hydro</td>\n",
       "      <td>88.55</td>\n",
       "    </tr>\n",
       "    <tr>\n",
       "      <th>33</th>\n",
       "      <td>Unnamed 920 1058</td>\n",
       "      <td>Hydro</td>\n",
       "      <td>67.60</td>\n",
       "    </tr>\n",
       "    <tr>\n",
       "      <th>11</th>\n",
       "      <td>Vaguados 168</td>\n",
       "      <td>other_nl</td>\n",
       "      <td>50.00</td>\n",
       "    </tr>\n",
       "    <tr>\n",
       "      <th>48</th>\n",
       "      <td>Valdecaballeros 144</td>\n",
       "      <td>Hydro</td>\n",
       "      <td>50.40</td>\n",
       "    </tr>\n",
       "    <tr>\n",
       "      <th>10</th>\n",
       "      <td>Valdecaballeros 145</td>\n",
       "      <td>Hydro</td>\n",
       "      <td>51.70</td>\n",
       "    </tr>\n",
       "    <tr>\n",
       "      <th>26</th>\n",
       "      <td>Valdecaballeros 146</td>\n",
       "      <td>Hydro</td>\n",
       "      <td>55.20</td>\n",
       "    </tr>\n",
       "    <tr>\n",
       "      <th>20</th>\n",
       "      <td>Valdecañas 147</td>\n",
       "      <td>hydro_ror</td>\n",
       "      <td>249.00</td>\n",
       "    </tr>\n",
       "    <tr>\n",
       "      <th>9</th>\n",
       "      <td>Villalcampo 156</td>\n",
       "      <td>hydro_ror</td>\n",
       "      <td>881.00</td>\n",
       "    </tr>\n",
       "    <tr>\n",
       "      <th>4</th>\n",
       "      <td>Villamayor 154</td>\n",
       "      <td>other_nl</td>\n",
       "      <td>120.00</td>\n",
       "    </tr>\n",
       "    <tr>\n",
       "      <th>29</th>\n",
       "      <td>Villarino 155</td>\n",
       "      <td>hydro_ror</td>\n",
       "      <td>881.00</td>\n",
       "    </tr>\n",
       "  </tbody>\n",
       "</table>\n",
       "</div>"
      ],
      "text/plain": [
       "                      Name       Type     Pmax\n",
       "32             Aguayo 1010      Hydro   360.60\n",
       "24      Aldeadávila II 166  hydro_ror   820.00\n",
       "34            Alvarado 158   other_nl   150.00\n",
       "42             Aravaca 161      Hydro    61.95\n",
       "22                 Asco 78      Hydro    52.52\n",
       "38              Azutan 149  hydro_ror   198.00\n",
       "7             Cortes II 73      Hydro    70.17\n",
       "23            Cortes II 74      Hydro   953.32\n",
       "41            Cortes II 75      Hydro   634.00\n",
       "28            Cortes II 76      Hydro   877.95\n",
       "36          G. y Galan 153      Hydro    52.21\n",
       "43            Guillena 142      Hydro   207.99\n",
       "46               Isona 956      Hydro   107.40\n",
       "2   Litoral de Almería 157   other_nl  1159.00\n",
       "5              Mediano 898      Hydro    66.97\n",
       "8            Mequinenza 82      Hydro   322.36\n",
       "49             Narcea 1008  hydro_ror   595.00\n",
       "35     P. de Sanabria 1003      Hydro    65.10\n",
       "25             P.Bibey 996  hydro_ror   325.00\n",
       "17      P.G. Rodriguez 999      Hydro    54.40\n",
       "37               Palos 159   other_nl  1195.00\n",
       "12              Pesoz 1014  hydro_ror    50.00\n",
       "39              Prada 1000  hydro_ror    72.00\n",
       "27              Prada 1001  hydro_ror    55.00\n",
       "47         Puertollano 150   other_nl   221.00\n",
       "0             Riba Roja 81      Hydro   261.28\n",
       "44          S. Esteban 995      Hydro    86.48\n",
       "15          S.Agustin 1002  hydro_ror    63.00\n",
       "13             S.Pedro 993      Hydro   181.02\n",
       "18              Salas 1012  hydro_ror   255.00\n",
       "14            Sallente 905      Hydro   219.14\n",
       "19            Saucelle 151  hydro_ror   254.00\n",
       "30            Sentmenat 86      Hydro    67.52\n",
       "6             Torrejon 148  hydro_ror   131.00\n",
       "45       Unnamed 1061 1061       Coal   299.76\n",
       "21       Unnamed 1312 1076        Gas  1585.39\n",
       "40        Unnamed 495 1038      Hydro    61.15\n",
       "16        Unnamed 501 1039        Gas    93.00\n",
       "31        Unnamed 568 1047      Hydro    80.73\n",
       "3         Unnamed 622 1049      Hydro    55.56\n",
       "1         Unnamed 622 1050      Hydro    88.55\n",
       "33        Unnamed 920 1058      Hydro    67.60\n",
       "11            Vaguados 168   other_nl    50.00\n",
       "48     Valdecaballeros 144      Hydro    50.40\n",
       "10     Valdecaballeros 145      Hydro    51.70\n",
       "26     Valdecaballeros 146      Hydro    55.20\n",
       "20          Valdecañas 147  hydro_ror   249.00\n",
       "9          Villalcampo 156  hydro_ror   881.00\n",
       "4           Villamayor 154   other_nl   120.00\n",
       "29           Villarino 155  hydro_ror   881.00"
      ]
     },
     "execution_count": 44,
     "metadata": {},
     "output_type": "execute_result"
    }
   ],
   "source": [
    "pd.DataFrame([[gen['name'], gen['type'], 100 * gen['pmax']] for gen in model['gen'].values()\n",
    "             if gen['country'] == 'ES' and gen['name'] not in ES_name_map.keys()],\n",
    "             columns=['Name', 'Type', 'Pmax']).sort_values('Name')"
   ]
  },
  {
   "cell_type": "markdown",
   "id": "9f0457d4-fcec-4333-ac68-175f076206ac",
   "metadata": {},
   "source": [
    "ENTSO-E generators not in the list:"
   ]
  },
  {
   "cell_type": "code",
   "execution_count": 45,
   "id": "956501ac-d236-49d5-9397-5ead507bcde5",
   "metadata": {},
   "outputs": [
    {
     "data": {
      "text/html": [
       "<div>\n",
       "<style scoped>\n",
       "    .dataframe tbody tr th:only-of-type {\n",
       "        vertical-align: middle;\n",
       "    }\n",
       "\n",
       "    .dataframe tbody tr th {\n",
       "        vertical-align: top;\n",
       "    }\n",
       "\n",
       "    .dataframe thead th {\n",
       "        text-align: right;\n",
       "    }\n",
       "</style>\n",
       "<table border=\"1\" class=\"dataframe\">\n",
       "  <thead>\n",
       "    <tr style=\"text-align: right;\">\n",
       "      <th></th>\n",
       "      <th>PowerSystemResourceName</th>\n",
       "      <th>ProductionType</th>\n",
       "      <th>InstalledGenCapacity</th>\n",
       "    </tr>\n",
       "  </thead>\n",
       "  <tbody>\n",
       "    <tr>\n",
       "      <th>0</th>\n",
       "      <td>ABOÑO 1</td>\n",
       "      <td>Fossil Hard coal</td>\n",
       "      <td>341.7</td>\n",
       "    </tr>\n",
       "    <tr>\n",
       "      <th>1</th>\n",
       "      <td>ABOÑO 2</td>\n",
       "      <td>Fossil Hard coal</td>\n",
       "      <td>535.8</td>\n",
       "    </tr>\n",
       "    <tr>\n",
       "      <th>5</th>\n",
       "      <td>ACECA 3</td>\n",
       "      <td>Fossil Gas</td>\n",
       "      <td>386.0</td>\n",
       "    </tr>\n",
       "    <tr>\n",
       "      <th>6</th>\n",
       "      <td>ACECA4</td>\n",
       "      <td>Fossil Gas</td>\n",
       "      <td>372.6</td>\n",
       "    </tr>\n",
       "    <tr>\n",
       "      <th>16</th>\n",
       "      <td>ALDEA I G1</td>\n",
       "      <td>Hydro Water Reservoir</td>\n",
       "      <td>132.9</td>\n",
       "    </tr>\n",
       "    <tr>\n",
       "      <th>...</th>\n",
       "      <td>...</td>\n",
       "      <td>...</td>\n",
       "      <td>...</td>\n",
       "    </tr>\n",
       "    <tr>\n",
       "      <th>1601</th>\n",
       "      <td>VLLRINO 4G</td>\n",
       "      <td>Hydro Water Reservoir</td>\n",
       "      <td>138.7</td>\n",
       "    </tr>\n",
       "    <tr>\n",
       "      <th>1602</th>\n",
       "      <td>VLLRINO 5B</td>\n",
       "      <td>Hydro Pumped Storage</td>\n",
       "      <td>138.0</td>\n",
       "    </tr>\n",
       "    <tr>\n",
       "      <th>1603</th>\n",
       "      <td>VLLRINO 5G</td>\n",
       "      <td>Hydro Water Reservoir</td>\n",
       "      <td>148.9</td>\n",
       "    </tr>\n",
       "    <tr>\n",
       "      <th>1604</th>\n",
       "      <td>VLLRINO 6B</td>\n",
       "      <td>Hydro Pumped Storage</td>\n",
       "      <td>138.0</td>\n",
       "    </tr>\n",
       "    <tr>\n",
       "      <th>1605</th>\n",
       "      <td>VLLRINO 6G</td>\n",
       "      <td>Hydro Water Reservoir</td>\n",
       "      <td>148.6</td>\n",
       "    </tr>\n",
       "  </tbody>\n",
       "</table>\n",
       "<p>163 rows × 3 columns</p>\n",
       "</div>"
      ],
      "text/plain": [
       "     PowerSystemResourceName         ProductionType  InstalledGenCapacity\n",
       "0                    ABOÑO 1       Fossil Hard coal                 341.7\n",
       "1                    ABOÑO 2       Fossil Hard coal                 535.8\n",
       "5                    ACECA 3             Fossil Gas                 386.0\n",
       "6                     ACECA4             Fossil Gas                 372.6\n",
       "16                ALDEA I G1  Hydro Water Reservoir                 132.9\n",
       "...                      ...                    ...                   ...\n",
       "1601              VLLRINO 4G  Hydro Water Reservoir                 138.7\n",
       "1602              VLLRINO 5B   Hydro Pumped Storage                 138.0\n",
       "1603              VLLRINO 5G  Hydro Water Reservoir                 148.9\n",
       "1604              VLLRINO 6B   Hydro Pumped Storage                 138.0\n",
       "1605              VLLRINO 6G  Hydro Water Reservoir                 148.6\n",
       "\n",
       "[163 rows x 3 columns]"
      ]
     },
     "execution_count": 45,
     "metadata": {},
     "output_type": "execute_result"
    }
   ],
   "source": [
    "entsoe_data[(entsoe_data['Country'] == 'ES') & (~entsoe_data['PowerSystemResourceName'].isin(ES_name_values))] \\\n",
    "    [['PowerSystemResourceName', 'ProductionType', 'InstalledGenCapacity']]"
   ]
  },
  {
   "cell_type": "markdown",
   "id": "b7b1c671-6c76-4353-bb50-48895c5c2e9a",
   "metadata": {},
   "source": [
    "### Germany"
   ]
  },
  {
   "cell_type": "markdown",
   "id": "4724d3aa-cee2-484d-ac2b-d4bcf080f74e",
   "metadata": {},
   "source": [
    "Manually examine ENTSO-E generators list:"
   ]
  },
  {
   "cell_type": "code",
   "execution_count": 46,
   "id": "aff7da46-6030-4386-a9b4-e65e169d4234",
   "metadata": {},
   "outputs": [],
   "source": [
    "DE_name_map = {\n",
    "    'Brokdorf 210': ['Brokdorf'],\n",
    "    'Gundremmingen 256': ['Gundremmingen B'],\n",
    "    'Gundremmingen 257': ['Gundremmingen C'],\n",
    "    'Isar 265': ['Isar 2'],\n",
    "    'Philippsburg 232': ['KKW Philippsburg 2'],\n",
    "    'Grohnde 209': ['Grohnde'],\n",
    "    'Emsland 249': ['Emsland A'],\n",
    "    'GKN 2 950': ['KKW Neckarwestheim 2'],\n",
    "    'Boxberg 314': ['KW Boxberg Block N', 'KW Boxberg Block P', 'KW Boxberg Block Q', 'KW Boxberg Block R'],\n",
    "    'Jänschwalde 312': ['KW Jänschwalde Block A', 'KW Jänschwalde Block B', 'KW Jänschwalde Block C',\n",
    "                        'KW Jänschwalde Block D', 'KW Jänschwalde Block E', 'KW Jänschwalde Block F'],\n",
    "    'Lippendorf 214': ['KW Lippendorf Block R', 'KW Lippendorf Block S'],\n",
    "    'Neurath 238': ['Neurath A', 'Neurath B', 'Neurath C', 'Neurath D', 'Neurath E', 'Neurath F', 'Neurath G'],\n",
    "    'Niederaußem 237': ['Niederaußem C', 'Niederaußem D', 'Niederaußem E', 'Niederaußem F',\n",
    "                        'Niederaußem G', 'Niederaußem H', 'Niederaußem K (BoA 1)',\n",
    "                        'Frimmersdorf P', 'Frimmersdorf Q',\n",
    "                        'Weisweiler E', 'Weisweiler F', 'Weisweiler G', 'Weisweiler H'],\n",
    "    'Schkopau 215': ['Schkopau A', 'Schkopau B'],\n",
    "    'Buschhaus 213': ['Buschhaus'],\n",
    "    'Schwarze Pumpe 313': ['KW Schwarze Pumpe Block A', 'KW Schwarze Pumpe Block B'],\n",
    "    'Heilbronn 254': ['HKW Heilbronn Block 7'],\n",
    "    'Rostock 304': ['Kraftwerk Rostock'], # incomplete,\n",
    "    'Moorburg 319': ['HKW Moorburg Block A', 'HKW Moorburg Block B'],\n",
    "    'Wilhelmshaven 204': ['Wilhelmshaven'],\n",
    "    'Großkrotzenburg 272': ['Staudinger 5'], # incomplete\n",
    "    'Bexbach 225': ['BEXBACH_A_GESAMT'],\n",
    "    'Lippborg 248': ['BERGKAMEN_A'],\n",
    "    'Ensdorf 948': ['Ensdorf 1', 'Ensdorf 3'],\n",
    "    'Gersteinwerk 240': ['Gersteinwerk K2'],\n",
    "    'Altbach 307': ['HKW Altbach/Deizisau Block 1', 'HKW Altbach/Deizisau Block 2'],\n",
    "    'Reuter West 216': ['HKW Reuter West Block D', 'HKW Reuter West Block E'],\n",
    "    'Kummerfeld 290': ['HKW Wedel Block 1', 'HKW Wedel Block 2'],\n",
    "    'Ibbenbüren 309': ['Ibbenbüren B'],\n",
    "    'Voerde 203': ['Kraftwerk Voerde Block A', 'Kraftwerk Voerde Block B'],\n",
    "    'Scholven 243': ['Scholven B', 'Scholven C'], # incomplete\n",
    "    'Ingolstadt 263': ['Ingolstadt 3', 'Ingolstadt 4'],\n",
    "    'Vierraden 302': ['IKS Schwedt SE1 Block 1', 'IKS Schwedt SE2 Block 2']\n",
    "}"
   ]
  },
  {
   "cell_type": "code",
   "execution_count": 47,
   "id": "2ce3adaf-61f7-4a94-8001-65aeaa76f6d3",
   "metadata": {},
   "outputs": [],
   "source": [
    "DE_name_values = {name for list_of_names in DE_name_map.values() for name in list_of_names}"
   ]
  },
  {
   "cell_type": "markdown",
   "id": "e082a651-9917-4779-b518-917a480b8239",
   "metadata": {},
   "source": [
    "Check that the keys are part of the model's names:"
   ]
  },
  {
   "cell_type": "code",
   "execution_count": 48,
   "id": "50f85fd1-f449-4595-82ef-5d8178bad719",
   "metadata": {},
   "outputs": [],
   "source": [
    "assert set(DE_name_map.keys()).issubset(all_gen_names)"
   ]
  },
  {
   "cell_type": "markdown",
   "id": "596add34-1a8b-40dc-a696-81d2da5f608e",
   "metadata": {},
   "source": [
    "Check that the names belong to the ENTSO-E names:"
   ]
  },
  {
   "cell_type": "code",
   "execution_count": 49,
   "id": "29f62ed8-b968-4b11-a13d-2d145b082644",
   "metadata": {},
   "outputs": [],
   "source": [
    "assert DE_name_values.issubset(entsoe_data['PowerSystemResourceName'])"
   ]
  },
  {
   "cell_type": "markdown",
   "id": "13fbc8d3-10b6-41d9-88a2-01bc84cc8088",
   "metadata": {},
   "source": [
    "Model's generators not in the list:"
   ]
  },
  {
   "cell_type": "code",
   "execution_count": 50,
   "id": "b5d915e3-37c6-42a7-a381-49b2f7a291e2",
   "metadata": {},
   "outputs": [
    {
     "data": {
      "text/html": [
       "<div>\n",
       "<style scoped>\n",
       "    .dataframe tbody tr th:only-of-type {\n",
       "        vertical-align: middle;\n",
       "    }\n",
       "\n",
       "    .dataframe tbody tr th {\n",
       "        vertical-align: top;\n",
       "    }\n",
       "\n",
       "    .dataframe thead th {\n",
       "        text-align: right;\n",
       "    }\n",
       "</style>\n",
       "<table border=\"1\" class=\"dataframe\">\n",
       "  <thead>\n",
       "    <tr style=\"text-align: right;\">\n",
       "      <th></th>\n",
       "      <th>Name</th>\n",
       "      <th>Type</th>\n",
       "      <th>Pmax</th>\n",
       "    </tr>\n",
       "  </thead>\n",
       "  <tbody>\n",
       "    <tr>\n",
       "      <th>39</th>\n",
       "      <td>Altenkleusheim 245</td>\n",
       "      <td>hydro_pure_ps</td>\n",
       "      <td>140.0</td>\n",
       "    </tr>\n",
       "    <tr>\n",
       "      <th>17</th>\n",
       "      <td>Altentreptow/Süd 972</td>\n",
       "      <td>Gas</td>\n",
       "      <td>75.0</td>\n",
       "    </tr>\n",
       "    <tr>\n",
       "      <th>16</th>\n",
       "      <td>BASF 270</td>\n",
       "      <td>fossil_coal_gas</td>\n",
       "      <td>460.0</td>\n",
       "    </tr>\n",
       "    <tr>\n",
       "      <th>67</th>\n",
       "      <td>BASF 271</td>\n",
       "      <td>fossil_coal_hard</td>\n",
       "      <td>870.0</td>\n",
       "    </tr>\n",
       "    <tr>\n",
       "      <th>64</th>\n",
       "      <td>Bergrheinfeld 281</td>\n",
       "      <td>hydro_pure_ps</td>\n",
       "      <td>160.0</td>\n",
       "    </tr>\n",
       "    <tr>\n",
       "      <th>...</th>\n",
       "      <td>...</td>\n",
       "      <td>...</td>\n",
       "      <td>...</td>\n",
       "    </tr>\n",
       "    <tr>\n",
       "      <th>6</th>\n",
       "      <td>Waldeck 273</td>\n",
       "      <td>hydro_pure_ps</td>\n",
       "      <td>578.0</td>\n",
       "    </tr>\n",
       "    <tr>\n",
       "      <th>5</th>\n",
       "      <td>Wehr 219</td>\n",
       "      <td>hydro_pure_ps</td>\n",
       "      <td>980.0</td>\n",
       "    </tr>\n",
       "    <tr>\n",
       "      <th>34</th>\n",
       "      <td>Weiher 202</td>\n",
       "      <td>fossil_brown_lignite</td>\n",
       "      <td>680.0</td>\n",
       "    </tr>\n",
       "    <tr>\n",
       "      <th>51</th>\n",
       "      <td>Wolmirstedt 292</td>\n",
       "      <td>Gas</td>\n",
       "      <td>52.0</td>\n",
       "    </tr>\n",
       "    <tr>\n",
       "      <th>8</th>\n",
       "      <td>Zolling 264</td>\n",
       "      <td>fossil_brown_lignite</td>\n",
       "      <td>449.0</td>\n",
       "    </tr>\n",
       "  </tbody>\n",
       "</table>\n",
       "<p>68 rows × 3 columns</p>\n",
       "</div>"
      ],
      "text/plain": [
       "                    Name                  Type   Pmax\n",
       "39    Altenkleusheim 245         hydro_pure_ps  140.0\n",
       "17  Altentreptow/Süd 972                   Gas   75.0\n",
       "16              BASF 270       fossil_coal_gas  460.0\n",
       "67              BASF 271      fossil_coal_hard  870.0\n",
       "64     Bergrheinfeld 281         hydro_pure_ps  160.0\n",
       "..                   ...                   ...    ...\n",
       "6            Waldeck 273         hydro_pure_ps  578.0\n",
       "5               Wehr 219         hydro_pure_ps  980.0\n",
       "34            Weiher 202  fossil_brown_lignite  680.0\n",
       "51       Wolmirstedt 292                   Gas   52.0\n",
       "8            Zolling 264  fossil_brown_lignite  449.0\n",
       "\n",
       "[68 rows x 3 columns]"
      ]
     },
     "execution_count": 50,
     "metadata": {},
     "output_type": "execute_result"
    }
   ],
   "source": [
    "pd.DataFrame([[gen['name'], gen['type'], 100 * gen['pmax']] for gen in model['gen'].values()\n",
    "             if gen['country'] == 'DE' and gen['name'] not in DE_name_map.keys()],\n",
    "             columns=['Name', 'Type', 'Pmax']).sort_values('Name')"
   ]
  },
  {
   "cell_type": "markdown",
   "id": "127d41bb-76f4-400d-a854-6b804badf28c",
   "metadata": {},
   "source": [
    "ENTSO-E generators not in the list:"
   ]
  },
  {
   "cell_type": "code",
   "execution_count": 51,
   "id": "b4cc9277-819a-4e68-9b94-9d196ced8db0",
   "metadata": {},
   "outputs": [
    {
     "data": {
      "text/html": [
       "<div>\n",
       "<style scoped>\n",
       "    .dataframe tbody tr th:only-of-type {\n",
       "        vertical-align: middle;\n",
       "    }\n",
       "\n",
       "    .dataframe tbody tr th {\n",
       "        vertical-align: top;\n",
       "    }\n",
       "\n",
       "    .dataframe thead th {\n",
       "        text-align: right;\n",
       "    }\n",
       "</style>\n",
       "<table border=\"1\" class=\"dataframe\">\n",
       "  <thead>\n",
       "    <tr style=\"text-align: right;\">\n",
       "      <th></th>\n",
       "      <th>PowerSystemResourceName</th>\n",
       "      <th>ProductionType</th>\n",
       "      <th>InstalledGenCapacity</th>\n",
       "    </tr>\n",
       "  </thead>\n",
       "  <tbody>\n",
       "    <tr>\n",
       "      <th>169</th>\n",
       "      <td>Block 1</td>\n",
       "      <td>Fossil Hard coal</td>\n",
       "      <td>136.0</td>\n",
       "    </tr>\n",
       "    <tr>\n",
       "      <th>170</th>\n",
       "      <td>Block 2</td>\n",
       "      <td>Fossil Hard coal</td>\n",
       "      <td>136.0</td>\n",
       "    </tr>\n",
       "    <tr>\n",
       "      <th>171</th>\n",
       "      <td>Block 3</td>\n",
       "      <td>Fossil Hard coal</td>\n",
       "      <td>690.0</td>\n",
       "    </tr>\n",
       "    <tr>\n",
       "      <th>172</th>\n",
       "      <td>Block AGuD</td>\n",
       "      <td>Fossil Gas</td>\n",
       "      <td>100.0</td>\n",
       "    </tr>\n",
       "    <tr>\n",
       "      <th>173</th>\n",
       "      <td>Block B</td>\n",
       "      <td>Fossil Gas</td>\n",
       "      <td>100.0</td>\n",
       "    </tr>\n",
       "    <tr>\n",
       "      <th>...</th>\n",
       "      <td>...</td>\n",
       "      <td>...</td>\n",
       "      <td>...</td>\n",
       "    </tr>\n",
       "    <tr>\n",
       "      <th>1659</th>\n",
       "      <td>Weisweiler VGT - BI. G</td>\n",
       "      <td>Fossil Gas</td>\n",
       "      <td>200.0</td>\n",
       "    </tr>\n",
       "    <tr>\n",
       "      <th>1660</th>\n",
       "      <td>Weisweiler VGT - BI. H</td>\n",
       "      <td>Fossil Gas</td>\n",
       "      <td>200.0</td>\n",
       "    </tr>\n",
       "    <tr>\n",
       "      <th>1662</th>\n",
       "      <td>Westfalen C</td>\n",
       "      <td>Fossil Hard coal</td>\n",
       "      <td>250.0</td>\n",
       "    </tr>\n",
       "    <tr>\n",
       "      <th>1663</th>\n",
       "      <td>Westfalen E</td>\n",
       "      <td>Fossil Hard coal</td>\n",
       "      <td>763.7</td>\n",
       "    </tr>\n",
       "    <tr>\n",
       "      <th>1666</th>\n",
       "      <td>Witznau</td>\n",
       "      <td>Hydro Pumped Storage</td>\n",
       "      <td>110.0</td>\n",
       "    </tr>\n",
       "  </tbody>\n",
       "</table>\n",
       "<p>133 rows × 3 columns</p>\n",
       "</div>"
      ],
      "text/plain": [
       "     PowerSystemResourceName        ProductionType  InstalledGenCapacity\n",
       "169                  Block 1      Fossil Hard coal                 136.0\n",
       "170                  Block 2      Fossil Hard coal                 136.0\n",
       "171                  Block 3      Fossil Hard coal                 690.0\n",
       "172               Block AGuD            Fossil Gas                 100.0\n",
       "173                  Block B            Fossil Gas                 100.0\n",
       "...                      ...                   ...                   ...\n",
       "1659  Weisweiler VGT - BI. G            Fossil Gas                 200.0\n",
       "1660  Weisweiler VGT - BI. H            Fossil Gas                 200.0\n",
       "1662             Westfalen C      Fossil Hard coal                 250.0\n",
       "1663             Westfalen E      Fossil Hard coal                 763.7\n",
       "1666                 Witznau  Hydro Pumped Storage                 110.0\n",
       "\n",
       "[133 rows x 3 columns]"
      ]
     },
     "execution_count": 51,
     "metadata": {},
     "output_type": "execute_result"
    }
   ],
   "source": [
    "entsoe_data[(entsoe_data['Country'] == 'DE') & (~entsoe_data['PowerSystemResourceName'].isin(DE_name_values))] \\\n",
    "    [['PowerSystemResourceName', 'ProductionType', 'InstalledGenCapacity']]"
   ]
  },
  {
   "cell_type": "markdown",
   "id": "ff9e0373-e575-4551-a6f6-9f80feee8e63",
   "metadata": {},
   "source": [
    "### Nuclear plants in other countries"
   ]
  },
  {
   "cell_type": "markdown",
   "id": "ee554385-6b55-40e5-b6e6-949cea93167a",
   "metadata": {},
   "source": [
    "Manually examine ENTSO-E generators list:"
   ]
  },
  {
   "cell_type": "code",
   "execution_count": 52,
   "id": "e60da62a-6c88-4753-9dc6-a40bb98a9591",
   "metadata": {},
   "outputs": [],
   "source": [
    "jaslovske = [name for name in all_gen_names if name[-3:] == '377'][0]\n",
    "\n",
    "name_map = CH_name_map | FR_name_map | ES_name_map | DE_name_map | {\n",
    "    jaslovske: ['Bohunice TG31', 'Bohunice TG32', 'Bohunice TG41', 'Bohunice TG42'],\n",
    "    'Borssele 846': ['Borssele 30'],\n",
    "    'Tihange 521': ['TIHANGE 1N', 'TIHANGE 1S', 'TIHANGE 2', 'TIHANGE 3'],\n",
    "    'Mochovce 378': ['Mochovce TG11', 'Mochovce TG12', 'Mochovce TG21', 'Mochovce TG22'],\n",
    "    'Cernavoda 404': ['CNE_U1_RET_CA', 'CNE_U2_RET_CA'],\n",
    "    'Kallo 515': ['DOEL 1', 'DOEL 2', 'DOEL 3', 'DOEL 4'],\n",
    "    'Dukovany 176': ['EDUK_B1____', 'EDUK_B2____', 'EDUK_B3____', 'EDUK_B4____'],\n",
    "    'Temelín 179': ['ETEM_G1____', 'ETEM_G2____'],\n",
    "    'Kozloduy 418': ['NPP KZL G9', 'NPP KZL G10'],\n",
    "    'Paks 782': ['PA_gép1', 'PA_gép2', 'PA_gép3', 'PA_gép4', 'PA_gép5', 'PA_gép6', 'PA_gép7', 'PA_gép8'],\n",
    "}"
   ]
  },
  {
   "cell_type": "code",
   "execution_count": 53,
   "id": "ac00d993-2279-4da4-9c95-5542798192d5",
   "metadata": {},
   "outputs": [],
   "source": [
    "name_values = {name for list_of_names in name_map.values() for name in list_of_names}"
   ]
  },
  {
   "cell_type": "markdown",
   "id": "bddebb8a-35fe-418e-a477-7379e8440626",
   "metadata": {},
   "source": [
    "Total number of model generators, total number of ENTSO-E generators:"
   ]
  },
  {
   "cell_type": "code",
   "execution_count": 54,
   "id": "be5c88de-3e85-4a74-96bc-1aafd3b22f01",
   "metadata": {},
   "outputs": [
    {
     "data": {
      "text/plain": [
       "(123, 275)"
      ]
     },
     "execution_count": 54,
     "metadata": {},
     "output_type": "execute_result"
    }
   ],
   "source": [
    "len(name_map), len(name_values)"
   ]
  },
  {
   "cell_type": "markdown",
   "id": "81f1784d-48cd-4e4d-9df2-d156f37031d1",
   "metadata": {},
   "source": [
    "Check that the keys are part of the model's names:"
   ]
  },
  {
   "cell_type": "code",
   "execution_count": 55,
   "id": "9f5a634c-c9d3-4f44-a8cf-b416ef3f7343",
   "metadata": {},
   "outputs": [],
   "source": [
    "assert set(name_map.keys()).issubset(all_gen_names)"
   ]
  },
  {
   "cell_type": "markdown",
   "id": "ae55dff0-6226-4577-8977-8fa166f3ac48",
   "metadata": {},
   "source": [
    "Check that the names belong to the ENTSO-E names:"
   ]
  },
  {
   "cell_type": "code",
   "execution_count": 56,
   "id": "6f5c51a5-ff1f-4dd9-b71e-567b64e0adc4",
   "metadata": {},
   "outputs": [],
   "source": [
    "assert name_values.issubset(entsoe_data['PowerSystemResourceName'])"
   ]
  },
  {
   "cell_type": "markdown",
   "id": "42920339-7641-4fa4-8a78-d5ce3b9134c5",
   "metadata": {},
   "source": [
    "Model's nuclear generators not in the list:"
   ]
  },
  {
   "cell_type": "code",
   "execution_count": 57,
   "id": "2cd3d0aa-8106-4791-befd-b3f3fd832bcb",
   "metadata": {},
   "outputs": [
    {
     "data": {
      "text/html": [
       "<div>\n",
       "<style scoped>\n",
       "    .dataframe tbody tr th:only-of-type {\n",
       "        vertical-align: middle;\n",
       "    }\n",
       "\n",
       "    .dataframe tbody tr th {\n",
       "        vertical-align: top;\n",
       "    }\n",
       "\n",
       "    .dataframe thead th {\n",
       "        text-align: right;\n",
       "    }\n",
       "</style>\n",
       "<table border=\"1\" class=\"dataframe\">\n",
       "  <thead>\n",
       "    <tr style=\"text-align: right;\">\n",
       "      <th></th>\n",
       "      <th>Name</th>\n",
       "      <th>Type</th>\n",
       "      <th>Pmax</th>\n",
       "    </tr>\n",
       "  </thead>\n",
       "  <tbody>\n",
       "    <tr>\n",
       "      <th>1</th>\n",
       "      <td>Grafenrheinfeld 282</td>\n",
       "      <td>nuclear_cons</td>\n",
       "      <td>1275.0</td>\n",
       "    </tr>\n",
       "    <tr>\n",
       "      <th>0</th>\n",
       "      <td>Krško 886</td>\n",
       "      <td>nuclear</td>\n",
       "      <td>696.0</td>\n",
       "    </tr>\n",
       "  </tbody>\n",
       "</table>\n",
       "</div>"
      ],
      "text/plain": [
       "                  Name          Type    Pmax\n",
       "1  Grafenrheinfeld 282  nuclear_cons  1275.0\n",
       "0            Krško 886       nuclear   696.0"
      ]
     },
     "execution_count": 57,
     "metadata": {},
     "output_type": "execute_result"
    }
   ],
   "source": [
    "pd.DataFrame([[gen['name'], gen['type'], 100 * gen['pmax']] for gen in model['gen'].values()\n",
    "             if 'nuclear' in gen['type'] and gen['name'] not in name_map.keys()],\n",
    "             columns=['Name', 'Type', 'Pmax']).sort_values('Name')"
   ]
  },
  {
   "cell_type": "markdown",
   "id": "fdc9c96f-9f9e-413f-a9c2-0a0375b5c938",
   "metadata": {},
   "source": [
    "ENTSO-E nuclear generators not in the list:"
   ]
  },
  {
   "cell_type": "code",
   "execution_count": 58,
   "id": "c79bc95e-a79e-46a1-bbf4-f86c248208a7",
   "metadata": {},
   "outputs": [
    {
     "data": {
      "text/html": [
       "<div>\n",
       "<style scoped>\n",
       "    .dataframe tbody tr th:only-of-type {\n",
       "        vertical-align: middle;\n",
       "    }\n",
       "\n",
       "    .dataframe tbody tr th {\n",
       "        vertical-align: top;\n",
       "    }\n",
       "\n",
       "    .dataframe thead th {\n",
       "        text-align: right;\n",
       "    }\n",
       "</style>\n",
       "<table border=\"1\" class=\"dataframe\">\n",
       "  <thead>\n",
       "    <tr style=\"text-align: right;\">\n",
       "      <th></th>\n",
       "      <th>PowerSystemResourceName</th>\n",
       "      <th>ProductionType</th>\n",
       "      <th>InstalledGenCapacity</th>\n",
       "    </tr>\n",
       "  </thead>\n",
       "  <tbody>\n",
       "    <tr>\n",
       "      <th>1186</th>\n",
       "      <td>S.M.GAROÑA</td>\n",
       "      <td>Nuclear</td>\n",
       "      <td>455.2</td>\n",
       "    </tr>\n",
       "    <tr>\n",
       "      <th>1353</th>\n",
       "      <td>TRILLO</td>\n",
       "      <td>Nuclear</td>\n",
       "      <td>1003.4</td>\n",
       "    </tr>\n",
       "    <tr>\n",
       "      <th>1588</th>\n",
       "      <td>VANDELLOS</td>\n",
       "      <td>Nuclear</td>\n",
       "      <td>1045.3</td>\n",
       "    </tr>\n",
       "  </tbody>\n",
       "</table>\n",
       "</div>"
      ],
      "text/plain": [
       "     PowerSystemResourceName ProductionType  InstalledGenCapacity\n",
       "1186              S.M.GAROÑA        Nuclear                 455.2\n",
       "1353                  TRILLO        Nuclear                1003.4\n",
       "1588               VANDELLOS        Nuclear                1045.3"
      ]
     },
     "execution_count": 58,
     "metadata": {},
     "output_type": "execute_result"
    }
   ],
   "source": [
    "entsoe_data[(entsoe_data['ProductionType'] == 'Nuclear') & (~entsoe_data['PowerSystemResourceName'].isin(name_values))] \\\n",
    "    [['PowerSystemResourceName', 'ProductionType', 'InstalledGenCapacity']]"
   ]
  },
  {
   "cell_type": "markdown",
   "id": "0b9ffe67-431d-4e0e-84eb-dba02918f55b",
   "metadata": {},
   "source": [
    "### Update the model"
   ]
  },
  {
   "cell_type": "markdown",
   "id": "2b2f9dfe-472b-410a-90d3-f011b75bfa60",
   "metadata": {},
   "source": [
    "Add 'entsoe_names' field to the generators in the model and delete the temporary name:"
   ]
  },
  {
   "cell_type": "code",
   "execution_count": 59,
   "id": "6c94fce9-4ab5-4626-9206-827bd2f62d1f",
   "metadata": {},
   "outputs": [],
   "source": [
    "for gen in model['gen'].values():\n",
    "    gen['entsoe_names'] = name_map[gen['name']] if gen['name'] in name_map.keys() else []\n",
    "    del gen['name']"
   ]
  },
  {
   "cell_type": "markdown",
   "id": "127e439a-12ba-4886-ab72-a68d77772dbe",
   "metadata": {},
   "source": [
    "# Add aggregated types\n",
    "\n",
    "List existing generator types:"
   ]
  },
  {
   "cell_type": "code",
   "execution_count": 60,
   "id": "4329c447-9354-42a5-91c0-76f784f6042a",
   "metadata": {},
   "outputs": [
    {
     "data": {
      "text/plain": [
       "{'Biomass',\n",
       " 'Coal',\n",
       " 'Gas',\n",
       " 'Geothermal',\n",
       " 'Hydro',\n",
       " 'Nuclear',\n",
       " 'Oil',\n",
       " 'biomass',\n",
       " 'fossil_brown_lignite',\n",
       " 'fossil_brown_lignite_cons',\n",
       " 'fossil_coal_gas',\n",
       " 'fossil_coal_gas_cons',\n",
       " 'fossil_coal_hard',\n",
       " 'fossil_mixed',\n",
       " 'fossil_oil',\n",
       " 'hydro_mixed',\n",
       " 'hydro_mixed_cons',\n",
       " 'hydro_pure_ps',\n",
       " 'hydro_pure_storage',\n",
       " 'hydro_pure_storage_cons',\n",
       " 'hydro_ror',\n",
       " 'nuclear',\n",
       " 'nuclear_cons',\n",
       " 'other_nl',\n",
       " 'other_nrenew',\n",
       " 'other_nrenew_cons',\n",
       " 'waste_nr'}"
      ]
     },
     "execution_count": 60,
     "metadata": {},
     "output_type": "execute_result"
    }
   ],
   "source": [
    "all_gen_types = {gen['type'] for gen in model['gen'].values()}\n",
    "all_gen_types"
   ]
  },
  {
   "cell_type": "markdown",
   "id": "6774be98-0e7c-4cfd-aa85-745527618807",
   "metadata": {},
   "source": [
    "Manually define aggregated types:"
   ]
  },
  {
   "cell_type": "code",
   "execution_count": 61,
   "id": "e03d5b08-3c56-4373-b5ab-a4c90e939ac4",
   "metadata": {},
   "outputs": [],
   "source": [
    "types_aggregation_map = {\n",
    "    \"Hydro\"                    : \"hydro\",\n",
    "    \"hydro_pure_storage\"       : \"hydro_storage\",\n",
    "    \"hydro_pure_storage_cons\"  : \"hydro_storage\",\n",
    "    \"hydro_pure_ps\"            : \"hydro_storage\",\n",
    "    \"hydro_mixed\"              : \"hydro_storage\",\n",
    "    \"hydro_mixed_cons\"         : \"hydro_storage\",\n",
    "    \"hydro_ror\"                : \"hydro_ror\",\n",
    "    \"fossil_brown_lignite\"     : \"coal\",\n",
    "    \"fossil_brown_lignite_cons\": \"coal\",\n",
    "    \"fossil_coal_hard\"         : \"coal\",\n",
    "    \"fossil_coal_gas\"          : \"gas\",\n",
    "    \"fossil_oil\"               : \"gas\",\n",
    "    \"fossil_mixed\"             : \"gas\",\n",
    "    \"fossil_coal_gas_cons\"     : \"gas\",\n",
    "    \"Coal\"                     : \"coal\",\n",
    "    \"Gas\"                      : \"gas\",\n",
    "    \"Oil\"                      : \"gas\",\n",
    "    \"nuclear\"                  : \"nuclear\",\n",
    "    \"Nuclear\"                  : \"nuclear\",\n",
    "    \"nuclear_cons\"             : \"nuclear\",\n",
    "    \"other_nrenew\"             : \"other\",\n",
    "    \"other_nrenew_cons\"        : \"other\",\n",
    "    \"other_nl\"                 : \"other\",\n",
    "    \"Geothermal\"               : \"other\",\n",
    "    \"biomass\"                  : \"other\",\n",
    "    \"Biomass\"                  : \"other\",\n",
    "    \"Waste\"                    : \"gas\",\n",
    "    \"waste_nr\"                 : \"gas\"\n",
    "}"
   ]
  },
  {
   "cell_type": "code",
   "execution_count": 62,
   "id": "109885b9-70c6-47e4-8467-1714940465c5",
   "metadata": {},
   "outputs": [
    {
     "data": {
      "text/plain": [
       "{'coal', 'gas', 'hydro', 'hydro_ror', 'hydro_storage', 'nuclear', 'other'}"
      ]
     },
     "execution_count": 62,
     "metadata": {},
     "output_type": "execute_result"
    }
   ],
   "source": [
    "aggregated_types = set(types_aggregation_map.values())\n",
    "aggregated_types"
   ]
  },
  {
   "cell_type": "markdown",
   "id": "cd469694-1363-429d-9bb7-4875876d4803",
   "metadata": {},
   "source": [
    "Check that all types are mapped: "
   ]
  },
  {
   "cell_type": "code",
   "execution_count": 63,
   "id": "9213b731-7459-45fc-91b8-b61c33736ae0",
   "metadata": {},
   "outputs": [],
   "source": [
    "assert all_gen_types <= set(types_aggregation_map.keys())"
   ]
  },
  {
   "cell_type": "code",
   "execution_count": 64,
   "id": "8e54b9b4-8560-4370-962f-4dc8b93cbb6e",
   "metadata": {},
   "outputs": [],
   "source": [
    "for gen in model['gen'].values():\n",
    "    gen['aggregated_type'] = types_aggregation_map[gen['type']]"
   ]
  },
  {
   "cell_type": "markdown",
   "id": "742a321b-9e0c-4a5c-8762-8992a331e489",
   "metadata": {},
   "source": [
    "# Define expected usage"
   ]
  },
  {
   "cell_type": "markdown",
   "id": "e7384e86-1196-4144-8765-c251c979bb7e",
   "metadata": {},
   "source": [
    "Choose 2016 as the reference year, as it matches with the model:"
   ]
  },
  {
   "cell_type": "code",
   "execution_count": 65,
   "id": "6c4ca7d7-35cc-4c41-9d23-e82c9fd9e406",
   "metadata": {},
   "outputs": [],
   "source": [
    "year = 2016"
   ]
  },
  {
   "cell_type": "markdown",
   "id": "3bd6c73b-566b-4d21-8226-7dbf964c71f2",
   "metadata": {},
   "source": [
    "### Capacity"
   ]
  },
  {
   "cell_type": "code",
   "execution_count": 66,
   "id": "1e3704c7-1dfa-47ae-9a14-b1cdcd082d70",
   "metadata": {},
   "outputs": [],
   "source": [
    "capacity_df = pd.read_csv('%s/%d_01_InstalledGenerationCapacityAggregated_14.1.A.csv' % (entsoe_data_dir, year + 1),\n",
    "                          sep='\\t', usecols=['AreaTypeCode', 'MapCode', 'ProductionType', 'AggregatedInstalledCapacity'])\n",
    "capacity_df = capacity_df[(capacity_df['AreaTypeCode'] == 'CTY') & (capacity_df['MapCode'].isin(model_countries))]"
   ]
  },
  {
   "cell_type": "code",
   "execution_count": 67,
   "id": "23d7e7b0-8a39-43d7-b6bb-a13fd3203c7e",
   "metadata": {},
   "outputs": [
    {
     "name": "stderr",
     "output_type": "stream",
     "text": [
      "/tmp/ipykernel_38780/1427180708.py:2: DeprecationWarning: DataFrameGroupBy.apply operated on the grouping columns. This behavior is deprecated, and in a future version of pandas the grouping columns will be excluded from the operation. Either pass `include_groups=False` to exclude the groupings or explicitly select the grouping columns after groupby to silence this warning.\n",
      "  .apply(lambda group: group.set_index('ProductionType')['AggregatedInstalledCapacity'].to_dict()).to_dict()\n"
     ]
    }
   ],
   "source": [
    "capacity_by_country = capacity_df.groupby('MapCode') \\\n",
    "    .apply(lambda group: group.set_index('ProductionType')['AggregatedInstalledCapacity'].to_dict()).to_dict()"
   ]
  },
  {
   "cell_type": "code",
   "execution_count": 68,
   "id": "c947f77a-c924-44ce-a670-992e24375008",
   "metadata": {},
   "outputs": [
    {
     "data": {
      "text/plain": [
       "{'Biomass',\n",
       " 'Fossil Brown coal/Lignite',\n",
       " 'Fossil Coal-derived gas',\n",
       " 'Fossil Gas',\n",
       " 'Fossil Hard coal',\n",
       " 'Fossil Oil',\n",
       " 'Fossil Oil shale',\n",
       " 'Fossil Peat',\n",
       " 'Geothermal',\n",
       " 'Hydro Pumped Storage',\n",
       " 'Hydro Run-of-river and poundage',\n",
       " 'Hydro Water Reservoir',\n",
       " 'Marine',\n",
       " 'Nuclear',\n",
       " 'Other',\n",
       " 'Other renewable',\n",
       " 'Solar',\n",
       " 'Waste',\n",
       " 'Wind Offshore',\n",
       " 'Wind Onshore'}"
      ]
     },
     "execution_count": 68,
     "metadata": {},
     "output_type": "execute_result"
    }
   ],
   "source": [
    "all_capacity_types = {type for capacity_by_type in capacity_by_country.values() for type in capacity_by_type.keys()}\n",
    "all_capacity_types"
   ]
  },
  {
   "cell_type": "code",
   "execution_count": 69,
   "id": "7abd5288-ed17-4d3b-8513-70435324c2f7",
   "metadata": {},
   "outputs": [
    {
     "data": {
      "text/plain": [
       "{'Hydro Run-of-river and poundage': 190.0,\n",
       " 'Nuclear': 3373.0,\n",
       " 'Hydro Water Reservoir': 4897.8,\n",
       " 'Hydro Pumped Storage': 6228.0}"
      ]
     },
     "execution_count": 69,
     "metadata": {},
     "output_type": "execute_result"
    }
   ],
   "source": [
    "capacity_by_country['CH']"
   ]
  },
  {
   "cell_type": "code",
   "execution_count": 70,
   "id": "7f14a44a-9de7-4197-90dd-c9751dd4954f",
   "metadata": {},
   "outputs": [
    {
     "data": {
      "text/plain": [
       "{'Fossil Brown coal/Lignite': 21262.0,\n",
       " 'Biomass': 7080.25,\n",
       " 'Fossil Hard coal': 27437.0,\n",
       " 'Waste': 1685.0,\n",
       " 'Geothermal': 40.22,\n",
       " 'Other': 1421.0,\n",
       " 'Hydro Water Reservoir': 1439.0,\n",
       " 'Fossil Oil': 4614.0,\n",
       " 'Wind Offshore': 4131.3,\n",
       " 'Fossil Coal-derived gas': 0.0,\n",
       " 'Fossil Gas': 32627.0,\n",
       " 'Hydro Run-of-river and poundage': 4007.13,\n",
       " 'Other renewable': 509.61,\n",
       " 'Hydro Pumped Storage': 8894.24,\n",
       " 'Nuclear': 10793.0,\n",
       " 'Wind Onshore': 47042.0,\n",
       " 'Solar': 40834.46}"
      ]
     },
     "execution_count": 70,
     "metadata": {},
     "output_type": "execute_result"
    }
   ],
   "source": [
    "capacity_by_country['DE']"
   ]
  },
  {
   "cell_type": "markdown",
   "id": "17627526-c17f-4991-845f-3b789d7eb93f",
   "metadata": {},
   "source": [
    "### Generation"
   ]
  },
  {
   "cell_type": "code",
   "execution_count": 71,
   "id": "75c202d6-2d4e-4b9e-8ab5-c1af6e7382e2",
   "metadata": {},
   "outputs": [],
   "source": [
    "gen_df = pd.concat([pd.read_csv('%s/%d_%02d_AggregatedGenerationPerType_16.1.B_C.csv' % (entsoe_data_dir, year, month + 1),\n",
    "                                sep='\\t', usecols=['AreaTypeCode', 'MapCode', 'ProductionType', 'ActualGenerationOutput'])\n",
    "                    for month in range(12)], ignore_index=True)\n",
    "gen_df = gen_df[(gen_df['AreaTypeCode'] == 'CTY') & (gen_df['MapCode'].isin(model_countries))]\n",
    "gen_df = gen_df.groupby(['MapCode', 'ProductionType']).filter(lambda g: g['ActualGenerationOutput'].count() > 1000)"
   ]
  },
  {
   "cell_type": "code",
   "execution_count": 72,
   "id": "51b5440d-0cb2-4365-9d31-0bd11329b4a7",
   "metadata": {},
   "outputs": [
    {
     "name": "stderr",
     "output_type": "stream",
     "text": [
      "/tmp/ipykernel_38780/3656648501.py:2: DeprecationWarning: DataFrameGroupBy.apply operated on the grouping columns. This behavior is deprecated, and in a future version of pandas the grouping columns will be excluded from the operation. Either pass `include_groups=False` to exclude the groupings or explicitly select the grouping columns after groupby to silence this warning.\n",
      "  .apply(lambda group: group.groupby('ProductionType')['ActualGenerationOutput'].mean().to_dict()).to_dict()\n"
     ]
    }
   ],
   "source": [
    "gen_by_country = gen_df.groupby('MapCode') \\\n",
    "    .apply(lambda group: group.groupby('ProductionType')['ActualGenerationOutput'].mean().to_dict()).to_dict()"
   ]
  },
  {
   "cell_type": "code",
   "execution_count": 73,
   "id": "7d8cacd4-556e-4725-8b03-138fce1c36d5",
   "metadata": {},
   "outputs": [
    {
     "data": {
      "text/plain": [
       "{'Biomass',\n",
       " 'Fossil Brown coal/Lignite',\n",
       " 'Fossil Coal-derived gas',\n",
       " 'Fossil Gas',\n",
       " 'Fossil Hard coal',\n",
       " 'Fossil Oil',\n",
       " 'Fossil Oil shale',\n",
       " 'Fossil Peat',\n",
       " 'Geothermal',\n",
       " 'Hydro Pumped Storage',\n",
       " 'Hydro Run-of-river and poundage',\n",
       " 'Hydro Water Reservoir',\n",
       " 'Marine',\n",
       " 'Nuclear',\n",
       " 'Other',\n",
       " 'Other renewable',\n",
       " 'Solar',\n",
       " 'Waste',\n",
       " 'Wind Offshore',\n",
       " 'Wind Onshore'}"
      ]
     },
     "execution_count": 73,
     "metadata": {},
     "output_type": "execute_result"
    }
   ],
   "source": [
    "all_gen_types = {type for gen_by_type in gen_by_country.values() for type in gen_by_type.keys()}\n",
    "all_gen_types"
   ]
  },
  {
   "cell_type": "markdown",
   "id": "b626d502-c833-4b38-9554-cb8423279c78",
   "metadata": {},
   "source": [
    "Check that this is the same types as for the capacity computation:"
   ]
  },
  {
   "cell_type": "code",
   "execution_count": 74,
   "id": "2c4c4ed4-f75b-428f-b11a-9172c3d0e126",
   "metadata": {},
   "outputs": [],
   "source": [
    "assert all_gen_types == all_capacity_types"
   ]
  },
  {
   "cell_type": "code",
   "execution_count": 75,
   "id": "1e301d8c-a323-4118-87ad-42b79f26af07",
   "metadata": {},
   "outputs": [
    {
     "data": {
      "text/plain": [
       "{'Hydro Pumped Storage': 584.12845856102,\n",
       " 'Hydro Run-of-river and poundage': 68.68743913857678,\n",
       " 'Hydro Water Reservoir': 904.7273576958106,\n",
       " 'Nuclear': 2244.7649134790527,\n",
       " 'Solar': 38.301363013698634,\n",
       " 'Wind Onshore': 7.819798534798534}"
      ]
     },
     "execution_count": 75,
     "metadata": {},
     "output_type": "execute_result"
    }
   ],
   "source": [
    "gen_by_country['CH']"
   ]
  },
  {
   "cell_type": "code",
   "execution_count": 76,
   "id": "d6d49de7-b4ac-48bb-8e7c-c851e4d9a86a",
   "metadata": {},
   "outputs": [
    {
     "data": {
      "text/plain": [
       "{'Biomass': 4524.766928790984,\n",
       " 'Fossil Brown coal/Lignite': 14842.226127903006,\n",
       " 'Fossil Coal-derived gas': 431.8244763205829,\n",
       " 'Fossil Gas': 2605.7666140141164,\n",
       " 'Fossil Hard coal': 9208.768320241348,\n",
       " 'Fossil Oil': 198.01513974271404,\n",
       " 'Geothermal': 19.224431067850638,\n",
       " 'Hydro Pumped Storage': 977.6436233492715,\n",
       " 'Hydro Run-of-river and poundage': 1964.5508122723134,\n",
       " 'Hydro Water Reservoir': 93.27279684653917,\n",
       " 'Nuclear': 9134.58341302368,\n",
       " 'Other': 309.27984090391624,\n",
       " 'Other renewable': 140.52764571948998,\n",
       " 'Solar': 3932.0249339708566,\n",
       " 'Waste': 625.344625170765,\n",
       " 'Wind Offshore': 1376.8343317395263,\n",
       " 'Wind Onshore': 7431.724159836066}"
      ]
     },
     "execution_count": 76,
     "metadata": {},
     "output_type": "execute_result"
    }
   ],
   "source": [
    "gen_by_country['DE']"
   ]
  },
  {
   "cell_type": "markdown",
   "id": "d8d7e323-fdcd-4bfe-9216-15041237528d",
   "metadata": {},
   "source": [
    "**Remark**\n",
    "\n",
    "A few computed productions are above capacity for a given type. The problem will be solved by using aggregated types."
   ]
  },
  {
   "cell_type": "code",
   "execution_count": 77,
   "id": "b9c570de-e396-4295-85d6-2e07ee14bb69",
   "metadata": {},
   "outputs": [
    {
     "name": "stdout",
     "output_type": "stream",
     "text": [
      "Production (6.93) above capacity (0.00) for type \"Fossil Oil\" in country CZ\n",
      "Production (109.33) above capacity (0.00) for type \"Other\" in country CZ\n",
      "Production (431.82) above capacity (0.00) for type \"Fossil Coal-derived gas\" in country DE\n",
      "Production (380.71) above capacity (0.00) for type \"Fossil Brown coal/Lignite\" in country ES\n",
      "Production (284.76) above capacity (170.00) for type \"Biomass\" in country FR\n",
      "Production (0.27) above capacity (0.00) for type \"Fossil Oil\" in country GR\n",
      "Production (10472.35) above capacity (1708.00) for type \"Other\" in country IT\n",
      "Production (7.21) above capacity (2.00) for type \"Biomass\" in country LU\n",
      "Production (11.55) above capacity (1.00) for type \"Solar\" in country LU\n",
      "Production (3912.27) above capacity (1.00) for type \"Other\" in country NL\n"
     ]
    }
   ],
   "source": [
    "for country, gen_by_type in gen_by_country.items():\n",
    "    if country in capacity_by_country:\n",
    "        for type, value in gen_by_type.items():\n",
    "            if type in capacity_by_country[country]:\n",
    "                if value > capacity_by_country[country][type]:\n",
    "                    print('Production (%.2f) above capacity (%.2f) for type \"%s\" in country %s'\n",
    "                          % (value, capacity_by_country[country][type], type, country))"
   ]
  },
  {
   "cell_type": "markdown",
   "id": "c502c590-c8a5-4c92-a357-108409319e62",
   "metadata": {},
   "source": [
    "### Aggregation"
   ]
  },
  {
   "cell_type": "markdown",
   "id": "6b00438d-ec25-47fc-8bd3-688cd637420e",
   "metadata": {},
   "source": [
    "Aggregate production types:"
   ]
  },
  {
   "cell_type": "code",
   "execution_count": 78,
   "id": "11de29c8-a668-4fdb-9ff5-eb740125cd69",
   "metadata": {},
   "outputs": [],
   "source": [
    "entsoe_types_aggregation_map = {\n",
    "    'Fossil Brown coal/Lignite'       : 'coal',\n",
    "    'Fossil Hard coal'                : 'coal',\n",
    "    'Fossil Coal-derived gas'         : 'gas',\n",
    "    'Fossil Gas'                      : 'gas',\n",
    "    'Fossil Oil'                      : 'gas',\n",
    "    'Fossil Oil shale'                : 'gas',\n",
    "    'Waste'                           : 'gas',\n",
    "    'Fossil Peat'                     : 'coal',\n",
    "    'Hydro Pumped Storage'            : 'hydro_storage',\n",
    "    'Hydro Water Reservoir'           : 'hydro_storage',\n",
    "    'Hydro Run-of-river and poundage' : 'hydro_ror',\n",
    "    'Nuclear'                         : 'nuclear',\n",
    "    'Biomass'                         : 'other',\n",
    "    'Geothermal'                      : 'other',\n",
    "    'Marine'                          : 'other',\n",
    "    'Other'                           : 'other',\n",
    "    'Other renewable'                 : 'other',\n",
    "    'Solar'                           : 'other',\n",
    "    'Wind Offshore'                   : 'other',\n",
    "    'Wind Onshore'                    : 'other'\n",
    "}"
   ]
  },
  {
   "cell_type": "markdown",
   "id": "e65cd31f-86d4-40f1-b5bb-341e56250347",
   "metadata": {},
   "source": [
    "Check that all production types are mapped:"
   ]
  },
  {
   "cell_type": "code",
   "execution_count": 79,
   "id": "0f3200a7-b20f-4a36-a395-cc517fb63288",
   "metadata": {},
   "outputs": [],
   "source": [
    "assert set(entsoe_types_aggregation_map.keys()) == all_gen_types"
   ]
  },
  {
   "cell_type": "markdown",
   "id": "e634b204-7a17-4d96-a174-3fa87616a46c",
   "metadata": {},
   "source": [
    "Check that the mapped types are the same as the aggregated types defined above, with the exception of \"hydro\":"
   ]
  },
  {
   "cell_type": "code",
   "execution_count": 80,
   "id": "60feb8dd-b4df-4881-baae-1ce1d1c3450f",
   "metadata": {},
   "outputs": [],
   "source": [
    "assert set(entsoe_types_aggregation_map.values()) == aggregated_types - {'hydro'}"
   ]
  },
  {
   "cell_type": "markdown",
   "id": "4e258cb6-6dd7-4d8e-84f0-f03f29476629",
   "metadata": {},
   "source": [
    "Compute aggregated capacity by country:"
   ]
  },
  {
   "cell_type": "code",
   "execution_count": 81,
   "id": "62490582-9984-4f23-a0e6-43819b22c1d6",
   "metadata": {},
   "outputs": [],
   "source": [
    "aggregated_capacity_by_country = {}\n",
    "\n",
    "for country, capacity_by_type in capacity_by_country.items():\n",
    "    types = {entsoe_types_aggregation_map[t] for t in capacity_by_type.keys()}\n",
    "    \n",
    "    aggregated_capacity_by_type = {t: 0.0 for t in types}\n",
    "    for type, value in capacity_by_type.items():\n",
    "        aggregated_capacity_by_type[entsoe_types_aggregation_map[type]] += value\n",
    "\n",
    "    hydro = 0.0\n",
    "    if 'hydro_storage' in types:\n",
    "        hydro += aggregated_capacity_by_type['hydro_storage']\n",
    "    if 'hydro_ror' in types:\n",
    "        hydro += aggregated_capacity_by_type['hydro_ror']\n",
    "    if hydro > 0.0:\n",
    "        aggregated_capacity_by_type['hydro'] = hydro\n",
    "\n",
    "    aggregated_capacity_by_country[country] = aggregated_capacity_by_type"
   ]
  },
  {
   "cell_type": "code",
   "execution_count": 82,
   "id": "75a4f96b-e0de-4486-bdf9-5830ccb62163",
   "metadata": {},
   "outputs": [],
   "source": [
    "aggregated_gen_by_country = {}\n",
    "\n",
    "for country, gen_by_type in gen_by_country.items():\n",
    "    types = {entsoe_types_aggregation_map[t] for t in gen_by_type.keys()}\n",
    "    \n",
    "    aggregated_gen_by_type = {t: 0.0 for t in types}\n",
    "    for type, value in gen_by_type.items():\n",
    "        aggregated_gen_by_type[entsoe_types_aggregation_map[type]] += value\n",
    "\n",
    "    hydro = 0.0\n",
    "    if 'hydro_storage' in types:\n",
    "        hydro += aggregated_gen_by_type['hydro_storage']\n",
    "    if 'hydro_ror' in types:\n",
    "        hydro += aggregated_gen_by_type['hydro_ror']\n",
    "    if hydro > 0.0:\n",
    "        aggregated_gen_by_type['hydro'] = hydro\n",
    "\n",
    "    aggregated_gen_by_country[country] = aggregated_gen_by_type"
   ]
  },
  {
   "cell_type": "markdown",
   "id": "946220ba-b11f-4505-8ab3-8c52fabef282",
   "metadata": {},
   "source": [
    "### Capacity usage"
   ]
  },
  {
   "cell_type": "markdown",
   "id": "73d7dfe3-9804-4979-a1b7-203270ba720b",
   "metadata": {},
   "source": [
    "Compute usage:"
   ]
  },
  {
   "cell_type": "code",
   "execution_count": 83,
   "id": "e84edb21-98d9-41c8-8716-113a9fdc41a6",
   "metadata": {},
   "outputs": [],
   "source": [
    "usage_by_country = {country: {type: aggregated_gen_by_country[country][type] / value\n",
    "                              for type, value in capacity_by_type.items() if type in aggregated_gen_by_country[country]}\n",
    "                    for country, capacity_by_type in aggregated_capacity_by_country.items() if country in aggregated_gen_by_country}"
   ]
  },
  {
   "cell_type": "code",
   "execution_count": 84,
   "id": "9429b57e-6d56-4439-a4b8-209953daf13e",
   "metadata": {},
   "outputs": [],
   "source": [
    "for country, usage_by_type in usage_by_country.items():\n",
    "    for value in usage_by_type.values():\n",
    "        assert value <= 1.0"
   ]
  },
  {
   "cell_type": "code",
   "execution_count": 85,
   "id": "7654d889-4190-4c0d-8aaf-bdfb386983b6",
   "metadata": {},
   "outputs": [
    {
     "data": {
      "text/plain": [
       "{'nuclear': 0.665509906160407,\n",
       " 'hydro_ror': 0.36151283757145675,\n",
       " 'hydro_storage': 0.13382011327336737,\n",
       " 'hydro': 0.13764322941333423}"
      ]
     },
     "execution_count": 85,
     "metadata": {},
     "output_type": "execute_result"
    }
   ],
   "source": [
    "usage_by_country['CH']"
   ]
  },
  {
   "cell_type": "code",
   "execution_count": 86,
   "id": "8e5c43b9-8ee9-478c-a431-a06beca89ce8",
   "metadata": {},
   "outputs": [
    {
     "data": {
      "text/plain": [
       "{'hydro_ror': 0.49026380783062024,\n",
       " 'gas': 0.09918694074007549,\n",
       " 'coal': 0.4938703966846209,\n",
       " 'other': 0.17548570983031953,\n",
       " 'nuclear': 0.8463433163183248,\n",
       " 'hydro_storage': 0.10363800900741786,\n",
       " 'hydro': 0.21167286705071936}"
      ]
     },
     "execution_count": 86,
     "metadata": {},
     "output_type": "execute_result"
    }
   ],
   "source": [
    "usage_by_country['DE']"
   ]
  },
  {
   "cell_type": "markdown",
   "id": "e8628f83-3c3c-42fe-baec-0f5e06b228ab",
   "metadata": {},
   "source": [
    "### Sum across countries"
   ]
  },
  {
   "cell_type": "code",
   "execution_count": 87,
   "id": "bf5b9c49-b204-47c5-a468-ab516b5521fe",
   "metadata": {},
   "outputs": [
    {
     "data": {
      "text/plain": [
       "{'hydro_ror': 43677.45,\n",
       " 'gas': 192906.67,\n",
       " 'coal': 141963.96,\n",
       " 'hydro': 147369.24,\n",
       " 'nuclear': 103160.18999999999,\n",
       " 'other': 224067.88,\n",
       " 'hydro_storage': 103691.79}"
      ]
     },
     "execution_count": 87,
     "metadata": {},
     "output_type": "execute_result"
    }
   ],
   "source": [
    "total_aggregated_capacity = {type: 0.0 for type in aggregated_types}\n",
    "\n",
    "for country, capacity_by_type in aggregated_capacity_by_country.items():\n",
    "    for type, value in capacity_by_type.items():\n",
    "        total_aggregated_capacity[type] += value\n",
    "\n",
    "total_aggregated_capacity"
   ]
  },
  {
   "cell_type": "code",
   "execution_count": 88,
   "id": "99ef6d13-5eb4-4a67-ad80-daca473d4025",
   "metadata": {},
   "outputs": [
    {
     "data": {
      "text/plain": [
       "{'hydro_ror': 18266.386970728978,\n",
       " 'gas': 36266.15376996444,\n",
       " 'coal': 62853.32941117908,\n",
       " 'hydro': 32229.800626388787,\n",
       " 'nuclear': 76172.51808017504,\n",
       " 'other': 59508.86335331817,\n",
       " 'hydro_storage': 13963.413655659808}"
      ]
     },
     "execution_count": 88,
     "metadata": {},
     "output_type": "execute_result"
    }
   ],
   "source": [
    "total_aggregated_gen = {type: 0.0 for type in aggregated_types}\n",
    "\n",
    "for country, gen_by_type in aggregated_gen_by_country.items():\n",
    "    for type, value in gen_by_type.items():\n",
    "        total_aggregated_gen[type] += value\n",
    "\n",
    "total_aggregated_gen"
   ]
  },
  {
   "cell_type": "code",
   "execution_count": 89,
   "id": "737888ce-fc51-4acf-9d25-7561dd0b50dd",
   "metadata": {},
   "outputs": [
    {
     "data": {
      "text/plain": [
       "{'hydro_ror': 0.41821092968405843,\n",
       " 'gas': 0.18799844385870348,\n",
       " 'coal': 0.44274144938742965,\n",
       " 'hydro': 0.21870100318349195,\n",
       " 'nuclear': 0.7383906338305023,\n",
       " 'other': 0.26558408707806835,\n",
       " 'hydro_storage': 0.13466267344463634}"
      ]
     },
     "execution_count": 89,
     "metadata": {},
     "output_type": "execute_result"
    }
   ],
   "source": [
    "total_aggregated_usage = {type: total_aggregated_gen[type] / value for type, value in total_aggregated_capacity.items()}\n",
    "total_aggregated_usage"
   ]
  },
  {
   "cell_type": "code",
   "execution_count": 90,
   "id": "8c8469d3-57b9-4e26-a742-6fb35e49ab95",
   "metadata": {},
   "outputs": [
    {
     "data": {
      "text/plain": [
       "{'hydro_ror': 0.41821092968405843,\n",
       " 'gas': 0.18799844385870348,\n",
       " 'coal': 0.44274144938742965,\n",
       " 'hydro': 0.21870100318349195,\n",
       " 'nuclear': 0.7383906338305023,\n",
       " 'other': 0.26558408707806835,\n",
       " 'hydro_storage': 0.13466267344463634}"
      ]
     },
     "execution_count": 90,
     "metadata": {},
     "output_type": "execute_result"
    }
   ],
   "source": [
    "total_aggregated_usage = {type: total_aggregated_gen[type] / value for type, value in total_aggregated_capacity.items()}\n",
    "total_aggregated_usage"
   ]
  },
  {
   "cell_type": "markdown",
   "id": "a8c07879-c5b8-4ded-af2f-7d88d575c2c1",
   "metadata": {},
   "source": [
    "### Update the model"
   ]
  },
  {
   "cell_type": "code",
   "execution_count": 91,
   "id": "3e144219-5e71-4c83-b659-687997364939",
   "metadata": {},
   "outputs": [],
   "source": [
    "for gen in model['gen'].values():\n",
    "    usage = usage_by_country[gen['country']][gen['aggregated_type']] \\\n",
    "        if gen['country'] in usage_by_country and gen['aggregated_type'] in usage_by_country[gen['country']] \\\n",
    "        else total_aggregated_usage[gen['aggregated_type']]\n",
    "    gen['pexp'] = gen['pmax'] * usage"
   ]
  },
  {
   "cell_type": "markdown",
   "id": "c9e5e6f6-5386-4de6-8ce0-1f13b4464fa1",
   "metadata": {},
   "source": [
    "# Summary table"
   ]
  },
  {
   "cell_type": "code",
   "execution_count": 92,
   "id": "3d57d17d-c7d9-4819-a1c5-dac3e2c869de",
   "metadata": {},
   "outputs": [
    {
     "data": {
      "text/plain": [
       "{'bus': 4097,\n",
       " 'dcline': 0,\n",
       " 'gen': 815,\n",
       " 'branch': 8375,\n",
       " 'storage': 0,\n",
       " 'switch': 0,\n",
       " 'shunt': 0,\n",
       " 'load': 4097}"
      ]
     },
     "execution_count": 92,
     "metadata": {},
     "output_type": "execute_result"
    }
   ],
   "source": [
    "{key: len(values) for key, values in model.items() if isinstance(values, dict)}"
   ]
  },
  {
   "cell_type": "code",
   "execution_count": 93,
   "id": "fcc1beae-11f7-4b1f-baf5-e39e2256cc3d",
   "metadata": {},
   "outputs": [
    {
     "data": {
      "text/plain": [
       "['AL',\n",
       " 'AT',\n",
       " 'BA',\n",
       " 'BE',\n",
       " 'BG',\n",
       " 'CH',\n",
       " 'CZ',\n",
       " 'DE',\n",
       " 'DK',\n",
       " 'ES',\n",
       " 'FR',\n",
       " 'GR',\n",
       " 'HR',\n",
       " 'HU',\n",
       " 'IT',\n",
       " 'LU',\n",
       " 'ME',\n",
       " 'MK',\n",
       " 'NL',\n",
       " 'PL',\n",
       " 'PT',\n",
       " 'RO',\n",
       " 'RS',\n",
       " 'SI',\n",
       " 'SK',\n",
       " 'XX']"
      ]
     },
     "execution_count": 93,
     "metadata": {},
     "output_type": "execute_result"
    }
   ],
   "source": [
    "sorted(model_countries)"
   ]
  },
  {
   "cell_type": "code",
   "execution_count": 94,
   "id": "964560fc-dcbc-4b54-9a1c-bd56bf02909f",
   "metadata": {},
   "outputs": [
    {
     "data": {
      "text/html": [
       "<div>\n",
       "<style scoped>\n",
       "    .dataframe tbody tr th:only-of-type {\n",
       "        vertical-align: middle;\n",
       "    }\n",
       "\n",
       "    .dataframe tbody tr th {\n",
       "        vertical-align: top;\n",
       "    }\n",
       "\n",
       "    .dataframe thead th {\n",
       "        text-align: right;\n",
       "    }\n",
       "</style>\n",
       "<table border=\"1\" class=\"dataframe\">\n",
       "  <thead>\n",
       "    <tr style=\"text-align: right;\">\n",
       "      <th></th>\n",
       "      <th>nuclear</th>\n",
       "      <th>coal</th>\n",
       "      <th>gas</th>\n",
       "      <th>hydro</th>\n",
       "      <th>hydro_storage</th>\n",
       "      <th>hydro_ror</th>\n",
       "      <th>other</th>\n",
       "      <th>total</th>\n",
       "    </tr>\n",
       "  </thead>\n",
       "  <tbody>\n",
       "    <tr>\n",
       "      <th>AL</th>\n",
       "      <td></td>\n",
       "      <td></td>\n",
       "      <td>$1 \\times 19 / 100$</td>\n",
       "      <td></td>\n",
       "      <td>$4 \\times 54 / 400$</td>\n",
       "      <td>$1 \\times 209 / 500$</td>\n",
       "      <td></td>\n",
       "      <td>$\\mathbf{6 \\times 74 / 367}$</td>\n",
       "    </tr>\n",
       "    <tr>\n",
       "      <th>AT</th>\n",
       "      <td></td>\n",
       "      <td>$4 \\times 114 / 410$</td>\n",
       "      <td>$11 \\times 106 / 509$</td>\n",
       "      <td></td>\n",
       "      <td>$15 \\times 50 / 292$</td>\n",
       "      <td>$37 \\times 91 / 158$</td>\n",
       "      <td>$1 \\times 24 / 100$</td>\n",
       "      <td>$\\mathbf{68 \\times 85 / 258}$</td>\n",
       "    </tr>\n",
       "    <tr>\n",
       "      <th>BA</th>\n",
       "      <td></td>\n",
       "      <td>$4 \\times 167 / 376$</td>\n",
       "      <td></td>\n",
       "      <td></td>\n",
       "      <td></td>\n",
       "      <td>$9 \\times 75 / 180$</td>\n",
       "      <td></td>\n",
       "      <td>$\\mathbf{13 \\times 103 / 241}$</td>\n",
       "    </tr>\n",
       "    <tr>\n",
       "      <th>BE</th>\n",
       "      <td>$2 \\times 2359 / 2972$</td>\n",
       "      <td>$1 \\times 246 / 556$</td>\n",
       "      <td>$11 \\times 113 / 305$</td>\n",
       "      <td></td>\n",
       "      <td>$1 \\times 202 / 1164$</td>\n",
       "      <td></td>\n",
       "      <td>$1 \\times 47 / 170$</td>\n",
       "      <td>$\\mathbf{16 \\times 403 / 700}$</td>\n",
       "    </tr>\n",
       "    <tr>\n",
       "      <th>BG</th>\n",
       "      <td>$1 \\times 1796 / 2000$</td>\n",
       "      <td>$2 \\times 520 / 945$</td>\n",
       "      <td>$4 \\times 151 / 802$</td>\n",
       "      <td>$1 \\times 18 / 114$</td>\n",
       "      <td>$2 \\times 52 / 268$</td>\n",
       "      <td>$4 \\times 55 / 130$</td>\n",
       "      <td></td>\n",
       "      <td>$\\mathbf{14 \\times 270 / 591}$</td>\n",
       "    </tr>\n",
       "    <tr>\n",
       "      <th>CH</th>\n",
       "      <td>$4 \\times 555 / 833$</td>\n",
       "      <td></td>\n",
       "      <td></td>\n",
       "      <td></td>\n",
       "      <td>$30 \\times 36 / 272$</td>\n",
       "      <td>$2 \\times 37 / 102$</td>\n",
       "      <td></td>\n",
       "      <td>$\\mathbf{36 \\times 94 / 325}$</td>\n",
       "    </tr>\n",
       "    <tr>\n",
       "      <th>CZ</th>\n",
       "      <td>$2 \\times 1203 / 1875$</td>\n",
       "      <td>$13 \\times 239 / 501$</td>\n",
       "      <td>$1 \\times 138 / 370$</td>\n",
       "      <td></td>\n",
       "      <td>$2 \\times 79 / 550$</td>\n",
       "      <td>$2 \\times 69 / 246$</td>\n",
       "      <td></td>\n",
       "      <td>$\\mathbf{20 \\times 297 / 611}$</td>\n",
       "    </tr>\n",
       "    <tr>\n",
       "      <th>DE</th>\n",
       "      <td>$9 \\times 1135 / 1341$</td>\n",
       "      <td>$46 \\times 532 / 1077$</td>\n",
       "      <td>$26 \\times 48 / 481$</td>\n",
       "      <td>$1 \\times 11 / 50$</td>\n",
       "      <td>$17 \\times 50 / 481$</td>\n",
       "      <td></td>\n",
       "      <td>$2 \\times 73 / 416$</td>\n",
       "      <td>$\\mathbf{101 \\times 365 / 823}$</td>\n",
       "    </tr>\n",
       "    <tr>\n",
       "      <th>DK</th>\n",
       "      <td></td>\n",
       "      <td>$3 \\times 86 / 382$</td>\n",
       "      <td>$7 \\times 70 / 455$</td>\n",
       "      <td></td>\n",
       "      <td></td>\n",
       "      <td></td>\n",
       "      <td>$1 \\times 23 / 88$</td>\n",
       "      <td>$\\mathbf{11 \\times 70 / 402}$</td>\n",
       "    </tr>\n",
       "    <tr>\n",
       "      <th>ES</th>\n",
       "      <td>$2 \\times 1367 / 1623$</td>\n",
       "      <td>$3 \\times 271 / 641$</td>\n",
       "      <td>$3 \\times 150 / 845$</td>\n",
       "      <td>$29 \\times 33 / 195$</td>\n",
       "      <td></td>\n",
       "      <td>$14 \\times 305 / 345$</td>\n",
       "      <td>$10 \\times 170 / 707$</td>\n",
       "      <td>$\\mathbf{61 \\times 179 / 414}$</td>\n",
       "    </tr>\n",
       "    <tr>\n",
       "      <th>FR</th>\n",
       "      <td>$19 \\times 2293 / 3323$</td>\n",
       "      <td>$1 \\times 249 / 810$</td>\n",
       "      <td>$22 \\times 280 / 740$</td>\n",
       "      <td>$4 \\times 20 / 61$</td>\n",
       "      <td>$5 \\times 130 / 618$</td>\n",
       "      <td>$64 \\times 87 / 187$</td>\n",
       "      <td>$1 \\times 89 / 561$</td>\n",
       "      <td>$\\mathbf{116 \\times 486 / 828}$</td>\n",
       "    </tr>\n",
       "    <tr>\n",
       "      <th>GR</th>\n",
       "      <td></td>\n",
       "      <td>$7 \\times 327 / 740$</td>\n",
       "      <td>$14 \\times 149 / 499$</td>\n",
       "      <td>$2 \\times 35 / 160$</td>\n",
       "      <td>$13 \\times 29 / 218$</td>\n",
       "      <td></td>\n",
       "      <td></td>\n",
       "      <td>$\\mathbf{36 \\times 134 / 425}$</td>\n",
       "    </tr>\n",
       "    <tr>\n",
       "      <th>HR</th>\n",
       "      <td></td>\n",
       "      <td>$1 \\times 128 / 290$</td>\n",
       "      <td>$3 \\times 57 / 305$</td>\n",
       "      <td>$2 \\times 17 / 76$</td>\n",
       "      <td>$5 \\times 35 / 259$</td>\n",
       "      <td>$2 \\times 33 / 80$</td>\n",
       "      <td>$1 \\times 80 / 300$</td>\n",
       "      <td>$\\mathbf{14 \\times 47 / 222}$</td>\n",
       "    </tr>\n",
       "    <tr>\n",
       "      <th>HU</th>\n",
       "      <td>$1 \\times 1728 / 1892$</td>\n",
       "      <td>$4 \\times 90 / 151$</td>\n",
       "      <td>$14 \\times 51 / 364$</td>\n",
       "      <td></td>\n",
       "      <td></td>\n",
       "      <td></td>\n",
       "      <td></td>\n",
       "      <td>$\\mathbf{19 \\times 147 / 399}$</td>\n",
       "    </tr>\n",
       "    <tr>\n",
       "      <th>IT</th>\n",
       "      <td></td>\n",
       "      <td>$7 \\times 242 / 1677$</td>\n",
       "      <td>$47 \\times 169 / 1057$</td>\n",
       "      <td>$1 \\times 17 / 83$</td>\n",
       "      <td>$13 \\times 21 / 224$</td>\n",
       "      <td>$9 \\times 274 / 808$</td>\n",
       "      <td>$2 \\times 114 / 132$</td>\n",
       "      <td>$\\mathbf{79 \\times 160 / 911}$</td>\n",
       "    </tr>\n",
       "    <tr>\n",
       "      <th>LU</th>\n",
       "      <td></td>\n",
       "      <td></td>\n",
       "      <td>$1 \\times 159 / 385$</td>\n",
       "      <td></td>\n",
       "      <td>$1 \\times 197 / 1096$</td>\n",
       "      <td></td>\n",
       "      <td></td>\n",
       "      <td>$\\mathbf{2 \\times 178 / 740}$</td>\n",
       "    </tr>\n",
       "    <tr>\n",
       "      <th>ME</th>\n",
       "      <td></td>\n",
       "      <td></td>\n",
       "      <td></td>\n",
       "      <td></td>\n",
       "      <td>$1 \\times 47 / 342$</td>\n",
       "      <td>$1 \\times 128 / 307$</td>\n",
       "      <td>$1 \\times 58 / 220$</td>\n",
       "      <td>$\\mathbf{3 \\times 78 / 290}$</td>\n",
       "    </tr>\n",
       "    <tr>\n",
       "      <th>MK</th>\n",
       "      <td></td>\n",
       "      <td>$2 \\times 120 / 359$</td>\n",
       "      <td>$2 \\times 43 / 220$</td>\n",
       "      <td></td>\n",
       "      <td></td>\n",
       "      <td>$4 \\times 43 / 104$</td>\n",
       "      <td></td>\n",
       "      <td>$\\mathbf{8 \\times 63 / 196}$</td>\n",
       "    </tr>\n",
       "    <tr>\n",
       "      <th>NL</th>\n",
       "      <td>$1 \\times 425 / 484$</td>\n",
       "      <td>$7 \\times 584 / 750$</td>\n",
       "      <td>$17 \\times 111 / 545$</td>\n",
       "      <td></td>\n",
       "      <td></td>\n",
       "      <td></td>\n",
       "      <td></td>\n",
       "      <td>$\\mathbf{25 \\times 256 / 600}$</td>\n",
       "    </tr>\n",
       "    <tr>\n",
       "      <th>PL</th>\n",
       "      <td></td>\n",
       "      <td>$28 \\times 451 / 828$</td>\n",
       "      <td>$7 \\times 104 / 237$</td>\n",
       "      <td></td>\n",
       "      <td>$4 \\times 18 / 378$</td>\n",
       "      <td>$1 \\times 70 / 156$</td>\n",
       "      <td>$3 \\times 17 / 74$</td>\n",
       "      <td>$\\mathbf{43 \\times 315 / 622}$</td>\n",
       "    </tr>\n",
       "    <tr>\n",
       "      <th>PT</th>\n",
       "      <td></td>\n",
       "      <td>$2 \\times 668 / 878$</td>\n",
       "      <td>$5 \\times 221 / 776$</td>\n",
       "      <td></td>\n",
       "      <td>$17 \\times 52 / 260$</td>\n",
       "      <td>$11 \\times 75 / 198$</td>\n",
       "      <td>$4 \\times 21 / 70$</td>\n",
       "      <td>$\\mathbf{39 \\times 109 / 321}$</td>\n",
       "    </tr>\n",
       "    <tr>\n",
       "      <th>RO</th>\n",
       "      <td>$1 \\times 1395 / 1410$</td>\n",
       "      <td>$11 \\times 144 / 460$</td>\n",
       "      <td>$9 \\times 81 / 361$</td>\n",
       "      <td></td>\n",
       "      <td></td>\n",
       "      <td>$23 \\times 108 / 222$</td>\n",
       "      <td>$1 \\times 87 / 408$</td>\n",
       "      <td>$\\mathbf{45 \\times 140 / 338}$</td>\n",
       "    </tr>\n",
       "    <tr>\n",
       "      <th>RS</th>\n",
       "      <td></td>\n",
       "      <td>$8 \\times 286 / 646$</td>\n",
       "      <td>$2 \\times 29 / 154$</td>\n",
       "      <td></td>\n",
       "      <td>$2 \\times 73 / 540$</td>\n",
       "      <td>$2 \\times 236 / 566$</td>\n",
       "      <td></td>\n",
       "      <td>$\\mathbf{14 \\times 212 / 549}$</td>\n",
       "    </tr>\n",
       "    <tr>\n",
       "      <th>SI</th>\n",
       "      <td>$1 \\times 618 / 696$</td>\n",
       "      <td>$2 \\times 78 / 140$</td>\n",
       "      <td>$1 \\times 26 / 312$</td>\n",
       "      <td></td>\n",
       "      <td></td>\n",
       "      <td>$6 \\times 36 / 76$</td>\n",
       "      <td></td>\n",
       "      <td>$\\mathbf{10 \\times 101 / 174}$</td>\n",
       "    </tr>\n",
       "    <tr>\n",
       "      <th>SK</th>\n",
       "      <td>$2 \\times 840 / 970$</td>\n",
       "      <td>$3 \\times 159 / 360$</td>\n",
       "      <td>$2 \\times 39 / 324$</td>\n",
       "      <td>$3 \\times 14 / 72$</td>\n",
       "      <td>$2 \\times 15 / 414$</td>\n",
       "      <td>$1 \\times 285 / 747$</td>\n",
       "      <td></td>\n",
       "      <td>$\\mathbf{13 \\times 199 / 420}$</td>\n",
       "    </tr>\n",
       "    <tr>\n",
       "      <th>XX</th>\n",
       "      <td></td>\n",
       "      <td></td>\n",
       "      <td>$3 \\times 88 / 468$</td>\n",
       "      <td></td>\n",
       "      <td></td>\n",
       "      <td></td>\n",
       "      <td></td>\n",
       "      <td>$\\mathbf{3 \\times 88 / 468}$</td>\n",
       "    </tr>\n",
       "    <tr>\n",
       "      <th>total</th>\n",
       "      <td>$\\mathbf{45 \\times 1634 / 2220}$</td>\n",
       "      <td>$\\mathbf{159 \\times 368 / 791}$</td>\n",
       "      <td>$\\mathbf{213 \\times 129 / 617}$</td>\n",
       "      <td>$\\mathbf{43 \\times 29 / 159}$</td>\n",
       "      <td>$\\mathbf{134 \\times 46 / 332}$</td>\n",
       "      <td>$\\mathbf{193 \\times 113 / 228}$</td>\n",
       "      <td>$\\mathbf{28 \\times 94 / 376}$</td>\n",
       "      <td>$\\mathbf{815 \\times 235 / 568}$</td>\n",
       "    </tr>\n",
       "  </tbody>\n",
       "</table>\n",
       "</div>"
      ],
      "text/plain": [
       "                                nuclear                             coal  \\\n",
       "AL                                                                         \n",
       "AT                                                  $4 \\times 114 / 410$   \n",
       "BA                                                  $4 \\times 167 / 376$   \n",
       "BE               $2 \\times 2359 / 2972$             $1 \\times 246 / 556$   \n",
       "BG               $1 \\times 1796 / 2000$             $2 \\times 520 / 945$   \n",
       "CH                 $4 \\times 555 / 833$                                    \n",
       "CZ               $2 \\times 1203 / 1875$            $13 \\times 239 / 501$   \n",
       "DE               $9 \\times 1135 / 1341$           $46 \\times 532 / 1077$   \n",
       "DK                                                   $3 \\times 86 / 382$   \n",
       "ES               $2 \\times 1367 / 1623$             $3 \\times 271 / 641$   \n",
       "FR              $19 \\times 2293 / 3323$             $1 \\times 249 / 810$   \n",
       "GR                                                  $7 \\times 327 / 740$   \n",
       "HR                                                  $1 \\times 128 / 290$   \n",
       "HU               $1 \\times 1728 / 1892$              $4 \\times 90 / 151$   \n",
       "IT                                                 $7 \\times 242 / 1677$   \n",
       "LU                                                                         \n",
       "ME                                                                         \n",
       "MK                                                  $2 \\times 120 / 359$   \n",
       "NL                 $1 \\times 425 / 484$             $7 \\times 584 / 750$   \n",
       "PL                                                 $28 \\times 451 / 828$   \n",
       "PT                                                  $2 \\times 668 / 878$   \n",
       "RO               $1 \\times 1395 / 1410$            $11 \\times 144 / 460$   \n",
       "RS                                                  $8 \\times 286 / 646$   \n",
       "SI                 $1 \\times 618 / 696$              $2 \\times 78 / 140$   \n",
       "SK                 $2 \\times 840 / 970$             $3 \\times 159 / 360$   \n",
       "XX                                                                         \n",
       "total  $\\mathbf{45 \\times 1634 / 2220}$  $\\mathbf{159 \\times 368 / 791}$   \n",
       "\n",
       "                                   gas                          hydro  \\\n",
       "AL                 $1 \\times 19 / 100$                                  \n",
       "AT               $11 \\times 106 / 509$                                  \n",
       "BA                                                                      \n",
       "BE               $11 \\times 113 / 305$                                  \n",
       "BG                $4 \\times 151 / 802$            $1 \\times 18 / 114$   \n",
       "CH                                                                      \n",
       "CZ                $1 \\times 138 / 370$                                  \n",
       "DE                $26 \\times 48 / 481$             $1 \\times 11 / 50$   \n",
       "DK                 $7 \\times 70 / 455$                                  \n",
       "ES                $3 \\times 150 / 845$           $29 \\times 33 / 195$   \n",
       "FR               $22 \\times 280 / 740$             $4 \\times 20 / 61$   \n",
       "GR               $14 \\times 149 / 499$            $2 \\times 35 / 160$   \n",
       "HR                 $3 \\times 57 / 305$             $2 \\times 17 / 76$   \n",
       "HU                $14 \\times 51 / 364$                                  \n",
       "IT              $47 \\times 169 / 1057$             $1 \\times 17 / 83$   \n",
       "LU                $1 \\times 159 / 385$                                  \n",
       "ME                                                                      \n",
       "MK                 $2 \\times 43 / 220$                                  \n",
       "NL               $17 \\times 111 / 545$                                  \n",
       "PL                $7 \\times 104 / 237$                                  \n",
       "PT                $5 \\times 221 / 776$                                  \n",
       "RO                 $9 \\times 81 / 361$                                  \n",
       "RS                 $2 \\times 29 / 154$                                  \n",
       "SI                 $1 \\times 26 / 312$                                  \n",
       "SK                 $2 \\times 39 / 324$             $3 \\times 14 / 72$   \n",
       "XX                 $3 \\times 88 / 468$                                  \n",
       "total  $\\mathbf{213 \\times 129 / 617}$  $\\mathbf{43 \\times 29 / 159}$   \n",
       "\n",
       "                        hydro_storage                        hydro_ror  \\\n",
       "AL                $4 \\times 54 / 400$             $1 \\times 209 / 500$   \n",
       "AT               $15 \\times 50 / 292$             $37 \\times 91 / 158$   \n",
       "BA                                                 $9 \\times 75 / 180$   \n",
       "BE              $1 \\times 202 / 1164$                                    \n",
       "BG                $2 \\times 52 / 268$              $4 \\times 55 / 130$   \n",
       "CH               $30 \\times 36 / 272$              $2 \\times 37 / 102$   \n",
       "CZ                $2 \\times 79 / 550$              $2 \\times 69 / 246$   \n",
       "DE               $17 \\times 50 / 481$                                    \n",
       "DK                                                                       \n",
       "ES                                               $14 \\times 305 / 345$   \n",
       "FR               $5 \\times 130 / 618$             $64 \\times 87 / 187$   \n",
       "GR               $13 \\times 29 / 218$                                    \n",
       "HR                $5 \\times 35 / 259$               $2 \\times 33 / 80$   \n",
       "HU                                                                       \n",
       "IT               $13 \\times 21 / 224$             $9 \\times 274 / 808$   \n",
       "LU              $1 \\times 197 / 1096$                                    \n",
       "ME                $1 \\times 47 / 342$             $1 \\times 128 / 307$   \n",
       "MK                                                 $4 \\times 43 / 104$   \n",
       "NL                                                                       \n",
       "PL                $4 \\times 18 / 378$              $1 \\times 70 / 156$   \n",
       "PT               $17 \\times 52 / 260$             $11 \\times 75 / 198$   \n",
       "RO                                               $23 \\times 108 / 222$   \n",
       "RS                $2 \\times 73 / 540$             $2 \\times 236 / 566$   \n",
       "SI                                                  $6 \\times 36 / 76$   \n",
       "SK                $2 \\times 15 / 414$             $1 \\times 285 / 747$   \n",
       "XX                                                                       \n",
       "total  $\\mathbf{134 \\times 46 / 332}$  $\\mathbf{193 \\times 113 / 228}$   \n",
       "\n",
       "                               other                            total  \n",
       "AL                                       $\\mathbf{6 \\times 74 / 367}$  \n",
       "AT               $1 \\times 24 / 100$    $\\mathbf{68 \\times 85 / 258}$  \n",
       "BA                                     $\\mathbf{13 \\times 103 / 241}$  \n",
       "BE               $1 \\times 47 / 170$   $\\mathbf{16 \\times 403 / 700}$  \n",
       "BG                                     $\\mathbf{14 \\times 270 / 591}$  \n",
       "CH                                      $\\mathbf{36 \\times 94 / 325}$  \n",
       "CZ                                     $\\mathbf{20 \\times 297 / 611}$  \n",
       "DE               $2 \\times 73 / 416$  $\\mathbf{101 \\times 365 / 823}$  \n",
       "DK                $1 \\times 23 / 88$    $\\mathbf{11 \\times 70 / 402}$  \n",
       "ES             $10 \\times 170 / 707$   $\\mathbf{61 \\times 179 / 414}$  \n",
       "FR               $1 \\times 89 / 561$  $\\mathbf{116 \\times 486 / 828}$  \n",
       "GR                                     $\\mathbf{36 \\times 134 / 425}$  \n",
       "HR               $1 \\times 80 / 300$    $\\mathbf{14 \\times 47 / 222}$  \n",
       "HU                                     $\\mathbf{19 \\times 147 / 399}$  \n",
       "IT              $2 \\times 114 / 132$   $\\mathbf{79 \\times 160 / 911}$  \n",
       "LU                                      $\\mathbf{2 \\times 178 / 740}$  \n",
       "ME               $1 \\times 58 / 220$     $\\mathbf{3 \\times 78 / 290}$  \n",
       "MK                                       $\\mathbf{8 \\times 63 / 196}$  \n",
       "NL                                     $\\mathbf{25 \\times 256 / 600}$  \n",
       "PL                $3 \\times 17 / 74$   $\\mathbf{43 \\times 315 / 622}$  \n",
       "PT                $4 \\times 21 / 70$   $\\mathbf{39 \\times 109 / 321}$  \n",
       "RO               $1 \\times 87 / 408$   $\\mathbf{45 \\times 140 / 338}$  \n",
       "RS                                     $\\mathbf{14 \\times 212 / 549}$  \n",
       "SI                                     $\\mathbf{10 \\times 101 / 174}$  \n",
       "SK                                     $\\mathbf{13 \\times 199 / 420}$  \n",
       "XX                                       $\\mathbf{3 \\times 88 / 468}$  \n",
       "total  $\\mathbf{28 \\times 94 / 376}$  $\\mathbf{815 \\times 235 / 568}$  "
      ]
     },
     "execution_count": 94,
     "metadata": {},
     "output_type": "execute_result"
    }
   ],
   "source": [
    "gen_summary_values = {country: {type: [0, 0, 0] for type in ['nuclear', 'coal', 'gas', 'hydro_storage', 'hydro_ror', 'hydro', 'other']}\n",
    "                      for country in sorted(model_countries)}\n",
    "\n",
    "for gen in model['gen'].values():\n",
    "    country = gen['country']\n",
    "    type = gen['aggregated_type']\n",
    "    gen_summary_values[country][type][0] += 1\n",
    "    gen_summary_values[country][type][1] += 100 * gen['pexp']\n",
    "    gen_summary_values[country][type][2] += 100 * gen['pmax']\n",
    "\n",
    "gen_summary_total = {type: [0, 0, 0] for type in ['nuclear', 'coal', 'gas', 'hydro_storage', 'hydro_ror', 'hydro', 'other']}\n",
    "\n",
    "for country, gen_summary_by_country in gen_summary_values.items():\n",
    "    for type, gen_summary_by_type in gen_summary_by_country.items():\n",
    "        gen_summary_total[type][0] += gen_summary_by_type[0]\n",
    "        gen_summary_total[type][1] += gen_summary_by_type[1]\n",
    "        gen_summary_total[type][2] += gen_summary_by_type[2]\n",
    "\n",
    "gen_summary_values['total'] = gen_summary_total\n",
    "\n",
    "\n",
    "gen_summary = {country: {type: \"\" for type in ['nuclear', 'coal', 'gas', 'hydro', 'hydro_storage', 'hydro_ror', 'other', 'total']}\n",
    "               for country in sorted(model_countries) + ['total']}\n",
    "\n",
    "for country, gen_summary_by_country in gen_summary_values.items():\n",
    "    for type, gen_summary_by_type in gen_summary_by_country.items():\n",
    "        if gen_summary_by_type[0] > 0:\n",
    "            text = \"%d \\times %d / %d\" % \\\n",
    "                (gen_summary_by_type[0],\n",
    "                int(round(gen_summary_by_type[1] / gen_summary_by_type[0])),\n",
    "                int(round(gen_summary_by_type[2] / gen_summary_by_type[0])))\n",
    "            gen_summary[country][type] = \"$\\mathbf{%s}$\" % text if country == 'total' else \"$%s$\" % text\n",
    "    n = sum(gen_summary_by_type[0] for gen_summary_by_type in gen_summary_by_country.values())\n",
    "    pexp = sum(gen_summary_by_type[1] for gen_summary_by_type in gen_summary_by_country.values())\n",
    "    pmax = sum(gen_summary_by_type[2] for gen_summary_by_type in gen_summary_by_country.values())\n",
    "    gen_summary[country]['total'] = \"$\\mathbf{%d \\times %d / %d}$\" % (n, int(round(pexp / n)), int(round(pmax / n)))\n",
    "\n",
    "gen_summary_df = pd.DataFrame(gen_summary).T\n",
    "gen_summary_df"
   ]
  },
  {
   "cell_type": "code",
   "execution_count": 95,
   "id": "4937a38b-97ab-4315-b5dc-d2b1478ac429",
   "metadata": {},
   "outputs": [],
   "source": [
    "# gen_summary_df.index = [\"\\textbf{%s}\" % country if country != 'XX' else 'TR' for country in gen_summary_df.index]\n",
    "# gen_summary_df.to_latex()"
   ]
  },
  {
   "cell_type": "markdown",
   "id": "0b2023ec-2311-4b12-8bb4-3a06ef0f8f28",
   "metadata": {},
   "source": [
    "# Export improved model"
   ]
  },
  {
   "cell_type": "code",
   "execution_count": 96,
   "id": "3d8423b1-3bee-4013-992a-f998b2b8aa98",
   "metadata": {},
   "outputs": [],
   "source": [
    "model['name'] = 'europe'"
   ]
  },
  {
   "cell_type": "markdown",
   "id": "406ec296-b565-40c7-9220-4370ad23b71b",
   "metadata": {},
   "source": [
    "Export:"
   ]
  },
  {
   "cell_type": "code",
   "execution_count": null,
   "id": "4bbcdae5-e8af-458f-aad2-f841016672c3",
   "metadata": {},
   "outputs": [],
   "source": [
    "model_json = json.dumps(model)\n",
    "with open('../europe.json', 'w') as f:\n",
    "    f.write(model_json)"
   ]
  }
 ],
 "metadata": {
  "kernelspec": {
   "display_name": "Python 3 (ipykernel)",
   "language": "python",
   "name": "python3"
  },
  "language_info": {
   "codemirror_mode": {
    "name": "ipython",
    "version": 3
   },
   "file_extension": ".py",
   "mimetype": "text/x-python",
   "name": "python",
   "nbconvert_exporter": "python",
   "pygments_lexer": "ipython3",
   "version": "3.11.6"
  }
 },
 "nbformat": 4,
 "nbformat_minor": 5
}
