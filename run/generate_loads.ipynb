{
 "cells": [
  {
   "cell_type": "markdown",
   "id": "1f10caf4-b984-48dc-a79b-76b5bf5da76d",
   "metadata": {},
   "source": [
    "# Generate synthetic load series"
   ]
  },
  {
   "cell_type": "markdown",
   "id": "98f2faca-ffe7-4afd-979c-86abc69d11e4",
   "metadata": {},
   "source": [
    "This notebook generates synthetic time series for the ~4000 nodes of the European model."
   ]
  },
  {
   "cell_type": "code",
   "execution_count": 1,
   "id": "fa1974e2-c8e5-4c28-9401-3cc87bbdf7d2",
   "metadata": {},
   "outputs": [],
   "source": [
    "import os, sys\n",
    "sys.path.append('../TimeSeries/')\n",
    "\n",
    "import time_series as ts"
   ]
  },
  {
   "cell_type": "code",
   "execution_count": 2,
   "id": "6d364271-d2ac-4d8e-a794-9188446207a9",
   "metadata": {},
   "outputs": [],
   "source": [
    "import json\n",
    "import pandas as pd\n",
    "import numpy as np\n",
    "import matplotlib.pyplot as plt"
   ]
  },
  {
   "cell_type": "markdown",
   "id": "05d86ee5-6fa9-4967-8e37-6e1ab50b0a7c",
   "metadata": {},
   "source": [
    "### Get a list of loads by country "
   ]
  },
  {
   "cell_type": "markdown",
   "id": "703ed9b8-f654-41be-a1a0-dc3664cc4a47",
   "metadata": {},
   "source": [
    "Import the network file:"
   ]
  },
  {
   "cell_type": "code",
   "execution_count": 3,
   "id": "a8e9b1d4-9469-40ff-ba5e-06784634b8ff",
   "metadata": {},
   "outputs": [],
   "source": [
    "with open('../models/europe.json') as f:\n",
    "    network = json.load(f)"
   ]
  },
  {
   "cell_type": "markdown",
   "id": "b3c2cb91-ec81-4446-97bf-fce64625c62b",
   "metadata": {},
   "source": [
    "Get a list of all the load IDs:"
   ]
  },
  {
   "cell_type": "code",
   "execution_count": 4,
   "id": "e5053a58-f861-474f-a896-89418635c6c2",
   "metadata": {},
   "outputs": [
    {
     "data": {
      "text/plain": [
       "4097"
      ]
     },
     "execution_count": 4,
     "metadata": {},
     "output_type": "execute_result"
    }
   ],
   "source": [
    "load_ids = [int(id) for id in network['load'].keys()]\n",
    "load_ids.sort()\n",
    "\n",
    "n_loads = len(load_ids)\n",
    "n_loads"
   ]
  },
  {
   "cell_type": "markdown",
   "id": "7010fd06-aee3-45fc-bcdb-5d3da92168e9",
   "metadata": {},
   "source": [
    "For each load, determine the country of the attached bus:"
   ]
  },
  {
   "cell_type": "code",
   "execution_count": 5,
   "id": "d33fe74e-34a7-42aa-a914-d82dc1f4ea65",
   "metadata": {},
   "outputs": [],
   "source": [
    "load_countries = [network['bus'][str(network['load'][str(id)]['load_bus'])]['country'] for id in load_ids]"
   ]
  },
  {
   "cell_type": "markdown",
   "id": "301f2633-07e3-4cbc-82bf-b79047d1e0ac",
   "metadata": {},
   "source": [
    "The number of loads in each country is determined as follows:"
   ]
  },
  {
   "cell_type": "code",
   "execution_count": 6,
   "id": "da4c072d-9be0-4926-a3bd-d723e20e3976",
   "metadata": {},
   "outputs": [
    {
     "data": {
      "text/plain": [
       "26"
      ]
     },
     "execution_count": 6,
     "metadata": {},
     "output_type": "execute_result"
    }
   ],
   "source": [
    "countries = set(load_countries)\n",
    "len(countries)"
   ]
  },
  {
   "cell_type": "code",
   "execution_count": 7,
   "id": "3bcb2d17-9fc9-4c77-8792-4c0da394a508",
   "metadata": {},
   "outputs": [
    {
     "data": {
      "text/plain": [
       "ES    908\n",
       "FR    865\n",
       "DE    560\n",
       "IT    324\n",
       "PL    188\n",
       "DK    182\n",
       "CH    163\n",
       "PT    146\n",
       "RO    124\n",
       "AT     78\n",
       "CZ     71\n",
       "BG     64\n",
       "RS     53\n",
       "BE     50\n",
       "HU     47\n",
       "SK     43\n",
       "GR     38\n",
       "NL     38\n",
       "BA     35\n",
       "AL     30\n",
       "HR     28\n",
       "SI     15\n",
       "XX     13\n",
       "MK     12\n",
       "LU     12\n",
       "ME     10\n",
       "Name: count, dtype: int64"
      ]
     },
     "execution_count": 7,
     "metadata": {},
     "output_type": "execute_result"
    }
   ],
   "source": [
    "load_count_by_country = pd.Series(load_countries).value_counts()\n",
    "load_count_by_country"
   ]
  },
  {
   "cell_type": "markdown",
   "id": "f68df024-273d-41c8-b6ed-cb02bc191c2c",
   "metadata": {},
   "source": [
    "### Assign a unique label to each load"
   ]
  },
  {
   "cell_type": "markdown",
   "id": "86214bab-9e58-4897-b932-4bc8ae4da8e5",
   "metadata": {},
   "source": [
    "For each load of the model, assign a label that is unique for the country:"
   ]
  },
  {
   "cell_type": "code",
   "execution_count": 8,
   "id": "9cfde075-c931-41cf-8bad-c4806fb3f515",
   "metadata": {},
   "outputs": [],
   "source": [
    "country_label_count = {country: 0 for country in countries}\n",
    "load_labels = []\n",
    "for country in load_countries:\n",
    "    load_labels.append(country_label_count[country])\n",
    "    country_label_count[country] += 1"
   ]
  },
  {
   "cell_type": "markdown",
   "id": "377a54af-3943-42dc-ba8d-b7e480e2529a",
   "metadata": {},
   "source": [
    "### Use ENTSO-E models for synthetic time series"
   ]
  },
  {
   "cell_type": "markdown",
   "id": "899c16ee-454a-49c0-9544-bffe7cda6b9e",
   "metadata": {},
   "source": [
    "We make use of the ENTSO-E models stored in the directory `../TimeSeries/models/`:\n",
    "\n",
    "**Remark**: There are 2 countries (AL and MK) that do not have a statistical model, as well as a few loads that are not categorized in a country (XX). For all of these we use the Bulgarian load model (BG)."
   ]
  },
  {
   "cell_type": "code",
   "execution_count": 9,
   "id": "98455211-3f00-4cde-b1a5-497b63c1d570",
   "metadata": {},
   "outputs": [],
   "source": [
    "def find_entsoe_model_file(country):\n",
    "    for start_year in range(2015, 2020):\n",
    "        candidate_filename = '../TimeSeries/models/entsoe_load_%s_%d_2023.npz' % (country, start_year)\n",
    "        if os.path.isfile(candidate_filename):\n",
    "            return candidate_filename\n",
    "    # if no model file is found, use Bulgaria as a reference (due to geographical proximity)\n",
    "    print('No model file found for country \"%s\": use \"BG\" instead' % country)\n",
    "    return find_entsoe_model_file('BG')"
   ]
  },
  {
   "cell_type": "code",
   "execution_count": 10,
   "id": "66c47479-067f-409f-9974-faf663a9e65a",
   "metadata": {},
   "outputs": [
    {
     "name": "stdout",
     "output_type": "stream",
     "text": [
      "No model file found for country \"MK\": use \"BG\" instead\n",
      "No model file found for country \"XX\": use \"BG\" instead\n",
      "No model file found for country \"AL\": use \"BG\" instead\n"
     ]
    }
   ],
   "source": [
    "model_file_by_country = {country: find_entsoe_model_file(country) for country in countries}"
   ]
  },
  {
   "cell_type": "markdown",
   "id": "b86109b2-0dbf-40dc-910d-31919509c565",
   "metadata": {},
   "source": [
    "### Adjust correlations"
   ]
  },
  {
   "cell_type": "markdown",
   "id": "f3cdc83f-46f5-42b7-a0d7-b444e19613c5",
   "metadata": {},
   "source": [
    "The standard deviation can be adjusted to get a desired correlation between time series. For instance, to get correlations of 0.8 on average, we should use the following list of standard deviations:"
   ]
  },
  {
   "cell_type": "code",
   "execution_count": 11,
   "id": "577d72d4-b8a1-4a22-bc2c-2db00a62caef",
   "metadata": {},
   "outputs": [
    {
     "data": {
      "text/plain": [
       "{'CZ': 1.748160617806918,\n",
       " 'GR': 1.1299421717925708,\n",
       " 'ES': 1.4632356299733178,\n",
       " 'PL': 1.6355625399788383,\n",
       " 'NL': 1.1038067190364462,\n",
       " 'DK': 1.7790637378411591,\n",
       " 'RO': 1.4331553640898647,\n",
       " 'RS': 1.3578894050014643,\n",
       " 'IT': 1.6960438975390633,\n",
       " 'SK': 1.3308017304387127,\n",
       " 'LU': 0.7251243477409871,\n",
       " 'CH': 1.0281664925060878,\n",
       " 'PT': 1.6254526856473668,\n",
       " 'MK': 1.3038033021007334,\n",
       " 'DE': 1.885284662635579,\n",
       " 'HR': 1.4867082952898218,\n",
       " 'AT': 1.5007183743148915,\n",
       " 'BG': 1.3038033021007334,\n",
       " 'BA': 0.5409517613733824,\n",
       " 'SI': 1.2614872637148347,\n",
       " 'BE': 1.527461240893735,\n",
       " 'XX': 1.3038033021007334,\n",
       " 'FR': 1.3927514314741773,\n",
       " 'AL': 1.3038033021007334,\n",
       " 'ME': 1.0480354492758799,\n",
       " 'HU': 1.1820838473031763}"
      ]
     },
     "execution_count": 11,
     "metadata": {},
     "output_type": "execute_result"
    }
   ],
   "source": [
    "std_scaling_by_country = {country: ts.get_optimal_std_scaling(ts.import_model(model_file_by_country[country]), 0.8)\n",
    "                          for country in countries}\n",
    "std_scaling_by_country"
   ]
  },
  {
   "cell_type": "markdown",
   "id": "8ef22a10-1465-4829-bb5a-df4d0559cde4",
   "metadata": {},
   "source": [
    "### Generate time series for each country"
   ]
  },
  {
   "cell_type": "markdown",
   "id": "cb1389f3-5b6e-451f-815f-0a06e93a665c",
   "metadata": {},
   "source": [
    "For each country, we generate the corresponding number of synthetic time series based on the ENTSO-E models.\n",
    "\n",
    "Only one time step per hour is kept."
   ]
  },
  {
   "cell_type": "code",
   "execution_count": 12,
   "id": "e901adc6-74af-44c0-9a3e-a47b36946841",
   "metadata": {},
   "outputs": [],
   "source": [
    "def generate_time_series(country, count):\n",
    "    model = ts.import_model(model_file_by_country[country])\n",
    "    time_series = ts.generate_time_series(model, count, std_scaling=std_scaling_by_country[country], normalize=True)\n",
    "    timesteps_per_day = time_series.shape[1] / (24 * 364)\n",
    "    return time_series.reshape(count, 364*24, -1)[:, :, 0]"
   ]
  },
  {
   "cell_type": "code",
   "execution_count": 13,
   "id": "98887fac-a7cf-42e6-a695-f011b16a065e",
   "metadata": {},
   "outputs": [],
   "source": [
    "loads_by_country = {country: generate_time_series(country, count) for country, count in load_count_by_country.items()}"
   ]
  },
  {
   "cell_type": "markdown",
   "id": "6d41dd20-f993-447c-98b0-e14951a9f343",
   "metadata": {},
   "source": [
    "### Verify correlations"
   ]
  },
  {
   "cell_type": "markdown",
   "id": "1a6e30e4-cfe8-4c46-a3f4-d3b4dc2e91bf",
   "metadata": {},
   "source": [
    "Check that all pairs of series in every country are now correlated with the same distribution:"
   ]
  },
  {
   "cell_type": "code",
   "execution_count": 14,
   "id": "8adc3a00-8d10-4c5e-968d-a795b83290c6",
   "metadata": {},
   "outputs": [
    {
     "data": {
      "image/png": "[encoded data removed]",
      "text/plain": [
       "<Figure size 640x480 with 1 Axes>"
      ]
     },
     "metadata": {},
     "output_type": "display_data"
    }
   ],
   "source": [
    "for country, time_series in loads_by_country.items():\n",
    "    if len(time_series) > 50:\n",
    "        plt.hist(ts.compute_pairwise_correlations(time_series), range=(0,1), bins=25, histtype='step', density=True, label=country)\n",
    "plt.legend()\n",
    "plt.show()"
   ]
  },
  {
   "cell_type": "code",
   "execution_count": 15,
   "id": "e2ddd840-ffd0-4de5-b42f-fe5628716a18",
   "metadata": {},
   "outputs": [
    {
     "data": {
      "image/png": "[encoded data removed]",
      "text/plain": [
       "<Figure size 640x480 with 1 Axes>"
      ]
     },
     "metadata": {},
     "output_type": "display_data"
    }
   ],
   "source": [
    "for country, time_series in loads_by_country.items():\n",
    "    if len(time_series) <= 50:\n",
    "        plt.hist(ts.compute_pairwise_correlations(time_series), range=(0,1), bins=25, histtype='step', density=True, label=country)\n",
    "plt.legend()\n",
    "plt.show()"
   ]
  },
  {
   "cell_type": "markdown",
   "id": "f166c7cb-b405-46bc-93bb-046440b62414",
   "metadata": {},
   "source": [
    "Since each country's load profile has specific characteristics, the overall correlation between all time series has a broader distribution:"
   ]
  },
  {
   "cell_type": "code",
   "execution_count": 16,
   "id": "3eec3772-7eaf-44bf-8375-f5235a9cfa07",
   "metadata": {},
   "outputs": [
    {
     "data": {
      "image/png": "[encoded data removed]",
      "text/plain": [
       "<Figure size 640x480 with 1 Axes>"
      ]
     },
     "metadata": {},
     "output_type": "display_data"
    }
   ],
   "source": [
    "plt.hist(ts.compute_pairwise_correlations(np.concatenate(list(loads_by_country.values()))),\n",
    "         range=(0,1), bins=25, histtype='step', density=True)\n",
    "plt.show()"
   ]
  },
  {
   "cell_type": "markdown",
   "id": "e25201f6-8f68-4377-992d-93c89f91648a",
   "metadata": {},
   "source": [
    "### Export the time series"
   ]
  },
  {
   "cell_type": "markdown",
   "id": "81c4e2ea-9fef-430d-9611-8af481a1644e",
   "metadata": {},
   "source": [
    "Combine all time series into an array:"
   ]
  },
  {
   "cell_type": "code",
   "execution_count": 17,
   "id": "38caf681-79de-4f35-a392-9da94ec1a371",
   "metadata": {},
   "outputs": [],
   "source": [
    "all_time_series = np.array([loads_by_country[load_countries[i]][load_labels[i]] for i in range(n_loads)])"
   ]
  },
  {
   "cell_type": "code",
   "execution_count": 18,
   "id": "168fcb22-236f-48ca-a61e-24c3ec4394da",
   "metadata": {},
   "outputs": [],
   "source": [
    "assert all_time_series.shape == (n_loads, 364 * 24)"
   ]
  },
  {
   "cell_type": "markdown",
   "id": "377b65e4-3b0a-4e29-8f88-ade2dcec0ffe",
   "metadata": {},
   "source": [
    "Define a *Pandas* dataframe containing all time series, with time steps as columns and loads as rows:"
   ]
  },
  {
   "cell_type": "code",
   "execution_count": 19,
   "id": "a515b5f3-3141-4151-a1e4-404c9915fc94",
   "metadata": {},
   "outputs": [
    {
     "data": {
      "text/html": [
       "<div>\n",
       "<style scoped>\n",
       "    .dataframe tbody tr th:only-of-type {\n",
       "        vertical-align: middle;\n",
       "    }\n",
       "\n",
       "    .dataframe tbody tr th {\n",
       "        vertical-align: top;\n",
       "    }\n",
       "\n",
       "    .dataframe thead th {\n",
       "        text-align: right;\n",
       "    }\n",
       "</style>\n",
       "<table border=\"1\" class=\"dataframe\">\n",
       "  <thead>\n",
       "    <tr style=\"text-align: right;\">\n",
       "      <th></th>\n",
       "      <th>0</th>\n",
       "      <th>1</th>\n",
       "      <th>2</th>\n",
       "      <th>3</th>\n",
       "      <th>4</th>\n",
       "      <th>5</th>\n",
       "      <th>6</th>\n",
       "      <th>7</th>\n",
       "      <th>8</th>\n",
       "      <th>9</th>\n",
       "      <th>...</th>\n",
       "      <th>8726</th>\n",
       "      <th>8727</th>\n",
       "      <th>8728</th>\n",
       "      <th>8729</th>\n",
       "      <th>8730</th>\n",
       "      <th>8731</th>\n",
       "      <th>8732</th>\n",
       "      <th>8733</th>\n",
       "      <th>8734</th>\n",
       "      <th>8735</th>\n",
       "    </tr>\n",
       "    <tr>\n",
       "      <th>id</th>\n",
       "      <th></th>\n",
       "      <th></th>\n",
       "      <th></th>\n",
       "      <th></th>\n",
       "      <th></th>\n",
       "      <th></th>\n",
       "      <th></th>\n",
       "      <th></th>\n",
       "      <th></th>\n",
       "      <th></th>\n",
       "      <th></th>\n",
       "      <th></th>\n",
       "      <th></th>\n",
       "      <th></th>\n",
       "      <th></th>\n",
       "      <th></th>\n",
       "      <th></th>\n",
       "      <th></th>\n",
       "      <th></th>\n",
       "      <th></th>\n",
       "      <th></th>\n",
       "    </tr>\n",
       "  </thead>\n",
       "  <tbody>\n",
       "    <tr>\n",
       "      <th>81</th>\n",
       "      <td>1.071151</td>\n",
       "      <td>1.063157</td>\n",
       "      <td>1.083420</td>\n",
       "      <td>1.133308</td>\n",
       "      <td>1.265469</td>\n",
       "      <td>1.407581</td>\n",
       "      <td>1.519539</td>\n",
       "      <td>1.563618</td>\n",
       "      <td>1.534991</td>\n",
       "      <td>1.514419</td>\n",
       "      <td>...</td>\n",
       "      <td>1.289844</td>\n",
       "      <td>1.405433</td>\n",
       "      <td>1.465083</td>\n",
       "      <td>1.447114</td>\n",
       "      <td>1.402775</td>\n",
       "      <td>1.344367</td>\n",
       "      <td>1.306185</td>\n",
       "      <td>1.231734</td>\n",
       "      <td>1.137521</td>\n",
       "      <td>1.085453</td>\n",
       "    </tr>\n",
       "    <tr>\n",
       "      <th>82</th>\n",
       "      <td>0.837519</td>\n",
       "      <td>0.815521</td>\n",
       "      <td>0.787519</td>\n",
       "      <td>0.774904</td>\n",
       "      <td>0.756440</td>\n",
       "      <td>0.764753</td>\n",
       "      <td>0.811888</td>\n",
       "      <td>0.883861</td>\n",
       "      <td>0.923197</td>\n",
       "      <td>0.913086</td>\n",
       "      <td>...</td>\n",
       "      <td>1.008729</td>\n",
       "      <td>1.118715</td>\n",
       "      <td>1.165358</td>\n",
       "      <td>1.159871</td>\n",
       "      <td>1.127769</td>\n",
       "      <td>1.093099</td>\n",
       "      <td>1.081890</td>\n",
       "      <td>1.029988</td>\n",
       "      <td>0.958312</td>\n",
       "      <td>0.900168</td>\n",
       "    </tr>\n",
       "    <tr>\n",
       "      <th>83</th>\n",
       "      <td>0.655933</td>\n",
       "      <td>0.633771</td>\n",
       "      <td>0.641098</td>\n",
       "      <td>0.651583</td>\n",
       "      <td>0.646664</td>\n",
       "      <td>0.672374</td>\n",
       "      <td>0.778746</td>\n",
       "      <td>0.844353</td>\n",
       "      <td>0.838196</td>\n",
       "      <td>0.817214</td>\n",
       "      <td>...</td>\n",
       "      <td>0.758031</td>\n",
       "      <td>0.858262</td>\n",
       "      <td>0.917754</td>\n",
       "      <td>0.890949</td>\n",
       "      <td>0.856125</td>\n",
       "      <td>0.821127</td>\n",
       "      <td>0.802384</td>\n",
       "      <td>0.775293</td>\n",
       "      <td>0.722111</td>\n",
       "      <td>0.688047</td>\n",
       "    </tr>\n",
       "    <tr>\n",
       "      <th>84</th>\n",
       "      <td>0.908139</td>\n",
       "      <td>0.884060</td>\n",
       "      <td>0.876835</td>\n",
       "      <td>0.883732</td>\n",
       "      <td>0.906707</td>\n",
       "      <td>0.935981</td>\n",
       "      <td>1.002001</td>\n",
       "      <td>1.036979</td>\n",
       "      <td>1.029697</td>\n",
       "      <td>1.011087</td>\n",
       "      <td>...</td>\n",
       "      <td>1.072855</td>\n",
       "      <td>1.167937</td>\n",
       "      <td>1.232777</td>\n",
       "      <td>1.216688</td>\n",
       "      <td>1.183164</td>\n",
       "      <td>1.147663</td>\n",
       "      <td>1.120420</td>\n",
       "      <td>1.071805</td>\n",
       "      <td>1.002601</td>\n",
       "      <td>0.954837</td>\n",
       "    </tr>\n",
       "    <tr>\n",
       "      <th>85</th>\n",
       "      <td>0.910417</td>\n",
       "      <td>0.899132</td>\n",
       "      <td>0.892810</td>\n",
       "      <td>0.903968</td>\n",
       "      <td>0.921977</td>\n",
       "      <td>0.987075</td>\n",
       "      <td>1.075665</td>\n",
       "      <td>1.165135</td>\n",
       "      <td>1.194708</td>\n",
       "      <td>1.178864</td>\n",
       "      <td>...</td>\n",
       "      <td>1.077993</td>\n",
       "      <td>1.195836</td>\n",
       "      <td>1.230004</td>\n",
       "      <td>1.214170</td>\n",
       "      <td>1.174951</td>\n",
       "      <td>1.132184</td>\n",
       "      <td>1.138411</td>\n",
       "      <td>1.077392</td>\n",
       "      <td>1.000314</td>\n",
       "      <td>0.945502</td>\n",
       "    </tr>\n",
       "    <tr>\n",
       "      <th>...</th>\n",
       "      <td>...</td>\n",
       "      <td>...</td>\n",
       "      <td>...</td>\n",
       "      <td>...</td>\n",
       "      <td>...</td>\n",
       "      <td>...</td>\n",
       "      <td>...</td>\n",
       "      <td>...</td>\n",
       "      <td>...</td>\n",
       "      <td>...</td>\n",
       "      <td>...</td>\n",
       "      <td>...</td>\n",
       "      <td>...</td>\n",
       "      <td>...</td>\n",
       "      <td>...</td>\n",
       "      <td>...</td>\n",
       "      <td>...</td>\n",
       "      <td>...</td>\n",
       "      <td>...</td>\n",
       "      <td>...</td>\n",
       "      <td>...</td>\n",
       "    </tr>\n",
       "    <tr>\n",
       "      <th>7888</th>\n",
       "      <td>0.859193</td>\n",
       "      <td>0.803503</td>\n",
       "      <td>0.761342</td>\n",
       "      <td>0.737762</td>\n",
       "      <td>0.731906</td>\n",
       "      <td>0.735894</td>\n",
       "      <td>0.749156</td>\n",
       "      <td>0.755788</td>\n",
       "      <td>0.807871</td>\n",
       "      <td>0.869138</td>\n",
       "      <td>...</td>\n",
       "      <td>1.064420</td>\n",
       "      <td>1.027203</td>\n",
       "      <td>1.025063</td>\n",
       "      <td>1.103679</td>\n",
       "      <td>1.146632</td>\n",
       "      <td>1.174175</td>\n",
       "      <td>1.181961</td>\n",
       "      <td>1.140385</td>\n",
       "      <td>1.051728</td>\n",
       "      <td>0.948635</td>\n",
       "    </tr>\n",
       "    <tr>\n",
       "      <th>7889</th>\n",
       "      <td>1.048596</td>\n",
       "      <td>0.957101</td>\n",
       "      <td>0.896489</td>\n",
       "      <td>0.866067</td>\n",
       "      <td>0.859028</td>\n",
       "      <td>0.872316</td>\n",
       "      <td>0.937713</td>\n",
       "      <td>1.066075</td>\n",
       "      <td>1.211326</td>\n",
       "      <td>1.347591</td>\n",
       "      <td>...</td>\n",
       "      <td>1.116093</td>\n",
       "      <td>1.109926</td>\n",
       "      <td>1.120868</td>\n",
       "      <td>1.250787</td>\n",
       "      <td>1.439905</td>\n",
       "      <td>1.492803</td>\n",
       "      <td>1.486098</td>\n",
       "      <td>1.430513</td>\n",
       "      <td>1.345291</td>\n",
       "      <td>1.189024</td>\n",
       "    </tr>\n",
       "    <tr>\n",
       "      <th>7890</th>\n",
       "      <td>0.783800</td>\n",
       "      <td>0.758783</td>\n",
       "      <td>0.746360</td>\n",
       "      <td>0.754553</td>\n",
       "      <td>0.759990</td>\n",
       "      <td>0.786746</td>\n",
       "      <td>0.857255</td>\n",
       "      <td>0.903006</td>\n",
       "      <td>0.944312</td>\n",
       "      <td>0.993908</td>\n",
       "      <td>...</td>\n",
       "      <td>0.856521</td>\n",
       "      <td>0.875971</td>\n",
       "      <td>0.930530</td>\n",
       "      <td>0.937699</td>\n",
       "      <td>0.930344</td>\n",
       "      <td>0.903917</td>\n",
       "      <td>0.866804</td>\n",
       "      <td>0.854987</td>\n",
       "      <td>0.824167</td>\n",
       "      <td>0.786666</td>\n",
       "    </tr>\n",
       "    <tr>\n",
       "      <th>7892</th>\n",
       "      <td>0.691919</td>\n",
       "      <td>0.651864</td>\n",
       "      <td>0.626946</td>\n",
       "      <td>0.616626</td>\n",
       "      <td>0.626258</td>\n",
       "      <td>0.682665</td>\n",
       "      <td>0.767500</td>\n",
       "      <td>0.835090</td>\n",
       "      <td>0.873090</td>\n",
       "      <td>0.916829</td>\n",
       "      <td>...</td>\n",
       "      <td>0.768885</td>\n",
       "      <td>0.755142</td>\n",
       "      <td>0.775255</td>\n",
       "      <td>0.870666</td>\n",
       "      <td>0.918617</td>\n",
       "      <td>0.947499</td>\n",
       "      <td>0.958771</td>\n",
       "      <td>0.920611</td>\n",
       "      <td>0.845691</td>\n",
       "      <td>0.762375</td>\n",
       "    </tr>\n",
       "    <tr>\n",
       "      <th>7893</th>\n",
       "      <td>1.029970</td>\n",
       "      <td>1.048326</td>\n",
       "      <td>1.061779</td>\n",
       "      <td>1.080139</td>\n",
       "      <td>1.118377</td>\n",
       "      <td>1.158855</td>\n",
       "      <td>1.207681</td>\n",
       "      <td>1.227194</td>\n",
       "      <td>1.240437</td>\n",
       "      <td>1.243741</td>\n",
       "      <td>...</td>\n",
       "      <td>1.018304</td>\n",
       "      <td>1.028457</td>\n",
       "      <td>1.015656</td>\n",
       "      <td>1.017101</td>\n",
       "      <td>1.009001</td>\n",
       "      <td>0.999645</td>\n",
       "      <td>1.003564</td>\n",
       "      <td>1.015045</td>\n",
       "      <td>1.026525</td>\n",
       "      <td>1.032085</td>\n",
       "    </tr>\n",
       "  </tbody>\n",
       "</table>\n",
       "<p>4097 rows × 8736 columns</p>\n",
       "</div>"
      ],
      "text/plain": [
       "          0         1         2         3         4         5         6     \\\n",
       "id                                                                           \n",
       "81    1.071151  1.063157  1.083420  1.133308  1.265469  1.407581  1.519539   \n",
       "82    0.837519  0.815521  0.787519  0.774904  0.756440  0.764753  0.811888   \n",
       "83    0.655933  0.633771  0.641098  0.651583  0.646664  0.672374  0.778746   \n",
       "84    0.908139  0.884060  0.876835  0.883732  0.906707  0.935981  1.002001   \n",
       "85    0.910417  0.899132  0.892810  0.903968  0.921977  0.987075  1.075665   \n",
       "...        ...       ...       ...       ...       ...       ...       ...   \n",
       "7888  0.859193  0.803503  0.761342  0.737762  0.731906  0.735894  0.749156   \n",
       "7889  1.048596  0.957101  0.896489  0.866067  0.859028  0.872316  0.937713   \n",
       "7890  0.783800  0.758783  0.746360  0.754553  0.759990  0.786746  0.857255   \n",
       "7892  0.691919  0.651864  0.626946  0.616626  0.626258  0.682665  0.767500   \n",
       "7893  1.029970  1.048326  1.061779  1.080139  1.118377  1.158855  1.207681   \n",
       "\n",
       "          7         8         9     ...      8726      8727      8728  \\\n",
       "id                                  ...                                 \n",
       "81    1.563618  1.534991  1.514419  ...  1.289844  1.405433  1.465083   \n",
       "82    0.883861  0.923197  0.913086  ...  1.008729  1.118715  1.165358   \n",
       "83    0.844353  0.838196  0.817214  ...  0.758031  0.858262  0.917754   \n",
       "84    1.036979  1.029697  1.011087  ...  1.072855  1.167937  1.232777   \n",
       "85    1.165135  1.194708  1.178864  ...  1.077993  1.195836  1.230004   \n",
       "...        ...       ...       ...  ...       ...       ...       ...   \n",
       "7888  0.755788  0.807871  0.869138  ...  1.064420  1.027203  1.025063   \n",
       "7889  1.066075  1.211326  1.347591  ...  1.116093  1.109926  1.120868   \n",
       "7890  0.903006  0.944312  0.993908  ...  0.856521  0.875971  0.930530   \n",
       "7892  0.835090  0.873090  0.916829  ...  0.768885  0.755142  0.775255   \n",
       "7893  1.227194  1.240437  1.243741  ...  1.018304  1.028457  1.015656   \n",
       "\n",
       "          8729      8730      8731      8732      8733      8734      8735  \n",
       "id                                                                          \n",
       "81    1.447114  1.402775  1.344367  1.306185  1.231734  1.137521  1.085453  \n",
       "82    1.159871  1.127769  1.093099  1.081890  1.029988  0.958312  0.900168  \n",
       "83    0.890949  0.856125  0.821127  0.802384  0.775293  0.722111  0.688047  \n",
       "84    1.216688  1.183164  1.147663  1.120420  1.071805  1.002601  0.954837  \n",
       "85    1.214170  1.174951  1.132184  1.138411  1.077392  1.000314  0.945502  \n",
       "...        ...       ...       ...       ...       ...       ...       ...  \n",
       "7888  1.103679  1.146632  1.174175  1.181961  1.140385  1.051728  0.948635  \n",
       "7889  1.250787  1.439905  1.492803  1.486098  1.430513  1.345291  1.189024  \n",
       "7890  0.937699  0.930344  0.903917  0.866804  0.854987  0.824167  0.786666  \n",
       "7892  0.870666  0.918617  0.947499  0.958771  0.920611  0.845691  0.762375  \n",
       "7893  1.017101  1.009001  0.999645  1.003564  1.015045  1.026525  1.032085  \n",
       "\n",
       "[4097 rows x 8736 columns]"
      ]
     },
     "execution_count": 19,
     "metadata": {},
     "output_type": "execute_result"
    }
   ],
   "source": [
    "df = pd.DataFrame(all_time_series, index=load_ids)\n",
    "df.index.name = 'id'\n",
    "df"
   ]
  },
  {
   "cell_type": "markdown",
   "id": "0a11c9f4-5f0c-44a1-a938-0171fd97f48d",
   "metadata": {},
   "source": [
    "Export to CSV format:"
   ]
  },
  {
   "cell_type": "code",
   "execution_count": 43,
   "id": "cf0e7636-bb10-4f48-b536-16f15431b307",
   "metadata": {},
   "outputs": [],
   "source": [
    "df.to_csv(\"data/loads.csv\", mode='x')"
   ]
  },
  {
   "cell_type": "markdown",
   "id": "c6804b6e-c2a3-4605-b7b8-8084a3ef8c81",
   "metadata": {},
   "source": [
    "The whole procedure can be iterated multiple times to generate more than one time series for each load."
   ]
  },
  {
   "cell_type": "code",
   "execution_count": 21,
   "id": "72640d78-d7b6-4aee-a230-fdcf3cb4a914",
   "metadata": {},
   "outputs": [
    {
     "name": "stdout",
     "output_type": "stream",
     "text": [
      "Writing to file 'data/loads_2016_1.csv'...ok\n",
      "Writing to file 'data/loads_2016_2.csv'...ok\n",
      "Writing to file 'data/loads_2016_3.csv'...ok\n",
      "Writing to file 'data/loads_2016_4.csv'...ok\n",
      "Writing to file 'data/loads_2017_1.csv'...ok\n",
      "Writing to file 'data/loads_2017_2.csv'...ok\n",
      "Writing to file 'data/loads_2017_3.csv'...ok\n",
      "Writing to file 'data/loads_2017_4.csv'...ok\n",
      "Writing to file 'data/loads_2018_1.csv'...ok\n",
      "Writing to file 'data/loads_2018_2.csv'...ok\n",
      "Writing to file 'data/loads_2018_3.csv'...ok\n",
      "Writing to file 'data/loads_2018_4.csv'...ok\n",
      "Writing to file 'data/loads_2019_1.csv'...ok\n",
      "Writing to file 'data/loads_2019_2.csv'...ok\n",
      "Writing to file 'data/loads_2019_3.csv'...ok\n",
      "Writing to file 'data/loads_2019_4.csv'...ok\n",
      "Writing to file 'data/loads_2020_1.csv'...ok\n",
      "Writing to file 'data/loads_2020_2.csv'...ok\n",
      "Writing to file 'data/loads_2020_3.csv'...ok\n",
      "Writing to file 'data/loads_2020_4.csv'...ok\n"
     ]
    }
   ],
   "source": [
    "for year in range(2016, 2021):\n",
    "    for i in range(1, 5):\n",
    "        loads_by_country = {country: generate_time_series(country, count) for country, count in load_count_by_country.items()}\n",
    "        all_time_series = np.array([loads_by_country[load_countries[i]][load_labels[i]] for i in range(n_loads)])\n",
    "        df = pd.DataFrame(all_time_series, index=load_ids)\n",
    "        df.index.name = 'id'\n",
    "        filename = \"data/loads_%d_%d.csv\" % (year, i)\n",
    "        print(\"Writing to file '%s'...\" % filename, end='')\n",
    "        df.to_csv(filename, mode='x')\n",
    "        print(\"ok\")"
   ]
  }
 ],
 "metadata": {
  "kernelspec": {
   "display_name": "Python 3 (ipykernel)",
   "language": "python",
   "name": "python3"
  },
  "language_info": {
   "codemirror_mode": {
    "name": "ipython",
    "version": 3
   },
   "file_extension": ".py",
   "mimetype": "text/x-python",
   "name": "python",
   "nbconvert_exporter": "python",
   "pygments_lexer": "ipython3",
   "version": "3.11.8"
  }
 },
 "nbformat": 4,
 "nbformat_minor": 5
}
