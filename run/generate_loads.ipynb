{
 "cells": [
  {
   "cell_type": "markdown",
   "id": "1f10caf4-b984-48dc-a79b-76b5bf5da76d",
   "metadata": {},
   "source": [
    "# Generate synthetic load series"
   ]
  },
  {
   "cell_type": "markdown",
   "id": "98f2faca-ffe7-4afd-979c-86abc69d11e4",
   "metadata": {},
   "source": [
    "This notebook generates synthetic time series for the ~4000 nodes of the European model."
   ]
  },
  {
   "cell_type": "code",
   "execution_count": 24,
   "id": "fa1974e2-c8e5-4c28-9401-3cc87bbdf7d2",
   "metadata": {},
   "outputs": [],
   "source": [
    "import os, sys\n",
    "sys.path.append('../TimeSeries/')\n",
    "\n",
    "import time_series as ts"
   ]
  },
  {
   "cell_type": "code",
   "execution_count": 25,
   "id": "6d364271-d2ac-4d8e-a794-9188446207a9",
   "metadata": {},
   "outputs": [],
   "source": [
    "import json\n",
    "import pandas as pd\n",
    "import numpy as np\n",
    "import matplotlib.pyplot as plt"
   ]
  },
  {
   "cell_type": "markdown",
   "id": "05d86ee5-6fa9-4967-8e37-6e1ab50b0a7c",
   "metadata": {},
   "source": [
    "### Get a list of loads by country "
   ]
  },
  {
   "cell_type": "markdown",
   "id": "703ed9b8-f654-41be-a1a0-dc3664cc4a47",
   "metadata": {},
   "source": [
    "Import the network file:"
   ]
  },
  {
   "cell_type": "code",
   "execution_count": 26,
   "id": "a8e9b1d4-9469-40ff-ba5e-06784634b8ff",
   "metadata": {},
   "outputs": [],
   "source": [
    "with open('../models/europe.json') as f:\n",
    "    network = json.load(f)"
   ]
  },
  {
   "cell_type": "markdown",
   "id": "b3c2cb91-ec81-4446-97bf-fce64625c62b",
   "metadata": {},
   "source": [
    "Get a list of all the load IDs:"
   ]
  },
  {
   "cell_type": "code",
   "execution_count": 27,
   "id": "e5053a58-f861-474f-a896-89418635c6c2",
   "metadata": {},
   "outputs": [
    {
     "data": {
      "text/plain": [
       "4097"
      ]
     },
     "execution_count": 27,
     "metadata": {},
     "output_type": "execute_result"
    }
   ],
   "source": [
    "load_ids = [int(id) for id in network['load'].keys()]\n",
    "load_ids.sort()\n",
    "\n",
    "n_loads = len(load_ids)\n",
    "n_loads"
   ]
  },
  {
   "cell_type": "markdown",
   "id": "7010fd06-aee3-45fc-bcdb-5d3da92168e9",
   "metadata": {},
   "source": [
    "For each load, determine the country of the attached bus:"
   ]
  },
  {
   "cell_type": "code",
   "execution_count": 28,
   "id": "d33fe74e-34a7-42aa-a914-d82dc1f4ea65",
   "metadata": {},
   "outputs": [],
   "source": [
    "load_countries = [network['bus'][str(network['load'][str(id)]['load_bus'])]['country'] for id in load_ids]"
   ]
  },
  {
   "cell_type": "markdown",
   "id": "301f2633-07e3-4cbc-82bf-b79047d1e0ac",
   "metadata": {},
   "source": [
    "The number of loads in each country is determined as follows:"
   ]
  },
  {
   "cell_type": "code",
   "execution_count": 29,
   "id": "da4c072d-9be0-4926-a3bd-d723e20e3976",
   "metadata": {},
   "outputs": [
    {
     "data": {
      "text/plain": [
       "26"
      ]
     },
     "execution_count": 29,
     "metadata": {},
     "output_type": "execute_result"
    }
   ],
   "source": [
    "countries = set(load_countries)\n",
    "len(countries)"
   ]
  },
  {
   "cell_type": "code",
   "execution_count": 30,
   "id": "3bcb2d17-9fc9-4c77-8792-4c0da394a508",
   "metadata": {},
   "outputs": [
    {
     "data": {
      "text/plain": [
       "ES    908\n",
       "FR    865\n",
       "DE    560\n",
       "IT    324\n",
       "PL    188\n",
       "DK    182\n",
       "CH    163\n",
       "PT    146\n",
       "RO    124\n",
       "AT     78\n",
       "CZ     71\n",
       "BG     64\n",
       "RS     53\n",
       "BE     50\n",
       "HU     47\n",
       "SK     43\n",
       "GR     38\n",
       "NL     38\n",
       "BA     35\n",
       "AL     30\n",
       "HR     28\n",
       "SI     15\n",
       "XX     13\n",
       "MK     12\n",
       "LU     12\n",
       "ME     10\n",
       "Name: count, dtype: int64"
      ]
     },
     "execution_count": 30,
     "metadata": {},
     "output_type": "execute_result"
    }
   ],
   "source": [
    "load_count_by_country = pd.Series(load_countries).value_counts()\n",
    "load_count_by_country"
   ]
  },
  {
   "cell_type": "markdown",
   "id": "f68df024-273d-41c8-b6ed-cb02bc191c2c",
   "metadata": {},
   "source": [
    "### Assign a unique label to each load"
   ]
  },
  {
   "cell_type": "markdown",
   "id": "86214bab-9e58-4897-b932-4bc8ae4da8e5",
   "metadata": {},
   "source": [
    "For each load of the model, assign a label that is unique for the country:"
   ]
  },
  {
   "cell_type": "code",
   "execution_count": 31,
   "id": "9cfde075-c931-41cf-8bad-c4806fb3f515",
   "metadata": {},
   "outputs": [],
   "source": [
    "country_label_count = {country: 0 for country in countries}\n",
    "load_labels = []\n",
    "for country in load_countries:\n",
    "    load_labels.append(country_label_count[country])\n",
    "    country_label_count[country] += 1"
   ]
  },
  {
   "cell_type": "markdown",
   "id": "377a54af-3943-42dc-ba8d-b7e480e2529a",
   "metadata": {},
   "source": [
    "### Use ENTSO-E models for synthetic time series"
   ]
  },
  {
   "cell_type": "markdown",
   "id": "899c16ee-454a-49c0-9544-bffe7cda6b9e",
   "metadata": {},
   "source": [
    "We make use of the ENTSO-E models stored in the directory `../TimeSeries/models/`:\n",
    "\n",
    "**Remark**: There are 2 countries (AL and MK) that do not have a statistical model, as well as a few loads that are not categorized in a country (XX). For all of these we use the Bulgarian load model (BG)."
   ]
  },
  {
   "cell_type": "code",
   "execution_count": 32,
   "id": "98455211-3f00-4cde-b1a5-497b63c1d570",
   "metadata": {},
   "outputs": [],
   "source": [
    "def find_entsoe_model_file(country):\n",
    "    for start_year in range(2015, 2020):\n",
    "        candidate_filename = '../TimeSeries/models/entsoe_load_%s_%d_2023.npz' % (country, start_year)\n",
    "        if os.path.isfile(candidate_filename):\n",
    "            return candidate_filename\n",
    "    # if no model file is found, use Bulgaria as a reference (due to geographical proximity)\n",
    "    print('No model file found for country \"%s\": use \"BG\" instead' % country)\n",
    "    return find_entsoe_model_file('BG')"
   ]
  },
  {
   "cell_type": "code",
   "execution_count": 33,
   "id": "66c47479-067f-409f-9974-faf663a9e65a",
   "metadata": {},
   "outputs": [
    {
     "name": "stdout",
     "output_type": "stream",
     "text": [
      "No model file found for country \"XX\": use \"BG\" instead\n",
      "No model file found for country \"AL\": use \"BG\" instead\n",
      "No model file found for country \"MK\": use \"BG\" instead\n"
     ]
    }
   ],
   "source": [
    "model_file_by_country = {country: find_entsoe_model_file(country) for country in countries}"
   ]
  },
  {
   "cell_type": "markdown",
   "id": "b86109b2-0dbf-40dc-910d-31919509c565",
   "metadata": {},
   "source": [
    "### Adjust correlations"
   ]
  },
  {
   "cell_type": "markdown",
   "id": "f3cdc83f-46f5-42b7-a0d7-b444e19613c5",
   "metadata": {},
   "source": [
    "The standard deviation can be adjusted to get a desired correlation between time series. For instance, to get correlations of 0.8 on average, we should use the following list of standard deviations:"
   ]
  },
  {
   "cell_type": "code",
   "execution_count": 34,
   "id": "577d72d4-b8a1-4a22-bc2c-2db00a62caef",
   "metadata": {},
   "outputs": [
    {
     "data": {
      "text/plain": [
       "{'AT': 1.5007183743148915,\n",
       " 'XX': 1.3038033021007334,\n",
       " 'BA': 0.5409517613733824,\n",
       " 'FR': 1.3927514314741773,\n",
       " 'GR': 1.1299421717925708,\n",
       " 'LU': 0.7251243477409871,\n",
       " 'HR': 1.4867082952898218,\n",
       " 'PT': 1.6254526856473668,\n",
       " 'RS': 1.3578894050014643,\n",
       " 'ES': 1.4632356299733178,\n",
       " 'SK': 1.3308017304387127,\n",
       " 'BG': 1.3038033021007334,\n",
       " 'BE': 1.527461240893735,\n",
       " 'ME': 1.0480354492758799,\n",
       " 'DE': 1.885284662635579,\n",
       " 'DK': 1.7790637378411591,\n",
       " 'NL': 1.1038067190364462,\n",
       " 'CZ': 1.748160617806918,\n",
       " 'PL': 1.6355625399788383,\n",
       " 'CH': 1.0281664925060878,\n",
       " 'RO': 1.4331553640898647,\n",
       " 'AL': 1.3038033021007334,\n",
       " 'HU': 1.1820838473031763,\n",
       " 'SI': 1.2614872637148347,\n",
       " 'IT': 1.6960438975390633,\n",
       " 'MK': 1.3038033021007334}"
      ]
     },
     "execution_count": 34,
     "metadata": {},
     "output_type": "execute_result"
    }
   ],
   "source": [
    "std_scaling_by_country = {country: ts.get_optimal_std_scaling(ts.import_model(model_file_by_country[country]), 0.8)\n",
    "                          for country in countries}\n",
    "std_scaling_by_country"
   ]
  },
  {
   "cell_type": "markdown",
   "id": "8ef22a10-1465-4829-bb5a-df4d0559cde4",
   "metadata": {},
   "source": [
    "### Generate time series for each country"
   ]
  },
  {
   "cell_type": "markdown",
   "id": "cb1389f3-5b6e-451f-815f-0a06e93a665c",
   "metadata": {},
   "source": [
    "For each country, we generate the corresponding number of synthetic time series based on the ENTSO-E models.\n",
    "\n",
    "Only one time step per hour is kept."
   ]
  },
  {
   "cell_type": "code",
   "execution_count": 35,
   "id": "e901adc6-74af-44c0-9a3e-a47b36946841",
   "metadata": {},
   "outputs": [],
   "source": [
    "def generate_time_series(country, count):\n",
    "    model = ts.import_model(model_file_by_country[country])\n",
    "    time_series = ts.generate_time_series(model, count, std_scaling=std_scaling_by_country[country], normalize=True)\n",
    "    timesteps_per_day = time_series.shape[1] / (24 * 364)\n",
    "    return time_series.reshape(count, 364*24, -1)[:, :, 0]"
   ]
  },
  {
   "cell_type": "code",
   "execution_count": 36,
   "id": "98887fac-a7cf-42e6-a695-f011b16a065e",
   "metadata": {},
   "outputs": [],
   "source": [
    "loads_by_country = {country: generate_time_series(country, count) for country, count in load_count_by_country.items()}"
   ]
  },
  {
   "cell_type": "markdown",
   "id": "6d41dd20-f993-447c-98b0-e14951a9f343",
   "metadata": {},
   "source": [
    "### Verify correlations"
   ]
  },
  {
   "cell_type": "markdown",
   "id": "1a6e30e4-cfe8-4c46-a3f4-d3b4dc2e91bf",
   "metadata": {},
   "source": [
    "Check that all pairs of series in every country are now correlated with the same distribution:"
   ]
  },
  {
   "cell_type": "code",
   "execution_count": 37,
   "id": "8adc3a00-8d10-4c5e-968d-a795b83290c6",
   "metadata": {},
   "outputs": [
    {
     "data": {
      "image/png": "[encoded data removed]",
      "text/plain": [
       "<Figure size 640x480 with 1 Axes>"
      ]
     },
     "metadata": {},
     "output_type": "display_data"
    }
   ],
   "source": [
    "for country, time_series in loads_by_country.items():\n",
    "    if len(time_series) > 50:\n",
    "        plt.hist(ts.compute_pairwise_correlations(time_series), range=(0,1), bins=25, histtype='step', density=True, label=country)\n",
    "plt.legend()\n",
    "plt.show()"
   ]
  },
  {
   "cell_type": "code",
   "execution_count": 38,
   "id": "e2ddd840-ffd0-4de5-b42f-fe5628716a18",
   "metadata": {},
   "outputs": [
    {
     "data": {
      "image/png": "[encoded data removed]",
      "text/plain": [
       "<Figure size 640x480 with 1 Axes>"
      ]
     },
     "metadata": {},
     "output_type": "display_data"
    }
   ],
   "source": [
    "for country, time_series in loads_by_country.items():\n",
    "    if len(time_series) <= 50:\n",
    "        plt.hist(ts.compute_pairwise_correlations(time_series), range=(0,1), bins=25, histtype='step', density=True, label=country)\n",
    "plt.legend()\n",
    "plt.show()"
   ]
  },
  {
   "cell_type": "markdown",
   "id": "f166c7cb-b405-46bc-93bb-046440b62414",
   "metadata": {},
   "source": [
    "Since each country's load profile has specific characteristics, the overall correlation between all time series has a broader distribution:"
   ]
  },
  {
   "cell_type": "code",
   "execution_count": 39,
   "id": "3eec3772-7eaf-44bf-8375-f5235a9cfa07",
   "metadata": {},
   "outputs": [
    {
     "data": {
      "image/png": "[encoded data removed]",
      "text/plain": [
       "<Figure size 640x480 with 1 Axes>"
      ]
     },
     "metadata": {},
     "output_type": "display_data"
    }
   ],
   "source": [
    "plt.hist(ts.compute_pairwise_correlations(np.concatenate(list(loads_by_country.values()))),\n",
    "         range=(0,1), bins=25, histtype='step', density=True)\n",
    "plt.show()"
   ]
  },
  {
   "cell_type": "markdown",
   "id": "e25201f6-8f68-4377-992d-93c89f91648a",
   "metadata": {},
   "source": [
    "### Export the time series"
   ]
  },
  {
   "cell_type": "markdown",
   "id": "81c4e2ea-9fef-430d-9611-8af481a1644e",
   "metadata": {},
   "source": [
    "Combine all time series into an array:"
   ]
  },
  {
   "cell_type": "code",
   "execution_count": 40,
   "id": "38caf681-79de-4f35-a392-9da94ec1a371",
   "metadata": {},
   "outputs": [],
   "source": [
    "all_time_series = np.array([loads_by_country[load_countries[i]][load_labels[i]] for i in range(n_loads)])"
   ]
  },
  {
   "cell_type": "code",
   "execution_count": 41,
   "id": "168fcb22-236f-48ca-a61e-24c3ec4394da",
   "metadata": {},
   "outputs": [],
   "source": [
    "assert all_time_series.shape == (n_loads, 364 * 24)"
   ]
  },
  {
   "cell_type": "markdown",
   "id": "377b65e4-3b0a-4e29-8f88-ade2dcec0ffe",
   "metadata": {},
   "source": [
    "Define a *Pandas* dataframe containing all time series, with time steps as columns and loads as rows:"
   ]
  },
  {
   "cell_type": "code",
   "execution_count": 42,
   "id": "a515b5f3-3141-4151-a1e4-404c9915fc94",
   "metadata": {},
   "outputs": [
    {
     "data": {
      "text/html": [
       "<div>\n",
       "<style scoped>\n",
       "    .dataframe tbody tr th:only-of-type {\n",
       "        vertical-align: middle;\n",
       "    }\n",
       "\n",
       "    .dataframe tbody tr th {\n",
       "        vertical-align: top;\n",
       "    }\n",
       "\n",
       "    .dataframe thead th {\n",
       "        text-align: right;\n",
       "    }\n",
       "</style>\n",
       "<table border=\"1\" class=\"dataframe\">\n",
       "  <thead>\n",
       "    <tr style=\"text-align: right;\">\n",
       "      <th></th>\n",
       "      <th>0</th>\n",
       "      <th>1</th>\n",
       "      <th>2</th>\n",
       "      <th>3</th>\n",
       "      <th>4</th>\n",
       "      <th>5</th>\n",
       "      <th>6</th>\n",
       "      <th>7</th>\n",
       "      <th>8</th>\n",
       "      <th>9</th>\n",
       "      <th>...</th>\n",
       "      <th>8726</th>\n",
       "      <th>8727</th>\n",
       "      <th>8728</th>\n",
       "      <th>8729</th>\n",
       "      <th>8730</th>\n",
       "      <th>8731</th>\n",
       "      <th>8732</th>\n",
       "      <th>8733</th>\n",
       "      <th>8734</th>\n",
       "      <th>8735</th>\n",
       "    </tr>\n",
       "    <tr>\n",
       "      <th>id</th>\n",
       "      <th></th>\n",
       "      <th></th>\n",
       "      <th></th>\n",
       "      <th></th>\n",
       "      <th></th>\n",
       "      <th></th>\n",
       "      <th></th>\n",
       "      <th></th>\n",
       "      <th></th>\n",
       "      <th></th>\n",
       "      <th></th>\n",
       "      <th></th>\n",
       "      <th></th>\n",
       "      <th></th>\n",
       "      <th></th>\n",
       "      <th></th>\n",
       "      <th></th>\n",
       "      <th></th>\n",
       "      <th></th>\n",
       "      <th></th>\n",
       "      <th></th>\n",
       "    </tr>\n",
       "  </thead>\n",
       "  <tbody>\n",
       "    <tr>\n",
       "      <th>81</th>\n",
       "      <td>0.938493</td>\n",
       "      <td>0.940560</td>\n",
       "      <td>0.944310</td>\n",
       "      <td>0.965798</td>\n",
       "      <td>0.995459</td>\n",
       "      <td>1.051265</td>\n",
       "      <td>1.163255</td>\n",
       "      <td>1.264742</td>\n",
       "      <td>1.290854</td>\n",
       "      <td>1.252346</td>\n",
       "      <td>...</td>\n",
       "      <td>0.917636</td>\n",
       "      <td>1.059149</td>\n",
       "      <td>1.140210</td>\n",
       "      <td>1.144655</td>\n",
       "      <td>1.131974</td>\n",
       "      <td>1.115078</td>\n",
       "      <td>1.101026</td>\n",
       "      <td>1.053572</td>\n",
       "      <td>1.001059</td>\n",
       "      <td>0.947791</td>\n",
       "    </tr>\n",
       "    <tr>\n",
       "      <th>82</th>\n",
       "      <td>0.830213</td>\n",
       "      <td>0.812621</td>\n",
       "      <td>0.818705</td>\n",
       "      <td>0.849257</td>\n",
       "      <td>0.934548</td>\n",
       "      <td>1.020947</td>\n",
       "      <td>1.122072</td>\n",
       "      <td>1.189067</td>\n",
       "      <td>1.187004</td>\n",
       "      <td>1.171765</td>\n",
       "      <td>...</td>\n",
       "      <td>1.024050</td>\n",
       "      <td>1.147650</td>\n",
       "      <td>1.213714</td>\n",
       "      <td>1.199697</td>\n",
       "      <td>1.158431</td>\n",
       "      <td>1.107062</td>\n",
       "      <td>1.046053</td>\n",
       "      <td>0.998426</td>\n",
       "      <td>0.913916</td>\n",
       "      <td>0.862687</td>\n",
       "    </tr>\n",
       "    <tr>\n",
       "      <th>83</th>\n",
       "      <td>1.133106</td>\n",
       "      <td>1.116463</td>\n",
       "      <td>1.117142</td>\n",
       "      <td>1.158983</td>\n",
       "      <td>1.300316</td>\n",
       "      <td>1.437187</td>\n",
       "      <td>1.521739</td>\n",
       "      <td>1.577890</td>\n",
       "      <td>1.579783</td>\n",
       "      <td>1.572626</td>\n",
       "      <td>...</td>\n",
       "      <td>1.482611</td>\n",
       "      <td>1.601737</td>\n",
       "      <td>1.643335</td>\n",
       "      <td>1.622561</td>\n",
       "      <td>1.564341</td>\n",
       "      <td>1.493900</td>\n",
       "      <td>1.436283</td>\n",
       "      <td>1.354726</td>\n",
       "      <td>1.237783</td>\n",
       "      <td>1.171039</td>\n",
       "    </tr>\n",
       "    <tr>\n",
       "      <th>84</th>\n",
       "      <td>0.997376</td>\n",
       "      <td>0.999261</td>\n",
       "      <td>1.002606</td>\n",
       "      <td>1.036845</td>\n",
       "      <td>1.129625</td>\n",
       "      <td>1.236909</td>\n",
       "      <td>1.349189</td>\n",
       "      <td>1.442794</td>\n",
       "      <td>1.466223</td>\n",
       "      <td>1.449336</td>\n",
       "      <td>...</td>\n",
       "      <td>1.193146</td>\n",
       "      <td>1.319966</td>\n",
       "      <td>1.377354</td>\n",
       "      <td>1.365830</td>\n",
       "      <td>1.333117</td>\n",
       "      <td>1.280138</td>\n",
       "      <td>1.235064</td>\n",
       "      <td>1.157820</td>\n",
       "      <td>1.079833</td>\n",
       "      <td>1.017227</td>\n",
       "    </tr>\n",
       "    <tr>\n",
       "      <th>85</th>\n",
       "      <td>0.985948</td>\n",
       "      <td>0.977606</td>\n",
       "      <td>0.978128</td>\n",
       "      <td>0.999351</td>\n",
       "      <td>1.065698</td>\n",
       "      <td>1.161528</td>\n",
       "      <td>1.251729</td>\n",
       "      <td>1.315161</td>\n",
       "      <td>1.323655</td>\n",
       "      <td>1.321708</td>\n",
       "      <td>...</td>\n",
       "      <td>1.286016</td>\n",
       "      <td>1.380591</td>\n",
       "      <td>1.410229</td>\n",
       "      <td>1.382789</td>\n",
       "      <td>1.337821</td>\n",
       "      <td>1.272771</td>\n",
       "      <td>1.252215</td>\n",
       "      <td>1.165837</td>\n",
       "      <td>1.080944</td>\n",
       "      <td>1.023366</td>\n",
       "    </tr>\n",
       "    <tr>\n",
       "      <th>...</th>\n",
       "      <td>...</td>\n",
       "      <td>...</td>\n",
       "      <td>...</td>\n",
       "      <td>...</td>\n",
       "      <td>...</td>\n",
       "      <td>...</td>\n",
       "      <td>...</td>\n",
       "      <td>...</td>\n",
       "      <td>...</td>\n",
       "      <td>...</td>\n",
       "      <td>...</td>\n",
       "      <td>...</td>\n",
       "      <td>...</td>\n",
       "      <td>...</td>\n",
       "      <td>...</td>\n",
       "      <td>...</td>\n",
       "      <td>...</td>\n",
       "      <td>...</td>\n",
       "      <td>...</td>\n",
       "      <td>...</td>\n",
       "      <td>...</td>\n",
       "    </tr>\n",
       "    <tr>\n",
       "      <th>7888</th>\n",
       "      <td>0.833788</td>\n",
       "      <td>0.782759</td>\n",
       "      <td>0.757954</td>\n",
       "      <td>0.756439</td>\n",
       "      <td>0.776692</td>\n",
       "      <td>0.847416</td>\n",
       "      <td>0.954083</td>\n",
       "      <td>1.058619</td>\n",
       "      <td>1.147083</td>\n",
       "      <td>1.180421</td>\n",
       "      <td>...</td>\n",
       "      <td>1.014666</td>\n",
       "      <td>0.985672</td>\n",
       "      <td>0.987327</td>\n",
       "      <td>1.054000</td>\n",
       "      <td>1.083903</td>\n",
       "      <td>1.109382</td>\n",
       "      <td>1.111331</td>\n",
       "      <td>1.057442</td>\n",
       "      <td>0.981608</td>\n",
       "      <td>0.906619</td>\n",
       "    </tr>\n",
       "    <tr>\n",
       "      <th>7889</th>\n",
       "      <td>0.804530</td>\n",
       "      <td>0.760075</td>\n",
       "      <td>0.710381</td>\n",
       "      <td>0.676698</td>\n",
       "      <td>0.655660</td>\n",
       "      <td>0.643223</td>\n",
       "      <td>0.650220</td>\n",
       "      <td>0.652109</td>\n",
       "      <td>0.656303</td>\n",
       "      <td>0.727315</td>\n",
       "      <td>...</td>\n",
       "      <td>0.870443</td>\n",
       "      <td>0.858233</td>\n",
       "      <td>0.861341</td>\n",
       "      <td>0.938411</td>\n",
       "      <td>1.051280</td>\n",
       "      <td>1.101948</td>\n",
       "      <td>1.097411</td>\n",
       "      <td>1.076520</td>\n",
       "      <td>1.031581</td>\n",
       "      <td>0.933482</td>\n",
       "    </tr>\n",
       "    <tr>\n",
       "      <th>7890</th>\n",
       "      <td>0.826915</td>\n",
       "      <td>0.803644</td>\n",
       "      <td>0.799314</td>\n",
       "      <td>0.831923</td>\n",
       "      <td>0.894641</td>\n",
       "      <td>1.052847</td>\n",
       "      <td>1.246578</td>\n",
       "      <td>1.364024</td>\n",
       "      <td>1.386158</td>\n",
       "      <td>1.402923</td>\n",
       "      <td>...</td>\n",
       "      <td>0.895732</td>\n",
       "      <td>0.912646</td>\n",
       "      <td>1.008646</td>\n",
       "      <td>1.057714</td>\n",
       "      <td>1.048581</td>\n",
       "      <td>1.026545</td>\n",
       "      <td>0.986151</td>\n",
       "      <td>0.992034</td>\n",
       "      <td>0.947141</td>\n",
       "      <td>0.903338</td>\n",
       "    </tr>\n",
       "    <tr>\n",
       "      <th>7892</th>\n",
       "      <td>0.771190</td>\n",
       "      <td>0.722944</td>\n",
       "      <td>0.680773</td>\n",
       "      <td>0.663500</td>\n",
       "      <td>0.662744</td>\n",
       "      <td>0.701890</td>\n",
       "      <td>0.770053</td>\n",
       "      <td>0.842935</td>\n",
       "      <td>0.899504</td>\n",
       "      <td>0.926435</td>\n",
       "      <td>...</td>\n",
       "      <td>1.016549</td>\n",
       "      <td>0.982916</td>\n",
       "      <td>0.998059</td>\n",
       "      <td>1.099489</td>\n",
       "      <td>1.152189</td>\n",
       "      <td>1.175024</td>\n",
       "      <td>1.164092</td>\n",
       "      <td>1.076250</td>\n",
       "      <td>0.965388</td>\n",
       "      <td>0.862581</td>\n",
       "    </tr>\n",
       "    <tr>\n",
       "      <th>7893</th>\n",
       "      <td>1.141608</td>\n",
       "      <td>1.166952</td>\n",
       "      <td>1.183503</td>\n",
       "      <td>1.213526</td>\n",
       "      <td>1.282154</td>\n",
       "      <td>1.398447</td>\n",
       "      <td>1.485527</td>\n",
       "      <td>1.536526</td>\n",
       "      <td>1.554908</td>\n",
       "      <td>1.558095</td>\n",
       "      <td>...</td>\n",
       "      <td>1.074684</td>\n",
       "      <td>1.088243</td>\n",
       "      <td>1.115553</td>\n",
       "      <td>1.121643</td>\n",
       "      <td>1.128426</td>\n",
       "      <td>1.137292</td>\n",
       "      <td>1.140348</td>\n",
       "      <td>1.147543</td>\n",
       "      <td>1.146912</td>\n",
       "      <td>1.152508</td>\n",
       "    </tr>\n",
       "  </tbody>\n",
       "</table>\n",
       "<p>4097 rows × 8736 columns</p>\n",
       "</div>"
      ],
      "text/plain": [
       "          0         1         2         3         4         5         6     \\\n",
       "id                                                                           \n",
       "81    0.938493  0.940560  0.944310  0.965798  0.995459  1.051265  1.163255   \n",
       "82    0.830213  0.812621  0.818705  0.849257  0.934548  1.020947  1.122072   \n",
       "83    1.133106  1.116463  1.117142  1.158983  1.300316  1.437187  1.521739   \n",
       "84    0.997376  0.999261  1.002606  1.036845  1.129625  1.236909  1.349189   \n",
       "85    0.985948  0.977606  0.978128  0.999351  1.065698  1.161528  1.251729   \n",
       "...        ...       ...       ...       ...       ...       ...       ...   \n",
       "7888  0.833788  0.782759  0.757954  0.756439  0.776692  0.847416  0.954083   \n",
       "7889  0.804530  0.760075  0.710381  0.676698  0.655660  0.643223  0.650220   \n",
       "7890  0.826915  0.803644  0.799314  0.831923  0.894641  1.052847  1.246578   \n",
       "7892  0.771190  0.722944  0.680773  0.663500  0.662744  0.701890  0.770053   \n",
       "7893  1.141608  1.166952  1.183503  1.213526  1.282154  1.398447  1.485527   \n",
       "\n",
       "          7         8         9     ...      8726      8727      8728  \\\n",
       "id                                  ...                                 \n",
       "81    1.264742  1.290854  1.252346  ...  0.917636  1.059149  1.140210   \n",
       "82    1.189067  1.187004  1.171765  ...  1.024050  1.147650  1.213714   \n",
       "83    1.577890  1.579783  1.572626  ...  1.482611  1.601737  1.643335   \n",
       "84    1.442794  1.466223  1.449336  ...  1.193146  1.319966  1.377354   \n",
       "85    1.315161  1.323655  1.321708  ...  1.286016  1.380591  1.410229   \n",
       "...        ...       ...       ...  ...       ...       ...       ...   \n",
       "7888  1.058619  1.147083  1.180421  ...  1.014666  0.985672  0.987327   \n",
       "7889  0.652109  0.656303  0.727315  ...  0.870443  0.858233  0.861341   \n",
       "7890  1.364024  1.386158  1.402923  ...  0.895732  0.912646  1.008646   \n",
       "7892  0.842935  0.899504  0.926435  ...  1.016549  0.982916  0.998059   \n",
       "7893  1.536526  1.554908  1.558095  ...  1.074684  1.088243  1.115553   \n",
       "\n",
       "          8729      8730      8731      8732      8733      8734      8735  \n",
       "id                                                                          \n",
       "81    1.144655  1.131974  1.115078  1.101026  1.053572  1.001059  0.947791  \n",
       "82    1.199697  1.158431  1.107062  1.046053  0.998426  0.913916  0.862687  \n",
       "83    1.622561  1.564341  1.493900  1.436283  1.354726  1.237783  1.171039  \n",
       "84    1.365830  1.333117  1.280138  1.235064  1.157820  1.079833  1.017227  \n",
       "85    1.382789  1.337821  1.272771  1.252215  1.165837  1.080944  1.023366  \n",
       "...        ...       ...       ...       ...       ...       ...       ...  \n",
       "7888  1.054000  1.083903  1.109382  1.111331  1.057442  0.981608  0.906619  \n",
       "7889  0.938411  1.051280  1.101948  1.097411  1.076520  1.031581  0.933482  \n",
       "7890  1.057714  1.048581  1.026545  0.986151  0.992034  0.947141  0.903338  \n",
       "7892  1.099489  1.152189  1.175024  1.164092  1.076250  0.965388  0.862581  \n",
       "7893  1.121643  1.128426  1.137292  1.140348  1.147543  1.146912  1.152508  \n",
       "\n",
       "[4097 rows x 8736 columns]"
      ]
     },
     "execution_count": 42,
     "metadata": {},
     "output_type": "execute_result"
    }
   ],
   "source": [
    "df = pd.DataFrame(all_time_series, index=load_ids)\n",
    "df.index.name = 'id'\n",
    "df"
   ]
  },
  {
   "cell_type": "markdown",
   "id": "0a11c9f4-5f0c-44a1-a938-0171fd97f48d",
   "metadata": {},
   "source": [
    "Export to CSV format:"
   ]
  },
  {
   "cell_type": "code",
   "execution_count": 43,
   "id": "cf0e7636-bb10-4f48-b536-16f15431b307",
   "metadata": {},
   "outputs": [],
   "source": [
    "df.to_csv(\"data/loads.csv\", mode='x')"
   ]
  },
  {
   "cell_type": "markdown",
   "id": "c6804b6e-c2a3-4605-b7b8-8084a3ef8c81",
   "metadata": {},
   "source": [
    "The whole procedure can be iterated multiple times to generate more than one time series for each load."
   ]
  },
  {
   "cell_type": "code",
   "execution_count": 44,
   "id": "159d0764-013c-4c00-afd1-f775f931c8b5",
   "metadata": {},
   "outputs": [],
   "source": [
    "# for label in range(0, 10):\n",
    "#     loads_by_country = {country: generate_time_series(country, count) for country, count in load_count_by_country.items()}\n",
    "#     all_time_series = np.array([loads_by_country[load_countries[i]][load_labels[i]] for i in range(n_loads)])\n",
    "#     df = pd.DataFrame(all_time_series, index=load_ids)\n",
    "#     df.index.name = 'id'\n",
    "#     filename = \"data/loads_%02d.csv\" % label\n",
    "#     print(\"Writing to file '%s'...\" % filename, end='')\n",
    "#     df.to_csv(filename, mode='x')\n",
    "#     print(\"ok\")"
   ]
  }
 ],
 "metadata": {
  "kernelspec": {
   "display_name": "Python 3 (ipykernel)",
   "language": "python",
   "name": "python3"
  },
  "language_info": {
   "codemirror_mode": {
    "name": "ipython",
    "version": 3
   },
   "file_extension": ".py",
   "mimetype": "text/x-python",
   "name": "python",
   "nbconvert_exporter": "python",
   "pygments_lexer": "ipython3",
   "version": "3.11.8"
  }
 },
 "nbformat": 4,
 "nbformat_minor": 5
}
