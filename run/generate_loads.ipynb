{
 "cells": [
  {
   "cell_type": "markdown",
   "id": "1f10caf4-b984-48dc-a79b-76b5bf5da76d",
   "metadata": {},
   "source": [
    "# Generate synthetic load series"
   ]
  },
  {
   "cell_type": "markdown",
   "id": "98f2faca-ffe7-4afd-979c-86abc69d11e4",
   "metadata": {},
   "source": [
    "This notebook generates synthetic time series for the ~4000 nodes of the European model."
   ]
  },
  {
   "cell_type": "code",
   "execution_count": 1,
   "id": "fa1974e2-c8e5-4c28-9401-3cc87bbdf7d2",
   "metadata": {},
   "outputs": [],
   "source": [
    "import os, sys\n",
    "sys.path.append('../TimeSeries/')\n",
    "\n",
    "import time_series as ts"
   ]
  },
  {
   "cell_type": "code",
   "execution_count": 2,
   "id": "6d364271-d2ac-4d8e-a794-9188446207a9",
   "metadata": {},
   "outputs": [],
   "source": [
    "import json\n",
    "import pandas as pd\n",
    "import numpy as np\n",
    "import matplotlib.pyplot as plt"
   ]
  },
  {
   "cell_type": "markdown",
   "id": "05d86ee5-6fa9-4967-8e37-6e1ab50b0a7c",
   "metadata": {},
   "source": [
    "### Get a list of loads by country "
   ]
  },
  {
   "cell_type": "markdown",
   "id": "703ed9b8-f654-41be-a1a0-dc3664cc4a47",
   "metadata": {},
   "source": [
    "Import the network file:"
   ]
  },
  {
   "cell_type": "code",
   "execution_count": 3,
   "id": "a8e9b1d4-9469-40ff-ba5e-06784634b8ff",
   "metadata": {},
   "outputs": [],
   "source": [
    "with open('../models/europe.json') as f:\n",
    "    network = json.load(f)"
   ]
  },
  {
   "cell_type": "markdown",
   "id": "b3c2cb91-ec81-4446-97bf-fce64625c62b",
   "metadata": {},
   "source": [
    "Get a list of all the load IDs:"
   ]
  },
  {
   "cell_type": "code",
   "execution_count": 4,
   "id": "e5053a58-f861-474f-a896-89418635c6c2",
   "metadata": {},
   "outputs": [
    {
     "data": {
      "text/plain": [
       "4097"
      ]
     },
     "execution_count": 4,
     "metadata": {},
     "output_type": "execute_result"
    }
   ],
   "source": [
    "load_ids = [int(id) for id in network['load'].keys()]\n",
    "load_ids.sort()\n",
    "\n",
    "n_loads = len(load_ids)\n",
    "n_loads"
   ]
  },
  {
   "cell_type": "markdown",
   "id": "7010fd06-aee3-45fc-bcdb-5d3da92168e9",
   "metadata": {},
   "source": [
    "For each load, determine the country of the attached bus:"
   ]
  },
  {
   "cell_type": "code",
   "execution_count": 5,
   "id": "d33fe74e-34a7-42aa-a914-d82dc1f4ea65",
   "metadata": {},
   "outputs": [],
   "source": [
    "load_countries = [network['bus'][str(network['load'][str(id)]['load_bus'])]['country'] for id in load_ids]"
   ]
  },
  {
   "cell_type": "markdown",
   "id": "301f2633-07e3-4cbc-82bf-b79047d1e0ac",
   "metadata": {},
   "source": [
    "The number of loads in each country is determined as follows:"
   ]
  },
  {
   "cell_type": "code",
   "execution_count": 6,
   "id": "da4c072d-9be0-4926-a3bd-d723e20e3976",
   "metadata": {},
   "outputs": [
    {
     "data": {
      "text/plain": [
       "26"
      ]
     },
     "execution_count": 6,
     "metadata": {},
     "output_type": "execute_result"
    }
   ],
   "source": [
    "countries = set(load_countries)\n",
    "len(countries)"
   ]
  },
  {
   "cell_type": "code",
   "execution_count": 7,
   "id": "3bcb2d17-9fc9-4c77-8792-4c0da394a508",
   "metadata": {},
   "outputs": [
    {
     "data": {
      "text/plain": [
       "ES    908\n",
       "FR    865\n",
       "DE    560\n",
       "IT    324\n",
       "PL    188\n",
       "DK    182\n",
       "CH    163\n",
       "PT    146\n",
       "RO    124\n",
       "AT     78\n",
       "CZ     71\n",
       "BG     64\n",
       "RS     53\n",
       "BE     50\n",
       "HU     47\n",
       "SK     43\n",
       "GR     38\n",
       "NL     38\n",
       "BA     35\n",
       "AL     30\n",
       "HR     28\n",
       "SI     15\n",
       "XX     13\n",
       "MK     12\n",
       "LU     12\n",
       "ME     10\n",
       "Name: count, dtype: int64"
      ]
     },
     "execution_count": 7,
     "metadata": {},
     "output_type": "execute_result"
    }
   ],
   "source": [
    "load_count_by_country = pd.Series(load_countries).value_counts()\n",
    "load_count_by_country"
   ]
  },
  {
   "cell_type": "markdown",
   "id": "f68df024-273d-41c8-b6ed-cb02bc191c2c",
   "metadata": {},
   "source": [
    "### Assign a unique label to each load"
   ]
  },
  {
   "cell_type": "markdown",
   "id": "86214bab-9e58-4897-b932-4bc8ae4da8e5",
   "metadata": {},
   "source": [
    "For each load of the model, assign a label that is unique for the country:"
   ]
  },
  {
   "cell_type": "code",
   "execution_count": 8,
   "id": "9cfde075-c931-41cf-8bad-c4806fb3f515",
   "metadata": {},
   "outputs": [],
   "source": [
    "country_label_count = {country: 0 for country in countries}\n",
    "load_labels = []\n",
    "for country in load_countries:\n",
    "    load_labels.append(country_label_count[country])\n",
    "    country_label_count[country] += 1"
   ]
  },
  {
   "cell_type": "markdown",
   "id": "377a54af-3943-42dc-ba8d-b7e480e2529a",
   "metadata": {},
   "source": [
    "### Use ENTSO-E models for synthetic time series"
   ]
  },
  {
   "cell_type": "markdown",
   "id": "899c16ee-454a-49c0-9544-bffe7cda6b9e",
   "metadata": {},
   "source": [
    "We make use of the ENTSO-E models stored in the directory `../TimeSeries/models/`:\n",
    "\n",
    "**Remark**: There are 2 countries (AL and MK) that do not have a statistical model, as well as a few loads that are not categorized in a country (XX). For all of these we use the Bulgarian load model (BG)."
   ]
  },
  {
   "cell_type": "code",
   "execution_count": 9,
   "id": "98455211-3f00-4cde-b1a5-497b63c1d570",
   "metadata": {},
   "outputs": [],
   "source": [
    "def find_entsoe_model_file(country):\n",
    "    for start_year in range(2015, 2020):\n",
    "        candidate_filename = '../TimeSeries/models/entsoe_load_%s_%d_2023.npz' % (country, start_year)\n",
    "        if os.path.isfile(candidate_filename):\n",
    "            return candidate_filename\n",
    "    # if no model file is found, use Bulgaria as a reference (due to geographical proximity)\n",
    "    print('No model file found for country \"%s\": use \"BG\" instead' % country)\n",
    "    return find_entsoe_model_file('BG')"
   ]
  },
  {
   "cell_type": "code",
   "execution_count": 10,
   "id": "66c47479-067f-409f-9974-faf663a9e65a",
   "metadata": {},
   "outputs": [
    {
     "name": "stdout",
     "output_type": "stream",
     "text": [
      "No model file found for country \"XX\": use \"BG\" instead\n",
      "No model file found for country \"MK\": use \"BG\" instead\n",
      "No model file found for country \"AL\": use \"BG\" instead\n"
     ]
    }
   ],
   "source": [
    "model_file_by_country = {country: find_entsoe_model_file(country) for country in countries}"
   ]
  },
  {
   "cell_type": "markdown",
   "id": "b86109b2-0dbf-40dc-910d-31919509c565",
   "metadata": {},
   "source": [
    "### Adjust correlations"
   ]
  },
  {
   "cell_type": "markdown",
   "id": "f3cdc83f-46f5-42b7-a0d7-b444e19613c5",
   "metadata": {},
   "source": [
    "The standard deviation can be adjusted to get a desired correlation between time series. For instance, to get correlations of 0.8 on average, we should use the following list of standard deviations:"
   ]
  },
  {
   "cell_type": "code",
   "execution_count": 11,
   "id": "577d72d4-b8a1-4a22-bc2c-2db00a62caef",
   "metadata": {},
   "outputs": [
    {
     "data": {
      "text/plain": [
       "{'XX': 1.3038033021007334,\n",
       " 'CH': 1.0281664925060878,\n",
       " 'PT': 1.6254526856473668,\n",
       " 'IT': 1.6960438975390633,\n",
       " 'HR': 1.4867082952898218,\n",
       " 'RS': 1.3578894050014643,\n",
       " 'MK': 1.3038033021007334,\n",
       " 'ES': 1.4632356299733178,\n",
       " 'SI': 1.2614872637148347,\n",
       " 'FR': 1.3927514314741773,\n",
       " 'BA': 0.5409517613733824,\n",
       " 'DE': 1.885284662635579,\n",
       " 'DK': 1.7790637378411591,\n",
       " 'AT': 1.5007183743148915,\n",
       " 'BE': 1.527461240893735,\n",
       " 'AL': 1.3038033021007334,\n",
       " 'RO': 1.4331553640898647,\n",
       " 'BG': 1.3038033021007334,\n",
       " 'HU': 1.1820838473031763,\n",
       " 'GR': 1.1299421717925708,\n",
       " 'LU': 0.7251243477409871,\n",
       " 'SK': 1.3308017304387127,\n",
       " 'ME': 1.0480354492758799,\n",
       " 'CZ': 1.748160617806918,\n",
       " 'NL': 1.1038067190364462,\n",
       " 'PL': 1.6355625399788383}"
      ]
     },
     "execution_count": 11,
     "metadata": {},
     "output_type": "execute_result"
    }
   ],
   "source": [
    "std_scaling_by_country = {country: ts.get_optimal_std_scaling(ts.import_model(model_file_by_country[country]), 0.8)\n",
    "                          for country in countries}\n",
    "std_scaling_by_country"
   ]
  },
  {
   "cell_type": "markdown",
   "id": "8ef22a10-1465-4829-bb5a-df4d0559cde4",
   "metadata": {},
   "source": [
    "### Generate time series for each country"
   ]
  },
  {
   "cell_type": "markdown",
   "id": "cb1389f3-5b6e-451f-815f-0a06e93a665c",
   "metadata": {},
   "source": [
    "For each country, we generate the corresponding number of synthetic time series based on the ENTSO-E models.\n",
    "\n",
    "Only one time step per hour is kept."
   ]
  },
  {
   "cell_type": "code",
   "execution_count": 12,
   "id": "e901adc6-74af-44c0-9a3e-a47b36946841",
   "metadata": {},
   "outputs": [],
   "source": [
    "def generate_time_series(country, count):\n",
    "    model = ts.import_model(model_file_by_country[country])\n",
    "    time_series = ts.generate_time_series(model, count, std_scaling=std_scaling_by_country[country], normalize=True)\n",
    "    timesteps_per_day = time_series.shape[1] / (24 * 364)\n",
    "    return time_series.reshape(count, 364*24, -1)[:, :, 0]"
   ]
  },
  {
   "cell_type": "code",
   "execution_count": 13,
   "id": "98887fac-a7cf-42e6-a695-f011b16a065e",
   "metadata": {},
   "outputs": [],
   "source": [
    "loads_by_country = {country: generate_time_series(country, count) for country, count in load_count_by_country.items()}"
   ]
  },
  {
   "cell_type": "markdown",
   "id": "6d41dd20-f993-447c-98b0-e14951a9f343",
   "metadata": {},
   "source": [
    "### Verify correlations"
   ]
  },
  {
   "cell_type": "markdown",
   "id": "1a6e30e4-cfe8-4c46-a3f4-d3b4dc2e91bf",
   "metadata": {},
   "source": [
    "Check that all pairs of series in every country are now correlated with the same distribution:"
   ]
  },
  {
   "cell_type": "code",
   "execution_count": 14,
   "id": "8adc3a00-8d10-4c5e-968d-a795b83290c6",
   "metadata": {},
   "outputs": [
    {
     "data": {
      "image/png": "[encoded data removed]",
      "text/plain": [
       "<Figure size 640x480 with 1 Axes>"
      ]
     },
     "metadata": {},
     "output_type": "display_data"
    }
   ],
   "source": [
    "for country, time_series in loads_by_country.items():\n",
    "    if len(time_series) > 50:\n",
    "        plt.hist(ts.compute_pairwise_correlations(time_series), range=(0,1), bins=25, histtype='step', density=True, label=country)\n",
    "plt.legend()\n",
    "plt.show()"
   ]
  },
  {
   "cell_type": "code",
   "execution_count": 15,
   "id": "e2ddd840-ffd0-4de5-b42f-fe5628716a18",
   "metadata": {},
   "outputs": [
    {
     "data": {
      "image/png": "[encoded data removed]",
      "text/plain": [
       "<Figure size 640x480 with 1 Axes>"
      ]
     },
     "metadata": {},
     "output_type": "display_data"
    }
   ],
   "source": [
    "for country, time_series in loads_by_country.items():\n",
    "    if len(time_series) <= 50:\n",
    "        plt.hist(ts.compute_pairwise_correlations(time_series), range=(0,1), bins=25, histtype='step', density=True, label=country)\n",
    "plt.legend()\n",
    "plt.show()"
   ]
  },
  {
   "cell_type": "markdown",
   "id": "f166c7cb-b405-46bc-93bb-046440b62414",
   "metadata": {},
   "source": [
    "Since each country's load profile has specific characteristics, the overall correlation between all time series has a broader distribution:"
   ]
  },
  {
   "cell_type": "code",
   "execution_count": 16,
   "id": "5d7201dc-5d5f-4885-a391-9a414112ac51",
   "metadata": {},
   "outputs": [
    {
     "data": {
      "image/png": "[encoded data removed]",
      "text/plain": [
       "<Figure size 640x480 with 1 Axes>"
      ]
     },
     "metadata": {},
     "output_type": "display_data"
    }
   ],
   "source": [
    "selected_countries = {\n",
    "    'DE': 'Germany',\n",
    "    'ES': 'Spain',\n",
    "    'FR': 'France'\n",
    "}\n",
    "\n",
    "for country, name in selected_countries.items():\n",
    "    time_series = loads_by_country[country]\n",
    "    n = time_series.shape[0] * (time_series.shape[0] - 1) // 2\n",
    "    plt.hist(ts.compute_pairwise_correlations(time_series), range=(0,1), bins=25, histtype='step',\n",
    "             weights=[100.0 / n for _ in range(n)], label=name)\n",
    "time_series = np.concatenate(list(loads_by_country.values()))\n",
    "n = time_series.shape[0] * (time_series.shape[0] - 1) // 2\n",
    "plt.hist(ts.compute_pairwise_correlations(time_series), range=(0,1), bins=25, histtype='step',\n",
    "         weights=[100.0 / n for _ in range(n)], label='All countries')\n",
    "plt.title('Synthetic load series')\n",
    "plt.xlabel('Pairwise correlation between time series')\n",
    "plt.ylabel('Occurences (%)')\n",
    "plt.legend()\n",
    "plt.savefig('figures/correlations.pdf')\n",
    "plt.show()"
   ]
  },
  {
   "cell_type": "markdown",
   "id": "e25201f6-8f68-4377-992d-93c89f91648a",
   "metadata": {},
   "source": [
    "### Export the time series"
   ]
  },
  {
   "cell_type": "markdown",
   "id": "81c4e2ea-9fef-430d-9611-8af481a1644e",
   "metadata": {},
   "source": [
    "Combine all time series into an array:"
   ]
  },
  {
   "cell_type": "code",
   "execution_count": 17,
   "id": "38caf681-79de-4f35-a392-9da94ec1a371",
   "metadata": {},
   "outputs": [],
   "source": [
    "all_time_series = np.array([loads_by_country[load_countries[i]][load_labels[i]] for i in range(n_loads)])"
   ]
  },
  {
   "cell_type": "code",
   "execution_count": 18,
   "id": "168fcb22-236f-48ca-a61e-24c3ec4394da",
   "metadata": {},
   "outputs": [],
   "source": [
    "assert all_time_series.shape == (n_loads, 364 * 24)"
   ]
  },
  {
   "cell_type": "markdown",
   "id": "377b65e4-3b0a-4e29-8f88-ade2dcec0ffe",
   "metadata": {},
   "source": [
    "Define a *Pandas* dataframe containing all time series, with time steps as columns and loads as rows:"
   ]
  },
  {
   "cell_type": "code",
   "execution_count": 19,
   "id": "a515b5f3-3141-4151-a1e4-404c9915fc94",
   "metadata": {},
   "outputs": [
    {
     "data": {
      "text/html": [
       "<div>\n",
       "<style scoped>\n",
       "    .dataframe tbody tr th:only-of-type {\n",
       "        vertical-align: middle;\n",
       "    }\n",
       "\n",
       "    .dataframe tbody tr th {\n",
       "        vertical-align: top;\n",
       "    }\n",
       "\n",
       "    .dataframe thead th {\n",
       "        text-align: right;\n",
       "    }\n",
       "</style>\n",
       "<table border=\"1\" class=\"dataframe\">\n",
       "  <thead>\n",
       "    <tr style=\"text-align: right;\">\n",
       "      <th></th>\n",
       "      <th>0</th>\n",
       "      <th>1</th>\n",
       "      <th>2</th>\n",
       "      <th>3</th>\n",
       "      <th>4</th>\n",
       "      <th>5</th>\n",
       "      <th>6</th>\n",
       "      <th>7</th>\n",
       "      <th>8</th>\n",
       "      <th>9</th>\n",
       "      <th>...</th>\n",
       "      <th>8726</th>\n",
       "      <th>8727</th>\n",
       "      <th>8728</th>\n",
       "      <th>8729</th>\n",
       "      <th>8730</th>\n",
       "      <th>8731</th>\n",
       "      <th>8732</th>\n",
       "      <th>8733</th>\n",
       "      <th>8734</th>\n",
       "      <th>8735</th>\n",
       "    </tr>\n",
       "    <tr>\n",
       "      <th>id</th>\n",
       "      <th></th>\n",
       "      <th></th>\n",
       "      <th></th>\n",
       "      <th></th>\n",
       "      <th></th>\n",
       "      <th></th>\n",
       "      <th></th>\n",
       "      <th></th>\n",
       "      <th></th>\n",
       "      <th></th>\n",
       "      <th></th>\n",
       "      <th></th>\n",
       "      <th></th>\n",
       "      <th></th>\n",
       "      <th></th>\n",
       "      <th></th>\n",
       "      <th></th>\n",
       "      <th></th>\n",
       "      <th></th>\n",
       "      <th></th>\n",
       "      <th></th>\n",
       "    </tr>\n",
       "  </thead>\n",
       "  <tbody>\n",
       "    <tr>\n",
       "      <th>81</th>\n",
       "      <td>0.839716</td>\n",
       "      <td>0.841526</td>\n",
       "      <td>0.856954</td>\n",
       "      <td>0.919438</td>\n",
       "      <td>1.069249</td>\n",
       "      <td>1.243192</td>\n",
       "      <td>1.388328</td>\n",
       "      <td>1.444352</td>\n",
       "      <td>1.417776</td>\n",
       "      <td>1.398111</td>\n",
       "      <td>...</td>\n",
       "      <td>1.111516</td>\n",
       "      <td>1.217451</td>\n",
       "      <td>1.277077</td>\n",
       "      <td>1.249220</td>\n",
       "      <td>1.200688</td>\n",
       "      <td>1.119779</td>\n",
       "      <td>1.062907</td>\n",
       "      <td>0.976546</td>\n",
       "      <td>0.898233</td>\n",
       "      <td>0.850661</td>\n",
       "    </tr>\n",
       "    <tr>\n",
       "      <th>82</th>\n",
       "      <td>0.904606</td>\n",
       "      <td>0.899753</td>\n",
       "      <td>0.912281</td>\n",
       "      <td>0.959701</td>\n",
       "      <td>1.071538</td>\n",
       "      <td>1.196799</td>\n",
       "      <td>1.328015</td>\n",
       "      <td>1.405129</td>\n",
       "      <td>1.402345</td>\n",
       "      <td>1.382242</td>\n",
       "      <td>...</td>\n",
       "      <td>1.132351</td>\n",
       "      <td>1.248159</td>\n",
       "      <td>1.306224</td>\n",
       "      <td>1.279675</td>\n",
       "      <td>1.235060</td>\n",
       "      <td>1.172595</td>\n",
       "      <td>1.118606</td>\n",
       "      <td>1.050554</td>\n",
       "      <td>0.971854</td>\n",
       "      <td>0.919984</td>\n",
       "    </tr>\n",
       "    <tr>\n",
       "      <th>83</th>\n",
       "      <td>1.242789</td>\n",
       "      <td>1.219427</td>\n",
       "      <td>1.207544</td>\n",
       "      <td>1.233445</td>\n",
       "      <td>1.351873</td>\n",
       "      <td>1.455025</td>\n",
       "      <td>1.509691</td>\n",
       "      <td>1.548915</td>\n",
       "      <td>1.558050</td>\n",
       "      <td>1.561231</td>\n",
       "      <td>...</td>\n",
       "      <td>1.685234</td>\n",
       "      <td>1.778296</td>\n",
       "      <td>1.806441</td>\n",
       "      <td>1.774809</td>\n",
       "      <td>1.712983</td>\n",
       "      <td>1.639773</td>\n",
       "      <td>1.583663</td>\n",
       "      <td>1.490692</td>\n",
       "      <td>1.371961</td>\n",
       "      <td>1.299613</td>\n",
       "    </tr>\n",
       "    <tr>\n",
       "      <th>84</th>\n",
       "      <td>0.847815</td>\n",
       "      <td>0.844606</td>\n",
       "      <td>0.842333</td>\n",
       "      <td>0.862148</td>\n",
       "      <td>0.914959</td>\n",
       "      <td>1.015308</td>\n",
       "      <td>1.112929</td>\n",
       "      <td>1.204990</td>\n",
       "      <td>1.230527</td>\n",
       "      <td>1.221393</td>\n",
       "      <td>...</td>\n",
       "      <td>1.036127</td>\n",
       "      <td>1.162719</td>\n",
       "      <td>1.201150</td>\n",
       "      <td>1.194431</td>\n",
       "      <td>1.157757</td>\n",
       "      <td>1.102552</td>\n",
       "      <td>1.091878</td>\n",
       "      <td>1.018786</td>\n",
       "      <td>0.937198</td>\n",
       "      <td>0.879839</td>\n",
       "    </tr>\n",
       "    <tr>\n",
       "      <th>85</th>\n",
       "      <td>0.806430</td>\n",
       "      <td>0.788131</td>\n",
       "      <td>0.786415</td>\n",
       "      <td>0.797958</td>\n",
       "      <td>0.838498</td>\n",
       "      <td>0.911226</td>\n",
       "      <td>0.993776</td>\n",
       "      <td>1.077742</td>\n",
       "      <td>1.099251</td>\n",
       "      <td>1.096932</td>\n",
       "      <td>...</td>\n",
       "      <td>1.025026</td>\n",
       "      <td>1.149002</td>\n",
       "      <td>1.184389</td>\n",
       "      <td>1.172114</td>\n",
       "      <td>1.127843</td>\n",
       "      <td>1.074800</td>\n",
       "      <td>1.051495</td>\n",
       "      <td>0.997342</td>\n",
       "      <td>0.905935</td>\n",
       "      <td>0.851034</td>\n",
       "    </tr>\n",
       "    <tr>\n",
       "      <th>...</th>\n",
       "      <td>...</td>\n",
       "      <td>...</td>\n",
       "      <td>...</td>\n",
       "      <td>...</td>\n",
       "      <td>...</td>\n",
       "      <td>...</td>\n",
       "      <td>...</td>\n",
       "      <td>...</td>\n",
       "      <td>...</td>\n",
       "      <td>...</td>\n",
       "      <td>...</td>\n",
       "      <td>...</td>\n",
       "      <td>...</td>\n",
       "      <td>...</td>\n",
       "      <td>...</td>\n",
       "      <td>...</td>\n",
       "      <td>...</td>\n",
       "      <td>...</td>\n",
       "      <td>...</td>\n",
       "      <td>...</td>\n",
       "      <td>...</td>\n",
       "    </tr>\n",
       "    <tr>\n",
       "      <th>7888</th>\n",
       "      <td>0.804276</td>\n",
       "      <td>0.780313</td>\n",
       "      <td>0.779765</td>\n",
       "      <td>0.793223</td>\n",
       "      <td>0.851104</td>\n",
       "      <td>1.012256</td>\n",
       "      <td>1.232094</td>\n",
       "      <td>1.408136</td>\n",
       "      <td>1.516885</td>\n",
       "      <td>1.563426</td>\n",
       "      <td>...</td>\n",
       "      <td>0.783702</td>\n",
       "      <td>0.777009</td>\n",
       "      <td>0.813081</td>\n",
       "      <td>0.946105</td>\n",
       "      <td>1.044145</td>\n",
       "      <td>1.095207</td>\n",
       "      <td>1.097730</td>\n",
       "      <td>1.061382</td>\n",
       "      <td>0.965207</td>\n",
       "      <td>0.868116</td>\n",
       "    </tr>\n",
       "    <tr>\n",
       "      <th>7889</th>\n",
       "      <td>0.927133</td>\n",
       "      <td>0.835971</td>\n",
       "      <td>0.784823</td>\n",
       "      <td>0.775866</td>\n",
       "      <td>0.778797</td>\n",
       "      <td>0.797422</td>\n",
       "      <td>0.880838</td>\n",
       "      <td>1.051007</td>\n",
       "      <td>1.219497</td>\n",
       "      <td>1.359110</td>\n",
       "      <td>...</td>\n",
       "      <td>1.041484</td>\n",
       "      <td>1.046873</td>\n",
       "      <td>1.056731</td>\n",
       "      <td>1.110473</td>\n",
       "      <td>1.204619</td>\n",
       "      <td>1.240017</td>\n",
       "      <td>1.245680</td>\n",
       "      <td>1.224752</td>\n",
       "      <td>1.158349</td>\n",
       "      <td>1.007563</td>\n",
       "    </tr>\n",
       "    <tr>\n",
       "      <th>7890</th>\n",
       "      <td>0.707004</td>\n",
       "      <td>0.676214</td>\n",
       "      <td>0.647829</td>\n",
       "      <td>0.643691</td>\n",
       "      <td>0.628990</td>\n",
       "      <td>0.570232</td>\n",
       "      <td>0.574435</td>\n",
       "      <td>0.643241</td>\n",
       "      <td>0.709139</td>\n",
       "      <td>0.769197</td>\n",
       "      <td>...</td>\n",
       "      <td>0.755291</td>\n",
       "      <td>0.769895</td>\n",
       "      <td>0.850921</td>\n",
       "      <td>0.854874</td>\n",
       "      <td>0.852303</td>\n",
       "      <td>0.829705</td>\n",
       "      <td>0.784721</td>\n",
       "      <td>0.812102</td>\n",
       "      <td>0.757067</td>\n",
       "      <td>0.712415</td>\n",
       "    </tr>\n",
       "    <tr>\n",
       "      <th>7892</th>\n",
       "      <td>0.910403</td>\n",
       "      <td>0.867410</td>\n",
       "      <td>0.850116</td>\n",
       "      <td>0.851601</td>\n",
       "      <td>0.895586</td>\n",
       "      <td>1.014003</td>\n",
       "      <td>1.184803</td>\n",
       "      <td>1.341339</td>\n",
       "      <td>1.488328</td>\n",
       "      <td>1.555243</td>\n",
       "      <td>...</td>\n",
       "      <td>1.059783</td>\n",
       "      <td>1.036255</td>\n",
       "      <td>1.057470</td>\n",
       "      <td>1.171223</td>\n",
       "      <td>1.247062</td>\n",
       "      <td>1.287159</td>\n",
       "      <td>1.291581</td>\n",
       "      <td>1.247702</td>\n",
       "      <td>1.132285</td>\n",
       "      <td>1.002011</td>\n",
       "    </tr>\n",
       "    <tr>\n",
       "      <th>7893</th>\n",
       "      <td>0.949243</td>\n",
       "      <td>0.952693</td>\n",
       "      <td>0.954159</td>\n",
       "      <td>0.969774</td>\n",
       "      <td>1.008537</td>\n",
       "      <td>1.081919</td>\n",
       "      <td>1.134665</td>\n",
       "      <td>1.175089</td>\n",
       "      <td>1.188503</td>\n",
       "      <td>1.192335</td>\n",
       "      <td>...</td>\n",
       "      <td>0.952110</td>\n",
       "      <td>1.011299</td>\n",
       "      <td>1.048730</td>\n",
       "      <td>1.052454</td>\n",
       "      <td>1.054543</td>\n",
       "      <td>1.045076</td>\n",
       "      <td>1.025352</td>\n",
       "      <td>1.003657</td>\n",
       "      <td>0.977688</td>\n",
       "      <td>0.962107</td>\n",
       "    </tr>\n",
       "  </tbody>\n",
       "</table>\n",
       "<p>4097 rows × 8736 columns</p>\n",
       "</div>"
      ],
      "text/plain": [
       "          0         1         2         3         4         5         6     \\\n",
       "id                                                                           \n",
       "81    0.839716  0.841526  0.856954  0.919438  1.069249  1.243192  1.388328   \n",
       "82    0.904606  0.899753  0.912281  0.959701  1.071538  1.196799  1.328015   \n",
       "83    1.242789  1.219427  1.207544  1.233445  1.351873  1.455025  1.509691   \n",
       "84    0.847815  0.844606  0.842333  0.862148  0.914959  1.015308  1.112929   \n",
       "85    0.806430  0.788131  0.786415  0.797958  0.838498  0.911226  0.993776   \n",
       "...        ...       ...       ...       ...       ...       ...       ...   \n",
       "7888  0.804276  0.780313  0.779765  0.793223  0.851104  1.012256  1.232094   \n",
       "7889  0.927133  0.835971  0.784823  0.775866  0.778797  0.797422  0.880838   \n",
       "7890  0.707004  0.676214  0.647829  0.643691  0.628990  0.570232  0.574435   \n",
       "7892  0.910403  0.867410  0.850116  0.851601  0.895586  1.014003  1.184803   \n",
       "7893  0.949243  0.952693  0.954159  0.969774  1.008537  1.081919  1.134665   \n",
       "\n",
       "          7         8         9     ...      8726      8727      8728  \\\n",
       "id                                  ...                                 \n",
       "81    1.444352  1.417776  1.398111  ...  1.111516  1.217451  1.277077   \n",
       "82    1.405129  1.402345  1.382242  ...  1.132351  1.248159  1.306224   \n",
       "83    1.548915  1.558050  1.561231  ...  1.685234  1.778296  1.806441   \n",
       "84    1.204990  1.230527  1.221393  ...  1.036127  1.162719  1.201150   \n",
       "85    1.077742  1.099251  1.096932  ...  1.025026  1.149002  1.184389   \n",
       "...        ...       ...       ...  ...       ...       ...       ...   \n",
       "7888  1.408136  1.516885  1.563426  ...  0.783702  0.777009  0.813081   \n",
       "7889  1.051007  1.219497  1.359110  ...  1.041484  1.046873  1.056731   \n",
       "7890  0.643241  0.709139  0.769197  ...  0.755291  0.769895  0.850921   \n",
       "7892  1.341339  1.488328  1.555243  ...  1.059783  1.036255  1.057470   \n",
       "7893  1.175089  1.188503  1.192335  ...  0.952110  1.011299  1.048730   \n",
       "\n",
       "          8729      8730      8731      8732      8733      8734      8735  \n",
       "id                                                                          \n",
       "81    1.249220  1.200688  1.119779  1.062907  0.976546  0.898233  0.850661  \n",
       "82    1.279675  1.235060  1.172595  1.118606  1.050554  0.971854  0.919984  \n",
       "83    1.774809  1.712983  1.639773  1.583663  1.490692  1.371961  1.299613  \n",
       "84    1.194431  1.157757  1.102552  1.091878  1.018786  0.937198  0.879839  \n",
       "85    1.172114  1.127843  1.074800  1.051495  0.997342  0.905935  0.851034  \n",
       "...        ...       ...       ...       ...       ...       ...       ...  \n",
       "7888  0.946105  1.044145  1.095207  1.097730  1.061382  0.965207  0.868116  \n",
       "7889  1.110473  1.204619  1.240017  1.245680  1.224752  1.158349  1.007563  \n",
       "7890  0.854874  0.852303  0.829705  0.784721  0.812102  0.757067  0.712415  \n",
       "7892  1.171223  1.247062  1.287159  1.291581  1.247702  1.132285  1.002011  \n",
       "7893  1.052454  1.054543  1.045076  1.025352  1.003657  0.977688  0.962107  \n",
       "\n",
       "[4097 rows x 8736 columns]"
      ]
     },
     "execution_count": 19,
     "metadata": {},
     "output_type": "execute_result"
    }
   ],
   "source": [
    "df = pd.DataFrame(all_time_series, index=load_ids)\n",
    "df.index.name = 'id'\n",
    "df"
   ]
  },
  {
   "cell_type": "markdown",
   "id": "0a11c9f4-5f0c-44a1-a938-0171fd97f48d",
   "metadata": {},
   "source": [
    "Export to CSV format:"
   ]
  },
  {
   "cell_type": "code",
   "execution_count": null,
   "id": "cf0e7636-bb10-4f48-b536-16f15431b307",
   "metadata": {},
   "outputs": [],
   "source": [
    "df.to_csv(\"data/loads.csv\", mode='x')"
   ]
  },
  {
   "cell_type": "markdown",
   "id": "c6804b6e-c2a3-4605-b7b8-8084a3ef8c81",
   "metadata": {},
   "source": [
    "The whole procedure can be iterated multiple times to generate more than one time series for each load."
   ]
  },
  {
   "cell_type": "code",
   "execution_count": null,
   "id": "72640d78-d7b6-4aee-a230-fdcf3cb4a914",
   "metadata": {},
   "outputs": [],
   "source": [
    "for year in range(2016, 2021):\n",
    "    for i in range(1, 5):\n",
    "        loads_by_country = {country: generate_time_series(country, count) for country, count in load_count_by_country.items()}\n",
    "        all_time_series = np.array([loads_by_country[load_countries[i]][load_labels[i]] for i in range(n_loads)])\n",
    "        df = pd.DataFrame(all_time_series, index=load_ids)\n",
    "        df.index.name = 'id'\n",
    "        filename = \"data/loads_%d_%d.csv\" % (year, i)\n",
    "        print(\"Writing to file '%s'...\" % filename, end='')\n",
    "        df.to_csv(filename, mode='x')\n",
    "        print(\"ok\")"
   ]
  }
 ],
 "metadata": {
  "kernelspec": {
   "display_name": "Python 3 (ipykernel)",
   "language": "python",
   "name": "python3"
  },
  "language_info": {
   "codemirror_mode": {
    "name": "ipython",
    "version": 3
   },
   "file_extension": ".py",
   "mimetype": "text/x-python",
   "name": "python",
   "nbconvert_exporter": "python",
   "pygments_lexer": "ipython3",
   "version": "3.11.8"
  }
 },
 "nbformat": 4,
 "nbformat_minor": 5
}
