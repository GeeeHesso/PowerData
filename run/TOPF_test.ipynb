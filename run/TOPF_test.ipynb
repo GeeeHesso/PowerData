{
 "cells": [
  {
   "cell_type": "markdown",
   "id": "d21b933b-ec98-47e6-ba21-473877f8e4cd",
   "metadata": {},
   "source": [
    "# Parameters"
   ]
  },
  {
   "cell_type": "markdown",
   "id": "af82478d-1e40-4063-b67e-fb10630e9050",
   "metadata": {},
   "source": [
    "Use the setup created with the notebook [OPF_setup](./OPF_setup.ipynb)"
   ]
  },
  {
   "cell_type": "code",
   "execution_count": null,
   "id": "4efe027b-eaeb-45dc-922a-9622aa9f1253",
   "metadata": {},
   "outputs": [],
   "source": [
    "model_file = \"../models/europe.json\"\n",
    "data_dir   = \"data/run_1\""
   ]
  },
  {
   "cell_type": "code",
   "execution_count": null,
   "id": "beecd635-2638-4d9e-baf0-d79bcf129d01",
   "metadata": {},
   "outputs": [],
   "source": [
    "using TemperateOptimalPowerFlow\n",
    "using DataDrop, Plots"
   ]
  },
  {
   "cell_type": "markdown",
   "id": "96a59238-e825-40ef-af1e-9f71a8e78b67",
   "metadata": {},
   "source": [
    "# Small-scale test"
   ]
  },
  {
   "cell_type": "markdown",
   "id": "a017b0e5-7c29-4abc-87b0-b16170269a8f",
   "metadata": {},
   "source": [
    "Reduce the number of times steps:"
   ]
  },
  {
   "cell_type": "code",
   "execution_count": null,
   "id": "5961335e-80ea-4bc7-a0cf-40990cec3480",
   "metadata": {},
   "outputs": [],
   "source": [
    "scale_down(data_dir, 12)"
   ]
  },
  {
   "cell_type": "markdown",
   "id": "c060709d-4539-4894-9b1b-59cc75aa49a4",
   "metadata": {},
   "source": [
    "Perform OPF:"
   ]
  },
  {
   "cell_type": "code",
   "execution_count": null,
   "id": "f78cb233-6787-44a8-97eb-795ae3af3a2e",
   "metadata": {},
   "outputs": [],
   "source": [
    "using Ipopt\n",
    "# using Gurobi"
   ]
  },
  {
   "cell_type": "code",
   "execution_count": null,
   "id": "679d73ae-1eda-4fdf-bdf1-911a9dae1a4e",
   "metadata": {},
   "outputs": [],
   "source": [
    "compute(data_dir, \"P_result_12\")"
   ]
  },
  {
   "cell_type": "code",
   "execution_count": null,
   "id": "548c404a-ab86-4012-80bf-ebbfab63fec4",
   "metadata": {},
   "outputs": [],
   "source": [
    "compute(data_dir, \"P_result_3x4\", [3, 4])"
   ]
  },
  {
   "cell_type": "code",
   "execution_count": null,
   "id": "eb1e08ac-f75f-4128-b03a-0b699ab42003",
   "metadata": {},
   "outputs": [],
   "source": [
    "compute(data_dir, \"P_result_2x2x3\", [2, 2, 3])"
   ]
  },
  {
   "cell_type": "markdown",
   "id": "cfd88c0e-c7bb-48c3-a074-301cbb1f0b30",
   "metadata": {},
   "source": [
    "# Examine the results"
   ]
  },
  {
   "cell_type": "code",
   "execution_count": null,
   "id": "a713b8e7-dfdf-4c0c-a570-4152122bbfc9",
   "metadata": {},
   "outputs": [],
   "source": [
    "P_results = Dict(partition => DataDrop.retrieve_matrix(\"$(data_dir)/P_result_$partition.h5\")\n",
    "    for partition ∈ [\"12\", \"3x4\", \"2x2x3\"])"
   ]
  },
  {
   "cell_type": "code",
   "execution_count": null,
   "id": "7b60dde4-9bca-443e-a833-e054d7f3dfb0",
   "metadata": {},
   "outputs": [],
   "source": [
    "# network = import_model(model_file)\n",
    "# gen_ids = Dict(id => i for (i, id) ∈ enumerate(get_ordered_gen_ids(network)))"
   ]
  },
  {
   "cell_type": "code",
   "execution_count": null,
   "id": "5bd79b09-22cd-443b-97ce-c0c569856647",
   "metadata": {},
   "outputs": [],
   "source": [
    "# function plot_gen(id)\n",
    "#     bus_name = network[\"bus\"][string(network[\"gen\"][id][\"gen_bus\"])][\"name\"]\n",
    "#     gen_type = network[\"gen\"][id][\"type\"]\n",
    "#     title = \"$(bus_name) - $(gen_type)\"\n",
    "#     id = parse(Int, \n",
    "#     plot()\n",
    "#     for (partition, P) ∈ P_results\n",
    "#         plot!(100 * P[312, :], label=partition, title=title)\n",
    "#     end\n",
    "#     plot!()   \n",
    "# end"
   ]
  },
  {
   "cell_type": "code",
   "execution_count": null,
   "id": "f62e0120-2340-424b-a900-6287c7932f4b",
   "metadata": {},
   "outputs": [],
   "source": []
  }
 ],
 "metadata": {
  "kernelspec": {
   "display_name": "Julia 1.10.4",
   "language": "julia",
   "name": "julia-1.10"
  },
  "language_info": {
   "file_extension": ".jl",
   "mimetype": "application/julia",
   "name": "julia",
   "version": "1.10.4"
  }
 },
 "nbformat": 4,
 "nbformat_minor": 5
}
