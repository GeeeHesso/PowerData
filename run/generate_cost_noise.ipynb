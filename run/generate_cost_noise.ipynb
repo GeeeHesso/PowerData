{
 "cells": [
  {
   "cell_type": "markdown",
   "id": "1f10caf4-b984-48dc-a79b-76b5bf5da76d",
   "metadata": {},
   "source": [
    "# Generate noise series for the production cost of generators"
   ]
  },
  {
   "cell_type": "markdown",
   "id": "98f2faca-ffe7-4afd-979c-86abc69d11e4",
   "metadata": {},
   "source": [
    "This notebook generates noise series for all 770 dispatchable generators of the European model."
   ]
  },
  {
   "cell_type": "code",
   "execution_count": 1,
   "id": "fa1974e2-c8e5-4c28-9401-3cc87bbdf7d2",
   "metadata": {},
   "outputs": [],
   "source": [
    "import os, sys\n",
    "sys.path.append('../TimeSeries/')\n",
    "\n",
    "import time_series as ts"
   ]
  },
  {
   "cell_type": "code",
   "execution_count": 2,
   "id": "6d364271-d2ac-4d8e-a794-9188446207a9",
   "metadata": {},
   "outputs": [],
   "source": [
    "import json\n",
    "import pandas as pd\n",
    "import numpy as np\n",
    "import matplotlib.pyplot as plt"
   ]
  },
  {
   "cell_type": "markdown",
   "id": "05d86ee5-6fa9-4967-8e37-6e1ab50b0a7c",
   "metadata": {},
   "source": [
    "### Get a list of gens"
   ]
  },
  {
   "cell_type": "markdown",
   "id": "703ed9b8-f654-41be-a1a0-dc3664cc4a47",
   "metadata": {},
   "source": [
    "Import the network file:"
   ]
  },
  {
   "cell_type": "code",
   "execution_count": 3,
   "id": "a8e9b1d4-9469-40ff-ba5e-06784634b8ff",
   "metadata": {},
   "outputs": [],
   "source": [
    "with open('../models/europe.json') as f:\n",
    "    network = json.load(f)"
   ]
  },
  {
   "cell_type": "markdown",
   "id": "b948dae9-fb59-48a6-ba85-22dbab361960",
   "metadata": {},
   "source": [
    "Count the number of generators:"
   ]
  },
  {
   "cell_type": "code",
   "execution_count": 4,
   "id": "4c0b7368-173e-4335-9d23-e2ca2f6dc34e",
   "metadata": {},
   "outputs": [
    {
     "data": {
      "text/plain": [
       "815"
      ]
     },
     "execution_count": 4,
     "metadata": {},
     "output_type": "execute_result"
    }
   ],
   "source": [
    "n_gens_all = len(network['gen'])\n",
    "n_gens_all"
   ]
  },
  {
   "cell_type": "markdown",
   "id": "34519888-0706-4663-9de0-09651e000619",
   "metadata": {},
   "source": [
    "Subtract non-dispatchable generators:"
   ]
  },
  {
   "cell_type": "code",
   "execution_count": 5,
   "id": "e8f2fdab-482c-475a-8411-cf5d2a60a7b9",
   "metadata": {},
   "outputs": [
    {
     "data": {
      "text/plain": [
       "44"
      ]
     },
     "execution_count": 5,
     "metadata": {},
     "output_type": "execute_result"
    }
   ],
   "source": [
    "n_nuc = len(pd.read_csv('data/nuclear_2016.csv'))\n",
    "n_nuc"
   ]
  },
  {
   "cell_type": "code",
   "execution_count": 6,
   "id": "2198a6fa-9d4c-477e-be00-bd07ba2d1fcd",
   "metadata": {},
   "outputs": [
    {
     "data": {
      "text/plain": [
       "771"
      ]
     },
     "execution_count": 6,
     "metadata": {},
     "output_type": "execute_result"
    }
   ],
   "source": [
    "n_gens = n_gens_all - n_nuc\n",
    "n_gens"
   ]
  },
  {
   "cell_type": "markdown",
   "id": "cb6cae68-7565-4d85-a0aa-cdd4f14c50ee",
   "metadata": {},
   "source": [
    "### Generate noise series"
   ]
  },
  {
   "cell_type": "markdown",
   "id": "03d0c52d-ea09-48a6-bb60-5aed6da1b067",
   "metadata": {},
   "source": [
    "To be relevant, the noise on the generation cost must be of the same order of magnitude as the line cost computed in the model, which is directly related to the power flowing on the line.\n",
    "\n",
    "We choose therefore a noise with a standard deviation of 0.1 in per-unit, corresponding to 10 MW."
   ]
  },
  {
   "cell_type": "code",
   "execution_count": 7,
   "id": "338fd47f-6da3-4039-920a-0e3518dfe9ae",
   "metadata": {},
   "outputs": [],
   "source": [
    "noise_time_series = 0.1 * ts.generate_noise(count=n_gens)"
   ]
  },
  {
   "cell_type": "code",
   "execution_count": 8,
   "id": "1b3361cd-f13a-4bc2-913c-c905c3e3bbf4",
   "metadata": {},
   "outputs": [
    {
     "data": {
      "text/plain": [
       "(2.62927320485265e-16, 0.09881085819277959)"
      ]
     },
     "execution_count": 8,
     "metadata": {},
     "output_type": "execute_result"
    }
   ],
   "source": [
    "noise_time_series.mean(), noise_time_series.std(axis=1).mean()"
   ]
  },
  {
   "cell_type": "markdown",
   "id": "77da63a9-f533-4c58-9040-528580ea4431",
   "metadata": {},
   "source": [
    "Pack everything into a dataframe, with time steps as columns and generators as rows:"
   ]
  },
  {
   "cell_type": "code",
   "execution_count": 9,
   "id": "c73f771c-00a6-4327-acc3-d3f6791b6901",
   "metadata": {},
   "outputs": [
    {
     "data": {
      "text/html": [
       "<div>\n",
       "<style scoped>\n",
       "    .dataframe tbody tr th:only-of-type {\n",
       "        vertical-align: middle;\n",
       "    }\n",
       "\n",
       "    .dataframe tbody tr th {\n",
       "        vertical-align: top;\n",
       "    }\n",
       "\n",
       "    .dataframe thead th {\n",
       "        text-align: right;\n",
       "    }\n",
       "</style>\n",
       "<table border=\"1\" class=\"dataframe\">\n",
       "  <thead>\n",
       "    <tr style=\"text-align: right;\">\n",
       "      <th></th>\n",
       "      <th>0</th>\n",
       "      <th>1</th>\n",
       "      <th>2</th>\n",
       "      <th>3</th>\n",
       "      <th>4</th>\n",
       "      <th>5</th>\n",
       "      <th>6</th>\n",
       "      <th>7</th>\n",
       "      <th>8</th>\n",
       "      <th>9</th>\n",
       "      <th>...</th>\n",
       "      <th>8726</th>\n",
       "      <th>8727</th>\n",
       "      <th>8728</th>\n",
       "      <th>8729</th>\n",
       "      <th>8730</th>\n",
       "      <th>8731</th>\n",
       "      <th>8732</th>\n",
       "      <th>8733</th>\n",
       "      <th>8734</th>\n",
       "      <th>8735</th>\n",
       "    </tr>\n",
       "    <tr>\n",
       "      <th>id</th>\n",
       "      <th></th>\n",
       "      <th></th>\n",
       "      <th></th>\n",
       "      <th></th>\n",
       "      <th></th>\n",
       "      <th></th>\n",
       "      <th></th>\n",
       "      <th></th>\n",
       "      <th></th>\n",
       "      <th></th>\n",
       "      <th></th>\n",
       "      <th></th>\n",
       "      <th></th>\n",
       "      <th></th>\n",
       "      <th></th>\n",
       "      <th></th>\n",
       "      <th></th>\n",
       "      <th></th>\n",
       "      <th></th>\n",
       "      <th></th>\n",
       "      <th></th>\n",
       "    </tr>\n",
       "  </thead>\n",
       "  <tbody>\n",
       "    <tr>\n",
       "      <th>0</th>\n",
       "      <td>-0.026249</td>\n",
       "      <td>0.019820</td>\n",
       "      <td>0.079053</td>\n",
       "      <td>-0.043354</td>\n",
       "      <td>-0.097841</td>\n",
       "      <td>-0.049243</td>\n",
       "      <td>0.063898</td>\n",
       "      <td>0.011228</td>\n",
       "      <td>0.049185</td>\n",
       "      <td>0.065321</td>\n",
       "      <td>...</td>\n",
       "      <td>-0.028627</td>\n",
       "      <td>-0.037443</td>\n",
       "      <td>-0.095100</td>\n",
       "      <td>0.042149</td>\n",
       "      <td>-0.002588</td>\n",
       "      <td>-0.054946</td>\n",
       "      <td>0.074796</td>\n",
       "      <td>0.004821</td>\n",
       "      <td>-0.066613</td>\n",
       "      <td>0.032703</td>\n",
       "    </tr>\n",
       "    <tr>\n",
       "      <th>1</th>\n",
       "      <td>-0.070787</td>\n",
       "      <td>-0.126037</td>\n",
       "      <td>-0.219750</td>\n",
       "      <td>-0.191466</td>\n",
       "      <td>-0.253986</td>\n",
       "      <td>-0.225655</td>\n",
       "      <td>-0.229588</td>\n",
       "      <td>-0.131912</td>\n",
       "      <td>-0.114484</td>\n",
       "      <td>-0.208030</td>\n",
       "      <td>...</td>\n",
       "      <td>-0.103238</td>\n",
       "      <td>-0.194308</td>\n",
       "      <td>-0.176896</td>\n",
       "      <td>-0.125430</td>\n",
       "      <td>-0.227190</td>\n",
       "      <td>-0.259487</td>\n",
       "      <td>-0.243443</td>\n",
       "      <td>-0.170083</td>\n",
       "      <td>-0.225453</td>\n",
       "      <td>-0.282577</td>\n",
       "    </tr>\n",
       "    <tr>\n",
       "      <th>2</th>\n",
       "      <td>0.105176</td>\n",
       "      <td>0.069375</td>\n",
       "      <td>0.194085</td>\n",
       "      <td>0.116418</td>\n",
       "      <td>0.002906</td>\n",
       "      <td>0.080336</td>\n",
       "      <td>0.091157</td>\n",
       "      <td>0.143337</td>\n",
       "      <td>0.060922</td>\n",
       "      <td>0.069877</td>\n",
       "      <td>...</td>\n",
       "      <td>0.142099</td>\n",
       "      <td>0.123536</td>\n",
       "      <td>0.035663</td>\n",
       "      <td>0.062893</td>\n",
       "      <td>0.098023</td>\n",
       "      <td>0.204582</td>\n",
       "      <td>0.123608</td>\n",
       "      <td>0.127434</td>\n",
       "      <td>0.072822</td>\n",
       "      <td>0.022119</td>\n",
       "    </tr>\n",
       "    <tr>\n",
       "      <th>3</th>\n",
       "      <td>-0.022202</td>\n",
       "      <td>-0.053400</td>\n",
       "      <td>-0.150654</td>\n",
       "      <td>-0.126552</td>\n",
       "      <td>-0.105592</td>\n",
       "      <td>-0.080403</td>\n",
       "      <td>-0.006417</td>\n",
       "      <td>-0.042203</td>\n",
       "      <td>-0.098554</td>\n",
       "      <td>-0.074391</td>\n",
       "      <td>...</td>\n",
       "      <td>0.033301</td>\n",
       "      <td>0.067993</td>\n",
       "      <td>-0.018634</td>\n",
       "      <td>-0.078930</td>\n",
       "      <td>-0.048672</td>\n",
       "      <td>-0.116823</td>\n",
       "      <td>-0.127959</td>\n",
       "      <td>0.005478</td>\n",
       "      <td>-0.014501</td>\n",
       "      <td>-0.087602</td>\n",
       "    </tr>\n",
       "    <tr>\n",
       "      <th>4</th>\n",
       "      <td>-0.031232</td>\n",
       "      <td>-0.071578</td>\n",
       "      <td>-0.036415</td>\n",
       "      <td>-0.097197</td>\n",
       "      <td>-0.174624</td>\n",
       "      <td>-0.000073</td>\n",
       "      <td>-0.083693</td>\n",
       "      <td>-0.072326</td>\n",
       "      <td>0.072452</td>\n",
       "      <td>-0.141222</td>\n",
       "      <td>...</td>\n",
       "      <td>-0.020356</td>\n",
       "      <td>-0.072810</td>\n",
       "      <td>-0.028818</td>\n",
       "      <td>-0.048489</td>\n",
       "      <td>-0.014588</td>\n",
       "      <td>0.032067</td>\n",
       "      <td>0.038577</td>\n",
       "      <td>-0.048118</td>\n",
       "      <td>-0.083813</td>\n",
       "      <td>-0.040613</td>\n",
       "    </tr>\n",
       "    <tr>\n",
       "      <th>...</th>\n",
       "      <td>...</td>\n",
       "      <td>...</td>\n",
       "      <td>...</td>\n",
       "      <td>...</td>\n",
       "      <td>...</td>\n",
       "      <td>...</td>\n",
       "      <td>...</td>\n",
       "      <td>...</td>\n",
       "      <td>...</td>\n",
       "      <td>...</td>\n",
       "      <td>...</td>\n",
       "      <td>...</td>\n",
       "      <td>...</td>\n",
       "      <td>...</td>\n",
       "      <td>...</td>\n",
       "      <td>...</td>\n",
       "      <td>...</td>\n",
       "      <td>...</td>\n",
       "      <td>...</td>\n",
       "      <td>...</td>\n",
       "      <td>...</td>\n",
       "    </tr>\n",
       "    <tr>\n",
       "      <th>766</th>\n",
       "      <td>0.051497</td>\n",
       "      <td>0.037597</td>\n",
       "      <td>-0.040690</td>\n",
       "      <td>-0.023936</td>\n",
       "      <td>0.008849</td>\n",
       "      <td>0.067003</td>\n",
       "      <td>-0.025712</td>\n",
       "      <td>-0.124639</td>\n",
       "      <td>0.046461</td>\n",
       "      <td>0.023628</td>\n",
       "      <td>...</td>\n",
       "      <td>-0.091343</td>\n",
       "      <td>-0.061776</td>\n",
       "      <td>0.067013</td>\n",
       "      <td>0.127442</td>\n",
       "      <td>0.082025</td>\n",
       "      <td>0.066766</td>\n",
       "      <td>0.148871</td>\n",
       "      <td>0.124395</td>\n",
       "      <td>0.041724</td>\n",
       "      <td>0.013287</td>\n",
       "    </tr>\n",
       "    <tr>\n",
       "      <th>767</th>\n",
       "      <td>0.007719</td>\n",
       "      <td>0.019191</td>\n",
       "      <td>0.093154</td>\n",
       "      <td>0.074431</td>\n",
       "      <td>0.033013</td>\n",
       "      <td>0.047951</td>\n",
       "      <td>0.061405</td>\n",
       "      <td>0.020297</td>\n",
       "      <td>0.047191</td>\n",
       "      <td>-0.072745</td>\n",
       "      <td>...</td>\n",
       "      <td>0.174553</td>\n",
       "      <td>0.081927</td>\n",
       "      <td>-0.093476</td>\n",
       "      <td>0.040415</td>\n",
       "      <td>0.107836</td>\n",
       "      <td>0.068557</td>\n",
       "      <td>0.135343</td>\n",
       "      <td>0.096640</td>\n",
       "      <td>0.061444</td>\n",
       "      <td>0.088013</td>\n",
       "    </tr>\n",
       "    <tr>\n",
       "      <th>768</th>\n",
       "      <td>0.054634</td>\n",
       "      <td>0.023580</td>\n",
       "      <td>0.023700</td>\n",
       "      <td>0.059767</td>\n",
       "      <td>0.012784</td>\n",
       "      <td>0.015650</td>\n",
       "      <td>0.068521</td>\n",
       "      <td>-0.029785</td>\n",
       "      <td>-0.077296</td>\n",
       "      <td>0.053626</td>\n",
       "      <td>...</td>\n",
       "      <td>0.058537</td>\n",
       "      <td>0.003009</td>\n",
       "      <td>0.018658</td>\n",
       "      <td>0.108853</td>\n",
       "      <td>0.046410</td>\n",
       "      <td>0.009881</td>\n",
       "      <td>0.014628</td>\n",
       "      <td>0.005796</td>\n",
       "      <td>0.027517</td>\n",
       "      <td>0.038485</td>\n",
       "    </tr>\n",
       "    <tr>\n",
       "      <th>769</th>\n",
       "      <td>0.075751</td>\n",
       "      <td>-0.029506</td>\n",
       "      <td>0.066670</td>\n",
       "      <td>0.096011</td>\n",
       "      <td>0.048774</td>\n",
       "      <td>0.057574</td>\n",
       "      <td>0.073156</td>\n",
       "      <td>0.012347</td>\n",
       "      <td>0.059184</td>\n",
       "      <td>0.060922</td>\n",
       "      <td>...</td>\n",
       "      <td>0.048929</td>\n",
       "      <td>0.018760</td>\n",
       "      <td>-0.022293</td>\n",
       "      <td>-0.065178</td>\n",
       "      <td>0.121556</td>\n",
       "      <td>0.024660</td>\n",
       "      <td>-0.048015</td>\n",
       "      <td>0.020243</td>\n",
       "      <td>-0.038556</td>\n",
       "      <td>0.102068</td>\n",
       "    </tr>\n",
       "    <tr>\n",
       "      <th>770</th>\n",
       "      <td>-0.039013</td>\n",
       "      <td>-0.089410</td>\n",
       "      <td>-0.117990</td>\n",
       "      <td>-0.138394</td>\n",
       "      <td>-0.077850</td>\n",
       "      <td>0.034615</td>\n",
       "      <td>0.025691</td>\n",
       "      <td>-0.057001</td>\n",
       "      <td>-0.181951</td>\n",
       "      <td>-0.084059</td>\n",
       "      <td>...</td>\n",
       "      <td>0.004466</td>\n",
       "      <td>-0.050846</td>\n",
       "      <td>-0.111749</td>\n",
       "      <td>-0.011747</td>\n",
       "      <td>-0.002625</td>\n",
       "      <td>-0.018878</td>\n",
       "      <td>-0.085508</td>\n",
       "      <td>-0.112027</td>\n",
       "      <td>-0.149144</td>\n",
       "      <td>-0.135698</td>\n",
       "    </tr>\n",
       "  </tbody>\n",
       "</table>\n",
       "<p>771 rows × 8736 columns</p>\n",
       "</div>"
      ],
      "text/plain": [
       "         0         1         2         3         4         5         6     \\\n",
       "id                                                                          \n",
       "0   -0.026249  0.019820  0.079053 -0.043354 -0.097841 -0.049243  0.063898   \n",
       "1   -0.070787 -0.126037 -0.219750 -0.191466 -0.253986 -0.225655 -0.229588   \n",
       "2    0.105176  0.069375  0.194085  0.116418  0.002906  0.080336  0.091157   \n",
       "3   -0.022202 -0.053400 -0.150654 -0.126552 -0.105592 -0.080403 -0.006417   \n",
       "4   -0.031232 -0.071578 -0.036415 -0.097197 -0.174624 -0.000073 -0.083693   \n",
       "..        ...       ...       ...       ...       ...       ...       ...   \n",
       "766  0.051497  0.037597 -0.040690 -0.023936  0.008849  0.067003 -0.025712   \n",
       "767  0.007719  0.019191  0.093154  0.074431  0.033013  0.047951  0.061405   \n",
       "768  0.054634  0.023580  0.023700  0.059767  0.012784  0.015650  0.068521   \n",
       "769  0.075751 -0.029506  0.066670  0.096011  0.048774  0.057574  0.073156   \n",
       "770 -0.039013 -0.089410 -0.117990 -0.138394 -0.077850  0.034615  0.025691   \n",
       "\n",
       "         7         8         9     ...      8726      8727      8728  \\\n",
       "id                                 ...                                 \n",
       "0    0.011228  0.049185  0.065321  ... -0.028627 -0.037443 -0.095100   \n",
       "1   -0.131912 -0.114484 -0.208030  ... -0.103238 -0.194308 -0.176896   \n",
       "2    0.143337  0.060922  0.069877  ...  0.142099  0.123536  0.035663   \n",
       "3   -0.042203 -0.098554 -0.074391  ...  0.033301  0.067993 -0.018634   \n",
       "4   -0.072326  0.072452 -0.141222  ... -0.020356 -0.072810 -0.028818   \n",
       "..        ...       ...       ...  ...       ...       ...       ...   \n",
       "766 -0.124639  0.046461  0.023628  ... -0.091343 -0.061776  0.067013   \n",
       "767  0.020297  0.047191 -0.072745  ...  0.174553  0.081927 -0.093476   \n",
       "768 -0.029785 -0.077296  0.053626  ...  0.058537  0.003009  0.018658   \n",
       "769  0.012347  0.059184  0.060922  ...  0.048929  0.018760 -0.022293   \n",
       "770 -0.057001 -0.181951 -0.084059  ...  0.004466 -0.050846 -0.111749   \n",
       "\n",
       "         8729      8730      8731      8732      8733      8734      8735  \n",
       "id                                                                         \n",
       "0    0.042149 -0.002588 -0.054946  0.074796  0.004821 -0.066613  0.032703  \n",
       "1   -0.125430 -0.227190 -0.259487 -0.243443 -0.170083 -0.225453 -0.282577  \n",
       "2    0.062893  0.098023  0.204582  0.123608  0.127434  0.072822  0.022119  \n",
       "3   -0.078930 -0.048672 -0.116823 -0.127959  0.005478 -0.014501 -0.087602  \n",
       "4   -0.048489 -0.014588  0.032067  0.038577 -0.048118 -0.083813 -0.040613  \n",
       "..        ...       ...       ...       ...       ...       ...       ...  \n",
       "766  0.127442  0.082025  0.066766  0.148871  0.124395  0.041724  0.013287  \n",
       "767  0.040415  0.107836  0.068557  0.135343  0.096640  0.061444  0.088013  \n",
       "768  0.108853  0.046410  0.009881  0.014628  0.005796  0.027517  0.038485  \n",
       "769 -0.065178  0.121556  0.024660 -0.048015  0.020243 -0.038556  0.102068  \n",
       "770 -0.011747 -0.002625 -0.018878 -0.085508 -0.112027 -0.149144 -0.135698  \n",
       "\n",
       "[771 rows x 8736 columns]"
      ]
     },
     "execution_count": 9,
     "metadata": {},
     "output_type": "execute_result"
    }
   ],
   "source": [
    "df = pd.DataFrame(noise_time_series)\n",
    "df.index.name = 'id'\n",
    "df"
   ]
  },
  {
   "cell_type": "markdown",
   "id": "f53e6320-d18d-401c-8985-17ae90a018d7",
   "metadata": {},
   "source": [
    "Export to CSV format:"
   ]
  },
  {
   "cell_type": "code",
   "execution_count": 10,
   "id": "ab7039a5-6327-4e04-a146-66916e61f011",
   "metadata": {},
   "outputs": [],
   "source": [
    "df.to_csv('data/cost_noise.csv', mode='x', index=False)"
   ]
  },
  {
   "cell_type": "markdown",
   "id": "faa039cf-6fc1-43c4-83bc-e27b71e13c5b",
   "metadata": {},
   "source": [
    "As with the loads, the whole procedure can be iterated:"
   ]
  },
  {
   "cell_type": "code",
   "execution_count": 11,
   "id": "cef12741-be42-41e3-b98c-20d9c5294210",
   "metadata": {},
   "outputs": [],
   "source": [
    "# for label in range(0,10):\n",
    "#     df = pd.DataFrame(0.1 * ts.generate_noise(count=n_gens), index=gen_ids)\n",
    "#     df.index.name = 'id'\n",
    "#     filename = \"data/cost_noise_%02d.csv\" % label\n",
    "#     print(\"Writing to file '%s'...\" % filename, end='')\n",
    "#     df.to_csv(filename, mode='x')\n",
    "#     print(\"ok\")"
   ]
  }
 ],
 "metadata": {
  "kernelspec": {
   "display_name": "Python 3 (ipykernel)",
   "language": "python",
   "name": "python3"
  },
  "language_info": {
   "codemirror_mode": {
    "name": "ipython",
    "version": 3
   },
   "file_extension": ".py",
   "mimetype": "text/x-python",
   "name": "python",
   "nbconvert_exporter": "python",
   "pygments_lexer": "ipython3",
   "version": "3.11.8"
  }
 },
 "nbformat": 4,
 "nbformat_minor": 5
}
