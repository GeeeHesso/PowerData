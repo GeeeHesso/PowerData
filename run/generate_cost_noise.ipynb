{
 "cells": [
  {
   "cell_type": "markdown",
   "id": "1f10caf4-b984-48dc-a79b-76b5bf5da76d",
   "metadata": {},
   "source": [
    "# Generate noise series for the production cost of generators"
   ]
  },
  {
   "cell_type": "markdown",
   "id": "98f2faca-ffe7-4afd-979c-86abc69d11e4",
   "metadata": {},
   "source": [
    "This notebook generates noise series for all 770 dispatchable generators of the European model."
   ]
  },
  {
   "cell_type": "code",
   "execution_count": 1,
   "id": "fa1974e2-c8e5-4c28-9401-3cc87bbdf7d2",
   "metadata": {},
   "outputs": [],
   "source": [
    "import os, sys\n",
    "sys.path.append('../TimeSeries/')\n",
    "\n",
    "import time_series as ts"
   ]
  },
  {
   "cell_type": "code",
   "execution_count": 2,
   "id": "6d364271-d2ac-4d8e-a794-9188446207a9",
   "metadata": {},
   "outputs": [],
   "source": [
    "import json\n",
    "import pandas as pd\n",
    "import numpy as np\n",
    "import matplotlib.pyplot as plt"
   ]
  },
  {
   "cell_type": "markdown",
   "id": "05d86ee5-6fa9-4967-8e37-6e1ab50b0a7c",
   "metadata": {},
   "source": [
    "### Get a list of gens"
   ]
  },
  {
   "cell_type": "markdown",
   "id": "703ed9b8-f654-41be-a1a0-dc3664cc4a47",
   "metadata": {},
   "source": [
    "Import the network file:"
   ]
  },
  {
   "cell_type": "code",
   "execution_count": 3,
   "id": "a8e9b1d4-9469-40ff-ba5e-06784634b8ff",
   "metadata": {},
   "outputs": [],
   "source": [
    "with open('../models/europe.json') as f:\n",
    "    network = json.load(f)"
   ]
  },
  {
   "cell_type": "markdown",
   "id": "b948dae9-fb59-48a6-ba85-22dbab361960",
   "metadata": {},
   "source": [
    "Count the number of generators:"
   ]
  },
  {
   "cell_type": "code",
   "execution_count": 4,
   "id": "4c0b7368-173e-4335-9d23-e2ca2f6dc34e",
   "metadata": {},
   "outputs": [
    {
     "data": {
      "text/plain": [
       "815"
      ]
     },
     "execution_count": 4,
     "metadata": {},
     "output_type": "execute_result"
    }
   ],
   "source": [
    "n_gens_all = len(network['gen'])\n",
    "n_gens_all"
   ]
  },
  {
   "cell_type": "markdown",
   "id": "34519888-0706-4663-9de0-09651e000619",
   "metadata": {},
   "source": [
    "Subtract non-dispatchable generators:"
   ]
  },
  {
   "cell_type": "code",
   "execution_count": 5,
   "id": "e8f2fdab-482c-475a-8411-cf5d2a60a7b9",
   "metadata": {},
   "outputs": [
    {
     "data": {
      "text/plain": [
       "44"
      ]
     },
     "execution_count": 5,
     "metadata": {},
     "output_type": "execute_result"
    }
   ],
   "source": [
    "n_nuc = len(pd.read_csv('data/nuclear_2016.csv'))\n",
    "n_nuc"
   ]
  },
  {
   "cell_type": "code",
   "execution_count": 6,
   "id": "2198a6fa-9d4c-477e-be00-bd07ba2d1fcd",
   "metadata": {},
   "outputs": [
    {
     "data": {
      "text/plain": [
       "771"
      ]
     },
     "execution_count": 6,
     "metadata": {},
     "output_type": "execute_result"
    }
   ],
   "source": [
    "n_gens = n_gens_all - n_nuc\n",
    "n_gens"
   ]
  },
  {
   "cell_type": "markdown",
   "id": "cb6cae68-7565-4d85-a0aa-cdd4f14c50ee",
   "metadata": {},
   "source": [
    "### Generate noise series"
   ]
  },
  {
   "cell_type": "markdown",
   "id": "03d0c52d-ea09-48a6-bb60-5aed6da1b067",
   "metadata": {},
   "source": [
    "To be relevant, the noise on the generation cost must be of the same order of magnitude as the line cost computed in the model, which is directly related to the power flowing on the line.\n",
    "\n",
    "We choose therefore a noise with a standard deviation of 1 MW (1% of a typical line load of 100 MW)."
   ]
  },
  {
   "cell_type": "code",
   "execution_count": 7,
   "id": "338fd47f-6da3-4039-920a-0e3518dfe9ae",
   "metadata": {},
   "outputs": [],
   "source": [
    "noise_time_series = ts.generate_noise(count=n_gens)"
   ]
  },
  {
   "cell_type": "code",
   "execution_count": 8,
   "id": "1b3361cd-f13a-4bc2-913c-c905c3e3bbf4",
   "metadata": {},
   "outputs": [
    {
     "data": {
      "text/plain": [
       "(-4.245607875616583e-15, 0.9843081989661363)"
      ]
     },
     "execution_count": 8,
     "metadata": {},
     "output_type": "execute_result"
    }
   ],
   "source": [
    "noise_time_series.mean(), noise_time_series.std(axis=1).mean()"
   ]
  },
  {
   "cell_type": "markdown",
   "id": "77da63a9-f533-4c58-9040-528580ea4431",
   "metadata": {},
   "source": [
    "Pack everything into a dataframe, with time steps as columns and generators as rows:"
   ]
  },
  {
   "cell_type": "code",
   "execution_count": 9,
   "id": "c73f771c-00a6-4327-acc3-d3f6791b6901",
   "metadata": {},
   "outputs": [
    {
     "data": {
      "text/html": [
       "<div>\n",
       "<style scoped>\n",
       "    .dataframe tbody tr th:only-of-type {\n",
       "        vertical-align: middle;\n",
       "    }\n",
       "\n",
       "    .dataframe tbody tr th {\n",
       "        vertical-align: top;\n",
       "    }\n",
       "\n",
       "    .dataframe thead th {\n",
       "        text-align: right;\n",
       "    }\n",
       "</style>\n",
       "<table border=\"1\" class=\"dataframe\">\n",
       "  <thead>\n",
       "    <tr style=\"text-align: right;\">\n",
       "      <th></th>\n",
       "      <th>0</th>\n",
       "      <th>1</th>\n",
       "      <th>2</th>\n",
       "      <th>3</th>\n",
       "      <th>4</th>\n",
       "      <th>5</th>\n",
       "      <th>6</th>\n",
       "      <th>7</th>\n",
       "      <th>8</th>\n",
       "      <th>9</th>\n",
       "      <th>...</th>\n",
       "      <th>8726</th>\n",
       "      <th>8727</th>\n",
       "      <th>8728</th>\n",
       "      <th>8729</th>\n",
       "      <th>8730</th>\n",
       "      <th>8731</th>\n",
       "      <th>8732</th>\n",
       "      <th>8733</th>\n",
       "      <th>8734</th>\n",
       "      <th>8735</th>\n",
       "    </tr>\n",
       "    <tr>\n",
       "      <th>id</th>\n",
       "      <th></th>\n",
       "      <th></th>\n",
       "      <th></th>\n",
       "      <th></th>\n",
       "      <th></th>\n",
       "      <th></th>\n",
       "      <th></th>\n",
       "      <th></th>\n",
       "      <th></th>\n",
       "      <th></th>\n",
       "      <th></th>\n",
       "      <th></th>\n",
       "      <th></th>\n",
       "      <th></th>\n",
       "      <th></th>\n",
       "      <th></th>\n",
       "      <th></th>\n",
       "      <th></th>\n",
       "      <th></th>\n",
       "      <th></th>\n",
       "      <th></th>\n",
       "    </tr>\n",
       "  </thead>\n",
       "  <tbody>\n",
       "    <tr>\n",
       "      <th>0</th>\n",
       "      <td>0.717058</td>\n",
       "      <td>-0.335407</td>\n",
       "      <td>-0.515143</td>\n",
       "      <td>-0.365903</td>\n",
       "      <td>-0.294006</td>\n",
       "      <td>0.438448</td>\n",
       "      <td>0.139136</td>\n",
       "      <td>0.521375</td>\n",
       "      <td>0.129705</td>\n",
       "      <td>-1.007866</td>\n",
       "      <td>...</td>\n",
       "      <td>-0.755270</td>\n",
       "      <td>0.269479</td>\n",
       "      <td>1.416412</td>\n",
       "      <td>1.474633</td>\n",
       "      <td>-0.681938</td>\n",
       "      <td>-0.713804</td>\n",
       "      <td>0.328557</td>\n",
       "      <td>0.591916</td>\n",
       "      <td>0.646303</td>\n",
       "      <td>0.568962</td>\n",
       "    </tr>\n",
       "    <tr>\n",
       "      <th>1</th>\n",
       "      <td>1.733233</td>\n",
       "      <td>-0.141228</td>\n",
       "      <td>-0.225953</td>\n",
       "      <td>1.879794</td>\n",
       "      <td>1.648705</td>\n",
       "      <td>0.894243</td>\n",
       "      <td>0.538831</td>\n",
       "      <td>0.290044</td>\n",
       "      <td>1.170414</td>\n",
       "      <td>1.562230</td>\n",
       "      <td>...</td>\n",
       "      <td>0.822894</td>\n",
       "      <td>-0.667472</td>\n",
       "      <td>0.269507</td>\n",
       "      <td>0.368966</td>\n",
       "      <td>0.123331</td>\n",
       "      <td>0.823847</td>\n",
       "      <td>0.259471</td>\n",
       "      <td>-0.316402</td>\n",
       "      <td>-0.186702</td>\n",
       "      <td>0.938985</td>\n",
       "    </tr>\n",
       "    <tr>\n",
       "      <th>2</th>\n",
       "      <td>0.631527</td>\n",
       "      <td>0.179168</td>\n",
       "      <td>0.289167</td>\n",
       "      <td>0.611133</td>\n",
       "      <td>0.059496</td>\n",
       "      <td>0.167063</td>\n",
       "      <td>0.817555</td>\n",
       "      <td>0.578292</td>\n",
       "      <td>0.215893</td>\n",
       "      <td>1.817381</td>\n",
       "      <td>...</td>\n",
       "      <td>0.621124</td>\n",
       "      <td>0.353910</td>\n",
       "      <td>-0.700641</td>\n",
       "      <td>0.637272</td>\n",
       "      <td>0.176732</td>\n",
       "      <td>0.583860</td>\n",
       "      <td>0.285880</td>\n",
       "      <td>-0.035766</td>\n",
       "      <td>0.286858</td>\n",
       "      <td>0.010171</td>\n",
       "    </tr>\n",
       "    <tr>\n",
       "      <th>3</th>\n",
       "      <td>0.249117</td>\n",
       "      <td>0.527895</td>\n",
       "      <td>0.034250</td>\n",
       "      <td>0.191295</td>\n",
       "      <td>0.194600</td>\n",
       "      <td>-0.257924</td>\n",
       "      <td>-0.089653</td>\n",
       "      <td>0.093741</td>\n",
       "      <td>0.208906</td>\n",
       "      <td>0.237300</td>\n",
       "      <td>...</td>\n",
       "      <td>0.190860</td>\n",
       "      <td>0.822786</td>\n",
       "      <td>1.198498</td>\n",
       "      <td>0.930453</td>\n",
       "      <td>0.460993</td>\n",
       "      <td>0.103586</td>\n",
       "      <td>0.131083</td>\n",
       "      <td>-0.437227</td>\n",
       "      <td>0.521082</td>\n",
       "      <td>0.839636</td>\n",
       "    </tr>\n",
       "    <tr>\n",
       "      <th>4</th>\n",
       "      <td>-1.738069</td>\n",
       "      <td>-1.699907</td>\n",
       "      <td>-1.202396</td>\n",
       "      <td>-1.705297</td>\n",
       "      <td>-3.812531</td>\n",
       "      <td>-0.790538</td>\n",
       "      <td>-0.793896</td>\n",
       "      <td>-1.664616</td>\n",
       "      <td>-0.576339</td>\n",
       "      <td>-3.010202</td>\n",
       "      <td>...</td>\n",
       "      <td>-2.083152</td>\n",
       "      <td>-1.845226</td>\n",
       "      <td>-1.882892</td>\n",
       "      <td>-1.933910</td>\n",
       "      <td>-0.818778</td>\n",
       "      <td>-1.402242</td>\n",
       "      <td>-1.261548</td>\n",
       "      <td>-1.651054</td>\n",
       "      <td>-1.981834</td>\n",
       "      <td>-2.180597</td>\n",
       "    </tr>\n",
       "    <tr>\n",
       "      <th>...</th>\n",
       "      <td>...</td>\n",
       "      <td>...</td>\n",
       "      <td>...</td>\n",
       "      <td>...</td>\n",
       "      <td>...</td>\n",
       "      <td>...</td>\n",
       "      <td>...</td>\n",
       "      <td>...</td>\n",
       "      <td>...</td>\n",
       "      <td>...</td>\n",
       "      <td>...</td>\n",
       "      <td>...</td>\n",
       "      <td>...</td>\n",
       "      <td>...</td>\n",
       "      <td>...</td>\n",
       "      <td>...</td>\n",
       "      <td>...</td>\n",
       "      <td>...</td>\n",
       "      <td>...</td>\n",
       "      <td>...</td>\n",
       "      <td>...</td>\n",
       "    </tr>\n",
       "    <tr>\n",
       "      <th>766</th>\n",
       "      <td>-0.672156</td>\n",
       "      <td>-0.622609</td>\n",
       "      <td>-0.444019</td>\n",
       "      <td>-0.220808</td>\n",
       "      <td>-1.004091</td>\n",
       "      <td>-0.310446</td>\n",
       "      <td>-0.587247</td>\n",
       "      <td>-0.762873</td>\n",
       "      <td>0.099833</td>\n",
       "      <td>0.216826</td>\n",
       "      <td>...</td>\n",
       "      <td>-0.104552</td>\n",
       "      <td>1.055162</td>\n",
       "      <td>0.215224</td>\n",
       "      <td>0.783348</td>\n",
       "      <td>0.978855</td>\n",
       "      <td>0.464578</td>\n",
       "      <td>0.195408</td>\n",
       "      <td>-0.642475</td>\n",
       "      <td>-0.213247</td>\n",
       "      <td>-0.568586</td>\n",
       "    </tr>\n",
       "    <tr>\n",
       "      <th>767</th>\n",
       "      <td>0.345582</td>\n",
       "      <td>1.314895</td>\n",
       "      <td>0.551478</td>\n",
       "      <td>-0.889321</td>\n",
       "      <td>0.722236</td>\n",
       "      <td>0.393108</td>\n",
       "      <td>-0.392554</td>\n",
       "      <td>0.053066</td>\n",
       "      <td>-1.002065</td>\n",
       "      <td>0.061254</td>\n",
       "      <td>...</td>\n",
       "      <td>-0.758081</td>\n",
       "      <td>0.481501</td>\n",
       "      <td>-0.037771</td>\n",
       "      <td>0.567705</td>\n",
       "      <td>0.397037</td>\n",
       "      <td>0.367660</td>\n",
       "      <td>1.965975</td>\n",
       "      <td>0.820062</td>\n",
       "      <td>-0.896236</td>\n",
       "      <td>-0.216633</td>\n",
       "    </tr>\n",
       "    <tr>\n",
       "      <th>768</th>\n",
       "      <td>0.510583</td>\n",
       "      <td>-0.092736</td>\n",
       "      <td>0.665481</td>\n",
       "      <td>0.740303</td>\n",
       "      <td>0.942047</td>\n",
       "      <td>-0.141942</td>\n",
       "      <td>0.696729</td>\n",
       "      <td>0.631920</td>\n",
       "      <td>-0.206152</td>\n",
       "      <td>1.283244</td>\n",
       "      <td>...</td>\n",
       "      <td>-0.336852</td>\n",
       "      <td>-1.128196</td>\n",
       "      <td>0.022755</td>\n",
       "      <td>0.345448</td>\n",
       "      <td>-0.010202</td>\n",
       "      <td>-0.439023</td>\n",
       "      <td>1.371982</td>\n",
       "      <td>1.335873</td>\n",
       "      <td>-0.710976</td>\n",
       "      <td>0.869727</td>\n",
       "    </tr>\n",
       "    <tr>\n",
       "      <th>769</th>\n",
       "      <td>0.354512</td>\n",
       "      <td>1.570168</td>\n",
       "      <td>1.457227</td>\n",
       "      <td>1.619156</td>\n",
       "      <td>0.518779</td>\n",
       "      <td>-0.890410</td>\n",
       "      <td>0.511049</td>\n",
       "      <td>1.354079</td>\n",
       "      <td>1.772839</td>\n",
       "      <td>2.233068</td>\n",
       "      <td>...</td>\n",
       "      <td>2.137859</td>\n",
       "      <td>2.662015</td>\n",
       "      <td>1.248781</td>\n",
       "      <td>2.420348</td>\n",
       "      <td>1.111837</td>\n",
       "      <td>0.319081</td>\n",
       "      <td>1.658984</td>\n",
       "      <td>1.798155</td>\n",
       "      <td>2.204073</td>\n",
       "      <td>0.910111</td>\n",
       "    </tr>\n",
       "    <tr>\n",
       "      <th>770</th>\n",
       "      <td>0.521870</td>\n",
       "      <td>-0.201136</td>\n",
       "      <td>1.183908</td>\n",
       "      <td>0.952278</td>\n",
       "      <td>-0.318130</td>\n",
       "      <td>-0.491228</td>\n",
       "      <td>0.162821</td>\n",
       "      <td>-0.718768</td>\n",
       "      <td>-1.271350</td>\n",
       "      <td>0.239565</td>\n",
       "      <td>...</td>\n",
       "      <td>0.436609</td>\n",
       "      <td>-0.503920</td>\n",
       "      <td>-0.139244</td>\n",
       "      <td>-0.035515</td>\n",
       "      <td>0.677907</td>\n",
       "      <td>1.164233</td>\n",
       "      <td>-0.464832</td>\n",
       "      <td>0.389548</td>\n",
       "      <td>-0.016836</td>\n",
       "      <td>0.084662</td>\n",
       "    </tr>\n",
       "  </tbody>\n",
       "</table>\n",
       "<p>771 rows × 8736 columns</p>\n",
       "</div>"
      ],
      "text/plain": [
       "         0         1         2         3         4         5         6     \\\n",
       "id                                                                          \n",
       "0    0.717058 -0.335407 -0.515143 -0.365903 -0.294006  0.438448  0.139136   \n",
       "1    1.733233 -0.141228 -0.225953  1.879794  1.648705  0.894243  0.538831   \n",
       "2    0.631527  0.179168  0.289167  0.611133  0.059496  0.167063  0.817555   \n",
       "3    0.249117  0.527895  0.034250  0.191295  0.194600 -0.257924 -0.089653   \n",
       "4   -1.738069 -1.699907 -1.202396 -1.705297 -3.812531 -0.790538 -0.793896   \n",
       "..        ...       ...       ...       ...       ...       ...       ...   \n",
       "766 -0.672156 -0.622609 -0.444019 -0.220808 -1.004091 -0.310446 -0.587247   \n",
       "767  0.345582  1.314895  0.551478 -0.889321  0.722236  0.393108 -0.392554   \n",
       "768  0.510583 -0.092736  0.665481  0.740303  0.942047 -0.141942  0.696729   \n",
       "769  0.354512  1.570168  1.457227  1.619156  0.518779 -0.890410  0.511049   \n",
       "770  0.521870 -0.201136  1.183908  0.952278 -0.318130 -0.491228  0.162821   \n",
       "\n",
       "         7         8         9     ...      8726      8727      8728  \\\n",
       "id                                 ...                                 \n",
       "0    0.521375  0.129705 -1.007866  ... -0.755270  0.269479  1.416412   \n",
       "1    0.290044  1.170414  1.562230  ...  0.822894 -0.667472  0.269507   \n",
       "2    0.578292  0.215893  1.817381  ...  0.621124  0.353910 -0.700641   \n",
       "3    0.093741  0.208906  0.237300  ...  0.190860  0.822786  1.198498   \n",
       "4   -1.664616 -0.576339 -3.010202  ... -2.083152 -1.845226 -1.882892   \n",
       "..        ...       ...       ...  ...       ...       ...       ...   \n",
       "766 -0.762873  0.099833  0.216826  ... -0.104552  1.055162  0.215224   \n",
       "767  0.053066 -1.002065  0.061254  ... -0.758081  0.481501 -0.037771   \n",
       "768  0.631920 -0.206152  1.283244  ... -0.336852 -1.128196  0.022755   \n",
       "769  1.354079  1.772839  2.233068  ...  2.137859  2.662015  1.248781   \n",
       "770 -0.718768 -1.271350  0.239565  ...  0.436609 -0.503920 -0.139244   \n",
       "\n",
       "         8729      8730      8731      8732      8733      8734      8735  \n",
       "id                                                                         \n",
       "0    1.474633 -0.681938 -0.713804  0.328557  0.591916  0.646303  0.568962  \n",
       "1    0.368966  0.123331  0.823847  0.259471 -0.316402 -0.186702  0.938985  \n",
       "2    0.637272  0.176732  0.583860  0.285880 -0.035766  0.286858  0.010171  \n",
       "3    0.930453  0.460993  0.103586  0.131083 -0.437227  0.521082  0.839636  \n",
       "4   -1.933910 -0.818778 -1.402242 -1.261548 -1.651054 -1.981834 -2.180597  \n",
       "..        ...       ...       ...       ...       ...       ...       ...  \n",
       "766  0.783348  0.978855  0.464578  0.195408 -0.642475 -0.213247 -0.568586  \n",
       "767  0.567705  0.397037  0.367660  1.965975  0.820062 -0.896236 -0.216633  \n",
       "768  0.345448 -0.010202 -0.439023  1.371982  1.335873 -0.710976  0.869727  \n",
       "769  2.420348  1.111837  0.319081  1.658984  1.798155  2.204073  0.910111  \n",
       "770 -0.035515  0.677907  1.164233 -0.464832  0.389548 -0.016836  0.084662  \n",
       "\n",
       "[771 rows x 8736 columns]"
      ]
     },
     "execution_count": 9,
     "metadata": {},
     "output_type": "execute_result"
    }
   ],
   "source": [
    "df = pd.DataFrame(noise_time_series)\n",
    "df.index.name = 'id'\n",
    "df"
   ]
  },
  {
   "cell_type": "markdown",
   "id": "f53e6320-d18d-401c-8985-17ae90a018d7",
   "metadata": {},
   "source": [
    "Export to CSV format:"
   ]
  },
  {
   "cell_type": "code",
   "execution_count": 14,
   "id": "ab7039a5-6327-4e04-a146-66916e61f011",
   "metadata": {},
   "outputs": [],
   "source": [
    "df.to_csv('data/cost_noise.csv', mode='x', index=False)"
   ]
  },
  {
   "cell_type": "markdown",
   "id": "faa039cf-6fc1-43c4-83bc-e27b71e13c5b",
   "metadata": {},
   "source": [
    "As with the loads, the whole procedure can be iterated:"
   ]
  },
  {
   "cell_type": "code",
   "execution_count": 11,
   "id": "cef12741-be42-41e3-b98c-20d9c5294210",
   "metadata": {},
   "outputs": [],
   "source": [
    "# for label in range(0,10):\n",
    "#     df = pd.DataFrame(ts.generate_noise(count=n_gens), index=gen_ids)\n",
    "#     df.index.name = 'id'\n",
    "#     filename = \"data/cost_noise_%02d.csv\" % label\n",
    "#     print(\"Writing to file '%s'...\" % filename, end='')\n",
    "#     df.to_csv(filename, mode='x')\n",
    "#     print(\"ok\")"
   ]
  }
 ],
 "metadata": {
  "kernelspec": {
   "display_name": "Python 3 (ipykernel)",
   "language": "python",
   "name": "python3"
  },
  "language_info": {
   "codemirror_mode": {
    "name": "ipython",
    "version": 3
   },
   "file_extension": ".py",
   "mimetype": "text/x-python",
   "name": "python",
   "nbconvert_exporter": "python",
   "pygments_lexer": "ipython3",
   "version": "3.11.8"
  }
 },
 "nbformat": 4,
 "nbformat_minor": 5
}
