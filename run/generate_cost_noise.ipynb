{
 "cells": [
  {
   "cell_type": "markdown",
   "id": "1f10caf4-b984-48dc-a79b-76b5bf5da76d",
   "metadata": {},
   "source": [
    "# Generate noise series for the production cost of generators"
   ]
  },
  {
   "cell_type": "markdown",
   "id": "98f2faca-ffe7-4afd-979c-86abc69d11e4",
   "metadata": {},
   "source": [
    "This notebook generates noise series for all 770 dispatchable generators of the European model."
   ]
  },
  {
   "cell_type": "code",
   "execution_count": 1,
   "id": "fa1974e2-c8e5-4c28-9401-3cc87bbdf7d2",
   "metadata": {},
   "outputs": [],
   "source": [
    "import os, sys\n",
    "sys.path.append('../TimeSeries/')\n",
    "\n",
    "import time_series as ts"
   ]
  },
  {
   "cell_type": "code",
   "execution_count": 2,
   "id": "6d364271-d2ac-4d8e-a794-9188446207a9",
   "metadata": {},
   "outputs": [],
   "source": [
    "import json\n",
    "import pandas as pd\n",
    "import numpy as np\n",
    "import matplotlib.pyplot as plt"
   ]
  },
  {
   "cell_type": "markdown",
   "id": "05d86ee5-6fa9-4967-8e37-6e1ab50b0a7c",
   "metadata": {},
   "source": [
    "### Get a list of gens"
   ]
  },
  {
   "cell_type": "markdown",
   "id": "703ed9b8-f654-41be-a1a0-dc3664cc4a47",
   "metadata": {},
   "source": [
    "Import the network file:"
   ]
  },
  {
   "cell_type": "code",
   "execution_count": 3,
   "id": "a8e9b1d4-9469-40ff-ba5e-06784634b8ff",
   "metadata": {},
   "outputs": [],
   "source": [
    "with open('../models/europe.json') as f:\n",
    "    network = json.load(f)"
   ]
  },
  {
   "cell_type": "markdown",
   "id": "b948dae9-fb59-48a6-ba85-22dbab361960",
   "metadata": {},
   "source": [
    "Count the number of generators:"
   ]
  },
  {
   "cell_type": "code",
   "execution_count": 4,
   "id": "4c0b7368-173e-4335-9d23-e2ca2f6dc34e",
   "metadata": {},
   "outputs": [
    {
     "data": {
      "text/plain": [
       "815"
      ]
     },
     "execution_count": 4,
     "metadata": {},
     "output_type": "execute_result"
    }
   ],
   "source": [
    "n_gens_all = len(network['gen'])\n",
    "n_gens_all"
   ]
  },
  {
   "cell_type": "markdown",
   "id": "34519888-0706-4663-9de0-09651e000619",
   "metadata": {},
   "source": [
    "Subtract non-dispatchable generators:"
   ]
  },
  {
   "cell_type": "code",
   "execution_count": 5,
   "id": "e8f2fdab-482c-475a-8411-cf5d2a60a7b9",
   "metadata": {},
   "outputs": [
    {
     "data": {
      "text/plain": [
       "44"
      ]
     },
     "execution_count": 5,
     "metadata": {},
     "output_type": "execute_result"
    }
   ],
   "source": [
    "n_nuc = len(pd.read_csv('data/nuclear_2016.csv'))\n",
    "n_nuc"
   ]
  },
  {
   "cell_type": "code",
   "execution_count": 6,
   "id": "2198a6fa-9d4c-477e-be00-bd07ba2d1fcd",
   "metadata": {},
   "outputs": [
    {
     "data": {
      "text/plain": [
       "771"
      ]
     },
     "execution_count": 6,
     "metadata": {},
     "output_type": "execute_result"
    }
   ],
   "source": [
    "n_gens = n_gens_all - n_nuc\n",
    "n_gens"
   ]
  },
  {
   "cell_type": "markdown",
   "id": "cb6cae68-7565-4d85-a0aa-cdd4f14c50ee",
   "metadata": {},
   "source": [
    "### Generate noise series"
   ]
  },
  {
   "cell_type": "markdown",
   "id": "03d0c52d-ea09-48a6-bb60-5aed6da1b067",
   "metadata": {},
   "source": [
    "To be relevant, the noise on the generation cost must be of the same order of magnitude as the line cost computed in the model, which is directly related to the power flowing on the line.\n",
    "\n",
    "We choose therefore a noise with a standard deviation of 1 MW (1% of a typical line load of 100 MW)."
   ]
  },
  {
   "cell_type": "code",
   "execution_count": 7,
   "id": "338fd47f-6da3-4039-920a-0e3518dfe9ae",
   "metadata": {},
   "outputs": [],
   "source": [
    "noise_time_series = ts.generate_noise(count=n_gens)"
   ]
  },
  {
   "cell_type": "code",
   "execution_count": 8,
   "id": "1b3361cd-f13a-4bc2-913c-c905c3e3bbf4",
   "metadata": {},
   "outputs": [
    {
     "data": {
      "text/plain": [
       "(-5.426638784618022e-16, 0.9910005138116696)"
      ]
     },
     "execution_count": 8,
     "metadata": {},
     "output_type": "execute_result"
    }
   ],
   "source": [
    "noise_time_series.mean(), noise_time_series.std(axis=1).mean()"
   ]
  },
  {
   "cell_type": "markdown",
   "id": "77da63a9-f533-4c58-9040-528580ea4431",
   "metadata": {},
   "source": [
    "Pack everything into a dataframe, with time steps as columns and generators as rows:"
   ]
  },
  {
   "cell_type": "code",
   "execution_count": 9,
   "id": "c73f771c-00a6-4327-acc3-d3f6791b6901",
   "metadata": {},
   "outputs": [
    {
     "data": {
      "text/html": [
       "<div>\n",
       "<style scoped>\n",
       "    .dataframe tbody tr th:only-of-type {\n",
       "        vertical-align: middle;\n",
       "    }\n",
       "\n",
       "    .dataframe tbody tr th {\n",
       "        vertical-align: top;\n",
       "    }\n",
       "\n",
       "    .dataframe thead th {\n",
       "        text-align: right;\n",
       "    }\n",
       "</style>\n",
       "<table border=\"1\" class=\"dataframe\">\n",
       "  <thead>\n",
       "    <tr style=\"text-align: right;\">\n",
       "      <th></th>\n",
       "      <th>0</th>\n",
       "      <th>1</th>\n",
       "      <th>2</th>\n",
       "      <th>3</th>\n",
       "      <th>4</th>\n",
       "      <th>5</th>\n",
       "      <th>6</th>\n",
       "      <th>7</th>\n",
       "      <th>8</th>\n",
       "      <th>9</th>\n",
       "      <th>...</th>\n",
       "      <th>8726</th>\n",
       "      <th>8727</th>\n",
       "      <th>8728</th>\n",
       "      <th>8729</th>\n",
       "      <th>8730</th>\n",
       "      <th>8731</th>\n",
       "      <th>8732</th>\n",
       "      <th>8733</th>\n",
       "      <th>8734</th>\n",
       "      <th>8735</th>\n",
       "    </tr>\n",
       "    <tr>\n",
       "      <th>id</th>\n",
       "      <th></th>\n",
       "      <th></th>\n",
       "      <th></th>\n",
       "      <th></th>\n",
       "      <th></th>\n",
       "      <th></th>\n",
       "      <th></th>\n",
       "      <th></th>\n",
       "      <th></th>\n",
       "      <th></th>\n",
       "      <th></th>\n",
       "      <th></th>\n",
       "      <th></th>\n",
       "      <th></th>\n",
       "      <th></th>\n",
       "      <th></th>\n",
       "      <th></th>\n",
       "      <th></th>\n",
       "      <th></th>\n",
       "      <th></th>\n",
       "      <th></th>\n",
       "    </tr>\n",
       "  </thead>\n",
       "  <tbody>\n",
       "    <tr>\n",
       "      <th>0</th>\n",
       "      <td>1.587772</td>\n",
       "      <td>0.848739</td>\n",
       "      <td>0.211134</td>\n",
       "      <td>0.559697</td>\n",
       "      <td>0.640619</td>\n",
       "      <td>2.875499</td>\n",
       "      <td>0.057433</td>\n",
       "      <td>-0.043240</td>\n",
       "      <td>3.158638</td>\n",
       "      <td>1.906316</td>\n",
       "      <td>...</td>\n",
       "      <td>0.508718</td>\n",
       "      <td>1.755275</td>\n",
       "      <td>-0.391129</td>\n",
       "      <td>-1.184850</td>\n",
       "      <td>0.236555</td>\n",
       "      <td>0.768243</td>\n",
       "      <td>0.266537</td>\n",
       "      <td>-0.769761</td>\n",
       "      <td>-0.493886</td>\n",
       "      <td>-0.056240</td>\n",
       "    </tr>\n",
       "    <tr>\n",
       "      <th>1</th>\n",
       "      <td>0.993581</td>\n",
       "      <td>0.610868</td>\n",
       "      <td>0.768369</td>\n",
       "      <td>0.948534</td>\n",
       "      <td>0.437705</td>\n",
       "      <td>0.675325</td>\n",
       "      <td>0.780884</td>\n",
       "      <td>0.220308</td>\n",
       "      <td>0.440593</td>\n",
       "      <td>0.901260</td>\n",
       "      <td>...</td>\n",
       "      <td>1.727527</td>\n",
       "      <td>1.908813</td>\n",
       "      <td>1.921934</td>\n",
       "      <td>1.729796</td>\n",
       "      <td>1.177036</td>\n",
       "      <td>1.895706</td>\n",
       "      <td>1.682864</td>\n",
       "      <td>0.408121</td>\n",
       "      <td>1.255829</td>\n",
       "      <td>1.657474</td>\n",
       "    </tr>\n",
       "    <tr>\n",
       "      <th>2</th>\n",
       "      <td>-1.819069</td>\n",
       "      <td>-1.374773</td>\n",
       "      <td>-1.274076</td>\n",
       "      <td>-1.307025</td>\n",
       "      <td>-1.102045</td>\n",
       "      <td>-0.867051</td>\n",
       "      <td>-0.915302</td>\n",
       "      <td>-1.112280</td>\n",
       "      <td>-0.748028</td>\n",
       "      <td>-0.547975</td>\n",
       "      <td>...</td>\n",
       "      <td>-1.623955</td>\n",
       "      <td>-0.329383</td>\n",
       "      <td>-0.716157</td>\n",
       "      <td>-1.114035</td>\n",
       "      <td>-0.669882</td>\n",
       "      <td>-0.953574</td>\n",
       "      <td>-0.662542</td>\n",
       "      <td>-1.196687</td>\n",
       "      <td>-0.774894</td>\n",
       "      <td>-0.753788</td>\n",
       "    </tr>\n",
       "    <tr>\n",
       "      <th>3</th>\n",
       "      <td>-0.704078</td>\n",
       "      <td>-0.616667</td>\n",
       "      <td>-0.814239</td>\n",
       "      <td>-1.530845</td>\n",
       "      <td>-1.349924</td>\n",
       "      <td>-1.091546</td>\n",
       "      <td>-0.432309</td>\n",
       "      <td>-0.566426</td>\n",
       "      <td>-0.713744</td>\n",
       "      <td>0.354408</td>\n",
       "      <td>...</td>\n",
       "      <td>1.458252</td>\n",
       "      <td>0.080353</td>\n",
       "      <td>-0.781160</td>\n",
       "      <td>0.025421</td>\n",
       "      <td>-0.211286</td>\n",
       "      <td>0.445272</td>\n",
       "      <td>1.443770</td>\n",
       "      <td>1.370113</td>\n",
       "      <td>1.137001</td>\n",
       "      <td>0.344171</td>\n",
       "    </tr>\n",
       "    <tr>\n",
       "      <th>4</th>\n",
       "      <td>-1.567261</td>\n",
       "      <td>-0.441336</td>\n",
       "      <td>-0.567468</td>\n",
       "      <td>-1.785128</td>\n",
       "      <td>-1.909993</td>\n",
       "      <td>-0.806943</td>\n",
       "      <td>-0.548662</td>\n",
       "      <td>-0.942096</td>\n",
       "      <td>-1.820165</td>\n",
       "      <td>-1.940507</td>\n",
       "      <td>...</td>\n",
       "      <td>0.735916</td>\n",
       "      <td>0.957282</td>\n",
       "      <td>0.596986</td>\n",
       "      <td>-0.084556</td>\n",
       "      <td>0.264438</td>\n",
       "      <td>-0.266003</td>\n",
       "      <td>-0.948843</td>\n",
       "      <td>-0.318836</td>\n",
       "      <td>-1.201917</td>\n",
       "      <td>-2.426599</td>\n",
       "    </tr>\n",
       "    <tr>\n",
       "      <th>...</th>\n",
       "      <td>...</td>\n",
       "      <td>...</td>\n",
       "      <td>...</td>\n",
       "      <td>...</td>\n",
       "      <td>...</td>\n",
       "      <td>...</td>\n",
       "      <td>...</td>\n",
       "      <td>...</td>\n",
       "      <td>...</td>\n",
       "      <td>...</td>\n",
       "      <td>...</td>\n",
       "      <td>...</td>\n",
       "      <td>...</td>\n",
       "      <td>...</td>\n",
       "      <td>...</td>\n",
       "      <td>...</td>\n",
       "      <td>...</td>\n",
       "      <td>...</td>\n",
       "      <td>...</td>\n",
       "      <td>...</td>\n",
       "      <td>...</td>\n",
       "    </tr>\n",
       "    <tr>\n",
       "      <th>766</th>\n",
       "      <td>0.464441</td>\n",
       "      <td>0.669763</td>\n",
       "      <td>1.202785</td>\n",
       "      <td>1.058231</td>\n",
       "      <td>0.934235</td>\n",
       "      <td>1.271015</td>\n",
       "      <td>1.397469</td>\n",
       "      <td>1.321312</td>\n",
       "      <td>1.445583</td>\n",
       "      <td>1.546567</td>\n",
       "      <td>...</td>\n",
       "      <td>1.039575</td>\n",
       "      <td>0.574697</td>\n",
       "      <td>1.254652</td>\n",
       "      <td>1.963026</td>\n",
       "      <td>1.351931</td>\n",
       "      <td>0.832973</td>\n",
       "      <td>0.728592</td>\n",
       "      <td>1.256221</td>\n",
       "      <td>0.944892</td>\n",
       "      <td>0.376371</td>\n",
       "    </tr>\n",
       "    <tr>\n",
       "      <th>767</th>\n",
       "      <td>-0.217927</td>\n",
       "      <td>0.113563</td>\n",
       "      <td>0.093070</td>\n",
       "      <td>0.117657</td>\n",
       "      <td>0.549181</td>\n",
       "      <td>0.029884</td>\n",
       "      <td>0.299867</td>\n",
       "      <td>0.007868</td>\n",
       "      <td>-0.209018</td>\n",
       "      <td>-0.362873</td>\n",
       "      <td>...</td>\n",
       "      <td>-0.447867</td>\n",
       "      <td>-0.247390</td>\n",
       "      <td>1.068820</td>\n",
       "      <td>-0.397097</td>\n",
       "      <td>0.741579</td>\n",
       "      <td>0.657132</td>\n",
       "      <td>-0.375943</td>\n",
       "      <td>1.060021</td>\n",
       "      <td>-0.104931</td>\n",
       "      <td>-0.763680</td>\n",
       "    </tr>\n",
       "    <tr>\n",
       "      <th>768</th>\n",
       "      <td>-2.063161</td>\n",
       "      <td>-2.175277</td>\n",
       "      <td>-0.929543</td>\n",
       "      <td>-1.169798</td>\n",
       "      <td>-0.813126</td>\n",
       "      <td>-2.363415</td>\n",
       "      <td>-1.850062</td>\n",
       "      <td>-1.665087</td>\n",
       "      <td>-2.669921</td>\n",
       "      <td>-2.073052</td>\n",
       "      <td>...</td>\n",
       "      <td>-0.088977</td>\n",
       "      <td>-1.219719</td>\n",
       "      <td>0.035286</td>\n",
       "      <td>-0.251101</td>\n",
       "      <td>-0.361223</td>\n",
       "      <td>-1.390771</td>\n",
       "      <td>-2.053888</td>\n",
       "      <td>0.077829</td>\n",
       "      <td>-0.317766</td>\n",
       "      <td>-0.708482</td>\n",
       "    </tr>\n",
       "    <tr>\n",
       "      <th>769</th>\n",
       "      <td>0.364239</td>\n",
       "      <td>-0.043295</td>\n",
       "      <td>0.159677</td>\n",
       "      <td>-0.424053</td>\n",
       "      <td>0.079468</td>\n",
       "      <td>0.364508</td>\n",
       "      <td>1.283228</td>\n",
       "      <td>1.931879</td>\n",
       "      <td>1.322287</td>\n",
       "      <td>1.352263</td>\n",
       "      <td>...</td>\n",
       "      <td>0.979738</td>\n",
       "      <td>0.650011</td>\n",
       "      <td>-0.045640</td>\n",
       "      <td>-2.128294</td>\n",
       "      <td>-1.255632</td>\n",
       "      <td>0.614379</td>\n",
       "      <td>0.527738</td>\n",
       "      <td>1.206247</td>\n",
       "      <td>0.599167</td>\n",
       "      <td>0.534894</td>\n",
       "    </tr>\n",
       "    <tr>\n",
       "      <th>770</th>\n",
       "      <td>1.181796</td>\n",
       "      <td>1.983047</td>\n",
       "      <td>1.751198</td>\n",
       "      <td>1.256760</td>\n",
       "      <td>1.570862</td>\n",
       "      <td>1.479286</td>\n",
       "      <td>1.285411</td>\n",
       "      <td>0.897991</td>\n",
       "      <td>2.167088</td>\n",
       "      <td>2.193624</td>\n",
       "      <td>...</td>\n",
       "      <td>1.995837</td>\n",
       "      <td>1.106929</td>\n",
       "      <td>0.341505</td>\n",
       "      <td>2.521268</td>\n",
       "      <td>1.109568</td>\n",
       "      <td>0.104196</td>\n",
       "      <td>1.204457</td>\n",
       "      <td>0.196602</td>\n",
       "      <td>0.862364</td>\n",
       "      <td>1.782474</td>\n",
       "    </tr>\n",
       "  </tbody>\n",
       "</table>\n",
       "<p>771 rows × 8736 columns</p>\n",
       "</div>"
      ],
      "text/plain": [
       "         0         1         2         3         4         5         6     \\\n",
       "id                                                                          \n",
       "0    1.587772  0.848739  0.211134  0.559697  0.640619  2.875499  0.057433   \n",
       "1    0.993581  0.610868  0.768369  0.948534  0.437705  0.675325  0.780884   \n",
       "2   -1.819069 -1.374773 -1.274076 -1.307025 -1.102045 -0.867051 -0.915302   \n",
       "3   -0.704078 -0.616667 -0.814239 -1.530845 -1.349924 -1.091546 -0.432309   \n",
       "4   -1.567261 -0.441336 -0.567468 -1.785128 -1.909993 -0.806943 -0.548662   \n",
       "..        ...       ...       ...       ...       ...       ...       ...   \n",
       "766  0.464441  0.669763  1.202785  1.058231  0.934235  1.271015  1.397469   \n",
       "767 -0.217927  0.113563  0.093070  0.117657  0.549181  0.029884  0.299867   \n",
       "768 -2.063161 -2.175277 -0.929543 -1.169798 -0.813126 -2.363415 -1.850062   \n",
       "769  0.364239 -0.043295  0.159677 -0.424053  0.079468  0.364508  1.283228   \n",
       "770  1.181796  1.983047  1.751198  1.256760  1.570862  1.479286  1.285411   \n",
       "\n",
       "         7         8         9     ...      8726      8727      8728  \\\n",
       "id                                 ...                                 \n",
       "0   -0.043240  3.158638  1.906316  ...  0.508718  1.755275 -0.391129   \n",
       "1    0.220308  0.440593  0.901260  ...  1.727527  1.908813  1.921934   \n",
       "2   -1.112280 -0.748028 -0.547975  ... -1.623955 -0.329383 -0.716157   \n",
       "3   -0.566426 -0.713744  0.354408  ...  1.458252  0.080353 -0.781160   \n",
       "4   -0.942096 -1.820165 -1.940507  ...  0.735916  0.957282  0.596986   \n",
       "..        ...       ...       ...  ...       ...       ...       ...   \n",
       "766  1.321312  1.445583  1.546567  ...  1.039575  0.574697  1.254652   \n",
       "767  0.007868 -0.209018 -0.362873  ... -0.447867 -0.247390  1.068820   \n",
       "768 -1.665087 -2.669921 -2.073052  ... -0.088977 -1.219719  0.035286   \n",
       "769  1.931879  1.322287  1.352263  ...  0.979738  0.650011 -0.045640   \n",
       "770  0.897991  2.167088  2.193624  ...  1.995837  1.106929  0.341505   \n",
       "\n",
       "         8729      8730      8731      8732      8733      8734      8735  \n",
       "id                                                                         \n",
       "0   -1.184850  0.236555  0.768243  0.266537 -0.769761 -0.493886 -0.056240  \n",
       "1    1.729796  1.177036  1.895706  1.682864  0.408121  1.255829  1.657474  \n",
       "2   -1.114035 -0.669882 -0.953574 -0.662542 -1.196687 -0.774894 -0.753788  \n",
       "3    0.025421 -0.211286  0.445272  1.443770  1.370113  1.137001  0.344171  \n",
       "4   -0.084556  0.264438 -0.266003 -0.948843 -0.318836 -1.201917 -2.426599  \n",
       "..        ...       ...       ...       ...       ...       ...       ...  \n",
       "766  1.963026  1.351931  0.832973  0.728592  1.256221  0.944892  0.376371  \n",
       "767 -0.397097  0.741579  0.657132 -0.375943  1.060021 -0.104931 -0.763680  \n",
       "768 -0.251101 -0.361223 -1.390771 -2.053888  0.077829 -0.317766 -0.708482  \n",
       "769 -2.128294 -1.255632  0.614379  0.527738  1.206247  0.599167  0.534894  \n",
       "770  2.521268  1.109568  0.104196  1.204457  0.196602  0.862364  1.782474  \n",
       "\n",
       "[771 rows x 8736 columns]"
      ]
     },
     "execution_count": 9,
     "metadata": {},
     "output_type": "execute_result"
    }
   ],
   "source": [
    "df = pd.DataFrame(noise_time_series)\n",
    "df.index.name = 'id'\n",
    "df"
   ]
  },
  {
   "cell_type": "markdown",
   "id": "f53e6320-d18d-401c-8985-17ae90a018d7",
   "metadata": {},
   "source": [
    "Export to CSV format:"
   ]
  },
  {
   "cell_type": "code",
   "execution_count": 14,
   "id": "ab7039a5-6327-4e04-a146-66916e61f011",
   "metadata": {},
   "outputs": [],
   "source": [
    "df.to_csv('data/cost_noise.csv', mode='x', index=False)"
   ]
  },
  {
   "cell_type": "markdown",
   "id": "faa039cf-6fc1-43c4-83bc-e27b71e13c5b",
   "metadata": {},
   "source": [
    "As with the loads, the whole procedure can be iterated:"
   ]
  },
  {
   "cell_type": "code",
   "execution_count": 10,
   "id": "cef12741-be42-41e3-b98c-20d9c5294210",
   "metadata": {},
   "outputs": [
    {
     "name": "stdout",
     "output_type": "stream",
     "text": [
      "Writing to file 'data/cost_noise_2016_1.csv'...ok\n",
      "Writing to file 'data/cost_noise_2016_2.csv'...ok\n",
      "Writing to file 'data/cost_noise_2016_3.csv'...ok\n",
      "Writing to file 'data/cost_noise_2016_4.csv'...ok\n",
      "Writing to file 'data/cost_noise_2017_1.csv'...ok\n",
      "Writing to file 'data/cost_noise_2017_2.csv'...ok\n",
      "Writing to file 'data/cost_noise_2017_3.csv'...ok\n",
      "Writing to file 'data/cost_noise_2017_4.csv'...ok\n",
      "Writing to file 'data/cost_noise_2018_1.csv'...ok\n",
      "Writing to file 'data/cost_noise_2018_2.csv'...ok\n",
      "Writing to file 'data/cost_noise_2018_3.csv'...ok\n",
      "Writing to file 'data/cost_noise_2018_4.csv'...ok\n",
      "Writing to file 'data/cost_noise_2019_1.csv'...ok\n",
      "Writing to file 'data/cost_noise_2019_2.csv'...ok\n",
      "Writing to file 'data/cost_noise_2019_3.csv'...ok\n",
      "Writing to file 'data/cost_noise_2019_4.csv'...ok\n",
      "Writing to file 'data/cost_noise_2020_1.csv'...ok\n",
      "Writing to file 'data/cost_noise_2020_2.csv'...ok\n",
      "Writing to file 'data/cost_noise_2020_3.csv'...ok\n",
      "Writing to file 'data/cost_noise_2020_4.csv'...ok\n"
     ]
    }
   ],
   "source": [
    "for year in range(2016, 2021):\n",
    "    n_nuc = len(pd.read_csv('data/nuclear_%d.csv' % year))\n",
    "    n_gens = n_gens_all - n_nuc\n",
    "    for i in range(1, 5):\n",
    "        df = pd.DataFrame(ts.generate_noise(count=n_gens))\n",
    "        df.index.name = 'id'\n",
    "        filename = \"data/cost_noise_%d_%d.csv\" % (year, i)\n",
    "        print(\"Writing to file '%s'...\" % filename, end='')\n",
    "        df.to_csv(filename, mode='x', index=False)\n",
    "        print(\"ok\")"
   ]
  }
 ],
 "metadata": {
  "kernelspec": {
   "display_name": "Python 3 (ipykernel)",
   "language": "python",
   "name": "python3"
  },
  "language_info": {
   "codemirror_mode": {
    "name": "ipython",
    "version": 3
   },
   "file_extension": ".py",
   "mimetype": "text/x-python",
   "name": "python",
   "nbconvert_exporter": "python",
   "pygments_lexer": "ipython3",
   "version": "3.11.8"
  }
 },
 "nbformat": 4,
 "nbformat_minor": 5
}
