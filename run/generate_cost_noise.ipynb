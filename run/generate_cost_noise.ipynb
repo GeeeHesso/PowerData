{
 "cells": [
  {
   "cell_type": "markdown",
   "id": "1f10caf4-b984-48dc-a79b-76b5bf5da76d",
   "metadata": {},
   "source": [
    "# Generate noise series for the production cost of generators"
   ]
  },
  {
   "cell_type": "markdown",
   "id": "98f2faca-ffe7-4afd-979c-86abc69d11e4",
   "metadata": {},
   "source": [
    "This notebook generates noise series for all 770 dispatchable generators of the European model."
   ]
  },
  {
   "cell_type": "code",
   "execution_count": 1,
   "id": "fa1974e2-c8e5-4c28-9401-3cc87bbdf7d2",
   "metadata": {},
   "outputs": [],
   "source": [
    "import os, sys\n",
    "sys.path.append('../TimeSeries/')\n",
    "\n",
    "import time_series as ts"
   ]
  },
  {
   "cell_type": "code",
   "execution_count": 2,
   "id": "6d364271-d2ac-4d8e-a794-9188446207a9",
   "metadata": {},
   "outputs": [],
   "source": [
    "import json\n",
    "import pandas as pd\n",
    "import numpy as np\n",
    "import matplotlib.pyplot as plt"
   ]
  },
  {
   "cell_type": "markdown",
   "id": "05d86ee5-6fa9-4967-8e37-6e1ab50b0a7c",
   "metadata": {},
   "source": [
    "### Get a list of gens"
   ]
  },
  {
   "cell_type": "markdown",
   "id": "703ed9b8-f654-41be-a1a0-dc3664cc4a47",
   "metadata": {},
   "source": [
    "Import the network file:"
   ]
  },
  {
   "cell_type": "code",
   "execution_count": 3,
   "id": "a8e9b1d4-9469-40ff-ba5e-06784634b8ff",
   "metadata": {},
   "outputs": [],
   "source": [
    "with open('../models/europe.json') as f:\n",
    "    network = json.load(f)"
   ]
  },
  {
   "cell_type": "markdown",
   "id": "b948dae9-fb59-48a6-ba85-22dbab361960",
   "metadata": {},
   "source": [
    "Count the number of generators:"
   ]
  },
  {
   "cell_type": "code",
   "execution_count": 4,
   "id": "4c0b7368-173e-4335-9d23-e2ca2f6dc34e",
   "metadata": {},
   "outputs": [
    {
     "data": {
      "text/plain": [
       "815"
      ]
     },
     "execution_count": 4,
     "metadata": {},
     "output_type": "execute_result"
    }
   ],
   "source": [
    "n_gens_all = len(network['gen'])\n",
    "n_gens_all"
   ]
  },
  {
   "cell_type": "markdown",
   "id": "34519888-0706-4663-9de0-09651e000619",
   "metadata": {},
   "source": [
    "Subtract non-dispatchable generators:"
   ]
  },
  {
   "cell_type": "code",
   "execution_count": 5,
   "id": "e8f2fdab-482c-475a-8411-cf5d2a60a7b9",
   "metadata": {},
   "outputs": [
    {
     "data": {
      "text/plain": [
       "44"
      ]
     },
     "execution_count": 5,
     "metadata": {},
     "output_type": "execute_result"
    }
   ],
   "source": [
    "n_nuc = len(pd.read_csv('data/nuclear_2016.csv'))\n",
    "n_nuc"
   ]
  },
  {
   "cell_type": "code",
   "execution_count": 6,
   "id": "2198a6fa-9d4c-477e-be00-bd07ba2d1fcd",
   "metadata": {},
   "outputs": [
    {
     "data": {
      "text/plain": [
       "771"
      ]
     },
     "execution_count": 6,
     "metadata": {},
     "output_type": "execute_result"
    }
   ],
   "source": [
    "n_gens = n_gens_all - n_nuc\n",
    "n_gens"
   ]
  },
  {
   "cell_type": "markdown",
   "id": "cb6cae68-7565-4d85-a0aa-cdd4f14c50ee",
   "metadata": {},
   "source": [
    "### Generate noise series"
   ]
  },
  {
   "cell_type": "markdown",
   "id": "03d0c52d-ea09-48a6-bb60-5aed6da1b067",
   "metadata": {},
   "source": [
    "To be relevant, the noise on the generation cost must be of the same order of magnitude as the line cost computed in the model, which is directly related to the power flowing on the line in MW.\n",
    "\n",
    "We choose therefore a noise with a standard deviation of 10 MW."
   ]
  },
  {
   "cell_type": "code",
   "execution_count": 7,
   "id": "338fd47f-6da3-4039-920a-0e3518dfe9ae",
   "metadata": {},
   "outputs": [],
   "source": [
    "noise_time_series = 10.0 * ts.generate_noise(count=n_gens)"
   ]
  },
  {
   "cell_type": "code",
   "execution_count": 8,
   "id": "1b3361cd-f13a-4bc2-913c-c905c3e3bbf4",
   "metadata": {},
   "outputs": [
    {
     "data": {
      "text/plain": [
       "(1.1550948484224617e-14, 9.877269001549635)"
      ]
     },
     "execution_count": 8,
     "metadata": {},
     "output_type": "execute_result"
    }
   ],
   "source": [
    "noise_time_series.mean(), noise_time_series.std(axis=1).mean()"
   ]
  },
  {
   "cell_type": "markdown",
   "id": "77da63a9-f533-4c58-9040-528580ea4431",
   "metadata": {},
   "source": [
    "Pack everything into a dataframe, with time steps as columns and generators as rows:"
   ]
  },
  {
   "cell_type": "code",
   "execution_count": 9,
   "id": "c73f771c-00a6-4327-acc3-d3f6791b6901",
   "metadata": {},
   "outputs": [
    {
     "data": {
      "text/html": [
       "<div>\n",
       "<style scoped>\n",
       "    .dataframe tbody tr th:only-of-type {\n",
       "        vertical-align: middle;\n",
       "    }\n",
       "\n",
       "    .dataframe tbody tr th {\n",
       "        vertical-align: top;\n",
       "    }\n",
       "\n",
       "    .dataframe thead th {\n",
       "        text-align: right;\n",
       "    }\n",
       "</style>\n",
       "<table border=\"1\" class=\"dataframe\">\n",
       "  <thead>\n",
       "    <tr style=\"text-align: right;\">\n",
       "      <th></th>\n",
       "      <th>0</th>\n",
       "      <th>1</th>\n",
       "      <th>2</th>\n",
       "      <th>3</th>\n",
       "      <th>4</th>\n",
       "      <th>5</th>\n",
       "      <th>6</th>\n",
       "      <th>7</th>\n",
       "      <th>8</th>\n",
       "      <th>9</th>\n",
       "      <th>...</th>\n",
       "      <th>8726</th>\n",
       "      <th>8727</th>\n",
       "      <th>8728</th>\n",
       "      <th>8729</th>\n",
       "      <th>8730</th>\n",
       "      <th>8731</th>\n",
       "      <th>8732</th>\n",
       "      <th>8733</th>\n",
       "      <th>8734</th>\n",
       "      <th>8735</th>\n",
       "    </tr>\n",
       "    <tr>\n",
       "      <th>id</th>\n",
       "      <th></th>\n",
       "      <th></th>\n",
       "      <th></th>\n",
       "      <th></th>\n",
       "      <th></th>\n",
       "      <th></th>\n",
       "      <th></th>\n",
       "      <th></th>\n",
       "      <th></th>\n",
       "      <th></th>\n",
       "      <th></th>\n",
       "      <th></th>\n",
       "      <th></th>\n",
       "      <th></th>\n",
       "      <th></th>\n",
       "      <th></th>\n",
       "      <th></th>\n",
       "      <th></th>\n",
       "      <th></th>\n",
       "      <th></th>\n",
       "      <th></th>\n",
       "    </tr>\n",
       "  </thead>\n",
       "  <tbody>\n",
       "    <tr>\n",
       "      <th>0</th>\n",
       "      <td>-10.675920</td>\n",
       "      <td>-13.207297</td>\n",
       "      <td>-13.035406</td>\n",
       "      <td>-5.107687</td>\n",
       "      <td>-4.343137</td>\n",
       "      <td>0.518485</td>\n",
       "      <td>-3.602097</td>\n",
       "      <td>-11.485150</td>\n",
       "      <td>-6.931959</td>\n",
       "      <td>-12.121181</td>\n",
       "      <td>...</td>\n",
       "      <td>-3.304067</td>\n",
       "      <td>0.795212</td>\n",
       "      <td>-1.762380</td>\n",
       "      <td>-11.727714</td>\n",
       "      <td>-9.662877</td>\n",
       "      <td>-11.040550</td>\n",
       "      <td>-13.292879</td>\n",
       "      <td>-7.929119</td>\n",
       "      <td>-12.604904</td>\n",
       "      <td>-17.032330</td>\n",
       "    </tr>\n",
       "    <tr>\n",
       "      <th>1</th>\n",
       "      <td>5.410207</td>\n",
       "      <td>17.550185</td>\n",
       "      <td>7.453658</td>\n",
       "      <td>5.880219</td>\n",
       "      <td>8.213266</td>\n",
       "      <td>-0.853597</td>\n",
       "      <td>3.561730</td>\n",
       "      <td>11.488540</td>\n",
       "      <td>11.005962</td>\n",
       "      <td>11.771794</td>\n",
       "      <td>...</td>\n",
       "      <td>-5.016081</td>\n",
       "      <td>1.119617</td>\n",
       "      <td>15.049552</td>\n",
       "      <td>8.211094</td>\n",
       "      <td>-5.076891</td>\n",
       "      <td>2.731009</td>\n",
       "      <td>3.563954</td>\n",
       "      <td>0.806464</td>\n",
       "      <td>5.680570</td>\n",
       "      <td>-0.970249</td>\n",
       "    </tr>\n",
       "    <tr>\n",
       "      <th>2</th>\n",
       "      <td>11.041741</td>\n",
       "      <td>9.357683</td>\n",
       "      <td>14.610652</td>\n",
       "      <td>4.852064</td>\n",
       "      <td>6.631779</td>\n",
       "      <td>19.250565</td>\n",
       "      <td>22.947637</td>\n",
       "      <td>16.205013</td>\n",
       "      <td>1.953092</td>\n",
       "      <td>8.736822</td>\n",
       "      <td>...</td>\n",
       "      <td>8.854452</td>\n",
       "      <td>12.548148</td>\n",
       "      <td>11.893739</td>\n",
       "      <td>6.324844</td>\n",
       "      <td>5.100821</td>\n",
       "      <td>9.518511</td>\n",
       "      <td>15.031411</td>\n",
       "      <td>22.205695</td>\n",
       "      <td>11.911249</td>\n",
       "      <td>8.194462</td>\n",
       "    </tr>\n",
       "    <tr>\n",
       "      <th>3</th>\n",
       "      <td>12.054936</td>\n",
       "      <td>16.027783</td>\n",
       "      <td>15.219440</td>\n",
       "      <td>18.076760</td>\n",
       "      <td>17.087627</td>\n",
       "      <td>14.290928</td>\n",
       "      <td>20.403409</td>\n",
       "      <td>18.777353</td>\n",
       "      <td>8.686523</td>\n",
       "      <td>14.719224</td>\n",
       "      <td>...</td>\n",
       "      <td>36.480170</td>\n",
       "      <td>19.078989</td>\n",
       "      <td>24.395263</td>\n",
       "      <td>26.850896</td>\n",
       "      <td>23.659614</td>\n",
       "      <td>23.070374</td>\n",
       "      <td>17.813052</td>\n",
       "      <td>22.937851</td>\n",
       "      <td>26.271913</td>\n",
       "      <td>14.586227</td>\n",
       "    </tr>\n",
       "    <tr>\n",
       "      <th>4</th>\n",
       "      <td>-0.983826</td>\n",
       "      <td>-11.457031</td>\n",
       "      <td>-19.444926</td>\n",
       "      <td>-1.586145</td>\n",
       "      <td>-5.737563</td>\n",
       "      <td>-5.785771</td>\n",
       "      <td>9.111758</td>\n",
       "      <td>12.970622</td>\n",
       "      <td>12.238757</td>\n",
       "      <td>10.717877</td>\n",
       "      <td>...</td>\n",
       "      <td>-11.311286</td>\n",
       "      <td>-10.831699</td>\n",
       "      <td>-4.720031</td>\n",
       "      <td>0.742156</td>\n",
       "      <td>-4.733613</td>\n",
       "      <td>-11.583743</td>\n",
       "      <td>-11.545807</td>\n",
       "      <td>0.963312</td>\n",
       "      <td>0.134267</td>\n",
       "      <td>-10.380521</td>\n",
       "    </tr>\n",
       "    <tr>\n",
       "      <th>...</th>\n",
       "      <td>...</td>\n",
       "      <td>...</td>\n",
       "      <td>...</td>\n",
       "      <td>...</td>\n",
       "      <td>...</td>\n",
       "      <td>...</td>\n",
       "      <td>...</td>\n",
       "      <td>...</td>\n",
       "      <td>...</td>\n",
       "      <td>...</td>\n",
       "      <td>...</td>\n",
       "      <td>...</td>\n",
       "      <td>...</td>\n",
       "      <td>...</td>\n",
       "      <td>...</td>\n",
       "      <td>...</td>\n",
       "      <td>...</td>\n",
       "      <td>...</td>\n",
       "      <td>...</td>\n",
       "      <td>...</td>\n",
       "      <td>...</td>\n",
       "    </tr>\n",
       "    <tr>\n",
       "      <th>766</th>\n",
       "      <td>-0.803361</td>\n",
       "      <td>-0.150055</td>\n",
       "      <td>5.816244</td>\n",
       "      <td>9.882835</td>\n",
       "      <td>10.831963</td>\n",
       "      <td>8.517128</td>\n",
       "      <td>6.838445</td>\n",
       "      <td>11.024387</td>\n",
       "      <td>8.218359</td>\n",
       "      <td>4.603431</td>\n",
       "      <td>...</td>\n",
       "      <td>0.673592</td>\n",
       "      <td>-4.583294</td>\n",
       "      <td>-9.059592</td>\n",
       "      <td>-1.635266</td>\n",
       "      <td>-0.364366</td>\n",
       "      <td>-2.642243</td>\n",
       "      <td>4.432637</td>\n",
       "      <td>0.467787</td>\n",
       "      <td>-1.795901</td>\n",
       "      <td>2.259870</td>\n",
       "    </tr>\n",
       "    <tr>\n",
       "      <th>767</th>\n",
       "      <td>2.197145</td>\n",
       "      <td>-2.333406</td>\n",
       "      <td>2.160039</td>\n",
       "      <td>6.231451</td>\n",
       "      <td>2.063099</td>\n",
       "      <td>7.082254</td>\n",
       "      <td>3.792897</td>\n",
       "      <td>-2.700226</td>\n",
       "      <td>6.914667</td>\n",
       "      <td>1.393923</td>\n",
       "      <td>...</td>\n",
       "      <td>-3.347955</td>\n",
       "      <td>1.203416</td>\n",
       "      <td>-1.288896</td>\n",
       "      <td>2.433001</td>\n",
       "      <td>9.307075</td>\n",
       "      <td>2.110505</td>\n",
       "      <td>6.250861</td>\n",
       "      <td>11.211871</td>\n",
       "      <td>4.890911</td>\n",
       "      <td>3.618036</td>\n",
       "    </tr>\n",
       "    <tr>\n",
       "      <th>768</th>\n",
       "      <td>-6.018359</td>\n",
       "      <td>-1.554633</td>\n",
       "      <td>-6.023752</td>\n",
       "      <td>-9.125311</td>\n",
       "      <td>4.358986</td>\n",
       "      <td>-2.331546</td>\n",
       "      <td>-8.273557</td>\n",
       "      <td>6.752127</td>\n",
       "      <td>-0.577729</td>\n",
       "      <td>-9.287696</td>\n",
       "      <td>...</td>\n",
       "      <td>-2.636813</td>\n",
       "      <td>8.560957</td>\n",
       "      <td>-12.797689</td>\n",
       "      <td>-6.507862</td>\n",
       "      <td>5.949055</td>\n",
       "      <td>-9.199855</td>\n",
       "      <td>-3.001592</td>\n",
       "      <td>-6.664406</td>\n",
       "      <td>-7.652298</td>\n",
       "      <td>-0.066859</td>\n",
       "    </tr>\n",
       "    <tr>\n",
       "      <th>769</th>\n",
       "      <td>-8.134690</td>\n",
       "      <td>2.248282</td>\n",
       "      <td>-6.013993</td>\n",
       "      <td>-10.238619</td>\n",
       "      <td>-1.400891</td>\n",
       "      <td>10.324391</td>\n",
       "      <td>5.213720</td>\n",
       "      <td>-10.132347</td>\n",
       "      <td>-3.760501</td>\n",
       "      <td>-3.887554</td>\n",
       "      <td>...</td>\n",
       "      <td>-19.556633</td>\n",
       "      <td>-14.299594</td>\n",
       "      <td>-11.215323</td>\n",
       "      <td>-1.968900</td>\n",
       "      <td>-2.991927</td>\n",
       "      <td>-21.183658</td>\n",
       "      <td>-3.446409</td>\n",
       "      <td>-7.698196</td>\n",
       "      <td>-19.078789</td>\n",
       "      <td>-12.137065</td>\n",
       "    </tr>\n",
       "    <tr>\n",
       "      <th>770</th>\n",
       "      <td>11.118011</td>\n",
       "      <td>-3.534831</td>\n",
       "      <td>-4.165690</td>\n",
       "      <td>-2.965234</td>\n",
       "      <td>3.794994</td>\n",
       "      <td>17.678707</td>\n",
       "      <td>8.538954</td>\n",
       "      <td>11.408500</td>\n",
       "      <td>8.579594</td>\n",
       "      <td>5.239319</td>\n",
       "      <td>...</td>\n",
       "      <td>20.927318</td>\n",
       "      <td>18.238091</td>\n",
       "      <td>6.406087</td>\n",
       "      <td>16.090437</td>\n",
       "      <td>14.358820</td>\n",
       "      <td>16.464987</td>\n",
       "      <td>13.490449</td>\n",
       "      <td>11.046821</td>\n",
       "      <td>10.403292</td>\n",
       "      <td>8.275291</td>\n",
       "    </tr>\n",
       "  </tbody>\n",
       "</table>\n",
       "<p>771 rows × 8736 columns</p>\n",
       "</div>"
      ],
      "text/plain": [
       "          0          1          2          3          4          5     \\\n",
       "id                                                                      \n",
       "0   -10.675920 -13.207297 -13.035406  -5.107687  -4.343137   0.518485   \n",
       "1     5.410207  17.550185   7.453658   5.880219   8.213266  -0.853597   \n",
       "2    11.041741   9.357683  14.610652   4.852064   6.631779  19.250565   \n",
       "3    12.054936  16.027783  15.219440  18.076760  17.087627  14.290928   \n",
       "4    -0.983826 -11.457031 -19.444926  -1.586145  -5.737563  -5.785771   \n",
       "..         ...        ...        ...        ...        ...        ...   \n",
       "766  -0.803361  -0.150055   5.816244   9.882835  10.831963   8.517128   \n",
       "767   2.197145  -2.333406   2.160039   6.231451   2.063099   7.082254   \n",
       "768  -6.018359  -1.554633  -6.023752  -9.125311   4.358986  -2.331546   \n",
       "769  -8.134690   2.248282  -6.013993 -10.238619  -1.400891  10.324391   \n",
       "770  11.118011  -3.534831  -4.165690  -2.965234   3.794994  17.678707   \n",
       "\n",
       "          6          7          8          9     ...       8726       8727  \\\n",
       "id                                               ...                         \n",
       "0    -3.602097 -11.485150  -6.931959 -12.121181  ...  -3.304067   0.795212   \n",
       "1     3.561730  11.488540  11.005962  11.771794  ...  -5.016081   1.119617   \n",
       "2    22.947637  16.205013   1.953092   8.736822  ...   8.854452  12.548148   \n",
       "3    20.403409  18.777353   8.686523  14.719224  ...  36.480170  19.078989   \n",
       "4     9.111758  12.970622  12.238757  10.717877  ... -11.311286 -10.831699   \n",
       "..         ...        ...        ...        ...  ...        ...        ...   \n",
       "766   6.838445  11.024387   8.218359   4.603431  ...   0.673592  -4.583294   \n",
       "767   3.792897  -2.700226   6.914667   1.393923  ...  -3.347955   1.203416   \n",
       "768  -8.273557   6.752127  -0.577729  -9.287696  ...  -2.636813   8.560957   \n",
       "769   5.213720 -10.132347  -3.760501  -3.887554  ... -19.556633 -14.299594   \n",
       "770   8.538954  11.408500   8.579594   5.239319  ...  20.927318  18.238091   \n",
       "\n",
       "          8728       8729       8730       8731       8732       8733  \\\n",
       "id                                                                      \n",
       "0    -1.762380 -11.727714  -9.662877 -11.040550 -13.292879  -7.929119   \n",
       "1    15.049552   8.211094  -5.076891   2.731009   3.563954   0.806464   \n",
       "2    11.893739   6.324844   5.100821   9.518511  15.031411  22.205695   \n",
       "3    24.395263  26.850896  23.659614  23.070374  17.813052  22.937851   \n",
       "4    -4.720031   0.742156  -4.733613 -11.583743 -11.545807   0.963312   \n",
       "..         ...        ...        ...        ...        ...        ...   \n",
       "766  -9.059592  -1.635266  -0.364366  -2.642243   4.432637   0.467787   \n",
       "767  -1.288896   2.433001   9.307075   2.110505   6.250861  11.211871   \n",
       "768 -12.797689  -6.507862   5.949055  -9.199855  -3.001592  -6.664406   \n",
       "769 -11.215323  -1.968900  -2.991927 -21.183658  -3.446409  -7.698196   \n",
       "770   6.406087  16.090437  14.358820  16.464987  13.490449  11.046821   \n",
       "\n",
       "          8734       8735  \n",
       "id                         \n",
       "0   -12.604904 -17.032330  \n",
       "1     5.680570  -0.970249  \n",
       "2    11.911249   8.194462  \n",
       "3    26.271913  14.586227  \n",
       "4     0.134267 -10.380521  \n",
       "..         ...        ...  \n",
       "766  -1.795901   2.259870  \n",
       "767   4.890911   3.618036  \n",
       "768  -7.652298  -0.066859  \n",
       "769 -19.078789 -12.137065  \n",
       "770  10.403292   8.275291  \n",
       "\n",
       "[771 rows x 8736 columns]"
      ]
     },
     "execution_count": 9,
     "metadata": {},
     "output_type": "execute_result"
    }
   ],
   "source": [
    "df = pd.DataFrame(noise_time_series)\n",
    "df.index.name = 'id'\n",
    "df"
   ]
  },
  {
   "cell_type": "markdown",
   "id": "f53e6320-d18d-401c-8985-17ae90a018d7",
   "metadata": {},
   "source": [
    "Export to CSV format:"
   ]
  },
  {
   "cell_type": "code",
   "execution_count": 10,
   "id": "ab7039a5-6327-4e04-a146-66916e61f011",
   "metadata": {},
   "outputs": [],
   "source": [
    "df.to_csv('data/cost_noise.csv', mode='x', index=False)"
   ]
  },
  {
   "cell_type": "markdown",
   "id": "faa039cf-6fc1-43c4-83bc-e27b71e13c5b",
   "metadata": {},
   "source": [
    "As with the loads, the whole procedure can be iterated:"
   ]
  },
  {
   "cell_type": "code",
   "execution_count": 11,
   "id": "cef12741-be42-41e3-b98c-20d9c5294210",
   "metadata": {},
   "outputs": [],
   "source": [
    "# for label in range(0,10):\n",
    "#     df = pd.DataFrame(0.1 * ts.generate_noise(count=n_gens), index=gen_ids)\n",
    "#     df.index.name = 'id'\n",
    "#     filename = \"data/cost_noise_%02d.csv\" % label\n",
    "#     print(\"Writing to file '%s'...\" % filename, end='')\n",
    "#     df.to_csv(filename, mode='x')\n",
    "#     print(\"ok\")"
   ]
  }
 ],
 "metadata": {
  "kernelspec": {
   "display_name": "Python 3 (ipykernel)",
   "language": "python",
   "name": "python3"
  },
  "language_info": {
   "codemirror_mode": {
    "name": "ipython",
    "version": 3
   },
   "file_extension": ".py",
   "mimetype": "text/x-python",
   "name": "python",
   "nbconvert_exporter": "python",
   "pygments_lexer": "ipython3",
   "version": "3.11.8"
  }
 },
 "nbformat": 4,
 "nbformat_minor": 5
}
