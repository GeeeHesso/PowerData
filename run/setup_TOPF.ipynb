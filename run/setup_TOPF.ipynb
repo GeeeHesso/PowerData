{
 "cells": [
  {
   "cell_type": "markdown",
   "id": "d21b933b-ec98-47e6-ba21-473877f8e4cd",
   "metadata": {},
   "source": [
    "# Parameters"
   ]
  },
  {
   "cell_type": "code",
   "execution_count": null,
   "id": "4efe027b-eaeb-45dc-922a-9622aa9f1253",
   "metadata": {},
   "outputs": [],
   "source": [
    "model_file          = \"../models/europe.json\"\n",
    "load_series_file    = \"data/loads.csv\"\n",
    "noise_series_file   = \"data/cost_noise.csv\"\n",
    "nuclear_series_file = \"data/nuclear_2016.csv\"\n",
    "border_flows_file   = \"data/border_flows_2016.csv\"\n",
    "output_dir          = \"data/TOPF_run\";"
   ]
  },
  {
   "cell_type": "code",
   "execution_count": null,
   "id": "58d0d953-ca74-4c1a-8a4a-0369fbf5be53",
   "metadata": {},
   "outputs": [],
   "source": [
    "# year = 2020\n",
    "# i    = 4\n",
    "\n",
    "# model_file          = \"../models/europe.json\"\n",
    "# load_series_file    = \"data/loads_$(year)_$i.csv\"\n",
    "# noise_series_file   = \"data/cost_noise_$(year)_$i.csv\"\n",
    "# nuclear_series_file = \"data/nuclear_$year.csv\"\n",
    "# border_flows_file   = \"data/border_flows_$year.csv\"\n",
    "# output_dir          = \"data/TOPF_$(year)_$i\""
   ]
  },
  {
   "cell_type": "markdown",
   "id": "edc8f209-ae14-4ad7-b8df-810adbe3382a",
   "metadata": {},
   "source": [
    "# Network"
   ]
  },
  {
   "cell_type": "code",
   "execution_count": null,
   "id": "beecd635-2638-4d9e-baf0-d79bcf129d01",
   "metadata": {},
   "outputs": [],
   "source": [
    "using TemperateOptimalPowerFlow\n",
    "using CSV, DataFrames, DataDrop"
   ]
  },
  {
   "cell_type": "markdown",
   "id": "fb06e315-586d-48cd-96ce-c6c6351def5f",
   "metadata": {},
   "source": [
    "Import the model:"
   ]
  },
  {
   "cell_type": "code",
   "execution_count": null,
   "id": "7b60dde4-9bca-443e-a833-e054d7f3dfb0",
   "metadata": {},
   "outputs": [],
   "source": [
    "network = import_model(model_file)"
   ]
  },
  {
   "cell_type": "markdown",
   "id": "021083f0-49fa-484f-b882-90748c121a04",
   "metadata": {},
   "source": [
    "# Assign ramp constraints"
   ]
  },
  {
   "cell_type": "markdown",
   "id": "85031fbf-a290-489e-bb7d-c452fadcd204",
   "metadata": {},
   "source": [
    "Add ramp constraint by defining a maximum ramp rate of 200 MW / hour for coal generators "
   ]
  },
  {
   "cell_type": "code",
   "execution_count": null,
   "id": "2a0a0edd-32d6-42d5-8ab8-02eac99448d4",
   "metadata": {},
   "outputs": [],
   "source": [
    "for gen ∈ values(network[\"gen\"])\n",
    "    gen[\"max_ramp_rate\"] = gen[\"aggregated_type\"] == \"coal\" ? 2.0 : 0.0\n",
    "end"
   ]
  },
  {
   "cell_type": "markdown",
   "id": "898a3741-650e-4052-b8fe-b0685cac850a",
   "metadata": {},
   "source": [
    "# Nuclear production"
   ]
  },
  {
   "cell_type": "markdown",
   "id": "ea1299a1-2df9-4a65-b988-26906231a49a",
   "metadata": {},
   "source": [
    "Import actual time series for nuclear generators:"
   ]
  },
  {
   "cell_type": "code",
   "execution_count": null,
   "id": "c969f158-908e-4d20-9cc9-03ab8705f39e",
   "metadata": {},
   "outputs": [],
   "source": [
    "nuc_series_df = CSV.read(nuclear_series_file, DataFrame)\n",
    "sort!(nuc_series_df, :id)\n",
    "nuc_series_df.id .= string.(nuc_series_df.id)\n",
    "nuc_series_df"
   ]
  },
  {
   "cell_type": "markdown",
   "id": "c5973fe3-f19f-49d5-b17d-6fc1cbf7ac39",
   "metadata": {},
   "source": [
    "Separate nuclear generators as non-dispatchable:"
   ]
  },
  {
   "cell_type": "code",
   "execution_count": null,
   "id": "bf8c851c-95d3-4a54-a40f-ec9fbb87672b",
   "metadata": {},
   "outputs": [],
   "source": [
    "split_nondispatchable!(network, nuc_series_df.id)"
   ]
  },
  {
   "cell_type": "markdown",
   "id": "ca86b9a1-0b21-4372-b6b8-6ea0fc839dec",
   "metadata": {},
   "source": [
    "Export the time series:"
   ]
  },
  {
   "cell_type": "code",
   "execution_count": null,
   "id": "182f77f4-82f6-450e-a341-03f32171a947",
   "metadata": {},
   "outputs": [],
   "source": [
    "filter!(row -> string(row.id) in keys(network[\"gen_nd\"]), nuc_series_df);"
   ]
  },
  {
   "cell_type": "code",
   "execution_count": null,
   "id": "776bc1f1-9daa-4e17-90d1-43f074c19055",
   "metadata": {},
   "outputs": [],
   "source": [
    "nuc_ids = nuc_series_df.id"
   ]
  },
  {
   "cell_type": "code",
   "execution_count": null,
   "id": "6addb52a-48c9-4177-a497-1ad8cd68e2e1",
   "metadata": {},
   "outputs": [],
   "source": [
    "nuc_series = Matrix(nuc_series_df[:, 2:end]) / 100."
   ]
  },
  {
   "cell_type": "markdown",
   "id": "650a2366-b26c-48d8-90cc-047499021d05",
   "metadata": {},
   "source": [
    "# Loads"
   ]
  },
  {
   "cell_type": "markdown",
   "id": "ff5dfdf3-7ad6-4a0a-be0f-c67dbced6b63",
   "metadata": {},
   "source": [
    "List of all countries in the network:"
   ]
  },
  {
   "cell_type": "code",
   "execution_count": null,
   "id": "e04a4110-54ce-413d-954c-cb09c5cd8e44",
   "metadata": {},
   "outputs": [],
   "source": [
    "countries = Set([bus[\"country\"] for bus ∈ values(network[\"bus\"])])"
   ]
  },
  {
   "cell_type": "markdown",
   "id": "f83444f0-5e4b-4565-bd01-4b1cc5754537",
   "metadata": {},
   "source": [
    "### Compute expected production by country"
   ]
  },
  {
   "cell_type": "markdown",
   "id": "dc91ff66-f541-4594-b6a8-e94848089351",
   "metadata": {},
   "source": [
    "Determine the total expected production:"
   ]
  },
  {
   "cell_type": "code",
   "execution_count": null,
   "id": "4e0ab6b6-5525-4298-a0ec-585fed17b2e6",
   "metadata": {},
   "outputs": [],
   "source": [
    "expected_prod = Dict(country => 0.0 for country ∈ countries)\n",
    "\n",
    "for gen ∈ values(network[\"gen\"])\n",
    "    expected_prod[gen[\"country\"]] += gen[\"pexp\"]\n",
    "end\n",
    "\n",
    "sort(expected_prod, byvalue=true, rev=true)"
   ]
  },
  {
   "cell_type": "markdown",
   "id": "a164fc61-baab-49d3-bd62-774269c02e2d",
   "metadata": {},
   "source": [
    "### Compute import/export balance by country"
   ]
  },
  {
   "cell_type": "markdown",
   "id": "675b7d33-f0a8-4ebd-be71-f7933f8011e7",
   "metadata": {},
   "source": [
    "Export balance by country:"
   ]
  },
  {
   "cell_type": "code",
   "execution_count": null,
   "id": "b0dfec97-3a1c-4004-b457-f9e62a14b3cd",
   "metadata": {},
   "outputs": [],
   "source": [
    "border_flows_df = CSV.read(border_flows_file, DataFrame);"
   ]
  },
  {
   "cell_type": "code",
   "execution_count": null,
   "id": "13871632-ec73-4264-a100-eb2bacad6e76",
   "metadata": {},
   "outputs": [],
   "source": [
    "border_flows = Dict{String, Float64}()\n",
    "for (country, flow) in eachrow(border_flows_df)\n",
    "    border_flows[country] = flow / 100.0\n",
    "end\n",
    "border_flows[\"XX\"] = 0.0\n",
    "\n",
    "sort(border_flows, byvalue=true, rev=true)"
   ]
  },
  {
   "cell_type": "markdown",
   "id": "d47d367d-eabc-4f2e-b965-91e77608f2ac",
   "metadata": {},
   "source": [
    "Check: total out flow adds up to zero"
   ]
  },
  {
   "cell_type": "code",
   "execution_count": null,
   "id": "ad30a7ce-b577-4496-ac06-b21e218773de",
   "metadata": {},
   "outputs": [],
   "source": [
    "sum(values(border_flows))"
   ]
  },
  {
   "cell_type": "markdown",
   "id": "5b4afc2c-6ac1-41eb-9449-672d233b84c4",
   "metadata": {},
   "source": [
    "### Compute nuclear production by country"
   ]
  },
  {
   "cell_type": "markdown",
   "id": "52a8ffc1-8076-4097-99dc-67bee348be48",
   "metadata": {},
   "source": [
    "Nuclear production by country:"
   ]
  },
  {
   "cell_type": "code",
   "execution_count": null,
   "id": "20fd114f-266a-4e96-aabb-b911e04ce790",
   "metadata": {},
   "outputs": [],
   "source": [
    "avg_nuclear = sum(nuc_series, dims=2) / size(nuc_series, 2)\n",
    "\n",
    "nuclear_prod = Dict(country => 0.0 for country ∈ countries)\n",
    "for i = 1:length(nuc_ids)\n",
    "    country = network[\"gen_nd\"][nuc_ids[i]][\"country\"]\n",
    "    nuclear_prod[country] += avg_nuclear[i]\n",
    "end\n",
    "nuclear_prod"
   ]
  },
  {
   "cell_type": "markdown",
   "id": "24b8d998-df3c-4970-9f8f-7649956c36b5",
   "metadata": {},
   "source": [
    "### Compute total load by country"
   ]
  },
  {
   "cell_type": "markdown",
   "id": "29b2c116-8ce9-4a7f-8420-f54016293bd5",
   "metadata": {},
   "source": [
    "Determine annual load by country:"
   ]
  },
  {
   "cell_type": "code",
   "execution_count": null,
   "id": "93ea4b7b-fcf5-42eb-b58d-3e2b29749e68",
   "metadata": {},
   "outputs": [],
   "source": [
    "total_load = Dict(country => prod + nuclear_prod[country] - border_flows[country]\n",
    "    for (country, prod) ∈ expected_prod)\n",
    "\n",
    "sort(total_load, byvalue=true, rev=true)"
   ]
  },
  {
   "cell_type": "markdown",
   "id": "276385d5-c85a-4181-8a79-b6a711e5e6dd",
   "metadata": {},
   "source": [
    "### Import loads"
   ]
  },
  {
   "cell_type": "code",
   "execution_count": null,
   "id": "c1e5412b-5452-478d-acd3-31776de33405",
   "metadata": {},
   "outputs": [],
   "source": [
    "normalized_loads_df = CSV.read(load_series_file, DataFrame)\n",
    "sort!(normalized_loads_df, :id)\n",
    "normalized_loads_df.id .= string.(normalized_loads_df.id)\n",
    "normalized_loads_df"
   ]
  },
  {
   "cell_type": "markdown",
   "id": "d2f9f7a5-8976-44c9-9019-98d96e7e9d60",
   "metadata": {},
   "source": [
    "Check that the IDs match:"
   ]
  },
  {
   "cell_type": "code",
   "execution_count": null,
   "id": "91a6ecf7-ad7b-4a2c-b152-17feda3edb76",
   "metadata": {},
   "outputs": [],
   "source": [
    "bus_ids = normalized_loads_df.id\n",
    "issetequal(bus_ids, keys(network[\"bus\"]))"
   ]
  },
  {
   "cell_type": "code",
   "execution_count": null,
   "id": "2708c860-3f34-4b09-8488-b603551ffcb4",
   "metadata": {},
   "outputs": [],
   "source": [
    "normalized_loads = Matrix(normalized_loads_df[:, 2:end])"
   ]
  },
  {
   "cell_type": "markdown",
   "id": "fdcb4248-12f6-48b9-bc7b-9213ddf20adc",
   "metadata": {},
   "source": [
    "Check normalization:"
   ]
  },
  {
   "cell_type": "code",
   "execution_count": null,
   "id": "83148e82-bd9c-4b6a-be2d-17372b52b213",
   "metadata": {},
   "outputs": [],
   "source": [
    "sum(normalized_loads) / length(normalized_loads)"
   ]
  },
  {
   "cell_type": "markdown",
   "id": "ded2cb0b-cc76-4bc2-9f99-4da78c6bb38b",
   "metadata": {},
   "source": [
    "Normalization by country:"
   ]
  },
  {
   "cell_type": "code",
   "execution_count": null,
   "id": "823ef9e2-e3c3-49cf-a631-477f8f54d578",
   "metadata": {},
   "outputs": [],
   "source": [
    "normalized_annual_loads = Dict(country => [] for country ∈ countries)\n",
    "for (id, annual_load) ∈ Dict(bus_ids .=> sum(normalized_loads, dims=2) / size(normalized_loads, 2))\n",
    "    push!(normalized_annual_loads[network[\"bus\"][id][\"country\"]], annual_load)\n",
    "end\n",
    "\n",
    "normalization = Dict(country => sum(annual_loads) / length(annual_loads)\n",
    "    for (country, annual_loads) ∈ normalized_annual_loads)"
   ]
  },
  {
   "cell_type": "markdown",
   "id": "7cb65530-15ae-4607-bf1a-688839e46dca",
   "metadata": {},
   "source": [
    "Check that the load assignement within each country is properly normalized:"
   ]
  },
  {
   "cell_type": "code",
   "execution_count": null,
   "id": "bd83b60c-55d6-45cb-9ac4-f70e31d2441c",
   "metadata": {},
   "outputs": [],
   "source": [
    "load_prop_by_country = Dict(country => 0.0 for country in countries)\n",
    "for bus ∈ values(network[\"bus\"])\n",
    "    load_prop_by_country[bus[\"country\"]] += bus[\"load_prop\"]\n",
    "end\n",
    "\n",
    "load_prop_by_country"
   ]
  },
  {
   "cell_type": "markdown",
   "id": "8daa2591-d66b-4c1b-ad47-96534057c524",
   "metadata": {},
   "source": [
    "Compute a scaling value for each country:"
   ]
  },
  {
   "cell_type": "code",
   "execution_count": null,
   "id": "2ea5c3be-28b5-4065-8633-2e2eecc065e8",
   "metadata": {},
   "outputs": [],
   "source": [
    "load_scaling = [(\n",
    "        network[\"bus\"][id][\"load_prop\"]\n",
    "        * normalization[network[\"bus\"][id][\"country\"]]\n",
    "        * total_load[network[\"bus\"][id][\"country\"]]\n",
    "        )\n",
    "    for id ∈ bus_ids]"
   ]
  },
  {
   "cell_type": "code",
   "execution_count": null,
   "id": "d00e85fd-6535-4d98-9f7a-d3a85c17ad71",
   "metadata": {},
   "outputs": [],
   "source": [
    "loads = load_scaling .* normalized_loads"
   ]
  },
  {
   "cell_type": "markdown",
   "id": "6676fc9a-27fd-4eed-9bbd-bd75ed812786",
   "metadata": {},
   "source": [
    "Check that the annual load matches the expectations:"
   ]
  },
  {
   "cell_type": "code",
   "execution_count": null,
   "id": "fb0898cb-d58b-4124-ac03-668977924aa6",
   "metadata": {},
   "outputs": [],
   "source": [
    "sum(loads) / size(loads, 2) / sum(values(total_load))"
   ]
  },
  {
   "cell_type": "markdown",
   "id": "8bf31e55-a3f6-4252-997c-ef4c66b9c328",
   "metadata": {},
   "source": [
    "# Generation costs"
   ]
  },
  {
   "cell_type": "code",
   "execution_count": null,
   "id": "a309659c-395b-4d37-8680-d3d9a6b860d2",
   "metadata": {},
   "outputs": [],
   "source": [
    "gen_costs = Matrix(CSV.read(noise_series_file, DataFrame))"
   ]
  },
  {
   "cell_type": "markdown",
   "id": "c1b90130-79b4-4917-877e-6a059e413f2d",
   "metadata": {},
   "source": [
    "# Setup"
   ]
  },
  {
   "cell_type": "code",
   "execution_count": null,
   "id": "ced4cbee-524d-4d75-acbf-f60f48d6f35e",
   "metadata": {},
   "outputs": [],
   "source": [
    "setup(output_dir, network, loads, gen_costs, nuc_series)"
   ]
  },
  {
   "cell_type": "code",
   "execution_count": null,
   "id": "ff0aed47-4e50-4d59-bc1d-c2ce0f1481bd",
   "metadata": {},
   "outputs": [],
   "source": [
    "readdir(output_dir)"
   ]
  },
  {
   "cell_type": "markdown",
   "id": "9ee69609-6a92-4e05-810b-895004f9fa13",
   "metadata": {},
   "source": [
    "# List bus names associated with generators\n",
    "\n",
    "This can be used to analyse the output:"
   ]
  },
  {
   "cell_type": "code",
   "execution_count": null,
   "id": "d477f121-b527-48c1-be5b-b48045341e7f",
   "metadata": {},
   "outputs": [],
   "source": [
    "gen_names = [network[\"bus\"][string(network[\"gen\"][id][\"gen_bus\"])][\"name\"] for id in get_ordered_gen_ids(network)];"
   ]
  }
 ],
 "metadata": {
  "kernelspec": {
   "display_name": "Julia 1.10.4",
   "language": "julia",
   "name": "julia-1.10"
  },
  "language_info": {
   "file_extension": ".jl",
   "mimetype": "application/julia",
   "name": "julia",
   "version": "1.10.4"
  }
 },
 "nbformat": 4,
 "nbformat_minor": 5
}
