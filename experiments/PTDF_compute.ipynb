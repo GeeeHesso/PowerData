{
 "cells": [
  {
   "cell_type": "markdown",
   "id": "7dc55a79-8e3f-4824-b382-051fa74d3cd6",
   "metadata": {},
   "source": [
    "## Load the data"
   ]
  },
  {
   "cell_type": "code",
   "execution_count": 1,
   "id": "19914cc6-2dd8-4b57-86a5-65a38dfe1ea4",
   "metadata": {},
   "outputs": [],
   "source": [
    "using DataDrop"
   ]
  },
  {
   "cell_type": "code",
   "execution_count": 2,
   "id": "662f1361-0824-4b34-af65-ab68bf0c5c13",
   "metadata": {},
   "outputs": [],
   "source": [
    "P_max = DataDrop.retrieve_matrix(\"PTDF_data/P_max_gen.h5\");"
   ]
  },
  {
   "cell_type": "code",
   "execution_count": 3,
   "id": "9704945d-b652-416a-b890-9d219122f836",
   "metadata": {},
   "outputs": [],
   "source": [
    "P_exp = DataDrop.retrieve_matrix(\"PTDF_data/P_exp_gen.h5\");"
   ]
  },
  {
   "cell_type": "code",
   "execution_count": 4,
   "id": "91cf0935-be2f-4be6-a23a-58547a77a641",
   "metadata": {},
   "outputs": [],
   "source": [
    "P_total = DataDrop.retrieve_matrix(\"PTDF_data/P_total.h5\");"
   ]
  },
  {
   "cell_type": "code",
   "execution_count": 5,
   "id": "e2ece22f-91ab-48d9-91f5-c8ad33ff73df",
   "metadata": {},
   "outputs": [],
   "source": [
    "A_ramp = DataDrop.retrieve_matrix(\"PTDF_data/A_gen_ramp.h5\");"
   ]
  },
  {
   "cell_type": "code",
   "execution_count": 6,
   "id": "ccc65103-e439-4532-ae54-c62035fcdd35",
   "metadata": {},
   "outputs": [],
   "source": [
    "ΔP_ramp = DataDrop.retrieve_matrix(\"PTDF_data/gen_ramp.h5\");"
   ]
  },
  {
   "cell_type": "code",
   "execution_count": 7,
   "id": "c93721ff-2b21-4bd5-8cb8-ca10c3863600",
   "metadata": {},
   "outputs": [],
   "source": [
    "linear_line_cost = DataDrop.retrieve_matrix(\"PTDF_data/linear_line_cost.h5\");"
   ]
  },
  {
   "cell_type": "code",
   "execution_count": 8,
   "id": "3fc5dd48-07ce-4a1a-8880-b0a2ea262270",
   "metadata": {},
   "outputs": [],
   "source": [
    "linear_gen_cost = DataDrop.retrieve_matrix(\"PTDF_data/linear_gen_cost.h5\");"
   ]
  },
  {
   "cell_type": "code",
   "execution_count": 9,
   "id": "749224ae-06f4-4c7b-8439-c08601db668a",
   "metadata": {},
   "outputs": [],
   "source": [
    "quadratic_cost = DataDrop.retrieve_matrix(\"PTDF_data/quadratic_cost.h5\");"
   ]
  },
  {
   "cell_type": "markdown",
   "id": "8eb035a0-16ef-4698-80a4-8963b3d02291",
   "metadata": {},
   "source": [
    "## Computation"
   ]
  },
  {
   "cell_type": "code",
   "execution_count": 10,
   "id": "69f15051-2df9-4d23-b4f4-b9522f9be674",
   "metadata": {},
   "outputs": [],
   "source": [
    "using MiniLoggers\n",
    "\n",
    "logger = MiniLogger(format=\"[{timestamp:blue}] {group:red:bold} {message}\")\n",
    "global_logger(logger);"
   ]
  },
  {
   "cell_type": "code",
   "execution_count": 11,
   "id": "e1f544ed-2a23-45d4-a052-61171ae20240",
   "metadata": {},
   "outputs": [],
   "source": [
    "import MathOptInterface as MOI"
   ]
  },
  {
   "cell_type": "code",
   "execution_count": 12,
   "id": "abf16eab-acab-4ec4-9c51-d2e03b4caac5",
   "metadata": {},
   "outputs": [
    {
     "name": "stdout",
     "output_type": "stream",
     "text": [
      "Set parameter Username\n",
      "Academic license - for non-commercial use only - expires 2025-05-17\n"
     ]
    }
   ],
   "source": [
    "using Gurobi\n",
    "\n",
    "const gurobi_env = Gurobi.Env();"
   ]
  },
  {
   "cell_type": "code",
   "execution_count": 13,
   "id": "cc5cbaa0-d4be-41df-88cb-7297fdb64a60",
   "metadata": {},
   "outputs": [
    {
     "data": {
      "text/plain": [
       "    sense  : minimize\n",
       "    number of variables             = 0\n",
       "    number of linear constraints    = 0\n",
       "    number of quadratic constraints = 0\n",
       "    number of sos constraints       = 0\n",
       "    number of non-zero coeffs       = 0\n",
       "    number of non-zero qp objective terms  = 0\n",
       "    number of non-zero qp constraint terms = 0\n"
      ]
     },
     "execution_count": 13,
     "metadata": {},
     "output_type": "execute_result"
    }
   ],
   "source": [
    "optimizer = MOI.instantiate(MOI.OptimizerWithAttributes(() -> Gurobi.Optimizer(gurobi_env), \"OutputFlag\" => 0))\n",
    "\n",
    "# optimizer = Gurobi.Optimizer(gurobi_env)"
   ]
  },
  {
   "cell_type": "code",
   "execution_count": 14,
   "id": "57549247-8424-44b9-b1fb-7c943f414219",
   "metadata": {},
   "outputs": [
    {
     "data": {
      "text/plain": [
       "opf (generic function with 5 methods)"
      ]
     },
     "execution_count": 14,
     "metadata": {},
     "output_type": "execute_result"
    }
   ],
   "source": [
    "function opf(quadratic_cost::AbstractArray{<:Real,2}, linear_cost::AbstractArray{<:Real,2}, \n",
    "        P_max::AbstractVector{<:Real}, P_exp::AbstractVector{<:Real}, P_total::AbstractVector{<:Real},\n",
    "        A_ramp::AbstractArray{<:Real,2} = Array{Real}(undef, 0, 0), ΔP_ramp::AbstractVector{<:Real} = Real[],\n",
    "        P_ramp_first::AbstractVector{<:Real} = Real[], P_ramp_last::AbstractVector{<:Real} = Real[];\n",
    "        log_group::String = \"\")\n",
    "    \n",
    "    N = length(P_max)\n",
    "    T = length(P_total)\n",
    "    n_ramp = length(ΔP_ramp)\n",
    "\n",
    "    # check dimensions of the input\n",
    "    @assert length(P_exp) == N\n",
    "    @assert size(quadratic_cost) == (N, N)\n",
    "    @assert size(linear_cost) == (N, T)\n",
    "    @assert (size(A_ramp) == (n_ramp, N)) || (n_ramp == 0)\n",
    "    @assert length(P_ramp_first) ∈ [0, n_ramp]\n",
    "    @assert length(P_ramp_last) == length(P_ramp_first)\n",
    "\n",
    "    ramp_constraint_type = length(P_ramp_first) == 0 ? \"cyclic\" : \"fixed boundaries\"\n",
    "    @info (\"OPF with $T time steps, $N generators, \" *\n",
    "        \"and $n_ramp ramp constraints ($ramp_constraint_type)\") _group = log_group\n",
    "    log_group = \" \"^length(log_group)\n",
    "    \n",
    "    # check feasibility of the model\n",
    "    @info \" -> checking model\" _group = log_group\n",
    "    @assert all(P_exp .<= P_max)\n",
    "    @assert all(ΔP_ramp .>= 0)\n",
    "    @assert all(P_total .<= sum(P_max))\n",
    "    @assert abs(sum(P_total) / sum(P_exp) / T - 1) < 1e-3\n",
    "\n",
    "    # variables\n",
    "    @info \" -> defining variables\" _group = log_group\n",
    "    P_vec = MOI.add_variables(optimizer, N * T)\n",
    "    P = reshape(P_vec, (N, T))\n",
    "\n",
    "    # constraints \n",
    "    @info \" -> defining constraints\" _group = log_group\n",
    "    MOI.add_constraints(optimizer, P_vec, [MOI.Interval(0.0, P_max[i]) for t = 1:T for i = 1:N])\n",
    "\n",
    "    MOI.add_constraints(optimizer,\n",
    "        [MOI.ScalarAffineFunction([MOI.ScalarAffineTerm(1.0, P[i,t]) for t = 1:T], 0.0) for i = 2:N],\n",
    "        [MOI.EqualTo(T * P_exp[i]) for i = 2:N])\n",
    "    \n",
    "    MOI.add_constraints(optimizer,\n",
    "        [MOI.ScalarAffineFunction([MOI.ScalarAffineTerm(1.0, P[i,t]) for i = 1:N], 0.0) for t = 1:T],\n",
    "        [MOI.EqualTo(P_total[t]) for t = 1:T])\n",
    "    \n",
    "    if n_ramp > 0\n",
    "        P_ramp = A_ramp * P\n",
    "        if length(P_ramp_first) == 0\n",
    "            ΔP = [P_ramp[n, t] - P_ramp[n, t % T + 1] for t = 1:T for n = 1:n_ramp]\n",
    "            MOI.add_constraints(optimizer, ΔP, [MOI.GreaterThan(-ΔP_ramp[n]) for t = 1:T for n = 1:n_ramp])\n",
    "            MOI.add_constraints(optimizer, ΔP, [MOI.LessThan(ΔP_ramp[n]) for t = 1:T for n = 1:n_ramp])\n",
    "        else\n",
    "            ΔP = [P_ramp[n, t] - P_ramp[n, t + 1] for t = 1:T-1 for n = 1:n_ramp]\n",
    "            MOI.add_constraints(optimizer, ΔP, [MOI.GreaterThan(-ΔP_ramp[n]) for t = 1:T-1 for n = 1:n_ramp])\n",
    "            MOI.add_constraints(optimizer, ΔP, [MOI.LessThan(ΔP_ramp[n]) for t = 1:T-1 for n = 1:n_ramp])\n",
    "            P_first = [P_ramp[n, 1] for n = 1:n_ramp]\n",
    "            MOI.add_constraints(optimizer, P_first, [MOI.GreaterThan(P_ramp_first[n] - ΔP_ramp[n]) for n = 1:n_ramp])\n",
    "            MOI.add_constraints(optimizer, P_first, [MOI.LessThan(P_ramp_first[n] + ΔP_ramp[n]) for n = 1:n_ramp])\n",
    "            P_last = [P_ramp[n, T] for n = 1:n_ramp]\n",
    "            MOI.add_constraints(optimizer, P_last, [MOI.GreaterThan(P_ramp_last[n] - ΔP_ramp[n]) for n = 1:n_ramp])\n",
    "            MOI.add_constraints(optimizer, P_last, [MOI.LessThan(P_ramp_last[n] + ΔP_ramp[n]) for n = 1:n_ramp])\n",
    "        end\n",
    "    end\n",
    "    \n",
    "    @info \" -> computing objective function\" _group = log_group\n",
    "    quadratic_terms = vcat(\n",
    "        [MOI.ScalarQuadraticTerm(2.0 * quadratic_cost[i,i], P[i, t], P[i, t]) for i = 1:N for t = 1:T],\n",
    "        [MOI.ScalarQuadraticTerm(quadratic_cost[i,j], P[i, t], P[j, t]) for i = 1:N for j = (i+1):N for t = 1:T]\n",
    "    )\n",
    "    affine_terms = [MOI.ScalarAffineTerm(linear_cost[i, t], P[i, t]) for i = 1:N for t = 1:T]\n",
    "    objective = MOI.ScalarQuadraticFunction(quadratic_terms, affine_terms, 0.0)\n",
    "    \n",
    "    MOI.set(optimizer, MOI.ObjectiveFunction{MOI.ScalarQuadraticFunction{Float64}}(), objective)\n",
    "    MOI.set(optimizer, MOI.ObjectiveSense(), MOI.MIN_SENSE)\n",
    "    \n",
    "    @info \" -> optimizing\" _group = log_group\n",
    "    MOI.optimize!(optimizer)\n",
    "    \n",
    "    @info \" -> exporting results\" _group = log_group\n",
    "    P_vec_solution = MOI.get(optimizer, MOI.VariablePrimal(), P_vec)\n",
    "    P_vec_solution = map(x -> isapprox(x, 0, atol=1e-6) ? 0.0 : x, P_vec_solution)\n",
    "    P_solution = reshape(P_vec_solution, (N, T))\n",
    "    \n",
    "    return P_solution\n",
    "end"
   ]
  },
  {
   "cell_type": "code",
   "execution_count": 15,
   "id": "a0036b69-7feb-41a1-84fa-e1f09495bb15",
   "metadata": {},
   "outputs": [
    {
     "data": {
      "text/plain": [
       "partitioned_opf (generic function with 5 methods)"
      ]
     },
     "execution_count": 15,
     "metadata": {},
     "output_type": "execute_result"
    }
   ],
   "source": [
    "function partitioned_opf(partitions::Vector{Int},\n",
    "        quadratic_cost::AbstractArray{<:Real,2}, linear_cost::AbstractArray{<:Real,2}, \n",
    "        P_max::AbstractVector{<:Real}, P_exp::AbstractVector{<:Real}, P_total::AbstractVector{<:Real},\n",
    "        A_ramp::AbstractArray{<:Real,2} = Array{Real}(undef, 0, 0), ΔP_ramp::AbstractVector{<:Real} = Real[],\n",
    "        P_ramp_first::AbstractVector{<:Real} = Real[], P_ramp_last::AbstractVector{<:Real} = Real[];\n",
    "        log_group::String = \"\")\n",
    "\n",
    "    if length(partitions) <= 1\n",
    "        return opf(quadratic_cost, linear_cost, P_max, P_exp, P_total,\n",
    "            A_ramp, ΔP_ramp, P_ramp_first, P_ramp_last, log_group = log_group)\n",
    "    end\n",
    "    \n",
    "    N = length(P_max)\n",
    "    T = length(P_total)\n",
    "    n_ramp = length(ΔP_ramp)\n",
    "\n",
    "    # check dimensions of the input that needs to be partitioned\n",
    "    @assert length(P_exp) == N\n",
    "    @assert size(quadratic_cost) == (N, N)\n",
    "    @assert size(linear_cost) == (N, T)\n",
    "    @assert (size(A_ramp) == (n_ramp, N)) || (n_ramp == 0)\n",
    "    \n",
    "    # check that the number of partitions matches the total number of steps\n",
    "    @assert prod(partitions) == T\n",
    "    \n",
    "    n_partitions = partitions[1]\n",
    "    partition_length = T ÷ n_partitions\n",
    "    \n",
    "    counter_width = length(string(n_partitions))    \n",
    "    @info \"Partitioning a dataset of $T time steps into $n_partitions chunks of $partition_length time steps\" _group = log_group\n",
    "\n",
    "    partitioned_P_total = reshape(P_total, (partition_length, n_partitions))\n",
    "    aggregated_P_total = dropdims(sum(partitioned_P_total, dims=1), dims=1) / partition_length\n",
    "\n",
    "    partitioned_linear_cost = reshape(linear_cost, (N, partition_length, n_partitions))\n",
    "    aggregated_linear_cost = dropdims(sum(partitioned_linear_cost, dims=2), dims=2) / partition_length\n",
    "\n",
    "    aggregated_P_max = (P_max + P_exp) / 2.0\n",
    "    \n",
    "    partitioned_P_exp = opf(quadratic_cost, aggregated_linear_cost, aggregated_P_max, P_exp, aggregated_P_total,\n",
    "        A_ramp, ΔP_ramp, P_ramp_first, P_ramp_last,\n",
    "        log_group = log_group * \" $(lpad(0, counter_width))/$(n_partitions)\")\n",
    "\n",
    "    partitioned_P_ramp = n_ramp > 0 ? A_ramp * partitioned_P_exp : Real[]\n",
    "\n",
    "    result = Matrix{Float64}(undef, N, 0)\n",
    "    timing = []\n",
    "    for a=1:n_partitions\n",
    "\n",
    "        if length(timing) > 0\n",
    "            estimated_remaining_time = \"Estimated remaining time:\"\n",
    "            s = round(Int, (n_partitions - a + 1) * sum(timing) / length(timing))\n",
    "            if s >= 60\n",
    "                m = s ÷ 60\n",
    "                s = s % 60\n",
    "                if m >= 60\n",
    "                    h = m ÷ 60\n",
    "                    m = m % 60\n",
    "                    estimated_remaining_time = estimated_remaining_time * \" $h h\"\n",
    "                end\n",
    "                estimated_remaining_time = estimated_remaining_time * \" $m min\"\n",
    "            end\n",
    "            estimated_remaining_time = estimated_remaining_time * \" $s s\"\n",
    "            @info estimated_remaining_time _group = log_group\n",
    "        end\n",
    "        \n",
    "        if n_ramp == 0\n",
    "            partitioned_P_ramp_previous = Real[]\n",
    "            partitioned_P_ramp_next = Real[]\n",
    "        else\n",
    "            if a == 1\n",
    "                partitioned_P_ramp_previous = length(P_ramp_first) > 0 ? P_ramp_first : partitioned_P_ramp[:, end]\n",
    "            else\n",
    "                partitioned_P_ramp_previous = partitioned_P_ramp[:, a - 1]\n",
    "            end\n",
    "            if a == n_partitions\n",
    "                partitioned_P_ramp_next = length(P_ramp_last) > 0 ? P_ramp_last : partitioned_P_ramp[:, 1]\n",
    "            else\n",
    "                partitioned_P_ramp_next = partitioned_P_ramp[:, a + 1]\n",
    "            end\n",
    "        end\n",
    "        \n",
    "        partition_result = @timed partitioned_opf(partitions[2:end], quadratic_cost, partitioned_linear_cost[:,:,a],\n",
    "            P_max, partitioned_P_exp[:,a], partitioned_P_total[:,a],\n",
    "            A_ramp, ΔP_ramp, partitioned_P_ramp_previous, partitioned_P_ramp_next,\n",
    "            log_group = log_group * \" $(lpad(a, counter_width))/$(n_partitions)\")\n",
    "        push!(timing, partition_result.time)\n",
    "        result = hcat(result, partition_result.value)\n",
    "    end\n",
    "\n",
    "    return result\n",
    "end"
   ]
  },
  {
   "cell_type": "markdown",
   "id": "4c8860cc-bd60-4915-8d16-350d71cce44a",
   "metadata": {},
   "source": [
    "## Example"
   ]
  },
  {
   "cell_type": "markdown",
   "id": "d96a0062-b5c6-4430-8a74-f5b7f52911d2",
   "metadata": {},
   "source": [
    "Possible partitions:"
   ]
  },
  {
   "cell_type": "code",
   "execution_count": 16,
   "id": "d902a679-6429-401e-b0f4-512b62854994",
   "metadata": {},
   "outputs": [
    {
     "data": {
      "text/plain": [
       "(8736, 8736, 8736, 8736, 8736, 8736)"
      ]
     },
     "execution_count": 16,
     "metadata": {},
     "output_type": "execute_result"
    }
   ],
   "source": [
    "52 * 168, 26 * 336, 13 * 672, 12 * 728, 8 * 1092, 4 * 2184"
   ]
  },
  {
   "cell_type": "code",
   "execution_count": 17,
   "id": "24eb5bf6-eba8-46fe-b707-8bddfdc62798",
   "metadata": {},
   "outputs": [],
   "source": [
    "P_total_reduced = dropdims(sum(reshape(P_total, (728, 12)), dims=1), dims=1) ./ 728\n",
    "linear_line_cost_reduced = dropdims(sum(reshape(linear_line_cost, (1039, 728, 12)), dims=2), dims=2) ./ 728\n",
    "linear_gen_cost_reduced = dropdims(sum(reshape(linear_gen_cost, (1039, 728, 12)), dims=2), dims=2) ./ 728;"
   ]
  },
  {
   "cell_type": "code",
   "execution_count": 18,
   "id": "21f8d459-7c80-462e-b263-f3f70566d912",
   "metadata": {},
   "outputs": [
    {
     "name": "stdout",
     "output_type": "stream",
     "text": [
      "[\u001b[34m2024-05-29 10:29:14\u001b[39m]  OPF with 12 time steps, 1039 generators, and 167 ramp constraints (cyclic)\n",
      "[\u001b[34m2024-05-29 10:29:14\u001b[39m]   -> checking model\n",
      "[\u001b[34m2024-05-29 10:29:14\u001b[39m]   -> defining variables\n",
      "[\u001b[34m2024-05-29 10:29:14\u001b[39m]   -> defining constraints\n",
      "[\u001b[34m2024-05-29 10:29:14\u001b[39m]   -> computing objective function\n",
      "[\u001b[34m2024-05-29 10:29:16\u001b[39m]   -> optimizing\n",
      "[\u001b[34m2024-05-29 10:31:11\u001b[39m]   -> exporting results\n"
     ]
    }
   ],
   "source": [
    "P_full = opf(quadratic_cost, linear_line_cost_reduced + linear_gen_cost_reduced, P_max, P_exp, P_total_reduced, A_ramp, ΔP_ramp);"
   ]
  },
  {
   "cell_type": "code",
   "execution_count": 19,
   "id": "5e1352cd-1f2f-4023-9ae2-daf0e166e520",
   "metadata": {},
   "outputs": [
    {
     "name": "stdout",
     "output_type": "stream",
     "text": [
      "[\u001b[34m2024-05-29 10:31:11\u001b[39m]  Partitioning a dataset of 12 time steps into 3 chunks of 4 time steps\n",
      "[\u001b[34m2024-05-29 10:31:11\u001b[39m] \u001b[31m\u001b[1m 0/3\u001b[22m\u001b[39m OPF with 3 time steps, 1039 generators, and 167 ramp constraints (cyclic)\n",
      "[\u001b[34m2024-05-29 10:31:11\u001b[39m] \u001b[31m\u001b[1m    \u001b[22m\u001b[39m  -> checking model\n",
      "[\u001b[34m2024-05-29 10:31:11\u001b[39m] \u001b[31m\u001b[1m    \u001b[22m\u001b[39m  -> defining variables\n",
      "[\u001b[34m2024-05-29 10:31:11\u001b[39m] \u001b[31m\u001b[1m    \u001b[22m\u001b[39m  -> defining constraints\n",
      "[\u001b[34m2024-05-29 10:31:11\u001b[39m] \u001b[31m\u001b[1m    \u001b[22m\u001b[39m  -> computing objective function\n",
      "[\u001b[34m2024-05-29 10:31:12\u001b[39m] \u001b[31m\u001b[1m    \u001b[22m\u001b[39m  -> optimizing\n",
      "[\u001b[34m2024-05-29 10:31:18\u001b[39m] \u001b[31m\u001b[1m    \u001b[22m\u001b[39m  -> exporting results\n",
      "[\u001b[34m2024-05-29 10:31:19\u001b[39m] \u001b[31m\u001b[1m 1/3\u001b[22m\u001b[39m OPF with 4 time steps, 1039 generators, and 167 ramp constraints (fixed boundaries)\n",
      "[\u001b[34m2024-05-29 10:31:19\u001b[39m] \u001b[31m\u001b[1m    \u001b[22m\u001b[39m  -> checking model\n",
      "[\u001b[34m2024-05-29 10:31:19\u001b[39m] \u001b[31m\u001b[1m    \u001b[22m\u001b[39m  -> defining variables\n",
      "[\u001b[34m2024-05-29 10:31:19\u001b[39m] \u001b[31m\u001b[1m    \u001b[22m\u001b[39m  -> defining constraints\n",
      "[\u001b[34m2024-05-29 10:31:19\u001b[39m] \u001b[31m\u001b[1m    \u001b[22m\u001b[39m  -> computing objective function\n",
      "[\u001b[34m2024-05-29 10:31:19\u001b[39m] \u001b[31m\u001b[1m    \u001b[22m\u001b[39m  -> optimizing\n",
      "[\u001b[34m2024-05-29 10:31:29\u001b[39m] \u001b[31m\u001b[1m    \u001b[22m\u001b[39m  -> exporting results\n",
      "[\u001b[34m2024-05-29 10:31:29\u001b[39m]  Estimated remaining time: 21 s\n",
      "[\u001b[34m2024-05-29 10:31:29\u001b[39m] \u001b[31m\u001b[1m 2/3\u001b[22m\u001b[39m OPF with 4 time steps, 1039 generators, and 167 ramp constraints (fixed boundaries)\n",
      "[\u001b[34m2024-05-29 10:31:29\u001b[39m] \u001b[31m\u001b[1m    \u001b[22m\u001b[39m  -> checking model\n",
      "[\u001b[34m2024-05-29 10:31:29\u001b[39m] \u001b[31m\u001b[1m    \u001b[22m\u001b[39m  -> defining variables\n",
      "[\u001b[34m2024-05-29 10:31:29\u001b[39m] \u001b[31m\u001b[1m    \u001b[22m\u001b[39m  -> defining constraints\n",
      "[\u001b[34m2024-05-29 10:31:29\u001b[39m] \u001b[31m\u001b[1m    \u001b[22m\u001b[39m  -> computing objective function\n",
      "[\u001b[34m2024-05-29 10:31:29\u001b[39m] \u001b[31m\u001b[1m    \u001b[22m\u001b[39m  -> optimizing\n",
      "[\u001b[34m2024-05-29 10:31:55\u001b[39m] \u001b[31m\u001b[1m    \u001b[22m\u001b[39m  -> exporting results\n",
      "[\u001b[34m2024-05-29 10:31:55\u001b[39m]  Estimated remaining time: 18 s\n",
      "[\u001b[34m2024-05-29 10:31:55\u001b[39m] \u001b[31m\u001b[1m 3/3\u001b[22m\u001b[39m OPF with 4 time steps, 1039 generators, and 167 ramp constraints (fixed boundaries)\n",
      "[\u001b[34m2024-05-29 10:31:55\u001b[39m] \u001b[31m\u001b[1m    \u001b[22m\u001b[39m  -> checking model\n",
      "[\u001b[34m2024-05-29 10:31:55\u001b[39m] \u001b[31m\u001b[1m    \u001b[22m\u001b[39m  -> defining variables\n",
      "[\u001b[34m2024-05-29 10:31:55\u001b[39m] \u001b[31m\u001b[1m    \u001b[22m\u001b[39m  -> defining constraints\n",
      "[\u001b[34m2024-05-29 10:31:55\u001b[39m] \u001b[31m\u001b[1m    \u001b[22m\u001b[39m  -> computing objective function\n",
      "[\u001b[34m2024-05-29 10:31:55\u001b[39m] \u001b[31m\u001b[1m    \u001b[22m\u001b[39m  -> optimizing\n",
      "[\u001b[34m2024-05-29 10:32:39\u001b[39m] \u001b[31m\u001b[1m    \u001b[22m\u001b[39m  -> exporting results\n"
     ]
    }
   ],
   "source": [
    "P_partitioned = partitioned_opf([3, 4], quadratic_cost, linear_line_cost_reduced + linear_gen_cost_reduced,\n",
    "    P_max, P_exp, P_total_reduced, A_ramp, ΔP_ramp);"
   ]
  },
  {
   "cell_type": "code",
   "execution_count": 20,
   "id": "a6eabd64-35c1-4931-9986-d60d7074ee33",
   "metadata": {},
   "outputs": [
    {
     "name": "stdout",
     "output_type": "stream",
     "text": [
      "[\u001b[34m2024-05-29 10:32:39\u001b[39m]  Partitioning a dataset of 12 time steps into 2 chunks of 6 time steps\n",
      "[\u001b[34m2024-05-29 10:32:39\u001b[39m] \u001b[31m\u001b[1m 0/2\u001b[22m\u001b[39m OPF with 2 time steps, 1039 generators, and 167 ramp constraints (cyclic)\n",
      "[\u001b[34m2024-05-29 10:32:39\u001b[39m] \u001b[31m\u001b[1m    \u001b[22m\u001b[39m  -> checking model\n",
      "[\u001b[34m2024-05-29 10:32:39\u001b[39m] \u001b[31m\u001b[1m    \u001b[22m\u001b[39m  -> defining variables\n",
      "[\u001b[34m2024-05-29 10:32:39\u001b[39m] \u001b[31m\u001b[1m    \u001b[22m\u001b[39m  -> defining constraints\n",
      "[\u001b[34m2024-05-29 10:32:39\u001b[39m] \u001b[31m\u001b[1m    \u001b[22m\u001b[39m  -> computing objective function\n",
      "[\u001b[34m2024-05-29 10:32:40\u001b[39m] \u001b[31m\u001b[1m    \u001b[22m\u001b[39m  -> optimizing\n",
      "[\u001b[34m2024-05-29 10:32:42\u001b[39m] \u001b[31m\u001b[1m    \u001b[22m\u001b[39m  -> exporting results\n",
      "[\u001b[34m2024-05-29 10:32:42\u001b[39m] \u001b[31m\u001b[1m 1/2\u001b[22m\u001b[39m Partitioning a dataset of 6 time steps into 2 chunks of 3 time steps\n",
      "[\u001b[34m2024-05-29 10:32:42\u001b[39m] \u001b[31m\u001b[1m 1/2 0/2\u001b[22m\u001b[39m OPF with 2 time steps, 1039 generators, and 167 ramp constraints (fixed boundaries)\n",
      "[\u001b[34m2024-05-29 10:32:42\u001b[39m] \u001b[31m\u001b[1m        \u001b[22m\u001b[39m  -> checking model\n",
      "[\u001b[34m2024-05-29 10:32:42\u001b[39m] \u001b[31m\u001b[1m        \u001b[22m\u001b[39m  -> defining variables\n",
      "[\u001b[34m2024-05-29 10:32:42\u001b[39m] \u001b[31m\u001b[1m        \u001b[22m\u001b[39m  -> defining constraints\n",
      "[\u001b[34m2024-05-29 10:32:42\u001b[39m] \u001b[31m\u001b[1m        \u001b[22m\u001b[39m  -> computing objective function\n",
      "[\u001b[34m2024-05-29 10:32:43\u001b[39m] \u001b[31m\u001b[1m        \u001b[22m\u001b[39m  -> optimizing\n",
      "[\u001b[34m2024-05-29 10:32:46\u001b[39m] \u001b[31m\u001b[1m        \u001b[22m\u001b[39m  -> exporting results\n",
      "[\u001b[34m2024-05-29 10:32:46\u001b[39m] \u001b[31m\u001b[1m 1/2 1/2\u001b[22m\u001b[39m OPF with 3 time steps, 1039 generators, and 167 ramp constraints (fixed boundaries)\n",
      "[\u001b[34m2024-05-29 10:32:46\u001b[39m] \u001b[31m\u001b[1m        \u001b[22m\u001b[39m  -> checking model\n",
      "[\u001b[34m2024-05-29 10:32:46\u001b[39m] \u001b[31m\u001b[1m        \u001b[22m\u001b[39m  -> defining variables\n",
      "[\u001b[34m2024-05-29 10:32:46\u001b[39m] \u001b[31m\u001b[1m        \u001b[22m\u001b[39m  -> defining constraints\n",
      "[\u001b[34m2024-05-29 10:32:46\u001b[39m] \u001b[31m\u001b[1m        \u001b[22m\u001b[39m  -> computing objective function\n",
      "[\u001b[34m2024-05-29 10:32:46\u001b[39m] \u001b[31m\u001b[1m        \u001b[22m\u001b[39m  -> optimizing\n",
      "[\u001b[34m2024-05-29 10:32:51\u001b[39m] \u001b[31m\u001b[1m        \u001b[22m\u001b[39m  -> exporting results\n",
      "[\u001b[34m2024-05-29 10:32:51\u001b[39m] \u001b[31m\u001b[1m 1/2\u001b[22m\u001b[39m Estimated remaining time: 5 s\n",
      "[\u001b[34m2024-05-29 10:32:51\u001b[39m] \u001b[31m\u001b[1m 1/2 2/2\u001b[22m\u001b[39m OPF with 3 time steps, 1039 generators, and 167 ramp constraints (fixed boundaries)\n",
      "[\u001b[34m2024-05-29 10:32:51\u001b[39m] \u001b[31m\u001b[1m        \u001b[22m\u001b[39m  -> checking model\n",
      "[\u001b[34m2024-05-29 10:32:51\u001b[39m] \u001b[31m\u001b[1m        \u001b[22m\u001b[39m  -> defining variables\n",
      "[\u001b[34m2024-05-29 10:32:51\u001b[39m] \u001b[31m\u001b[1m        \u001b[22m\u001b[39m  -> defining constraints\n",
      "[\u001b[34m2024-05-29 10:32:51\u001b[39m] \u001b[31m\u001b[1m        \u001b[22m\u001b[39m  -> computing objective function\n",
      "[\u001b[34m2024-05-29 10:32:51\u001b[39m] \u001b[31m\u001b[1m        \u001b[22m\u001b[39m  -> optimizing\n",
      "[\u001b[34m2024-05-29 10:32:55\u001b[39m] \u001b[31m\u001b[1m        \u001b[22m\u001b[39m  -> exporting results\n",
      "[\u001b[34m2024-05-29 10:32:55\u001b[39m]  Estimated remaining time: 13 s\n",
      "[\u001b[34m2024-05-29 10:32:55\u001b[39m] \u001b[31m\u001b[1m 2/2\u001b[22m\u001b[39m Partitioning a dataset of 6 time steps into 2 chunks of 3 time steps\n",
      "[\u001b[34m2024-05-29 10:32:55\u001b[39m] \u001b[31m\u001b[1m 2/2 0/2\u001b[22m\u001b[39m OPF with 2 time steps, 1039 generators, and 167 ramp constraints (fixed boundaries)\n",
      "[\u001b[34m2024-05-29 10:32:55\u001b[39m] \u001b[31m\u001b[1m        \u001b[22m\u001b[39m  -> checking model\n",
      "[\u001b[34m2024-05-29 10:32:55\u001b[39m] \u001b[31m\u001b[1m        \u001b[22m\u001b[39m  -> defining variables\n",
      "[\u001b[34m2024-05-29 10:32:55\u001b[39m] \u001b[31m\u001b[1m        \u001b[22m\u001b[39m  -> defining constraints\n",
      "[\u001b[34m2024-05-29 10:32:55\u001b[39m] \u001b[31m\u001b[1m        \u001b[22m\u001b[39m  -> computing objective function\n",
      "[\u001b[34m2024-05-29 10:32:55\u001b[39m] \u001b[31m\u001b[1m        \u001b[22m\u001b[39m  -> optimizing\n",
      "[\u001b[34m2024-05-29 10:32:58\u001b[39m] \u001b[31m\u001b[1m        \u001b[22m\u001b[39m  -> exporting results\n",
      "[\u001b[34m2024-05-29 10:32:58\u001b[39m] \u001b[31m\u001b[1m 2/2 1/2\u001b[22m\u001b[39m OPF with 3 time steps, 1039 generators, and 167 ramp constraints (fixed boundaries)\n",
      "[\u001b[34m2024-05-29 10:32:58\u001b[39m] \u001b[31m\u001b[1m        \u001b[22m\u001b[39m  -> checking model\n",
      "[\u001b[34m2024-05-29 10:32:58\u001b[39m] \u001b[31m\u001b[1m        \u001b[22m\u001b[39m  -> defining variables\n",
      "[\u001b[34m2024-05-29 10:32:58\u001b[39m] \u001b[31m\u001b[1m        \u001b[22m\u001b[39m  -> defining constraints\n",
      "[\u001b[34m2024-05-29 10:32:58\u001b[39m] \u001b[31m\u001b[1m        \u001b[22m\u001b[39m  -> computing objective function\n",
      "[\u001b[34m2024-05-29 10:32:59\u001b[39m] \u001b[31m\u001b[1m        \u001b[22m\u001b[39m  -> optimizing\n",
      "[\u001b[34m2024-05-29 10:33:03\u001b[39m] \u001b[31m\u001b[1m        \u001b[22m\u001b[39m  -> exporting results\n",
      "[\u001b[34m2024-05-29 10:33:03\u001b[39m] \u001b[31m\u001b[1m 2/2\u001b[22m\u001b[39m Estimated remaining time: 5 s\n",
      "[\u001b[34m2024-05-29 10:33:03\u001b[39m] \u001b[31m\u001b[1m 2/2 2/2\u001b[22m\u001b[39m OPF with 3 time steps, 1039 generators, and 167 ramp constraints (fixed boundaries)\n",
      "[\u001b[34m2024-05-29 10:33:03\u001b[39m] \u001b[31m\u001b[1m        \u001b[22m\u001b[39m  -> checking model\n",
      "[\u001b[34m2024-05-29 10:33:03\u001b[39m] \u001b[31m\u001b[1m        \u001b[22m\u001b[39m  -> defining variables\n",
      "[\u001b[34m2024-05-29 10:33:03\u001b[39m] \u001b[31m\u001b[1m        \u001b[22m\u001b[39m  -> defining constraints\n",
      "[\u001b[34m2024-05-29 10:33:03\u001b[39m] \u001b[31m\u001b[1m        \u001b[22m\u001b[39m  -> computing objective function\n",
      "[\u001b[34m2024-05-29 10:33:04\u001b[39m] \u001b[31m\u001b[1m        \u001b[22m\u001b[39m  -> optimizing\n",
      "[\u001b[34m2024-05-29 10:33:08\u001b[39m] \u001b[31m\u001b[1m        \u001b[22m\u001b[39m  -> exporting results\n"
     ]
    }
   ],
   "source": [
    "P_doubly_partitioned = partitioned_opf([2, 2, 3], quadratic_cost, linear_line_cost_reduced + linear_gen_cost_reduced,\n",
    "    P_max, P_exp, P_total_reduced, A_ramp, ΔP_ramp);"
   ]
  },
  {
   "cell_type": "markdown",
   "id": "56a862b3-d68f-4111-8ee0-0734e7d4e7e1",
   "metadata": {},
   "source": [
    "## Comparison between partitions"
   ]
  },
  {
   "cell_type": "code",
   "execution_count": 21,
   "id": "65ffe1b0-5707-432c-8b83-a258525d08f6",
   "metadata": {},
   "outputs": [],
   "source": [
    "using Plots"
   ]
  },
  {
   "cell_type": "code",
   "execution_count": 22,
   "id": "d6633e52-7fef-4575-8796-44e678b3256c",
   "metadata": {},
   "outputs": [
    {
     "data": {
      "image/png": "[encoded data removed]",
      "image/svg+xml": [
       "<?xml version=\"1.0\" encoding=\"utf-8\"?>\n",
       "<svg xmlns=\"http://www.w3.org/2000/svg\" xmlns:xlink=\"http://www.w3.org/1999/xlink\" width=\"600\" height=\"400\" viewBox=\"0 0 2400 1600\">\n",
       "<defs>\n",
       "  <clipPath id=\"clip810\">\n",
       "    <rect x=\"0\" y=\"0\" width=\"2400\" height=\"1600\"/>\n",
       "  </clipPath>\n",
       "</defs>\n",
       "<path clip-path=\"url(#clip810)\" d=\"M0 1600 L2400 1600 L2400 0 L0 0  Z\" fill=\"#ffffff\" fill-rule=\"evenodd\" fill-opacity=\"1\"/>\n",
       "<defs>\n",
       "  <clipPath id=\"clip811\">\n",
       "    <rect x=\"480\" y=\"0\" width=\"1681\" height=\"1600\"/>\n",
       "  </clipPath>\n",
       "</defs>\n",
       "<path clip-path=\"url(#clip810)\" d=\"M216.089 1486.45 L2352.76 1486.45 L2352.76 123.472 L216.089 123.472  Z\" fill=\"#ffffff\" fill-rule=\"evenodd\" fill-opacity=\"1\"/>\n",
       "<defs>\n",
       "  <clipPath id=\"clip812\">\n",
       "    <rect x=\"216\" y=\"123\" width=\"2138\" height=\"1364\"/>\n",
       "  </clipPath>\n",
       "</defs>\n",
       "<polyline clip-path=\"url(#clip812)\" style=\"stroke:#000000; stroke-linecap:round; stroke-linejoin:round; stroke-width:2; stroke-opacity:0.1; fill:none\" points=\"551.432,1486.45 551.432,123.472 \"/>\n",
       "<polyline clip-path=\"url(#clip812)\" style=\"stroke:#000000; stroke-linecap:round; stroke-linejoin:round; stroke-width:2; stroke-opacity:0.1; fill:none\" points=\"1009.55,1486.45 1009.55,123.472 \"/>\n",
       "<polyline clip-path=\"url(#clip812)\" style=\"stroke:#000000; stroke-linecap:round; stroke-linejoin:round; stroke-width:2; stroke-opacity:0.1; fill:none\" points=\"1467.67,1486.45 1467.67,123.472 \"/>\n",
       "<polyline clip-path=\"url(#clip812)\" style=\"stroke:#000000; stroke-linecap:round; stroke-linejoin:round; stroke-width:2; stroke-opacity:0.1; fill:none\" points=\"1925.79,1486.45 1925.79,123.472 \"/>\n",
       "<polyline clip-path=\"url(#clip810)\" style=\"stroke:#000000; stroke-linecap:round; stroke-linejoin:round; stroke-width:4; stroke-opacity:1; fill:none\" points=\"216.089,1486.45 2352.76,1486.45 \"/>\n",
       "<polyline clip-path=\"url(#clip810)\" style=\"stroke:#000000; stroke-linecap:round; stroke-linejoin:round; stroke-width:4; stroke-opacity:1; fill:none\" points=\"551.432,1486.45 551.432,1467.55 \"/>\n",
       "<polyline clip-path=\"url(#clip810)\" style=\"stroke:#000000; stroke-linecap:round; stroke-linejoin:round; stroke-width:4; stroke-opacity:1; fill:none\" points=\"1009.55,1486.45 1009.55,1467.55 \"/>\n",
       "<polyline clip-path=\"url(#clip810)\" style=\"stroke:#000000; stroke-linecap:round; stroke-linejoin:round; stroke-width:4; stroke-opacity:1; fill:none\" points=\"1467.67,1486.45 1467.67,1467.55 \"/>\n",
       "<polyline clip-path=\"url(#clip810)\" style=\"stroke:#000000; stroke-linecap:round; stroke-linejoin:round; stroke-width:4; stroke-opacity:1; fill:none\" points=\"1925.79,1486.45 1925.79,1467.55 \"/>\n",
       "<path clip-path=\"url(#clip810)\" d=\"M523.168 1544.91 L539.487 1544.91 L539.487 1548.85 L517.543 1548.85 L517.543 1544.91 Q520.205 1542.16 524.788 1537.53 Q529.395 1532.88 530.575 1531.53 Q532.821 1529.01 533.7 1527.27 Q534.603 1525.51 534.603 1523.82 Q534.603 1521.07 532.659 1519.33 Q530.737 1517.6 527.636 1517.6 Q525.437 1517.6 522.983 1518.36 Q520.552 1519.13 517.775 1520.68 L517.775 1515.95 Q520.599 1514.82 523.052 1514.24 Q525.506 1513.66 527.543 1513.66 Q532.913 1513.66 536.108 1516.35 Q539.302 1519.03 539.302 1523.52 Q539.302 1525.65 538.492 1527.57 Q537.705 1529.47 535.599 1532.07 Q535.02 1532.74 531.918 1535.95 Q528.816 1539.15 523.168 1544.91 Z\" fill=\"#000000\" fill-rule=\"nonzero\" fill-opacity=\"1\" /><path clip-path=\"url(#clip810)\" d=\"M549.302 1542.97 L554.186 1542.97 L554.186 1548.85 L549.302 1548.85 L549.302 1542.97 Z\" fill=\"#000000\" fill-rule=\"nonzero\" fill-opacity=\"1\" /><path clip-path=\"url(#clip810)\" d=\"M564.418 1514.29 L582.774 1514.29 L582.774 1518.22 L568.7 1518.22 L568.7 1526.7 Q569.719 1526.35 570.737 1526.19 Q571.756 1526 572.774 1526 Q578.561 1526 581.941 1529.17 Q585.321 1532.34 585.321 1537.76 Q585.321 1543.34 581.848 1546.44 Q578.376 1549.52 572.057 1549.52 Q569.881 1549.52 567.612 1549.15 Q565.367 1548.78 562.96 1548.04 L562.96 1543.34 Q565.043 1544.47 567.265 1545.03 Q569.487 1545.58 571.964 1545.58 Q575.969 1545.58 578.307 1543.48 Q580.645 1541.37 580.645 1537.76 Q580.645 1534.15 578.307 1532.04 Q575.969 1529.94 571.964 1529.94 Q570.089 1529.94 568.214 1530.35 Q566.362 1530.77 564.418 1531.65 L564.418 1514.29 Z\" fill=\"#000000\" fill-rule=\"nonzero\" fill-opacity=\"1\" /><path clip-path=\"url(#clip810)\" d=\"M976.715 1514.29 L995.072 1514.29 L995.072 1518.22 L980.998 1518.22 L980.998 1526.7 Q982.016 1526.35 983.035 1526.19 Q984.053 1526 985.072 1526 Q990.859 1526 994.238 1529.17 Q997.618 1532.34 997.618 1537.76 Q997.618 1543.34 994.146 1546.44 Q990.674 1549.52 984.354 1549.52 Q982.178 1549.52 979.91 1549.15 Q977.664 1548.78 975.257 1548.04 L975.257 1543.34 Q977.34 1544.47 979.563 1545.03 Q981.785 1545.58 984.262 1545.58 Q988.266 1545.58 990.604 1543.48 Q992.942 1541.37 992.942 1537.76 Q992.942 1534.15 990.604 1532.04 Q988.266 1529.94 984.262 1529.94 Q982.387 1529.94 980.512 1530.35 Q978.66 1530.77 976.715 1531.65 L976.715 1514.29 Z\" fill=\"#000000\" fill-rule=\"nonzero\" fill-opacity=\"1\" /><path clip-path=\"url(#clip810)\" d=\"M1006.83 1542.97 L1011.72 1542.97 L1011.72 1548.85 L1006.83 1548.85 L1006.83 1542.97 Z\" fill=\"#000000\" fill-rule=\"nonzero\" fill-opacity=\"1\" /><path clip-path=\"url(#clip810)\" d=\"M1031.9 1517.37 Q1028.29 1517.37 1026.46 1520.93 Q1024.65 1524.47 1024.65 1531.6 Q1024.65 1538.71 1026.46 1542.27 Q1028.29 1545.82 1031.9 1545.82 Q1035.53 1545.82 1037.34 1542.27 Q1039.17 1538.71 1039.17 1531.6 Q1039.17 1524.47 1037.34 1520.93 Q1035.53 1517.37 1031.9 1517.37 M1031.9 1513.66 Q1037.71 1513.66 1040.77 1518.27 Q1043.84 1522.85 1043.84 1531.6 Q1043.84 1540.33 1040.77 1544.94 Q1037.71 1549.52 1031.9 1549.52 Q1026.09 1549.52 1023.01 1544.94 Q1019.96 1540.33 1019.96 1531.6 Q1019.96 1522.85 1023.01 1518.27 Q1026.09 1513.66 1031.9 1513.66 Z\" fill=\"#000000\" fill-rule=\"nonzero\" fill-opacity=\"1\" /><path clip-path=\"url(#clip810)\" d=\"M1433.99 1514.29 L1456.21 1514.29 L1456.21 1516.28 L1443.67 1548.85 L1438.78 1548.85 L1450.59 1518.22 L1433.99 1518.22 L1433.99 1514.29 Z\" fill=\"#000000\" fill-rule=\"nonzero\" fill-opacity=\"1\" /><path clip-path=\"url(#clip810)\" d=\"M1465.33 1542.97 L1470.22 1542.97 L1470.22 1548.85 L1465.33 1548.85 L1465.33 1542.97 Z\" fill=\"#000000\" fill-rule=\"nonzero\" fill-opacity=\"1\" /><path clip-path=\"url(#clip810)\" d=\"M1480.45 1514.29 L1498.8 1514.29 L1498.8 1518.22 L1484.73 1518.22 L1484.73 1526.7 Q1485.75 1526.35 1486.77 1526.19 Q1487.79 1526 1488.8 1526 Q1494.59 1526 1497.97 1529.17 Q1501.35 1532.34 1501.35 1537.76 Q1501.35 1543.34 1497.88 1546.44 Q1494.41 1549.52 1488.09 1549.52 Q1485.91 1549.52 1483.64 1549.15 Q1481.4 1548.78 1478.99 1548.04 L1478.99 1543.34 Q1481.07 1544.47 1483.29 1545.03 Q1485.52 1545.58 1487.99 1545.58 Q1492 1545.58 1494.34 1543.48 Q1496.67 1541.37 1496.67 1537.76 Q1496.67 1534.15 1494.34 1532.04 Q1492 1529.94 1487.99 1529.94 Q1486.12 1529.94 1484.24 1530.35 Q1482.39 1530.77 1480.45 1531.65 L1480.45 1514.29 Z\" fill=\"#000000\" fill-rule=\"nonzero\" fill-opacity=\"1\" /><path clip-path=\"url(#clip810)\" d=\"M1877.86 1544.91 L1885.5 1544.91 L1885.5 1518.55 L1877.19 1520.21 L1877.19 1515.95 L1885.45 1514.29 L1890.13 1514.29 L1890.13 1544.91 L1897.77 1544.91 L1897.77 1548.85 L1877.86 1548.85 L1877.86 1544.91 Z\" fill=\"#000000\" fill-rule=\"nonzero\" fill-opacity=\"1\" /><path clip-path=\"url(#clip810)\" d=\"M1917.21 1517.37 Q1913.6 1517.37 1911.77 1520.93 Q1909.97 1524.47 1909.97 1531.6 Q1909.97 1538.71 1911.77 1542.27 Q1913.6 1545.82 1917.21 1545.82 Q1920.85 1545.82 1922.65 1542.27 Q1924.48 1538.71 1924.48 1531.6 Q1924.48 1524.47 1922.65 1520.93 Q1920.85 1517.37 1917.21 1517.37 M1917.21 1513.66 Q1923.02 1513.66 1926.08 1518.27 Q1929.16 1522.85 1929.16 1531.6 Q1929.16 1540.33 1926.08 1544.94 Q1923.02 1549.52 1917.21 1549.52 Q1911.4 1549.52 1908.32 1544.94 Q1905.27 1540.33 1905.27 1531.6 Q1905.27 1522.85 1908.32 1518.27 Q1911.4 1513.66 1917.21 1513.66 Z\" fill=\"#000000\" fill-rule=\"nonzero\" fill-opacity=\"1\" /><path clip-path=\"url(#clip810)\" d=\"M1937.37 1542.97 L1942.26 1542.97 L1942.26 1548.85 L1937.37 1548.85 L1937.37 1542.97 Z\" fill=\"#000000\" fill-rule=\"nonzero\" fill-opacity=\"1\" /><path clip-path=\"url(#clip810)\" d=\"M1962.44 1517.37 Q1958.83 1517.37 1957 1520.93 Q1955.2 1524.47 1955.2 1531.6 Q1955.2 1538.71 1957 1542.27 Q1958.83 1545.82 1962.44 1545.82 Q1966.08 1545.82 1967.88 1542.27 Q1969.71 1538.71 1969.71 1531.6 Q1969.71 1524.47 1967.88 1520.93 Q1966.08 1517.37 1962.44 1517.37 M1962.44 1513.66 Q1968.25 1513.66 1971.31 1518.27 Q1974.39 1522.85 1974.39 1531.6 Q1974.39 1540.33 1971.31 1544.94 Q1968.25 1549.52 1962.44 1549.52 Q1956.63 1549.52 1953.56 1544.94 Q1950.5 1540.33 1950.5 1531.6 Q1950.5 1522.85 1953.56 1518.27 Q1956.63 1513.66 1962.44 1513.66 Z\" fill=\"#000000\" fill-rule=\"nonzero\" fill-opacity=\"1\" /><polyline clip-path=\"url(#clip812)\" style=\"stroke:#000000; stroke-linecap:round; stroke-linejoin:round; stroke-width:2; stroke-opacity:0.1; fill:none\" points=\"216.089,1319.74 2352.76,1319.74 \"/>\n",
       "<polyline clip-path=\"url(#clip812)\" style=\"stroke:#000000; stroke-linecap:round; stroke-linejoin:round; stroke-width:2; stroke-opacity:0.1; fill:none\" points=\"216.089,1006.66 2352.76,1006.66 \"/>\n",
       "<polyline clip-path=\"url(#clip812)\" style=\"stroke:#000000; stroke-linecap:round; stroke-linejoin:round; stroke-width:2; stroke-opacity:0.1; fill:none\" points=\"216.089,693.583 2352.76,693.583 \"/>\n",
       "<polyline clip-path=\"url(#clip812)\" style=\"stroke:#000000; stroke-linecap:round; stroke-linejoin:round; stroke-width:2; stroke-opacity:0.1; fill:none\" points=\"216.089,380.502 2352.76,380.502 \"/>\n",
       "<polyline clip-path=\"url(#clip810)\" style=\"stroke:#000000; stroke-linecap:round; stroke-linejoin:round; stroke-width:4; stroke-opacity:1; fill:none\" points=\"216.089,1486.45 216.089,123.472 \"/>\n",
       "<polyline clip-path=\"url(#clip810)\" style=\"stroke:#000000; stroke-linecap:round; stroke-linejoin:round; stroke-width:4; stroke-opacity:1; fill:none\" points=\"216.089,1319.74 234.986,1319.74 \"/>\n",
       "<polyline clip-path=\"url(#clip810)\" style=\"stroke:#000000; stroke-linecap:round; stroke-linejoin:round; stroke-width:4; stroke-opacity:1; fill:none\" points=\"216.089,1006.66 234.986,1006.66 \"/>\n",
       "<polyline clip-path=\"url(#clip810)\" style=\"stroke:#000000; stroke-linecap:round; stroke-linejoin:round; stroke-width:4; stroke-opacity:1; fill:none\" points=\"216.089,693.583 234.986,693.583 \"/>\n",
       "<polyline clip-path=\"url(#clip810)\" style=\"stroke:#000000; stroke-linecap:round; stroke-linejoin:round; stroke-width:4; stroke-opacity:1; fill:none\" points=\"216.089,380.502 234.986,380.502 \"/>\n",
       "<path clip-path=\"url(#clip810)\" d=\"M57.6125 1333.09 L73.9318 1333.09 L73.9318 1337.02 L51.9875 1337.02 L51.9875 1333.09 Q54.6495 1330.33 59.2328 1325.71 Q63.8393 1321.05 65.0198 1319.71 Q67.2652 1317.19 68.1448 1315.45 Q69.0476 1313.69 69.0476 1312 Q69.0476 1309.25 67.1032 1307.51 Q65.1819 1305.77 62.08 1305.77 Q59.881 1305.77 57.4273 1306.54 Q54.9967 1307.3 52.219 1308.85 L52.219 1304.13 Q55.043 1303 57.4967 1302.42 Q59.9504 1301.84 61.9874 1301.84 Q67.3578 1301.84 70.5522 1304.52 Q73.7466 1307.21 73.7466 1311.7 Q73.7466 1313.83 72.9365 1315.75 Q72.1494 1317.65 70.0429 1320.24 Q69.4642 1320.91 66.3624 1324.13 Q63.2606 1327.33 57.6125 1333.09 Z\" fill=\"#000000\" fill-rule=\"nonzero\" fill-opacity=\"1\" /><path clip-path=\"url(#clip810)\" d=\"M94.3252 1317.88 Q91.1771 1317.88 89.3253 1320.03 Q87.4966 1322.19 87.4966 1325.94 Q87.4966 1329.66 89.3253 1331.84 Q91.1771 1333.99 94.3252 1333.99 Q97.4734 1333.99 99.3021 1331.84 Q101.154 1329.66 101.154 1325.94 Q101.154 1322.19 99.3021 1320.03 Q97.4734 1317.88 94.3252 1317.88 M103.608 1303.23 L103.608 1307.49 Q101.848 1306.65 100.043 1306.21 Q98.2604 1305.77 96.5011 1305.77 Q91.8715 1305.77 89.4178 1308.9 Q86.9873 1312.02 86.6401 1318.34 Q88.0058 1316.33 90.066 1315.27 Q92.1262 1314.18 94.603 1314.18 Q99.8113 1314.18 102.821 1317.35 Q105.853 1320.5 105.853 1325.94 Q105.853 1331.26 102.705 1334.48 Q99.5567 1337.7 94.3252 1337.7 Q88.3299 1337.7 85.1586 1333.11 Q81.9873 1328.51 81.9873 1319.78 Q81.9873 1311.58 85.8762 1306.72 Q89.7651 1301.84 96.316 1301.84 Q98.0752 1301.84 99.8576 1302.19 Q101.663 1302.53 103.608 1303.23 Z\" fill=\"#000000\" fill-rule=\"nonzero\" fill-opacity=\"1\" /><path clip-path=\"url(#clip810)\" d=\"M113.908 1331.14 L118.793 1331.14 L118.793 1337.02 L113.908 1337.02 L113.908 1331.14 Z\" fill=\"#000000\" fill-rule=\"nonzero\" fill-opacity=\"1\" /><path clip-path=\"url(#clip810)\" d=\"M133.006 1333.09 L149.325 1333.09 L149.325 1337.02 L127.381 1337.02 L127.381 1333.09 Q130.043 1330.33 134.626 1325.71 Q139.232 1321.05 140.413 1319.71 Q142.658 1317.19 143.538 1315.45 Q144.441 1313.69 144.441 1312 Q144.441 1309.25 142.496 1307.51 Q140.575 1305.77 137.473 1305.77 Q135.274 1305.77 132.82 1306.54 Q130.39 1307.3 127.612 1308.85 L127.612 1304.13 Q130.436 1303 132.89 1302.42 Q135.344 1301.84 137.381 1301.84 Q142.751 1301.84 145.945 1304.52 Q149.14 1307.21 149.14 1311.7 Q149.14 1313.83 148.33 1315.75 Q147.543 1317.65 145.436 1320.24 Q144.857 1320.91 141.756 1324.13 Q138.654 1327.33 133.006 1333.09 Z\" fill=\"#000000\" fill-rule=\"nonzero\" fill-opacity=\"1\" /><path clip-path=\"url(#clip810)\" d=\"M159.186 1302.46 L177.542 1302.46 L177.542 1306.4 L163.468 1306.4 L163.468 1314.87 Q164.487 1314.52 165.505 1314.36 Q166.524 1314.18 167.542 1314.18 Q173.329 1314.18 176.709 1317.35 Q180.089 1320.52 180.089 1325.94 Q180.089 1331.52 176.616 1334.62 Q173.144 1337.7 166.825 1337.7 Q164.649 1337.7 162.38 1337.33 Q160.135 1336.95 157.728 1336.21 L157.728 1331.52 Q159.811 1332.65 162.033 1333.21 Q164.255 1333.76 166.732 1333.76 Q170.737 1333.76 173.075 1331.65 Q175.413 1329.55 175.413 1325.94 Q175.413 1322.33 173.075 1320.22 Q170.737 1318.11 166.732 1318.11 Q164.857 1318.11 162.982 1318.53 Q161.13 1318.95 159.186 1319.83 L159.186 1302.46 Z\" fill=\"#000000\" fill-rule=\"nonzero\" fill-opacity=\"1\" /><path clip-path=\"url(#clip810)\" d=\"M56.6171 1020.01 L72.9365 1020.01 L72.9365 1023.94 L50.9921 1023.94 L50.9921 1020.01 Q53.6541 1017.25 58.2375 1012.62 Q62.8439 1007.97 64.0245 1006.63 Q66.2698 1004.11 67.1494 1002.37 Q68.0522 1000.61 68.0522 998.921 Q68.0522 996.166 66.1078 994.43 Q64.1865 992.694 61.0847 992.694 Q58.8856 992.694 56.4319 993.458 Q54.0014 994.222 51.2236 995.773 L51.2236 991.05 Q54.0477 989.916 56.5014 989.337 Q58.955 988.759 60.9921 988.759 Q66.3624 988.759 69.5568 991.444 Q72.7513 994.129 72.7513 998.62 Q72.7513 1000.75 71.9411 1002.67 Q71.1541 1004.57 69.0476 1007.16 Q68.4689 1007.83 65.367 1011.05 Q62.2652 1014.24 56.6171 1020.01 Z\" fill=\"#000000\" fill-rule=\"nonzero\" fill-opacity=\"1\" /><path clip-path=\"url(#clip810)\" d=\"M93.3299 1004.8 Q90.1817 1004.8 88.3299 1006.95 Q86.5012 1009.11 86.5012 1012.86 Q86.5012 1016.58 88.3299 1018.76 Q90.1817 1020.91 93.3299 1020.91 Q96.478 1020.91 98.3067 1018.76 Q100.159 1016.58 100.159 1012.86 Q100.159 1009.11 98.3067 1006.95 Q96.478 1004.8 93.3299 1004.8 M102.612 990.148 L102.612 994.407 Q100.853 993.573 99.0474 993.134 Q97.265 992.694 95.5058 992.694 Q90.8762 992.694 88.4225 995.819 Q85.9919 998.944 85.6447 1005.26 Q87.0105 1003.25 89.0706 1002.18 Q91.1308 1001.1 93.6076 1001.1 Q98.8159 1001.1 101.825 1004.27 Q104.858 1007.42 104.858 1012.86 Q104.858 1018.18 101.709 1021.4 Q98.5613 1024.61 93.3299 1024.61 Q87.3345 1024.61 84.1632 1020.03 Q80.992 1015.43 80.992 1006.7 Q80.992 998.504 84.8808 993.643 Q88.7697 988.759 95.3206 988.759 Q97.0798 988.759 98.8622 989.106 Q100.668 989.453 102.612 990.148 Z\" fill=\"#000000\" fill-rule=\"nonzero\" fill-opacity=\"1\" /><path clip-path=\"url(#clip810)\" d=\"M112.913 1018.06 L117.797 1018.06 L117.797 1023.94 L112.913 1023.94 L112.913 1018.06 Z\" fill=\"#000000\" fill-rule=\"nonzero\" fill-opacity=\"1\" /><path clip-path=\"url(#clip810)\" d=\"M128.029 989.384 L146.385 989.384 L146.385 993.319 L132.311 993.319 L132.311 1001.79 Q133.33 1001.44 134.348 1001.28 Q135.367 1001.1 136.385 1001.1 Q142.172 1001.1 145.552 1004.27 Q148.931 1007.44 148.931 1012.86 Q148.931 1018.43 145.459 1021.54 Q141.987 1024.61 135.668 1024.61 Q133.492 1024.61 131.223 1024.24 Q128.978 1023.87 126.57 1023.13 L126.57 1018.43 Q128.654 1019.57 130.876 1020.12 Q133.098 1020.68 135.575 1020.68 Q139.58 1020.68 141.918 1018.57 Q144.256 1016.47 144.256 1012.86 Q144.256 1009.24 141.918 1007.14 Q139.58 1005.03 135.575 1005.03 Q133.7 1005.03 131.825 1005.45 Q129.973 1005.87 128.029 1006.74 L128.029 989.384 Z\" fill=\"#000000\" fill-rule=\"nonzero\" fill-opacity=\"1\" /><path clip-path=\"url(#clip810)\" d=\"M168.144 992.462 Q164.533 992.462 162.704 996.027 Q160.899 999.569 160.899 1006.7 Q160.899 1013.8 162.704 1017.37 Q164.533 1020.91 168.144 1020.91 Q171.779 1020.91 173.584 1017.37 Q175.413 1013.8 175.413 1006.7 Q175.413 999.569 173.584 996.027 Q171.779 992.462 168.144 992.462 M168.144 988.759 Q173.954 988.759 177.01 993.365 Q180.089 997.948 180.089 1006.7 Q180.089 1015.43 177.01 1020.03 Q173.954 1024.61 168.144 1024.61 Q162.334 1024.61 159.255 1020.03 Q156.2 1015.43 156.2 1006.7 Q156.2 997.948 159.255 993.365 Q162.334 988.759 168.144 988.759 Z\" fill=\"#000000\" fill-rule=\"nonzero\" fill-opacity=\"1\" /><path clip-path=\"url(#clip810)\" d=\"M57.6125 706.928 L73.9318 706.928 L73.9318 710.863 L51.9875 710.863 L51.9875 706.928 Q54.6495 704.173 59.2328 699.544 Q63.8393 694.891 65.0198 693.548 Q67.2652 691.025 68.1448 689.289 Q69.0476 687.53 69.0476 685.84 Q69.0476 683.085 67.1032 681.349 Q65.1819 679.613 62.08 679.613 Q59.881 679.613 57.4273 680.377 Q54.9967 681.141 52.219 682.692 L52.219 677.97 Q55.043 676.835 57.4967 676.257 Q59.9504 675.678 61.9874 675.678 Q67.3578 675.678 70.5522 678.363 Q73.7466 681.048 73.7466 685.539 Q73.7466 687.669 72.9365 689.59 Q72.1494 691.488 70.0429 694.081 Q69.4642 694.752 66.3624 697.97 Q63.2606 701.164 57.6125 706.928 Z\" fill=\"#000000\" fill-rule=\"nonzero\" fill-opacity=\"1\" /><path clip-path=\"url(#clip810)\" d=\"M94.3252 691.72 Q91.1771 691.72 89.3253 693.872 Q87.4966 696.025 87.4966 699.775 Q87.4966 703.502 89.3253 705.678 Q91.1771 707.831 94.3252 707.831 Q97.4734 707.831 99.3021 705.678 Q101.154 703.502 101.154 699.775 Q101.154 696.025 99.3021 693.872 Q97.4734 691.72 94.3252 691.72 M103.608 677.067 L103.608 681.326 Q101.848 680.493 100.043 680.053 Q98.2604 679.613 96.5011 679.613 Q91.8715 679.613 89.4178 682.738 Q86.9873 685.863 86.6401 692.183 Q88.0058 690.169 90.066 689.104 Q92.1262 688.016 94.603 688.016 Q99.8113 688.016 102.821 691.187 Q105.853 694.335 105.853 699.775 Q105.853 705.099 102.705 708.317 Q99.5567 711.534 94.3252 711.534 Q88.3299 711.534 85.1586 706.951 Q81.9873 702.345 81.9873 693.618 Q81.9873 685.423 85.8762 680.562 Q89.7651 675.678 96.316 675.678 Q98.0752 675.678 99.8576 676.025 Q101.663 676.372 103.608 677.067 Z\" fill=\"#000000\" fill-rule=\"nonzero\" fill-opacity=\"1\" /><path clip-path=\"url(#clip810)\" d=\"M113.908 704.983 L118.793 704.983 L118.793 710.863 L113.908 710.863 L113.908 704.983 Z\" fill=\"#000000\" fill-rule=\"nonzero\" fill-opacity=\"1\" /><path clip-path=\"url(#clip810)\" d=\"M127.797 676.303 L150.019 676.303 L150.019 678.294 L137.473 710.863 L132.589 710.863 L144.394 680.238 L127.797 680.238 L127.797 676.303 Z\" fill=\"#000000\" fill-rule=\"nonzero\" fill-opacity=\"1\" /><path clip-path=\"url(#clip810)\" d=\"M159.186 676.303 L177.542 676.303 L177.542 680.238 L163.468 680.238 L163.468 688.71 Q164.487 688.363 165.505 688.201 Q166.524 688.016 167.542 688.016 Q173.329 688.016 176.709 691.187 Q180.089 694.358 180.089 699.775 Q180.089 705.354 176.616 708.456 Q173.144 711.534 166.825 711.534 Q164.649 711.534 162.38 711.164 Q160.135 710.794 157.728 710.053 L157.728 705.354 Q159.811 706.488 162.033 707.044 Q164.255 707.599 166.732 707.599 Q170.737 707.599 173.075 705.493 Q175.413 703.386 175.413 699.775 Q175.413 696.164 173.075 694.058 Q170.737 691.951 166.732 691.951 Q164.857 691.951 162.982 692.368 Q161.13 692.784 159.186 693.664 L159.186 676.303 Z\" fill=\"#000000\" fill-rule=\"nonzero\" fill-opacity=\"1\" /><path clip-path=\"url(#clip810)\" d=\"M56.6171 393.847 L72.9365 393.847 L72.9365 397.782 L50.9921 397.782 L50.9921 393.847 Q53.6541 391.092 58.2375 386.463 Q62.8439 381.81 64.0245 380.468 Q66.2698 377.944 67.1494 376.208 Q68.0522 374.449 68.0522 372.759 Q68.0522 370.005 66.1078 368.269 Q64.1865 366.532 61.0847 366.532 Q58.8856 366.532 56.4319 367.296 Q54.0014 368.06 51.2236 369.611 L51.2236 364.889 Q54.0477 363.755 56.5014 363.176 Q58.955 362.597 60.9921 362.597 Q66.3624 362.597 69.5568 365.282 Q72.7513 367.968 72.7513 372.458 Q72.7513 374.588 71.9411 376.509 Q71.1541 378.407 69.0476 381 Q68.4689 381.671 65.367 384.889 Q62.2652 388.083 56.6171 393.847 Z\" fill=\"#000000\" fill-rule=\"nonzero\" fill-opacity=\"1\" /><path clip-path=\"url(#clip810)\" d=\"M81.5707 363.222 L103.793 363.222 L103.793 365.213 L91.2465 397.782 L86.3623 397.782 L98.1678 367.157 L81.5707 367.157 L81.5707 363.222 Z\" fill=\"#000000\" fill-rule=\"nonzero\" fill-opacity=\"1\" /><path clip-path=\"url(#clip810)\" d=\"M112.913 391.903 L117.797 391.903 L117.797 397.782 L112.913 397.782 L112.913 391.903 Z\" fill=\"#000000\" fill-rule=\"nonzero\" fill-opacity=\"1\" /><path clip-path=\"url(#clip810)\" d=\"M137.982 366.301 Q134.371 366.301 132.543 369.866 Q130.737 373.407 130.737 380.537 Q130.737 387.643 132.543 391.208 Q134.371 394.75 137.982 394.75 Q141.617 394.75 143.422 391.208 Q145.251 387.643 145.251 380.537 Q145.251 373.407 143.422 369.866 Q141.617 366.301 137.982 366.301 M137.982 362.597 Q143.793 362.597 146.848 367.204 Q149.927 371.787 149.927 380.537 Q149.927 389.264 146.848 393.87 Q143.793 398.454 137.982 398.454 Q132.172 398.454 129.094 393.87 Q126.038 389.264 126.038 380.537 Q126.038 371.787 129.094 367.204 Q132.172 362.597 137.982 362.597 Z\" fill=\"#000000\" fill-rule=\"nonzero\" fill-opacity=\"1\" /><path clip-path=\"url(#clip810)\" d=\"M168.144 366.301 Q164.533 366.301 162.704 369.866 Q160.899 373.407 160.899 380.537 Q160.899 387.643 162.704 391.208 Q164.533 394.75 168.144 394.75 Q171.779 394.75 173.584 391.208 Q175.413 387.643 175.413 380.537 Q175.413 373.407 173.584 369.866 Q171.779 366.301 168.144 366.301 M168.144 362.597 Q173.954 362.597 177.01 367.204 Q180.089 371.787 180.089 380.537 Q180.089 389.264 177.01 393.87 Q173.954 398.454 168.144 398.454 Q162.334 398.454 159.255 393.87 Q156.2 389.264 156.2 380.537 Q156.2 371.787 159.255 367.204 Q162.334 362.597 168.144 362.597 Z\" fill=\"#000000\" fill-rule=\"nonzero\" fill-opacity=\"1\" /><path clip-path=\"url(#clip810)\" d=\"M757.744 43.6931 L757.744 65.8515 L770.869 65.8515 Q777.472 65.8515 780.632 63.1374 Q783.832 60.3828 783.832 54.752 Q783.832 49.0808 780.632 46.4072 Q777.472 43.6931 770.869 43.6931 L757.744 43.6931 M757.744 18.8205 L757.744 37.0496 L769.856 37.0496 Q775.852 37.0496 778.768 34.8216 Q781.725 32.5531 781.725 27.935 Q781.725 23.3575 778.768 21.089 Q775.852 18.8205 769.856 18.8205 L757.744 18.8205 M749.561 12.096 L770.464 12.096 Q779.821 12.096 784.885 15.9849 Q789.949 19.8737 789.949 27.0438 Q789.949 32.5936 787.356 35.8748 Q784.764 39.156 779.74 39.9662 Q785.776 41.2625 789.098 45.3944 Q792.46 49.4858 792.46 55.6432 Q792.46 63.745 786.951 68.1605 Q781.442 72.576 771.274 72.576 L749.561 72.576 L749.561 12.096 Z\" fill=\"#000000\" fill-rule=\"nonzero\" fill-opacity=\"1\" /><path clip-path=\"url(#clip810)\" d=\"M844.96 48.0275 L844.96 51.6733 L810.689 51.6733 Q811.175 59.3701 815.307 63.421 Q819.48 67.4314 826.893 67.4314 Q831.187 67.4314 835.197 66.3781 Q839.248 65.3249 843.218 63.2184 L843.218 70.267 Q839.208 71.9684 834.995 72.8596 Q830.782 73.7508 826.447 73.7508 Q815.591 73.7508 809.231 67.4314 Q802.912 61.1119 802.912 50.3365 Q802.912 39.1965 808.907 32.6746 Q814.943 26.1121 825.151 26.1121 Q834.306 26.1121 839.613 32.0264 Q844.96 37.9003 844.96 48.0275 M837.506 45.84 Q837.425 39.7232 834.063 36.0774 Q830.741 32.4315 825.232 32.4315 Q818.994 32.4315 815.226 35.9558 Q811.499 39.4801 810.932 45.8805 L837.506 45.84 Z\" fill=\"#000000\" fill-rule=\"nonzero\" fill-opacity=\"1\" /><path clip-path=\"url(#clip810)\" d=\"M857.437 9.54393 L864.89 9.54393 L864.89 33.9304 L869.954 30.2846 L873.033 34.5785 L864.89 40.2903 L864.89 72.576 L857.437 72.576 L857.437 45.597 L852.454 49.1618 L849.456 44.8678 L857.437 39.156 L857.437 9.54393 Z\" fill=\"#000000\" fill-rule=\"nonzero\" fill-opacity=\"1\" /><path clip-path=\"url(#clip810)\" d=\"M913.42 28.9478 L913.42 35.9153 Q910.261 34.1734 907.06 33.3227 Q903.901 32.4315 900.66 32.4315 Q893.409 32.4315 889.398 37.0496 Q885.388 41.6271 885.388 49.9314 Q885.388 58.2358 889.398 62.8538 Q893.409 67.4314 900.66 67.4314 Q903.901 67.4314 907.06 66.5807 Q910.261 65.6895 913.42 63.9476 L913.42 70.8341 Q910.301 72.2924 906.939 73.0216 Q903.617 73.7508 899.85 73.7508 Q889.601 73.7508 883.565 67.3098 Q877.529 60.8689 877.529 49.9314 Q877.529 38.832 883.606 32.472 Q889.722 26.1121 900.336 26.1121 Q903.779 26.1121 907.06 26.8413 Q910.342 27.5299 913.42 28.9478 Z\" fill=\"#000000\" fill-rule=\"nonzero\" fill-opacity=\"1\" /><path clip-path=\"url(#clip810)\" d=\"M964.097 45.1919 L964.097 72.576 L956.643 72.576 L956.643 45.4349 Q956.643 38.994 954.132 35.7938 Q951.62 32.5936 946.597 32.5936 Q940.561 32.5936 937.077 36.4419 Q933.594 40.2903 933.594 46.9338 L933.594 72.576 L926.1 72.576 L926.1 9.54393 L933.594 9.54393 L933.594 34.2544 Q936.267 30.163 939.873 28.1376 Q943.518 26.1121 948.258 26.1121 Q956.076 26.1121 960.087 30.9732 Q964.097 35.7938 964.097 45.1919 Z\" fill=\"#000000\" fill-rule=\"nonzero\" fill-opacity=\"1\" /><path clip-path=\"url(#clip810)\" d=\"M999.583 49.7694 Q990.549 49.7694 987.066 51.8354 Q983.582 53.9013 983.582 58.8839 Q983.582 62.8538 986.174 65.2034 Q988.808 67.5124 993.304 67.5124 Q999.502 67.5124 1003.23 63.1374 Q1007 58.7219 1007 51.4303 L1007 49.7694 L999.583 49.7694 M1014.45 46.6907 L1014.45 72.576 L1007 72.576 L1007 65.6895 Q1004.44 69.8214 1000.64 71.8063 Q996.828 73.7508 991.319 73.7508 Q984.352 73.7508 980.22 69.8619 Q976.128 65.9325 976.128 59.3701 Q976.128 51.7138 981.232 47.825 Q986.377 43.9361 996.545 43.9361 L1007 43.9361 L1007 43.2069 Q1007 38.0623 1003.59 35.2672 Q1000.23 32.4315 994.114 32.4315 Q990.225 32.4315 986.539 33.3632 Q982.853 34.295 979.45 36.1584 L979.45 29.2718 Q983.541 27.692 987.39 26.9223 Q991.238 26.1121 994.884 26.1121 Q1004.73 26.1121 1009.59 31.2163 Q1014.45 36.3204 1014.45 46.6907 Z\" fill=\"#000000\" fill-rule=\"nonzero\" fill-opacity=\"1\" /><path clip-path=\"url(#clip810)\" d=\"M1037.18 14.324 L1037.18 27.2059 L1052.53 27.2059 L1052.53 32.9987 L1037.18 32.9987 L1037.18 57.6282 Q1037.18 63.1779 1038.67 64.7578 Q1040.21 66.3376 1044.87 66.3376 L1052.53 66.3376 L1052.53 72.576 L1044.87 72.576 Q1036.24 72.576 1032.96 69.3758 Q1029.68 66.1351 1029.68 57.6282 L1029.68 32.9987 L1024.21 32.9987 L1024.21 27.2059 L1029.68 27.2059 L1029.68 14.324 L1037.18 14.324 Z\" fill=\"#000000\" fill-rule=\"nonzero\" fill-opacity=\"1\" /><path clip-path=\"url(#clip810)\" d=\"M1079.91 32.4315 Q1073.92 32.4315 1070.43 37.1306 Q1066.95 41.7891 1066.95 49.9314 Q1066.95 58.0738 1070.39 62.7728 Q1073.88 67.4314 1079.91 67.4314 Q1085.87 67.4314 1089.35 62.7323 Q1092.83 58.0333 1092.83 49.9314 Q1092.83 41.8701 1089.35 37.1711 Q1085.87 32.4315 1079.91 32.4315 M1079.91 26.1121 Q1089.63 26.1121 1095.18 32.4315 Q1100.73 38.7509 1100.73 49.9314 Q1100.73 61.0714 1095.18 67.4314 Q1089.63 73.7508 1079.91 73.7508 Q1070.15 73.7508 1064.6 67.4314 Q1059.09 61.0714 1059.09 49.9314 Q1059.09 38.7509 1064.6 32.4315 Q1070.15 26.1121 1079.91 26.1121 M1085.54 6.22219 L1093.6 6.22219 L1080.4 21.4536 L1074.2 21.4536 L1085.54 6.22219 Z\" fill=\"#000000\" fill-rule=\"nonzero\" fill-opacity=\"1\" /><path clip-path=\"url(#clip810)\" d=\"M1108.75 27.2059 L1116.21 27.2059 L1125.53 62.6108 L1134.8 27.2059 L1143.59 27.2059 L1152.91 62.6108 L1162.19 27.2059 L1169.64 27.2059 L1157.77 72.576 L1148.98 72.576 L1139.22 35.3887 L1129.41 72.576 L1120.62 72.576 L1108.75 27.2059 Z\" fill=\"#000000\" fill-rule=\"nonzero\" fill-opacity=\"1\" /><path clip-path=\"url(#clip810)\" d=\"M1203.55 46.5287 L1225.38 46.5287 L1225.38 53.1722 L1203.55 53.1722 L1203.55 46.5287 Z\" fill=\"#000000\" fill-rule=\"nonzero\" fill-opacity=\"1\" /><path clip-path=\"url(#clip810)\" d=\"M1272.13 43.6931 L1272.13 65.8515 L1285.25 65.8515 Q1291.86 65.8515 1295.02 63.1374 Q1298.22 60.3828 1298.22 54.752 Q1298.22 49.0808 1295.02 46.4072 Q1291.86 43.6931 1285.25 43.6931 L1272.13 43.6931 M1272.13 18.8205 L1272.13 37.0496 L1284.24 37.0496 Q1290.24 37.0496 1293.15 34.8216 Q1296.11 32.5531 1296.11 27.935 Q1296.11 23.3575 1293.15 21.089 Q1290.24 18.8205 1284.24 18.8205 L1272.13 18.8205 M1263.94 12.096 L1284.85 12.096 Q1294.21 12.096 1299.27 15.9849 Q1304.33 19.8737 1304.33 27.0438 Q1304.33 32.5936 1301.74 35.8748 Q1299.15 39.156 1294.12 39.9662 Q1300.16 41.2625 1303.48 45.3944 Q1306.84 49.4858 1306.84 55.6432 Q1306.84 63.745 1301.33 68.1605 Q1295.83 72.576 1285.66 72.576 L1263.94 72.576 L1263.94 12.096 Z\" fill=\"#000000\" fill-rule=\"nonzero\" fill-opacity=\"1\" /><path clip-path=\"url(#clip810)\" d=\"M1346.83 34.1734 Q1345.57 33.4443 1344.07 33.1202 Q1342.61 32.7556 1340.83 32.7556 Q1334.51 32.7556 1331.11 36.8875 Q1327.75 40.9789 1327.75 48.6757 L1327.75 72.576 L1320.25 72.576 L1320.25 27.2059 L1327.75 27.2059 L1327.75 34.2544 Q1330.1 30.1225 1333.86 28.1376 Q1337.63 26.1121 1343.02 26.1121 Q1343.79 26.1121 1344.72 26.2337 Q1345.65 26.3147 1346.79 26.5172 L1346.83 34.1734 Z\" fill=\"#000000\" fill-rule=\"nonzero\" fill-opacity=\"1\" /><path clip-path=\"url(#clip810)\" d=\"M1370.4 32.4315 Q1364.41 32.4315 1360.92 37.1306 Q1357.44 41.7891 1357.44 49.9314 Q1357.44 58.0738 1360.88 62.7728 Q1364.37 67.4314 1370.4 67.4314 Q1376.36 67.4314 1379.84 62.7323 Q1383.33 58.0333 1383.33 49.9314 Q1383.33 41.8701 1379.84 37.1711 Q1376.36 32.4315 1370.4 32.4315 M1370.4 26.1121 Q1380.12 26.1121 1385.67 32.4315 Q1391.22 38.7509 1391.22 49.9314 Q1391.22 61.0714 1385.67 67.4314 Q1380.12 73.7508 1370.4 73.7508 Q1360.64 73.7508 1355.09 67.4314 Q1349.58 61.0714 1349.58 49.9314 Q1349.58 38.7509 1355.09 32.4315 Q1360.64 26.1121 1370.4 26.1121 Z\" fill=\"#000000\" fill-rule=\"nonzero\" fill-opacity=\"1\" /><path clip-path=\"url(#clip810)\" d=\"M1399.25 27.2059 L1406.7 27.2059 L1416.02 62.6108 L1425.29 27.2059 L1434.08 27.2059 L1443.4 62.6108 L1452.68 27.2059 L1460.13 27.2059 L1448.26 72.576 L1439.47 72.576 L1429.71 35.3887 L1419.9 72.576 L1411.11 72.576 L1399.25 27.2059 Z\" fill=\"#000000\" fill-rule=\"nonzero\" fill-opacity=\"1\" /><path clip-path=\"url(#clip810)\" d=\"M1509.15 45.1919 L1509.15 72.576 L1501.69 72.576 L1501.69 45.4349 Q1501.69 38.994 1499.18 35.7938 Q1496.67 32.5936 1491.65 32.5936 Q1485.61 32.5936 1482.13 36.4419 Q1478.64 40.2903 1478.64 46.9338 L1478.64 72.576 L1471.15 72.576 L1471.15 27.2059 L1478.64 27.2059 L1478.64 34.2544 Q1481.32 30.163 1484.92 28.1376 Q1488.57 26.1121 1493.31 26.1121 Q1501.13 26.1121 1505.14 30.9732 Q1509.15 35.7938 1509.15 45.1919 Z\" fill=\"#000000\" fill-rule=\"nonzero\" fill-opacity=\"1\" /><path clip-path=\"url(#clip810)\" d=\"M1550.71 12.096 L1558.89 12.096 L1558.89 65.6895 L1588.34 65.6895 L1588.34 72.576 L1550.71 72.576 L1550.71 12.096 Z\" fill=\"#000000\" fill-rule=\"nonzero\" fill-opacity=\"1\" /><path clip-path=\"url(#clip810)\" d=\"M1596.61 27.2059 L1604.06 27.2059 L1604.06 72.576 L1596.61 72.576 L1596.61 27.2059 M1596.61 9.54393 L1604.06 9.54393 L1604.06 18.9825 L1596.61 18.9825 L1596.61 9.54393 Z\" fill=\"#000000\" fill-rule=\"nonzero\" fill-opacity=\"1\" /><path clip-path=\"url(#clip810)\" d=\"M1649.51 49.3643 Q1649.51 41.2625 1646.15 36.8065 Q1642.83 32.3505 1636.79 32.3505 Q1630.79 32.3505 1627.43 36.8065 Q1624.11 41.2625 1624.11 49.3643 Q1624.11 57.4256 1627.43 61.8816 Q1630.79 66.3376 1636.79 66.3376 Q1642.83 66.3376 1646.15 61.8816 Q1649.51 57.4256 1649.51 49.3643 M1656.96 66.9452 Q1656.96 78.5308 1651.82 84.1616 Q1646.67 89.8329 1636.06 89.8329 Q1632.13 89.8329 1628.65 89.2252 Q1625.16 88.6581 1621.88 87.4428 L1621.88 80.1917 Q1625.16 81.9741 1628.36 82.8248 Q1631.56 83.6755 1634.89 83.6755 Q1642.22 83.6755 1645.86 79.8271 Q1649.51 76.0193 1649.51 68.282 L1649.51 64.5957 Q1647.2 68.6061 1643.6 70.5911 Q1639.99 72.576 1634.97 72.576 Q1626.62 72.576 1621.52 66.2161 Q1616.41 59.8562 1616.41 49.3643 Q1616.41 38.832 1621.52 32.472 Q1626.62 26.1121 1634.97 26.1121 Q1639.99 26.1121 1643.6 28.0971 Q1647.2 30.082 1649.51 34.0924 L1649.51 27.2059 L1656.96 27.2059 L1656.96 66.9452 Z\" fill=\"#000000\" fill-rule=\"nonzero\" fill-opacity=\"1\" /><path clip-path=\"url(#clip810)\" d=\"M1710.03 45.1919 L1710.03 72.576 L1702.58 72.576 L1702.58 45.4349 Q1702.58 38.994 1700.07 35.7938 Q1697.55 32.5936 1692.53 32.5936 Q1686.49 32.5936 1683.01 36.4419 Q1679.53 40.2903 1679.53 46.9338 L1679.53 72.576 L1672.03 72.576 L1672.03 27.2059 L1679.53 27.2059 L1679.53 34.2544 Q1682.2 30.163 1685.81 28.1376 Q1689.45 26.1121 1694.19 26.1121 Q1702.01 26.1121 1706.02 30.9732 Q1710.03 35.7938 1710.03 45.1919 Z\" fill=\"#000000\" fill-rule=\"nonzero\" fill-opacity=\"1\" /><path clip-path=\"url(#clip810)\" d=\"M1724.9 27.2059 L1732.35 27.2059 L1732.35 72.576 L1724.9 72.576 L1724.9 27.2059 M1724.9 9.54393 L1732.35 9.54393 L1732.35 18.9825 L1724.9 18.9825 L1724.9 9.54393 Z\" fill=\"#000000\" fill-rule=\"nonzero\" fill-opacity=\"1\" /><path clip-path=\"url(#clip810)\" d=\"M1755.32 14.324 L1755.32 27.2059 L1770.67 27.2059 L1770.67 32.9987 L1755.32 32.9987 L1755.32 57.6282 Q1755.32 63.1779 1756.82 64.7578 Q1758.36 66.3376 1763.02 66.3376 L1770.67 66.3376 L1770.67 72.576 L1763.02 72.576 Q1754.39 72.576 1751.11 69.3758 Q1747.83 66.1351 1747.83 57.6282 L1747.83 32.9987 L1742.36 32.9987 L1742.36 27.2059 L1747.83 27.2059 L1747.83 14.324 L1755.32 14.324 Z\" fill=\"#000000\" fill-rule=\"nonzero\" fill-opacity=\"1\" /><path clip-path=\"url(#clip810)\" d=\"M1819.28 48.0275 L1819.28 51.6733 L1785.01 51.6733 Q1785.5 59.3701 1789.63 63.421 Q1793.8 67.4314 1801.22 67.4314 Q1805.51 67.4314 1809.52 66.3781 Q1813.57 65.3249 1817.54 63.2184 L1817.54 70.267 Q1813.53 71.9684 1809.32 72.8596 Q1805.11 73.7508 1800.77 73.7508 Q1789.91 73.7508 1783.55 67.4314 Q1777.24 61.1119 1777.24 50.3365 Q1777.24 39.1965 1783.23 32.6746 Q1789.27 26.1121 1799.47 26.1121 Q1808.63 26.1121 1813.94 32.0264 Q1819.28 37.9003 1819.28 48.0275 M1811.83 45.84 Q1811.75 39.7232 1808.39 36.0774 Q1805.06 32.4315 1799.56 32.4315 Q1793.32 32.4315 1789.55 35.9558 Q1785.82 39.4801 1785.26 45.8805 L1811.83 45.84 Z\" fill=\"#000000\" fill-rule=\"nonzero\" fill-opacity=\"1\" /><polyline clip-path=\"url(#clip812)\" style=\"stroke:#009af9; stroke-linecap:round; stroke-linejoin:round; stroke-width:4; stroke-opacity:1; fill:none\" points=\"276.56,172.746 459.808,449.61 643.056,870.552 826.303,1082.75 1009.55,1167.47 1192.8,1427.89 1376.05,1146.79 1559.29,1332.77 1742.54,843.607 1925.79,843.944 2109.04,275.081 2292.28,808.12 \"/>\n",
       "<polyline clip-path=\"url(#clip812)\" style=\"stroke:#e26f46; stroke-linecap:round; stroke-linejoin:round; stroke-width:4; stroke-opacity:1; fill:none\" points=\"276.56,166.209 459.808,447.747 643.056,865.204 826.303,1073.72 1009.55,1196.88 1192.8,1447.87 1376.05,1145.36 1559.29,1332.32 1742.54,843.746 1925.79,836.963 2109.04,266.506 2292.28,798.809 \"/>\n",
       "<polyline clip-path=\"url(#clip812)\" style=\"stroke:#3da44d; stroke-linecap:round; stroke-linejoin:round; stroke-width:4; stroke-opacity:1; fill:none\" points=\"276.56,162.047 459.808,442.797 643.056,851.982 826.303,1095.58 1009.55,1175.77 1192.8,1428.29 1376.05,1147.44 1559.29,1341.22 1742.54,847.441 1925.79,841.046 2109.04,284.071 2292.28,803.652 \"/>\n",
       "<path clip-path=\"url(#clip810)\" d=\"M1634.42 1441.02 L2281.53 1441.02 L2281.53 1233.66 L1634.42 1233.66  Z\" fill=\"#ffffff\" fill-rule=\"evenodd\" fill-opacity=\"1\"/>\n",
       "<polyline clip-path=\"url(#clip810)\" style=\"stroke:#000000; stroke-linecap:round; stroke-linejoin:round; stroke-width:4; stroke-opacity:1; fill:none\" points=\"1634.42,1441.02 2281.53,1441.02 2281.53,1233.66 1634.42,1233.66 1634.42,1441.02 \"/>\n",
       "<polyline clip-path=\"url(#clip810)\" style=\"stroke:#009af9; stroke-linecap:round; stroke-linejoin:round; stroke-width:4; stroke-opacity:1; fill:none\" points=\"1658.16,1285.5 1800.61,1285.5 \"/>\n",
       "<path clip-path=\"url(#clip810)\" d=\"M1824.35 1268.22 L1844.21 1268.22 L1844.21 1272.15 L1829.02 1272.15 L1829.02 1282.34 L1842.73 1282.34 L1842.73 1286.27 L1829.02 1286.27 L1829.02 1302.78 L1824.35 1302.78 L1824.35 1268.22 Z\" fill=\"#000000\" fill-rule=\"nonzero\" fill-opacity=\"1\" /><path clip-path=\"url(#clip810)\" d=\"M1848.4 1292.54 L1848.4 1276.85 L1852.66 1276.85 L1852.66 1292.38 Q1852.66 1296.06 1854.09 1297.91 Q1855.53 1299.74 1858.4 1299.74 Q1861.85 1299.74 1863.84 1297.54 Q1865.85 1295.34 1865.85 1291.55 L1865.85 1276.85 L1870.11 1276.85 L1870.11 1302.78 L1865.85 1302.78 L1865.85 1298.79 Q1864.3 1301.15 1862.24 1302.31 Q1860.2 1303.45 1857.49 1303.45 Q1853.03 1303.45 1850.71 1300.67 Q1848.4 1297.89 1848.4 1292.54 M1859.11 1276.22 L1859.11 1276.22 Z\" fill=\"#000000\" fill-rule=\"nonzero\" fill-opacity=\"1\" /><path clip-path=\"url(#clip810)\" d=\"M1878.88 1266.76 L1883.14 1266.76 L1883.14 1302.78 L1878.88 1302.78 L1878.88 1266.76 Z\" fill=\"#000000\" fill-rule=\"nonzero\" fill-opacity=\"1\" /><path clip-path=\"url(#clip810)\" d=\"M1892.05 1266.76 L1896.31 1266.76 L1896.31 1302.78 L1892.05 1302.78 L1892.05 1266.76 Z\" fill=\"#000000\" fill-rule=\"nonzero\" fill-opacity=\"1\" /><polyline clip-path=\"url(#clip810)\" style=\"stroke:#e26f46; stroke-linecap:round; stroke-linejoin:round; stroke-width:4; stroke-opacity:1; fill:none\" points=\"1658.16,1337.34 1800.61,1337.34 \"/>\n",
       "<path clip-path=\"url(#clip810)\" d=\"M1829.02 1323.9 L1829.02 1336.88 L1834.9 1336.88 Q1838.17 1336.88 1839.95 1335.19 Q1841.73 1333.5 1841.73 1330.38 Q1841.73 1327.28 1839.95 1325.59 Q1838.17 1323.9 1834.9 1323.9 L1829.02 1323.9 M1824.35 1320.06 L1834.9 1320.06 Q1840.71 1320.06 1843.67 1322.69 Q1846.66 1325.31 1846.66 1330.38 Q1846.66 1335.5 1843.67 1338.11 Q1840.71 1340.73 1834.9 1340.73 L1829.02 1340.73 L1829.02 1354.62 L1824.35 1354.62 L1824.35 1320.06 Z\" fill=\"#000000\" fill-rule=\"nonzero\" fill-opacity=\"1\" /><path clip-path=\"url(#clip810)\" d=\"M1862.4 1341.58 Q1857.24 1341.58 1855.25 1342.76 Q1853.26 1343.94 1853.26 1346.79 Q1853.26 1349.06 1854.74 1350.4 Q1856.24 1351.72 1858.81 1351.72 Q1862.36 1351.72 1864.48 1349.22 Q1866.64 1346.7 1866.64 1342.53 L1866.64 1341.58 L1862.4 1341.58 M1870.9 1339.82 L1870.9 1354.62 L1866.64 1354.62 L1866.64 1350.68 Q1865.18 1353.04 1863 1354.18 Q1860.83 1355.29 1857.68 1355.29 Q1853.7 1355.29 1851.34 1353.06 Q1849 1350.82 1849 1347.07 Q1849 1342.69 1851.92 1340.47 Q1854.86 1338.25 1860.67 1338.25 L1866.64 1338.25 L1866.64 1337.83 Q1866.64 1334.89 1864.69 1333.3 Q1862.77 1331.68 1859.28 1331.68 Q1857.05 1331.68 1854.95 1332.21 Q1852.84 1332.74 1850.9 1333.81 L1850.9 1329.87 Q1853.23 1328.97 1855.43 1328.53 Q1857.63 1328.06 1859.72 1328.06 Q1865.34 1328.06 1868.12 1330.98 Q1870.9 1333.9 1870.9 1339.82 Z\" fill=\"#000000\" fill-rule=\"nonzero\" fill-opacity=\"1\" /><path clip-path=\"url(#clip810)\" d=\"M1894.69 1332.67 Q1893.98 1332.25 1893.12 1332.07 Q1892.29 1331.86 1891.27 1331.86 Q1887.66 1331.86 1885.71 1334.22 Q1883.79 1336.56 1883.79 1340.96 L1883.79 1354.62 L1879.51 1354.62 L1879.51 1328.69 L1883.79 1328.69 L1883.79 1332.72 Q1885.13 1330.36 1887.29 1329.22 Q1889.44 1328.06 1892.52 1328.06 Q1892.96 1328.06 1893.49 1328.13 Q1894.02 1328.18 1894.67 1328.3 L1894.69 1332.67 Z\" fill=\"#000000\" fill-rule=\"nonzero\" fill-opacity=\"1\" /><path clip-path=\"url(#clip810)\" d=\"M1903.37 1321.33 L1903.37 1328.69 L1912.15 1328.69 L1912.15 1332 L1903.37 1332 L1903.37 1346.07 Q1903.37 1349.25 1904.23 1350.15 Q1905.11 1351.05 1907.77 1351.05 L1912.15 1351.05 L1912.15 1354.62 L1907.77 1354.62 Q1902.84 1354.62 1900.97 1352.79 Q1899.09 1350.93 1899.09 1346.07 L1899.09 1332 L1895.97 1332 L1895.97 1328.69 L1899.09 1328.69 L1899.09 1321.33 L1903.37 1321.33 Z\" fill=\"#000000\" fill-rule=\"nonzero\" fill-opacity=\"1\" /><path clip-path=\"url(#clip810)\" d=\"M1917.75 1328.69 L1922.01 1328.69 L1922.01 1354.62 L1917.75 1354.62 L1917.75 1328.69 M1917.75 1318.6 L1922.01 1318.6 L1922.01 1323.99 L1917.75 1323.99 L1917.75 1318.6 Z\" fill=\"#000000\" fill-rule=\"nonzero\" fill-opacity=\"1\" /><path clip-path=\"url(#clip810)\" d=\"M1935.13 1321.33 L1935.13 1328.69 L1943.91 1328.69 L1943.91 1332 L1935.13 1332 L1935.13 1346.07 Q1935.13 1349.25 1935.99 1350.15 Q1936.87 1351.05 1939.53 1351.05 L1943.91 1351.05 L1943.91 1354.62 L1939.53 1354.62 Q1934.6 1354.62 1932.73 1352.79 Q1930.85 1350.93 1930.85 1346.07 L1930.85 1332 L1927.73 1332 L1927.73 1328.69 L1930.85 1328.69 L1930.85 1321.33 L1935.13 1321.33 Z\" fill=\"#000000\" fill-rule=\"nonzero\" fill-opacity=\"1\" /><path clip-path=\"url(#clip810)\" d=\"M1949.51 1328.69 L1953.77 1328.69 L1953.77 1354.62 L1949.51 1354.62 L1949.51 1328.69 M1949.51 1318.6 L1953.77 1318.6 L1953.77 1323.99 L1949.51 1323.99 L1949.51 1318.6 Z\" fill=\"#000000\" fill-rule=\"nonzero\" fill-opacity=\"1\" /><path clip-path=\"url(#clip810)\" d=\"M1972.72 1331.68 Q1969.3 1331.68 1967.31 1334.36 Q1965.32 1337.02 1965.32 1341.68 Q1965.32 1346.33 1967.29 1349.01 Q1969.28 1351.68 1972.72 1351.68 Q1976.13 1351.68 1978.12 1348.99 Q1980.11 1346.31 1980.11 1341.68 Q1980.11 1337.07 1978.12 1334.38 Q1976.13 1331.68 1972.72 1331.68 M1972.72 1328.06 Q1978.28 1328.06 1981.45 1331.68 Q1984.62 1335.29 1984.62 1341.68 Q1984.62 1348.04 1981.45 1351.68 Q1978.28 1355.29 1972.72 1355.29 Q1967.15 1355.29 1963.98 1351.68 Q1960.83 1348.04 1960.83 1341.68 Q1960.83 1335.29 1963.98 1331.68 Q1967.15 1328.06 1972.72 1328.06 Z\" fill=\"#000000\" fill-rule=\"nonzero\" fill-opacity=\"1\" /><path clip-path=\"url(#clip810)\" d=\"M2013.23 1338.97 L2013.23 1354.62 L2008.97 1354.62 L2008.97 1339.11 Q2008.97 1335.43 2007.54 1333.6 Q2006.1 1331.77 2003.23 1331.77 Q1999.79 1331.77 1997.79 1333.97 Q1995.8 1336.17 1995.8 1339.96 L1995.8 1354.62 L1991.52 1354.62 L1991.52 1328.69 L1995.8 1328.69 L1995.8 1332.72 Q1997.33 1330.38 1999.39 1329.22 Q2001.47 1328.06 2004.18 1328.06 Q2008.65 1328.06 2010.94 1330.84 Q2013.23 1333.6 2013.23 1338.97 Z\" fill=\"#000000\" fill-rule=\"nonzero\" fill-opacity=\"1\" /><path clip-path=\"url(#clip810)\" d=\"M2043.91 1340.59 L2043.91 1342.67 L2024.32 1342.67 Q2024.6 1347.07 2026.96 1349.38 Q2029.35 1351.68 2033.58 1351.68 Q2036.03 1351.68 2038.33 1351.07 Q2040.64 1350.47 2042.91 1349.27 L2042.91 1353.3 Q2040.62 1354.27 2038.21 1354.78 Q2035.8 1355.29 2033.33 1355.29 Q2027.12 1355.29 2023.49 1351.68 Q2019.88 1348.06 2019.88 1341.91 Q2019.88 1335.54 2023.3 1331.81 Q2026.75 1328.06 2032.59 1328.06 Q2037.82 1328.06 2040.85 1331.44 Q2043.91 1334.8 2043.91 1340.59 M2039.65 1339.34 Q2039.6 1335.84 2037.68 1333.76 Q2035.78 1331.68 2032.63 1331.68 Q2029.07 1331.68 2026.91 1333.69 Q2024.78 1335.7 2024.46 1339.36 L2039.65 1339.34 Z\" fill=\"#000000\" fill-rule=\"nonzero\" fill-opacity=\"1\" /><path clip-path=\"url(#clip810)\" d=\"M2067.96 1332.62 L2067.96 1318.6 L2072.22 1318.6 L2072.22 1354.62 L2067.96 1354.62 L2067.96 1350.73 Q2066.61 1353.04 2064.55 1354.18 Q2062.52 1355.29 2059.65 1355.29 Q2054.95 1355.29 2051.98 1351.54 Q2049.04 1347.79 2049.04 1341.68 Q2049.04 1335.56 2051.98 1331.81 Q2054.95 1328.06 2059.65 1328.06 Q2062.52 1328.06 2064.55 1329.2 Q2066.61 1330.31 2067.96 1332.62 M2053.44 1341.68 Q2053.44 1346.37 2055.36 1349.06 Q2057.31 1351.72 2060.69 1351.72 Q2064.07 1351.72 2066.01 1349.06 Q2067.96 1346.37 2067.96 1341.68 Q2067.96 1336.98 2066.01 1334.31 Q2064.07 1331.63 2060.69 1331.63 Q2057.31 1331.63 2055.36 1334.31 Q2053.44 1336.98 2053.44 1341.68 Z\" fill=\"#000000\" fill-rule=\"nonzero\" fill-opacity=\"1\" /><polyline clip-path=\"url(#clip810)\" style=\"stroke:#3da44d; stroke-linecap:round; stroke-linejoin:round; stroke-width:4; stroke-opacity:1; fill:none\" points=\"1658.16,1389.18 1800.61,1389.18 \"/>\n",
       "<path clip-path=\"url(#clip810)\" d=\"M1829.02 1375.74 L1829.02 1402.61 L1834.67 1402.61 Q1841.82 1402.61 1845.13 1399.37 Q1848.47 1396.13 1848.47 1389.14 Q1848.47 1382.2 1845.13 1378.98 Q1841.82 1375.74 1834.67 1375.74 L1829.02 1375.74 M1824.35 1371.9 L1833.95 1371.9 Q1844 1371.9 1848.7 1376.09 Q1853.4 1380.25 1853.4 1389.14 Q1853.4 1398.08 1848.67 1402.27 Q1843.95 1406.46 1833.95 1406.46 L1824.35 1406.46 L1824.35 1371.9 Z\" fill=\"#000000\" fill-rule=\"nonzero\" fill-opacity=\"1\" /><path clip-path=\"url(#clip810)\" d=\"M1870.71 1383.52 Q1867.29 1383.52 1865.3 1386.2 Q1863.3 1388.86 1863.3 1393.52 Q1863.3 1398.17 1865.27 1400.85 Q1867.26 1403.52 1870.71 1403.52 Q1874.11 1403.52 1876.11 1400.83 Q1878.1 1398.15 1878.1 1393.52 Q1878.1 1388.91 1876.11 1386.22 Q1874.11 1383.52 1870.71 1383.52 M1870.71 1379.9 Q1876.27 1379.9 1879.44 1383.52 Q1882.61 1387.13 1882.61 1393.52 Q1882.61 1399.88 1879.44 1403.52 Q1876.27 1407.13 1870.71 1407.13 Q1865.13 1407.13 1861.96 1403.52 Q1858.81 1399.88 1858.81 1393.52 Q1858.81 1387.13 1861.96 1383.52 Q1865.13 1379.9 1870.71 1379.9 Z\" fill=\"#000000\" fill-rule=\"nonzero\" fill-opacity=\"1\" /><path clip-path=\"url(#clip810)\" d=\"M1889.23 1396.22 L1889.23 1380.53 L1893.49 1380.53 L1893.49 1396.06 Q1893.49 1399.74 1894.92 1401.59 Q1896.36 1403.42 1899.23 1403.42 Q1902.68 1403.42 1904.67 1401.22 Q1906.68 1399.02 1906.68 1395.23 L1906.68 1380.53 L1910.94 1380.53 L1910.94 1406.46 L1906.68 1406.46 L1906.68 1402.47 Q1905.13 1404.83 1903.07 1405.99 Q1901.04 1407.13 1898.33 1407.13 Q1893.86 1407.13 1891.54 1404.35 Q1889.23 1401.57 1889.23 1396.22 M1899.95 1379.9 L1899.95 1379.9 Z\" fill=\"#000000\" fill-rule=\"nonzero\" fill-opacity=\"1\" /><path clip-path=\"url(#clip810)\" d=\"M1938.33 1393.52 Q1938.33 1388.82 1936.38 1386.15 Q1934.46 1383.47 1931.08 1383.47 Q1927.7 1383.47 1925.76 1386.15 Q1923.84 1388.82 1923.84 1393.52 Q1923.84 1398.21 1925.76 1400.9 Q1927.7 1403.56 1931.08 1403.56 Q1934.46 1403.56 1936.38 1400.9 Q1938.33 1398.21 1938.33 1393.52 M1923.84 1384.46 Q1925.18 1382.15 1927.22 1381.04 Q1929.28 1379.9 1932.12 1379.9 Q1936.85 1379.9 1939.79 1383.65 Q1942.75 1387.4 1942.75 1393.52 Q1942.75 1399.63 1939.79 1403.38 Q1936.85 1407.13 1932.12 1407.13 Q1929.28 1407.13 1927.22 1406.02 Q1925.18 1404.88 1923.84 1402.57 L1923.84 1406.46 L1919.55 1406.46 L1919.55 1370.44 L1923.84 1370.44 L1923.84 1384.46 Z\" fill=\"#000000\" fill-rule=\"nonzero\" fill-opacity=\"1\" /><path clip-path=\"url(#clip810)\" d=\"M1949.81 1370.44 L1954.07 1370.44 L1954.07 1406.46 L1949.81 1406.46 L1949.81 1370.44 Z\" fill=\"#000000\" fill-rule=\"nonzero\" fill-opacity=\"1\" /><path clip-path=\"url(#clip810)\" d=\"M1973.77 1408.86 Q1971.96 1413.49 1970.25 1414.9 Q1968.54 1416.32 1965.66 1416.32 L1962.26 1416.32 L1962.26 1412.75 L1964.76 1412.75 Q1966.52 1412.75 1967.49 1411.92 Q1968.47 1411.08 1969.65 1407.98 L1970.41 1406.04 L1959.92 1380.53 L1964.44 1380.53 L1972.54 1400.81 L1980.64 1380.53 L1985.16 1380.53 L1973.77 1408.86 Z\" fill=\"#000000\" fill-rule=\"nonzero\" fill-opacity=\"1\" /><path clip-path=\"url(#clip810)\" d=\"M2010.22 1402.57 L2010.22 1416.32 L2005.94 1416.32 L2005.94 1380.53 L2010.22 1380.53 L2010.22 1384.46 Q2011.57 1382.15 2013.6 1381.04 Q2015.66 1379.9 2018.51 1379.9 Q2023.23 1379.9 2026.17 1383.65 Q2029.14 1387.4 2029.14 1393.52 Q2029.14 1399.63 2026.17 1403.38 Q2023.23 1407.13 2018.51 1407.13 Q2015.66 1407.13 2013.6 1406.02 Q2011.57 1404.88 2010.22 1402.57 M2024.72 1393.52 Q2024.72 1388.82 2022.77 1386.15 Q2020.85 1383.47 2017.47 1383.47 Q2014.09 1383.47 2012.15 1386.15 Q2010.22 1388.82 2010.22 1393.52 Q2010.22 1398.21 2012.15 1400.9 Q2014.09 1403.56 2017.47 1403.56 Q2020.85 1403.56 2022.77 1400.9 Q2024.72 1398.21 2024.72 1393.52 Z\" fill=\"#000000\" fill-rule=\"nonzero\" fill-opacity=\"1\" /><path clip-path=\"url(#clip810)\" d=\"M2047.98 1393.42 Q2042.82 1393.42 2040.83 1394.6 Q2038.84 1395.78 2038.84 1398.63 Q2038.84 1400.9 2040.32 1402.24 Q2041.82 1403.56 2044.39 1403.56 Q2047.93 1403.56 2050.06 1401.06 Q2052.22 1398.54 2052.22 1394.37 L2052.22 1393.42 L2047.98 1393.42 M2056.47 1391.66 L2056.47 1406.46 L2052.22 1406.46 L2052.22 1402.52 Q2050.76 1404.88 2048.58 1406.02 Q2046.41 1407.13 2043.26 1407.13 Q2039.28 1407.13 2036.91 1404.9 Q2034.58 1402.66 2034.58 1398.91 Q2034.58 1394.53 2037.49 1392.31 Q2040.43 1390.09 2046.24 1390.09 L2052.22 1390.09 L2052.22 1389.67 Q2052.22 1386.73 2050.27 1385.14 Q2048.35 1383.52 2044.85 1383.52 Q2042.63 1383.52 2040.53 1384.05 Q2038.42 1384.58 2036.47 1385.65 L2036.47 1381.71 Q2038.81 1380.81 2041.01 1380.37 Q2043.21 1379.9 2045.29 1379.9 Q2050.92 1379.9 2053.7 1382.82 Q2056.47 1385.74 2056.47 1391.66 Z\" fill=\"#000000\" fill-rule=\"nonzero\" fill-opacity=\"1\" /><path clip-path=\"url(#clip810)\" d=\"M2080.27 1384.51 Q2079.55 1384.09 2078.7 1383.91 Q2077.86 1383.7 2076.84 1383.7 Q2073.23 1383.7 2071.29 1386.06 Q2069.37 1388.4 2069.37 1392.8 L2069.37 1406.46 L2065.09 1406.46 L2065.09 1380.53 L2069.37 1380.53 L2069.37 1384.56 Q2070.71 1382.2 2072.86 1381.06 Q2075.02 1379.9 2078.09 1379.9 Q2078.53 1379.9 2079.07 1379.97 Q2079.6 1380.02 2080.25 1380.14 L2080.27 1384.51 Z\" fill=\"#000000\" fill-rule=\"nonzero\" fill-opacity=\"1\" /><path clip-path=\"url(#clip810)\" d=\"M2088.95 1373.17 L2088.95 1380.53 L2097.72 1380.53 L2097.72 1383.84 L2088.95 1383.84 L2088.95 1397.91 Q2088.95 1401.09 2089.81 1401.99 Q2090.69 1402.89 2093.35 1402.89 L2097.72 1402.89 L2097.72 1406.46 L2093.35 1406.46 Q2088.42 1406.46 2086.54 1404.63 Q2084.67 1402.77 2084.67 1397.91 L2084.67 1383.84 L2081.54 1383.84 L2081.54 1380.53 L2084.67 1380.53 L2084.67 1373.17 L2088.95 1373.17 Z\" fill=\"#000000\" fill-rule=\"nonzero\" fill-opacity=\"1\" /><path clip-path=\"url(#clip810)\" d=\"M2103.33 1380.53 L2107.59 1380.53 L2107.59 1406.46 L2103.33 1406.46 L2103.33 1380.53 M2103.33 1370.44 L2107.59 1370.44 L2107.59 1375.83 L2103.33 1375.83 L2103.33 1370.44 Z\" fill=\"#000000\" fill-rule=\"nonzero\" fill-opacity=\"1\" /><path clip-path=\"url(#clip810)\" d=\"M2120.71 1373.17 L2120.71 1380.53 L2129.48 1380.53 L2129.48 1383.84 L2120.71 1383.84 L2120.71 1397.91 Q2120.71 1401.09 2121.57 1401.99 Q2122.45 1402.89 2125.11 1402.89 L2129.48 1402.89 L2129.48 1406.46 L2125.11 1406.46 Q2120.18 1406.46 2118.3 1404.63 Q2116.43 1402.77 2116.43 1397.91 L2116.43 1383.84 L2113.3 1383.84 L2113.3 1380.53 L2116.43 1380.53 L2116.43 1373.17 L2120.71 1373.17 Z\" fill=\"#000000\" fill-rule=\"nonzero\" fill-opacity=\"1\" /><path clip-path=\"url(#clip810)\" d=\"M2135.09 1380.53 L2139.34 1380.53 L2139.34 1406.46 L2135.09 1406.46 L2135.09 1380.53 M2135.09 1370.44 L2139.34 1370.44 L2139.34 1375.83 L2135.09 1375.83 L2135.09 1370.44 Z\" fill=\"#000000\" fill-rule=\"nonzero\" fill-opacity=\"1\" /><path clip-path=\"url(#clip810)\" d=\"M2158.3 1383.52 Q2154.88 1383.52 2152.89 1386.2 Q2150.9 1388.86 2150.9 1393.52 Q2150.9 1398.17 2152.86 1400.85 Q2154.85 1403.52 2158.3 1403.52 Q2161.71 1403.52 2163.7 1400.83 Q2165.69 1398.15 2165.69 1393.52 Q2165.69 1388.91 2163.7 1386.22 Q2161.71 1383.52 2158.3 1383.52 M2158.3 1379.9 Q2163.86 1379.9 2167.03 1383.52 Q2170.2 1387.13 2170.2 1393.52 Q2170.2 1399.88 2167.03 1403.52 Q2163.86 1407.13 2158.3 1407.13 Q2152.72 1407.13 2149.55 1403.52 Q2146.4 1399.88 2146.4 1393.52 Q2146.4 1387.13 2149.55 1383.52 Q2152.72 1379.9 2158.3 1379.9 Z\" fill=\"#000000\" fill-rule=\"nonzero\" fill-opacity=\"1\" /><path clip-path=\"url(#clip810)\" d=\"M2198.81 1390.81 L2198.81 1406.46 L2194.55 1406.46 L2194.55 1390.95 Q2194.55 1387.27 2193.12 1385.44 Q2191.68 1383.61 2188.81 1383.61 Q2185.36 1383.61 2183.37 1385.81 Q2181.38 1388.01 2181.38 1391.8 L2181.38 1406.46 L2177.1 1406.46 L2177.1 1380.53 L2181.38 1380.53 L2181.38 1384.56 Q2182.91 1382.22 2184.97 1381.06 Q2187.05 1379.9 2189.76 1379.9 Q2194.23 1379.9 2196.52 1382.68 Q2198.81 1385.44 2198.81 1390.81 Z\" fill=\"#000000\" fill-rule=\"nonzero\" fill-opacity=\"1\" /><path clip-path=\"url(#clip810)\" d=\"M2229.48 1392.43 L2229.48 1394.51 L2209.9 1394.51 Q2210.18 1398.91 2212.54 1401.22 Q2214.92 1403.52 2219.16 1403.52 Q2221.61 1403.52 2223.9 1402.91 Q2226.22 1402.31 2228.49 1401.11 L2228.49 1405.14 Q2226.2 1406.11 2223.79 1406.62 Q2221.38 1407.13 2218.9 1407.13 Q2212.7 1407.13 2209.07 1403.52 Q2205.46 1399.9 2205.46 1393.75 Q2205.46 1387.38 2208.88 1383.65 Q2212.33 1379.9 2218.16 1379.9 Q2223.39 1379.9 2226.43 1383.28 Q2229.48 1386.64 2229.48 1392.43 M2225.22 1391.18 Q2225.18 1387.68 2223.26 1385.6 Q2221.36 1383.52 2218.21 1383.52 Q2214.64 1383.52 2212.49 1385.53 Q2210.36 1387.54 2210.04 1391.2 L2225.22 1391.18 Z\" fill=\"#000000\" fill-rule=\"nonzero\" fill-opacity=\"1\" /><path clip-path=\"url(#clip810)\" d=\"M2253.53 1384.46 L2253.53 1370.44 L2257.79 1370.44 L2257.79 1406.46 L2253.53 1406.46 L2253.53 1402.57 Q2252.19 1404.88 2250.13 1406.02 Q2248.09 1407.13 2245.22 1407.13 Q2240.52 1407.13 2237.56 1403.38 Q2234.62 1399.63 2234.62 1393.52 Q2234.62 1387.4 2237.56 1383.65 Q2240.52 1379.9 2245.22 1379.9 Q2248.09 1379.9 2250.13 1381.04 Q2252.19 1382.15 2253.53 1384.46 M2239.02 1393.52 Q2239.02 1398.21 2240.94 1400.9 Q2242.89 1403.56 2246.27 1403.56 Q2249.64 1403.56 2251.59 1400.9 Q2253.53 1398.21 2253.53 1393.52 Q2253.53 1388.82 2251.59 1386.15 Q2249.64 1383.47 2246.27 1383.47 Q2242.89 1383.47 2240.94 1386.15 Q2239.02 1388.82 2239.02 1393.52 Z\" fill=\"#000000\" fill-rule=\"nonzero\" fill-opacity=\"1\" /></svg>\n"
      ],
      "text/html": [
       "<?xml version=\"1.0\" encoding=\"utf-8\"?>\n",
       "<svg xmlns=\"http://www.w3.org/2000/svg\" xmlns:xlink=\"http://www.w3.org/1999/xlink\" width=\"600\" height=\"400\" viewBox=\"0 0 2400 1600\">\n",
       "<defs>\n",
       "  <clipPath id=\"clip860\">\n",
       "    <rect x=\"0\" y=\"0\" width=\"2400\" height=\"1600\"/>\n",
       "  </clipPath>\n",
       "</defs>\n",
       "<path clip-path=\"url(#clip860)\" d=\"M0 1600 L2400 1600 L2400 0 L0 0  Z\" fill=\"#ffffff\" fill-rule=\"evenodd\" fill-opacity=\"1\"/>\n",
       "<defs>\n",
       "  <clipPath id=\"clip861\">\n",
       "    <rect x=\"480\" y=\"0\" width=\"1681\" height=\"1600\"/>\n",
       "  </clipPath>\n",
       "</defs>\n",
       "<path clip-path=\"url(#clip860)\" d=\"M216.089 1486.45 L2352.76 1486.45 L2352.76 123.472 L216.089 123.472  Z\" fill=\"#ffffff\" fill-rule=\"evenodd\" fill-opacity=\"1\"/>\n",
       "<defs>\n",
       "  <clipPath id=\"clip862\">\n",
       "    <rect x=\"216\" y=\"123\" width=\"2138\" height=\"1364\"/>\n",
       "  </clipPath>\n",
       "</defs>\n",
       "<polyline clip-path=\"url(#clip862)\" style=\"stroke:#000000; stroke-linecap:round; stroke-linejoin:round; stroke-width:2; stroke-opacity:0.1; fill:none\" points=\"551.432,1486.45 551.432,123.472 \"/>\n",
       "<polyline clip-path=\"url(#clip862)\" style=\"stroke:#000000; stroke-linecap:round; stroke-linejoin:round; stroke-width:2; stroke-opacity:0.1; fill:none\" points=\"1009.55,1486.45 1009.55,123.472 \"/>\n",
       "<polyline clip-path=\"url(#clip862)\" style=\"stroke:#000000; stroke-linecap:round; stroke-linejoin:round; stroke-width:2; stroke-opacity:0.1; fill:none\" points=\"1467.67,1486.45 1467.67,123.472 \"/>\n",
       "<polyline clip-path=\"url(#clip862)\" style=\"stroke:#000000; stroke-linecap:round; stroke-linejoin:round; stroke-width:2; stroke-opacity:0.1; fill:none\" points=\"1925.79,1486.45 1925.79,123.472 \"/>\n",
       "<polyline clip-path=\"url(#clip860)\" style=\"stroke:#000000; stroke-linecap:round; stroke-linejoin:round; stroke-width:4; stroke-opacity:1; fill:none\" points=\"216.089,1486.45 2352.76,1486.45 \"/>\n",
       "<polyline clip-path=\"url(#clip860)\" style=\"stroke:#000000; stroke-linecap:round; stroke-linejoin:round; stroke-width:4; stroke-opacity:1; fill:none\" points=\"551.432,1486.45 551.432,1467.55 \"/>\n",
       "<polyline clip-path=\"url(#clip860)\" style=\"stroke:#000000; stroke-linecap:round; stroke-linejoin:round; stroke-width:4; stroke-opacity:1; fill:none\" points=\"1009.55,1486.45 1009.55,1467.55 \"/>\n",
       "<polyline clip-path=\"url(#clip860)\" style=\"stroke:#000000; stroke-linecap:round; stroke-linejoin:round; stroke-width:4; stroke-opacity:1; fill:none\" points=\"1467.67,1486.45 1467.67,1467.55 \"/>\n",
       "<polyline clip-path=\"url(#clip860)\" style=\"stroke:#000000; stroke-linecap:round; stroke-linejoin:round; stroke-width:4; stroke-opacity:1; fill:none\" points=\"1925.79,1486.45 1925.79,1467.55 \"/>\n",
       "<path clip-path=\"url(#clip860)\" d=\"M523.168 1544.91 L539.487 1544.91 L539.487 1548.85 L517.543 1548.85 L517.543 1544.91 Q520.205 1542.16 524.788 1537.53 Q529.395 1532.88 530.575 1531.53 Q532.821 1529.01 533.7 1527.27 Q534.603 1525.51 534.603 1523.82 Q534.603 1521.07 532.659 1519.33 Q530.737 1517.6 527.636 1517.6 Q525.437 1517.6 522.983 1518.36 Q520.552 1519.13 517.775 1520.68 L517.775 1515.95 Q520.599 1514.82 523.052 1514.24 Q525.506 1513.66 527.543 1513.66 Q532.913 1513.66 536.108 1516.35 Q539.302 1519.03 539.302 1523.52 Q539.302 1525.65 538.492 1527.57 Q537.705 1529.47 535.599 1532.07 Q535.02 1532.74 531.918 1535.95 Q528.816 1539.15 523.168 1544.91 Z\" fill=\"#000000\" fill-rule=\"nonzero\" fill-opacity=\"1\" /><path clip-path=\"url(#clip860)\" d=\"M549.302 1542.97 L554.186 1542.97 L554.186 1548.85 L549.302 1548.85 L549.302 1542.97 Z\" fill=\"#000000\" fill-rule=\"nonzero\" fill-opacity=\"1\" /><path clip-path=\"url(#clip860)\" d=\"M564.418 1514.29 L582.774 1514.29 L582.774 1518.22 L568.7 1518.22 L568.7 1526.7 Q569.719 1526.35 570.737 1526.19 Q571.756 1526 572.774 1526 Q578.561 1526 581.941 1529.17 Q585.321 1532.34 585.321 1537.76 Q585.321 1543.34 581.848 1546.44 Q578.376 1549.52 572.057 1549.52 Q569.881 1549.52 567.612 1549.15 Q565.367 1548.78 562.96 1548.04 L562.96 1543.34 Q565.043 1544.47 567.265 1545.03 Q569.487 1545.58 571.964 1545.58 Q575.969 1545.58 578.307 1543.48 Q580.645 1541.37 580.645 1537.76 Q580.645 1534.15 578.307 1532.04 Q575.969 1529.94 571.964 1529.94 Q570.089 1529.94 568.214 1530.35 Q566.362 1530.77 564.418 1531.65 L564.418 1514.29 Z\" fill=\"#000000\" fill-rule=\"nonzero\" fill-opacity=\"1\" /><path clip-path=\"url(#clip860)\" d=\"M976.715 1514.29 L995.072 1514.29 L995.072 1518.22 L980.998 1518.22 L980.998 1526.7 Q982.016 1526.35 983.035 1526.19 Q984.053 1526 985.072 1526 Q990.859 1526 994.238 1529.17 Q997.618 1532.34 997.618 1537.76 Q997.618 1543.34 994.146 1546.44 Q990.674 1549.52 984.354 1549.52 Q982.178 1549.52 979.91 1549.15 Q977.664 1548.78 975.257 1548.04 L975.257 1543.34 Q977.34 1544.47 979.563 1545.03 Q981.785 1545.58 984.262 1545.58 Q988.266 1545.58 990.604 1543.48 Q992.942 1541.37 992.942 1537.76 Q992.942 1534.15 990.604 1532.04 Q988.266 1529.94 984.262 1529.94 Q982.387 1529.94 980.512 1530.35 Q978.66 1530.77 976.715 1531.65 L976.715 1514.29 Z\" fill=\"#000000\" fill-rule=\"nonzero\" fill-opacity=\"1\" /><path clip-path=\"url(#clip860)\" d=\"M1006.83 1542.97 L1011.72 1542.97 L1011.72 1548.85 L1006.83 1548.85 L1006.83 1542.97 Z\" fill=\"#000000\" fill-rule=\"nonzero\" fill-opacity=\"1\" /><path clip-path=\"url(#clip860)\" d=\"M1031.9 1517.37 Q1028.29 1517.37 1026.46 1520.93 Q1024.65 1524.47 1024.65 1531.6 Q1024.65 1538.71 1026.46 1542.27 Q1028.29 1545.82 1031.9 1545.82 Q1035.53 1545.82 1037.34 1542.27 Q1039.17 1538.71 1039.17 1531.6 Q1039.17 1524.47 1037.34 1520.93 Q1035.53 1517.37 1031.9 1517.37 M1031.9 1513.66 Q1037.71 1513.66 1040.77 1518.27 Q1043.84 1522.85 1043.84 1531.6 Q1043.84 1540.33 1040.77 1544.94 Q1037.71 1549.52 1031.9 1549.52 Q1026.09 1549.52 1023.01 1544.94 Q1019.96 1540.33 1019.96 1531.6 Q1019.96 1522.85 1023.01 1518.27 Q1026.09 1513.66 1031.9 1513.66 Z\" fill=\"#000000\" fill-rule=\"nonzero\" fill-opacity=\"1\" /><path clip-path=\"url(#clip860)\" d=\"M1433.99 1514.29 L1456.21 1514.29 L1456.21 1516.28 L1443.67 1548.85 L1438.78 1548.85 L1450.59 1518.22 L1433.99 1518.22 L1433.99 1514.29 Z\" fill=\"#000000\" fill-rule=\"nonzero\" fill-opacity=\"1\" /><path clip-path=\"url(#clip860)\" d=\"M1465.33 1542.97 L1470.22 1542.97 L1470.22 1548.85 L1465.33 1548.85 L1465.33 1542.97 Z\" fill=\"#000000\" fill-rule=\"nonzero\" fill-opacity=\"1\" /><path clip-path=\"url(#clip860)\" d=\"M1480.45 1514.29 L1498.8 1514.29 L1498.8 1518.22 L1484.73 1518.22 L1484.73 1526.7 Q1485.75 1526.35 1486.77 1526.19 Q1487.79 1526 1488.8 1526 Q1494.59 1526 1497.97 1529.17 Q1501.35 1532.34 1501.35 1537.76 Q1501.35 1543.34 1497.88 1546.44 Q1494.41 1549.52 1488.09 1549.52 Q1485.91 1549.52 1483.64 1549.15 Q1481.4 1548.78 1478.99 1548.04 L1478.99 1543.34 Q1481.07 1544.47 1483.29 1545.03 Q1485.52 1545.58 1487.99 1545.58 Q1492 1545.58 1494.34 1543.48 Q1496.67 1541.37 1496.67 1537.76 Q1496.67 1534.15 1494.34 1532.04 Q1492 1529.94 1487.99 1529.94 Q1486.12 1529.94 1484.24 1530.35 Q1482.39 1530.77 1480.45 1531.65 L1480.45 1514.29 Z\" fill=\"#000000\" fill-rule=\"nonzero\" fill-opacity=\"1\" /><path clip-path=\"url(#clip860)\" d=\"M1877.86 1544.91 L1885.5 1544.91 L1885.5 1518.55 L1877.19 1520.21 L1877.19 1515.95 L1885.45 1514.29 L1890.13 1514.29 L1890.13 1544.91 L1897.77 1544.91 L1897.77 1548.85 L1877.86 1548.85 L1877.86 1544.91 Z\" fill=\"#000000\" fill-rule=\"nonzero\" fill-opacity=\"1\" /><path clip-path=\"url(#clip860)\" d=\"M1917.21 1517.37 Q1913.6 1517.37 1911.77 1520.93 Q1909.97 1524.47 1909.97 1531.6 Q1909.97 1538.71 1911.77 1542.27 Q1913.6 1545.82 1917.21 1545.82 Q1920.85 1545.82 1922.65 1542.27 Q1924.48 1538.71 1924.48 1531.6 Q1924.48 1524.47 1922.65 1520.93 Q1920.85 1517.37 1917.21 1517.37 M1917.21 1513.66 Q1923.02 1513.66 1926.08 1518.27 Q1929.16 1522.85 1929.16 1531.6 Q1929.16 1540.33 1926.08 1544.94 Q1923.02 1549.52 1917.21 1549.52 Q1911.4 1549.52 1908.32 1544.94 Q1905.27 1540.33 1905.27 1531.6 Q1905.27 1522.85 1908.32 1518.27 Q1911.4 1513.66 1917.21 1513.66 Z\" fill=\"#000000\" fill-rule=\"nonzero\" fill-opacity=\"1\" /><path clip-path=\"url(#clip860)\" d=\"M1937.37 1542.97 L1942.26 1542.97 L1942.26 1548.85 L1937.37 1548.85 L1937.37 1542.97 Z\" fill=\"#000000\" fill-rule=\"nonzero\" fill-opacity=\"1\" /><path clip-path=\"url(#clip860)\" d=\"M1962.44 1517.37 Q1958.83 1517.37 1957 1520.93 Q1955.2 1524.47 1955.2 1531.6 Q1955.2 1538.71 1957 1542.27 Q1958.83 1545.82 1962.44 1545.82 Q1966.08 1545.82 1967.88 1542.27 Q1969.71 1538.71 1969.71 1531.6 Q1969.71 1524.47 1967.88 1520.93 Q1966.08 1517.37 1962.44 1517.37 M1962.44 1513.66 Q1968.25 1513.66 1971.31 1518.27 Q1974.39 1522.85 1974.39 1531.6 Q1974.39 1540.33 1971.31 1544.94 Q1968.25 1549.52 1962.44 1549.52 Q1956.63 1549.52 1953.56 1544.94 Q1950.5 1540.33 1950.5 1531.6 Q1950.5 1522.85 1953.56 1518.27 Q1956.63 1513.66 1962.44 1513.66 Z\" fill=\"#000000\" fill-rule=\"nonzero\" fill-opacity=\"1\" /><polyline clip-path=\"url(#clip862)\" style=\"stroke:#000000; stroke-linecap:round; stroke-linejoin:round; stroke-width:2; stroke-opacity:0.1; fill:none\" points=\"216.089,1319.74 2352.76,1319.74 \"/>\n",
       "<polyline clip-path=\"url(#clip862)\" style=\"stroke:#000000; stroke-linecap:round; stroke-linejoin:round; stroke-width:2; stroke-opacity:0.1; fill:none\" points=\"216.089,1006.66 2352.76,1006.66 \"/>\n",
       "<polyline clip-path=\"url(#clip862)\" style=\"stroke:#000000; stroke-linecap:round; stroke-linejoin:round; stroke-width:2; stroke-opacity:0.1; fill:none\" points=\"216.089,693.583 2352.76,693.583 \"/>\n",
       "<polyline clip-path=\"url(#clip862)\" style=\"stroke:#000000; stroke-linecap:round; stroke-linejoin:round; stroke-width:2; stroke-opacity:0.1; fill:none\" points=\"216.089,380.502 2352.76,380.502 \"/>\n",
       "<polyline clip-path=\"url(#clip860)\" style=\"stroke:#000000; stroke-linecap:round; stroke-linejoin:round; stroke-width:4; stroke-opacity:1; fill:none\" points=\"216.089,1486.45 216.089,123.472 \"/>\n",
       "<polyline clip-path=\"url(#clip860)\" style=\"stroke:#000000; stroke-linecap:round; stroke-linejoin:round; stroke-width:4; stroke-opacity:1; fill:none\" points=\"216.089,1319.74 234.986,1319.74 \"/>\n",
       "<polyline clip-path=\"url(#clip860)\" style=\"stroke:#000000; stroke-linecap:round; stroke-linejoin:round; stroke-width:4; stroke-opacity:1; fill:none\" points=\"216.089,1006.66 234.986,1006.66 \"/>\n",
       "<polyline clip-path=\"url(#clip860)\" style=\"stroke:#000000; stroke-linecap:round; stroke-linejoin:round; stroke-width:4; stroke-opacity:1; fill:none\" points=\"216.089,693.583 234.986,693.583 \"/>\n",
       "<polyline clip-path=\"url(#clip860)\" style=\"stroke:#000000; stroke-linecap:round; stroke-linejoin:round; stroke-width:4; stroke-opacity:1; fill:none\" points=\"216.089,380.502 234.986,380.502 \"/>\n",
       "<path clip-path=\"url(#clip860)\" d=\"M57.6125 1333.09 L73.9318 1333.09 L73.9318 1337.02 L51.9875 1337.02 L51.9875 1333.09 Q54.6495 1330.33 59.2328 1325.71 Q63.8393 1321.05 65.0198 1319.71 Q67.2652 1317.19 68.1448 1315.45 Q69.0476 1313.69 69.0476 1312 Q69.0476 1309.25 67.1032 1307.51 Q65.1819 1305.77 62.08 1305.77 Q59.881 1305.77 57.4273 1306.54 Q54.9967 1307.3 52.219 1308.85 L52.219 1304.13 Q55.043 1303 57.4967 1302.42 Q59.9504 1301.84 61.9874 1301.84 Q67.3578 1301.84 70.5522 1304.52 Q73.7466 1307.21 73.7466 1311.7 Q73.7466 1313.83 72.9365 1315.75 Q72.1494 1317.65 70.0429 1320.24 Q69.4642 1320.91 66.3624 1324.13 Q63.2606 1327.33 57.6125 1333.09 Z\" fill=\"#000000\" fill-rule=\"nonzero\" fill-opacity=\"1\" /><path clip-path=\"url(#clip860)\" d=\"M94.3252 1317.88 Q91.1771 1317.88 89.3253 1320.03 Q87.4966 1322.19 87.4966 1325.94 Q87.4966 1329.66 89.3253 1331.84 Q91.1771 1333.99 94.3252 1333.99 Q97.4734 1333.99 99.3021 1331.84 Q101.154 1329.66 101.154 1325.94 Q101.154 1322.19 99.3021 1320.03 Q97.4734 1317.88 94.3252 1317.88 M103.608 1303.23 L103.608 1307.49 Q101.848 1306.65 100.043 1306.21 Q98.2604 1305.77 96.5011 1305.77 Q91.8715 1305.77 89.4178 1308.9 Q86.9873 1312.02 86.6401 1318.34 Q88.0058 1316.33 90.066 1315.27 Q92.1262 1314.18 94.603 1314.18 Q99.8113 1314.18 102.821 1317.35 Q105.853 1320.5 105.853 1325.94 Q105.853 1331.26 102.705 1334.48 Q99.5567 1337.7 94.3252 1337.7 Q88.3299 1337.7 85.1586 1333.11 Q81.9873 1328.51 81.9873 1319.78 Q81.9873 1311.58 85.8762 1306.72 Q89.7651 1301.84 96.316 1301.84 Q98.0752 1301.84 99.8576 1302.19 Q101.663 1302.53 103.608 1303.23 Z\" fill=\"#000000\" fill-rule=\"nonzero\" fill-opacity=\"1\" /><path clip-path=\"url(#clip860)\" d=\"M113.908 1331.14 L118.793 1331.14 L118.793 1337.02 L113.908 1337.02 L113.908 1331.14 Z\" fill=\"#000000\" fill-rule=\"nonzero\" fill-opacity=\"1\" /><path clip-path=\"url(#clip860)\" d=\"M133.006 1333.09 L149.325 1333.09 L149.325 1337.02 L127.381 1337.02 L127.381 1333.09 Q130.043 1330.33 134.626 1325.71 Q139.232 1321.05 140.413 1319.71 Q142.658 1317.19 143.538 1315.45 Q144.441 1313.69 144.441 1312 Q144.441 1309.25 142.496 1307.51 Q140.575 1305.77 137.473 1305.77 Q135.274 1305.77 132.82 1306.54 Q130.39 1307.3 127.612 1308.85 L127.612 1304.13 Q130.436 1303 132.89 1302.42 Q135.344 1301.84 137.381 1301.84 Q142.751 1301.84 145.945 1304.52 Q149.14 1307.21 149.14 1311.7 Q149.14 1313.83 148.33 1315.75 Q147.543 1317.65 145.436 1320.24 Q144.857 1320.91 141.756 1324.13 Q138.654 1327.33 133.006 1333.09 Z\" fill=\"#000000\" fill-rule=\"nonzero\" fill-opacity=\"1\" /><path clip-path=\"url(#clip860)\" d=\"M159.186 1302.46 L177.542 1302.46 L177.542 1306.4 L163.468 1306.4 L163.468 1314.87 Q164.487 1314.52 165.505 1314.36 Q166.524 1314.18 167.542 1314.18 Q173.329 1314.18 176.709 1317.35 Q180.089 1320.52 180.089 1325.94 Q180.089 1331.52 176.616 1334.62 Q173.144 1337.7 166.825 1337.7 Q164.649 1337.7 162.38 1337.33 Q160.135 1336.95 157.728 1336.21 L157.728 1331.52 Q159.811 1332.65 162.033 1333.21 Q164.255 1333.76 166.732 1333.76 Q170.737 1333.76 173.075 1331.65 Q175.413 1329.55 175.413 1325.94 Q175.413 1322.33 173.075 1320.22 Q170.737 1318.11 166.732 1318.11 Q164.857 1318.11 162.982 1318.53 Q161.13 1318.95 159.186 1319.83 L159.186 1302.46 Z\" fill=\"#000000\" fill-rule=\"nonzero\" fill-opacity=\"1\" /><path clip-path=\"url(#clip860)\" d=\"M56.6171 1020.01 L72.9365 1020.01 L72.9365 1023.94 L50.9921 1023.94 L50.9921 1020.01 Q53.6541 1017.25 58.2375 1012.62 Q62.8439 1007.97 64.0245 1006.63 Q66.2698 1004.11 67.1494 1002.37 Q68.0522 1000.61 68.0522 998.921 Q68.0522 996.166 66.1078 994.43 Q64.1865 992.694 61.0847 992.694 Q58.8856 992.694 56.4319 993.458 Q54.0014 994.222 51.2236 995.773 L51.2236 991.05 Q54.0477 989.916 56.5014 989.337 Q58.955 988.759 60.9921 988.759 Q66.3624 988.759 69.5568 991.444 Q72.7513 994.129 72.7513 998.62 Q72.7513 1000.75 71.9411 1002.67 Q71.1541 1004.57 69.0476 1007.16 Q68.4689 1007.83 65.367 1011.05 Q62.2652 1014.24 56.6171 1020.01 Z\" fill=\"#000000\" fill-rule=\"nonzero\" fill-opacity=\"1\" /><path clip-path=\"url(#clip860)\" d=\"M93.3299 1004.8 Q90.1817 1004.8 88.3299 1006.95 Q86.5012 1009.11 86.5012 1012.86 Q86.5012 1016.58 88.3299 1018.76 Q90.1817 1020.91 93.3299 1020.91 Q96.478 1020.91 98.3067 1018.76 Q100.159 1016.58 100.159 1012.86 Q100.159 1009.11 98.3067 1006.95 Q96.478 1004.8 93.3299 1004.8 M102.612 990.148 L102.612 994.407 Q100.853 993.573 99.0474 993.134 Q97.265 992.694 95.5058 992.694 Q90.8762 992.694 88.4225 995.819 Q85.9919 998.944 85.6447 1005.26 Q87.0105 1003.25 89.0706 1002.18 Q91.1308 1001.1 93.6076 1001.1 Q98.8159 1001.1 101.825 1004.27 Q104.858 1007.42 104.858 1012.86 Q104.858 1018.18 101.709 1021.4 Q98.5613 1024.61 93.3299 1024.61 Q87.3345 1024.61 84.1632 1020.03 Q80.992 1015.43 80.992 1006.7 Q80.992 998.504 84.8808 993.643 Q88.7697 988.759 95.3206 988.759 Q97.0798 988.759 98.8622 989.106 Q100.668 989.453 102.612 990.148 Z\" fill=\"#000000\" fill-rule=\"nonzero\" fill-opacity=\"1\" /><path clip-path=\"url(#clip860)\" d=\"M112.913 1018.06 L117.797 1018.06 L117.797 1023.94 L112.913 1023.94 L112.913 1018.06 Z\" fill=\"#000000\" fill-rule=\"nonzero\" fill-opacity=\"1\" /><path clip-path=\"url(#clip860)\" d=\"M128.029 989.384 L146.385 989.384 L146.385 993.319 L132.311 993.319 L132.311 1001.79 Q133.33 1001.44 134.348 1001.28 Q135.367 1001.1 136.385 1001.1 Q142.172 1001.1 145.552 1004.27 Q148.931 1007.44 148.931 1012.86 Q148.931 1018.43 145.459 1021.54 Q141.987 1024.61 135.668 1024.61 Q133.492 1024.61 131.223 1024.24 Q128.978 1023.87 126.57 1023.13 L126.57 1018.43 Q128.654 1019.57 130.876 1020.12 Q133.098 1020.68 135.575 1020.68 Q139.58 1020.68 141.918 1018.57 Q144.256 1016.47 144.256 1012.86 Q144.256 1009.24 141.918 1007.14 Q139.58 1005.03 135.575 1005.03 Q133.7 1005.03 131.825 1005.45 Q129.973 1005.87 128.029 1006.74 L128.029 989.384 Z\" fill=\"#000000\" fill-rule=\"nonzero\" fill-opacity=\"1\" /><path clip-path=\"url(#clip860)\" d=\"M168.144 992.462 Q164.533 992.462 162.704 996.027 Q160.899 999.569 160.899 1006.7 Q160.899 1013.8 162.704 1017.37 Q164.533 1020.91 168.144 1020.91 Q171.779 1020.91 173.584 1017.37 Q175.413 1013.8 175.413 1006.7 Q175.413 999.569 173.584 996.027 Q171.779 992.462 168.144 992.462 M168.144 988.759 Q173.954 988.759 177.01 993.365 Q180.089 997.948 180.089 1006.7 Q180.089 1015.43 177.01 1020.03 Q173.954 1024.61 168.144 1024.61 Q162.334 1024.61 159.255 1020.03 Q156.2 1015.43 156.2 1006.7 Q156.2 997.948 159.255 993.365 Q162.334 988.759 168.144 988.759 Z\" fill=\"#000000\" fill-rule=\"nonzero\" fill-opacity=\"1\" /><path clip-path=\"url(#clip860)\" d=\"M57.6125 706.928 L73.9318 706.928 L73.9318 710.863 L51.9875 710.863 L51.9875 706.928 Q54.6495 704.173 59.2328 699.544 Q63.8393 694.891 65.0198 693.548 Q67.2652 691.025 68.1448 689.289 Q69.0476 687.53 69.0476 685.84 Q69.0476 683.085 67.1032 681.349 Q65.1819 679.613 62.08 679.613 Q59.881 679.613 57.4273 680.377 Q54.9967 681.141 52.219 682.692 L52.219 677.97 Q55.043 676.835 57.4967 676.257 Q59.9504 675.678 61.9874 675.678 Q67.3578 675.678 70.5522 678.363 Q73.7466 681.048 73.7466 685.539 Q73.7466 687.669 72.9365 689.59 Q72.1494 691.488 70.0429 694.081 Q69.4642 694.752 66.3624 697.97 Q63.2606 701.164 57.6125 706.928 Z\" fill=\"#000000\" fill-rule=\"nonzero\" fill-opacity=\"1\" /><path clip-path=\"url(#clip860)\" d=\"M94.3252 691.72 Q91.1771 691.72 89.3253 693.872 Q87.4966 696.025 87.4966 699.775 Q87.4966 703.502 89.3253 705.678 Q91.1771 707.831 94.3252 707.831 Q97.4734 707.831 99.3021 705.678 Q101.154 703.502 101.154 699.775 Q101.154 696.025 99.3021 693.872 Q97.4734 691.72 94.3252 691.72 M103.608 677.067 L103.608 681.326 Q101.848 680.493 100.043 680.053 Q98.2604 679.613 96.5011 679.613 Q91.8715 679.613 89.4178 682.738 Q86.9873 685.863 86.6401 692.183 Q88.0058 690.169 90.066 689.104 Q92.1262 688.016 94.603 688.016 Q99.8113 688.016 102.821 691.187 Q105.853 694.335 105.853 699.775 Q105.853 705.099 102.705 708.317 Q99.5567 711.534 94.3252 711.534 Q88.3299 711.534 85.1586 706.951 Q81.9873 702.345 81.9873 693.618 Q81.9873 685.423 85.8762 680.562 Q89.7651 675.678 96.316 675.678 Q98.0752 675.678 99.8576 676.025 Q101.663 676.372 103.608 677.067 Z\" fill=\"#000000\" fill-rule=\"nonzero\" fill-opacity=\"1\" /><path clip-path=\"url(#clip860)\" d=\"M113.908 704.983 L118.793 704.983 L118.793 710.863 L113.908 710.863 L113.908 704.983 Z\" fill=\"#000000\" fill-rule=\"nonzero\" fill-opacity=\"1\" /><path clip-path=\"url(#clip860)\" d=\"M127.797 676.303 L150.019 676.303 L150.019 678.294 L137.473 710.863 L132.589 710.863 L144.394 680.238 L127.797 680.238 L127.797 676.303 Z\" fill=\"#000000\" fill-rule=\"nonzero\" fill-opacity=\"1\" /><path clip-path=\"url(#clip860)\" d=\"M159.186 676.303 L177.542 676.303 L177.542 680.238 L163.468 680.238 L163.468 688.71 Q164.487 688.363 165.505 688.201 Q166.524 688.016 167.542 688.016 Q173.329 688.016 176.709 691.187 Q180.089 694.358 180.089 699.775 Q180.089 705.354 176.616 708.456 Q173.144 711.534 166.825 711.534 Q164.649 711.534 162.38 711.164 Q160.135 710.794 157.728 710.053 L157.728 705.354 Q159.811 706.488 162.033 707.044 Q164.255 707.599 166.732 707.599 Q170.737 707.599 173.075 705.493 Q175.413 703.386 175.413 699.775 Q175.413 696.164 173.075 694.058 Q170.737 691.951 166.732 691.951 Q164.857 691.951 162.982 692.368 Q161.13 692.784 159.186 693.664 L159.186 676.303 Z\" fill=\"#000000\" fill-rule=\"nonzero\" fill-opacity=\"1\" /><path clip-path=\"url(#clip860)\" d=\"M56.6171 393.847 L72.9365 393.847 L72.9365 397.782 L50.9921 397.782 L50.9921 393.847 Q53.6541 391.092 58.2375 386.463 Q62.8439 381.81 64.0245 380.468 Q66.2698 377.944 67.1494 376.208 Q68.0522 374.449 68.0522 372.759 Q68.0522 370.005 66.1078 368.269 Q64.1865 366.532 61.0847 366.532 Q58.8856 366.532 56.4319 367.296 Q54.0014 368.06 51.2236 369.611 L51.2236 364.889 Q54.0477 363.755 56.5014 363.176 Q58.955 362.597 60.9921 362.597 Q66.3624 362.597 69.5568 365.282 Q72.7513 367.968 72.7513 372.458 Q72.7513 374.588 71.9411 376.509 Q71.1541 378.407 69.0476 381 Q68.4689 381.671 65.367 384.889 Q62.2652 388.083 56.6171 393.847 Z\" fill=\"#000000\" fill-rule=\"nonzero\" fill-opacity=\"1\" /><path clip-path=\"url(#clip860)\" d=\"M81.5707 363.222 L103.793 363.222 L103.793 365.213 L91.2465 397.782 L86.3623 397.782 L98.1678 367.157 L81.5707 367.157 L81.5707 363.222 Z\" fill=\"#000000\" fill-rule=\"nonzero\" fill-opacity=\"1\" /><path clip-path=\"url(#clip860)\" d=\"M112.913 391.903 L117.797 391.903 L117.797 397.782 L112.913 397.782 L112.913 391.903 Z\" fill=\"#000000\" fill-rule=\"nonzero\" fill-opacity=\"1\" /><path clip-path=\"url(#clip860)\" d=\"M137.982 366.301 Q134.371 366.301 132.543 369.866 Q130.737 373.407 130.737 380.537 Q130.737 387.643 132.543 391.208 Q134.371 394.75 137.982 394.75 Q141.617 394.75 143.422 391.208 Q145.251 387.643 145.251 380.537 Q145.251 373.407 143.422 369.866 Q141.617 366.301 137.982 366.301 M137.982 362.597 Q143.793 362.597 146.848 367.204 Q149.927 371.787 149.927 380.537 Q149.927 389.264 146.848 393.87 Q143.793 398.454 137.982 398.454 Q132.172 398.454 129.094 393.87 Q126.038 389.264 126.038 380.537 Q126.038 371.787 129.094 367.204 Q132.172 362.597 137.982 362.597 Z\" fill=\"#000000\" fill-rule=\"nonzero\" fill-opacity=\"1\" /><path clip-path=\"url(#clip860)\" d=\"M168.144 366.301 Q164.533 366.301 162.704 369.866 Q160.899 373.407 160.899 380.537 Q160.899 387.643 162.704 391.208 Q164.533 394.75 168.144 394.75 Q171.779 394.75 173.584 391.208 Q175.413 387.643 175.413 380.537 Q175.413 373.407 173.584 369.866 Q171.779 366.301 168.144 366.301 M168.144 362.597 Q173.954 362.597 177.01 367.204 Q180.089 371.787 180.089 380.537 Q180.089 389.264 177.01 393.87 Q173.954 398.454 168.144 398.454 Q162.334 398.454 159.255 393.87 Q156.2 389.264 156.2 380.537 Q156.2 371.787 159.255 367.204 Q162.334 362.597 168.144 362.597 Z\" fill=\"#000000\" fill-rule=\"nonzero\" fill-opacity=\"1\" /><path clip-path=\"url(#clip860)\" d=\"M757.744 43.6931 L757.744 65.8515 L770.869 65.8515 Q777.472 65.8515 780.632 63.1374 Q783.832 60.3828 783.832 54.752 Q783.832 49.0808 780.632 46.4072 Q777.472 43.6931 770.869 43.6931 L757.744 43.6931 M757.744 18.8205 L757.744 37.0496 L769.856 37.0496 Q775.852 37.0496 778.768 34.8216 Q781.725 32.5531 781.725 27.935 Q781.725 23.3575 778.768 21.089 Q775.852 18.8205 769.856 18.8205 L757.744 18.8205 M749.561 12.096 L770.464 12.096 Q779.821 12.096 784.885 15.9849 Q789.949 19.8737 789.949 27.0438 Q789.949 32.5936 787.356 35.8748 Q784.764 39.156 779.74 39.9662 Q785.776 41.2625 789.098 45.3944 Q792.46 49.4858 792.46 55.6432 Q792.46 63.745 786.951 68.1605 Q781.442 72.576 771.274 72.576 L749.561 72.576 L749.561 12.096 Z\" fill=\"#000000\" fill-rule=\"nonzero\" fill-opacity=\"1\" /><path clip-path=\"url(#clip860)\" d=\"M844.96 48.0275 L844.96 51.6733 L810.689 51.6733 Q811.175 59.3701 815.307 63.421 Q819.48 67.4314 826.893 67.4314 Q831.187 67.4314 835.197 66.3781 Q839.248 65.3249 843.218 63.2184 L843.218 70.267 Q839.208 71.9684 834.995 72.8596 Q830.782 73.7508 826.447 73.7508 Q815.591 73.7508 809.231 67.4314 Q802.912 61.1119 802.912 50.3365 Q802.912 39.1965 808.907 32.6746 Q814.943 26.1121 825.151 26.1121 Q834.306 26.1121 839.613 32.0264 Q844.96 37.9003 844.96 48.0275 M837.506 45.84 Q837.425 39.7232 834.063 36.0774 Q830.741 32.4315 825.232 32.4315 Q818.994 32.4315 815.226 35.9558 Q811.499 39.4801 810.932 45.8805 L837.506 45.84 Z\" fill=\"#000000\" fill-rule=\"nonzero\" fill-opacity=\"1\" /><path clip-path=\"url(#clip860)\" d=\"M857.437 9.54393 L864.89 9.54393 L864.89 33.9304 L869.954 30.2846 L873.033 34.5785 L864.89 40.2903 L864.89 72.576 L857.437 72.576 L857.437 45.597 L852.454 49.1618 L849.456 44.8678 L857.437 39.156 L857.437 9.54393 Z\" fill=\"#000000\" fill-rule=\"nonzero\" fill-opacity=\"1\" /><path clip-path=\"url(#clip860)\" d=\"M913.42 28.9478 L913.42 35.9153 Q910.261 34.1734 907.06 33.3227 Q903.901 32.4315 900.66 32.4315 Q893.409 32.4315 889.398 37.0496 Q885.388 41.6271 885.388 49.9314 Q885.388 58.2358 889.398 62.8538 Q893.409 67.4314 900.66 67.4314 Q903.901 67.4314 907.06 66.5807 Q910.261 65.6895 913.42 63.9476 L913.42 70.8341 Q910.301 72.2924 906.939 73.0216 Q903.617 73.7508 899.85 73.7508 Q889.601 73.7508 883.565 67.3098 Q877.529 60.8689 877.529 49.9314 Q877.529 38.832 883.606 32.472 Q889.722 26.1121 900.336 26.1121 Q903.779 26.1121 907.06 26.8413 Q910.342 27.5299 913.42 28.9478 Z\" fill=\"#000000\" fill-rule=\"nonzero\" fill-opacity=\"1\" /><path clip-path=\"url(#clip860)\" d=\"M964.097 45.1919 L964.097 72.576 L956.643 72.576 L956.643 45.4349 Q956.643 38.994 954.132 35.7938 Q951.62 32.5936 946.597 32.5936 Q940.561 32.5936 937.077 36.4419 Q933.594 40.2903 933.594 46.9338 L933.594 72.576 L926.1 72.576 L926.1 9.54393 L933.594 9.54393 L933.594 34.2544 Q936.267 30.163 939.873 28.1376 Q943.518 26.1121 948.258 26.1121 Q956.076 26.1121 960.087 30.9732 Q964.097 35.7938 964.097 45.1919 Z\" fill=\"#000000\" fill-rule=\"nonzero\" fill-opacity=\"1\" /><path clip-path=\"url(#clip860)\" d=\"M999.583 49.7694 Q990.549 49.7694 987.066 51.8354 Q983.582 53.9013 983.582 58.8839 Q983.582 62.8538 986.174 65.2034 Q988.808 67.5124 993.304 67.5124 Q999.502 67.5124 1003.23 63.1374 Q1007 58.7219 1007 51.4303 L1007 49.7694 L999.583 49.7694 M1014.45 46.6907 L1014.45 72.576 L1007 72.576 L1007 65.6895 Q1004.44 69.8214 1000.64 71.8063 Q996.828 73.7508 991.319 73.7508 Q984.352 73.7508 980.22 69.8619 Q976.128 65.9325 976.128 59.3701 Q976.128 51.7138 981.232 47.825 Q986.377 43.9361 996.545 43.9361 L1007 43.9361 L1007 43.2069 Q1007 38.0623 1003.59 35.2672 Q1000.23 32.4315 994.114 32.4315 Q990.225 32.4315 986.539 33.3632 Q982.853 34.295 979.45 36.1584 L979.45 29.2718 Q983.541 27.692 987.39 26.9223 Q991.238 26.1121 994.884 26.1121 Q1004.73 26.1121 1009.59 31.2163 Q1014.45 36.3204 1014.45 46.6907 Z\" fill=\"#000000\" fill-rule=\"nonzero\" fill-opacity=\"1\" /><path clip-path=\"url(#clip860)\" d=\"M1037.18 14.324 L1037.18 27.2059 L1052.53 27.2059 L1052.53 32.9987 L1037.18 32.9987 L1037.18 57.6282 Q1037.18 63.1779 1038.67 64.7578 Q1040.21 66.3376 1044.87 66.3376 L1052.53 66.3376 L1052.53 72.576 L1044.87 72.576 Q1036.24 72.576 1032.96 69.3758 Q1029.68 66.1351 1029.68 57.6282 L1029.68 32.9987 L1024.21 32.9987 L1024.21 27.2059 L1029.68 27.2059 L1029.68 14.324 L1037.18 14.324 Z\" fill=\"#000000\" fill-rule=\"nonzero\" fill-opacity=\"1\" /><path clip-path=\"url(#clip860)\" d=\"M1079.91 32.4315 Q1073.92 32.4315 1070.43 37.1306 Q1066.95 41.7891 1066.95 49.9314 Q1066.95 58.0738 1070.39 62.7728 Q1073.88 67.4314 1079.91 67.4314 Q1085.87 67.4314 1089.35 62.7323 Q1092.83 58.0333 1092.83 49.9314 Q1092.83 41.8701 1089.35 37.1711 Q1085.87 32.4315 1079.91 32.4315 M1079.91 26.1121 Q1089.63 26.1121 1095.18 32.4315 Q1100.73 38.7509 1100.73 49.9314 Q1100.73 61.0714 1095.18 67.4314 Q1089.63 73.7508 1079.91 73.7508 Q1070.15 73.7508 1064.6 67.4314 Q1059.09 61.0714 1059.09 49.9314 Q1059.09 38.7509 1064.6 32.4315 Q1070.15 26.1121 1079.91 26.1121 M1085.54 6.22219 L1093.6 6.22219 L1080.4 21.4536 L1074.2 21.4536 L1085.54 6.22219 Z\" fill=\"#000000\" fill-rule=\"nonzero\" fill-opacity=\"1\" /><path clip-path=\"url(#clip860)\" d=\"M1108.75 27.2059 L1116.21 27.2059 L1125.53 62.6108 L1134.8 27.2059 L1143.59 27.2059 L1152.91 62.6108 L1162.19 27.2059 L1169.64 27.2059 L1157.77 72.576 L1148.98 72.576 L1139.22 35.3887 L1129.41 72.576 L1120.62 72.576 L1108.75 27.2059 Z\" fill=\"#000000\" fill-rule=\"nonzero\" fill-opacity=\"1\" /><path clip-path=\"url(#clip860)\" d=\"M1203.55 46.5287 L1225.38 46.5287 L1225.38 53.1722 L1203.55 53.1722 L1203.55 46.5287 Z\" fill=\"#000000\" fill-rule=\"nonzero\" fill-opacity=\"1\" /><path clip-path=\"url(#clip860)\" d=\"M1272.13 43.6931 L1272.13 65.8515 L1285.25 65.8515 Q1291.86 65.8515 1295.02 63.1374 Q1298.22 60.3828 1298.22 54.752 Q1298.22 49.0808 1295.02 46.4072 Q1291.86 43.6931 1285.25 43.6931 L1272.13 43.6931 M1272.13 18.8205 L1272.13 37.0496 L1284.24 37.0496 Q1290.24 37.0496 1293.15 34.8216 Q1296.11 32.5531 1296.11 27.935 Q1296.11 23.3575 1293.15 21.089 Q1290.24 18.8205 1284.24 18.8205 L1272.13 18.8205 M1263.94 12.096 L1284.85 12.096 Q1294.21 12.096 1299.27 15.9849 Q1304.33 19.8737 1304.33 27.0438 Q1304.33 32.5936 1301.74 35.8748 Q1299.15 39.156 1294.12 39.9662 Q1300.16 41.2625 1303.48 45.3944 Q1306.84 49.4858 1306.84 55.6432 Q1306.84 63.745 1301.33 68.1605 Q1295.83 72.576 1285.66 72.576 L1263.94 72.576 L1263.94 12.096 Z\" fill=\"#000000\" fill-rule=\"nonzero\" fill-opacity=\"1\" /><path clip-path=\"url(#clip860)\" d=\"M1346.83 34.1734 Q1345.57 33.4443 1344.07 33.1202 Q1342.61 32.7556 1340.83 32.7556 Q1334.51 32.7556 1331.11 36.8875 Q1327.75 40.9789 1327.75 48.6757 L1327.75 72.576 L1320.25 72.576 L1320.25 27.2059 L1327.75 27.2059 L1327.75 34.2544 Q1330.1 30.1225 1333.86 28.1376 Q1337.63 26.1121 1343.02 26.1121 Q1343.79 26.1121 1344.72 26.2337 Q1345.65 26.3147 1346.79 26.5172 L1346.83 34.1734 Z\" fill=\"#000000\" fill-rule=\"nonzero\" fill-opacity=\"1\" /><path clip-path=\"url(#clip860)\" d=\"M1370.4 32.4315 Q1364.41 32.4315 1360.92 37.1306 Q1357.44 41.7891 1357.44 49.9314 Q1357.44 58.0738 1360.88 62.7728 Q1364.37 67.4314 1370.4 67.4314 Q1376.36 67.4314 1379.84 62.7323 Q1383.33 58.0333 1383.33 49.9314 Q1383.33 41.8701 1379.84 37.1711 Q1376.36 32.4315 1370.4 32.4315 M1370.4 26.1121 Q1380.12 26.1121 1385.67 32.4315 Q1391.22 38.7509 1391.22 49.9314 Q1391.22 61.0714 1385.67 67.4314 Q1380.12 73.7508 1370.4 73.7508 Q1360.64 73.7508 1355.09 67.4314 Q1349.58 61.0714 1349.58 49.9314 Q1349.58 38.7509 1355.09 32.4315 Q1360.64 26.1121 1370.4 26.1121 Z\" fill=\"#000000\" fill-rule=\"nonzero\" fill-opacity=\"1\" /><path clip-path=\"url(#clip860)\" d=\"M1399.25 27.2059 L1406.7 27.2059 L1416.02 62.6108 L1425.29 27.2059 L1434.08 27.2059 L1443.4 62.6108 L1452.68 27.2059 L1460.13 27.2059 L1448.26 72.576 L1439.47 72.576 L1429.71 35.3887 L1419.9 72.576 L1411.11 72.576 L1399.25 27.2059 Z\" fill=\"#000000\" fill-rule=\"nonzero\" fill-opacity=\"1\" /><path clip-path=\"url(#clip860)\" d=\"M1509.15 45.1919 L1509.15 72.576 L1501.69 72.576 L1501.69 45.4349 Q1501.69 38.994 1499.18 35.7938 Q1496.67 32.5936 1491.65 32.5936 Q1485.61 32.5936 1482.13 36.4419 Q1478.64 40.2903 1478.64 46.9338 L1478.64 72.576 L1471.15 72.576 L1471.15 27.2059 L1478.64 27.2059 L1478.64 34.2544 Q1481.32 30.163 1484.92 28.1376 Q1488.57 26.1121 1493.31 26.1121 Q1501.13 26.1121 1505.14 30.9732 Q1509.15 35.7938 1509.15 45.1919 Z\" fill=\"#000000\" fill-rule=\"nonzero\" fill-opacity=\"1\" /><path clip-path=\"url(#clip860)\" d=\"M1550.71 12.096 L1558.89 12.096 L1558.89 65.6895 L1588.34 65.6895 L1588.34 72.576 L1550.71 72.576 L1550.71 12.096 Z\" fill=\"#000000\" fill-rule=\"nonzero\" fill-opacity=\"1\" /><path clip-path=\"url(#clip860)\" d=\"M1596.61 27.2059 L1604.06 27.2059 L1604.06 72.576 L1596.61 72.576 L1596.61 27.2059 M1596.61 9.54393 L1604.06 9.54393 L1604.06 18.9825 L1596.61 18.9825 L1596.61 9.54393 Z\" fill=\"#000000\" fill-rule=\"nonzero\" fill-opacity=\"1\" /><path clip-path=\"url(#clip860)\" d=\"M1649.51 49.3643 Q1649.51 41.2625 1646.15 36.8065 Q1642.83 32.3505 1636.79 32.3505 Q1630.79 32.3505 1627.43 36.8065 Q1624.11 41.2625 1624.11 49.3643 Q1624.11 57.4256 1627.43 61.8816 Q1630.79 66.3376 1636.79 66.3376 Q1642.83 66.3376 1646.15 61.8816 Q1649.51 57.4256 1649.51 49.3643 M1656.96 66.9452 Q1656.96 78.5308 1651.82 84.1616 Q1646.67 89.8329 1636.06 89.8329 Q1632.13 89.8329 1628.65 89.2252 Q1625.16 88.6581 1621.88 87.4428 L1621.88 80.1917 Q1625.16 81.9741 1628.36 82.8248 Q1631.56 83.6755 1634.89 83.6755 Q1642.22 83.6755 1645.86 79.8271 Q1649.51 76.0193 1649.51 68.282 L1649.51 64.5957 Q1647.2 68.6061 1643.6 70.5911 Q1639.99 72.576 1634.97 72.576 Q1626.62 72.576 1621.52 66.2161 Q1616.41 59.8562 1616.41 49.3643 Q1616.41 38.832 1621.52 32.472 Q1626.62 26.1121 1634.97 26.1121 Q1639.99 26.1121 1643.6 28.0971 Q1647.2 30.082 1649.51 34.0924 L1649.51 27.2059 L1656.96 27.2059 L1656.96 66.9452 Z\" fill=\"#000000\" fill-rule=\"nonzero\" fill-opacity=\"1\" /><path clip-path=\"url(#clip860)\" d=\"M1710.03 45.1919 L1710.03 72.576 L1702.58 72.576 L1702.58 45.4349 Q1702.58 38.994 1700.07 35.7938 Q1697.55 32.5936 1692.53 32.5936 Q1686.49 32.5936 1683.01 36.4419 Q1679.53 40.2903 1679.53 46.9338 L1679.53 72.576 L1672.03 72.576 L1672.03 27.2059 L1679.53 27.2059 L1679.53 34.2544 Q1682.2 30.163 1685.81 28.1376 Q1689.45 26.1121 1694.19 26.1121 Q1702.01 26.1121 1706.02 30.9732 Q1710.03 35.7938 1710.03 45.1919 Z\" fill=\"#000000\" fill-rule=\"nonzero\" fill-opacity=\"1\" /><path clip-path=\"url(#clip860)\" d=\"M1724.9 27.2059 L1732.35 27.2059 L1732.35 72.576 L1724.9 72.576 L1724.9 27.2059 M1724.9 9.54393 L1732.35 9.54393 L1732.35 18.9825 L1724.9 18.9825 L1724.9 9.54393 Z\" fill=\"#000000\" fill-rule=\"nonzero\" fill-opacity=\"1\" /><path clip-path=\"url(#clip860)\" d=\"M1755.32 14.324 L1755.32 27.2059 L1770.67 27.2059 L1770.67 32.9987 L1755.32 32.9987 L1755.32 57.6282 Q1755.32 63.1779 1756.82 64.7578 Q1758.36 66.3376 1763.02 66.3376 L1770.67 66.3376 L1770.67 72.576 L1763.02 72.576 Q1754.39 72.576 1751.11 69.3758 Q1747.83 66.1351 1747.83 57.6282 L1747.83 32.9987 L1742.36 32.9987 L1742.36 27.2059 L1747.83 27.2059 L1747.83 14.324 L1755.32 14.324 Z\" fill=\"#000000\" fill-rule=\"nonzero\" fill-opacity=\"1\" /><path clip-path=\"url(#clip860)\" d=\"M1819.28 48.0275 L1819.28 51.6733 L1785.01 51.6733 Q1785.5 59.3701 1789.63 63.421 Q1793.8 67.4314 1801.22 67.4314 Q1805.51 67.4314 1809.52 66.3781 Q1813.57 65.3249 1817.54 63.2184 L1817.54 70.267 Q1813.53 71.9684 1809.32 72.8596 Q1805.11 73.7508 1800.77 73.7508 Q1789.91 73.7508 1783.55 67.4314 Q1777.24 61.1119 1777.24 50.3365 Q1777.24 39.1965 1783.23 32.6746 Q1789.27 26.1121 1799.47 26.1121 Q1808.63 26.1121 1813.94 32.0264 Q1819.28 37.9003 1819.28 48.0275 M1811.83 45.84 Q1811.75 39.7232 1808.39 36.0774 Q1805.06 32.4315 1799.56 32.4315 Q1793.32 32.4315 1789.55 35.9558 Q1785.82 39.4801 1785.26 45.8805 L1811.83 45.84 Z\" fill=\"#000000\" fill-rule=\"nonzero\" fill-opacity=\"1\" /><polyline clip-path=\"url(#clip862)\" style=\"stroke:#009af9; stroke-linecap:round; stroke-linejoin:round; stroke-width:4; stroke-opacity:1; fill:none\" points=\"276.56,172.746 459.808,449.61 643.056,870.552 826.303,1082.75 1009.55,1167.47 1192.8,1427.89 1376.05,1146.79 1559.29,1332.77 1742.54,843.607 1925.79,843.944 2109.04,275.081 2292.28,808.12 \"/>\n",
       "<polyline clip-path=\"url(#clip862)\" style=\"stroke:#e26f46; stroke-linecap:round; stroke-linejoin:round; stroke-width:4; stroke-opacity:1; fill:none\" points=\"276.56,166.209 459.808,447.747 643.056,865.204 826.303,1073.72 1009.55,1196.88 1192.8,1447.87 1376.05,1145.36 1559.29,1332.32 1742.54,843.746 1925.79,836.963 2109.04,266.506 2292.28,798.809 \"/>\n",
       "<polyline clip-path=\"url(#clip862)\" style=\"stroke:#3da44d; stroke-linecap:round; stroke-linejoin:round; stroke-width:4; stroke-opacity:1; fill:none\" points=\"276.56,162.047 459.808,442.797 643.056,851.982 826.303,1095.58 1009.55,1175.77 1192.8,1428.29 1376.05,1147.44 1559.29,1341.22 1742.54,847.441 1925.79,841.046 2109.04,284.071 2292.28,803.652 \"/>\n",
       "<path clip-path=\"url(#clip860)\" d=\"M1634.42 1441.02 L2281.53 1441.02 L2281.53 1233.66 L1634.42 1233.66  Z\" fill=\"#ffffff\" fill-rule=\"evenodd\" fill-opacity=\"1\"/>\n",
       "<polyline clip-path=\"url(#clip860)\" style=\"stroke:#000000; stroke-linecap:round; stroke-linejoin:round; stroke-width:4; stroke-opacity:1; fill:none\" points=\"1634.42,1441.02 2281.53,1441.02 2281.53,1233.66 1634.42,1233.66 1634.42,1441.02 \"/>\n",
       "<polyline clip-path=\"url(#clip860)\" style=\"stroke:#009af9; stroke-linecap:round; stroke-linejoin:round; stroke-width:4; stroke-opacity:1; fill:none\" points=\"1658.16,1285.5 1800.61,1285.5 \"/>\n",
       "<path clip-path=\"url(#clip860)\" d=\"M1824.35 1268.22 L1844.21 1268.22 L1844.21 1272.15 L1829.02 1272.15 L1829.02 1282.34 L1842.73 1282.34 L1842.73 1286.27 L1829.02 1286.27 L1829.02 1302.78 L1824.35 1302.78 L1824.35 1268.22 Z\" fill=\"#000000\" fill-rule=\"nonzero\" fill-opacity=\"1\" /><path clip-path=\"url(#clip860)\" d=\"M1848.4 1292.54 L1848.4 1276.85 L1852.66 1276.85 L1852.66 1292.38 Q1852.66 1296.06 1854.09 1297.91 Q1855.53 1299.74 1858.4 1299.74 Q1861.85 1299.74 1863.84 1297.54 Q1865.85 1295.34 1865.85 1291.55 L1865.85 1276.85 L1870.11 1276.85 L1870.11 1302.78 L1865.85 1302.78 L1865.85 1298.79 Q1864.3 1301.15 1862.24 1302.31 Q1860.2 1303.45 1857.49 1303.45 Q1853.03 1303.45 1850.71 1300.67 Q1848.4 1297.89 1848.4 1292.54 M1859.11 1276.22 L1859.11 1276.22 Z\" fill=\"#000000\" fill-rule=\"nonzero\" fill-opacity=\"1\" /><path clip-path=\"url(#clip860)\" d=\"M1878.88 1266.76 L1883.14 1266.76 L1883.14 1302.78 L1878.88 1302.78 L1878.88 1266.76 Z\" fill=\"#000000\" fill-rule=\"nonzero\" fill-opacity=\"1\" /><path clip-path=\"url(#clip860)\" d=\"M1892.05 1266.76 L1896.31 1266.76 L1896.31 1302.78 L1892.05 1302.78 L1892.05 1266.76 Z\" fill=\"#000000\" fill-rule=\"nonzero\" fill-opacity=\"1\" /><polyline clip-path=\"url(#clip860)\" style=\"stroke:#e26f46; stroke-linecap:round; stroke-linejoin:round; stroke-width:4; stroke-opacity:1; fill:none\" points=\"1658.16,1337.34 1800.61,1337.34 \"/>\n",
       "<path clip-path=\"url(#clip860)\" d=\"M1829.02 1323.9 L1829.02 1336.88 L1834.9 1336.88 Q1838.17 1336.88 1839.95 1335.19 Q1841.73 1333.5 1841.73 1330.38 Q1841.73 1327.28 1839.95 1325.59 Q1838.17 1323.9 1834.9 1323.9 L1829.02 1323.9 M1824.35 1320.06 L1834.9 1320.06 Q1840.71 1320.06 1843.67 1322.69 Q1846.66 1325.31 1846.66 1330.38 Q1846.66 1335.5 1843.67 1338.11 Q1840.71 1340.73 1834.9 1340.73 L1829.02 1340.73 L1829.02 1354.62 L1824.35 1354.62 L1824.35 1320.06 Z\" fill=\"#000000\" fill-rule=\"nonzero\" fill-opacity=\"1\" /><path clip-path=\"url(#clip860)\" d=\"M1862.4 1341.58 Q1857.24 1341.58 1855.25 1342.76 Q1853.26 1343.94 1853.26 1346.79 Q1853.26 1349.06 1854.74 1350.4 Q1856.24 1351.72 1858.81 1351.72 Q1862.36 1351.72 1864.48 1349.22 Q1866.64 1346.7 1866.64 1342.53 L1866.64 1341.58 L1862.4 1341.58 M1870.9 1339.82 L1870.9 1354.62 L1866.64 1354.62 L1866.64 1350.68 Q1865.18 1353.04 1863 1354.18 Q1860.83 1355.29 1857.68 1355.29 Q1853.7 1355.29 1851.34 1353.06 Q1849 1350.82 1849 1347.07 Q1849 1342.69 1851.92 1340.47 Q1854.86 1338.25 1860.67 1338.25 L1866.64 1338.25 L1866.64 1337.83 Q1866.64 1334.89 1864.69 1333.3 Q1862.77 1331.68 1859.28 1331.68 Q1857.05 1331.68 1854.95 1332.21 Q1852.84 1332.74 1850.9 1333.81 L1850.9 1329.87 Q1853.23 1328.97 1855.43 1328.53 Q1857.63 1328.06 1859.72 1328.06 Q1865.34 1328.06 1868.12 1330.98 Q1870.9 1333.9 1870.9 1339.82 Z\" fill=\"#000000\" fill-rule=\"nonzero\" fill-opacity=\"1\" /><path clip-path=\"url(#clip860)\" d=\"M1894.69 1332.67 Q1893.98 1332.25 1893.12 1332.07 Q1892.29 1331.86 1891.27 1331.86 Q1887.66 1331.86 1885.71 1334.22 Q1883.79 1336.56 1883.79 1340.96 L1883.79 1354.62 L1879.51 1354.62 L1879.51 1328.69 L1883.79 1328.69 L1883.79 1332.72 Q1885.13 1330.36 1887.29 1329.22 Q1889.44 1328.06 1892.52 1328.06 Q1892.96 1328.06 1893.49 1328.13 Q1894.02 1328.18 1894.67 1328.3 L1894.69 1332.67 Z\" fill=\"#000000\" fill-rule=\"nonzero\" fill-opacity=\"1\" /><path clip-path=\"url(#clip860)\" d=\"M1903.37 1321.33 L1903.37 1328.69 L1912.15 1328.69 L1912.15 1332 L1903.37 1332 L1903.37 1346.07 Q1903.37 1349.25 1904.23 1350.15 Q1905.11 1351.05 1907.77 1351.05 L1912.15 1351.05 L1912.15 1354.62 L1907.77 1354.62 Q1902.84 1354.62 1900.97 1352.79 Q1899.09 1350.93 1899.09 1346.07 L1899.09 1332 L1895.97 1332 L1895.97 1328.69 L1899.09 1328.69 L1899.09 1321.33 L1903.37 1321.33 Z\" fill=\"#000000\" fill-rule=\"nonzero\" fill-opacity=\"1\" /><path clip-path=\"url(#clip860)\" d=\"M1917.75 1328.69 L1922.01 1328.69 L1922.01 1354.62 L1917.75 1354.62 L1917.75 1328.69 M1917.75 1318.6 L1922.01 1318.6 L1922.01 1323.99 L1917.75 1323.99 L1917.75 1318.6 Z\" fill=\"#000000\" fill-rule=\"nonzero\" fill-opacity=\"1\" /><path clip-path=\"url(#clip860)\" d=\"M1935.13 1321.33 L1935.13 1328.69 L1943.91 1328.69 L1943.91 1332 L1935.13 1332 L1935.13 1346.07 Q1935.13 1349.25 1935.99 1350.15 Q1936.87 1351.05 1939.53 1351.05 L1943.91 1351.05 L1943.91 1354.62 L1939.53 1354.62 Q1934.6 1354.62 1932.73 1352.79 Q1930.85 1350.93 1930.85 1346.07 L1930.85 1332 L1927.73 1332 L1927.73 1328.69 L1930.85 1328.69 L1930.85 1321.33 L1935.13 1321.33 Z\" fill=\"#000000\" fill-rule=\"nonzero\" fill-opacity=\"1\" /><path clip-path=\"url(#clip860)\" d=\"M1949.51 1328.69 L1953.77 1328.69 L1953.77 1354.62 L1949.51 1354.62 L1949.51 1328.69 M1949.51 1318.6 L1953.77 1318.6 L1953.77 1323.99 L1949.51 1323.99 L1949.51 1318.6 Z\" fill=\"#000000\" fill-rule=\"nonzero\" fill-opacity=\"1\" /><path clip-path=\"url(#clip860)\" d=\"M1972.72 1331.68 Q1969.3 1331.68 1967.31 1334.36 Q1965.32 1337.02 1965.32 1341.68 Q1965.32 1346.33 1967.29 1349.01 Q1969.28 1351.68 1972.72 1351.68 Q1976.13 1351.68 1978.12 1348.99 Q1980.11 1346.31 1980.11 1341.68 Q1980.11 1337.07 1978.12 1334.38 Q1976.13 1331.68 1972.72 1331.68 M1972.72 1328.06 Q1978.28 1328.06 1981.45 1331.68 Q1984.62 1335.29 1984.62 1341.68 Q1984.62 1348.04 1981.45 1351.68 Q1978.28 1355.29 1972.72 1355.29 Q1967.15 1355.29 1963.98 1351.68 Q1960.83 1348.04 1960.83 1341.68 Q1960.83 1335.29 1963.98 1331.68 Q1967.15 1328.06 1972.72 1328.06 Z\" fill=\"#000000\" fill-rule=\"nonzero\" fill-opacity=\"1\" /><path clip-path=\"url(#clip860)\" d=\"M2013.23 1338.97 L2013.23 1354.62 L2008.97 1354.62 L2008.97 1339.11 Q2008.97 1335.43 2007.54 1333.6 Q2006.1 1331.77 2003.23 1331.77 Q1999.79 1331.77 1997.79 1333.97 Q1995.8 1336.17 1995.8 1339.96 L1995.8 1354.62 L1991.52 1354.62 L1991.52 1328.69 L1995.8 1328.69 L1995.8 1332.72 Q1997.33 1330.38 1999.39 1329.22 Q2001.47 1328.06 2004.18 1328.06 Q2008.65 1328.06 2010.94 1330.84 Q2013.23 1333.6 2013.23 1338.97 Z\" fill=\"#000000\" fill-rule=\"nonzero\" fill-opacity=\"1\" /><path clip-path=\"url(#clip860)\" d=\"M2043.91 1340.59 L2043.91 1342.67 L2024.32 1342.67 Q2024.6 1347.07 2026.96 1349.38 Q2029.35 1351.68 2033.58 1351.68 Q2036.03 1351.68 2038.33 1351.07 Q2040.64 1350.47 2042.91 1349.27 L2042.91 1353.3 Q2040.62 1354.27 2038.21 1354.78 Q2035.8 1355.29 2033.33 1355.29 Q2027.12 1355.29 2023.49 1351.68 Q2019.88 1348.06 2019.88 1341.91 Q2019.88 1335.54 2023.3 1331.81 Q2026.75 1328.06 2032.59 1328.06 Q2037.82 1328.06 2040.85 1331.44 Q2043.91 1334.8 2043.91 1340.59 M2039.65 1339.34 Q2039.6 1335.84 2037.68 1333.76 Q2035.78 1331.68 2032.63 1331.68 Q2029.07 1331.68 2026.91 1333.69 Q2024.78 1335.7 2024.46 1339.36 L2039.65 1339.34 Z\" fill=\"#000000\" fill-rule=\"nonzero\" fill-opacity=\"1\" /><path clip-path=\"url(#clip860)\" d=\"M2067.96 1332.62 L2067.96 1318.6 L2072.22 1318.6 L2072.22 1354.62 L2067.96 1354.62 L2067.96 1350.73 Q2066.61 1353.04 2064.55 1354.18 Q2062.52 1355.29 2059.65 1355.29 Q2054.95 1355.29 2051.98 1351.54 Q2049.04 1347.79 2049.04 1341.68 Q2049.04 1335.56 2051.98 1331.81 Q2054.95 1328.06 2059.65 1328.06 Q2062.52 1328.06 2064.55 1329.2 Q2066.61 1330.31 2067.96 1332.62 M2053.44 1341.68 Q2053.44 1346.37 2055.36 1349.06 Q2057.31 1351.72 2060.69 1351.72 Q2064.07 1351.72 2066.01 1349.06 Q2067.96 1346.37 2067.96 1341.68 Q2067.96 1336.98 2066.01 1334.31 Q2064.07 1331.63 2060.69 1331.63 Q2057.31 1331.63 2055.36 1334.31 Q2053.44 1336.98 2053.44 1341.68 Z\" fill=\"#000000\" fill-rule=\"nonzero\" fill-opacity=\"1\" /><polyline clip-path=\"url(#clip860)\" style=\"stroke:#3da44d; stroke-linecap:round; stroke-linejoin:round; stroke-width:4; stroke-opacity:1; fill:none\" points=\"1658.16,1389.18 1800.61,1389.18 \"/>\n",
       "<path clip-path=\"url(#clip860)\" d=\"M1829.02 1375.74 L1829.02 1402.61 L1834.67 1402.61 Q1841.82 1402.61 1845.13 1399.37 Q1848.47 1396.13 1848.47 1389.14 Q1848.47 1382.2 1845.13 1378.98 Q1841.82 1375.74 1834.67 1375.74 L1829.02 1375.74 M1824.35 1371.9 L1833.95 1371.9 Q1844 1371.9 1848.7 1376.09 Q1853.4 1380.25 1853.4 1389.14 Q1853.4 1398.08 1848.67 1402.27 Q1843.95 1406.46 1833.95 1406.46 L1824.35 1406.46 L1824.35 1371.9 Z\" fill=\"#000000\" fill-rule=\"nonzero\" fill-opacity=\"1\" /><path clip-path=\"url(#clip860)\" d=\"M1870.71 1383.52 Q1867.29 1383.52 1865.3 1386.2 Q1863.3 1388.86 1863.3 1393.52 Q1863.3 1398.17 1865.27 1400.85 Q1867.26 1403.52 1870.71 1403.52 Q1874.11 1403.52 1876.11 1400.83 Q1878.1 1398.15 1878.1 1393.52 Q1878.1 1388.91 1876.11 1386.22 Q1874.11 1383.52 1870.71 1383.52 M1870.71 1379.9 Q1876.27 1379.9 1879.44 1383.52 Q1882.61 1387.13 1882.61 1393.52 Q1882.61 1399.88 1879.44 1403.52 Q1876.27 1407.13 1870.71 1407.13 Q1865.13 1407.13 1861.96 1403.52 Q1858.81 1399.88 1858.81 1393.52 Q1858.81 1387.13 1861.96 1383.52 Q1865.13 1379.9 1870.71 1379.9 Z\" fill=\"#000000\" fill-rule=\"nonzero\" fill-opacity=\"1\" /><path clip-path=\"url(#clip860)\" d=\"M1889.23 1396.22 L1889.23 1380.53 L1893.49 1380.53 L1893.49 1396.06 Q1893.49 1399.74 1894.92 1401.59 Q1896.36 1403.42 1899.23 1403.42 Q1902.68 1403.42 1904.67 1401.22 Q1906.68 1399.02 1906.68 1395.23 L1906.68 1380.53 L1910.94 1380.53 L1910.94 1406.46 L1906.68 1406.46 L1906.68 1402.47 Q1905.13 1404.83 1903.07 1405.99 Q1901.04 1407.13 1898.33 1407.13 Q1893.86 1407.13 1891.54 1404.35 Q1889.23 1401.57 1889.23 1396.22 M1899.95 1379.9 L1899.95 1379.9 Z\" fill=\"#000000\" fill-rule=\"nonzero\" fill-opacity=\"1\" /><path clip-path=\"url(#clip860)\" d=\"M1938.33 1393.52 Q1938.33 1388.82 1936.38 1386.15 Q1934.46 1383.47 1931.08 1383.47 Q1927.7 1383.47 1925.76 1386.15 Q1923.84 1388.82 1923.84 1393.52 Q1923.84 1398.21 1925.76 1400.9 Q1927.7 1403.56 1931.08 1403.56 Q1934.46 1403.56 1936.38 1400.9 Q1938.33 1398.21 1938.33 1393.52 M1923.84 1384.46 Q1925.18 1382.15 1927.22 1381.04 Q1929.28 1379.9 1932.12 1379.9 Q1936.85 1379.9 1939.79 1383.65 Q1942.75 1387.4 1942.75 1393.52 Q1942.75 1399.63 1939.79 1403.38 Q1936.85 1407.13 1932.12 1407.13 Q1929.28 1407.13 1927.22 1406.02 Q1925.18 1404.88 1923.84 1402.57 L1923.84 1406.46 L1919.55 1406.46 L1919.55 1370.44 L1923.84 1370.44 L1923.84 1384.46 Z\" fill=\"#000000\" fill-rule=\"nonzero\" fill-opacity=\"1\" /><path clip-path=\"url(#clip860)\" d=\"M1949.81 1370.44 L1954.07 1370.44 L1954.07 1406.46 L1949.81 1406.46 L1949.81 1370.44 Z\" fill=\"#000000\" fill-rule=\"nonzero\" fill-opacity=\"1\" /><path clip-path=\"url(#clip860)\" d=\"M1973.77 1408.86 Q1971.96 1413.49 1970.25 1414.9 Q1968.54 1416.32 1965.66 1416.32 L1962.26 1416.32 L1962.26 1412.75 L1964.76 1412.75 Q1966.52 1412.75 1967.49 1411.92 Q1968.47 1411.08 1969.65 1407.98 L1970.41 1406.04 L1959.92 1380.53 L1964.44 1380.53 L1972.54 1400.81 L1980.64 1380.53 L1985.16 1380.53 L1973.77 1408.86 Z\" fill=\"#000000\" fill-rule=\"nonzero\" fill-opacity=\"1\" /><path clip-path=\"url(#clip860)\" d=\"M2010.22 1402.57 L2010.22 1416.32 L2005.94 1416.32 L2005.94 1380.53 L2010.22 1380.53 L2010.22 1384.46 Q2011.57 1382.15 2013.6 1381.04 Q2015.66 1379.9 2018.51 1379.9 Q2023.23 1379.9 2026.17 1383.65 Q2029.14 1387.4 2029.14 1393.52 Q2029.14 1399.63 2026.17 1403.38 Q2023.23 1407.13 2018.51 1407.13 Q2015.66 1407.13 2013.6 1406.02 Q2011.57 1404.88 2010.22 1402.57 M2024.72 1393.52 Q2024.72 1388.82 2022.77 1386.15 Q2020.85 1383.47 2017.47 1383.47 Q2014.09 1383.47 2012.15 1386.15 Q2010.22 1388.82 2010.22 1393.52 Q2010.22 1398.21 2012.15 1400.9 Q2014.09 1403.56 2017.47 1403.56 Q2020.85 1403.56 2022.77 1400.9 Q2024.72 1398.21 2024.72 1393.52 Z\" fill=\"#000000\" fill-rule=\"nonzero\" fill-opacity=\"1\" /><path clip-path=\"url(#clip860)\" d=\"M2047.98 1393.42 Q2042.82 1393.42 2040.83 1394.6 Q2038.84 1395.78 2038.84 1398.63 Q2038.84 1400.9 2040.32 1402.24 Q2041.82 1403.56 2044.39 1403.56 Q2047.93 1403.56 2050.06 1401.06 Q2052.22 1398.54 2052.22 1394.37 L2052.22 1393.42 L2047.98 1393.42 M2056.47 1391.66 L2056.47 1406.46 L2052.22 1406.46 L2052.22 1402.52 Q2050.76 1404.88 2048.58 1406.02 Q2046.41 1407.13 2043.26 1407.13 Q2039.28 1407.13 2036.91 1404.9 Q2034.58 1402.66 2034.58 1398.91 Q2034.58 1394.53 2037.49 1392.31 Q2040.43 1390.09 2046.24 1390.09 L2052.22 1390.09 L2052.22 1389.67 Q2052.22 1386.73 2050.27 1385.14 Q2048.35 1383.52 2044.85 1383.52 Q2042.63 1383.52 2040.53 1384.05 Q2038.42 1384.58 2036.47 1385.65 L2036.47 1381.71 Q2038.81 1380.81 2041.01 1380.37 Q2043.21 1379.9 2045.29 1379.9 Q2050.92 1379.9 2053.7 1382.82 Q2056.47 1385.74 2056.47 1391.66 Z\" fill=\"#000000\" fill-rule=\"nonzero\" fill-opacity=\"1\" /><path clip-path=\"url(#clip860)\" d=\"M2080.27 1384.51 Q2079.55 1384.09 2078.7 1383.91 Q2077.86 1383.7 2076.84 1383.7 Q2073.23 1383.7 2071.29 1386.06 Q2069.37 1388.4 2069.37 1392.8 L2069.37 1406.46 L2065.09 1406.46 L2065.09 1380.53 L2069.37 1380.53 L2069.37 1384.56 Q2070.71 1382.2 2072.86 1381.06 Q2075.02 1379.9 2078.09 1379.9 Q2078.53 1379.9 2079.07 1379.97 Q2079.6 1380.02 2080.25 1380.14 L2080.27 1384.51 Z\" fill=\"#000000\" fill-rule=\"nonzero\" fill-opacity=\"1\" /><path clip-path=\"url(#clip860)\" d=\"M2088.95 1373.17 L2088.95 1380.53 L2097.72 1380.53 L2097.72 1383.84 L2088.95 1383.84 L2088.95 1397.91 Q2088.95 1401.09 2089.81 1401.99 Q2090.69 1402.89 2093.35 1402.89 L2097.72 1402.89 L2097.72 1406.46 L2093.35 1406.46 Q2088.42 1406.46 2086.54 1404.63 Q2084.67 1402.77 2084.67 1397.91 L2084.67 1383.84 L2081.54 1383.84 L2081.54 1380.53 L2084.67 1380.53 L2084.67 1373.17 L2088.95 1373.17 Z\" fill=\"#000000\" fill-rule=\"nonzero\" fill-opacity=\"1\" /><path clip-path=\"url(#clip860)\" d=\"M2103.33 1380.53 L2107.59 1380.53 L2107.59 1406.46 L2103.33 1406.46 L2103.33 1380.53 M2103.33 1370.44 L2107.59 1370.44 L2107.59 1375.83 L2103.33 1375.83 L2103.33 1370.44 Z\" fill=\"#000000\" fill-rule=\"nonzero\" fill-opacity=\"1\" /><path clip-path=\"url(#clip860)\" d=\"M2120.71 1373.17 L2120.71 1380.53 L2129.48 1380.53 L2129.48 1383.84 L2120.71 1383.84 L2120.71 1397.91 Q2120.71 1401.09 2121.57 1401.99 Q2122.45 1402.89 2125.11 1402.89 L2129.48 1402.89 L2129.48 1406.46 L2125.11 1406.46 Q2120.18 1406.46 2118.3 1404.63 Q2116.43 1402.77 2116.43 1397.91 L2116.43 1383.84 L2113.3 1383.84 L2113.3 1380.53 L2116.43 1380.53 L2116.43 1373.17 L2120.71 1373.17 Z\" fill=\"#000000\" fill-rule=\"nonzero\" fill-opacity=\"1\" /><path clip-path=\"url(#clip860)\" d=\"M2135.09 1380.53 L2139.34 1380.53 L2139.34 1406.46 L2135.09 1406.46 L2135.09 1380.53 M2135.09 1370.44 L2139.34 1370.44 L2139.34 1375.83 L2135.09 1375.83 L2135.09 1370.44 Z\" fill=\"#000000\" fill-rule=\"nonzero\" fill-opacity=\"1\" /><path clip-path=\"url(#clip860)\" d=\"M2158.3 1383.52 Q2154.88 1383.52 2152.89 1386.2 Q2150.9 1388.86 2150.9 1393.52 Q2150.9 1398.17 2152.86 1400.85 Q2154.85 1403.52 2158.3 1403.52 Q2161.71 1403.52 2163.7 1400.83 Q2165.69 1398.15 2165.69 1393.52 Q2165.69 1388.91 2163.7 1386.22 Q2161.71 1383.52 2158.3 1383.52 M2158.3 1379.9 Q2163.86 1379.9 2167.03 1383.52 Q2170.2 1387.13 2170.2 1393.52 Q2170.2 1399.88 2167.03 1403.52 Q2163.86 1407.13 2158.3 1407.13 Q2152.72 1407.13 2149.55 1403.52 Q2146.4 1399.88 2146.4 1393.52 Q2146.4 1387.13 2149.55 1383.52 Q2152.72 1379.9 2158.3 1379.9 Z\" fill=\"#000000\" fill-rule=\"nonzero\" fill-opacity=\"1\" /><path clip-path=\"url(#clip860)\" d=\"M2198.81 1390.81 L2198.81 1406.46 L2194.55 1406.46 L2194.55 1390.95 Q2194.55 1387.27 2193.12 1385.44 Q2191.68 1383.61 2188.81 1383.61 Q2185.36 1383.61 2183.37 1385.81 Q2181.38 1388.01 2181.38 1391.8 L2181.38 1406.46 L2177.1 1406.46 L2177.1 1380.53 L2181.38 1380.53 L2181.38 1384.56 Q2182.91 1382.22 2184.97 1381.06 Q2187.05 1379.9 2189.76 1379.9 Q2194.23 1379.9 2196.52 1382.68 Q2198.81 1385.44 2198.81 1390.81 Z\" fill=\"#000000\" fill-rule=\"nonzero\" fill-opacity=\"1\" /><path clip-path=\"url(#clip860)\" d=\"M2229.48 1392.43 L2229.48 1394.51 L2209.9 1394.51 Q2210.18 1398.91 2212.54 1401.22 Q2214.92 1403.52 2219.16 1403.52 Q2221.61 1403.52 2223.9 1402.91 Q2226.22 1402.31 2228.49 1401.11 L2228.49 1405.14 Q2226.2 1406.11 2223.79 1406.62 Q2221.38 1407.13 2218.9 1407.13 Q2212.7 1407.13 2209.07 1403.52 Q2205.46 1399.9 2205.46 1393.75 Q2205.46 1387.38 2208.88 1383.65 Q2212.33 1379.9 2218.16 1379.9 Q2223.39 1379.9 2226.43 1383.28 Q2229.48 1386.64 2229.48 1392.43 M2225.22 1391.18 Q2225.18 1387.68 2223.26 1385.6 Q2221.36 1383.52 2218.21 1383.52 Q2214.64 1383.52 2212.49 1385.53 Q2210.36 1387.54 2210.04 1391.2 L2225.22 1391.18 Z\" fill=\"#000000\" fill-rule=\"nonzero\" fill-opacity=\"1\" /><path clip-path=\"url(#clip860)\" d=\"M2253.53 1384.46 L2253.53 1370.44 L2257.79 1370.44 L2257.79 1406.46 L2253.53 1406.46 L2253.53 1402.57 Q2252.19 1404.88 2250.13 1406.02 Q2248.09 1407.13 2245.22 1407.13 Q2240.52 1407.13 2237.56 1403.38 Q2234.62 1399.63 2234.62 1393.52 Q2234.62 1387.4 2237.56 1383.65 Q2240.52 1379.9 2245.22 1379.9 Q2248.09 1379.9 2250.13 1381.04 Q2252.19 1382.15 2253.53 1384.46 M2239.02 1393.52 Q2239.02 1398.21 2240.94 1400.9 Q2242.89 1403.56 2246.27 1403.56 Q2249.64 1403.56 2251.59 1400.9 Q2253.53 1398.21 2253.53 1393.52 Q2253.53 1388.82 2251.59 1386.15 Q2249.64 1383.47 2246.27 1383.47 Q2242.89 1383.47 2240.94 1386.15 Q2239.02 1388.82 2239.02 1393.52 Z\" fill=\"#000000\" fill-rule=\"nonzero\" fill-opacity=\"1\" /></svg>\n"
      ]
     },
     "execution_count": 22,
     "metadata": {},
     "output_type": "execute_result"
    }
   ],
   "source": [
    "plot(P_full[312, :], label=\"Full\", title=\"Bełchatów - Brown Lignite\")\n",
    "plot!(P_partitioned[312, :], label=\"Partitioned\")\n",
    "plot!(P_doubly_partitioned[312, :], label=\"Doubly partitioned\")"
   ]
  },
  {
   "cell_type": "markdown",
   "id": "a06dfdf2-c2e2-4db4-8fac-747c0ea0bd36",
   "metadata": {},
   "source": [
    "## Turning off the noise"
   ]
  },
  {
   "cell_type": "code",
   "execution_count": 23,
   "id": "05ede9e7-ef20-48b1-8107-510509f36144",
   "metadata": {},
   "outputs": [
    {
     "name": "stdout",
     "output_type": "stream",
     "text": [
      "[\u001b[34m2024-05-29 10:33:10\u001b[39m]  OPF with 12 time steps, 1039 generators, and 167 ramp constraints (cyclic)\n",
      "[\u001b[34m2024-05-29 10:33:10\u001b[39m]   -> checking model\n",
      "[\u001b[34m2024-05-29 10:33:10\u001b[39m]   -> defining variables\n",
      "[\u001b[34m2024-05-29 10:33:10\u001b[39m]   -> defining constraints\n",
      "[\u001b[34m2024-05-29 10:33:10\u001b[39m]   -> computing objective function\n",
      "[\u001b[34m2024-05-29 10:33:11\u001b[39m]   -> optimizing\n",
      "[\u001b[34m2024-05-29 10:33:58\u001b[39m]   -> exporting results\n"
     ]
    }
   ],
   "source": [
    "P_full_no_noise = opf(quadratic_cost, linear_line_cost_reduced, P_max, P_exp, P_total_reduced, A_ramp, ΔP_ramp);"
   ]
  },
  {
   "cell_type": "code",
   "execution_count": 24,
   "id": "36638716-474b-450e-ac9f-047b1befecda",
   "metadata": {},
   "outputs": [
    {
     "name": "stdout",
     "output_type": "stream",
     "text": [
      "[\u001b[34m2024-05-29 10:33:59\u001b[39m]  Partitioning a dataset of 12 time steps into 3 chunks of 4 time steps\n",
      "[\u001b[34m2024-05-29 10:33:59\u001b[39m] \u001b[31m\u001b[1m 0/3\u001b[22m\u001b[39m OPF with 3 time steps, 1039 generators, and 167 ramp constraints (cyclic)\n",
      "[\u001b[34m2024-05-29 10:33:59\u001b[39m] \u001b[31m\u001b[1m    \u001b[22m\u001b[39m  -> checking model\n",
      "[\u001b[34m2024-05-29 10:33:59\u001b[39m] \u001b[31m\u001b[1m    \u001b[22m\u001b[39m  -> defining variables\n",
      "[\u001b[34m2024-05-29 10:33:59\u001b[39m] \u001b[31m\u001b[1m    \u001b[22m\u001b[39m  -> defining constraints\n",
      "[\u001b[34m2024-05-29 10:33:59\u001b[39m] \u001b[31m\u001b[1m    \u001b[22m\u001b[39m  -> computing objective function\n",
      "[\u001b[34m2024-05-29 10:33:59\u001b[39m] \u001b[31m\u001b[1m    \u001b[22m\u001b[39m  -> optimizing\n",
      "[\u001b[34m2024-05-29 10:34:04\u001b[39m] \u001b[31m\u001b[1m    \u001b[22m\u001b[39m  -> exporting results\n",
      "[\u001b[34m2024-05-29 10:34:04\u001b[39m] \u001b[31m\u001b[1m 1/3\u001b[22m\u001b[39m OPF with 4 time steps, 1039 generators, and 167 ramp constraints (fixed boundaries)\n",
      "[\u001b[34m2024-05-29 10:34:04\u001b[39m] \u001b[31m\u001b[1m    \u001b[22m\u001b[39m  -> checking model\n",
      "[\u001b[34m2024-05-29 10:34:04\u001b[39m] \u001b[31m\u001b[1m    \u001b[22m\u001b[39m  -> defining variables\n",
      "[\u001b[34m2024-05-29 10:34:04\u001b[39m] \u001b[31m\u001b[1m    \u001b[22m\u001b[39m  -> defining constraints\n",
      "[\u001b[34m2024-05-29 10:34:04\u001b[39m] \u001b[31m\u001b[1m    \u001b[22m\u001b[39m  -> computing objective function\n",
      "[\u001b[34m2024-05-29 10:34:04\u001b[39m] \u001b[31m\u001b[1m    \u001b[22m\u001b[39m  -> optimizing\n",
      "[\u001b[34m2024-05-29 10:34:11\u001b[39m] \u001b[31m\u001b[1m    \u001b[22m\u001b[39m  -> exporting results\n",
      "[\u001b[34m2024-05-29 10:34:11\u001b[39m]  Estimated remaining time: 15 s\n",
      "[\u001b[34m2024-05-29 10:34:11\u001b[39m] \u001b[31m\u001b[1m 2/3\u001b[22m\u001b[39m OPF with 4 time steps, 1039 generators, and 167 ramp constraints (fixed boundaries)\n",
      "[\u001b[34m2024-05-29 10:34:11\u001b[39m] \u001b[31m\u001b[1m    \u001b[22m\u001b[39m  -> checking model\n",
      "[\u001b[34m2024-05-29 10:34:11\u001b[39m] \u001b[31m\u001b[1m    \u001b[22m\u001b[39m  -> defining variables\n",
      "[\u001b[34m2024-05-29 10:34:11\u001b[39m] \u001b[31m\u001b[1m    \u001b[22m\u001b[39m  -> defining constraints\n",
      "[\u001b[34m2024-05-29 10:34:11\u001b[39m] \u001b[31m\u001b[1m    \u001b[22m\u001b[39m  -> computing objective function\n",
      "[\u001b[34m2024-05-29 10:34:12\u001b[39m] \u001b[31m\u001b[1m    \u001b[22m\u001b[39m  -> optimizing\n",
      "[\u001b[34m2024-05-29 10:34:17\u001b[39m] \u001b[31m\u001b[1m    \u001b[22m\u001b[39m  -> exporting results\n",
      "[\u001b[34m2024-05-29 10:34:17\u001b[39m]  Estimated remaining time: 7 s\n",
      "[\u001b[34m2024-05-29 10:34:17\u001b[39m] \u001b[31m\u001b[1m 3/3\u001b[22m\u001b[39m OPF with 4 time steps, 1039 generators, and 167 ramp constraints (fixed boundaries)\n",
      "[\u001b[34m2024-05-29 10:34:17\u001b[39m] \u001b[31m\u001b[1m    \u001b[22m\u001b[39m  -> checking model\n",
      "[\u001b[34m2024-05-29 10:34:17\u001b[39m] \u001b[31m\u001b[1m    \u001b[22m\u001b[39m  -> defining variables\n",
      "[\u001b[34m2024-05-29 10:34:17\u001b[39m] \u001b[31m\u001b[1m    \u001b[22m\u001b[39m  -> defining constraints\n",
      "[\u001b[34m2024-05-29 10:34:17\u001b[39m] \u001b[31m\u001b[1m    \u001b[22m\u001b[39m  -> computing objective function\n",
      "[\u001b[34m2024-05-29 10:34:18\u001b[39m] \u001b[31m\u001b[1m    \u001b[22m\u001b[39m  -> optimizing\n",
      "[\u001b[34m2024-05-29 10:34:24\u001b[39m] \u001b[31m\u001b[1m    \u001b[22m\u001b[39m  -> exporting results\n"
     ]
    }
   ],
   "source": [
    "P_partitioned_no_noise = partitioned_opf([3, 4], quadratic_cost, linear_line_cost_reduced,\n",
    "    P_max, P_exp, P_total_reduced, A_ramp, ΔP_ramp);"
   ]
  },
  {
   "cell_type": "code",
   "execution_count": 25,
   "id": "c652b43a-f698-4f3b-9d8c-9264e4282d1a",
   "metadata": {},
   "outputs": [
    {
     "name": "stdout",
     "output_type": "stream",
     "text": [
      "[\u001b[34m2024-05-29 10:34:24\u001b[39m]  Partitioning a dataset of 12 time steps into 2 chunks of 6 time steps\n",
      "[\u001b[34m2024-05-29 10:34:24\u001b[39m] \u001b[31m\u001b[1m 0/2\u001b[22m\u001b[39m OPF with 2 time steps, 1039 generators, and 167 ramp constraints (cyclic)\n",
      "[\u001b[34m2024-05-29 10:34:24\u001b[39m] \u001b[31m\u001b[1m    \u001b[22m\u001b[39m  -> checking model\n",
      "[\u001b[34m2024-05-29 10:34:24\u001b[39m] \u001b[31m\u001b[1m    \u001b[22m\u001b[39m  -> defining variables\n",
      "[\u001b[34m2024-05-29 10:34:24\u001b[39m] \u001b[31m\u001b[1m    \u001b[22m\u001b[39m  -> defining constraints\n",
      "[\u001b[34m2024-05-29 10:34:24\u001b[39m] \u001b[31m\u001b[1m    \u001b[22m\u001b[39m  -> computing objective function\n",
      "[\u001b[34m2024-05-29 10:34:24\u001b[39m] \u001b[31m\u001b[1m    \u001b[22m\u001b[39m  -> optimizing\n",
      "[\u001b[34m2024-05-29 10:34:27\u001b[39m] \u001b[31m\u001b[1m    \u001b[22m\u001b[39m  -> exporting results\n",
      "[\u001b[34m2024-05-29 10:34:27\u001b[39m] \u001b[31m\u001b[1m 1/2\u001b[22m\u001b[39m Partitioning a dataset of 6 time steps into 2 chunks of 3 time steps\n",
      "[\u001b[34m2024-05-29 10:34:27\u001b[39m] \u001b[31m\u001b[1m 1/2 0/2\u001b[22m\u001b[39m OPF with 2 time steps, 1039 generators, and 167 ramp constraints (fixed boundaries)\n",
      "[\u001b[34m2024-05-29 10:34:27\u001b[39m] \u001b[31m\u001b[1m        \u001b[22m\u001b[39m  -> checking model\n",
      "[\u001b[34m2024-05-29 10:34:27\u001b[39m] \u001b[31m\u001b[1m        \u001b[22m\u001b[39m  -> defining variables\n",
      "[\u001b[34m2024-05-29 10:34:27\u001b[39m] \u001b[31m\u001b[1m        \u001b[22m\u001b[39m  -> defining constraints\n",
      "[\u001b[34m2024-05-29 10:34:27\u001b[39m] \u001b[31m\u001b[1m        \u001b[22m\u001b[39m  -> computing objective function\n",
      "[\u001b[34m2024-05-29 10:34:27\u001b[39m] \u001b[31m\u001b[1m        \u001b[22m\u001b[39m  -> optimizing\n",
      "[\u001b[34m2024-05-29 10:34:31\u001b[39m] \u001b[31m\u001b[1m        \u001b[22m\u001b[39m  -> exporting results\n",
      "[\u001b[34m2024-05-29 10:34:31\u001b[39m] \u001b[31m\u001b[1m 1/2 1/2\u001b[22m\u001b[39m OPF with 3 time steps, 1039 generators, and 167 ramp constraints (fixed boundaries)\n",
      "[\u001b[34m2024-05-29 10:34:31\u001b[39m] \u001b[31m\u001b[1m        \u001b[22m\u001b[39m  -> checking model\n",
      "[\u001b[34m2024-05-29 10:34:31\u001b[39m] \u001b[31m\u001b[1m        \u001b[22m\u001b[39m  -> defining variables\n",
      "[\u001b[34m2024-05-29 10:34:31\u001b[39m] \u001b[31m\u001b[1m        \u001b[22m\u001b[39m  -> defining constraints\n",
      "[\u001b[34m2024-05-29 10:34:31\u001b[39m] \u001b[31m\u001b[1m        \u001b[22m\u001b[39m  -> computing objective function\n",
      "[\u001b[34m2024-05-29 10:34:31\u001b[39m] \u001b[31m\u001b[1m        \u001b[22m\u001b[39m  -> optimizing\n",
      "[\u001b[34m2024-05-29 10:34:41\u001b[39m] \u001b[31m\u001b[1m        \u001b[22m\u001b[39m  -> exporting results\n"
     ]
    },
    {
     "ename": "LoadError",
     "evalue": "Result index of attribute MathOptInterface.VariablePrimal(1) out of bounds. There are currently 0 solution(s) in the model.",
     "output_type": "error",
     "traceback": [
      "Result index of attribute MathOptInterface.VariablePrimal(1) out of bounds. There are currently 0 solution(s) in the model.",
      "",
      "Stacktrace:",
      "  [1] check_result_index_bounds",
      "    @ ~/.julia/packages/MathOptInterface/2CULs/src/attributes.jl:207 [inlined]",
      "  [2] get(model::Gurobi.Optimizer, attr::MathOptInterface.VariablePrimal, x::MathOptInterface.VariableIndex)",
      "    @ Gurobi ~/.julia/packages/Gurobi/uP4zR/src/MOI_wrapper/MOI_wrapper.jl:2965",
      "  [3] _broadcast_getindex_evalf",
      "    @ ./broadcast.jl:709 [inlined]",
      "  [4] _broadcast_getindex",
      "    @ ./broadcast.jl:682 [inlined]",
      "  [5] getindex",
      "    @ ./broadcast.jl:636 [inlined]",
      "  [6] macro expansion",
      "    @ ./broadcast.jl:1004 [inlined]",
      "  [7] macro expansion",
      "    @ ./simdloop.jl:77 [inlined]",
      "  [8] copyto!",
      "    @ ./broadcast.jl:1003 [inlined]",
      "  [9] copyto!",
      "    @ ./broadcast.jl:956 [inlined]",
      " [10] copy",
      "    @ ./broadcast.jl:928 [inlined]",
      " [11] materialize",
      "    @ ./broadcast.jl:903 [inlined]",
      " [12] get(model::Gurobi.Optimizer, attr::MathOptInterface.VariablePrimal, idxs::Vector{MathOptInterface.VariableIndex})",
      "    @ MathOptInterface ~/.julia/packages/MathOptInterface/2CULs/src/attributes.jl:402",
      " [13] opf(quadratic_cost::Matrix{Float64}, linear_cost::Matrix{Float64}, P_max::Vector{Float64}, P_exp::Vector{Float64}, P_total::Vector{Float64}, A_ramp::SparseArrays.SparseMatrixCSC{Float64, Int64}, ΔP_ramp::Vector{Float64}, P_ramp_first::Vector{Float64}, P_ramp_last::Vector{Float64}; log_group::String)",
      "    @ Main ./In[14]:82",
      " [14] opf",
      "    @ ./In[14]:1 [inlined]",
      " [15] partitioned_opf(partitions::Vector{Int64}, quadratic_cost::Matrix{Float64}, linear_cost::Matrix{Float64}, P_max::Vector{Float64}, P_exp::Vector{Float64}, P_total::Vector{Float64}, A_ramp::SparseArrays.SparseMatrixCSC{Float64, Int64}, ΔP_ramp::Vector{Float64}, P_ramp_first::Vector{Float64}, P_ramp_last::Vector{Float64}; log_group::String)",
      "    @ Main ./In[15]:9",
      " [16] macro expansion",
      "    @ ./timing.jl:503 [inlined]",
      " [17] partitioned_opf(partitions::Vector{Int64}, quadratic_cost::Matrix{Float64}, linear_cost::Matrix{Float64}, P_max::Vector{Float64}, P_exp::Vector{Float64}, P_total::Vector{Float64}, A_ramp::SparseArrays.SparseMatrixCSC{Float64, Int64}, ΔP_ramp::Vector{Float64}, P_ramp_first::Vector{Float64}, P_ramp_last::Vector{Float64}; log_group::String)",
      "    @ Main ./In[15]:83",
      " [18] macro expansion",
      "    @ ./timing.jl:503 [inlined]",
      " [19] partitioned_opf(partitions::Vector{Int64}, quadratic_cost::Matrix{Float64}, linear_cost::Matrix{Float64}, P_max::Vector{Float64}, P_exp::Vector{Float64}, P_total::Vector{Float64}, A_ramp::SparseArrays.SparseMatrixCSC{Float64, Int64}, ΔP_ramp::Vector{Float64}, P_ramp_first::Vector{Real}, P_ramp_last::Vector{Real}; log_group::String)",
      "    @ Main ./In[15]:83",
      " [20] partitioned_opf (repeats 2 times)",
      "    @ ./In[15]:1 [inlined]",
      " [21] partitioned_opf(partitions::Vector{Int64}, quadratic_cost::Matrix{Float64}, linear_cost::Matrix{Float64}, P_max::Vector{Float64}, P_exp::Vector{Float64}, P_total::Vector{Float64}, A_ramp::SparseArrays.SparseMatrixCSC{Float64, Int64}, ΔP_ramp::Vector{Float64})",
      "    @ Main ./In[15]:1",
      " [22] top-level scope",
      "    @ In[25]:1"
     ]
    }
   ],
   "source": [
    "P_doubly_partitioned_no_noise = partitioned_opf([2, 2, 3], quadratic_cost, linear_line_cost_reduced,\n",
    "    P_max, P_exp, P_total_reduced, A_ramp, ΔP_ramp);"
   ]
  },
  {
   "cell_type": "code",
   "execution_count": 26,
   "id": "9b7e9ec8-5a22-460c-9d51-5c4eedfb1788",
   "metadata": {},
   "outputs": [
    {
     "ename": "LoadError",
     "evalue": "UndefVarError: `P_doubly_partitioned_no_noise` not defined",
     "output_type": "error",
     "traceback": [
      "UndefVarError: `P_doubly_partitioned_no_noise` not defined",
      "",
      "Stacktrace:",
      " [1] top-level scope",
      "   @ In[26]:3"
     ]
    }
   ],
   "source": [
    "plot(P_full_no_noise[312, :], label=\"Full\", title=\"Bełchatów - Brown Lignite\")\n",
    "plot!(P_partitioned_no_noise[312, :], label=\"Partitioned\")\n",
    "plot!(P_doubly_partitioned_no_noise[312, :], label=\"Doubly partitioned\")"
   ]
  },
  {
   "cell_type": "markdown",
   "id": "0c2f6ce5-4588-43db-8c02-920d918e5d72",
   "metadata": {},
   "source": [
    "## Checks"
   ]
  },
  {
   "cell_type": "markdown",
   "id": "ac50e44e-820a-4840-8f85-d94d413db8f8",
   "metadata": {},
   "source": [
    "Check that the total production for all generators is the same in all cases:"
   ]
  },
  {
   "cell_type": "code",
   "execution_count": 27,
   "id": "d504eaca-c322-4cf6-969c-f34f0f638daf",
   "metadata": {},
   "outputs": [
    {
     "data": {
      "text/plain": [
       "2-element Vector{Float64}:\n",
       " 0.00018802707080123326\n",
       " 5.801116212644786e-5"
      ]
     },
     "execution_count": 27,
     "metadata": {},
     "output_type": "execute_result"
    }
   ],
   "source": [
    "[maximum(abs.(sum(P, dims=2) - sum(P_full, dims=2))) for P ∈ [P_partitioned, P_doubly_partitioned]]"
   ]
  },
  {
   "cell_type": "code",
   "execution_count": 28,
   "id": "b12150b0-da19-4c27-8115-9e3a93ee6830",
   "metadata": {},
   "outputs": [
    {
     "ename": "LoadError",
     "evalue": "UndefVarError: `P_doubly_partitioned_no_noise` not defined",
     "output_type": "error",
     "traceback": [
      "UndefVarError: `P_doubly_partitioned_no_noise` not defined",
      "",
      "Stacktrace:",
      " [1] top-level scope",
      "   @ In[28]:1"
     ]
    }
   ],
   "source": [
    "[maximum(abs.(sum(P, dims=2) - sum(P_full, dims=2)))\n",
    "    for P ∈ [P_full_no_noise, P_partitioned_no_noise, P_doubly_partitioned_no_noise]]"
   ]
  },
  {
   "cell_type": "code",
   "execution_count": null,
   "id": "95b0ef0e-7323-47f9-946f-8e62c3e00f59",
   "metadata": {},
   "outputs": [],
   "source": []
  }
 ],
 "metadata": {
  "kernelspec": {
   "display_name": "Julia 1.10.3",
   "language": "julia",
   "name": "julia-1.10"
  },
  "language_info": {
   "file_extension": ".jl",
   "mimetype": "application/julia",
   "name": "julia",
   "version": "1.10.3"
  }
 },
 "nbformat": 4,
 "nbformat_minor": 5
}
