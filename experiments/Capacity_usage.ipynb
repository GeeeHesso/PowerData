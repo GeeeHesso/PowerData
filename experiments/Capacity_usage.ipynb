{
 "cells": [
  {
   "cell_type": "code",
   "execution_count": 1,
   "id": "2d82d294-7468-4dee-95cb-56a77c7b3fa7",
   "metadata": {},
   "outputs": [],
   "source": [
    "import os\n",
    "import pandas as pd\n",
    "from tqdm import trange"
   ]
  },
  {
   "cell_type": "code",
   "execution_count": 2,
   "id": "691985ec-9514-4ea8-ba88-adcf271fe41f",
   "metadata": {},
   "outputs": [],
   "source": [
    "year = 2016"
   ]
  },
  {
   "cell_type": "code",
   "execution_count": 3,
   "id": "acf39126-7070-47bc-8328-f95536b217b3",
   "metadata": {},
   "outputs": [],
   "source": [
    "data_source = os.path.expanduser('~/data/entso-e/raw')"
   ]
  },
  {
   "cell_type": "markdown",
   "id": "b8915b22-397d-4332-b702-cb86697a7b64",
   "metadata": {},
   "source": [
    "## Capacity"
   ]
  },
  {
   "cell_type": "code",
   "execution_count": 4,
   "id": "66d4ecd9-0311-4642-91bf-ec85642c26c4",
   "metadata": {},
   "outputs": [],
   "source": [
    "capacity_df = pd.read_csv('%s/%d_01_InstalledGenerationCapacityAggregated_14.1.A.csv' % (data_source, year + 1), sep='\\t')"
   ]
  },
  {
   "cell_type": "code",
   "execution_count": 5,
   "id": "fc9f38c9-655d-4f05-91c6-85a21d3311b2",
   "metadata": {},
   "outputs": [
    {
     "data": {
      "text/plain": [
       "{'AT',\n",
       " 'BA',\n",
       " 'BE',\n",
       " 'BG',\n",
       " 'CH',\n",
       " 'CY',\n",
       " 'CZ',\n",
       " 'DE',\n",
       " 'DK',\n",
       " 'EE',\n",
       " 'ES',\n",
       " 'FI',\n",
       " 'FR',\n",
       " 'GB',\n",
       " 'GR',\n",
       " 'HR',\n",
       " 'HU',\n",
       " 'IE',\n",
       " 'IT',\n",
       " 'LT',\n",
       " 'LU',\n",
       " 'LV',\n",
       " 'ME',\n",
       " 'MK',\n",
       " 'NL',\n",
       " 'NO',\n",
       " 'PL',\n",
       " 'PT',\n",
       " 'RO',\n",
       " 'RS',\n",
       " 'SE',\n",
       " 'SI',\n",
       " 'SK'}"
      ]
     },
     "execution_count": 5,
     "metadata": {},
     "output_type": "execute_result"
    }
   ],
   "source": [
    "countries = set(capacity_df[capacity_df['AreaTypeCode'] == 'CTY']['MapCode'].unique())\n",
    "countries"
   ]
  },
  {
   "cell_type": "code",
   "execution_count": 6,
   "id": "4ac57410-2298-4c74-9f86-3eb7d4c0e65e",
   "metadata": {},
   "outputs": [],
   "source": [
    "capacity = {country: capacity_df[(capacity_df['MapCode'] == country) & (capacity_df['AreaTypeCode'] == 'CTY')] \\\n",
    "            [['ProductionType', 'AggregatedInstalledCapacity']].set_index('ProductionType').T.to_dict('records')[0]\n",
    "            for country in countries}"
   ]
  },
  {
   "cell_type": "code",
   "execution_count": 7,
   "id": "4990c877-6de6-4089-9835-e4810ae44164",
   "metadata": {},
   "outputs": [
    {
     "data": {
      "text/plain": [
       "{'Fossil Gas': 6696.0,\n",
       " 'Biomass': 170.0,\n",
       " 'Other': 62.0,\n",
       " 'Solar': 7660.0,\n",
       " 'Hydro Water Reservoir': 8230.66,\n",
       " 'Fossil Oil': 5300.0,\n",
       " 'Marine': 240.0,\n",
       " 'Hydro Run-of-river and poundage': 10326.98,\n",
       " 'Nuclear': 63130.0,\n",
       " 'Fossil Hard coal': 2930.0,\n",
       " 'Wind Offshore': 0.0,\n",
       " 'Wind Onshore': 13569.0,\n",
       " 'Hydro Pumped Storage': 4965.0}"
      ]
     },
     "execution_count": 7,
     "metadata": {},
     "output_type": "execute_result"
    }
   ],
   "source": [
    "capacity['FR']"
   ]
  },
  {
   "cell_type": "code",
   "execution_count": 8,
   "id": "e8fe6035-0a0f-4f45-8b9d-ce2805156c67",
   "metadata": {},
   "outputs": [
    {
     "data": {
      "text/plain": [
       "{'Fossil Brown coal/Lignite': 21262.0,\n",
       " 'Biomass': 7080.25,\n",
       " 'Fossil Hard coal': 27437.0,\n",
       " 'Waste': 1685.0,\n",
       " 'Geothermal': 40.22,\n",
       " 'Other': 1421.0,\n",
       " 'Hydro Water Reservoir': 1439.0,\n",
       " 'Fossil Oil': 4614.0,\n",
       " 'Wind Offshore': 4131.3,\n",
       " 'Fossil Coal-derived gas': 0.0,\n",
       " 'Fossil Gas': 32627.0,\n",
       " 'Hydro Run-of-river and poundage': 4007.13,\n",
       " 'Other renewable': 509.61,\n",
       " 'Hydro Pumped Storage': 8894.24,\n",
       " 'Nuclear': 10793.0,\n",
       " 'Wind Onshore': 47042.0,\n",
       " 'Solar': 40834.46}"
      ]
     },
     "execution_count": 8,
     "metadata": {},
     "output_type": "execute_result"
    }
   ],
   "source": [
    "capacity['DE']"
   ]
  },
  {
   "cell_type": "code",
   "execution_count": 9,
   "id": "546b304d-9ef9-47f2-824a-2f51e5203402",
   "metadata": {},
   "outputs": [
    {
     "data": {
      "text/plain": [
       "{'Hydro Run-of-river and poundage': 190.0,\n",
       " 'Nuclear': 3373.0,\n",
       " 'Hydro Water Reservoir': 4897.8,\n",
       " 'Hydro Pumped Storage': 6228.0}"
      ]
     },
     "execution_count": 9,
     "metadata": {},
     "output_type": "execute_result"
    }
   ],
   "source": [
    "capacity['CH']"
   ]
  },
  {
   "cell_type": "code",
   "execution_count": 10,
   "id": "93a0b077-1356-435b-867a-5fc73cf33a7a",
   "metadata": {},
   "outputs": [
    {
     "data": {
      "text/plain": [
       "{'Biomass',\n",
       " 'Fossil Brown coal/Lignite',\n",
       " 'Fossil Coal-derived gas',\n",
       " 'Fossil Gas',\n",
       " 'Fossil Hard coal',\n",
       " 'Fossil Oil',\n",
       " 'Fossil Oil shale',\n",
       " 'Fossil Peat',\n",
       " 'Geothermal',\n",
       " 'Hydro Pumped Storage',\n",
       " 'Hydro Run-of-river and poundage',\n",
       " 'Hydro Water Reservoir',\n",
       " 'Marine',\n",
       " 'Nuclear',\n",
       " 'Other',\n",
       " 'Other renewable',\n",
       " 'Solar',\n",
       " 'Waste',\n",
       " 'Wind Offshore',\n",
       " 'Wind Onshore'}"
      ]
     },
     "execution_count": 10,
     "metadata": {},
     "output_type": "execute_result"
    }
   ],
   "source": [
    "all_capacity_types = set([])\n",
    "for cap in capacity.values():\n",
    "    all_capacity_types.update(cap.keys())\n",
    "all_capacity_types"
   ]
  },
  {
   "cell_type": "code",
   "execution_count": 11,
   "id": "3333b583-7754-4c7d-b65b-d336db7fbb14",
   "metadata": {},
   "outputs": [
    {
     "data": {
      "text/plain": [
       "{'Geothermal': 927.12,\n",
       " 'Other renewable': 3852.59,\n",
       " 'Fossil Coal-derived gas': 1569.0,\n",
       " 'Fossil Oil shale': 1976.0,\n",
       " 'Fossil Gas': 206834.42000000004,\n",
       " 'Solar': 74883.42,\n",
       " 'Waste': 4376.84,\n",
       " 'Marine': 240.0,\n",
       " 'Fossil Peat': 1420.6,\n",
       " 'Fossil Hard coal': 97463.93,\n",
       " 'Hydro Water Reservoir': 98348.26000000001,\n",
       " 'Hydro Pumped Storage': 51659.56,\n",
       " 'Wind Offshore': 12707.5,\n",
       " 'Fossil Brown coal/Lignite': 59820.03,\n",
       " 'Wind Onshore': 143804.99,\n",
       " 'Nuclear': 124003.19,\n",
       " 'Fossil Oil': 24607.300000000003,\n",
       " 'Hydro Run-of-river and poundage': 54860.310000000005,\n",
       " 'Other': 19761.84,\n",
       " 'Biomass': 17475.870000000003}"
      ]
     },
     "execution_count": 11,
     "metadata": {},
     "output_type": "execute_result"
    }
   ],
   "source": [
    "total_capacity = {type: sum([capacity[country][type] for country in countries if type in capacity[country].keys()])\n",
    "                  for type in all_capacity_types}\n",
    "total_capacity"
   ]
  },
  {
   "cell_type": "markdown",
   "id": "0231fa78-3cbd-481f-91fb-18426e7d325b",
   "metadata": {},
   "source": [
    "## Generation"
   ]
  },
  {
   "cell_type": "code",
   "execution_count": 12,
   "id": "2c892f0f-6452-40b5-8fbf-b0406810c801",
   "metadata": {},
   "outputs": [
    {
     "name": "stderr",
     "output_type": "stream",
     "text": [
      "100%|███████████████████████████████████████████| 12/12 [00:53<00:00,  4.45s/it]\n"
     ]
    }
   ],
   "source": [
    "gen_sum = {country : {t: 0.0 for t in type.keys()} for (country, type) in capacity.items()}\n",
    "gen_count = {country : {t: 0 for t in type.keys()} for (country, type) in capacity.items()}\n",
    "for month in trange(1, 13):\n",
    "    gen_df = pd.read_csv('%s/%d_%02d_AggregatedGenerationPerType_16.1.B_C.csv' % (data_source, year, month), sep='\\t')\n",
    "    for (country, cap) in capacity.items():\n",
    "        country_gen_df = gen_df[(gen_df['MapCode'] == country) & (gen_df['AreaTypeCode'] == 'CTY')]\n",
    "        for type in cap.keys():\n",
    "            timestep_gen = country_gen_df[country_gen_df['ProductionType'] == type]['ActualGenerationOutput']\n",
    "            gen_sum[country][type] += timestep_gen.sum()\n",
    "            gen_count[country][type] += len(timestep_gen)"
   ]
  },
  {
   "cell_type": "code",
   "execution_count": 13,
   "id": "a7b08c16-82d3-44f4-bfdb-7efdc849dd7a",
   "metadata": {},
   "outputs": [],
   "source": [
    "gen = {country: {type: gen_sum[country][type] / count for (type, count) in g.items() if count > 0}\n",
    "       for (country, g) in gen_count.items()}"
   ]
  },
  {
   "cell_type": "code",
   "execution_count": 14,
   "id": "54ac7c7e-dcf6-4b9c-81fe-d93be335e852",
   "metadata": {},
   "outputs": [
    {
     "data": {
      "text/plain": [
       "set()"
      ]
     },
     "execution_count": 14,
     "metadata": {},
     "output_type": "execute_result"
    }
   ],
   "source": [
    "countries - set(gen.keys())"
   ]
  },
  {
   "cell_type": "code",
   "execution_count": 15,
   "id": "25672b94-91fb-4622-9c3d-8e8b7c4aca69",
   "metadata": {},
   "outputs": [
    {
     "data": {
      "text/plain": [
       "True"
      ]
     },
     "execution_count": 15,
     "metadata": {},
     "output_type": "execute_result"
    }
   ],
   "source": [
    "all_types = set([])\n",
    "for g in gen.values():\n",
    "    all_types.update(g.keys())\n",
    "all_types == all_capacity_types"
   ]
  },
  {
   "cell_type": "code",
   "execution_count": 16,
   "id": "6d2502e3-197e-4177-a931-5ebe81d20bcb",
   "metadata": {},
   "outputs": [
    {
     "data": {
      "text/plain": [
       "{'Geothermal': 685.6604957877961,\n",
       " 'Other renewable': 590.3135386805076,\n",
       " 'Fossil Coal-derived gas': 992.0888080453301,\n",
       " 'Fossil Oil shale': 965.3841072447235,\n",
       " 'Fossil Gas': 49673.17116282833,\n",
       " 'Solar': 9948.528703189875,\n",
       " 'Waste': 1654.7528716305037,\n",
       " 'Marine': 0.0,\n",
       " 'Fossil Peat': 731.3962567361177,\n",
       " 'Fossil Hard coal': 35701.424692876215,\n",
       " 'Hydro Water Reservoir': 31623.565299100464,\n",
       " 'Hydro Pumped Storage': 4519.202029395663,\n",
       " 'Wind Offshore': 3673.6678082143408,\n",
       " 'Fossil Brown coal/Lignite': 34858.662974484774,\n",
       " 'Wind Onshore': 28541.914258691355,\n",
       " 'Nuclear': 93201.6588195912,\n",
       " 'Fossil Oil': 1975.104576008247,\n",
       " 'Hydro Run-of-river and poundage': 22670.008752384645,\n",
       " 'Other': 18080.785224791332,\n",
       " 'Biomass': 8043.577574139039}"
      ]
     },
     "execution_count": 16,
     "metadata": {},
     "output_type": "execute_result"
    }
   ],
   "source": [
    "total_gen = {type: sum([gen[country][type] for country in countries if type in gen[country].keys()]) for type in all_types}\n",
    "total_gen"
   ]
  },
  {
   "cell_type": "code",
   "execution_count": 17,
   "id": "c2691a44-a1d9-49d8-9b57-1f2bc0635402",
   "metadata": {},
   "outputs": [
    {
     "name": "stdout",
     "output_type": "stream",
     "text": [
      "Production (3912.27) above capacity (1.00) for type \"Other\" in country NL\n",
      "Production (6.93) above capacity (0.00) for type \"Fossil Oil\" in country CZ\n",
      "Production (109.33) above capacity (0.00) for type \"Other\" in country CZ\n",
      "Production (6.70) above capacity (6.00) for type \"Other renewable\" in country EE\n",
      "Production (4.55) above capacity (0.00) for type \"Fossil Peat\" in country EE\n",
      "Production (10472.35) above capacity (1708.00) for type \"Other\" in country IT\n",
      "Production (0.27) above capacity (0.00) for type \"Fossil Oil\" in country GR\n",
      "Production (11.55) above capacity (1.00) for type \"Solar\" in country LU\n",
      "Production (7.21) above capacity (2.00) for type \"Biomass\" in country LU\n",
      "Production (284.76) above capacity (170.00) for type \"Biomass\" in country FR\n",
      "Production (380.71) above capacity (0.00) for type \"Fossil Brown coal/Lignite\" in country ES\n",
      "Production (30.05) above capacity (0.00) for type \"Other\" in country NO\n",
      "Production (431.82) above capacity (0.00) for type \"Fossil Coal-derived gas\" in country DE\n"
     ]
    }
   ],
   "source": [
    "for country in countries:\n",
    "    for type in gen[country].keys():\n",
    "        if type not in capacity[country].keys():\n",
    "            print('Missing capacity for type \"%s\" in country %s' % (type, country))\n",
    "        elif gen[country][type] > capacity[country][type]:\n",
    "            print('Production (%.2f) above capacity (%.2f) for type \"%s\" in country %s'\n",
    "                  % (gen[country][type], capacity[country][type], type, country))"
   ]
  },
  {
   "cell_type": "markdown",
   "id": "245ad353-4dd7-4fb9-a536-a21f09cc4ae1",
   "metadata": {},
   "source": [
    "## Usage"
   ]
  },
  {
   "cell_type": "code",
   "execution_count": 18,
   "id": "c3789535-0cdd-40c2-a75c-55fb04c746ae",
   "metadata": {},
   "outputs": [],
   "source": [
    "usage = {country: {type: min(1.0, gen[country][type] / c) for (type, c) in cap.items() if (c > 0) and (type in gen[country].keys())}\n",
    "         for (country, cap) in capacity.items()}"
   ]
  },
  {
   "cell_type": "code",
   "execution_count": 19,
   "id": "b5265f23-8d2b-4bd8-b59e-fb5d5ec433b4",
   "metadata": {},
   "outputs": [
    {
     "data": {
      "text/plain": [
       "{'Hydro Run-of-river and poundage': 0.36151283757145675,\n",
       " 'Nuclear': 0.6655099061604068,\n",
       " 'Hydro Water Reservoir': 0.1847211723009944,\n",
       " 'Hydro Pumped Storage': 0.09379069662187217}"
      ]
     },
     "execution_count": 19,
     "metadata": {},
     "output_type": "execute_result"
    }
   ],
   "source": [
    "usage['CH']"
   ]
  },
  {
   "cell_type": "code",
   "execution_count": 20,
   "id": "f8ef774d-5a82-41ff-bf0f-f251bfc623b8",
   "metadata": {},
   "outputs": [
    {
     "data": {
      "text/plain": [
       "{'Fossil Gas': 0.6103885420147693,\n",
       " 'Biomass': 1.0,\n",
       " 'Solar': 0.11872979183804856,\n",
       " 'Hydro Water Reservoir': 0.2077282539569099,\n",
       " 'Fossil Oil': 0.050642117381256256,\n",
       " 'Hydro Run-of-river and poundage': 0.4655437275228686,\n",
       " 'Nuclear': 0.6902363886408641,\n",
       " 'Fossil Hard coal': 0.2791861530960507,\n",
       " 'Wind Onshore': 0.16459696226751308,\n",
       " 'Hydro Pumped Storage': 0.11771793481119061}"
      ]
     },
     "execution_count": 20,
     "metadata": {},
     "output_type": "execute_result"
    }
   ],
   "source": [
    "usage['FR']"
   ]
  },
  {
   "cell_type": "code",
   "execution_count": 21,
   "id": "f52c1852-98b6-4e25-a4bd-23999a26552b",
   "metadata": {},
   "outputs": [
    {
     "data": {
      "text/plain": [
       "{'Fossil Brown coal/Lignite': 0.6980634995721477,\n",
       " 'Biomass': 0.6390688081340326,\n",
       " 'Fossil Hard coal': 0.33563320772100996,\n",
       " 'Waste': 0.3711244066295341,\n",
       " 'Geothermal': 0.477981876376197,\n",
       " 'Other': 0.21764943061500083,\n",
       " 'Hydro Water Reservoir': 0.06481778794061095,\n",
       " 'Fossil Oil': 0.04291615512412528,\n",
       " 'Wind Offshore': 0.33326902711967815,\n",
       " 'Fossil Gas': 0.07986534508272647,\n",
       " 'Hydro Run-of-river and poundage': 0.4902638078306201,\n",
       " 'Other renewable': 0.2757552750524714,\n",
       " 'Hydro Pumped Storage': 0.10991873654739151,\n",
       " 'Nuclear': 0.8463433163183248,\n",
       " 'Wind Onshore': 0.15798061646690328,\n",
       " 'Solar': 0.0962918313103897}"
      ]
     },
     "execution_count": 21,
     "metadata": {},
     "output_type": "execute_result"
    }
   ],
   "source": [
    "usage['DE']"
   ]
  },
  {
   "cell_type": "markdown",
   "id": "488e704e-9c96-4169-b45c-03b645500bba",
   "metadata": {},
   "source": [
    "## Aggregating for PanTaGruEl"
   ]
  },
  {
   "cell_type": "code",
   "execution_count": 22,
   "id": "eb16fd3c-21b9-4219-a193-fb12e9a2d5ce",
   "metadata": {},
   "outputs": [],
   "source": [
    "PanTaGruEl_countries = {\"BG\", \"BE\", \"IT\", \"HU\", \"FR\", \"AT\", \"DE\", \"PL\", \"CZ\", \"NL\",\n",
    "                        \"GR\", \"CH\", \"RO\", \"ES\", \"SI\", \"PT\", \"LU\", \"HR\", \"AL\", \"DK\",\n",
    "                        \"RS\", \"SK\", \"BA\", \"ME\", \"MK\"}"
   ]
  },
  {
   "cell_type": "code",
   "execution_count": 23,
   "id": "9d17ada8-c893-4a4f-a665-73bdd8dbbfc9",
   "metadata": {},
   "outputs": [
    {
     "data": {
      "text/plain": [
       "{'AL'}"
      ]
     },
     "execution_count": 23,
     "metadata": {},
     "output_type": "execute_result"
    }
   ],
   "source": [
    "set(PanTaGruEl_countries) - set(countries)"
   ]
  },
  {
   "cell_type": "code",
   "execution_count": 24,
   "id": "ebe9ce8b-c501-4728-b2f0-9d5811ec0fc4",
   "metadata": {},
   "outputs": [
    {
     "data": {
      "text/plain": [
       "True"
      ]
     },
     "execution_count": 24,
     "metadata": {},
     "output_type": "execute_result"
    }
   ],
   "source": [
    "types_aggregation = {\n",
    "    'Fossil Brown coal/Lignite'       : 'coal',\n",
    "    'Fossil Hard coal'                : 'coal',\n",
    "    'Fossil Coal-derived gas'         : 'gas',\n",
    "    'Fossil Gas'                      : 'gas',\n",
    "    'Fossil Oil'                      : 'gas',\n",
    "    'Fossil Oil shale'                : 'gas',\n",
    "    'Fossil Peat'                     : 'coal',\n",
    "    'Hydro Pumped Storage'            : 'hydro_storage',\n",
    "    'Hydro Water Reservoir'           : 'hydro_storage',\n",
    "    'Hydro Run-of-river and poundage' : 'hydro_ror',\n",
    "    'Nuclear'                         : 'nuclear',\n",
    "    'Biomass'                         : 'other',\n",
    "    'Geothermal'                      : 'other',\n",
    "    'Marine'                          : 'other',\n",
    "    'Other'                           : 'other',\n",
    "    'Other renewable'                 : 'other',\n",
    "    'Solar'                           : 'other',\n",
    "    'Waste'                           : 'other',\n",
    "    'Wind Offshore'                   : 'other',\n",
    "    'Wind Onshore'                    : 'other'\n",
    "}\n",
    "\n",
    "all_types == set(types_aggregation.keys())"
   ]
  },
  {
   "cell_type": "code",
   "execution_count": 25,
   "id": "c3a6346f-0e32-4b13-bb57-5edb7474ebef",
   "metadata": {},
   "outputs": [
    {
     "data": {
      "text/plain": [
       "{'coal', 'gas', 'hydro_ror', 'hydro_storage', 'nuclear', 'other'}"
      ]
     },
     "execution_count": 25,
     "metadata": {},
     "output_type": "execute_result"
    }
   ],
   "source": [
    "aggregated_types = set(types_aggregation.values())\n",
    "aggregated_types"
   ]
  },
  {
   "cell_type": "code",
   "execution_count": 26,
   "id": "b7b0a6d4-d569-444b-aae9-26d0997042d8",
   "metadata": {},
   "outputs": [
    {
     "data": {
      "text/plain": [
       "25"
      ]
     },
     "execution_count": 26,
     "metadata": {},
     "output_type": "execute_result"
    }
   ],
   "source": [
    "len(PanTaGruEl_countries)"
   ]
  },
  {
   "cell_type": "code",
   "execution_count": 27,
   "id": "a1dea30f-e42d-4fe2-87ef-3f1ab4d48c6a",
   "metadata": {},
   "outputs": [],
   "source": [
    "valid_countries = PanTaGruEl_countries.intersection(countries)\n",
    "aggregated_gen = {country: {type: 0.0 for type in aggregated_types} for country in valid_countries}\n",
    "aggregated_capacity = {country: {type: 0.0 for type in aggregated_types} for country in valid_countries}\n",
    "\n",
    "for country in valid_countries:\n",
    "    for (type, value) in gen[country].items():\n",
    "        aggregated_gen[country][types_aggregation[type]] += value\n",
    "    for (type, value) in capacity[country].items():\n",
    "        aggregated_capacity[country][types_aggregation[type]] += value\n",
    "\n",
    "    aggregated_gen[country][\"hydro\"] = aggregated_gen[country][\"hydro_storage\"] + aggregated_gen[country][\"hydro_ror\"]\n",
    "    aggregated_capacity[country][\"hydro\"] = aggregated_capacity[country][\"hydro_storage\"] + aggregated_capacity[country][\"hydro_ror\"]"
   ]
  },
  {
   "cell_type": "code",
   "execution_count": 28,
   "id": "9ec6fd85-9a18-4299-b831-758412aa2870",
   "metadata": {},
   "outputs": [],
   "source": [
    "aggregated_usage = {country: {type: min(1.0, aggregated_gen[country][type] / c) if c > 0 else 0.0 for (type, c) in cap.items()}\n",
    "                    for (country, cap) in aggregated_capacity.items()}"
   ]
  },
  {
   "cell_type": "markdown",
   "id": "4f6ac107-287e-49b7-8653-c5a6f1fd14d3",
   "metadata": {},
   "source": [
    "Compute average usage by type:"
   ]
  },
  {
   "cell_type": "code",
   "execution_count": 29,
   "id": "051e07e1-df9f-4995-a48d-1858ef1f3d00",
   "metadata": {},
   "outputs": [
    {
     "data": {
      "text/plain": [
       "{'gas': 0.26623399035193107,\n",
       " 'hydro': 0.24781086015765597,\n",
       " 'hydro_storage': 0.172184816632542,\n",
       " 'nuclear': 0.8261343974102862,\n",
       " 'hydro_ror': 0.40586266156694306,\n",
       " 'coal': 0.4665722228670449,\n",
       " 'other': 0.2911420353616552}"
      ]
     },
     "execution_count": 29,
     "metadata": {},
     "output_type": "execute_result"
    }
   ],
   "source": [
    "def list_avg(x):\n",
    "    return sum(x) / len(x)\n",
    "average_aggregated_usage = {type: list_avg([usage[type] for country, usage in aggregated_usage.items() if usage[type] > 0.0])\n",
    "                            for type in aggregated_types.union({'hydro'})}\n",
    "average_aggregated_usage"
   ]
  },
  {
   "cell_type": "markdown",
   "id": "daefd094-9ef7-4175-a8bb-caa1343d92a8",
   "metadata": {},
   "source": [
    "- Albania is not part of the ENTSO-E data\n",
    "- Bosnia and Croatia have no usage data\n",
    "\n",
    "For these countries, use average value"
   ]
  },
  {
   "cell_type": "code",
   "execution_count": 30,
   "id": "4f334c57-650b-4b52-8fca-cd3ce840a734",
   "metadata": {},
   "outputs": [],
   "source": [
    "for country in {'AL', 'BA', 'HR'}:\n",
    "    aggregated_usage[country] = average_aggregated_usage"
   ]
  },
  {
   "cell_type": "code",
   "execution_count": 31,
   "id": "623928ce-29d7-4a1b-889f-388a978bcf25",
   "metadata": {},
   "outputs": [
    {
     "data": {
      "text/html": [
       "<div>\n",
       "<style scoped>\n",
       "    .dataframe tbody tr th:only-of-type {\n",
       "        vertical-align: middle;\n",
       "    }\n",
       "\n",
       "    .dataframe tbody tr th {\n",
       "        vertical-align: top;\n",
       "    }\n",
       "\n",
       "    .dataframe thead th {\n",
       "        text-align: right;\n",
       "    }\n",
       "</style>\n",
       "<table border=\"1\" class=\"dataframe\">\n",
       "  <thead>\n",
       "    <tr style=\"text-align: right;\">\n",
       "      <th></th>\n",
       "      <th>nuclear</th>\n",
       "      <th>hydro_ror</th>\n",
       "      <th>gas</th>\n",
       "      <th>coal</th>\n",
       "      <th>hydro_storage</th>\n",
       "      <th>other</th>\n",
       "      <th>hydro</th>\n",
       "    </tr>\n",
       "  </thead>\n",
       "  <tbody>\n",
       "    <tr>\n",
       "      <th>NL</th>\n",
       "      <td>0.878398</td>\n",
       "      <td>0.000000</td>\n",
       "      <td>0.202746</td>\n",
       "      <td>0.779267</td>\n",
       "      <td>0.000000</td>\n",
       "      <td>0.568052</td>\n",
       "      <td>0.000000</td>\n",
       "    </tr>\n",
       "    <tr>\n",
       "      <th>CZ</th>\n",
       "      <td>0.641604</td>\n",
       "      <td>0.280609</td>\n",
       "      <td>0.385261</td>\n",
       "      <td>0.476716</td>\n",
       "      <td>0.143951</td>\n",
       "      <td>0.290758</td>\n",
       "      <td>0.164156</td>\n",
       "    </tr>\n",
       "    <tr>\n",
       "      <th>PL</th>\n",
       "      <td>0.000000</td>\n",
       "      <td>0.451889</td>\n",
       "      <td>0.438759</td>\n",
       "      <td>0.544513</td>\n",
       "      <td>0.047969</td>\n",
       "      <td>0.228897</td>\n",
       "      <td>0.116831</td>\n",
       "    </tr>\n",
       "    <tr>\n",
       "      <th>HU</th>\n",
       "      <td>0.913563</td>\n",
       "      <td>0.402413</td>\n",
       "      <td>0.137389</td>\n",
       "      <td>0.597108</td>\n",
       "      <td>0.494236</td>\n",
       "      <td>0.253345</td>\n",
       "      <td>0.448341</td>\n",
       "    </tr>\n",
       "    <tr>\n",
       "      <th>DK</th>\n",
       "      <td>0.000000</td>\n",
       "      <td>0.000000</td>\n",
       "      <td>0.128388</td>\n",
       "      <td>0.224035</td>\n",
       "      <td>0.000000</td>\n",
       "      <td>0.270805</td>\n",
       "      <td>0.000000</td>\n",
       "    </tr>\n",
       "    <tr>\n",
       "      <th>IT</th>\n",
       "      <td>0.000000</td>\n",
       "      <td>0.339572</td>\n",
       "      <td>0.160118</td>\n",
       "      <td>0.144434</td>\n",
       "      <td>0.093580</td>\n",
       "      <td>0.851337</td>\n",
       "      <td>0.210163</td>\n",
       "    </tr>\n",
       "    <tr>\n",
       "      <th>PT</th>\n",
       "      <td>0.000000</td>\n",
       "      <td>0.380341</td>\n",
       "      <td>0.284405</td>\n",
       "      <td>0.761095</td>\n",
       "      <td>0.200312</td>\n",
       "      <td>0.305767</td>\n",
       "      <td>0.274320</td>\n",
       "    </tr>\n",
       "    <tr>\n",
       "      <th>BG</th>\n",
       "      <td>0.898148</td>\n",
       "      <td>0.100629</td>\n",
       "      <td>0.598930</td>\n",
       "      <td>0.562805</td>\n",
       "      <td>0.193433</td>\n",
       "      <td>0.185281</td>\n",
       "      <td>0.178081</td>\n",
       "    </tr>\n",
       "    <tr>\n",
       "      <th>BA</th>\n",
       "      <td>0.826134</td>\n",
       "      <td>0.405863</td>\n",
       "      <td>0.266234</td>\n",
       "      <td>0.466572</td>\n",
       "      <td>0.172185</td>\n",
       "      <td>0.291142</td>\n",
       "      <td>0.247811</td>\n",
       "    </tr>\n",
       "    <tr>\n",
       "      <th>SI</th>\n",
       "      <td>0.888306</td>\n",
       "      <td>0.471659</td>\n",
       "      <td>0.063636</td>\n",
       "      <td>0.554624</td>\n",
       "      <td>0.175480</td>\n",
       "      <td>0.184435</td>\n",
       "      <td>0.428422</td>\n",
       "    </tr>\n",
       "    <tr>\n",
       "      <th>CH</th>\n",
       "      <td>0.665510</td>\n",
       "      <td>0.361513</td>\n",
       "      <td>0.000000</td>\n",
       "      <td>0.000000</td>\n",
       "      <td>0.133820</td>\n",
       "      <td>0.000000</td>\n",
       "      <td>0.137643</td>\n",
       "    </tr>\n",
       "    <tr>\n",
       "      <th>AT</th>\n",
       "      <td>0.000000</td>\n",
       "      <td>0.575574</td>\n",
       "      <td>0.192820</td>\n",
       "      <td>0.279062</td>\n",
       "      <td>0.172212</td>\n",
       "      <td>0.255838</td>\n",
       "      <td>0.360638</td>\n",
       "    </tr>\n",
       "    <tr>\n",
       "      <th>RO</th>\n",
       "      <td>0.989504</td>\n",
       "      <td>0.487937</td>\n",
       "      <td>0.225356</td>\n",
       "      <td>0.313601</td>\n",
       "      <td>0.200636</td>\n",
       "      <td>0.214107</td>\n",
       "      <td>0.319484</td>\n",
       "    </tr>\n",
       "    <tr>\n",
       "      <th>GR</th>\n",
       "      <td>0.000000</td>\n",
       "      <td>0.000000</td>\n",
       "      <td>0.297824</td>\n",
       "      <td>0.441955</td>\n",
       "      <td>0.000000</td>\n",
       "      <td>0.189059</td>\n",
       "      <td>0.000000</td>\n",
       "    </tr>\n",
       "    <tr>\n",
       "      <th>LU</th>\n",
       "      <td>0.000000</td>\n",
       "      <td>0.368294</td>\n",
       "      <td>0.388638</td>\n",
       "      <td>0.000000</td>\n",
       "      <td>0.180147</td>\n",
       "      <td>0.276706</td>\n",
       "      <td>0.310804</td>\n",
       "    </tr>\n",
       "    <tr>\n",
       "      <th>HR</th>\n",
       "      <td>0.826134</td>\n",
       "      <td>0.405863</td>\n",
       "      <td>0.266234</td>\n",
       "      <td>0.466572</td>\n",
       "      <td>0.172185</td>\n",
       "      <td>0.291142</td>\n",
       "      <td>0.247811</td>\n",
       "    </tr>\n",
       "    <tr>\n",
       "      <th>FR</th>\n",
       "      <td>0.690236</td>\n",
       "      <td>0.465544</td>\n",
       "      <td>0.363085</td>\n",
       "      <td>0.279186</td>\n",
       "      <td>0.173861</td>\n",
       "      <td>0.157949</td>\n",
       "      <td>0.301916</td>\n",
       "    </tr>\n",
       "    <tr>\n",
       "      <th>ES</th>\n",
       "      <td>0.842294</td>\n",
       "      <td>0.884237</td>\n",
       "      <td>0.172666</td>\n",
       "      <td>0.423083</td>\n",
       "      <td>0.136630</td>\n",
       "      <td>0.244955</td>\n",
       "      <td>0.169988</td>\n",
       "    </tr>\n",
       "    <tr>\n",
       "      <th>BE</th>\n",
       "      <td>0.793639</td>\n",
       "      <td>0.134980</td>\n",
       "      <td>0.359650</td>\n",
       "      <td>0.000000</td>\n",
       "      <td>0.095601</td>\n",
       "      <td>0.204928</td>\n",
       "      <td>0.100120</td>\n",
       "    </tr>\n",
       "    <tr>\n",
       "      <th>RS</th>\n",
       "      <td>0.000000</td>\n",
       "      <td>0.323282</td>\n",
       "      <td>0.521643</td>\n",
       "      <td>0.553236</td>\n",
       "      <td>0.198471</td>\n",
       "      <td>0.213777</td>\n",
       "      <td>0.281301</td>\n",
       "    </tr>\n",
       "    <tr>\n",
       "      <th>MK</th>\n",
       "      <td>0.000000</td>\n",
       "      <td>0.000000</td>\n",
       "      <td>0.197317</td>\n",
       "      <td>0.335170</td>\n",
       "      <td>0.362189</td>\n",
       "      <td>0.372659</td>\n",
       "      <td>0.362189</td>\n",
       "    </tr>\n",
       "    <tr>\n",
       "      <th>DE</th>\n",
       "      <td>0.846343</td>\n",
       "      <td>0.490264</td>\n",
       "      <td>0.086883</td>\n",
       "      <td>0.493870</td>\n",
       "      <td>0.103638</td>\n",
       "      <td>0.178694</td>\n",
       "      <td>0.211673</td>\n",
       "    </tr>\n",
       "    <tr>\n",
       "      <th>ME</th>\n",
       "      <td>0.000000</td>\n",
       "      <td>0.000000</td>\n",
       "      <td>0.000000</td>\n",
       "      <td>0.659133</td>\n",
       "      <td>0.136274</td>\n",
       "      <td>0.000000</td>\n",
       "      <td>0.136274</td>\n",
       "    </tr>\n",
       "    <tr>\n",
       "      <th>SK</th>\n",
       "      <td>0.866068</td>\n",
       "      <td>0.380929</td>\n",
       "      <td>0.119168</td>\n",
       "      <td>0.441980</td>\n",
       "      <td>0.029073</td>\n",
       "      <td>0.375490</td>\n",
       "      <td>0.196063</td>\n",
       "    </tr>\n",
       "    <tr>\n",
       "      <th>AL</th>\n",
       "      <td>0.826134</td>\n",
       "      <td>0.405863</td>\n",
       "      <td>0.266234</td>\n",
       "      <td>0.466572</td>\n",
       "      <td>0.172185</td>\n",
       "      <td>0.291142</td>\n",
       "      <td>0.247811</td>\n",
       "    </tr>\n",
       "  </tbody>\n",
       "</table>\n",
       "</div>"
      ],
      "text/plain": [
       "     nuclear  hydro_ror       gas      coal  hydro_storage     other     hydro\n",
       "NL  0.878398   0.000000  0.202746  0.779267       0.000000  0.568052  0.000000\n",
       "CZ  0.641604   0.280609  0.385261  0.476716       0.143951  0.290758  0.164156\n",
       "PL  0.000000   0.451889  0.438759  0.544513       0.047969  0.228897  0.116831\n",
       "HU  0.913563   0.402413  0.137389  0.597108       0.494236  0.253345  0.448341\n",
       "DK  0.000000   0.000000  0.128388  0.224035       0.000000  0.270805  0.000000\n",
       "IT  0.000000   0.339572  0.160118  0.144434       0.093580  0.851337  0.210163\n",
       "PT  0.000000   0.380341  0.284405  0.761095       0.200312  0.305767  0.274320\n",
       "BG  0.898148   0.100629  0.598930  0.562805       0.193433  0.185281  0.178081\n",
       "BA  0.826134   0.405863  0.266234  0.466572       0.172185  0.291142  0.247811\n",
       "SI  0.888306   0.471659  0.063636  0.554624       0.175480  0.184435  0.428422\n",
       "CH  0.665510   0.361513  0.000000  0.000000       0.133820  0.000000  0.137643\n",
       "AT  0.000000   0.575574  0.192820  0.279062       0.172212  0.255838  0.360638\n",
       "RO  0.989504   0.487937  0.225356  0.313601       0.200636  0.214107  0.319484\n",
       "GR  0.000000   0.000000  0.297824  0.441955       0.000000  0.189059  0.000000\n",
       "LU  0.000000   0.368294  0.388638  0.000000       0.180147  0.276706  0.310804\n",
       "HR  0.826134   0.405863  0.266234  0.466572       0.172185  0.291142  0.247811\n",
       "FR  0.690236   0.465544  0.363085  0.279186       0.173861  0.157949  0.301916\n",
       "ES  0.842294   0.884237  0.172666  0.423083       0.136630  0.244955  0.169988\n",
       "BE  0.793639   0.134980  0.359650  0.000000       0.095601  0.204928  0.100120\n",
       "RS  0.000000   0.323282  0.521643  0.553236       0.198471  0.213777  0.281301\n",
       "MK  0.000000   0.000000  0.197317  0.335170       0.362189  0.372659  0.362189\n",
       "DE  0.846343   0.490264  0.086883  0.493870       0.103638  0.178694  0.211673\n",
       "ME  0.000000   0.000000  0.000000  0.659133       0.136274  0.000000  0.136274\n",
       "SK  0.866068   0.380929  0.119168  0.441980       0.029073  0.375490  0.196063\n",
       "AL  0.826134   0.405863  0.266234  0.466572       0.172185  0.291142  0.247811"
      ]
     },
     "execution_count": 31,
     "metadata": {},
     "output_type": "execute_result"
    }
   ],
   "source": [
    "aggregated_usage_df = pd.DataFrame.from_dict(aggregated_usage)\n",
    "aggregated_usage_df.T"
   ]
  },
  {
   "cell_type": "code",
   "execution_count": 32,
   "id": "53a7a6f9-999d-40d1-900a-f9ac2508f1ea",
   "metadata": {},
   "outputs": [],
   "source": [
    "aggregated_usage_df.to_csv('pantagruel_capacity_usage.csv')"
   ]
  },
  {
   "cell_type": "code",
   "execution_count": null,
   "id": "02fc069b-763b-4836-99f9-6c94d1b39274",
   "metadata": {},
   "outputs": [],
   "source": []
  }
 ],
 "metadata": {
  "kernelspec": {
   "display_name": "Python 3 (ipykernel)",
   "language": "python",
   "name": "python3"
  },
  "language_info": {
   "codemirror_mode": {
    "name": "ipython",
    "version": 3
   },
   "file_extension": ".py",
   "mimetype": "text/x-python",
   "name": "python",
   "nbconvert_exporter": "python",
   "pygments_lexer": "ipython3",
   "version": "3.10.14"
  }
 },
 "nbformat": 4,
 "nbformat_minor": 5
}
