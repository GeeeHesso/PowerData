{
 "cells": [
  {
   "cell_type": "markdown",
   "id": "8eb035a0-16ef-4698-80a4-8963b3d02291",
   "metadata": {},
   "source": [
    "## OPF definition"
   ]
  },
  {
   "cell_type": "code",
   "execution_count": 1,
   "id": "e1f544ed-2a23-45d4-a052-61171ae20240",
   "metadata": {},
   "outputs": [],
   "source": [
    "using JuMP"
   ]
  },
  {
   "cell_type": "code",
   "execution_count": 2,
   "id": "abf16eab-acab-4ec4-9c51-d2e03b4caac5",
   "metadata": {},
   "outputs": [
    {
     "name": "stdout",
     "output_type": "stream",
     "text": [
      "Set parameter Username\n",
      "Academic license - for non-commercial use only - expires 2025-05-17\n"
     ]
    },
    {
     "data": {
      "text/plain": [
       "get_optimizer (generic function with 1 method)"
      ]
     },
     "execution_count": 2,
     "metadata": {},
     "output_type": "execute_result"
    }
   ],
   "source": [
    "using Gurobi\n",
    "\n",
    "const gurobi_env = Gurobi.Env()\n",
    "\n",
    "function get_optimizer()\n",
    "    return optimizer_with_attributes(() -> Gurobi.Optimizer(gurobi_env), \"OutputFlag\" => 0)\n",
    "end"
   ]
  },
  {
   "cell_type": "code",
   "execution_count": 3,
   "id": "d91abdc7-d7f1-4443-9aac-5e0a96f796e5",
   "metadata": {},
   "outputs": [],
   "source": [
    "# using Ipopt\n",
    "\n",
    "# function get_optimizer()\n",
    "#     return optimizer_with_attributes(Ipopt.Optimizer, \"print_level\" => 0)\n",
    "# end"
   ]
  },
  {
   "cell_type": "code",
   "execution_count": 4,
   "id": "1e79a966-d3fe-48ab-b3b1-c62bfba4987e",
   "metadata": {},
   "outputs": [
    {
     "data": {
      "text/plain": [
       "get_model (generic function with 1 method)"
      ]
     },
     "execution_count": 4,
     "metadata": {},
     "output_type": "execute_result"
    }
   ],
   "source": [
    "function get_model()\n",
    "    model = Model(get_optimizer(), add_bridges = false)\n",
    "    set_string_names_on_creation(model, false)\n",
    "    return model\n",
    "end"
   ]
  },
  {
   "cell_type": "code",
   "execution_count": 5,
   "id": "71c274ea-8b2c-4dbb-a4e4-8c4eaea71d56",
   "metadata": {},
   "outputs": [
    {
     "data": {
      "text/plain": [
       "average (generic function with 1 method)"
      ]
     },
     "execution_count": 5,
     "metadata": {},
     "output_type": "execute_result"
    }
   ],
   "source": [
    "using Statistics\n",
    "\n",
    "function total(array, dims)\n",
    "    return dropdims(sum(array, dims=dims), dims=dims)\n",
    "end\n",
    "\n",
    "function average(array, dims)\n",
    "    return dropdims(mean(array, dims=dims), dims=dims)\n",
    "end"
   ]
  },
  {
   "cell_type": "code",
   "execution_count": 6,
   "id": "17f21c76-fb7e-4621-a8a2-d14932c7e6bd",
   "metadata": {},
   "outputs": [
    {
     "data": {
      "text/plain": [
       "opf (generic function with 5 methods)"
      ]
     },
     "execution_count": 6,
     "metadata": {},
     "output_type": "execute_result"
    }
   ],
   "source": [
    "using OrderedCollections\n",
    "\n",
    "function opf(Q::AbstractArray{<:Real,2}, L::AbstractArray{<:Real,2}, \n",
    "        P_max::AbstractVector{<:Real}, P_total::AbstractVector{<:Real},\n",
    "        A_constraints::AbstractArray{<:Real,2}, P_constraints::AbstractVector{<:Real},\n",
    "        A_ramp::AbstractArray{<:Real,2} = Array{Real}(undef, 0, 0), ΔP_ramp_max::AbstractVector{<:Real} = Real[],\n",
    "        P_ramp_first::AbstractVector{<:Real} = Real[], P_ramp_last::AbstractVector{<:Real} = Real[];\n",
    "        indent::Int = 0)\n",
    "    \n",
    "    N = length(P_max)\n",
    "    T = length(P_total)\n",
    "    n_constraints = length(P_constraints)\n",
    "    n_ramp = length(ΔP_ramp_max)\n",
    "\n",
    "    # check dimensions of the input\n",
    "    @assert size(Q) == (N, N)\n",
    "    @assert size(L) == (N, T)\n",
    "    @assert size(A_constraints) == (n_constraints, N)\n",
    "    @assert (size(A_ramp) == (n_ramp, N)) || (n_ramp == 0)\n",
    "    @assert length(P_ramp_first) ∈ [0, n_ramp]\n",
    "    @assert length(P_ramp_last) == length(P_ramp_first)\n",
    "    \n",
    "    print(\" \"^indent)\n",
    "    print(\"OPF with $T time steps, $N generators, $n_constraints annual constraints\")\n",
    "    if n_ramp > 0\n",
    "        if length(P_ramp_first) == 0\n",
    "            print(\", and $n_ramp ramp constraints (cyclic)\")\n",
    "        else\n",
    "            print(\", and $n_ramp ramp constraints (fixed boundaries)\")\n",
    "        end\n",
    "    end\n",
    "    println()\n",
    "    \n",
    "    # check feasibility of the model\n",
    "    @assert all(P_constraints .<= A_constraints * P_max)\n",
    "    @assert all(ΔP_ramp_max .>= 0)\n",
    "    @assert all(P_total .<= sum(P_max))\n",
    "    \n",
    "    print(\" \"^indent)\n",
    "    println(\"Creating the model...\")\n",
    "    flush(stdout)\n",
    "    model = get_model()\n",
    "    # variables\n",
    "    @variable(model, 0.0 <= P[i=1:N, t=1:T] <= P_max[i])\n",
    "    # constraints \n",
    "    @constraint(model, dropdims(sum(P, dims=1), dims=1) .== P_total)\n",
    "    @constraint(model, A_constraints * dropdims(sum(P, dims=2), dims=2) / T .== P_constraints)\n",
    "    if n_ramp > 0\n",
    "        @expression(model, P_ramp, A_ramp * P);\n",
    "        if length(P_ramp_first) == 0\n",
    "            @expression(model, ΔP_ramp[i=1:n_ramp, t=1:T], P_ramp[i, t] - P_ramp[i, t % T + 1])\n",
    "            @constraint(model, ΔP_ramp .<= ΔP_ramp_max)\n",
    "            @constraint(model, ΔP_ramp .>= -ΔP_ramp_max)\n",
    "        else\n",
    "            @expression(model, ΔP_ramp[i=1:n_ramp, t=1:T-1], P_ramp[i, t] - P_ramp[i, t+1])\n",
    "            @constraint(model, ΔP_ramp .<= ΔP_ramp_max)\n",
    "            @constraint(model, ΔP_ramp .>= -ΔP_ramp_max)\n",
    "            @expression(model, ΔP_ramp_first[i=1:n_ramp], P_ramp[i, 1] - P_ramp_first[i])\n",
    "            @constraint(model, ΔP_ramp_first .<= ΔP_ramp_max)\n",
    "            @constraint(model, ΔP_ramp_first .>= -ΔP_ramp_max)\n",
    "            @expression(model, ΔP_ramp_last[i=1:n_ramp], P_ramp[i, T] - P_ramp_last[i])\n",
    "            @constraint(model, ΔP_ramp_last .<= ΔP_ramp_max)\n",
    "            @constraint(model, ΔP_ramp_last .>= -ΔP_ramp_max)\n",
    "        end\n",
    "    end\n",
    "    # cost function\n",
    "    @objective(model, Min, QuadExpr(sum(L[i, t] * P[i, t] for i=1:N for t=1:T),\n",
    "        OrderedDict(UnorderedPair(P[i,t], P[j,t]) => (i == j ? 1 : 2)  * Q[i,j]\n",
    "        for i=1:N for j=i:N for t=1:T)))\n",
    "\n",
    "    print(\" \"^indent)\n",
    "    println(\"Optimizing...\")\n",
    "    flush(stdout)\n",
    "    optimize!(model)\n",
    "\n",
    "    if termination_status(model) ∈ [OPTIMAL, LOCALLY_SOLVED] \n",
    "        return value.(P)\n",
    "    end\n",
    "    return termination_status(model)\n",
    "end"
   ]
  },
  {
   "cell_type": "markdown",
   "id": "4c8ad8db-c131-477c-894c-83621a8a3659",
   "metadata": {},
   "source": [
    "## Partition"
   ]
  },
  {
   "cell_type": "code",
   "execution_count": 7,
   "id": "cc18d658-75f4-4443-a55c-888e99ba29a9",
   "metadata": {},
   "outputs": [
    {
     "data": {
      "text/plain": [
       "partitioned_opf (generic function with 5 methods)"
      ]
     },
     "execution_count": 7,
     "metadata": {},
     "output_type": "execute_result"
    }
   ],
   "source": [
    "function partitioned_opf(partitions::Vector{Int},\n",
    "        Q::AbstractArray{<:Real,2}, L::AbstractArray{<:Real,2}, \n",
    "        P_max::AbstractVector{<:Real}, P_total::AbstractVector{<:Real},\n",
    "        A_constraints::AbstractArray{<:Real,2}, P_constraints::AbstractVector{<:Real},\n",
    "        A_ramp::AbstractArray{<:Real,2} = Array{Real}(undef, 0, 0), ΔP_ramp_max::AbstractVector{<:Real} = Real[],\n",
    "        P_ramp_first::AbstractVector{<:Real} = Real[], P_ramp_last::AbstractVector{<:Real} = Real[];\n",
    "        indent::Int = 0)\n",
    "    \n",
    "    N = length(P_max)\n",
    "    T = length(P_total)\n",
    "    n_constraints = length(P_constraints)\n",
    "    n_ramp = length(ΔP_ramp_max)\n",
    "\n",
    "    # check that the number of partitions matches the total number of steps\n",
    "    @assert prod(partitions) == T\n",
    "\n",
    "    if length(partitions) == 1\n",
    "        return opf(Q, L, P_max, P_total, A_constraints, P_constraints,\n",
    "            A_ramp, ΔP_ramp_max, P_ramp_first, P_ramp_last, indent = indent + 4)\n",
    "    end\n",
    "\n",
    "    # check dimensions of the input that needs to be partitioned\n",
    "    @assert size(L) == (N, T)\n",
    "    @assert size(A_constraints) == (n_constraints, N)\n",
    "    @assert (size(A_ramp) == (n_ramp, N)) || (n_ramp == 0)\n",
    "\n",
    "    n_partitions = partitions[1]\n",
    "    partition_length = T ÷ n_partitions\n",
    "    \n",
    "    println()\n",
    "    print(\" \"^indent)\n",
    "    println(\">>> Partitioning a dataset of $T time steps into $n_partitions chunks of $partition_length time steps\")\n",
    "    println()\n",
    "\n",
    "    partitioned_P_total = reshape(P_total, (partition_length, n_partitions))\n",
    "    aggregated_P_total = average(partitioned_P_total, 1)\n",
    "\n",
    "    partitioned_L = reshape(L, (N, partition_length, n_partitions))\n",
    "    aggregated_L = average(partitioned_L, 2)\n",
    "    \n",
    "    aggregated_P = opf(Q, aggregated_L, P_max, aggregated_P_total, A_constraints, P_constraints,\n",
    "        A_ramp, ΔP_ramp_max, P_ramp_first, P_ramp_last, indent = indent + 4)\n",
    "\n",
    "    aggregated_P = min.(aggregated_P, P_max)\n",
    "    partitioned_P_constraints = A_constraints * aggregated_P\n",
    "    partitioned_P_ramp = n_ramp > 0 ? A_ramp * aggregated_P : Real[]\n",
    "\n",
    "    result = Matrix{Float64}(undef, N, 0)\n",
    "    timing = []\n",
    "    for a=1:n_partitions\n",
    "        println()\n",
    "        print(\" \"^indent)\n",
    "        print(\">>> Step $a of $n_partitions\")\n",
    "        if length(timing) > 0\n",
    "            print(\" (estimated remaining time:\")\n",
    "            s = round(Int, (n_partitions - a + 1) * mean(timing))\n",
    "            if s >= 60\n",
    "                m = s ÷ 60\n",
    "                s = s % 60\n",
    "                if m >= 60\n",
    "                    h = m ÷ 60\n",
    "                    m = m % 60\n",
    "                    print(\" $h h\")\n",
    "                end\n",
    "                print(\" $m min\")\n",
    "            end\n",
    "            print(\" $s s)\")\n",
    "        end\n",
    "        println()\n",
    "        \n",
    "        if n_ramp == 0\n",
    "            partitioned_P_ramp_previous = Real[]\n",
    "            partitioned_P_ramp_next = Real[]\n",
    "        else\n",
    "            if a == 1\n",
    "                partitioned_P_ramp_previous = length(P_ramp_first) > 0 ? P_ramp_first : partitioned_P_ramp[:, end]\n",
    "            else\n",
    "                partitioned_P_ramp_previous = partitioned_P_ramp[:, a - 1]\n",
    "            end\n",
    "            if a == n_partitions\n",
    "                partitioned_P_ramp_next = length(P_ramp_last) > 0 ? P_ramp_last : partitioned_P_ramp[:, 1]\n",
    "            else\n",
    "                partitioned_P_ramp_next = partitioned_P_ramp[:, a + 1]\n",
    "            end\n",
    "        end\n",
    "        \n",
    "        partition_result = @timed partitioned_opf(partitions[2:end], Q, partitioned_L[:,:,a],\n",
    "            P_max, partitioned_P_total[:,a], A_constraints, partitioned_P_constraints[:,a],\n",
    "            A_ramp, ΔP_ramp_max, partitioned_P_ramp_previous, partitioned_P_ramp_next, indent = indent + 4)\n",
    "        push!(timing, partition_result.time)\n",
    "        result = hcat(result, partition_result.value)\n",
    "    end\n",
    "\n",
    "    return result\n",
    "end"
   ]
  },
  {
   "cell_type": "markdown",
   "id": "7dc55a79-8e3f-4824-b382-051fa74d3cd6",
   "metadata": {},
   "source": [
    "## Load the data"
   ]
  },
  {
   "cell_type": "code",
   "execution_count": 7,
   "id": "19914cc6-2dd8-4b57-86a5-65a38dfe1ea4",
   "metadata": {},
   "outputs": [],
   "source": [
    "using DataDrop"
   ]
  },
  {
   "cell_type": "code",
   "execution_count": 8,
   "id": "662f1361-0824-4b34-af65-ab68bf0c5c13",
   "metadata": {},
   "outputs": [],
   "source": [
    "P_max = DataDrop.retrieve_matrix(\"PTDF_data/P_max_gen.h5\");"
   ]
  },
  {
   "cell_type": "code",
   "execution_count": 9,
   "id": "91cf0935-be2f-4be6-a23a-58547a77a641",
   "metadata": {},
   "outputs": [],
   "source": [
    "P_total = DataDrop.retrieve_matrix(\"PTDF_data/P_total.h5\");"
   ]
  },
  {
   "cell_type": "code",
   "execution_count": 10,
   "id": "c1ee836a-6fe9-431c-a699-305968bcc513",
   "metadata": {},
   "outputs": [],
   "source": [
    "A_constraints = DataDrop.retrieve_matrix(\"PTDF_data/A_gen_total.h5\");"
   ]
  },
  {
   "cell_type": "code",
   "execution_count": 11,
   "id": "660a3082-9e96-4a74-9833-10ce1779a1b2",
   "metadata": {},
   "outputs": [],
   "source": [
    "P_constraints = DataDrop.retrieve_matrix(\"PTDF_data/gen_total.h5\");"
   ]
  },
  {
   "cell_type": "code",
   "execution_count": 12,
   "id": "e2ece22f-91ab-48d9-91f5-c8ad33ff73df",
   "metadata": {},
   "outputs": [],
   "source": [
    "A_ramp = DataDrop.retrieve_matrix(\"PTDF_data/A_gen_ramp.h5\");"
   ]
  },
  {
   "cell_type": "code",
   "execution_count": 13,
   "id": "ccc65103-e439-4532-ae54-c62035fcdd35",
   "metadata": {},
   "outputs": [],
   "source": [
    "ΔP_ramp = DataDrop.retrieve_matrix(\"PTDF_data/gen_ramp.h5\");"
   ]
  },
  {
   "cell_type": "code",
   "execution_count": 14,
   "id": "c93721ff-2b21-4bd5-8cb8-ca10c3863600",
   "metadata": {},
   "outputs": [],
   "source": [
    "L = DataDrop.retrieve_matrix(\"PTDF_data/linear_cost_2000.h5\");"
   ]
  },
  {
   "cell_type": "code",
   "execution_count": 15,
   "id": "749224ae-06f4-4c7b-8439-c08601db668a",
   "metadata": {},
   "outputs": [],
   "source": [
    "Q = DataDrop.retrieve_matrix(\"PTDF_data/quadratic_cost_2000.h5\");"
   ]
  },
  {
   "cell_type": "markdown",
   "id": "c7cb928b-5982-4fe8-9ef8-cb461bf4e511",
   "metadata": {},
   "source": [
    "## Computation"
   ]
  },
  {
   "cell_type": "code",
   "execution_count": null,
   "id": "c4f2ef0b-cb2b-4a08-9c1a-84675b71ea32",
   "metadata": {},
   "outputs": [],
   "source": [
    "@time result = partitioned_opf([2, 2], Q, L[:, 1:4], P_max, P_total[1:4], A_constraints, P_constraints);"
   ]
  },
  {
   "cell_type": "code",
   "execution_count": null,
   "id": "91ee599b-93f1-4a5d-9c08-12ab61cfdb34",
   "metadata": {},
   "outputs": [],
   "source": [
    "@time result = partitioned_opf([2, 2], Q, L[:, 1:4], P_max, P_total[1:4], A_constraints, P_constraints, A_ramp, ΔP_ramp);"
   ]
  },
  {
   "cell_type": "code",
   "execution_count": 30,
   "id": "f94506e9-542d-4a74-a4f4-dab864c92f68",
   "metadata": {},
   "outputs": [],
   "source": [
    "# @time result = partitioned_opf([3, 4, 2], Q, L[:, 1:24], P_max, P_total[1:24], A_constraints, P_constraints);"
   ]
  },
  {
   "cell_type": "code",
   "execution_count": 29,
   "id": "727f74f7-18cd-4353-b226-7434bc83f308",
   "metadata": {},
   "outputs": [],
   "source": [
    "# @time result = partitioned_opf([3, 4, 2], Q, L[:, 1:24], P_max, P_total[1:24], A_constraints, P_constraints, A_ramp, ΔP_ramp);"
   ]
  },
  {
   "cell_type": "code",
   "execution_count": 18,
   "id": "bb98a438-72ed-4d1f-bf47-f1570068b8c8",
   "metadata": {},
   "outputs": [],
   "source": [
    "# @time result = partitioned_opf(P_max, P_total[1:168], P_constraints, A_constraints, Q, L[:, 1:168], [7, 3, 8]);`"
   ]
  },
  {
   "cell_type": "code",
   "execution_count": 21,
   "id": "ad10a251-4399-4587-b715-20b21db2e8a5",
   "metadata": {},
   "outputs": [],
   "source": [
    "# @time result = partitioned_opf(P_max, P_total, P_constraints, A_constraints, Q, L, [13, 4, 7, 3, 8]);"
   ]
  },
  {
   "cell_type": "code",
   "execution_count": null,
   "id": "e79ebfb4-c5f4-4d06-a6dc-cc26f8831831",
   "metadata": {},
   "outputs": [],
   "source": [
    "# @time result = partitioned_opf(P_max, P_total, P_constraints, A_constraints, Q, L, [13, 28, 24]);"
   ]
  },
  {
   "cell_type": "code",
   "execution_count": 18,
   "id": "70e32b3a-68b0-47f2-afe3-07d57a19c417",
   "metadata": {},
   "outputs": [],
   "source": [
    "# @time result = partitioned_opf(P_max, P_total, P_constraints, A_constraints, Q, L, [52, 168]);"
   ]
  },
  {
   "cell_type": "code",
   "execution_count": 55,
   "id": "94df0302-06ad-441c-a0c5-b8043277274d",
   "metadata": {},
   "outputs": [],
   "source": [
    "# result = map(x -> isapprox(x, 0, atol=1e-6) ? 0.0 : x, result)"
   ]
  },
  {
   "cell_type": "code",
   "execution_count": 56,
   "id": "7bb698b6-579c-401d-bc4c-93ff71d09528",
   "metadata": {},
   "outputs": [],
   "source": [
    "# DataDrop.store_matrix(\"PTDF_data/P_result_partial.h5\", result)"
   ]
  },
  {
   "cell_type": "code",
   "execution_count": null,
   "id": "1541a983-61f3-4988-a844-c67dc05f2344",
   "metadata": {},
   "outputs": [],
   "source": []
  }
 ],
 "metadata": {
  "kernelspec": {
   "display_name": "Julia 1.10.3",
   "language": "julia",
   "name": "julia-1.10"
  },
  "language_info": {
   "file_extension": ".jl",
   "mimetype": "application/julia",
   "name": "julia",
   "version": "1.10.3"
  }
 },
 "nbformat": 4,
 "nbformat_minor": 5
}
