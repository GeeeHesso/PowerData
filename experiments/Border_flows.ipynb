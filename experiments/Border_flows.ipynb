{
 "cells": [
  {
   "cell_type": "code",
   "execution_count": 1,
   "id": "2d82d294-7468-4dee-95cb-56a77c7b3fa7",
   "metadata": {},
   "outputs": [],
   "source": [
    "import os\n",
    "import pandas as pd\n",
    "from tqdm import trange"
   ]
  },
  {
   "cell_type": "code",
   "execution_count": 2,
   "id": "691985ec-9514-4ea8-ba88-adcf271fe41f",
   "metadata": {},
   "outputs": [],
   "source": [
    "year = 2016"
   ]
  },
  {
   "cell_type": "code",
   "execution_count": 3,
   "id": "acf39126-7070-47bc-8328-f95536b217b3",
   "metadata": {},
   "outputs": [],
   "source": [
    "data_source = os.path.expanduser('~/data/entso-e/raw')"
   ]
  },
  {
   "cell_type": "markdown",
   "id": "0231fa78-3cbd-481f-91fb-18426e7d325b",
   "metadata": {},
   "source": [
    "## Generation"
   ]
  },
  {
   "cell_type": "code",
   "execution_count": 4,
   "id": "1c36a474-98bb-416c-b7d6-c6257bbe5a44",
   "metadata": {},
   "outputs": [
    {
     "name": "stderr",
     "output_type": "stream",
     "text": [
      "100%|███████████████████████████████████████████| 12/12 [00:36<00:00,  3.03s/it]\n"
     ]
    }
   ],
   "source": [
    "flow_sum = {}\n",
    "flow_count = {}\n",
    "\n",
    "for month in trange(1, 13):\n",
    "    flow_df = pd.read_csv('%s/%d_%02d_PhysicalFlows_12.1.G.csv' % (data_source, year, month), sep='\\t')\n",
    "    flow_df = flow_df[(flow_df['OutAreaTypeCode'] == 'CTY') & (flow_df['InAreaTypeCode'] == 'CTY')]\n",
    "    \n",
    "    for i, row in flow_df.iterrows():\n",
    "        country_in = row.InMapCode\n",
    "        country_out = row.OutMapCode\n",
    "        if (country_out, country_in) not in flow_sum.keys():\n",
    "            flow_sum[(country_out, country_in)] = row.FlowValue\n",
    "            flow_count[(country_out, country_in)] = 1\n",
    "        else:\n",
    "            flow_sum[(country_out, country_in)] += row.FlowValue\n",
    "            flow_count[(country_out, country_in)] += 1"
   ]
  },
  {
   "cell_type": "code",
   "execution_count": 5,
   "id": "d7d0a22e-d67d-4603-aded-50c2a73dc099",
   "metadata": {},
   "outputs": [
    {
     "data": {
      "text/plain": [
       "{2,\n",
       " 8017,\n",
       " 8189,\n",
       " 8192,\n",
       " 8236,\n",
       " 8238,\n",
       " 8239,\n",
       " 8244,\n",
       " 8247,\n",
       " 8678,\n",
       " 8679,\n",
       " 8681,\n",
       " 8683,\n",
       " 8707,\n",
       " 8710,\n",
       " 8723,\n",
       " 8726,\n",
       " 8729,\n",
       " 8731,\n",
       " 8736,\n",
       " 8753,\n",
       " 8758,\n",
       " 8759,\n",
       " 8760,\n",
       " 8774,\n",
       " 8775,\n",
       " 8776,\n",
       " 8778,\n",
       " 8779,\n",
       " 8780,\n",
       " 8781,\n",
       " 8782,\n",
       " 8783,\n",
       " 8784}"
      ]
     },
     "execution_count": 5,
     "metadata": {},
     "output_type": "execute_result"
    }
   ],
   "source": [
    "set(flow_count.values())"
   ]
  },
  {
   "cell_type": "code",
   "execution_count": 6,
   "id": "508f9153-515a-43b5-8dd9-e4c033733483",
   "metadata": {},
   "outputs": [],
   "source": [
    "asymetric_flow = {country_pairs: flow_sum[country_pairs] / count for country_pairs, count in flow_count.items()\n",
    "    if count >= 1000}"
   ]
  },
  {
   "cell_type": "code",
   "execution_count": 7,
   "id": "53880820-6ae2-4201-90ca-51b344c8a62c",
   "metadata": {},
   "outputs": [],
   "source": [
    "country_pairs = set(asymetric_flow.keys())"
   ]
  },
  {
   "cell_type": "markdown",
   "id": "d815344a-f1a9-435a-aefb-46b2f18a79fd",
   "metadata": {},
   "source": [
    "Check that the flows always go both ways:"
   ]
  },
  {
   "cell_type": "code",
   "execution_count": 16,
   "id": "e9fe63fd-4498-411c-9242-2f38e38ff61e",
   "metadata": {},
   "outputs": [
    {
     "data": {
      "text/plain": [
       "({('BG', 'MK')}, {('MK', 'BG')})"
      ]
     },
     "execution_count": 16,
     "metadata": {},
     "output_type": "execute_result"
    }
   ],
   "source": [
    "reversed_country_pairs = {(country_in, country_out) for country_out, country_in in country_pairs}\n",
    "country_pairs - reversed_country_pairs, reversed_country_pairs - country_pairs"
   ]
  },
  {
   "cell_type": "code",
   "execution_count": 19,
   "id": "098dd28e-eeb9-4f4e-96ca-b015977f5e1f",
   "metadata": {},
   "outputs": [],
   "source": [
    "for pair in reversed_country_pairs - country_pairs:\n",
    "    asymetric_flow[pair] = 0.0"
   ]
  },
  {
   "cell_type": "code",
   "execution_count": 18,
   "id": "269fb203-6340-4ca7-a51b-39e197426e0f",
   "metadata": {},
   "outputs": [
    {
     "data": {
      "text/plain": [
       "(True, True)"
      ]
     },
     "execution_count": 18,
     "metadata": {},
     "output_type": "execute_result"
    }
   ],
   "source": [
    "('CH', 'DE') in country_pairs, ('DE', 'CH') in country_pairs"
   ]
  },
  {
   "cell_type": "code",
   "execution_count": 20,
   "id": "336aee0c-4bdb-4e29-8845-3da8ac86ec3c",
   "metadata": {},
   "outputs": [],
   "source": [
    "flow = {(country_out, country_in): value - asymetric_flow[country_in, country_out]\n",
    "        for (country_out, country_in), value in asymetric_flow.items()}"
   ]
  },
  {
   "cell_type": "markdown",
   "id": "4534245e-9a67-41a2-92b2-67636930c5bd",
   "metadata": {},
   "source": [
    "Example: Switzerland is importing from Germany, France, and Austria, but exporting to Italy"
   ]
  },
  {
   "cell_type": "code",
   "execution_count": 21,
   "id": "a706a9ed-2b21-4619-8e71-d616bce654c8",
   "metadata": {},
   "outputs": [
    {
     "data": {
      "text/plain": [
       "(-739.6757479508175,\n",
       " -1659.8253563296923,\n",
       " -338.3109437613841,\n",
       " 2224.6450364298726)"
      ]
     },
     "execution_count": 21,
     "metadata": {},
     "output_type": "execute_result"
    }
   ],
   "source": [
    "flow['CH', 'AT'], flow['CH', 'DE'], flow['CH', 'FR'], flow['CH', 'IT']"
   ]
  },
  {
   "cell_type": "code",
   "execution_count": 22,
   "id": "7b3af366-4147-41cc-8754-7d72370eb189",
   "metadata": {},
   "outputs": [],
   "source": [
    "out_flow = {country_out: 0. for (country_out, country_in) in country_pairs}\n",
    "for (country_out, country_in), value in flow.items():\n",
    "    out_flow[country_out] += value"
   ]
  },
  {
   "cell_type": "code",
   "execution_count": 23,
   "id": "2b782b87-7aaf-4fe5-897a-7e65c7e3a8f3",
   "metadata": {},
   "outputs": [
    {
     "data": {
      "text/plain": [
       "-513.1670116120215"
      ]
     },
     "execution_count": 23,
     "metadata": {},
     "output_type": "execute_result"
    }
   ],
   "source": [
    "out_flow['CH']"
   ]
  },
  {
   "cell_type": "code",
   "execution_count": 24,
   "id": "57898064-43e7-4a83-b281-3115d996b36c",
   "metadata": {},
   "outputs": [
    {
     "data": {
      "text/plain": [
       "36"
      ]
     },
     "execution_count": 24,
     "metadata": {},
     "output_type": "execute_result"
    }
   ],
   "source": [
    "countries = set(out_flow.keys())\n",
    "len(countries)"
   ]
  },
  {
   "cell_type": "code",
   "execution_count": 25,
   "id": "7a0604a1-5831-4881-bd66-0a1a22247c2f",
   "metadata": {},
   "outputs": [
    {
     "data": {
      "text/plain": [
       "-1.4921397450962104e-12"
      ]
     },
     "execution_count": 25,
     "metadata": {},
     "output_type": "execute_result"
    }
   ],
   "source": [
    "sum(out_flow.values())"
   ]
  },
  {
   "cell_type": "markdown",
   "id": "488e704e-9c96-4169-b45c-03b645500bba",
   "metadata": {},
   "source": [
    "## Restriction to PanTaGruEl countries"
   ]
  },
  {
   "cell_type": "code",
   "execution_count": 26,
   "id": "eb16fd3c-21b9-4219-a193-fb12e9a2d5ce",
   "metadata": {},
   "outputs": [],
   "source": [
    "PanTaGruEl_countries = {\"BG\", \"BE\", \"IT\", \"HU\", \"FR\", \"AT\", \"DE\", \"PL\", \"CZ\", \"NL\",\n",
    "                        \"GR\", \"CH\", \"RO\", \"ES\", \"SI\", \"PT\", \"LU\", \"HR\", \"AL\", \"DK\",\n",
    "                        \"RS\", \"SK\", \"BA\", \"ME\", \"MK\"}"
   ]
  },
  {
   "cell_type": "code",
   "execution_count": 27,
   "id": "fcd6b850-d20e-4e5c-80d4-24542b19bd72",
   "metadata": {},
   "outputs": [
    {
     "data": {
      "text/plain": [
       "{'LU'}"
      ]
     },
     "execution_count": 27,
     "metadata": {},
     "output_type": "execute_result"
    }
   ],
   "source": [
    "PanTaGruEl_countries - countries"
   ]
  },
  {
   "cell_type": "code",
   "execution_count": 19,
   "id": "ed1d4617-97b1-4ce5-8861-78d6f923b4cd",
   "metadata": {},
   "outputs": [],
   "source": [
    "# PanTaGruEl_out_flow = {country: out_flow[country] for country in PanTaGruEl_countries}"
   ]
  },
  {
   "cell_type": "code",
   "execution_count": 20,
   "id": "8727106e-84f6-4c0f-b391-09fb8f06cecf",
   "metadata": {},
   "outputs": [],
   "source": [
    "# sum(PanTaGruEl_out_flow.values())"
   ]
  },
  {
   "cell_type": "code",
   "execution_count": 28,
   "id": "d8f95aa5-dc76-4b96-97ee-adfd3a33dd49",
   "metadata": {},
   "outputs": [],
   "source": [
    "PanTaGruEl_flow = {(country_out, country_in): value for (country_out, country_in), value in flow.items()\n",
    "                   if country_in in PanTaGruEl_countries and country_out in PanTaGruEl_countries}"
   ]
  },
  {
   "cell_type": "code",
   "execution_count": 29,
   "id": "98620aac-db40-43a2-9990-45c16c948c68",
   "metadata": {},
   "outputs": [],
   "source": [
    "PanTaGruEl_out_flow = {country_out: 0. for (country_out, country_in) in PanTaGruEl_flow.keys()}\n",
    "for (country_out, country_in), value in PanTaGruEl_flow.items():\n",
    "    PanTaGruEl_out_flow[country_out] += value"
   ]
  },
  {
   "cell_type": "code",
   "execution_count": 30,
   "id": "bfd696a6-18b1-4eca-aea2-e3b144dd752f",
   "metadata": {},
   "outputs": [],
   "source": [
    "for country in PanTaGruEl_countries - countries:\n",
    "    PanTaGruEl_out_flow[country] = 0.0"
   ]
  },
  {
   "cell_type": "code",
   "execution_count": 31,
   "id": "5fac1128-f02d-4c98-b095-9950d8559eba",
   "metadata": {},
   "outputs": [
    {
     "data": {
      "text/plain": [
       "-9.094947017729282e-13"
      ]
     },
     "execution_count": 31,
     "metadata": {},
     "output_type": "execute_result"
    }
   ],
   "source": [
    "sum(PanTaGruEl_out_flow.values())"
   ]
  },
  {
   "cell_type": "code",
   "execution_count": 32,
   "id": "9d0b1473-e26e-4ce3-bfd3-af7a0c5eb770",
   "metadata": {},
   "outputs": [
    {
     "data": {
      "text/plain": [
       "{'DE': 5663.423467602068,\n",
       " 'SI': 127.70901748005349,\n",
       " 'HR': -717.6638546806478,\n",
       " 'BE': -725.6580737445695,\n",
       " 'ES': -1454.9508520247125,\n",
       " 'FR': 3016.90801600579,\n",
       " 'RS': 167.4573649872896,\n",
       " 'DK': -282.05742707383797,\n",
       " 'BA': 425.84037039245504,\n",
       " 'PL': 234.59811361566136,\n",
       " 'RO': 664.2823519529622,\n",
       " 'NL': -991.2699875031536,\n",
       " 'GR': -838.1982979681414,\n",
       " 'BG': 189.87581208274827,\n",
       " 'CH': -513.1670116120215,\n",
       " 'AT': -993.9815482695793,\n",
       " 'CZ': 1251.1321745844712,\n",
       " 'SK': -537.4509191708855,\n",
       " 'HU': -963.7807658364916,\n",
       " 'PT': 573.056867030968,\n",
       " 'IT': -4133.250492927997,\n",
       " 'AL': 4.8887937402344335,\n",
       " 'MK': -136.80375277013076,\n",
       " 'ME': -30.939365892533118,\n",
       " 'LU': 0.0}"
      ]
     },
     "execution_count": 32,
     "metadata": {},
     "output_type": "execute_result"
    }
   ],
   "source": [
    "PanTaGruEl_out_flow"
   ]
  },
  {
   "cell_type": "code",
   "execution_count": 33,
   "id": "86d47cab-3de1-4e71-843f-c9c04c6ee7aa",
   "metadata": {},
   "outputs": [],
   "source": [
    "PanTaGruEl_out_flow_df = pd.DataFrame(PanTaGruEl_out_flow.items(), columns=['country', 'out_flow'])"
   ]
  },
  {
   "cell_type": "code",
   "execution_count": 34,
   "id": "53a7a6f9-999d-40d1-900a-f9ac2508f1ea",
   "metadata": {},
   "outputs": [],
   "source": [
    "PanTaGruEl_out_flow_df.to_csv('pantagruel_out_flow.csv', index=False)"
   ]
  },
  {
   "cell_type": "code",
   "execution_count": null,
   "id": "02fc069b-763b-4836-99f9-6c94d1b39274",
   "metadata": {},
   "outputs": [],
   "source": []
  }
 ],
 "metadata": {
  "kernelspec": {
   "display_name": "Python 3 (ipykernel)",
   "language": "python",
   "name": "python3"
  },
  "language_info": {
   "codemirror_mode": {
    "name": "ipython",
    "version": 3
   },
   "file_extension": ".py",
   "mimetype": "text/x-python",
   "name": "python",
   "nbconvert_exporter": "python",
   "pygments_lexer": "ipython3",
   "version": "3.10.14"
  }
 },
 "nbformat": 4,
 "nbformat_minor": 5
}
