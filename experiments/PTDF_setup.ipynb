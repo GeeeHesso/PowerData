{
 "cells": [
  {
   "cell_type": "code",
   "execution_count": 1,
   "id": "19914cc6-2dd8-4b57-86a5-65a38dfe1ea4",
   "metadata": {},
   "outputs": [],
   "source": [
    "using CSV, DataFrames, JSON, DataDrop"
   ]
  },
  {
   "cell_type": "code",
   "execution_count": 2,
   "id": "e709670b-d7f2-447f-8e9f-a6e8e424ffa7",
   "metadata": {},
   "outputs": [],
   "source": [
    "using SparseArrays\n",
    "using LinearAlgebra"
   ]
  },
  {
   "cell_type": "markdown",
   "id": "ec8151ec-4400-46ec-91d4-a861eb55f287",
   "metadata": {
    "jp-MarkdownHeadingCollapsed": true
   },
   "source": [
    "## Network"
   ]
  },
  {
   "cell_type": "code",
   "execution_count": 3,
   "id": "41c2cbb3-f66a-4020-ba77-f507f8a6fc57",
   "metadata": {},
   "outputs": [
    {
     "data": {
      "text/plain": [
       "Dict{String, Any} with 11 entries:\n",
       "  \"bus\"      => Dict{String, Any}(\"4304\"=>Dict{String, Any}(\"coord\"=>Any[11.843…\n",
       "  \"name\"     => \"pantagruel\"\n",
       "  \"dcline\"   => Dict{String, Any}()\n",
       "  \"gen\"      => Dict{String, Any}(\"1\"=>Dict{String, Any}(\"entsoe_names\"=>Any[],…\n",
       "  \"branch\"   => Dict{String, Any}(\"4304\"=>Dict{String, Any}(\"br_r\"=>0.00174284,…\n",
       "  \"storage\"  => Dict{String, Any}()\n",
       "  \"switch\"   => Dict{String, Any}()\n",
       "  \"baseMVA\"  => 100\n",
       "  \"per_unit\" => true\n",
       "  \"shunt\"    => Dict{String, Any}()\n",
       "  \"load\"     => Dict{String, Any}(\"3935\"=>Dict{String, Any}(\"status\"=>1, \"load_…"
      ]
     },
     "execution_count": 3,
     "metadata": {},
     "output_type": "execute_result"
    }
   ],
   "source": [
    "network = JSON.parsefile(\"../models/europe.json\")"
   ]
  },
  {
   "cell_type": "markdown",
   "id": "8f1f2f51-98d8-4a27-91f8-46713407481d",
   "metadata": {},
   "source": [
    "Identify non-dispatchable generators:"
   ]
  },
  {
   "cell_type": "code",
   "execution_count": 4,
   "id": "cea3b3ee-65b8-496c-8a2f-5824fe4b1703",
   "metadata": {},
   "outputs": [],
   "source": [
    "nuc_series_df = CSV.read(\"../doc/data/pantagruel_nuc.csv\", DataFrame);"
   ]
  },
  {
   "cell_type": "code",
   "execution_count": 5,
   "id": "730024e2-bb81-43e8-b08d-1e7474e15163",
   "metadata": {},
   "outputs": [
    {
     "data": {
      "text/plain": [
       "44-element Vector{String}:\n",
       " \"79\"\n",
       " \"87\"\n",
       " \"160\"\n",
       " \"176\"\n",
       " \"179\"\n",
       " \"209\"\n",
       " \"210\"\n",
       " \"232\"\n",
       " \"249\"\n",
       " \"256\"\n",
       " \"257\"\n",
       " \"265\"\n",
       " \"318\"\n",
       " ⋮\n",
       " \"723\"\n",
       " \"732\"\n",
       " \"751\"\n",
       " \"757\"\n",
       " \"782\"\n",
       " \"846\"\n",
       " \"908\"\n",
       " \"917\"\n",
       " \"921\"\n",
       " \"943\"\n",
       " \"950\"\n",
       " \"982\""
      ]
     },
     "execution_count": 5,
     "metadata": {},
     "output_type": "execute_result"
    }
   ],
   "source": [
    "nuc_ids = string.(nuc_series_df.id)"
   ]
  },
  {
   "cell_type": "code",
   "execution_count": 6,
   "id": "34cb1d7e-a13b-4779-9803-0f951e66654d",
   "metadata": {},
   "outputs": [],
   "source": [
    "network[\"nuc\"] = Dict{String, Any}(id => network[\"gen\"][id] for id ∈ nuc_ids)\n",
    "\n",
    "for id ∈ nuc_ids\n",
    "    delete!(network[\"gen\"], id)\n",
    "end"
   ]
  },
  {
   "cell_type": "code",
   "execution_count": 7,
   "id": "95291747-b36a-4e4d-b7be-c809381da7bb",
   "metadata": {},
   "outputs": [
    {
     "data": {
      "text/plain": [
       "(8375, 4097, 3998, 44, 1039)"
      ]
     },
     "execution_count": 7,
     "metadata": {},
     "output_type": "execute_result"
    }
   ],
   "source": [
    "Nlines = length(network[\"branch\"])\n",
    "Nbuses = length(network[\"bus\"])\n",
    "Nloads = length(network[\"load\"])\n",
    "Nnucs = length(network[\"nuc\"])\n",
    "Ngens = length(network[\"gen\"])\n",
    "\n",
    "Nlines, Nbuses, Nloads, Nnucs, Ngens"
   ]
  },
  {
   "cell_type": "code",
   "execution_count": 8,
   "id": "738bb918-6a4c-4739-a306-82b889346e65",
   "metadata": {},
   "outputs": [
    {
     "data": {
      "text/plain": [
       "sort_ids (generic function with 1 method)"
      ]
     },
     "execution_count": 8,
     "metadata": {},
     "output_type": "execute_result"
    }
   ],
   "source": [
    "function sort_ids(data::Dict{String, Any})\n",
    "    return sort(parse.(Int, keys(data)))\n",
    "end"
   ]
  },
  {
   "cell_type": "code",
   "execution_count": 9,
   "id": "64c8327e-9b74-44f2-a686-7d34b8692039",
   "metadata": {},
   "outputs": [],
   "source": [
    "line_ids = sort_ids(network[\"branch\"])\n",
    "bus_ids = sort_ids(network[\"bus\"])\n",
    "gen_ids = sort_ids(network[\"gen\"])\n",
    "nuc_ids = sort_ids(network[\"nuc\"])\n",
    "load_ids = sort_ids(network[\"load\"]);"
   ]
  },
  {
   "cell_type": "code",
   "execution_count": 10,
   "id": "f82072d7-8160-4d36-8bb5-b5ab223dc0ac",
   "metadata": {},
   "outputs": [
    {
     "data": {
      "text/plain": [
       "(true, false, false, false, true)"
      ]
     },
     "execution_count": 10,
     "metadata": {},
     "output_type": "execute_result"
    }
   ],
   "source": [
    "(line_ids == collect(1:Nlines), bus_ids == collect(1:Nbuses), gen_ids == collect(1:Ngens), \n",
    "    nuc_ids == collect(1:Nnucs), load_ids == collect(1:Nloads))"
   ]
  },
  {
   "cell_type": "markdown",
   "id": "cee9a077-f9c5-4697-9b52-8c0ac05c103f",
   "metadata": {},
   "source": [
    "**Warning**: bus IDs do not go from 1 to N"
   ]
  },
  {
   "cell_type": "code",
   "execution_count": 11,
   "id": "ad300897-3b89-4eb4-a018-8625d34b09af",
   "metadata": {},
   "outputs": [],
   "source": [
    "bus_ids_map = Dict(bus_ids[i] => i for i = 1:Nbuses);\n",
    "gen_ids_map = Dict(gen_ids[i] => i for i = 1:Ngens)\n",
    "nuc_ids_map = Dict(nuc_ids[i] => i for i = 1:Nnucs);"
   ]
  },
  {
   "cell_type": "code",
   "execution_count": 12,
   "id": "066e9091-1953-487b-bb04-c12e105ad5de",
   "metadata": {},
   "outputs": [
    {
     "data": {
      "text/plain": [
       "693"
      ]
     },
     "execution_count": 12,
     "metadata": {},
     "output_type": "execute_result"
    }
   ],
   "source": [
    "gen_ids_map[726]"
   ]
  },
  {
   "cell_type": "markdown",
   "id": "63c621be-e7b9-4324-b477-a5e99f6ca889",
   "metadata": {},
   "source": [
    "Incidence matrix $M$\n",
    "(encodes the connection between buses with a direction):"
   ]
  },
  {
   "cell_type": "code",
   "execution_count": 13,
   "id": "5ecb34a7-8d8d-4144-bd5b-8c64da46b1d0",
   "metadata": {},
   "outputs": [
    {
     "data": {
      "text/plain": [
       "4097×8375 SparseMatrixCSC{Float64, Int64} with 16750 stored entries:\n",
       "⎡⣿⣶⣦⣤⣀⠀⠀⠀⠀⠀⠀⠀⠀⠀⠀⠀⠀⠀⠀⠀⠀⠀⠀⠀⠀⠀⠀⠀⠀⠀⠀⠀⠀⠀⠀⠀⠀⣾⣾⡷⎤\n",
       "⎢⠀⠀⠑⠐⠻⠛⠿⠶⢤⣀⡀⠀⠀⠀⠀⠀⠀⠀⠀⠀⠀⠀⠀⠀⠀⠀⠀⠀⠀⠀⠀⠀⠀⠀⠀⠀⠀⣿⣿⡿⎥\n",
       "⎢⠀⠀⠀⠀⠀⠀⠀⠀⢈⠉⣟⡟⣶⣦⣤⣀⠀⠀⠀⠀⠀⠀⠀⠀⠀⠀⠀⠀⠀⠀⠀⠀⠀⠀⠀⠀⠀⢿⣿⣿⎥\n",
       "⎢⠀⠀⠀⡀⠀⠀⠀⠀⡒⠒⠋⠀⢀⡁⠉⢙⢛⢲⣤⣀⡀⠀⠀⠀⠀⠀⠀⠀⠀⠀⠀⠀⠀⠀⠀⠀⠀⣿⣿⣿⎥\n",
       "⎢⠀⠀⠀⠀⠀⠀⠀⠀⠁⠀⠀⠀⠀⠀⠀⠀⠀⠀⠀⢈⢹⢳⢶⣤⣀⡀⠀⠀⠀⠀⠀⠀⠀⠀⠀⠀⠀⣿⣿⣯⎥\n",
       "⎢⠀⠀⠀⠀⠀⠀⠀⠀⠀⠀⠰⠀⠀⠀⠀⠠⠀⠄⠤⠐⠨⠾⠼⠥⣾⠿⠷⢦⣀⡀⠀⠀⠀⠀⠀⠀⠀⣻⣿⣿⎥\n",
       "⎢⠀⠑⠀⡀⠀⠀⠀⠀⢄⣀⣠⡈⢂⢀⣀⣀⣀⣐⡒⣟⣓⣐⣀⣀⢰⠀⣀⣜⢉⣽⣳⣤⣄⠀⠀⠀⠀⣿⣿⣷⎥\n",
       "⎢⣀⣠⣤⣤⣀⣐⣠⣀⢈⢈⣩⡀⢈⡀⠀⢈⡡⢡⣀⡍⠍⠉⠉⠉⠁⠉⠈⠉⢉⢈⣤⠀⡹⢷⣶⣄⠀⠷⠷⠞⎥\n",
       "⎢⠲⡟⢟⢿⢿⣾⣟⣿⣆⣨⣭⣥⢤⣭⣤⣶⣤⡼⣼⠭⢬⣭⡩⠭⢤⡭⣭⣭⣹⠽⢾⡬⣯⣿⣿⣿⣆⠀⠀⠀⎥\n",
       "⎣⠁⠛⠻⠋⠿⠻⠻⠝⠿⠽⠗⠾⠿⠾⠽⠿⠿⠯⠻⠾⠚⠛⠁⠘⠚⠛⠹⠻⠛⠛⠸⠗⠿⠾⠽⠿⠿⠆⠀⠀⎦"
      ]
     },
     "execution_count": 13,
     "metadata": {},
     "output_type": "execute_result"
    }
   ],
   "source": [
    "lines_from_bus = [bus_ids_map[network[\"branch\"][string(id)][\"f_bus\"]] for id ∈ line_ids]\n",
    "lines_to_bus = [bus_ids_map[network[\"branch\"][string(id)][\"t_bus\"]] for id ∈ line_ids]\n",
    "\n",
    "M = sparse([lines_from_bus; lines_to_bus], [1:Nlines; 1:Nlines],\n",
    "    [-ones(Nlines); ones(Nlines)], Nbuses, Nlines)"
   ]
  },
  {
   "cell_type": "markdown",
   "id": "e759f930-b3f4-492f-9f7e-ea89d1c22213",
   "metadata": {},
   "source": [
    "Susceptance matrix:"
   ]
  },
  {
   "cell_type": "code",
   "execution_count": 14,
   "id": "d8989bc5-c3b4-457f-b6d1-63fc966e5652",
   "metadata": {},
   "outputs": [
    {
     "data": {
      "text/plain": [
       "4097×8375 SparseMatrixCSC{Float64, Int64} with 16750 stored entries:\n",
       "⎡⣿⣶⣦⣤⣀⠀⠀⠀⠀⠀⠀⠀⠀⠀⠀⠀⠀⠀⠀⠀⠀⠀⠀⠀⠀⠀⠀⠀⠀⠀⠀⠀⠀⠀⠀⠀⠀⣾⣾⡷⎤\n",
       "⎢⠀⠀⠑⠐⠻⠛⠿⠶⢤⣀⡀⠀⠀⠀⠀⠀⠀⠀⠀⠀⠀⠀⠀⠀⠀⠀⠀⠀⠀⠀⠀⠀⠀⠀⠀⠀⠀⣿⣿⡿⎥\n",
       "⎢⠀⠀⠀⠀⠀⠀⠀⠀⢈⠉⣟⡟⣶⣦⣤⣀⠀⠀⠀⠀⠀⠀⠀⠀⠀⠀⠀⠀⠀⠀⠀⠀⠀⠀⠀⠀⠀⢿⣿⣿⎥\n",
       "⎢⠀⠀⠀⡀⠀⠀⠀⠀⡒⠒⠋⠀⢀⡁⠉⢙⢛⢲⣤⣀⡀⠀⠀⠀⠀⠀⠀⠀⠀⠀⠀⠀⠀⠀⠀⠀⠀⣿⣿⣿⎥\n",
       "⎢⠀⠀⠀⠀⠀⠀⠀⠀⠁⠀⠀⠀⠀⠀⠀⠀⠀⠀⠀⢈⢹⢳⢶⣤⣀⡀⠀⠀⠀⠀⠀⠀⠀⠀⠀⠀⠀⣿⣿⣯⎥\n",
       "⎢⠀⠀⠀⠀⠀⠀⠀⠀⠀⠀⠰⠀⠀⠀⠀⠠⠀⠄⠤⠐⠨⠾⠼⠥⣾⠿⠷⢦⣀⡀⠀⠀⠀⠀⠀⠀⠀⣻⣿⣿⎥\n",
       "⎢⠀⠑⠀⡀⠀⠀⠀⠀⢄⣀⣠⡈⢂⢀⣀⣀⣀⣐⡒⣟⣓⣐⣀⣀⢰⠀⣀⣜⢉⣽⣳⣤⣄⠀⠀⠀⠀⣿⣿⣷⎥\n",
       "⎢⣀⣠⣤⣤⣀⣐⣠⣀⢈⢈⣩⡀⢈⡀⠀⢈⡡⢡⣀⡍⠍⠉⠉⠉⠁⠉⠈⠉⢉⢈⣤⠀⡹⢷⣶⣄⠀⠷⠷⠞⎥\n",
       "⎢⠲⡟⢟⢿⢿⣾⣟⣿⣆⣨⣭⣥⢤⣭⣤⣶⣤⡼⣼⠭⢬⣭⡩⠭⢤⡭⣭⣭⣹⠽⢾⡬⣯⣿⣿⣿⣆⠀⠀⠀⎥\n",
       "⎣⠁⠛⠻⠋⠿⠻⠻⠝⠿⠽⠗⠾⠿⠾⠽⠿⠿⠯⠻⠾⠚⠛⠁⠘⠚⠛⠹⠻⠛⠛⠸⠗⠿⠾⠽⠿⠿⠆⠀⠀⎦"
      ]
     },
     "execution_count": 14,
     "metadata": {},
     "output_type": "execute_result"
    }
   ],
   "source": [
    "b = [network[\"branch\"][string(id)][\"br_b\"] for id ∈ line_ids];\n",
    "\n",
    "B = M * Diagonal(b)"
   ]
  },
  {
   "cell_type": "markdown",
   "id": "ab066787-a6ee-40f1-a6bd-fb53f1242c97",
   "metadata": {},
   "source": [
    "By construction, the transpose of the susceptance matrix $B^T$ annihilates the vector $(1, 1, \\ldots, 1, 1)$:"
   ]
  },
  {
   "cell_type": "code",
   "execution_count": 15,
   "id": "52236c4d-34ee-41e1-bfde-02b167ea529e",
   "metadata": {},
   "outputs": [
    {
     "data": {
      "text/plain": [
       "true"
      ]
     },
     "execution_count": 15,
     "metadata": {},
     "output_type": "execute_result"
    }
   ],
   "source": [
    "B' * ones(Nbuses) == zeros(Int, Nlines)"
   ]
  },
  {
   "cell_type": "markdown",
   "id": "f5152fb6-4aed-4d99-b671-9a145e754cd3",
   "metadata": {},
   "source": [
    "Compute the pseudo-inverse of $B$:"
   ]
  },
  {
   "cell_type": "code",
   "execution_count": 16,
   "id": "40cde173-0bde-47a3-901c-a1c61ce50186",
   "metadata": {},
   "outputs": [
    {
     "data": {
      "text/plain": [
       "8375×4097 Matrix{Float64}:\n",
       " -0.0225952     5.5164e-6     5.5164e-6    …   5.5164e-6     5.5164e-6\n",
       " -0.0225952     5.5164e-6     5.5164e-6        5.5164e-6     5.5164e-6\n",
       "  1.06328e-5   -0.01088      -0.01088          1.06328e-5    1.06328e-5\n",
       "  1.06328e-5   -0.01088      -0.01088          1.06328e-5    1.06328e-5\n",
       " -2.16281e-5   -2.16281e-5    0.0295151       -2.16281e-5   -2.16281e-5\n",
       "  1.81255e-6    1.81255e-6   -0.00742419   …   1.81255e-6    1.81255e-6\n",
       "  7.20936e-6    7.20936e-6    7.20936e-6       7.20936e-6    7.20936e-6\n",
       " -3.3705e-5    -3.39816e-5   -3.39816e-5      -1.50774e-5   -1.98764e-5\n",
       "  1.473e-5      1.48213e-5    1.48213e-5       8.58272e-6    1.01665e-5\n",
       " -6.05796e-6   -6.05796e-6   -6.05796e-6      -6.05796e-6   -6.05796e-6\n",
       " -6.05796e-6   -6.05796e-6   -6.05796e-6   …  -6.05796e-6   -6.05796e-6\n",
       " -8.03995e-7   -1.04703e-6   -1.04703e-6       1.55601e-5    1.13442e-5\n",
       " -1.08941e-6   -1.08941e-6   -1.08941e-6      -1.08941e-6   -1.08941e-6\n",
       "  ⋮                                        ⋱   ⋮            \n",
       "  0.000186878   0.000186999   0.000186999     -0.000185309   0.000182651\n",
       "  0.000186878   0.000186999   0.000186999     -0.000185309   0.000182651\n",
       "  1.92847e-5    1.93672e-5    1.93672e-5   …   5.63367e-5    1.65338e-5\n",
       "  1.92847e-5    1.93672e-5    1.93672e-5       5.63367e-5    1.65338e-5\n",
       " -6.72954e-6   -6.7314e-6    -6.7314e-6        5.51505e-5   -6.66498e-6\n",
       "  6.8496e-5     6.84719e-5    6.84719e-5      -4.27665e-5    6.93327e-5\n",
       " -0.000516113  -0.000516401  -0.000516401      0.000159267  -0.000527129\n",
       "  0.000157466   0.000157472   0.000157472  …  -3.48269e-5    0.000157255\n",
       " -0.000204798  -0.000204798  -0.000204798     -0.000204798  -0.000204798\n",
       " -0.000204798  -0.000204798  -0.000204798     -0.000204798  -0.000204798\n",
       "  0.000351146   0.000348888   0.000348888     -9.33818e-5    0.000415047\n",
       "  8.21091e-6    8.2565e-6     8.2565e-6        7.76152e-5    6.63306e-6"
      ]
     },
     "execution_count": 16,
     "metadata": {},
     "output_type": "execute_result"
    }
   ],
   "source": [
    "Bi = pinv(Matrix(B))"
   ]
  },
  {
   "cell_type": "markdown",
   "id": "9f73e1d2-e4b9-48a5-a89a-0347123320ed",
   "metadata": {},
   "source": [
    "Define $L$ as the inverse of the susceptance matrix multiplied by the susceptance:"
   ]
  },
  {
   "cell_type": "code",
   "execution_count": 17,
   "id": "53c58c62-36d5-4f03-9a4c-88d0b5063d4b",
   "metadata": {},
   "outputs": [
    {
     "data": {
      "text/plain": [
       "8375×4097 Matrix{Float64}:\n",
       " -0.499878      0.000122041   0.000122041  …   0.000122041   0.000122041\n",
       " -0.499878      0.000122041   0.000122041      0.000122041   0.000122041\n",
       "  0.000488162  -0.499512     -0.499512         0.000488162   0.000488162\n",
       "  0.000488162  -0.499512     -0.499512         0.000488162   0.000488162\n",
       " -0.000732243  -0.000732243   0.999268        -0.000732243  -0.000732243\n",
       "  0.000244081   0.000244081  -0.999756     …   0.000244081   0.000244081\n",
       "  0.000244081   0.000244081   0.000244081      0.000244081   0.000244081\n",
       " -0.000752681  -0.000758859  -0.000758859     -0.0003367    -0.000443869\n",
       "  0.000996762   0.00100294    0.00100294       0.000580781   0.000687951\n",
       " -0.000244081  -0.000244081  -0.000244081     -0.000244081  -0.000244081\n",
       " -0.000244081  -0.000244081  -0.000244081  …  -0.000244081  -0.000244081\n",
       " -2.04378e-5   -2.66158e-5   -2.66158e-5       0.000395543   0.000288374\n",
       " -0.000122041  -0.000122041  -0.000122041     -0.000122041  -0.000122041\n",
       "  ⋮                                        ⋱   ⋮            \n",
       "  0.00489993    0.0049031     0.0049031       -0.00485877    0.00478908\n",
       "  0.00489993    0.0049031     0.0049031       -0.00485877    0.00478908\n",
       "  0.000505643   0.000507805   0.000507805  …   0.00147714    0.000433514\n",
       "  0.000505643   0.000507805   0.000507805      0.00147714    0.000433514\n",
       " -5.91417e-5   -5.91581e-5   -5.91581e-5       0.000484684  -5.85743e-5\n",
       "  0.00179596    0.00179533    0.00179533      -0.00112133    0.0018179\n",
       " -0.0135324    -0.01354      -0.01354          0.00417595   -0.0138212\n",
       "  0.00412873    0.00412889    0.00412889   …  -0.000913158   0.00412319\n",
       " -0.00536978   -0.00536978   -0.00536978      -0.00536978   -0.00536978\n",
       " -0.00536978   -0.00536978   -0.00536978      -0.00536978   -0.00536978\n",
       "  0.009207      0.00914779    0.00914779      -0.00244846    0.0108825\n",
       "  0.000215289   0.000216484   0.000216484      0.00203506    0.000173918"
      ]
     },
     "execution_count": 17,
     "metadata": {},
     "output_type": "execute_result"
    }
   ],
   "source": [
    "L = Diagonal(b) * Bi"
   ]
  },
  {
   "cell_type": "code",
   "execution_count": null,
   "id": "e190b537-86ec-491a-9906-ce142901cbb9",
   "metadata": {},
   "outputs": [],
   "source": []
  },
  {
   "cell_type": "markdown",
   "id": "051a76d5-ffeb-4cf4-b5b2-820a9e020cff",
   "metadata": {},
   "source": [
    "Given the power injections $P_i$ at every bus $i$ and the voltage angles difference $\\Delta\\theta_a$ on every line $a$, we have\n",
    "\n",
    "$$P_i = B_{ia} \\Delta \\theta_a$$\n",
    "\n",
    "The power flow of each line $a$ is computed by the susceptance times the angle difference:\n",
    "\n",
    "$$P_a = b_a \\Delta\\theta_a$$\n",
    "\n",
    "There is a thermal limit on each line giving the constraint:\n",
    "\n",
    "$$\\left| P_a \\right| \\leq P_a^\\text{therm}$$\n",
    "\n",
    "For the linearized version of the problem to make sense, we also require the angle differences to be less that 45°:\n",
    "\n",
    "$$\\left| \\Delta\\theta_a \\right| \\leq \\frac{\\pi}{4}$$\n",
    "\n",
    "This is equivalent to a limit on the line flows, which can in some exceptional cases be more constraining than the thermal limit:\n",
    "\n",
    "$$\\left| P_a \\right| \\leq\\frac{\\pi}{4} b_a$$\n",
    "\n",
    "We define also the maximal power flow to be:\n",
    "\n",
    "$$P_a^\\text{max} = \\min\\left(P_a^\\text{therm}, \\frac{\\pi}{4} b_a \\right)$$"
   ]
  },
  {
   "cell_type": "code",
   "execution_count": 18,
   "id": "e5690a28-2618-4f80-aaef-11970fae47b2",
   "metadata": {},
   "outputs": [],
   "source": [
    "P_max_angle = π/4 * b;"
   ]
  },
  {
   "cell_type": "code",
   "execution_count": 19,
   "id": "f3615049-991e-49ce-8a22-53a560bf8602",
   "metadata": {},
   "outputs": [
    {
     "data": {
      "text/plain": [
       "0.007880597014925373"
      ]
     },
     "execution_count": 19,
     "metadata": {},
     "output_type": "execute_result"
    }
   ],
   "source": [
    "lines_thermal_limit = [network[\"branch\"][string(id)][\"rate_a\"] for id ∈ line_ids]\n",
    "\n",
    "count(lines_thermal_limit .> P_max_angle) / Nlines"
   ]
  },
  {
   "cell_type": "code",
   "execution_count": 20,
   "id": "8f070c4d-6316-40c8-b056-676499aeab39",
   "metadata": {},
   "outputs": [
    {
     "data": {
      "text/plain": [
       "8375-element Vector{Float64}:\n",
       "  4.9\n",
       "  4.9\n",
       "  4.9\n",
       "  4.9\n",
       "  4.9\n",
       "  4.9\n",
       "  4.9\n",
       "  4.9\n",
       "  4.9\n",
       "  4.9\n",
       "  4.9\n",
       "  4.9\n",
       "  4.9\n",
       "  ⋮\n",
       " 10.0\n",
       " 10.0\n",
       " 10.0\n",
       " 10.0\n",
       "  6.902376728174339\n",
       " 10.0\n",
       " 10.0\n",
       " 10.0\n",
       " 10.0\n",
       " 10.0\n",
       " 10.0\n",
       " 10.0"
      ]
     },
     "execution_count": 20,
     "metadata": {},
     "output_type": "execute_result"
    }
   ],
   "source": [
    "P_max = min.(lines_thermal_limit, P_max_angle)"
   ]
  },
  {
   "cell_type": "markdown",
   "id": "b247bc45-b48a-43a5-91b6-bf42e827d4ef",
   "metadata": {
    "jp-MarkdownHeadingCollapsed": true
   },
   "source": [
    "## Import generation costs"
   ]
  },
  {
   "cell_type": "code",
   "execution_count": 21,
   "id": "91851974-2a62-46af-9091-dbfc288701c4",
   "metadata": {},
   "outputs": [
    {
     "data": {
      "text/plain": [
       "8736"
      ]
     },
     "execution_count": 21,
     "metadata": {},
     "output_type": "execute_result"
    }
   ],
   "source": [
    "T = 24 * 364"
   ]
  },
  {
   "cell_type": "code",
   "execution_count": 22,
   "id": "396c1c10-eb44-4f50-b56c-5eecf2f3c6c5",
   "metadata": {},
   "outputs": [
    {
     "data": {
      "text/html": [
       "<div><div style = \"float: left;\"><span>1083×8737 DataFrame</span></div><div style = \"float: right;\"><span style = \"font-style: italic;\">8637 columns and 1058 rows omitted</span></div><div style = \"clear: both;\"></div></div><div class = \"data-frame\" style = \"overflow-x: scroll;\"><table class = \"data-frame\" style = \"margin-bottom: 6px;\"><thead><tr class = \"header\"><th class = \"rowNumber\" style = \"font-weight: bold; text-align: right;\">Row</th><th style = \"text-align: left;\">id</th><th style = \"text-align: left;\">0</th><th style = \"text-align: left;\">1</th><th style = \"text-align: left;\">2</th><th style = \"text-align: left;\">3</th><th style = \"text-align: left;\">4</th><th style = \"text-align: left;\">5</th><th style = \"text-align: left;\">6</th><th style = \"text-align: left;\">7</th><th style = \"text-align: left;\">8</th><th style = \"text-align: left;\">9</th><th style = \"text-align: left;\">10</th><th style = \"text-align: left;\">11</th><th style = \"text-align: left;\">12</th><th style = \"text-align: left;\">13</th><th style = \"text-align: left;\">14</th><th style = \"text-align: left;\">15</th><th style = \"text-align: left;\">16</th><th style = \"text-align: left;\">17</th><th style = \"text-align: left;\">18</th><th style = \"text-align: left;\">19</th><th style = \"text-align: left;\">20</th><th style = \"text-align: left;\">21</th><th style = \"text-align: left;\">22</th><th style = \"text-align: left;\">23</th><th style = \"text-align: left;\">24</th><th style = \"text-align: left;\">25</th><th style = \"text-align: left;\">26</th><th style = \"text-align: left;\">27</th><th style = \"text-align: left;\">28</th><th style = \"text-align: left;\">29</th><th style = \"text-align: left;\">30</th><th style = \"text-align: left;\">31</th><th style = \"text-align: left;\">32</th><th style = \"text-align: left;\">33</th><th style = \"text-align: left;\">34</th><th style = \"text-align: left;\">35</th><th style = \"text-align: left;\">36</th><th style = \"text-align: left;\">37</th><th style = \"text-align: left;\">38</th><th style = \"text-align: left;\">39</th><th style = \"text-align: left;\">40</th><th style = \"text-align: left;\">41</th><th style = \"text-align: left;\">42</th><th style = \"text-align: left;\">43</th><th style = \"text-align: left;\">44</th><th style = \"text-align: left;\">45</th><th style = \"text-align: left;\">46</th><th style = \"text-align: left;\">47</th><th style = \"text-align: left;\">48</th><th style = \"text-align: left;\">49</th><th style = \"text-align: left;\">50</th><th style = \"text-align: left;\">51</th><th style = \"text-align: left;\">52</th><th style = \"text-align: left;\">53</th><th style = \"text-align: left;\">54</th><th style = \"text-align: left;\">55</th><th style = \"text-align: left;\">56</th><th style = \"text-align: left;\">57</th><th style = \"text-align: left;\">58</th><th style = \"text-align: left;\">59</th><th style = \"text-align: left;\">60</th><th style = \"text-align: left;\">61</th><th style = \"text-align: left;\">62</th><th style = \"text-align: left;\">63</th><th style = \"text-align: left;\">64</th><th style = \"text-align: left;\">65</th><th style = \"text-align: left;\">66</th><th style = \"text-align: left;\">67</th><th style = \"text-align: left;\">68</th><th style = \"text-align: left;\">69</th><th style = \"text-align: left;\">70</th><th style = \"text-align: left;\">71</th><th style = \"text-align: left;\">72</th><th style = \"text-align: left;\">73</th><th style = \"text-align: left;\">74</th><th style = \"text-align: left;\">75</th><th style = \"text-align: left;\">76</th><th style = \"text-align: left;\">77</th><th style = \"text-align: left;\">78</th><th style = \"text-align: left;\">79</th><th style = \"text-align: left;\">80</th><th style = \"text-align: left;\">81</th><th style = \"text-align: left;\">82</th><th style = \"text-align: left;\">83</th><th style = \"text-align: left;\">84</th><th style = \"text-align: left;\">85</th><th style = \"text-align: left;\">86</th><th style = \"text-align: left;\">87</th><th style = \"text-align: left;\">88</th><th style = \"text-align: left;\">89</th><th style = \"text-align: left;\">90</th><th style = \"text-align: left;\">91</th><th style = \"text-align: left;\">92</th><th style = \"text-align: left;\">93</th><th style = \"text-align: left;\">94</th><th style = \"text-align: left;\">95</th><th style = \"text-align: left;\">96</th><th style = \"text-align: left;\">97</th><th style = \"text-align: left;\">98</th><th style = \"text-align: right;\">&ctdot;</th></tr><tr class = \"subheader headerLastRow\"><th class = \"rowNumber\" style = \"font-weight: bold; text-align: right;\"></th><th title = \"Int64\" style = \"text-align: left;\">Int64</th><th title = \"Float64\" style = \"text-align: left;\">Float64</th><th title = \"Float64\" style = \"text-align: left;\">Float64</th><th title = \"Float64\" style = \"text-align: left;\">Float64</th><th title = \"Float64\" style = \"text-align: left;\">Float64</th><th title = \"Float64\" style = \"text-align: left;\">Float64</th><th title = \"Float64\" style = \"text-align: left;\">Float64</th><th title = \"Float64\" style = \"text-align: left;\">Float64</th><th title = \"Float64\" style = \"text-align: left;\">Float64</th><th title = \"Float64\" style = \"text-align: left;\">Float64</th><th title = \"Float64\" style = \"text-align: left;\">Float64</th><th title = \"Float64\" style = \"text-align: left;\">Float64</th><th title = \"Float64\" style = \"text-align: left;\">Float64</th><th title = \"Float64\" style = \"text-align: left;\">Float64</th><th title = \"Float64\" style = \"text-align: left;\">Float64</th><th title = \"Float64\" style = \"text-align: left;\">Float64</th><th title = \"Float64\" style = \"text-align: left;\">Float64</th><th title = \"Float64\" style = \"text-align: left;\">Float64</th><th title = \"Float64\" style = \"text-align: left;\">Float64</th><th title = \"Float64\" style = \"text-align: left;\">Float64</th><th title = \"Float64\" style = \"text-align: left;\">Float64</th><th title = \"Float64\" style = \"text-align: left;\">Float64</th><th title = \"Float64\" style = \"text-align: left;\">Float64</th><th title = \"Float64\" style = \"text-align: left;\">Float64</th><th title = \"Float64\" style = \"text-align: left;\">Float64</th><th title = \"Float64\" style = \"text-align: left;\">Float64</th><th title = \"Float64\" style = \"text-align: left;\">Float64</th><th title = \"Float64\" style = \"text-align: left;\">Float64</th><th title = \"Float64\" style = \"text-align: left;\">Float64</th><th title = \"Float64\" style = \"text-align: left;\">Float64</th><th title = \"Float64\" style = \"text-align: left;\">Float64</th><th title = \"Float64\" style = \"text-align: left;\">Float64</th><th title = \"Float64\" style = \"text-align: left;\">Float64</th><th title = \"Float64\" style = \"text-align: left;\">Float64</th><th title = \"Float64\" style = \"text-align: left;\">Float64</th><th title = \"Float64\" style = \"text-align: left;\">Float64</th><th title = \"Float64\" style = \"text-align: left;\">Float64</th><th title = \"Float64\" style = \"text-align: left;\">Float64</th><th title = \"Float64\" style = \"text-align: left;\">Float64</th><th title = \"Float64\" style = \"text-align: left;\">Float64</th><th title = \"Float64\" style = \"text-align: left;\">Float64</th><th title = \"Float64\" style = \"text-align: left;\">Float64</th><th title = \"Float64\" style = \"text-align: left;\">Float64</th><th title = \"Float64\" style = \"text-align: left;\">Float64</th><th title = \"Float64\" style = \"text-align: left;\">Float64</th><th title = \"Float64\" style = \"text-align: left;\">Float64</th><th title = \"Float64\" style = \"text-align: left;\">Float64</th><th title = \"Float64\" style = \"text-align: left;\">Float64</th><th title = \"Float64\" style = \"text-align: left;\">Float64</th><th title = \"Float64\" style = \"text-align: left;\">Float64</th><th title = \"Float64\" style = \"text-align: left;\">Float64</th><th title = \"Float64\" style = \"text-align: left;\">Float64</th><th title = \"Float64\" style = \"text-align: left;\">Float64</th><th title = \"Float64\" style = \"text-align: left;\">Float64</th><th title = \"Float64\" style = \"text-align: left;\">Float64</th><th title = \"Float64\" style = \"text-align: left;\">Float64</th><th title = \"Float64\" style = \"text-align: left;\">Float64</th><th title = \"Float64\" style = \"text-align: left;\">Float64</th><th title = \"Float64\" style = \"text-align: left;\">Float64</th><th title = \"Float64\" style = \"text-align: left;\">Float64</th><th title = \"Float64\" style = \"text-align: left;\">Float64</th><th title = \"Float64\" style = \"text-align: left;\">Float64</th><th title = \"Float64\" style = \"text-align: left;\">Float64</th><th title = \"Float64\" style = \"text-align: left;\">Float64</th><th title = \"Float64\" style = \"text-align: left;\">Float64</th><th title = \"Float64\" style = \"text-align: left;\">Float64</th><th title = \"Float64\" style = \"text-align: left;\">Float64</th><th title = \"Float64\" style = \"text-align: left;\">Float64</th><th title = \"Float64\" style = \"text-align: left;\">Float64</th><th title = \"Float64\" style = \"text-align: left;\">Float64</th><th title = \"Float64\" style = \"text-align: left;\">Float64</th><th title = \"Float64\" style = \"text-align: left;\">Float64</th><th title = \"Float64\" style = \"text-align: left;\">Float64</th><th title = \"Float64\" style = \"text-align: left;\">Float64</th><th title = \"Float64\" style = \"text-align: left;\">Float64</th><th title = \"Float64\" style = \"text-align: left;\">Float64</th><th title = \"Float64\" style = \"text-align: left;\">Float64</th><th title = \"Float64\" style = \"text-align: left;\">Float64</th><th title = \"Float64\" style = \"text-align: left;\">Float64</th><th title = \"Float64\" style = \"text-align: left;\">Float64</th><th title = \"Float64\" style = \"text-align: left;\">Float64</th><th title = \"Float64\" style = \"text-align: left;\">Float64</th><th title = \"Float64\" style = \"text-align: left;\">Float64</th><th title = \"Float64\" style = \"text-align: left;\">Float64</th><th title = \"Float64\" style = \"text-align: left;\">Float64</th><th title = \"Float64\" style = \"text-align: left;\">Float64</th><th title = \"Float64\" style = \"text-align: left;\">Float64</th><th title = \"Float64\" style = \"text-align: left;\">Float64</th><th title = \"Float64\" style = \"text-align: left;\">Float64</th><th title = \"Float64\" style = \"text-align: left;\">Float64</th><th title = \"Float64\" style = \"text-align: left;\">Float64</th><th title = \"Float64\" style = \"text-align: left;\">Float64</th><th title = \"Float64\" style = \"text-align: left;\">Float64</th><th title = \"Float64\" style = \"text-align: left;\">Float64</th><th title = \"Float64\" style = \"text-align: left;\">Float64</th><th title = \"Float64\" style = \"text-align: left;\">Float64</th><th title = \"Float64\" style = \"text-align: left;\">Float64</th><th title = \"Float64\" style = \"text-align: left;\">Float64</th><th title = \"Float64\" style = \"text-align: left;\">Float64</th><th title = \"Float64\" style = \"text-align: left;\">Float64</th><th title = \"Float64\" style = \"text-align: right;\">&ctdot;</th></tr></thead><tbody><tr><td class = \"rowNumber\" style = \"font-weight: bold; text-align: right;\">1</td><td style = \"text-align: right;\">1</td><td style = \"text-align: right;\">6420.33</td><td style = \"text-align: right;\">7164.09</td><td style = \"text-align: right;\">7224.31</td><td style = \"text-align: right;\">6326.79</td><td style = \"text-align: right;\">6860.22</td><td style = \"text-align: right;\">6381.81</td><td style = \"text-align: right;\">6150.76</td><td style = \"text-align: right;\">6527.41</td><td style = \"text-align: right;\">6057.64</td><td style = \"text-align: right;\">6799.47</td><td style = \"text-align: right;\">6332.11</td><td style = \"text-align: right;\">5850.79</td><td style = \"text-align: right;\">6104.69</td><td style = \"text-align: right;\">5744.63</td><td style = \"text-align: right;\">6434.37</td><td style = \"text-align: right;\">5864.33</td><td style = \"text-align: right;\">5559.73</td><td style = \"text-align: right;\">6176.66</td><td style = \"text-align: right;\">5422.5</td><td style = \"text-align: right;\">5484.75</td><td style = \"text-align: right;\">6008.37</td><td style = \"text-align: right;\">6061.61</td><td style = \"text-align: right;\">6415.59</td><td style = \"text-align: right;\">6432.58</td><td style = \"text-align: right;\">6112.82</td><td style = \"text-align: right;\">6950.34</td><td style = \"text-align: right;\">7115.34</td><td style = \"text-align: right;\">6331.59</td><td style = \"text-align: right;\">6985.31</td><td style = \"text-align: right;\">6630.96</td><td style = \"text-align: right;\">6524.66</td><td style = \"text-align: right;\">7023.62</td><td style = \"text-align: right;\">6670.51</td><td style = \"text-align: right;\">7520.31</td><td style = \"text-align: right;\">7149.33</td><td style = \"text-align: right;\">6750.29</td><td style = \"text-align: right;\">7070.27</td><td style = \"text-align: right;\">6758.48</td><td style = \"text-align: right;\">7477.66</td><td style = \"text-align: right;\">6917.79</td><td style = \"text-align: right;\">6604.26</td><td style = \"text-align: right;\">7193.94</td><td style = \"text-align: right;\">6395.57</td><td style = \"text-align: right;\">6398.45</td><td style = \"text-align: right;\">6849.81</td><td style = \"text-align: right;\">6820.46</td><td style = \"text-align: right;\">7084.32</td><td style = \"text-align: right;\">7006.52</td><td style = \"text-align: right;\">6590.17</td><td style = \"text-align: right;\">7332.03</td><td style = \"text-align: right;\">7404.8</td><td style = \"text-align: right;\">6534.45</td><td style = \"text-align: right;\">7108.96</td><td style = \"text-align: right;\">6684.13</td><td style = \"text-align: right;\">6516.98</td><td style = \"text-align: right;\">6965.05</td><td style = \"text-align: right;\">6570.97</td><td style = \"text-align: right;\">7389.17</td><td style = \"text-align: right;\">6995.11</td><td style = \"text-align: right;\">6580.28</td><td style = \"text-align: right;\">6890.36</td><td style = \"text-align: right;\">6573.02</td><td style = \"text-align: right;\">7289.42</td><td style = \"text-align: right;\">6728.01</td><td style = \"text-align: right;\">6412.81</td><td style = \"text-align: right;\">6999.5</td><td style = \"text-align: right;\">6195.93</td><td style = \"text-align: right;\">6190.81</td><td style = \"text-align: right;\">6631.14</td><td style = \"text-align: right;\">6587.83</td><td style = \"text-align: right;\">6835.23</td><td style = \"text-align: right;\">6739.24</td><td style = \"text-align: right;\">6303.94</td><td style = \"text-align: right;\">7027.28</td><td style = \"text-align: right;\">7083.28</td><td style = \"text-align: right;\">6199.26</td><td style = \"text-align: right;\">6764.52</td><td style = \"text-align: right;\">6336.09</td><td style = \"text-align: right;\">6172.01</td><td style = \"text-align: right;\">6630.66</td><td style = \"text-align: right;\">6255.17</td><td style = \"text-align: right;\">7100.19</td><td style = \"text-align: right;\">6741.06</td><td style = \"text-align: right;\">6368.85</td><td style = \"text-align: right;\">6728.5</td><td style = \"text-align: right;\">6466.66</td><td style = \"text-align: right;\">7243.28</td><td style = \"text-align: right;\">6745.4</td><td style = \"text-align: right;\">6495.55</td><td style = \"text-align: right;\">7147.89</td><td style = \"text-align: right;\">6408.78</td><td style = \"text-align: right;\">6465.57</td><td style = \"text-align: right;\">6964.0</td><td style = \"text-align: right;\">6973.99</td><td style = \"text-align: right;\">7269.1</td><td style = \"text-align: right;\">7214.7</td><td style = \"text-align: right;\">6814.62</td><td style = \"text-align: right;\">7566.78</td><td style = \"text-align: right;\">7645.43</td><td style = \"text-align: right;\">&ctdot;</td></tr><tr><td class = \"rowNumber\" style = \"font-weight: bold; text-align: right;\">2</td><td style = \"text-align: right;\">2</td><td style = \"text-align: right;\">9832.76</td><td style = \"text-align: right;\">10111.0</td><td style = \"text-align: right;\">9552.12</td><td style = \"text-align: right;\">10115.2</td><td style = \"text-align: right;\">10454.1</td><td style = \"text-align: right;\">10226.5</td><td style = \"text-align: right;\">10767.5</td><td style = \"text-align: right;\">9301.43</td><td style = \"text-align: right;\">9833.6</td><td style = \"text-align: right;\">10696.6</td><td style = \"text-align: right;\">10273.7</td><td style = \"text-align: right;\">9785.72</td><td style = \"text-align: right;\">9106.68</td><td style = \"text-align: right;\">9809.36</td><td style = \"text-align: right;\">9295.27</td><td style = \"text-align: right;\">9652.93</td><td style = \"text-align: right;\">9950.95</td><td style = \"text-align: right;\">9430.7</td><td style = \"text-align: right;\">9989.59</td><td style = \"text-align: right;\">9537.8</td><td style = \"text-align: right;\">10102.7</td><td style = \"text-align: right;\">9600.17</td><td style = \"text-align: right;\">9141.42</td><td style = \"text-align: right;\">9880.92</td><td style = \"text-align: right;\">9520.58</td><td style = \"text-align: right;\">9788.88</td><td style = \"text-align: right;\">9231.31</td><td style = \"text-align: right;\">9805.59</td><td style = \"text-align: right;\">10164.2</td><td style = \"text-align: right;\">9962.68</td><td style = \"text-align: right;\">10534.2</td><td style = \"text-align: right;\">9100.75</td><td style = \"text-align: right;\">9665.39</td><td style = \"text-align: right;\">10558.5</td><td style = \"text-align: right;\">10161.1</td><td style = \"text-align: right;\">9692.22</td><td style = \"text-align: right;\">9024.39</td><td style = \"text-align: right;\">9729.18</td><td style = \"text-align: right;\">9207.38</td><td style = \"text-align: right;\">9547.3</td><td style = \"text-align: right;\">9817.8</td><td style = \"text-align: right;\">9261.07</td><td style = \"text-align: right;\">9775.74</td><td style = \"text-align: right;\">9273.72</td><td style = \"text-align: right;\">9784.48</td><td style = \"text-align: right;\">9226.24</td><td style = \"text-align: right;\">8712.85</td><td style = \"text-align: right;\">9401.48</td><td style = \"text-align: right;\">8996.73</td><td style = \"text-align: right;\">9229.7</td><td style = \"text-align: right;\">8648.22</td><td style = \"text-align: right;\">9212.06</td><td style = \"text-align: right;\">9575.27</td><td style = \"text-align: right;\">9394.58</td><td style = \"text-align: right;\">10003.6</td><td style = \"text-align: right;\">8624.34</td><td style = \"text-align: right;\">9259.1</td><td style = \"text-align: right;\">10236.9</td><td style = \"text-align: right;\">9937.04</td><td style = \"text-align: right;\">9575.94</td><td style = \"text-align: right;\">9023.29</td><td style = \"text-align: right;\">9847.41</td><td style = \"text-align: right;\">9445.58</td><td style = \"text-align: right;\">9902.46</td><td style = \"text-align: right;\">10283.3</td><td style = \"text-align: right;\">9826.77</td><td style = \"text-align: right;\">10428.3</td><td style = \"text-align: right;\">9996.84</td><td style = \"text-align: right;\">10559.6</td><td style = \"text-align: right;\">10033.0</td><td style = \"text-align: right;\">9529.79</td><td style = \"text-align: right;\">10206.7</td><td style = \"text-align: right;\">9768.63</td><td style = \"text-align: right;\">9947.74</td><td style = \"text-align: right;\">9293.56</td><td style = \"text-align: right;\">9768.21</td><td style = \"text-align: right;\">10028.6</td><td style = \"text-align: right;\">9734.93</td><td style = \"text-align: right;\">10224.4</td><td style = \"text-align: right;\">8722.83</td><td style = \"text-align: right;\">9236.56</td><td style = \"text-align: right;\">10098.5</td><td style = \"text-align: right;\">9691.47</td><td style = \"text-align: right;\">9235.32</td><td style = \"text-align: right;\">8602.54</td><td style = \"text-align: right;\">9363.77</td><td style = \"text-align: right;\">8917.95</td><td style = \"text-align: right;\">9350.74</td><td style = \"text-align: right;\">9727.66</td><td style = \"text-align: right;\">9286.95</td><td style = \"text-align: right;\">9922.9</td><td style = \"text-align: right;\">9542.83</td><td style = \"text-align: right;\">10171.5</td><td style = \"text-align: right;\">9722.71</td><td style = \"text-align: right;\">9305.96</td><td style = \"text-align: right;\">10074.7</td><td style = \"text-align: right;\">9730.35</td><td style = \"text-align: right;\">10001.6</td><td style = \"text-align: right;\">9434.79</td><td style = \"text-align: right;\">&ctdot;</td></tr><tr><td class = \"rowNumber\" style = \"font-weight: bold; text-align: right;\">3</td><td style = \"text-align: right;\">3</td><td style = \"text-align: right;\">999.425</td><td style = \"text-align: right;\">945.82</td><td style = \"text-align: right;\">903.441</td><td style = \"text-align: right;\">995.912</td><td style = \"text-align: right;\">1030.02</td><td style = \"text-align: right;\">1008.31</td><td style = \"text-align: right;\">1044.74</td><td style = \"text-align: right;\">1015.69</td><td style = \"text-align: right;\">1050.2</td><td style = \"text-align: right;\">1037.38</td><td style = \"text-align: right;\">960.008</td><td style = \"text-align: right;\">1036.46</td><td style = \"text-align: right;\">1037.04</td><td style = \"text-align: right;\">1031.33</td><td style = \"text-align: right;\">1023.68</td><td style = \"text-align: right;\">909.292</td><td style = \"text-align: right;\">949.44</td><td style = \"text-align: right;\">988.297</td><td style = \"text-align: right;\">924.503</td><td style = \"text-align: right;\">938.76</td><td style = \"text-align: right;\">948.023</td><td style = \"text-align: right;\">902.649</td><td style = \"text-align: right;\">895.667</td><td style = \"text-align: right;\">938.156</td><td style = \"text-align: right;\">955.482</td><td style = \"text-align: right;\">887.299</td><td style = \"text-align: right;\">832.17</td><td style = \"text-align: right;\">913.928</td><td style = \"text-align: right;\">939.473</td><td style = \"text-align: right;\">911.38</td><td style = \"text-align: right;\">943.526</td><td style = \"text-align: right;\">912.145</td><td style = \"text-align: right;\">946.056</td><td style = \"text-align: right;\">934.11</td><td style = \"text-align: right;\">858.752</td><td style = \"text-align: right;\">938.049</td><td style = \"text-align: right;\">941.954</td><td style = \"text-align: right;\">939.756</td><td style = \"text-align: right;\">935.524</td><td style = \"text-align: right;\">824.237</td><td style = \"text-align: right;\">866.999</td><td style = \"text-align: right;\">907.892</td><td style = \"text-align: right;\">845.533</td><td style = \"text-align: right;\">860.676</td><td style = \"text-align: right;\">870.393</td><td style = \"text-align: right;\">825.217</td><td style = \"text-align: right;\">818.403</td><td style = \"text-align: right;\">861.287</td><td style = \"text-align: right;\">879.508</td><td style = \"text-align: right;\">812.991</td><td style = \"text-align: right;\">760.555</td><td style = \"text-align: right;\">846.251</td><td style = \"text-align: right;\">877.144</td><td style = \"text-align: right;\">855.916</td><td style = \"text-align: right;\">896.477</td><td style = \"text-align: right;\">875.016</td><td style = \"text-align: right;\">920.229</td><td style = \"text-align: right;\">920.768</td><td style = \"text-align: right;\">858.812</td><td style = \"text-align: right;\">952.097</td><td style = \"text-align: right;\">970.21</td><td style = \"text-align: right;\">982.039</td><td style = \"text-align: right;\">991.242</td><td style = \"text-align: right;\">892.4</td><td style = \"text-align: right;\">946.243</td><td style = \"text-align: right;\">996.525</td><td style = \"text-align: right;\">941.597</td><td style = \"text-align: right;\">962.018</td><td style = \"text-align: right;\">974.754</td><td style = \"text-align: right;\">930.316</td><td style = \"text-align: right;\">922.03</td><td style = \"text-align: right;\">961.389</td><td style = \"text-align: right;\">974.273</td><td style = \"text-align: right;\">900.913</td><td style = \"text-align: right;\">840.495</td><td style = \"text-align: right;\">917.469</td><td style = \"text-align: right;\">939.326</td><td style = \"text-align: right;\">909.169</td><td style = \"text-align: right;\">941.314</td><td style = \"text-align: right;\">912.317</td><td style = \"text-align: right;\">951.186</td><td style = \"text-align: right;\">946.821</td><td style = \"text-align: right;\">881.567</td><td style = \"text-align: right;\">973.247</td><td style = \"text-align: right;\">991.442</td><td style = \"text-align: right;\">1004.95</td><td style = \"text-align: right;\">1017.28</td><td style = \"text-align: right;\">922.754</td><td style = \"text-align: right;\">981.828</td><td style = \"text-align: right;\">1037.92</td><td style = \"text-align: right;\">989.038</td><td style = \"text-align: right;\">1015.38</td><td style = \"text-align: right;\">1033.56</td><td style = \"text-align: right;\">993.803</td><td style = \"text-align: right;\">989.156</td><td style = \"text-align: right;\">1030.92</td><td style = \"text-align: right;\">1044.83</td><td style = \"text-align: right;\">971.08</td><td style = \"text-align: right;\">908.863</td><td style = \"text-align: right;\">&ctdot;</td></tr><tr><td class = \"rowNumber\" style = \"font-weight: bold; text-align: right;\">4</td><td style = \"text-align: right;\">4</td><td style = \"text-align: right;\">1061.44</td><td style = \"text-align: right;\">1015.59</td><td style = \"text-align: right;\">1107.72</td><td style = \"text-align: right;\">1173.75</td><td style = \"text-align: right;\">1109.79</td><td style = \"text-align: right;\">1148.47</td><td style = \"text-align: right;\">1226.57</td><td style = \"text-align: right;\">1149.64</td><td style = \"text-align: right;\">1080.17</td><td style = \"text-align: right;\">1130.12</td><td style = \"text-align: right;\">1080.55</td><td style = \"text-align: right;\">979.072</td><td style = \"text-align: right;\">1019.11</td><td style = \"text-align: right;\">1037.44</td><td style = \"text-align: right;\">995.589</td><td style = \"text-align: right;\">1019.18</td><td style = \"text-align: right;\">1061.38</td><td style = \"text-align: right;\">1051.45</td><td style = \"text-align: right;\">1002.62</td><td style = \"text-align: right;\">994.52</td><td style = \"text-align: right;\">1005.61</td><td style = \"text-align: right;\">939.581</td><td style = \"text-align: right;\">873.611</td><td style = \"text-align: right;\">905.007</td><td style = \"text-align: right;\">893.368</td><td style = \"text-align: right;\">833.955</td><td style = \"text-align: right;\">915.157</td><td style = \"text-align: right;\">973.13</td><td style = \"text-align: right;\">904.142</td><td style = \"text-align: right;\">940.899</td><td style = \"text-align: right;\">1020.17</td><td style = \"text-align: right;\">947.368</td><td style = \"text-align: right;\">884.816</td><td style = \"text-align: right;\">944.182</td><td style = \"text-align: right;\">906.184</td><td style = \"text-align: right;\">818.06</td><td style = \"text-align: right;\">872.804</td><td style = \"text-align: right;\">906.76</td><td style = \"text-align: right;\">881.016</td><td style = \"text-align: right;\">920.79</td><td style = \"text-align: right;\">978.874</td><td style = \"text-align: right;\">984.212</td><td style = \"text-align: right;\">949.779</td><td style = \"text-align: right;\">955.027</td><td style = \"text-align: right;\">978.305</td><td style = \"text-align: right;\">923.296</td><td style = \"text-align: right;\">867.213</td><td style = \"text-align: right;\">907.484</td><td style = \"text-align: right;\">903.88</td><td style = \"text-align: right;\">851.88</td><td style = \"text-align: right;\">940.108</td><td style = \"text-align: right;\">1004.98</td><td style = \"text-align: right;\">942.987</td><td style = \"text-align: right;\">987.063</td><td style = \"text-align: right;\">1074.14</td><td style = \"text-align: right;\">1009.76</td><td style = \"text-align: right;\">956.273</td><td style = \"text-align: right;\">1025.33</td><td style = \"text-align: right;\">997.544</td><td style = \"text-align: right;\">919.966</td><td style = \"text-align: right;\">985.333</td><td style = \"text-align: right;\">1029.67</td><td style = \"text-align: right;\">1013.69</td><td style = \"text-align: right;\">1062.22</td><td style = \"text-align: right;\">1127.61</td><td style = \"text-align: right;\">1138.4</td><td style = \"text-align: right;\">1107.16</td><td style = \"text-align: right;\">1112.99</td><td style = \"text-align: right;\">1133.96</td><td style = \"text-align: right;\">1073.54</td><td style = \"text-align: right;\">1008.81</td><td style = \"text-align: right;\">1037.21</td><td style = \"text-align: right;\">1018.59</td><td style = \"text-align: right;\">948.64</td><td style = \"text-align: right;\">1016.3</td><td style = \"text-align: right;\">1058.39</td><td style = \"text-align: right;\">971.917</td><td style = \"text-align: right;\">990.373</td><td style = \"text-align: right;\">1051.32</td><td style = \"text-align: right;\">960.943</td><td style = \"text-align: right;\">882.272</td><td style = \"text-align: right;\">927.599</td><td style = \"text-align: right;\">878.147</td><td style = \"text-align: right;\">781.524</td><td style = \"text-align: right;\">830.943</td><td style = \"text-align: right;\">862.815</td><td style = \"text-align: right;\">838.136</td><td style = \"text-align: right;\">881.888</td><td style = \"text-align: right;\">946.491</td><td style = \"text-align: right;\">960.411</td><td style = \"text-align: right;\">936.056</td><td style = \"text-align: right;\">952.254</td><td style = \"text-align: right;\">986.709</td><td style = \"text-align: right;\">942.467</td><td style = \"text-align: right;\">896.139</td><td style = \"text-align: right;\">944.622</td><td style = \"text-align: right;\">947.249</td><td style = \"text-align: right;\">899.171</td><td style = \"text-align: right;\">988.815</td><td style = \"text-align: right;\">&ctdot;</td></tr><tr><td class = \"rowNumber\" style = \"font-weight: bold; text-align: right;\">5</td><td style = \"text-align: right;\">5</td><td style = \"text-align: right;\">5942.2</td><td style = \"text-align: right;\">5800.83</td><td style = \"text-align: right;\">6086.32</td><td style = \"text-align: right;\">6528.81</td><td style = \"text-align: right;\">6272.2</td><td style = \"text-align: right;\">6196.36</td><td style = \"text-align: right;\">6604.46</td><td style = \"text-align: right;\">6892.3</td><td style = \"text-align: right;\">6505.77</td><td style = \"text-align: right;\">5773.85</td><td style = \"text-align: right;\">5882.92</td><td style = \"text-align: right;\">6286.13</td><td style = \"text-align: right;\">6626.82</td><td style = \"text-align: right;\">6698.46</td><td style = \"text-align: right;\">6448.59</td><td style = \"text-align: right;\">6077.97</td><td style = \"text-align: right;\">5372.76</td><td style = \"text-align: right;\">5361.36</td><td style = \"text-align: right;\">5871.9</td><td style = \"text-align: right;\">6073.82</td><td style = \"text-align: right;\">5825.51</td><td style = \"text-align: right;\">5525.01</td><td style = \"text-align: right;\">5878.36</td><td style = \"text-align: right;\">5974.35</td><td style = \"text-align: right;\">5662.21</td><td style = \"text-align: right;\">5477.47</td><td style = \"text-align: right;\">5724.51</td><td style = \"text-align: right;\">6133.9</td><td style = \"text-align: right;\">5849.86</td><td style = \"text-align: right;\">5752.43</td><td style = \"text-align: right;\">6144.81</td><td style = \"text-align: right;\">6422.71</td><td style = \"text-align: right;\">6031.83</td><td style = \"text-align: right;\">5300.89</td><td style = \"text-align: right;\">5415.91</td><td style = \"text-align: right;\">5829.68</td><td style = \"text-align: right;\">6185.12</td><td style = \"text-align: right;\">6275.29</td><td style = \"text-align: right;\">6047.31</td><td style = \"text-align: right;\">5701.53</td><td style = \"text-align: right;\">5023.74</td><td style = \"text-align: right;\">5041.96</td><td style = \"text-align: right;\">5583.97</td><td style = \"text-align: right;\">5818.91</td><td style = \"text-align: right;\">5604.86</td><td style = \"text-align: right;\">5339.54</td><td style = \"text-align: right;\">5728.73</td><td style = \"text-align: right;\">5860.89</td><td style = \"text-align: right;\">5584.94</td><td style = \"text-align: right;\">5436.09</td><td style = \"text-align: right;\">5718.37</td><td style = \"text-align: right;\">6161.98</td><td style = \"text-align: right;\">5910.75</td><td style = \"text-align: right;\">5844.32</td><td style = \"text-align: right;\">6265.48</td><td style = \"text-align: right;\">6569.55</td><td style = \"text-align: right;\">6201.83</td><td style = \"text-align: right;\">5490.71</td><td style = \"text-align: right;\">5621.9</td><td style = \"text-align: right;\">6047.94</td><td style = \"text-align: right;\">6411.59</td><td style = \"text-align: right;\">6505.79</td><td style = \"text-align: right;\">6277.69</td><td style = \"text-align: right;\">5927.71</td><td style = \"text-align: right;\">5241.84</td><td style = \"text-align: right;\">5248.4</td><td style = \"text-align: right;\">5775.54</td><td style = \"text-align: right;\">5992.85</td><td style = \"text-align: right;\">5758.9</td><td style = \"text-align: right;\">5471.99</td><td style = \"text-align: right;\">5838.44</td><td style = \"text-align: right;\">5947.31</td><td style = \"text-align: right;\">5648.05</td><td style = \"text-align: right;\">5476.37</td><td style = \"text-align: right;\">5736.72</td><td style = \"text-align: right;\">6159.66</td><td style = \"text-align: right;\">5889.26</td><td style = \"text-align: right;\">5805.28</td><td style = \"text-align: right;\">6210.56</td><td style = \"text-align: right;\">6500.3</td><td style = \"text-align: right;\">6119.62</td><td style = \"text-align: right;\">5396.59</td><td style = \"text-align: right;\">5516.55</td><td style = \"text-align: right;\">5931.62</td><td style = \"text-align: right;\">6284.06</td><td style = \"text-align: right;\">6366.37</td><td style = \"text-align: right;\">6125.22</td><td style = \"text-align: right;\">5760.64</td><td style = \"text-align: right;\">5058.29</td><td style = \"text-align: right;\">5046.25</td><td style = \"text-align: right;\">5552.57</td><td style = \"text-align: right;\">5746.86</td><td style = \"text-align: right;\">5487.87</td><td style = \"text-align: right;\">5174.2</td><td style = \"text-align: right;\">5512.65</td><td style = \"text-align: right;\">5592.85</td><td style = \"text-align: right;\">5264.96</td><td style = \"text-align: right;\">5065.49</td><td style = \"text-align: right;\">5299.76</td><td style = \"text-align: right;\">&ctdot;</td></tr><tr><td class = \"rowNumber\" style = \"font-weight: bold; text-align: right;\">6</td><td style = \"text-align: right;\">6</td><td style = \"text-align: right;\">7787.96</td><td style = \"text-align: right;\">7942.79</td><td style = \"text-align: right;\">7039.49</td><td style = \"text-align: right;\">6364.01</td><td style = \"text-align: right;\">6987.9</td><td style = \"text-align: right;\">7270.7</td><td style = \"text-align: right;\">7444.76</td><td style = \"text-align: right;\">7455.47</td><td style = \"text-align: right;\">7649.19</td><td style = \"text-align: right;\">8485.01</td><td style = \"text-align: right;\">7643.79</td><td style = \"text-align: right;\">8114.72</td><td style = \"text-align: right;\">8483.97</td><td style = \"text-align: right;\">8002.46</td><td style = \"text-align: right;\">8406.97</td><td style = \"text-align: right;\">7932.09</td><td style = \"text-align: right;\">8681.46</td><td style = \"text-align: right;\">8227.53</td><td style = \"text-align: right;\">7580.51</td><td style = \"text-align: right;\">8417.96</td><td style = \"text-align: right;\">7858.98</td><td style = \"text-align: right;\">7789.33</td><td style = \"text-align: right;\">6795.07</td><td style = \"text-align: right;\">6462.43</td><td style = \"text-align: right;\">8016.09</td><td style = \"text-align: right;\">8206.2</td><td style = \"text-align: right;\">7331.49</td><td style = \"text-align: right;\">6677.25</td><td style = \"text-align: right;\">7314.71</td><td style = \"text-align: right;\">7603.45</td><td style = \"text-align: right;\">7776.12</td><td style = \"text-align: right;\">7778.68</td><td style = \"text-align: right;\">7958.27</td><td style = \"text-align: right;\">8774.89</td><td style = \"text-align: right;\">7910.36</td><td style = \"text-align: right;\">8354.86</td><td style = \"text-align: right;\">8695.45</td><td style = \"text-align: right;\">8183.86</td><td style = \"text-align: right;\">8557.48</td><td style = \"text-align: right;\">8051.32</td><td style = \"text-align: right;\">8769.21</td><td style = \"text-align: right;\">8283.58</td><td style = \"text-align: right;\">7604.42</td><td style = \"text-align: right;\">8408.89</td><td style = \"text-align: right;\">7815.56</td><td style = \"text-align: right;\">7709.58</td><td style = \"text-align: right;\">6676.4</td><td style = \"text-align: right;\">6301.67</td><td style = \"text-align: right;\">7809.64</td><td style = \"text-align: right;\">7950.2</td><td style = \"text-align: right;\">7022.03</td><td style = \"text-align: right;\">6310.73</td><td style = \"text-align: right;\">6888.09</td><td style = \"text-align: right;\">7114.58</td><td style = \"text-align: right;\">7224.09</td><td style = \"text-align: right;\">7164.1</td><td style = \"text-align: right;\">7283.53</td><td style = \"text-align: right;\">8044.35</td><td style = \"text-align: right;\">7130.5</td><td style = \"text-align: right;\">7534.29</td><td style = \"text-align: right;\">7844.86</td><td style = \"text-align: right;\">7315.88</td><td style = \"text-align: right;\">7686.43</td><td style = \"text-align: right;\">7192.87</td><td style = \"text-align: right;\">7939.98</td><td style = \"text-align: right;\">7500.67</td><td style = \"text-align: right;\">6884.85</td><td style = \"text-align: right;\">7769.08</td><td style = \"text-align: right;\">7270.79</td><td style = \"text-align: right;\">7273.41</td><td style = \"text-align: right;\">6360.21</td><td style = \"text-align: right;\">6114.22</td><td style = \"text-align: right;\">7756.72</td><td style = \"text-align: right;\">8034.37</td><td style = \"text-align: right;\">7242.51</td><td style = \"text-align: right;\">6663.32</td><td style = \"text-align: right;\">7365.32</td><td style = \"text-align: right;\">7705.88</td><td style = \"text-align: right;\">7916.14</td><td style = \"text-align: right;\">7941.21</td><td style = \"text-align: right;\">8128.16</td><td style = \"text-align: right;\">8937.65</td><td style = \"text-align: right;\">8052.9</td><td style = \"text-align: right;\">8466.11</td><td style = \"text-align: right;\">8766.93</td><td style = \"text-align: right;\">8210.04</td><td style = \"text-align: right;\">8536.09</td><td style = \"text-align: right;\">7983.45</td><td style = \"text-align: right;\">8659.24</td><td style = \"text-align: right;\">8138.93</td><td style = \"text-align: right;\">7435.2</td><td style = \"text-align: right;\">8227.37</td><td style = \"text-align: right;\">7635.56</td><td style = \"text-align: right;\">7545.76</td><td style = \"text-align: right;\">6543.52</td><td style = \"text-align: right;\">6213.84</td><td style = \"text-align: right;\">7779.61</td><td style = \"text-align: right;\">7988.69</td><td style = \"text-align: right;\">7137.21</td><td style = \"text-align: right;\">&ctdot;</td></tr><tr><td class = \"rowNumber\" style = \"font-weight: bold; text-align: right;\">7</td><td style = \"text-align: right;\">7</td><td style = \"text-align: right;\">8394.25</td><td style = \"text-align: right;\">8219.91</td><td style = \"text-align: right;\">8231.25</td><td style = \"text-align: right;\">8493.46</td><td style = \"text-align: right;\">8233.32</td><td style = \"text-align: right;\">7930.11</td><td style = \"text-align: right;\">8493.03</td><td style = \"text-align: right;\">9269.7</td><td style = \"text-align: right;\">8516.37</td><td style = \"text-align: right;\">8251.68</td><td style = \"text-align: right;\">8420.58</td><td style = \"text-align: right;\">8370.51</td><td style = \"text-align: right;\">8675.13</td><td style = \"text-align: right;\">8147.72</td><td style = \"text-align: right;\">8632.78</td><td style = \"text-align: right;\">9550.06</td><td style = \"text-align: right;\">9183.4</td><td style = \"text-align: right;\">8485.42</td><td style = \"text-align: right;\">8106.34</td><td style = \"text-align: right;\">8639.07</td><td style = \"text-align: right;\">8786.5</td><td style = \"text-align: right;\">8528.55</td><td style = \"text-align: right;\">8239.27</td><td style = \"text-align: right;\">8138.8</td><td style = \"text-align: right;\">8564.78</td><td style = \"text-align: right;\">8277.65</td><td style = \"text-align: right;\">8171.75</td><td style = \"text-align: right;\">8315.01</td><td style = \"text-align: right;\">7937.17</td><td style = \"text-align: right;\">7520.61</td><td style = \"text-align: right;\">7977.73</td><td style = \"text-align: right;\">8659.3</td><td style = \"text-align: right;\">7824.58</td><td style = \"text-align: right;\">7494.91</td><td style = \"text-align: right;\">7617.62</td><td style = \"text-align: right;\">7542.03</td><td style = \"text-align: right;\">7843.12</td><td style = \"text-align: right;\">7334.84</td><td style = \"text-align: right;\">7861.69</td><td style = \"text-align: right;\">8842.67</td><td style = \"text-align: right;\">8560.17</td><td style = \"text-align: right;\">7964.64</td><td style = \"text-align: right;\">7703.48</td><td style = \"text-align: right;\">8366.24</td><td style = \"text-align: right;\">8651.94</td><td style = \"text-align: right;\">8536.28</td><td style = \"text-align: right;\">8388.91</td><td style = \"text-align: right;\">8425.47</td><td style = \"text-align: right;\">8979.24</td><td style = \"text-align: right;\">8806.49</td><td style = \"text-align: right;\">8797.84</td><td style = \"text-align: right;\">9018.03</td><td style = \"text-align: right;\">8694.24</td><td style = \"text-align: right;\">8307.08</td><td style = \"text-align: right;\">8768.01</td><td style = \"text-align: right;\">9427.7</td><td style = \"text-align: right;\">8546.22</td><td style = \"text-align: right;\">8146.57</td><td style = \"text-align: right;\">8178.52</td><td style = \"text-align: right;\">7994.58</td><td style = \"text-align: right;\">8173.5</td><td style = \"text-align: right;\">7533.48</td><td style = \"text-align: right;\">7923.56</td><td style = \"text-align: right;\">8767.44</td><td style = \"text-align: right;\">8352.21</td><td style = \"text-align: right;\">7632.78</td><td style = \"text-align: right;\">7260.7</td><td style = \"text-align: right;\">7829.13</td><td style = \"text-align: right;\">8040.08</td><td style = \"text-align: right;\">7871.51</td><td style = \"text-align: right;\">7694.5</td><td style = \"text-align: right;\">7725.28</td><td style = \"text-align: right;\">8296.82</td><td style = \"text-align: right;\">8164.25</td><td style = \"text-align: right;\">8216.28</td><td style = \"text-align: right;\">8514.96</td><td style = \"text-align: right;\">8284.21</td><td style = \"text-align: right;\">8000.93</td><td style = \"text-align: right;\">8572.46</td><td style = \"text-align: right;\">9345.23</td><td style = \"text-align: right;\">8575.02</td><td style = \"text-align: right;\">8280.69</td><td style = \"text-align: right;\">8408.15</td><td style = \"text-align: right;\">8306.43</td><td style = \"text-align: right;\">8551.38</td><td style = \"text-align: right;\">7958.88</td><td style = \"text-align: right;\">8376.38</td><td style = \"text-align: right;\">9226.68</td><td style = \"text-align: right;\">8796.73</td><td style = \"text-align: right;\">8042.03</td><td style = \"text-align: right;\">7615.39</td><td style = \"text-align: right;\">8111.82</td><td style = \"text-align: right;\">8235.75</td><td style = \"text-align: right;\">7967.97</td><td style = \"text-align: right;\">7682.7</td><td style = \"text-align: right;\">7599.49</td><td style = \"text-align: right;\">8054.72</td><td style = \"text-align: right;\">7806.88</td><td style = \"text-align: right;\">7747.88</td><td style = \"text-align: right;\">&ctdot;</td></tr><tr><td class = \"rowNumber\" style = \"font-weight: bold; text-align: right;\">8</td><td style = \"text-align: right;\">8</td><td style = \"text-align: right;\">11491.8</td><td style = \"text-align: right;\">10917.2</td><td style = \"text-align: right;\">11446.7</td><td style = \"text-align: right;\">10985.2</td><td style = \"text-align: right;\">11279.7</td><td style = \"text-align: right;\">11271.9</td><td style = \"text-align: right;\">10645.9</td><td style = \"text-align: right;\">10907.1</td><td style = \"text-align: right;\">11483.2</td><td style = \"text-align: right;\">12058.7</td><td style = \"text-align: right;\">10309.1</td><td style = \"text-align: right;\">10715.7</td><td style = \"text-align: right;\">12344.9</td><td style = \"text-align: right;\">12239.8</td><td style = \"text-align: right;\">11698.9</td><td style = \"text-align: right;\">11001.5</td><td style = \"text-align: right;\">12949.0</td><td style = \"text-align: right;\">13323.8</td><td style = \"text-align: right;\">12691.6</td><td style = \"text-align: right;\">12595.0</td><td style = \"text-align: right;\">12250.4</td><td style = \"text-align: right;\">13972.0</td><td style = \"text-align: right;\">13048.5</td><td style = \"text-align: right;\">12343.6</td><td style = \"text-align: right;\">12831.6</td><td style = \"text-align: right;\">12148.3</td><td style = \"text-align: right;\">12528.7</td><td style = \"text-align: right;\">11879.6</td><td style = \"text-align: right;\">11951.0</td><td style = \"text-align: right;\">11689.5</td><td style = \"text-align: right;\">10784.8</td><td style = \"text-align: right;\">10749.1</td><td style = \"text-align: right;\">11017.9</td><td style = \"text-align: right;\">11283.9</td><td style = \"text-align: right;\">9231.14</td><td style = \"text-align: right;\">9349.59</td><td style = \"text-align: right;\">10713.8</td><td style = \"text-align: right;\">10374.7</td><td style = \"text-align: right;\">9637.7</td><td style = \"text-align: right;\">8787.79</td><td style = \"text-align: right;\">10630.8</td><td style = \"text-align: right;\">10952.0</td><td style = \"text-align: right;\">10318.6</td><td style = \"text-align: right;\">10273.0</td><td style = \"text-align: right;\">10029.7</td><td style = \"text-align: right;\">11899.3</td><td style = \"text-align: right;\">11165.8</td><td style = \"text-align: right;\">10687.0</td><td style = \"text-align: right;\">11429.8</td><td style = \"text-align: right;\">11022.5</td><td style = \"text-align: right;\">11691.6</td><td style = \"text-align: right;\">11335.6</td><td style = \"text-align: right;\">11696.2</td><td style = \"text-align: right;\">11712.3</td><td style = \"text-align: right;\">11066.4</td><td style = \"text-align: right;\">11264.6</td><td style = \"text-align: right;\">11737.4</td><td style = \"text-align: right;\">12173.8</td><td style = \"text-align: right;\">10255.3</td><td style = \"text-align: right;\">10471.1</td><td style = \"text-align: right;\">11896.1</td><td style = \"text-align: right;\">11582.8</td><td style = \"text-align: right;\">10839.4</td><td style = \"text-align: right;\">9954.82</td><td style = \"text-align: right;\">11739.3</td><td style = \"text-align: right;\">11983.3</td><td style = \"text-align: right;\">11259.3</td><td style = \"text-align: right;\">11115.0</td><td style = \"text-align: right;\">10770.0</td><td style = \"text-align: right;\">12539.9</td><td style = \"text-align: right;\">11712.5</td><td style = \"text-align: right;\">11149.0</td><td style = \"text-align: right;\">11818.8</td><td style = \"text-align: right;\">11351.5</td><td style = \"text-align: right;\">11974.4</td><td style = \"text-align: right;\">11585.3</td><td style = \"text-align: right;\">11924.9</td><td style = \"text-align: right;\">11929.8</td><td style = \"text-align: right;\">11280.2</td><td style = \"text-align: right;\">11479.1</td><td style = \"text-align: right;\">11953.9</td><td style = \"text-align: right;\">12390.3</td><td style = \"text-align: right;\">10466.8</td><td style = \"text-align: right;\">10670.0</td><td style = \"text-align: right;\">12072.5</td><td style = \"text-align: right;\">11725.5</td><td style = \"text-align: right;\">10936.2</td><td style = \"text-align: right;\">9993.59</td><td style = \"text-align: right;\">11708.7</td><td style = \"text-align: right;\">11873.4</td><td style = \"text-align: right;\">11062.4</td><td style = \"text-align: right;\">10826.2</td><td style = \"text-align: right;\">10387.5</td><td style = \"text-align: right;\">12065.4</td><td style = \"text-align: right;\">11151.3</td><td style = \"text-align: right;\">10509.7</td><td style = \"text-align: right;\">11113.3</td><td style = \"text-align: right;\">10594.5</td><td style = \"text-align: right;\">11182.6</td><td style = \"text-align: right;\">&ctdot;</td></tr><tr><td class = \"rowNumber\" style = \"font-weight: bold; text-align: right;\">9</td><td style = \"text-align: right;\">9</td><td style = \"text-align: right;\">2322.47</td><td style = \"text-align: right;\">2292.44</td><td style = \"text-align: right;\">2392.01</td><td style = \"text-align: right;\">2450.25</td><td style = \"text-align: right;\">2288.54</td><td style = \"text-align: right;\">2357.46</td><td style = \"text-align: right;\">2494.03</td><td style = \"text-align: right;\">2488.08</td><td style = \"text-align: right;\">2365.06</td><td style = \"text-align: right;\">2380.56</td><td style = \"text-align: right;\">2352.66</td><td style = \"text-align: right;\">2128.79</td><td style = \"text-align: right;\">2283.8</td><td style = \"text-align: right;\">2500.87</td><td style = \"text-align: right;\">2426.29</td><td style = \"text-align: right;\">2336.19</td><td style = \"text-align: right;\">2432.49</td><td style = \"text-align: right;\">2409.24</td><td style = \"text-align: right;\">2122.6</td><td style = \"text-align: right;\">2298.19</td><td style = \"text-align: right;\">2587.58</td><td style = \"text-align: right;\">2452.94</td><td style = \"text-align: right;\">2247.75</td><td style = \"text-align: right;\">2187.93</td><td style = \"text-align: right;\">2257.54</td><td style = \"text-align: right;\">2226.73</td><td style = \"text-align: right;\">2325.17</td><td style = \"text-align: right;\">2382.2</td><td style = \"text-align: right;\">2219.44</td><td style = \"text-align: right;\">2287.72</td><td style = \"text-align: right;\">2424.35</td><td style = \"text-align: right;\">2419.38</td><td style = \"text-align: right;\">2298.48</td><td style = \"text-align: right;\">2317.43</td><td style = \"text-align: right;\">2294.41</td><td style = \"text-align: right;\">2076.93</td><td style = \"text-align: right;\">2239.85</td><td style = \"text-align: right;\">2466.27</td><td style = \"text-align: right;\">2402.37</td><td style = \"text-align: right;\">2324.09</td><td style = \"text-align: right;\">2433.07</td><td style = \"text-align: right;\">2423.1</td><td style = \"text-align: right;\">2149.98</td><td style = \"text-align: right;\">2338.97</td><td style = \"text-align: right;\">2641.25</td><td style = \"text-align: right;\">2518.61</td><td style = \"text-align: right;\">2324.17</td><td style = \"text-align: right;\">2273.51</td><td style = \"text-align: right;\">2350.37</td><td style = \"text-align: right;\">2324.69</td><td style = \"text-align: right;\">2425.95</td><td style = \"text-align: right;\">2483.39</td><td style = \"text-align: right;\">2318.59</td><td style = \"text-align: right;\">2382.46</td><td style = \"text-align: right;\">2512.43</td><td style = \"text-align: right;\">2498.79</td><td style = \"text-align: right;\">2367.47</td><td style = \"text-align: right;\">2374.61</td><td style = \"text-align: right;\">2338.78</td><td style = \"text-align: right;\">2107.95</td><td style = \"text-align: right;\">2257.41</td><td style = \"text-align: right;\">2470.74</td><td style = \"text-align: right;\">2394.57</td><td style = \"text-align: right;\">2305.26</td><td style = \"text-align: right;\">2404.86</td><td style = \"text-align: right;\">2387.47</td><td style = \"text-align: right;\">2109.17</td><td style = \"text-align: right;\">2295.41</td><td style = \"text-align: right;\">2597.52</td><td style = \"text-align: right;\">2477.28</td><td style = \"text-align: right;\">2287.77</td><td style = \"text-align: right;\">2244.46</td><td style = \"text-align: right;\">2330.88</td><td style = \"text-align: right;\">2316.69</td><td style = \"text-align: right;\">2431.04</td><td style = \"text-align: right;\">2502.81</td><td style = \"text-align: right;\">2353.18</td><td style = \"text-align: right;\">2432.63</td><td style = \"text-align: right;\">2578.17</td><td style = \"text-align: right;\">2579.69</td><td style = \"text-align: right;\">2462.74</td><td style = \"text-align: right;\">2483.1</td><td style = \"text-align: right;\">2459.05</td><td style = \"text-align: right;\">2238.3</td><td style = \"text-align: right;\">2395.98</td><td style = \"text-align: right;\">2615.52</td><td style = \"text-align: right;\">2543.5</td><td style = \"text-align: right;\">2456.28</td><td style = \"text-align: right;\">2555.96</td><td style = \"text-align: right;\">2536.76</td><td style = \"text-align: right;\">2254.9</td><td style = \"text-align: right;\">2436.02</td><td style = \"text-align: right;\">2731.63</td><td style = \"text-align: right;\">2603.76</td><td style = \"text-align: right;\">2405.7</td><td style = \"text-align: right;\">2353.12</td><td style = \"text-align: right;\">2429.76</td><td style = \"text-align: right;\">2405.44</td><td style = \"text-align: right;\">2509.48</td><td style = \"text-align: right;\">&ctdot;</td></tr><tr><td class = \"rowNumber\" style = \"font-weight: bold; text-align: right;\">10</td><td style = \"text-align: right;\">10</td><td style = \"text-align: right;\">2363.41</td><td style = \"text-align: right;\">2648.44</td><td style = \"text-align: right;\">2727.5</td><td style = \"text-align: right;\">2402.68</td><td style = \"text-align: right;\">2663.96</td><td style = \"text-align: right;\">2512.93</td><td style = \"text-align: right;\">2399.16</td><td style = \"text-align: right;\">2477.24</td><td style = \"text-align: right;\">2356.36</td><td style = \"text-align: right;\">2412.73</td><td style = \"text-align: right;\">2465.79</td><td style = \"text-align: right;\">2397.93</td><td style = \"text-align: right;\">2316.0</td><td style = \"text-align: right;\">2662.19</td><td style = \"text-align: right;\">2728.05</td><td style = \"text-align: right;\">2578.84</td><td style = \"text-align: right;\">2710.17</td><td style = \"text-align: right;\">2552.71</td><td style = \"text-align: right;\">2490.94</td><td style = \"text-align: right;\">2393.07</td><td style = \"text-align: right;\">2384.51</td><td style = \"text-align: right;\">2434.23</td><td style = \"text-align: right;\">2459.9</td><td style = \"text-align: right;\">2612.99</td><td style = \"text-align: right;\">2403.69</td><td style = \"text-align: right;\">2689.54</td><td style = \"text-align: right;\">2771.75</td><td style = \"text-align: right;\">2452.49</td><td style = \"text-align: right;\">2721.7</td><td style = \"text-align: right;\">2580.78</td><td style = \"text-align: right;\">2479.01</td><td style = \"text-align: right;\">2570.53</td><td style = \"text-align: right;\">2464.0</td><td style = \"text-align: right;\">2534.99</td><td style = \"text-align: right;\">2602.29</td><td style = \"text-align: right;\">2547.55</td><td style = \"text-align: right;\">2476.95</td><td style = \"text-align: right;\">2831.99</td><td style = \"text-align: right;\">2903.65</td><td style = \"text-align: right;\">2756.69</td><td style = \"text-align: right;\">2886.37</td><td style = \"text-align: right;\">2723.15</td><td style = \"text-align: right;\">2651.45</td><td style = \"text-align: right;\">2539.63</td><td style = \"text-align: right;\">2513.39</td><td style = \"text-align: right;\">2542.16</td><td style = \"text-align: right;\">2544.23</td><td style = \"text-align: right;\">2671.83</td><td style = \"text-align: right;\">2435.97</td><td style = \"text-align: right;\">2695.13</td><td style = \"text-align: right;\">2751.45</td><td style = \"text-align: right;\">2408.04</td><td style = \"text-align: right;\">2655.75</td><td style = \"text-align: right;\">2496.78</td><td style = \"text-align: right;\">2381.12</td><td style = \"text-align: right;\">2463.43</td><td style = \"text-align: right;\">2352.76</td><td style = \"text-align: right;\">2424.85</td><td style = \"text-align: right;\">2498.45</td><td style = \"text-align: right;\">2455.0</td><td style = \"text-align: right;\">2400.23</td><td style = \"text-align: right;\">2775.04</td><td style = \"text-align: right;\">2869.61</td><td style = \"text-align: right;\">2747.78</td><td style = \"text-align: right;\">2903.78</td><td style = \"text-align: right;\">2766.99</td><td style = \"text-align: right;\">2720.72</td><td style = \"text-align: right;\">2632.21</td><td style = \"text-align: right;\">2626.13</td><td style = \"text-align: right;\">2670.97</td><td style = \"text-align: right;\">2684.19</td><td style = \"text-align: right;\">2817.4</td><td style = \"text-align: right;\">2581.13</td><td style = \"text-align: right;\">2833.61</td><td style = \"text-align: right;\">2876.95</td><td style = \"text-align: right;\">2514.42</td><td style = \"text-align: right;\">2737.27</td><td style = \"text-align: right;\">2548.27</td><td style = \"text-align: right;\">2398.18</td><td style = \"text-align: right;\">2442.58</td><td style = \"text-align: right;\">2291.53</td><td style = \"text-align: right;\">2321.91</td><td style = \"text-align: right;\">2353.61</td><td style = \"text-align: right;\">2269.27</td><td style = \"text-align: right;\">2175.74</td><td style = \"text-align: right;\">2515.02</td><td style = \"text-align: right;\">2578.27</td><td style = \"text-align: right;\">2430.2</td><td style = \"text-align: right;\">2565.77</td><td style = \"text-align: right;\">2414.89</td><td style = \"text-align: right;\">2361.26</td><td style = \"text-align: right;\">2272.31</td><td style = \"text-align: right;\">2272.71</td><td style = \"text-align: right;\">2330.78</td><td style = \"text-align: right;\">2363.67</td><td style = \"text-align: right;\">2522.45</td><td style = \"text-align: right;\">2317.07</td><td style = \"text-align: right;\">2604.98</td><td style = \"text-align: right;\">2687.47</td><td style = \"text-align: right;\">&ctdot;</td></tr><tr><td class = \"rowNumber\" style = \"font-weight: bold; text-align: right;\">11</td><td style = \"text-align: right;\">11</td><td style = \"text-align: right;\">12206.7</td><td style = \"text-align: right;\">10773.0</td><td style = \"text-align: right;\">11336.9</td><td style = \"text-align: right;\">11622.8</td><td style = \"text-align: right;\">11303.1</td><td style = \"text-align: right;\">10604.3</td><td style = \"text-align: right;\">10716.8</td><td style = \"text-align: right;\">11139.3</td><td style = \"text-align: right;\">10652.5</td><td style = \"text-align: right;\">10220.2</td><td style = \"text-align: right;\">10962.5</td><td style = \"text-align: right;\">10635.7</td><td style = \"text-align: right;\">10182.4</td><td style = \"text-align: right;\">10654.8</td><td style = \"text-align: right;\">10555.0</td><td style = \"text-align: right;\">11148.9</td><td style = \"text-align: right;\">10550.8</td><td style = \"text-align: right;\">10661.3</td><td style = \"text-align: right;\">10800.2</td><td style = \"text-align: right;\">8903.45</td><td style = \"text-align: right;\">10644.6</td><td style = \"text-align: right;\">11154.4</td><td style = \"text-align: right;\">10051.0</td><td style = \"text-align: right;\">11855.8</td><td style = \"text-align: right;\">11113.0</td><td style = \"text-align: right;\">9852.51</td><td style = \"text-align: right;\">10599.3</td><td style = \"text-align: right;\">11072.7</td><td style = \"text-align: right;\">10940.7</td><td style = \"text-align: right;\">10425.2</td><td style = \"text-align: right;\">10712.8</td><td style = \"text-align: right;\">11299.0</td><td style = \"text-align: right;\">10961.8</td><td style = \"text-align: right;\">10662.5</td><td style = \"text-align: right;\">11520.0</td><td style = \"text-align: right;\">11289.0</td><td style = \"text-align: right;\">10911.6</td><td style = \"text-align: right;\">11439.8</td><td style = \"text-align: right;\">11375.6</td><td style = \"text-align: right;\">11985.3</td><td style = \"text-align: right;\">11383.8</td><td style = \"text-align: right;\">11472.0</td><td style = \"text-align: right;\">11570.8</td><td style = \"text-align: right;\">9616.8</td><td style = \"text-align: right;\">11284.5</td><td style = \"text-align: right;\">11705.5</td><td style = \"text-align: right;\">10499.2</td><td style = \"text-align: right;\">12187.9</td><td style = \"text-align: right;\">11317.5</td><td style = \"text-align: right;\">9919.15</td><td style = \"text-align: right;\">10519.7</td><td style = \"text-align: right;\">10840.5</td><td style = \"text-align: right;\">10551.8</td><td style = \"text-align: right;\">9878.18</td><td style = \"text-align: right;\">10009.3</td><td style = \"text-align: right;\">10443.6</td><td style = \"text-align: right;\">9962.41</td><td style = \"text-align: right;\">9530.86</td><td style = \"text-align: right;\">10271.0</td><td style = \"text-align: right;\">9941.28</td><td style = \"text-align: right;\">9486.95</td><td style = \"text-align: right;\">9962.9</td><td style = \"text-align: right;\">9873.6</td><td style = \"text-align: right;\">10487.4</td><td style = \"text-align: right;\">9920.06</td><td style = \"text-align: right;\">10073.2</td><td style = \"text-align: right;\">10267.1</td><td style = \"text-align: right;\">8437.02</td><td style = \"text-align: right;\">10255.0</td><td style = \"text-align: right;\">10849.7</td><td style = \"text-align: right;\">9836.19</td><td style = \"text-align: right;\">11732.2</td><td style = \"text-align: right;\">11078.0</td><td style = \"text-align: right;\">9899.08</td><td style = \"text-align: right;\">10716.0</td><td style = \"text-align: right;\">11244.1</td><td style = \"text-align: right;\">11147.4</td><td style = \"text-align: right;\">10645.0</td><td style = \"text-align: right;\">10921.2</td><td style = \"text-align: right;\">11470.0</td><td style = \"text-align: right;\">11069.5</td><td style = \"text-align: right;\">10682.1</td><td style = \"text-align: right;\">11428.7</td><td style = \"text-align: right;\">11067.5</td><td style = \"text-align: right;\">10544.9</td><td style = \"text-align: right;\">10917.9</td><td style = \"text-align: right;\">10694.3</td><td style = \"text-align: right;\">11146.7</td><td style = \"text-align: right;\">10396.0</td><td style = \"text-align: right;\">10349.5</td><td style = \"text-align: right;\">10333.5</td><td style = \"text-align: right;\">8289.68</td><td style = \"text-align: right;\">9896.39</td><td style = \"text-align: right;\">10288.3</td><td style = \"text-align: right;\">9086.07</td><td style = \"text-align: right;\">10812.6</td><td style = \"text-align: right;\">10012.2</td><td style = \"text-align: right;\">8713.88</td><td style = \"text-align: right;\">9440.47</td><td style = \"text-align: right;\">&ctdot;</td></tr><tr><td class = \"rowNumber\" style = \"font-weight: bold; text-align: right;\">12</td><td style = \"text-align: right;\">12</td><td style = \"text-align: right;\">6996.23</td><td style = \"text-align: right;\">6919.29</td><td style = \"text-align: right;\">7045.43</td><td style = \"text-align: right;\">7263.36</td><td style = \"text-align: right;\">7735.79</td><td style = \"text-align: right;\">7502.42</td><td style = \"text-align: right;\">6928.32</td><td style = \"text-align: right;\">7391.79</td><td style = \"text-align: right;\">7491.79</td><td style = \"text-align: right;\">6708.06</td><td style = \"text-align: right;\">6935.43</td><td style = \"text-align: right;\">7333.46</td><td style = \"text-align: right;\">7172.02</td><td style = \"text-align: right;\">7690.47</td><td style = \"text-align: right;\">7693.57</td><td style = \"text-align: right;\">6648.75</td><td style = \"text-align: right;\">6605.56</td><td style = \"text-align: right;\">7260.61</td><td style = \"text-align: right;\">7191.01</td><td style = \"text-align: right;\">7072.97</td><td style = \"text-align: right;\">7204.38</td><td style = \"text-align: right;\">7276.03</td><td style = \"text-align: right;\">7618.03</td><td style = \"text-align: right;\">7718.46</td><td style = \"text-align: right;\">7367.16</td><td style = \"text-align: right;\">7360.31</td><td style = \"text-align: right;\">7557.21</td><td style = \"text-align: right;\">7845.36</td><td style = \"text-align: right;\">8386.08</td><td style = \"text-align: right;\">8217.49</td><td style = \"text-align: right;\">7702.94</td><td style = \"text-align: right;\">8218.96</td><td style = \"text-align: right;\">8362.73</td><td style = \"text-align: right;\">7612.31</td><td style = \"text-align: right;\">7861.04</td><td style = \"text-align: right;\">8267.21</td><td style = \"text-align: right;\">8099.79</td><td style = \"text-align: right;\">8597.59</td><td style = \"text-align: right;\">8565.25</td><td style = \"text-align: right;\">7470.6</td><td style = \"text-align: right;\">7364.02</td><td style = \"text-align: right;\">7943.41</td><td style = \"text-align: right;\">7787.62</td><td style = \"text-align: right;\">7574.95</td><td style = \"text-align: right;\">7605.67</td><td style = \"text-align: right;\">7573.16</td><td style = \"text-align: right;\">7810.22</td><td style = \"text-align: right;\">7807.61</td><td style = \"text-align: right;\">7357.73</td><td style = \"text-align: right;\">7259.09</td><td style = \"text-align: right;\">7372.98</td><td style = \"text-align: right;\">7588.51</td><td style = \"text-align: right;\">8068.12</td><td style = \"text-align: right;\">7850.54</td><td style = \"text-align: right;\">7299.22</td><td style = \"text-align: right;\">7790.23</td><td style = \"text-align: right;\">7919.86</td><td style = \"text-align: right;\">7164.82</td><td style = \"text-align: right;\">7416.75</td><td style = \"text-align: right;\">7832.04</td><td style = \"text-align: right;\">7677.57</td><td style = \"text-align: right;\">8190.12</td><td style = \"text-align: right;\">8172.38</td><td style = \"text-align: right;\">7090.45</td><td style = \"text-align: right;\">6993.33</td><td style = \"text-align: right;\">7578.0</td><td style = \"text-align: right;\">7422.81</td><td style = \"text-align: right;\">7206.15</td><td style = \"text-align: right;\">7228.94</td><td style = \"text-align: right;\">7185.68</td><td style = \"text-align: right;\">7410.83</td><td style = \"text-align: right;\">7397.19</td><td style = \"text-align: right;\">6939.5</td><td style = \"text-align: right;\">6838.81</td><td style = \"text-align: right;\">6959.01</td><td style = \"text-align: right;\">7191.67</td><td style = \"text-align: right;\">7701.49</td><td style = \"text-align: right;\">7529.05</td><td style = \"text-align: right;\">7039.12</td><td style = \"text-align: right;\">7608.5</td><td style = \"text-align: right;\">7833.49</td><td style = \"text-align: right;\">7190.02</td><td style = \"text-align: right;\">7568.23</td><td style = \"text-align: right;\">8122.18</td><td style = \"text-align: right;\">8115.77</td><td style = \"text-align: right;\">8782.11</td><td style = \"text-align: right;\">8919.78</td><td style = \"text-align: right;\">7990.37</td><td style = \"text-align: right;\">8038.21</td><td style = \"text-align: right;\">8755.57</td><td style = \"text-align: right;\">8716.31</td><td style = \"text-align: right;\">8594.65</td><td style = \"text-align: right;\">8687.89</td><td style = \"text-align: right;\">8687.65</td><td style = \"text-align: right;\">8926.28</td><td style = \"text-align: right;\">8895.41</td><td style = \"text-align: right;\">8389.61</td><td style = \"text-align: right;\">8210.75</td><td style = \"text-align: right;\">8224.53</td><td style = \"text-align: right;\">&ctdot;</td></tr><tr><td class = \"rowNumber\" style = \"font-weight: bold; text-align: right;\">13</td><td style = \"text-align: right;\">13</td><td style = \"text-align: right;\">6100.68</td><td style = \"text-align: right;\">6656.0</td><td style = \"text-align: right;\">5671.82</td><td style = \"text-align: right;\">6368.66</td><td style = \"text-align: right;\">6492.15</td><td style = \"text-align: right;\">6624.26</td><td style = \"text-align: right;\">6598.45</td><td style = \"text-align: right;\">5478.59</td><td style = \"text-align: right;\">6215.87</td><td style = \"text-align: right;\">7347.39</td><td style = \"text-align: right;\">6417.38</td><td style = \"text-align: right;\">5882.1</td><td style = \"text-align: right;\">6525.13</td><td style = \"text-align: right;\">5501.42</td><td style = \"text-align: right;\">5779.2</td><td style = \"text-align: right;\">6643.88</td><td style = \"text-align: right;\">6166.55</td><td style = \"text-align: right;\">6891.25</td><td style = \"text-align: right;\">5759.47</td><td style = \"text-align: right;\">5154.87</td><td style = \"text-align: right;\">5680.73</td><td style = \"text-align: right;\">5441.97</td><td style = \"text-align: right;\">6420.02</td><td style = \"text-align: right;\">5739.72</td><td style = \"text-align: right;\">5892.33</td><td style = \"text-align: right;\">6424.09</td><td style = \"text-align: right;\">5424.8</td><td style = \"text-align: right;\">6116.09</td><td style = \"text-align: right;\">6244.21</td><td style = \"text-align: right;\">6391.29</td><td style = \"text-align: right;\">6390.38</td><td style = \"text-align: right;\">5304.47</td><td style = \"text-align: right;\">6083.34</td><td style = \"text-align: right;\">7262.32</td><td style = \"text-align: right;\">6383.47</td><td style = \"text-align: right;\">5900.67</td><td style = \"text-align: right;\">6594.99</td><td style = \"text-align: right;\">5618.88</td><td style = \"text-align: right;\">5938.17</td><td style = \"text-align: right;\">6836.13</td><td style = \"text-align: right;\">6382.07</td><td style = \"text-align: right;\">7118.66</td><td style = \"text-align: right;\">5986.59</td><td style = \"text-align: right;\">5369.23</td><td style = \"text-align: right;\">5870.21</td><td style = \"text-align: right;\">5595.33</td><td style = \"text-align: right;\">6527.48</td><td style = \"text-align: right;\">5793.42</td><td style = \"text-align: right;\">5886.72</td><td style = \"text-align: right;\">6356.26</td><td style = \"text-align: right;\">5294.57</td><td style = \"text-align: right;\">5926.1</td><td style = \"text-align: right;\">5999.8</td><td style = \"text-align: right;\">6100.29</td><td style = \"text-align: right;\">6062.75</td><td style = \"text-align: right;\">4951.84</td><td style = \"text-align: right;\">5718.5</td><td style = \"text-align: right;\">6898.61</td><td style = \"text-align: right;\">6034.19</td><td style = \"text-align: right;\">5578.45</td><td style = \"text-align: right;\">6311.2</td><td style = \"text-align: right;\">5383.11</td><td style = \"text-align: right;\">5757.79</td><td style = \"text-align: right;\">6715.93</td><td style = \"text-align: right;\">6324.06</td><td style = \"text-align: right;\">7121.96</td><td style = \"text-align: right;\">6047.5</td><td style = \"text-align: right;\">5481.41</td><td style = \"text-align: right;\">6024.94</td><td style = \"text-align: right;\">5781.97</td><td style = \"text-align: right;\">6733.93</td><td style = \"text-align: right;\">6006.72</td><td style = \"text-align: right;\">6093.62</td><td style = \"text-align: right;\">6543.82</td><td style = \"text-align: right;\">5450.8</td><td style = \"text-align: right;\">6040.43</td><td style = \"text-align: right;\">6063.6</td><td style = \"text-align: right;\">6107.21</td><td style = \"text-align: right;\">6008.99</td><td style = \"text-align: right;\">4836.28</td><td style = \"text-align: right;\">5542.69</td><td style = \"text-align: right;\">6666.7</td><td style = \"text-align: right;\">5752.62</td><td style = \"text-align: right;\">5255.65</td><td style = \"text-align: right;\">5957.14</td><td style = \"text-align: right;\">5008.81</td><td style = \"text-align: right;\">5374.76</td><td style = \"text-align: right;\">6335.66</td><td style = \"text-align: right;\">5957.44</td><td style = \"text-align: right;\">6778.83</td><td style = \"text-align: right;\">5736.2</td><td style = \"text-align: right;\">5208.42</td><td style = \"text-align: right;\">5794.68</td><td style = \"text-align: right;\">5596.68</td><td style = \"text-align: right;\">6593.63</td><td style = \"text-align: right;\">5909.32</td><td style = \"text-align: right;\">6035.17</td><td style = \"text-align: right;\">6518.8</td><td style = \"text-align: right;\">5452.49</td><td style = \"text-align: right;\">&ctdot;</td></tr><tr><td style = \"text-align: right;\">&vellip;</td><td style = \"text-align: right;\">&vellip;</td><td style = \"text-align: right;\">&vellip;</td><td style = \"text-align: right;\">&vellip;</td><td style = \"text-align: right;\">&vellip;</td><td style = \"text-align: right;\">&vellip;</td><td style = \"text-align: right;\">&vellip;</td><td style = \"text-align: right;\">&vellip;</td><td style = \"text-align: right;\">&vellip;</td><td style = \"text-align: right;\">&vellip;</td><td style = \"text-align: right;\">&vellip;</td><td style = \"text-align: right;\">&vellip;</td><td style = \"text-align: right;\">&vellip;</td><td style = \"text-align: right;\">&vellip;</td><td style = \"text-align: right;\">&vellip;</td><td style = \"text-align: right;\">&vellip;</td><td style = \"text-align: right;\">&vellip;</td><td style = \"text-align: right;\">&vellip;</td><td style = \"text-align: right;\">&vellip;</td><td style = \"text-align: right;\">&vellip;</td><td style = \"text-align: right;\">&vellip;</td><td style = \"text-align: right;\">&vellip;</td><td style = \"text-align: right;\">&vellip;</td><td style = \"text-align: right;\">&vellip;</td><td style = \"text-align: right;\">&vellip;</td><td style = \"text-align: right;\">&vellip;</td><td style = \"text-align: right;\">&vellip;</td><td style = \"text-align: right;\">&vellip;</td><td style = \"text-align: right;\">&vellip;</td><td style = \"text-align: right;\">&vellip;</td><td style = \"text-align: right;\">&vellip;</td><td style = \"text-align: right;\">&vellip;</td><td style = \"text-align: right;\">&vellip;</td><td style = \"text-align: right;\">&vellip;</td><td style = \"text-align: right;\">&vellip;</td><td style = \"text-align: right;\">&vellip;</td><td style = \"text-align: right;\">&vellip;</td><td style = \"text-align: right;\">&vellip;</td><td style = \"text-align: right;\">&vellip;</td><td style = \"text-align: right;\">&vellip;</td><td style = \"text-align: right;\">&vellip;</td><td style = \"text-align: right;\">&vellip;</td><td style = \"text-align: right;\">&vellip;</td><td style = \"text-align: right;\">&vellip;</td><td style = \"text-align: right;\">&vellip;</td><td style = \"text-align: right;\">&vellip;</td><td style = \"text-align: right;\">&vellip;</td><td style = \"text-align: right;\">&vellip;</td><td style = \"text-align: right;\">&vellip;</td><td style = \"text-align: right;\">&vellip;</td><td style = \"text-align: right;\">&vellip;</td><td style = \"text-align: right;\">&vellip;</td><td style = \"text-align: right;\">&vellip;</td><td style = \"text-align: right;\">&vellip;</td><td style = \"text-align: right;\">&vellip;</td><td style = \"text-align: right;\">&vellip;</td><td style = \"text-align: right;\">&vellip;</td><td style = \"text-align: right;\">&vellip;</td><td style = \"text-align: right;\">&vellip;</td><td style = \"text-align: right;\">&vellip;</td><td style = \"text-align: right;\">&vellip;</td><td style = \"text-align: right;\">&vellip;</td><td style = \"text-align: right;\">&vellip;</td><td style = \"text-align: right;\">&vellip;</td><td style = \"text-align: right;\">&vellip;</td><td style = \"text-align: right;\">&vellip;</td><td style = \"text-align: right;\">&vellip;</td><td style = \"text-align: right;\">&vellip;</td><td style = \"text-align: right;\">&vellip;</td><td style = \"text-align: right;\">&vellip;</td><td style = \"text-align: right;\">&vellip;</td><td style = \"text-align: right;\">&vellip;</td><td style = \"text-align: right;\">&vellip;</td><td style = \"text-align: right;\">&vellip;</td><td style = \"text-align: right;\">&vellip;</td><td style = \"text-align: right;\">&vellip;</td><td style = \"text-align: right;\">&vellip;</td><td style = \"text-align: right;\">&vellip;</td><td style = \"text-align: right;\">&vellip;</td><td style = \"text-align: right;\">&vellip;</td><td style = \"text-align: right;\">&vellip;</td><td style = \"text-align: right;\">&vellip;</td><td style = \"text-align: right;\">&vellip;</td><td style = \"text-align: right;\">&vellip;</td><td style = \"text-align: right;\">&vellip;</td><td style = \"text-align: right;\">&vellip;</td><td style = \"text-align: right;\">&vellip;</td><td style = \"text-align: right;\">&vellip;</td><td style = \"text-align: right;\">&vellip;</td><td style = \"text-align: right;\">&vellip;</td><td style = \"text-align: right;\">&vellip;</td><td style = \"text-align: right;\">&vellip;</td><td style = \"text-align: right;\">&vellip;</td><td style = \"text-align: right;\">&vellip;</td><td style = \"text-align: right;\">&vellip;</td><td style = \"text-align: right;\">&vellip;</td><td style = \"text-align: right;\">&vellip;</td><td style = \"text-align: right;\">&vellip;</td><td style = \"text-align: right;\">&vellip;</td><td style = \"text-align: right;\">&vellip;</td><td style = \"text-align: right;\">&vellip;</td><td style = \"text-align: right;\">&dtdot;</td></tr><tr><td class = \"rowNumber\" style = \"font-weight: bold; text-align: right;\">1072</td><td style = \"text-align: right;\">1072</td><td style = \"text-align: right;\">9412.92</td><td style = \"text-align: right;\">8880.72</td><td style = \"text-align: right;\">8716.25</td><td style = \"text-align: right;\">9504.81</td><td style = \"text-align: right;\">9708.4</td><td style = \"text-align: right;\">8567.1</td><td style = \"text-align: right;\">10515.8</td><td style = \"text-align: right;\">9483.2</td><td style = \"text-align: right;\">9092.22</td><td style = \"text-align: right;\">10227.8</td><td style = \"text-align: right;\">8699.53</td><td style = \"text-align: right;\">9240.88</td><td style = \"text-align: right;\">8033.17</td><td style = \"text-align: right;\">10260.4</td><td style = \"text-align: right;\">11171.8</td><td style = \"text-align: right;\">9285.21</td><td style = \"text-align: right;\">12802.1</td><td style = \"text-align: right;\">11265.0</td><td style = \"text-align: right;\">10451.5</td><td style = \"text-align: right;\">11803.2</td><td style = \"text-align: right;\">9829.41</td><td style = \"text-align: right;\">9938.6</td><td style = \"text-align: right;\">9900.21</td><td style = \"text-align: right;\">10438.5</td><td style = \"text-align: right;\">10507.8</td><td style = \"text-align: right;\">9894.02</td><td style = \"text-align: right;\">9603.8</td><td style = \"text-align: right;\">10227.7</td><td style = \"text-align: right;\">10234.4</td><td style = \"text-align: right;\">8872.26</td><td style = \"text-align: right;\">10585.2</td><td style = \"text-align: right;\">9311.63</td><td style = \"text-align: right;\">8684.31</td><td style = \"text-align: right;\">9597.78</td><td style = \"text-align: right;\">7870.78</td><td style = \"text-align: right;\">8244.67</td><td style = \"text-align: right;\">6907.56</td><td style = \"text-align: right;\">9048.62</td><td style = \"text-align: right;\">9920.4</td><td style = \"text-align: right;\">8042.49</td><td style = \"text-align: right;\">11615.9</td><td style = \"text-align: right;\">10181.0</td><td style = \"text-align: right;\">9511.46</td><td style = \"text-align: right;\">11043.6</td><td style = \"text-align: right;\">9279.75</td><td style = \"text-align: right;\">9620.91</td><td style = \"text-align: right;\">9828.09</td><td style = \"text-align: right;\">10616.8</td><td style = \"text-align: right;\">10933.0</td><td style = \"text-align: right;\">10554.0</td><td style = \"text-align: right;\">10479.0</td><td style = \"text-align: right;\">11291.8</td><td style = \"text-align: right;\">11455.8</td><td style = \"text-align: right;\">10214.8</td><td style = \"text-align: right;\">12010.3</td><td style = \"text-align: right;\">10779.0</td><td style = \"text-align: right;\">10153.9</td><td style = \"text-align: right;\">11031.0</td><td style = \"text-align: right;\">9231.47</td><td style = \"text-align: right;\">9500.41</td><td style = \"text-align: right;\">8030.3</td><td style = \"text-align: right;\">10015.3</td><td style = \"text-align: right;\">10713.5</td><td style = \"text-align: right;\">8649.73</td><td style = \"text-align: right;\">12030.6</td><td style = \"text-align: right;\">10401.5</td><td style = \"text-align: right;\">9540.88</td><td style = \"text-align: right;\">10889.1</td><td style = \"text-align: right;\">8952.17</td><td style = \"text-align: right;\">9133.77</td><td style = \"text-align: right;\">9197.11</td><td style = \"text-align: right;\">9859.25</td><td style = \"text-align: right;\">10067.0</td><td style = \"text-align: right;\">9598.3</td><td style = \"text-align: right;\">9452.36</td><td style = \"text-align: right;\">10212.9</td><td style = \"text-align: right;\">10342.8</td><td style = \"text-align: right;\">9085.83</td><td style = \"text-align: right;\">10882.8</td><td style = \"text-align: right;\">9670.48</td><td style = \"text-align: right;\">9081.6</td><td style = \"text-align: right;\">10012.0</td><td style = \"text-align: right;\">8283.23</td><td style = \"text-align: right;\">8640.21</td><td style = \"text-align: right;\">7275.57</td><td style = \"text-align: right;\">9383.41</td><td style = \"text-align: right;\">10221.3</td><td style = \"text-align: right;\">8313.62</td><td style = \"text-align: right;\">11865.6</td><td style = \"text-align: right;\">10421.2</td><td style = \"text-align: right;\">9756.32</td><td style = \"text-align: right;\">11308.5</td><td style = \"text-align: right;\">9580.1</td><td style = \"text-align: right;\">9970.7</td><td style = \"text-align: right;\">10238.8</td><td style = \"text-align: right;\">11096.4</td><td style = \"text-align: right;\">11484.9</td><td style = \"text-align: right;\">11176.9</td><td style = \"text-align: right;\">11166.3</td><td style = \"text-align: right;\">&ctdot;</td></tr><tr><td class = \"rowNumber\" style = \"font-weight: bold; text-align: right;\">1073</td><td style = \"text-align: right;\">1073</td><td style = \"text-align: right;\">6588.37</td><td style = \"text-align: right;\">6009.16</td><td style = \"text-align: right;\">4955.05</td><td style = \"text-align: right;\">5519.14</td><td style = \"text-align: right;\">5296.49</td><td style = \"text-align: right;\">5988.23</td><td style = \"text-align: right;\">6304.33</td><td style = \"text-align: right;\">5657.91</td><td style = \"text-align: right;\">5885.75</td><td style = \"text-align: right;\">5704.12</td><td style = \"text-align: right;\">5144.04</td><td style = \"text-align: right;\">5409.02</td><td style = \"text-align: right;\">5155.68</td><td style = \"text-align: right;\">4758.53</td><td style = \"text-align: right;\">5200.63</td><td style = \"text-align: right;\">4596.18</td><td style = \"text-align: right;\">5051.99</td><td style = \"text-align: right;\">5654.51</td><td style = \"text-align: right;\">5056.0</td><td style = \"text-align: right;\">5734.46</td><td style = \"text-align: right;\">4683.61</td><td style = \"text-align: right;\">4251.97</td><td style = \"text-align: right;\">5180.7</td><td style = \"text-align: right;\">4745.69</td><td style = \"text-align: right;\">5633.33</td><td style = \"text-align: right;\">5049.08</td><td style = \"text-align: right;\">4010.4</td><td style = \"text-align: right;\">4610.48</td><td style = \"text-align: right;\">4443.9</td><td style = \"text-align: right;\">5210.74</td><td style = \"text-align: right;\">5619.36</td><td style = \"text-align: right;\">5080.78</td><td style = \"text-align: right;\">5429.22</td><td style = \"text-align: right;\">5377.99</td><td style = \"text-align: right;\">4954.9</td><td style = \"text-align: right;\">5360.02</td><td style = \"text-align: right;\">5246.41</td><td style = \"text-align: right;\">4985.04</td><td style = \"text-align: right;\">5555.51</td><td style = \"text-align: right;\">5068.76</td><td style = \"text-align: right;\">5628.63</td><td style = \"text-align: right;\">6318.96</td><td style = \"text-align: right;\">5789.87</td><td style = \"text-align: right;\">6517.72</td><td style = \"text-align: right;\">5495.17</td><td style = \"text-align: right;\">5070.22</td><td style = \"text-align: right;\">5984.16</td><td style = \"text-align: right;\">5513.6</td><td style = \"text-align: right;\">6346.22</td><td style = \"text-align: right;\">5689.33</td><td style = \"text-align: right;\">4562.69</td><td style = \"text-align: right;\">5062.25</td><td style = \"text-align: right;\">4785.68</td><td style = \"text-align: right;\">5436.38</td><td style = \"text-align: right;\">5726.19</td><td style = \"text-align: right;\">5069.66</td><td style = \"text-align: right;\">5304.46</td><td style = \"text-align: right;\">5147.22</td><td style = \"text-align: right;\">4628.77</td><td style = \"text-align: right;\">4951.87</td><td style = \"text-align: right;\">4771.84</td><td style = \"text-align: right;\">4461.39</td><td style = \"text-align: right;\">5001.35</td><td style = \"text-align: right;\">4503.27</td><td style = \"text-align: right;\">5071.0</td><td style = \"text-align: right;\">5787.84</td><td style = \"text-align: right;\">5302.74</td><td style = \"text-align: right;\">6090.37</td><td style = \"text-align: right;\">5141.24</td><td style = \"text-align: right;\">4800.78</td><td style = \"text-align: right;\">5807.41</td><td style = \"text-align: right;\">5434.61</td><td style = \"text-align: right;\">6366.84</td><td style = \"text-align: right;\">5808.16</td><td style = \"text-align: right;\">4775.19</td><td style = \"text-align: right;\">5360.92</td><td style = \"text-align: right;\">5160.37</td><td style = \"text-align: right;\">5874.66</td><td style = \"text-align: right;\">6213.8</td><td style = \"text-align: right;\">5591.05</td><td style = \"text-align: right;\">5843.31</td><td style = \"text-align: right;\">5687.05</td><td style = \"text-align: right;\">5153.52</td><td style = \"text-align: right;\">5446.42</td><td style = \"text-align: right;\">5222.58</td><td style = \"text-align: right;\">4856.67</td><td style = \"text-align: right;\">5331.85</td><td style = \"text-align: right;\">4762.36</td><td style = \"text-align: right;\">5254.92</td><td style = \"text-align: right;\">5895.81</td><td style = \"text-align: right;\">5336.98</td><td style = \"text-align: right;\">6055.98</td><td style = \"text-align: right;\">5045.99</td><td style = \"text-align: right;\">4654.84</td><td style = \"text-align: right;\">5622.92</td><td style = \"text-align: right;\">5225.25</td><td style = \"text-align: right;\">6147.31</td><td style = \"text-align: right;\">5593.65</td><td style = \"text-align: right;\">4580.82</td><td style = \"text-align: right;\">&ctdot;</td></tr><tr><td class = \"rowNumber\" style = \"font-weight: bold; text-align: right;\">1074</td><td style = \"text-align: right;\">1074</td><td style = \"text-align: right;\">5899.65</td><td style = \"text-align: right;\">5997.08</td><td style = \"text-align: right;\">6690.79</td><td style = \"text-align: right;\">6030.66</td><td style = \"text-align: right;\">6350.46</td><td style = \"text-align: right;\">6297.97</td><td style = \"text-align: right;\">6019.82</td><td style = \"text-align: right;\">6064.02</td><td style = \"text-align: right;\">5841.57</td><td style = \"text-align: right;\">6067.35</td><td style = \"text-align: right;\">5830.45</td><td style = \"text-align: right;\">6438.68</td><td style = \"text-align: right;\">5886.24</td><td style = \"text-align: right;\">5393.27</td><td style = \"text-align: right;\">6694.35</td><td style = \"text-align: right;\">6221.05</td><td style = \"text-align: right;\">5617.04</td><td style = \"text-align: right;\">5566.8</td><td style = \"text-align: right;\">6083.33</td><td style = \"text-align: right;\">6137.79</td><td style = \"text-align: right;\">5416.54</td><td style = \"text-align: right;\">6134.84</td><td style = \"text-align: right;\">6437.26</td><td style = \"text-align: right;\">6263.14</td><td style = \"text-align: right;\">5599.7</td><td style = \"text-align: right;\">5718.75</td><td style = \"text-align: right;\">6438.24</td><td style = \"text-align: right;\">5807.76</td><td style = \"text-align: right;\">6160.69</td><td style = \"text-align: right;\">6144.4</td><td style = \"text-align: right;\">5904.98</td><td style = \"text-align: right;\">5989.84</td><td style = \"text-align: right;\">5809.31</td><td style = \"text-align: right;\">6077.49</td><td style = \"text-align: right;\">5882.66</td><td style = \"text-align: right;\">6531.72</td><td style = \"text-align: right;\">6017.94</td><td style = \"text-align: right;\">5560.51</td><td style = \"text-align: right;\">6893.09</td><td style = \"text-align: right;\">6446.33</td><td style = \"text-align: right;\">5863.08</td><td style = \"text-align: right;\">5827.1</td><td style = \"text-align: right;\">6350.83</td><td style = \"text-align: right;\">6405.0</td><td style = \"text-align: right;\">5675.78</td><td style = \"text-align: right;\">6378.43</td><td style = \"text-align: right;\">6657.77</td><td style = \"text-align: right;\">6453.62</td><td style = \"text-align: right;\">5753.93</td><td style = \"text-align: right;\">5831.43</td><td style = \"text-align: right;\">6505.23</td><td style = \"text-align: right;\">5826.22</td><td style = \"text-align: right;\">6129.22</td><td style = \"text-align: right;\">6063.09</td><td style = \"text-align: right;\">5775.5</td><td style = \"text-align: right;\">5815.36</td><td style = \"text-align: right;\">5594.41</td><td style = \"text-align: right;\">5828.07</td><td style = \"text-align: right;\">5605.7</td><td style = \"text-align: right;\">6235.07</td><td style = \"text-align: right;\">5710.03</td><td style = \"text-align: right;\">5250.09</td><td style = \"text-align: right;\">6588.85</td><td style = \"text-align: right;\">6156.66</td><td style = \"text-align: right;\">5595.7</td><td style = \"text-align: right;\">5588.84</td><td style = \"text-align: right;\">6147.32</td><td style = \"text-align: right;\">6240.55</td><td style = \"text-align: right;\">5553.18</td><td style = \"text-align: right;\">6298.89</td><td style = \"text-align: right;\">6620.91</td><td style = \"text-align: right;\">6457.53</td><td style = \"text-align: right;\">5795.27</td><td style = \"text-align: right;\">5905.64</td><td style = \"text-align: right;\">6606.74</td><td style = \"text-align: right;\">5948.74</td><td style = \"text-align: right;\">6266.04</td><td style = \"text-align: right;\">6207.41</td><td style = \"text-align: right;\">5920.76</td><td style = \"text-align: right;\">5955.54</td><td style = \"text-align: right;\">5724.36</td><td style = \"text-align: right;\">5943.7</td><td style = \"text-align: right;\">5704.24</td><td style = \"text-align: right;\">6315.17</td><td style = \"text-align: right;\">5771.84</td><td style = \"text-align: right;\">5295.27</td><td style = \"text-align: right;\">6620.5</td><td style = \"text-align: right;\">6179.16</td><td style = \"text-align: right;\">5614.54</td><td style = \"text-align: right;\">5610.32</td><td style = \"text-align: right;\">6178.29</td><td style = \"text-align: right;\">6288.06</td><td style = \"text-align: right;\">5624.15</td><td style = \"text-align: right;\">6399.76</td><td style = \"text-align: right;\">6757.31</td><td style = \"text-align: right;\">6633.99</td><td style = \"text-align: right;\">6014.96</td><td style = \"text-align: right;\">6170.22</td><td style = \"text-align: right;\">6916.17</td><td style = \"text-align: right;\">&ctdot;</td></tr><tr><td class = \"rowNumber\" style = \"font-weight: bold; text-align: right;\">1075</td><td style = \"text-align: right;\">1075</td><td style = \"text-align: right;\">951.494</td><td style = \"text-align: right;\">1039.01</td><td style = \"text-align: right;\">1137.82</td><td style = \"text-align: right;\">1104.44</td><td style = \"text-align: right;\">1034.02</td><td style = \"text-align: right;\">1027.03</td><td style = \"text-align: right;\">1085.12</td><td style = \"text-align: right;\">1051.69</td><td style = \"text-align: right;\">1053.1</td><td style = \"text-align: right;\">1082.23</td><td style = \"text-align: right;\">1002.46</td><td style = \"text-align: right;\">1010.05</td><td style = \"text-align: right;\">1061.77</td><td style = \"text-align: right;\">1120.04</td><td style = \"text-align: right;\">1148.81</td><td style = \"text-align: right;\">1110.65</td><td style = \"text-align: right;\">1121.76</td><td style = \"text-align: right;\">1093.46</td><td style = \"text-align: right;\">1106.85</td><td style = \"text-align: right;\">1201.08</td><td style = \"text-align: right;\">1197.09</td><td style = \"text-align: right;\">1117.99</td><td style = \"text-align: right;\">1091.31</td><td style = \"text-align: right;\">1089.46</td><td style = \"text-align: right;\">1062.76</td><td style = \"text-align: right;\">1150.11</td><td style = \"text-align: right;\">1247.59</td><td style = \"text-align: right;\">1211.65</td><td style = \"text-align: right;\">1137.41</td><td style = \"text-align: right;\">1125.29</td><td style = \"text-align: right;\">1176.98</td><td style = \"text-align: right;\">1135.94</td><td style = \"text-align: right;\">1128.64</td><td style = \"text-align: right;\">1148.05</td><td style = \"text-align: right;\">1057.75</td><td style = \"text-align: right;\">1054.16</td><td style = \"text-align: right;\">1094.24</td><td style = \"text-align: right;\">1140.63</td><td style = \"text-align: right;\">1157.49</td><td style = \"text-align: right;\">1107.59</td><td style = \"text-align: right;\">1107.34</td><td style = \"text-align: right;\">1068.23</td><td style = \"text-align: right;\">1071.53</td><td style = \"text-align: right;\">1156.56</td><td style = \"text-align: right;\">1144.33</td><td style = \"text-align: right;\">1058.07</td><td style = \"text-align: right;\">1025.35</td><td style = \"text-align: right;\">1018.63</td><td style = \"text-align: right;\">988.22</td><td style = \"text-align: right;\">1072.99</td><td style = \"text-align: right;\">1169.0</td><td style = \"text-align: right;\">1132.63</td><td style = \"text-align: right;\">1058.91</td><td style = \"text-align: right;\">1048.2</td><td style = \"text-align: right;\">1102.05</td><td style = \"text-align: right;\">1063.86</td><td style = \"text-align: right;\">1059.96</td><td style = \"text-align: right;\">1083.24</td><td style = \"text-align: right;\">997.157</td><td style = \"text-align: right;\">998.039</td><td style = \"text-align: right;\">1042.75</td><td style = \"text-align: right;\">1093.84</td><td style = \"text-align: right;\">1115.36</td><td style = \"text-align: right;\">1070.02</td><td style = \"text-align: right;\">1074.15</td><td style = \"text-align: right;\">1039.15</td><td style = \"text-align: right;\">1046.22</td><td style = \"text-align: right;\">1134.62</td><td style = \"text-align: right;\">1125.3</td><td style = \"text-align: right;\">1041.42</td><td style = \"text-align: right;\">1010.52</td><td style = \"text-align: right;\">1005.01</td><td style = \"text-align: right;\">975.178</td><td style = \"text-align: right;\">1059.88</td><td style = \"text-align: right;\">1155.18</td><td style = \"text-align: right;\">1117.47</td><td style = \"text-align: right;\">1041.81</td><td style = \"text-align: right;\">1028.62</td><td style = \"text-align: right;\">1079.55</td><td style = \"text-align: right;\">1038.05</td><td style = \"text-align: right;\">1030.6</td><td style = \"text-align: right;\">1050.2</td><td style = \"text-align: right;\">960.449</td><td style = \"text-align: right;\">957.824</td><td style = \"text-align: right;\">999.344</td><td style = \"text-align: right;\">1047.7</td><td style = \"text-align: right;\">1067.1</td><td style = \"text-align: right;\">1020.36</td><td style = \"text-align: right;\">1023.93</td><td style = \"text-align: right;\">989.31</td><td style = \"text-align: right;\">997.725</td><td style = \"text-align: right;\">1088.45</td><td style = \"text-align: right;\">1082.43</td><td style = \"text-align: right;\">1002.76</td><td style = \"text-align: right;\">976.869</td><td style = \"text-align: right;\">977.036</td><td style = \"text-align: right;\">953.37</td><td style = \"text-align: right;\">1044.53</td><td style = \"text-align: right;\">1146.34</td><td style = \"text-align: right;\">&ctdot;</td></tr><tr><td class = \"rowNumber\" style = \"font-weight: bold; text-align: right;\">1076</td><td style = \"text-align: right;\">1076</td><td style = \"text-align: right;\">11014.1</td><td style = \"text-align: right;\">10026.9</td><td style = \"text-align: right;\">10545.6</td><td style = \"text-align: right;\">12403.4</td><td style = \"text-align: right;\">11455.9</td><td style = \"text-align: right;\">10159.6</td><td style = \"text-align: right;\">10359.8</td><td style = \"text-align: right;\">8714.16</td><td style = \"text-align: right;\">7802.6</td><td style = \"text-align: right;\">8833.81</td><td style = \"text-align: right;\">8794.9</td><td style = \"text-align: right;\">9005.27</td><td style = \"text-align: right;\">9575.37</td><td style = \"text-align: right;\">8951.4</td><td style = \"text-align: right;\">9447.47</td><td style = \"text-align: right;\">10314.9</td><td style = \"text-align: right;\">9071.02</td><td style = \"text-align: right;\">9422.37</td><td style = \"text-align: right;\">11018.2</td><td style = \"text-align: right;\">10665.9</td><td style = \"text-align: right;\">11228.5</td><td style = \"text-align: right;\">11935.7</td><td style = \"text-align: right;\">10834.4</td><td style = \"text-align: right;\">10573.6</td><td style = \"text-align: right;\">10811.3</td><td style = \"text-align: right;\">9982.28</td><td style = \"text-align: right;\">10659.2</td><td style = \"text-align: right;\">12671.8</td><td style = \"text-align: right;\">11871.7</td><td style = \"text-align: right;\">10712.4</td><td style = \"text-align: right;\">11036.0</td><td style = \"text-align: right;\">9497.73</td><td style = \"text-align: right;\">8675.56</td><td style = \"text-align: right;\">9776.78</td><td style = \"text-align: right;\">9787.7</td><td style = \"text-align: right;\">10027.5</td><td style = \"text-align: right;\">10607.0</td><td style = \"text-align: right;\">9973.29</td><td style = \"text-align: right;\">10441.7</td><td style = \"text-align: right;\">11265.2</td><td style = \"text-align: right;\">9963.08</td><td style = \"text-align: right;\">10243.9</td><td style = \"text-align: right;\">11759.0</td><td style = \"text-align: right;\">11318.0</td><td style = \"text-align: right;\">11785.8</td><td style = \"text-align: right;\">12394.0</td><td style = \"text-align: right;\">11191.2</td><td style = \"text-align: right;\">10827.9</td><td style = \"text-align: right;\">10963.0</td><td style = \"text-align: right;\">10032.5</td><td style = \"text-align: right;\">10609.8</td><td style = \"text-align: right;\">12525.2</td><td style = \"text-align: right;\">11630.9</td><td style = \"text-align: right;\">10380.9</td><td style = \"text-align: right;\">10617.7</td><td style = \"text-align: right;\">8997.17</td><td style = \"text-align: right;\">8097.99</td><td style = \"text-align: right;\">9128.26</td><td style = \"text-align: right;\">9075.33</td><td style = \"text-align: right;\">9259.55</td><td style = \"text-align: right;\">9793.03</td><td style = \"text-align: right;\">9124.26</td><td style = \"text-align: right;\">9570.12</td><td style = \"text-align: right;\">10385.0</td><td style = \"text-align: right;\">9089.52</td><td style = \"text-align: right;\">9393.39</td><td style = \"text-align: right;\">10948.8</td><td style = \"text-align: right;\">10565.8</td><td style = \"text-align: right;\">11109.3</td><td style = \"text-align: right;\">11810.4</td><td style = \"text-align: right;\">10716.4</td><td style = \"text-align: right;\">10476.1</td><td style = \"text-align: right;\">10746.2</td><td style = \"text-align: right;\">9959.65</td><td style = \"text-align: right;\">10686.3</td><td style = \"text-align: right;\">12752.7</td><td style = \"text-align: right;\">12006.8</td><td style = \"text-align: right;\">10898.2</td><td style = \"text-align: right;\">11265.0</td><td style = \"text-align: right;\">9758.9</td><td style = \"text-align: right;\">8954.51</td><td style = \"text-align: right;\">10056.5</td><td style = \"text-align: right;\">10049.3</td><td style = \"text-align: right;\">10251.3</td><td style = \"text-align: right;\">10773.2</td><td style = \"text-align: right;\">10063.4</td><td style = \"text-align: right;\">10439.3</td><td style = \"text-align: right;\">11157.1</td><td style = \"text-align: right;\">9740.0</td><td style = \"text-align: right;\">9901.25</td><td style = \"text-align: right;\">11297.4</td><td style = \"text-align: right;\">10743.1</td><td style = \"text-align: right;\">11109.0</td><td style = \"text-align: right;\">11631.4</td><td style = \"text-align: right;\">10363.5</td><td style = \"text-align: right;\">9959.37</td><td style = \"text-align: right;\">10080.7</td><td style = \"text-align: right;\">9165.07</td><td style = \"text-align: right;\">9785.95</td><td style = \"text-align: right;\">&ctdot;</td></tr><tr><td class = \"rowNumber\" style = \"font-weight: bold; text-align: right;\">1077</td><td style = \"text-align: right;\">1077</td><td style = \"text-align: right;\">3935.0</td><td style = \"text-align: right;\">3868.0</td><td style = \"text-align: right;\">3858.13</td><td style = \"text-align: right;\">3792.89</td><td style = \"text-align: right;\">3859.92</td><td style = \"text-align: right;\">3796.36</td><td style = \"text-align: right;\">3937.81</td><td style = \"text-align: right;\">3974.87</td><td style = \"text-align: right;\">3805.75</td><td style = \"text-align: right;\">3346.64</td><td style = \"text-align: right;\">3816.43</td><td style = \"text-align: right;\">3678.41</td><td style = \"text-align: right;\">3082.34</td><td style = \"text-align: right;\">3793.6</td><td style = \"text-align: right;\">3468.61</td><td style = \"text-align: right;\">3520.21</td><td style = \"text-align: right;\">3616.15</td><td style = \"text-align: right;\">3378.07</td><td style = \"text-align: right;\">3948.95</td><td style = \"text-align: right;\">3413.04</td><td style = \"text-align: right;\">3640.41</td><td style = \"text-align: right;\">3725.97</td><td style = \"text-align: right;\">3238.24</td><td style = \"text-align: right;\">3932.36</td><td style = \"text-align: right;\">3970.16</td><td style = \"text-align: right;\">3926.54</td><td style = \"text-align: right;\">3946.63</td><td style = \"text-align: right;\">3916.03</td><td style = \"text-align: right;\">4020.22</td><td style = \"text-align: right;\">3993.94</td><td style = \"text-align: right;\">4170.34</td><td style = \"text-align: right;\">4237.65</td><td style = \"text-align: right;\">4091.88</td><td style = \"text-align: right;\">3647.31</td><td style = \"text-align: right;\">4121.36</td><td style = \"text-align: right;\">3976.3</td><td style = \"text-align: right;\">3361.46</td><td style = \"text-align: right;\">4042.32</td><td style = \"text-align: right;\">3676.04</td><td style = \"text-align: right;\">3676.7</td><td style = \"text-align: right;\">3713.82</td><td style = \"text-align: right;\">3411.2</td><td style = \"text-align: right;\">3914.34</td><td style = \"text-align: right;\">3310.17</td><td style = \"text-align: right;\">3471.53</td><td style = \"text-align: right;\">3496.03</td><td style = \"text-align: right;\">2954.68</td><td style = \"text-align: right;\">3604.82</td><td style = \"text-align: right;\">3610.02</td><td style = \"text-align: right;\">3546.43</td><td style = \"text-align: right;\">3559.83</td><td style = \"text-align: right;\">3535.88</td><td style = \"text-align: right;\">3659.49</td><td style = \"text-align: right;\">3664.23</td><td style = \"text-align: right;\">3881.56</td><td style = \"text-align: right;\">3997.53</td><td style = \"text-align: right;\">3905.64</td><td style = \"text-align: right;\">3517.42</td><td style = \"text-align: right;\">4047.41</td><td style = \"text-align: right;\">3955.07</td><td style = \"text-align: right;\">3387.05</td><td style = \"text-align: right;\">4106.5</td><td style = \"text-align: right;\">3768.58</td><td style = \"text-align: right;\">3785.93</td><td style = \"text-align: right;\">3827.2</td><td style = \"text-align: right;\">3515.92</td><td style = \"text-align: right;\">3997.93</td><td style = \"text-align: right;\">3361.13</td><td style = \"text-align: right;\">3479.88</td><td style = \"text-align: right;\">3453.8</td><td style = \"text-align: right;\">2856.28</td><td style = \"text-align: right;\">3447.32</td><td style = \"text-align: right;\">3393.29</td><td style = \"text-align: right;\">3273.14</td><td style = \"text-align: right;\">3235.35</td><td style = \"text-align: right;\">3167.98</td><td style = \"text-align: right;\">3258.0</td><td style = \"text-align: right;\">3240.57</td><td style = \"text-align: right;\">3448.22</td><td style = \"text-align: right;\">3567.46</td><td style = \"text-align: right;\">3491.68</td><td style = \"text-align: right;\">3131.69</td><td style = \"text-align: right;\">3700.81</td><td style = \"text-align: right;\">3656.79</td><td style = \"text-align: right;\">3144.16</td><td style = \"text-align: right;\">3923.7</td><td style = \"text-align: right;\">3648.08</td><td style = \"text-align: right;\">3727.4</td><td style = \"text-align: right;\">3827.85</td><td style = \"text-align: right;\">3570.76</td><td style = \"text-align: right;\">4100.11</td><td style = \"text-align: right;\">3502.32</td><td style = \"text-align: right;\">3650.79</td><td style = \"text-align: right;\">3644.71</td><td style = \"text-align: right;\">3057.57</td><td style = \"text-align: right;\">3650.0</td><td style = \"text-align: right;\">3589.49</td><td style = \"text-align: right;\">3456.51</td><td style = \"text-align: right;\">3401.39</td><td style = \"text-align: right;\">&ctdot;</td></tr><tr><td class = \"rowNumber\" style = \"font-weight: bold; text-align: right;\">1078</td><td style = \"text-align: right;\">1078</td><td style = \"text-align: right;\">1139.24</td><td style = \"text-align: right;\">1087.46</td><td style = \"text-align: right;\">1050.46</td><td style = \"text-align: right;\">1215.43</td><td style = \"text-align: right;\">1267.75</td><td style = \"text-align: right;\">970.817</td><td style = \"text-align: right;\">950.555</td><td style = \"text-align: right;\">1118.97</td><td style = \"text-align: right;\">1213.59</td><td style = \"text-align: right;\">1034.27</td><td style = \"text-align: right;\">1060.25</td><td style = \"text-align: right;\">1265.99</td><td style = \"text-align: right;\">1138.65</td><td style = \"text-align: right;\">1128.21</td><td style = \"text-align: right;\">1115.25</td><td style = \"text-align: right;\">1161.12</td><td style = \"text-align: right;\">1156.75</td><td style = \"text-align: right;\">1030.33</td><td style = \"text-align: right;\">1061.96</td><td style = \"text-align: right;\">958.76</td><td style = \"text-align: right;\">1026.37</td><td style = \"text-align: right;\">1012.99</td><td style = \"text-align: right;\">938.247</td><td style = \"text-align: right;\">1122.87</td><td style = \"text-align: right;\">1113.16</td><td style = \"text-align: right;\">1057.25</td><td style = \"text-align: right;\">1017.28</td><td style = \"text-align: right;\">1180.48</td><td style = \"text-align: right;\">1232.22</td><td style = \"text-align: right;\">935.832</td><td style = \"text-align: right;\">917.096</td><td style = \"text-align: right;\">1087.85</td><td style = \"text-align: right;\">1185.42</td><td style = \"text-align: right;\">1009.41</td><td style = \"text-align: right;\">1038.82</td><td style = \"text-align: right;\">1247.86</td><td style = \"text-align: right;\">1123.43</td><td style = \"text-align: right;\">1115.31</td><td style = \"text-align: right;\">1103.87</td><td style = \"text-align: right;\">1150.33</td><td style = \"text-align: right;\">1145.49</td><td style = \"text-align: right;\">1017.53</td><td style = \"text-align: right;\">1046.54</td><td style = \"text-align: right;\">939.683</td><td style = \"text-align: right;\">1002.74</td><td style = \"text-align: right;\">984.044</td><td style = \"text-align: right;\">903.439</td><td style = \"text-align: right;\">1081.86</td><td style = \"text-align: right;\">1065.88</td><td style = \"text-align: right;\">1003.83</td><td style = \"text-align: right;\">958.142</td><td style = \"text-align: right;\">1116.25</td><td style = \"text-align: right;\">1163.73</td><td style = \"text-align: right;\">864.077</td><td style = \"text-align: right;\">843.2</td><td style = \"text-align: right;\">1013.01</td><td style = \"text-align: right;\">1110.87</td><td style = \"text-align: right;\">936.371</td><td style = \"text-align: right;\">968.438</td><td style = \"text-align: right;\">1181.17</td><td style = \"text-align: right;\">1061.34</td><td style = \"text-align: right;\">1058.54</td><td style = \"text-align: right;\">1052.97</td><td style = \"text-align: right;\">1105.65</td><td style = \"text-align: right;\">1107.19</td><td style = \"text-align: right;\">985.587</td><td style = \"text-align: right;\">1020.75</td><td style = \"text-align: right;\">919.742</td><td style = \"text-align: right;\">988.205</td><td style = \"text-align: right;\">974.423</td><td style = \"text-align: right;\">898.192</td><td style = \"text-align: right;\">1080.45</td><td style = \"text-align: right;\">1067.8</td><td style = \"text-align: right;\">1008.63</td><td style = \"text-align: right;\">965.45</td><td style = \"text-align: right;\">1125.78</td><td style = \"text-align: right;\">1175.28</td><td style = \"text-align: right;\">877.537</td><td style = \"text-align: right;\">858.527</td><td style = \"text-align: right;\">1030.21</td><td style = \"text-align: right;\">1129.96</td><td style = \"text-align: right;\">957.359</td><td style = \"text-align: right;\">991.283</td><td style = \"text-align: right;\">1205.74</td><td style = \"text-align: right;\">1087.39</td><td style = \"text-align: right;\">1085.67</td><td style = \"text-align: right;\">1080.61</td><td style = \"text-align: right;\">1133.04</td><td style = \"text-align: right;\">1133.38</td><td style = \"text-align: right;\">1009.43</td><td style = \"text-align: right;\">1040.94</td><td style = \"text-align: right;\">934.835</td><td style = \"text-align: right;\">996.653</td><td style = \"text-align: right;\">974.626</td><td style = \"text-align: right;\">888.557</td><td style = \"text-align: right;\">1059.45</td><td style = \"text-align: right;\">1034.03</td><td style = \"text-align: right;\">960.91</td><td style = \"text-align: right;\">902.824</td><td style = \"text-align: right;\">&ctdot;</td></tr><tr><td class = \"rowNumber\" style = \"font-weight: bold; text-align: right;\">1079</td><td style = \"text-align: right;\">1079</td><td style = \"text-align: right;\">813.592</td><td style = \"text-align: right;\">858.701</td><td style = \"text-align: right;\">747.693</td><td style = \"text-align: right;\">884.171</td><td style = \"text-align: right;\">838.779</td><td style = \"text-align: right;\">806.947</td><td style = \"text-align: right;\">806.969</td><td style = \"text-align: right;\">832.209</td><td style = \"text-align: right;\">906.961</td><td style = \"text-align: right;\">813.698</td><td style = \"text-align: right;\">970.538</td><td style = \"text-align: right;\">953.362</td><td style = \"text-align: right;\">896.492</td><td style = \"text-align: right;\">943.345</td><td style = \"text-align: right;\">844.435</td><td style = \"text-align: right;\">873.757</td><td style = \"text-align: right;\">844.866</td><td style = \"text-align: right;\">1013.28</td><td style = \"text-align: right;\">1043.57</td><td style = \"text-align: right;\">902.543</td><td style = \"text-align: right;\">931.045</td><td style = \"text-align: right;\">824.976</td><td style = \"text-align: right;\">858.875</td><td style = \"text-align: right;\">840.994</td><td style = \"text-align: right;\">895.272</td><td style = \"text-align: right;\">926.283</td><td style = \"text-align: right;\">799.843</td><td style = \"text-align: right;\">920.029</td><td style = \"text-align: right;\">857.988</td><td style = \"text-align: right;\">809.672</td><td style = \"text-align: right;\">793.891</td><td style = \"text-align: right;\">804.515</td><td style = \"text-align: right;\">866.305</td><td style = \"text-align: right;\">762.152</td><td style = \"text-align: right;\">910.526</td><td style = \"text-align: right;\">887.584</td><td style = \"text-align: right;\">827.834</td><td style = \"text-align: right;\">874.788</td><td style = \"text-align: right;\">778.953</td><td style = \"text-align: right;\">814.223</td><td style = \"text-align: right;\">793.956</td><td style = \"text-align: right;\">973.382</td><td style = \"text-align: right;\">1016.72</td><td style = \"text-align: right;\">890.344</td><td style = \"text-align: right;\">934.619</td><td style = \"text-align: right;\">844.939</td><td style = \"text-align: right;\">895.316</td><td style = \"text-align: right;\">893.481</td><td style = \"text-align: right;\">962.867</td><td style = \"text-align: right;\">1007.58</td><td style = \"text-align: right;\">893.031</td><td style = \"text-align: right;\">1022.94</td><td style = \"text-align: right;\">968.171</td><td style = \"text-align: right;\">924.491</td><td style = \"text-align: right;\">910.601</td><td style = \"text-align: right;\">920.346</td><td style = \"text-align: right;\">978.549</td><td style = \"text-align: right;\">868.239</td><td style = \"text-align: right;\">1008.1</td><td style = \"text-align: right;\">974.543</td><td style = \"text-align: right;\">902.407</td><td style = \"text-align: right;\">935.544</td><td style = \"text-align: right;\">824.835</td><td style = \"text-align: right;\">844.548</td><td style = \"text-align: right;\">808.409</td><td style = \"text-align: right;\">971.999</td><td style = \"text-align: right;\">999.856</td><td style = \"text-align: right;\">858.646</td><td style = \"text-align: right;\">888.969</td><td style = \"text-align: right;\">786.415</td><td style = \"text-align: right;\">825.144</td><td style = \"text-align: right;\">812.986</td><td style = \"text-align: right;\">873.431</td><td style = \"text-align: right;\">910.604</td><td style = \"text-align: right;\">789.892</td><td style = \"text-align: right;\">914.979</td><td style = \"text-align: right;\">856.677</td><td style = \"text-align: right;\">810.673</td><td style = \"text-align: right;\">795.597</td><td style = \"text-align: right;\">805.224</td><td style = \"text-align: right;\">864.314</td><td style = \"text-align: right;\">755.843</td><td style = \"text-align: right;\">898.45</td><td style = \"text-align: right;\">868.534</td><td style = \"text-align: right;\">800.903</td><td style = \"text-align: right;\">839.408</td><td style = \"text-align: right;\">734.922</td><td style = \"text-align: right;\">761.708</td><td style = \"text-align: right;\">733.478</td><td style = \"text-align: right;\">905.784</td><td style = \"text-align: right;\">943.115</td><td style = \"text-align: right;\">812.063</td><td style = \"text-align: right;\">853.126</td><td style = \"text-align: right;\">761.757</td><td style = \"text-align: right;\">811.951</td><td style = \"text-align: right;\">811.339</td><td style = \"text-align: right;\">883.186</td><td style = \"text-align: right;\">931.367</td><td style = \"text-align: right;\">821.005</td><td style = \"text-align: right;\">&ctdot;</td></tr><tr><td class = \"rowNumber\" style = \"font-weight: bold; text-align: right;\">1080</td><td style = \"text-align: right;\">1080</td><td style = \"text-align: right;\">943.307</td><td style = \"text-align: right;\">965.909</td><td style = \"text-align: right;\">1103.8</td><td style = \"text-align: right;\">992.205</td><td style = \"text-align: right;\">898.489</td><td style = \"text-align: right;\">977.964</td><td style = \"text-align: right;\">965.038</td><td style = \"text-align: right;\">857.728</td><td style = \"text-align: right;\">913.557</td><td style = \"text-align: right;\">1005.19</td><td style = \"text-align: right;\">857.167</td><td style = \"text-align: right;\">822.106</td><td style = \"text-align: right;\">962.504</td><td style = \"text-align: right;\">907.455</td><td style = \"text-align: right;\">893.936</td><td style = \"text-align: right;\">918.551</td><td style = \"text-align: right;\">838.898</td><td style = \"text-align: right;\">903.47</td><td style = \"text-align: right;\">921.265</td><td style = \"text-align: right;\">932.086</td><td style = \"text-align: right;\">1035.09</td><td style = \"text-align: right;\">881.992</td><td style = \"text-align: right;\">813.969</td><td style = \"text-align: right;\">955.54</td><td style = \"text-align: right;\">893.794</td><td style = \"text-align: right;\">924.561</td><td style = \"text-align: right;\">1070.39</td><td style = \"text-align: right;\">966.476</td><td style = \"text-align: right;\">880.176</td><td style = \"text-align: right;\">966.847</td><td style = \"text-align: right;\">960.969</td><td style = \"text-align: right;\">860.647</td><td style = \"text-align: right;\">923.498</td><td style = \"text-align: right;\">1022.27</td><td style = \"text-align: right;\">881.574</td><td style = \"text-align: right;\">854.056</td><td style = \"text-align: right;\">1002.21</td><td style = \"text-align: right;\">955.089</td><td style = \"text-align: right;\">949.563</td><td style = \"text-align: right;\">982.098</td><td style = \"text-align: right;\">910.106</td><td style = \"text-align: right;\">981.856</td><td style = \"text-align: right;\">1006.1</td><td style = \"text-align: right;\">1022.38</td><td style = \"text-align: right;\">1129.6</td><td style = \"text-align: right;\">979.229</td><td style = \"text-align: right;\">912.226</td><td style = \"text-align: right;\">1052.95</td><td style = \"text-align: right;\">988.375</td><td style = \"text-align: right;\">1014.3</td><td style = \"text-align: right;\">1153.3</td><td style = \"text-align: right;\">1040.69</td><td style = \"text-align: right;\">944.026</td><td style = \"text-align: right;\">1018.93</td><td style = \"text-align: right;\">1000.22</td><td style = \"text-align: right;\">886.39</td><td style = \"text-align: right;\">935.493</td><td style = \"text-align: right;\">1020.73</td><td style = \"text-align: right;\">867.172</td><td style = \"text-align: right;\">827.905</td><td style = \"text-align: right;\">965.832</td><td style = \"text-align: right;\">910.344</td><td style = \"text-align: right;\">898.6</td><td style = \"text-align: right;\">927.254</td><td style = \"text-align: right;\">853.812</td><td style = \"text-align: right;\">926.539</td><td style = \"text-align: right;\">954.077</td><td style = \"text-align: right;\">975.761</td><td style = \"text-align: right;\">1090.18</td><td style = \"text-align: right;\">948.45</td><td style = \"text-align: right;\">891.075</td><td style = \"text-align: right;\">1041.93</td><td style = \"text-align: right;\">987.492</td><td style = \"text-align: right;\">1023.05</td><td style = \"text-align: right;\">1170.72</td><td style = \"text-align: right;\">1065.37</td><td style = \"text-align: right;\">974.203</td><td style = \"text-align: right;\">1052.57</td><td style = \"text-align: right;\">1035.1</td><td style = \"text-align: right;\">920.235</td><td style = \"text-align: right;\">966.055</td><td style = \"text-align: right;\">1045.92</td><td style = \"text-align: right;\">885.141</td><td style = \"text-align: right;\">837.16</td><td style = \"text-align: right;\">965.298</td><td style = \"text-align: right;\">899.421</td><td style = \"text-align: right;\">877.198</td><td style = \"text-align: right;\">895.804</td><td style = \"text-align: right;\">813.251</td><td style = \"text-align: right;\">878.271</td><td style = \"text-align: right;\">899.912</td><td style = \"text-align: right;\">917.838</td><td style = \"text-align: right;\">1030.87</td><td style = \"text-align: right;\">890.243</td><td style = \"text-align: right;\">836.476</td><td style = \"text-align: right;\">993.342</td><td style = \"text-align: right;\">947.104</td><td style = \"text-align: right;\">992.739</td><td style = \"text-align: right;\">1151.96</td><td style = \"text-align: right;\">&ctdot;</td></tr><tr><td class = \"rowNumber\" style = \"font-weight: bold; text-align: right;\">1081</td><td style = \"text-align: right;\">1081</td><td style = \"text-align: right;\">5898.43</td><td style = \"text-align: right;\">5902.73</td><td style = \"text-align: right;\">5638.27</td><td style = \"text-align: right;\">6182.88</td><td style = \"text-align: right;\">5672.17</td><td style = \"text-align: right;\">5615.19</td><td style = \"text-align: right;\">5713.18</td><td style = \"text-align: right;\">5940.51</td><td style = \"text-align: right;\">7271.62</td><td style = \"text-align: right;\">5982.57</td><td style = \"text-align: right;\">5732.61</td><td style = \"text-align: right;\">5929.33</td><td style = \"text-align: right;\">5790.1</td><td style = \"text-align: right;\">6854.96</td><td style = \"text-align: right;\">5949.4</td><td style = \"text-align: right;\">5815.78</td><td style = \"text-align: right;\">5997.84</td><td style = \"text-align: right;\">6156.5</td><td style = \"text-align: right;\">6408.12</td><td style = \"text-align: right;\">5518.03</td><td style = \"text-align: right;\">5642.49</td><td style = \"text-align: right;\">5958.86</td><td style = \"text-align: right;\">6936.85</td><td style = \"text-align: right;\">6916.51</td><td style = \"text-align: right;\">6150.3</td><td style = \"text-align: right;\">6166.95</td><td style = \"text-align: right;\">5914.03</td><td style = \"text-align: right;\">6468.8</td><td style = \"text-align: right;\">5966.26</td><td style = \"text-align: right;\">5914.9</td><td style = \"text-align: right;\">6015.38</td><td style = \"text-align: right;\">6241.57</td><td style = \"text-align: right;\">7567.52</td><td style = \"text-align: right;\">6268.99</td><td style = \"text-align: right;\">6005.12</td><td style = \"text-align: right;\">6183.55</td><td style = \"text-align: right;\">6021.83</td><td style = \"text-align: right;\">7060.42</td><td style = \"text-align: right;\">6125.36</td><td style = \"text-align: right;\">5959.74</td><td style = \"text-align: right;\">6108.13</td><td style = \"text-align: right;\">6232.43</td><td style = \"text-align: right;\">6450.03</td><td style = \"text-align: right;\">5527.29</td><td style = \"text-align: right;\">5621.53</td><td style = \"text-align: right;\">5911.08</td><td style = \"text-align: right;\">6866.55</td><td style = \"text-align: right;\">6828.73</td><td style = \"text-align: right;\">6050.66</td><td style = \"text-align: right;\">6061.45</td><td style = \"text-align: right;\">5808.83</td><td style = \"text-align: right;\">6370.01</td><td style = \"text-align: right;\">5879.71</td><td style = \"text-align: right;\">5845.9</td><td style = \"text-align: right;\">5968.56</td><td style = \"text-align: right;\">6220.7</td><td style = \"text-align: right;\">7575.36</td><td style = \"text-align: right;\">6307.21</td><td style = \"text-align: right;\">6074.26</td><td style = \"text-align: right;\">6282.98</td><td style = \"text-align: right;\">6149.83</td><td style = \"text-align: right;\">7214.24</td><td style = \"text-align: right;\">6301.37</td><td style = \"text-align: right;\">6153.55</td><td style = \"text-align: right;\">6314.83</td><td style = \"text-align: right;\">6446.75</td><td style = \"text-align: right;\">6666.57</td><td style = \"text-align: right;\">5740.73</td><td style = \"text-align: right;\">5826.85</td><td style = \"text-align: right;\">6103.71</td><td style = \"text-align: right;\">7042.55</td><td style = \"text-align: right;\">6984.92</td><td style = \"text-align: right;\">6184.71</td><td style = \"text-align: right;\">6171.92</td><td style = \"text-align: right;\">5895.19</td><td style = \"text-align: right;\">6432.59</td><td style = \"text-align: right;\">5919.66</td><td style = \"text-align: right;\">5865.08</td><td style = \"text-align: right;\">5969.39</td><td style = \"text-align: right;\">6206.04</td><td style = \"text-align: right;\">7548.34</td><td style = \"text-align: right;\">6271.11</td><td style = \"text-align: right;\">6032.26</td><td style = \"text-align: right;\">6238.12</td><td style = \"text-align: right;\">6104.82</td><td style = \"text-align: right;\">7171.39</td><td style = \"text-align: right;\">6262.49</td><td style = \"text-align: right;\">6119.96</td><td style = \"text-align: right;\">6287.3</td><td style = \"text-align: right;\">6425.55</td><td style = \"text-align: right;\">6651.51</td><td style = \"text-align: right;\">5731.26</td><td style = \"text-align: right;\">5822.11</td><td style = \"text-align: right;\">6102.68</td><td style = \"text-align: right;\">7044.15</td><td style = \"text-align: right;\">6988.1</td><td style = \"text-align: right;\">6188.57</td><td style = \"text-align: right;\">6175.8</td><td style = \"text-align: right;\">5898.71</td><td style = \"text-align: right;\">&ctdot;</td></tr><tr><td class = \"rowNumber\" style = \"font-weight: bold; text-align: right;\">1082</td><td style = \"text-align: right;\">1082</td><td style = \"text-align: right;\">5819.8</td><td style = \"text-align: right;\">5588.02</td><td style = \"text-align: right;\">5132.6</td><td style = \"text-align: right;\">5520.2</td><td style = \"text-align: right;\">5414.71</td><td style = \"text-align: right;\">5537.55</td><td style = \"text-align: right;\">5916.57</td><td style = \"text-align: right;\">5183.49</td><td style = \"text-align: right;\">4660.88</td><td style = \"text-align: right;\">5158.22</td><td style = \"text-align: right;\">5537.29</td><td style = \"text-align: right;\">4955.9</td><td style = \"text-align: right;\">4756.19</td><td style = \"text-align: right;\">5818.24</td><td style = \"text-align: right;\">5899.71</td><td style = \"text-align: right;\">5423.77</td><td style = \"text-align: right;\">5175.59</td><td style = \"text-align: right;\">4612.4</td><td style = \"text-align: right;\">5531.05</td><td style = \"text-align: right;\">6046.0</td><td style = \"text-align: right;\">5122.21</td><td style = \"text-align: right;\">5694.97</td><td style = \"text-align: right;\">6104.54</td><td style = \"text-align: right;\">5659.24</td><td style = \"text-align: right;\">6097.7</td><td style = \"text-align: right;\">5911.36</td><td style = \"text-align: right;\">5494.98</td><td style = \"text-align: right;\">5913.96</td><td style = \"text-align: right;\">5831.27</td><td style = \"text-align: right;\">5967.76</td><td style = \"text-align: right;\">6351.06</td><td style = \"text-align: right;\">5613.05</td><td style = \"text-align: right;\">5076.8</td><td style = \"text-align: right;\">5552.6</td><td style = \"text-align: right;\">5903.33</td><td style = \"text-align: right;\">5288.08</td><td style = \"text-align: right;\">5050.43</td><td style = \"text-align: right;\">6072.01</td><td style = \"text-align: right;\">6111.98</td><td style = \"text-align: right;\">5595.01</td><td style = \"text-align: right;\">5307.62</td><td style = \"text-align: right;\">4708.2</td><td style = \"text-align: right;\">5594.55</td><td style = \"text-align: right;\">6081.8</td><td style = \"text-align: right;\">5135.32</td><td style = \"text-align: right;\">5690.51</td><td style = \"text-align: right;\">6087.42</td><td style = \"text-align: right;\">5633.96</td><td style = \"text-align: right;\">6068.04</td><td style = \"text-align: right;\">5880.25</td><td style = \"text-align: right;\">5464.33</td><td style = \"text-align: right;\">5884.55</td><td style = \"text-align: right;\">5802.78</td><td style = \"text-align: right;\">5938.75</td><td style = \"text-align: right;\">6319.1</td><td style = \"text-align: right;\">5574.82</td><td style = \"text-align: right;\">5028.31</td><td style = \"text-align: right;\">5489.38</td><td style = \"text-align: right;\">5820.66</td><td style = \"text-align: right;\">5181.29</td><td style = \"text-align: right;\">4915.12</td><td style = \"text-align: right;\">5904.27</td><td style = \"text-align: right;\">5908.64</td><td style = \"text-align: right;\">5353.8</td><td style = \"text-align: right;\">5027.32</td><td style = \"text-align: right;\">4388.74</td><td style = \"text-align: right;\">5237.05</td><td style = \"text-align: right;\">5688.58</td><td style = \"text-align: right;\">4709.82</td><td style = \"text-align: right;\">5237.22</td><td style = \"text-align: right;\">5611.73</td><td style = \"text-align: right;\">5141.97</td><td style = \"text-align: right;\">5566.4</td><td style = \"text-align: right;\">5375.92</td><td style = \"text-align: right;\">4964.37</td><td style = \"text-align: right;\">5395.92</td><td style = \"text-align: right;\">5332.11</td><td style = \"text-align: right;\">5492.16</td><td style = \"text-align: right;\">5902.07</td><td style = \"text-align: right;\">5192.04</td><td style = \"text-align: right;\">4683.58</td><td style = \"text-align: right;\">5185.57</td><td style = \"text-align: right;\">5559.69</td><td style = \"text-align: right;\">4964.12</td><td style = \"text-align: right;\">4741.79</td><td style = \"text-align: right;\">5773.97</td><td style = \"text-align: right;\">5819.79</td><td style = \"text-align: right;\">5304.15</td><td style = \"text-align: right;\">5014.02</td><td style = \"text-align: right;\">4408.47</td><td style = \"text-align: right;\">5286.11</td><td style = \"text-align: right;\">5762.98</td><td style = \"text-align: right;\">4805.34</td><td style = \"text-align: right;\">5349.49</td><td style = \"text-align: right;\">5736.27</td><td style = \"text-align: right;\">5274.26</td><td style = \"text-align: right;\">5701.85</td><td style = \"text-align: right;\">5509.95</td><td style = \"text-align: right;\">5092.38</td><td style = \"text-align: right;\">&ctdot;</td></tr><tr><td class = \"rowNumber\" style = \"font-weight: bold; text-align: right;\">1083</td><td style = \"text-align: right;\">1083</td><td style = \"text-align: right;\">6470.78</td><td style = \"text-align: right;\">6215.82</td><td style = \"text-align: right;\">6093.03</td><td style = \"text-align: right;\">5817.7</td><td style = \"text-align: right;\">5741.23</td><td style = \"text-align: right;\">6247.16</td><td style = \"text-align: right;\">5779.72</td><td style = \"text-align: right;\">6291.72</td><td style = \"text-align: right;\">6288.49</td><td style = \"text-align: right;\">5675.46</td><td style = \"text-align: right;\">6286.98</td><td style = \"text-align: right;\">5180.04</td><td style = \"text-align: right;\">5645.08</td><td style = \"text-align: right;\">6755.11</td><td style = \"text-align: right;\">5868.37</td><td style = \"text-align: right;\">6149.1</td><td style = \"text-align: right;\">6230.74</td><td style = \"text-align: right;\">6432.05</td><td style = \"text-align: right;\">6325.71</td><td style = \"text-align: right;\">5512.05</td><td style = \"text-align: right;\">6058.91</td><td style = \"text-align: right;\">6535.54</td><td style = \"text-align: right;\">6360.84</td><td style = \"text-align: right;\">6264.42</td><td style = \"text-align: right;\">6355.62</td><td style = \"text-align: right;\">6161.3</td><td style = \"text-align: right;\">6091.0</td><td style = \"text-align: right;\">5859.17</td><td style = \"text-align: right;\">5816.9</td><td style = \"text-align: right;\">6347.87</td><td style = \"text-align: right;\">5896.92</td><td style = \"text-align: right;\">6417.81</td><td style = \"text-align: right;\">6417.14</td><td style = \"text-align: right;\">5801.8</td><td style = \"text-align: right;\">6407.7</td><td style = \"text-align: right;\">5293.45</td><td style = \"text-align: right;\">5750.99</td><td style = \"text-align: right;\">6854.69</td><td style = \"text-align: right;\">5963.9</td><td style = \"text-align: right;\">6243.7</td><td style = \"text-align: right;\">6328.03</td><td style = \"text-align: right;\">6535.81</td><td style = \"text-align: right;\">6439.53</td><td style = \"text-align: right;\">5638.99</td><td style = \"text-align: right;\">6201.17</td><td style = \"text-align: right;\">6694.25</td><td style = \"text-align: right;\">6535.87</td><td style = \"text-align: right;\">6454.23</td><td style = \"text-align: right;\">6557.2</td><td style = \"text-align: right;\">6370.26</td><td style = \"text-align: right;\">6301.64</td><td style = \"text-align: right;\">6064.65</td><td style = \"text-align: right;\">6009.5</td><td style = \"text-align: right;\">6519.27</td><td style = \"text-align: right;\">6038.52</td><td style = \"text-align: right;\">6521.09</td><td style = \"text-align: right;\">6473.97</td><td style = \"text-align: right;\">5804.84</td><td style = \"text-align: right;\">6350.68</td><td style = \"text-align: right;\">5171.46</td><td style = \"text-align: right;\">5560.69</td><td style = \"text-align: right;\">6594.51</td><td style = \"text-align: right;\">5634.14</td><td style = \"text-align: right;\">5846.59</td><td style = \"text-align: right;\">5867.67</td><td style = \"text-align: right;\">6018.1</td><td style = \"text-align: right;\">5872.03</td><td style = \"text-align: right;\">5030.7</td><td style = \"text-align: right;\">5562.3</td><td style = \"text-align: right;\">6035.95</td><td style = \"text-align: right;\">5869.89</td><td style = \"text-align: right;\">5792.64</td><td style = \"text-align: right;\">5912.06</td><td style = \"text-align: right;\">5753.33</td><td style = \"text-align: right;\">5724.04</td><td style = \"text-align: right;\">5536.67</td><td style = \"text-align: right;\">5540.31</td><td style = \"text-align: right;\">6116.74</td><td style = \"text-align: right;\">5709.07</td><td style = \"text-align: right;\">6269.52</td><td style = \"text-align: right;\">6303.46</td><td style = \"text-align: right;\">5716.84</td><td style = \"text-align: right;\">6344.93</td><td style = \"text-align: right;\">5245.98</td><td style = \"text-align: right;\">5711.9</td><td style = \"text-align: right;\">6817.24</td><td style = \"text-align: right;\">5921.78</td><td style = \"text-align: right;\">6191.19</td><td style = \"text-align: right;\">6260.12</td><td style = \"text-align: right;\">6448.27</td><td style = \"text-align: right;\">6328.95</td><td style = \"text-align: right;\">5502.76</td><td style = \"text-align: right;\">6037.48</td><td style = \"text-align: right;\">6502.03</td><td style = \"text-align: right;\">6314.7</td><td style = \"text-align: right;\">6204.31</td><td style = \"text-align: right;\">6279.28</td><td style = \"text-align: right;\">6065.63</td><td style = \"text-align: right;\">5972.04</td><td style = \"text-align: right;\">&ctdot;</td></tr></tbody></table></div>"
      ],
      "text/latex": [
       "\\begin{tabular}{r|ccccccccccc}\n",
       "\t& id & 0 & 1 & 2 & 3 & 4 & 5 & 6 & 7 & 8 & \\\\\n",
       "\t\\hline\n",
       "\t& Int64 & Float64 & Float64 & Float64 & Float64 & Float64 & Float64 & Float64 & Float64 & Float64 & \\\\\n",
       "\t\\hline\n",
       "\t1 & 1 & 6420.33 & 7164.09 & 7224.31 & 6326.79 & 6860.22 & 6381.81 & 6150.76 & 6527.41 & 6057.64 & $\\dots$ \\\\\n",
       "\t2 & 2 & 9832.76 & 10111.0 & 9552.12 & 10115.2 & 10454.1 & 10226.5 & 10767.5 & 9301.43 & 9833.6 & $\\dots$ \\\\\n",
       "\t3 & 3 & 999.425 & 945.82 & 903.441 & 995.912 & 1030.02 & 1008.31 & 1044.74 & 1015.69 & 1050.2 & $\\dots$ \\\\\n",
       "\t4 & 4 & 1061.44 & 1015.59 & 1107.72 & 1173.75 & 1109.79 & 1148.47 & 1226.57 & 1149.64 & 1080.17 & $\\dots$ \\\\\n",
       "\t5 & 5 & 5942.2 & 5800.83 & 6086.32 & 6528.81 & 6272.2 & 6196.36 & 6604.46 & 6892.3 & 6505.77 & $\\dots$ \\\\\n",
       "\t6 & 6 & 7787.96 & 7942.79 & 7039.49 & 6364.01 & 6987.9 & 7270.7 & 7444.76 & 7455.47 & 7649.19 & $\\dots$ \\\\\n",
       "\t7 & 7 & 8394.25 & 8219.91 & 8231.25 & 8493.46 & 8233.32 & 7930.11 & 8493.03 & 9269.7 & 8516.37 & $\\dots$ \\\\\n",
       "\t8 & 8 & 11491.8 & 10917.2 & 11446.7 & 10985.2 & 11279.7 & 11271.9 & 10645.9 & 10907.1 & 11483.2 & $\\dots$ \\\\\n",
       "\t9 & 9 & 2322.47 & 2292.44 & 2392.01 & 2450.25 & 2288.54 & 2357.46 & 2494.03 & 2488.08 & 2365.06 & $\\dots$ \\\\\n",
       "\t10 & 10 & 2363.41 & 2648.44 & 2727.5 & 2402.68 & 2663.96 & 2512.93 & 2399.16 & 2477.24 & 2356.36 & $\\dots$ \\\\\n",
       "\t11 & 11 & 12206.7 & 10773.0 & 11336.9 & 11622.8 & 11303.1 & 10604.3 & 10716.8 & 11139.3 & 10652.5 & $\\dots$ \\\\\n",
       "\t12 & 12 & 6996.23 & 6919.29 & 7045.43 & 7263.36 & 7735.79 & 7502.42 & 6928.32 & 7391.79 & 7491.79 & $\\dots$ \\\\\n",
       "\t13 & 13 & 6100.68 & 6656.0 & 5671.82 & 6368.66 & 6492.15 & 6624.26 & 6598.45 & 5478.59 & 6215.87 & $\\dots$ \\\\\n",
       "\t14 & 14 & 8156.07 & 8640.67 & 8365.04 & 7367.58 & 8137.25 & 8534.07 & 8367.5 & 9102.47 & 8877.72 & $\\dots$ \\\\\n",
       "\t15 & 15 & 7560.41 & 8063.42 & 8393.71 & 7664.83 & 8566.85 & 7158.11 & 7085.17 & 7372.65 & 6948.07 & $\\dots$ \\\\\n",
       "\t16 & 16 & 9112.18 & 8520.7 & 7874.42 & 7919.73 & 7850.28 & 8546.79 & 7933.19 & 7535.02 & 7305.13 & $\\dots$ \\\\\n",
       "\t17 & 17 & 11826.8 & 11252.3 & 11604.4 & 11231.6 & 10504.5 & 11093.8 & 10795.2 & 10173.9 & 10603.1 & $\\dots$ \\\\\n",
       "\t18 & 18 & 10893.3 & 10183.2 & 9681.57 & 10940.0 & 10617.3 & 10666.4 & 9958.86 & 10715.2 & 10744.1 & $\\dots$ \\\\\n",
       "\t19 & 19 & 7836.33 & 7529.67 & 7282.71 & 7170.47 & 7183.94 & 6693.5 & 6682.13 & 7569.21 & 7987.15 & $\\dots$ \\\\\n",
       "\t20 & 20 & 12239.5 & 13500.4 & 12782.0 & 10997.9 & 14312.5 & 12748.6 & 10629.9 & 12512.4 & 11213.4 & $\\dots$ \\\\\n",
       "\t21 & 21 & 6105.83 & 5569.86 & 5773.82 & 5324.35 & 6461.63 & 6351.6 & 5496.47 & 6378.35 & 6320.52 & $\\dots$ \\\\\n",
       "\t22 & 22 & 8162.1 & 7593.44 & 7470.24 & 7439.86 & 7584.61 & 7358.96 & 8634.2 & 8777.1 & 7714.47 & $\\dots$ \\\\\n",
       "\t23 & 23 & 2354.74 & 2083.62 & 2075.84 & 2142.28 & 1870.2 & 1822.87 & 1952.73 & 1756.99 & 1826.45 & $\\dots$ \\\\\n",
       "\t24 & 24 & 11714.6 & 11242.3 & 12034.9 & 12585.8 & 10697.8 & 10978.8 & 11257.6 & 11153.5 & 11662.7 & $\\dots$ \\\\\n",
       "\t25 & 25 & 6357.98 & 5360.01 & 5530.44 & 5872.78 & 6092.79 & 6296.56 & 5539.59 & 5828.61 & 6108.67 & $\\dots$ \\\\\n",
       "\t26 & 26 & 10370.5 & 9798.11 & 10126.2 & 12366.6 & 11679.0 & 10490.1 & 10307.5 & 10543.8 & 11730.3 & $\\dots$ \\\\\n",
       "\t27 & 27 & 12408.4 & 12812.4 & 12116.1 & 12320.5 & 12070.1 & 11663.6 & 11477.9 & 13570.4 & 13358.6 & $\\dots$ \\\\\n",
       "\t28 & 28 & 9836.39 & 9294.32 & 8364.31 & 8340.63 & 9033.0 & 8970.23 & 8660.81 & 8774.0 & 8695.19 & $\\dots$ \\\\\n",
       "\t29 & 29 & 9507.37 & 9772.9 & 10394.4 & 11130.9 & 11128.9 & 11643.3 & 10839.2 & 10483.5 & 10843.3 & $\\dots$ \\\\\n",
       "\t30 & 30 & 9509.34 & 9219.11 & 9979.44 & 9436.28 & 9449.17 & 9717.56 & 8546.32 & 9080.92 & 9847.16 & $\\dots$ \\\\\n",
       "\t$\\dots$ & $\\dots$ & $\\dots$ & $\\dots$ & $\\dots$ & $\\dots$ & $\\dots$ & $\\dots$ & $\\dots$ & $\\dots$ & $\\dots$ &  \\\\\n",
       "\\end{tabular}\n"
      ],
      "text/plain": [
       "\u001b[1m1083×8737 DataFrame\u001b[0m\n",
       "\u001b[1m  Row \u001b[0m│\u001b[1m id    \u001b[0m\u001b[1m 0         \u001b[0m\u001b[1m 1         \u001b[0m\u001b[1m 2         \u001b[0m\u001b[1m 3         \u001b[0m\u001b[1m 4         \u001b[0m\u001b[1m 5       \u001b[0m ⋯\n",
       "      │\u001b[90m Int64 \u001b[0m\u001b[90m Float64   \u001b[0m\u001b[90m Float64   \u001b[0m\u001b[90m Float64   \u001b[0m\u001b[90m Float64   \u001b[0m\u001b[90m Float64   \u001b[0m\u001b[90m Float64 \u001b[0m ⋯\n",
       "──────┼─────────────────────────────────────────────────────────────────────────\n",
       "    1 │     1   6420.33    7164.09    7224.31    6326.79    6860.22    6381.81 ⋯\n",
       "    2 │     2   9832.76   10111.0     9552.12   10115.2    10454.1    10226.5\n",
       "    3 │     3    999.425    945.82     903.441    995.912   1030.02    1008.31\n",
       "    4 │     4   1061.44    1015.59    1107.72    1173.75    1109.79    1148.47\n",
       "    5 │     5   5942.2     5800.83    6086.32    6528.81    6272.2     6196.36 ⋯\n",
       "    6 │     6   7787.96    7942.79    7039.49    6364.01    6987.9     7270.7\n",
       "    7 │     7   8394.25    8219.91    8231.25    8493.46    8233.32    7930.11\n",
       "    8 │     8  11491.8    10917.2    11446.7    10985.2    11279.7    11271.9\n",
       "    9 │     9   2322.47    2292.44    2392.01    2450.25    2288.54    2357.46 ⋯\n",
       "   10 │    10   2363.41    2648.44    2727.5     2402.68    2663.96    2512.93\n",
       "   11 │    11  12206.7    10773.0    11336.9    11622.8    11303.1    10604.3\n",
       "  ⋮   │   ⋮        ⋮          ⋮          ⋮          ⋮          ⋮          ⋮    ⋱\n",
       " 1074 │  1074   5899.65    5997.08    6690.79    6030.66    6350.46    6297.97\n",
       " 1075 │  1075    951.494   1039.01    1137.82    1104.44    1034.02    1027.03 ⋯\n",
       " 1076 │  1076  11014.1    10026.9    10545.6    12403.4    11455.9    10159.6\n",
       " 1077 │  1077   3935.0     3868.0     3858.13    3792.89    3859.92    3796.36\n",
       " 1078 │  1078   1139.24    1087.46    1050.46    1215.43    1267.75     970.81\n",
       " 1079 │  1079    813.592    858.701    747.693    884.171    838.779    806.94 ⋯\n",
       " 1080 │  1080    943.307    965.909   1103.8      992.205    898.489    977.96\n",
       " 1081 │  1081   5898.43    5902.73    5638.27    6182.88    5672.17    5615.19\n",
       " 1082 │  1082   5819.8     5588.02    5132.6     5520.2     5414.71    5537.55\n",
       " 1083 │  1083   6470.78    6215.82    6093.03    5817.7     5741.23    6247.16 ⋯\n",
       "\u001b[36m                                              8731 columns and 1062 rows omitted\u001b[0m"
      ]
     },
     "execution_count": 22,
     "metadata": {},
     "output_type": "execute_result"
    }
   ],
   "source": [
    "gen_costs_df = CSV.read(\"../doc/data/pantagruel_gen_cost_series.csv\", DataFrame)\n",
    "sort!(gen_costs_df)"
   ]
  },
  {
   "cell_type": "code",
   "execution_count": 23,
   "id": "6f67b8ed-1752-432d-81de-28bd2df2515b",
   "metadata": {},
   "outputs": [
    {
     "data": {
      "text/plain": [
       "1039×8736 Matrix{Float64}:\n",
       " 3.21017   3.58205   3.61216   3.1634    …  3.28556   3.43589   3.41063\n",
       " 4.91638   5.05548   4.77606   5.05758      4.90492   4.69875   5.08561\n",
       " 0.499713  0.47291   0.45172   0.497956     0.447596  0.453108  0.482992\n",
       " 0.530718  0.507793  0.55386   0.586875     0.527294  0.503987  0.528598\n",
       " 2.9711    2.90041   3.04316   3.26441      2.82613   3.02974   3.10334\n",
       " 3.89398   3.9714    3.51974   3.182     …  3.84782   3.32662   3.13763\n",
       " 4.19712   4.10996   4.11562   4.24673      4.03415   3.93282   3.93114\n",
       " 5.7459    5.45858   5.72334   5.49262      6.27343   5.80659   5.46804\n",
       " 1.16123   1.14622   1.196     1.22513      1.25965   1.15643   1.1263\n",
       " 1.18171   1.32422   1.36375   1.20134      1.19258   1.20763   1.28572\n",
       " 6.10334   5.38648   5.66843   5.81139   …  6.33001   5.72106   6.554\n",
       " 3.49812   3.45964   3.52272   3.63168      3.55152   3.69087   3.70801\n",
       " 3.05034   3.328     2.83591   3.18433      2.77265   3.28109   2.95878\n",
       " ⋮                                       ⋱                      ⋮\n",
       " 4.70646   4.44036   4.35813   4.7524       4.44379   4.39304   4.65474\n",
       " 3.29419   3.00458   2.47753   2.75957      2.53936   3.0338    2.83796\n",
       " 2.94982   2.99854   3.34539   3.01533      3.23625   3.38352   3.29015\n",
       " 0.475747  0.519507  0.568909  0.552218  …  0.505916  0.491325  0.489525\n",
       " 5.50706   5.01346   5.27278   6.2017       6.2879    5.66921   5.46541\n",
       " 1.9675    1.934     1.92907   1.89644      1.8545    1.6123    1.95625\n",
       " 0.569621  0.54373   0.525232  0.607714     0.51043   0.47649   0.571867\n",
       " 0.406796  0.429351  0.373846  0.442085     0.356474  0.37732   0.373487\n",
       " 0.471653  0.482955  0.5519    0.496102  …  0.478067  0.440025  0.506673\n",
       " 2.94922   2.95136   2.81914   3.09144      2.87219   3.35511   3.33866\n",
       " 2.9099    2.79401   2.5663    2.7601       2.78783   2.96524   2.71585\n",
       " 3.23539   3.10791   3.04652   2.90885      3.43286   3.30794   3.22352"
      ]
     },
     "execution_count": 23,
     "metadata": {},
     "output_type": "execute_result"
    }
   ],
   "source": [
    "gen_costs = Matrix(gen_costs_df[gen_ids, 2:end]) / 2000."
   ]
  },
  {
   "cell_type": "markdown",
   "id": "bc6078c7-0c3a-4b77-abb6-430481c1336c",
   "metadata": {},
   "source": [
    "Distribution of generators on buses:"
   ]
  },
  {
   "cell_type": "code",
   "execution_count": 24,
   "id": "64430902-68f4-4019-bba9-c489e56651a9",
   "metadata": {},
   "outputs": [
    {
     "data": {
      "text/plain": [
       "4097×1039 SparseMatrixCSC{Float64, Int64} with 1039 stored entries:\n",
       "⎡⢳⡀⠀⠀⠀⠀⠀⠀⠀⠀⠀⠀⠀⎤\n",
       "⎢⠀⡅⠀⠀⠀⠀⠀⠀⠀⠀⠀⠀⠀⎥\n",
       "⎢⠀⠹⡀⠀⠀⠀⠀⠀⠀⠀⠀⠀⠀⎥\n",
       "⎢⠀⠀⡇⠀⠀⠀⠀⠀⠀⠀⠀⠀⠀⎥\n",
       "⎢⠀⠀⢳⠀⠀⠀⠀⠀⠀⠀⠀⠀⠀⎥\n",
       "⎢⠀⠀⠸⡀⠀⠀⠀⠀⠀⠀⠀⠀⠀⎥\n",
       "⎢⠀⠀⠀⡇⠀⠀⠀⠀⠀⠀⠀⠀⠀⎥\n",
       "⎢⠀⠀⠀⢹⠀⠀⠀⠀⠀⠀⠀⠀⠀⎥\n",
       "⎢⠀⠀⠀⠈⣇⠀⠀⠀⠀⠀⠀⠀⠀⎥\n",
       "⎢⠀⠀⠀⠀⠸⡄⠀⠀⠀⠀⠀⠀⠀⎥\n",
       "⎢⠀⠀⠀⠀⠀⠙⣆⠀⠀⠀⠀⠀⠀⎥\n",
       "⎢⠀⠀⠀⠀⠀⠀⠘⣆⠀⠀⠀⠀⠀⎥\n",
       "⎢⠀⠀⠀⠀⠀⠀⠀⠘⡄⠀⠀⠀⠀⎥\n",
       "⎢⠀⠀⠀⠀⠀⠀⠀⠀⢇⠀⠀⠀⠀⎥\n",
       "⎢⠀⠀⠀⠀⠀⠀⠀⠀⢸⡀⠀⠀⠀⎥\n",
       "⎢⠀⠀⠀⠀⠀⠀⠀⠀⠀⢧⠀⠀⠀⎥\n",
       "⎢⠀⠀⠀⠀⠀⠀⠀⠀⠀⠸⡄⠀⠀⎥\n",
       "⎢⠀⠀⠀⠀⠀⠀⠀⠀⠀⠀⢹⠀⠀⎥\n",
       "⎢⠀⠀⠀⠀⠀⠀⠀⠀⠀⠀⠈⡇⠀⎥\n",
       "⎢⠀⠀⠀⠀⠀⠀⠀⠀⠀⠀⠀⢹⠀⎥\n",
       "⎢⠀⠀⠀⠀⠀⠀⠀⠀⠀⠀⠀⠸⡄⎥\n",
       "⎢⠀⠀⠀⠀⠀⠀⠀⠀⠀⠀⠀⠀⡇⎥\n",
       "⎢⠀⠀⠀⠀⠀⠀⠀⠀⠀⠀⠀⠀⡇⎥\n",
       "⎢⠀⠀⠀⠀⠀⠀⠀⠀⠀⠀⠀⠀⡇⎥\n",
       "⎢⠀⠀⠀⠀⠀⠀⠀⠀⠀⠀⠀⠀⠱⎥\n",
       "⎣⠀⠀⠀⠀⠀⠀⠀⠀⠀⠀⠀⠀⠸⎦"
      ]
     },
     "execution_count": 24,
     "metadata": {},
     "output_type": "execute_result"
    }
   ],
   "source": [
    "gen_buses = [bus_ids_map[network[\"gen\"][string(id)][\"gen_bus\"]] for id ∈ gen_ids]\n",
    "\n",
    "A_gen = sparse(gen_buses, 1:Ngens, ones(Ngens), Nbuses, Ngens)"
   ]
  },
  {
   "cell_type": "markdown",
   "id": "77cbd854-32ba-430d-9fef-84613fe190b2",
   "metadata": {},
   "source": [
    "Maximum capacity for each generator:"
   ]
  },
  {
   "cell_type": "code",
   "execution_count": 25,
   "id": "b64a4a6a-0675-4533-88d9-9c7f6e10b2e6",
   "metadata": {},
   "outputs": [
    {
     "data": {
      "text/plain": [
       "1039-element Vector{Float64}:\n",
       "  1.14\n",
       "  1.6\n",
       "  0.88\n",
       "  0.6\n",
       "  0.27\n",
       "  0.23\n",
       "  0.24\n",
       "  8.45\n",
       "  3.0\n",
       "  5.5\n",
       "  3.0\n",
       "  3.33600006\n",
       "  2.1\n",
       "  ⋮\n",
       "  0.114\n",
       "  0.16699999999999998\n",
       "  0.12\n",
       "  0.14\n",
       " 15.8539\n",
       "  1.05\n",
       "  0.183\n",
       "  0.19699999999999998\n",
       "  0.18600000000000003\n",
       "  0.256\n",
       "  0.2475\n",
       "  0.384"
      ]
     },
     "execution_count": 25,
     "metadata": {},
     "output_type": "execute_result"
    }
   ],
   "source": [
    "gen_pmax = [convert(Float64, network[\"gen\"][string(id)][\"pmax\"]) for id ∈ gen_ids]"
   ]
  },
  {
   "cell_type": "markdown",
   "id": "24117615-85cd-4e06-8864-f929daf53a4f",
   "metadata": {
    "jp-MarkdownHeadingCollapsed": true
   },
   "source": [
    "## Import nuclear profiles"
   ]
  },
  {
   "cell_type": "code",
   "execution_count": 26,
   "id": "3b0eb80f-ca65-4af0-a7f1-c1b66d4520d2",
   "metadata": {},
   "outputs": [
    {
     "data": {
      "text/plain": [
       "44×8736 Matrix{Float64}:\n",
       " 19.7042   19.7052   19.7062   19.7062   …  19.7042   19.7052   19.7052\n",
       " 10.624    10.623    10.629    10.629       10.633    10.63     10.624\n",
       "  9.75114   9.75404   9.75791   9.75888     10.4758    9.80338   9.75114\n",
       "  9.294     9.279     9.291     9.293        9.299     9.296     9.296\n",
       " 19.1431   19.1431   19.1431   19.1431      19.1431   19.1431   19.1431\n",
       " 12.7429   12.736    12.477    12.7685   …  12.7764   12.7321   12.7311\n",
       " 12.0824   12.0824   12.0787   12.0787      12.1026   12.1024   12.0844\n",
       " 13.64     13.6173   13.553    13.53        13.6965   13.6178   13.635\n",
       " 12.7271   12.7467   12.7437   12.7301      12.9856   12.9398   12.9096\n",
       " 12.0348   12.0338   12.0309   12.023       12.0309   12.0328   12.0348\n",
       " 12.8447   12.8466   12.8437   12.8437   …  12.8234   12.8251   12.8417\n",
       " 14.0004   13.997    13.8992   13.7054      14.0317   14.0294   14.0088\n",
       " 17.21     17.21     17.21     17.21        17.26     17.26     17.21\n",
       "  ⋮                                      ⋱                       ⋮\n",
       " 53.1093   52.9403   53.0596   53.159       52.7913   52.9205   52.7714\n",
       " 50.51     50.23     50.22     50.18        50.14     50.2      50.43\n",
       " 35.4964   35.4964   35.5261   35.5658      35.3081   35.3775   35.2289\n",
       " 25.4449   25.4449   25.2363   25.1568   …  25.1568   25.2959   25.2462\n",
       " 18.8152   18.8089   18.8052   18.8113      18.8185   18.815    18.8185\n",
       "  4.80598   4.80499   4.80843   4.80814      4.80666   4.80598   4.80637\n",
       " 12.0864   12.1054   12.1054   12.0864      12.058    12.058    12.0486\n",
       "  3.71016   3.71016   3.71016   3.71016      3.71016   3.71016   3.71016\n",
       "  9.97016   9.97115   9.9761    9.9771   …   9.96917   9.96917   9.96223\n",
       "  3.64      3.64      3.65      3.64         3.64      3.64      3.65\n",
       " 12.945    12.9457   12.9106   12.9363      12.9368   12.9269   12.9489\n",
       " 12.88     12.88     12.88     12.88        12.88     12.88     12.88"
      ]
     },
     "execution_count": 26,
     "metadata": {},
     "output_type": "execute_result"
    }
   ],
   "source": [
    "nuclear_profiles = Matrix(nuc_series_df[:, 2:end]) / 100."
   ]
  },
  {
   "cell_type": "code",
   "execution_count": 27,
   "id": "1bce2c61-d7cf-4fa5-9285-cb020ce57887",
   "metadata": {},
   "outputs": [
    {
     "data": {
      "text/plain": [
       "4097×44 SparseMatrixCSC{Float64, Int64} with 44 stored entries:\n",
       "⎡⠀⠀⎤\n",
       "⎢⠃⠀⎥\n",
       "⎢⠀⠀⎥\n",
       "⎢⠁⠀⎥\n",
       "⎢⠁⠀⎥\n",
       "⎢⠆⠀⎥\n",
       "⎢⠸⠀⎥\n",
       "⎢⢀⠀⎥\n",
       "⎢⢀⠀⎥\n",
       "⎢⠰⠀⎥\n",
       "⎢⠠⠀⎥\n",
       "⎢⠈⠆⎥\n",
       "⎢⠀⡂⎥\n",
       "⎢⠀⡆⎥\n",
       "⎢⠀⠆⎥\n",
       "⎢⠀⠐⎥\n",
       "⎢⠀⠠⎥\n",
       "⎢⠀⠰⎥\n",
       "⎢⠀⠐⎥\n",
       "⎢⠀⠈⎥\n",
       "⎢⠀⠀⎥\n",
       "⎢⠀⠀⎥\n",
       "⎢⠀⠀⎥\n",
       "⎢⠀⠀⎥\n",
       "⎢⠀⠀⎥\n",
       "⎣⠀⠀⎦"
      ]
     },
     "execution_count": 27,
     "metadata": {},
     "output_type": "execute_result"
    }
   ],
   "source": [
    "nuc_buses = [bus_ids_map[network[\"nuc\"][string(id)][\"gen_bus\"]] for id ∈ nuc_ids]\n",
    "\n",
    "A_nuc = sparse(nuc_buses, 1:Nnucs, ones(Nnucs), Nbuses, Nnucs)"
   ]
  },
  {
   "cell_type": "code",
   "execution_count": 28,
   "id": "377e88e7-7270-48bc-bd94-5b44076c0932",
   "metadata": {},
   "outputs": [
    {
     "data": {
      "text/plain": [
       "44×1 Matrix{Float64}:\n",
       " 18.07435324434912\n",
       " 10.52281204212462\n",
       " 16.740458566186987\n",
       " 12.772566391941368\n",
       " 12.115955164116976\n",
       "  9.503013685447213\n",
       " 12.653122996045495\n",
       " 11.144890212912095\n",
       " 11.818796142967246\n",
       " 10.666854506547292\n",
       " 10.062367679398305\n",
       " 12.784686302117901\n",
       "  9.543592032967025\n",
       "  ⋮\n",
       " 35.7308990489626\n",
       " 36.51960794413923\n",
       " 26.428929067784257\n",
       " 18.913049255210407\n",
       " 16.863302806091106\n",
       "  4.221288303765866\n",
       "  6.948160097272817\n",
       "  3.3505223372592856\n",
       "  9.220073416218261\n",
       "  3.427495421245371\n",
       " 12.033299969955593\n",
       " 22.566314102564032"
      ]
     },
     "execution_count": 28,
     "metadata": {},
     "output_type": "execute_result"
    }
   ],
   "source": [
    "avg_nuclear = sum(nuclear_profiles, dims=2) / T"
   ]
  },
  {
   "cell_type": "code",
   "execution_count": 29,
   "id": "13eff764-234e-4158-8de7-140effc1a338",
   "metadata": {},
   "outputs": [
    {
     "data": {
      "text/plain": [
       "8736-element Vector{Float64}:\n",
       " 881.9648751409237\n",
       " 881.7314571887553\n",
       " 881.2714462952173\n",
       " 881.7447030905244\n",
       " 881.6503497966312\n",
       " 884.6994189318873\n",
       " 893.6933152593614\n",
       " 894.6164691496289\n",
       " 895.1912581211678\n",
       " 895.7077659455551\n",
       " 896.8124050182465\n",
       " 896.0096340851055\n",
       " 896.5861009733926\n",
       "   ⋮\n",
       " 888.7747270743923\n",
       " 888.9280001324361\n",
       " 889.4097888424648\n",
       " 888.7765443288088\n",
       " 887.5665997127107\n",
       " 886.6996310914843\n",
       " 884.5294240239839\n",
       " 884.3841469805394\n",
       " 882.2464379503751\n",
       " 882.5014211344914\n",
       " 881.1820477773415\n",
       " 881.1772241894436"
      ]
     },
     "execution_count": 29,
     "metadata": {},
     "output_type": "execute_result"
    }
   ],
   "source": [
    "total_nuclear = sum(nuclear_profiles, dims=1)[1, :]"
   ]
  },
  {
   "cell_type": "markdown",
   "id": "276385d5-c85a-4181-8a79-b6a711e5e6dd",
   "metadata": {
    "jp-MarkdownHeadingCollapsed": true
   },
   "source": [
    "## Import loads (improper normalization)"
   ]
  },
  {
   "cell_type": "code",
   "execution_count": 30,
   "id": "c1e5412b-5452-478d-acd3-31776de33405",
   "metadata": {},
   "outputs": [
    {
     "data": {
      "text/html": [
       "<div><div style = \"float: left;\"><span>3998×8737 DataFrame</span></div><div style = \"float: right;\"><span style = \"font-style: italic;\">8637 columns and 3973 rows omitted</span></div><div style = \"clear: both;\"></div></div><div class = \"data-frame\" style = \"overflow-x: scroll;\"><table class = \"data-frame\" style = \"margin-bottom: 6px;\"><thead><tr class = \"header\"><th class = \"rowNumber\" style = \"font-weight: bold; text-align: right;\">Row</th><th style = \"text-align: left;\">id</th><th style = \"text-align: left;\">0</th><th style = \"text-align: left;\">1</th><th style = \"text-align: left;\">2</th><th style = \"text-align: left;\">3</th><th style = \"text-align: left;\">4</th><th style = \"text-align: left;\">5</th><th style = \"text-align: left;\">6</th><th style = \"text-align: left;\">7</th><th style = \"text-align: left;\">8</th><th style = \"text-align: left;\">9</th><th style = \"text-align: left;\">10</th><th style = \"text-align: left;\">11</th><th style = \"text-align: left;\">12</th><th style = \"text-align: left;\">13</th><th style = \"text-align: left;\">14</th><th style = \"text-align: left;\">15</th><th style = \"text-align: left;\">16</th><th style = \"text-align: left;\">17</th><th style = \"text-align: left;\">18</th><th style = \"text-align: left;\">19</th><th style = \"text-align: left;\">20</th><th style = \"text-align: left;\">21</th><th style = \"text-align: left;\">22</th><th style = \"text-align: left;\">23</th><th style = \"text-align: left;\">24</th><th style = \"text-align: left;\">25</th><th style = \"text-align: left;\">26</th><th style = \"text-align: left;\">27</th><th style = \"text-align: left;\">28</th><th style = \"text-align: left;\">29</th><th style = \"text-align: left;\">30</th><th style = \"text-align: left;\">31</th><th style = \"text-align: left;\">32</th><th style = \"text-align: left;\">33</th><th style = \"text-align: left;\">34</th><th style = \"text-align: left;\">35</th><th style = \"text-align: left;\">36</th><th style = \"text-align: left;\">37</th><th style = \"text-align: left;\">38</th><th style = \"text-align: left;\">39</th><th style = \"text-align: left;\">40</th><th style = \"text-align: left;\">41</th><th style = \"text-align: left;\">42</th><th style = \"text-align: left;\">43</th><th style = \"text-align: left;\">44</th><th style = \"text-align: left;\">45</th><th style = \"text-align: left;\">46</th><th style = \"text-align: left;\">47</th><th style = \"text-align: left;\">48</th><th style = \"text-align: left;\">49</th><th style = \"text-align: left;\">50</th><th style = \"text-align: left;\">51</th><th style = \"text-align: left;\">52</th><th style = \"text-align: left;\">53</th><th style = \"text-align: left;\">54</th><th style = \"text-align: left;\">55</th><th style = \"text-align: left;\">56</th><th style = \"text-align: left;\">57</th><th style = \"text-align: left;\">58</th><th style = \"text-align: left;\">59</th><th style = \"text-align: left;\">60</th><th style = \"text-align: left;\">61</th><th style = \"text-align: left;\">62</th><th style = \"text-align: left;\">63</th><th style = \"text-align: left;\">64</th><th style = \"text-align: left;\">65</th><th style = \"text-align: left;\">66</th><th style = \"text-align: left;\">67</th><th style = \"text-align: left;\">68</th><th style = \"text-align: left;\">69</th><th style = \"text-align: left;\">70</th><th style = \"text-align: left;\">71</th><th style = \"text-align: left;\">72</th><th style = \"text-align: left;\">73</th><th style = \"text-align: left;\">74</th><th style = \"text-align: left;\">75</th><th style = \"text-align: left;\">76</th><th style = \"text-align: left;\">77</th><th style = \"text-align: left;\">78</th><th style = \"text-align: left;\">79</th><th style = \"text-align: left;\">80</th><th style = \"text-align: left;\">81</th><th style = \"text-align: left;\">82</th><th style = \"text-align: left;\">83</th><th style = \"text-align: left;\">84</th><th style = \"text-align: left;\">85</th><th style = \"text-align: left;\">86</th><th style = \"text-align: left;\">87</th><th style = \"text-align: left;\">88</th><th style = \"text-align: left;\">89</th><th style = \"text-align: left;\">90</th><th style = \"text-align: left;\">91</th><th style = \"text-align: left;\">92</th><th style = \"text-align: left;\">93</th><th style = \"text-align: left;\">94</th><th style = \"text-align: left;\">95</th><th style = \"text-align: left;\">96</th><th style = \"text-align: left;\">97</th><th style = \"text-align: left;\">98</th><th style = \"text-align: right;\">&ctdot;</th></tr><tr class = \"subheader headerLastRow\"><th class = \"rowNumber\" style = \"font-weight: bold; text-align: right;\"></th><th title = \"Int64\" style = \"text-align: left;\">Int64</th><th title = \"Float64\" style = \"text-align: left;\">Float64</th><th title = \"Float64\" style = \"text-align: left;\">Float64</th><th title = \"Float64\" style = \"text-align: left;\">Float64</th><th title = \"Float64\" style = \"text-align: left;\">Float64</th><th title = \"Float64\" style = \"text-align: left;\">Float64</th><th title = \"Float64\" style = \"text-align: left;\">Float64</th><th title = \"Float64\" style = \"text-align: left;\">Float64</th><th title = \"Float64\" style = \"text-align: left;\">Float64</th><th title = \"Float64\" style = \"text-align: left;\">Float64</th><th title = \"Float64\" style = \"text-align: left;\">Float64</th><th title = \"Float64\" style = \"text-align: left;\">Float64</th><th title = \"Float64\" style = \"text-align: left;\">Float64</th><th title = \"Float64\" style = \"text-align: left;\">Float64</th><th title = \"Float64\" style = \"text-align: left;\">Float64</th><th title = \"Float64\" style = \"text-align: left;\">Float64</th><th title = \"Float64\" style = \"text-align: left;\">Float64</th><th title = \"Float64\" style = \"text-align: left;\">Float64</th><th title = \"Float64\" style = \"text-align: left;\">Float64</th><th title = \"Float64\" style = \"text-align: left;\">Float64</th><th title = \"Float64\" style = \"text-align: left;\">Float64</th><th title = \"Float64\" style = \"text-align: left;\">Float64</th><th title = \"Float64\" style = \"text-align: left;\">Float64</th><th title = \"Float64\" style = \"text-align: left;\">Float64</th><th title = \"Float64\" style = \"text-align: left;\">Float64</th><th title = \"Float64\" style = \"text-align: left;\">Float64</th><th title = \"Float64\" style = \"text-align: left;\">Float64</th><th title = \"Float64\" style = \"text-align: left;\">Float64</th><th title = \"Float64\" style = \"text-align: left;\">Float64</th><th title = \"Float64\" style = \"text-align: left;\">Float64</th><th title = \"Float64\" style = \"text-align: left;\">Float64</th><th title = \"Float64\" style = \"text-align: left;\">Float64</th><th title = \"Float64\" style = \"text-align: left;\">Float64</th><th title = \"Float64\" style = \"text-align: left;\">Float64</th><th title = \"Float64\" style = \"text-align: left;\">Float64</th><th title = \"Float64\" style = \"text-align: left;\">Float64</th><th title = \"Float64\" style = \"text-align: left;\">Float64</th><th title = \"Float64\" style = \"text-align: left;\">Float64</th><th title = \"Float64\" style = \"text-align: left;\">Float64</th><th title = \"Float64\" style = \"text-align: left;\">Float64</th><th title = \"Float64\" style = \"text-align: left;\">Float64</th><th title = \"Float64\" style = \"text-align: left;\">Float64</th><th title = \"Float64\" style = \"text-align: left;\">Float64</th><th title = \"Float64\" style = \"text-align: left;\">Float64</th><th title = \"Float64\" style = \"text-align: left;\">Float64</th><th title = \"Float64\" style = \"text-align: left;\">Float64</th><th title = \"Float64\" style = \"text-align: left;\">Float64</th><th title = \"Float64\" style = \"text-align: left;\">Float64</th><th title = \"Float64\" style = \"text-align: left;\">Float64</th><th title = \"Float64\" style = \"text-align: left;\">Float64</th><th title = \"Float64\" style = \"text-align: left;\">Float64</th><th title = \"Float64\" style = \"text-align: left;\">Float64</th><th title = \"Float64\" style = \"text-align: left;\">Float64</th><th title = \"Float64\" style = \"text-align: left;\">Float64</th><th title = \"Float64\" style = \"text-align: left;\">Float64</th><th title = \"Float64\" style = \"text-align: left;\">Float64</th><th title = \"Float64\" style = \"text-align: left;\">Float64</th><th title = \"Float64\" style = \"text-align: left;\">Float64</th><th title = \"Float64\" style = \"text-align: left;\">Float64</th><th title = \"Float64\" style = \"text-align: left;\">Float64</th><th title = \"Float64\" style = \"text-align: left;\">Float64</th><th title = \"Float64\" style = \"text-align: left;\">Float64</th><th title = \"Float64\" style = \"text-align: left;\">Float64</th><th title = \"Float64\" style = \"text-align: left;\">Float64</th><th title = \"Float64\" style = \"text-align: left;\">Float64</th><th title = \"Float64\" style = \"text-align: left;\">Float64</th><th title = \"Float64\" style = \"text-align: left;\">Float64</th><th title = \"Float64\" style = \"text-align: left;\">Float64</th><th title = \"Float64\" style = \"text-align: left;\">Float64</th><th title = \"Float64\" style = \"text-align: left;\">Float64</th><th title = \"Float64\" style = \"text-align: left;\">Float64</th><th title = \"Float64\" style = \"text-align: left;\">Float64</th><th title = \"Float64\" style = \"text-align: left;\">Float64</th><th title = \"Float64\" style = \"text-align: left;\">Float64</th><th title = \"Float64\" style = \"text-align: left;\">Float64</th><th title = \"Float64\" style = \"text-align: left;\">Float64</th><th title = \"Float64\" style = \"text-align: left;\">Float64</th><th title = \"Float64\" style = \"text-align: left;\">Float64</th><th title = \"Float64\" style = \"text-align: left;\">Float64</th><th title = \"Float64\" style = \"text-align: left;\">Float64</th><th title = \"Float64\" style = \"text-align: left;\">Float64</th><th title = \"Float64\" style = \"text-align: left;\">Float64</th><th title = \"Float64\" style = \"text-align: left;\">Float64</th><th title = \"Float64\" style = \"text-align: left;\">Float64</th><th title = \"Float64\" style = \"text-align: left;\">Float64</th><th title = \"Float64\" style = \"text-align: left;\">Float64</th><th title = \"Float64\" style = \"text-align: left;\">Float64</th><th title = \"Float64\" style = \"text-align: left;\">Float64</th><th title = \"Float64\" style = \"text-align: left;\">Float64</th><th title = \"Float64\" style = \"text-align: left;\">Float64</th><th title = \"Float64\" style = \"text-align: left;\">Float64</th><th title = \"Float64\" style = \"text-align: left;\">Float64</th><th title = \"Float64\" style = \"text-align: left;\">Float64</th><th title = \"Float64\" style = \"text-align: left;\">Float64</th><th title = \"Float64\" style = \"text-align: left;\">Float64</th><th title = \"Float64\" style = \"text-align: left;\">Float64</th><th title = \"Float64\" style = \"text-align: left;\">Float64</th><th title = \"Float64\" style = \"text-align: left;\">Float64</th><th title = \"Float64\" style = \"text-align: left;\">Float64</th><th title = \"Float64\" style = \"text-align: left;\">Float64</th><th title = \"Float64\" style = \"text-align: right;\">&ctdot;</th></tr></thead><tbody><tr><td class = \"rowNumber\" style = \"font-weight: bold; text-align: right;\">1</td><td style = \"text-align: right;\">1</td><td style = \"text-align: right;\">74.466</td><td style = \"text-align: right;\">73.2467</td><td style = \"text-align: right;\">73.6876</td><td style = \"text-align: right;\">74.7227</td><td style = \"text-align: right;\">76.3537</td><td style = \"text-align: right;\">79.9334</td><td style = \"text-align: right;\">86.243</td><td style = \"text-align: right;\">90.0782</td><td style = \"text-align: right;\">89.4635</td><td style = \"text-align: right;\">87.3512</td><td style = \"text-align: right;\">84.5539</td><td style = \"text-align: right;\">80.8787</td><td style = \"text-align: right;\">79.5474</td><td style = \"text-align: right;\">81.4733</td><td style = \"text-align: right;\">87.5302</td><td style = \"text-align: right;\">98.8</td><td style = \"text-align: right;\">104.983</td><td style = \"text-align: right;\">103.451</td><td style = \"text-align: right;\">101.351</td><td style = \"text-align: right;\">97.3431</td><td style = \"text-align: right;\">95.5547</td><td style = \"text-align: right;\">90.6984</td><td style = \"text-align: right;\">85.0155</td><td style = \"text-align: right;\">80.2348</td><td style = \"text-align: right;\">78.1799</td><td style = \"text-align: right;\">77.456</td><td style = \"text-align: right;\">78.2365</td><td style = \"text-align: right;\">81.6559</td><td style = \"text-align: right;\">89.8438</td><td style = \"text-align: right;\">99.8647</td><td style = \"text-align: right;\">109.342</td><td style = \"text-align: right;\">113.014</td><td style = \"text-align: right;\">110.815</td><td style = \"text-align: right;\">108.319</td><td style = \"text-align: right;\">104.736</td><td style = \"text-align: right;\">102.629</td><td style = \"text-align: right;\">101.516</td><td style = \"text-align: right;\">102.588</td><td style = \"text-align: right;\">106.338</td><td style = \"text-align: right;\">112.367</td><td style = \"text-align: right;\">116.75</td><td style = \"text-align: right;\">115.626</td><td style = \"text-align: right;\">110.542</td><td style = \"text-align: right;\">106.533</td><td style = \"text-align: right;\">102.838</td><td style = \"text-align: right;\">96.6151</td><td style = \"text-align: right;\">89.0083</td><td style = \"text-align: right;\">85.1835</td><td style = \"text-align: right;\">82.8143</td><td style = \"text-align: right;\">82.2428</td><td style = \"text-align: right;\">82.9679</td><td style = \"text-align: right;\">85.8486</td><td style = \"text-align: right;\">93.7005</td><td style = \"text-align: right;\">103.674</td><td style = \"text-align: right;\">111.34</td><td style = \"text-align: right;\">113.457</td><td style = \"text-align: right;\">111.886</td><td style = \"text-align: right;\">110.302</td><td style = \"text-align: right;\">108.647</td><td style = \"text-align: right;\">107.163</td><td style = \"text-align: right;\">105.635</td><td style = \"text-align: right;\">106.56</td><td style = \"text-align: right;\">108.75</td><td style = \"text-align: right;\">115.145</td><td style = \"text-align: right;\">120.13</td><td style = \"text-align: right;\">119.235</td><td style = \"text-align: right;\">114.852</td><td style = \"text-align: right;\">110.196</td><td style = \"text-align: right;\">106.218</td><td style = \"text-align: right;\">98.7066</td><td style = \"text-align: right;\">90.8857</td><td style = \"text-align: right;\">86.7596</td><td style = \"text-align: right;\">84.0138</td><td style = \"text-align: right;\">83.4976</td><td style = \"text-align: right;\">84.5734</td><td style = \"text-align: right;\">87.0618</td><td style = \"text-align: right;\">95.1262</td><td style = \"text-align: right;\">104.57</td><td style = \"text-align: right;\">113.014</td><td style = \"text-align: right;\">115.734</td><td style = \"text-align: right;\">113.636</td><td style = \"text-align: right;\">110.212</td><td style = \"text-align: right;\">107.312</td><td style = \"text-align: right;\">106.752</td><td style = \"text-align: right;\">106.218</td><td style = \"text-align: right;\">107.359</td><td style = \"text-align: right;\">109.796</td><td style = \"text-align: right;\">115.381</td><td style = \"text-align: right;\">120.178</td><td style = \"text-align: right;\">119.751</td><td style = \"text-align: right;\">115.213</td><td style = \"text-align: right;\">110.762</td><td style = \"text-align: right;\">107.621</td><td style = \"text-align: right;\">100.0</td><td style = \"text-align: right;\">89.1133</td><td style = \"text-align: right;\">83.73</td><td style = \"text-align: right;\">81.3491</td><td style = \"text-align: right;\">79.5543</td><td style = \"text-align: right;\">79.1287</td><td style = \"text-align: right;\">&ctdot;</td></tr><tr><td class = \"rowNumber\" style = \"font-weight: bold; text-align: right;\">2</td><td style = \"text-align: right;\">2</td><td style = \"text-align: right;\">54.645</td><td style = \"text-align: right;\">54.7817</td><td style = \"text-align: right;\">54.9209</td><td style = \"text-align: right;\">56.6581</td><td style = \"text-align: right;\">59.2274</td><td style = \"text-align: right;\">64.6843</td><td style = \"text-align: right;\">72.4964</td><td style = \"text-align: right;\">77.7379</td><td style = \"text-align: right;\">78.2035</td><td style = \"text-align: right;\">76.1352</td><td style = \"text-align: right;\">74.4424</td><td style = \"text-align: right;\">72.4959</td><td style = \"text-align: right;\">70.8587</td><td style = \"text-align: right;\">71.2878</td><td style = \"text-align: right;\">75.1507</td><td style = \"text-align: right;\">81.5875</td><td style = \"text-align: right;\">84.6431</td><td style = \"text-align: right;\">82.6045</td><td style = \"text-align: right;\">79.9415</td><td style = \"text-align: right;\">76.0832</td><td style = \"text-align: right;\">72.3888</td><td style = \"text-align: right;\">67.3357</td><td style = \"text-align: right;\">63.1382</td><td style = \"text-align: right;\">60.4706</td><td style = \"text-align: right;\">59.0847</td><td style = \"text-align: right;\">58.3427</td><td style = \"text-align: right;\">59.1942</td><td style = \"text-align: right;\">61.7204</td><td style = \"text-align: right;\">67.9997</td><td style = \"text-align: right;\">76.2182</td><td style = \"text-align: right;\">83.7657</td><td style = \"text-align: right;\">86.6259</td><td style = \"text-align: right;\">83.359</td><td style = \"text-align: right;\">79.8395</td><td style = \"text-align: right;\">76.513</td><td style = \"text-align: right;\">74.4467</td><td style = \"text-align: right;\">72.6973</td><td style = \"text-align: right;\">72.7282</td><td style = \"text-align: right;\">75.0969</td><td style = \"text-align: right;\">80.8904</td><td style = \"text-align: right;\">85.59</td><td style = \"text-align: right;\">84.9328</td><td style = \"text-align: right;\">81.7895</td><td style = \"text-align: right;\">77.7412</td><td style = \"text-align: right;\">73.7495</td><td style = \"text-align: right;\">68.3725</td><td style = \"text-align: right;\">64.1545</td><td style = \"text-align: right;\">61.398</td><td style = \"text-align: right;\">59.2796</td><td style = \"text-align: right;\">58.9786</td><td style = \"text-align: right;\">59.3936</td><td style = \"text-align: right;\">61.718</td><td style = \"text-align: right;\">68.0697</td><td style = \"text-align: right;\">75.3056</td><td style = \"text-align: right;\">82.7403</td><td style = \"text-align: right;\">85.6074</td><td style = \"text-align: right;\">83.6524</td><td style = \"text-align: right;\">82.3887</td><td style = \"text-align: right;\">80.2519</td><td style = \"text-align: right;\">78.6115</td><td style = \"text-align: right;\">77.691</td><td style = \"text-align: right;\">77.9603</td><td style = \"text-align: right;\">79.3298</td><td style = \"text-align: right;\">83.3686</td><td style = \"text-align: right;\">85.3793</td><td style = \"text-align: right;\">83.4385</td><td style = \"text-align: right;\">79.7306</td><td style = \"text-align: right;\">75.3251</td><td style = \"text-align: right;\">72.4849</td><td style = \"text-align: right;\">66.9388</td><td style = \"text-align: right;\">61.8145</td><td style = \"text-align: right;\">58.195</td><td style = \"text-align: right;\">56.6854</td><td style = \"text-align: right;\">55.9693</td><td style = \"text-align: right;\">56.2934</td><td style = \"text-align: right;\">58.6665</td><td style = \"text-align: right;\">63.6301</td><td style = \"text-align: right;\">70.8857</td><td style = \"text-align: right;\">77.2995</td><td style = \"text-align: right;\">79.8957</td><td style = \"text-align: right;\">77.5864</td><td style = \"text-align: right;\">75.8236</td><td style = \"text-align: right;\">74.2967</td><td style = \"text-align: right;\">73.8429</td><td style = \"text-align: right;\">74.1792</td><td style = \"text-align: right;\">75.0823</td><td style = \"text-align: right;\">76.4879</td><td style = \"text-align: right;\">80.51</td><td style = \"text-align: right;\">83.1111</td><td style = \"text-align: right;\">80.4617</td><td style = \"text-align: right;\">76.3632</td><td style = \"text-align: right;\">72.5492</td><td style = \"text-align: right;\">70.6721</td><td style = \"text-align: right;\">66.7525</td><td style = \"text-align: right;\">58.9432</td><td style = \"text-align: right;\">55.1585</td><td style = \"text-align: right;\">53.6654</td><td style = \"text-align: right;\">51.9167</td><td style = \"text-align: right;\">52.1529</td><td style = \"text-align: right;\">&ctdot;</td></tr><tr><td class = \"rowNumber\" style = \"font-weight: bold; text-align: right;\">3</td><td style = \"text-align: right;\">3</td><td style = \"text-align: right;\">35.4111</td><td style = \"text-align: right;\">35.0507</td><td style = \"text-align: right;\">35.6161</td><td style = \"text-align: right;\">36.7346</td><td style = \"text-align: right;\">38.4769</td><td style = \"text-align: right;\">41.3568</td><td style = \"text-align: right;\">46.524</td><td style = \"text-align: right;\">50.3135</td><td style = \"text-align: right;\">50.59</td><td style = \"text-align: right;\">49.4542</td><td style = \"text-align: right;\">47.6137</td><td style = \"text-align: right;\">46.4347</td><td style = \"text-align: right;\">45.8693</td><td style = \"text-align: right;\">45.9344</td><td style = \"text-align: right;\">48.5419</td><td style = \"text-align: right;\">53.1658</td><td style = \"text-align: right;\">54.8629</td><td style = \"text-align: right;\">54.6051</td><td style = \"text-align: right;\">52.8572</td><td style = \"text-align: right;\">50.0925</td><td style = \"text-align: right;\">47.7721</td><td style = \"text-align: right;\">44.4225</td><td style = \"text-align: right;\">40.8401</td><td style = \"text-align: right;\">38.111</td><td style = \"text-align: right;\">37.3218</td><td style = \"text-align: right;\">37.1372</td><td style = \"text-align: right;\">37.6341</td><td style = \"text-align: right;\">39.5951</td><td style = \"text-align: right;\">44.8317</td><td style = \"text-align: right;\">50.4485</td><td style = \"text-align: right;\">54.9531</td><td style = \"text-align: right;\">56.6759</td><td style = \"text-align: right;\">54.6138</td><td style = \"text-align: right;\">52.7026</td><td style = \"text-align: right;\">50.4168</td><td style = \"text-align: right;\">49.3233</td><td style = \"text-align: right;\">48.6305</td><td style = \"text-align: right;\">48.9601</td><td style = \"text-align: right;\">50.5719</td><td style = \"text-align: right;\">54.5567</td><td style = \"text-align: right;\">57.4136</td><td style = \"text-align: right;\">57.0236</td><td style = \"text-align: right;\">55.4772</td><td style = \"text-align: right;\">53.034</td><td style = \"text-align: right;\">50.6501</td><td style = \"text-align: right;\">46.8288</td><td style = \"text-align: right;\">43.7725</td><td style = \"text-align: right;\">41.8449</td><td style = \"text-align: right;\">40.9422</td><td style = \"text-align: right;\">40.5072</td><td style = \"text-align: right;\">41.0885</td><td style = \"text-align: right;\">42.5775</td><td style = \"text-align: right;\">47.215</td><td style = \"text-align: right;\">52.424</td><td style = \"text-align: right;\">56.317</td><td style = \"text-align: right;\">57.0835</td><td style = \"text-align: right;\">54.6675</td><td style = \"text-align: right;\">52.8913</td><td style = \"text-align: right;\">50.4698</td><td style = \"text-align: right;\">49.1895</td><td style = \"text-align: right;\">48.3186</td><td style = \"text-align: right;\">48.58</td><td style = \"text-align: right;\">50.6875</td><td style = \"text-align: right;\">54.6642</td><td style = \"text-align: right;\">57.7225</td><td style = \"text-align: right;\">57.2891</td><td style = \"text-align: right;\">55.2437</td><td style = \"text-align: right;\">52.7472</td><td style = \"text-align: right;\">51.0863</td><td style = \"text-align: right;\">47.592</td><td style = \"text-align: right;\">44.1192</td><td style = \"text-align: right;\">41.5723</td><td style = \"text-align: right;\">40.4099</td><td style = \"text-align: right;\">40.0426</td><td style = \"text-align: right;\">40.783</td><td style = \"text-align: right;\">42.2544</td><td style = \"text-align: right;\">46.49</td><td style = \"text-align: right;\">51.1566</td><td style = \"text-align: right;\">54.7616</td><td style = \"text-align: right;\">55.4441</td><td style = \"text-align: right;\">53.4755</td><td style = \"text-align: right;\">51.5137</td><td style = \"text-align: right;\">49.355</td><td style = \"text-align: right;\">48.8399</td><td style = \"text-align: right;\">48.0579</td><td style = \"text-align: right;\">48.1109</td><td style = \"text-align: right;\">49.7224</td><td style = \"text-align: right;\">53.7141</td><td style = \"text-align: right;\">56.7219</td><td style = \"text-align: right;\">56.1972</td><td style = \"text-align: right;\">54.5494</td><td style = \"text-align: right;\">52.0917</td><td style = \"text-align: right;\">50.9583</td><td style = \"text-align: right;\">48.1334</td><td style = \"text-align: right;\">43.232</td><td style = \"text-align: right;\">41.4397</td><td style = \"text-align: right;\">40.4154</td><td style = \"text-align: right;\">39.7576</td><td style = \"text-align: right;\">39.9161</td><td style = \"text-align: right;\">&ctdot;</td></tr><tr><td class = \"rowNumber\" style = \"font-weight: bold; text-align: right;\">4</td><td style = \"text-align: right;\">4</td><td style = \"text-align: right;\">38.4188</td><td style = \"text-align: right;\">37.6099</td><td style = \"text-align: right;\">37.2637</td><td style = \"text-align: right;\">37.5414</td><td style = \"text-align: right;\">38.7814</td><td style = \"text-align: right;\">40.541</td><td style = \"text-align: right;\">42.2854</td><td style = \"text-align: right;\">43.7605</td><td style = \"text-align: right;\">44.0413</td><td style = \"text-align: right;\">43.5307</td><td style = \"text-align: right;\">42.6414</td><td style = \"text-align: right;\">41.4128</td><td style = \"text-align: right;\">40.9331</td><td style = \"text-align: right;\">41.7179</td><td style = \"text-align: right;\">43.8195</td><td style = \"text-align: right;\">48.3468</td><td style = \"text-align: right;\">51.3518</td><td style = \"text-align: right;\">50.4975</td><td style = \"text-align: right;\">49.1747</td><td style = \"text-align: right;\">47.5959</td><td style = \"text-align: right;\">47.516</td><td style = \"text-align: right;\">45.4377</td><td style = \"text-align: right;\">42.9135</td><td style = \"text-align: right;\">40.6298</td><td style = \"text-align: right;\">39.3943</td><td style = \"text-align: right;\">38.8876</td><td style = \"text-align: right;\">39.0578</td><td style = \"text-align: right;\">40.2662</td><td style = \"text-align: right;\">43.2577</td><td style = \"text-align: right;\">47.0271</td><td style = \"text-align: right;\">50.8863</td><td style = \"text-align: right;\">52.9611</td><td style = \"text-align: right;\">53.1581</td><td style = \"text-align: right;\">52.5832</td><td style = \"text-align: right;\">51.3432</td><td style = \"text-align: right;\">50.4409</td><td style = \"text-align: right;\">50.2673</td><td style = \"text-align: right;\">50.6917</td><td style = \"text-align: right;\">51.9866</td><td style = \"text-align: right;\">54.2505</td><td style = \"text-align: right;\">55.9356</td><td style = \"text-align: right;\">55.6472</td><td style = \"text-align: right;\">53.1985</td><td style = \"text-align: right;\">51.1998</td><td style = \"text-align: right;\">49.7129</td><td style = \"text-align: right;\">47.4869</td><td style = \"text-align: right;\">42.9286</td><td style = \"text-align: right;\">40.6127</td><td style = \"text-align: right;\">39.0819</td><td style = \"text-align: right;\">38.8532</td><td style = \"text-align: right;\">39.0169</td><td style = \"text-align: right;\">40.2036</td><td style = \"text-align: right;\">43.3335</td><td style = \"text-align: right;\">47.4004</td><td style = \"text-align: right;\">50.4927</td><td style = \"text-align: right;\">52.4912</td><td style = \"text-align: right;\">53.0174</td><td style = \"text-align: right;\">53.0921</td><td style = \"text-align: right;\">53.1291</td><td style = \"text-align: right;\">53.0682</td><td style = \"text-align: right;\">52.9277</td><td style = \"text-align: right;\">53.2522</td><td style = \"text-align: right;\">53.4085</td><td style = \"text-align: right;\">55.2192</td><td style = \"text-align: right;\">56.4347</td><td style = \"text-align: right;\">55.8334</td><td style = \"text-align: right;\">53.7764</td><td style = \"text-align: right;\">51.6408</td><td style = \"text-align: right;\">50.086</td><td style = \"text-align: right;\">46.9005</td><td style = \"text-align: right;\">43.0924</td><td style = \"text-align: right;\">41.0466</td><td style = \"text-align: right;\">39.6106</td><td style = \"text-align: right;\">39.259</td><td style = \"text-align: right;\">39.2168</td><td style = \"text-align: right;\">40.0663</td><td style = \"text-align: right;\">43.3642</td><td style = \"text-align: right;\">47.3324</td><td style = \"text-align: right;\">51.1149</td><td style = \"text-align: right;\">53.6982</td><td style = \"text-align: right;\">54.2153</td><td style = \"text-align: right;\">54.3641</td><td style = \"text-align: right;\">54.0856</td><td style = \"text-align: right;\">54.1554</td><td style = \"text-align: right;\">54.2751</td><td style = \"text-align: right;\">55.0445</td><td style = \"text-align: right;\">55.2927</td><td style = \"text-align: right;\">56.2644</td><td style = \"text-align: right;\">57.4003</td><td style = \"text-align: right;\">57.1017</td><td style = \"text-align: right;\">54.5215</td><td style = \"text-align: right;\">52.4981</td><td style = \"text-align: right;\">50.831</td><td style = \"text-align: right;\">47.3413</td><td style = \"text-align: right;\">43.4841</td><td style = \"text-align: right;\">40.4356</td><td style = \"text-align: right;\">39.3333</td><td style = \"text-align: right;\">38.574</td><td style = \"text-align: right;\">38.354</td><td style = \"text-align: right;\">&ctdot;</td></tr><tr><td class = \"rowNumber\" style = \"font-weight: bold; text-align: right;\">5</td><td style = \"text-align: right;\">5</td><td style = \"text-align: right;\">108.463</td><td style = \"text-align: right;\">105.278</td><td style = \"text-align: right;\">103.875</td><td style = \"text-align: right;\">105.879</td><td style = \"text-align: right;\">116.432</td><td style = \"text-align: right;\">131.756</td><td style = \"text-align: right;\">147.466</td><td style = \"text-align: right;\">162.553</td><td style = \"text-align: right;\">168.772</td><td style = \"text-align: right;\">169.477</td><td style = \"text-align: right;\">167.592</td><td style = \"text-align: right;\">168.125</td><td style = \"text-align: right;\">164.345</td><td style = \"text-align: right;\">166.562</td><td style = \"text-align: right;\">167.035</td><td style = \"text-align: right;\">172.92</td><td style = \"text-align: right;\">182.595</td><td style = \"text-align: right;\">182.743</td><td style = \"text-align: right;\">179.042</td><td style = \"text-align: right;\">168.792</td><td style = \"text-align: right;\">154.163</td><td style = \"text-align: right;\">143.307</td><td style = \"text-align: right;\">131.586</td><td style = \"text-align: right;\">120.116</td><td style = \"text-align: right;\">117.75</td><td style = \"text-align: right;\">114.394</td><td style = \"text-align: right;\">112.123</td><td style = \"text-align: right;\">113.297</td><td style = \"text-align: right;\">121.442</td><td style = \"text-align: right;\">132.403</td><td style = \"text-align: right;\">143.815</td><td style = \"text-align: right;\">155.941</td><td style = \"text-align: right;\">159.448</td><td style = \"text-align: right;\">161.404</td><td style = \"text-align: right;\">162.595</td><td style = \"text-align: right;\">161.109</td><td style = \"text-align: right;\">154.456</td><td style = \"text-align: right;\">155.188</td><td style = \"text-align: right;\">154.664</td><td style = \"text-align: right;\">163.376</td><td style = \"text-align: right;\">177.51</td><td style = \"text-align: right;\">178.286</td><td style = \"text-align: right;\">176.011</td><td style = \"text-align: right;\">166.426</td><td style = \"text-align: right;\">152.809</td><td style = \"text-align: right;\">142.921</td><td style = \"text-align: right;\">130.92</td><td style = \"text-align: right;\">119.729</td><td style = \"text-align: right;\">117.52</td><td style = \"text-align: right;\">112.66</td><td style = \"text-align: right;\">110.045</td><td style = \"text-align: right;\">111.232</td><td style = \"text-align: right;\">115.781</td><td style = \"text-align: right;\">122.331</td><td style = \"text-align: right;\">131.571</td><td style = \"text-align: right;\">142.762</td><td style = \"text-align: right;\">149.597</td><td style = \"text-align: right;\">155.484</td><td style = \"text-align: right;\">158.691</td><td style = \"text-align: right;\">155.687</td><td style = \"text-align: right;\">144.897</td><td style = \"text-align: right;\">144.269</td><td style = \"text-align: right;\">143.09</td><td style = \"text-align: right;\">151.329</td><td style = \"text-align: right;\">163.741</td><td style = \"text-align: right;\">164.556</td><td style = \"text-align: right;\">163.274</td><td style = \"text-align: right;\">155.14</td><td style = \"text-align: right;\">144.193</td><td style = \"text-align: right;\">135.435</td><td style = \"text-align: right;\">123.886</td><td style = \"text-align: right;\">113.036</td><td style = \"text-align: right;\">111.443</td><td style = \"text-align: right;\">107.069</td><td style = \"text-align: right;\">104.802</td><td style = \"text-align: right;\">106.945</td><td style = \"text-align: right;\">114.488</td><td style = \"text-align: right;\">126.584</td><td style = \"text-align: right;\">139.575</td><td style = \"text-align: right;\">150.826</td><td style = \"text-align: right;\">155.617</td><td style = \"text-align: right;\">157.277</td><td style = \"text-align: right;\">158.476</td><td style = \"text-align: right;\">158.808</td><td style = \"text-align: right;\">151.561</td><td style = \"text-align: right;\">153.452</td><td style = \"text-align: right;\">153.874</td><td style = \"text-align: right;\">161.649</td><td style = \"text-align: right;\">175.608</td><td style = \"text-align: right;\">175.688</td><td style = \"text-align: right;\">172.852</td><td style = \"text-align: right;\">162.217</td><td style = \"text-align: right;\">149.489</td><td style = \"text-align: right;\">138.631</td><td style = \"text-align: right;\">126.801</td><td style = \"text-align: right;\">115.957</td><td style = \"text-align: right;\">113.953</td><td style = \"text-align: right;\">109.306</td><td style = \"text-align: right;\">106.676</td><td style = \"text-align: right;\">&ctdot;</td></tr><tr><td class = \"rowNumber\" style = \"font-weight: bold; text-align: right;\">6</td><td style = \"text-align: right;\">6</td><td style = \"text-align: right;\">74.2567</td><td style = \"text-align: right;\">72.2593</td><td style = \"text-align: right;\">72.1686</td><td style = \"text-align: right;\">74.5168</td><td style = \"text-align: right;\">79.427</td><td style = \"text-align: right;\">88.8167</td><td style = \"text-align: right;\">98.5726</td><td style = \"text-align: right;\">107.244</td><td style = \"text-align: right;\">111.424</td><td style = \"text-align: right;\">115.188</td><td style = \"text-align: right;\">119.487</td><td style = \"text-align: right;\">120.454</td><td style = \"text-align: right;\">117.809</td><td style = \"text-align: right;\">117.736</td><td style = \"text-align: right;\">116.868</td><td style = \"text-align: right;\">120.423</td><td style = \"text-align: right;\">127.354</td><td style = \"text-align: right;\">126.714</td><td style = \"text-align: right;\">124.991</td><td style = \"text-align: right;\">119.271</td><td style = \"text-align: right;\">111.966</td><td style = \"text-align: right;\">103.343</td><td style = \"text-align: right;\">90.467</td><td style = \"text-align: right;\">83.5512</td><td style = \"text-align: right;\">81.8938</td><td style = \"text-align: right;\">79.4292</td><td style = \"text-align: right;\">78.6552</td><td style = \"text-align: right;\">81.324</td><td style = \"text-align: right;\">92.76</td><td style = \"text-align: right;\">111.063</td><td style = \"text-align: right;\">129.042</td><td style = \"text-align: right;\">143.46</td><td style = \"text-align: right;\">147.815</td><td style = \"text-align: right;\">145.953</td><td style = \"text-align: right;\">144.253</td><td style = \"text-align: right;\">142.723</td><td style = \"text-align: right;\">138.55</td><td style = \"text-align: right;\">137.887</td><td style = \"text-align: right;\">136.919</td><td style = \"text-align: right;\">140.282</td><td style = \"text-align: right;\">147.404</td><td style = \"text-align: right;\">147.198</td><td style = \"text-align: right;\">143.642</td><td style = \"text-align: right;\">131.331</td><td style = \"text-align: right;\">120.362</td><td style = \"text-align: right;\">108.492</td><td style = \"text-align: right;\">94.6483</td><td style = \"text-align: right;\">87.0984</td><td style = \"text-align: right;\">85.1228</td><td style = \"text-align: right;\">82.4813</td><td style = \"text-align: right;\">82.107</td><td style = \"text-align: right;\">84.4795</td><td style = \"text-align: right;\">93.8562</td><td style = \"text-align: right;\">110.048</td><td style = \"text-align: right;\">118.621</td><td style = \"text-align: right;\">126.52</td><td style = \"text-align: right;\">126.66</td><td style = \"text-align: right;\">126.688</td><td style = \"text-align: right;\">125.573</td><td style = \"text-align: right;\">124.48</td><td style = \"text-align: right;\">121.651</td><td style = \"text-align: right;\">123.268</td><td style = \"text-align: right;\">121.035</td><td style = \"text-align: right;\">120.714</td><td style = \"text-align: right;\">125.824</td><td style = \"text-align: right;\">126.532</td><td style = \"text-align: right;\">124.724</td><td style = \"text-align: right;\">116.857</td><td style = \"text-align: right;\">106.844</td><td style = \"text-align: right;\">98.6192</td><td style = \"text-align: right;\">86.0624</td><td style = \"text-align: right;\">78.7678</td><td style = \"text-align: right;\">77.9629</td><td style = \"text-align: right;\">76.1973</td><td style = \"text-align: right;\">75.7561</td><td style = \"text-align: right;\">78.5448</td><td style = \"text-align: right;\">88.0541</td><td style = \"text-align: right;\">104.822</td><td style = \"text-align: right;\">111.812</td><td style = \"text-align: right;\">119.104</td><td style = \"text-align: right;\">115.837</td><td style = \"text-align: right;\">113.11</td><td style = \"text-align: right;\">110.706</td><td style = \"text-align: right;\">107.152</td><td style = \"text-align: right;\">106.261</td><td style = \"text-align: right;\">108.588</td><td style = \"text-align: right;\">109.935</td><td style = \"text-align: right;\">115.763</td><td style = \"text-align: right;\">123.57</td><td style = \"text-align: right;\">124.244</td><td style = \"text-align: right;\">123.254</td><td style = \"text-align: right;\">115.888</td><td style = \"text-align: right;\">106.46</td><td style = \"text-align: right;\">98.8299</td><td style = \"text-align: right;\">87.4621</td><td style = \"text-align: right;\">79.6105</td><td style = \"text-align: right;\">78.3286</td><td style = \"text-align: right;\">76.3033</td><td style = \"text-align: right;\">74.537</td><td style = \"text-align: right;\">&ctdot;</td></tr><tr><td class = \"rowNumber\" style = \"font-weight: bold; text-align: right;\">7</td><td style = \"text-align: right;\">7</td><td style = \"text-align: right;\">150.559</td><td style = \"text-align: right;\">144.043</td><td style = \"text-align: right;\">140.039</td><td style = \"text-align: right;\">141.288</td><td style = \"text-align: right;\">149.581</td><td style = \"text-align: right;\">163.961</td><td style = \"text-align: right;\">180.283</td><td style = \"text-align: right;\">201.782</td><td style = \"text-align: right;\">215.083</td><td style = \"text-align: right;\">224.594</td><td style = \"text-align: right;\">231.958</td><td style = \"text-align: right;\">230.095</td><td style = \"text-align: right;\">221.023</td><td style = \"text-align: right;\">221.457</td><td style = \"text-align: right;\">222.381</td><td style = \"text-align: right;\">228.546</td><td style = \"text-align: right;\">244.148</td><td style = \"text-align: right;\">244.317</td><td style = \"text-align: right;\">243.634</td><td style = \"text-align: right;\">230.578</td><td style = \"text-align: right;\">215.81</td><td style = \"text-align: right;\">200.759</td><td style = \"text-align: right;\">183.15</td><td style = \"text-align: right;\">164.571</td><td style = \"text-align: right;\">162.375</td><td style = \"text-align: right;\">154.748</td><td style = \"text-align: right;\">149.411</td><td style = \"text-align: right;\">151.14</td><td style = \"text-align: right;\">159.366</td><td style = \"text-align: right;\">176.248</td><td style = \"text-align: right;\">193.999</td><td style = \"text-align: right;\">212.971</td><td style = \"text-align: right;\">226.895</td><td style = \"text-align: right;\">238.558</td><td style = \"text-align: right;\">247.004</td><td style = \"text-align: right;\">244.777</td><td style = \"text-align: right;\">229.341</td><td style = \"text-align: right;\">230.03</td><td style = \"text-align: right;\">230.457</td><td style = \"text-align: right;\">234.771</td><td style = \"text-align: right;\">250.14</td><td style = \"text-align: right;\">251.568</td><td style = \"text-align: right;\">250.097</td><td style = \"text-align: right;\">236.404</td><td style = \"text-align: right;\">222.361</td><td style = \"text-align: right;\">207.216</td><td style = \"text-align: right;\">181.202</td><td style = \"text-align: right;\">168.166</td><td style = \"text-align: right;\">168.072</td><td style = \"text-align: right;\">162.698</td><td style = \"text-align: right;\">159.559</td><td style = \"text-align: right;\">162.525</td><td style = \"text-align: right;\">181.1</td><td style = \"text-align: right;\">215.679</td><td style = \"text-align: right;\">237.517</td><td style = \"text-align: right;\">258.596</td><td style = \"text-align: right;\">262.393</td><td style = \"text-align: right;\">261.076</td><td style = \"text-align: right;\">258.106</td><td style = \"text-align: right;\">259.689</td><td style = \"text-align: right;\">257.258</td><td style = \"text-align: right;\">261.895</td><td style = \"text-align: right;\">260.297</td><td style = \"text-align: right;\">264.672</td><td style = \"text-align: right;\">281.644</td><td style = \"text-align: right;\">282.496</td><td style = \"text-align: right;\">278.919</td><td style = \"text-align: right;\">257.722</td><td style = \"text-align: right;\">233.523</td><td style = \"text-align: right;\">217.792</td><td style = \"text-align: right;\">192.072</td><td style = \"text-align: right;\">174.319</td><td style = \"text-align: right;\">173.035</td><td style = \"text-align: right;\">169.868</td><td style = \"text-align: right;\">166.794</td><td style = \"text-align: right;\">168.617</td><td style = \"text-align: right;\">185.454</td><td style = \"text-align: right;\">218.415</td><td style = \"text-align: right;\">230.47</td><td style = \"text-align: right;\">250.178</td><td style = \"text-align: right;\">255.392</td><td style = \"text-align: right;\">255.087</td><td style = \"text-align: right;\">249.917</td><td style = \"text-align: right;\">249.056</td><td style = \"text-align: right;\">241.13</td><td style = \"text-align: right;\">244.751</td><td style = \"text-align: right;\">247.713</td><td style = \"text-align: right;\">258.178</td><td style = \"text-align: right;\">278.579</td><td style = \"text-align: right;\">281.794</td><td style = \"text-align: right;\">279.136</td><td style = \"text-align: right;\">259.063</td><td style = \"text-align: right;\">235.161</td><td style = \"text-align: right;\">217.19</td><td style = \"text-align: right;\">191.946</td><td style = \"text-align: right;\">177.156</td><td style = \"text-align: right;\">174.914</td><td style = \"text-align: right;\">169.145</td><td style = \"text-align: right;\">166.71</td><td style = \"text-align: right;\">&ctdot;</td></tr><tr><td class = \"rowNumber\" style = \"font-weight: bold; text-align: right;\">8</td><td style = \"text-align: right;\">8</td><td style = \"text-align: right;\">100.891</td><td style = \"text-align: right;\">98.29</td><td style = \"text-align: right;\">96.0034</td><td style = \"text-align: right;\">97.8273</td><td style = \"text-align: right;\">107.19</td><td style = \"text-align: right;\">119.909</td><td style = \"text-align: right;\">133.02</td><td style = \"text-align: right;\">146.215</td><td style = \"text-align: right;\">153.255</td><td style = \"text-align: right;\">154.823</td><td style = \"text-align: right;\">153.807</td><td style = \"text-align: right;\">153.936</td><td style = \"text-align: right;\">148.783</td><td style = \"text-align: right;\">149.066</td><td style = \"text-align: right;\">148.51</td><td style = \"text-align: right;\">153.151</td><td style = \"text-align: right;\">163.194</td><td style = \"text-align: right;\">164.378</td><td style = \"text-align: right;\">161.285</td><td style = \"text-align: right;\">153.536</td><td style = \"text-align: right;\">139.586</td><td style = \"text-align: right;\">131.463</td><td style = \"text-align: right;\">122.293</td><td style = \"text-align: right;\">111.361</td><td style = \"text-align: right;\">108.838</td><td style = \"text-align: right;\">105.971</td><td style = \"text-align: right;\">104.482</td><td style = \"text-align: right;\">106.139</td><td style = \"text-align: right;\">114.68</td><td style = \"text-align: right;\">124.142</td><td style = \"text-align: right;\">133.96</td><td style = \"text-align: right;\">143.729</td><td style = \"text-align: right;\">146.051</td><td style = \"text-align: right;\">146.963</td><td style = \"text-align: right;\">146.956</td><td style = \"text-align: right;\">145.426</td><td style = \"text-align: right;\">140.006</td><td style = \"text-align: right;\">140.279</td><td style = \"text-align: right;\">139.222</td><td style = \"text-align: right;\">149.348</td><td style = \"text-align: right;\">163.496</td><td style = \"text-align: right;\">164.754</td><td style = \"text-align: right;\">162.497</td><td style = \"text-align: right;\">155.897</td><td style = \"text-align: right;\">142.715</td><td style = \"text-align: right;\">135.146</td><td style = \"text-align: right;\">125.67</td><td style = \"text-align: right;\">113.374</td><td style = \"text-align: right;\">110.975</td><td style = \"text-align: right;\">106.562</td><td style = \"text-align: right;\">103.823</td><td style = \"text-align: right;\">105.137</td><td style = \"text-align: right;\">108.956</td><td style = \"text-align: right;\">113.54</td><td style = \"text-align: right;\">123.222</td><td style = \"text-align: right;\">135.5</td><td style = \"text-align: right;\">144.213</td><td style = \"text-align: right;\">149.966</td><td style = \"text-align: right;\">152.795</td><td style = \"text-align: right;\">148.387</td><td style = \"text-align: right;\">136.05</td><td style = \"text-align: right;\">133.361</td><td style = \"text-align: right;\">132.038</td><td style = \"text-align: right;\">141.311</td><td style = \"text-align: right;\">155.179</td><td style = \"text-align: right;\">156.466</td><td style = \"text-align: right;\">154.569</td><td style = \"text-align: right;\">148.863</td><td style = \"text-align: right;\">138.365</td><td style = \"text-align: right;\">130.129</td><td style = \"text-align: right;\">120.023</td><td style = \"text-align: right;\">108.903</td><td style = \"text-align: right;\">106.807</td><td style = \"text-align: right;\">102.665</td><td style = \"text-align: right;\">100.305</td><td style = \"text-align: right;\">102.368</td><td style = \"text-align: right;\">109.401</td><td style = \"text-align: right;\">118.597</td><td style = \"text-align: right;\">132.512</td><td style = \"text-align: right;\">143.009</td><td style = \"text-align: right;\">149.853</td><td style = \"text-align: right;\">153.199</td><td style = \"text-align: right;\">156.233</td><td style = \"text-align: right;\">156.368</td><td style = \"text-align: right;\">149.02</td><td style = \"text-align: right;\">149.03</td><td style = \"text-align: right;\">147.33</td><td style = \"text-align: right;\">152.472</td><td style = \"text-align: right;\">163.557</td><td style = \"text-align: right;\">162.902</td><td style = \"text-align: right;\">159.432</td><td style = \"text-align: right;\">151.213</td><td style = \"text-align: right;\">139.839</td><td style = \"text-align: right;\">130.952</td><td style = \"text-align: right;\">120.825</td><td style = \"text-align: right;\">110.284</td><td style = \"text-align: right;\">107.935</td><td style = \"text-align: right;\">103.486</td><td style = \"text-align: right;\">100.949</td><td style = \"text-align: right;\">&ctdot;</td></tr><tr><td class = \"rowNumber\" style = \"font-weight: bold; text-align: right;\">9</td><td style = \"text-align: right;\">9</td><td style = \"text-align: right;\">165.217</td><td style = \"text-align: right;\">158.743</td><td style = \"text-align: right;\">155.572</td><td style = \"text-align: right;\">156.807</td><td style = \"text-align: right;\">167.354</td><td style = \"text-align: right;\">185.148</td><td style = \"text-align: right;\">205.39</td><td style = \"text-align: right;\">229.247</td><td style = \"text-align: right;\">244.126</td><td style = \"text-align: right;\">252.59</td><td style = \"text-align: right;\">256.557</td><td style = \"text-align: right;\">255.959</td><td style = \"text-align: right;\">246.965</td><td style = \"text-align: right;\">246.578</td><td style = \"text-align: right;\">248.845</td><td style = \"text-align: right;\">259.452</td><td style = \"text-align: right;\">277.647</td><td style = \"text-align: right;\">279.214</td><td style = \"text-align: right;\">277.897</td><td style = \"text-align: right;\">263.074</td><td style = \"text-align: right;\">244.074</td><td style = \"text-align: right;\">226.32</td><td style = \"text-align: right;\">208.651</td><td style = \"text-align: right;\">188.518</td><td style = \"text-align: right;\">184.133</td><td style = \"text-align: right;\">175.616</td><td style = \"text-align: right;\">169.312</td><td style = \"text-align: right;\">170.745</td><td style = \"text-align: right;\">181.194</td><td style = \"text-align: right;\">196.473</td><td style = \"text-align: right;\">214.264</td><td style = \"text-align: right;\">233.44</td><td style = \"text-align: right;\">246.053</td><td style = \"text-align: right;\">258.051</td><td style = \"text-align: right;\">267.164</td><td style = \"text-align: right;\">265.442</td><td style = \"text-align: right;\">249.148</td><td style = \"text-align: right;\">248.676</td><td style = \"text-align: right;\">248.676</td><td style = \"text-align: right;\">258.47</td><td style = \"text-align: right;\">277.511</td><td style = \"text-align: right;\">279.25</td><td style = \"text-align: right;\">278.04</td><td style = \"text-align: right;\">264.456</td><td style = \"text-align: right;\">246.846</td><td style = \"text-align: right;\">230.949</td><td style = \"text-align: right;\">204.795</td><td style = \"text-align: right;\">189.306</td><td style = \"text-align: right;\">187.024</td><td style = \"text-align: right;\">180.025</td><td style = \"text-align: right;\">176.299</td><td style = \"text-align: right;\">180.018</td><td style = \"text-align: right;\">197.532</td><td style = \"text-align: right;\">225.411</td><td style = \"text-align: right;\">246.406</td><td style = \"text-align: right;\">266.283</td><td style = \"text-align: right;\">269.236</td><td style = \"text-align: right;\">270.535</td><td style = \"text-align: right;\">270.93</td><td style = \"text-align: right;\">270.201</td><td style = \"text-align: right;\">260.858</td><td style = \"text-align: right;\">262.552</td><td style = \"text-align: right;\">260.821</td><td style = \"text-align: right;\">277.001</td><td style = \"text-align: right;\">303.127</td><td style = \"text-align: right;\">305.055</td><td style = \"text-align: right;\">301.747</td><td style = \"text-align: right;\">281.071</td><td style = \"text-align: right;\">258.666</td><td style = \"text-align: right;\">238.002</td><td style = \"text-align: right;\">213.283</td><td style = \"text-align: right;\">194.603</td><td style = \"text-align: right;\">192.602</td><td style = \"text-align: right;\">187.532</td><td style = \"text-align: right;\">185.228</td><td style = \"text-align: right;\">189.303</td><td style = \"text-align: right;\">208.805</td><td style = \"text-align: right;\">242.835</td><td style = \"text-align: right;\">261.341</td><td style = \"text-align: right;\">280.112</td><td style = \"text-align: right;\">284.239</td><td style = \"text-align: right;\">280.521</td><td style = \"text-align: right;\">276.118</td><td style = \"text-align: right;\">278.599</td><td style = \"text-align: right;\">267.625</td><td style = \"text-align: right;\">273.259</td><td style = \"text-align: right;\">279.795</td><td style = \"text-align: right;\">297.32</td><td style = \"text-align: right;\">324.905</td><td style = \"text-align: right;\">327.088</td><td style = \"text-align: right;\">323.739</td><td style = \"text-align: right;\">299.734</td><td style = \"text-align: right;\">272.444</td><td style = \"text-align: right;\">248.637</td><td style = \"text-align: right;\">222.418</td><td style = \"text-align: right;\">206.394</td><td style = \"text-align: right;\">201.658</td><td style = \"text-align: right;\">192.682</td><td style = \"text-align: right;\">188.814</td><td style = \"text-align: right;\">&ctdot;</td></tr><tr><td class = \"rowNumber\" style = \"font-weight: bold; text-align: right;\">10</td><td style = \"text-align: right;\">10</td><td style = \"text-align: right;\">35.6675</td><td style = \"text-align: right;\">33.7645</td><td style = \"text-align: right;\">31.71</td><td style = \"text-align: right;\">31.3624</td><td style = \"text-align: right;\">32.1406</td><td style = \"text-align: right;\">33.0578</td><td style = \"text-align: right;\">34.532</td><td style = \"text-align: right;\">38.0063</td><td style = \"text-align: right;\">42.0485</td><td style = \"text-align: right;\">45.0147</td><td style = \"text-align: right;\">46.3622</td><td style = \"text-align: right;\">44.9582</td><td style = \"text-align: right;\">40.8761</td><td style = \"text-align: right;\">40.5737</td><td style = \"text-align: right;\">40.8331</td><td style = \"text-align: right;\">42.5031</td><td style = \"text-align: right;\">46.8767</td><td style = \"text-align: right;\">47.925</td><td style = \"text-align: right;\">48.1133</td><td style = \"text-align: right;\">46.7013</td><td style = \"text-align: right;\">43.358</td><td style = \"text-align: right;\">41.544</td><td style = \"text-align: right;\">39.6381</td><td style = \"text-align: right;\">35.0224</td><td style = \"text-align: right;\">34.3115</td><td style = \"text-align: right;\">32.4267</td><td style = \"text-align: right;\">31.3755</td><td style = \"text-align: right;\">31.7753</td><td style = \"text-align: right;\">33.3474</td><td style = \"text-align: right;\">35.3514</td><td style = \"text-align: right;\">37.8226</td><td style = \"text-align: right;\">40.6559</td><td style = \"text-align: right;\">42.7245</td><td style = \"text-align: right;\">45.265</td><td style = \"text-align: right;\">47.0581</td><td style = \"text-align: right;\">46.6951</td><td style = \"text-align: right;\">43.9101</td><td style = \"text-align: right;\">44.2682</td><td style = \"text-align: right;\">44.3761</td><td style = \"text-align: right;\">46.6693</td><td style = \"text-align: right;\">50.9532</td><td style = \"text-align: right;\">51.4842</td><td style = \"text-align: right;\">51.1452</td><td style = \"text-align: right;\">50.1776</td><td style = \"text-align: right;\">46.561</td><td style = \"text-align: right;\">45.084</td><td style = \"text-align: right;\">41.6346</td><td style = \"text-align: right;\">36.8684</td><td style = \"text-align: right;\">36.6428</td><td style = \"text-align: right;\">35.3093</td><td style = \"text-align: right;\">33.8881</td><td style = \"text-align: right;\">34.309</td><td style = \"text-align: right;\">37.8513</td><td style = \"text-align: right;\">43.4205</td><td style = \"text-align: right;\">49.1804</td><td style = \"text-align: right;\">54.4746</td><td style = \"text-align: right;\">56.3805</td><td style = \"text-align: right;\">55.9145</td><td style = \"text-align: right;\">55.2731</td><td style = \"text-align: right;\">54.6668</td><td style = \"text-align: right;\">52.6474</td><td style = \"text-align: right;\">52.6348</td><td style = \"text-align: right;\">52.7359</td><td style = \"text-align: right;\">56.1887</td><td style = \"text-align: right;\">62.5654</td><td style = \"text-align: right;\">63.235</td><td style = \"text-align: right;\">62.2703</td><td style = \"text-align: right;\">59.1019</td><td style = \"text-align: right;\">53.8725</td><td style = \"text-align: right;\">50.4111</td><td style = \"text-align: right;\">46.4867</td><td style = \"text-align: right;\">41.1877</td><td style = \"text-align: right;\">40.4164</td><td style = \"text-align: right;\">39.5158</td><td style = \"text-align: right;\">38.6106</td><td style = \"text-align: right;\">38.757</td><td style = \"text-align: right;\">41.8606</td><td style = \"text-align: right;\">46.4481</td><td style = \"text-align: right;\">51.0035</td><td style = \"text-align: right;\">55.7216</td><td style = \"text-align: right;\">59.1733</td><td style = \"text-align: right;\">60.7954</td><td style = \"text-align: right;\">61.6027</td><td style = \"text-align: right;\">61.6357</td><td style = \"text-align: right;\">58.4603</td><td style = \"text-align: right;\">58.4205</td><td style = \"text-align: right;\">57.6214</td><td style = \"text-align: right;\">59.1598</td><td style = \"text-align: right;\">63.0826</td><td style = \"text-align: right;\">63.5359</td><td style = \"text-align: right;\">62.2777</td><td style = \"text-align: right;\">58.9888</td><td style = \"text-align: right;\">53.8722</td><td style = \"text-align: right;\">50.9906</td><td style = \"text-align: right;\">46.2885</td><td style = \"text-align: right;\">42.1034</td><td style = \"text-align: right;\">41.6418</td><td style = \"text-align: right;\">40.078</td><td style = \"text-align: right;\">39.2787</td><td style = \"text-align: right;\">&ctdot;</td></tr><tr><td class = \"rowNumber\" style = \"font-weight: bold; text-align: right;\">11</td><td style = \"text-align: right;\">11</td><td style = \"text-align: right;\">69.1639</td><td style = \"text-align: right;\">67.9676</td><td style = \"text-align: right;\">67.7324</td><td style = \"text-align: right;\">69.5658</td><td style = \"text-align: right;\">76.2816</td><td style = \"text-align: right;\">85.8142</td><td style = \"text-align: right;\">96.3999</td><td style = \"text-align: right;\">106.343</td><td style = \"text-align: right;\">108.802</td><td style = \"text-align: right;\">109.133</td><td style = \"text-align: right;\">108.944</td><td style = \"text-align: right;\">108.319</td><td style = \"text-align: right;\">106.682</td><td style = \"text-align: right;\">104.806</td><td style = \"text-align: right;\">104.069</td><td style = \"text-align: right;\">109.165</td><td style = \"text-align: right;\">117.883</td><td style = \"text-align: right;\">117.38</td><td style = \"text-align: right;\">115.525</td><td style = \"text-align: right;\">109.66</td><td style = \"text-align: right;\">103.423</td><td style = \"text-align: right;\">95.1593</td><td style = \"text-align: right;\">83.1812</td><td style = \"text-align: right;\">79.1751</td><td style = \"text-align: right;\">77.8857</td><td style = \"text-align: right;\">76.6077</td><td style = \"text-align: right;\">74.7533</td><td style = \"text-align: right;\">76.6126</td><td style = \"text-align: right;\">84.4235</td><td style = \"text-align: right;\">94.7711</td><td style = \"text-align: right;\">104.882</td><td style = \"text-align: right;\">114.918</td><td style = \"text-align: right;\">119.225</td><td style = \"text-align: right;\">119.391</td><td style = \"text-align: right;\">118.287</td><td style = \"text-align: right;\">117.343</td><td style = \"text-align: right;\">113.558</td><td style = \"text-align: right;\">112.541</td><td style = \"text-align: right;\">110.695</td><td style = \"text-align: right;\">115.553</td><td style = \"text-align: right;\">122.631</td><td style = \"text-align: right;\">124.894</td><td style = \"text-align: right;\">123.358</td><td style = \"text-align: right;\">115.964</td><td style = \"text-align: right;\">109.484</td><td style = \"text-align: right;\">99.6214</td><td style = \"text-align: right;\">86.8772</td><td style = \"text-align: right;\">83.4358</td><td style = \"text-align: right;\">82.1508</td><td style = \"text-align: right;\">80.0288</td><td style = \"text-align: right;\">79.7533</td><td style = \"text-align: right;\">81.2383</td><td style = \"text-align: right;\">86.2467</td><td style = \"text-align: right;\">96.3114</td><td style = \"text-align: right;\">103.35</td><td style = \"text-align: right;\">112.706</td><td style = \"text-align: right;\">115.719</td><td style = \"text-align: right;\">118.068</td><td style = \"text-align: right;\">119.01</td><td style = \"text-align: right;\">118.639</td><td style = \"text-align: right;\">113.952</td><td style = \"text-align: right;\">114.187</td><td style = \"text-align: right;\">110.615</td><td style = \"text-align: right;\">111.893</td><td style = \"text-align: right;\">114.985</td><td style = \"text-align: right;\">114.347</td><td style = \"text-align: right;\">112.564</td><td style = \"text-align: right;\">104.05</td><td style = \"text-align: right;\">96.1997</td><td style = \"text-align: right;\">90.1609</td><td style = \"text-align: right;\">75.6235</td><td style = \"text-align: right;\">71.8723</td><td style = \"text-align: right;\">70.4534</td><td style = \"text-align: right;\">68.5693</td><td style = \"text-align: right;\">67.8638</td><td style = \"text-align: right;\">70.8206</td><td style = \"text-align: right;\">78.0954</td><td style = \"text-align: right;\">90.4336</td><td style = \"text-align: right;\">97.3792</td><td style = \"text-align: right;\">106.323</td><td style = \"text-align: right;\">106.895</td><td style = \"text-align: right;\">105.465</td><td style = \"text-align: right;\">103.624</td><td style = \"text-align: right;\">101.946</td><td style = \"text-align: right;\">100.541</td><td style = \"text-align: right;\">102.312</td><td style = \"text-align: right;\">103.444</td><td style = \"text-align: right;\">108.166</td><td style = \"text-align: right;\">115.43</td><td style = \"text-align: right;\">115.022</td><td style = \"text-align: right;\">113.551</td><td style = \"text-align: right;\">104.971</td><td style = \"text-align: right;\">96.736</td><td style = \"text-align: right;\">88.4256</td><td style = \"text-align: right;\">78.8766</td><td style = \"text-align: right;\">74.813</td><td style = \"text-align: right;\">71.9479</td><td style = \"text-align: right;\">69.8234</td><td style = \"text-align: right;\">68.4513</td><td style = \"text-align: right;\">&ctdot;</td></tr><tr><td class = \"rowNumber\" style = \"font-weight: bold; text-align: right;\">12</td><td style = \"text-align: right;\">12</td><td style = \"text-align: right;\">51.3631</td><td style = \"text-align: right;\">50.7922</td><td style = \"text-align: right;\">50.9357</td><td style = \"text-align: right;\">52.8717</td><td style = \"text-align: right;\">59.3369</td><td style = \"text-align: right;\">67.1436</td><td style = \"text-align: right;\">74.8134</td><td style = \"text-align: right;\">78.0593</td><td style = \"text-align: right;\">77.8854</td><td style = \"text-align: right;\">74.8991</td><td style = \"text-align: right;\">70.6971</td><td style = \"text-align: right;\">70.414</td><td style = \"text-align: right;\">68.6537</td><td style = \"text-align: right;\">67.7329</td><td style = \"text-align: right;\">67.5416</td><td style = \"text-align: right;\">75.122</td><td style = \"text-align: right;\">82.7181</td><td style = \"text-align: right;\">83.8138</td><td style = \"text-align: right;\">81.7193</td><td style = \"text-align: right;\">78.4776</td><td style = \"text-align: right;\">71.9462</td><td style = \"text-align: right;\">66.8102</td><td style = \"text-align: right;\">59.8318</td><td style = \"text-align: right;\">57.9771</td><td style = \"text-align: right;\">55.6235</td><td style = \"text-align: right;\">55.4645</td><td style = \"text-align: right;\">55.6437</td><td style = \"text-align: right;\">57.7688</td><td style = \"text-align: right;\">66.1246</td><td style = \"text-align: right;\">74.5186</td><td style = \"text-align: right;\">82.5484</td><td style = \"text-align: right;\">87.9987</td><td style = \"text-align: right;\">85.8006</td><td style = \"text-align: right;\">81.002</td><td style = \"text-align: right;\">77.1415</td><td style = \"text-align: right;\">76.4755</td><td style = \"text-align: right;\">76.4549</td><td style = \"text-align: right;\">75.0338</td><td style = \"text-align: right;\">73.9977</td><td style = \"text-align: right;\">82.6656</td><td style = \"text-align: right;\">90.7665</td><td style = \"text-align: right;\">92.1325</td><td style = \"text-align: right;\">89.8477</td><td style = \"text-align: right;\">84.1682</td><td style = \"text-align: right;\">75.7073</td><td style = \"text-align: right;\">69.3869</td><td style = \"text-align: right;\">65.1706</td><td style = \"text-align: right;\">59.0</td><td style = \"text-align: right;\">56.2482</td><td style = \"text-align: right;\">54.3875</td><td style = \"text-align: right;\">53.7451</td><td style = \"text-align: right;\">55.1486</td><td style = \"text-align: right;\">56.7226</td><td style = \"text-align: right;\">55.9378</td><td style = \"text-align: right;\">60.5636</td><td style = \"text-align: right;\">64.4351</td><td style = \"text-align: right;\">66.4923</td><td style = \"text-align: right;\">67.7437</td><td style = \"text-align: right;\">68.8574</td><td style = \"text-align: right;\">65.4939</td><td style = \"text-align: right;\">57.7327</td><td style = \"text-align: right;\">55.0957</td><td style = \"text-align: right;\">53.3946</td><td style = \"text-align: right;\">60.2693</td><td style = \"text-align: right;\">66.1673</td><td style = \"text-align: right;\">67.2037</td><td style = \"text-align: right;\">66.0059</td><td style = \"text-align: right;\">64.2198</td><td style = \"text-align: right;\">61.4374</td><td style = \"text-align: right;\">58.2111</td><td style = \"text-align: right;\">53.8815</td><td style = \"text-align: right;\">49.4843</td><td style = \"text-align: right;\">47.3001</td><td style = \"text-align: right;\">44.9259</td><td style = \"text-align: right;\">44.5589</td><td style = \"text-align: right;\">46.631</td><td style = \"text-align: right;\">46.9819</td><td style = \"text-align: right;\">45.3632</td><td style = \"text-align: right;\">52.3602</td><td style = \"text-align: right;\">54.5031</td><td style = \"text-align: right;\">55.3382</td><td style = \"text-align: right;\">56.3328</td><td style = \"text-align: right;\">59.6462</td><td style = \"text-align: right;\">57.8245</td><td style = \"text-align: right;\">54.4876</td><td style = \"text-align: right;\">54.9861</td><td style = \"text-align: right;\">56.2805</td><td style = \"text-align: right;\">61.6832</td><td style = \"text-align: right;\">66.9535</td><td style = \"text-align: right;\">66.3731</td><td style = \"text-align: right;\">65.1739</td><td style = \"text-align: right;\">63.8469</td><td style = \"text-align: right;\">61.0191</td><td style = \"text-align: right;\">57.9145</td><td style = \"text-align: right;\">55.4187</td><td style = \"text-align: right;\">51.0262</td><td style = \"text-align: right;\">49.2149</td><td style = \"text-align: right;\">47.0249</td><td style = \"text-align: right;\">45.1405</td><td style = \"text-align: right;\">&ctdot;</td></tr><tr><td class = \"rowNumber\" style = \"font-weight: bold; text-align: right;\">13</td><td style = \"text-align: right;\">13</td><td style = \"text-align: right;\">133.578</td><td style = \"text-align: right;\">130.503</td><td style = \"text-align: right;\">128.922</td><td style = \"text-align: right;\">132.902</td><td style = \"text-align: right;\">150.378</td><td style = \"text-align: right;\">175.721</td><td style = \"text-align: right;\">199.86</td><td style = \"text-align: right;\">224.519</td><td style = \"text-align: right;\">236.118</td><td style = \"text-align: right;\">237.944</td><td style = \"text-align: right;\">238.624</td><td style = \"text-align: right;\">242.4</td><td style = \"text-align: right;\">238.682</td><td style = \"text-align: right;\">241.866</td><td style = \"text-align: right;\">241.216</td><td style = \"text-align: right;\">243.254</td><td style = \"text-align: right;\">252.705</td><td style = \"text-align: right;\">253.006</td><td style = \"text-align: right;\">248.639</td><td style = \"text-align: right;\">231.233</td><td style = \"text-align: right;\">206.594</td><td style = \"text-align: right;\">193.749</td><td style = \"text-align: right;\">181.963</td><td style = \"text-align: right;\">162.644</td><td style = \"text-align: right;\">159.3</td><td style = \"text-align: right;\">153.853</td><td style = \"text-align: right;\">151.57</td><td style = \"text-align: right;\">152.477</td><td style = \"text-align: right;\">158.508</td><td style = \"text-align: right;\">168.182</td><td style = \"text-align: right;\">177.417</td><td style = \"text-align: right;\">188.202</td><td style = \"text-align: right;\">195.288</td><td style = \"text-align: right;\">203.782</td><td style = \"text-align: right;\">210.503</td><td style = \"text-align: right;\">207.324</td><td style = \"text-align: right;\">193.006</td><td style = \"text-align: right;\">193.556</td><td style = \"text-align: right;\">194.378</td><td style = \"text-align: right;\">205.47</td><td style = \"text-align: right;\">226.23</td><td style = \"text-align: right;\">226.202</td><td style = \"text-align: right;\">225.719</td><td style = \"text-align: right;\">215.174</td><td style = \"text-align: right;\">197.82</td><td style = \"text-align: right;\">188.677</td><td style = \"text-align: right;\">171.707</td><td style = \"text-align: right;\">156.775</td><td style = \"text-align: right;\">155.31</td><td style = \"text-align: right;\">148.762</td><td style = \"text-align: right;\">145.264</td><td style = \"text-align: right;\">147.67</td><td style = \"text-align: right;\">155.099</td><td style = \"text-align: right;\">166.671</td><td style = \"text-align: right;\">179.468</td><td style = \"text-align: right;\">196.368</td><td style = \"text-align: right;\">209.65</td><td style = \"text-align: right;\">218.217</td><td style = \"text-align: right;\">221.297</td><td style = \"text-align: right;\">216.966</td><td style = \"text-align: right;\">203.075</td><td style = \"text-align: right;\">200.705</td><td style = \"text-align: right;\">201.941</td><td style = \"text-align: right;\">212.931</td><td style = \"text-align: right;\">234.019</td><td style = \"text-align: right;\">236.48</td><td style = \"text-align: right;\">234.624</td><td style = \"text-align: right;\">222.762</td><td style = \"text-align: right;\">203.902</td><td style = \"text-align: right;\">193.471</td><td style = \"text-align: right;\">178.974</td><td style = \"text-align: right;\">161.876</td><td style = \"text-align: right;\">160.557</td><td style = \"text-align: right;\">154.895</td><td style = \"text-align: right;\">150.186</td><td style = \"text-align: right;\">150.305</td><td style = \"text-align: right;\">157.971</td><td style = \"text-align: right;\">173.853</td><td style = \"text-align: right;\">185.351</td><td style = \"text-align: right;\">197.443</td><td style = \"text-align: right;\">208.722</td><td style = \"text-align: right;\">214.955</td><td style = \"text-align: right;\">216.303</td><td style = \"text-align: right;\">219.526</td><td style = \"text-align: right;\">207.219</td><td style = \"text-align: right;\">205.855</td><td style = \"text-align: right;\">207.362</td><td style = \"text-align: right;\">215.94</td><td style = \"text-align: right;\">236.255</td><td style = \"text-align: right;\">238.036</td><td style = \"text-align: right;\">235.292</td><td style = \"text-align: right;\">222.008</td><td style = \"text-align: right;\">203.726</td><td style = \"text-align: right;\">188.6</td><td style = \"text-align: right;\">171.535</td><td style = \"text-align: right;\">157.814</td><td style = \"text-align: right;\">155.939</td><td style = \"text-align: right;\">148.792</td><td style = \"text-align: right;\">146.911</td><td style = \"text-align: right;\">&ctdot;</td></tr><tr><td style = \"text-align: right;\">&vellip;</td><td style = \"text-align: right;\">&vellip;</td><td style = \"text-align: right;\">&vellip;</td><td style = \"text-align: right;\">&vellip;</td><td style = \"text-align: right;\">&vellip;</td><td style = \"text-align: right;\">&vellip;</td><td style = \"text-align: right;\">&vellip;</td><td style = \"text-align: right;\">&vellip;</td><td style = \"text-align: right;\">&vellip;</td><td style = \"text-align: right;\">&vellip;</td><td style = \"text-align: right;\">&vellip;</td><td style = \"text-align: right;\">&vellip;</td><td style = \"text-align: right;\">&vellip;</td><td style = \"text-align: right;\">&vellip;</td><td style = \"text-align: right;\">&vellip;</td><td style = \"text-align: right;\">&vellip;</td><td style = \"text-align: right;\">&vellip;</td><td style = \"text-align: right;\">&vellip;</td><td style = \"text-align: right;\">&vellip;</td><td style = \"text-align: right;\">&vellip;</td><td style = \"text-align: right;\">&vellip;</td><td style = \"text-align: right;\">&vellip;</td><td style = \"text-align: right;\">&vellip;</td><td style = \"text-align: right;\">&vellip;</td><td style = \"text-align: right;\">&vellip;</td><td style = \"text-align: right;\">&vellip;</td><td style = \"text-align: right;\">&vellip;</td><td style = \"text-align: right;\">&vellip;</td><td style = \"text-align: right;\">&vellip;</td><td style = \"text-align: right;\">&vellip;</td><td style = \"text-align: right;\">&vellip;</td><td style = \"text-align: right;\">&vellip;</td><td style = \"text-align: right;\">&vellip;</td><td style = \"text-align: right;\">&vellip;</td><td style = \"text-align: right;\">&vellip;</td><td style = \"text-align: right;\">&vellip;</td><td style = \"text-align: right;\">&vellip;</td><td style = \"text-align: right;\">&vellip;</td><td style = \"text-align: right;\">&vellip;</td><td style = \"text-align: right;\">&vellip;</td><td style = \"text-align: right;\">&vellip;</td><td style = \"text-align: right;\">&vellip;</td><td style = \"text-align: right;\">&vellip;</td><td style = \"text-align: right;\">&vellip;</td><td style = \"text-align: right;\">&vellip;</td><td style = \"text-align: right;\">&vellip;</td><td style = \"text-align: right;\">&vellip;</td><td style = \"text-align: right;\">&vellip;</td><td style = \"text-align: right;\">&vellip;</td><td style = \"text-align: right;\">&vellip;</td><td style = \"text-align: right;\">&vellip;</td><td style = \"text-align: right;\">&vellip;</td><td style = \"text-align: right;\">&vellip;</td><td style = \"text-align: right;\">&vellip;</td><td style = \"text-align: right;\">&vellip;</td><td style = \"text-align: right;\">&vellip;</td><td style = \"text-align: right;\">&vellip;</td><td style = \"text-align: right;\">&vellip;</td><td style = \"text-align: right;\">&vellip;</td><td style = \"text-align: right;\">&vellip;</td><td style = \"text-align: right;\">&vellip;</td><td style = \"text-align: right;\">&vellip;</td><td style = \"text-align: right;\">&vellip;</td><td style = \"text-align: right;\">&vellip;</td><td style = \"text-align: right;\">&vellip;</td><td style = \"text-align: right;\">&vellip;</td><td style = \"text-align: right;\">&vellip;</td><td style = \"text-align: right;\">&vellip;</td><td style = \"text-align: right;\">&vellip;</td><td style = \"text-align: right;\">&vellip;</td><td style = \"text-align: right;\">&vellip;</td><td style = \"text-align: right;\">&vellip;</td><td style = \"text-align: right;\">&vellip;</td><td style = \"text-align: right;\">&vellip;</td><td style = \"text-align: right;\">&vellip;</td><td style = \"text-align: right;\">&vellip;</td><td style = \"text-align: right;\">&vellip;</td><td style = \"text-align: right;\">&vellip;</td><td style = \"text-align: right;\">&vellip;</td><td style = \"text-align: right;\">&vellip;</td><td style = \"text-align: right;\">&vellip;</td><td style = \"text-align: right;\">&vellip;</td><td style = \"text-align: right;\">&vellip;</td><td style = \"text-align: right;\">&vellip;</td><td style = \"text-align: right;\">&vellip;</td><td style = \"text-align: right;\">&vellip;</td><td style = \"text-align: right;\">&vellip;</td><td style = \"text-align: right;\">&vellip;</td><td style = \"text-align: right;\">&vellip;</td><td style = \"text-align: right;\">&vellip;</td><td style = \"text-align: right;\">&vellip;</td><td style = \"text-align: right;\">&vellip;</td><td style = \"text-align: right;\">&vellip;</td><td style = \"text-align: right;\">&vellip;</td><td style = \"text-align: right;\">&vellip;</td><td style = \"text-align: right;\">&vellip;</td><td style = \"text-align: right;\">&vellip;</td><td style = \"text-align: right;\">&vellip;</td><td style = \"text-align: right;\">&vellip;</td><td style = \"text-align: right;\">&vellip;</td><td style = \"text-align: right;\">&vellip;</td><td style = \"text-align: right;\">&dtdot;</td></tr><tr><td class = \"rowNumber\" style = \"font-weight: bold; text-align: right;\">3987</td><td style = \"text-align: right;\">3987</td><td style = \"text-align: right;\">45.7044</td><td style = \"text-align: right;\">45.9938</td><td style = \"text-align: right;\">46.7764</td><td style = \"text-align: right;\">48.548</td><td style = \"text-align: right;\">52.6035</td><td style = \"text-align: right;\">61.8164</td><td style = \"text-align: right;\">70.4561</td><td style = \"text-align: right;\">75.344</td><td style = \"text-align: right;\">75.2483</td><td style = \"text-align: right;\">74.9525</td><td style = \"text-align: right;\">75.3357</td><td style = \"text-align: right;\">74.674</td><td style = \"text-align: right;\">74.1591</td><td style = \"text-align: right;\">73.8344</td><td style = \"text-align: right;\">74.2903</td><td style = \"text-align: right;\">75.1321</td><td style = \"text-align: right;\">76.5781</td><td style = \"text-align: right;\">76.9735</td><td style = \"text-align: right;\">75.1972</td><td style = \"text-align: right;\">72.8304</td><td style = \"text-align: right;\">70.492</td><td style = \"text-align: right;\">65.9903</td><td style = \"text-align: right;\">61.5047</td><td style = \"text-align: right;\">58.0914</td><td style = \"text-align: right;\">58.4546</td><td style = \"text-align: right;\">57.5617</td><td style = \"text-align: right;\">57.1758</td><td style = \"text-align: right;\">58.798</td><td style = \"text-align: right;\">61.8885</td><td style = \"text-align: right;\">68.481</td><td style = \"text-align: right;\">77.6806</td><td style = \"text-align: right;\">79.6196</td><td style = \"text-align: right;\">77.3581</td><td style = \"text-align: right;\">76.0853</td><td style = \"text-align: right;\">75.7525</td><td style = \"text-align: right;\">74.0007</td><td style = \"text-align: right;\">74.2978</td><td style = \"text-align: right;\">73.8991</td><td style = \"text-align: right;\">73.6851</td><td style = \"text-align: right;\">72.933</td><td style = \"text-align: right;\">75.294</td><td style = \"text-align: right;\">75.9769</td><td style = \"text-align: right;\">73.9995</td><td style = \"text-align: right;\">71.5206</td><td style = \"text-align: right;\">67.9022</td><td style = \"text-align: right;\">64.3839</td><td style = \"text-align: right;\">60.1093</td><td style = \"text-align: right;\">57.3557</td><td style = \"text-align: right;\">55.9288</td><td style = \"text-align: right;\">54.7043</td><td style = \"text-align: right;\">53.8243</td><td style = \"text-align: right;\">54.6043</td><td style = \"text-align: right;\">56.5172</td><td style = \"text-align: right;\">63.1454</td><td style = \"text-align: right;\">72.1716</td><td style = \"text-align: right;\">75.807</td><td style = \"text-align: right;\">73.5174</td><td style = \"text-align: right;\">74.9856</td><td style = \"text-align: right;\">74.4249</td><td style = \"text-align: right;\">74.615</td><td style = \"text-align: right;\">73.7486</td><td style = \"text-align: right;\">73.9255</td><td style = \"text-align: right;\">73.47</td><td style = \"text-align: right;\">71.3048</td><td style = \"text-align: right;\">71.6281</td><td style = \"text-align: right;\">71.3131</td><td style = \"text-align: right;\">69.4622</td><td style = \"text-align: right;\">65.6019</td><td style = \"text-align: right;\">62.1817</td><td style = \"text-align: right;\">58.7742</td><td style = \"text-align: right;\">52.6534</td><td style = \"text-align: right;\">48.4472</td><td style = \"text-align: right;\">44.5214</td><td style = \"text-align: right;\">45.1223</td><td style = \"text-align: right;\">46.2181</td><td style = \"text-align: right;\">47.855</td><td style = \"text-align: right;\">51.2436</td><td style = \"text-align: right;\">61.9491</td><td style = \"text-align: right;\">72.1524</td><td style = \"text-align: right;\">75.794</td><td style = \"text-align: right;\">76.249</td><td style = \"text-align: right;\">77.6786</td><td style = \"text-align: right;\">80.432</td><td style = \"text-align: right;\">80.5101</td><td style = \"text-align: right;\">81.2901</td><td style = \"text-align: right;\">79.1669</td><td style = \"text-align: right;\">79.0973</td><td style = \"text-align: right;\">77.8972</td><td style = \"text-align: right;\">78.0292</td><td style = \"text-align: right;\">77.3305</td><td style = \"text-align: right;\">74.8985</td><td style = \"text-align: right;\">69.3148</td><td style = \"text-align: right;\">64.7903</td><td style = \"text-align: right;\">58.9107</td><td style = \"text-align: right;\">52.0135</td><td style = \"text-align: right;\">50.0752</td><td style = \"text-align: right;\">46.9219</td><td style = \"text-align: right;\">46.6219</td><td style = \"text-align: right;\">47.2878</td><td style = \"text-align: right;\">&ctdot;</td></tr><tr><td class = \"rowNumber\" style = \"font-weight: bold; text-align: right;\">3988</td><td style = \"text-align: right;\">3988</td><td style = \"text-align: right;\">51.2474</td><td style = \"text-align: right;\">50.5392</td><td style = \"text-align: right;\">49.4308</td><td style = \"text-align: right;\">50.8779</td><td style = \"text-align: right;\">50.1831</td><td style = \"text-align: right;\">52.6328</td><td style = \"text-align: right;\">56.1316</td><td style = \"text-align: right;\">61.8045</td><td style = \"text-align: right;\">64.3623</td><td style = \"text-align: right;\">68.2073</td><td style = \"text-align: right;\">70.283</td><td style = \"text-align: right;\">71.1451</td><td style = \"text-align: right;\">70.4138</td><td style = \"text-align: right;\">68.1484</td><td style = \"text-align: right;\">68.593</td><td style = \"text-align: right;\">69.1131</td><td style = \"text-align: right;\">76.1126</td><td style = \"text-align: right;\">75.8447</td><td style = \"text-align: right;\">75.6267</td><td style = \"text-align: right;\">74.1221</td><td style = \"text-align: right;\">71.0023</td><td style = \"text-align: right;\">70.0505</td><td style = \"text-align: right;\">68.1067</td><td style = \"text-align: right;\">64.1854</td><td style = \"text-align: right;\">60.4738</td><td style = \"text-align: right;\">58.3782</td><td style = \"text-align: right;\">57.7811</td><td style = \"text-align: right;\">58.7037</td><td style = \"text-align: right;\">62.3165</td><td style = \"text-align: right;\">70.1118</td><td style = \"text-align: right;\">80.4353</td><td style = \"text-align: right;\">88.3901</td><td style = \"text-align: right;\">88.9648</td><td style = \"text-align: right;\">91.9107</td><td style = \"text-align: right;\">92.6364</td><td style = \"text-align: right;\">92.1624</td><td style = \"text-align: right;\">92.509</td><td style = \"text-align: right;\">92.0153</td><td style = \"text-align: right;\">91.9583</td><td style = \"text-align: right;\">89.9262</td><td style = \"text-align: right;\">96.1138</td><td style = \"text-align: right;\">95.7391</td><td style = \"text-align: right;\">93.5982</td><td style = \"text-align: right;\">89.2199</td><td style = \"text-align: right;\">83.4966</td><td style = \"text-align: right;\">82.4722</td><td style = \"text-align: right;\">76.5173</td><td style = \"text-align: right;\">72.4954</td><td style = \"text-align: right;\">69.1044</td><td style = \"text-align: right;\">68.3291</td><td style = \"text-align: right;\">67.1426</td><td style = \"text-align: right;\">68.0797</td><td style = \"text-align: right;\">69.6213</td><td style = \"text-align: right;\">72.8046</td><td style = \"text-align: right;\">79.5533</td><td style = \"text-align: right;\">84.2414</td><td style = \"text-align: right;\">84.6985</td><td style = \"text-align: right;\">87.9066</td><td style = \"text-align: right;\">87.2507</td><td style = \"text-align: right;\">88.5756</td><td style = \"text-align: right;\">85.2612</td><td style = \"text-align: right;\">84.6294</td><td style = \"text-align: right;\">83.9163</td><td style = \"text-align: right;\">84.0987</td><td style = \"text-align: right;\">87.6811</td><td style = \"text-align: right;\">88.002</td><td style = \"text-align: right;\">85.6137</td><td style = \"text-align: right;\">81.7391</td><td style = \"text-align: right;\">77.4524</td><td style = \"text-align: right;\">76.6416</td><td style = \"text-align: right;\">70.6587</td><td style = \"text-align: right;\">63.6013</td><td style = \"text-align: right;\">57.2653</td><td style = \"text-align: right;\">56.4068</td><td style = \"text-align: right;\">56.5601</td><td style = \"text-align: right;\">60.9085</td><td style = \"text-align: right;\">63.3843</td><td style = \"text-align: right;\">71.3194</td><td style = \"text-align: right;\">82.2031</td><td style = \"text-align: right;\">89.9807</td><td style = \"text-align: right;\">90.5122</td><td style = \"text-align: right;\">91.5717</td><td style = \"text-align: right;\">92.595</td><td style = \"text-align: right;\">94.6684</td><td style = \"text-align: right;\">95.0216</td><td style = \"text-align: right;\">93.4091</td><td style = \"text-align: right;\">92.9758</td><td style = \"text-align: right;\">92.3467</td><td style = \"text-align: right;\">95.5902</td><td style = \"text-align: right;\">94.779</td><td style = \"text-align: right;\">92.1419</td><td style = \"text-align: right;\">87.2889</td><td style = \"text-align: right;\">80.5395</td><td style = \"text-align: right;\">78.5768</td><td style = \"text-align: right;\">72.2819</td><td style = \"text-align: right;\">69.9958</td><td style = \"text-align: right;\">65.9543</td><td style = \"text-align: right;\">64.652</td><td style = \"text-align: right;\">64.5814</td><td style = \"text-align: right;\">&ctdot;</td></tr><tr><td class = \"rowNumber\" style = \"font-weight: bold; text-align: right;\">3989</td><td style = \"text-align: right;\">3989</td><td style = \"text-align: right;\">13.7782</td><td style = \"text-align: right;\">12.8158</td><td style = \"text-align: right;\">12.4129</td><td style = \"text-align: right;\">12.2185</td><td style = \"text-align: right;\">12.4773</td><td style = \"text-align: right;\">13.2365</td><td style = \"text-align: right;\">14.3862</td><td style = \"text-align: right;\">15.213</td><td style = \"text-align: right;\">16.4564</td><td style = \"text-align: right;\">17.5129</td><td style = \"text-align: right;\">17.6536</td><td style = \"text-align: right;\">17.4581</td><td style = \"text-align: right;\">17.3636</td><td style = \"text-align: right;\">16.5798</td><td style = \"text-align: right;\">15.8782</td><td style = \"text-align: right;\">15.7341</td><td style = \"text-align: right;\">16.2387</td><td style = \"text-align: right;\">17.5702</td><td style = \"text-align: right;\">17.8083</td><td style = \"text-align: right;\">17.7928</td><td style = \"text-align: right;\">17.8311</td><td style = \"text-align: right;\">17.4243</td><td style = \"text-align: right;\">16.3128</td><td style = \"text-align: right;\">15.0523</td><td style = \"text-align: right;\">13.7079</td><td style = \"text-align: right;\">12.8292</td><td style = \"text-align: right;\">12.4092</td><td style = \"text-align: right;\">12.2939</td><td style = \"text-align: right;\">12.5977</td><td style = \"text-align: right;\">13.5618</td><td style = \"text-align: right;\">14.9283</td><td style = \"text-align: right;\">15.9858</td><td style = \"text-align: right;\">17.1203</td><td style = \"text-align: right;\">18.2692</td><td style = \"text-align: right;\">18.69</td><td style = \"text-align: right;\">18.5888</td><td style = \"text-align: right;\">18.6279</td><td style = \"text-align: right;\">17.8952</td><td style = \"text-align: right;\">17.1264</td><td style = \"text-align: right;\">16.9036</td><td style = \"text-align: right;\">17.1903</td><td style = \"text-align: right;\">18.5382</td><td style = \"text-align: right;\">18.9203</td><td style = \"text-align: right;\">19.2693</td><td style = \"text-align: right;\">19.2142</td><td style = \"text-align: right;\">18.483</td><td style = \"text-align: right;\">16.9331</td><td style = \"text-align: right;\">15.6781</td><td style = \"text-align: right;\">14.4515</td><td style = \"text-align: right;\">13.7176</td><td style = \"text-align: right;\">13.4044</td><td style = \"text-align: right;\">13.427</td><td style = \"text-align: right;\">13.9083</td><td style = \"text-align: right;\">15.6844</td><td style = \"text-align: right;\">18.424</td><td style = \"text-align: right;\">20.5144</td><td style = \"text-align: right;\">21.5356</td><td style = \"text-align: right;\">22.0813</td><td style = \"text-align: right;\">22.1728</td><td style = \"text-align: right;\">21.8416</td><td style = \"text-align: right;\">21.8234</td><td style = \"text-align: right;\">20.7676</td><td style = \"text-align: right;\">20.2269</td><td style = \"text-align: right;\">20.1687</td><td style = \"text-align: right;\">20.3822</td><td style = \"text-align: right;\">21.6265</td><td style = \"text-align: right;\">21.9743</td><td style = \"text-align: right;\">21.8885</td><td style = \"text-align: right;\">21.2468</td><td style = \"text-align: right;\">19.8741</td><td style = \"text-align: right;\">18.1775</td><td style = \"text-align: right;\">16.5386</td><td style = \"text-align: right;\">15.0434</td><td style = \"text-align: right;\">14.3347</td><td style = \"text-align: right;\">13.9205</td><td style = \"text-align: right;\">13.8331</td><td style = \"text-align: right;\">14.1137</td><td style = \"text-align: right;\">15.4373</td><td style = \"text-align: right;\">17.8034</td><td style = \"text-align: right;\">19.3051</td><td style = \"text-align: right;\">19.9317</td><td style = \"text-align: right;\">20.284</td><td style = \"text-align: right;\">20.1123</td><td style = \"text-align: right;\">19.5972</td><td style = \"text-align: right;\">19.3222</td><td style = \"text-align: right;\">18.3747</td><td style = \"text-align: right;\">17.9776</td><td style = \"text-align: right;\">17.8491</td><td style = \"text-align: right;\">18.1029</td><td style = \"text-align: right;\">19.7115</td><td style = \"text-align: right;\">20.3176</td><td style = \"text-align: right;\">20.4124</td><td style = \"text-align: right;\">20.1169</td><td style = \"text-align: right;\">18.9764</td><td style = \"text-align: right;\">17.4818</td><td style = \"text-align: right;\">16.1895</td><td style = \"text-align: right;\">14.7656</td><td style = \"text-align: right;\">13.9584</td><td style = \"text-align: right;\">13.5528</td><td style = \"text-align: right;\">&ctdot;</td></tr><tr><td class = \"rowNumber\" style = \"font-weight: bold; text-align: right;\">3990</td><td style = \"text-align: right;\">3990</td><td style = \"text-align: right;\">48.618</td><td style = \"text-align: right;\">46.7239</td><td style = \"text-align: right;\">46.6568</td><td style = \"text-align: right;\">47.3999</td><td style = \"text-align: right;\">51.0371</td><td style = \"text-align: right;\">56.5781</td><td style = \"text-align: right;\">59.0541</td><td style = \"text-align: right;\">60.5328</td><td style = \"text-align: right;\">62.5949</td><td style = \"text-align: right;\">62.6006</td><td style = \"text-align: right;\">62.9553</td><td style = \"text-align: right;\">62.9059</td><td style = \"text-align: right;\">63.7709</td><td style = \"text-align: right;\">63.9912</td><td style = \"text-align: right;\">64.2923</td><td style = \"text-align: right;\">64.8573</td><td style = \"text-align: right;\">65.4318</td><td style = \"text-align: right;\">64.8239</td><td style = \"text-align: right;\">64.1378</td><td style = \"text-align: right;\">62.4125</td><td style = \"text-align: right;\">60.1622</td><td style = \"text-align: right;\">57.752</td><td style = \"text-align: right;\">55.2031</td><td style = \"text-align: right;\">53.3571</td><td style = \"text-align: right;\">51.4111</td><td style = \"text-align: right;\">50.2954</td><td style = \"text-align: right;\">50.1684</td><td style = \"text-align: right;\">51.0206</td><td style = \"text-align: right;\">52.7171</td><td style = \"text-align: right;\">56.4652</td><td style = \"text-align: right;\">57.939</td><td style = \"text-align: right;\">60.2442</td><td style = \"text-align: right;\">61.6194</td><td style = \"text-align: right;\">62.1981</td><td style = \"text-align: right;\">62.991</td><td style = \"text-align: right;\">62.2278</td><td style = \"text-align: right;\">62.3718</td><td style = \"text-align: right;\">61.7099</td><td style = \"text-align: right;\">61.5276</td><td style = \"text-align: right;\">62.6195</td><td style = \"text-align: right;\">63.7655</td><td style = \"text-align: right;\">63.0222</td><td style = \"text-align: right;\">62.4779</td><td style = \"text-align: right;\">61.335</td><td style = \"text-align: right;\">58.7834</td><td style = \"text-align: right;\">56.9749</td><td style = \"text-align: right;\">54.3093</td><td style = \"text-align: right;\">52.5674</td><td style = \"text-align: right;\">50.9058</td><td style = \"text-align: right;\">49.1147</td><td style = \"text-align: right;\">48.9647</td><td style = \"text-align: right;\">50.4118</td><td style = \"text-align: right;\">52.9744</td><td style = \"text-align: right;\">57.5529</td><td style = \"text-align: right;\">59.5595</td><td style = \"text-align: right;\">61.7796</td><td style = \"text-align: right;\">63.3946</td><td style = \"text-align: right;\">64.3687</td><td style = \"text-align: right;\">64.8196</td><td style = \"text-align: right;\">63.9283</td><td style = \"text-align: right;\">64.4074</td><td style = \"text-align: right;\">64.1811</td><td style = \"text-align: right;\">63.8743</td><td style = \"text-align: right;\">64.5734</td><td style = \"text-align: right;\">65.4648</td><td style = \"text-align: right;\">64.7471</td><td style = \"text-align: right;\">63.8132</td><td style = \"text-align: right;\">62.6783</td><td style = \"text-align: right;\">60.1616</td><td style = \"text-align: right;\">57.6464</td><td style = \"text-align: right;\">55.517</td><td style = \"text-align: right;\">54.081</td><td style = \"text-align: right;\">51.773</td><td style = \"text-align: right;\">50.721</td><td style = \"text-align: right;\">50.764</td><td style = \"text-align: right;\">51.7242</td><td style = \"text-align: right;\">54.0864</td><td style = \"text-align: right;\">58.873</td><td style = \"text-align: right;\">60.4726</td><td style = \"text-align: right;\">61.7017</td><td style = \"text-align: right;\">62.7949</td><td style = \"text-align: right;\">62.6847</td><td style = \"text-align: right;\">61.2785</td><td style = \"text-align: right;\">61.9269</td><td style = \"text-align: right;\">62.7479</td><td style = \"text-align: right;\">62.4735</td><td style = \"text-align: right;\">62.5549</td><td style = \"text-align: right;\">64.6083</td><td style = \"text-align: right;\">66.0509</td><td style = \"text-align: right;\">65.1992</td><td style = \"text-align: right;\">64.5559</td><td style = \"text-align: right;\">63.7026</td><td style = \"text-align: right;\">61.306</td><td style = \"text-align: right;\">59.0192</td><td style = \"text-align: right;\">56.1659</td><td style = \"text-align: right;\">54.9491</td><td style = \"text-align: right;\">53.3017</td><td style = \"text-align: right;\">52.1855</td><td style = \"text-align: right;\">52.5803</td><td style = \"text-align: right;\">&ctdot;</td></tr><tr><td class = \"rowNumber\" style = \"font-weight: bold; text-align: right;\">3991</td><td style = \"text-align: right;\">3991</td><td style = \"text-align: right;\">36.6374</td><td style = \"text-align: right;\">35.6639</td><td style = \"text-align: right;\">35.3698</td><td style = \"text-align: right;\">35.7907</td><td style = \"text-align: right;\">37.2487</td><td style = \"text-align: right;\">40.6992</td><td style = \"text-align: right;\">43.1931</td><td style = \"text-align: right;\">44.2576</td><td style = \"text-align: right;\">45.3465</td><td style = \"text-align: right;\">46.065</td><td style = \"text-align: right;\">47.1748</td><td style = \"text-align: right;\">47.3171</td><td style = \"text-align: right;\">47.5399</td><td style = \"text-align: right;\">47.1319</td><td style = \"text-align: right;\">46.8941</td><td style = \"text-align: right;\">49.4</td><td style = \"text-align: right;\">49.5048</td><td style = \"text-align: right;\">48.6999</td><td style = \"text-align: right;\">48.6571</td><td style = \"text-align: right;\">47.2361</td><td style = \"text-align: right;\">44.3348</td><td style = \"text-align: right;\">41.7723</td><td style = \"text-align: right;\">39.5275</td><td style = \"text-align: right;\">37.3478</td><td style = \"text-align: right;\">35.8847</td><td style = \"text-align: right;\">35.4058</td><td style = \"text-align: right;\">35.3382</td><td style = \"text-align: right;\">35.732</td><td style = \"text-align: right;\">36.7733</td><td style = \"text-align: right;\">40.4848</td><td style = \"text-align: right;\">43.264</td><td style = \"text-align: right;\">45.0498</td><td style = \"text-align: right;\">46.9169</td><td style = \"text-align: right;\">48.3914</td><td style = \"text-align: right;\">49.3682</td><td style = \"text-align: right;\">49.6639</td><td style = \"text-align: right;\">49.9378</td><td style = \"text-align: right;\">49.1006</td><td style = \"text-align: right;\">48.8748</td><td style = \"text-align: right;\">50.6484</td><td style = \"text-align: right;\">50.7545</td><td style = \"text-align: right;\">49.8547</td><td style = \"text-align: right;\">49.5429</td><td style = \"text-align: right;\">48.4889</td><td style = \"text-align: right;\">45.831</td><td style = \"text-align: right;\">43.3695</td><td style = \"text-align: right;\">40.6111</td><td style = \"text-align: right;\">38.4531</td><td style = \"text-align: right;\">37.1226</td><td style = \"text-align: right;\">36.2552</td><td style = \"text-align: right;\">35.9877</td><td style = \"text-align: right;\">36.1864</td><td style = \"text-align: right;\">36.9121</td><td style = \"text-align: right;\">40.8884</td><td style = \"text-align: right;\">43.4656</td><td style = \"text-align: right;\">45.2204</td><td style = \"text-align: right;\">47.0018</td><td style = \"text-align: right;\">48.2821</td><td style = \"text-align: right;\">49.7612</td><td style = \"text-align: right;\">49.8444</td><td style = \"text-align: right;\">50.102</td><td style = \"text-align: right;\">49.624</td><td style = \"text-align: right;\">49.4728</td><td style = \"text-align: right;\">51.1462</td><td style = \"text-align: right;\">51.1399</td><td style = \"text-align: right;\">50.5674</td><td style = \"text-align: right;\">50.3299</td><td style = \"text-align: right;\">48.8305</td><td style = \"text-align: right;\">46.1827</td><td style = \"text-align: right;\">43.5585</td><td style = \"text-align: right;\">41.1316</td><td style = \"text-align: right;\">39.1652</td><td style = \"text-align: right;\">37.8614</td><td style = \"text-align: right;\">37.0511</td><td style = \"text-align: right;\">37.1399</td><td style = \"text-align: right;\">37.7962</td><td style = \"text-align: right;\">39.1944</td><td style = \"text-align: right;\">44.357</td><td style = \"text-align: right;\">48.5948</td><td style = \"text-align: right;\">50.2611</td><td style = \"text-align: right;\">51.6463</td><td style = \"text-align: right;\">52.385</td><td style = \"text-align: right;\">53.1789</td><td style = \"text-align: right;\">53.4902</td><td style = \"text-align: right;\">53.8151</td><td style = \"text-align: right;\">53.0824</td><td style = \"text-align: right;\">52.9467</td><td style = \"text-align: right;\">54.2901</td><td style = \"text-align: right;\">54.2702</td><td style = \"text-align: right;\">53.41</td><td style = \"text-align: right;\">53.5452</td><td style = \"text-align: right;\">52.2525</td><td style = \"text-align: right;\">49.0058</td><td style = \"text-align: right;\">45.7509</td><td style = \"text-align: right;\">42.8095</td><td style = \"text-align: right;\">40.8922</td><td style = \"text-align: right;\">39.6681</td><td style = \"text-align: right;\">39.1188</td><td style = \"text-align: right;\">39.3114</td><td style = \"text-align: right;\">&ctdot;</td></tr><tr><td class = \"rowNumber\" style = \"font-weight: bold; text-align: right;\">3992</td><td style = \"text-align: right;\">3992</td><td style = \"text-align: right;\">50.9306</td><td style = \"text-align: right;\">49.5967</td><td style = \"text-align: right;\">49.4241</td><td style = \"text-align: right;\">50.1819</td><td style = \"text-align: right;\">54.3831</td><td style = \"text-align: right;\">64.6997</td><td style = \"text-align: right;\">72.3507</td><td style = \"text-align: right;\">75.2323</td><td style = \"text-align: right;\">77.4501</td><td style = \"text-align: right;\">77.9032</td><td style = \"text-align: right;\">77.9157</td><td style = \"text-align: right;\">79.2336</td><td style = \"text-align: right;\">80.286</td><td style = \"text-align: right;\">79.3842</td><td style = \"text-align: right;\">80.9003</td><td style = \"text-align: right;\">84.9674</td><td style = \"text-align: right;\">85.7817</td><td style = \"text-align: right;\">85.6673</td><td style = \"text-align: right;\">85.3281</td><td style = \"text-align: right;\">83.8942</td><td style = \"text-align: right;\">79.2613</td><td style = \"text-align: right;\">73.7424</td><td style = \"text-align: right;\">68.5321</td><td style = \"text-align: right;\">64.7616</td><td style = \"text-align: right;\">62.3503</td><td style = \"text-align: right;\">61.5269</td><td style = \"text-align: right;\">61.6981</td><td style = \"text-align: right;\">63.812</td><td style = \"text-align: right;\">68.0999</td><td style = \"text-align: right;\">81.1282</td><td style = \"text-align: right;\">89.4002</td><td style = \"text-align: right;\">92.4514</td><td style = \"text-align: right;\">94.5747</td><td style = \"text-align: right;\">94.0902</td><td style = \"text-align: right;\">93.4376</td><td style = \"text-align: right;\">93.1237</td><td style = \"text-align: right;\">93.9807</td><td style = \"text-align: right;\">92.8945</td><td style = \"text-align: right;\">94.2659</td><td style = \"text-align: right;\">98.8642</td><td style = \"text-align: right;\">99.0824</td><td style = \"text-align: right;\">98.3925</td><td style = \"text-align: right;\">98.4192</td><td style = \"text-align: right;\">94.8488</td><td style = \"text-align: right;\">89.2584</td><td style = \"text-align: right;\">81.7275</td><td style = \"text-align: right;\">76.1141</td><td style = \"text-align: right;\">71.7914</td><td style = \"text-align: right;\">70.3117</td><td style = \"text-align: right;\">69.4481</td><td style = \"text-align: right;\">70.4354</td><td style = \"text-align: right;\">74.0208</td><td style = \"text-align: right;\">81.1869</td><td style = \"text-align: right;\">102.452</td><td style = \"text-align: right;\">118.005</td><td style = \"text-align: right;\">121.985</td><td style = \"text-align: right;\">120.121</td><td style = \"text-align: right;\">114.913</td><td style = \"text-align: right;\">114.068</td><td style = \"text-align: right;\">115.193</td><td style = \"text-align: right;\">116.311</td><td style = \"text-align: right;\">115.231</td><td style = \"text-align: right;\">115.559</td><td style = \"text-align: right;\">118.415</td><td style = \"text-align: right;\">116.459</td><td style = \"text-align: right;\">113.987</td><td style = \"text-align: right;\">112.493</td><td style = \"text-align: right;\">109.082</td><td style = \"text-align: right;\">99.8395</td><td style = \"text-align: right;\">89.808</td><td style = \"text-align: right;\">83.8148</td><td style = \"text-align: right;\">78.5121</td><td style = \"text-align: right;\">76.289</td><td style = \"text-align: right;\">75.0514</td><td style = \"text-align: right;\">75.8467</td><td style = \"text-align: right;\">77.0955</td><td style = \"text-align: right;\">81.843</td><td style = \"text-align: right;\">95.2667</td><td style = \"text-align: right;\">104.264</td><td style = \"text-align: right;\">108.056</td><td style = \"text-align: right;\">108.531</td><td style = \"text-align: right;\">105.991</td><td style = \"text-align: right;\">106.168</td><td style = \"text-align: right;\">105.447</td><td style = \"text-align: right;\">105.387</td><td style = \"text-align: right;\">103.618</td><td style = \"text-align: right;\">103.11</td><td style = \"text-align: right;\">107.184</td><td style = \"text-align: right;\">107.479</td><td style = \"text-align: right;\">105.728</td><td style = \"text-align: right;\">104.511</td><td style = \"text-align: right;\">100.644</td><td style = \"text-align: right;\">94.0274</td><td style = \"text-align: right;\">86.4811</td><td style = \"text-align: right;\">80.5673</td><td style = \"text-align: right;\">75.0923</td><td style = \"text-align: right;\">71.9182</td><td style = \"text-align: right;\">69.6711</td><td style = \"text-align: right;\">69.0343</td><td style = \"text-align: right;\">&ctdot;</td></tr><tr><td class = \"rowNumber\" style = \"font-weight: bold; text-align: right;\">3993</td><td style = \"text-align: right;\">3993</td><td style = \"text-align: right;\">77.7692</td><td style = \"text-align: right;\">75.6226</td><td style = \"text-align: right;\">74.6796</td><td style = \"text-align: right;\">77.559</td><td style = \"text-align: right;\">85.5351</td><td style = \"text-align: right;\">104.092</td><td style = \"text-align: right;\">119.383</td><td style = \"text-align: right;\">121.16</td><td style = \"text-align: right;\">120.881</td><td style = \"text-align: right;\">119.375</td><td style = \"text-align: right;\">117.604</td><td style = \"text-align: right;\">117.691</td><td style = \"text-align: right;\">117.761</td><td style = \"text-align: right;\">115.937</td><td style = \"text-align: right;\">120.161</td><td style = \"text-align: right;\">121.831</td><td style = \"text-align: right;\">125.608</td><td style = \"text-align: right;\">122.471</td><td style = \"text-align: right;\">121.117</td><td style = \"text-align: right;\">117.414</td><td style = \"text-align: right;\">113.641</td><td style = \"text-align: right;\">107.908</td><td style = \"text-align: right;\">104.543</td><td style = \"text-align: right;\">99.1168</td><td style = \"text-align: right;\">93.7554</td><td style = \"text-align: right;\">89.5286</td><td style = \"text-align: right;\">87.5741</td><td style = \"text-align: right;\">87.6892</td><td style = \"text-align: right;\">92.4641</td><td style = \"text-align: right;\">105.259</td><td style = \"text-align: right;\">116.811</td><td style = \"text-align: right;\">116.224</td><td style = \"text-align: right;\">114.508</td><td style = \"text-align: right;\">113.007</td><td style = \"text-align: right;\">113.019</td><td style = \"text-align: right;\">114.199</td><td style = \"text-align: right;\">115.109</td><td style = \"text-align: right;\">114.076</td><td style = \"text-align: right;\">115.312</td><td style = \"text-align: right;\">116.146</td><td style = \"text-align: right;\">120.192</td><td style = \"text-align: right;\">118.074</td><td style = \"text-align: right;\">117.606</td><td style = \"text-align: right;\">113.71</td><td style = \"text-align: right;\">110.348</td><td style = \"text-align: right;\">104.5</td><td style = \"text-align: right;\">101.082</td><td style = \"text-align: right;\">94.638</td><td style = \"text-align: right;\">89.7198</td><td style = \"text-align: right;\">86.4641</td><td style = \"text-align: right;\">84.4427</td><td style = \"text-align: right;\">85.0491</td><td style = \"text-align: right;\">90.5067</td><td style = \"text-align: right;\">102.444</td><td style = \"text-align: right;\">113.014</td><td style = \"text-align: right;\">114.667</td><td style = \"text-align: right;\">115.442</td><td style = \"text-align: right;\">114.675</td><td style = \"text-align: right;\">114.388</td><td style = \"text-align: right;\">114.223</td><td style = \"text-align: right;\">113.42</td><td style = \"text-align: right;\">112.306</td><td style = \"text-align: right;\">114.694</td><td style = \"text-align: right;\">115.69</td><td style = \"text-align: right;\">119.895</td><td style = \"text-align: right;\">117.795</td><td style = \"text-align: right;\">117.22</td><td style = \"text-align: right;\">113.528</td><td style = \"text-align: right;\">110.208</td><td style = \"text-align: right;\">105.342</td><td style = \"text-align: right;\">101.799</td><td style = \"text-align: right;\">96.0689</td><td style = \"text-align: right;\">91.4739</td><td style = \"text-align: right;\">87.7415</td><td style = \"text-align: right;\">85.9284</td><td style = \"text-align: right;\">86.6357</td><td style = \"text-align: right;\">91.9737</td><td style = \"text-align: right;\">104.48</td><td style = \"text-align: right;\">116.026</td><td style = \"text-align: right;\">118.027</td><td style = \"text-align: right;\">118.515</td><td style = \"text-align: right;\">116.46</td><td style = \"text-align: right;\">117.441</td><td style = \"text-align: right;\">118.316</td><td style = \"text-align: right;\">118.366</td><td style = \"text-align: right;\">116.826</td><td style = \"text-align: right;\">118.087</td><td style = \"text-align: right;\">119.104</td><td style = \"text-align: right;\">121.882</td><td style = \"text-align: right;\">119.682</td><td style = \"text-align: right;\">119.192</td><td style = \"text-align: right;\">116.089</td><td style = \"text-align: right;\">112.273</td><td style = \"text-align: right;\">106.812</td><td style = \"text-align: right;\">103.207</td><td style = \"text-align: right;\">97.5058</td><td style = \"text-align: right;\">92.9596</td><td style = \"text-align: right;\">89.0997</td><td style = \"text-align: right;\">87.6357</td><td style = \"text-align: right;\">&ctdot;</td></tr><tr><td class = \"rowNumber\" style = \"font-weight: bold; text-align: right;\">3994</td><td style = \"text-align: right;\">3994</td><td style = \"text-align: right;\">2.15666</td><td style = \"text-align: right;\">2.06078</td><td style = \"text-align: right;\">2.02823</td><td style = \"text-align: right;\">2.04706</td><td style = \"text-align: right;\">2.16844</td><td style = \"text-align: right;\">2.53601</td><td style = \"text-align: right;\">3.04911</td><td style = \"text-align: right;\">3.49873</td><td style = \"text-align: right;\">3.78405</td><td style = \"text-align: right;\">3.88308</td><td style = \"text-align: right;\">3.81372</td><td style = \"text-align: right;\">3.79976</td><td style = \"text-align: right;\">3.81193</td><td style = \"text-align: right;\">3.70191</td><td style = \"text-align: right;\">3.6348</td><td style = \"text-align: right;\">3.59527</td><td style = \"text-align: right;\">3.665</td><td style = \"text-align: right;\">3.77338</td><td style = \"text-align: right;\">3.71684</td><td style = \"text-align: right;\">3.66629</td><td style = \"text-align: right;\">3.55523</td><td style = \"text-align: right;\">3.24639</td><td style = \"text-align: right;\">2.95058</td><td style = \"text-align: right;\">2.72124</td><td style = \"text-align: right;\">2.47552</td><td style = \"text-align: right;\">2.3048</td><td style = \"text-align: right;\">2.21021</td><td style = \"text-align: right;\">2.18412</td><td style = \"text-align: right;\">2.20596</td><td style = \"text-align: right;\">2.2755</td><td style = \"text-align: right;\">2.36651</td><td style = \"text-align: right;\">2.49064</td><td style = \"text-align: right;\">2.7206</td><td style = \"text-align: right;\">2.90475</td><td style = \"text-align: right;\">2.95042</td><td style = \"text-align: right;\">2.93242</td><td style = \"text-align: right;\">2.97882</td><td style = \"text-align: right;\">2.93315</td><td style = \"text-align: right;\">2.8202</td><td style = \"text-align: right;\">2.78097</td><td style = \"text-align: right;\">2.81102</td><td style = \"text-align: right;\">2.90729</td><td style = \"text-align: right;\">2.84534</td><td style = \"text-align: right;\">2.84732</td><td style = \"text-align: right;\">2.82493</td><td style = \"text-align: right;\">2.75941</td><td style = \"text-align: right;\">2.6319</td><td style = \"text-align: right;\">2.46945</td><td style = \"text-align: right;\">2.23212</td><td style = \"text-align: right;\">2.07144</td><td style = \"text-align: right;\">1.98356</td><td style = \"text-align: right;\">1.94898</td><td style = \"text-align: right;\">1.92979</td><td style = \"text-align: right;\">1.92072</td><td style = \"text-align: right;\">1.86057</td><td style = \"text-align: right;\">1.84412</td><td style = \"text-align: right;\">2.14269</td><td style = \"text-align: right;\">2.39091</td><td style = \"text-align: right;\">2.54468</td><td style = \"text-align: right;\">2.56932</td><td style = \"text-align: right;\">2.6346</td><td style = \"text-align: right;\">2.60105</td><td style = \"text-align: right;\">2.45546</td><td style = \"text-align: right;\">2.4081</td><td style = \"text-align: right;\">2.42627</td><td style = \"text-align: right;\">2.58425</td><td style = \"text-align: right;\">2.60244</td><td style = \"text-align: right;\">2.64615</td><td style = \"text-align: right;\">2.70457</td><td style = \"text-align: right;\">2.72421</td><td style = \"text-align: right;\">2.59776</td><td style = \"text-align: right;\">2.39637</td><td style = \"text-align: right;\">2.15718</td><td style = \"text-align: right;\">2.02412</td><td style = \"text-align: right;\">1.93892</td><td style = \"text-align: right;\">1.9147</td><td style = \"text-align: right;\">1.93603</td><td style = \"text-align: right;\">2.05387</td><td style = \"text-align: right;\">2.16676</td><td style = \"text-align: right;\">2.31273</td><td style = \"text-align: right;\">2.61098</td><td style = \"text-align: right;\">2.851</td><td style = \"text-align: right;\">2.97501</td><td style = \"text-align: right;\">2.9977</td><td style = \"text-align: right;\">3.04597</td><td style = \"text-align: right;\">2.98578</td><td style = \"text-align: right;\">2.84585</td><td style = \"text-align: right;\">2.78972</td><td style = \"text-align: right;\">2.82089</td><td style = \"text-align: right;\">2.98585</td><td style = \"text-align: right;\">3.01025</td><td style = \"text-align: right;\">3.03789</td><td style = \"text-align: right;\">3.05346</td><td style = \"text-align: right;\">2.91967</td><td style = \"text-align: right;\">2.70978</td><td style = \"text-align: right;\">2.54666</td><td style = \"text-align: right;\">2.32818</td><td style = \"text-align: right;\">2.188</td><td style = \"text-align: right;\">2.09797</td><td style = \"text-align: right;\">&ctdot;</td></tr><tr><td class = \"rowNumber\" style = \"font-weight: bold; text-align: right;\">3995</td><td style = \"text-align: right;\">3995</td><td style = \"text-align: right;\">2.87275</td><td style = \"text-align: right;\">2.58667</td><td style = \"text-align: right;\">2.49666</td><td style = \"text-align: right;\">2.49716</td><td style = \"text-align: right;\">2.55606</td><td style = \"text-align: right;\">2.71174</td><td style = \"text-align: right;\">3.10908</td><td style = \"text-align: right;\">3.72065</td><td style = \"text-align: right;\">4.53431</td><td style = \"text-align: right;\">5.05139</td><td style = \"text-align: right;\">5.10704</td><td style = \"text-align: right;\">5.10299</td><td style = \"text-align: right;\">4.98646</td><td style = \"text-align: right;\">4.99797</td><td style = \"text-align: right;\">5.23416</td><td style = \"text-align: right;\">5.20455</td><td style = \"text-align: right;\">5.23976</td><td style = \"text-align: right;\">5.31193</td><td style = \"text-align: right;\">5.47174</td><td style = \"text-align: right;\">5.60263</td><td style = \"text-align: right;\">5.44404</td><td style = \"text-align: right;\">5.06749</td><td style = \"text-align: right;\">4.62909</td><td style = \"text-align: right;\">4.19381</td><td style = \"text-align: right;\">3.81413</td><td style = \"text-align: right;\">3.56786</td><td style = \"text-align: right;\">3.41987</td><td style = \"text-align: right;\">3.35685</td><td style = \"text-align: right;\">3.32526</td><td style = \"text-align: right;\">3.38933</td><td style = \"text-align: right;\">3.68828</td><td style = \"text-align: right;\">4.30731</td><td style = \"text-align: right;\">4.87629</td><td style = \"text-align: right;\">5.00534</td><td style = \"text-align: right;\">4.94594</td><td style = \"text-align: right;\">4.93951</td><td style = \"text-align: right;\">4.79675</td><td style = \"text-align: right;\">4.69433</td><td style = \"text-align: right;\">4.78338</td><td style = \"text-align: right;\">4.79195</td><td style = \"text-align: right;\">4.84447</td><td style = \"text-align: right;\">4.98086</td><td style = \"text-align: right;\">5.24323</td><td style = \"text-align: right;\">5.45358</td><td style = \"text-align: right;\">5.3817</td><td style = \"text-align: right;\">5.04493</td><td style = \"text-align: right;\">4.68221</td><td style = \"text-align: right;\">4.21692</td><td style = \"text-align: right;\">3.78055</td><td style = \"text-align: right;\">3.51979</td><td style = \"text-align: right;\">3.3883</td><td style = \"text-align: right;\">3.30664</td><td style = \"text-align: right;\">3.27956</td><td style = \"text-align: right;\">3.35026</td><td style = \"text-align: right;\">3.64388</td><td style = \"text-align: right;\">4.17586</td><td style = \"text-align: right;\">4.7334</td><td style = \"text-align: right;\">4.97303</td><td style = \"text-align: right;\">4.91459</td><td style = \"text-align: right;\">4.89868</td><td style = \"text-align: right;\">4.71557</td><td style = \"text-align: right;\">4.58406</td><td style = \"text-align: right;\">4.67709</td><td style = \"text-align: right;\">4.64491</td><td style = \"text-align: right;\">4.72338</td><td style = \"text-align: right;\">4.94942</td><td style = \"text-align: right;\">5.27517</td><td style = \"text-align: right;\">5.4577</td><td style = \"text-align: right;\">5.34134</td><td style = \"text-align: right;\">5.00375</td><td style = \"text-align: right;\">4.66221</td><td style = \"text-align: right;\">4.19504</td><td style = \"text-align: right;\">3.75983</td><td style = \"text-align: right;\">3.51139</td><td style = \"text-align: right;\">3.35859</td><td style = \"text-align: right;\">3.28909</td><td style = \"text-align: right;\">3.28413</td><td style = \"text-align: right;\">3.34897</td><td style = \"text-align: right;\">3.65176</td><td style = \"text-align: right;\">4.15186</td><td style = \"text-align: right;\">4.74746</td><td style = \"text-align: right;\">4.87789</td><td style = \"text-align: right;\">4.79711</td><td style = \"text-align: right;\">4.76363</td><td style = \"text-align: right;\">4.60364</td><td style = \"text-align: right;\">4.52161</td><td style = \"text-align: right;\">4.53152</td><td style = \"text-align: right;\">4.56889</td><td style = \"text-align: right;\">4.65674</td><td style = \"text-align: right;\">4.86907</td><td style = \"text-align: right;\">5.18174</td><td style = \"text-align: right;\">5.40004</td><td style = \"text-align: right;\">5.30704</td><td style = \"text-align: right;\">5.02618</td><td style = \"text-align: right;\">4.56789</td><td style = \"text-align: right;\">4.16217</td><td style = \"text-align: right;\">3.75467</td><td style = \"text-align: right;\">3.45628</td><td style = \"text-align: right;\">3.33205</td><td style = \"text-align: right;\">&ctdot;</td></tr><tr><td class = \"rowNumber\" style = \"font-weight: bold; text-align: right;\">3996</td><td style = \"text-align: right;\">3996</td><td style = \"text-align: right;\">24.9513</td><td style = \"text-align: right;\">24.5957</td><td style = \"text-align: right;\">24.4885</td><td style = \"text-align: right;\">24.3807</td><td style = \"text-align: right;\">24.4172</td><td style = \"text-align: right;\">23.746</td><td style = \"text-align: right;\">23.1931</td><td style = \"text-align: right;\">23.0405</td><td style = \"text-align: right;\">23.7832</td><td style = \"text-align: right;\">24.9401</td><td style = \"text-align: right;\">26.6318</td><td style = \"text-align: right;\">28.3935</td><td style = \"text-align: right;\">28.3779</td><td style = \"text-align: right;\">27.7043</td><td style = \"text-align: right;\">27.9619</td><td style = \"text-align: right;\">28.5117</td><td style = \"text-align: right;\">30.5374</td><td style = \"text-align: right;\">30.9571</td><td style = \"text-align: right;\">30.457</td><td style = \"text-align: right;\">29.3304</td><td style = \"text-align: right;\">28.0722</td><td style = \"text-align: right;\">27.2674</td><td style = \"text-align: right;\">25.7373</td><td style = \"text-align: right;\">23.7099</td><td style = \"text-align: right;\">22.8618</td><td style = \"text-align: right;\">22.4228</td><td style = \"text-align: right;\">22.9176</td><td style = \"text-align: right;\">23.6663</td><td style = \"text-align: right;\">25.8216</td><td style = \"text-align: right;\">29.133</td><td style = \"text-align: right;\">33.3296</td><td style = \"text-align: right;\">35.3496</td><td style = \"text-align: right;\">36.311</td><td style = \"text-align: right;\">36.9486</td><td style = \"text-align: right;\">37.7032</td><td style = \"text-align: right;\">38.6401</td><td style = \"text-align: right;\">38.2948</td><td style = \"text-align: right;\">37.5723</td><td style = \"text-align: right;\">37.1662</td><td style = \"text-align: right;\">37.0417</td><td style = \"text-align: right;\">38.7019</td><td style = \"text-align: right;\">38.4371</td><td style = \"text-align: right;\">38.4373</td><td style = \"text-align: right;\">36.4618</td><td style = \"text-align: right;\">34.3018</td><td style = \"text-align: right;\">33.0809</td><td style = \"text-align: right;\">30.7003</td><td style = \"text-align: right;\">29.1358</td><td style = \"text-align: right;\">27.8279</td><td style = \"text-align: right;\">27.1794</td><td style = \"text-align: right;\">27.4504</td><td style = \"text-align: right;\">28.4835</td><td style = \"text-align: right;\">30.1252</td><td style = \"text-align: right;\">32.6399</td><td style = \"text-align: right;\">34.8894</td><td style = \"text-align: right;\">37.1027</td><td style = \"text-align: right;\">38.15</td><td style = \"text-align: right;\">39.1371</td><td style = \"text-align: right;\">40.5768</td><td style = \"text-align: right;\">40.6087</td><td style = \"text-align: right;\">40.546</td><td style = \"text-align: right;\">39.4921</td><td style = \"text-align: right;\">39.1347</td><td style = \"text-align: right;\">39.7642</td><td style = \"text-align: right;\">41.5128</td><td style = \"text-align: right;\">41.8931</td><td style = \"text-align: right;\">41.5722</td><td style = \"text-align: right;\">39.5275</td><td style = \"text-align: right;\">37.0967</td><td style = \"text-align: right;\">35.4494</td><td style = \"text-align: right;\">33.5367</td><td style = \"text-align: right;\">31.2823</td><td style = \"text-align: right;\">29.8664</td><td style = \"text-align: right;\">29.2155</td><td style = \"text-align: right;\">29.3536</td><td style = \"text-align: right;\">29.5876</td><td style = \"text-align: right;\">30.7503</td><td style = \"text-align: right;\">33.6323</td><td style = \"text-align: right;\">37.3178</td><td style = \"text-align: right;\">39.2644</td><td style = \"text-align: right;\">38.9113</td><td style = \"text-align: right;\">39.2249</td><td style = \"text-align: right;\">40.2008</td><td style = \"text-align: right;\">40.7802</td><td style = \"text-align: right;\">40.2041</td><td style = \"text-align: right;\">38.9336</td><td style = \"text-align: right;\">38.8434</td><td style = \"text-align: right;\">38.8864</td><td style = \"text-align: right;\">39.5154</td><td style = \"text-align: right;\">39.5525</td><td style = \"text-align: right;\">38.472</td><td style = \"text-align: right;\">36.9435</td><td style = \"text-align: right;\">35.3721</td><td style = \"text-align: right;\">33.731</td><td style = \"text-align: right;\">31.5022</td><td style = \"text-align: right;\">28.9905</td><td style = \"text-align: right;\">27.6217</td><td style = \"text-align: right;\">27.1745</td><td style = \"text-align: right;\">27.4556</td><td style = \"text-align: right;\">&ctdot;</td></tr><tr><td class = \"rowNumber\" style = \"font-weight: bold; text-align: right;\">3997</td><td style = \"text-align: right;\">3997</td><td style = \"text-align: right;\">7.09538</td><td style = \"text-align: right;\">6.7151</td><td style = \"text-align: right;\">6.46816</td><td style = \"text-align: right;\">6.41922</td><td style = \"text-align: right;\">6.60677</td><td style = \"text-align: right;\">7.23674</td><td style = \"text-align: right;\">8.1579</td><td style = \"text-align: right;\">9.06175</td><td style = \"text-align: right;\">9.99212</td><td style = \"text-align: right;\">10.4527</td><td style = \"text-align: right;\">10.5149</td><td style = \"text-align: right;\">10.3882</td><td style = \"text-align: right;\">10.5127</td><td style = \"text-align: right;\">10.4087</td><td style = \"text-align: right;\">10.1053</td><td style = \"text-align: right;\">9.91865</td><td style = \"text-align: right;\">9.93847</td><td style = \"text-align: right;\">10.4241</td><td style = \"text-align: right;\">10.724</td><td style = \"text-align: right;\">10.9695</td><td style = \"text-align: right;\">10.8953</td><td style = \"text-align: right;\">10.205</td><td style = \"text-align: right;\">9.26478</td><td style = \"text-align: right;\">8.38267</td><td style = \"text-align: right;\">7.57974</td><td style = \"text-align: right;\">7.14729</td><td style = \"text-align: right;\">6.92241</td><td style = \"text-align: right;\">6.84877</td><td style = \"text-align: right;\">7.01861</td><td style = \"text-align: right;\">7.68967</td><td style = \"text-align: right;\">8.62727</td><td style = \"text-align: right;\">9.44575</td><td style = \"text-align: right;\">10.287</td><td style = \"text-align: right;\">10.7429</td><td style = \"text-align: right;\">10.8049</td><td style = \"text-align: right;\">10.6582</td><td style = \"text-align: right;\">10.6775</td><td style = \"text-align: right;\">10.5468</td><td style = \"text-align: right;\">10.265</td><td style = \"text-align: right;\">10.1043</td><td style = \"text-align: right;\">10.1182</td><td style = \"text-align: right;\">10.5858</td><td style = \"text-align: right;\">10.8233</td><td style = \"text-align: right;\">10.9424</td><td style = \"text-align: right;\">10.7766</td><td style = \"text-align: right;\">10.0639</td><td style = \"text-align: right;\">9.17649</td><td style = \"text-align: right;\">8.27339</td><td style = \"text-align: right;\">7.42373</td><td style = \"text-align: right;\">6.94637</td><td style = \"text-align: right;\">6.7276</td><td style = \"text-align: right;\">6.6432</td><td style = \"text-align: right;\">6.69229</td><td style = \"text-align: right;\">6.97716</td><td style = \"text-align: right;\">7.53071</td><td style = \"text-align: right;\">7.9867</td><td style = \"text-align: right;\">8.79105</td><td style = \"text-align: right;\">9.45554</td><td style = \"text-align: right;\">9.69056</td><td style = \"text-align: right;\">9.55142</td><td style = \"text-align: right;\">9.62474</td><td style = \"text-align: right;\">9.52296</td><td style = \"text-align: right;\">9.18731</td><td style = \"text-align: right;\">9.03634</td><td style = \"text-align: right;\">9.09071</td><td style = \"text-align: right;\">9.71778</td><td style = \"text-align: right;\">10.1026</td><td style = \"text-align: right;\">10.4077</td><td style = \"text-align: right;\">10.4032</td><td style = \"text-align: right;\">9.94495</td><td style = \"text-align: right;\">8.99247</td><td style = \"text-align: right;\">8.15263</td><td style = \"text-align: right;\">7.48162</td><td style = \"text-align: right;\">7.08999</td><td style = \"text-align: right;\">6.97232</td><td style = \"text-align: right;\">6.9917</td><td style = \"text-align: right;\">7.25552</td><td style = \"text-align: right;\">8.19994</td><td style = \"text-align: right;\">9.56724</td><td style = \"text-align: right;\">10.6823</td><td style = \"text-align: right;\">11.5131</td><td style = \"text-align: right;\">12.109</td><td style = \"text-align: right;\">12.3757</td><td style = \"text-align: right;\">12.505</td><td style = \"text-align: right;\">12.7004</td><td style = \"text-align: right;\">12.4847</td><td style = \"text-align: right;\">12.1746</td><td style = \"text-align: right;\">11.9646</td><td style = \"text-align: right;\">11.9665</td><td style = \"text-align: right;\">12.2742</td><td style = \"text-align: right;\">12.4726</td><td style = \"text-align: right;\">12.5425</td><td style = \"text-align: right;\">12.1054</td><td style = \"text-align: right;\">11.0735</td><td style = \"text-align: right;\">9.81193</td><td style = \"text-align: right;\">8.88513</td><td style = \"text-align: right;\">8.08675</td><td style = \"text-align: right;\">7.71749</td><td style = \"text-align: right;\">7.56855</td><td style = \"text-align: right;\">&ctdot;</td></tr><tr><td class = \"rowNumber\" style = \"font-weight: bold; text-align: right;\">3998</td><td style = \"text-align: right;\">3998</td><td style = \"text-align: right;\">7.43919</td><td style = \"text-align: right;\">7.33531</td><td style = \"text-align: right;\">7.29009</td><td style = \"text-align: right;\">7.21909</td><td style = \"text-align: right;\">7.09103</td><td style = \"text-align: right;\">6.77534</td><td style = \"text-align: right;\">6.77524</td><td style = \"text-align: right;\">6.92403</td><td style = \"text-align: right;\">7.11603</td><td style = \"text-align: right;\">7.16702</td><td style = \"text-align: right;\">7.17016</td><td style = \"text-align: right;\">7.10562</td><td style = \"text-align: right;\">7.20048</td><td style = \"text-align: right;\">7.35721</td><td style = \"text-align: right;\">7.65511</td><td style = \"text-align: right;\">8.03885</td><td style = \"text-align: right;\">8.20949</td><td style = \"text-align: right;\">8.2116</td><td style = \"text-align: right;\">8.14511</td><td style = \"text-align: right;\">7.95231</td><td style = \"text-align: right;\">7.90776</td><td style = \"text-align: right;\">7.76334</td><td style = \"text-align: right;\">7.31865</td><td style = \"text-align: right;\">7.03976</td><td style = \"text-align: right;\">6.83925</td><td style = \"text-align: right;\">6.77813</td><td style = \"text-align: right;\">6.82523</td><td style = \"text-align: right;\">6.95952</td><td style = \"text-align: right;\">7.43398</td><td style = \"text-align: right;\">8.19662</td><td style = \"text-align: right;\">8.64722</td><td style = \"text-align: right;\">8.98783</td><td style = \"text-align: right;\">9.25932</td><td style = \"text-align: right;\">9.47728</td><td style = \"text-align: right;\">9.54042</td><td style = \"text-align: right;\">9.60082</td><td style = \"text-align: right;\">9.55411</td><td style = \"text-align: right;\">9.5707</td><td style = \"text-align: right;\">9.80801</td><td style = \"text-align: right;\">10.4489</td><td style = \"text-align: right;\">10.5353</td><td style = \"text-align: right;\">10.4991</td><td style = \"text-align: right;\">10.28</td><td style = \"text-align: right;\">9.76207</td><td style = \"text-align: right;\">9.05604</td><td style = \"text-align: right;\">8.38776</td><td style = \"text-align: right;\">8.05842</td><td style = \"text-align: right;\">7.72741</td><td style = \"text-align: right;\">7.49953</td><td style = \"text-align: right;\">7.47605</td><td style = \"text-align: right;\">7.5832</td><td style = \"text-align: right;\">7.81876</td><td style = \"text-align: right;\">8.26032</td><td style = \"text-align: right;\">9.06498</td><td style = \"text-align: right;\">9.50134</td><td style = \"text-align: right;\">9.80515</td><td style = \"text-align: right;\">9.76301</td><td style = \"text-align: right;\">9.81234</td><td style = \"text-align: right;\">9.88465</td><td style = \"text-align: right;\">10.0491</td><td style = \"text-align: right;\">9.82777</td><td style = \"text-align: right;\">9.86358</td><td style = \"text-align: right;\">10.0517</td><td style = \"text-align: right;\">10.822</td><td style = \"text-align: right;\">10.8663</td><td style = \"text-align: right;\">10.7442</td><td style = \"text-align: right;\">10.5969</td><td style = \"text-align: right;\">10.0532</td><td style = \"text-align: right;\">9.4556</td><td style = \"text-align: right;\">8.97738</td><td style = \"text-align: right;\">8.55503</td><td style = \"text-align: right;\">8.20549</td><td style = \"text-align: right;\">8.10174</td><td style = \"text-align: right;\">7.92822</td><td style = \"text-align: right;\">7.9197</td><td style = \"text-align: right;\">8.29293</td><td style = \"text-align: right;\">8.85096</td><td style = \"text-align: right;\">9.66021</td><td style = \"text-align: right;\">10.2236</td><td style = \"text-align: right;\">10.6529</td><td style = \"text-align: right;\">10.6814</td><td style = \"text-align: right;\">10.6564</td><td style = \"text-align: right;\">10.4968</td><td style = \"text-align: right;\">10.5418</td><td style = \"text-align: right;\">10.3663</td><td style = \"text-align: right;\">10.3765</td><td style = \"text-align: right;\">10.5015</td><td style = \"text-align: right;\">11.3227</td><td style = \"text-align: right;\">11.5516</td><td style = \"text-align: right;\">11.4409</td><td style = \"text-align: right;\">11.1729</td><td style = \"text-align: right;\">10.6163</td><td style = \"text-align: right;\">9.77129</td><td style = \"text-align: right;\">9.20233</td><td style = \"text-align: right;\">8.65997</td><td style = \"text-align: right;\">8.26318</td><td style = \"text-align: right;\">8.08518</td><td style = \"text-align: right;\">8.10292</td><td style = \"text-align: right;\">8.179</td><td style = \"text-align: right;\">&ctdot;</td></tr></tbody></table></div>"
      ],
      "text/latex": [
       "\\begin{tabular}{r|ccccccccc}\n",
       "\t& id & 0 & 1 & 2 & 3 & 4 & 5 & 6 & \\\\\n",
       "\t\\hline\n",
       "\t& Int64 & Float64 & Float64 & Float64 & Float64 & Float64 & Float64 & Float64 & \\\\\n",
       "\t\\hline\n",
       "\t1 & 1 & 74.466 & 73.2467 & 73.6876 & 74.7227 & 76.3537 & 79.9334 & 86.243 & $\\dots$ \\\\\n",
       "\t2 & 2 & 54.645 & 54.7817 & 54.9209 & 56.6581 & 59.2274 & 64.6843 & 72.4964 & $\\dots$ \\\\\n",
       "\t3 & 3 & 35.4111 & 35.0507 & 35.6161 & 36.7346 & 38.4769 & 41.3568 & 46.524 & $\\dots$ \\\\\n",
       "\t4 & 4 & 38.4188 & 37.6099 & 37.2637 & 37.5414 & 38.7814 & 40.541 & 42.2854 & $\\dots$ \\\\\n",
       "\t5 & 5 & 108.463 & 105.278 & 103.875 & 105.879 & 116.432 & 131.756 & 147.466 & $\\dots$ \\\\\n",
       "\t6 & 6 & 74.2567 & 72.2593 & 72.1686 & 74.5168 & 79.427 & 88.8167 & 98.5726 & $\\dots$ \\\\\n",
       "\t7 & 7 & 150.559 & 144.043 & 140.039 & 141.288 & 149.581 & 163.961 & 180.283 & $\\dots$ \\\\\n",
       "\t8 & 8 & 100.891 & 98.29 & 96.0034 & 97.8273 & 107.19 & 119.909 & 133.02 & $\\dots$ \\\\\n",
       "\t9 & 9 & 165.217 & 158.743 & 155.572 & 156.807 & 167.354 & 185.148 & 205.39 & $\\dots$ \\\\\n",
       "\t10 & 10 & 35.6675 & 33.7645 & 31.71 & 31.3624 & 32.1406 & 33.0578 & 34.532 & $\\dots$ \\\\\n",
       "\t11 & 11 & 69.1639 & 67.9676 & 67.7324 & 69.5658 & 76.2816 & 85.8142 & 96.3999 & $\\dots$ \\\\\n",
       "\t12 & 12 & 51.3631 & 50.7922 & 50.9357 & 52.8717 & 59.3369 & 67.1436 & 74.8134 & $\\dots$ \\\\\n",
       "\t13 & 13 & 133.578 & 130.503 & 128.922 & 132.902 & 150.378 & 175.721 & 199.86 & $\\dots$ \\\\\n",
       "\t14 & 14 & 364.144 & 347.012 & 332.372 & 333.121 & 351.395 & 382.423 & 417.781 & $\\dots$ \\\\\n",
       "\t15 & 15 & 341.675 & 331.041 & 323.816 & 331.855 & 368.404 & 425.952 & 482.518 & $\\dots$ \\\\\n",
       "\t16 & 16 & 292.921 & 284.736 & 276.61 & 282.056 & 294.569 & 317.335 & 341.599 & $\\dots$ \\\\\n",
       "\t17 & 17 & 248.999 & 244.062 & 241.365 & 249.409 & 269.924 & 305.635 & 342.167 & $\\dots$ \\\\\n",
       "\t18 & 18 & 297.76 & 294.987 & 293.198 & 304.111 & 346.978 & 414.288 & 481.327 & $\\dots$ \\\\\n",
       "\t19 & 19 & 111.402 & 108.561 & 107.182 & 110.316 & 122.088 & 139.349 & 156.999 & $\\dots$ \\\\\n",
       "\t20 & 20 & 23.7975 & 22.9131 & 22.5453 & 22.9212 & 24.9054 & 28.1064 & 31.3045 & $\\dots$ \\\\\n",
       "\t21 & 21 & 140.929 & 136.919 & 134.075 & 137.944 & 153.196 & 174.016 & 193.709 & $\\dots$ \\\\\n",
       "\t22 & 22 & 211.796 & 206.67 & 203.541 & 210.16 & 233.665 & 270.019 & 303.97 & $\\dots$ \\\\\n",
       "\t23 & 23 & 42.6234 & 41.8062 & 40.9317 & 42.3772 & 47.0068 & 53.9422 & 60.9954 & $\\dots$ \\\\\n",
       "\t24 & 24 & 174.908 & 168.932 & 163.952 & 164.927 & 183.497 & 209.366 & 237.04 & $\\dots$ \\\\\n",
       "\t25 & 25 & 49.1454 & 47.6017 & 46.5568 & 47.1882 & 51.3122 & 57.2094 & 63.8922 & $\\dots$ \\\\\n",
       "\t26 & 26 & 219.202 & 210.281 & 200.862 & 200.207 & 208.325 & 222.452 & 242.181 & $\\dots$ \\\\\n",
       "\t27 & 27 & 83.4606 & 80.5009 & 77.9625 & 79.1622 & 84.3599 & 91.5991 & 100.112 & $\\dots$ \\\\\n",
       "\t28 & 28 & 40.5683 & 38.7068 & 37.1078 & 37.245 & 39.3577 & 42.3503 & 45.9479 & $\\dots$ \\\\\n",
       "\t29 & 29 & 53.146 & 50.8728 & 49.382 & 49.8747 & 53.0792 & 58.2242 & 63.6591 & $\\dots$ \\\\\n",
       "\t30 & 30 & 8.38299e-8 & 8.26492e-8 & 8.29839e-8 & 8.63616e-8 & 9.58057e-8 & 1.08956e-7 & 1.22165e-7 & $\\dots$ \\\\\n",
       "\t$\\dots$ & $\\dots$ & $\\dots$ & $\\dots$ & $\\dots$ & $\\dots$ & $\\dots$ & $\\dots$ & $\\dots$ &  \\\\\n",
       "\\end{tabular}\n"
      ],
      "text/plain": [
       "\u001b[1m3998×8737 DataFrame\u001b[0m\n",
       "\u001b[1m  Row \u001b[0m│\u001b[1m id    \u001b[0m\u001b[1m 0         \u001b[0m\u001b[1m 1         \u001b[0m\u001b[1m 2         \u001b[0m\u001b[1m 3         \u001b[0m\u001b[1m 4         \u001b[0m\u001b[1m 5       \u001b[0m ⋯\n",
       "      │\u001b[90m Int64 \u001b[0m\u001b[90m Float64   \u001b[0m\u001b[90m Float64   \u001b[0m\u001b[90m Float64   \u001b[0m\u001b[90m Float64   \u001b[0m\u001b[90m Float64   \u001b[0m\u001b[90m Float64 \u001b[0m ⋯\n",
       "──────┼─────────────────────────────────────────────────────────────────────────\n",
       "    1 │     1   74.466     73.2467    73.6876    74.7227    76.3537    79.9334 ⋯\n",
       "    2 │     2   54.645     54.7817    54.9209    56.6581    59.2274    64.6843\n",
       "    3 │     3   35.4111    35.0507    35.6161    36.7346    38.4769    41.3568\n",
       "    4 │     4   38.4188    37.6099    37.2637    37.5414    38.7814    40.541\n",
       "    5 │     5  108.463    105.278    103.875    105.879    116.432    131.756  ⋯\n",
       "    6 │     6   74.2567    72.2593    72.1686    74.5168    79.427     88.8167\n",
       "    7 │     7  150.559    144.043    140.039    141.288    149.581    163.961\n",
       "    8 │     8  100.891     98.29      96.0034    97.8273   107.19     119.909\n",
       "    9 │     9  165.217    158.743    155.572    156.807    167.354    185.148  ⋯\n",
       "   10 │    10   35.6675    33.7645    31.71      31.3624    32.1406    33.0578\n",
       "   11 │    11   69.1639    67.9676    67.7324    69.5658    76.2816    85.8142\n",
       "  ⋮   │   ⋮        ⋮          ⋮          ⋮          ⋮          ⋮          ⋮    ⋱\n",
       " 3989 │  3989   13.7782    12.8158    12.4129    12.2185    12.4773    13.2365\n",
       " 3990 │  3990   48.618     46.7239    46.6568    47.3999    51.0371    56.5781 ⋯\n",
       " 3991 │  3991   36.6374    35.6639    35.3698    35.7907    37.2487    40.6992\n",
       " 3992 │  3992   50.9306    49.5967    49.4241    50.1819    54.3831    64.6997\n",
       " 3993 │  3993   77.7692    75.6226    74.6796    77.559     85.5351   104.092\n",
       " 3994 │  3994    2.15666    2.06078    2.02823    2.04706    2.16844    2.5360 ⋯\n",
       " 3995 │  3995    2.87275    2.58667    2.49666    2.49716    2.55606    2.7117\n",
       " 3996 │  3996   24.9513    24.5957    24.4885    24.3807    24.4172    23.746\n",
       " 3997 │  3997    7.09538    6.7151     6.46816    6.41922    6.60677    7.2367\n",
       " 3998 │  3998    7.43919    7.33531    7.29009    7.21909    7.09103    6.7753 ⋯\n",
       "\u001b[36m                                              8731 columns and 3977 rows omitted\u001b[0m"
      ]
     },
     "execution_count": 30,
     "metadata": {},
     "output_type": "execute_result"
    }
   ],
   "source": [
    "loads_df = CSV.read(\"../doc/data/pantagruel_load_series.csv\", DataFrame)\n",
    "sort!(loads_df)"
   ]
  },
  {
   "cell_type": "code",
   "execution_count": 31,
   "id": "2708c860-3f34-4b09-8488-b603551ffcb4",
   "metadata": {},
   "outputs": [
    {
     "data": {
      "text/plain": [
       "3998×8736 Matrix{Float64}:\n",
       " 0.74466    0.732467   0.736876   …  0.85205    0.800011   0.765229\n",
       " 0.54645    0.547817   0.549209      0.621106   0.587303   0.556486\n",
       " 0.354111   0.350507   0.356161      0.406689   0.379902   0.360561\n",
       " 0.384188   0.376099   0.372637      0.451663   0.420222   0.400347\n",
       " 1.08463    1.05278    1.03875       1.31638    1.20116    1.09667\n",
       " 0.742567   0.722593   0.721686   …  0.890943   0.831667   0.764127\n",
       " 1.50559    1.44043    1.40039       1.89973    1.68634    1.54749\n",
       " 1.00891    0.9829     0.960034      1.21707    1.11978    1.01126\n",
       " 1.65217    1.58743    1.55572       2.04231    1.82466    1.68361\n",
       " 0.356675   0.337645   0.3171        0.441983   0.400283   0.35698\n",
       " 0.691639   0.679676   0.677324   …  0.849481   0.752974   0.715005\n",
       " 0.513631   0.507922   0.509357      0.585086   0.559866   0.518014\n",
       " 1.33578    1.30503    1.28922       1.66914    1.50159    1.35161\n",
       " ⋮                                ⋱                        ⋮\n",
       " 0.457044   0.459938   0.467764      0.542409   0.517688   0.489217\n",
       " 0.512474   0.505392   0.494308      0.571024   0.547011   0.526434\n",
       " 0.137782   0.128158   0.124129      0.177482   0.166612   0.151419\n",
       " 0.48618    0.467239   0.466568      0.521506   0.499872   0.497458\n",
       " 0.366374   0.356639   0.353698   …  0.427354   0.402982   0.382177\n",
       " 0.509306   0.495967   0.494241      0.583224   0.549786   0.523634\n",
       " 0.777692   0.756226   0.746796      0.914639   0.869962   0.811769\n",
       " 0.0215666  0.0206078  0.0202823     0.0295351  0.0265343  0.0236923\n",
       " 0.0287275  0.0258667  0.0249666     0.034227   0.0320998  0.0294123\n",
       " 0.249513   0.245957   0.244885   …  0.271388   0.258437   0.240914\n",
       " 0.0709538  0.067151   0.0646816     0.096492   0.0874429  0.0782308\n",
       " 0.0743919  0.0733531  0.0729009     0.0781602  0.0766798  0.0748965"
      ]
     },
     "execution_count": 31,
     "metadata": {},
     "output_type": "execute_result"
    }
   ],
   "source": [
    "loads = Matrix(loads_df[:, 2:end]) / 100.0"
   ]
  },
  {
   "cell_type": "code",
   "execution_count": 32,
   "id": "f416e1ec-1921-46a4-aa57-038157f22412",
   "metadata": {},
   "outputs": [
    {
     "data": {
      "text/plain": [
       "4097×3998 SparseMatrixCSC{Float64, Int64} with 3998 stored entries:\n",
       "⎡⠳⣄⠀⠀⠀⠀⠀⠀⠀⠀⠀⠀⠀⠀⠀⠀⠀⠀⠀⠀⠀⠀⠀⠀⠀⠀⠀⠀⠀⠀⠀⠀⠀⠀⠀⠀⠀⠀⠀⠀⎤\n",
       "⎢⠀⠈⠳⣄⠀⠀⠀⠀⠀⠀⠀⠀⠀⠀⠀⠀⠀⠀⠀⠀⠀⠀⠀⠀⠀⠀⠀⠀⠀⠀⠀⠀⠀⠀⠀⠀⠀⠀⠀⠀⎥\n",
       "⎢⠀⠀⠀⠈⠳⣄⠀⠀⠀⠀⠀⠀⠀⠀⠀⠀⠀⠀⠀⠀⠀⠀⠀⠀⠀⠀⠀⠀⠀⠀⠀⠀⠀⠀⠀⠀⠀⠀⠀⠀⎥\n",
       "⎢⠀⠀⠀⠀⠀⠈⠳⣄⠀⠀⠀⠀⠀⠀⠀⠀⠀⠀⠀⠀⠀⠀⠀⠀⠀⠀⠀⠀⠀⠀⠀⠀⠀⠀⠀⠀⠀⠀⠀⠀⎥\n",
       "⎢⠀⠀⠀⠀⠀⠀⠀⠈⠳⣄⠀⠀⠀⠀⠀⠀⠀⠀⠀⠀⠀⠀⠀⠀⠀⠀⠀⠀⠀⠀⠀⠀⠀⠀⠀⠀⠀⠀⠀⠀⎥\n",
       "⎢⠀⠀⠀⠀⠀⠀⠀⠀⠀⠈⠳⣄⠀⠀⠀⠀⠀⠀⠀⠀⠀⠀⠀⠀⠀⠀⠀⠀⠀⠀⠀⠀⠀⠀⠀⠀⠀⠀⠀⠀⎥\n",
       "⎢⠀⠀⠀⠀⠀⠀⠀⠀⠀⠀⠀⠈⠳⣄⠀⠀⠀⠀⠀⠀⠀⠀⠀⠀⠀⠀⠀⠀⠀⠀⠀⠀⠀⠀⠀⠀⠀⠀⠀⠀⎥\n",
       "⎢⠀⠀⠀⠀⠀⠀⠀⠀⠀⠀⠀⠀⠀⠈⠳⣄⠀⠀⠀⠀⠀⠀⠀⠀⠀⠀⠀⠀⠀⠀⠀⠀⠀⠀⠀⠀⠀⠀⠀⠀⎥\n",
       "⎢⠀⠀⠀⠀⠀⠀⠀⠀⠀⠀⠀⠀⠀⠀⠀⠈⠳⣄⠀⠀⠀⠀⠀⠀⠀⠀⠀⠀⠀⠀⠀⠀⠀⠀⠀⠀⠀⠀⠀⠀⎥\n",
       "⎢⠀⠀⠀⠀⠀⠀⠀⠀⠀⠀⠀⠀⠀⠀⠀⠀⠀⠈⠳⣄⠀⠀⠀⠀⠀⠀⠀⠀⠀⠀⠀⠀⠀⠀⠀⠀⠀⠀⠀⠀⎥\n",
       "⎢⠀⠀⠀⠀⠀⠀⠀⠀⠀⠀⠀⠀⠀⠀⠀⠀⠀⠀⠀⠈⠳⣄⠀⠀⠀⠀⠀⠀⠀⠀⠀⠀⠀⠀⠀⠀⠀⠀⠀⠀⎥\n",
       "⎢⠀⠀⠀⠀⠀⠀⠀⠀⠀⠀⠀⠀⠀⠀⠀⠀⠀⠀⠀⠀⠀⠈⠳⣄⠀⠀⠀⠀⠀⠀⠀⠀⠀⠀⠀⠀⠀⠀⠀⠀⎥\n",
       "⎢⠀⠀⠀⠀⠀⠀⠀⠀⠀⠀⠀⠀⠀⠀⠀⠀⠀⠀⠀⠀⠀⠀⠀⠈⠳⣄⠀⠀⠀⠀⠀⠀⠀⠀⠀⠀⠀⠀⠀⠀⎥\n",
       "⎢⠀⠀⠀⠀⠀⠀⠀⠀⠀⠀⠀⠀⠀⠀⠀⠀⠀⠀⠀⠀⠀⠀⠀⠀⠀⠈⠳⣄⠀⠀⠀⠀⠀⠀⠀⠀⠀⠀⠀⠀⎥\n",
       "⎢⠀⠀⠀⠀⠀⠀⠀⠀⠀⠀⠀⠀⠀⠀⠀⠀⠀⠀⠀⠀⠀⠀⠀⠀⠀⠀⠀⠈⠳⣄⠀⠀⠀⠀⠀⠀⠀⠀⠀⠀⎥\n",
       "⎢⠀⠀⠀⠀⠀⠀⠀⠀⠀⠀⠀⠀⠀⠀⠀⠀⠀⠀⠀⠀⠀⠀⠀⠀⠀⠀⠀⠀⠀⠈⠳⣄⠀⠀⠀⠀⠀⠀⠀⠀⎥\n",
       "⎢⠀⠀⠀⠀⠀⠀⠀⠀⠀⠀⠀⠀⠀⠀⠀⠀⠀⠀⠀⠀⠀⠀⠀⠀⠀⠀⠀⠀⠀⠀⠀⠈⠳⣄⠀⠀⠀⠀⠀⠀⎥\n",
       "⎢⠀⠀⠀⠀⠀⠀⠀⠀⠀⠀⠀⠀⠀⠀⠀⠀⠀⠀⠀⠀⠀⠀⠀⠀⠀⠀⠀⠀⠀⠀⠀⠀⠀⠈⠳⣄⠀⠀⠀⠀⎥\n",
       "⎢⠀⠀⠀⠀⠀⠀⠀⠀⠀⠀⠀⠀⠀⠀⠀⠀⠀⠀⠀⠀⠀⠀⠀⠀⠀⠀⠀⠀⠀⠀⠀⠀⠀⠀⠀⠈⠳⣄⠀⠀⎥\n",
       "⎢⠀⠀⠀⠀⠀⠀⠀⠀⠀⠀⠀⠀⠀⠀⠀⠀⠀⠀⠀⠀⠀⠀⠀⠀⠀⠀⠀⠀⠀⠀⠀⠀⠀⠀⠀⠀⠀⠈⠳⡄⎥\n",
       "⎣⠀⠀⠀⠀⠀⠀⠀⠀⠀⠀⠀⠀⠀⠀⠀⠀⠀⠀⠀⠀⠀⠀⠀⠀⠀⠀⠀⠀⠀⠀⠀⠀⠀⠀⠀⠀⠀⠀⠀⠈⎦"
      ]
     },
     "execution_count": 32,
     "metadata": {},
     "output_type": "execute_result"
    }
   ],
   "source": [
    "load_buses = [bus_ids_map[network[\"load\"][string(id)][\"load_bus\"]] for id ∈ load_ids]\n",
    "\n",
    "A_load = sparse(load_buses, load_ids, ones(Nloads), Nbuses, Nloads)"
   ]
  },
  {
   "cell_type": "code",
   "execution_count": 33,
   "id": "fb0898cb-d58b-4124-ac03-668977924aa6",
   "metadata": {},
   "outputs": [
    {
     "data": {
      "text/plain": [
       "1×8736 Matrix{Float64}:\n",
       " 2364.15  2297.78  2248.39  2256.18  …  2808.25  2735.96  2621.31  2473.69"
      ]
     },
     "execution_count": 33,
     "metadata": {},
     "output_type": "execute_result"
    }
   ],
   "source": [
    "total_load = sum(loads, dims=1)"
   ]
  },
  {
   "cell_type": "markdown",
   "id": "897cb178-af72-46d5-a4f8-2c071e51601a",
   "metadata": {
    "jp-MarkdownHeadingCollapsed": true
   },
   "source": [
    "## Calculate total load by country based on capacity and usage"
   ]
  },
  {
   "cell_type": "markdown",
   "id": "af9b729f-2e21-47df-91c0-5a58e52a56dd",
   "metadata": {},
   "source": [
    "Determine the expected production by country and type based on capacity and usage:"
   ]
  },
  {
   "cell_type": "code",
   "execution_count": 34,
   "id": "260724a9-a8b8-4599-900b-37320b3c8675",
   "metadata": {},
   "outputs": [
    {
     "data": {
      "text/plain": [
       "OrderedCollections.OrderedDict{String, Float64} with 26 entries:\n",
       "  \"DE\" => 279.256\n",
       "  \"PL\" => 136.378\n",
       "  \"FR\" => 129.988\n",
       "  \"IT\" => 127.814\n",
       "  \"ES\" => 78.738\n",
       "  \"NL\" => 59.6867\n",
       "  \"AT\" => 57.8544\n",
       "  \"RO\" => 48.9335\n",
       "  \"GR\" => 48.2076\n",
       "  \"PT\" => 42.5945\n",
       "  \"CZ\" => 35.501\n",
       "  \"RS\" => 29.6354\n",
       "  \"BG\" => 19.8427\n",
       "  \"BE\" => 17.3629\n",
       "  \"BA\" => 13.4466\n",
       "  \"CH\" => 11.6612\n",
       "  \"SI\" => 11.1836\n",
       "  \"HU\" => 10.6986\n",
       "  \"SK\" => 9.39437\n",
       "  \"DK\" => 7.71758\n",
       "  \"HR\" => 6.7509\n",
       "  \"MK\" => 5.00832\n",
       "  \"AL\" => 4.75198\n",
       "  \"LU\" => 3.56473\n",
       "  \"XX\" => 2.6395\n",
       "  \"ME\" => 2.33425"
      ]
     },
     "execution_count": 34,
     "metadata": {},
     "output_type": "execute_result"
    }
   ],
   "source": [
    "expected_production_by_country = Dict(gen[\"country\"] => 0.0 for gen ∈ values(network[\"gen\"]))\n",
    "\n",
    "for gen ∈ values(network[\"gen\"])\n",
    "    expected_production_by_country[gen[\"country\"]] += gen[\"pexp\"]\n",
    "end\n",
    "\n",
    "sort(expected_production_by_country, byvalue=true, rev=true)"
   ]
  },
  {
   "cell_type": "markdown",
   "id": "675b7d33-f0a8-4ebd-be71-f7933f8011e7",
   "metadata": {},
   "source": [
    "Export by country:"
   ]
  },
  {
   "cell_type": "code",
   "execution_count": 35,
   "id": "b0dfec97-3a1c-4004-b457-f9e62a14b3cd",
   "metadata": {},
   "outputs": [
    {
     "data": {
      "text/html": [
       "<div><div style = \"float: left;\"><span>25×2 DataFrame</span></div><div style = \"clear: both;\"></div></div><div class = \"data-frame\" style = \"overflow-x: scroll;\"><table class = \"data-frame\" style = \"margin-bottom: 6px;\"><thead><tr class = \"header\"><th class = \"rowNumber\" style = \"font-weight: bold; text-align: right;\">Row</th><th style = \"text-align: left;\">country</th><th style = \"text-align: left;\">out_flow</th></tr><tr class = \"subheader headerLastRow\"><th class = \"rowNumber\" style = \"font-weight: bold; text-align: right;\"></th><th title = \"String3\" style = \"text-align: left;\">String3</th><th title = \"Float64\" style = \"text-align: left;\">Float64</th></tr></thead><tbody><tr><td class = \"rowNumber\" style = \"font-weight: bold; text-align: right;\">1</td><td style = \"text-align: left;\">DE</td><td style = \"text-align: right;\">5663.42</td></tr><tr><td class = \"rowNumber\" style = \"font-weight: bold; text-align: right;\">2</td><td style = \"text-align: left;\">SI</td><td style = \"text-align: right;\">127.709</td></tr><tr><td class = \"rowNumber\" style = \"font-weight: bold; text-align: right;\">3</td><td style = \"text-align: left;\">HR</td><td style = \"text-align: right;\">-717.664</td></tr><tr><td class = \"rowNumber\" style = \"font-weight: bold; text-align: right;\">4</td><td style = \"text-align: left;\">BE</td><td style = \"text-align: right;\">-725.658</td></tr><tr><td class = \"rowNumber\" style = \"font-weight: bold; text-align: right;\">5</td><td style = \"text-align: left;\">ES</td><td style = \"text-align: right;\">-1454.95</td></tr><tr><td class = \"rowNumber\" style = \"font-weight: bold; text-align: right;\">6</td><td style = \"text-align: left;\">FR</td><td style = \"text-align: right;\">3016.91</td></tr><tr><td class = \"rowNumber\" style = \"font-weight: bold; text-align: right;\">7</td><td style = \"text-align: left;\">RS</td><td style = \"text-align: right;\">167.457</td></tr><tr><td class = \"rowNumber\" style = \"font-weight: bold; text-align: right;\">8</td><td style = \"text-align: left;\">DK</td><td style = \"text-align: right;\">-282.057</td></tr><tr><td class = \"rowNumber\" style = \"font-weight: bold; text-align: right;\">9</td><td style = \"text-align: left;\">BA</td><td style = \"text-align: right;\">425.84</td></tr><tr><td class = \"rowNumber\" style = \"font-weight: bold; text-align: right;\">10</td><td style = \"text-align: left;\">PL</td><td style = \"text-align: right;\">234.598</td></tr><tr><td class = \"rowNumber\" style = \"font-weight: bold; text-align: right;\">11</td><td style = \"text-align: left;\">RO</td><td style = \"text-align: right;\">664.282</td></tr><tr><td class = \"rowNumber\" style = \"font-weight: bold; text-align: right;\">12</td><td style = \"text-align: left;\">NL</td><td style = \"text-align: right;\">-991.27</td></tr><tr><td class = \"rowNumber\" style = \"font-weight: bold; text-align: right;\">13</td><td style = \"text-align: left;\">GR</td><td style = \"text-align: right;\">-838.198</td></tr><tr><td class = \"rowNumber\" style = \"font-weight: bold; text-align: right;\">14</td><td style = \"text-align: left;\">BG</td><td style = \"text-align: right;\">189.876</td></tr><tr><td class = \"rowNumber\" style = \"font-weight: bold; text-align: right;\">15</td><td style = \"text-align: left;\">CH</td><td style = \"text-align: right;\">-513.167</td></tr><tr><td class = \"rowNumber\" style = \"font-weight: bold; text-align: right;\">16</td><td style = \"text-align: left;\">AT</td><td style = \"text-align: right;\">-993.982</td></tr><tr><td class = \"rowNumber\" style = \"font-weight: bold; text-align: right;\">17</td><td style = \"text-align: left;\">CZ</td><td style = \"text-align: right;\">1251.13</td></tr><tr><td class = \"rowNumber\" style = \"font-weight: bold; text-align: right;\">18</td><td style = \"text-align: left;\">SK</td><td style = \"text-align: right;\">-537.451</td></tr><tr><td class = \"rowNumber\" style = \"font-weight: bold; text-align: right;\">19</td><td style = \"text-align: left;\">HU</td><td style = \"text-align: right;\">-963.781</td></tr><tr><td class = \"rowNumber\" style = \"font-weight: bold; text-align: right;\">20</td><td style = \"text-align: left;\">PT</td><td style = \"text-align: right;\">573.057</td></tr><tr><td class = \"rowNumber\" style = \"font-weight: bold; text-align: right;\">21</td><td style = \"text-align: left;\">IT</td><td style = \"text-align: right;\">-4133.25</td></tr><tr><td class = \"rowNumber\" style = \"font-weight: bold; text-align: right;\">22</td><td style = \"text-align: left;\">AL</td><td style = \"text-align: right;\">4.88879</td></tr><tr><td class = \"rowNumber\" style = \"font-weight: bold; text-align: right;\">23</td><td style = \"text-align: left;\">MK</td><td style = \"text-align: right;\">-136.804</td></tr><tr><td class = \"rowNumber\" style = \"font-weight: bold; text-align: right;\">24</td><td style = \"text-align: left;\">ME</td><td style = \"text-align: right;\">-30.9394</td></tr><tr><td class = \"rowNumber\" style = \"font-weight: bold; text-align: right;\">25</td><td style = \"text-align: left;\">LU</td><td style = \"text-align: right;\">0.0</td></tr></tbody></table></div>"
      ],
      "text/latex": [
       "\\begin{tabular}{r|cc}\n",
       "\t& country & out\\_flow\\\\\n",
       "\t\\hline\n",
       "\t& String3 & Float64\\\\\n",
       "\t\\hline\n",
       "\t1 & DE & 5663.42 \\\\\n",
       "\t2 & SI & 127.709 \\\\\n",
       "\t3 & HR & -717.664 \\\\\n",
       "\t4 & BE & -725.658 \\\\\n",
       "\t5 & ES & -1454.95 \\\\\n",
       "\t6 & FR & 3016.91 \\\\\n",
       "\t7 & RS & 167.457 \\\\\n",
       "\t8 & DK & -282.057 \\\\\n",
       "\t9 & BA & 425.84 \\\\\n",
       "\t10 & PL & 234.598 \\\\\n",
       "\t11 & RO & 664.282 \\\\\n",
       "\t12 & NL & -991.27 \\\\\n",
       "\t13 & GR & -838.198 \\\\\n",
       "\t14 & BG & 189.876 \\\\\n",
       "\t15 & CH & -513.167 \\\\\n",
       "\t16 & AT & -993.982 \\\\\n",
       "\t17 & CZ & 1251.13 \\\\\n",
       "\t18 & SK & -537.451 \\\\\n",
       "\t19 & HU & -963.781 \\\\\n",
       "\t20 & PT & 573.057 \\\\\n",
       "\t21 & IT & -4133.25 \\\\\n",
       "\t22 & AL & 4.88879 \\\\\n",
       "\t23 & MK & -136.804 \\\\\n",
       "\t24 & ME & -30.9394 \\\\\n",
       "\t25 & LU & 0.0 \\\\\n",
       "\\end{tabular}\n"
      ],
      "text/plain": [
       "\u001b[1m25×2 DataFrame\u001b[0m\n",
       "\u001b[1m Row \u001b[0m│\u001b[1m country \u001b[0m\u001b[1m out_flow    \u001b[0m\n",
       "     │\u001b[90m String3 \u001b[0m\u001b[90m Float64     \u001b[0m\n",
       "─────┼──────────────────────\n",
       "   1 │ DE        5663.42\n",
       "   2 │ SI         127.709\n",
       "   3 │ HR        -717.664\n",
       "   4 │ BE        -725.658\n",
       "   5 │ ES       -1454.95\n",
       "   6 │ FR        3016.91\n",
       "   7 │ RS         167.457\n",
       "   8 │ DK        -282.057\n",
       "   9 │ BA         425.84\n",
       "  10 │ PL         234.598\n",
       "  11 │ RO         664.282\n",
       "  ⋮  │    ⋮          ⋮\n",
       "  16 │ AT        -993.982\n",
       "  17 │ CZ        1251.13\n",
       "  18 │ SK        -537.451\n",
       "  19 │ HU        -963.781\n",
       "  20 │ PT         573.057\n",
       "  21 │ IT       -4133.25\n",
       "  22 │ AL           4.88879\n",
       "  23 │ MK        -136.804\n",
       "  24 │ ME         -30.9394\n",
       "  25 │ LU           0.0\n",
       "\u001b[36m              4 rows omitted\u001b[0m"
      ]
     },
     "execution_count": 35,
     "metadata": {},
     "output_type": "execute_result"
    }
   ],
   "source": [
    "out_flow_df = CSV.read(\"pantagruel_out_flow.csv\", DataFrame)"
   ]
  },
  {
   "cell_type": "code",
   "execution_count": 36,
   "id": "13871632-ec73-4264-a100-eb2bacad6e76",
   "metadata": {},
   "outputs": [
    {
     "data": {
      "text/plain": [
       "OrderedCollections.OrderedDict{String, Float64} with 26 entries:\n",
       "  \"DE\" => 56.6342\n",
       "  \"FR\" => 30.1691\n",
       "  \"CZ\" => 12.5113\n",
       "  \"RO\" => 6.64282\n",
       "  \"PT\" => 5.73057\n",
       "  \"BA\" => 4.2584\n",
       "  \"PL\" => 2.34598\n",
       "  \"BG\" => 1.89876\n",
       "  \"RS\" => 1.67457\n",
       "  \"SI\" => 1.27709\n",
       "  \"AL\" => 0.0488879\n",
       "  \"LU\" => 0.0\n",
       "  \"XX\" => 0.0\n",
       "  \"ME\" => -0.309394\n",
       "  \"MK\" => -1.36804\n",
       "  \"DK\" => -2.82057\n",
       "  \"CH\" => -5.13167\n",
       "  \"SK\" => -5.37451\n",
       "  \"HR\" => -7.17664\n",
       "  \"BE\" => -7.25658\n",
       "  \"GR\" => -8.38198\n",
       "  \"HU\" => -9.63781\n",
       "  \"NL\" => -9.9127\n",
       "  \"AT\" => -9.93982\n",
       "  \"ES\" => -14.5495\n",
       "  \"IT\" => -41.3325"
      ]
     },
     "execution_count": 36,
     "metadata": {},
     "output_type": "execute_result"
    }
   ],
   "source": [
    "out_flow_by_country = Dict{String, Float64}()\n",
    "for (country, flow) in eachrow(out_flow_df)\n",
    "    out_flow_by_country[country] = flow / 100.0\n",
    "end\n",
    "out_flow_by_country[\"XX\"] = 0.0\n",
    "\n",
    "sort(out_flow_by_country, byvalue=true, rev=true)"
   ]
  },
  {
   "cell_type": "markdown",
   "id": "52a8ffc1-8076-4097-99dc-67bee348be48",
   "metadata": {},
   "source": [
    "Nuclear production by country:"
   ]
  },
  {
   "cell_type": "code",
   "execution_count": 37,
   "id": "20fd114f-266a-4e96-aabb-b911e04ce790",
   "metadata": {},
   "outputs": [
    {
     "data": {
      "text/plain": [
       "Dict{String, Float64} with 26 entries:\n",
       "  \"SI\" => 0.0\n",
       "  \"ES\" => 45.3376\n",
       "  \"GR\" => 0.0\n",
       "  \"LU\" => 0.0\n",
       "  \"HU\" => 16.8633\n",
       "  \"CH\" => 22.9463\n",
       "  \"MK\" => 0.0\n",
       "  \"RS\" => 0.0\n",
       "  \"XX\" => 0.0\n",
       "  \"DE\" => 90.667\n",
       "  \"AL\" => 0.0\n",
       "  \"FR\" => 441.027\n",
       "  \"PL\" => 0.0\n",
       "  \"IT\" => 0.0\n",
       "  \"AT\" => 0.0\n",
       "  \"HR\" => 0.0\n",
       "  \"PT\" => 0.0\n",
       "  \"ME\" => 0.0\n",
       "  \"NL\" => 4.22129\n",
       "  \"BE\" => 46.9143\n",
       "  \"RO\" => 11.829\n",
       "  \"BG\" => 17.1781\n",
       "  \"CZ\" => 24.8885\n",
       "  \"SK\" => 16.7945\n",
       "  \"DK\" => 0.0\n",
       "  \"BA\" => 0.0"
      ]
     },
     "execution_count": 37,
     "metadata": {},
     "output_type": "execute_result"
    }
   ],
   "source": [
    "nuclear_production_by_country = Dict(country => 0.0 for country ∈ keys(expected_production_by_country))\n",
    "for id ∈ nuc_ids\n",
    "    country = network[\"nuc\"][string(id)][\"country\"]\n",
    "    nuclear_production_by_country[country] += avg_nuclear[nuc_ids_map[id]]\n",
    "end\n",
    "nuclear_production_by_country"
   ]
  },
  {
   "cell_type": "markdown",
   "id": "29b2c116-8ce9-4a7f-8420-f54016293bd5",
   "metadata": {},
   "source": [
    "Determine annual load by country:"
   ]
  },
  {
   "cell_type": "code",
   "execution_count": 38,
   "id": "93ea4b7b-fcf5-42eb-b58d-3e2b29749e68",
   "metadata": {},
   "outputs": [
    {
     "data": {
      "text/plain": [
       "OrderedCollections.OrderedDict{String, Float64} with 26 entries:\n",
       "  \"FR\" => 540.846\n",
       "  \"DE\" => 313.289\n",
       "  \"IT\" => 169.147\n",
       "  \"ES\" => 138.625\n",
       "  \"PL\" => 134.032\n",
       "  \"NL\" => 73.8207\n",
       "  \"BE\" => 71.5338\n",
       "  \"AT\" => 67.7943\n",
       "  \"GR\" => 56.5896\n",
       "  \"RO\" => 54.1198\n",
       "  \"CZ\" => 47.8782\n",
       "  \"CH\" => 39.7391\n",
       "  \"HU\" => 37.1997\n",
       "  \"PT\" => 36.8639\n",
       "  \"BG\" => 35.122\n",
       "  \"SK\" => 31.5634\n",
       "  \"RS\" => 27.9608\n",
       "  \"HR\" => 13.9275\n",
       "  \"DK\" => 10.5382\n",
       "  \"SI\" => 9.90647\n",
       "  \"BA\" => 9.18824\n",
       "  \"MK\" => 6.37635\n",
       "  \"AL\" => 4.70309\n",
       "  \"LU\" => 3.56473\n",
       "  \"ME\" => 2.64364\n",
       "  \"XX\" => 2.6395"
      ]
     },
     "execution_count": 38,
     "metadata": {},
     "output_type": "execute_result"
    }
   ],
   "source": [
    "expected_load_by_country = Dict(country => prod + nuclear_production_by_country[country] - out_flow_by_country[country]\n",
    "    for (country, prod) ∈ expected_production_by_country)\n",
    "\n",
    "sort(expected_load_by_country, byvalue=true, rev=true)"
   ]
  },
  {
   "cell_type": "code",
   "execution_count": 39,
   "id": "9e0a460c-d321-4378-9b30-c695e65b189d",
   "metadata": {},
   "outputs": [
    {
     "data": {
      "text/plain": [
       "3998×1 Matrix{Float64}:\n",
       "  6648.30849591262\n",
       "  5780.98971189365\n",
       "  3744.6776833951203\n",
       "  2933.9041279664293\n",
       " 12903.279338897046\n",
       "  7514.775953077493\n",
       " 13685.749977486332\n",
       " 13083.337484544412\n",
       " 18767.726695815192\n",
       "  3893.6146175195977\n",
       "  7649.001888283338\n",
       "  8147.7309374378\n",
       " 16376.578348475297\n",
       "     ⋮\n",
       "  4839.694558630272\n",
       "  6505.801031515837\n",
       "  1528.090420111857\n",
       "  4498.329959300439\n",
       "  3773.117458098835\n",
       "  7191.353724004487\n",
       "  7958.192801021348\n",
       "   252.15232435394037\n",
       "   338.4932371837163\n",
       "  2899.3881922842793\n",
       "   689.871728814763\n",
       "   847.851616934551"
      ]
     },
     "execution_count": 39,
     "metadata": {},
     "output_type": "execute_result"
    }
   ],
   "source": [
    "annual_load = sum(loads, dims=2)"
   ]
  },
  {
   "cell_type": "code",
   "execution_count": 40,
   "id": "d3ee2c1e-7ca9-43a2-ba64-4f4c3c4f6614",
   "metadata": {},
   "outputs": [],
   "source": [
    "annual_load_by_country = Dict{String, Float64}()\n",
    "\n",
    "for id ∈ load_ids\n",
    "    country = network[\"bus\"][string(network[\"load\"][string(id)][\"load_bus\"])][\"country\"]\n",
    "    if !haskey(annual_load_by_country, country)\n",
    "        annual_load_by_country[country] = 0.0\n",
    "    end\n",
    "    annual_load_by_country[country] += annual_load[id]\n",
    "end"
   ]
  },
  {
   "cell_type": "code",
   "execution_count": 41,
   "id": "351abec2-7723-48c1-94ce-7933b3504923",
   "metadata": {},
   "outputs": [
    {
     "data": {
      "text/plain": [
       "(71.2539678231059, 39.7391434232667)"
      ]
     },
     "execution_count": 41,
     "metadata": {},
     "output_type": "execute_result"
    }
   ],
   "source": [
    "annual_load_by_country[\"CH\"] / T, expected_load_by_country[\"CH\"]"
   ]
  },
  {
   "cell_type": "code",
   "execution_count": 42,
   "id": "df0f3bd3-9305-4ae9-bf00-00420b61a667",
   "metadata": {},
   "outputs": [
    {
     "data": {
      "text/plain": [
       "(523.880531969998, 540.8458502856153)"
      ]
     },
     "execution_count": 42,
     "metadata": {},
     "output_type": "execute_result"
    }
   ],
   "source": [
    "annual_load_by_country[\"FR\"] / T, expected_load_by_country[\"FR\"]"
   ]
  },
  {
   "cell_type": "code",
   "execution_count": 43,
   "id": "e9071c28-b524-47a6-8def-d90fc6d57d1c",
   "metadata": {},
   "outputs": [
    {
     "data": {
      "text/plain": [
       "(563.7847869744847, 313.28889751171255)"
      ]
     },
     "execution_count": 43,
     "metadata": {},
     "output_type": "execute_result"
    }
   ],
   "source": [
    "annual_load_by_country[\"DE\"] / T, expected_load_by_country[\"DE\"]"
   ]
  },
  {
   "cell_type": "code",
   "execution_count": 44,
   "id": "32f406ee-35e7-43f6-8f6c-e59a97e20c76",
   "metadata": {},
   "outputs": [
    {
     "data": {
      "text/plain": [
       "(2761.580522148796, 1939.6111574858896)"
      ]
     },
     "execution_count": 44,
     "metadata": {},
     "output_type": "execute_result"
    }
   ],
   "source": [
    "sum(values(annual_load_by_country)) / T, sum(values(expected_load_by_country))"
   ]
  },
  {
   "cell_type": "code",
   "execution_count": 45,
   "id": "836501cf-bb62-4cf1-893a-934e2d56fa28",
   "metadata": {},
   "outputs": [
    {
     "data": {
      "text/plain": [
       "Dict{String, Float64} with 22 entries:\n",
       "  \"SI\" => 0.665674\n",
       "  \"ES\" => 0.496542\n",
       "  \"GR\" => 0.982475\n",
       "  \"HU\" => 0.756153\n",
       "  \"CH\" => 0.557711\n",
       "  \"RS\" => 0.644535\n",
       "  \"DE\" => 0.555689\n",
       "  \"FR\" => 1.03238\n",
       "  \"PL\" => 0.697469\n",
       "  \"IT\" => 0.515665\n",
       "  \"HR\" => 0.697955\n",
       "  \"AT\" => 0.970264\n",
       "  \"PT\" => 0.649692\n",
       "  \"ME\" => 0.742805\n",
       "  \"NL\" => 0.590722\n",
       "  \"BE\" => 0.732463\n",
       "  \"RO\" => 0.818354\n",
       "  \"BG\" => 0.821313\n",
       "  \"CZ\" => 0.648109\n",
       "  \"SK\" => 0.982372\n",
       "  \"DK\" => 0.277045\n",
       "  \"BA\" => 0.732446"
      ]
     },
     "execution_count": 45,
     "metadata": {},
     "output_type": "execute_result"
    }
   ],
   "source": [
    "load_rescaling_by_country = Dict(country => expected_load_by_country[country] / load * (24 * 364)\n",
    "    for (country, load) ∈ annual_load_by_country)"
   ]
  },
  {
   "cell_type": "code",
   "execution_count": 46,
   "id": "ab23356b-5b06-43dc-b2a1-ea8163a4d391",
   "metadata": {},
   "outputs": [],
   "source": [
    "load_rescaling = [load_rescaling_by_country[network[\"bus\"][string(network[\"load\"][string(id)][\"load_bus\"])][\"country\"]]\n",
    "    for id ∈ load_ids];"
   ]
  },
  {
   "cell_type": "code",
   "execution_count": 47,
   "id": "922f8e74-a77f-4c74-826c-fb262832f59e",
   "metadata": {},
   "outputs": [
    {
     "data": {
      "text/plain": [
       "3998×8736 Matrix{Float64}:\n",
       " 0.611599   0.601585   0.605206   …  0.6998     0.657059   0.628492\n",
       " 0.448806   0.44993    0.451073      0.510123   0.48236    0.45705\n",
       " 0.290836   0.287876   0.29252       0.334019   0.312018   0.296134\n",
       " 0.315539   0.308895   0.306052      0.370957   0.345134   0.32881\n",
       " 1.06562    1.03433    1.02055       1.29331    1.18011    1.07745\n",
       " 0.729553   0.70993    0.709039   …  0.875329   0.817092   0.750736\n",
       " 1.4792     1.41519    1.37585       1.86644    1.65678    1.52037\n",
       " 0.991226   0.965675   0.94321       1.19574    1.10016    0.99354\n",
       " 1.62321    1.55961    1.52846       2.00652    1.79269    1.65411\n",
       " 0.350424   0.331727   0.311543      0.434238   0.393268   0.350724\n",
       " 0.679518   0.667765   0.665454   …  0.834594   0.739779   0.702475\n",
       " 0.50463    0.499021   0.500431      0.574832   0.550055   0.508936\n",
       " 1.31237    1.28216    1.26663       1.63989    1.47528    1.32792\n",
       " ⋮                                ⋱                        ⋮\n",
       " 0.253974   0.255583   0.259931      0.301411   0.287674   0.271853\n",
       " 0.284776   0.280841   0.274681      0.317312   0.303968   0.292533\n",
       " 0.0684147  0.0636359  0.0616354     0.088127   0.0827298  0.075186\n",
       " 0.47761    0.459002   0.458343      0.512313   0.49106    0.488689\n",
       " 0.255535   0.248744   0.246693   …  0.298066   0.281067   0.266556\n",
       " 0.355225   0.345921   0.344718      0.406781   0.383458   0.365219\n",
       " 0.588054   0.571823   0.564692      0.691607   0.657824   0.613822\n",
       " 0.0107087  0.0102327  0.010071      0.0146654  0.0131754  0.0117642\n",
       " 0.018664   0.0168054  0.0162206     0.022237   0.020855   0.0191089\n",
       " 0.138651   0.136676   0.13608    …  0.150808   0.14361    0.133873\n",
       " 0.0352315  0.0333433  0.0321171     0.0479123  0.0434191  0.0388448\n",
       " 0.0608789  0.0600288  0.0596587     0.0639627  0.0627513  0.0612918"
      ]
     },
     "execution_count": 47,
     "metadata": {},
     "output_type": "execute_result"
    }
   ],
   "source": [
    "rescaled_loads = load_rescaling .* loads"
   ]
  },
  {
   "cell_type": "code",
   "execution_count": 48,
   "id": "036865fc-b8d0-426d-b5d2-4f8604ea7931",
   "metadata": {},
   "outputs": [
    {
     "data": {
      "text/plain": [
       "8736-element Vector{Float64}:\n",
       " 1709.9968384682475\n",
       " 1665.1901450652615\n",
       " 1623.8957702621124\n",
       " 1625.9016433243446\n",
       " 1700.9313035716666\n",
       " 1867.2707666563945\n",
       " 2050.023778641126\n",
       " 2174.9785468541977\n",
       " 2246.8395174925386\n",
       " 2287.0446814560555\n",
       " 2312.78568664523\n",
       " 2326.6538664878562\n",
       " 2301.8837454250483\n",
       "    ⋮\n",
       " 1955.5675225152186\n",
       " 1910.254795935055\n",
       " 1890.2394558527826\n",
       " 1922.9997678410964\n",
       " 2028.2051374585556\n",
       " 2107.247891223793\n",
       " 2121.513039123077\n",
       " 2070.9082029012425\n",
       " 1993.1031291791812\n",
       " 1950.461980508558\n",
       " 1884.262211288414\n",
       " 1787.1959051375786"
      ]
     },
     "execution_count": 48,
     "metadata": {},
     "output_type": "execute_result"
    }
   ],
   "source": [
    "rescaled_total_load = sum(rescaled_loads, dims=1)[1, :]"
   ]
  },
  {
   "cell_type": "markdown",
   "id": "e5a2b79b-2dd3-45ad-9fb0-85928cc48c03",
   "metadata": {
    "jp-MarkdownHeadingCollapsed": true
   },
   "source": [
    "## Define annual generation constraints by generator"
   ]
  },
  {
   "cell_type": "code",
   "execution_count": 49,
   "id": "a36bf555-d3c0-41a0-aa92-4af03dd5c2db",
   "metadata": {},
   "outputs": [
    {
     "name": "stdout",
     "output_type": "stream",
     "text": [
      "country: PL\n",
      "type: fossil_brown_lignite\n",
      "pmax: 48.87\n",
      "name: Bełchatów"
     ]
    }
   ],
   "source": [
    "slack_gen = 325\n",
    "for key ∈ [\"country\", \"type\", \"pmax\"]\n",
    "    println(\"$key: \", network[\"gen\"][string(slack_gen)][key])\n",
    "end\n",
    "print(\"name: \", network[\"bus\"][string(network[\"gen\"][string(slack_gen)][\"gen_bus\"])][\"name\"])"
   ]
  },
  {
   "cell_type": "code",
   "execution_count": 50,
   "id": "1b9ab43e-e691-48e8-98cd-dbbf0c99ee56",
   "metadata": {},
   "outputs": [
    {
     "data": {
      "text/plain": [
       "1038"
      ]
     },
     "execution_count": 50,
     "metadata": {},
     "output_type": "execute_result"
    }
   ],
   "source": [
    "constrained_gens = Vector{Int}()\n",
    "gen_constraints = Vector{Float64}()\n",
    "for id ∈ gen_ids\n",
    "    if id != slack_gen\n",
    "        push!(constrained_gens, gen_ids_map[id])\n",
    "        push!(gen_constraints, network[\"gen\"][string(id)][\"pexp\"])\n",
    "    end\n",
    "end\n",
    "N_gen_constraints = length(gen_constraints)"
   ]
  },
  {
   "cell_type": "code",
   "execution_count": 51,
   "id": "5feede0f-f5e6-4fff-9a73-a1edf38dd494",
   "metadata": {},
   "outputs": [
    {
     "data": {
      "text/plain": [
       "1038×1039 SparseMatrixCSC{Float64, Int64} with 1038 stored entries:\n",
       "⎡⠑⢤⡀⠀⠀⠀⠀⠀⠀⠀⠀⠀⠀⠀⠀⠀⠀⠀⠀⠀⠀⠀⠀⠀⠀⠀⠀⠀⠀⠀⠀⠀⠀⠀⠀⠀⠀⠀⠀⠀⎤\n",
       "⎢⠀⠀⠑⢦⡀⠀⠀⠀⠀⠀⠀⠀⠀⠀⠀⠀⠀⠀⠀⠀⠀⠀⠀⠀⠀⠀⠀⠀⠀⠀⠀⠀⠀⠀⠀⠀⠀⠀⠀⠀⎥\n",
       "⎢⠀⠀⠀⠀⠙⢦⡀⠀⠀⠀⠀⠀⠀⠀⠀⠀⠀⠀⠀⠀⠀⠀⠀⠀⠀⠀⠀⠀⠀⠀⠀⠀⠀⠀⠀⠀⠀⠀⠀⠀⎥\n",
       "⎢⠀⠀⠀⠀⠀⠀⠙⢦⡀⠀⠀⠀⠀⠀⠀⠀⠀⠀⠀⠀⠀⠀⠀⠀⠀⠀⠀⠀⠀⠀⠀⠀⠀⠀⠀⠀⠀⠀⠀⠀⎥\n",
       "⎢⠀⠀⠀⠀⠀⠀⠀⠀⠙⢦⡀⠀⠀⠀⠀⠀⠀⠀⠀⠀⠀⠀⠀⠀⠀⠀⠀⠀⠀⠀⠀⠀⠀⠀⠀⠀⠀⠀⠀⠀⎥\n",
       "⎢⠀⠀⠀⠀⠀⠀⠀⠀⠀⠀⠙⢦⡀⠀⠀⠀⠀⠀⠀⠀⠀⠀⠀⠀⠀⠀⠀⠀⠀⠀⠀⠀⠀⠀⠀⠀⠀⠀⠀⠀⎥\n",
       "⎢⠀⠀⠀⠀⠀⠀⠀⠀⠀⠀⠀⠀⠙⢦⡀⠀⠀⠀⠀⠀⠀⠀⠀⠀⠀⠀⠀⠀⠀⠀⠀⠀⠀⠀⠀⠀⠀⠀⠀⠀⎥\n",
       "⎢⠀⠀⠀⠀⠀⠀⠀⠀⠀⠀⠀⠀⠀⠀⠙⢦⡀⠀⠀⠀⠀⠀⠀⠀⠀⠀⠀⠀⠀⠀⠀⠀⠀⠀⠀⠀⠀⠀⠀⠀⎥\n",
       "⎢⠀⠀⠀⠀⠀⠀⠀⠀⠀⠀⠀⠀⠀⠀⠀⠀⠙⢦⡀⠀⠀⠀⠀⠀⠀⠀⠀⠀⠀⠀⠀⠀⠀⠀⠀⠀⠀⠀⠀⠀⎥\n",
       "⎢⠀⠀⠀⠀⠀⠀⠀⠀⠀⠀⠀⠀⠀⠀⠀⠀⠀⠀⠙⢦⡀⠀⠀⠀⠀⠀⠀⠀⠀⠀⠀⠀⠀⠀⠀⠀⠀⠀⠀⠀⎥\n",
       "⎢⠀⠀⠀⠀⠀⠀⠀⠀⠀⠀⠀⠀⠀⠀⠀⠀⠀⠀⠀⠀⠙⢦⡀⠀⠀⠀⠀⠀⠀⠀⠀⠀⠀⠀⠀⠀⠀⠀⠀⠀⎥\n",
       "⎢⠀⠀⠀⠀⠀⠀⠀⠀⠀⠀⠀⠀⠀⠀⠀⠀⠀⠀⠀⠀⠀⠀⠙⢦⡀⠀⠀⠀⠀⠀⠀⠀⠀⠀⠀⠀⠀⠀⠀⠀⎥\n",
       "⎢⠀⠀⠀⠀⠀⠀⠀⠀⠀⠀⠀⠀⠀⠀⠀⠀⠀⠀⠀⠀⠀⠀⠀⠀⠙⢦⡀⠀⠀⠀⠀⠀⠀⠀⠀⠀⠀⠀⠀⠀⎥\n",
       "⎢⠀⠀⠀⠀⠀⠀⠀⠀⠀⠀⠀⠀⠀⠀⠀⠀⠀⠀⠀⠀⠀⠀⠀⠀⠀⠀⠙⢦⡀⠀⠀⠀⠀⠀⠀⠀⠀⠀⠀⠀⎥\n",
       "⎢⠀⠀⠀⠀⠀⠀⠀⠀⠀⠀⠀⠀⠀⠀⠀⠀⠀⠀⠀⠀⠀⠀⠀⠀⠀⠀⠀⠀⠙⢦⡀⠀⠀⠀⠀⠀⠀⠀⠀⠀⎥\n",
       "⎢⠀⠀⠀⠀⠀⠀⠀⠀⠀⠀⠀⠀⠀⠀⠀⠀⠀⠀⠀⠀⠀⠀⠀⠀⠀⠀⠀⠀⠀⠀⠙⢦⡀⠀⠀⠀⠀⠀⠀⠀⎥\n",
       "⎢⠀⠀⠀⠀⠀⠀⠀⠀⠀⠀⠀⠀⠀⠀⠀⠀⠀⠀⠀⠀⠀⠀⠀⠀⠀⠀⠀⠀⠀⠀⠀⠀⠙⢦⡀⠀⠀⠀⠀⠀⎥\n",
       "⎢⠀⠀⠀⠀⠀⠀⠀⠀⠀⠀⠀⠀⠀⠀⠀⠀⠀⠀⠀⠀⠀⠀⠀⠀⠀⠀⠀⠀⠀⠀⠀⠀⠀⠀⠙⢦⡀⠀⠀⠀⎥\n",
       "⎢⠀⠀⠀⠀⠀⠀⠀⠀⠀⠀⠀⠀⠀⠀⠀⠀⠀⠀⠀⠀⠀⠀⠀⠀⠀⠀⠀⠀⠀⠀⠀⠀⠀⠀⠀⠀⠙⢢⡀⠀⎥\n",
       "⎣⠀⠀⠀⠀⠀⠀⠀⠀⠀⠀⠀⠀⠀⠀⠀⠀⠀⠀⠀⠀⠀⠀⠀⠀⠀⠀⠀⠀⠀⠀⠀⠀⠀⠀⠀⠀⠀⠀⠉⠢⎦"
      ]
     },
     "execution_count": 51,
     "metadata": {},
     "output_type": "execute_result"
    }
   ],
   "source": [
    "A_gen_constraints = sparse(1:N_gen_constraints, constrained_gens, ones(N_gen_constraints), N_gen_constraints, Ngens)"
   ]
  },
  {
   "cell_type": "markdown",
   "id": "3a758174-57da-4a84-a783-6941bdcfe561",
   "metadata": {
    "jp-MarkdownHeadingCollapsed": true
   },
   "source": [
    "## Ramp constraints"
   ]
  },
  {
   "cell_type": "code",
   "execution_count": 52,
   "id": "75024808-080f-4a8b-b67f-52f5194b4437",
   "metadata": {},
   "outputs": [
    {
     "data": {
      "text/plain": [
       "167-element Vector{Int64}:\n",
       "    9\n",
       "   10\n",
       "   23\n",
       "   35\n",
       "   36\n",
       "   37\n",
       "   39\n",
       "   42\n",
       "   68\n",
       "   72\n",
       "  100\n",
       "  126\n",
       "  180\n",
       "    ⋮\n",
       "  947\n",
       "  948\n",
       "  969\n",
       "  973\n",
       "  975\n",
       "  981\n",
       " 1004\n",
       " 1005\n",
       " 1018\n",
       " 1019\n",
       " 1061\n",
       " 1077"
      ]
     },
     "execution_count": 52,
     "metadata": {},
     "output_type": "execute_result"
    }
   ],
   "source": [
    "ramp_gen_ids = sort([parse(Int, id) for (id, gen) ∈ network[\"gen\"] if gen[\"aggregated_type\"] == \"coal\"])"
   ]
  },
  {
   "cell_type": "code",
   "execution_count": 53,
   "id": "6da13747-2160-48f6-87f6-f40f2f24d4e2",
   "metadata": {},
   "outputs": [
    {
     "data": {
      "text/plain": [
       "167"
      ]
     },
     "execution_count": 53,
     "metadata": {},
     "output_type": "execute_result"
    }
   ],
   "source": [
    "N_ramp_constraints = length(ramp_gen_ids)"
   ]
  },
  {
   "cell_type": "code",
   "execution_count": 54,
   "id": "d981f137-694a-4570-b2bc-cd152b944d60",
   "metadata": {},
   "outputs": [
    {
     "data": {
      "text/plain": [
       "167×1039 SparseMatrixCSC{Float64, Int64} with 167 stored entries:\n",
       "⎡⠈⠉⠐⠐⠐⠀⠐⠦⢄⣀⠀⠀⠀⠀⠀⠀⠀⠀⠀⠀⠀⠀⠀⠀⠀⠀⠀⠀⠀⠀⠀⠀⠀⠀⠀⠀⠀⠀⠀⠀⎤\n",
       "⎢⠀⠀⠀⠀⠀⠀⠀⠀⠀⠈⠉⠙⠲⢤⣀⣀⠀⠀⠀⠀⠀⠀⠀⠀⠀⠀⠀⠀⠀⠀⠀⠀⠀⠀⠀⠀⠀⠀⠀⠀⎥\n",
       "⎣⠀⠀⠀⠀⠀⠀⠀⠀⠀⠀⠀⠀⠀⠀⠀⠈⠁⠀⠉⠉⠁⠀⠀⠀⠈⠀⠀⠀⠒⠒⠒⠲⠤⠀⠤⢤⢀⡀⢀⢀⎦"
      ]
     },
     "execution_count": 54,
     "metadata": {},
     "output_type": "execute_result"
    }
   ],
   "source": [
    "A_gen_ramp = sparse(1:N_ramp_constraints, [gen_ids_map[id] for id ∈ ramp_gen_ids], ones(N_ramp_constraints), N_ramp_constraints, Ngens)"
   ]
  },
  {
   "cell_type": "code",
   "execution_count": 55,
   "id": "871a4671-ef02-42ac-9e3f-1584f03a223b",
   "metadata": {},
   "outputs": [],
   "source": [
    "gen_ramp = 2. * ones(N_ramp_constraints);"
   ]
  },
  {
   "cell_type": "markdown",
   "id": "b8b8a4cd-3e98-43cc-9fd5-a2b9bf0d4e6f",
   "metadata": {},
   "source": [
    "## Cost computation"
   ]
  },
  {
   "cell_type": "markdown",
   "id": "30459304-1b5b-40d3-91aa-811f7d9919b2",
   "metadata": {},
   "source": [
    "Quadratic cost for each line:"
   ]
  },
  {
   "cell_type": "code",
   "execution_count": 56,
   "id": "820f7d96-c260-4c65-a186-42764af9a2fa",
   "metadata": {},
   "outputs": [],
   "source": [
    "line_costs = 1. ./ lines_thermal_limit;"
   ]
  },
  {
   "cell_type": "markdown",
   "id": "f56bebba-b22b-4df6-b83e-9a07a287ea54",
   "metadata": {},
   "source": [
    "Quadratic term:"
   ]
  },
  {
   "cell_type": "code",
   "execution_count": 57,
   "id": "6287b34d-4a7c-42bb-b126-0b45c32160de",
   "metadata": {},
   "outputs": [
    {
     "data": {
      "text/plain": [
       "1039×1039 Matrix{Float64}:\n",
       "  0.586155     0.201792     0.201592    …  -0.057275    0.0602631   0.0602631\n",
       "  0.201792     0.69641      0.696211       -0.0580143   0.0592317   0.0592317\n",
       "  0.201592     0.696211     1.10418        -0.0582136   0.0590324   0.0590324\n",
       "  0.201592     0.696211     0.900093       -0.0582136   0.0590324   0.0590324\n",
       "  0.128966     0.127872     0.127673       -0.0553122   0.0561581   0.0561581\n",
       "  0.131182     0.129961     0.129762    …  -0.0551642   0.0564105   0.0564105\n",
       "  0.127573     0.12675      0.126551       -0.0553062   0.0563286   0.0563286\n",
       "  0.15602      0.152999     0.152799       -0.0566643   0.0573773   0.0573773\n",
       "  0.15602      0.152999     0.152799       -0.0566643   0.0573773   0.0573773\n",
       "  0.15602      0.152999     0.152799       -0.0566643   0.0573773   0.0573773\n",
       "  0.156096     0.153071     0.152872    …  -0.0566116   0.0574311   0.0574311\n",
       "  0.155886     0.15285      0.152651       -0.0564959   0.0575183   0.0575183\n",
       "  0.155886     0.15285      0.152651       -0.0564959   0.0575183   0.0575183\n",
       "  ⋮                                     ⋱                          \n",
       "  0.00702334   0.00624016   0.00604091     -0.0360683   0.0163209   0.0163209\n",
       "  0.00702334   0.00624016   0.00604091     -0.0360683   0.0163209   0.0163209\n",
       "  0.00702334   0.00624016   0.00604091     -0.0360683   0.0163209   0.0163209\n",
       " -0.00181775  -0.00263296  -0.00283221  …  -0.0377603   0.0106521   0.0106521\n",
       " -0.0594598   -0.0601988   -0.0603981       0.0938117  -0.0549622  -0.0549622\n",
       "  0.0511361    0.0502613    0.0500621      -0.0507367   0.0760246   0.0760246\n",
       "  0.0188874    0.0180027    0.0178035      -0.0483308   0.0380449   0.0380449\n",
       "  0.0137749    0.012897     0.0126978      -0.0491157   0.032345    0.032345\n",
       "  0.0137749    0.012897     0.0126978   …  -0.0491157   0.032345    0.032345\n",
       " -0.057275    -0.0580143   -0.0582136       0.313007   -0.0527411  -0.0527411\n",
       "  0.0602631    0.0592317    0.0590324      -0.0527411   0.153885    0.153885\n",
       "  0.0602631    0.0592317    0.0590324      -0.0527411   0.153885    0.153885"
      ]
     },
     "execution_count": 57,
     "metadata": {},
     "output_type": "execute_result"
    }
   ],
   "source": [
    "LA = L * A_gen\n",
    "\n",
    "quadratic_cost = LA' * (line_costs .* LA)"
   ]
  },
  {
   "cell_type": "markdown",
   "id": "2d761d6a-8f67-42fb-b444-53d5e74a2a1d",
   "metadata": {},
   "source": [
    "Linear term:"
   ]
  },
  {
   "cell_type": "code",
   "execution_count": 58,
   "id": "5748a7ed-bba9-4f93-ae64-5497ebce5677",
   "metadata": {},
   "outputs": [
    {
     "data": {
      "text/plain": [
       "1039×8736 Matrix{Float64}:\n",
       " -48.0213   -47.5507   -48.1641  -49.8699  …  -54.8324  -50.0914  -47.7925\n",
       " -49.2491   -48.82     -49.5055  -51.2865     -56.1116  -51.2632  -48.985\n",
       " -49.368    -48.9502   -49.6545  -51.4454     -56.2088  -51.3495  -49.0857\n",
       " -49.3781   -48.9588   -49.66    -51.4481     -56.2239  -51.363   -49.099\n",
       " -43.2518   -42.805    -43.3173  -44.8364     -49.4579  -45.1499  -43.0021\n",
       " -44.0037   -43.5291   -44.0206  -45.5503  …  -50.39    -46.0112  -43.7877\n",
       " -42.8362   -42.4013   -42.9213  -44.4326     -48.943   -44.6841  -42.5815\n",
       " -52.199    -51.5205   -51.9136  -53.6262     -60.2445  -54.97    -51.9946\n",
       " -52.199    -51.5205   -51.9136  -53.6262     -60.2445  -54.97    -51.9946\n",
       " -52.199    -51.5205   -51.9136  -53.6262     -60.2445  -54.97    -51.9946\n",
       " -51.6227   -50.9625   -51.3694  -53.0765  …  -59.5325  -54.3283  -51.4183\n",
       " -50.5681   -49.9368   -50.3632  -52.0472     -58.2458  -53.154   -50.3637\n",
       " -50.5681   -49.9368   -50.3632  -52.0472     -58.2458  -53.154   -50.3637\n",
       "   ⋮                                       ⋱                        ⋮\n",
       "  -9.98709   -9.94778  -10.1629  -10.7556     -11.9361  -10.7924   -9.98872\n",
       "  -9.98709   -9.94778  -10.1629  -10.7556     -11.9361  -10.7924   -9.98872\n",
       "  -9.98709   -9.94778  -10.1629  -10.7556     -11.9361  -10.7924   -9.98872\n",
       " -12.5724   -12.3916   -12.5939  -13.1831  …  -14.6486  -13.7086  -12.743\n",
       "  40.7844    40.3695    40.2018   41.6616      47.2063   43.9957   41.4412\n",
       " -33.7718   -33.5834   -34.1239  -35.5231     -38.2668  -35.1213  -33.6057\n",
       " -26.6939   -26.687    -27.4297  -28.6561     -29.8338  -27.6272  -26.4614\n",
       " -23.8779   -23.9465   -24.7862  -25.9805     -26.4291  -24.4718  -23.5134\n",
       " -23.8779   -23.9465   -24.7862  -25.9805  …  -26.4291  -24.4718  -23.5134\n",
       "  40.7618    40.2786    40.1712   41.5807      47.3472   44.0628   41.4695\n",
       " -37.0588   -36.8635   -37.487   -39.0125     -41.8392  -38.4422  -36.863\n",
       " -37.0588   -36.8635   -37.487   -39.0125     -41.8392  -38.4422  -36.863"
      ]
     },
     "execution_count": 58,
     "metadata": {},
     "output_type": "execute_result"
    }
   ],
   "source": [
    "linear_cost = 2 * LA' * (line_costs .* L * (A_nuc * nuclear_profiles - A_load * rescaled_loads))"
   ]
  },
  {
   "cell_type": "markdown",
   "id": "7dc55a79-8e3f-4824-b382-051fa74d3cd6",
   "metadata": {},
   "source": [
    "## Export the data"
   ]
  },
  {
   "cell_type": "code",
   "execution_count": 59,
   "id": "0c56e62a-9afe-4795-90b1-ca6092730ea9",
   "metadata": {},
   "outputs": [],
   "source": [
    "DataDrop.store_matrix(\"PTDF_data/P_max_gen.h5\", gen_pmax)"
   ]
  },
  {
   "cell_type": "code",
   "execution_count": 60,
   "id": "91cf0935-be2f-4be6-a23a-58547a77a641",
   "metadata": {},
   "outputs": [],
   "source": [
    "DataDrop.store_matrix(\"PTDF_data/P_total.h5\", rescaled_total_load - total_nuclear)"
   ]
  },
  {
   "cell_type": "code",
   "execution_count": 61,
   "id": "c1ee836a-6fe9-431c-a699-305968bcc513",
   "metadata": {},
   "outputs": [],
   "source": [
    "DataDrop.store_matrix(\"PTDF_data/A_gen_total.h5\", A_gen_constraints)"
   ]
  },
  {
   "cell_type": "code",
   "execution_count": 62,
   "id": "660a3082-9e96-4a74-9833-10ce1779a1b2",
   "metadata": {},
   "outputs": [],
   "source": [
    "DataDrop.store_matrix(\"PTDF_data/gen_total.h5\", gen_constraints)"
   ]
  },
  {
   "cell_type": "code",
   "execution_count": 63,
   "id": "d7c2761d-ccb5-4323-bc3b-d0302ff5bf37",
   "metadata": {},
   "outputs": [],
   "source": [
    "DataDrop.store_matrix(\"PTDF_data/A_gen_ramp.h5\", A_gen_ramp)"
   ]
  },
  {
   "cell_type": "code",
   "execution_count": 64,
   "id": "f8360198-6f93-47ab-8e03-8f95f15487af",
   "metadata": {},
   "outputs": [],
   "source": [
    "DataDrop.store_matrix(\"PTDF_data/gen_ramp.h5\", gen_ramp)"
   ]
  },
  {
   "cell_type": "code",
   "execution_count": 65,
   "id": "dfbca46e-083d-4a25-b0d5-62fd57f39c47",
   "metadata": {},
   "outputs": [],
   "source": [
    "DataDrop.store_matrix(\"PTDF_data/linear_line_cost.h5\", linear_cost)"
   ]
  },
  {
   "cell_type": "code",
   "execution_count": 66,
   "id": "1fc94f29-422f-4327-af1b-ef1d3113f2b3",
   "metadata": {},
   "outputs": [],
   "source": [
    "DataDrop.store_matrix(\"PTDF_data/linear_gen_cost.h5\", gen_costs)"
   ]
  },
  {
   "cell_type": "code",
   "execution_count": 67,
   "id": "749224ae-06f4-4c7b-8439-c08601db668a",
   "metadata": {},
   "outputs": [],
   "source": [
    "DataDrop.store_matrix(\"PTDF_data/quadratic_cost.h5\", quadratic_cost)"
   ]
  },
  {
   "cell_type": "markdown",
   "id": "6ddbba0f-4b3f-4e00-bdfd-34d4af7afcee",
   "metadata": {},
   "source": [
    "Data used for analysis of results:"
   ]
  },
  {
   "cell_type": "code",
   "execution_count": 68,
   "id": "09b85a82-73ac-40dc-9ea0-19166034b331",
   "metadata": {},
   "outputs": [],
   "source": [
    "DataDrop.store_matrix(\"PTDF_data/A_gen.h5\", A_gen)"
   ]
  },
  {
   "cell_type": "code",
   "execution_count": 69,
   "id": "cb121d27-37db-4f57-9065-1dc38ea6e474",
   "metadata": {},
   "outputs": [],
   "source": [
    "DataDrop.store_matrix(\"PTDF_data/A_load.h5\", A_load)\n",
    "DataDrop.store_matrix(\"PTDF_data/P_load.h5\", rescaled_loads)"
   ]
  },
  {
   "cell_type": "code",
   "execution_count": 70,
   "id": "0b64c83d-cecf-48be-91a8-5c19207e6970",
   "metadata": {},
   "outputs": [],
   "source": [
    "DataDrop.store_matrix(\"PTDF_data/A_nuc.h5\", A_nuc)\n",
    "DataDrop.store_matrix(\"PTDF_data/P_nuc.h5\", nuclear_profiles)"
   ]
  },
  {
   "cell_type": "code",
   "execution_count": 71,
   "id": "43014ca5-00cd-42ee-b85b-f2a3fba737ae",
   "metadata": {},
   "outputs": [],
   "source": [
    "DataDrop.store_matrix(\"PTDF_data/PTDF_matrix.h5\", L)"
   ]
  },
  {
   "cell_type": "code",
   "execution_count": 72,
   "id": "7257a5d0-a602-466e-9a23-5266b4ef49fa",
   "metadata": {},
   "outputs": [],
   "source": [
    "DataDrop.store_matrix(\"PTDF_data/thermal_limits.h5\", convert(Vector{Float64}, lines_thermal_limit))"
   ]
  },
  {
   "cell_type": "code",
   "execution_count": 73,
   "id": "c77bb9f3-5510-4e4a-b9b9-038dda207b32",
   "metadata": {},
   "outputs": [],
   "source": [
    "DataDrop.store_matrix(\"PTDF_data/susceptance.h5\", b)"
   ]
  },
  {
   "cell_type": "code",
   "execution_count": null,
   "id": "361146de-7a6f-46e8-867a-b8af3d303dab",
   "metadata": {},
   "outputs": [],
   "source": []
  }
 ],
 "metadata": {
  "kernelspec": {
   "display_name": "Julia 1.10.3",
   "language": "julia",
   "name": "julia-1.10"
  },
  "language_info": {
   "file_extension": ".jl",
   "mimetype": "application/julia",
   "name": "julia",
   "version": "1.10.3"
  }
 },
 "nbformat": 4,
 "nbformat_minor": 5
}
