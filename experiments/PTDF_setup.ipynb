{
 "cells": [
  {
   "cell_type": "code",
   "execution_count": 1,
   "id": "19914cc6-2dd8-4b57-86a5-65a38dfe1ea4",
   "metadata": {},
   "outputs": [],
   "source": [
    "using CSV, DataFrames, JSON, DataDrop"
   ]
  },
  {
   "cell_type": "code",
   "execution_count": 2,
   "id": "e709670b-d7f2-447f-8e9f-a6e8e424ffa7",
   "metadata": {},
   "outputs": [],
   "source": [
    "using SparseArrays\n",
    "using LinearAlgebra"
   ]
  },
  {
   "cell_type": "markdown",
   "id": "ec8151ec-4400-46ec-91d4-a861eb55f287",
   "metadata": {
    "jp-MarkdownHeadingCollapsed": true
   },
   "source": [
    "## Network"
   ]
  },
  {
   "cell_type": "code",
   "execution_count": 3,
   "id": "41c2cbb3-f66a-4020-ba77-f507f8a6fc57",
   "metadata": {},
   "outputs": [
    {
     "data": {
      "text/plain": [
       "Dict{String, Any} with 11 entries:\n",
       "  \"bus\"      => Dict{String, Any}(\"4304\"=>Dict{String, Any}(\"coord\"=>Any[11.843…\n",
       "  \"name\"     => \"pantagruel\"\n",
       "  \"dcline\"   => Dict{String, Any}()\n",
       "  \"gen\"      => Dict{String, Any}(\"1\"=>Dict{String, Any}(\"entsoe_names\"=>Any[],…\n",
       "  \"branch\"   => Dict{String, Any}(\"4304\"=>Dict{String, Any}(\"br_r\"=>0.00174284,…\n",
       "  \"storage\"  => Dict{String, Any}()\n",
       "  \"switch\"   => Dict{String, Any}()\n",
       "  \"baseMVA\"  => 100\n",
       "  \"per_unit\" => true\n",
       "  \"shunt\"    => Dict{String, Any}()\n",
       "  \"load\"     => Dict{String, Any}(\"4304\"=>Dict{String, Any}(\"load_bus\"=>4304, \"…"
      ]
     },
     "execution_count": 3,
     "metadata": {},
     "output_type": "execute_result"
    }
   ],
   "source": [
    "network = JSON.parsefile(\"../models/europe.json\")"
   ]
  },
  {
   "cell_type": "markdown",
   "id": "ff5dfdf3-7ad6-4a0a-be0f-c67dbced6b63",
   "metadata": {},
   "source": [
    "Determine all countries in the network:"
   ]
  },
  {
   "cell_type": "code",
   "execution_count": 4,
   "id": "481e9182-6742-4b1a-9c08-8c3a85095ddc",
   "metadata": {},
   "outputs": [
    {
     "data": {
      "text/plain": [
       "Set{String} with 26 elements:\n",
       "  \"SI\"\n",
       "  \"RO\"\n",
       "  \"IT\"\n",
       "  \"NL\"\n",
       "  \"FR\"\n",
       "  \"DK\"\n",
       "  \"SK\"\n",
       "  \"RS\"\n",
       "  \"BG\"\n",
       "  \"AT\"\n",
       "  \"CH\"\n",
       "  \"XX\"\n",
       "  \"CZ\"\n",
       "  \"ME\"\n",
       "  \"DE\"\n",
       "  \"MK\"\n",
       "  \"BA\"\n",
       "  \"BE\"\n",
       "  \"AL\"\n",
       "  \"LU\"\n",
       "  \"HR\"\n",
       "  \"ES\"\n",
       "  \"GR\"\n",
       "  \"HU\"\n",
       "  \"PL\"\n",
       "  \"PT\""
      ]
     },
     "execution_count": 4,
     "metadata": {},
     "output_type": "execute_result"
    }
   ],
   "source": [
    "countries = Set([bus[\"country\"] for bus ∈ values(network[\"bus\"])])"
   ]
  },
  {
   "cell_type": "markdown",
   "id": "8f1f2f51-98d8-4a27-91f8-46713407481d",
   "metadata": {},
   "source": [
    "Identify non-dispatchable generators:"
   ]
  },
  {
   "cell_type": "code",
   "execution_count": 5,
   "id": "cea3b3ee-65b8-496c-8a2f-5824fe4b1703",
   "metadata": {},
   "outputs": [],
   "source": [
    "nuc_series_df = CSV.read(\"../doc/data/pantagruel_nuc.csv\", DataFrame);"
   ]
  },
  {
   "cell_type": "code",
   "execution_count": 6,
   "id": "730024e2-bb81-43e8-b08d-1e7474e15163",
   "metadata": {},
   "outputs": [
    {
     "data": {
      "text/plain": [
       "44-element Vector{String}:\n",
       " \"79\"\n",
       " \"87\"\n",
       " \"160\"\n",
       " \"176\"\n",
       " \"179\"\n",
       " \"209\"\n",
       " \"210\"\n",
       " \"232\"\n",
       " \"249\"\n",
       " \"256\"\n",
       " \"257\"\n",
       " \"265\"\n",
       " \"318\"\n",
       " ⋮\n",
       " \"723\"\n",
       " \"732\"\n",
       " \"751\"\n",
       " \"757\"\n",
       " \"782\"\n",
       " \"846\"\n",
       " \"908\"\n",
       " \"917\"\n",
       " \"921\"\n",
       " \"943\"\n",
       " \"950\"\n",
       " \"982\""
      ]
     },
     "execution_count": 6,
     "metadata": {},
     "output_type": "execute_result"
    }
   ],
   "source": [
    "nuc_ids = string.(nuc_series_df.id)"
   ]
  },
  {
   "cell_type": "code",
   "execution_count": 7,
   "id": "34cb1d7e-a13b-4779-9803-0f951e66654d",
   "metadata": {},
   "outputs": [],
   "source": [
    "network[\"nuc\"] = Dict{String, Any}(id => network[\"gen\"][id] for id ∈ nuc_ids)\n",
    "\n",
    "for id ∈ nuc_ids\n",
    "    delete!(network[\"gen\"], id)\n",
    "end"
   ]
  },
  {
   "cell_type": "code",
   "execution_count": 8,
   "id": "95291747-b36a-4e4d-b7be-c809381da7bb",
   "metadata": {},
   "outputs": [
    {
     "data": {
      "text/plain": [
       "(8375, 4097, 44, 1039)"
      ]
     },
     "execution_count": 8,
     "metadata": {},
     "output_type": "execute_result"
    }
   ],
   "source": [
    "Nlines = length(network[\"branch\"])\n",
    "Nbuses = length(network[\"bus\"])\n",
    "Nnucs = length(network[\"nuc\"])\n",
    "Ngens = length(network[\"gen\"])\n",
    "\n",
    "Nlines, Nbuses, Nnucs, Ngens"
   ]
  },
  {
   "cell_type": "code",
   "execution_count": 9,
   "id": "738bb918-6a4c-4739-a306-82b889346e65",
   "metadata": {},
   "outputs": [
    {
     "data": {
      "text/plain": [
       "sort_ids (generic function with 1 method)"
      ]
     },
     "execution_count": 9,
     "metadata": {},
     "output_type": "execute_result"
    }
   ],
   "source": [
    "function sort_ids(data::Dict{String, Any})\n",
    "    return sort(parse.(Int, keys(data)))\n",
    "end"
   ]
  },
  {
   "cell_type": "code",
   "execution_count": 10,
   "id": "64c8327e-9b74-44f2-a686-7d34b8692039",
   "metadata": {},
   "outputs": [],
   "source": [
    "line_ids = sort_ids(network[\"branch\"])\n",
    "bus_ids = sort_ids(network[\"bus\"])\n",
    "gen_ids = sort_ids(network[\"gen\"])\n",
    "nuc_ids = sort_ids(network[\"nuc\"]);"
   ]
  },
  {
   "cell_type": "markdown",
   "id": "9d3d85bc-1eba-40de-95e1-34f102cd4226",
   "metadata": {},
   "source": [
    "Check that there is one load at every bus:"
   ]
  },
  {
   "cell_type": "code",
   "execution_count": 11,
   "id": "5b0bd620-4926-4048-9d46-6c879e2d8636",
   "metadata": {},
   "outputs": [
    {
     "data": {
      "text/plain": [
       "true"
      ]
     },
     "execution_count": 11,
     "metadata": {},
     "output_type": "execute_result"
    }
   ],
   "source": [
    "sort_ids(network[\"load\"]) == bus_ids"
   ]
  },
  {
   "cell_type": "code",
   "execution_count": 12,
   "id": "f82072d7-8160-4d36-8bb5-b5ab223dc0ac",
   "metadata": {},
   "outputs": [
    {
     "data": {
      "text/plain": [
       "(true, false, false, false)"
      ]
     },
     "execution_count": 12,
     "metadata": {},
     "output_type": "execute_result"
    }
   ],
   "source": [
    "(line_ids == collect(1:Nlines), bus_ids == collect(1:Nbuses), gen_ids == collect(1:Ngens), \n",
    "    nuc_ids == collect(1:Nnucs))"
   ]
  },
  {
   "cell_type": "markdown",
   "id": "cee9a077-f9c5-4697-9b52-8c0ac05c103f",
   "metadata": {},
   "source": [
    "**Warning**: bus IDs do not go from 1 to N"
   ]
  },
  {
   "cell_type": "code",
   "execution_count": 13,
   "id": "ad300897-3b89-4eb4-a018-8625d34b09af",
   "metadata": {},
   "outputs": [],
   "source": [
    "bus_ids_map = Dict(bus_ids[i] => i for i = 1:Nbuses);\n",
    "gen_ids_map = Dict(gen_ids[i] => i for i = 1:Ngens)\n",
    "nuc_ids_map = Dict(nuc_ids[i] => i for i = 1:Nnucs);"
   ]
  },
  {
   "cell_type": "code",
   "execution_count": 14,
   "id": "066e9091-1953-487b-bb04-c12e105ad5de",
   "metadata": {},
   "outputs": [
    {
     "data": {
      "text/plain": [
       "693"
      ]
     },
     "execution_count": 14,
     "metadata": {},
     "output_type": "execute_result"
    }
   ],
   "source": [
    "gen_ids_map[726]"
   ]
  },
  {
   "cell_type": "markdown",
   "id": "63c621be-e7b9-4324-b477-a5e99f6ca889",
   "metadata": {},
   "source": [
    "Incidence matrix $M$\n",
    "(encodes the connection between buses with a direction):"
   ]
  },
  {
   "cell_type": "code",
   "execution_count": 15,
   "id": "5ecb34a7-8d8d-4144-bd5b-8c64da46b1d0",
   "metadata": {},
   "outputs": [
    {
     "data": {
      "text/plain": [
       "4097×8375 SparseMatrixCSC{Float64, Int64} with 16750 stored entries:\n",
       "⎡⣿⣶⣦⣤⣀⠀⠀⠀⠀⠀⠀⠀⠀⠀⠀⠀⠀⠀⠀⠀⠀⠀⠀⠀⠀⠀⠀⠀⠀⠀⠀⠀⠀⠀⠀⠀⠀⣾⣾⡷⎤\n",
       "⎢⠀⠀⠑⠐⠻⠛⠿⠶⢤⣀⡀⠀⠀⠀⠀⠀⠀⠀⠀⠀⠀⠀⠀⠀⠀⠀⠀⠀⠀⠀⠀⠀⠀⠀⠀⠀⠀⣿⣿⡿⎥\n",
       "⎢⠀⠀⠀⠀⠀⠀⠀⠀⢈⠉⣟⡟⣶⣦⣤⣀⠀⠀⠀⠀⠀⠀⠀⠀⠀⠀⠀⠀⠀⠀⠀⠀⠀⠀⠀⠀⠀⢿⣿⣿⎥\n",
       "⎢⠀⠀⠀⡀⠀⠀⠀⠀⡒⠒⠋⠀⢀⡁⠉⢙⢛⢲⣤⣀⡀⠀⠀⠀⠀⠀⠀⠀⠀⠀⠀⠀⠀⠀⠀⠀⠀⣿⣿⣿⎥\n",
       "⎢⠀⠀⠀⠀⠀⠀⠀⠀⠁⠀⠀⠀⠀⠀⠀⠀⠀⠀⠀⢈⢹⢳⢶⣤⣀⡀⠀⠀⠀⠀⠀⠀⠀⠀⠀⠀⠀⣿⣿⣯⎥\n",
       "⎢⠀⠀⠀⠀⠀⠀⠀⠀⠀⠀⠰⠀⠀⠀⠀⠠⠀⠄⠤⠐⠨⠾⠼⠥⣾⠿⠷⢦⣀⡀⠀⠀⠀⠀⠀⠀⠀⣻⣿⣿⎥\n",
       "⎢⠀⠑⠀⡀⠀⠀⠀⠀⢄⣀⣠⡈⢂⢀⣀⣀⣀⣐⡒⣟⣓⣐⣀⣀⢰⠀⣀⣜⢉⣽⣳⣤⣄⠀⠀⠀⠀⣿⣿⣷⎥\n",
       "⎢⣀⣠⣤⣤⣀⣐⣠⣀⢈⢈⣩⡀⢈⡀⠀⢈⡡⢡⣀⡍⠍⠉⠉⠉⠁⠉⠈⠉⢉⢈⣤⠀⡹⢷⣶⣄⠀⠷⠷⠞⎥\n",
       "⎢⠲⡟⢟⢿⢿⣾⣟⣿⣆⣨⣭⣥⢤⣭⣤⣶⣤⡼⣼⠭⢬⣭⡩⠭⢤⡭⣭⣭⣹⠽⢾⡬⣯⣿⣿⣿⣆⠀⠀⠀⎥\n",
       "⎣⠁⠛⠻⠋⠿⠻⠻⠝⠿⠽⠗⠾⠿⠾⠽⠿⠿⠯⠻⠾⠚⠛⠁⠘⠚⠛⠹⠻⠛⠛⠸⠗⠿⠾⠽⠿⠿⠆⠀⠀⎦"
      ]
     },
     "execution_count": 15,
     "metadata": {},
     "output_type": "execute_result"
    }
   ],
   "source": [
    "lines_from_bus = [bus_ids_map[network[\"branch\"][string(id)][\"f_bus\"]] for id ∈ line_ids]\n",
    "lines_to_bus = [bus_ids_map[network[\"branch\"][string(id)][\"t_bus\"]] for id ∈ line_ids]\n",
    "\n",
    "M = sparse([lines_from_bus; lines_to_bus], [1:Nlines; 1:Nlines],\n",
    "    [-ones(Nlines); ones(Nlines)], Nbuses, Nlines)"
   ]
  },
  {
   "cell_type": "markdown",
   "id": "e759f930-b3f4-492f-9f7e-ea89d1c22213",
   "metadata": {},
   "source": [
    "Susceptance matrix:"
   ]
  },
  {
   "cell_type": "code",
   "execution_count": 16,
   "id": "d8989bc5-c3b4-457f-b6d1-63fc966e5652",
   "metadata": {},
   "outputs": [
    {
     "data": {
      "text/plain": [
       "4097×8375 SparseMatrixCSC{Float64, Int64} with 16750 stored entries:\n",
       "⎡⣿⣶⣦⣤⣀⠀⠀⠀⠀⠀⠀⠀⠀⠀⠀⠀⠀⠀⠀⠀⠀⠀⠀⠀⠀⠀⠀⠀⠀⠀⠀⠀⠀⠀⠀⠀⠀⣾⣾⡷⎤\n",
       "⎢⠀⠀⠑⠐⠻⠛⠿⠶⢤⣀⡀⠀⠀⠀⠀⠀⠀⠀⠀⠀⠀⠀⠀⠀⠀⠀⠀⠀⠀⠀⠀⠀⠀⠀⠀⠀⠀⣿⣿⡿⎥\n",
       "⎢⠀⠀⠀⠀⠀⠀⠀⠀⢈⠉⣟⡟⣶⣦⣤⣀⠀⠀⠀⠀⠀⠀⠀⠀⠀⠀⠀⠀⠀⠀⠀⠀⠀⠀⠀⠀⠀⢿⣿⣿⎥\n",
       "⎢⠀⠀⠀⡀⠀⠀⠀⠀⡒⠒⠋⠀⢀⡁⠉⢙⢛⢲⣤⣀⡀⠀⠀⠀⠀⠀⠀⠀⠀⠀⠀⠀⠀⠀⠀⠀⠀⣿⣿⣿⎥\n",
       "⎢⠀⠀⠀⠀⠀⠀⠀⠀⠁⠀⠀⠀⠀⠀⠀⠀⠀⠀⠀⢈⢹⢳⢶⣤⣀⡀⠀⠀⠀⠀⠀⠀⠀⠀⠀⠀⠀⣿⣿⣯⎥\n",
       "⎢⠀⠀⠀⠀⠀⠀⠀⠀⠀⠀⠰⠀⠀⠀⠀⠠⠀⠄⠤⠐⠨⠾⠼⠥⣾⠿⠷⢦⣀⡀⠀⠀⠀⠀⠀⠀⠀⣻⣿⣿⎥\n",
       "⎢⠀⠑⠀⡀⠀⠀⠀⠀⢄⣀⣠⡈⢂⢀⣀⣀⣀⣐⡒⣟⣓⣐⣀⣀⢰⠀⣀⣜⢉⣽⣳⣤⣄⠀⠀⠀⠀⣿⣿⣷⎥\n",
       "⎢⣀⣠⣤⣤⣀⣐⣠⣀⢈⢈⣩⡀⢈⡀⠀⢈⡡⢡⣀⡍⠍⠉⠉⠉⠁⠉⠈⠉⢉⢈⣤⠀⡹⢷⣶⣄⠀⠷⠷⠞⎥\n",
       "⎢⠲⡟⢟⢿⢿⣾⣟⣿⣆⣨⣭⣥⢤⣭⣤⣶⣤⡼⣼⠭⢬⣭⡩⠭⢤⡭⣭⣭⣹⠽⢾⡬⣯⣿⣿⣿⣆⠀⠀⠀⎥\n",
       "⎣⠁⠛⠻⠋⠿⠻⠻⠝⠿⠽⠗⠾⠿⠾⠽⠿⠿⠯⠻⠾⠚⠛⠁⠘⠚⠛⠹⠻⠛⠛⠸⠗⠿⠾⠽⠿⠿⠆⠀⠀⎦"
      ]
     },
     "execution_count": 16,
     "metadata": {},
     "output_type": "execute_result"
    }
   ],
   "source": [
    "b = [network[\"branch\"][string(id)][\"br_b\"] for id ∈ line_ids];\n",
    "\n",
    "B = M * Diagonal(b)"
   ]
  },
  {
   "cell_type": "markdown",
   "id": "ab066787-a6ee-40f1-a6bd-fb53f1242c97",
   "metadata": {},
   "source": [
    "By construction, the transpose of the susceptance matrix $B^T$ annihilates the vector $(1, 1, \\ldots, 1, 1)$:"
   ]
  },
  {
   "cell_type": "code",
   "execution_count": 17,
   "id": "52236c4d-34ee-41e1-bfde-02b167ea529e",
   "metadata": {},
   "outputs": [
    {
     "data": {
      "text/plain": [
       "true"
      ]
     },
     "execution_count": 17,
     "metadata": {},
     "output_type": "execute_result"
    }
   ],
   "source": [
    "B' * ones(Nbuses) == zeros(Int, Nlines)"
   ]
  },
  {
   "cell_type": "markdown",
   "id": "f5152fb6-4aed-4d99-b671-9a145e754cd3",
   "metadata": {},
   "source": [
    "Compute the pseudo-inverse of $B$:"
   ]
  },
  {
   "cell_type": "code",
   "execution_count": 18,
   "id": "40cde173-0bde-47a3-901c-a1c61ce50186",
   "metadata": {},
   "outputs": [
    {
     "data": {
      "text/plain": [
       "8375×4097 Matrix{Float64}:\n",
       " -0.0225952     5.5164e-6     5.5164e-6    …   5.5164e-6     5.5164e-6\n",
       " -0.0225952     5.5164e-6     5.5164e-6        5.5164e-6     5.5164e-6\n",
       "  1.06328e-5   -0.01088      -0.01088          1.06328e-5    1.06328e-5\n",
       "  1.06328e-5   -0.01088      -0.01088          1.06328e-5    1.06328e-5\n",
       " -2.16281e-5   -2.16281e-5    0.0295151       -2.16281e-5   -2.16281e-5\n",
       "  1.81255e-6    1.81255e-6   -0.00742419   …   1.81255e-6    1.81255e-6\n",
       "  7.20936e-6    7.20936e-6    7.20936e-6       7.20936e-6    7.20936e-6\n",
       " -3.3705e-5    -3.39816e-5   -3.39816e-5      -1.50774e-5   -1.98764e-5\n",
       "  1.473e-5      1.48213e-5    1.48213e-5       8.58272e-6    1.01665e-5\n",
       " -6.05796e-6   -6.05796e-6   -6.05796e-6      -6.05796e-6   -6.05796e-6\n",
       " -6.05796e-6   -6.05796e-6   -6.05796e-6   …  -6.05796e-6   -6.05796e-6\n",
       " -8.03995e-7   -1.04703e-6   -1.04703e-6       1.55601e-5    1.13442e-5\n",
       " -1.08941e-6   -1.08941e-6   -1.08941e-6      -1.08941e-6   -1.08941e-6\n",
       "  ⋮                                        ⋱   ⋮            \n",
       "  0.000186878   0.000186999   0.000186999     -0.000185309   0.000182651\n",
       "  0.000186878   0.000186999   0.000186999     -0.000185309   0.000182651\n",
       "  1.92847e-5    1.93672e-5    1.93672e-5   …   5.63367e-5    1.65338e-5\n",
       "  1.92847e-5    1.93672e-5    1.93672e-5       5.63367e-5    1.65338e-5\n",
       " -6.72954e-6   -6.7314e-6    -6.7314e-6        5.51505e-5   -6.66498e-6\n",
       "  6.8496e-5     6.84719e-5    6.84719e-5      -4.27665e-5    6.93327e-5\n",
       " -0.000516113  -0.000516401  -0.000516401      0.000159267  -0.000527129\n",
       "  0.000157466   0.000157472   0.000157472  …  -3.48269e-5    0.000157255\n",
       " -0.000204798  -0.000204798  -0.000204798     -0.000204798  -0.000204798\n",
       " -0.000204798  -0.000204798  -0.000204798     -0.000204798  -0.000204798\n",
       "  0.000351146   0.000348888   0.000348888     -9.33818e-5    0.000415047\n",
       "  8.21091e-6    8.2565e-6     8.2565e-6        7.76152e-5    6.63306e-6"
      ]
     },
     "execution_count": 18,
     "metadata": {},
     "output_type": "execute_result"
    }
   ],
   "source": [
    "Bi = pinv(Matrix(B))"
   ]
  },
  {
   "cell_type": "markdown",
   "id": "9f73e1d2-e4b9-48a5-a89a-0347123320ed",
   "metadata": {},
   "source": [
    "Define $L$ as the inverse of the susceptance matrix multiplied by the susceptance:"
   ]
  },
  {
   "cell_type": "code",
   "execution_count": 19,
   "id": "53c58c62-36d5-4f03-9a4c-88d0b5063d4b",
   "metadata": {},
   "outputs": [
    {
     "data": {
      "text/plain": [
       "8375×4097 Matrix{Float64}:\n",
       " -0.499878      0.000122041   0.000122041  …   0.000122041   0.000122041\n",
       " -0.499878      0.000122041   0.000122041      0.000122041   0.000122041\n",
       "  0.000488162  -0.499512     -0.499512         0.000488162   0.000488162\n",
       "  0.000488162  -0.499512     -0.499512         0.000488162   0.000488162\n",
       " -0.000732243  -0.000732243   0.999268        -0.000732243  -0.000732243\n",
       "  0.000244081   0.000244081  -0.999756     …   0.000244081   0.000244081\n",
       "  0.000244081   0.000244081   0.000244081      0.000244081   0.000244081\n",
       " -0.000752681  -0.000758859  -0.000758859     -0.0003367    -0.000443869\n",
       "  0.000996762   0.00100294    0.00100294       0.000580781   0.000687951\n",
       " -0.000244081  -0.000244081  -0.000244081     -0.000244081  -0.000244081\n",
       " -0.000244081  -0.000244081  -0.000244081  …  -0.000244081  -0.000244081\n",
       " -2.04378e-5   -2.66158e-5   -2.66158e-5       0.000395543   0.000288374\n",
       " -0.000122041  -0.000122041  -0.000122041     -0.000122041  -0.000122041\n",
       "  ⋮                                        ⋱   ⋮            \n",
       "  0.00489993    0.0049031     0.0049031       -0.00485877    0.00478908\n",
       "  0.00489993    0.0049031     0.0049031       -0.00485877    0.00478908\n",
       "  0.000505643   0.000507805   0.000507805  …   0.00147714    0.000433514\n",
       "  0.000505643   0.000507805   0.000507805      0.00147714    0.000433514\n",
       " -5.91417e-5   -5.91581e-5   -5.91581e-5       0.000484684  -5.85743e-5\n",
       "  0.00179596    0.00179533    0.00179533      -0.00112133    0.0018179\n",
       " -0.0135324    -0.01354      -0.01354          0.00417595   -0.0138212\n",
       "  0.00412873    0.00412889    0.00412889   …  -0.000913158   0.00412319\n",
       " -0.00536978   -0.00536978   -0.00536978      -0.00536978   -0.00536978\n",
       " -0.00536978   -0.00536978   -0.00536978      -0.00536978   -0.00536978\n",
       "  0.009207      0.00914779    0.00914779      -0.00244846    0.0108825\n",
       "  0.000215289   0.000216484   0.000216484      0.00203506    0.000173918"
      ]
     },
     "execution_count": 19,
     "metadata": {},
     "output_type": "execute_result"
    }
   ],
   "source": [
    "L = Diagonal(b) * Bi"
   ]
  },
  {
   "cell_type": "markdown",
   "id": "051a76d5-ffeb-4cf4-b5b2-820a9e020cff",
   "metadata": {},
   "source": [
    "Given the power injections $P_i$ at every bus $i$ and the voltage angles difference $\\Delta\\theta_a$ on every line $a$, we have\n",
    "\n",
    "$$P_i = B_{ia} \\Delta \\theta_a$$\n",
    "\n",
    "The power flow of each line $a$ is computed by the susceptance times the angle difference:\n",
    "\n",
    "$$P_a = b_a \\Delta\\theta_a$$\n",
    "\n",
    "There is a thermal limit on each line giving the constraint:\n",
    "\n",
    "$$\\left| P_a \\right| \\leq P_a^\\text{therm}$$\n",
    "\n",
    "For the linearized version of the problem to make sense, we also require the angle differences to be less that 45°:\n",
    "\n",
    "$$\\left| \\Delta\\theta_a \\right| \\leq \\frac{\\pi}{4}$$\n",
    "\n",
    "This is equivalent to a limit on the line flows, which can in some exceptional cases be more constraining than the thermal limit:\n",
    "\n",
    "$$\\left| P_a \\right| \\leq\\frac{\\pi}{4} b_a$$\n",
    "\n",
    "We define also the maximal power flow to be:\n",
    "\n",
    "$$P_a^\\text{max} = \\min\\left(P_a^\\text{therm}, \\frac{\\pi}{4} b_a \\right)$$"
   ]
  },
  {
   "cell_type": "code",
   "execution_count": 20,
   "id": "e5690a28-2618-4f80-aaef-11970fae47b2",
   "metadata": {},
   "outputs": [],
   "source": [
    "line_pmax_angle = π/4 * b;"
   ]
  },
  {
   "cell_type": "code",
   "execution_count": 21,
   "id": "f3615049-991e-49ce-8a22-53a560bf8602",
   "metadata": {},
   "outputs": [
    {
     "data": {
      "text/plain": [
       "0.007880597014925373"
      ]
     },
     "execution_count": 21,
     "metadata": {},
     "output_type": "execute_result"
    }
   ],
   "source": [
    "lines_thermal_limit = [network[\"branch\"][string(id)][\"rate_a\"] for id ∈ line_ids]\n",
    "\n",
    "count(lines_thermal_limit .> line_pmax_angle) / Nlines"
   ]
  },
  {
   "cell_type": "code",
   "execution_count": 22,
   "id": "8f070c4d-6316-40c8-b056-676499aeab39",
   "metadata": {},
   "outputs": [
    {
     "data": {
      "text/plain": [
       "8375-element Vector{Float64}:\n",
       "  4.9\n",
       "  4.9\n",
       "  4.9\n",
       "  4.9\n",
       "  4.9\n",
       "  4.9\n",
       "  4.9\n",
       "  4.9\n",
       "  4.9\n",
       "  4.9\n",
       "  4.9\n",
       "  4.9\n",
       "  4.9\n",
       "  ⋮\n",
       " 10.0\n",
       " 10.0\n",
       " 10.0\n",
       " 10.0\n",
       "  6.902376728174339\n",
       " 10.0\n",
       " 10.0\n",
       " 10.0\n",
       " 10.0\n",
       " 10.0\n",
       " 10.0\n",
       " 10.0"
      ]
     },
     "execution_count": 22,
     "metadata": {},
     "output_type": "execute_result"
    }
   ],
   "source": [
    "line_pmax = min.(lines_thermal_limit, line_pmax_angle)"
   ]
  },
  {
   "cell_type": "markdown",
   "id": "b247bc45-b48a-43a5-91b6-bf42e827d4ef",
   "metadata": {
    "jp-MarkdownHeadingCollapsed": true
   },
   "source": [
    "## Import generation costs"
   ]
  },
  {
   "cell_type": "code",
   "execution_count": 23,
   "id": "91851974-2a62-46af-9091-dbfc288701c4",
   "metadata": {},
   "outputs": [
    {
     "data": {
      "text/plain": [
       "8736"
      ]
     },
     "execution_count": 23,
     "metadata": {},
     "output_type": "execute_result"
    }
   ],
   "source": [
    "T = 24 * 364"
   ]
  },
  {
   "cell_type": "code",
   "execution_count": 24,
   "id": "396c1c10-eb44-4f50-b56c-5eecf2f3c6c5",
   "metadata": {},
   "outputs": [
    {
     "data": {
      "text/html": [
       "<div><div style = \"float: left;\"><span>1083×8737 DataFrame</span></div><div style = \"float: right;\"><span style = \"font-style: italic;\">8637 columns and 1058 rows omitted</span></div><div style = \"clear: both;\"></div></div><div class = \"data-frame\" style = \"overflow-x: scroll;\"><table class = \"data-frame\" style = \"margin-bottom: 6px;\"><thead><tr class = \"header\"><th class = \"rowNumber\" style = \"font-weight: bold; text-align: right;\">Row</th><th style = \"text-align: left;\">Column1</th><th style = \"text-align: left;\">0</th><th style = \"text-align: left;\">1</th><th style = \"text-align: left;\">2</th><th style = \"text-align: left;\">3</th><th style = \"text-align: left;\">4</th><th style = \"text-align: left;\">5</th><th style = \"text-align: left;\">6</th><th style = \"text-align: left;\">7</th><th style = \"text-align: left;\">8</th><th style = \"text-align: left;\">9</th><th style = \"text-align: left;\">10</th><th style = \"text-align: left;\">11</th><th style = \"text-align: left;\">12</th><th style = \"text-align: left;\">13</th><th style = \"text-align: left;\">14</th><th style = \"text-align: left;\">15</th><th style = \"text-align: left;\">16</th><th style = \"text-align: left;\">17</th><th style = \"text-align: left;\">18</th><th style = \"text-align: left;\">19</th><th style = \"text-align: left;\">20</th><th style = \"text-align: left;\">21</th><th style = \"text-align: left;\">22</th><th style = \"text-align: left;\">23</th><th style = \"text-align: left;\">24</th><th style = \"text-align: left;\">25</th><th style = \"text-align: left;\">26</th><th style = \"text-align: left;\">27</th><th style = \"text-align: left;\">28</th><th style = \"text-align: left;\">29</th><th style = \"text-align: left;\">30</th><th style = \"text-align: left;\">31</th><th style = \"text-align: left;\">32</th><th style = \"text-align: left;\">33</th><th style = \"text-align: left;\">34</th><th style = \"text-align: left;\">35</th><th style = \"text-align: left;\">36</th><th style = \"text-align: left;\">37</th><th style = \"text-align: left;\">38</th><th style = \"text-align: left;\">39</th><th style = \"text-align: left;\">40</th><th style = \"text-align: left;\">41</th><th style = \"text-align: left;\">42</th><th style = \"text-align: left;\">43</th><th style = \"text-align: left;\">44</th><th style = \"text-align: left;\">45</th><th style = \"text-align: left;\">46</th><th style = \"text-align: left;\">47</th><th style = \"text-align: left;\">48</th><th style = \"text-align: left;\">49</th><th style = \"text-align: left;\">50</th><th style = \"text-align: left;\">51</th><th style = \"text-align: left;\">52</th><th style = \"text-align: left;\">53</th><th style = \"text-align: left;\">54</th><th style = \"text-align: left;\">55</th><th style = \"text-align: left;\">56</th><th style = \"text-align: left;\">57</th><th style = \"text-align: left;\">58</th><th style = \"text-align: left;\">59</th><th style = \"text-align: left;\">60</th><th style = \"text-align: left;\">61</th><th style = \"text-align: left;\">62</th><th style = \"text-align: left;\">63</th><th style = \"text-align: left;\">64</th><th style = \"text-align: left;\">65</th><th style = \"text-align: left;\">66</th><th style = \"text-align: left;\">67</th><th style = \"text-align: left;\">68</th><th style = \"text-align: left;\">69</th><th style = \"text-align: left;\">70</th><th style = \"text-align: left;\">71</th><th style = \"text-align: left;\">72</th><th style = \"text-align: left;\">73</th><th style = \"text-align: left;\">74</th><th style = \"text-align: left;\">75</th><th style = \"text-align: left;\">76</th><th style = \"text-align: left;\">77</th><th style = \"text-align: left;\">78</th><th style = \"text-align: left;\">79</th><th style = \"text-align: left;\">80</th><th style = \"text-align: left;\">81</th><th style = \"text-align: left;\">82</th><th style = \"text-align: left;\">83</th><th style = \"text-align: left;\">84</th><th style = \"text-align: left;\">85</th><th style = \"text-align: left;\">86</th><th style = \"text-align: left;\">87</th><th style = \"text-align: left;\">88</th><th style = \"text-align: left;\">89</th><th style = \"text-align: left;\">90</th><th style = \"text-align: left;\">91</th><th style = \"text-align: left;\">92</th><th style = \"text-align: left;\">93</th><th style = \"text-align: left;\">94</th><th style = \"text-align: left;\">95</th><th style = \"text-align: left;\">96</th><th style = \"text-align: left;\">97</th><th style = \"text-align: left;\">98</th><th style = \"text-align: right;\">&ctdot;</th></tr><tr class = \"subheader headerLastRow\"><th class = \"rowNumber\" style = \"font-weight: bold; text-align: right;\"></th><th title = \"Int64\" style = \"text-align: left;\">Int64</th><th title = \"Float64\" style = \"text-align: left;\">Float64</th><th title = \"Float64\" style = \"text-align: left;\">Float64</th><th title = \"Float64\" style = \"text-align: left;\">Float64</th><th title = \"Float64\" style = \"text-align: left;\">Float64</th><th title = \"Float64\" style = \"text-align: left;\">Float64</th><th title = \"Float64\" style = \"text-align: left;\">Float64</th><th title = \"Float64\" style = \"text-align: left;\">Float64</th><th title = \"Float64\" style = \"text-align: left;\">Float64</th><th title = \"Float64\" style = \"text-align: left;\">Float64</th><th title = \"Float64\" style = \"text-align: left;\">Float64</th><th title = \"Float64\" style = \"text-align: left;\">Float64</th><th title = \"Float64\" style = \"text-align: left;\">Float64</th><th title = \"Float64\" style = \"text-align: left;\">Float64</th><th title = \"Float64\" style = \"text-align: left;\">Float64</th><th title = \"Float64\" style = \"text-align: left;\">Float64</th><th title = \"Float64\" style = \"text-align: left;\">Float64</th><th title = \"Float64\" style = \"text-align: left;\">Float64</th><th title = \"Float64\" style = \"text-align: left;\">Float64</th><th title = \"Float64\" style = \"text-align: left;\">Float64</th><th title = \"Float64\" style = \"text-align: left;\">Float64</th><th title = \"Float64\" style = \"text-align: left;\">Float64</th><th title = \"Float64\" style = \"text-align: left;\">Float64</th><th title = \"Float64\" style = \"text-align: left;\">Float64</th><th title = \"Float64\" style = \"text-align: left;\">Float64</th><th title = \"Float64\" style = \"text-align: left;\">Float64</th><th title = \"Float64\" style = \"text-align: left;\">Float64</th><th title = \"Float64\" style = \"text-align: left;\">Float64</th><th title = \"Float64\" style = \"text-align: left;\">Float64</th><th title = \"Float64\" style = \"text-align: left;\">Float64</th><th title = \"Float64\" style = \"text-align: left;\">Float64</th><th title = \"Float64\" style = \"text-align: left;\">Float64</th><th title = \"Float64\" style = \"text-align: left;\">Float64</th><th title = \"Float64\" style = \"text-align: left;\">Float64</th><th title = \"Float64\" style = \"text-align: left;\">Float64</th><th title = \"Float64\" style = \"text-align: left;\">Float64</th><th title = \"Float64\" style = \"text-align: left;\">Float64</th><th title = \"Float64\" style = \"text-align: left;\">Float64</th><th title = \"Float64\" style = \"text-align: left;\">Float64</th><th title = \"Float64\" style = \"text-align: left;\">Float64</th><th title = \"Float64\" style = \"text-align: left;\">Float64</th><th title = \"Float64\" style = \"text-align: left;\">Float64</th><th title = \"Float64\" style = \"text-align: left;\">Float64</th><th title = \"Float64\" style = \"text-align: left;\">Float64</th><th title = \"Float64\" style = \"text-align: left;\">Float64</th><th title = \"Float64\" style = \"text-align: left;\">Float64</th><th title = \"Float64\" style = \"text-align: left;\">Float64</th><th title = \"Float64\" style = \"text-align: left;\">Float64</th><th title = \"Float64\" style = \"text-align: left;\">Float64</th><th title = \"Float64\" style = \"text-align: left;\">Float64</th><th title = \"Float64\" style = \"text-align: left;\">Float64</th><th title = \"Float64\" style = \"text-align: left;\">Float64</th><th title = \"Float64\" style = \"text-align: left;\">Float64</th><th title = \"Float64\" style = \"text-align: left;\">Float64</th><th title = \"Float64\" style = \"text-align: left;\">Float64</th><th title = \"Float64\" style = \"text-align: left;\">Float64</th><th title = \"Float64\" style = \"text-align: left;\">Float64</th><th title = \"Float64\" style = \"text-align: left;\">Float64</th><th title = \"Float64\" style = \"text-align: left;\">Float64</th><th title = \"Float64\" style = \"text-align: left;\">Float64</th><th title = \"Float64\" style = \"text-align: left;\">Float64</th><th title = \"Float64\" style = \"text-align: left;\">Float64</th><th title = \"Float64\" style = \"text-align: left;\">Float64</th><th title = \"Float64\" style = \"text-align: left;\">Float64</th><th title = \"Float64\" style = \"text-align: left;\">Float64</th><th title = \"Float64\" style = \"text-align: left;\">Float64</th><th title = \"Float64\" style = \"text-align: left;\">Float64</th><th title = \"Float64\" style = \"text-align: left;\">Float64</th><th title = \"Float64\" style = \"text-align: left;\">Float64</th><th title = \"Float64\" style = \"text-align: left;\">Float64</th><th title = \"Float64\" style = \"text-align: left;\">Float64</th><th title = \"Float64\" style = \"text-align: left;\">Float64</th><th title = \"Float64\" style = \"text-align: left;\">Float64</th><th title = \"Float64\" style = \"text-align: left;\">Float64</th><th title = \"Float64\" style = \"text-align: left;\">Float64</th><th title = \"Float64\" style = \"text-align: left;\">Float64</th><th title = \"Float64\" style = \"text-align: left;\">Float64</th><th title = \"Float64\" style = \"text-align: left;\">Float64</th><th title = \"Float64\" style = \"text-align: left;\">Float64</th><th title = \"Float64\" style = \"text-align: left;\">Float64</th><th title = \"Float64\" style = \"text-align: left;\">Float64</th><th title = \"Float64\" style = \"text-align: left;\">Float64</th><th title = \"Float64\" style = \"text-align: left;\">Float64</th><th title = \"Float64\" style = \"text-align: left;\">Float64</th><th title = \"Float64\" style = \"text-align: left;\">Float64</th><th title = \"Float64\" style = \"text-align: left;\">Float64</th><th title = \"Float64\" style = \"text-align: left;\">Float64</th><th title = \"Float64\" style = \"text-align: left;\">Float64</th><th title = \"Float64\" style = \"text-align: left;\">Float64</th><th title = \"Float64\" style = \"text-align: left;\">Float64</th><th title = \"Float64\" style = \"text-align: left;\">Float64</th><th title = \"Float64\" style = \"text-align: left;\">Float64</th><th title = \"Float64\" style = \"text-align: left;\">Float64</th><th title = \"Float64\" style = \"text-align: left;\">Float64</th><th title = \"Float64\" style = \"text-align: left;\">Float64</th><th title = \"Float64\" style = \"text-align: left;\">Float64</th><th title = \"Float64\" style = \"text-align: left;\">Float64</th><th title = \"Float64\" style = \"text-align: left;\">Float64</th><th title = \"Float64\" style = \"text-align: left;\">Float64</th><th title = \"Float64\" style = \"text-align: left;\">Float64</th><th title = \"Float64\" style = \"text-align: right;\">&ctdot;</th></tr></thead><tbody><tr><td class = \"rowNumber\" style = \"font-weight: bold; text-align: right;\">1</td><td style = \"text-align: right;\">1</td><td style = \"text-align: right;\">0.0600444</td><td style = \"text-align: right;\">-0.0325225</td><td style = \"text-align: right;\">-0.0472233</td><td style = \"text-align: right;\">-0.0463415</td><td style = \"text-align: right;\">-0.06765</td><td style = \"text-align: right;\">0.116603</td><td style = \"text-align: right;\">0.044683</td><td style = \"text-align: right;\">-0.121029</td><td style = \"text-align: right;\">0.0352852</td><td style = \"text-align: right;\">-0.0475864</td><td style = \"text-align: right;\">-0.124568</td><td style = \"text-align: right;\">0.0007844</td><td style = \"text-align: right;\">-0.00321964</td><td style = \"text-align: right;\">0.0729423</td><td style = \"text-align: right;\">0.0292253</td><td style = \"text-align: right;\">-0.00774486</td><td style = \"text-align: right;\">0.144995</td><td style = \"text-align: right;\">0.0875453</td><td style = \"text-align: right;\">0.0408881</td><td style = \"text-align: right;\">0.0793755</td><td style = \"text-align: right;\">0.056021</td><td style = \"text-align: right;\">0.0983048</td><td style = \"text-align: right;\">0.0814576</td><td style = \"text-align: right;\">0.080336</td><td style = \"text-align: right;\">0.124665</td><td style = \"text-align: right;\">0.0372826</td><td style = \"text-align: right;\">0.0254434</td><td style = \"text-align: right;\">0.0268432</td><td style = \"text-align: right;\">0.00380638</td><td style = \"text-align: right;\">0.184295</td><td style = \"text-align: right;\">0.106885</td><td style = \"text-align: right;\">-0.0656456</td><td style = \"text-align: right;\">0.0829781</td><td style = \"text-align: right;\">-0.00795604</td><td style = \"text-align: right;\">-0.0928608</td><td style = \"text-align: right;\">0.0252056</td><td style = \"text-align: right;\">0.015012</td><td style = \"text-align: right;\">0.0864761</td><td style = \"text-align: right;\">0.039864</td><td style = \"text-align: right;\">0.00201162</td><td style = \"text-align: right;\">0.15598</td><td style = \"text-align: right;\">0.101852</td><td style = \"text-align: right;\">0.0604712</td><td style = \"text-align: right;\">0.105943</td><td style = \"text-align: right;\">0.0909357</td><td style = \"text-align: right;\">0.142502</td><td style = \"text-align: right;\">0.135385</td><td style = \"text-align: right;\">0.143921</td><td style = \"text-align: right;\">0.197303</td><td style = \"text-align: right;\">0.117859</td><td style = \"text-align: right;\">0.112377</td><td style = \"text-align: right;\">0.118154</td><td style = \"text-align: right;\">0.0972092</td><td style = \"text-align: right;\">0.277304</td><td style = \"text-align: right;\">0.196934</td><td style = \"text-align: right;\">0.0189155</td><td style = \"text-align: right;\">0.15969</td><td style = \"text-align: right;\">0.0588245</td><td style = \"text-align: right;\">-0.0377113</td><td style = \"text-align: right;\">0.0674922</td><td style = \"text-align: right;\">0.0437345</td><td style = \"text-align: right;\">0.101501</td><td style = \"text-align: right;\">0.0416349</td><td style = \"text-align: right;\">-0.00846774</td><td style = \"text-align: right;\">0.134768</td><td style = \"text-align: right;\">0.071867</td><td style = \"text-align: right;\">0.0240247</td><td style = \"text-align: right;\">0.065587</td><td style = \"text-align: right;\">0.0493404</td><td style = \"text-align: right;\">0.102329</td><td style = \"text-align: right;\">0.0991598</td><td style = \"text-align: right;\">0.11391</td><td style = \"text-align: right;\">0.175406</td><td style = \"text-align: right;\">0.105517</td><td style = \"text-align: right;\">0.110502</td><td style = \"text-align: right;\">0.12709</td><td style = \"text-align: right;\">0.116709</td><td style = \"text-align: right;\">0.306548</td><td style = \"text-align: right;\">0.234565</td><td style = \"text-align: right;\">0.0631078</td><td style = \"text-align: right;\">0.208236</td><td style = \"text-align: right;\">0.109242</td><td style = \"text-align: right;\">0.0119379</td><td style = \"text-align: right;\">0.113705</td><td style = \"text-align: right;\">0.0839383</td><td style = \"text-align: right;\">0.133342</td><td style = \"text-align: right;\">0.0630896</td><td style = \"text-align: right;\">0.000997543</td><td style = \"text-align: right;\">0.131136</td><td style = \"text-align: right;\">0.0545733</td><td style = \"text-align: right;\">-0.00693216</td><td style = \"text-align: right;\">0.0215233</td><td style = \"text-align: right;\">-0.0067497</td><td style = \"text-align: right;\">0.0357581</td><td style = \"text-align: right;\">0.0240388</td><td style = \"text-align: right;\">0.0324549</td><td style = \"text-align: right;\">0.0900088</td><td style = \"text-align: right;\">0.0186255</td><td style = \"text-align: right;\">0.0245023</td><td style = \"text-align: right;\">&ctdot;</td></tr><tr><td class = \"rowNumber\" style = \"font-weight: bold; text-align: right;\">2</td><td style = \"text-align: right;\">2</td><td style = \"text-align: right;\">0.0768188</td><td style = \"text-align: right;\">-0.00243229</td><td style = \"text-align: right;\">-0.0465575</td><td style = \"text-align: right;\">-0.0291031</td><td style = \"text-align: right;\">-0.0368041</td><td style = \"text-align: right;\">-0.051928</td><td style = \"text-align: right;\">-0.0654904</td><td style = \"text-align: right;\">-0.110334</td><td style = \"text-align: right;\">-0.0768962</td><td style = \"text-align: right;\">-0.0411255</td><td style = \"text-align: right;\">-0.102962</td><td style = \"text-align: right;\">-0.0823393</td><td style = \"text-align: right;\">-0.0485936</td><td style = \"text-align: right;\">-0.104662</td><td style = \"text-align: right;\">-0.0834217</td><td style = \"text-align: right;\">-0.0440392</td><td style = \"text-align: right;\">-0.0286807</td><td style = \"text-align: right;\">0.035831</td><td style = \"text-align: right;\">0.00360927</td><td style = \"text-align: right;\">-0.063598</td><td style = \"text-align: right;\">-0.00676269</td><td style = \"text-align: right;\">0.0259967</td><td style = \"text-align: right;\">0.00799757</td><td style = \"text-align: right;\">0.0384523</td><td style = \"text-align: right;\">0.0416067</td><td style = \"text-align: right;\">-0.0224955</td><td style = \"text-align: right;\">-0.0528557</td><td style = \"text-align: right;\">-0.0234163</td><td style = \"text-align: right;\">-0.0212092</td><td style = \"text-align: right;\">-0.0286899</td><td style = \"text-align: right;\">-0.0369481</td><td style = \"text-align: right;\">-0.0787882</td><td style = \"text-align: right;\">-0.0445044</td><td style = \"text-align: right;\">-0.00980687</td><td style = \"text-align: right;\">-0.0743202</td><td style = \"text-align: right;\">-0.0576069</td><td style = \"text-align: right;\">-0.0285941</td><td style = \"text-align: right;\">-0.0898007</td><td style = \"text-align: right;\">-0.0736962</td><td style = \"text-align: right;\">-0.0390762</td><td style = \"text-align: right;\">-0.0277893</td><td style = \"text-align: right;\">0.0335873</td><td style = \"text-align: right;\">-0.000671154</td><td style = \"text-align: right;\">-0.0687461</td><td style = \"text-align: right;\">-0.0116321</td><td style = \"text-align: right;\">0.0224396</td><td style = \"text-align: right;\">0.00659176</td><td style = \"text-align: right;\">0.0397737</td><td style = \"text-align: right;\">0.0459164</td><td style = \"text-align: right;\">-0.0152827</td><td style = \"text-align: right;\">-0.0431815</td><td style = \"text-align: right;\">-0.0120649</td><td style = \"text-align: right;\">-0.00927304</td><td style = \"text-align: right;\">-0.0175132</td><td style = \"text-align: right;\">-0.0280542</td><td style = \"text-align: right;\">-0.0737922</td><td style = \"text-align: right;\">-0.0450175</td><td style = \"text-align: right;\">-0.0173364</td><td style = \"text-align: right;\">-0.0901718</td><td style = \"text-align: right;\">-0.0827931</td><td style = \"text-align: right;\">-0.0637562</td><td style = \"text-align: right;\">-0.135147</td><td style = \"text-align: right;\">-0.128961</td><td style = \"text-align: right;\">-0.103502</td><td style = \"text-align: right;\">-0.100137</td><td style = \"text-align: right;\">-0.0449914</td><td style = \"text-align: right;\">-0.0833991</td><td style = \"text-align: right;\">-0.153229</td><td style = \"text-align: right;\">-0.0952629</td><td style = \"text-align: right;\">-0.0576312</td><td style = \"text-align: right;\">-0.0672328</td><td style = \"text-align: right;\">-0.0252651</td><td style = \"text-align: right;\">-0.00806532</td><td style = \"text-align: right;\">-0.0563174</td><td style = \"text-align: right;\">-0.0698581</td><td style = \"text-align: right;\">-0.0235294</td><td style = \"text-align: right;\">-0.00528168</td><td style = \"text-align: right;\">0.00154069</td><td style = \"text-align: right;\">0.00503486</td><td style = \"text-align: right;\">-0.028297</td><td style = \"text-align: right;\">0.0107143</td><td style = \"text-align: right;\">0.0460088</td><td style = \"text-align: right;\">-0.02218</td><td style = \"text-align: right;\">-0.013338</td><td style = \"text-align: right;\">0.00390218</td><td style = \"text-align: right;\">-0.0724769</td><td style = \"text-align: right;\">-0.0742583</td><td style = \"text-align: right;\">-0.0593974</td><td style = \"text-align: right;\">-0.0687884</td><td style = \"text-align: right;\">-0.0279844</td><td style = \"text-align: right;\">-0.0816667</td><td style = \"text-align: right;\">-0.167004</td><td style = \"text-align: right;\">-0.124059</td><td style = \"text-align: right;\">-0.100257</td><td style = \"text-align: right;\">-0.121839</td><td style = \"text-align: right;\">-0.0894168</td><td style = \"text-align: right;\">-0.0788461</td><td style = \"text-align: right;\">-0.130452</td><td style = \"text-align: right;\">-0.143851</td><td style = \"text-align: right;\">&ctdot;</td></tr><tr><td class = \"rowNumber\" style = \"font-weight: bold; text-align: right;\">3</td><td style = \"text-align: right;\">3</td><td style = \"text-align: right;\">0.0797153</td><td style = \"text-align: right;\">0.058979</td><td style = \"text-align: right;\">-0.076703</td><td style = \"text-align: right;\">0.0623828</td><td style = \"text-align: right;\">0.0933543</td><td style = \"text-align: right;\">0.0366714</td><td style = \"text-align: right;\">0.0721905</td><td style = \"text-align: right;\">0.0351522</td><td style = \"text-align: right;\">-0.0695645</td><td style = \"text-align: right;\">0.013812</td><td style = \"text-align: right;\">0.0834479</td><td style = \"text-align: right;\">-0.0662168</td><td style = \"text-align: right;\">-0.0222337</td><td style = \"text-align: right;\">0.000760608</td><td style = \"text-align: right;\">-0.0827502</td><td style = \"text-align: right;\">-0.0265702</td><td style = \"text-align: right;\">-0.0812489</td><td style = \"text-align: right;\">-0.137639</td><td style = \"text-align: right;\">-0.0685121</td><td style = \"text-align: right;\">-0.0348944</td><td style = \"text-align: right;\">-0.075772</td><td style = \"text-align: right;\">-0.0284962</td><td style = \"text-align: right;\">-0.0266638</td><td style = \"text-align: right;\">-0.133285</td><td style = \"text-align: right;\">-0.00939197</td><td style = \"text-align: right;\">-0.0287917</td><td style = \"text-align: right;\">-0.160908</td><td style = \"text-align: right;\">-0.0161586</td><td style = \"text-align: right;\">0.0223724</td><td style = \"text-align: right;\">-0.0251152</td><td style = \"text-align: right;\">0.0209269</td><td style = \"text-align: right;\">-0.00460293</td><td style = \"text-align: right;\">-0.097188</td><td style = \"text-align: right;\">-0.00142486</td><td style = \"text-align: right;\">0.0804932</td><td style = \"text-align: right;\">-0.0573325</td><td style = \"text-align: right;\">-0.002259</td><td style = \"text-align: right;\">0.0308135</td><td style = \"text-align: right;\">-0.0438448</td><td style = \"text-align: right;\">0.0198032</td><td style = \"text-align: right;\">-0.0288936</td><td style = \"text-align: right;\">-0.0808324</td><td style = \"text-align: right;\">-0.00877413</td><td style = \"text-align: right;\">0.026316</td><td style = \"text-align: right;\">-0.0144431</td><td style = \"text-align: right;\">0.0317395</td><td style = \"text-align: right;\">0.0314372</td><td style = \"text-align: right;\">-0.0781707</td><td style = \"text-align: right;\">0.0420824</td><td style = \"text-align: right;\">0.0185909</td><td style = \"text-align: right;\">-0.117875</td><td style = \"text-align: right;\">0.0224459</td><td style = \"text-align: right;\">0.0566313</td><td style = \"text-align: right;\">0.00501723</td><td style = \"text-align: right;\">0.0472619</td><td style = \"text-align: right;\">0.0183454</td><td style = \"text-align: right;\">-0.0771616</td><td style = \"text-align: right;\">0.0161714</td><td style = \"text-align: right;\">0.0961536</td><td style = \"text-align: right;\">-0.043132</td><td style = \"text-align: right;\">0.0109213</td><td style = \"text-align: right;\">0.0433638</td><td style = \"text-align: right;\">-0.0315933</td><td style = \"text-align: right;\">0.032022</td><td style = \"text-align: right;\">-0.0165089</td><td style = \"text-align: right;\">-0.0681503</td><td style = \"text-align: right;\">0.00427183</td><td style = \"text-align: right;\">0.0397314</td><td style = \"text-align: right;\">-0.000709217</td><td style = \"text-align: right;\">0.0456889</td><td style = \"text-align: right;\">0.0454517</td><td style = \"text-align: right;\">-0.0642857</td><td style = \"text-align: right;\">0.0556024</td><td style = \"text-align: right;\">0.0314714</td><td style = \"text-align: right;\">-0.105946</td><td style = \"text-align: right;\">0.0330757</td><td style = \"text-align: right;\">0.0655794</td><td style = \"text-align: right;\">0.0118694</td><td style = \"text-align: right;\">0.0515755</td><td style = \"text-align: right;\">0.0196558</td><td style = \"text-align: right;\">-0.0793335</td><td style = \"text-align: right;\">0.0100348</td><td style = \"text-align: right;\">0.0855806</td><td style = \"text-align: right;\">-0.0585864</td><td style = \"text-align: right;\">-0.00981333</td><td style = \"text-align: right;\">0.0170169</td><td style = \"text-align: right;\">-0.0637956</td><td style = \"text-align: right;\">-0.00616756</td><td style = \"text-align: right;\">-0.060685</td><td style = \"text-align: right;\">-0.118161</td><td style = \"text-align: right;\">-0.0512528</td><td style = \"text-align: right;\">-0.0208098</td><td style = \"text-align: right;\">-0.0655858</td><td style = \"text-align: right;\">-0.0226604</td><td style = \"text-align: right;\">-0.0253358</td><td style = \"text-align: right;\">-0.136322</td><td style = \"text-align: right;\">-0.0163631</td><td style = \"text-align: right;\">-0.0390075</td><td style = \"text-align: right;\">-0.173465</td><td style = \"text-align: right;\">&ctdot;</td></tr><tr><td class = \"rowNumber\" style = \"font-weight: bold; text-align: right;\">4</td><td style = \"text-align: right;\">4</td><td style = \"text-align: right;\">-0.0365876</td><td style = \"text-align: right;\">-0.00437924</td><td style = \"text-align: right;\">-0.111027</td><td style = \"text-align: right;\">-0.0899539</td><td style = \"text-align: right;\">-0.0268636</td><td style = \"text-align: right;\">-0.0906748</td><td style = \"text-align: right;\">-0.00267849</td><td style = \"text-align: right;\">0.00134268</td><td style = \"text-align: right;\">-0.00433839</td><td style = \"text-align: right;\">0.00653461</td><td style = \"text-align: right;\">-0.0483237</td><td style = \"text-align: right;\">-0.0263216</td><td style = \"text-align: right;\">-0.044987</td><td style = \"text-align: right;\">-0.0137846</td><td style = \"text-align: right;\">0.0583147</td><td style = \"text-align: right;\">0.0377844</td><td style = \"text-align: right;\">-0.0083708</td><td style = \"text-align: right;\">-0.00269316</td><td style = \"text-align: right;\">-0.0155197</td><td style = \"text-align: right;\">-0.0146985</td><td style = \"text-align: right;\">0.064526</td><td style = \"text-align: right;\">0.0220708</td><td style = \"text-align: right;\">0.0207092</td><td style = \"text-align: right;\">0.0345716</td><td style = \"text-align: right;\">-0.00455546</td><td style = \"text-align: right;\">0.0314099</td><td style = \"text-align: right;\">-0.0725568</td><td style = \"text-align: right;\">-0.0499012</td><td style = \"text-align: right;\">0.0136848</td><td style = \"text-align: right;\">-0.0506642</td><td style = \"text-align: right;\">0.0358552</td><td style = \"text-align: right;\">0.0375961</td><td style = \"text-align: right;\">0.0290063</td><td style = \"text-align: right;\">0.036552</td><td style = \"text-align: right;\">-0.0218137</td><td style = \"text-align: right;\">-0.00324041</td><td style = \"text-align: right;\">-0.0249862</td><td style = \"text-align: right;\">0.00375389</td><td style = \"text-align: right;\">0.0742672</td><td style = \"text-align: right;\">0.0532623</td><td style = \"text-align: right;\">0.00794435</td><td style = \"text-align: right;\">0.0159263</td><td style = \"text-align: right;\">0.00697191</td><td style = \"text-align: right;\">0.0132724</td><td style = \"text-align: right;\">0.0995556</td><td style = \"text-align: right;\">0.0656415</td><td style = \"text-align: right;\">0.0741375</td><td style = \"text-align: right;\">0.0989419</td><td style = \"text-align: right;\">0.0715495</td><td style = \"text-align: right;\">0.119699</td><td style = \"text-align: right;\">0.0279821</td><td style = \"text-align: right;\">0.0625432</td><td style = \"text-align: right;\">0.137267</td><td style = \"text-align: right;\">0.082868</td><td style = \"text-align: right;\">0.177748</td><td style = \"text-align: right;\">0.185892</td><td style = \"text-align: right;\">0.18143</td><td style = \"text-align: right;\">0.19057</td><td style = \"text-align: right;\">0.13108</td><td style = \"text-align: right;\">0.145705</td><td style = \"text-align: right;\">0.117168</td><td style = \"text-align: right;\">0.136341</td><td style = \"text-align: right;\">0.194666</td><td style = \"text-align: right;\">0.159086</td><td style = \"text-align: right;\">0.0971171</td><td style = \"text-align: right;\">0.0867435</td><td style = \"text-align: right;\">0.0581528</td><td style = \"text-align: right;\">0.0439956</td><td style = \"text-align: right;\">0.109479</td><td style = \"text-align: right;\">0.0549076</td><td style = \"text-align: right;\">0.0433588</td><td style = \"text-align: right;\">0.0491744</td><td style = \"text-align: right;\">0.00424996</td><td style = \"text-align: right;\">0.0366704</td><td style = \"text-align: right;\">-0.0686905</td><td style = \"text-align: right;\">-0.0454788</td><td style = \"text-align: right;\">0.0203243</td><td style = \"text-align: right;\">-0.0405105</td><td style = \"text-align: right;\">0.0503993</td><td style = \"text-align: right;\">0.0569489</td><td style = \"text-align: right;\">0.0531128</td><td style = \"text-align: right;\">0.0648904</td><td style = \"text-align: right;\">0.00979616</td><td style = \"text-align: right;\">0.0302906</td><td style = \"text-align: right;\">0.00879205</td><td style = \"text-align: right;\">0.0358626</td><td style = \"text-align: right;\">0.102639</td><td style = \"text-align: right;\">0.0757771</td><td style = \"text-align: right;\">0.02253</td><td style = \"text-align: right;\">0.0206561</td><td style = \"text-align: right;\">0.000155103</td><td style = \"text-align: right;\">-0.00646647</td><td style = \"text-align: right;\">0.0658991</td><td style = \"text-align: right;\">0.0174989</td><td style = \"text-align: right;\">0.0113953</td><td style = \"text-align: right;\">0.0219488</td><td style = \"text-align: right;\">-0.0188964</td><td style = \"text-align: right;\">0.0170154</td><td style = \"text-align: right;\">-0.0853567</td><td style = \"text-align: right;\">&ctdot;</td></tr><tr><td class = \"rowNumber\" style = \"font-weight: bold; text-align: right;\">5</td><td style = \"text-align: right;\">5</td><td style = \"text-align: right;\">-0.0648586</td><td style = \"text-align: right;\">-0.0997798</td><td style = \"text-align: right;\">-0.0615101</td><td style = \"text-align: right;\">-0.0708319</td><td style = \"text-align: right;\">0.0726512</td><td style = \"text-align: right;\">-0.020315</td><td style = \"text-align: right;\">0.0544255</td><td style = \"text-align: right;\">0.0252163</td><td style = \"text-align: right;\">0.0328348</td><td style = \"text-align: right;\">0.0815374</td><td style = \"text-align: right;\">-0.0506543</td><td style = \"text-align: right;\">0.121199</td><td style = \"text-align: right;\">0.0841353</td><td style = \"text-align: right;\">0.132223</td><td style = \"text-align: right;\">0.107018</td><td style = \"text-align: right;\">-0.021791</td><td style = \"text-align: right;\">0.148822</td><td style = \"text-align: right;\">0.0261666</td><td style = \"text-align: right;\">0.0670426</td><td style = \"text-align: right;\">0.0568176</td><td style = \"text-align: right;\">-0.0165866</td><td style = \"text-align: right;\">0.0536689</td><td style = \"text-align: right;\">0.0064297</td><td style = \"text-align: right;\">0.133387</td><td style = \"text-align: right;\">0.0110631</td><td style = \"text-align: right;\">-0.0232563</td><td style = \"text-align: right;\">0.0151295</td><td style = \"text-align: right;\">0.00546476</td><td style = \"text-align: right;\">0.148169</td><td style = \"text-align: right;\">0.0540072</td><td style = \"text-align: right;\">0.127144</td><td style = \"text-align: right;\">0.0959225</td><td style = \"text-align: right;\">0.101111</td><td style = \"text-align: right;\">0.146944</td><td style = \"text-align: right;\">0.0114161</td><td style = \"text-align: right;\">0.179429</td><td style = \"text-align: right;\">0.137983</td><td style = \"text-align: right;\">0.181105</td><td style = \"text-align: right;\">0.150316</td><td style = \"text-align: right;\">0.0152731</td><td style = \"text-align: right;\">0.178985</td><td style = \"text-align: right;\">0.0487595</td><td style = \"text-align: right;\">0.081409</td><td style = \"text-align: right;\">0.0623363</td><td style = \"text-align: right;\">-0.0204807</td><td style = \"text-align: right;\">0.0398752</td><td style = \"text-align: right;\">-0.0176512</td><td style = \"text-align: right;\">0.09875</td><td style = \"text-align: right;\">-0.0342627</td><td style = \"text-align: right;\">-0.0792559</td><td style = \"text-align: right;\">-0.0513717</td><td style = \"text-align: right;\">-0.0712056</td><td style = \"text-align: right;\">0.0618205</td><td style = \"text-align: right;\">-0.041379</td><td style = \"text-align: right;\">0.0234996</td><td style = \"text-align: right;\">-0.01508</td><td style = \"text-align: right;\">-0.0162517</td><td style = \"text-align: right;\">0.0242948</td><td style = \"text-align: right;\">-0.115401</td><td style = \"text-align: right;\">0.0495848</td><td style = \"text-align: right;\">0.00624342</td><td style = \"text-align: right;\">0.0485687</td><td style = \"text-align: right;\">0.0180252</td><td style = \"text-align: right;\">-0.115803</td><td style = \"text-align: right;\">0.0500026</td><td style = \"text-align: right;\">-0.0773493</td><td style = \"text-align: right;\">-0.0411467</td><td style = \"text-align: right;\">-0.0560865</td><td style = \"text-align: right;\">-0.134283</td><td style = \"text-align: right;\">-0.0688975</td><td style = \"text-align: right;\">-0.12105</td><td style = \"text-align: right;\">0.00102705</td><td style = \"text-align: right;\">-0.126032</td><td style = \"text-align: right;\">-0.164796</td><td style = \"text-align: right;\">-0.130389</td><td style = \"text-align: right;\">-0.143369</td><td style = \"text-align: right;\">-0.00310865</td><td style = \"text-align: right;\">-0.0986333</td><td style = \"text-align: right;\">-0.0255755</td><td style = \"text-align: right;\">-0.0554095</td><td style = \"text-align: right;\">-0.0472159</td><td style = \"text-align: right;\">0.00335413</td><td style = \"text-align: right;\">-0.125642</td><td style = \"text-align: right;\">0.050712</td><td style = \"text-align: right;\">0.0193693</td><td style = \"text-align: right;\">0.0742536</td><td style = \"text-align: right;\">0.056725</td><td style = \"text-align: right;\">-0.0637703</td><td style = \"text-align: right;\">0.115516</td><td style = \"text-align: right;\">0.00159579</td><td style = \"text-align: right;\">0.0509601</td><td style = \"text-align: right;\">0.0486756</td><td style = \"text-align: right;\">-0.0176171</td><td style = \"text-align: right;\">0.058674</td><td style = \"text-align: right;\">0.0161936</td><td style = \"text-align: right;\">0.146488</td><td style = \"text-align: right;\">0.025999</td><td style = \"text-align: right;\">-0.00800193</td><td style = \"text-align: right;\">0.0292421</td><td style = \"text-align: right;\">&ctdot;</td></tr><tr><td class = \"rowNumber\" style = \"font-weight: bold; text-align: right;\">6</td><td style = \"text-align: right;\">6</td><td style = \"text-align: right;\">0.105941</td><td style = \"text-align: right;\">0.0743317</td><td style = \"text-align: right;\">0.127231</td><td style = \"text-align: right;\">0.189451</td><td style = \"text-align: right;\">0.127023</td><td style = \"text-align: right;\">0.113217</td><td style = \"text-align: right;\">0.0665134</td><td style = \"text-align: right;\">0.0270869</td><td style = \"text-align: right;\">0.104519</td><td style = \"text-align: right;\">0.0726708</td><td style = \"text-align: right;\">-0.0103005</td><td style = \"text-align: right;\">0.0724171</td><td style = \"text-align: right;\">0.145977</td><td style = \"text-align: right;\">0.0782123</td><td style = \"text-align: right;\">0.0319155</td><td style = \"text-align: right;\">0.0384823</td><td style = \"text-align: right;\">0.0410312</td><td style = \"text-align: right;\">0.149374</td><td style = \"text-align: right;\">0.259907</td><td style = \"text-align: right;\">0.156525</td><td style = \"text-align: right;\">0.0915248</td><td style = \"text-align: right;\">0.171746</td><td style = \"text-align: right;\">0.114054</td><td style = \"text-align: right;\">0.0720194</td><td style = \"text-align: right;\">0.13578</td><td style = \"text-align: right;\">0.122795</td><td style = \"text-align: right;\">0.193561</td><td style = \"text-align: right;\">0.272442</td><td style = \"text-align: right;\">0.225054</td><td style = \"text-align: right;\">0.22429</td><td style = \"text-align: right;\">0.188299</td><td style = \"text-align: right;\">0.156977</td><td style = \"text-align: right;\">0.239678</td><td style = \"text-align: right;\">0.210095</td><td style = \"text-align: right;\">0.126274</td><td style = \"text-align: right;\">0.204975</td><td style = \"text-align: right;\">0.271361</td><td style = \"text-align: right;\">0.193331</td><td style = \"text-align: right;\">0.133803</td><td style = \"text-align: right;\">0.124352</td><td style = \"text-align: right;\">0.108334</td><td style = \"text-align: right;\">0.195848</td><td style = \"text-align: right;\">0.283627</td><td style = \"text-align: right;\">0.155946</td><td style = \"text-align: right;\">0.0655279</td><td style = \"text-align: right;\">0.119671</td><td style = \"text-align: right;\">0.0357307</td><td style = \"text-align: right;\">-0.0322116</td><td style = \"text-align: right;\">0.00650961</td><td style = \"text-align: right;\">-0.0301148</td><td style = \"text-align: right;\">0.0189376</td><td style = \"text-align: right;\">0.0785403</td><td style = \"text-align: right;\">0.0147884</td><td style = \"text-align: right;\">0.00101601</td><td style = \"text-align: right;\">-0.0442449</td><td style = \"text-align: right;\">-0.08078</td><td style = \"text-align: right;\">0.001006</td><td style = \"text-align: right;\">-0.0250411</td><td style = \"text-align: right;\">-0.100821</td><td style = \"text-align: right;\">-0.00961956</td><td style = \"text-align: right;\">0.0735688</td><td style = \"text-align: right;\">0.0163811</td><td style = \"text-align: right;\">-0.0186351</td><td style = \"text-align: right;\">-0.00037273</td><td style = \"text-align: right;\">0.0139604</td><td style = \"text-align: right;\">0.133822</td><td style = \"text-align: right;\">0.255242</td><td style = \"text-align: right;\">0.161742</td><td style = \"text-align: right;\">0.105266</td><td style = \"text-align: right;\">0.192331</td><td style = \"text-align: right;\">0.139529</td><td style = \"text-align: right;\">0.100216</td><td style = \"text-align: right;\">0.164398</td><td style = \"text-align: right;\">0.14949</td><td style = \"text-align: right;\">0.21604</td><td style = \"text-align: right;\">0.288565</td><td style = \"text-align: right;\">0.232933</td><td style = \"text-align: right;\">0.22239</td><td style = \"text-align: right;\">0.175517</td><td style = \"text-align: right;\">0.132719</td><td style = \"text-align: right;\">0.203914</td><td style = \"text-align: right;\">0.163392</td><td style = \"text-align: right;\">0.069806</td><td style = \"text-align: right;\">0.140508</td><td style = \"text-align: right;\">0.201212</td><td style = \"text-align: right;\">0.120302</td><td style = \"text-align: right;\">0.0610918</td><td style = \"text-align: right;\">0.0554441</td><td style = \"text-align: right;\">0.0468727</td><td style = \"text-align: right;\">0.145499</td><td style = \"text-align: right;\">0.247934</td><td style = \"text-align: right;\">0.138186</td><td style = \"text-align: right;\">0.0685685</td><td style = \"text-align: right;\">0.145847</td><td style = \"text-align: right;\">0.0867308</td><td style = \"text-align: right;\">0.0445676</td><td style = \"text-align: right;\">0.109227</td><td style = \"text-align: right;\">0.0978702</td><td style = \"text-align: right;\">0.170691</td><td style = \"text-align: right;\">&ctdot;</td></tr><tr><td class = \"rowNumber\" style = \"font-weight: bold; text-align: right;\">7</td><td style = \"text-align: right;\">7</td><td style = \"text-align: right;\">-0.162458</td><td style = \"text-align: right;\">-0.0857404</td><td style = \"text-align: right;\">-0.0771757</td><td style = \"text-align: right;\">-0.0441377</td><td style = \"text-align: right;\">0.0933232</td><td style = \"text-align: right;\">0.0844741</td><td style = \"text-align: right;\">-0.00845269</td><td style = \"text-align: right;\">-0.115116</td><td style = \"text-align: right;\">-0.10813</td><td style = \"text-align: right;\">-0.0348623</td><td style = \"text-align: right;\">-0.115261</td><td style = \"text-align: right;\">-0.184278</td><td style = \"text-align: right;\">-0.193671</td><td style = \"text-align: right;\">-0.254832</td><td style = \"text-align: right;\">-0.289468</td><td style = \"text-align: right;\">-0.207342</td><td style = \"text-align: right;\">-0.114611</td><td style = \"text-align: right;\">-0.127718</td><td style = \"text-align: right;\">-0.195938</td><td style = \"text-align: right;\">-0.220892</td><td style = \"text-align: right;\">-0.15625</td><td style = \"text-align: right;\">-0.099881</td><td style = \"text-align: right;\">-0.0732758</td><td style = \"text-align: right;\">-0.119303</td><td style = \"text-align: right;\">-0.177989</td><td style = \"text-align: right;\">-0.0980556</td><td style = \"text-align: right;\">-0.0841113</td><td style = \"text-align: right;\">-0.0442021</td><td style = \"text-align: right;\">0.100873</td><td style = \"text-align: right;\">0.0995927</td><td style = \"text-align: right;\">0.0134043</td><td style = \"text-align: right;\">-0.0880973</td><td style = \"text-align: right;\">-0.0781937</td><td style = \"text-align: right;\">-0.00481062</td><td style = \"text-align: right;\">-0.088314</td><td style = \"text-align: right;\">-0.163914</td><td style = \"text-align: right;\">-0.183451</td><td style = \"text-align: right;\">-0.258225</td><td style = \"text-align: right;\">-0.309668</td><td style = \"text-align: right;\">-0.247109</td><td style = \"text-align: right;\">-0.176123</td><td style = \"text-align: right;\">-0.212451</td><td style = \"text-align: right;\">-0.30458</td><td style = \"text-align: right;\">-0.353285</td><td style = \"text-align: right;\">-0.311383</td><td style = \"text-align: right;\">-0.275906</td><td style = \"text-align: right;\">-0.267573</td><td style = \"text-align: right;\">-0.328573</td><td style = \"text-align: right;\">-0.398377</td><td style = \"text-align: right;\">-0.325302</td><td style = \"text-align: right;\">-0.313713</td><td style = \"text-align: right;\">-0.271587</td><td style = \"text-align: right;\">-0.11983</td><td style = \"text-align: right;\">-0.110238</td><td style = \"text-align: right;\">-0.181792</td><td style = \"text-align: right;\">-0.265458</td><td style = \"text-align: right;\">-0.235187</td><td style = \"text-align: right;\">-0.139647</td><td style = \"text-align: right;\">-0.199989</td><td style = \"text-align: right;\">-0.252215</td><td style = \"text-align: right;\">-0.248928</td><td style = \"text-align: right;\">-0.302132</td><td style = \"text-align: right;\">-0.333876</td><td style = \"text-align: right;\">-0.253989</td><td style = \"text-align: right;\">-0.168421</td><td style = \"text-align: right;\">-0.19314</td><td style = \"text-align: right;\">-0.276718</td><td style = \"text-align: right;\">-0.31987</td><td style = \"text-align: right;\">-0.275218</td><td style = \"text-align: right;\">-0.239479</td><td style = \"text-align: right;\">-0.232961</td><td style = \"text-align: right;\">-0.297366</td><td style = \"text-align: right;\">-0.371634</td><td style = \"text-align: right;\">-0.303529</td><td style = \"text-align: right;\">-0.296875</td><td style = \"text-align: right;\">-0.259146</td><td style = \"text-align: right;\">-0.110806</td><td style = \"text-align: right;\">-0.103286</td><td style = \"text-align: right;\">-0.175303</td><td style = \"text-align: right;\">-0.257659</td><td style = \"text-align: right;\">-0.22425</td><td style = \"text-align: right;\">-0.123797</td><td style = \"text-align: right;\">-0.177601</td><td style = \"text-align: right;\">-0.221898</td><td style = \"text-align: right;\">-0.209597</td><td style = \"text-align: right;\">-0.25305</td><td style = \"text-align: right;\">-0.274685</td><td style = \"text-align: right;\">-0.184712</td><td style = \"text-align: right;\">-0.0894416</td><td style = \"text-align: right;\">-0.105169</td><td style = \"text-align: right;\">-0.180731</td><td style = \"text-align: right;\">-0.217044</td><td style = \"text-align: right;\">-0.166851</td><td style = \"text-align: right;\">-0.126907</td><td style = \"text-align: right;\">-0.11748</td><td style = \"text-align: right;\">-0.180155</td><td style = \"text-align: right;\">-0.253691</td><td style = \"text-align: right;\">-0.185626</td><td style = \"text-align: right;\">-0.17952</td><td style = \"text-align: right;\">&ctdot;</td></tr><tr><td class = \"rowNumber\" style = \"font-weight: bold; text-align: right;\">8</td><td style = \"text-align: right;\">8</td><td style = \"text-align: right;\">-0.0377599</td><td style = \"text-align: right;\">-0.0153825</td><td style = \"text-align: right;\">0.0201534</td><td style = \"text-align: right;\">0.118053</td><td style = \"text-align: right;\">0.0358509</td><td style = \"text-align: right;\">-0.0074498</td><td style = \"text-align: right;\">0.0908044</td><td style = \"text-align: right;\">0.158865</td><td style = \"text-align: right;\">0.106774</td><td style = \"text-align: right;\">0.0306586</td><td style = \"text-align: right;\">0.12911</td><td style = \"text-align: right;\">0.0369265</td><td style = \"text-align: right;\">-0.0775616</td><td style = \"text-align: right;\">-0.0295929</td><td style = \"text-align: right;\">0.00849172</td><td style = \"text-align: right;\">0.0469824</td><td style = \"text-align: right;\">-0.0373293</td><td style = \"text-align: right;\">-0.0409807</td><td style = \"text-align: right;\">-0.0128131</td><td style = \"text-align: right;\">0.0310389</td><td style = \"text-align: right;\">0.0433115</td><td style = \"text-align: right;\">-0.0620953</td><td style = \"text-align: right;\">0.0149487</td><td style = \"text-align: right;\">-0.0190407</td><td style = \"text-align: right;\">-0.11348</td><td style = \"text-align: right;\">-0.0980799</td><td style = \"text-align: right;\">-0.0685189</td><td style = \"text-align: right;\">0.0245039</td><td style = \"text-align: right;\">-0.0614059</td><td style = \"text-align: right;\">-0.107197</td><td style = \"text-align: right;\">-0.0101969</td><td style = \"text-align: right;\">0.0578403</td><td style = \"text-align: right;\">0.00692231</td><td style = \"text-align: right;\">-0.0668804</td><td style = \"text-align: right;\">0.0349407</td><td style = \"text-align: right;\">-0.0529185</td><td style = \"text-align: right;\">-0.162247</td><td style = \"text-align: right;\">-0.108417</td><td style = \"text-align: right;\">-0.0639121</td><td style = \"text-align: right;\">-0.0185913</td><td style = \"text-align: right;\">-0.095812</td><td style = \"text-align: right;\">-0.0922574</td><td style = \"text-align: right;\">-0.0569063</td><td style = \"text-align: right;\">-0.00601924</td><td style = \"text-align: right;\">0.0130298</td><td style = \"text-align: right;\">-0.0859509</td><td style = \"text-align: right;\">-0.00290187</td><td style = \"text-align: right;\">-0.0313557</td><td style = \"text-align: right;\">-0.120754</td><td style = \"text-align: right;\">-0.100807</td><td style = \"text-align: right;\">-0.0671743</td><td style = \"text-align: right;\">0.0294887</td><td style = \"text-align: right;\">-0.0531518</td><td style = \"text-align: right;\">-0.0959681</td><td style = \"text-align: right;\">0.00380174</td><td style = \"text-align: right;\">0.0744991</td><td style = \"text-align: right;\">0.0262319</td><td style = \"text-align: right;\">-0.0448306</td><td style = \"text-align: right;\">0.0599133</td><td style = \"text-align: right;\">-0.0247576</td><td style = \"text-align: right;\">-0.130563</td><td style = \"text-align: right;\">-0.0728245</td><td style = \"text-align: right;\">-0.0239953</td><td style = \"text-align: right;\">0.0260737</td><td style = \"text-align: right;\">-0.0459921</td><td style = \"text-align: right;\">-0.0369173</td><td style = \"text-align: right;\">0.00425283</td><td style = \"text-align: right;\">0.0611691</td><td style = \"text-align: right;\">0.0863474</td><td style = \"text-align: right;\">-0.00653131</td><td style = \"text-align: right;\">0.082451</td><td style = \"text-align: right;\">0.0596113</td><td style = \"text-align: right;\">-0.0246469</td><td style = \"text-align: right;\">-0.000189031</td><td style = \"text-align: right;\">0.0371788</td><td style = \"text-align: right;\">0.136664</td><td style = \"text-align: right;\">0.055812</td><td style = \"text-align: right;\">0.0136523</td><td style = \"text-align: right;\">0.112872</td><td style = \"text-align: right;\">0.181767</td><td style = \"text-align: right;\">0.130428</td><td style = \"text-align: right;\">0.0550421</td><td style = \"text-align: right;\">0.154257</td><td style = \"text-align: right;\">0.0629308</td><td style = \"text-align: right;\">-0.0505488</td><td style = \"text-align: right;\">-0.00136872</td><td style = \"text-align: right;\">0.0381739</td><td style = \"text-align: right;\">0.0784027</td><td style = \"text-align: right;\">-0.00386967</td><td style = \"text-align: right;\">-0.0051735</td><td style = \"text-align: right;\">0.0256416</td><td style = \"text-align: right;\">0.0724172</td><td style = \"text-align: right;\">0.0878496</td><td style = \"text-align: right;\">-0.0142154</td><td style = \"text-align: right;\">0.0662841</td><td style = \"text-align: right;\">0.0357842</td><td style = \"text-align: right;\">-0.0552203</td><td style = \"text-align: right;\">-0.036534</td><td style = \"text-align: right;\">-0.00393354</td><td style = \"text-align: right;\">&ctdot;</td></tr><tr><td class = \"rowNumber\" style = \"font-weight: bold; text-align: right;\">9</td><td style = \"text-align: right;\">9</td><td style = \"text-align: right;\">-0.0659082</td><td style = \"text-align: right;\">0.0281031</td><td style = \"text-align: right;\">0.0134927</td><td style = \"text-align: right;\">-0.00507518</td><td style = \"text-align: right;\">0.0930588</td><td style = \"text-align: right;\">0.0805878</td><td style = \"text-align: right;\">0.102407</td><td style = \"text-align: right;\">0.11688</td><td style = \"text-align: right;\">0.0181126</td><td style = \"text-align: right;\">0.0174319</td><td style = \"text-align: right;\">0.136787</td><td style = \"text-align: right;\">0.140258</td><td style = \"text-align: right;\">0.114368</td><td style = \"text-align: right;\">0.0531684</td><td style = \"text-align: right;\">-0.0569849</td><td style = \"text-align: right;\">0.058025</td><td style = \"text-align: right;\">0.150357</td><td style = \"text-align: right;\">0.105897</td><td style = \"text-align: right;\">0.0710813</td><td style = \"text-align: right;\">0.0297893</td><td style = \"text-align: right;\">0.0230561</td><td style = \"text-align: right;\">0.0189107</td><td style = \"text-align: right;\">0.11904</td><td style = \"text-align: right;\">0.0974471</td><td style = \"text-align: right;\">-0.0212162</td><td style = \"text-align: right;\">0.0723285</td><td style = \"text-align: right;\">0.0579642</td><td style = \"text-align: right;\">0.0402529</td><td style = \"text-align: right;\">0.139692</td><td style = \"text-align: right;\">0.128762</td><td style = \"text-align: right;\">0.152114</td><td style = \"text-align: right;\">0.167846</td><td style = \"text-align: right;\">0.0697908</td><td style = \"text-align: right;\">0.0690202</td><td style = \"text-align: right;\">0.187252</td><td style = \"text-align: right;\">0.18838</td><td style = \"text-align: right;\">0.15879</td><td style = \"text-align: right;\">0.0924599</td><td style = \"text-align: right;\">-0.0242627</td><td style = \"text-align: right;\">0.0827988</td><td style = \"text-align: right;\">0.165928</td><td style = \"text-align: right;\">0.111197</td><td style = \"text-align: right;\">0.0652762</td><td style = \"text-align: right;\">0.01232</td><td style = \"text-align: right;\">-0.00633569</td><td style = \"text-align: right;\">-0.0223503</td><td style = \"text-align: right;\">0.0662707</td><td style = \"text-align: right;\">0.0338189</td><td style = \"text-align: right;\">-0.0947967</td><td style = \"text-align: right;\">-0.0100851</td><td style = \"text-align: right;\">-0.0320031</td><td style = \"text-align: right;\">-0.0558874</td><td style = \"text-align: right;\">0.0387994</td><td style = \"text-align: right;\">0.0245192</td><td style = \"text-align: right;\">0.0458446</td><td style = \"text-align: right;\">0.0607487</td><td style = \"text-align: right;\">-0.0370984</td><td style = \"text-align: right;\">-0.0368165</td><td style = \"text-align: right;\">0.0831086</td><td style = \"text-align: right;\">0.0863671</td><td style = \"text-align: right;\">0.0591578</td><td style = \"text-align: right;\">-0.00470366</td><td style = \"text-align: right;\">-0.118991</td><td style = \"text-align: right;\">-0.00960457</td><td style = \"text-align: right;\">0.0757176</td><td style = \"text-align: right;\">0.0230767</td><td style = \"text-align: right;\">-0.0207714</td><td style = \"text-align: right;\">-0.0715416</td><td style = \"text-align: right;\">-0.0877275</td><td style = \"text-align: right;\">-0.10079</td><td style = \"text-align: right;\">-0.00852261</td><td style = \"text-align: right;\">-0.0364225</td><td style = \"text-align: right;\">-0.159387</td><td style = \"text-align: right;\">-0.0677668</td><td style = \"text-align: right;\">-0.0814062</td><td style = \"text-align: right;\">-0.0955931</td><td style = \"text-align: right;\">0.0101873</td><td style = \"text-align: right;\">0.00829541</td><td style = \"text-align: right;\">0.04312</td><td style = \"text-align: right;\">0.0723705</td><td style = \"text-align: right;\">-0.010622</td><td style = \"text-align: right;\">0.00461947</td><td style = \"text-align: right;\">0.139155</td><td style = \"text-align: right;\">0.156188</td><td style = \"text-align: right;\">0.141417</td><td style = \"text-align: right;\">0.0881659</td><td style = \"text-align: right;\">-0.0177979</td><td style = \"text-align: right;\">0.0972211</td><td style = \"text-align: right;\">0.185153</td><td style = \"text-align: right;\">0.131863</td><td style = \"text-align: right;\">0.0839799</td><td style = \"text-align: right;\">0.025779</td><td style = \"text-align: right;\">-0.00111604</td><td style = \"text-align: right;\">-0.0279236</td><td style = \"text-align: right;\">0.0479268</td><td style = \"text-align: right;\">0.00141164</td><td style = \"text-align: right;\">-0.141798</td><td style = \"text-align: right;\">-0.071407</td><td style = \"text-align: right;\">-0.106566</td><td style = \"text-align: right;\">&ctdot;</td></tr><tr><td class = \"rowNumber\" style = \"font-weight: bold; text-align: right;\">10</td><td style = \"text-align: right;\">10</td><td style = \"text-align: right;\">0.127192</td><td style = \"text-align: right;\">0.112071</td><td style = \"text-align: right;\">0.0449865</td><td style = \"text-align: right;\">0.0577588</td><td style = \"text-align: right;\">0.109565</td><td style = \"text-align: right;\">0.0214029</td><td style = \"text-align: right;\">0.0846916</td><td style = \"text-align: right;\">0.197284</td><td style = \"text-align: right;\">0.105057</td><td style = \"text-align: right;\">0.146263</td><td style = \"text-align: right;\">0.149133</td><td style = \"text-align: right;\">0.193283</td><td style = \"text-align: right;\">0.175051</td><td style = \"text-align: right;\">0.0852804</td><td style = \"text-align: right;\">0.192038</td><td style = \"text-align: right;\">0.204517</td><td style = \"text-align: right;\">0.277228</td><td style = \"text-align: right;\">0.266933</td><td style = \"text-align: right;\">0.224403</td><td style = \"text-align: right;\">0.268874</td><td style = \"text-align: right;\">0.125027</td><td style = \"text-align: right;\">0.145077</td><td style = \"text-align: right;\">0.164742</td><td style = \"text-align: right;\">0.157585</td><td style = \"text-align: right;\">0.271669</td><td style = \"text-align: right;\">0.235847</td><td style = \"text-align: right;\">0.146647</td><td style = \"text-align: right;\">0.136233</td><td style = \"text-align: right;\">0.164145</td><td style = \"text-align: right;\">0.0517523</td><td style = \"text-align: right;\">0.0908446</td><td style = \"text-align: right;\">0.17964</td><td style = \"text-align: right;\">0.0643651</td><td style = \"text-align: right;\">0.0836009</td><td style = \"text-align: right;\">0.0658789</td><td style = \"text-align: right;\">0.0910819</td><td style = \"text-align: right;\">0.0557769</td><td style = \"text-align: right;\">-0.0490067</td><td style = \"text-align: right;\">0.0449385</td><td style = \"text-align: right;\">0.0469023</td><td style = \"text-align: right;\">0.111442</td><td style = \"text-align: right;\">0.0953235</td><td style = \"text-align: right;\">0.0492744</td><td style = \"text-align: right;\">0.0924472</td><td style = \"text-align: right;\">-0.050599</td><td style = \"text-align: right;\">-0.0278056</td><td style = \"text-align: right;\">-0.00363962</td><td style = \"text-align: right;\">-0.00474726</td><td style = \"text-align: right;\">0.116708</td><td style = \"text-align: right;\">0.0893406</td><td style = \"text-align: right;\">0.00943099</td><td style = \"text-align: right;\">0.00889839</td><td style = \"text-align: right;\">0.0470401</td><td style = \"text-align: right;\">-0.0550065</td><td style = \"text-align: right;\">-0.0056694</td><td style = \"text-align: right;\">0.0930704</td><td style = \"text-align: right;\">-0.0127384</td><td style = \"text-align: right;\">0.015333</td><td style = \"text-align: right;\">0.00568987</td><td style = \"text-align: right;\">0.0381174</td><td style = \"text-align: right;\">0.00911381</td><td style = \"text-align: right;\">-0.0903317</td><td style = \"text-align: right;\">0.0079768</td><td style = \"text-align: right;\">0.0133444</td><td style = \"text-align: right;\">0.0803697</td><td style = \"text-align: right;\">0.0658817</td><td style = \"text-align: right;\">0.0206932</td><td style = \"text-align: right;\">0.0640585</td><td style = \"text-align: right;\">-0.0793472</td><td style = \"text-align: right;\">-0.0573378</td><td style = \"text-align: right;\">-0.034246</td><td style = \"text-align: right;\">-0.0365795</td><td style = \"text-align: right;\">0.083637</td><td style = \"text-align: right;\">0.055153</td><td style = \"text-align: right;\">-0.0256213</td><td style = \"text-align: right;\">-0.026647</td><td style = \"text-align: right;\">0.0114811</td><td style = \"text-align: right;\">-0.0900061</td><td style = \"text-align: right;\">-0.0394595</td><td style = \"text-align: right;\">0.0611989</td><td style = \"text-align: right;\">-0.041942</td><td style = \"text-align: right;\">-0.0104332</td><td style = \"text-align: right;\">-0.015869</td><td style = \"text-align: right;\">0.0215163</td><td style = \"text-align: right;\">-0.00181759</td><td style = \"text-align: right;\">-0.0949378</td><td style = \"text-align: right;\">0.0102788</td><td style = \"text-align: right;\">0.02305</td><td style = \"text-align: right;\">0.0978747</td><td style = \"text-align: right;\">0.0914725</td><td style = \"text-align: right;\">0.0545392</td><td style = \"text-align: right;\">0.106208</td><td style = \"text-align: right;\">-0.0289694</td><td style = \"text-align: right;\">0.0010716</td><td style = \"text-align: right;\">0.0318799</td><td style = \"text-align: right;\">0.0368361</td><td style = \"text-align: right;\">0.163812</td><td style = \"text-align: right;\">0.141465</td><td style = \"text-align: right;\">0.0661259</td><td style = \"text-align: right;\">&ctdot;</td></tr><tr><td class = \"rowNumber\" style = \"font-weight: bold; text-align: right;\">11</td><td style = \"text-align: right;\">11</td><td style = \"text-align: right;\">-0.0108403</td><td style = \"text-align: right;\">0.0633816</td><td style = \"text-align: right;\">-0.016528</td><td style = \"text-align: right;\">0.130074</td><td style = \"text-align: right;\">0.0441457</td><td style = \"text-align: right;\">-0.109601</td><td style = \"text-align: right;\">0.0893307</td><td style = \"text-align: right;\">0.024934</td><td style = \"text-align: right;\">-0.0226216</td><td style = \"text-align: right;\">-0.0853027</td><td style = \"text-align: right;\">-0.0630475</td><td style = \"text-align: right;\">0.0458734</td><td style = \"text-align: right;\">0.0296848</td><td style = \"text-align: right;\">0.0443028</td><td style = \"text-align: right;\">-0.107643</td><td style = \"text-align: right;\">-0.0333228</td><td style = \"text-align: right;\">0.00343274</td><td style = \"text-align: right;\">-0.0762008</td><td style = \"text-align: right;\">0.039202</td><td style = \"text-align: right;\">-0.0182957</td><td style = \"text-align: right;\">-0.0440005</td><td style = \"text-align: right;\">-0.0825193</td><td style = \"text-align: right;\">-0.0677226</td><td style = \"text-align: right;\">-0.0625898</td><td style = \"text-align: right;\">-0.0754773</td><td style = \"text-align: right;\">0.000793632</td><td style = \"text-align: right;\">-0.0757574</td><td style = \"text-align: right;\">0.0753777</td><td style = \"text-align: right;\">-0.00500526</td><td style = \"text-align: right;\">-0.152374</td><td style = \"text-align: right;\">0.0535807</td><td style = \"text-align: right;\">-0.00333895</td><td style = \"text-align: right;\">-0.0431459</td><td style = \"text-align: right;\">-0.0979772</td><td style = \"text-align: right;\">-0.0679234</td><td style = \"text-align: right;\">0.0486136</td><td style = \"text-align: right;\">0.0397505</td><td style = \"text-align: right;\">0.0613184</td><td style = \"text-align: right;\">-0.0841153</td><td style = \"text-align: right;\">-0.00376532</td><td style = \"text-align: right;\">0.0385116</td><td style = \"text-align: right;\">-0.0361248</td><td style = \"text-align: right;\">0.0837428</td><td style = \"text-align: right;\">0.0301716</td><td style = \"text-align: right;\">0.00784752</td><td style = \"text-align: right;\">-0.0278493</td><td style = \"text-align: right;\">-0.0108105</td><td style = \"text-align: right;\">-0.0040465</td><td style = \"text-align: right;\">-0.0159544</td><td style = \"text-align: right;\">0.0605944</td><td style = \"text-align: right;\">-0.0164372</td><td style = \"text-align: right;\">0.133399</td><td style = \"text-align: right;\">0.0508394</td><td style = \"text-align: right;\">-0.0996357</td><td style = \"text-align: right;\">0.102243</td><td style = \"text-align: right;\">0.0402532</td><td style = \"text-align: right;\">-0.00561657</td><td style = \"text-align: right;\">-0.067476</td><td style = \"text-align: right;\">-0.0453564</td><td style = \"text-align: right;\">0.062433</td><td style = \"text-align: right;\">0.0441366</td><td style = \"text-align: right;\">0.0557468</td><td style = \"text-align: right;\">-0.0999767</td><td style = \"text-align: right;\">-0.0300291</td><td style = \"text-align: right;\">0.00197315</td><td style = \"text-align: right;\">-0.0825563</td><td style = \"text-align: right;\">0.0280589</td><td style = \"text-align: right;\">-0.0338694</td><td style = \"text-align: right;\">-0.0634142</td><td style = \"text-align: right;\">-0.104978</td><td style = \"text-align: right;\">-0.0922676</td><td style = \"text-align: right;\">-0.0881495</td><td style = \"text-align: right;\">-0.100924</td><td style = \"text-align: right;\">-0.0234201</td><td style = \"text-align: right;\">-0.0976863</td><td style = \"text-align: right;\">0.0566554</td><td style = \"text-align: right;\">-0.0197833</td><td style = \"text-align: right;\">-0.1627</td><td style = \"text-align: right;\">0.0479483</td><td style = \"text-align: right;\">-0.00432159</td><td style = \"text-align: right;\">-0.0398169</td><td style = \"text-align: right;\">-0.0909603</td><td style = \"text-align: right;\">-0.0581051</td><td style = \"text-align: right;\">0.0601211</td><td style = \"text-align: right;\">0.0516584</td><td style = \"text-align: right;\">0.0722209</td><td style = \"text-align: right;\">-0.0756754</td><td style = \"text-align: right;\">0.00077457</td><td style = \"text-align: right;\">0.037804</td><td style = \"text-align: right;\">-0.0432697</td><td style = \"text-align: right;\">0.0691897</td><td style = \"text-align: right;\">0.00750999</td><td style = \"text-align: right;\">-0.023313</td><td style = \"text-align: right;\">-0.0675638</td><td style = \"text-align: right;\">-0.0587891</td><td style = \"text-align: right;\">-0.0596605</td><td style = \"text-align: right;\">-0.0782588</td><td style = \"text-align: right;\">-0.00717602</td><td style = \"text-align: right;\">-0.0882202</td><td style = \"text-align: right;\">&ctdot;</td></tr><tr><td class = \"rowNumber\" style = \"font-weight: bold; text-align: right;\">12</td><td style = \"text-align: right;\">12</td><td style = \"text-align: right;\">0.153984</td><td style = \"text-align: right;\">0.133841</td><td style = \"text-align: right;\">0.162632</td><td style = \"text-align: right;\">0.170869</td><td style = \"text-align: right;\">0.145289</td><td style = \"text-align: right;\">0.0834616</td><td style = \"text-align: right;\">0.0401537</td><td style = \"text-align: right;\">0.110208</td><td style = \"text-align: right;\">0.147282</td><td style = \"text-align: right;\">0.0262785</td><td style = \"text-align: right;\">-0.0219622</td><td style = \"text-align: right;\">-0.0373931</td><td style = \"text-align: right;\">-0.0772232</td><td style = \"text-align: right;\">0.0182971</td><td style = \"text-align: right;\">0.0332214</td><td style = \"text-align: right;\">-0.00255455</td><td style = \"text-align: right;\">0.0334591</td><td style = \"text-align: right;\">-0.0692112</td><td style = \"text-align: right;\">-0.137368</td><td style = \"text-align: right;\">-0.0433368</td><td style = \"text-align: right;\">0.0012735</td><td style = \"text-align: right;\">0.00304587</td><td style = \"text-align: right;\">0.0405959</td><td style = \"text-align: right;\">0.0372054</td><td style = \"text-align: right;\">-0.015446</td><td style = \"text-align: right;\">-0.0108405</td><td style = \"text-align: right;\">0.044608</td><td style = \"text-align: right;\">0.0807882</td><td style = \"text-align: right;\">0.0837913</td><td style = \"text-align: right;\">0.0505385</td><td style = \"text-align: right;\">0.035163</td><td style = \"text-align: right;\">0.131911</td><td style = \"text-align: right;\">0.193892</td><td style = \"text-align: right;\">0.0955318</td><td style = \"text-align: right;\">0.0672726</td><td style = \"text-align: right;\">0.0688516</td><td style = \"text-align: right;\">0.0428445</td><td style = \"text-align: right;\">0.148882</td><td style = \"text-align: right;\">0.170996</td><td style = \"text-align: right;\">0.139147</td><td style = \"text-align: right;\">0.175974</td><td style = \"text-align: right;\">0.0712248</td><td style = \"text-align: right;\">-0.00162559</td><td style = \"text-align: right;\">0.0854219</td><td style = \"text-align: right;\">0.121109</td><td style = \"text-align: right;\">0.112386</td><td style = \"text-align: right;\">0.138233</td><td style = \"text-align: right;\">0.122284</td><td style = \"text-align: right;\">0.0565432</td><td style = \"text-align: right;\">0.04782</td><td style = \"text-align: right;\">0.0899478</td><td style = \"text-align: right;\">0.113017</td><td style = \"text-align: right;\">0.103273</td><td style = \"text-align: right;\">0.0577425</td><td style = \"text-align: right;\">0.0306232</td><td style = \"text-align: right;\">0.116186</td><td style = \"text-align: right;\">0.167539</td><td style = \"text-align: right;\">0.0590802</td><td style = \"text-align: right;\">0.0212142</td><td style = \"text-align: right;\">0.0136372</td><td style = \"text-align: right;\">-0.0211107</td><td style = \"text-align: right;\">0.076579</td><td style = \"text-align: right;\">0.0907333</td><td style = \"text-align: right;\">0.0513352</td><td style = \"text-align: right;\">0.0810697</td><td style = \"text-align: right;\">-0.0302443</td><td style = \"text-align: right;\">-0.109035</td><td style = \"text-align: right;\">-0.0271863</td><td style = \"text-align: right;\">0.00417282</td><td style = \"text-align: right;\">-0.00787081</td><td style = \"text-align: right;\">0.0157991</td><td style = \"text-align: right;\">-0.00105905</td><td style = \"text-align: right;\">-0.0663344</td><td style = \"text-align: right;\">-0.0731401</td><td style = \"text-align: right;\">-0.0275979</td><td style = \"text-align: right;\">0.000386739</td><td style = \"text-align: right;\">-0.00298087</td><td style = \"text-align: right;\">-0.0407579</td><td style = \"text-align: right;\">-0.0588772</td><td style = \"text-align: right;\">0.0367616</td><td style = \"text-align: right;\">0.0990575</td><td style = \"text-align: right;\">0.00217246</td><td style = \"text-align: right;\">-0.0237462</td><td style = \"text-align: right;\">-0.0192702</td><td style = \"text-align: right;\">-0.0421257</td><td style = \"text-align: right;\">0.0670408</td><td style = \"text-align: right;\">0.0920242</td><td style = \"text-align: right;\">0.062608</td><td style = \"text-align: right;\">0.101318</td><td style = \"text-align: right;\">-0.00213714</td><td style = \"text-align: right;\">-0.0742461</td><td style = \"text-align: right;\">0.0131</td><td style = \"text-align: right;\">0.0488188</td><td style = \"text-align: right;\">0.0400915</td><td style = \"text-align: right;\">0.0661714</td><td style = \"text-align: right;\">0.0509881</td><td style = \"text-align: right;\">-0.013152</td><td style = \"text-align: right;\">-0.0191541</td><td style = \"text-align: right;\">0.0270681</td><td style = \"text-align: right;\">&ctdot;</td></tr><tr><td class = \"rowNumber\" style = \"font-weight: bold; text-align: right;\">13</td><td style = \"text-align: right;\">13</td><td style = \"text-align: right;\">-0.226887</td><td style = \"text-align: right;\">-0.0866635</td><td style = \"text-align: right;\">-0.0261829</td><td style = \"text-align: right;\">-0.13583</td><td style = \"text-align: right;\">-0.0671428</td><td style = \"text-align: right;\">-0.139258</td><td style = \"text-align: right;\">-0.110532</td><td style = \"text-align: right;\">0.00433611</td><td style = \"text-align: right;\">-0.14646</td><td style = \"text-align: right;\">-0.129663</td><td style = \"text-align: right;\">-0.00796953</td><td style = \"text-align: right;\">-0.0619</td><td style = \"text-align: right;\">-0.117703</td><td style = \"text-align: right;\">-0.0793835</td><td style = \"text-align: right;\">-0.0683638</td><td style = \"text-align: right;\">-0.0634539</td><td style = \"text-align: right;\">-0.0396621</td><td style = \"text-align: right;\">-0.120166</td><td style = \"text-align: right;\">-0.0804918</td><td style = \"text-align: right;\">-0.0168981</td><td style = \"text-align: right;\">-0.151277</td><td style = \"text-align: right;\">-0.163785</td><td style = \"text-align: right;\">0.00217086</td><td style = \"text-align: right;\">-0.0238036</td><td style = \"text-align: right;\">-0.180198</td><td style = \"text-align: right;\">-0.042809</td><td style = \"text-align: right;\">0.0147788</td><td style = \"text-align: right;\">-0.0976269</td><td style = \"text-align: right;\">-0.0313995</td><td style = \"text-align: right;\">-0.105542</td><td style = \"text-align: right;\">-0.0783174</td><td style = \"text-align: right;\">0.035621</td><td style = \"text-align: right;\">-0.115533</td><td style = \"text-align: right;\">-0.0985681</td><td style = \"text-align: right;\">0.023728</td><td style = \"text-align: right;\">-0.0292937</td><td style = \"text-align: right;\">-0.0840423</td><td style = \"text-align: right;\">-0.044705</td><td style = \"text-align: right;\">-0.0328982</td><td style = \"text-align: right;\">-0.0276264</td><td style = \"text-align: right;\">-0.00408174</td><td style = \"text-align: right;\">-0.0856037</td><td style = \"text-align: right;\">-0.0478485</td><td style = \"text-align: right;\">0.0128353</td><td style = \"text-align: right;\">-0.125488</td><td style = \"text-align: right;\">-0.142964</td><td style = \"text-align: right;\">0.0170594</td><td style = \"text-align: right;\">-0.0156967</td><td style = \"text-align: right;\">-0.179559</td><td style = \"text-align: right;\">-0.0501185</td><td style = \"text-align: right;\">-0.00071816</td><td style = \"text-align: right;\">-0.121285</td><td style = \"text-align: right;\">-0.0629116</td><td style = \"text-align: right;\">-0.144321</td><td style = \"text-align: right;\">-0.123508</td><td style = \"text-align: right;\">-0.0148767</td><td style = \"text-align: right;\">-0.170023</td><td style = \"text-align: right;\">-0.155569</td><td style = \"text-align: right;\">-0.0341865</td><td style = \"text-align: right;\">-0.0864674</td><td style = \"text-align: right;\">-0.138824</td><td style = \"text-align: right;\">-0.095509</td><td style = \"text-align: right;\">-0.0782617</td><td style = \"text-align: right;\">-0.0662633</td><td style = \"text-align: right;\">-0.0349289</td><td style = \"text-align: right;\">-0.107857</td><td style = \"text-align: right;\">-0.060989</td><td style = \"text-align: right;\">0.00902906</td><td style = \"text-align: right;\">-0.120037</td><td style = \"text-align: right;\">-0.128619</td><td style = \"text-align: right;\">0.0396719</td><td style = \"text-align: right;\">0.0143285</td><td style = \"text-align: right;\">-0.143161</td><td style = \"text-align: right;\">-0.00852361</td><td style = \"text-align: right;\">0.0448163</td><td style = \"text-align: right;\">-0.0730938</td><td style = \"text-align: right;\">-0.013319</td><td style = \"text-align: right;\">-0.0945018</td><td style = \"text-align: right;\">-0.0745113</td><td style = \"text-align: right;\">0.0324081</td><td style = \"text-align: right;\">-0.125148</td><td style = \"text-align: right;\">-0.113596</td><td style = \"text-align: right;\">0.00460461</td><td style = \"text-align: right;\">-0.0509312</td><td style = \"text-align: right;\">-0.106426</td><td style = \"text-align: right;\">-0.0659656</td><td style = \"text-align: right;\">-0.05116</td><td style = \"text-align: right;\">-0.0410984</td><td style = \"text-align: right;\">-0.0111476</td><td style = \"text-align: right;\">-0.0849033</td><td style = \"text-align: right;\">-0.0383465</td><td style = \"text-align: right;\">0.0317955</td><td style = \"text-align: right;\">-0.0968259</td><td style = \"text-align: right;\">-0.104786</td><td style = \"text-align: right;\">0.0641449</td><td style = \"text-align: right;\">0.0392911</td><td style = \"text-align: right;\">-0.118025</td><td style = \"text-align: right;\">0.0163151</td><td style = \"text-align: right;\">0.0687569</td><td style = \"text-align: right;\">&ctdot;</td></tr><tr><td style = \"text-align: right;\">&vellip;</td><td style = \"text-align: right;\">&vellip;</td><td style = \"text-align: right;\">&vellip;</td><td style = \"text-align: right;\">&vellip;</td><td style = \"text-align: right;\">&vellip;</td><td style = \"text-align: right;\">&vellip;</td><td style = \"text-align: right;\">&vellip;</td><td style = \"text-align: right;\">&vellip;</td><td style = \"text-align: right;\">&vellip;</td><td style = \"text-align: right;\">&vellip;</td><td style = \"text-align: right;\">&vellip;</td><td style = \"text-align: right;\">&vellip;</td><td style = \"text-align: right;\">&vellip;</td><td style = \"text-align: right;\">&vellip;</td><td style = \"text-align: right;\">&vellip;</td><td style = \"text-align: right;\">&vellip;</td><td style = \"text-align: right;\">&vellip;</td><td style = \"text-align: right;\">&vellip;</td><td style = \"text-align: right;\">&vellip;</td><td style = \"text-align: right;\">&vellip;</td><td style = \"text-align: right;\">&vellip;</td><td style = \"text-align: right;\">&vellip;</td><td style = \"text-align: right;\">&vellip;</td><td style = \"text-align: right;\">&vellip;</td><td style = \"text-align: right;\">&vellip;</td><td style = \"text-align: right;\">&vellip;</td><td style = \"text-align: right;\">&vellip;</td><td style = \"text-align: right;\">&vellip;</td><td style = \"text-align: right;\">&vellip;</td><td style = \"text-align: right;\">&vellip;</td><td style = \"text-align: right;\">&vellip;</td><td style = \"text-align: right;\">&vellip;</td><td style = \"text-align: right;\">&vellip;</td><td style = \"text-align: right;\">&vellip;</td><td style = \"text-align: right;\">&vellip;</td><td style = \"text-align: right;\">&vellip;</td><td style = \"text-align: right;\">&vellip;</td><td style = \"text-align: right;\">&vellip;</td><td style = \"text-align: right;\">&vellip;</td><td style = \"text-align: right;\">&vellip;</td><td style = \"text-align: right;\">&vellip;</td><td style = \"text-align: right;\">&vellip;</td><td style = \"text-align: right;\">&vellip;</td><td style = \"text-align: right;\">&vellip;</td><td style = \"text-align: right;\">&vellip;</td><td style = \"text-align: right;\">&vellip;</td><td style = \"text-align: right;\">&vellip;</td><td style = \"text-align: right;\">&vellip;</td><td style = \"text-align: right;\">&vellip;</td><td style = \"text-align: right;\">&vellip;</td><td style = \"text-align: right;\">&vellip;</td><td style = \"text-align: right;\">&vellip;</td><td style = \"text-align: right;\">&vellip;</td><td style = \"text-align: right;\">&vellip;</td><td style = \"text-align: right;\">&vellip;</td><td style = \"text-align: right;\">&vellip;</td><td style = \"text-align: right;\">&vellip;</td><td style = \"text-align: right;\">&vellip;</td><td style = \"text-align: right;\">&vellip;</td><td style = \"text-align: right;\">&vellip;</td><td style = \"text-align: right;\">&vellip;</td><td style = \"text-align: right;\">&vellip;</td><td style = \"text-align: right;\">&vellip;</td><td style = \"text-align: right;\">&vellip;</td><td style = \"text-align: right;\">&vellip;</td><td style = \"text-align: right;\">&vellip;</td><td style = \"text-align: right;\">&vellip;</td><td style = \"text-align: right;\">&vellip;</td><td style = \"text-align: right;\">&vellip;</td><td style = \"text-align: right;\">&vellip;</td><td style = \"text-align: right;\">&vellip;</td><td style = \"text-align: right;\">&vellip;</td><td style = \"text-align: right;\">&vellip;</td><td style = \"text-align: right;\">&vellip;</td><td style = \"text-align: right;\">&vellip;</td><td style = \"text-align: right;\">&vellip;</td><td style = \"text-align: right;\">&vellip;</td><td style = \"text-align: right;\">&vellip;</td><td style = \"text-align: right;\">&vellip;</td><td style = \"text-align: right;\">&vellip;</td><td style = \"text-align: right;\">&vellip;</td><td style = \"text-align: right;\">&vellip;</td><td style = \"text-align: right;\">&vellip;</td><td style = \"text-align: right;\">&vellip;</td><td style = \"text-align: right;\">&vellip;</td><td style = \"text-align: right;\">&vellip;</td><td style = \"text-align: right;\">&vellip;</td><td style = \"text-align: right;\">&vellip;</td><td style = \"text-align: right;\">&vellip;</td><td style = \"text-align: right;\">&vellip;</td><td style = \"text-align: right;\">&vellip;</td><td style = \"text-align: right;\">&vellip;</td><td style = \"text-align: right;\">&vellip;</td><td style = \"text-align: right;\">&vellip;</td><td style = \"text-align: right;\">&vellip;</td><td style = \"text-align: right;\">&vellip;</td><td style = \"text-align: right;\">&vellip;</td><td style = \"text-align: right;\">&vellip;</td><td style = \"text-align: right;\">&vellip;</td><td style = \"text-align: right;\">&vellip;</td><td style = \"text-align: right;\">&vellip;</td><td style = \"text-align: right;\">&dtdot;</td></tr><tr><td class = \"rowNumber\" style = \"font-weight: bold; text-align: right;\">1072</td><td style = \"text-align: right;\">1072</td><td style = \"text-align: right;\">-0.00188743</td><td style = \"text-align: right;\">-0.135833</td><td style = \"text-align: right;\">-0.0828897</td><td style = \"text-align: right;\">0.0638608</td><td style = \"text-align: right;\">0.0594644</td><td style = \"text-align: right;\">0.000215648</td><td style = \"text-align: right;\">0.0308435</td><td style = \"text-align: right;\">0.0579656</td><td style = \"text-align: right;\">0.0282612</td><td style = \"text-align: right;\">0.0748194</td><td style = \"text-align: right;\">-0.00698655</td><td style = \"text-align: right;\">-0.0603083</td><td style = \"text-align: right;\">0.0765519</td><td style = \"text-align: right;\">0.0310279</td><td style = \"text-align: right;\">0.0249677</td><td style = \"text-align: right;\">0.189967</td><td style = \"text-align: right;\">0.0749349</td><td style = \"text-align: right;\">-0.0927041</td><td style = \"text-align: right;\">-0.00784925</td><td style = \"text-align: right;\">-0.0170414</td><td style = \"text-align: right;\">0.0215931</td><td style = \"text-align: right;\">0.148728</td><td style = \"text-align: right;\">0.0110661</td><td style = \"text-align: right;\">-0.0172639</td><td style = \"text-align: right;\">0.0233582</td><td style = \"text-align: right;\">-0.121709</td><td style = \"text-align: right;\">-0.0800996</td><td style = \"text-align: right;\">0.0553166</td><td style = \"text-align: right;\">0.0397994</td><td style = \"text-align: right;\">-0.0301443</td><td style = \"text-align: right;\">-0.00957711</td><td style = \"text-align: right;\">0.00832066</td><td style = \"text-align: right;\">-0.0295784</td><td style = \"text-align: right;\">0.00999647</td><td style = \"text-align: right;\">-0.077414</td><td style = \"text-align: right;\">-0.134811</td><td style = \"text-align: right;\">-0.000366514</td><td style = \"text-align: right;\">-0.0465392</td><td style = \"text-align: right;\">-0.0514004</td><td style = \"text-align: right;\">0.116697</td><td style = \"text-align: right;\">0.00668017</td><td style = \"text-align: right;\">-0.154043</td><td style = \"text-align: right;\">-0.0604277</td><td style = \"text-align: right;\">-0.0591097</td><td style = \"text-align: right;\">-0.00835229</td><td style = \"text-align: right;\">0.13234</td><td style = \"text-align: right;\">0.00944968</td><td style = \"text-align: right;\">-0.00315273</td><td style = \"text-align: right;\">0.053858</td><td style = \"text-align: right;\">-0.074486</td><td style = \"text-align: right;\">-0.0161727</td><td style = \"text-align: right;\">0.135557</td><td style = \"text-align: right;\">0.13558</td><td style = \"text-align: right;\">0.0800184</td><td style = \"text-align: right;\">0.113432</td><td style = \"text-align: right;\">0.14228</td><td style = \"text-align: right;\">0.113107</td><td style = \"text-align: right;\">0.15889</td><td style = \"text-align: right;\">0.0749271</td><td style = \"text-align: right;\">0.0180315</td><td style = \"text-align: right;\">0.149911</td><td style = \"text-align: right;\">0.0980572</td><td style = \"text-align: right;\">0.0844256</td><td style = \"text-align: right;\">0.240767</td><td style = \"text-align: right;\">0.116192</td><td style = \"text-align: right;\">-0.0616362</td><td style = \"text-align: right;\">0.0126565</td><td style = \"text-align: right;\">-0.00717489</td><td style = \"text-align: right;\">0.0210523</td><td style = \"text-align: right;\">0.138323</td><td style = \"text-align: right;\">-0.00836053</td><td style = \"text-align: right;\">-0.0445907</td><td style = \"text-align: right;\">-0.0105033</td><td style = \"text-align: right;\">-0.16054</td><td style = \"text-align: right;\">-0.122189</td><td style = \"text-align: right;\">0.0117646</td><td style = \"text-align: right;\">-0.00339939</td><td style = \"text-align: right;\">-0.0712235</td><td style = \"text-align: right;\">-0.0468877</td><td style = \"text-align: right;\">-0.0237548</td><td style = \"text-align: right;\">-0.0551945</td><td style = \"text-align: right;\">-0.00823002</td><td style = \"text-align: right;\">-0.0876557</td><td style = \"text-align: right;\">-0.136837</td><td style = \"text-align: right;\">0.00567309</td><td style = \"text-align: right;\">-0.0329653</td><td style = \"text-align: right;\">-0.0311926</td><td style = \"text-align: right;\">0.142296</td><td style = \"text-align: right;\">0.0361262</td><td style = \"text-align: right;\">-0.122545</td><td style = \"text-align: right;\">-0.028859</td><td style = \"text-align: right;\">-0.0295727</td><td style = \"text-align: right;\">0.017006</td><td style = \"text-align: right;\">0.151403</td><td style = \"text-align: right;\">0.0202063</td><td style = \"text-align: right;\">-0.00253752</td><td style = \"text-align: right;\">0.0427376</td><td style = \"text-align: right;\">-0.0986403</td><td style = \"text-align: right;\">-0.0543184</td><td style = \"text-align: right;\">&ctdot;</td></tr><tr><td class = \"rowNumber\" style = \"font-weight: bold; text-align: right;\">1073</td><td style = \"text-align: right;\">1073</td><td style = \"text-align: right;\">-0.0471772</td><td style = \"text-align: right;\">0.0456526</td><td style = \"text-align: right;\">0.0812827</td><td style = \"text-align: right;\">0.0635874</td><td style = \"text-align: right;\">0.127053</td><td style = \"text-align: right;\">0.0812883</td><td style = \"text-align: right;\">0.0410322</td><td style = \"text-align: right;\">0.13102</td><td style = \"text-align: right;\">0.176254</td><td style = \"text-align: right;\">0.160411</td><td style = \"text-align: right;\">0.118911</td><td style = \"text-align: right;\">0.123479</td><td style = \"text-align: right;\">0.218507</td><td style = \"text-align: right;\">0.199213</td><td style = \"text-align: right;\">0.127375</td><td style = \"text-align: right;\">0.16085</td><td style = \"text-align: right;\">0.17184</td><td style = \"text-align: right;\">0.158688</td><td style = \"text-align: right;\">0.168833</td><td style = \"text-align: right;\">0.148285</td><td style = \"text-align: right;\">0.0549036</td><td style = \"text-align: right;\">0.0399257</td><td style = \"text-align: right;\">0.173836</td><td style = \"text-align: right;\">0.121655</td><td style = \"text-align: right;\">-0.0128455</td><td style = \"text-align: right;\">0.0624041</td><td style = \"text-align: right;\">0.079566</td><td style = \"text-align: right;\">0.043247</td><td style = \"text-align: right;\">0.0886956</td><td style = \"text-align: right;\">0.0262828</td><td style = \"text-align: right;\">-0.028526</td><td style = \"text-align: right;\">0.0496686</td><td style = \"text-align: right;\">0.0864382</td><td style = \"text-align: right;\">0.0659096</td><td style = \"text-align: right;\">0.0238089</td><td style = \"text-align: right;\">0.0320118</td><td style = \"text-align: right;\">0.13489</td><td style = \"text-align: right;\">0.127469</td><td style = \"text-align: right;\">0.0711686</td><td style = \"text-align: right;\">0.123326</td><td style = \"text-align: right;\">0.155488</td><td style = \"text-align: right;\">0.165222</td><td style = \"text-align: right;\">0.199109</td><td style = \"text-align: right;\">0.202244</td><td style = \"text-align: right;\">0.131553</td><td style = \"text-align: right;\">0.137361</td><td style = \"text-align: right;\">0.289296</td><td style = \"text-align: right;\">0.251613</td><td style = \"text-align: right;\">0.127441</td><td style = \"text-align: right;\">0.208361</td><td style = \"text-align: right;\">0.226215</td><td style = \"text-align: right;\">0.185479</td><td style = \"text-align: right;\">0.221466</td><td style = \"text-align: right;\">0.144803</td><td style = \"text-align: right;\">0.071399</td><td style = \"text-align: right;\">0.127267</td><td style = \"text-align: right;\">0.138737</td><td style = \"text-align: right;\">0.0908168</td><td style = \"text-align: right;\">0.0201939</td><td style = \"text-align: right;\">-0.000244741</td><td style = \"text-align: right;\">0.0748923</td><td style = \"text-align: right;\">0.0416184</td><td style = \"text-align: right;\">-0.0377263</td><td style = \"text-align: right;\">-0.00498927</td><td style = \"text-align: right;\">0.0120555</td><td style = \"text-align: right;\">0.0114961</td><td style = \"text-align: right;\">0.0402497</td><td style = \"text-align: right;\">0.0435601</td><td style = \"text-align: right;\">-0.0216971</td><td style = \"text-align: right;\">-0.0054387</td><td style = \"text-align: right;\">0.161539</td><td style = \"text-align: right;\">0.142905</td><td style = \"text-align: right;\">0.0410625</td><td style = \"text-align: right;\">0.146755</td><td style = \"text-align: right;\">0.190915</td><td style = \"text-align: right;\">0.177066</td><td style = \"text-align: right;\">0.239564</td><td style = \"text-align: right;\">0.188116</td><td style = \"text-align: right;\">0.137773</td><td style = \"text-align: right;\">0.21379</td><td style = \"text-align: right;\">0.241867</td><td style = \"text-align: right;\">0.206519</td><td style = \"text-align: right;\">0.144108</td><td style = \"text-align: right;\">0.12736</td><td style = \"text-align: right;\">0.201675</td><td style = \"text-align: right;\">0.163237</td><td style = \"text-align: right;\">0.0747121</td><td style = \"text-align: right;\">0.0947094</td><td style = \"text-align: right;\">0.0960259</td><td style = \"text-align: right;\">0.0774064</td><td style = \"text-align: right;\">0.0864829</td><td style = \"text-align: right;\">0.0692431</td><td style = \"text-align: right;\">-0.0166945</td><td style = \"text-align: right;\">-0.0205331</td><td style = \"text-align: right;\">0.12759</td><td style = \"text-align: right;\">0.0919248</td><td style = \"text-align: right;\">-0.0246409</td><td style = \"text-align: right;\">0.0690121</td><td style = \"text-align: right;\">0.104072</td><td style = \"text-align: right;\">&ctdot;</td></tr><tr><td class = \"rowNumber\" style = \"font-weight: bold; text-align: right;\">1074</td><td style = \"text-align: right;\">1074</td><td style = \"text-align: right;\">0.0600138</td><td style = \"text-align: right;\">0.0631697</td><td style = \"text-align: right;\">0.0442367</td><td style = \"text-align: right;\">0.124813</td><td style = \"text-align: right;\">0.180353</td><td style = \"text-align: right;\">0.111084</td><td style = \"text-align: right;\">0.0308091</td><td style = \"text-align: right;\">0.0545164</td><td style = \"text-align: right;\">0.117639</td><td style = \"text-align: right;\">0.080535</td><td style = \"text-align: right;\">0.131838</td><td style = \"text-align: right;\">-0.0395006</td><td style = \"text-align: right;\">-0.135916</td><td style = \"text-align: right;\">0.0349204</td><td style = \"text-align: right;\">-0.0248957</td><td style = \"text-align: right;\">0.0349679</td><td style = \"text-align: right;\">0.0180567</td><td style = \"text-align: right;\">-0.038094</td><td style = \"text-align: right;\">-0.00930323</td><td style = \"text-align: right;\">-0.0982246</td><td style = \"text-align: right;\">0.0702882</td><td style = \"text-align: right;\">0.0224103</td><td style = \"text-align: right;\">-0.168612</td><td style = \"text-align: right;\">-0.0642308</td><td style = \"text-align: right;\">0.00698172</td><td style = \"text-align: right;\">0.017177</td><td style = \"text-align: right;\">0.00624717</td><td style = \"text-align: right;\">0.0955504</td><td style = \"text-align: right;\">0.160285</td><td style = \"text-align: right;\">0.100415</td><td style = \"text-align: right;\">0.0294822</td><td style = \"text-align: right;\">0.0622269</td><td style = \"text-align: right;\">0.133855</td><td style = \"text-align: right;\">0.104525</td><td style = \"text-align: right;\">0.162707</td><td style = \"text-align: right;\">-0.00277328</td><td style = \"text-align: right;\">-0.0944354</td><td style = \"text-align: right;\">0.0800073</td><td style = \"text-align: right;\">0.0226471</td><td style = \"text-align: right;\">0.0838506</td><td style = \"text-align: right;\">0.0672291</td><td style = \"text-align: right;\">0.0104093</td><td style = \"text-align: right;\">0.0376822</td><td style = \"text-align: right;\">-0.0534856</td><td style = \"text-align: right;\">0.112176</td><td style = \"text-align: right;\">0.0609595</td><td style = \"text-align: right;\">-0.13378</td><td style = \"text-align: right;\">-0.0334043</td><td style = \"text-align: right;\">0.0335835</td><td style = \"text-align: right;\">0.0393805</td><td style = \"text-align: right;\">0.0238999</td><td style = \"text-align: right;\">0.108497</td><td style = \"text-align: right;\">0.168347</td><td style = \"text-align: right;\">0.103372</td><td style = \"text-align: right;\">0.0270633</td><td style = \"text-align: right;\">0.0541044</td><td style = \"text-align: right;\">0.119647</td><td style = \"text-align: right;\">0.0838058</td><td style = \"text-align: right;\">0.135023</td><td style = \"text-align: right;\">-0.0378788</td><td style = \"text-align: right;\">-0.137395</td><td style = \"text-align: right;\">0.028818</td><td style = \"text-align: right;\">-0.0370544</td><td style = \"text-align: right;\">0.0154816</td><td style = \"text-align: right;\">-0.00980168</td><td style = \"text-align: right;\">-0.0750865</td><td style = \"text-align: right;\">-0.0558665</td><td style = \"text-align: right;\">-0.154442</td><td style = \"text-align: right;\">0.00469689</td><td style = \"text-align: right;\">-0.0519145</td><td style = \"text-align: right;\">-0.250693</td><td style = \"text-align: right;\">-0.152793</td><td style = \"text-align: right;\">-0.0865375</td><td style = \"text-align: right;\">-0.0795933</td><td style = \"text-align: right;\">-0.0919555</td><td style = \"text-align: right;\">-0.00223078</td><td style = \"text-align: right;\">0.0647376</td><td style = \"text-align: right;\">0.00879699</td><td style = \"text-align: right;\">-0.056695</td><td style = \"text-align: right;\">-0.0172404</td><td style = \"text-align: right;\">0.0620792</td><td style = \"text-align: right;\">0.0411052</td><td style = \"text-align: right;\">0.107977</td><td style = \"text-align: right;\">-0.0488066</td><td style = \"text-align: right;\">-0.132071</td><td style = \"text-align: right;\">0.0502018</td><td style = \"text-align: right;\">-0.000113899</td><td style = \"text-align: right;\">0.0671927</td><td style = \"text-align: right;\">0.0556479</td><td style = \"text-align: right;\">0.00286766</td><td style = \"text-align: right;\">0.0332079</td><td style = \"text-align: right;\">-0.0557281</td><td style = \"text-align: right;\">0.11153</td><td style = \"text-align: right;\">0.0615311</td><td style = \"text-align: right;\">-0.132078</td><td style = \"text-align: right;\">-0.0303415</td><td style = \"text-align: right;\">0.03856</td><td style = \"text-align: right;\">0.0471328</td><td style = \"text-align: right;\">0.0355683</td><td style = \"text-align: right;\">&ctdot;</td></tr><tr><td class = \"rowNumber\" style = \"font-weight: bold; text-align: right;\">1075</td><td style = \"text-align: right;\">1075</td><td style = \"text-align: right;\">0.0368395</td><td style = \"text-align: right;\">-0.0289654</td><td style = \"text-align: right;\">0.165535</td><td style = \"text-align: right;\">0.199525</td><td style = \"text-align: right;\">-0.0100235</td><td style = \"text-align: right;\">0.043836</td><td style = \"text-align: right;\">0.000119238</td><td style = \"text-align: right;\">0.0722418</td><td style = \"text-align: right;\">0.132571</td><td style = \"text-align: right;\">0.0365401</td><td style = \"text-align: right;\">0.0669879</td><td style = \"text-align: right;\">0.0143066</td><td style = \"text-align: right;\">0.0988476</td><td style = \"text-align: right;\">0.0694049</td><td style = \"text-align: right;\">-0.177041</td><td style = \"text-align: right;\">-0.0938133</td><td style = \"text-align: right;\">0.0447244</td><td style = \"text-align: right;\">-0.105923</td><td style = \"text-align: right;\">-0.14393</td><td style = \"text-align: right;\">-0.0156914</td><td style = \"text-align: right;\">-0.134995</td><td style = \"text-align: right;\">-0.136851</td><td style = \"text-align: right;\">-0.0318544</td><td style = \"text-align: right;\">-0.080844</td><td style = \"text-align: right;\">-0.110201</td><td style = \"text-align: right;\">-0.172719</td><td style = \"text-align: right;\">0.0276607</td><td style = \"text-align: right;\">0.0700528</td><td style = \"text-align: right;\">-0.128695</td><td style = \"text-align: right;\">-0.0618111</td><td style = \"text-align: right;\">-0.0904988</td><td style = \"text-align: right;\">-0.00160265</td><td style = \"text-align: right;\">0.0769519</td><td style = \"text-align: right;\">0.000277668</td><td style = \"text-align: right;\">0.0508768</td><td style = \"text-align: right;\">0.0187925</td><td style = \"text-align: right;\">0.124025</td><td style = \"text-align: right;\">0.115023</td><td style = \"text-align: right;\">-0.111566</td><td style = \"text-align: right;\">-0.00937967</td><td style = \"text-align: right;\">0.146932</td><td style = \"text-align: right;\">0.0126176</td><td style = \"text-align: right;\">-0.0107167</td><td style = \"text-align: right;\">0.130352</td><td style = \"text-align: right;\">0.0218987</td><td style = \"text-align: right;\">0.0288173</td><td style = \"text-align: right;\">0.14046</td><td style = \"text-align: right;\">0.0959797</td><td style = \"text-align: right;\">0.0690266</td><td style = \"text-align: right;\">0.00687669</td><td style = \"text-align: right;\">0.205694</td><td style = \"text-align: right;\">0.244729</td><td style = \"text-align: right;\">0.0409903</td><td style = \"text-align: right;\">0.101433</td><td style = \"text-align: right;\">0.0650498</td><td style = \"text-align: right;\">0.145206</td><td style = \"text-align: right;\">0.214188</td><td style = \"text-align: right;\">0.127321</td><td style = \"text-align: right;\">0.167314</td><td style = \"text-align: right;\">0.124407</td><td style = \"text-align: right;\">0.218783</td><td style = \"text-align: right;\">0.199055</td><td style = \"text-align: right;\">-0.0379823</td><td style = \"text-align: right;\">0.0541575</td><td style = \"text-align: right;\">0.200925</td><td style = \"text-align: right;\">0.0576458</td><td style = \"text-align: right;\">0.0259823</td><td style = \"text-align: right;\">0.15939</td><td style = \"text-align: right;\">0.0439568</td><td style = \"text-align: right;\">0.0445713</td><td style = \"text-align: right;\">0.150565</td><td style = \"text-align: right;\">0.101058</td><td style = \"text-align: right;\">0.0696573</td><td style = \"text-align: right;\">0.00359069</td><td style = \"text-align: right;\">0.198971</td><td style = \"text-align: right;\">0.234995</td><td style = \"text-align: right;\">0.0286249</td><td style = \"text-align: right;\">0.0867703</td><td style = \"text-align: right;\">0.0483888</td><td style = \"text-align: right;\">0.126816</td><td style = \"text-align: right;\">0.19432</td><td style = \"text-align: right;\">0.106216</td><td style = \"text-align: right;\">0.145213</td><td style = \"text-align: right;\">0.101559</td><td style = \"text-align: right;\">0.195451</td><td style = \"text-align: right;\">0.175524</td><td style = \"text-align: right;\">-0.0614075</td><td style = \"text-align: right;\">0.0311677</td><td style = \"text-align: right;\">0.178721</td><td style = \"text-align: right;\">0.036594</td><td style = \"text-align: right;\">0.00645868</td><td style = \"text-align: right;\">0.141771</td><td style = \"text-align: right;\">0.0286063</td><td style = \"text-align: right;\">0.0318314</td><td style = \"text-align: right;\">0.140741</td><td style = \"text-align: right;\">0.0944036</td><td style = \"text-align: right;\">0.0663651</td><td style = \"text-align: right;\">0.00377708</td><td style = \"text-align: right;\">0.202667</td><td style = \"text-align: right;\">&ctdot;</td></tr><tr><td class = \"rowNumber\" style = \"font-weight: bold; text-align: right;\">1076</td><td style = \"text-align: right;\">1076</td><td style = \"text-align: right;\">0.159024</td><td style = \"text-align: right;\">0.095497</td><td style = \"text-align: right;\">0.0328992</td><td style = \"text-align: right;\">0.0719117</td><td style = \"text-align: right;\">0.210658</td><td style = \"text-align: right;\">0.11847</td><td style = \"text-align: right;\">0.0323835</td><td style = \"text-align: right;\">0.033415</td><td style = \"text-align: right;\">0.0795988</td><td style = \"text-align: right;\">0.155136</td><td style = \"text-align: right;\">0.0958813</td><td style = \"text-align: right;\">0.0593395</td><td style = \"text-align: right;\">-0.0317323</td><td style = \"text-align: right;\">-0.049989</td><td style = \"text-align: right;\">-0.029107</td><td style = \"text-align: right;\">-0.088595</td><td style = \"text-align: right;\">-0.0573627</td><td style = \"text-align: right;\">-0.0820998</td><td style = \"text-align: right;\">-0.0825632</td><td style = \"text-align: right;\">-0.103833</td><td style = \"text-align: right;\">-0.0782811</td><td style = \"text-align: right;\">0.006168</td><td style = \"text-align: right;\">-0.0515974</td><td style = \"text-align: right;\">0.0109831</td><td style = \"text-align: right;\">0.056722</td><td style = \"text-align: right;\">0.00341205</td><td style = \"text-align: right;\">-0.0466896</td><td style = \"text-align: right;\">0.0066977</td><td style = \"text-align: right;\">0.161222</td><td style = \"text-align: right;\">0.0856836</td><td style = \"text-align: right;\">0.0165512</td><td style = \"text-align: right;\">0.0342585</td><td style = \"text-align: right;\">0.0962679</td><td style = \"text-align: right;\">0.186241</td><td style = \"text-align: right;\">0.139547</td><td style = \"text-align: right;\">0.113278</td><td style = \"text-align: right;\">0.0298715</td><td style = \"text-align: right;\">0.0164536</td><td style = \"text-align: right;\">0.0392427</td><td style = \"text-align: right;\">-0.0212603</td><td style = \"text-align: right;\">0.00616008</td><td style = \"text-align: right;\">-0.024952</td><td style = \"text-align: right;\">-0.0340202</td><td style = \"text-align: right;\">-0.0657071</td><td style = \"text-align: right;\">-0.051902</td><td style = \"text-align: right;\">0.0200016</td><td style = \"text-align: right;\">-0.0505543</td><td style = \"text-align: right;\">-0.000455053</td><td style = \"text-align: right;\">0.0336449</td><td style = \"text-align: right;\">-0.0299724</td><td style = \"text-align: right;\">-0.088623</td><td style = \"text-align: right;\">-0.0416782</td><td style = \"text-align: right;\">0.108767</td><td style = \"text-align: right;\">0.0316672</td><td style = \"text-align: right;\">-0.0364548</td><td style = \"text-align: right;\">-0.0152176</td><td style = \"text-align: right;\">0.0526914</td><td style = \"text-align: right;\">0.150693</td><td style = \"text-align: right;\">0.113842</td><td style = \"text-align: right;\">0.0988503</td><td style = \"text-align: right;\">0.0277345</td><td style = \"text-align: right;\">0.0271756</td><td style = \"text-align: right;\">0.0629413</td><td style = \"text-align: right;\">0.0150969</td><td style = \"text-align: right;\">0.0544538</td><td style = \"text-align: right;\">0.0342002</td><td style = \"text-align: right;\">0.0346165</td><td style = \"text-align: right;\">0.0108143</td><td style = \"text-align: right;\">0.0307536</td><td style = \"text-align: right;\">0.106968</td><td style = \"text-align: right;\">0.0389018</td><td style = \"text-align: right;\">0.0897423</td><td style = \"text-align: right;\">0.122969</td><td style = \"text-align: right;\">0.0570486</td><td style = \"text-align: right;\">-0.00511393</td><td style = \"text-align: right;\">0.0373541</td><td style = \"text-align: right;\">0.182609</td><td style = \"text-align: right;\">0.0998513</td><td style = \"text-align: right;\">0.0258274</td><td style = \"text-align: right;\">0.0411119</td><td style = \"text-align: right;\">0.103169</td><td style = \"text-align: right;\">0.195525</td><td style = \"text-align: right;\">0.153285</td><td style = \"text-align: right;\">0.133167</td><td style = \"text-align: right;\">0.0571402</td><td style = \"text-align: right;\">0.0517989</td><td style = \"text-align: right;\">0.0827902</td><td style = \"text-align: right;\">0.0300357</td><td style = \"text-align: right;\">0.0641927</td><td style = \"text-align: right;\">0.0382968</td><td style = \"text-align: right;\">0.0324908</td><td style = \"text-align: right;\">0.00177517</td><td style = \"text-align: right;\">0.0140362</td><td style = \"text-align: right;\">0.0817798</td><td style = \"text-align: right;\">0.00447447</td><td style = \"text-align: right;\">0.0453873</td><td style = \"text-align: right;\">0.068133</td><td style = \"text-align: right;\">-0.00863428</td><td style = \"text-align: right;\">-0.0817746</td><td style = \"text-align: right;\">&ctdot;</td></tr><tr><td class = \"rowNumber\" style = \"font-weight: bold; text-align: right;\">1077</td><td style = \"text-align: right;\">1077</td><td style = \"text-align: right;\">0.0431421</td><td style = \"text-align: right;\">-0.0372517</td><td style = \"text-align: right;\">0.0411105</td><td style = \"text-align: right;\">0.102543</td><td style = \"text-align: right;\">-0.010833</td><td style = \"text-align: right;\">-0.0803292</td><td style = \"text-align: right;\">0.0170282</td><td style = \"text-align: right;\">-0.0513501</td><td style = \"text-align: right;\">0.00741501</td><td style = \"text-align: right;\">0.0701123</td><td style = \"text-align: right;\">-0.107193</td><td style = \"text-align: right;\">-0.092556</td><td style = \"text-align: right;\">-0.0721713</td><td style = \"text-align: right;\">-0.200175</td><td style = \"text-align: right;\">-0.130749</td><td style = \"text-align: right;\">-0.0293676</td><td style = \"text-align: right;\">-0.21279</td><td style = \"text-align: right;\">-0.22541</td><td style = \"text-align: right;\">-0.127357</td><td style = \"text-align: right;\">-0.203157</td><td style = \"text-align: right;\">-0.01061</td><td style = \"text-align: right;\">0.0313426</td><td style = \"text-align: right;\">-0.118136</td><td style = \"text-align: right;\">-0.0346581</td><td style = \"text-align: right;\">-0.082865</td><td style = \"text-align: right;\">-0.137461</td><td style = \"text-align: right;\">-0.0310021</td><td style = \"text-align: right;\">0.0599671</td><td style = \"text-align: right;\">-0.0233267</td><td style = \"text-align: right;\">-0.0630945</td><td style = \"text-align: right;\">0.0627641</td><td style = \"text-align: right;\">0.0208412</td><td style = \"text-align: right;\">0.10328</td><td style = \"text-align: right;\">0.186238</td><td style = \"text-align: right;\">0.0252762</td><td style = \"text-align: right;\">0.0519756</td><td style = \"text-align: right;\">0.0799282</td><td style = \"text-align: right;\">-0.0450625</td><td style = \"text-align: right;\">0.0229154</td><td style = \"text-align: right;\">0.118626</td><td style = \"text-align: right;\">-0.0743205</td><td style = \"text-align: right;\">-0.0998284</td><td style = \"text-align: right;\">-0.017445</td><td style = \"text-align: right;\">-0.111042</td><td style = \"text-align: right;\">0.062281</td><td style = \"text-align: right;\">0.0843023</td><td style = \"text-align: right;\">-0.0851036</td><td style = \"text-align: right;\">-0.0208714</td><td style = \"text-align: right;\">-0.0870219</td><td style = \"text-align: right;\">-0.157718</td><td style = \"text-align: right;\">-0.0650689</td><td style = \"text-align: right;\">0.0147171</td><td style = \"text-align: right;\">-0.0769137</td><td style = \"text-align: right;\">-0.122074</td><td style = \"text-align: right;\">0.001313</td><td style = \"text-align: right;\">-0.040297</td><td style = \"text-align: right;\">0.0449959</td><td style = \"text-align: right;\">0.133016</td><td style = \"text-align: right;\">-0.021083</td><td style = \"text-align: right;\">0.0138143</td><td style = \"text-align: right;\">0.0508021</td><td style = \"text-align: right;\">-0.0648275</td><td style = \"text-align: right;\">0.0123338</td><td style = \"text-align: right;\">0.116575</td><td style = \"text-align: right;\">-0.0689222</td><td style = \"text-align: right;\">-0.0884272</td><td style = \"text-align: right;\">-0.00177672</td><td style = \"text-align: right;\">-0.0930465</td><td style = \"text-align: right;\">0.0805524</td><td style = \"text-align: right;\">0.100779</td><td style = \"text-align: right;\">-0.0724184</td><td style = \"text-align: right;\">-0.0138143</td><td style = \"text-align: right;\">-0.0871912</td><td style = \"text-align: right;\">-0.166407</td><td style = \"text-align: right;\">-0.0832122</td><td style = \"text-align: right;\">-0.0134197</td><td style = \"text-align: right;\">-0.115166</td><td style = \"text-align: right;\">-0.170144</td><td style = \"text-align: right;\">-0.0558654</td><td style = \"text-align: right;\">-0.105496</td><td style = \"text-align: right;\">-0.0267963</td><td style = \"text-align: right;\">0.0563418</td><td style = \"text-align: right;\">-0.100709</td><td style = \"text-align: right;\">-0.0666855</td><td style = \"text-align: right;\">-0.0284214</td><td style = \"text-align: right;\">-0.140631</td><td style = \"text-align: right;\">-0.0579883</td><td style = \"text-align: right;\">0.0536403</td><td style = \"text-align: right;\">-0.122783</td><td style = \"text-align: right;\">-0.131805</td><td style = \"text-align: right;\">-0.033588</td><td style = \"text-align: right;\">-0.112566</td><td style = \"text-align: right;\">0.0736697</td><td style = \"text-align: right;\">0.106488</td><td style = \"text-align: right;\">-0.0545485</td><td style = \"text-align: right;\">0.0154181</td><td style = \"text-align: right;\">-0.0477344</td><td style = \"text-align: right;\">-0.118163</td><td style = \"text-align: right;\">-0.0278715</td><td style = \"text-align: right;\">&ctdot;</td></tr><tr><td class = \"rowNumber\" style = \"font-weight: bold; text-align: right;\">1078</td><td style = \"text-align: right;\">1078</td><td style = \"text-align: right;\">-0.0206374</td><td style = \"text-align: right;\">-0.0121497</td><td style = \"text-align: right;\">-0.0528925</td><td style = \"text-align: right;\">-0.149258</td><td style = \"text-align: right;\">0.038915</td><td style = \"text-align: right;\">-0.016094</td><td style = \"text-align: right;\">0.0305257</td><td style = \"text-align: right;\">0.0895167</td><td style = \"text-align: right;\">-0.0660919</td><td style = \"text-align: right;\">0.00431168</td><td style = \"text-align: right;\">-0.018603</td><td style = \"text-align: right;\">-0.0440519</td><td style = \"text-align: right;\">0.0534962</td><td style = \"text-align: right;\">0.0459408</td><td style = \"text-align: right;\">-0.000380928</td><td style = \"text-align: right;\">0.0225244</td><td style = \"text-align: right;\">0.0559578</td><td style = \"text-align: right;\">0.0506449</td><td style = \"text-align: right;\">0.0214219</td><td style = \"text-align: right;\">-0.110257</td><td style = \"text-align: right;\">-0.0797409</td><td style = \"text-align: right;\">-0.0906338</td><td style = \"text-align: right;\">-0.129691</td><td style = \"text-align: right;\">0.0522577</td><td style = \"text-align: right;\">-0.00209903</td><td style = \"text-align: right;\">0.000913038</td><td style = \"text-align: right;\">-0.0464503</td><td style = \"text-align: right;\">-0.150199</td><td style = \"text-align: right;\">0.030258</td><td style = \"text-align: right;\">-0.0323507</td><td style = \"text-align: right;\">0.00723807</td><td style = \"text-align: right;\">0.0601976</td><td style = \"text-align: right;\">-0.100055</td><td style = \"text-align: right;\">-0.0325841</td><td style = \"text-align: right;\">-0.0564717</td><td style = \"text-align: right;\">-0.080778</td><td style = \"text-align: right;\">0.0200857</td><td style = \"text-align: right;\">0.0179743</td><td style = \"text-align: right;\">-0.0209199</td><td style = \"text-align: right;\">0.0111578</td><td style = \"text-align: right;\">0.0551865</td><td style = \"text-align: right;\">0.0615019</td><td style = \"text-align: right;\">0.0444997</td><td style = \"text-align: right;\">-0.0748367</td><td style = \"text-align: right;\">-0.0323359</td><td style = \"text-align: right;\">-0.0320687</td><td style = \"text-align: right;\">-0.061224</td><td style = \"text-align: right;\">0.128988</td><td style = \"text-align: right;\">0.0809426</td><td style = \"text-align: right;\">0.088083</td><td style = \"text-align: right;\">0.0425233</td><td style = \"text-align: right;\">-0.0617941</td><td style = \"text-align: right;\">0.115766</td><td style = \"text-align: right;\">0.048069</td><td style = \"text-align: right;\">0.0805905</td><td style = \"text-align: right;\">0.124785</td><td style = \"text-align: right;\">-0.045598</td><td style = \"text-align: right;\">0.0107447</td><td style = \"text-align: right;\">-0.0248888</td><td style = \"text-align: right;\">-0.0611802</td><td style = \"text-align: right;\">0.0278149</td><td style = \"text-align: right;\">0.0142693</td><td style = \"text-align: right;\">-0.0353588</td><td style = \"text-align: right;\">-0.0131114</td><td style = \"text-align: right;\">0.0221253</td><td style = \"text-align: right;\">0.0207495</td><td style = \"text-align: right;\">-0.0028503</td><td style = \"text-align: right;\">-0.127763</td><td style = \"text-align: right;\">-0.0899435</td><td style = \"text-align: right;\">-0.093634</td><td style = \"text-align: right;\">-0.126222</td><td style = \"text-align: right;\">0.0608722</td><td style = \"text-align: right;\">0.00981781</td><td style = \"text-align: right;\">0.0138733</td><td style = \"text-align: right;\">-0.0349949</td><td style = \"text-align: right;\">-0.142942</td><td style = \"text-align: right;\">0.0306283</td><td style = \"text-align: right;\">-0.0413907</td><td style = \"text-align: right;\">-0.0134252</td><td style = \"text-align: right;\">0.0261434</td><td style = \"text-align: right;\">-0.14871</td><td style = \"text-align: right;\">-0.096404</td><td style = \"text-align: right;\">-0.135325</td><td style = \"text-align: right;\">-0.173819</td><td style = \"text-align: right;\">-0.085598</td><td style = \"text-align: right;\">-0.0981663</td><td style = \"text-align: right;\">-0.144777</td><td style = \"text-align: right;\">-0.117237</td><td style = \"text-align: right;\">-0.0742712</td><td style = \"text-align: right;\">-0.0654048</td><td style = \"text-align: right;\">-0.0762698</td><td style = \"text-align: right;\">-0.186078</td><td style = \"text-align: right;\">-0.131012</td><td style = \"text-align: right;\">-0.115643</td><td style = \"text-align: right;\">-0.12778</td><td style = \"text-align: right;\">0.0806542</td><td style = \"text-align: right;\">0.0512632</td><td style = \"text-align: right;\">0.0766967</td><td style = \"text-align: right;\">0.0482921</td><td style = \"text-align: right;\">&ctdot;</td></tr><tr><td class = \"rowNumber\" style = \"font-weight: bold; text-align: right;\">1079</td><td style = \"text-align: right;\">1079</td><td style = \"text-align: right;\">0.0356659</td><td style = \"text-align: right;\">-0.141916</td><td style = \"text-align: right;\">0.0169728</td><td style = \"text-align: right;\">0.0999485</td><td style = \"text-align: right;\">0.00761817</td><td style = \"text-align: right;\">0.0556797</td><td style = \"text-align: right;\">0.135791</td><td style = \"text-align: right;\">0.0880652</td><td style = \"text-align: right;\">-0.00500683</td><td style = \"text-align: right;\">0.131214</td><td style = \"text-align: right;\">0.161235</td><td style = \"text-align: right;\">0.0685991</td><td style = \"text-align: right;\">0.207954</td><td style = \"text-align: right;\">0.213143</td><td style = \"text-align: right;\">0.0772647</td><td style = \"text-align: right;\">0.0502365</td><td style = \"text-align: right;\">0.122947</td><td style = \"text-align: right;\">0.182689</td><td style = \"text-align: right;\">0.107649</td><td style = \"text-align: right;\">0.0690182</td><td style = \"text-align: right;\">0.108789</td><td style = \"text-align: right;\">0.0589062</td><td style = \"text-align: right;\">0.0161095</td><td style = \"text-align: right;\">0.154946</td><td style = \"text-align: right;\">0.102011</td><td style = \"text-align: right;\">-0.0932582</td><td style = \"text-align: right;\">0.0477048</td><td style = \"text-align: right;\">0.112895</td><td style = \"text-align: right;\">0.0032778</td><td style = \"text-align: right;\">0.0348771</td><td style = \"text-align: right;\">0.0996357</td><td style = \"text-align: right;\">0.0379017</td><td style = \"text-align: right;\">-0.0676543</td><td style = \"text-align: right;\">0.0577273</td><td style = \"text-align: right;\">0.0786168</td><td style = \"text-align: right;\">-0.0214408</td><td style = \"text-align: right;\">0.112155</td><td style = \"text-align: right;\">0.113151</td><td style = \"text-align: right;\">-0.0254905</td><td style = \"text-align: right;\">-0.0540164</td><td style = \"text-align: right;\">0.0182756</td><td style = \"text-align: right;\">0.0784818</td><td style = \"text-align: right;\">0.00459358</td><td style = \"text-align: right;\">-0.0323885</td><td style = \"text-align: right;\">0.00935713</td><td style = \"text-align: right;\">-0.0383731</td><td style = \"text-align: right;\">-0.0789629</td><td style = \"text-align: right;\">0.0620433</td><td style = \"text-align: right;\">0.011178</td><td style = \"text-align: right;\">-0.182152</td><td style = \"text-align: right;\">-0.0393862</td><td style = \"text-align: right;\">0.0274863</td><td style = \"text-align: right;\">-0.0805359</td><td style = \"text-align: right;\">-0.0473842</td><td style = \"text-align: right;\">0.018932</td><td style = \"text-align: right;\">-0.0411931</td><td style = \"text-align: right;\">-0.145051</td><td style = \"text-align: right;\">-0.0178565</td><td style = \"text-align: right;\">0.00496964</td><td style = \"text-align: right;\">-0.0930364</td><td style = \"text-align: right;\">0.0426977</td><td style = \"text-align: right;\">0.045875</td><td style = \"text-align: right;\">-0.0906022</td><td style = \"text-align: right;\">-0.11705</td><td style = \"text-align: right;\">-0.0428388</td><td style = \"text-align: right;\">0.0190565</td><td style = \"text-align: right;\">-0.0534342</td><td style = \"text-align: right;\">-0.0893557</td><td style = \"text-align: right;\">-0.0469088</td><td style = \"text-align: right;\">-0.0942911</td><td style = \"text-align: right;\">-0.134847</td><td style = \"text-align: right;\">0.00595207</td><td style = \"text-align: right;\">-0.0452496</td><td style = \"text-align: right;\">-0.2389</td><td style = \"text-align: right;\">-0.0962637</td><td style = \"text-align: right;\">-0.0291269</td><td style = \"text-align: right;\">-0.136272</td><td style = \"text-align: right;\">-0.101405</td><td style = \"text-align: right;\">-0.0323084</td><td style = \"text-align: right;\">-0.0883797</td><td style = \"text-align: right;\">-0.186726</td><td style = \"text-align: right;\">-0.0524165</td><td style = \"text-align: right;\">-0.020774</td><td style = \"text-align: right;\">-0.108223</td><td style = \"text-align: right;\">0.0397842</td><td style = \"text-align: right;\">0.0568549</td><td style = \"text-align: right;\">-0.0642752</td><td style = \"text-align: right;\">-0.0741602</td><td style = \"text-align: right;\">0.0175246</td><td style = \"text-align: right;\">0.0974405</td><td style = \"text-align: right;\">0.0431034</td><td style = \"text-align: right;\">0.025018</td><td style = \"text-align: right;\">0.0845107</td><td style = \"text-align: right;\">0.0529054</td><td style = \"text-align: right;\">0.0263902</td><td style = \"text-align: right;\">0.179057</td><td style = \"text-align: right;\">0.137155</td><td style = \"text-align: right;\">-0.0500939</td><td style = \"text-align: right;\">0.0957896</td><td style = \"text-align: right;\">&ctdot;</td></tr><tr><td class = \"rowNumber\" style = \"font-weight: bold; text-align: right;\">1080</td><td style = \"text-align: right;\">1080</td><td style = \"text-align: right;\">0.15799</td><td style = \"text-align: right;\">0.0275753</td><td style = \"text-align: right;\">0.1284</td><td style = \"text-align: right;\">0.0482053</td><td style = \"text-align: right;\">0.0669564</td><td style = \"text-align: right;\">0.0881427</td><td style = \"text-align: right;\">0.0947865</td><td style = \"text-align: right;\">-0.0105637</td><td style = \"text-align: right;\">-0.125717</td><td style = \"text-align: right;\">0.0540326</td><td style = \"text-align: right;\">0.0750318</td><td style = \"text-align: right;\">0.159343</td><td style = \"text-align: right;\">0.151526</td><td style = \"text-align: right;\">0.0743361</td><td style = \"text-align: right;\">0.106354</td><td style = \"text-align: right;\">-0.0494368</td><td style = \"text-align: right;\">0.0113357</td><td style = \"text-align: right;\">0.000886523</td><td style = \"text-align: right;\">-0.104497</td><td style = \"text-align: right;\">-0.0295485</td><td style = \"text-align: right;\">0.0348401</td><td style = \"text-align: right;\">-0.0424889</td><td style = \"text-align: right;\">-0.197793</td><td style = \"text-align: right;\">0.0212581</td><td style = \"text-align: right;\">0.0412604</td><td style = \"text-align: right;\">-0.0919013</td><td style = \"text-align: right;\">0.00783675</td><td style = \"text-align: right;\">-0.0717654</td><td style = \"text-align: right;\">-0.0507539</td><td style = \"text-align: right;\">-0.0256845</td><td style = \"text-align: right;\">-0.0136156</td><td style = \"text-align: right;\">-0.112116</td><td style = \"text-align: right;\">-0.219149</td><td style = \"text-align: right;\">-0.0301955</td><td style = \"text-align: right;\">0.000870703</td><td style = \"text-align: right;\">0.0958666</td><td style = \"text-align: right;\">0.099087</td><td style = \"text-align: right;\">0.0330097</td><td style = \"text-align: right;\">0.075935</td><td style = \"text-align: right;\">-0.0694289</td><td style = \"text-align: right;\">0.0010331</td><td style = \"text-align: right;\">-0.000696323</td><td style = \"text-align: right;\">-0.0985266</td><td style = \"text-align: right;\">-0.0173454</td><td style = \"text-align: right;\">0.0518524</td><td style = \"text-align: right;\">-0.0221394</td><td style = \"text-align: right;\">-0.175569</td><td style = \"text-align: right;\">0.0439603</td><td style = \"text-align: right;\">0.063169</td><td style = \"text-align: right;\">-0.071884</td><td style = \"text-align: right;\">0.0250843</td><td style = \"text-align: right;\">-0.0579113</td><td style = \"text-align: right;\">-0.040638</td><td style = \"text-align: right;\">-0.0193596</td><td style = \"text-align: right;\">-0.0108438</td><td style = \"text-align: right;\">-0.112382</td><td style = \"text-align: right;\">-0.221686</td><td style = \"text-align: right;\">-0.0340259</td><td style = \"text-align: right;\">-0.00311093</td><td style = \"text-align: right;\">0.0929823</td><td style = \"text-align: right;\">0.0985924</td><td style = \"text-align: right;\">0.0361755</td><td style = \"text-align: right;\">0.0839447</td><td style = \"text-align: right;\">-0.0555413</td><td style = \"text-align: right;\">0.021627</td><td style = \"text-align: right;\">0.0271795</td><td style = \"text-align: right;\">-0.0630817</td><td style = \"text-align: right;\">0.0256446</td><td style = \"text-align: right;\">0.102044</td><td style = \"text-align: right;\">0.0345991</td><td style = \"text-align: right;\">-0.113229</td><td style = \"text-align: right;\">0.110704</td><td style = \"text-align: right;\">0.132914</td><td style = \"text-align: right;\">-0.000681969</td><td style = \"text-align: right;\">0.0961226</td><td style = \"text-align: right;\">0.0113411</td><td style = \"text-align: right;\">0.0252792</td><td style = \"text-align: right;\">0.0418189</td><td style = \"text-align: right;\">0.0444058</td><td style = \"text-align: right;\">-0.0639798</td><td style = \"text-align: right;\">-0.180732</td><td style = \"text-align: right;\">-0.000767956</td><td style = \"text-align: right;\">0.0225691</td><td style = \"text-align: right;\">0.11157</td><td style = \"text-align: right;\">0.110921</td><td style = \"text-align: right;\">0.0433926</td><td style = \"text-align: right;\">0.0874593</td><td style = \"text-align: right;\">-0.0541227</td><td style = \"text-align: right;\">0.0226777</td><td style = \"text-align: right;\">0.0296283</td><td style = \"text-align: right;\">-0.0575181</td><td style = \"text-align: right;\">0.0359028</td><td style = \"text-align: right;\">0.118356</td><td style = \"text-align: right;\">0.0580284</td><td style = \"text-align: right;\">-0.0819786</td><td style = \"text-align: right;\">0.150069</td><td style = \"text-align: right;\">0.180248</td><td style = \"text-align: right;\">0.0540186</td><td style = \"text-align: right;\">0.157142</td><td style = \"text-align: right;\">&ctdot;</td></tr><tr><td class = \"rowNumber\" style = \"font-weight: bold; text-align: right;\">1081</td><td style = \"text-align: right;\">1081</td><td style = \"text-align: right;\">0.0518292</td><td style = \"text-align: right;\">0.0323999</td><td style = \"text-align: right;\">-0.0080317</td><td style = \"text-align: right;\">0.0987493</td><td style = \"text-align: right;\">0.00826613</td><td style = \"text-align: right;\">0.00420933</td><td style = \"text-align: right;\">0.0778842</td><td style = \"text-align: right;\">0.00925082</td><td style = \"text-align: right;\">0.138583</td><td style = \"text-align: right;\">0.121693</td><td style = \"text-align: right;\">-0.00842366</td><td style = \"text-align: right;\">0.0949571</td><td style = \"text-align: right;\">0.00828037</td><td style = \"text-align: right;\">-0.0811011</td><td style = \"text-align: right;\">0.0547431</td><td style = \"text-align: right;\">0.110677</td><td style = \"text-align: right;\">0.00487891</td><td style = \"text-align: right;\">-0.050277</td><td style = \"text-align: right;\">0.087979</td><td style = \"text-align: right;\">0.0732591</td><td style = \"text-align: right;\">0.0150871</td><td style = \"text-align: right;\">0.167905</td><td style = \"text-align: right;\">0.0937732</td><td style = \"text-align: right;\">-0.0503033</td><td style = \"text-align: right;\">0.0617303</td><td style = \"text-align: right;\">0.0362024</td><td style = \"text-align: right;\">-0.00957287</td><td style = \"text-align: right;\">0.0925751</td><td style = \"text-align: right;\">-0.0019069</td><td style = \"text-align: right;\">-0.00942879</td><td style = \"text-align: right;\">0.0611992</td><td style = \"text-align: right;\">-0.0101836</td><td style = \"text-align: right;\">0.11658</td><td style = \"text-align: right;\">0.0971999</td><td style = \"text-align: right;\">-0.0354106</td><td style = \"text-align: right;\">0.0654211</td><td style = \"text-align: right;\">-0.0238793</td><td style = \"text-align: right;\">-0.115942</td><td style = \"text-align: right;\">0.0172191</td><td style = \"text-align: right;\">0.0705554</td><td style = \"text-align: right;\">-0.0376326</td><td style = \"text-align: right;\">-0.0948266</td><td style = \"text-align: right;\">0.0419062</td><td style = \"text-align: right;\">0.0263481</td><td style = \"text-align: right;\">-0.0318086</td><td style = \"text-align: right;\">0.122034</td><td style = \"text-align: right;\">0.0500684</td><td style = \"text-align: right;\">-0.0905987</td><td style = \"text-align: right;\">0.0261471</td><td style = \"text-align: right;\">0.00664767</td><td style = \"text-align: right;\">-0.0318209</td><td style = \"text-align: right;\">0.0788202</td><td style = \"text-align: right;\">-0.0061268</td><td style = \"text-align: right;\">-0.00326646</td><td style = \"text-align: right;\">0.0783516</td><td style = \"text-align: right;\">0.0182905</td><td style = \"text-align: right;\">0.156403</td><td style = \"text-align: right;\">0.14808</td><td style = \"text-align: right;\">0.0259089</td><td style = \"text-align: right;\">0.136246</td><td style = \"text-align: right;\">0.0552195</td><td style = \"text-align: right;\">-0.0300645</td><td style = \"text-align: right;\">0.108156</td><td style = \"text-align: right;\">0.16466</td><td style = \"text-align: right;\">0.0576337</td><td style = \"text-align: right;\">-0.000459399</td><td style = \"text-align: right;\">0.133322</td><td style = \"text-align: right;\">0.112829</td><td style = \"text-align: right;\">0.0478817</td><td style = \"text-align: right;\">0.193257</td><td style = \"text-align: right;\">0.111368</td><td style = \"text-align: right;\">-0.0404222</td><td style = \"text-align: right;\">0.0642788</td><td style = \"text-align: right;\">0.0321014</td><td style = \"text-align: right;\">-0.0193901</td><td style = \"text-align: right;\">0.0781596</td><td style = \"text-align: right;\">-0.019693</td><td style = \"text-align: right;\">-0.0293287</td><td style = \"text-align: right;\">0.0403894</td><td style = \"text-align: right;\">-0.0308311</td><td style = \"text-align: right;\">0.0969632</td><td style = \"text-align: right;\">0.0792197</td><td style = \"text-align: right;\">-0.0514592</td><td style = \"text-align: right;\">0.0512611</td><td style = \"text-align: right;\">-0.0365423</td><td style = \"text-align: right;\">-0.127838</td><td style = \"text-align: right;\">0.00504732</td><td style = \"text-align: right;\">0.0568036</td><td style = \"text-align: right;\">-0.0544712</td><td style = \"text-align: right;\">-0.116385</td><td style = \"text-align: right;\">0.0139519</td><td style = \"text-align: right;\">-0.00963087</td><td style = \"text-align: right;\">-0.0773055</td><td style = \"text-align: right;\">0.0657475</td><td style = \"text-align: right;\">-0.0179821</td><td style = \"text-align: right;\">-0.171025</td><td style = \"text-align: right;\">-0.0668549</td><td style = \"text-align: right;\">-0.0986896</td><td style = \"text-align: right;\">-0.148801</td><td style = \"text-align: right;\">&ctdot;</td></tr><tr><td class = \"rowNumber\" style = \"font-weight: bold; text-align: right;\">1082</td><td style = \"text-align: right;\">1082</td><td style = \"text-align: right;\">-0.0423318</td><td style = \"text-align: right;\">-0.202589</td><td style = \"text-align: right;\">-0.180275</td><td style = \"text-align: right;\">-0.0548949</td><td style = \"text-align: right;\">-0.0856869</td><td style = \"text-align: right;\">0.0169071</td><td style = \"text-align: right;\">-0.0555276</td><td style = \"text-align: right;\">0.0313023</td><td style = \"text-align: right;\">0.0156362</td><td style = \"text-align: right;\">-0.0664197</td><td style = \"text-align: right;\">0.0544166</td><td style = \"text-align: right;\">-0.0957964</td><td style = \"text-align: right;\">-0.0205784</td><td style = \"text-align: right;\">0.0339099</td><td style = \"text-align: right;\">-0.0127813</td><td style = \"text-align: right;\">0.143082</td><td style = \"text-align: right;\">0.0854541</td><td style = \"text-align: right;\">-0.046183</td><td style = \"text-align: right;\">-0.108447</td><td style = \"text-align: right;\">-0.0663639</td><td style = \"text-align: right;\">-0.0601132</td><td style = \"text-align: right;\">0.0351976</td><td style = \"text-align: right;\">0.107087</td><td style = \"text-align: right;\">0.0096158</td><td style = \"text-align: right;\">0.0374095</td><td style = \"text-align: right;\">-0.128054</td><td style = \"text-align: right;\">-0.112914</td><td style = \"text-align: right;\">0.00354483</td><td style = \"text-align: right;\">-0.037632</td><td style = \"text-align: right;\">0.0534445</td><td style = \"text-align: right;\">-0.0312713</td><td style = \"text-align: right;\">0.0429078</td><td style = \"text-align: right;\">0.0146261</td><td style = \"text-align: right;\">-0.0796089</td><td style = \"text-align: right;\">0.0298683</td><td style = \"text-align: right;\">-0.130531</td><td style = \"text-align: right;\">-0.0640176</td><td style = \"text-align: right;\">-0.0164966</td><td style = \"text-align: right;\">-0.0682248</td><td style = \"text-align: right;\">0.0846563</td><td style = \"text-align: right;\">0.0261534</td><td style = \"text-align: right;\">-0.104271</td><td style = \"text-align: right;\">-0.163326</td><td style = \"text-align: right;\">-0.116194</td><td style = \"text-align: right;\">-0.103269</td><td style = \"text-align: right;\">7.48387e-5</td><td style = \"text-align: right;\">0.0810529</td><td style = \"text-align: right;\">-0.00660559</td><td style = \"text-align: right;\">0.0313811</td><td style = \"text-align: right;\">-0.123854</td><td style = \"text-align: right;\">-0.0987839</td><td style = \"text-align: right;\">0.0270007</td><td style = \"text-align: right;\">-0.00572866</td><td style = \"text-align: right;\">0.0926896</td><td style = \"text-align: right;\">0.014034</td><td style = \"text-align: right;\">0.0928727</td><td style = \"text-align: right;\">0.0677903</td><td style = \"text-align: right;\">-0.0247055</td><td style = \"text-align: right;\">0.0851084</td><td style = \"text-align: right;\">-0.0762466</td><td style = \"text-align: right;\">-0.011824</td><td style = \"text-align: right;\">0.0326661</td><td style = \"text-align: right;\">-0.0228089</td><td style = \"text-align: right;\">0.125852</td><td style = \"text-align: right;\">0.0629062</td><td style = \"text-align: right;\">-0.0719364</td><td style = \"text-align: right;\">-0.135149</td><td style = \"text-align: right;\">-0.091704</td><td style = \"text-align: right;\">-0.0818126</td><td style = \"text-align: right;\">0.0192963</td><td style = \"text-align: right;\">0.0989405</td><td style = \"text-align: right;\">0.0109075</td><td style = \"text-align: right;\">0.0494921</td><td style = \"text-align: right;\">-0.104205</td><td style = \"text-align: right;\">-0.076728</td><td style = \"text-align: right;\">0.0522206</td><td style = \"text-align: right;\">0.0232718</td><td style = \"text-align: right;\">0.125922</td><td style = \"text-align: right;\">0.0517686</td><td style = \"text-align: right;\">0.13519</td><td style = \"text-align: right;\">0.114581</td><td style = \"text-align: right;\">0.026268</td><td style = \"text-align: right;\">0.139808</td><td style = \"text-align: right;\">-0.0184242</td><td style = \"text-align: right;\">0.0484003</td><td style = \"text-align: right;\">0.0944823</td><td style = \"text-align: right;\">0.0397329</td><td style = \"text-align: right;\">0.188231</td><td style = \"text-align: right;\">0.124242</td><td style = \"text-align: right;\">-0.0124814</td><td style = \"text-align: right;\">-0.0783455</td><td style = \"text-align: right;\">-0.03823</td><td style = \"text-align: right;\">-0.0322369</td><td style = \"text-align: right;\">0.0645286</td><td style = \"text-align: right;\">0.139515</td><td style = \"text-align: right;\">0.0466407</td><td style = \"text-align: right;\">0.0803296</td><td style = \"text-align: right;\">-0.0781983</td><td style = \"text-align: right;\">-0.0553824</td><td style = \"text-align: right;\">&ctdot;</td></tr><tr><td class = \"rowNumber\" style = \"font-weight: bold; text-align: right;\">1083</td><td style = \"text-align: right;\">1083</td><td style = \"text-align: right;\">0.0019467</td><td style = \"text-align: right;\">0.0211266</td><td style = \"text-align: right;\">0.0672982</td><td style = \"text-align: right;\">0.0597041</td><td style = \"text-align: right;\">-0.0273005</td><td style = \"text-align: right;\">0.0142967</td><td style = \"text-align: right;\">0.0676002</td><td style = \"text-align: right;\">0.0451957</td><td style = \"text-align: right;\">0.0525978</td><td style = \"text-align: right;\">-0.0353358</td><td style = \"text-align: right;\">-0.00376092</td><td style = \"text-align: right;\">-0.0358837</td><td style = \"text-align: right;\">-0.132646</td><td style = \"text-align: right;\">0.0416317</td><td style = \"text-align: right;\">0.0303533</td><td style = \"text-align: right;\">-0.0122078</td><td style = \"text-align: right;\">0.0557982</td><td style = \"text-align: right;\">-0.0113128</td><td style = \"text-align: right;\">0.00343596</td><td style = \"text-align: right;\">0.00533929</td><td style = \"text-align: right;\">0.0187289</td><td style = \"text-align: right;\">0.069406</td><td style = \"text-align: right;\">0.0225652</td><td style = \"text-align: right;\">-0.00415246</td><td style = \"text-align: right;\">0.00717091</td><td style = \"text-align: right;\">0.032139</td><td style = \"text-align: right;\">0.0841638</td><td style = \"text-align: right;\">0.0822069</td><td style = \"text-align: right;\">0.000346688</td><td style = \"text-align: right;\">0.0463352</td><td style = \"text-align: right;\">0.103045</td><td style = \"text-align: right;\">0.0828672</td><td style = \"text-align: right;\">0.0911715</td><td style = \"text-align: right;\">0.00272298</td><td style = \"text-align: right;\">0.0323322</td><td style = \"text-align: right;\">-0.00318</td><td style = \"text-align: right;\">-0.104669</td><td style = \"text-align: right;\">0.0636879</td><td style = \"text-align: right;\">0.0454889</td><td style = \"text-align: right;\">-0.00475501</td><td style = \"text-align: right;\">0.0550776</td><td style = \"text-align: right;\">-0.0204026</td><td style = \"text-align: right;\">-0.0139125</td><td style = \"text-align: right;\">-0.0198515</td><td style = \"text-align: right;\">-0.0135945</td><td style = \"text-align: right;\">0.0309295</td><td style = \"text-align: right;\">-0.0208494</td><td style = \"text-align: right;\">-0.0510972</td><td style = \"text-align: right;\">-0.0417527</td><td style = \"text-align: right;\">-0.0171235</td><td style = \"text-align: right;\">0.0362339</td><td style = \"text-align: right;\">0.037255</td><td style = \"text-align: right;\">-0.0400637</td><td style = \"text-align: right;\">0.0118964</td><td style = \"text-align: right;\">0.0758278</td><td style = \"text-align: right;\">0.0639046</td><td style = \"text-align: right;\">0.0812471</td><td style = \"text-align: right;\">0.00235221</td><td style = \"text-align: right;\">0.0417511</td><td style = \"text-align: right;\">0.0159844</td><td style = \"text-align: right;\">-0.076075</td><td style = \"text-align: right;\">0.101142</td><td style = \"text-align: right;\">0.0910049</td><td style = \"text-align: right;\">0.0478258</td><td style = \"text-align: right;\">0.113565</td><td style = \"text-align: right;\">0.042711</td><td style = \"text-align: right;\">0.0524648</td><td style = \"text-align: right;\">0.0483861</td><td style = \"text-align: right;\">0.055098</td><td style = \"text-align: right;\">0.0987055</td><td style = \"text-align: right;\">0.0447052</td><td style = \"text-align: right;\">0.0110244</td><td style = \"text-align: right;\">0.0158398</td><td style = \"text-align: right;\">0.0349756</td><td style = \"text-align: right;\">0.0820177</td><td style = \"text-align: right;\">0.0760493</td><td style = \"text-align: right;\">-0.00878473</td><td style = \"text-align: right;\">0.0352783</td><td style = \"text-align: right;\">0.0910684</td><td style = \"text-align: right;\">0.0708871</td><td style = \"text-align: right;\">0.0799711</td><td style = \"text-align: right;\">-0.00707864</td><td style = \"text-align: right;\">0.024361</td><td style = \"text-align: right;\">-0.00908894</td><td style = \"text-align: right;\">-0.108486</td><td style = \"text-align: right;\">0.0618014</td><td style = \"text-align: right;\">0.0451937</td><td style = \"text-align: right;\">-0.00394771</td><td style = \"text-align: right;\">0.0563799</td><td style = \"text-align: right;\">-0.0192957</td><td style = \"text-align: right;\">-0.0137365</td><td style = \"text-align: right;\">-0.021349</td><td style = \"text-align: right;\">-0.0174789</td><td style = \"text-align: right;\">0.0240061</td><td style = \"text-align: right;\">-0.0313748</td><td style = \"text-align: right;\">-0.065678</td><td style = \"text-align: right;\">-0.0607181</td><td style = \"text-align: right;\">-0.0406721</td><td style = \"text-align: right;\">0.00803392</td><td style = \"text-align: right;\">&ctdot;</td></tr></tbody></table></div>"
      ],
      "text/latex": [
       "\\begin{tabular}{r|cccccccc}\n",
       "\t& Column1 & 0 & 1 & 2 & 3 & 4 & 5 & \\\\\n",
       "\t\\hline\n",
       "\t& Int64 & Float64 & Float64 & Float64 & Float64 & Float64 & Float64 & \\\\\n",
       "\t\\hline\n",
       "\t1 & 1 & 0.0600444 & -0.0325225 & -0.0472233 & -0.0463415 & -0.06765 & 0.116603 & $\\dots$ \\\\\n",
       "\t2 & 2 & 0.0768188 & -0.00243229 & -0.0465575 & -0.0291031 & -0.0368041 & -0.051928 & $\\dots$ \\\\\n",
       "\t3 & 3 & 0.0797153 & 0.058979 & -0.076703 & 0.0623828 & 0.0933543 & 0.0366714 & $\\dots$ \\\\\n",
       "\t4 & 4 & -0.0365876 & -0.00437924 & -0.111027 & -0.0899539 & -0.0268636 & -0.0906748 & $\\dots$ \\\\\n",
       "\t5 & 5 & -0.0648586 & -0.0997798 & -0.0615101 & -0.0708319 & 0.0726512 & -0.020315 & $\\dots$ \\\\\n",
       "\t6 & 6 & 0.105941 & 0.0743317 & 0.127231 & 0.189451 & 0.127023 & 0.113217 & $\\dots$ \\\\\n",
       "\t7 & 7 & -0.162458 & -0.0857404 & -0.0771757 & -0.0441377 & 0.0933232 & 0.0844741 & $\\dots$ \\\\\n",
       "\t8 & 8 & -0.0377599 & -0.0153825 & 0.0201534 & 0.118053 & 0.0358509 & -0.0074498 & $\\dots$ \\\\\n",
       "\t9 & 9 & -0.0659082 & 0.0281031 & 0.0134927 & -0.00507518 & 0.0930588 & 0.0805878 & $\\dots$ \\\\\n",
       "\t10 & 10 & 0.127192 & 0.112071 & 0.0449865 & 0.0577588 & 0.109565 & 0.0214029 & $\\dots$ \\\\\n",
       "\t11 & 11 & -0.0108403 & 0.0633816 & -0.016528 & 0.130074 & 0.0441457 & -0.109601 & $\\dots$ \\\\\n",
       "\t12 & 12 & 0.153984 & 0.133841 & 0.162632 & 0.170869 & 0.145289 & 0.0834616 & $\\dots$ \\\\\n",
       "\t13 & 13 & -0.226887 & -0.0866635 & -0.0261829 & -0.13583 & -0.0671428 & -0.139258 & $\\dots$ \\\\\n",
       "\t14 & 14 & -0.0790119 & -0.0869116 & -0.0706871 & 0.00546518 & 0.0528165 & -0.0204559 & $\\dots$ \\\\\n",
       "\t15 & 15 & -0.0461754 & -0.106974 & -0.060585 & 0.0331792 & 0.0100517 & 0.00627219 & $\\dots$ \\\\\n",
       "\t16 & 16 & 0.00079025 & -0.0506919 & -0.026415 & 0.0022004 & -0.0388428 & 0.0115546 & $\\dots$ \\\\\n",
       "\t17 & 17 & 0.0578662 & 0.0903518 & -0.025318 & 0.0362496 & 0.0474537 & -0.0521538 & $\\dots$ \\\\\n",
       "\t18 & 18 & 0.122432 & 0.0292006 & 0.0360331 & 0.0372172 & -0.0371 & 0.0390572 & $\\dots$ \\\\\n",
       "\t19 & 19 & 0.00430363 & -0.00495742 & 0.056113 & 0.131127 & 0.0876091 & 0.099807 & $\\dots$ \\\\\n",
       "\t20 & 20 & -0.0535306 & 0.0859196 & 0.163907 & -0.0318708 & -0.231865 & -0.108534 & $\\dots$ \\\\\n",
       "\t21 & 21 & 0.155281 & 0.0977656 & 0.110521 & 0.189691 & 0.220467 & 0.091871 & $\\dots$ \\\\\n",
       "\t22 & 22 & -0.148385 & -0.0817971 & -0.0555278 & -0.048732 & -0.059556 & -0.184864 & $\\dots$ \\\\\n",
       "\t23 & 23 & -0.0168906 & -0.0470176 & -0.144862 & -0.131994 & -0.140884 & -0.175177 & $\\dots$ \\\\\n",
       "\t24 & 24 & -0.133623 & -0.125735 & -0.199077 & -0.0409675 & -0.102932 & -0.248135 & $\\dots$ \\\\\n",
       "\t25 & 25 & 0.00761604 & 0.034931 & -0.00186154 & -0.074688 & 0.00582605 & -0.0337397 & $\\dots$ \\\\\n",
       "\t26 & 26 & -0.021979 & -0.142753 & -0.0124615 & -0.0238472 & -0.0734369 & 0.00582511 & $\\dots$ \\\\\n",
       "\t27 & 27 & -0.0383325 & 0.0171723 & -0.0291088 & 0.0082857 & 0.04687 & 0.0665071 & $\\dots$ \\\\\n",
       "\t28 & 28 & -0.0144173 & -0.0727377 & 0.0985107 & 0.0766292 & 0.035279 & 0.0475134 & $\\dots$ \\\\\n",
       "\t29 & 29 & -0.0752418 & 0.0709405 & 0.00564218 & -0.0329274 & 0.103814 & 0.0881021 & $\\dots$ \\\\\n",
       "\t30 & 30 & -0.158216 & -0.0624195 & -0.0749235 & -0.0877565 & 0.0148575 & 0.0283871 & $\\dots$ \\\\\n",
       "\t$\\dots$ & $\\dots$ & $\\dots$ & $\\dots$ & $\\dots$ & $\\dots$ & $\\dots$ & $\\dots$ &  \\\\\n",
       "\\end{tabular}\n"
      ],
      "text/plain": [
       "\u001b[1m1083×8737 DataFrame\u001b[0m\n",
       "\u001b[1m  Row \u001b[0m│\u001b[1m Column1 \u001b[0m\u001b[1m 0           \u001b[0m\u001b[1m 1           \u001b[0m\u001b[1m 2          \u001b[0m\u001b[1m 3           \u001b[0m\u001b[1m 4         \u001b[0m ⋯\n",
       "      │\u001b[90m Int64   \u001b[0m\u001b[90m Float64     \u001b[0m\u001b[90m Float64     \u001b[0m\u001b[90m Float64    \u001b[0m\u001b[90m Float64     \u001b[0m\u001b[90m Float64   \u001b[0m ⋯\n",
       "──────┼─────────────────────────────────────────────────────────────────────────\n",
       "    1 │       1   0.0600444   -0.0325225   -0.0472233  -0.0463415   -0.06765   ⋯\n",
       "    2 │       2   0.0768188   -0.00243229  -0.0465575  -0.0291031   -0.0368041\n",
       "    3 │       3   0.0797153    0.058979    -0.076703    0.0623828    0.0933543\n",
       "    4 │       4  -0.0365876   -0.00437924  -0.111027   -0.0899539   -0.0268636\n",
       "    5 │       5  -0.0648586   -0.0997798   -0.0615101  -0.0708319    0.0726512 ⋯\n",
       "    6 │       6   0.105941     0.0743317    0.127231    0.189451     0.127023\n",
       "    7 │       7  -0.162458    -0.0857404   -0.0771757  -0.0441377    0.0933232\n",
       "    8 │       8  -0.0377599   -0.0153825    0.0201534   0.118053     0.0358509\n",
       "    9 │       9  -0.0659082    0.0281031    0.0134927  -0.00507518   0.0930588 ⋯\n",
       "   10 │      10   0.127192     0.112071     0.0449865   0.0577588    0.109565\n",
       "   11 │      11  -0.0108403    0.0633816   -0.016528    0.130074     0.0441457\n",
       "  ⋮   │    ⋮          ⋮            ⋮           ⋮            ⋮            ⋮     ⋱\n",
       " 1074 │    1074   0.0600138    0.0631697    0.0442367   0.124813     0.180353\n",
       " 1075 │    1075   0.0368395   -0.0289654    0.165535    0.199525    -0.0100235 ⋯\n",
       " 1076 │    1076   0.159024     0.095497     0.0328992   0.0719117    0.210658\n",
       " 1077 │    1077   0.0431421   -0.0372517    0.0411105   0.102543    -0.010833\n",
       " 1078 │    1078  -0.0206374   -0.0121497   -0.0528925  -0.149258     0.038915\n",
       " 1079 │    1079   0.0356659   -0.141916     0.0169728   0.0999485    0.0076181 ⋯\n",
       " 1080 │    1080   0.15799      0.0275753    0.1284      0.0482053    0.0669564\n",
       " 1081 │    1081   0.0518292    0.0323999   -0.0080317   0.0987493    0.0082661\n",
       " 1082 │    1082  -0.0423318   -0.202589    -0.180275   -0.0548949   -0.0856869\n",
       " 1083 │    1083   0.0019467    0.0211266    0.0672982   0.0597041   -0.0273005 ⋯\n",
       "\u001b[36m                                              8732 columns and 1062 rows omitted\u001b[0m"
      ]
     },
     "execution_count": 24,
     "metadata": {},
     "output_type": "execute_result"
    }
   ],
   "source": [
    "gen_costs_df = CSV.read(\"../doc/data/europe_noise_series.csv\", DataFrame)\n",
    "sort!(gen_costs_df)"
   ]
  },
  {
   "cell_type": "code",
   "execution_count": 25,
   "id": "85ffa62e-ffa7-40bf-a861-5f5d3a7fd399",
   "metadata": {},
   "outputs": [
    {
     "data": {
      "text/plain": [
       "1039×8736 Matrix{Float64}:\n",
       "  0.0600444   -0.0325225   -0.0472233  …   0.0335081     0.0230842\n",
       "  0.0768188   -0.00243229  -0.0465575      0.0756779     0.0897179\n",
       "  0.0797153    0.058979    -0.076703       0.058288     -0.0451257\n",
       " -0.0365876   -0.00437924  -0.111027      -0.000830024   0.00731655\n",
       " -0.0648586   -0.0997798   -0.0615101     -0.06673       0.0585788\n",
       "  0.105941     0.0743317    0.127231   …   0.12184       0.0610914\n",
       " -0.162458    -0.0857404   -0.0771757     -0.059919     -0.103284\n",
       " -0.0377599   -0.0153825    0.0201534      0.0741944     0.0488174\n",
       " -0.0659082    0.0281031    0.0134927      0.0712088     0.0515408\n",
       "  0.127192     0.112071     0.0449865     -0.0156324    -0.00585513\n",
       " -0.0108403    0.0633816   -0.016528   …  -0.00327896    0.00268543\n",
       "  0.153984     0.133841     0.162632       0.251535      0.228895\n",
       " -0.226887    -0.0866635   -0.0261829     -0.0491846    -0.0730636\n",
       "  ⋮                                    ⋱                 ⋮\n",
       " -0.00188743  -0.135833    -0.0828897     -0.0349594    -0.0532104\n",
       " -0.0471772    0.0456526    0.0812827      0.109622      0.0713059\n",
       "  0.0600138    0.0631697    0.0442367     -0.105214     -0.00533717\n",
       "  0.0368395   -0.0289654    0.165535   …   0.113978      0.0668752\n",
       "  0.159024     0.095497     0.0328992      0.0631527     0.12091\n",
       "  0.0431421   -0.0372517    0.0411105      0.0494895     0.114055\n",
       " -0.0206374   -0.0121497   -0.0528925     -0.154549      0.0297078\n",
       "  0.0356659   -0.141916     0.0169728     -0.0833578     0.0715384\n",
       "  0.15799      0.0275753    0.1284     …  -0.0913328     0.133626\n",
       "  0.0518292    0.0323999   -0.0080317      0.0694291    -0.0670639\n",
       " -0.0423318   -0.202589    -0.180275       0.0233937    -0.0732064\n",
       "  0.0019467    0.0211266    0.0672982      0.0276522    -0.00392613"
      ]
     },
     "execution_count": 25,
     "metadata": {},
     "output_type": "execute_result"
    }
   ],
   "source": [
    "gen_costs = Matrix(gen_costs_df[gen_ids, 2:end])"
   ]
  },
  {
   "cell_type": "markdown",
   "id": "bc6078c7-0c3a-4b77-abb6-430481c1336c",
   "metadata": {},
   "source": [
    "Distribution of generators on buses:"
   ]
  },
  {
   "cell_type": "code",
   "execution_count": 26,
   "id": "64430902-68f4-4019-bba9-c489e56651a9",
   "metadata": {},
   "outputs": [
    {
     "data": {
      "text/plain": [
       "4097×1039 SparseMatrixCSC{Float64, Int64} with 1039 stored entries:\n",
       "⎡⢳⡀⠀⠀⠀⠀⠀⠀⠀⠀⠀⠀⠀⎤\n",
       "⎢⠀⡅⠀⠀⠀⠀⠀⠀⠀⠀⠀⠀⠀⎥\n",
       "⎢⠀⠹⡀⠀⠀⠀⠀⠀⠀⠀⠀⠀⠀⎥\n",
       "⎢⠀⠀⡇⠀⠀⠀⠀⠀⠀⠀⠀⠀⠀⎥\n",
       "⎢⠀⠀⢳⠀⠀⠀⠀⠀⠀⠀⠀⠀⠀⎥\n",
       "⎢⠀⠀⠸⡀⠀⠀⠀⠀⠀⠀⠀⠀⠀⎥\n",
       "⎢⠀⠀⠀⡇⠀⠀⠀⠀⠀⠀⠀⠀⠀⎥\n",
       "⎢⠀⠀⠀⢹⠀⠀⠀⠀⠀⠀⠀⠀⠀⎥\n",
       "⎢⠀⠀⠀⠈⣇⠀⠀⠀⠀⠀⠀⠀⠀⎥\n",
       "⎢⠀⠀⠀⠀⠸⡄⠀⠀⠀⠀⠀⠀⠀⎥\n",
       "⎢⠀⠀⠀⠀⠀⠙⣆⠀⠀⠀⠀⠀⠀⎥\n",
       "⎢⠀⠀⠀⠀⠀⠀⠘⣆⠀⠀⠀⠀⠀⎥\n",
       "⎢⠀⠀⠀⠀⠀⠀⠀⠘⡄⠀⠀⠀⠀⎥\n",
       "⎢⠀⠀⠀⠀⠀⠀⠀⠀⢇⠀⠀⠀⠀⎥\n",
       "⎢⠀⠀⠀⠀⠀⠀⠀⠀⢸⡀⠀⠀⠀⎥\n",
       "⎢⠀⠀⠀⠀⠀⠀⠀⠀⠀⢧⠀⠀⠀⎥\n",
       "⎢⠀⠀⠀⠀⠀⠀⠀⠀⠀⠸⡄⠀⠀⎥\n",
       "⎢⠀⠀⠀⠀⠀⠀⠀⠀⠀⠀⢹⠀⠀⎥\n",
       "⎢⠀⠀⠀⠀⠀⠀⠀⠀⠀⠀⠈⡇⠀⎥\n",
       "⎢⠀⠀⠀⠀⠀⠀⠀⠀⠀⠀⠀⢹⠀⎥\n",
       "⎢⠀⠀⠀⠀⠀⠀⠀⠀⠀⠀⠀⠸⡄⎥\n",
       "⎢⠀⠀⠀⠀⠀⠀⠀⠀⠀⠀⠀⠀⡇⎥\n",
       "⎢⠀⠀⠀⠀⠀⠀⠀⠀⠀⠀⠀⠀⡇⎥\n",
       "⎢⠀⠀⠀⠀⠀⠀⠀⠀⠀⠀⠀⠀⡇⎥\n",
       "⎢⠀⠀⠀⠀⠀⠀⠀⠀⠀⠀⠀⠀⠱⎥\n",
       "⎣⠀⠀⠀⠀⠀⠀⠀⠀⠀⠀⠀⠀⠸⎦"
      ]
     },
     "execution_count": 26,
     "metadata": {},
     "output_type": "execute_result"
    }
   ],
   "source": [
    "gen_buses = [bus_ids_map[network[\"gen\"][string(id)][\"gen_bus\"]] for id ∈ gen_ids]\n",
    "\n",
    "A_gen = sparse(gen_buses, 1:Ngens, ones(Ngens), Nbuses, Ngens)"
   ]
  },
  {
   "cell_type": "markdown",
   "id": "77cbd854-32ba-430d-9fef-84613fe190b2",
   "metadata": {},
   "source": [
    "Maximum capacity for each generator:"
   ]
  },
  {
   "cell_type": "code",
   "execution_count": 27,
   "id": "b64a4a6a-0675-4533-88d9-9c7f6e10b2e6",
   "metadata": {},
   "outputs": [
    {
     "data": {
      "text/plain": [
       "1039-element Vector{Float64}:\n",
       "  1.14\n",
       "  1.6\n",
       "  0.88\n",
       "  0.6\n",
       "  0.27\n",
       "  0.23\n",
       "  0.24\n",
       "  8.45\n",
       "  3.0\n",
       "  5.5\n",
       "  3.0\n",
       "  3.33600006\n",
       "  2.1\n",
       "  ⋮\n",
       "  0.114\n",
       "  0.16699999999999998\n",
       "  0.12\n",
       "  0.14\n",
       " 15.8539\n",
       "  1.05\n",
       "  0.183\n",
       "  0.19699999999999998\n",
       "  0.18600000000000003\n",
       "  0.256\n",
       "  0.2475\n",
       "  0.384"
      ]
     },
     "execution_count": 27,
     "metadata": {},
     "output_type": "execute_result"
    }
   ],
   "source": [
    "gen_pmax = [convert(Float64, network[\"gen\"][string(id)][\"pmax\"]) for id ∈ gen_ids]"
   ]
  },
  {
   "cell_type": "markdown",
   "id": "b9c5359f-361d-4d15-8417-429537b742cd",
   "metadata": {},
   "source": [
    "Expected production for each generator:"
   ]
  },
  {
   "cell_type": "code",
   "execution_count": 28,
   "id": "a3bb1e57-e521-4d85-9912-f986fa3c2cc4",
   "metadata": {},
   "outputs": [
    {
     "data": {
      "text/plain": [
       "1039-element Vector{Float64}:\n",
       " 0.18403633308432765\n",
       " 0.30949227057286455\n",
       " 0.36802561812197143\n",
       " 0.25092655781043505\n",
       " 0.05904927085954283\n",
       " 0.030972414892266358\n",
       " 0.03231904162671272\n",
       " 2.516608703642022\n",
       " 1.325864324040231\n",
       " 2.4307512607404234\n",
       " 0.893470545671724\n",
       " 0.4492346866910672\n",
       " 0.45927210668533314\n",
       " ⋮\n",
       " 0.011307311244368606\n",
       " 0.03534936879747013\n",
       " 0.02540074404608632\n",
       " 0.024567999376244737\n",
       " 2.819572725820961\n",
       " 0.5005519988019325\n",
       " 0.032113884898948473\n",
       " 0.03457068483657294\n",
       " 0.032640342028439434\n",
       " 0.04351682579693602\n",
       " 0.049584314579468325\n",
       " 0.07693081534753873"
      ]
     },
     "execution_count": 28,
     "metadata": {},
     "output_type": "execute_result"
    }
   ],
   "source": [
    "gen_pexp = [convert(Float64, network[\"gen\"][string(id)][\"pexp\"]) for id ∈ gen_ids]"
   ]
  },
  {
   "cell_type": "markdown",
   "id": "24117615-85cd-4e06-8864-f929daf53a4f",
   "metadata": {
    "jp-MarkdownHeadingCollapsed": true
   },
   "source": [
    "## Import nuclear profiles"
   ]
  },
  {
   "cell_type": "code",
   "execution_count": 29,
   "id": "3b0eb80f-ca65-4af0-a7f1-c1b66d4520d2",
   "metadata": {},
   "outputs": [
    {
     "data": {
      "text/plain": [
       "44×8736 Matrix{Float64}:\n",
       " 19.7042   19.7052   19.7062   19.7062   …  19.7042   19.7052   19.7052\n",
       " 10.624    10.623    10.629    10.629       10.633    10.63     10.624\n",
       "  9.75114   9.75404   9.75791   9.75888     10.4758    9.80338   9.75114\n",
       "  9.294     9.279     9.291     9.293        9.299     9.296     9.296\n",
       " 19.1431   19.1431   19.1431   19.1431      19.1431   19.1431   19.1431\n",
       " 12.7429   12.736    12.477    12.7685   …  12.7764   12.7321   12.7311\n",
       " 12.0824   12.0824   12.0787   12.0787      12.1026   12.1024   12.0844\n",
       " 13.64     13.6173   13.553    13.53        13.6965   13.6178   13.635\n",
       " 12.7271   12.7467   12.7437   12.7301      12.9856   12.9398   12.9096\n",
       " 12.0348   12.0338   12.0309   12.023       12.0309   12.0328   12.0348\n",
       " 12.8447   12.8466   12.8437   12.8437   …  12.8234   12.8251   12.8417\n",
       " 14.0004   13.997    13.8992   13.7054      14.0317   14.0294   14.0088\n",
       " 17.21     17.21     17.21     17.21        17.26     17.26     17.21\n",
       "  ⋮                                      ⋱                       ⋮\n",
       " 53.1093   52.9403   53.0596   53.159       52.7913   52.9205   52.7714\n",
       " 50.51     50.23     50.22     50.18        50.14     50.2      50.43\n",
       " 35.4964   35.4964   35.5261   35.5658      35.3081   35.3775   35.2289\n",
       " 25.4449   25.4449   25.2363   25.1568   …  25.1568   25.2959   25.2462\n",
       " 18.8152   18.8089   18.8052   18.8113      18.8185   18.815    18.8185\n",
       "  4.80598   4.80499   4.80843   4.80814      4.80666   4.80598   4.80637\n",
       " 12.0864   12.1054   12.1054   12.0864      12.058    12.058    12.0486\n",
       "  3.71016   3.71016   3.71016   3.71016      3.71016   3.71016   3.71016\n",
       "  9.97016   9.97115   9.9761    9.9771   …   9.96917   9.96917   9.96223\n",
       "  3.64      3.64      3.65      3.64         3.64      3.64      3.65\n",
       " 12.945    12.9457   12.9106   12.9363      12.9368   12.9269   12.9489\n",
       " 12.88     12.88     12.88     12.88        12.88     12.88     12.88"
      ]
     },
     "execution_count": 29,
     "metadata": {},
     "output_type": "execute_result"
    }
   ],
   "source": [
    "nuclear_profiles = Matrix(nuc_series_df[:, 2:end]) / 100."
   ]
  },
  {
   "cell_type": "code",
   "execution_count": 30,
   "id": "1bce2c61-d7cf-4fa5-9285-cb020ce57887",
   "metadata": {},
   "outputs": [
    {
     "data": {
      "text/plain": [
       "4097×44 SparseMatrixCSC{Float64, Int64} with 44 stored entries:\n",
       "⎡⠀⠀⎤\n",
       "⎢⠃⠀⎥\n",
       "⎢⠀⠀⎥\n",
       "⎢⠁⠀⎥\n",
       "⎢⠁⠀⎥\n",
       "⎢⠆⠀⎥\n",
       "⎢⠸⠀⎥\n",
       "⎢⢀⠀⎥\n",
       "⎢⢀⠀⎥\n",
       "⎢⠰⠀⎥\n",
       "⎢⠠⠀⎥\n",
       "⎢⠈⠆⎥\n",
       "⎢⠀⡂⎥\n",
       "⎢⠀⡆⎥\n",
       "⎢⠀⠆⎥\n",
       "⎢⠀⠐⎥\n",
       "⎢⠀⠠⎥\n",
       "⎢⠀⠰⎥\n",
       "⎢⠀⠐⎥\n",
       "⎢⠀⠈⎥\n",
       "⎢⠀⠀⎥\n",
       "⎢⠀⠀⎥\n",
       "⎢⠀⠀⎥\n",
       "⎢⠀⠀⎥\n",
       "⎢⠀⠀⎥\n",
       "⎣⠀⠀⎦"
      ]
     },
     "execution_count": 30,
     "metadata": {},
     "output_type": "execute_result"
    }
   ],
   "source": [
    "nuc_buses = [bus_ids_map[network[\"nuc\"][string(id)][\"gen_bus\"]] for id ∈ nuc_ids]\n",
    "\n",
    "A_nuc = sparse(nuc_buses, 1:Nnucs, ones(Nnucs), Nbuses, Nnucs)"
   ]
  },
  {
   "cell_type": "code",
   "execution_count": 31,
   "id": "377e88e7-7270-48bc-bd94-5b44076c0932",
   "metadata": {},
   "outputs": [
    {
     "data": {
      "text/plain": [
       "44×1 Matrix{Float64}:\n",
       " 18.07435324434912\n",
       " 10.52281204212462\n",
       " 16.740458566186987\n",
       " 12.772566391941368\n",
       " 12.115955164116976\n",
       "  9.503013685447213\n",
       " 12.653122996045495\n",
       " 11.144890212912095\n",
       " 11.818796142967246\n",
       " 10.666854506547292\n",
       " 10.062367679398305\n",
       " 12.784686302117901\n",
       "  9.543592032967025\n",
       "  ⋮\n",
       " 35.7308990489626\n",
       " 36.51960794413923\n",
       " 26.428929067784257\n",
       " 18.913049255210407\n",
       " 16.863302806091106\n",
       "  4.221288303765866\n",
       "  6.948160097272817\n",
       "  3.3505223372592856\n",
       "  9.220073416218261\n",
       "  3.427495421245371\n",
       " 12.033299969955593\n",
       " 22.566314102564032"
      ]
     },
     "execution_count": 31,
     "metadata": {},
     "output_type": "execute_result"
    }
   ],
   "source": [
    "avg_nuclear = sum(nuclear_profiles, dims=2) / T"
   ]
  },
  {
   "cell_type": "code",
   "execution_count": 32,
   "id": "13eff764-234e-4158-8de7-140effc1a338",
   "metadata": {},
   "outputs": [
    {
     "data": {
      "text/plain": [
       "8736-element Vector{Float64}:\n",
       " 881.9648751409237\n",
       " 881.7314571887553\n",
       " 881.2714462952173\n",
       " 881.7447030905244\n",
       " 881.6503497966312\n",
       " 884.6994189318873\n",
       " 893.6933152593614\n",
       " 894.6164691496289\n",
       " 895.1912581211678\n",
       " 895.7077659455551\n",
       " 896.8124050182465\n",
       " 896.0096340851055\n",
       " 896.5861009733926\n",
       "   ⋮\n",
       " 888.7747270743923\n",
       " 888.9280001324361\n",
       " 889.4097888424648\n",
       " 888.7765443288088\n",
       " 887.5665997127107\n",
       " 886.6996310914843\n",
       " 884.5294240239839\n",
       " 884.3841469805394\n",
       " 882.2464379503751\n",
       " 882.5014211344914\n",
       " 881.1820477773415\n",
       " 881.1772241894436"
      ]
     },
     "execution_count": 32,
     "metadata": {},
     "output_type": "execute_result"
    }
   ],
   "source": [
    "total_nuclear = sum(nuclear_profiles, dims=1)[1, :]"
   ]
  },
  {
   "cell_type": "markdown",
   "id": "f83444f0-5e4b-4565-bd01-4b1cc5754537",
   "metadata": {
    "jp-MarkdownHeadingCollapsed": true
   },
   "source": [
    "## Calculate total load by country based on capacity and usage"
   ]
  },
  {
   "cell_type": "markdown",
   "id": "dc91ff66-f541-4594-b6a8-e94848089351",
   "metadata": {},
   "source": [
    "Determine the total expected production:"
   ]
  },
  {
   "cell_type": "code",
   "execution_count": 33,
   "id": "4e0ab6b6-5525-4298-a0ec-585fed17b2e6",
   "metadata": {},
   "outputs": [
    {
     "data": {
      "text/plain": [
       "OrderedCollections.OrderedDict{String, Float64} with 26 entries:\n",
       "  \"DE\" => 279.256\n",
       "  \"PL\" => 136.378\n",
       "  \"FR\" => 129.988\n",
       "  \"IT\" => 127.814\n",
       "  \"ES\" => 78.738\n",
       "  \"NL\" => 59.6867\n",
       "  \"AT\" => 57.8544\n",
       "  \"RO\" => 48.9335\n",
       "  \"GR\" => 48.2076\n",
       "  \"PT\" => 42.5945\n",
       "  \"CZ\" => 35.501\n",
       "  \"RS\" => 29.6354\n",
       "  \"BG\" => 19.8427\n",
       "  \"BE\" => 17.3629\n",
       "  \"BA\" => 13.4466\n",
       "  \"CH\" => 11.6612\n",
       "  \"SI\" => 11.1836\n",
       "  \"HU\" => 10.6986\n",
       "  \"SK\" => 9.39437\n",
       "  \"DK\" => 7.71758\n",
       "  \"HR\" => 6.7509\n",
       "  \"MK\" => 5.00832\n",
       "  \"AL\" => 4.75198\n",
       "  \"LU\" => 3.56473\n",
       "  \"XX\" => 2.6395\n",
       "  \"ME\" => 2.33425"
      ]
     },
     "execution_count": 33,
     "metadata": {},
     "output_type": "execute_result"
    }
   ],
   "source": [
    "expected_production_by_country = Dict(country => 0.0 for country ∈ countries)\n",
    "\n",
    "for gen ∈ values(network[\"gen\"])\n",
    "    expected_production_by_country[gen[\"country\"]] += gen[\"pexp\"]\n",
    "end\n",
    "\n",
    "sort(expected_production_by_country, byvalue=true, rev=true)"
   ]
  },
  {
   "cell_type": "markdown",
   "id": "675b7d33-f0a8-4ebd-be71-f7933f8011e7",
   "metadata": {},
   "source": [
    "Export by country:"
   ]
  },
  {
   "cell_type": "code",
   "execution_count": 34,
   "id": "b0dfec97-3a1c-4004-b457-f9e62a14b3cd",
   "metadata": {},
   "outputs": [
    {
     "data": {
      "text/html": [
       "<div><div style = \"float: left;\"><span>25×2 DataFrame</span></div><div style = \"clear: both;\"></div></div><div class = \"data-frame\" style = \"overflow-x: scroll;\"><table class = \"data-frame\" style = \"margin-bottom: 6px;\"><thead><tr class = \"header\"><th class = \"rowNumber\" style = \"font-weight: bold; text-align: right;\">Row</th><th style = \"text-align: left;\">country</th><th style = \"text-align: left;\">out_flow</th></tr><tr class = \"subheader headerLastRow\"><th class = \"rowNumber\" style = \"font-weight: bold; text-align: right;\"></th><th title = \"String3\" style = \"text-align: left;\">String3</th><th title = \"Float64\" style = \"text-align: left;\">Float64</th></tr></thead><tbody><tr><td class = \"rowNumber\" style = \"font-weight: bold; text-align: right;\">1</td><td style = \"text-align: left;\">DE</td><td style = \"text-align: right;\">5663.42</td></tr><tr><td class = \"rowNumber\" style = \"font-weight: bold; text-align: right;\">2</td><td style = \"text-align: left;\">SI</td><td style = \"text-align: right;\">127.709</td></tr><tr><td class = \"rowNumber\" style = \"font-weight: bold; text-align: right;\">3</td><td style = \"text-align: left;\">HR</td><td style = \"text-align: right;\">-717.664</td></tr><tr><td class = \"rowNumber\" style = \"font-weight: bold; text-align: right;\">4</td><td style = \"text-align: left;\">BE</td><td style = \"text-align: right;\">-725.658</td></tr><tr><td class = \"rowNumber\" style = \"font-weight: bold; text-align: right;\">5</td><td style = \"text-align: left;\">ES</td><td style = \"text-align: right;\">-1454.95</td></tr><tr><td class = \"rowNumber\" style = \"font-weight: bold; text-align: right;\">6</td><td style = \"text-align: left;\">FR</td><td style = \"text-align: right;\">3016.91</td></tr><tr><td class = \"rowNumber\" style = \"font-weight: bold; text-align: right;\">7</td><td style = \"text-align: left;\">RS</td><td style = \"text-align: right;\">167.457</td></tr><tr><td class = \"rowNumber\" style = \"font-weight: bold; text-align: right;\">8</td><td style = \"text-align: left;\">DK</td><td style = \"text-align: right;\">-282.057</td></tr><tr><td class = \"rowNumber\" style = \"font-weight: bold; text-align: right;\">9</td><td style = \"text-align: left;\">BA</td><td style = \"text-align: right;\">425.84</td></tr><tr><td class = \"rowNumber\" style = \"font-weight: bold; text-align: right;\">10</td><td style = \"text-align: left;\">PL</td><td style = \"text-align: right;\">234.598</td></tr><tr><td class = \"rowNumber\" style = \"font-weight: bold; text-align: right;\">11</td><td style = \"text-align: left;\">RO</td><td style = \"text-align: right;\">664.282</td></tr><tr><td class = \"rowNumber\" style = \"font-weight: bold; text-align: right;\">12</td><td style = \"text-align: left;\">NL</td><td style = \"text-align: right;\">-991.27</td></tr><tr><td class = \"rowNumber\" style = \"font-weight: bold; text-align: right;\">13</td><td style = \"text-align: left;\">GR</td><td style = \"text-align: right;\">-838.198</td></tr><tr><td class = \"rowNumber\" style = \"font-weight: bold; text-align: right;\">14</td><td style = \"text-align: left;\">BG</td><td style = \"text-align: right;\">189.876</td></tr><tr><td class = \"rowNumber\" style = \"font-weight: bold; text-align: right;\">15</td><td style = \"text-align: left;\">CH</td><td style = \"text-align: right;\">-513.167</td></tr><tr><td class = \"rowNumber\" style = \"font-weight: bold; text-align: right;\">16</td><td style = \"text-align: left;\">AT</td><td style = \"text-align: right;\">-993.982</td></tr><tr><td class = \"rowNumber\" style = \"font-weight: bold; text-align: right;\">17</td><td style = \"text-align: left;\">CZ</td><td style = \"text-align: right;\">1251.13</td></tr><tr><td class = \"rowNumber\" style = \"font-weight: bold; text-align: right;\">18</td><td style = \"text-align: left;\">SK</td><td style = \"text-align: right;\">-537.451</td></tr><tr><td class = \"rowNumber\" style = \"font-weight: bold; text-align: right;\">19</td><td style = \"text-align: left;\">HU</td><td style = \"text-align: right;\">-963.781</td></tr><tr><td class = \"rowNumber\" style = \"font-weight: bold; text-align: right;\">20</td><td style = \"text-align: left;\">PT</td><td style = \"text-align: right;\">573.057</td></tr><tr><td class = \"rowNumber\" style = \"font-weight: bold; text-align: right;\">21</td><td style = \"text-align: left;\">IT</td><td style = \"text-align: right;\">-4133.25</td></tr><tr><td class = \"rowNumber\" style = \"font-weight: bold; text-align: right;\">22</td><td style = \"text-align: left;\">AL</td><td style = \"text-align: right;\">4.88879</td></tr><tr><td class = \"rowNumber\" style = \"font-weight: bold; text-align: right;\">23</td><td style = \"text-align: left;\">MK</td><td style = \"text-align: right;\">-136.804</td></tr><tr><td class = \"rowNumber\" style = \"font-weight: bold; text-align: right;\">24</td><td style = \"text-align: left;\">ME</td><td style = \"text-align: right;\">-30.9394</td></tr><tr><td class = \"rowNumber\" style = \"font-weight: bold; text-align: right;\">25</td><td style = \"text-align: left;\">LU</td><td style = \"text-align: right;\">0.0</td></tr></tbody></table></div>"
      ],
      "text/latex": [
       "\\begin{tabular}{r|cc}\n",
       "\t& country & out\\_flow\\\\\n",
       "\t\\hline\n",
       "\t& String3 & Float64\\\\\n",
       "\t\\hline\n",
       "\t1 & DE & 5663.42 \\\\\n",
       "\t2 & SI & 127.709 \\\\\n",
       "\t3 & HR & -717.664 \\\\\n",
       "\t4 & BE & -725.658 \\\\\n",
       "\t5 & ES & -1454.95 \\\\\n",
       "\t6 & FR & 3016.91 \\\\\n",
       "\t7 & RS & 167.457 \\\\\n",
       "\t8 & DK & -282.057 \\\\\n",
       "\t9 & BA & 425.84 \\\\\n",
       "\t10 & PL & 234.598 \\\\\n",
       "\t11 & RO & 664.282 \\\\\n",
       "\t12 & NL & -991.27 \\\\\n",
       "\t13 & GR & -838.198 \\\\\n",
       "\t14 & BG & 189.876 \\\\\n",
       "\t15 & CH & -513.167 \\\\\n",
       "\t16 & AT & -993.982 \\\\\n",
       "\t17 & CZ & 1251.13 \\\\\n",
       "\t18 & SK & -537.451 \\\\\n",
       "\t19 & HU & -963.781 \\\\\n",
       "\t20 & PT & 573.057 \\\\\n",
       "\t21 & IT & -4133.25 \\\\\n",
       "\t22 & AL & 4.88879 \\\\\n",
       "\t23 & MK & -136.804 \\\\\n",
       "\t24 & ME & -30.9394 \\\\\n",
       "\t25 & LU & 0.0 \\\\\n",
       "\\end{tabular}\n"
      ],
      "text/plain": [
       "\u001b[1m25×2 DataFrame\u001b[0m\n",
       "\u001b[1m Row \u001b[0m│\u001b[1m country \u001b[0m\u001b[1m out_flow    \u001b[0m\n",
       "     │\u001b[90m String3 \u001b[0m\u001b[90m Float64     \u001b[0m\n",
       "─────┼──────────────────────\n",
       "   1 │ DE        5663.42\n",
       "   2 │ SI         127.709\n",
       "   3 │ HR        -717.664\n",
       "   4 │ BE        -725.658\n",
       "   5 │ ES       -1454.95\n",
       "   6 │ FR        3016.91\n",
       "   7 │ RS         167.457\n",
       "   8 │ DK        -282.057\n",
       "   9 │ BA         425.84\n",
       "  10 │ PL         234.598\n",
       "  11 │ RO         664.282\n",
       "  ⋮  │    ⋮          ⋮\n",
       "  16 │ AT        -993.982\n",
       "  17 │ CZ        1251.13\n",
       "  18 │ SK        -537.451\n",
       "  19 │ HU        -963.781\n",
       "  20 │ PT         573.057\n",
       "  21 │ IT       -4133.25\n",
       "  22 │ AL           4.88879\n",
       "  23 │ MK        -136.804\n",
       "  24 │ ME         -30.9394\n",
       "  25 │ LU           0.0\n",
       "\u001b[36m              4 rows omitted\u001b[0m"
      ]
     },
     "execution_count": 34,
     "metadata": {},
     "output_type": "execute_result"
    }
   ],
   "source": [
    "out_flow_df = CSV.read(\"pantagruel_out_flow.csv\", DataFrame)"
   ]
  },
  {
   "cell_type": "code",
   "execution_count": 35,
   "id": "13871632-ec73-4264-a100-eb2bacad6e76",
   "metadata": {},
   "outputs": [
    {
     "data": {
      "text/plain": [
       "OrderedCollections.OrderedDict{String, Float64} with 26 entries:\n",
       "  \"DE\" => 56.6342\n",
       "  \"FR\" => 30.1691\n",
       "  \"CZ\" => 12.5113\n",
       "  \"RO\" => 6.64282\n",
       "  \"PT\" => 5.73057\n",
       "  \"BA\" => 4.2584\n",
       "  \"PL\" => 2.34598\n",
       "  \"BG\" => 1.89876\n",
       "  \"RS\" => 1.67457\n",
       "  \"SI\" => 1.27709\n",
       "  \"AL\" => 0.0488879\n",
       "  \"LU\" => 0.0\n",
       "  \"XX\" => 0.0\n",
       "  \"ME\" => -0.309394\n",
       "  \"MK\" => -1.36804\n",
       "  \"DK\" => -2.82057\n",
       "  \"CH\" => -5.13167\n",
       "  \"SK\" => -5.37451\n",
       "  \"HR\" => -7.17664\n",
       "  \"BE\" => -7.25658\n",
       "  \"GR\" => -8.38198\n",
       "  \"HU\" => -9.63781\n",
       "  \"NL\" => -9.9127\n",
       "  \"AT\" => -9.93982\n",
       "  \"ES\" => -14.5495\n",
       "  \"IT\" => -41.3325"
      ]
     },
     "execution_count": 35,
     "metadata": {},
     "output_type": "execute_result"
    }
   ],
   "source": [
    "out_flow_by_country = Dict{String, Float64}()\n",
    "for (country, flow) in eachrow(out_flow_df)\n",
    "    out_flow_by_country[country] = flow / 100.0\n",
    "end\n",
    "out_flow_by_country[\"XX\"] = 0.0\n",
    "\n",
    "sort(out_flow_by_country, byvalue=true, rev=true)"
   ]
  },
  {
   "cell_type": "markdown",
   "id": "d47d367d-eabc-4f2e-b965-91e77608f2ac",
   "metadata": {},
   "source": [
    "Check: total out flow adds up to zero"
   ]
  },
  {
   "cell_type": "code",
   "execution_count": 36,
   "id": "ad30a7ce-b577-4496-ac06-b21e218773de",
   "metadata": {},
   "outputs": [
    {
     "data": {
      "text/plain": [
       "1.865174681370263e-14"
      ]
     },
     "execution_count": 36,
     "metadata": {},
     "output_type": "execute_result"
    }
   ],
   "source": [
    "sum(values(out_flow_by_country))"
   ]
  },
  {
   "cell_type": "markdown",
   "id": "52a8ffc1-8076-4097-99dc-67bee348be48",
   "metadata": {},
   "source": [
    "Nuclear production by country:"
   ]
  },
  {
   "cell_type": "code",
   "execution_count": 37,
   "id": "20fd114f-266a-4e96-aabb-b911e04ce790",
   "metadata": {},
   "outputs": [
    {
     "data": {
      "text/plain": [
       "Dict{String, Float64} with 26 entries:\n",
       "  \"SI\" => 0.0\n",
       "  \"ES\" => 45.3376\n",
       "  \"GR\" => 0.0\n",
       "  \"LU\" => 0.0\n",
       "  \"HU\" => 16.8633\n",
       "  \"CH\" => 22.9463\n",
       "  \"MK\" => 0.0\n",
       "  \"RS\" => 0.0\n",
       "  \"XX\" => 0.0\n",
       "  \"DE\" => 90.667\n",
       "  \"AL\" => 0.0\n",
       "  \"FR\" => 441.027\n",
       "  \"PL\" => 0.0\n",
       "  \"IT\" => 0.0\n",
       "  \"AT\" => 0.0\n",
       "  \"HR\" => 0.0\n",
       "  \"PT\" => 0.0\n",
       "  \"ME\" => 0.0\n",
       "  \"NL\" => 4.22129\n",
       "  \"BE\" => 46.9143\n",
       "  \"RO\" => 11.829\n",
       "  \"BG\" => 17.1781\n",
       "  \"CZ\" => 24.8885\n",
       "  \"SK\" => 16.7945\n",
       "  \"DK\" => 0.0\n",
       "  \"BA\" => 0.0"
      ]
     },
     "execution_count": 37,
     "metadata": {},
     "output_type": "execute_result"
    }
   ],
   "source": [
    "nuclear_production_by_country = Dict(country => 0.0 for country ∈ countries)\n",
    "for id ∈ nuc_ids\n",
    "    country = network[\"nuc\"][string(id)][\"country\"]\n",
    "    nuclear_production_by_country[country] += avg_nuclear[nuc_ids_map[id]]\n",
    "end\n",
    "nuclear_production_by_country"
   ]
  },
  {
   "cell_type": "markdown",
   "id": "29b2c116-8ce9-4a7f-8420-f54016293bd5",
   "metadata": {},
   "source": [
    "Determine annual load by country:"
   ]
  },
  {
   "cell_type": "code",
   "execution_count": 38,
   "id": "93ea4b7b-fcf5-42eb-b58d-3e2b29749e68",
   "metadata": {},
   "outputs": [
    {
     "data": {
      "text/plain": [
       "OrderedCollections.OrderedDict{String, Float64} with 26 entries:\n",
       "  \"FR\" => 540.846\n",
       "  \"DE\" => 313.289\n",
       "  \"IT\" => 169.147\n",
       "  \"ES\" => 138.625\n",
       "  \"PL\" => 134.032\n",
       "  \"NL\" => 73.8207\n",
       "  \"BE\" => 71.5338\n",
       "  \"AT\" => 67.7943\n",
       "  \"GR\" => 56.5896\n",
       "  \"RO\" => 54.1198\n",
       "  \"CZ\" => 47.8782\n",
       "  \"CH\" => 39.7391\n",
       "  \"HU\" => 37.1997\n",
       "  \"PT\" => 36.8639\n",
       "  \"BG\" => 35.122\n",
       "  \"SK\" => 31.5634\n",
       "  \"RS\" => 27.9608\n",
       "  \"HR\" => 13.9275\n",
       "  \"DK\" => 10.5382\n",
       "  \"SI\" => 9.90647\n",
       "  \"BA\" => 9.18824\n",
       "  \"MK\" => 6.37635\n",
       "  \"AL\" => 4.70309\n",
       "  \"LU\" => 3.56473\n",
       "  \"ME\" => 2.64364\n",
       "  \"XX\" => 2.6395"
      ]
     },
     "execution_count": 38,
     "metadata": {},
     "output_type": "execute_result"
    }
   ],
   "source": [
    "expected_load_by_country = Dict(country => prod + nuclear_production_by_country[country] - out_flow_by_country[country]\n",
    "    for (country, prod) ∈ expected_production_by_country)\n",
    "\n",
    "sort(expected_load_by_country, byvalue=true, rev=true)"
   ]
  },
  {
   "cell_type": "code",
   "execution_count": 39,
   "id": "460175a9-f6fd-428f-9987-a47ff4fd7625",
   "metadata": {},
   "outputs": [
    {
     "data": {
      "text/plain": [
       "1939.6111574858896"
      ]
     },
     "execution_count": 39,
     "metadata": {},
     "output_type": "execute_result"
    }
   ],
   "source": [
    "total_expected_load = sum(values(expected_load_by_country))"
   ]
  },
  {
   "cell_type": "markdown",
   "id": "276385d5-c85a-4181-8a79-b6a711e5e6dd",
   "metadata": {
    "jp-MarkdownHeadingCollapsed": true
   },
   "source": [
    "## Import loads"
   ]
  },
  {
   "cell_type": "code",
   "execution_count": 40,
   "id": "c1e5412b-5452-478d-acd3-31776de33405",
   "metadata": {},
   "outputs": [
    {
     "data": {
      "text/html": [
       "<div><div style = \"float: left;\"><span>4097×8737 DataFrame</span></div><div style = \"float: right;\"><span style = \"font-style: italic;\">8637 columns and 4072 rows omitted</span></div><div style = \"clear: both;\"></div></div><div class = \"data-frame\" style = \"overflow-x: scroll;\"><table class = \"data-frame\" style = \"margin-bottom: 6px;\"><thead><tr class = \"header\"><th class = \"rowNumber\" style = \"font-weight: bold; text-align: right;\">Row</th><th style = \"text-align: left;\">Column1</th><th style = \"text-align: left;\">0</th><th style = \"text-align: left;\">1</th><th style = \"text-align: left;\">2</th><th style = \"text-align: left;\">3</th><th style = \"text-align: left;\">4</th><th style = \"text-align: left;\">5</th><th style = \"text-align: left;\">6</th><th style = \"text-align: left;\">7</th><th style = \"text-align: left;\">8</th><th style = \"text-align: left;\">9</th><th style = \"text-align: left;\">10</th><th style = \"text-align: left;\">11</th><th style = \"text-align: left;\">12</th><th style = \"text-align: left;\">13</th><th style = \"text-align: left;\">14</th><th style = \"text-align: left;\">15</th><th style = \"text-align: left;\">16</th><th style = \"text-align: left;\">17</th><th style = \"text-align: left;\">18</th><th style = \"text-align: left;\">19</th><th style = \"text-align: left;\">20</th><th style = \"text-align: left;\">21</th><th style = \"text-align: left;\">22</th><th style = \"text-align: left;\">23</th><th style = \"text-align: left;\">24</th><th style = \"text-align: left;\">25</th><th style = \"text-align: left;\">26</th><th style = \"text-align: left;\">27</th><th style = \"text-align: left;\">28</th><th style = \"text-align: left;\">29</th><th style = \"text-align: left;\">30</th><th style = \"text-align: left;\">31</th><th style = \"text-align: left;\">32</th><th style = \"text-align: left;\">33</th><th style = \"text-align: left;\">34</th><th style = \"text-align: left;\">35</th><th style = \"text-align: left;\">36</th><th style = \"text-align: left;\">37</th><th style = \"text-align: left;\">38</th><th style = \"text-align: left;\">39</th><th style = \"text-align: left;\">40</th><th style = \"text-align: left;\">41</th><th style = \"text-align: left;\">42</th><th style = \"text-align: left;\">43</th><th style = \"text-align: left;\">44</th><th style = \"text-align: left;\">45</th><th style = \"text-align: left;\">46</th><th style = \"text-align: left;\">47</th><th style = \"text-align: left;\">48</th><th style = \"text-align: left;\">49</th><th style = \"text-align: left;\">50</th><th style = \"text-align: left;\">51</th><th style = \"text-align: left;\">52</th><th style = \"text-align: left;\">53</th><th style = \"text-align: left;\">54</th><th style = \"text-align: left;\">55</th><th style = \"text-align: left;\">56</th><th style = \"text-align: left;\">57</th><th style = \"text-align: left;\">58</th><th style = \"text-align: left;\">59</th><th style = \"text-align: left;\">60</th><th style = \"text-align: left;\">61</th><th style = \"text-align: left;\">62</th><th style = \"text-align: left;\">63</th><th style = \"text-align: left;\">64</th><th style = \"text-align: left;\">65</th><th style = \"text-align: left;\">66</th><th style = \"text-align: left;\">67</th><th style = \"text-align: left;\">68</th><th style = \"text-align: left;\">69</th><th style = \"text-align: left;\">70</th><th style = \"text-align: left;\">71</th><th style = \"text-align: left;\">72</th><th style = \"text-align: left;\">73</th><th style = \"text-align: left;\">74</th><th style = \"text-align: left;\">75</th><th style = \"text-align: left;\">76</th><th style = \"text-align: left;\">77</th><th style = \"text-align: left;\">78</th><th style = \"text-align: left;\">79</th><th style = \"text-align: left;\">80</th><th style = \"text-align: left;\">81</th><th style = \"text-align: left;\">82</th><th style = \"text-align: left;\">83</th><th style = \"text-align: left;\">84</th><th style = \"text-align: left;\">85</th><th style = \"text-align: left;\">86</th><th style = \"text-align: left;\">87</th><th style = \"text-align: left;\">88</th><th style = \"text-align: left;\">89</th><th style = \"text-align: left;\">90</th><th style = \"text-align: left;\">91</th><th style = \"text-align: left;\">92</th><th style = \"text-align: left;\">93</th><th style = \"text-align: left;\">94</th><th style = \"text-align: left;\">95</th><th style = \"text-align: left;\">96</th><th style = \"text-align: left;\">97</th><th style = \"text-align: left;\">98</th><th style = \"text-align: right;\">&ctdot;</th></tr><tr class = \"subheader headerLastRow\"><th class = \"rowNumber\" style = \"font-weight: bold; text-align: right;\"></th><th title = \"Int64\" style = \"text-align: left;\">Int64</th><th title = \"Float64\" style = \"text-align: left;\">Float64</th><th title = \"Float64\" style = \"text-align: left;\">Float64</th><th title = \"Float64\" style = \"text-align: left;\">Float64</th><th title = \"Float64\" style = \"text-align: left;\">Float64</th><th title = \"Float64\" style = \"text-align: left;\">Float64</th><th title = \"Float64\" style = \"text-align: left;\">Float64</th><th title = \"Float64\" style = \"text-align: left;\">Float64</th><th title = \"Float64\" style = \"text-align: left;\">Float64</th><th title = \"Float64\" style = \"text-align: left;\">Float64</th><th title = \"Float64\" style = \"text-align: left;\">Float64</th><th title = \"Float64\" style = \"text-align: left;\">Float64</th><th title = \"Float64\" style = \"text-align: left;\">Float64</th><th title = \"Float64\" style = \"text-align: left;\">Float64</th><th title = \"Float64\" style = \"text-align: left;\">Float64</th><th title = \"Float64\" style = \"text-align: left;\">Float64</th><th title = \"Float64\" style = \"text-align: left;\">Float64</th><th title = \"Float64\" style = \"text-align: left;\">Float64</th><th title = \"Float64\" style = \"text-align: left;\">Float64</th><th title = \"Float64\" style = \"text-align: left;\">Float64</th><th title = \"Float64\" style = \"text-align: left;\">Float64</th><th title = \"Float64\" style = \"text-align: left;\">Float64</th><th title = \"Float64\" style = \"text-align: left;\">Float64</th><th title = \"Float64\" style = \"text-align: left;\">Float64</th><th title = \"Float64\" style = \"text-align: left;\">Float64</th><th title = \"Float64\" style = \"text-align: left;\">Float64</th><th title = \"Float64\" style = \"text-align: left;\">Float64</th><th title = \"Float64\" style = \"text-align: left;\">Float64</th><th title = \"Float64\" style = \"text-align: left;\">Float64</th><th title = \"Float64\" style = \"text-align: left;\">Float64</th><th title = \"Float64\" style = \"text-align: left;\">Float64</th><th title = \"Float64\" style = \"text-align: left;\">Float64</th><th title = \"Float64\" style = \"text-align: left;\">Float64</th><th title = \"Float64\" style = \"text-align: left;\">Float64</th><th title = \"Float64\" style = \"text-align: left;\">Float64</th><th title = \"Float64\" style = \"text-align: left;\">Float64</th><th title = \"Float64\" style = \"text-align: left;\">Float64</th><th title = \"Float64\" style = \"text-align: left;\">Float64</th><th title = \"Float64\" style = \"text-align: left;\">Float64</th><th title = \"Float64\" style = \"text-align: left;\">Float64</th><th title = \"Float64\" style = \"text-align: left;\">Float64</th><th title = \"Float64\" style = \"text-align: left;\">Float64</th><th title = \"Float64\" style = \"text-align: left;\">Float64</th><th title = \"Float64\" style = \"text-align: left;\">Float64</th><th title = \"Float64\" style = \"text-align: left;\">Float64</th><th title = \"Float64\" style = \"text-align: left;\">Float64</th><th title = \"Float64\" style = \"text-align: left;\">Float64</th><th title = \"Float64\" style = \"text-align: left;\">Float64</th><th title = \"Float64\" style = \"text-align: left;\">Float64</th><th title = \"Float64\" style = \"text-align: left;\">Float64</th><th title = \"Float64\" style = \"text-align: left;\">Float64</th><th title = \"Float64\" style = \"text-align: left;\">Float64</th><th title = \"Float64\" style = \"text-align: left;\">Float64</th><th title = \"Float64\" style = \"text-align: left;\">Float64</th><th title = \"Float64\" style = \"text-align: left;\">Float64</th><th title = \"Float64\" style = \"text-align: left;\">Float64</th><th title = \"Float64\" style = \"text-align: left;\">Float64</th><th title = \"Float64\" style = \"text-align: left;\">Float64</th><th title = \"Float64\" style = \"text-align: left;\">Float64</th><th title = \"Float64\" style = \"text-align: left;\">Float64</th><th title = \"Float64\" style = \"text-align: left;\">Float64</th><th title = \"Float64\" style = \"text-align: left;\">Float64</th><th title = \"Float64\" style = \"text-align: left;\">Float64</th><th title = \"Float64\" style = \"text-align: left;\">Float64</th><th title = \"Float64\" style = \"text-align: left;\">Float64</th><th title = \"Float64\" style = \"text-align: left;\">Float64</th><th title = \"Float64\" style = \"text-align: left;\">Float64</th><th title = \"Float64\" style = \"text-align: left;\">Float64</th><th title = \"Float64\" style = \"text-align: left;\">Float64</th><th title = \"Float64\" style = \"text-align: left;\">Float64</th><th title = \"Float64\" style = \"text-align: left;\">Float64</th><th title = \"Float64\" style = \"text-align: left;\">Float64</th><th title = \"Float64\" style = \"text-align: left;\">Float64</th><th title = \"Float64\" style = \"text-align: left;\">Float64</th><th title = \"Float64\" style = \"text-align: left;\">Float64</th><th title = \"Float64\" style = \"text-align: left;\">Float64</th><th title = \"Float64\" style = \"text-align: left;\">Float64</th><th title = \"Float64\" style = \"text-align: left;\">Float64</th><th title = \"Float64\" style = \"text-align: left;\">Float64</th><th title = \"Float64\" style = \"text-align: left;\">Float64</th><th title = \"Float64\" style = \"text-align: left;\">Float64</th><th title = \"Float64\" style = \"text-align: left;\">Float64</th><th title = \"Float64\" style = \"text-align: left;\">Float64</th><th title = \"Float64\" style = \"text-align: left;\">Float64</th><th title = \"Float64\" style = \"text-align: left;\">Float64</th><th title = \"Float64\" style = \"text-align: left;\">Float64</th><th title = \"Float64\" style = \"text-align: left;\">Float64</th><th title = \"Float64\" style = \"text-align: left;\">Float64</th><th title = \"Float64\" style = \"text-align: left;\">Float64</th><th title = \"Float64\" style = \"text-align: left;\">Float64</th><th title = \"Float64\" style = \"text-align: left;\">Float64</th><th title = \"Float64\" style = \"text-align: left;\">Float64</th><th title = \"Float64\" style = \"text-align: left;\">Float64</th><th title = \"Float64\" style = \"text-align: left;\">Float64</th><th title = \"Float64\" style = \"text-align: left;\">Float64</th><th title = \"Float64\" style = \"text-align: left;\">Float64</th><th title = \"Float64\" style = \"text-align: left;\">Float64</th><th title = \"Float64\" style = \"text-align: left;\">Float64</th><th title = \"Float64\" style = \"text-align: left;\">Float64</th><th title = \"Float64\" style = \"text-align: left;\">Float64</th><th title = \"Float64\" style = \"text-align: right;\">&ctdot;</th></tr></thead><tbody><tr><td class = \"rowNumber\" style = \"font-weight: bold; text-align: right;\">1</td><td style = \"text-align: right;\">81</td><td style = \"text-align: right;\">1.13557</td><td style = \"text-align: right;\">1.12543</td><td style = \"text-align: right;\">1.11811</td><td style = \"text-align: right;\">1.14711</td><td style = \"text-align: right;\">1.25385</td><td style = \"text-align: right;\">1.37139</td><td style = \"text-align: right;\">1.446</td><td style = \"text-align: right;\">1.51316</td><td style = \"text-align: right;\">1.53222</td><td style = \"text-align: right;\">1.52428</td><td style = \"text-align: right;\">1.50463</td><td style = \"text-align: right;\">1.48967</td><td style = \"text-align: right;\">1.4727</td><td style = \"text-align: right;\">1.48166</td><td style = \"text-align: right;\">1.52101</td><td style = \"text-align: right;\">1.60451</td><td style = \"text-align: right;\">1.67275</td><td style = \"text-align: right;\">1.66746</td><td style = \"text-align: right;\">1.59331</td><td style = \"text-align: right;\">1.53063</td><td style = \"text-align: right;\">1.49717</td><td style = \"text-align: right;\">1.39425</td><td style = \"text-align: right;\">1.27845</td><td style = \"text-align: right;\">1.2032</td><td style = \"text-align: right;\">1.16054</td><td style = \"text-align: right;\">1.14112</td><td style = \"text-align: right;\">1.15439</td><td style = \"text-align: right;\">1.18785</td><td style = \"text-align: right;\">1.2978</td><td style = \"text-align: right;\">1.41831</td><td style = \"text-align: right;\">1.50578</td><td style = \"text-align: right;\">1.55338</td><td style = \"text-align: right;\">1.55392</td><td style = \"text-align: right;\">1.53218</td><td style = \"text-align: right;\">1.48875</td><td style = \"text-align: right;\">1.46694</td><td style = \"text-align: right;\">1.45669</td><td style = \"text-align: right;\">1.47129</td><td style = \"text-align: right;\">1.48591</td><td style = \"text-align: right;\">1.57232</td><td style = \"text-align: right;\">1.63949</td><td style = \"text-align: right;\">1.63516</td><td style = \"text-align: right;\">1.58809</td><td style = \"text-align: right;\">1.51374</td><td style = \"text-align: right;\">1.46829</td><td style = \"text-align: right;\">1.37922</td><td style = \"text-align: right;\">1.26011</td><td style = \"text-align: right;\">1.17412</td><td style = \"text-align: right;\">1.12646</td><td style = \"text-align: right;\">1.11057</td><td style = \"text-align: right;\">1.11425</td><td style = \"text-align: right;\">1.14151</td><td style = \"text-align: right;\">1.25516</td><td style = \"text-align: right;\">1.36759</td><td style = \"text-align: right;\">1.45238</td><td style = \"text-align: right;\">1.52336</td><td style = \"text-align: right;\">1.52098</td><td style = \"text-align: right;\">1.52801</td><td style = \"text-align: right;\">1.51139</td><td style = \"text-align: right;\">1.51271</td><td style = \"text-align: right;\">1.51358</td><td style = \"text-align: right;\">1.52449</td><td style = \"text-align: right;\">1.53442</td><td style = \"text-align: right;\">1.58182</td><td style = \"text-align: right;\">1.61785</td><td style = \"text-align: right;\">1.59167</td><td style = \"text-align: right;\">1.52642</td><td style = \"text-align: right;\">1.45826</td><td style = \"text-align: right;\">1.43254</td><td style = \"text-align: right;\">1.33536</td><td style = \"text-align: right;\">1.21968</td><td style = \"text-align: right;\">1.15093</td><td style = \"text-align: right;\">1.10673</td><td style = \"text-align: right;\">1.08018</td><td style = \"text-align: right;\">1.07372</td><td style = \"text-align: right;\">1.10321</td><td style = \"text-align: right;\">1.19584</td><td style = \"text-align: right;\">1.32098</td><td style = \"text-align: right;\">1.41412</td><td style = \"text-align: right;\">1.48685</td><td style = \"text-align: right;\">1.47159</td><td style = \"text-align: right;\">1.47905</td><td style = \"text-align: right;\">1.46417</td><td style = \"text-align: right;\">1.45375</td><td style = \"text-align: right;\">1.44228</td><td style = \"text-align: right;\">1.46285</td><td style = \"text-align: right;\">1.47501</td><td style = \"text-align: right;\">1.54374</td><td style = \"text-align: right;\">1.5998</td><td style = \"text-align: right;\">1.56841</td><td style = \"text-align: right;\">1.50165</td><td style = \"text-align: right;\">1.44789</td><td style = \"text-align: right;\">1.40852</td><td style = \"text-align: right;\">1.3283</td><td style = \"text-align: right;\">1.2189</td><td style = \"text-align: right;\">1.1405</td><td style = \"text-align: right;\">1.09921</td><td style = \"text-align: right;\">1.07686</td><td style = \"text-align: right;\">1.07496</td><td style = \"text-align: right;\">&ctdot;</td></tr><tr><td class = \"rowNumber\" style = \"font-weight: bold; text-align: right;\">2</td><td style = \"text-align: right;\">82</td><td style = \"text-align: right;\">0.933537</td><td style = \"text-align: right;\">0.910476</td><td style = \"text-align: right;\">0.925002</td><td style = \"text-align: right;\">0.960108</td><td style = \"text-align: right;\">1.05485</td><td style = \"text-align: right;\">1.16503</td><td style = \"text-align: right;\">1.25982</td><td style = \"text-align: right;\">1.31265</td><td style = \"text-align: right;\">1.29448</td><td style = \"text-align: right;\">1.27865</td><td style = \"text-align: right;\">1.23777</td><td style = \"text-align: right;\">1.21287</td><td style = \"text-align: right;\">1.20373</td><td style = \"text-align: right;\">1.21998</td><td style = \"text-align: right;\">1.26972</td><td style = \"text-align: right;\">1.36712</td><td style = \"text-align: right;\">1.44082</td><td style = \"text-align: right;\">1.44791</td><td style = \"text-align: right;\">1.3882</td><td style = \"text-align: right;\">1.33126</td><td style = \"text-align: right;\">1.29705</td><td style = \"text-align: right;\">1.20425</td><td style = \"text-align: right;\">1.1016</td><td style = \"text-align: right;\">1.02598</td><td style = \"text-align: right;\">0.98655</td><td style = \"text-align: right;\">0.974642</td><td style = \"text-align: right;\">0.983692</td><td style = \"text-align: right;\">1.0203</td><td style = \"text-align: right;\">1.13066</td><td style = \"text-align: right;\">1.2554</td><td style = \"text-align: right;\">1.35606</td><td style = \"text-align: right;\">1.38741</td><td style = \"text-align: right;\">1.37277</td><td style = \"text-align: right;\">1.35574</td><td style = \"text-align: right;\">1.33204</td><td style = \"text-align: right;\">1.31411</td><td style = \"text-align: right;\">1.30946</td><td style = \"text-align: right;\">1.32905</td><td style = \"text-align: right;\">1.36069</td><td style = \"text-align: right;\">1.44333</td><td style = \"text-align: right;\">1.50083</td><td style = \"text-align: right;\">1.49369</td><td style = \"text-align: right;\">1.43523</td><td style = \"text-align: right;\">1.37245</td><td style = \"text-align: right;\">1.34329</td><td style = \"text-align: right;\">1.25786</td><td style = \"text-align: right;\">1.15988</td><td style = \"text-align: right;\">1.0877</td><td style = \"text-align: right;\">1.06239</td><td style = \"text-align: right;\">1.0449</td><td style = \"text-align: right;\">1.05472</td><td style = \"text-align: right;\">1.08266</td><td style = \"text-align: right;\">1.18771</td><td style = \"text-align: right;\">1.31772</td><td style = \"text-align: right;\">1.40735</td><td style = \"text-align: right;\">1.45823</td><td style = \"text-align: right;\">1.44996</td><td style = \"text-align: right;\">1.4245</td><td style = \"text-align: right;\">1.39026</td><td style = \"text-align: right;\">1.36981</td><td style = \"text-align: right;\">1.34431</td><td style = \"text-align: right;\">1.3662</td><td style = \"text-align: right;\">1.4152</td><td style = \"text-align: right;\">1.51651</td><td style = \"text-align: right;\">1.57432</td><td style = \"text-align: right;\">1.55636</td><td style = \"text-align: right;\">1.48764</td><td style = \"text-align: right;\">1.43414</td><td style = \"text-align: right;\">1.39571</td><td style = \"text-align: right;\">1.31621</td><td style = \"text-align: right;\">1.2167</td><td style = \"text-align: right;\">1.15145</td><td style = \"text-align: right;\">1.11369</td><td style = \"text-align: right;\">1.0961</td><td style = \"text-align: right;\">1.10778</td><td style = \"text-align: right;\">1.13385</td><td style = \"text-align: right;\">1.22726</td><td style = \"text-align: right;\">1.35268</td><td style = \"text-align: right;\">1.43855</td><td style = \"text-align: right;\">1.48632</td><td style = \"text-align: right;\">1.47354</td><td style = \"text-align: right;\">1.45707</td><td style = \"text-align: right;\">1.42515</td><td style = \"text-align: right;\">1.42968</td><td style = \"text-align: right;\">1.39859</td><td style = \"text-align: right;\">1.41449</td><td style = \"text-align: right;\">1.4435</td><td style = \"text-align: right;\">1.52882</td><td style = \"text-align: right;\">1.60496</td><td style = \"text-align: right;\">1.59519</td><td style = \"text-align: right;\">1.53484</td><td style = \"text-align: right;\">1.47082</td><td style = \"text-align: right;\">1.43776</td><td style = \"text-align: right;\">1.35384</td><td style = \"text-align: right;\">1.21952</td><td style = \"text-align: right;\">1.15665</td><td style = \"text-align: right;\">1.11242</td><td style = \"text-align: right;\">1.09566</td><td style = \"text-align: right;\">1.0965</td><td style = \"text-align: right;\">&ctdot;</td></tr><tr><td class = \"rowNumber\" style = \"font-weight: bold; text-align: right;\">3</td><td style = \"text-align: right;\">83</td><td style = \"text-align: right;\">0.867103</td><td style = \"text-align: right;\">0.871388</td><td style = \"text-align: right;\">0.887594</td><td style = \"text-align: right;\">0.934847</td><td style = \"text-align: right;\">1.03289</td><td style = \"text-align: right;\">1.15492</td><td style = \"text-align: right;\">1.29417</td><td style = \"text-align: right;\">1.38025</td><td style = \"text-align: right;\">1.37758</td><td style = \"text-align: right;\">1.3446</td><td style = \"text-align: right;\">1.30762</td><td style = \"text-align: right;\">1.29106</td><td style = \"text-align: right;\">1.27524</td><td style = \"text-align: right;\">1.27567</td><td style = \"text-align: right;\">1.32708</td><td style = \"text-align: right;\">1.40379</td><td style = \"text-align: right;\">1.44205</td><td style = \"text-align: right;\">1.43922</td><td style = \"text-align: right;\">1.37918</td><td style = \"text-align: right;\">1.31347</td><td style = \"text-align: right;\">1.24057</td><td style = \"text-align: right;\">1.13432</td><td style = \"text-align: right;\">1.03283</td><td style = \"text-align: right;\">0.973265</td><td style = \"text-align: right;\">0.946528</td><td style = \"text-align: right;\">0.936659</td><td style = \"text-align: right;\">0.955834</td><td style = \"text-align: right;\">1.00069</td><td style = \"text-align: right;\">1.13585</td><td style = \"text-align: right;\">1.27458</td><td style = \"text-align: right;\">1.36207</td><td style = \"text-align: right;\">1.37961</td><td style = \"text-align: right;\">1.31653</td><td style = \"text-align: right;\">1.26312</td><td style = \"text-align: right;\">1.20615</td><td style = \"text-align: right;\">1.17798</td><td style = \"text-align: right;\">1.162</td><td style = \"text-align: right;\">1.17141</td><td style = \"text-align: right;\">1.20031</td><td style = \"text-align: right;\">1.30206</td><td style = \"text-align: right;\">1.3866</td><td style = \"text-align: right;\">1.38555</td><td style = \"text-align: right;\">1.35604</td><td style = \"text-align: right;\">1.28748</td><td style = \"text-align: right;\">1.2248</td><td style = \"text-align: right;\">1.11789</td><td style = \"text-align: right;\">1.06297</td><td style = \"text-align: right;\">1.00967</td><td style = \"text-align: right;\">0.983012</td><td style = \"text-align: right;\">0.973727</td><td style = \"text-align: right;\">0.985597</td><td style = \"text-align: right;\">1.0181</td><td style = \"text-align: right;\">1.13939</td><td style = \"text-align: right;\">1.25962</td><td style = \"text-align: right;\">1.34336</td><td style = \"text-align: right;\">1.36614</td><td style = \"text-align: right;\">1.31082</td><td style = \"text-align: right;\">1.28424</td><td style = \"text-align: right;\">1.23577</td><td style = \"text-align: right;\">1.21744</td><td style = \"text-align: right;\">1.2113</td><td style = \"text-align: right;\">1.22474</td><td style = \"text-align: right;\">1.26525</td><td style = \"text-align: right;\">1.33397</td><td style = \"text-align: right;\">1.38184</td><td style = \"text-align: right;\">1.35734</td><td style = \"text-align: right;\">1.30359</td><td style = \"text-align: right;\">1.23742</td><td style = \"text-align: right;\">1.2044</td><td style = \"text-align: right;\">1.11634</td><td style = \"text-align: right;\">1.0321</td><td style = \"text-align: right;\">0.975785</td><td style = \"text-align: right;\">0.944397</td><td style = \"text-align: right;\">0.926087</td><td style = \"text-align: right;\">0.938364</td><td style = \"text-align: right;\">0.976097</td><td style = \"text-align: right;\">1.06689</td><td style = \"text-align: right;\">1.18603</td><td style = \"text-align: right;\">1.26029</td><td style = \"text-align: right;\">1.27651</td><td style = \"text-align: right;\">1.21103</td><td style = \"text-align: right;\">1.16559</td><td style = \"text-align: right;\">1.12184</td><td style = \"text-align: right;\">1.11027</td><td style = \"text-align: right;\">1.0964</td><td style = \"text-align: right;\">1.10657</td><td style = \"text-align: right;\">1.13955</td><td style = \"text-align: right;\">1.24638</td><td style = \"text-align: right;\">1.32262</td><td style = \"text-align: right;\">1.28996</td><td style = \"text-align: right;\">1.24824</td><td style = \"text-align: right;\">1.1925</td><td style = \"text-align: right;\">1.16881</td><td style = \"text-align: right;\">1.11008</td><td style = \"text-align: right;\">0.966294</td><td style = \"text-align: right;\">0.921536</td><td style = \"text-align: right;\">0.894437</td><td style = \"text-align: right;\">0.875372</td><td style = \"text-align: right;\">0.885203</td><td style = \"text-align: right;\">&ctdot;</td></tr><tr><td class = \"rowNumber\" style = \"font-weight: bold; text-align: right;\">4</td><td style = \"text-align: right;\">84</td><td style = \"text-align: right;\">0.798439</td><td style = \"text-align: right;\">0.785086</td><td style = \"text-align: right;\">0.785474</td><td style = \"text-align: right;\">0.798889</td><td style = \"text-align: right;\">0.8276</td><td style = \"text-align: right;\">0.905052</td><td style = \"text-align: right;\">0.999134</td><td style = \"text-align: right;\">1.09612</td><td style = \"text-align: right;\">1.1229</td><td style = \"text-align: right;\">1.11367</td><td style = \"text-align: right;\">1.0836</td><td style = \"text-align: right;\">1.0563</td><td style = \"text-align: right;\">1.03366</td><td style = \"text-align: right;\">1.03628</td><td style = \"text-align: right;\">1.08386</td><td style = \"text-align: right;\">1.18209</td><td style = \"text-align: right;\">1.23162</td><td style = \"text-align: right;\">1.21938</td><td style = \"text-align: right;\">1.16374</td><td style = \"text-align: right;\">1.09299</td><td style = \"text-align: right;\">1.05526</td><td style = \"text-align: right;\">0.984559</td><td style = \"text-align: right;\">0.908005</td><td style = \"text-align: right;\">0.844014</td><td style = \"text-align: right;\">0.817389</td><td style = \"text-align: right;\">0.80362</td><td style = \"text-align: right;\">0.80814</td><td style = \"text-align: right;\">0.835429</td><td style = \"text-align: right;\">0.904441</td><td style = \"text-align: right;\">1.01226</td><td style = \"text-align: right;\">1.13212</td><td style = \"text-align: right;\">1.20414</td><td style = \"text-align: right;\">1.20532</td><td style = \"text-align: right;\">1.18233</td><td style = \"text-align: right;\">1.15835</td><td style = \"text-align: right;\">1.14131</td><td style = \"text-align: right;\">1.11586</td><td style = \"text-align: right;\">1.12052</td><td style = \"text-align: right;\">1.1399</td><td style = \"text-align: right;\">1.21967</td><td style = \"text-align: right;\">1.26368</td><td style = \"text-align: right;\">1.24594</td><td style = \"text-align: right;\">1.19577</td><td style = \"text-align: right;\">1.13278</td><td style = \"text-align: right;\">1.10189</td><td style = \"text-align: right;\">1.03091</td><td style = \"text-align: right;\">0.94543</td><td style = \"text-align: right;\">0.882875</td><td style = \"text-align: right;\">0.852449</td><td style = \"text-align: right;\">0.829925</td><td style = \"text-align: right;\">0.834052</td><td style = \"text-align: right;\">0.856704</td><td style = \"text-align: right;\">0.929421</td><td style = \"text-align: right;\">1.02438</td><td style = \"text-align: right;\">1.15197</td><td style = \"text-align: right;\">1.23932</td><td style = \"text-align: right;\">1.23458</td><td style = \"text-align: right;\">1.21177</td><td style = \"text-align: right;\">1.1664</td><td style = \"text-align: right;\">1.12684</td><td style = \"text-align: right;\">1.0867</td><td style = \"text-align: right;\">1.08699</td><td style = \"text-align: right;\">1.12511</td><td style = \"text-align: right;\">1.22177</td><td style = \"text-align: right;\">1.269</td><td style = \"text-align: right;\">1.24573</td><td style = \"text-align: right;\">1.17944</td><td style = \"text-align: right;\">1.12506</td><td style = \"text-align: right;\">1.10107</td><td style = \"text-align: right;\">1.03771</td><td style = \"text-align: right;\">0.959054</td><td style = \"text-align: right;\">0.883341</td><td style = \"text-align: right;\">0.861449</td><td style = \"text-align: right;\">0.843589</td><td style = \"text-align: right;\">0.842976</td><td style = \"text-align: right;\">0.866519</td><td style = \"text-align: right;\">0.922584</td><td style = \"text-align: right;\">1.01492</td><td style = \"text-align: right;\">1.11678</td><td style = \"text-align: right;\">1.19183</td><td style = \"text-align: right;\">1.20602</td><td style = \"text-align: right;\">1.22689</td><td style = \"text-align: right;\">1.21373</td><td style = \"text-align: right;\">1.21241</td><td style = \"text-align: right;\">1.18955</td><td style = \"text-align: right;\">1.19948</td><td style = \"text-align: right;\">1.2195</td><td style = \"text-align: right;\">1.26632</td><td style = \"text-align: right;\">1.30077</td><td style = \"text-align: right;\">1.26985</td><td style = \"text-align: right;\">1.20016</td><td style = \"text-align: right;\">1.13891</td><td style = \"text-align: right;\">1.12235</td><td style = \"text-align: right;\">1.08162</td><td style = \"text-align: right;\">1.01903</td><td style = \"text-align: right;\">0.962322</td><td style = \"text-align: right;\">0.920069</td><td style = \"text-align: right;\">0.889315</td><td style = \"text-align: right;\">0.879058</td><td style = \"text-align: right;\">&ctdot;</td></tr><tr><td class = \"rowNumber\" style = \"font-weight: bold; text-align: right;\">5</td><td style = \"text-align: right;\">85</td><td style = \"text-align: right;\">0.8401</td><td style = \"text-align: right;\">0.805474</td><td style = \"text-align: right;\">0.793918</td><td style = \"text-align: right;\">0.782738</td><td style = \"text-align: right;\">0.771327</td><td style = \"text-align: right;\">0.778645</td><td style = \"text-align: right;\">0.826011</td><td style = \"text-align: right;\">0.892376</td><td style = \"text-align: right;\">0.916059</td><td style = \"text-align: right;\">0.914862</td><td style = \"text-align: right;\">0.88261</td><td style = \"text-align: right;\">0.835549</td><td style = \"text-align: right;\">0.814536</td><td style = \"text-align: right;\">0.827554</td><td style = \"text-align: right;\">0.896757</td><td style = \"text-align: right;\">1.05517</td><td style = \"text-align: right;\">1.12872</td><td style = \"text-align: right;\">1.13292</td><td style = \"text-align: right;\">1.09642</td><td style = \"text-align: right;\">1.04388</td><td style = \"text-align: right;\">1.02423</td><td style = \"text-align: right;\">0.957473</td><td style = \"text-align: right;\">0.870031</td><td style = \"text-align: right;\">0.79905</td><td style = \"text-align: right;\">0.774538</td><td style = \"text-align: right;\">0.769243</td><td style = \"text-align: right;\">0.773626</td><td style = \"text-align: right;\">0.809567</td><td style = \"text-align: right;\">0.904597</td><td style = \"text-align: right;\">1.01785</td><td style = \"text-align: right;\">1.13893</td><td style = \"text-align: right;\">1.21006</td><td style = \"text-align: right;\">1.21797</td><td style = \"text-align: right;\">1.20818</td><td style = \"text-align: right;\">1.16746</td><td style = \"text-align: right;\">1.1543</td><td style = \"text-align: right;\">1.13752</td><td style = \"text-align: right;\">1.15193</td><td style = \"text-align: right;\">1.18724</td><td style = \"text-align: right;\">1.26926</td><td style = \"text-align: right;\">1.309</td><td style = \"text-align: right;\">1.29143</td><td style = \"text-align: right;\">1.24341</td><td style = \"text-align: right;\">1.19459</td><td style = \"text-align: right;\">1.1653</td><td style = \"text-align: right;\">1.11224</td><td style = \"text-align: right;\">0.983828</td><td style = \"text-align: right;\">0.920235</td><td style = \"text-align: right;\">0.896496</td><td style = \"text-align: right;\">0.877221</td><td style = \"text-align: right;\">0.886746</td><td style = \"text-align: right;\">0.913725</td><td style = \"text-align: right;\">1.01747</td><td style = \"text-align: right;\">1.1375</td><td style = \"text-align: right;\">1.2357</td><td style = \"text-align: right;\">1.28856</td><td style = \"text-align: right;\">1.26855</td><td style = \"text-align: right;\">1.24072</td><td style = \"text-align: right;\">1.19764</td><td style = \"text-align: right;\">1.16984</td><td style = \"text-align: right;\">1.13093</td><td style = \"text-align: right;\">1.14016</td><td style = \"text-align: right;\">1.18634</td><td style = \"text-align: right;\">1.30037</td><td style = \"text-align: right;\">1.38905</td><td style = \"text-align: right;\">1.38154</td><td style = \"text-align: right;\">1.323</td><td style = \"text-align: right;\">1.27236</td><td style = \"text-align: right;\">1.23581</td><td style = \"text-align: right;\">1.15366</td><td style = \"text-align: right;\">1.05109</td><td style = \"text-align: right;\">0.985017</td><td style = \"text-align: right;\">0.951405</td><td style = \"text-align: right;\">0.940417</td><td style = \"text-align: right;\">0.952342</td><td style = \"text-align: right;\">0.982999</td><td style = \"text-align: right;\">1.08544</td><td style = \"text-align: right;\">1.20898</td><td style = \"text-align: right;\">1.30225</td><td style = \"text-align: right;\">1.33959</td><td style = \"text-align: right;\">1.3189</td><td style = \"text-align: right;\">1.28846</td><td style = \"text-align: right;\">1.24209</td><td style = \"text-align: right;\">1.22919</td><td style = \"text-align: right;\">1.19744</td><td style = \"text-align: right;\">1.20043</td><td style = \"text-align: right;\">1.23937</td><td style = \"text-align: right;\">1.3418</td><td style = \"text-align: right;\">1.42291</td><td style = \"text-align: right;\">1.41793</td><td style = \"text-align: right;\">1.37235</td><td style = \"text-align: right;\">1.31781</td><td style = \"text-align: right;\">1.27896</td><td style = \"text-align: right;\">1.18309</td><td style = \"text-align: right;\">1.09365</td><td style = \"text-align: right;\">1.04067</td><td style = \"text-align: right;\">1.00244</td><td style = \"text-align: right;\">0.992848</td><td style = \"text-align: right;\">0.986287</td><td style = \"text-align: right;\">&ctdot;</td></tr><tr><td class = \"rowNumber\" style = \"font-weight: bold; text-align: right;\">6</td><td style = \"text-align: right;\">86</td><td style = \"text-align: right;\">0.733483</td><td style = \"text-align: right;\">0.710304</td><td style = \"text-align: right;\">0.695572</td><td style = \"text-align: right;\">0.698443</td><td style = \"text-align: right;\">0.711916</td><td style = \"text-align: right;\">0.742373</td><td style = \"text-align: right;\">0.813142</td><td style = \"text-align: right;\">0.855503</td><td style = \"text-align: right;\">0.856569</td><td style = \"text-align: right;\">0.847752</td><td style = \"text-align: right;\">0.831385</td><td style = \"text-align: right;\">0.793115</td><td style = \"text-align: right;\">0.767657</td><td style = \"text-align: right;\">0.777944</td><td style = \"text-align: right;\">0.835135</td><td style = \"text-align: right;\">0.957795</td><td style = \"text-align: right;\">1.01588</td><td style = \"text-align: right;\">1.00182</td><td style = \"text-align: right;\">0.974995</td><td style = \"text-align: right;\">0.9374</td><td style = \"text-align: right;\">0.890325</td><td style = \"text-align: right;\">0.811934</td><td style = \"text-align: right;\">0.742003</td><td style = \"text-align: right;\">0.709222</td><td style = \"text-align: right;\">0.691892</td><td style = \"text-align: right;\">0.690567</td><td style = \"text-align: right;\">0.699888</td><td style = \"text-align: right;\">0.738542</td><td style = \"text-align: right;\">0.843289</td><td style = \"text-align: right;\">0.964082</td><td style = \"text-align: right;\">1.07943</td><td style = \"text-align: right;\">1.12286</td><td style = \"text-align: right;\">1.08594</td><td style = \"text-align: right;\">1.04929</td><td style = \"text-align: right;\">0.994047</td><td style = \"text-align: right;\">0.972291</td><td style = \"text-align: right;\">0.946718</td><td style = \"text-align: right;\">0.952313</td><td style = \"text-align: right;\">0.997767</td><td style = \"text-align: right;\">1.08825</td><td style = \"text-align: right;\">1.1535</td><td style = \"text-align: right;\">1.13853</td><td style = \"text-align: right;\">1.09471</td><td style = \"text-align: right;\">1.05027</td><td style = \"text-align: right;\">1.00467</td><td style = \"text-align: right;\">0.960156</td><td style = \"text-align: right;\">0.852846</td><td style = \"text-align: right;\">0.81014</td><td style = \"text-align: right;\">0.791159</td><td style = \"text-align: right;\">0.788253</td><td style = \"text-align: right;\">0.796631</td><td style = \"text-align: right;\">0.834305</td><td style = \"text-align: right;\">0.961345</td><td style = \"text-align: right;\">1.09482</td><td style = \"text-align: right;\">1.1899</td><td style = \"text-align: right;\">1.21208</td><td style = \"text-align: right;\">1.17223</td><td style = \"text-align: right;\">1.13739</td><td style = \"text-align: right;\">1.09608</td><td style = \"text-align: right;\">1.0735</td><td style = \"text-align: right;\">1.04858</td><td style = \"text-align: right;\">1.05938</td><td style = \"text-align: right;\">1.09308</td><td style = \"text-align: right;\">1.18806</td><td style = \"text-align: right;\">1.25849</td><td style = \"text-align: right;\">1.24107</td><td style = \"text-align: right;\">1.18764</td><td style = \"text-align: right;\">1.13028</td><td style = \"text-align: right;\">1.07051</td><td style = \"text-align: right;\">0.978088</td><td style = \"text-align: right;\">0.885307</td><td style = \"text-align: right;\">0.836887</td><td style = \"text-align: right;\">0.8125</td><td style = \"text-align: right;\">0.808741</td><td style = \"text-align: right;\">0.824274</td><td style = \"text-align: right;\">0.868934</td><td style = \"text-align: right;\">0.98803</td><td style = \"text-align: right;\">1.13706</td><td style = \"text-align: right;\">1.21684</td><td style = \"text-align: right;\">1.21851</td><td style = \"text-align: right;\">1.14905</td><td style = \"text-align: right;\">1.07538</td><td style = \"text-align: right;\">1.01963</td><td style = \"text-align: right;\">1.00015</td><td style = \"text-align: right;\">0.98971</td><td style = \"text-align: right;\">0.990463</td><td style = \"text-align: right;\">1.03151</td><td style = \"text-align: right;\">1.15223</td><td style = \"text-align: right;\">1.23925</td><td style = \"text-align: right;\">1.21379</td><td style = \"text-align: right;\">1.1725</td><td style = \"text-align: right;\">1.12091</td><td style = \"text-align: right;\">1.06601</td><td style = \"text-align: right;\">0.95523</td><td style = \"text-align: right;\">0.837603</td><td style = \"text-align: right;\">0.792309</td><td style = \"text-align: right;\">0.77384</td><td style = \"text-align: right;\">0.777908</td><td style = \"text-align: right;\">0.792107</td><td style = \"text-align: right;\">&ctdot;</td></tr><tr><td class = \"rowNumber\" style = \"font-weight: bold; text-align: right;\">7</td><td style = \"text-align: right;\">87</td><td style = \"text-align: right;\">0.92908</td><td style = \"text-align: right;\">0.919089</td><td style = \"text-align: right;\">0.912357</td><td style = \"text-align: right;\">0.937145</td><td style = \"text-align: right;\">1.00689</td><td style = \"text-align: right;\">1.09691</td><td style = \"text-align: right;\">1.19277</td><td style = \"text-align: right;\">1.26284</td><td style = \"text-align: right;\">1.27806</td><td style = \"text-align: right;\">1.26848</td><td style = \"text-align: right;\">1.25027</td><td style = \"text-align: right;\">1.23965</td><td style = \"text-align: right;\">1.22437</td><td style = \"text-align: right;\">1.22264</td><td style = \"text-align: right;\">1.25431</td><td style = \"text-align: right;\">1.32238</td><td style = \"text-align: right;\">1.36112</td><td style = \"text-align: right;\">1.33836</td><td style = \"text-align: right;\">1.28827</td><td style = \"text-align: right;\">1.232</td><td style = \"text-align: right;\">1.18587</td><td style = \"text-align: right;\">1.10414</td><td style = \"text-align: right;\">1.02655</td><td style = \"text-align: right;\">0.978137</td><td style = \"text-align: right;\">0.953914</td><td style = \"text-align: right;\">0.944723</td><td style = \"text-align: right;\">0.952679</td><td style = \"text-align: right;\">0.987956</td><td style = \"text-align: right;\">1.08814</td><td style = \"text-align: right;\">1.20322</td><td style = \"text-align: right;\">1.3015</td><td style = \"text-align: right;\">1.35061</td><td style = \"text-align: right;\">1.32401</td><td style = \"text-align: right;\">1.28458</td><td style = \"text-align: right;\">1.23733</td><td style = \"text-align: right;\">1.21133</td><td style = \"text-align: right;\">1.19287</td><td style = \"text-align: right;\">1.19399</td><td style = \"text-align: right;\">1.22156</td><td style = \"text-align: right;\">1.30699</td><td style = \"text-align: right;\">1.37588</td><td style = \"text-align: right;\">1.36666</td><td style = \"text-align: right;\">1.32365</td><td style = \"text-align: right;\">1.26275</td><td style = \"text-align: right;\">1.21017</td><td style = \"text-align: right;\">1.14341</td><td style = \"text-align: right;\">1.04272</td><td style = \"text-align: right;\">0.987069</td><td style = \"text-align: right;\">0.953058</td><td style = \"text-align: right;\">0.948143</td><td style = \"text-align: right;\">0.95371</td><td style = \"text-align: right;\">0.990351</td><td style = \"text-align: right;\">1.09891</td><td style = \"text-align: right;\">1.21523</td><td style = \"text-align: right;\">1.30887</td><td style = \"text-align: right;\">1.35267</td><td style = \"text-align: right;\">1.32557</td><td style = \"text-align: right;\">1.30184</td><td style = \"text-align: right;\">1.26503</td><td style = \"text-align: right;\">1.24959</td><td style = \"text-align: right;\">1.24361</td><td style = \"text-align: right;\">1.24372</td><td style = \"text-align: right;\">1.26117</td><td style = \"text-align: right;\">1.32294</td><td style = \"text-align: right;\">1.36389</td><td style = \"text-align: right;\">1.34421</td><td style = \"text-align: right;\">1.29207</td><td style = \"text-align: right;\">1.22913</td><td style = \"text-align: right;\">1.18458</td><td style = \"text-align: right;\">1.09956</td><td style = \"text-align: right;\">1.01048</td><td style = \"text-align: right;\">0.948793</td><td style = \"text-align: right;\">0.923008</td><td style = \"text-align: right;\">0.912927</td><td style = \"text-align: right;\">0.91457</td><td style = \"text-align: right;\">0.949163</td><td style = \"text-align: right;\">1.04997</td><td style = \"text-align: right;\">1.16873</td><td style = \"text-align: right;\">1.25531</td><td style = \"text-align: right;\">1.30072</td><td style = \"text-align: right;\">1.27502</td><td style = \"text-align: right;\">1.25966</td><td style = \"text-align: right;\">1.23356</td><td style = \"text-align: right;\">1.22132</td><td style = \"text-align: right;\">1.22008</td><td style = \"text-align: right;\">1.22547</td><td style = \"text-align: right;\">1.24201</td><td style = \"text-align: right;\">1.29991</td><td style = \"text-align: right;\">1.34364</td><td style = \"text-align: right;\">1.31438</td><td style = \"text-align: right;\">1.25646</td><td style = \"text-align: right;\">1.2006</td><td style = \"text-align: right;\">1.1562</td><td style = \"text-align: right;\">1.08011</td><td style = \"text-align: right;\">0.996997</td><td style = \"text-align: right;\">0.937623</td><td style = \"text-align: right;\">0.918062</td><td style = \"text-align: right;\">0.908963</td><td style = \"text-align: right;\">0.918728</td><td style = \"text-align: right;\">&ctdot;</td></tr><tr><td class = \"rowNumber\" style = \"font-weight: bold; text-align: right;\">8</td><td style = \"text-align: right;\">88</td><td style = \"text-align: right;\">0.955082</td><td style = \"text-align: right;\">0.958165</td><td style = \"text-align: right;\">0.985505</td><td style = \"text-align: right;\">1.04787</td><td style = \"text-align: right;\">1.18051</td><td style = \"text-align: right;\">1.33646</td><td style = \"text-align: right;\">1.48684</td><td style = \"text-align: right;\">1.5551</td><td style = \"text-align: right;\">1.52907</td><td style = \"text-align: right;\">1.49427</td><td style = \"text-align: right;\">1.45443</td><td style = \"text-align: right;\">1.44736</td><td style = \"text-align: right;\">1.44139</td><td style = \"text-align: right;\">1.44714</td><td style = \"text-align: right;\">1.48624</td><td style = \"text-align: right;\">1.5357</td><td style = \"text-align: right;\">1.57764</td><td style = \"text-align: right;\">1.56364</td><td style = \"text-align: right;\">1.50448</td><td style = \"text-align: right;\">1.43922</td><td style = \"text-align: right;\">1.3764</td><td style = \"text-align: right;\">1.27777</td><td style = \"text-align: right;\">1.18583</td><td style = \"text-align: right;\">1.12592</td><td style = \"text-align: right;\">1.09431</td><td style = \"text-align: right;\">1.08259</td><td style = \"text-align: right;\">1.09783</td><td style = \"text-align: right;\">1.14209</td><td style = \"text-align: right;\">1.27037</td><td style = \"text-align: right;\">1.40871</td><td style = \"text-align: right;\">1.49836</td><td style = \"text-align: right;\">1.50976</td><td style = \"text-align: right;\">1.44694</td><td style = \"text-align: right;\">1.39496</td><td style = \"text-align: right;\">1.35375</td><td style = \"text-align: right;\">1.3225</td><td style = \"text-align: right;\">1.313</td><td style = \"text-align: right;\">1.32252</td><td style = \"text-align: right;\">1.3562</td><td style = \"text-align: right;\">1.44737</td><td style = \"text-align: right;\">1.53107</td><td style = \"text-align: right;\">1.52853</td><td style = \"text-align: right;\">1.47901</td><td style = \"text-align: right;\">1.41023</td><td style = \"text-align: right;\">1.35293</td><td style = \"text-align: right;\">1.24288</td><td style = \"text-align: right;\">1.1872</td><td style = \"text-align: right;\">1.13424</td><td style = \"text-align: right;\">1.10599</td><td style = \"text-align: right;\">1.10049</td><td style = \"text-align: right;\">1.11109</td><td style = \"text-align: right;\">1.14908</td><td style = \"text-align: right;\">1.26023</td><td style = \"text-align: right;\">1.3897</td><td style = \"text-align: right;\">1.47737</td><td style = \"text-align: right;\">1.49848</td><td style = \"text-align: right;\">1.45984</td><td style = \"text-align: right;\">1.42796</td><td style = \"text-align: right;\">1.38829</td><td style = \"text-align: right;\">1.36995</td><td style = \"text-align: right;\">1.36648</td><td style = \"text-align: right;\">1.38</td><td style = \"text-align: right;\">1.41654</td><td style = \"text-align: right;\">1.48522</td><td style = \"text-align: right;\">1.5225</td><td style = \"text-align: right;\">1.50102</td><td style = \"text-align: right;\">1.44403</td><td style = \"text-align: right;\">1.3799</td><td style = \"text-align: right;\">1.33465</td><td style = \"text-align: right;\">1.24849</td><td style = \"text-align: right;\">1.16495</td><td style = \"text-align: right;\">1.10747</td><td style = \"text-align: right;\">1.0773</td><td style = \"text-align: right;\">1.06368</td><td style = \"text-align: right;\">1.07582</td><td style = \"text-align: right;\">1.10824</td><td style = \"text-align: right;\">1.2038</td><td style = \"text-align: right;\">1.3203</td><td style = \"text-align: right;\">1.40446</td><td style = \"text-align: right;\">1.43667</td><td style = \"text-align: right;\">1.39862</td><td style = \"text-align: right;\">1.3677</td><td style = \"text-align: right;\">1.33577</td><td style = \"text-align: right;\">1.33486</td><td style = \"text-align: right;\">1.32662</td><td style = \"text-align: right;\">1.34045</td><td style = \"text-align: right;\">1.36405</td><td style = \"text-align: right;\">1.43173</td><td style = \"text-align: right;\">1.48878</td><td style = \"text-align: right;\">1.46619</td><td style = \"text-align: right;\">1.40807</td><td style = \"text-align: right;\">1.34474</td><td style = \"text-align: right;\">1.31485</td><td style = \"text-align: right;\">1.25129</td><td style = \"text-align: right;\">1.10541</td><td style = \"text-align: right;\">1.04696</td><td style = \"text-align: right;\">1.02063</td><td style = \"text-align: right;\">0.999663</td><td style = \"text-align: right;\">1.0104</td><td style = \"text-align: right;\">&ctdot;</td></tr><tr><td class = \"rowNumber\" style = \"font-weight: bold; text-align: right;\">9</td><td style = \"text-align: right;\">89</td><td style = \"text-align: right;\">1.05564</td><td style = \"text-align: right;\">1.04208</td><td style = \"text-align: right;\">1.03689</td><td style = \"text-align: right;\">1.0604</td><td style = \"text-align: right;\">1.14661</td><td style = \"text-align: right;\">1.2542</td><td style = \"text-align: right;\">1.3265</td><td style = \"text-align: right;\">1.39249</td><td style = \"text-align: right;\">1.40744</td><td style = \"text-align: right;\">1.39939</td><td style = \"text-align: right;\">1.37729</td><td style = \"text-align: right;\">1.35362</td><td style = \"text-align: right;\">1.33353</td><td style = \"text-align: right;\">1.34698</td><td style = \"text-align: right;\">1.39288</td><td style = \"text-align: right;\">1.48907</td><td style = \"text-align: right;\">1.56367</td><td style = \"text-align: right;\">1.5579</td><td style = \"text-align: right;\">1.4887</td><td style = \"text-align: right;\">1.42602</td><td style = \"text-align: right;\">1.39641</td><td style = \"text-align: right;\">1.30137</td><td style = \"text-align: right;\">1.19403</td><td style = \"text-align: right;\">1.12062</td><td style = \"text-align: right;\">1.0788</td><td style = \"text-align: right;\">1.05935</td><td style = \"text-align: right;\">1.07046</td><td style = \"text-align: right;\">1.10127</td><td style = \"text-align: right;\">1.19716</td><td style = \"text-align: right;\">1.3152</td><td style = \"text-align: right;\">1.41539</td><td style = \"text-align: right;\">1.46888</td><td style = \"text-align: right;\">1.47493</td><td style = \"text-align: right;\">1.45773</td><td style = \"text-align: right;\">1.42388</td><td style = \"text-align: right;\">1.40463</td><td style = \"text-align: right;\">1.39044</td><td style = \"text-align: right;\">1.40548</td><td style = \"text-align: right;\">1.42277</td><td style = \"text-align: right;\">1.50548</td><td style = \"text-align: right;\">1.56376</td><td style = \"text-align: right;\">1.55441</td><td style = \"text-align: right;\">1.49984</td><td style = \"text-align: right;\">1.42893</td><td style = \"text-align: right;\">1.39264</td><td style = \"text-align: right;\">1.30878</td><td style = \"text-align: right;\">1.19461</td><td style = \"text-align: right;\">1.11153</td><td style = \"text-align: right;\">1.06798</td><td style = \"text-align: right;\">1.04869</td><td style = \"text-align: right;\">1.05169</td><td style = \"text-align: right;\">1.07648</td><td style = \"text-align: right;\">1.17851</td><td style = \"text-align: right;\">1.28873</td><td style = \"text-align: right;\">1.38851</td><td style = \"text-align: right;\">1.46925</td><td style = \"text-align: right;\">1.47555</td><td style = \"text-align: right;\">1.47859</td><td style = \"text-align: right;\">1.4602</td><td style = \"text-align: right;\">1.45102</td><td style = \"text-align: right;\">1.43703</td><td style = \"text-align: right;\">1.44897</td><td style = \"text-align: right;\">1.46654</td><td style = \"text-align: right;\">1.53129</td><td style = \"text-align: right;\">1.57074</td><td style = \"text-align: right;\">1.54371</td><td style = \"text-align: right;\">1.47317</td><td style = \"text-align: right;\">1.40931</td><td style = \"text-align: right;\">1.38278</td><td style = \"text-align: right;\">1.29244</td><td style = \"text-align: right;\">1.18184</td><td style = \"text-align: right;\">1.1116</td><td style = \"text-align: right;\">1.07113</td><td style = \"text-align: right;\">1.04545</td><td style = \"text-align: right;\">1.04064</td><td style = \"text-align: right;\">1.06788</td><td style = \"text-align: right;\">1.14959</td><td style = \"text-align: right;\">1.27127</td><td style = \"text-align: right;\">1.37084</td><td style = \"text-align: right;\">1.44784</td><td style = \"text-align: right;\">1.44312</td><td style = \"text-align: right;\">1.45376</td><td style = \"text-align: right;\">1.44085</td><td style = \"text-align: right;\">1.43491</td><td style = \"text-align: right;\">1.41804</td><td style = \"text-align: right;\">1.43951</td><td style = \"text-align: right;\">1.45488</td><td style = \"text-align: right;\">1.52077</td><td style = \"text-align: right;\">1.57503</td><td style = \"text-align: right;\">1.54415</td><td style = \"text-align: right;\">1.47212</td><td style = \"text-align: right;\">1.41566</td><td style = \"text-align: right;\">1.38125</td><td style = \"text-align: right;\">1.30529</td><td style = \"text-align: right;\">1.19807</td><td style = \"text-align: right;\">1.12072</td><td style = \"text-align: right;\">1.07407</td><td style = \"text-align: right;\">1.04719</td><td style = \"text-align: right;\">1.04062</td><td style = \"text-align: right;\">&ctdot;</td></tr><tr><td class = \"rowNumber\" style = \"font-weight: bold; text-align: right;\">10</td><td style = \"text-align: right;\">90</td><td style = \"text-align: right;\">1.03456</td><td style = \"text-align: right;\">1.01863</td><td style = \"text-align: right;\">1.03112</td><td style = \"text-align: right;\">1.07418</td><td style = \"text-align: right;\">1.1904</td><td style = \"text-align: right;\">1.31651</td><td style = \"text-align: right;\">1.42421</td><td style = \"text-align: right;\">1.47911</td><td style = \"text-align: right;\">1.4666</td><td style = \"text-align: right;\">1.45573</td><td style = \"text-align: right;\">1.42395</td><td style = \"text-align: right;\">1.42098</td><td style = \"text-align: right;\">1.42021</td><td style = \"text-align: right;\">1.42498</td><td style = \"text-align: right;\">1.44973</td><td style = \"text-align: right;\">1.50088</td><td style = \"text-align: right;\">1.54806</td><td style = \"text-align: right;\">1.53339</td><td style = \"text-align: right;\">1.47803</td><td style = \"text-align: right;\">1.418</td><td style = \"text-align: right;\">1.38204</td><td style = \"text-align: right;\">1.29897</td><td style = \"text-align: right;\">1.21035</td><td style = \"text-align: right;\">1.14448</td><td style = \"text-align: right;\">1.11212</td><td style = \"text-align: right;\">1.10243</td><td style = \"text-align: right;\">1.10816</td><td style = \"text-align: right;\">1.14678</td><td style = \"text-align: right;\">1.25854</td><td style = \"text-align: right;\">1.38049</td><td style = \"text-align: right;\">1.47415</td><td style = \"text-align: right;\">1.51042</td><td style = \"text-align: right;\">1.48631</td><td style = \"text-align: right;\">1.45569</td><td style = \"text-align: right;\">1.42403</td><td style = \"text-align: right;\">1.39917</td><td style = \"text-align: right;\">1.39374</td><td style = \"text-align: right;\">1.40287</td><td style = \"text-align: right;\">1.4342</td><td style = \"text-align: right;\">1.51384</td><td style = \"text-align: right;\">1.58065</td><td style = \"text-align: right;\">1.57175</td><td style = \"text-align: right;\">1.514</td><td style = \"text-align: right;\">1.45202</td><td style = \"text-align: right;\">1.40966</td><td style = \"text-align: right;\">1.32825</td><td style = \"text-align: right;\">1.22463</td><td style = \"text-align: right;\">1.16166</td><td style = \"text-align: right;\">1.13077</td><td style = \"text-align: right;\">1.12372</td><td style = \"text-align: right;\">1.13185</td><td style = \"text-align: right;\">1.17095</td><td style = \"text-align: right;\">1.27844</td><td style = \"text-align: right;\">1.41089</td><td style = \"text-align: right;\">1.49616</td><td style = \"text-align: right;\">1.52969</td><td style = \"text-align: right;\">1.50929</td><td style = \"text-align: right;\">1.47448</td><td style = \"text-align: right;\">1.43722</td><td style = \"text-align: right;\">1.42134</td><td style = \"text-align: right;\">1.41384</td><td style = \"text-align: right;\">1.42022</td><td style = \"text-align: right;\">1.45065</td><td style = \"text-align: right;\">1.52956</td><td style = \"text-align: right;\">1.58077</td><td style = \"text-align: right;\">1.57104</td><td style = \"text-align: right;\">1.51538</td><td style = \"text-align: right;\">1.45798</td><td style = \"text-align: right;\">1.40748</td><td style = \"text-align: right;\">1.32308</td><td style = \"text-align: right;\">1.228</td><td style = \"text-align: right;\">1.16242</td><td style = \"text-align: right;\">1.1316</td><td style = \"text-align: right;\">1.12289</td><td style = \"text-align: right;\">1.13075</td><td style = \"text-align: right;\">1.15886</td><td style = \"text-align: right;\">1.27317</td><td style = \"text-align: right;\">1.39282</td><td style = \"text-align: right;\">1.48228</td><td style = \"text-align: right;\">1.53303</td><td style = \"text-align: right;\">1.52555</td><td style = \"text-align: right;\">1.51432</td><td style = \"text-align: right;\">1.48592</td><td style = \"text-align: right;\">1.4828</td><td style = \"text-align: right;\">1.4705</td><td style = \"text-align: right;\">1.47738</td><td style = \"text-align: right;\">1.49497</td><td style = \"text-align: right;\">1.54132</td><td style = \"text-align: right;\">1.59029</td><td style = \"text-align: right;\">1.58349</td><td style = \"text-align: right;\">1.52052</td><td style = \"text-align: right;\">1.45739</td><td style = \"text-align: right;\">1.41077</td><td style = \"text-align: right;\">1.32596</td><td style = \"text-align: right;\">1.22746</td><td style = \"text-align: right;\">1.16032</td><td style = \"text-align: right;\">1.13446</td><td style = \"text-align: right;\">1.12569</td><td style = \"text-align: right;\">1.13438</td><td style = \"text-align: right;\">&ctdot;</td></tr><tr><td class = \"rowNumber\" style = \"font-weight: bold; text-align: right;\">11</td><td style = \"text-align: right;\">91</td><td style = \"text-align: right;\">0.951279</td><td style = \"text-align: right;\">0.91725</td><td style = \"text-align: right;\">0.912524</td><td style = \"text-align: right;\">0.924708</td><td style = \"text-align: right;\">0.991293</td><td style = \"text-align: right;\">1.04963</td><td style = \"text-align: right;\">1.11014</td><td style = \"text-align: right;\">1.1511</td><td style = \"text-align: right;\">1.15098</td><td style = \"text-align: right;\">1.15829</td><td style = \"text-align: right;\">1.13228</td><td style = \"text-align: right;\">1.11043</td><td style = \"text-align: right;\">1.10252</td><td style = \"text-align: right;\">1.11075</td><td style = \"text-align: right;\">1.15007</td><td style = \"text-align: right;\">1.25132</td><td style = \"text-align: right;\">1.3112</td><td style = \"text-align: right;\">1.31761</td><td style = \"text-align: right;\">1.27351</td><td style = \"text-align: right;\">1.22354</td><td style = \"text-align: right;\">1.19384</td><td style = \"text-align: right;\">1.10832</td><td style = \"text-align: right;\">1.00363</td><td style = \"text-align: right;\">0.935271</td><td style = \"text-align: right;\">0.9084</td><td style = \"text-align: right;\">0.906484</td><td style = \"text-align: right;\">0.912421</td><td style = \"text-align: right;\">0.953854</td><td style = \"text-align: right;\">1.07958</td><td style = \"text-align: right;\">1.2038</td><td style = \"text-align: right;\">1.3027</td><td style = \"text-align: right;\">1.34966</td><td style = \"text-align: right;\">1.3404</td><td style = \"text-align: right;\">1.32431</td><td style = \"text-align: right;\">1.27766</td><td style = \"text-align: right;\">1.26284</td><td style = \"text-align: right;\">1.25273</td><td style = \"text-align: right;\">1.26863</td><td style = \"text-align: right;\">1.3048</td><td style = \"text-align: right;\">1.39296</td><td style = \"text-align: right;\">1.45209</td><td style = \"text-align: right;\">1.4361</td><td style = \"text-align: right;\">1.39023</td><td style = \"text-align: right;\">1.34164</td><td style = \"text-align: right;\">1.30891</td><td style = \"text-align: right;\">1.25037</td><td style = \"text-align: right;\">1.11107</td><td style = \"text-align: right;\">1.04506</td><td style = \"text-align: right;\">1.0236</td><td style = \"text-align: right;\">1.012</td><td style = \"text-align: right;\">1.02271</td><td style = \"text-align: right;\">1.05989</td><td style = \"text-align: right;\">1.19598</td><td style = \"text-align: right;\">1.34152</td><td style = \"text-align: right;\">1.41556</td><td style = \"text-align: right;\">1.43383</td><td style = \"text-align: right;\">1.39387</td><td style = \"text-align: right;\">1.35076</td><td style = \"text-align: right;\">1.30047</td><td style = \"text-align: right;\">1.28385</td><td style = \"text-align: right;\">1.26177</td><td style = \"text-align: right;\">1.27194</td><td style = \"text-align: right;\">1.3165</td><td style = \"text-align: right;\">1.42759</td><td style = \"text-align: right;\">1.52843</td><td style = \"text-align: right;\">1.5309</td><td style = \"text-align: right;\">1.47874</td><td style = \"text-align: right;\">1.42719</td><td style = \"text-align: right;\">1.37356</td><td style = \"text-align: right;\">1.27623</td><td style = \"text-align: right;\">1.1633</td><td style = \"text-align: right;\">1.10073</td><td style = \"text-align: right;\">1.06569</td><td style = \"text-align: right;\">1.05852</td><td style = \"text-align: right;\">1.07585</td><td style = \"text-align: right;\">1.1131</td><td style = \"text-align: right;\">1.26122</td><td style = \"text-align: right;\">1.41098</td><td style = \"text-align: right;\">1.49066</td><td style = \"text-align: right;\">1.50528</td><td style = \"text-align: right;\">1.45581</td><td style = \"text-align: right;\">1.39745</td><td style = \"text-align: right;\">1.33282</td><td style = \"text-align: right;\">1.30944</td><td style = \"text-align: right;\">1.27752</td><td style = \"text-align: right;\">1.27205</td><td style = \"text-align: right;\">1.3149</td><td style = \"text-align: right;\">1.43358</td><td style = \"text-align: right;\">1.53443</td><td style = \"text-align: right;\">1.53866</td><td style = \"text-align: right;\">1.50159</td><td style = \"text-align: right;\">1.44894</td><td style = \"text-align: right;\">1.3878</td><td style = \"text-align: right;\">1.26518</td><td style = \"text-align: right;\">1.1679</td><td style = \"text-align: right;\">1.1153</td><td style = \"text-align: right;\">1.08742</td><td style = \"text-align: right;\">1.09793</td><td style = \"text-align: right;\">1.10746</td><td style = \"text-align: right;\">&ctdot;</td></tr><tr><td class = \"rowNumber\" style = \"font-weight: bold; text-align: right;\">12</td><td style = \"text-align: right;\">92</td><td style = \"text-align: right;\">1.16986</td><td style = \"text-align: right;\">1.15464</td><td style = \"text-align: right;\">1.14998</td><td style = \"text-align: right;\">1.1736</td><td style = \"text-align: right;\">1.25564</td><td style = \"text-align: right;\">1.35924</td><td style = \"text-align: right;\">1.4274</td><td style = \"text-align: right;\">1.48782</td><td style = \"text-align: right;\">1.50087</td><td style = \"text-align: right;\">1.48844</td><td style = \"text-align: right;\">1.46359</td><td style = \"text-align: right;\">1.44069</td><td style = \"text-align: right;\">1.42609</td><td style = \"text-align: right;\">1.44357</td><td style = \"text-align: right;\">1.49063</td><td style = \"text-align: right;\">1.59013</td><td style = \"text-align: right;\">1.67152</td><td style = \"text-align: right;\">1.65259</td><td style = \"text-align: right;\">1.58952</td><td style = \"text-align: right;\">1.5293</td><td style = \"text-align: right;\">1.51645</td><td style = \"text-align: right;\">1.43693</td><td style = \"text-align: right;\">1.34365</td><td style = \"text-align: right;\">1.26747</td><td style = \"text-align: right;\">1.22343</td><td style = \"text-align: right;\">1.20205</td><td style = \"text-align: right;\">1.20946</td><td style = \"text-align: right;\">1.2403</td><td style = \"text-align: right;\">1.32673</td><td style = \"text-align: right;\">1.43911</td><td style = \"text-align: right;\">1.54325</td><td style = \"text-align: right;\">1.60264</td><td style = \"text-align: right;\">1.61562</td><td style = \"text-align: right;\">1.60015</td><td style = \"text-align: right;\">1.57181</td><td style = \"text-align: right;\">1.54774</td><td style = \"text-align: right;\">1.54072</td><td style = \"text-align: right;\">1.5542</td><td style = \"text-align: right;\">1.57615</td><td style = \"text-align: right;\">1.64747</td><td style = \"text-align: right;\">1.70099</td><td style = \"text-align: right;\">1.69368</td><td style = \"text-align: right;\">1.62569</td><td style = \"text-align: right;\">1.55429</td><td style = \"text-align: right;\">1.51477</td><td style = \"text-align: right;\">1.43233</td><td style = \"text-align: right;\">1.30917</td><td style = \"text-align: right;\">1.22674</td><td style = \"text-align: right;\">1.17626</td><td style = \"text-align: right;\">1.1616</td><td style = \"text-align: right;\">1.16379</td><td style = \"text-align: right;\">1.19241</td><td style = \"text-align: right;\">1.28037</td><td style = \"text-align: right;\">1.38979</td><td style = \"text-align: right;\">1.48865</td><td style = \"text-align: right;\">1.5723</td><td style = \"text-align: right;\">1.59569</td><td style = \"text-align: right;\">1.60538</td><td style = \"text-align: right;\">1.60267</td><td style = \"text-align: right;\">1.59957</td><td style = \"text-align: right;\">1.59489</td><td style = \"text-align: right;\">1.60409</td><td style = \"text-align: right;\">1.60892</td><td style = \"text-align: right;\">1.65765</td><td style = \"text-align: right;\">1.68151</td><td style = \"text-align: right;\">1.65593</td><td style = \"text-align: right;\">1.58694</td><td style = \"text-align: right;\">1.52159</td><td style = \"text-align: right;\">1.49038</td><td style = \"text-align: right;\">1.40105</td><td style = \"text-align: right;\">1.28924</td><td style = \"text-align: right;\">1.2189</td><td style = \"text-align: right;\">1.17603</td><td style = \"text-align: right;\">1.15472</td><td style = \"text-align: right;\">1.14598</td><td style = \"text-align: right;\">1.16756</td><td style = \"text-align: right;\">1.2467</td><td style = \"text-align: right;\">1.35684</td><td style = \"text-align: right;\">1.46792</td><td style = \"text-align: right;\">1.56536</td><td style = \"text-align: right;\">1.59143</td><td style = \"text-align: right;\">1.62342</td><td style = \"text-align: right;\">1.62714</td><td style = \"text-align: right;\">1.63082</td><td style = \"text-align: right;\">1.627</td><td style = \"text-align: right;\">1.6539</td><td style = \"text-align: right;\">1.65548</td><td style = \"text-align: right;\">1.67792</td><td style = \"text-align: right;\">1.7054</td><td style = \"text-align: right;\">1.68305</td><td style = \"text-align: right;\">1.59828</td><td style = \"text-align: right;\">1.53725</td><td style = \"text-align: right;\">1.49951</td><td style = \"text-align: right;\">1.42098</td><td style = \"text-align: right;\">1.31717</td><td style = \"text-align: right;\">1.22483</td><td style = \"text-align: right;\">1.18159</td><td style = \"text-align: right;\">1.14978</td><td style = \"text-align: right;\">1.14013</td><td style = \"text-align: right;\">&ctdot;</td></tr><tr><td class = \"rowNumber\" style = \"font-weight: bold; text-align: right;\">13</td><td style = \"text-align: right;\">93</td><td style = \"text-align: right;\">0.962154</td><td style = \"text-align: right;\">0.94282</td><td style = \"text-align: right;\">0.94471</td><td style = \"text-align: right;\">0.963393</td><td style = \"text-align: right;\">1.02317</td><td style = \"text-align: right;\">1.11177</td><td style = \"text-align: right;\">1.19304</td><td style = \"text-align: right;\">1.27201</td><td style = \"text-align: right;\">1.28932</td><td style = \"text-align: right;\">1.28364</td><td style = \"text-align: right;\">1.25179</td><td style = \"text-align: right;\">1.22872</td><td style = \"text-align: right;\">1.21413</td><td style = \"text-align: right;\">1.22211</td><td style = \"text-align: right;\">1.26643</td><td style = \"text-align: right;\">1.36334</td><td style = \"text-align: right;\">1.4252</td><td style = \"text-align: right;\">1.41942</td><td style = \"text-align: right;\">1.35936</td><td style = \"text-align: right;\">1.29165</td><td style = \"text-align: right;\">1.26576</td><td style = \"text-align: right;\">1.18882</td><td style = \"text-align: right;\">1.09594</td><td style = \"text-align: right;\">1.01924</td><td style = \"text-align: right;\">0.985107</td><td style = \"text-align: right;\">0.970551</td><td style = \"text-align: right;\">0.975478</td><td style = \"text-align: right;\">1.00633</td><td style = \"text-align: right;\">1.0924</td><td style = \"text-align: right;\">1.20487</td><td style = \"text-align: right;\">1.31453</td><td style = \"text-align: right;\">1.37923</td><td style = \"text-align: right;\">1.38796</td><td style = \"text-align: right;\">1.37307</td><td style = \"text-align: right;\">1.34799</td><td style = \"text-align: right;\">1.33102</td><td style = \"text-align: right;\">1.3167</td><td style = \"text-align: right;\">1.32834</td><td style = \"text-align: right;\">1.34915</td><td style = \"text-align: right;\">1.42707</td><td style = \"text-align: right;\">1.47379</td><td style = \"text-align: right;\">1.45933</td><td style = \"text-align: right;\">1.40369</td><td style = \"text-align: right;\">1.33925</td><td style = \"text-align: right;\">1.30936</td><td style = \"text-align: right;\">1.23261</td><td style = \"text-align: right;\">1.12441</td><td style = \"text-align: right;\">1.05062</td><td style = \"text-align: right;\">1.01598</td><td style = \"text-align: right;\">0.99462</td><td style = \"text-align: right;\">0.999928</td><td style = \"text-align: right;\">1.02545</td><td style = \"text-align: right;\">1.1118</td><td style = \"text-align: right;\">1.22029</td><td style = \"text-align: right;\">1.32844</td><td style = \"text-align: right;\">1.4052</td><td style = \"text-align: right;\">1.40445</td><td style = \"text-align: right;\">1.38612</td><td style = \"text-align: right;\">1.35012</td><td style = \"text-align: right;\">1.32435</td><td style = \"text-align: right;\">1.29582</td><td style = \"text-align: right;\">1.30108</td><td style = \"text-align: right;\">1.3352</td><td style = \"text-align: right;\">1.42593</td><td style = \"text-align: right;\">1.48037</td><td style = \"text-align: right;\">1.46377</td><td style = \"text-align: right;\">1.39799</td><td style = \"text-align: right;\">1.34267</td><td style = \"text-align: right;\">1.31464</td><td style = \"text-align: right;\">1.23946</td><td style = \"text-align: right;\">1.1431</td><td style = \"text-align: right;\">1.06763</td><td style = \"text-align: right;\">1.03545</td><td style = \"text-align: right;\">1.01696</td><td style = \"text-align: right;\">1.0175</td><td style = \"text-align: right;\">1.04019</td><td style = \"text-align: right;\">1.11927</td><td style = \"text-align: right;\">1.22384</td><td style = \"text-align: right;\">1.3251</td><td style = \"text-align: right;\">1.40103</td><td style = \"text-align: right;\">1.41514</td><td style = \"text-align: right;\">1.43192</td><td style = \"text-align: right;\">1.41474</td><td style = \"text-align: right;\">1.41251</td><td style = \"text-align: right;\">1.38779</td><td style = \"text-align: right;\">1.39985</td><td style = \"text-align: right;\">1.41879</td><td style = \"text-align: right;\">1.46915</td><td style = \"text-align: right;\">1.51467</td><td style = \"text-align: right;\">1.4978</td><td style = \"text-align: right;\">1.42906</td><td style = \"text-align: right;\">1.36815</td><td style = \"text-align: right;\">1.33991</td><td style = \"text-align: right;\">1.27599</td><td style = \"text-align: right;\">1.19811</td><td style = \"text-align: right;\">1.13072</td><td style = \"text-align: right;\">1.08685</td><td style = \"text-align: right;\">1.06177</td><td style = \"text-align: right;\">1.05278</td><td style = \"text-align: right;\">&ctdot;</td></tr><tr><td style = \"text-align: right;\">&vellip;</td><td style = \"text-align: right;\">&vellip;</td><td style = \"text-align: right;\">&vellip;</td><td style = \"text-align: right;\">&vellip;</td><td style = \"text-align: right;\">&vellip;</td><td style = \"text-align: right;\">&vellip;</td><td style = \"text-align: right;\">&vellip;</td><td style = \"text-align: right;\">&vellip;</td><td style = \"text-align: right;\">&vellip;</td><td style = \"text-align: right;\">&vellip;</td><td style = \"text-align: right;\">&vellip;</td><td style = \"text-align: right;\">&vellip;</td><td style = \"text-align: right;\">&vellip;</td><td style = \"text-align: right;\">&vellip;</td><td style = \"text-align: right;\">&vellip;</td><td style = \"text-align: right;\">&vellip;</td><td style = \"text-align: right;\">&vellip;</td><td style = \"text-align: right;\">&vellip;</td><td style = \"text-align: right;\">&vellip;</td><td style = \"text-align: right;\">&vellip;</td><td style = \"text-align: right;\">&vellip;</td><td style = \"text-align: right;\">&vellip;</td><td style = \"text-align: right;\">&vellip;</td><td style = \"text-align: right;\">&vellip;</td><td style = \"text-align: right;\">&vellip;</td><td style = \"text-align: right;\">&vellip;</td><td style = \"text-align: right;\">&vellip;</td><td style = \"text-align: right;\">&vellip;</td><td style = \"text-align: right;\">&vellip;</td><td style = \"text-align: right;\">&vellip;</td><td style = \"text-align: right;\">&vellip;</td><td style = \"text-align: right;\">&vellip;</td><td style = \"text-align: right;\">&vellip;</td><td style = \"text-align: right;\">&vellip;</td><td style = \"text-align: right;\">&vellip;</td><td style = \"text-align: right;\">&vellip;</td><td style = \"text-align: right;\">&vellip;</td><td style = \"text-align: right;\">&vellip;</td><td style = \"text-align: right;\">&vellip;</td><td style = \"text-align: right;\">&vellip;</td><td style = \"text-align: right;\">&vellip;</td><td style = \"text-align: right;\">&vellip;</td><td style = \"text-align: right;\">&vellip;</td><td style = \"text-align: right;\">&vellip;</td><td style = \"text-align: right;\">&vellip;</td><td style = \"text-align: right;\">&vellip;</td><td style = \"text-align: right;\">&vellip;</td><td style = \"text-align: right;\">&vellip;</td><td style = \"text-align: right;\">&vellip;</td><td style = \"text-align: right;\">&vellip;</td><td style = \"text-align: right;\">&vellip;</td><td style = \"text-align: right;\">&vellip;</td><td style = \"text-align: right;\">&vellip;</td><td style = \"text-align: right;\">&vellip;</td><td style = \"text-align: right;\">&vellip;</td><td style = \"text-align: right;\">&vellip;</td><td style = \"text-align: right;\">&vellip;</td><td style = \"text-align: right;\">&vellip;</td><td style = \"text-align: right;\">&vellip;</td><td style = \"text-align: right;\">&vellip;</td><td style = \"text-align: right;\">&vellip;</td><td style = \"text-align: right;\">&vellip;</td><td style = \"text-align: right;\">&vellip;</td><td style = \"text-align: right;\">&vellip;</td><td style = \"text-align: right;\">&vellip;</td><td style = \"text-align: right;\">&vellip;</td><td style = \"text-align: right;\">&vellip;</td><td style = \"text-align: right;\">&vellip;</td><td style = \"text-align: right;\">&vellip;</td><td style = \"text-align: right;\">&vellip;</td><td style = \"text-align: right;\">&vellip;</td><td style = \"text-align: right;\">&vellip;</td><td style = \"text-align: right;\">&vellip;</td><td style = \"text-align: right;\">&vellip;</td><td style = \"text-align: right;\">&vellip;</td><td style = \"text-align: right;\">&vellip;</td><td style = \"text-align: right;\">&vellip;</td><td style = \"text-align: right;\">&vellip;</td><td style = \"text-align: right;\">&vellip;</td><td style = \"text-align: right;\">&vellip;</td><td style = \"text-align: right;\">&vellip;</td><td style = \"text-align: right;\">&vellip;</td><td style = \"text-align: right;\">&vellip;</td><td style = \"text-align: right;\">&vellip;</td><td style = \"text-align: right;\">&vellip;</td><td style = \"text-align: right;\">&vellip;</td><td style = \"text-align: right;\">&vellip;</td><td style = \"text-align: right;\">&vellip;</td><td style = \"text-align: right;\">&vellip;</td><td style = \"text-align: right;\">&vellip;</td><td style = \"text-align: right;\">&vellip;</td><td style = \"text-align: right;\">&vellip;</td><td style = \"text-align: right;\">&vellip;</td><td style = \"text-align: right;\">&vellip;</td><td style = \"text-align: right;\">&vellip;</td><td style = \"text-align: right;\">&vellip;</td><td style = \"text-align: right;\">&vellip;</td><td style = \"text-align: right;\">&vellip;</td><td style = \"text-align: right;\">&vellip;</td><td style = \"text-align: right;\">&vellip;</td><td style = \"text-align: right;\">&vellip;</td><td style = \"text-align: right;\">&dtdot;</td></tr><tr><td class = \"rowNumber\" style = \"font-weight: bold; text-align: right;\">4086</td><td style = \"text-align: right;\">7881</td><td style = \"text-align: right;\">0.787548</td><td style = \"text-align: right;\">0.767315</td><td style = \"text-align: right;\">0.747221</td><td style = \"text-align: right;\">0.750914</td><td style = \"text-align: right;\">0.760537</td><td style = \"text-align: right;\">0.760644</td><td style = \"text-align: right;\">0.828333</td><td style = \"text-align: right;\">0.902567</td><td style = \"text-align: right;\">0.960867</td><td style = \"text-align: right;\">1.00134</td><td style = \"text-align: right;\">1.03654</td><td style = \"text-align: right;\">1.06709</td><td style = \"text-align: right;\">1.05637</td><td style = \"text-align: right;\">1.019</td><td style = \"text-align: right;\">0.997918</td><td style = \"text-align: right;\">0.998304</td><td style = \"text-align: right;\">1.05995</td><td style = \"text-align: right;\">1.09187</td><td style = \"text-align: right;\">1.07799</td><td style = \"text-align: right;\">1.02771</td><td style = \"text-align: right;\">0.958749</td><td style = \"text-align: right;\">0.947282</td><td style = \"text-align: right;\">0.899854</td><td style = \"text-align: right;\">0.84739</td><td style = \"text-align: right;\">0.797872</td><td style = \"text-align: right;\">0.774017</td><td style = \"text-align: right;\">0.768599</td><td style = \"text-align: right;\">0.770502</td><td style = \"text-align: right;\">0.78749</td><td style = \"text-align: right;\">0.834731</td><td style = \"text-align: right;\">0.916885</td><td style = \"text-align: right;\">0.993345</td><td style = \"text-align: right;\">1.04231</td><td style = \"text-align: right;\">1.06993</td><td style = \"text-align: right;\">1.10836</td><td style = \"text-align: right;\">1.13835</td><td style = \"text-align: right;\">1.12918</td><td style = \"text-align: right;\">1.09834</td><td style = \"text-align: right;\">1.08789</td><td style = \"text-align: right;\">1.08487</td><td style = \"text-align: right;\">1.14214</td><td style = \"text-align: right;\">1.16712</td><td style = \"text-align: right;\">1.14013</td><td style = \"text-align: right;\">1.09432</td><td style = \"text-align: right;\">1.04206</td><td style = \"text-align: right;\">1.01711</td><td style = \"text-align: right;\">0.946496</td><td style = \"text-align: right;\">0.889325</td><td style = \"text-align: right;\">0.850493</td><td style = \"text-align: right;\">0.828122</td><td style = \"text-align: right;\">0.813346</td><td style = \"text-align: right;\">0.823214</td><td style = \"text-align: right;\">0.836419</td><td style = \"text-align: right;\">0.874553</td><td style = \"text-align: right;\">0.930696</td><td style = \"text-align: right;\">1.01455</td><td style = \"text-align: right;\">1.04335</td><td style = \"text-align: right;\">1.0705</td><td style = \"text-align: right;\">1.09894</td><td style = \"text-align: right;\">1.13043</td><td style = \"text-align: right;\">1.08867</td><td style = \"text-align: right;\">1.07001</td><td style = \"text-align: right;\">1.04876</td><td style = \"text-align: right;\">1.04826</td><td style = \"text-align: right;\">1.10827</td><td style = \"text-align: right;\">1.13159</td><td style = \"text-align: right;\">1.10724</td><td style = \"text-align: right;\">1.06457</td><td style = \"text-align: right;\">1.01021</td><td style = \"text-align: right;\">1.00244</td><td style = \"text-align: right;\">0.952259</td><td style = \"text-align: right;\">0.882893</td><td style = \"text-align: right;\">0.839094</td><td style = \"text-align: right;\">0.825553</td><td style = \"text-align: right;\">0.812857</td><td style = \"text-align: right;\">0.838737</td><td style = \"text-align: right;\">0.881246</td><td style = \"text-align: right;\">0.954637</td><td style = \"text-align: right;\">1.05607</td><td style = \"text-align: right;\">1.14033</td><td style = \"text-align: right;\">1.16378</td><td style = \"text-align: right;\">1.17947</td><td style = \"text-align: right;\">1.20669</td><td style = \"text-align: right;\">1.22972</td><td style = \"text-align: right;\">1.21801</td><td style = \"text-align: right;\">1.19392</td><td style = \"text-align: right;\">1.18301</td><td style = \"text-align: right;\">1.17568</td><td style = \"text-align: right;\">1.22764</td><td style = \"text-align: right;\">1.23714</td><td style = \"text-align: right;\">1.21103</td><td style = \"text-align: right;\">1.15963</td><td style = \"text-align: right;\">1.10225</td><td style = \"text-align: right;\">1.07376</td><td style = \"text-align: right;\">1.00591</td><td style = \"text-align: right;\">0.915316</td><td style = \"text-align: right;\">0.875106</td><td style = \"text-align: right;\">0.841418</td><td style = \"text-align: right;\">0.829481</td><td style = \"text-align: right;\">&ctdot;</td></tr><tr><td class = \"rowNumber\" style = \"font-weight: bold; text-align: right;\">4087</td><td style = \"text-align: right;\">7882</td><td style = \"text-align: right;\">0.897376</td><td style = \"text-align: right;\">0.850959</td><td style = \"text-align: right;\">0.850695</td><td style = \"text-align: right;\">0.877098</td><td style = \"text-align: right;\">0.93786</td><td style = \"text-align: right;\">1.04706</td><td style = \"text-align: right;\">1.1615</td><td style = \"text-align: right;\">1.22978</td><td style = \"text-align: right;\">1.23642</td><td style = \"text-align: right;\">1.25194</td><td style = \"text-align: right;\">1.26096</td><td style = \"text-align: right;\">1.2452</td><td style = \"text-align: right;\">1.25042</td><td style = \"text-align: right;\">1.22649</td><td style = \"text-align: right;\">1.21354</td><td style = \"text-align: right;\">1.20799</td><td style = \"text-align: right;\">1.30262</td><td style = \"text-align: right;\">1.33643</td><td style = \"text-align: right;\">1.32391</td><td style = \"text-align: right;\">1.2606</td><td style = \"text-align: right;\">1.19798</td><td style = \"text-align: right;\">1.15796</td><td style = \"text-align: right;\">1.077</td><td style = \"text-align: right;\">1.02315</td><td style = \"text-align: right;\">1.00159</td><td style = \"text-align: right;\">0.967818</td><td style = \"text-align: right;\">0.978267</td><td style = \"text-align: right;\">0.99704</td><td style = \"text-align: right;\">1.06337</td><td style = \"text-align: right;\">1.19471</td><td style = \"text-align: right;\">1.3673</td><td style = \"text-align: right;\">1.45145</td><td style = \"text-align: right;\">1.42804</td><td style = \"text-align: right;\">1.42029</td><td style = \"text-align: right;\">1.41938</td><td style = \"text-align: right;\">1.40955</td><td style = \"text-align: right;\">1.42952</td><td style = \"text-align: right;\">1.42099</td><td style = \"text-align: right;\">1.42139</td><td style = \"text-align: right;\">1.40914</td><td style = \"text-align: right;\">1.44666</td><td style = \"text-align: right;\">1.44562</td><td style = \"text-align: right;\">1.43428</td><td style = \"text-align: right;\">1.3658</td><td style = \"text-align: right;\">1.27798</td><td style = \"text-align: right;\">1.2038</td><td style = \"text-align: right;\">1.12438</td><td style = \"text-align: right;\">1.06781</td><td style = \"text-align: right;\">1.04088</td><td style = \"text-align: right;\">1.00669</td><td style = \"text-align: right;\">0.994187</td><td style = \"text-align: right;\">1.00352</td><td style = \"text-align: right;\">1.05213</td><td style = \"text-align: right;\">1.11871</td><td style = \"text-align: right;\">1.27775</td><td style = \"text-align: right;\">1.35174</td><td style = \"text-align: right;\">1.33855</td><td style = \"text-align: right;\">1.35617</td><td style = \"text-align: right;\">1.36952</td><td style = \"text-align: right;\">1.34338</td><td style = \"text-align: right;\">1.36368</td><td style = \"text-align: right;\">1.31963</td><td style = \"text-align: right;\">1.30573</td><td style = \"text-align: right;\">1.30962</td><td style = \"text-align: right;\">1.35456</td><td style = \"text-align: right;\">1.33764</td><td style = \"text-align: right;\">1.31453</td><td style = \"text-align: right;\">1.25528</td><td style = \"text-align: right;\">1.17574</td><td style = \"text-align: right;\">1.1109</td><td style = \"text-align: right;\">1.01091</td><td style = \"text-align: right;\">0.952399</td><td style = \"text-align: right;\">0.910915</td><td style = \"text-align: right;\">0.872566</td><td style = \"text-align: right;\">0.867089</td><td style = \"text-align: right;\">0.8945</td><td style = \"text-align: right;\">0.956425</td><td style = \"text-align: right;\">1.11284</td><td style = \"text-align: right;\">1.26558</td><td style = \"text-align: right;\">1.32699</td><td style = \"text-align: right;\">1.33414</td><td style = \"text-align: right;\">1.34518</td><td style = \"text-align: right;\">1.35476</td><td style = \"text-align: right;\">1.34349</td><td style = \"text-align: right;\">1.36343</td><td style = \"text-align: right;\">1.35207</td><td style = \"text-align: right;\">1.34764</td><td style = \"text-align: right;\">1.36024</td><td style = \"text-align: right;\">1.42805</td><td style = \"text-align: right;\">1.4351</td><td style = \"text-align: right;\">1.42314</td><td style = \"text-align: right;\">1.36139</td><td style = \"text-align: right;\">1.28472</td><td style = \"text-align: right;\">1.21574</td><td style = \"text-align: right;\">1.1304</td><td style = \"text-align: right;\">1.06392</td><td style = \"text-align: right;\">1.01807</td><td style = \"text-align: right;\">0.996844</td><td style = \"text-align: right;\">0.997246</td><td style = \"text-align: right;\">&ctdot;</td></tr><tr><td class = \"rowNumber\" style = \"font-weight: bold; text-align: right;\">4088</td><td style = \"text-align: right;\">7883</td><td style = \"text-align: right;\">0.873505</td><td style = \"text-align: right;\">0.823286</td><td style = \"text-align: right;\">0.809528</td><td style = \"text-align: right;\">0.810161</td><td style = \"text-align: right;\">0.841711</td><td style = \"text-align: right;\">0.922418</td><td style = \"text-align: right;\">1.04396</td><td style = \"text-align: right;\">1.15132</td><td style = \"text-align: right;\">1.25629</td><td style = \"text-align: right;\">1.31106</td><td style = \"text-align: right;\">1.30757</td><td style = \"text-align: right;\">1.27726</td><td style = \"text-align: right;\">1.27063</td><td style = \"text-align: right;\">1.22177</td><td style = \"text-align: right;\">1.19293</td><td style = \"text-align: right;\">1.17682</td><td style = \"text-align: right;\">1.18545</td><td style = \"text-align: right;\">1.24415</td><td style = \"text-align: right;\">1.2751</td><td style = \"text-align: right;\">1.291</td><td style = \"text-align: right;\">1.28515</td><td style = \"text-align: right;\">1.20752</td><td style = \"text-align: right;\">1.10132</td><td style = \"text-align: right;\">1.01893</td><td style = \"text-align: right;\">0.935665</td><td style = \"text-align: right;\">0.885435</td><td style = \"text-align: right;\">0.861223</td><td style = \"text-align: right;\">0.865432</td><td style = \"text-align: right;\">0.885135</td><td style = \"text-align: right;\">0.964283</td><td style = \"text-align: right;\">1.11207</td><td style = \"text-align: right;\">1.21649</td><td style = \"text-align: right;\">1.26522</td><td style = \"text-align: right;\">1.29392</td><td style = \"text-align: right;\">1.28809</td><td style = \"text-align: right;\">1.2705</td><td style = \"text-align: right;\">1.25913</td><td style = \"text-align: right;\">1.21033</td><td style = \"text-align: right;\">1.17616</td><td style = \"text-align: right;\">1.16089</td><td style = \"text-align: right;\">1.16233</td><td style = \"text-align: right;\">1.2321</td><td style = \"text-align: right;\">1.27311</td><td style = \"text-align: right;\">1.28872</td><td style = \"text-align: right;\">1.27074</td><td style = \"text-align: right;\">1.1926</td><td style = \"text-align: right;\">1.08754</td><td style = \"text-align: right;\">1.00247</td><td style = \"text-align: right;\">0.919973</td><td style = \"text-align: right;\">0.866492</td><td style = \"text-align: right;\">0.843183</td><td style = \"text-align: right;\">0.83506</td><td style = \"text-align: right;\">0.850632</td><td style = \"text-align: right;\">0.924602</td><td style = \"text-align: right;\">1.06485</td><td style = \"text-align: right;\">1.15255</td><td style = \"text-align: right;\">1.17454</td><td style = \"text-align: right;\">1.20943</td><td style = \"text-align: right;\">1.21892</td><td style = \"text-align: right;\">1.20512</td><td style = \"text-align: right;\">1.20197</td><td style = \"text-align: right;\">1.16548</td><td style = \"text-align: right;\">1.13528</td><td style = \"text-align: right;\">1.12727</td><td style = \"text-align: right;\">1.143</td><td style = \"text-align: right;\">1.23733</td><td style = \"text-align: right;\">1.30648</td><td style = \"text-align: right;\">1.34194</td><td style = \"text-align: right;\">1.32376</td><td style = \"text-align: right;\">1.23002</td><td style = \"text-align: right;\">1.10834</td><td style = \"text-align: right;\">0.995388</td><td style = \"text-align: right;\">0.920333</td><td style = \"text-align: right;\">0.880271</td><td style = \"text-align: right;\">0.863446</td><td style = \"text-align: right;\">0.865957</td><td style = \"text-align: right;\">0.905654</td><td style = \"text-align: right;\">1.04439</td><td style = \"text-align: right;\">1.28224</td><td style = \"text-align: right;\">1.44431</td><td style = \"text-align: right;\">1.47496</td><td style = \"text-align: right;\">1.48888</td><td style = \"text-align: right;\">1.47114</td><td style = \"text-align: right;\">1.45158</td><td style = \"text-align: right;\">1.44246</td><td style = \"text-align: right;\">1.38618</td><td style = \"text-align: right;\">1.37248</td><td style = \"text-align: right;\">1.36891</td><td style = \"text-align: right;\">1.39085</td><td style = \"text-align: right;\">1.47985</td><td style = \"text-align: right;\">1.53929</td><td style = \"text-align: right;\">1.55133</td><td style = \"text-align: right;\">1.49748</td><td style = \"text-align: right;\">1.3615</td><td style = \"text-align: right;\">1.20642</td><td style = \"text-align: right;\">1.09559</td><td style = \"text-align: right;\">1.01229</td><td style = \"text-align: right;\">0.9716</td><td style = \"text-align: right;\">0.952531</td><td style = \"text-align: right;\">&ctdot;</td></tr><tr><td class = \"rowNumber\" style = \"font-weight: bold; text-align: right;\">4089</td><td style = \"text-align: right;\">7884</td><td style = \"text-align: right;\">0.803471</td><td style = \"text-align: right;\">0.823995</td><td style = \"text-align: right;\">0.811458</td><td style = \"text-align: right;\">0.813523</td><td style = \"text-align: right;\">0.800412</td><td style = \"text-align: right;\">0.830827</td><td style = \"text-align: right;\">0.852598</td><td style = \"text-align: right;\">0.901071</td><td style = \"text-align: right;\">0.942244</td><td style = \"text-align: right;\">0.959246</td><td style = \"text-align: right;\">0.999156</td><td style = \"text-align: right;\">0.985397</td><td style = \"text-align: right;\">0.973544</td><td style = \"text-align: right;\">0.948275</td><td style = \"text-align: right;\">0.929065</td><td style = \"text-align: right;\">0.983187</td><td style = \"text-align: right;\">0.989471</td><td style = \"text-align: right;\">0.999135</td><td style = \"text-align: right;\">0.991917</td><td style = \"text-align: right;\">0.978582</td><td style = \"text-align: right;\">0.938007</td><td style = \"text-align: right;\">0.901047</td><td style = \"text-align: right;\">0.867922</td><td style = \"text-align: right;\">0.848524</td><td style = \"text-align: right;\">0.818002</td><td style = \"text-align: right;\">0.812621</td><td style = \"text-align: right;\">0.804841</td><td style = \"text-align: right;\">0.821949</td><td style = \"text-align: right;\">0.87138</td><td style = \"text-align: right;\">0.973772</td><td style = \"text-align: right;\">1.03818</td><td style = \"text-align: right;\">1.08328</td><td style = \"text-align: right;\">1.12965</td><td style = \"text-align: right;\">1.12177</td><td style = \"text-align: right;\">1.15926</td><td style = \"text-align: right;\">1.14975</td><td style = \"text-align: right;\">1.14215</td><td style = \"text-align: right;\">1.1316</td><td style = \"text-align: right;\">1.11716</td><td style = \"text-align: right;\">1.16331</td><td style = \"text-align: right;\">1.1584</td><td style = \"text-align: right;\">1.15469</td><td style = \"text-align: right;\">1.13697</td><td style = \"text-align: right;\">1.11676</td><td style = \"text-align: right;\">1.05258</td><td style = \"text-align: right;\">0.992475</td><td style = \"text-align: right;\">0.949348</td><td style = \"text-align: right;\">0.912821</td><td style = \"text-align: right;\">0.878121</td><td style = \"text-align: right;\">0.906398</td><td style = \"text-align: right;\">0.90343</td><td style = \"text-align: right;\">0.913059</td><td style = \"text-align: right;\">0.956831</td><td style = \"text-align: right;\">1.0677</td><td style = \"text-align: right;\">1.12558</td><td style = \"text-align: right;\">1.15736</td><td style = \"text-align: right;\">1.18827</td><td style = \"text-align: right;\">1.17811</td><td style = \"text-align: right;\">1.22976</td><td style = \"text-align: right;\">1.23512</td><td style = \"text-align: right;\">1.23288</td><td style = \"text-align: right;\">1.21659</td><td style = \"text-align: right;\">1.20147</td><td style = \"text-align: right;\">1.24692</td><td style = \"text-align: right;\">1.22862</td><td style = \"text-align: right;\">1.20998</td><td style = \"text-align: right;\">1.19331</td><td style = \"text-align: right;\">1.16228</td><td style = \"text-align: right;\">1.09226</td><td style = \"text-align: right;\">1.03735</td><td style = \"text-align: right;\">0.997609</td><td style = \"text-align: right;\">0.954476</td><td style = \"text-align: right;\">0.932669</td><td style = \"text-align: right;\">0.938478</td><td style = \"text-align: right;\">0.931012</td><td style = \"text-align: right;\">0.939707</td><td style = \"text-align: right;\">0.959169</td><td style = \"text-align: right;\">1.029</td><td style = \"text-align: right;\">1.07461</td><td style = \"text-align: right;\">1.12106</td><td style = \"text-align: right;\">1.16333</td><td style = \"text-align: right;\">1.16606</td><td style = \"text-align: right;\">1.22247</td><td style = \"text-align: right;\">1.19303</td><td style = \"text-align: right;\">1.17401</td><td style = \"text-align: right;\">1.16189</td><td style = \"text-align: right;\">1.13406</td><td style = \"text-align: right;\">1.17752</td><td style = \"text-align: right;\">1.17839</td><td style = \"text-align: right;\">1.17231</td><td style = \"text-align: right;\">1.162</td><td style = \"text-align: right;\">1.14168</td><td style = \"text-align: right;\">1.08557</td><td style = \"text-align: right;\">1.03385</td><td style = \"text-align: right;\">0.991378</td><td style = \"text-align: right;\">0.951172</td><td style = \"text-align: right;\">0.918563</td><td style = \"text-align: right;\">0.925009</td><td style = \"text-align: right;\">0.922344</td><td style = \"text-align: right;\">&ctdot;</td></tr><tr><td class = \"rowNumber\" style = \"font-weight: bold; text-align: right;\">4090</td><td style = \"text-align: right;\">7885</td><td style = \"text-align: right;\">0.679624</td><td style = \"text-align: right;\">0.677362</td><td style = \"text-align: right;\">0.671903</td><td style = \"text-align: right;\">0.698929</td><td style = \"text-align: right;\">0.743381</td><td style = \"text-align: right;\">0.859089</td><td style = \"text-align: right;\">0.938441</td><td style = \"text-align: right;\">1.00497</td><td style = \"text-align: right;\">1.06674</td><td style = \"text-align: right;\">1.09984</td><td style = \"text-align: right;\">1.11375</td><td style = \"text-align: right;\">1.12186</td><td style = \"text-align: right;\">1.13595</td><td style = \"text-align: right;\">1.13026</td><td style = \"text-align: right;\">1.13802</td><td style = \"text-align: right;\">1.2016</td><td style = \"text-align: right;\">1.20636</td><td style = \"text-align: right;\">1.19512</td><td style = \"text-align: right;\">1.16825</td><td style = \"text-align: right;\">1.12635</td><td style = \"text-align: right;\">1.06088</td><td style = \"text-align: right;\">0.985669</td><td style = \"text-align: right;\">0.904219</td><td style = \"text-align: right;\">0.844725</td><td style = \"text-align: right;\">0.80516</td><td style = \"text-align: right;\">0.784109</td><td style = \"text-align: right;\">0.778042</td><td style = \"text-align: right;\">0.778689</td><td style = \"text-align: right;\">0.785835</td><td style = \"text-align: right;\">0.802522</td><td style = \"text-align: right;\">0.825806</td><td style = \"text-align: right;\">0.865784</td><td style = \"text-align: right;\">0.917204</td><td style = \"text-align: right;\">0.947528</td><td style = \"text-align: right;\">0.971225</td><td style = \"text-align: right;\">0.980987</td><td style = \"text-align: right;\">0.999589</td><td style = \"text-align: right;\">0.990205</td><td style = \"text-align: right;\">0.993682</td><td style = \"text-align: right;\">1.07259</td><td style = \"text-align: right;\">1.08575</td><td style = \"text-align: right;\">1.08748</td><td style = \"text-align: right;\">1.07237</td><td style = \"text-align: right;\">1.04777</td><td style = \"text-align: right;\">0.996963</td><td style = \"text-align: right;\">0.954502</td><td style = \"text-align: right;\">0.875842</td><td style = \"text-align: right;\">0.812685</td><td style = \"text-align: right;\">0.780214</td><td style = \"text-align: right;\">0.760002</td><td style = \"text-align: right;\">0.754603</td><td style = \"text-align: right;\">0.752998</td><td style = \"text-align: right;\">0.762082</td><td style = \"text-align: right;\">0.775249</td><td style = \"text-align: right;\">0.784634</td><td style = \"text-align: right;\">0.805374</td><td style = \"text-align: right;\">0.867286</td><td style = \"text-align: right;\">0.916805</td><td style = \"text-align: right;\">0.928569</td><td style = \"text-align: right;\">0.950135</td><td style = \"text-align: right;\">0.967587</td><td style = \"text-align: right;\">0.955662</td><td style = \"text-align: right;\">0.956042</td><td style = \"text-align: right;\">1.03925</td><td style = \"text-align: right;\">1.05267</td><td style = \"text-align: right;\">1.05507</td><td style = \"text-align: right;\">1.05904</td><td style = \"text-align: right;\">1.03961</td><td style = \"text-align: right;\">0.988432</td><td style = \"text-align: right;\">0.945739</td><td style = \"text-align: right;\">0.86974</td><td style = \"text-align: right;\">0.809917</td><td style = \"text-align: right;\">0.777085</td><td style = \"text-align: right;\">0.762994</td><td style = \"text-align: right;\">0.764676</td><td style = \"text-align: right;\">0.784118</td><td style = \"text-align: right;\">0.836144</td><td style = \"text-align: right;\">0.992623</td><td style = \"text-align: right;\">1.09047</td><td style = \"text-align: right;\">1.14655</td><td style = \"text-align: right;\">1.17735</td><td style = \"text-align: right;\">1.18846</td><td style = \"text-align: right;\">1.20323</td><td style = \"text-align: right;\">1.19678</td><td style = \"text-align: right;\">1.19567</td><td style = \"text-align: right;\">1.18434</td><td style = \"text-align: right;\">1.19529</td><td style = \"text-align: right;\">1.27005</td><td style = \"text-align: right;\">1.26052</td><td style = \"text-align: right;\">1.23991</td><td style = \"text-align: right;\">1.22228</td><td style = \"text-align: right;\">1.17103</td><td style = \"text-align: right;\">1.09292</td><td style = \"text-align: right;\">1.00864</td><td style = \"text-align: right;\">0.944484</td><td style = \"text-align: right;\">0.893532</td><td style = \"text-align: right;\">0.862745</td><td style = \"text-align: right;\">0.84217</td><td style = \"text-align: right;\">0.837237</td><td style = \"text-align: right;\">&ctdot;</td></tr><tr><td class = \"rowNumber\" style = \"font-weight: bold; text-align: right;\">4091</td><td style = \"text-align: right;\">7886</td><td style = \"text-align: right;\">0.958165</td><td style = \"text-align: right;\">0.948056</td><td style = \"text-align: right;\">0.945056</td><td style = \"text-align: right;\">0.935912</td><td style = \"text-align: right;\">0.965061</td><td style = \"text-align: right;\">0.991083</td><td style = \"text-align: right;\">1.02336</td><td style = \"text-align: right;\">1.03889</td><td style = \"text-align: right;\">1.0929</td><td style = \"text-align: right;\">1.13758</td><td style = \"text-align: right;\">1.15154</td><td style = \"text-align: right;\">1.14905</td><td style = \"text-align: right;\">1.17811</td><td style = \"text-align: right;\">1.16689</td><td style = \"text-align: right;\">1.14716</td><td style = \"text-align: right;\">1.21752</td><td style = \"text-align: right;\">1.2326</td><td style = \"text-align: right;\">1.23546</td><td style = \"text-align: right;\">1.23625</td><td style = \"text-align: right;\">1.20872</td><td style = \"text-align: right;\">1.15958</td><td style = \"text-align: right;\">1.10953</td><td style = \"text-align: right;\">1.03397</td><td style = \"text-align: right;\">0.969994</td><td style = \"text-align: right;\">0.944253</td><td style = \"text-align: right;\">0.934921</td><td style = \"text-align: right;\">0.938441</td><td style = \"text-align: right;\">0.951988</td><td style = \"text-align: right;\">0.999244</td><td style = \"text-align: right;\">1.19256</td><td style = \"text-align: right;\">1.31666</td><td style = \"text-align: right;\">1.35457</td><td style = \"text-align: right;\">1.37371</td><td style = \"text-align: right;\">1.36844</td><td style = \"text-align: right;\">1.38043</td><td style = \"text-align: right;\">1.36712</td><td style = \"text-align: right;\">1.39808</td><td style = \"text-align: right;\">1.36383</td><td style = \"text-align: right;\">1.35643</td><td style = \"text-align: right;\">1.4339</td><td style = \"text-align: right;\">1.44059</td><td style = \"text-align: right;\">1.41066</td><td style = \"text-align: right;\">1.40795</td><td style = \"text-align: right;\">1.37281</td><td style = \"text-align: right;\">1.28105</td><td style = \"text-align: right;\">1.18138</td><td style = \"text-align: right;\">1.11491</td><td style = \"text-align: right;\">1.04854</td><td style = \"text-align: right;\">1.00319</td><td style = \"text-align: right;\">0.983212</td><td style = \"text-align: right;\">0.98998</td><td style = \"text-align: right;\">0.986171</td><td style = \"text-align: right;\">1.0155</td><td style = \"text-align: right;\">1.14083</td><td style = \"text-align: right;\">1.20557</td><td style = \"text-align: right;\">1.23991</td><td style = \"text-align: right;\">1.26398</td><td style = \"text-align: right;\">1.26795</td><td style = \"text-align: right;\">1.28177</td><td style = \"text-align: right;\">1.27561</td><td style = \"text-align: right;\">1.28747</td><td style = \"text-align: right;\">1.26661</td><td style = \"text-align: right;\">1.26189</td><td style = \"text-align: right;\">1.34045</td><td style = \"text-align: right;\">1.36474</td><td style = \"text-align: right;\">1.35726</td><td style = \"text-align: right;\">1.35925</td><td style = \"text-align: right;\">1.33111</td><td style = \"text-align: right;\">1.24279</td><td style = \"text-align: right;\">1.15988</td><td style = \"text-align: right;\">1.09504</td><td style = \"text-align: right;\">1.04138</td><td style = \"text-align: right;\">1.02216</td><td style = \"text-align: right;\">1.00149</td><td style = \"text-align: right;\">1.01624</td><td style = \"text-align: right;\">1.04563</td><td style = \"text-align: right;\">1.12976</td><td style = \"text-align: right;\">1.43796</td><td style = \"text-align: right;\">1.66819</td><td style = \"text-align: right;\">1.7273</td><td style = \"text-align: right;\">1.72858</td><td style = \"text-align: right;\">1.68624</td><td style = \"text-align: right;\">1.68952</td><td style = \"text-align: right;\">1.67507</td><td style = \"text-align: right;\">1.67434</td><td style = \"text-align: right;\">1.63153</td><td style = \"text-align: right;\">1.62179</td><td style = \"text-align: right;\">1.68804</td><td style = \"text-align: right;\">1.69322</td><td style = \"text-align: right;\">1.65636</td><td style = \"text-align: right;\">1.64809</td><td style = \"text-align: right;\">1.59025</td><td style = \"text-align: right;\">1.4522</td><td style = \"text-align: right;\">1.32142</td><td style = \"text-align: right;\">1.21694</td><td style = \"text-align: right;\">1.14448</td><td style = \"text-align: right;\">1.10124</td><td style = \"text-align: right;\">1.09016</td><td style = \"text-align: right;\">1.08365</td><td style = \"text-align: right;\">&ctdot;</td></tr><tr><td class = \"rowNumber\" style = \"font-weight: bold; text-align: right;\">4092</td><td style = \"text-align: right;\">7887</td><td style = \"text-align: right;\">0.861178</td><td style = \"text-align: right;\">0.821186</td><td style = \"text-align: right;\">0.79408</td><td style = \"text-align: right;\">0.799405</td><td style = \"text-align: right;\">0.849965</td><td style = \"text-align: right;\">0.982713</td><td style = \"text-align: right;\">1.09145</td><td style = \"text-align: right;\">1.08854</td><td style = \"text-align: right;\">1.08873</td><td style = \"text-align: right;\">1.0878</td><td style = \"text-align: right;\">1.09376</td><td style = \"text-align: right;\">1.11644</td><td style = \"text-align: right;\">1.11642</td><td style = \"text-align: right;\">1.10763</td><td style = \"text-align: right;\">1.12999</td><td style = \"text-align: right;\">1.15524</td><td style = \"text-align: right;\">1.20339</td><td style = \"text-align: right;\">1.18509</td><td style = \"text-align: right;\">1.18462</td><td style = \"text-align: right;\">1.15508</td><td style = \"text-align: right;\">1.11841</td><td style = \"text-align: right;\">1.06068</td><td style = \"text-align: right;\">1.01546</td><td style = \"text-align: right;\">0.951308</td><td style = \"text-align: right;\">0.912387</td><td style = \"text-align: right;\">0.870193</td><td style = \"text-align: right;\">0.848161</td><td style = \"text-align: right;\">0.857654</td><td style = \"text-align: right;\">0.918269</td><td style = \"text-align: right;\">1.05884</td><td style = \"text-align: right;\">1.17803</td><td style = \"text-align: right;\">1.18993</td><td style = \"text-align: right;\">1.19476</td><td style = \"text-align: right;\">1.18734</td><td style = \"text-align: right;\">1.19105</td><td style = \"text-align: right;\">1.20195</td><td style = \"text-align: right;\">1.20908</td><td style = \"text-align: right;\">1.20157</td><td style = \"text-align: right;\">1.22735</td><td style = \"text-align: right;\">1.24647</td><td style = \"text-align: right;\">1.28629</td><td style = \"text-align: right;\">1.26127</td><td style = \"text-align: right;\">1.25455</td><td style = \"text-align: right;\">1.21853</td><td style = \"text-align: right;\">1.18405</td><td style = \"text-align: right;\">1.12663</td><td style = \"text-align: right;\">1.08653</td><td style = \"text-align: right;\">1.01359</td><td style = \"text-align: right;\">0.957596</td><td style = \"text-align: right;\">0.912144</td><td style = \"text-align: right;\">0.892014</td><td style = \"text-align: right;\">0.89711</td><td style = \"text-align: right;\">0.955573</td><td style = \"text-align: right;\">1.09769</td><td style = \"text-align: right;\">1.2194</td><td style = \"text-align: right;\">1.2219</td><td style = \"text-align: right;\">1.21801</td><td style = \"text-align: right;\">1.19979</td><td style = \"text-align: right;\">1.19402</td><td style = \"text-align: right;\">1.19359</td><td style = \"text-align: right;\">1.20547</td><td style = \"text-align: right;\">1.19966</td><td style = \"text-align: right;\">1.22762</td><td style = \"text-align: right;\">1.25643</td><td style = \"text-align: right;\">1.29607</td><td style = \"text-align: right;\">1.27296</td><td style = \"text-align: right;\">1.26736</td><td style = \"text-align: right;\">1.23421</td><td style = \"text-align: right;\">1.19893</td><td style = \"text-align: right;\">1.13411</td><td style = \"text-align: right;\">1.09328</td><td style = \"text-align: right;\">1.02725</td><td style = \"text-align: right;\">0.973298</td><td style = \"text-align: right;\">0.92797</td><td style = \"text-align: right;\">0.909076</td><td style = \"text-align: right;\">0.911379</td><td style = \"text-align: right;\">0.96819</td><td style = \"text-align: right;\">1.1026</td><td style = \"text-align: right;\">1.22757</td><td style = \"text-align: right;\">1.23898</td><td style = \"text-align: right;\">1.25712</td><td style = \"text-align: right;\">1.25911</td><td style = \"text-align: right;\">1.25811</td><td style = \"text-align: right;\">1.26077</td><td style = \"text-align: right;\">1.25106</td><td style = \"text-align: right;\">1.23412</td><td style = \"text-align: right;\">1.24327</td><td style = \"text-align: right;\">1.25143</td><td style = \"text-align: right;\">1.29373</td><td style = \"text-align: right;\">1.27158</td><td style = \"text-align: right;\">1.26185</td><td style = \"text-align: right;\">1.2261</td><td style = \"text-align: right;\">1.1884</td><td style = \"text-align: right;\">1.12355</td><td style = \"text-align: right;\">1.08806</td><td style = \"text-align: right;\">1.02366</td><td style = \"text-align: right;\">0.972185</td><td style = \"text-align: right;\">0.925507</td><td style = \"text-align: right;\">0.903388</td><td style = \"text-align: right;\">&ctdot;</td></tr><tr><td class = \"rowNumber\" style = \"font-weight: bold; text-align: right;\">4093</td><td style = \"text-align: right;\">7888</td><td style = \"text-align: right;\">0.895363</td><td style = \"text-align: right;\">0.853955</td><td style = \"text-align: right;\">0.834912</td><td style = \"text-align: right;\">0.837733</td><td style = \"text-align: right;\">0.87886</td><td style = \"text-align: right;\">0.998756</td><td style = \"text-align: right;\">1.17055</td><td style = \"text-align: right;\">1.32865</td><td style = \"text-align: right;\">1.46458</td><td style = \"text-align: right;\">1.52386</td><td style = \"text-align: right;\">1.51044</td><td style = \"text-align: right;\">1.47479</td><td style = \"text-align: right;\">1.47287</td><td style = \"text-align: right;\">1.43422</td><td style = \"text-align: right;\">1.40415</td><td style = \"text-align: right;\">1.3817</td><td style = \"text-align: right;\">1.3857</td><td style = \"text-align: right;\">1.44964</td><td style = \"text-align: right;\">1.47669</td><td style = \"text-align: right;\">1.49797</td><td style = \"text-align: right;\">1.47137</td><td style = \"text-align: right;\">1.35653</td><td style = \"text-align: right;\">1.23206</td><td style = \"text-align: right;\">1.12514</td><td style = \"text-align: right;\">1.01986</td><td style = \"text-align: right;\">0.960474</td><td style = \"text-align: right;\">0.927007</td><td style = \"text-align: right;\">0.916147</td><td style = \"text-align: right;\">0.932566</td><td style = \"text-align: right;\">0.995134</td><td style = \"text-align: right;\">1.1049</td><td style = \"text-align: right;\">1.18298</td><td style = \"text-align: right;\">1.26174</td><td style = \"text-align: right;\">1.31732</td><td style = \"text-align: right;\">1.32662</td><td style = \"text-align: right;\">1.30826</td><td style = \"text-align: right;\">1.30578</td><td style = \"text-align: right;\">1.28744</td><td style = \"text-align: right;\">1.25379</td><td style = \"text-align: right;\">1.232</td><td style = \"text-align: right;\">1.24264</td><td style = \"text-align: right;\">1.32507</td><td style = \"text-align: right;\">1.36902</td><td style = \"text-align: right;\">1.39727</td><td style = \"text-align: right;\">1.37978</td><td style = \"text-align: right;\">1.29717</td><td style = \"text-align: right;\">1.17706</td><td style = \"text-align: right;\">1.05867</td><td style = \"text-align: right;\">0.953184</td><td style = \"text-align: right;\">0.899909</td><td style = \"text-align: right;\">0.879994</td><td style = \"text-align: right;\">0.877028</td><td style = \"text-align: right;\">0.894158</td><td style = \"text-align: right;\">0.972554</td><td style = \"text-align: right;\">1.10729</td><td style = \"text-align: right;\">1.21309</td><td style = \"text-align: right;\">1.31137</td><td style = \"text-align: right;\">1.37013</td><td style = \"text-align: right;\">1.37631</td><td style = \"text-align: right;\">1.35004</td><td style = \"text-align: right;\">1.34625</td><td style = \"text-align: right;\">1.31384</td><td style = \"text-align: right;\">1.2848</td><td style = \"text-align: right;\">1.27552</td><td style = \"text-align: right;\">1.28503</td><td style = \"text-align: right;\">1.36263</td><td style = \"text-align: right;\">1.40307</td><td style = \"text-align: right;\">1.42128</td><td style = \"text-align: right;\">1.39626</td><td style = \"text-align: right;\">1.30622</td><td style = \"text-align: right;\">1.17668</td><td style = \"text-align: right;\">1.06579</td><td style = \"text-align: right;\">0.974974</td><td style = \"text-align: right;\">0.923187</td><td style = \"text-align: right;\">0.902714</td><td style = \"text-align: right;\">0.902012</td><td style = \"text-align: right;\">0.925266</td><td style = \"text-align: right;\">1.02293</td><td style = \"text-align: right;\">1.18455</td><td style = \"text-align: right;\">1.31088</td><td style = \"text-align: right;\">1.39839</td><td style = \"text-align: right;\">1.46428</td><td style = \"text-align: right;\">1.47861</td><td style = \"text-align: right;\">1.47425</td><td style = \"text-align: right;\">1.48365</td><td style = \"text-align: right;\">1.44722</td><td style = \"text-align: right;\">1.41328</td><td style = \"text-align: right;\">1.39056</td><td style = \"text-align: right;\">1.39705</td><td style = \"text-align: right;\">1.46326</td><td style = \"text-align: right;\">1.50484</td><td style = \"text-align: right;\">1.52255</td><td style = \"text-align: right;\">1.48023</td><td style = \"text-align: right;\">1.36585</td><td style = \"text-align: right;\">1.21978</td><td style = \"text-align: right;\">1.10281</td><td style = \"text-align: right;\">0.998605</td><td style = \"text-align: right;\">0.948431</td><td style = \"text-align: right;\">0.928095</td><td style = \"text-align: right;\">&ctdot;</td></tr><tr><td class = \"rowNumber\" style = \"font-weight: bold; text-align: right;\">4094</td><td style = \"text-align: right;\">7889</td><td style = \"text-align: right;\">0.797202</td><td style = \"text-align: right;\">0.760636</td><td style = \"text-align: right;\">0.719218</td><td style = \"text-align: right;\">0.685847</td><td style = \"text-align: right;\">0.672671</td><td style = \"text-align: right;\">0.673796</td><td style = \"text-align: right;\">0.69226</td><td style = \"text-align: right;\">0.696423</td><td style = \"text-align: right;\">0.737828</td><td style = \"text-align: right;\">0.816692</td><td style = \"text-align: right;\">0.879963</td><td style = \"text-align: right;\">0.933936</td><td style = \"text-align: right;\">0.960492</td><td style = \"text-align: right;\">0.937516</td><td style = \"text-align: right;\">0.914276</td><td style = \"text-align: right;\">0.90615</td><td style = \"text-align: right;\">0.911333</td><td style = \"text-align: right;\">0.996564</td><td style = \"text-align: right;\">1.0871</td><td style = \"text-align: right;\">1.1094</td><td style = \"text-align: right;\">1.10358</td><td style = \"text-align: right;\">1.07132</td><td style = \"text-align: right;\">1.01638</td><td style = \"text-align: right;\">0.926947</td><td style = \"text-align: right;\">0.848593</td><td style = \"text-align: right;\">0.78747</td><td style = \"text-align: right;\">0.751491</td><td style = \"text-align: right;\">0.732933</td><td style = \"text-align: right;\">0.730084</td><td style = \"text-align: right;\">0.743614</td><td style = \"text-align: right;\">0.799037</td><td style = \"text-align: right;\">0.884195</td><td style = \"text-align: right;\">1.00072</td><td style = \"text-align: right;\">1.10157</td><td style = \"text-align: right;\">1.15522</td><td style = \"text-align: right;\">1.18195</td><td style = \"text-align: right;\">1.16716</td><td style = \"text-align: right;\">1.14997</td><td style = \"text-align: right;\">1.16141</td><td style = \"text-align: right;\">1.1369</td><td style = \"text-align: right;\">1.13801</td><td style = \"text-align: right;\">1.19031</td><td style = \"text-align: right;\">1.25925</td><td style = \"text-align: right;\">1.27377</td><td style = \"text-align: right;\">1.24419</td><td style = \"text-align: right;\">1.19036</td><td style = \"text-align: right;\">1.11957</td><td style = \"text-align: right;\">1.0093</td><td style = \"text-align: right;\">0.919796</td><td style = \"text-align: right;\">0.854862</td><td style = \"text-align: right;\">0.816485</td><td style = \"text-align: right;\">0.795733</td><td style = \"text-align: right;\">0.790563</td><td style = \"text-align: right;\">0.799131</td><td style = \"text-align: right;\">0.860552</td><td style = \"text-align: right;\">0.964554</td><td style = \"text-align: right;\">1.08198</td><td style = \"text-align: right;\">1.16443</td><td style = \"text-align: right;\">1.17766</td><td style = \"text-align: right;\">1.19735</td><td style = \"text-align: right;\">1.1794</td><td style = \"text-align: right;\">1.1585</td><td style = \"text-align: right;\">1.17206</td><td style = \"text-align: right;\">1.15259</td><td style = \"text-align: right;\">1.14439</td><td style = \"text-align: right;\">1.19282</td><td style = \"text-align: right;\">1.27064</td><td style = \"text-align: right;\">1.28829</td><td style = \"text-align: right;\">1.26234</td><td style = \"text-align: right;\">1.21183</td><td style = \"text-align: right;\">1.14553</td><td style = \"text-align: right;\">1.04609</td><td style = \"text-align: right;\">0.951057</td><td style = \"text-align: right;\">0.881252</td><td style = \"text-align: right;\">0.841819</td><td style = \"text-align: right;\">0.822363</td><td style = \"text-align: right;\">0.81203</td><td style = \"text-align: right;\">0.82074</td><td style = \"text-align: right;\">0.872902</td><td style = \"text-align: right;\">0.985488</td><td style = \"text-align: right;\">1.11484</td><td style = \"text-align: right;\">1.2079</td><td style = \"text-align: right;\">1.22269</td><td style = \"text-align: right;\">1.23995</td><td style = \"text-align: right;\">1.20899</td><td style = \"text-align: right;\">1.18321</td><td style = \"text-align: right;\">1.20891</td><td style = \"text-align: right;\">1.17457</td><td style = \"text-align: right;\">1.16451</td><td style = \"text-align: right;\">1.20871</td><td style = \"text-align: right;\">1.29232</td><td style = \"text-align: right;\">1.31679</td><td style = \"text-align: right;\">1.28865</td><td style = \"text-align: right;\">1.22934</td><td style = \"text-align: right;\">1.17688</td><td style = \"text-align: right;\">1.06563</td><td style = \"text-align: right;\">0.964596</td><td style = \"text-align: right;\">0.894809</td><td style = \"text-align: right;\">0.854021</td><td style = \"text-align: right;\">&ctdot;</td></tr><tr><td class = \"rowNumber\" style = \"font-weight: bold; text-align: right;\">4095</td><td style = \"text-align: right;\">7890</td><td style = \"text-align: right;\">0.83585</td><td style = \"text-align: right;\">0.822867</td><td style = \"text-align: right;\">0.824238</td><td style = \"text-align: right;\">0.850228</td><td style = \"text-align: right;\">0.923523</td><td style = \"text-align: right;\">1.06982</td><td style = \"text-align: right;\">1.2544</td><td style = \"text-align: right;\">1.37244</td><td style = \"text-align: right;\">1.39856</td><td style = \"text-align: right;\">1.40639</td><td style = \"text-align: right;\">1.41404</td><td style = \"text-align: right;\">1.40577</td><td style = \"text-align: right;\">1.39708</td><td style = \"text-align: right;\">1.37567</td><td style = \"text-align: right;\">1.36437</td><td style = \"text-align: right;\">1.36063</td><td style = \"text-align: right;\">1.39486</td><td style = \"text-align: right;\">1.4153</td><td style = \"text-align: right;\">1.38588</td><td style = \"text-align: right;\">1.32566</td><td style = \"text-align: right;\">1.25487</td><td style = \"text-align: right;\">1.1981</td><td style = \"text-align: right;\">1.116</td><td style = \"text-align: right;\">1.05583</td><td style = \"text-align: right;\">1.02612</td><td style = \"text-align: right;\">1.00161</td><td style = \"text-align: right;\">0.990632</td><td style = \"text-align: right;\">1.00252</td><td style = \"text-align: right;\">1.02518</td><td style = \"text-align: right;\">1.09689</td><td style = \"text-align: right;\">1.20971</td><td style = \"text-align: right;\">1.26471</td><td style = \"text-align: right;\">1.26334</td><td style = \"text-align: right;\">1.26492</td><td style = \"text-align: right;\">1.27967</td><td style = \"text-align: right;\">1.27313</td><td style = \"text-align: right;\">1.26997</td><td style = \"text-align: right;\">1.24809</td><td style = \"text-align: right;\">1.24147</td><td style = \"text-align: right;\">1.23998</td><td style = \"text-align: right;\">1.28421</td><td style = \"text-align: right;\">1.31345</td><td style = \"text-align: right;\">1.27581</td><td style = \"text-align: right;\">1.23489</td><td style = \"text-align: right;\">1.17731</td><td style = \"text-align: right;\">1.12615</td><td style = \"text-align: right;\">1.05694</td><td style = \"text-align: right;\">0.994445</td><td style = \"text-align: right;\">0.960592</td><td style = \"text-align: right;\">0.933955</td><td style = \"text-align: right;\">0.920405</td><td style = \"text-align: right;\">0.926213</td><td style = \"text-align: right;\">0.950556</td><td style = \"text-align: right;\">1.04425</td><td style = \"text-align: right;\">1.18627</td><td style = \"text-align: right;\">1.2674</td><td style = \"text-align: right;\">1.25308</td><td style = \"text-align: right;\">1.27329</td><td style = \"text-align: right;\">1.27608</td><td style = \"text-align: right;\">1.29254</td><td style = \"text-align: right;\">1.2682</td><td style = \"text-align: right;\">1.26205</td><td style = \"text-align: right;\">1.24735</td><td style = \"text-align: right;\">1.21274</td><td style = \"text-align: right;\">1.24437</td><td style = \"text-align: right;\">1.25269</td><td style = \"text-align: right;\">1.22032</td><td style = \"text-align: right;\">1.16369</td><td style = \"text-align: right;\">1.10632</td><td style = \"text-align: right;\">1.07018</td><td style = \"text-align: right;\">0.985327</td><td style = \"text-align: right;\">0.916047</td><td style = \"text-align: right;\">0.864785</td><td style = \"text-align: right;\">0.858543</td><td style = \"text-align: right;\">0.858873</td><td style = \"text-align: right;\">0.879349</td><td style = \"text-align: right;\">0.930675</td><td style = \"text-align: right;\">1.0594</td><td style = \"text-align: right;\">1.20308</td><td style = \"text-align: right;\">1.27758</td><td style = \"text-align: right;\">1.29901</td><td style = \"text-align: right;\">1.3224</td><td style = \"text-align: right;\">1.35507</td><td style = \"text-align: right;\">1.35605</td><td style = \"text-align: right;\">1.35983</td><td style = \"text-align: right;\">1.33179</td><td style = \"text-align: right;\">1.32435</td><td style = \"text-align: right;\">1.30493</td><td style = \"text-align: right;\">1.34551</td><td style = \"text-align: right;\">1.34982</td><td style = \"text-align: right;\">1.32433</td><td style = \"text-align: right;\">1.24601</td><td style = \"text-align: right;\">1.17189</td><td style = \"text-align: right;\">1.10939</td><td style = \"text-align: right;\">1.01667</td><td style = \"text-align: right;\">0.957518</td><td style = \"text-align: right;\">0.909666</td><td style = \"text-align: right;\">0.885215</td><td style = \"text-align: right;\">0.882681</td><td style = \"text-align: right;\">&ctdot;</td></tr><tr><td class = \"rowNumber\" style = \"font-weight: bold; text-align: right;\">4096</td><td style = \"text-align: right;\">7892</td><td style = \"text-align: right;\">0.760011</td><td style = \"text-align: right;\">0.717197</td><td style = \"text-align: right;\">0.684961</td><td style = \"text-align: right;\">0.665928</td><td style = \"text-align: right;\">0.665482</td><td style = \"text-align: right;\">0.688565</td><td style = \"text-align: right;\">0.720753</td><td style = \"text-align: right;\">0.727058</td><td style = \"text-align: right;\">0.748545</td><td style = \"text-align: right;\">0.809047</td><td style = \"text-align: right;\">0.867267</td><td style = \"text-align: right;\">0.886671</td><td style = \"text-align: right;\">0.909873</td><td style = \"text-align: right;\">0.921609</td><td style = \"text-align: right;\">0.884216</td><td style = \"text-align: right;\">0.864776</td><td style = \"text-align: right;\">0.875928</td><td style = \"text-align: right;\">0.970354</td><td style = \"text-align: right;\">1.03238</td><td style = \"text-align: right;\">1.07504</td><td style = \"text-align: right;\">1.07431</td><td style = \"text-align: right;\">1.02834</td><td style = \"text-align: right;\">0.930468</td><td style = \"text-align: right;\">0.845344</td><td style = \"text-align: right;\">0.780709</td><td style = \"text-align: right;\">0.747462</td><td style = \"text-align: right;\">0.736977</td><td style = \"text-align: right;\">0.739217</td><td style = \"text-align: right;\">0.774922</td><td style = \"text-align: right;\">0.903267</td><td style = \"text-align: right;\">1.09106</td><td style = \"text-align: right;\">1.23461</td><td style = \"text-align: right;\">1.30895</td><td style = \"text-align: right;\">1.3389</td><td style = \"text-align: right;\">1.32922</td><td style = \"text-align: right;\">1.311</td><td style = \"text-align: right;\">1.30049</td><td style = \"text-align: right;\">1.2602</td><td style = \"text-align: right;\">1.24109</td><td style = \"text-align: right;\">1.23536</td><td style = \"text-align: right;\">1.24838</td><td style = \"text-align: right;\">1.30816</td><td style = \"text-align: right;\">1.33385</td><td style = \"text-align: right;\">1.33496</td><td style = \"text-align: right;\">1.30767</td><td style = \"text-align: right;\">1.20051</td><td style = \"text-align: right;\">1.0812</td><td style = \"text-align: right;\">0.990019</td><td style = \"text-align: right;\">0.915148</td><td style = \"text-align: right;\">0.8651</td><td style = \"text-align: right;\">0.847103</td><td style = \"text-align: right;\">0.840481</td><td style = \"text-align: right;\">0.861477</td><td style = \"text-align: right;\">0.943544</td><td style = \"text-align: right;\">1.08603</td><td style = \"text-align: right;\">1.18674</td><td style = \"text-align: right;\">1.24265</td><td style = \"text-align: right;\">1.26039</td><td style = \"text-align: right;\">1.24176</td><td style = \"text-align: right;\">1.2223</td><td style = \"text-align: right;\">1.21859</td><td style = \"text-align: right;\">1.18681</td><td style = \"text-align: right;\">1.16063</td><td style = \"text-align: right;\">1.14624</td><td style = \"text-align: right;\">1.15525</td><td style = \"text-align: right;\">1.21226</td><td style = \"text-align: right;\">1.24059</td><td style = \"text-align: right;\">1.25074</td><td style = \"text-align: right;\">1.24058</td><td style = \"text-align: right;\">1.15931</td><td style = \"text-align: right;\">1.04934</td><td style = \"text-align: right;\">0.979893</td><td style = \"text-align: right;\">0.910904</td><td style = \"text-align: right;\">0.861119</td><td style = \"text-align: right;\">0.84813</td><td style = \"text-align: right;\">0.842705</td><td style = \"text-align: right;\">0.860631</td><td style = \"text-align: right;\">0.941832</td><td style = \"text-align: right;\">1.07215</td><td style = \"text-align: right;\">1.16081</td><td style = \"text-align: right;\">1.22157</td><td style = \"text-align: right;\">1.24252</td><td style = \"text-align: right;\">1.23734</td><td style = \"text-align: right;\">1.22461</td><td style = \"text-align: right;\">1.2177</td><td style = \"text-align: right;\">1.18338</td><td style = \"text-align: right;\">1.15681</td><td style = \"text-align: right;\">1.14395</td><td style = \"text-align: right;\">1.14141</td><td style = \"text-align: right;\">1.18152</td><td style = \"text-align: right;\">1.1943</td><td style = \"text-align: right;\">1.19553</td><td style = \"text-align: right;\">1.18061</td><td style = \"text-align: right;\">1.11006</td><td style = \"text-align: right;\">1.02212</td><td style = \"text-align: right;\">0.951821</td><td style = \"text-align: right;\">0.889063</td><td style = \"text-align: right;\">0.839099</td><td style = \"text-align: right;\">0.81773</td><td style = \"text-align: right;\">&ctdot;</td></tr><tr><td class = \"rowNumber\" style = \"font-weight: bold; text-align: right;\">4097</td><td style = \"text-align: right;\">7893</td><td style = \"text-align: right;\">0.804381</td><td style = \"text-align: right;\">0.786385</td><td style = \"text-align: right;\">0.782704</td><td style = \"text-align: right;\">0.795431</td><td style = \"text-align: right;\">0.846975</td><td style = \"text-align: right;\">0.938863</td><td style = \"text-align: right;\">1.00202</td><td style = \"text-align: right;\">1.05336</td><td style = \"text-align: right;\">1.07189</td><td style = \"text-align: right;\">1.0775</td><td style = \"text-align: right;\">1.07306</td><td style = \"text-align: right;\">1.08133</td><td style = \"text-align: right;\">1.07342</td><td style = \"text-align: right;\">1.05831</td><td style = \"text-align: right;\">1.08493</td><td style = \"text-align: right;\">1.16475</td><td style = \"text-align: right;\">1.17808</td><td style = \"text-align: right;\">1.16175</td><td style = \"text-align: right;\">1.1449</td><td style = \"text-align: right;\">1.08604</td><td style = \"text-align: right;\">1.01479</td><td style = \"text-align: right;\">0.943764</td><td style = \"text-align: right;\">0.894628</td><td style = \"text-align: right;\">0.862154</td><td style = \"text-align: right;\">0.847722</td><td style = \"text-align: right;\">0.830333</td><td style = \"text-align: right;\">0.836599</td><td style = \"text-align: right;\">0.846457</td><td style = \"text-align: right;\">0.887898</td><td style = \"text-align: right;\">0.954365</td><td style = \"text-align: right;\">1.02561</td><td style = \"text-align: right;\">1.08358</td><td style = \"text-align: right;\">1.11489</td><td style = \"text-align: right;\">1.11052</td><td style = \"text-align: right;\">1.10527</td><td style = \"text-align: right;\">1.10487</td><td style = \"text-align: right;\">1.08722</td><td style = \"text-align: right;\">1.08246</td><td style = \"text-align: right;\">1.09667</td><td style = \"text-align: right;\">1.16891</td><td style = \"text-align: right;\">1.17538</td><td style = \"text-align: right;\">1.16036</td><td style = \"text-align: right;\">1.14589</td><td style = \"text-align: right;\">1.09923</td><td style = \"text-align: right;\">1.02696</td><td style = \"text-align: right;\">0.961306</td><td style = \"text-align: right;\">0.900008</td><td style = \"text-align: right;\">0.867794</td><td style = \"text-align: right;\">0.850865</td><td style = \"text-align: right;\">0.839906</td><td style = \"text-align: right;\">0.839048</td><td style = \"text-align: right;\">0.864705</td><td style = \"text-align: right;\">0.930227</td><td style = \"text-align: right;\">1.02775</td><td style = \"text-align: right;\">1.10816</td><td style = \"text-align: right;\">1.1482</td><td style = \"text-align: right;\">1.16333</td><td style = \"text-align: right;\">1.15319</td><td style = \"text-align: right;\">1.14428</td><td style = \"text-align: right;\">1.14314</td><td style = \"text-align: right;\">1.12444</td><td style = \"text-align: right;\">1.11387</td><td style = \"text-align: right;\">1.13489</td><td style = \"text-align: right;\">1.20119</td><td style = \"text-align: right;\">1.23625</td><td style = \"text-align: right;\">1.22539</td><td style = \"text-align: right;\">1.1982</td><td style = \"text-align: right;\">1.15183</td><td style = \"text-align: right;\">1.07633</td><td style = \"text-align: right;\">0.997317</td><td style = \"text-align: right;\">0.94341</td><td style = \"text-align: right;\">0.911147</td><td style = \"text-align: right;\">0.883105</td><td style = \"text-align: right;\">0.876893</td><td style = \"text-align: right;\">0.886372</td><td style = \"text-align: right;\">0.902407</td><td style = \"text-align: right;\">0.952496</td><td style = \"text-align: right;\">1.04915</td><td style = \"text-align: right;\">1.11146</td><td style = \"text-align: right;\">1.14264</td><td style = \"text-align: right;\">1.14703</td><td style = \"text-align: right;\">1.14725</td><td style = \"text-align: right;\">1.15134</td><td style = \"text-align: right;\">1.14591</td><td style = \"text-align: right;\">1.13389</td><td style = \"text-align: right;\">1.11698</td><td style = \"text-align: right;\">1.13477</td><td style = \"text-align: right;\">1.20399</td><td style = \"text-align: right;\">1.22484</td><td style = \"text-align: right;\">1.20626</td><td style = \"text-align: right;\">1.18642</td><td style = \"text-align: right;\">1.13638</td><td style = \"text-align: right;\">1.06129</td><td style = \"text-align: right;\">1.00186</td><td style = \"text-align: right;\">0.945368</td><td style = \"text-align: right;\">0.919909</td><td style = \"text-align: right;\">0.894675</td><td style = \"text-align: right;\">0.883776</td><td style = \"text-align: right;\">0.895727</td><td style = \"text-align: right;\">&ctdot;</td></tr></tbody></table></div>"
      ],
      "text/latex": [
       "\\begin{tabular}{r|cccccccccc}\n",
       "\t& Column1 & 0 & 1 & 2 & 3 & 4 & 5 & 6 & 7 & \\\\\n",
       "\t\\hline\n",
       "\t& Int64 & Float64 & Float64 & Float64 & Float64 & Float64 & Float64 & Float64 & Float64 & \\\\\n",
       "\t\\hline\n",
       "\t1 & 81 & 1.13557 & 1.12543 & 1.11811 & 1.14711 & 1.25385 & 1.37139 & 1.446 & 1.51316 & $\\dots$ \\\\\n",
       "\t2 & 82 & 0.933537 & 0.910476 & 0.925002 & 0.960108 & 1.05485 & 1.16503 & 1.25982 & 1.31265 & $\\dots$ \\\\\n",
       "\t3 & 83 & 0.867103 & 0.871388 & 0.887594 & 0.934847 & 1.03289 & 1.15492 & 1.29417 & 1.38025 & $\\dots$ \\\\\n",
       "\t4 & 84 & 0.798439 & 0.785086 & 0.785474 & 0.798889 & 0.8276 & 0.905052 & 0.999134 & 1.09612 & $\\dots$ \\\\\n",
       "\t5 & 85 & 0.8401 & 0.805474 & 0.793918 & 0.782738 & 0.771327 & 0.778645 & 0.826011 & 0.892376 & $\\dots$ \\\\\n",
       "\t6 & 86 & 0.733483 & 0.710304 & 0.695572 & 0.698443 & 0.711916 & 0.742373 & 0.813142 & 0.855503 & $\\dots$ \\\\\n",
       "\t7 & 87 & 0.92908 & 0.919089 & 0.912357 & 0.937145 & 1.00689 & 1.09691 & 1.19277 & 1.26284 & $\\dots$ \\\\\n",
       "\t8 & 88 & 0.955082 & 0.958165 & 0.985505 & 1.04787 & 1.18051 & 1.33646 & 1.48684 & 1.5551 & $\\dots$ \\\\\n",
       "\t9 & 89 & 1.05564 & 1.04208 & 1.03689 & 1.0604 & 1.14661 & 1.2542 & 1.3265 & 1.39249 & $\\dots$ \\\\\n",
       "\t10 & 90 & 1.03456 & 1.01863 & 1.03112 & 1.07418 & 1.1904 & 1.31651 & 1.42421 & 1.47911 & $\\dots$ \\\\\n",
       "\t11 & 91 & 0.951279 & 0.91725 & 0.912524 & 0.924708 & 0.991293 & 1.04963 & 1.11014 & 1.1511 & $\\dots$ \\\\\n",
       "\t12 & 92 & 1.16986 & 1.15464 & 1.14998 & 1.1736 & 1.25564 & 1.35924 & 1.4274 & 1.48782 & $\\dots$ \\\\\n",
       "\t13 & 93 & 0.962154 & 0.94282 & 0.94471 & 0.963393 & 1.02317 & 1.11177 & 1.19304 & 1.27201 & $\\dots$ \\\\\n",
       "\t14 & 94 & 0.855008 & 0.84824 & 0.871355 & 0.931402 & 1.07251 & 1.23674 & 1.37906 & 1.41764 & $\\dots$ \\\\\n",
       "\t15 & 95 & 1.12707 & 1.10853 & 1.08913 & 1.10585 & 1.2035 & 1.29202 & 1.35378 & 1.42658 & $\\dots$ \\\\\n",
       "\t16 & 99 & 0.922702 & 0.876523 & 0.836585 & 0.831266 & 0.878122 & 0.944901 & 1.02704 & 1.13557 & $\\dots$ \\\\\n",
       "\t17 & 100 & 0.637714 & 0.628518 & 0.621014 & 0.646467 & 0.708567 & 0.787827 & 0.865117 & 0.929696 & $\\dots$ \\\\\n",
       "\t18 & 101 & 0.542614 & 0.538904 & 0.54417 & 0.566468 & 0.645863 & 0.74581 & 0.839448 & 0.894122 & $\\dots$ \\\\\n",
       "\t19 & 103 & 0.973173 & 0.919195 & 0.872762 & 0.857483 & 0.864076 & 0.891605 & 0.946354 & 1.0314 & $\\dots$ \\\\\n",
       "\t20 & 104 & 0.79627 & 0.772823 & 0.764139 & 0.786177 & 0.84579 & 0.946838 & 1.04025 & 1.14581 & $\\dots$ \\\\\n",
       "\t21 & 105 & 0.917126 & 0.87356 & 0.842483 & 0.841046 & 0.899043 & 0.987832 & 1.08288 & 1.22129 & $\\dots$ \\\\\n",
       "\t22 & 106 & 0.788126 & 0.764855 & 0.755836 & 0.776268 & 0.868324 & 0.992882 & 1.10501 & 1.20757 & $\\dots$ \\\\\n",
       "\t23 & 107 & 0.737555 & 0.712509 & 0.68853 & 0.694723 & 0.711641 & 0.754207 & 0.809642 & 0.90312 & $\\dots$ \\\\\n",
       "\t24 & 108 & 0.766755 & 0.739388 & 0.72262 & 0.734117 & 0.785943 & 0.865748 & 0.94824 & 1.03365 & $\\dots$ \\\\\n",
       "\t25 & 109 & 0.743516 & 0.705951 & 0.670354 & 0.658307 & 0.680027 & 0.699302 & 0.740874 & 0.80567 & $\\dots$ \\\\\n",
       "\t26 & 110 & 0.754408 & 0.734933 & 0.722633 & 0.740843 & 0.813082 & 0.911141 & 1.00823 & 1.10612 & $\\dots$ \\\\\n",
       "\t27 & 111 & 0.825157 & 0.797828 & 0.782978 & 0.802396 & 0.862544 & 0.959145 & 1.05607 & 1.15631 & $\\dots$ \\\\\n",
       "\t28 & 112 & 0.842762 & 0.806521 & 0.780698 & 0.786445 & 0.831691 & 0.899553 & 0.972918 & 1.07082 & $\\dots$ \\\\\n",
       "\t29 & 113 & 0.801406 & 0.773812 & 0.77181 & 0.789515 & 0.87139 & 1.00168 & 1.13179 & 1.23672 & $\\dots$ \\\\\n",
       "\t30 & 114 & 0.762023 & 0.733614 & 0.706668 & 0.713828 & 0.750818 & 0.808451 & 0.873143 & 0.969042 & $\\dots$ \\\\\n",
       "\t$\\dots$ & $\\dots$ & $\\dots$ & $\\dots$ & $\\dots$ & $\\dots$ & $\\dots$ & $\\dots$ & $\\dots$ & $\\dots$ &  \\\\\n",
       "\\end{tabular}\n"
      ],
      "text/plain": [
       "\u001b[1m4097×8737 DataFrame\u001b[0m\n",
       "\u001b[1m  Row \u001b[0m│\u001b[1m Column1 \u001b[0m\u001b[1m 0        \u001b[0m\u001b[1m 1        \u001b[0m\u001b[1m 2        \u001b[0m\u001b[1m 3        \u001b[0m\u001b[1m 4        \u001b[0m\u001b[1m 5        \u001b[0m\u001b[1m 6\u001b[0m ⋯\n",
       "      │\u001b[90m Int64   \u001b[0m\u001b[90m Float64  \u001b[0m\u001b[90m Float64  \u001b[0m\u001b[90m Float64  \u001b[0m\u001b[90m Float64  \u001b[0m\u001b[90m Float64  \u001b[0m\u001b[90m Float64  \u001b[0m\u001b[90m F\u001b[0m ⋯\n",
       "──────┼─────────────────────────────────────────────────────────────────────────\n",
       "    1 │      81  1.13557   1.12543   1.11811   1.14711   1.25385   1.37139   1 ⋯\n",
       "    2 │      82  0.933537  0.910476  0.925002  0.960108  1.05485   1.16503   1\n",
       "    3 │      83  0.867103  0.871388  0.887594  0.934847  1.03289   1.15492   1\n",
       "    4 │      84  0.798439  0.785086  0.785474  0.798889  0.8276    0.905052  0\n",
       "    5 │      85  0.8401    0.805474  0.793918  0.782738  0.771327  0.778645  0 ⋯\n",
       "    6 │      86  0.733483  0.710304  0.695572  0.698443  0.711916  0.742373  0\n",
       "    7 │      87  0.92908   0.919089  0.912357  0.937145  1.00689   1.09691   1\n",
       "    8 │      88  0.955082  0.958165  0.985505  1.04787   1.18051   1.33646   1\n",
       "    9 │      89  1.05564   1.04208   1.03689   1.0604    1.14661   1.2542    1 ⋯\n",
       "   10 │      90  1.03456   1.01863   1.03112   1.07418   1.1904    1.31651   1\n",
       "   11 │      91  0.951279  0.91725   0.912524  0.924708  0.991293  1.04963   1\n",
       "  ⋮   │    ⋮        ⋮         ⋮         ⋮         ⋮         ⋮         ⋮        ⋱\n",
       " 4088 │    7883  0.873505  0.823286  0.809528  0.810161  0.841711  0.922418  1\n",
       " 4089 │    7884  0.803471  0.823995  0.811458  0.813523  0.800412  0.830827  0 ⋯\n",
       " 4090 │    7885  0.679624  0.677362  0.671903  0.698929  0.743381  0.859089  0\n",
       " 4091 │    7886  0.958165  0.948056  0.945056  0.935912  0.965061  0.991083  1\n",
       " 4092 │    7887  0.861178  0.821186  0.79408   0.799405  0.849965  0.982713  1\n",
       " 4093 │    7888  0.895363  0.853955  0.834912  0.837733  0.87886   0.998756  1 ⋯\n",
       " 4094 │    7889  0.797202  0.760636  0.719218  0.685847  0.672671  0.673796  0\n",
       " 4095 │    7890  0.83585   0.822867  0.824238  0.850228  0.923523  1.06982   1\n",
       " 4096 │    7892  0.760011  0.717197  0.684961  0.665928  0.665482  0.688565  0\n",
       " 4097 │    7893  0.804381  0.786385  0.782704  0.795431  0.846975  0.938863  1 ⋯\n",
       "\u001b[36m                                              8730 columns and 4076 rows omitted\u001b[0m"
      ]
     },
     "execution_count": 40,
     "metadata": {},
     "output_type": "execute_result"
    }
   ],
   "source": [
    "normalized_loads_df = CSV.read(\"../doc/data/europe_load_series.csv\", DataFrame)\n",
    "sort!(normalized_loads_df)"
   ]
  },
  {
   "cell_type": "markdown",
   "id": "d2f9f7a5-8976-44c9-9019-98d96e7e9d60",
   "metadata": {},
   "source": [
    "Check that the IDs match:"
   ]
  },
  {
   "cell_type": "code",
   "execution_count": 41,
   "id": "0cd3a6c1-7b21-4e0c-8f13-895f88746d03",
   "metadata": {},
   "outputs": [
    {
     "data": {
      "text/plain": [
       "true"
      ]
     },
     "execution_count": 41,
     "metadata": {},
     "output_type": "execute_result"
    }
   ],
   "source": [
    "normalized_loads_df[:, 1] == bus_ids"
   ]
  },
  {
   "cell_type": "code",
   "execution_count": 42,
   "id": "2708c860-3f34-4b09-8488-b603551ffcb4",
   "metadata": {},
   "outputs": [
    {
     "data": {
      "text/plain": [
       "4097×8736 Matrix{Float64}:\n",
       " 1.13557   1.12543   1.11811   1.14711   …  1.35167   1.24511   1.17542\n",
       " 0.933537  0.910476  0.925002  0.960108     1.11518   1.01182   0.962993\n",
       " 0.867103  0.871388  0.887594  0.934847     0.982226  0.917873  0.869044\n",
       " 0.798439  0.785086  0.785474  0.798889     0.972084  0.886739  0.833901\n",
       " 0.8401    0.805474  0.793918  0.782738     1.04626   0.956483  0.90332\n",
       " 0.733483  0.710304  0.695572  0.698443  …  0.899803  0.836091  0.789785\n",
       " 0.92908   0.919089  0.912357  0.937145     1.10438   1.02501   0.967391\n",
       " 0.955082  0.958165  0.985505  1.04787      1.06848   0.994147  0.9486\n",
       " 1.05564   1.04208   1.03689   1.0604       1.26612   1.1612    1.09677\n",
       " 1.03456   1.01863   1.03112   1.07418      1.21535   1.11583   1.06174\n",
       " 0.951279  0.91725   0.912524  0.924708  …  1.17415   1.07007   1.01327\n",
       " 1.16986   1.15464   1.14998   1.1736       1.38071   1.27374   1.20869\n",
       " 0.962154  0.94282   0.94471   0.963393     1.16267   1.06001   1.00197\n",
       " ⋮                                       ⋱                      ⋮\n",
       " 0.787548  0.767315  0.747221  0.750914  …  0.908475  0.855343  0.810849\n",
       " 0.897376  0.850959  0.850695  0.877098     1.03589   0.974398  0.934521\n",
       " 0.873505  0.823286  0.809528  0.810161     1.09395   1.03075   0.944414\n",
       " 0.803471  0.823995  0.811458  0.813523     0.893686  0.852801  0.81722\n",
       " 0.679624  0.677362  0.671903  0.698929     0.83196   0.759514  0.702867\n",
       " 0.958165  0.948056  0.945056  0.935912  …  1.10357   1.05847   0.995344\n",
       " 0.861178  0.821186  0.79408   0.799405     0.999692  0.948274  0.880225\n",
       " 0.895363  0.853955  0.834912  0.837733     1.20697   1.09726   0.9811\n",
       " 0.797202  0.760636  0.719218  0.685847     1.03769   1.00212   0.92076\n",
       " 0.83585   0.822867  0.824238  0.850228     1.01236   0.960718  0.90683\n",
       " 0.760011  0.717197  0.684961  0.665928  …  0.99875   0.922365  0.833586\n",
       " 0.804381  0.786385  0.782704  0.795431     0.914125  0.856201  0.816576"
      ]
     },
     "execution_count": 42,
     "metadata": {},
     "output_type": "execute_result"
    }
   ],
   "source": [
    "normalized_loads = Matrix(normalized_loads_df[:, 2:end])"
   ]
  },
  {
   "cell_type": "markdown",
   "id": "fdcb4248-12f6-48b9-bc7b-9213ddf20adc",
   "metadata": {},
   "source": [
    "Check normalization:"
   ]
  },
  {
   "cell_type": "code",
   "execution_count": 43,
   "id": "83148e82-bd9c-4b6a-be2d-17372b52b213",
   "metadata": {},
   "outputs": [
    {
     "data": {
      "text/plain": [
       "1.0001457896701273"
      ]
     },
     "execution_count": 43,
     "metadata": {},
     "output_type": "execute_result"
    }
   ],
   "source": [
    "sum(normalized_loads) / T / Nbuses"
   ]
  },
  {
   "cell_type": "markdown",
   "id": "ded2cb0b-cc76-4bc2-9f99-4da78c6bb38b",
   "metadata": {},
   "source": [
    "Split into countries:"
   ]
  },
  {
   "cell_type": "code",
   "execution_count": 44,
   "id": "ef05ae89-0736-467b-876b-02bffb87eef9",
   "metadata": {},
   "outputs": [
    {
     "data": {
      "text/plain": [
       "Dict{String, Float64} with 26 entries:\n",
       "  \"SI\" => 15.0\n",
       "  \"ES\" => 908.0\n",
       "  \"GR\" => 38.0\n",
       "  \"LU\" => 12.0468\n",
       "  \"HU\" => 46.9921\n",
       "  \"CH\" => 163.0\n",
       "  \"MK\" => 12.0\n",
       "  \"RS\" => 53.0\n",
       "  \"XX\" => 13.0\n",
       "  \"DE\" => 560.385\n",
       "  \"AL\" => 30.0\n",
       "  \"FR\" => 865.0\n",
       "  \"PL\" => 188.0\n",
       "  \"IT\" => 324.0\n",
       "  \"AT\" => 78.1372\n",
       "  \"HR\" => 28.0\n",
       "  \"PT\" => 146.0\n",
       "  \"ME\" => 10.0\n",
       "  \"NL\" => 38.0081\n",
       "  \"BE\" => 50.028\n",
       "  \"RO\" => 124.0\n",
       "  \"BG\" => 64.0\n",
       "  \"CZ\" => 71.0\n",
       "  \"SK\" => 43.0\n",
       "  \"DK\" => 182.0\n",
       "  \"BA\" => 35.0"
      ]
     },
     "execution_count": 44,
     "metadata": {},
     "output_type": "execute_result"
    }
   ],
   "source": [
    "bus_country = Dict(bus[\"index\"] => bus[\"country\"] for bus ∈ values(network[\"bus\"]))\n",
    "\n",
    "normalized_annual_load = sum(normalized_loads, dims=2) / T\n",
    "normalized_annual_load_by_country = Dict(country => 0.0 for country in countries)\n",
    "for id ∈ bus_ids\n",
    "    normalized_annual_load_by_country[bus_country[id]] += normalized_annual_load[bus_ids_map[id]]\n",
    "end\n",
    "\n",
    "normalized_annual_load_by_country"
   ]
  },
  {
   "cell_type": "markdown",
   "id": "7cb65530-15ae-4607-bf1a-688839e46dca",
   "metadata": {},
   "source": [
    "Check that the load assignement within each country is properly normalized:"
   ]
  },
  {
   "cell_type": "code",
   "execution_count": 45,
   "id": "bd83b60c-55d6-45cb-9ac4-f70e31d2441c",
   "metadata": {},
   "outputs": [
    {
     "data": {
      "text/plain": [
       "Dict{String, Float64} with 26 entries:\n",
       "  \"SI\" => 1.0\n",
       "  \"ES\" => 1.0\n",
       "  \"GR\" => 1.0\n",
       "  \"LU\" => 1.0\n",
       "  \"HU\" => 1.0\n",
       "  \"CH\" => 1.0\n",
       "  \"MK\" => 1.0\n",
       "  \"RS\" => 1.0\n",
       "  \"XX\" => 1.0\n",
       "  \"DE\" => 1.0\n",
       "  \"AL\" => 1.0\n",
       "  \"FR\" => 1.0\n",
       "  \"PL\" => 1.0\n",
       "  \"IT\" => 1.0\n",
       "  \"AT\" => 1.0\n",
       "  \"HR\" => 1.0\n",
       "  \"PT\" => 1.0\n",
       "  \"ME\" => 1.0\n",
       "  \"NL\" => 1.0\n",
       "  \"BE\" => 1.0\n",
       "  \"RO\" => 1.0\n",
       "  \"BG\" => 1.0\n",
       "  \"CZ\" => 1.0\n",
       "  \"SK\" => 1.0\n",
       "  \"DK\" => 1.0\n",
       "  \"BA\" => 1.0"
      ]
     },
     "execution_count": 45,
     "metadata": {},
     "output_type": "execute_result"
    }
   ],
   "source": [
    "load_prop_by_country = Dict(country => 0.0 for country in countries)\n",
    "for bus ∈ values(network[\"bus\"])\n",
    "    load_prop_by_country[bus[\"country\"]] += bus[\"load_prop\"]\n",
    "end\n",
    "\n",
    "load_prop_by_country"
   ]
  },
  {
   "cell_type": "markdown",
   "id": "8daa2591-d66b-4c1b-ad47-96534057c524",
   "metadata": {},
   "source": [
    "Compute a scaling value for each country:"
   ]
  },
  {
   "cell_type": "code",
   "execution_count": 46,
   "id": "7838a7f8-ba6b-44d4-82ff-2533434fa4d8",
   "metadata": {},
   "outputs": [
    {
     "data": {
      "text/plain": [
       "Dict{String, Float64} with 26 entries:\n",
       "  \"SI\" => 0.660432\n",
       "  \"ES\" => 0.152671\n",
       "  \"GR\" => 1.4892\n",
       "  \"LU\" => 0.295907\n",
       "  \"HU\" => 0.791616\n",
       "  \"CH\" => 0.243798\n",
       "  \"MK\" => 0.531363\n",
       "  \"RS\" => 0.527562\n",
       "  \"XX\" => 0.203038\n",
       "  \"DE\" => 0.55906\n",
       "  \"AL\" => 0.15677\n",
       "  \"FR\" => 0.625255\n",
       "  \"PL\" => 0.712935\n",
       "  \"IT\" => 0.522057\n",
       "  \"AT\" => 0.867631\n",
       "  \"HR\" => 0.497412\n",
       "  \"PT\" => 0.252493\n",
       "  \"ME\" => 0.264364\n",
       "  \"NL\" => 1.94224\n",
       "  \"BE\" => 1.42988\n",
       "  \"RO\" => 0.43645\n",
       "  \"BG\" => 0.548781\n",
       "  \"CZ\" => 0.674341\n",
       "  \"SK\" => 0.734032\n",
       "  \"DK\" => 0.0579019\n",
       "  \"BA\" => 0.262521"
      ]
     },
     "execution_count": 46,
     "metadata": {},
     "output_type": "execute_result"
    }
   ],
   "source": [
    "load_scaling_by_country = Dict(country => expected_load_by_country[country] / value\n",
    "    for (country, value) ∈ normalized_annual_load_by_country)"
   ]
  },
  {
   "cell_type": "code",
   "execution_count": 47,
   "id": "eb3ccde6-e5ec-48b9-8705-48b9b7014dfb",
   "metadata": {},
   "outputs": [
    {
     "data": {
      "text/plain": [
       "4097×8736 Matrix{Float64}:\n",
       " 0.721026   0.714589   0.709939   …  0.858237   0.790578   0.746327\n",
       " 0.50816    0.495607   0.503514      0.607034   0.550774   0.524195\n",
       " 0.30487    0.306377   0.312075      0.345347   0.322721   0.305552\n",
       " 0.216517   0.212897   0.213002      0.263606   0.240462   0.226134\n",
       " 0.144991   0.139015   0.13702       0.180571   0.165077   0.155901\n",
       " 0.232407   0.225062   0.220394   …  0.285106   0.264918   0.250246\n",
       " 0.456641   0.451731   0.448422      0.5428     0.503792   0.475471\n",
       " 0.203504   0.204161   0.209987      0.227667   0.211828   0.202123\n",
       " 0.449859   0.444083   0.44187       0.539556   0.494846   0.467391\n",
       " 0.239064   0.235385   0.23827       0.280842   0.257846   0.245347\n",
       " 0.195259   0.188275   0.187304   …  0.241006   0.219643   0.207983\n",
       " 0.153156   0.151163   0.150553      0.180759   0.166756   0.158239\n",
       " 0.205415   0.201287   0.20169       0.248224   0.226307   0.213915\n",
       " ⋮                                ⋱                        ⋮\n",
       " 0.25982    0.253145   0.246516   …  0.299715   0.282186   0.267508\n",
       " 0.358408   0.33987    0.339765      0.41373    0.389171   0.373244\n",
       " 0.0726174  0.0684425  0.0672988     0.090944   0.0856896  0.0785122\n",
       " 0.373591   0.383135   0.377305      0.415539   0.396529   0.379984\n",
       " 0.197995   0.197336   0.195746      0.242375   0.22127    0.204767\n",
       " 0.558285   0.552395   0.550647   …  0.643005   0.616727   0.579948\n",
       " 0.583522   0.556423   0.538056      0.677376   0.642536   0.596427\n",
       " 0.0121625  0.0116     0.0113413     0.0163953  0.0149051  0.0133271\n",
       " 0.019826   0.0189166  0.0178865     0.0258068  0.024922   0.0228988\n",
       " 0.154325   0.151928   0.152181      0.186915   0.17738    0.16743\n",
       " 0.029901   0.0282166  0.0269483  …  0.0392936  0.0362885  0.0327957\n",
       " 0.063664   0.0622397  0.0619484     0.0723499  0.0677654  0.0646293"
      ]
     },
     "execution_count": 47,
     "metadata": {},
     "output_type": "execute_result"
    }
   ],
   "source": [
    "load_scaling = [(\n",
    "        network[\"bus\"][string(id)][\"load_prop\"]\n",
    "        * normalized_annual_load_by_country[network[\"bus\"][string(id)][\"country\"]]\n",
    "        * load_scaling_by_country[network[\"bus\"][string(id)][\"country\"]]\n",
    "        )\n",
    "    for id ∈ bus_ids]\n",
    "\n",
    "loads = load_scaling .* normalized_loads"
   ]
  },
  {
   "cell_type": "markdown",
   "id": "6676fc9a-27fd-4eed-9bbd-bd75ed812786",
   "metadata": {},
   "source": [
    "Check that the annual load matches the expectations:"
   ]
  },
  {
   "cell_type": "code",
   "execution_count": 48,
   "id": "dcd3782b-15df-4222-abe5-11beeb45df87",
   "metadata": {},
   "outputs": [
    {
     "data": {
      "text/plain": [
       "Dict{String, Float64} with 26 entries:\n",
       "  \"SI\" => 1.0\n",
       "  \"ES\" => 1.0\n",
       "  \"GR\" => 1.0\n",
       "  \"LU\" => 1.00393\n",
       "  \"HU\" => 0.999829\n",
       "  \"CH\" => 1.0\n",
       "  \"MK\" => 1.0\n",
       "  \"RS\" => 1.0\n",
       "  \"XX\" => 1.0\n",
       "  \"DE\" => 1.00069\n",
       "  \"AL\" => 1.0\n",
       "  \"FR\" => 1.0\n",
       "  \"PL\" => 1.0\n",
       "  \"IT\" => 1.0\n",
       "  \"AT\" => 1.00177\n",
       "  \"HR\" => 1.0\n",
       "  \"PT\" => 1.0\n",
       "  \"ME\" => 1.0\n",
       "  \"NL\" => 1.00019\n",
       "  \"BE\" => 1.00053\n",
       "  \"RO\" => 1.0\n",
       "  \"BG\" => 1.0\n",
       "  \"CZ\" => 1.0\n",
       "  \"SK\" => 1.0\n",
       "  \"DK\" => 1.0\n",
       "  \"BA\" => 1.0"
      ]
     },
     "execution_count": 48,
     "metadata": {},
     "output_type": "execute_result"
    }
   ],
   "source": [
    "annual_load = sum(loads, dims=2) / T\n",
    "annual_load_by_country = Dict(country => 0.0 for country in countries)\n",
    "for id ∈ bus_ids\n",
    "    annual_load_by_country[bus_country[id]] += annual_load[bus_ids_map[id]]\n",
    "end\n",
    "\n",
    "Dict(country => annual_load_by_country[country] / expected_load_by_country[country] for country ∈ countries)"
   ]
  },
  {
   "cell_type": "code",
   "execution_count": 49,
   "id": "fb0898cb-d58b-4124-ac03-668977924aa6",
   "metadata": {},
   "outputs": [
    {
     "data": {
      "text/plain": [
       "8736-element Vector{Float64}:\n",
       " 1717.8513403491056\n",
       " 1672.0906231760202\n",
       " 1630.2834745123464\n",
       " 1631.298945846584\n",
       " 1707.2237080121654\n",
       " 1870.3235084671355\n",
       " 2048.3796169769334\n",
       " 2170.4252174910994\n",
       " 2242.534682999395\n",
       " 2283.1801618714762\n",
       " 2308.655024587559\n",
       " 2320.8099868509807\n",
       " 2297.9049453808148\n",
       "    ⋮\n",
       " 1958.5235665981604\n",
       " 1914.4888277748246\n",
       " 1895.8123829925985\n",
       " 1929.9392953057663\n",
       " 2036.619395485746\n",
       " 2115.3202400064374\n",
       " 2128.155557160382\n",
       " 2077.049343041922\n",
       " 1999.7682241667403\n",
       " 1958.1652469758737\n",
       " 1890.3303618160303\n",
       " 1792.8398209578002"
      ]
     },
     "execution_count": 49,
     "metadata": {},
     "output_type": "execute_result"
    }
   ],
   "source": [
    "total_load = sum(loads, dims=1)[1, :]"
   ]
  },
  {
   "cell_type": "markdown",
   "id": "3a758174-57da-4a84-a783-6941bdcfe561",
   "metadata": {
    "jp-MarkdownHeadingCollapsed": true
   },
   "source": [
    "## Ramp constraints"
   ]
  },
  {
   "cell_type": "code",
   "execution_count": 50,
   "id": "75024808-080f-4a8b-b67f-52f5194b4437",
   "metadata": {},
   "outputs": [
    {
     "data": {
      "text/plain": [
       "167-element Vector{Int64}:\n",
       "    9\n",
       "   10\n",
       "   23\n",
       "   35\n",
       "   36\n",
       "   37\n",
       "   39\n",
       "   42\n",
       "   68\n",
       "   72\n",
       "  100\n",
       "  126\n",
       "  180\n",
       "    ⋮\n",
       "  947\n",
       "  948\n",
       "  969\n",
       "  973\n",
       "  975\n",
       "  981\n",
       " 1004\n",
       " 1005\n",
       " 1018\n",
       " 1019\n",
       " 1061\n",
       " 1077"
      ]
     },
     "execution_count": 50,
     "metadata": {},
     "output_type": "execute_result"
    }
   ],
   "source": [
    "ramp_gen_ids = sort([parse(Int, id) for (id, gen) ∈ network[\"gen\"] if gen[\"aggregated_type\"] == \"coal\"])"
   ]
  },
  {
   "cell_type": "code",
   "execution_count": 51,
   "id": "6da13747-2160-48f6-87f6-f40f2f24d4e2",
   "metadata": {},
   "outputs": [
    {
     "data": {
      "text/plain": [
       "167"
      ]
     },
     "execution_count": 51,
     "metadata": {},
     "output_type": "execute_result"
    }
   ],
   "source": [
    "N_ramp_constraints = length(ramp_gen_ids)"
   ]
  },
  {
   "cell_type": "code",
   "execution_count": 52,
   "id": "d981f137-694a-4570-b2bc-cd152b944d60",
   "metadata": {},
   "outputs": [
    {
     "data": {
      "text/plain": [
       "167×1039 SparseMatrixCSC{Float64, Int64} with 167 stored entries:\n",
       "⎡⠈⠉⠐⠐⠐⠀⠐⠦⢄⣀⠀⠀⠀⠀⠀⠀⠀⠀⠀⠀⠀⠀⠀⠀⠀⠀⠀⠀⠀⠀⠀⠀⠀⠀⠀⠀⠀⠀⠀⠀⎤\n",
       "⎢⠀⠀⠀⠀⠀⠀⠀⠀⠀⠈⠉⠙⠲⢤⣀⣀⠀⠀⠀⠀⠀⠀⠀⠀⠀⠀⠀⠀⠀⠀⠀⠀⠀⠀⠀⠀⠀⠀⠀⠀⎥\n",
       "⎣⠀⠀⠀⠀⠀⠀⠀⠀⠀⠀⠀⠀⠀⠀⠀⠈⠁⠀⠉⠉⠁⠀⠀⠀⠈⠀⠀⠀⠒⠒⠒⠲⠤⠀⠤⢤⢀⡀⢀⢀⎦"
      ]
     },
     "execution_count": 52,
     "metadata": {},
     "output_type": "execute_result"
    }
   ],
   "source": [
    "A_gen_ramp = sparse(1:N_ramp_constraints, [gen_ids_map[id] for id ∈ ramp_gen_ids], ones(N_ramp_constraints), N_ramp_constraints, Ngens)"
   ]
  },
  {
   "cell_type": "code",
   "execution_count": 53,
   "id": "871a4671-ef02-42ac-9e3f-1584f03a223b",
   "metadata": {},
   "outputs": [],
   "source": [
    "gen_ramp = 2. * ones(N_ramp_constraints);"
   ]
  },
  {
   "cell_type": "markdown",
   "id": "b8b8a4cd-3e98-43cc-9fd5-a2b9bf0d4e6f",
   "metadata": {
    "jp-MarkdownHeadingCollapsed": true
   },
   "source": [
    "## Cost computation"
   ]
  },
  {
   "cell_type": "markdown",
   "id": "30459304-1b5b-40d3-91aa-811f7d9919b2",
   "metadata": {},
   "source": [
    "Quadratic cost for each line:"
   ]
  },
  {
   "cell_type": "code",
   "execution_count": 54,
   "id": "820f7d96-c260-4c65-a186-42764af9a2fa",
   "metadata": {},
   "outputs": [],
   "source": [
    "line_costs = 1. ./ lines_thermal_limit;"
   ]
  },
  {
   "cell_type": "markdown",
   "id": "f56bebba-b22b-4df6-b83e-9a07a287ea54",
   "metadata": {},
   "source": [
    "Quadratic term:"
   ]
  },
  {
   "cell_type": "code",
   "execution_count": 55,
   "id": "6287b34d-4a7c-42bb-b126-0b45c32160de",
   "metadata": {},
   "outputs": [
    {
     "data": {
      "text/plain": [
       "1039×1039 Matrix{Float64}:\n",
       "  0.586155     0.201792     0.201592    …  -0.057275    0.0602631   0.0602631\n",
       "  0.201792     0.69641      0.696211       -0.0580143   0.0592317   0.0592317\n",
       "  0.201592     0.696211     1.10418        -0.0582136   0.0590324   0.0590324\n",
       "  0.201592     0.696211     0.900093       -0.0582136   0.0590324   0.0590324\n",
       "  0.128966     0.127872     0.127673       -0.0553122   0.0561581   0.0561581\n",
       "  0.131182     0.129961     0.129762    …  -0.0551642   0.0564105   0.0564105\n",
       "  0.127573     0.12675      0.126551       -0.0553062   0.0563286   0.0563286\n",
       "  0.15602      0.152999     0.152799       -0.0566643   0.0573773   0.0573773\n",
       "  0.15602      0.152999     0.152799       -0.0566643   0.0573773   0.0573773\n",
       "  0.15602      0.152999     0.152799       -0.0566643   0.0573773   0.0573773\n",
       "  0.156096     0.153071     0.152872    …  -0.0566116   0.0574311   0.0574311\n",
       "  0.155886     0.15285      0.152651       -0.0564959   0.0575183   0.0575183\n",
       "  0.155886     0.15285      0.152651       -0.0564959   0.0575183   0.0575183\n",
       "  ⋮                                     ⋱                          \n",
       "  0.00702334   0.00624016   0.00604091     -0.0360683   0.0163209   0.0163209\n",
       "  0.00702334   0.00624016   0.00604091     -0.0360683   0.0163209   0.0163209\n",
       "  0.00702334   0.00624016   0.00604091     -0.0360683   0.0163209   0.0163209\n",
       " -0.00181775  -0.00263296  -0.00283221  …  -0.0377603   0.0106521   0.0106521\n",
       " -0.0594598   -0.0601988   -0.0603981       0.0938117  -0.0549622  -0.0549622\n",
       "  0.0511361    0.0502613    0.0500621      -0.0507367   0.0760246   0.0760246\n",
       "  0.0188874    0.0180027    0.0178035      -0.0483308   0.0380449   0.0380449\n",
       "  0.0137749    0.012897     0.0126978      -0.0491157   0.032345    0.032345\n",
       "  0.0137749    0.012897     0.0126978   …  -0.0491157   0.032345    0.032345\n",
       " -0.057275    -0.0580143   -0.0582136       0.313007   -0.0527411  -0.0527411\n",
       "  0.0602631    0.0592317    0.0590324      -0.0527411   0.153885    0.153885\n",
       "  0.0602631    0.0592317    0.0590324      -0.0527411   0.153885    0.153885"
      ]
     },
     "execution_count": 55,
     "metadata": {},
     "output_type": "execute_result"
    }
   ],
   "source": [
    "LA = L * A_gen\n",
    "\n",
    "quadratic_cost = LA' * (line_costs .* LA)"
   ]
  },
  {
   "cell_type": "markdown",
   "id": "2d761d6a-8f67-42fb-b444-53d5e74a2a1d",
   "metadata": {},
   "source": [
    "Linear term:"
   ]
  },
  {
   "cell_type": "code",
   "execution_count": 71,
   "id": "5748a7ed-bba9-4f93-ae64-5497ebce5677",
   "metadata": {},
   "outputs": [
    {
     "data": {
      "text/plain": [
       "1039×8736 Matrix{Float64}:\n",
       " -50.8009  -50.2454  -50.8867  -52.6162  …  -57.9082  -52.9049  -50.5614\n",
       " -51.9204  -51.3979  -52.1173  -53.9156     -59.0852  -53.9697  -51.656\n",
       " -51.9996  -51.4948  -52.2356  -54.0516     -59.1334  -54.0101  -51.7111\n",
       " -51.9636  -51.4567  -52.1951  -54.0059     -59.1     -53.9765  -51.6787\n",
       " -46.8604  -46.3034  -46.8339  -48.373      -53.513   -48.8708  -46.6336\n",
       " -47.1264  -46.5489  -47.0662  -48.6096  …  -53.8578  -49.1872  -46.907\n",
       " -46.1676  -45.629   -46.1726  -47.7034     -52.6705  -48.0957  -45.9189\n",
       " -55.1316  -54.3282  -54.7666  -56.4796     -63.3756  -57.8673  -54.9134\n",
       " -55.1316  -54.3282  -54.7666  -56.4796     -63.3756  -57.8673  -54.9134\n",
       " -55.1316  -54.3282  -54.7666  -56.4796     -63.3756  -57.8673  -54.9134\n",
       " -54.5091  -53.7298  -54.1848  -55.8912  …  -62.604   -57.1797  -54.2885\n",
       " -53.4924  -52.7476  -53.219   -54.9083     -61.3705  -56.0597  -53.2661\n",
       " -53.4924  -52.7476  -53.219   -54.9083     -61.3705  -56.0597  -53.2661\n",
       "   ⋮                                     ⋱                        ⋮\n",
       " -10.359   -10.2396  -10.425   -11.0023     -12.2507  -11.0983  -10.3649\n",
       " -10.359   -10.2396  -10.425   -11.0023     -12.2507  -11.0983  -10.3649\n",
       " -10.359   -10.2396  -10.425   -11.0023     -12.2507  -11.0983  -10.3649\n",
       " -13.1263  -12.8382  -12.9859  -13.4932  …  -15.026   -14.0917  -13.2502\n",
       "  42.1885   41.6288   41.4121   42.8035      48.5404   45.233    42.7279\n",
       " -34.9449  -34.6505  -35.1612  -36.4995     -39.6218  -36.343   -34.7699\n",
       " -27.3249  -27.2014  -27.8849  -29.0533     -30.4114  -28.1411  -27.0455\n",
       " -24.4216  -24.3792  -25.1523  -26.2776     -26.865   -24.8633  -24.0\n",
       " -24.4216  -24.3792  -25.1523  -26.2776  …  -26.865   -24.8633  -24.0\n",
       "  42.0304   41.425    41.2793   42.6368      48.5621   45.1657   42.6277\n",
       " -38.3327  -38.0489  -38.6443  -40.1111     -43.29    -39.7473  -38.1226\n",
       " -38.3327  -38.0489  -38.6443  -40.1111     -43.29    -39.7473  -38.1226"
      ]
     },
     "execution_count": 71,
     "metadata": {},
     "output_type": "execute_result"
    }
   ],
   "source": [
    "linear_cost = 2 * LA' * (line_costs .* L * (A_nuc * nuclear_profiles - loads))"
   ]
  },
  {
   "cell_type": "markdown",
   "id": "7dc55a79-8e3f-4824-b382-051fa74d3cd6",
   "metadata": {},
   "source": [
    "## Export the data"
   ]
  },
  {
   "cell_type": "code",
   "execution_count": 57,
   "id": "0c56e62a-9afe-4795-90b1-ca6092730ea9",
   "metadata": {},
   "outputs": [],
   "source": [
    "DataDrop.store_matrix(\"PTDF_data/P_max_gen.h5\", gen_pmax)"
   ]
  },
  {
   "cell_type": "code",
   "execution_count": 58,
   "id": "a195e930-2c82-4ae1-8a96-9fb7e0b29d99",
   "metadata": {},
   "outputs": [],
   "source": [
    "DataDrop.store_matrix(\"PTDF_data/P_exp_gen.h5\", gen_pexp)"
   ]
  },
  {
   "cell_type": "code",
   "execution_count": 59,
   "id": "91cf0935-be2f-4be6-a23a-58547a77a641",
   "metadata": {},
   "outputs": [],
   "source": [
    "DataDrop.store_matrix(\"PTDF_data/P_total.h5\", total_load - total_nuclear)"
   ]
  },
  {
   "cell_type": "code",
   "execution_count": 60,
   "id": "d7c2761d-ccb5-4323-bc3b-d0302ff5bf37",
   "metadata": {},
   "outputs": [],
   "source": [
    "DataDrop.store_matrix(\"PTDF_data/A_gen_ramp.h5\", A_gen_ramp)"
   ]
  },
  {
   "cell_type": "code",
   "execution_count": 61,
   "id": "f8360198-6f93-47ab-8e03-8f95f15487af",
   "metadata": {},
   "outputs": [],
   "source": [
    "DataDrop.store_matrix(\"PTDF_data/gen_ramp.h5\", gen_ramp)"
   ]
  },
  {
   "cell_type": "code",
   "execution_count": 73,
   "id": "dfbca46e-083d-4a25-b0d5-62fd57f39c47",
   "metadata": {},
   "outputs": [],
   "source": [
    "DataDrop.store_matrix(\"PTDF_data/linear_line_cost.h5\", linear_cost)"
   ]
  },
  {
   "cell_type": "code",
   "execution_count": 63,
   "id": "1fc94f29-422f-4327-af1b-ef1d3113f2b3",
   "metadata": {},
   "outputs": [],
   "source": [
    "DataDrop.store_matrix(\"PTDF_data/linear_gen_cost.h5\", gen_costs)"
   ]
  },
  {
   "cell_type": "code",
   "execution_count": 64,
   "id": "749224ae-06f4-4c7b-8439-c08601db668a",
   "metadata": {},
   "outputs": [],
   "source": [
    "DataDrop.store_matrix(\"PTDF_data/quadratic_cost.h5\", quadratic_cost)"
   ]
  },
  {
   "cell_type": "markdown",
   "id": "6ddbba0f-4b3f-4e00-bdfd-34d4af7afcee",
   "metadata": {},
   "source": [
    "Data used for analysis of results:"
   ]
  },
  {
   "cell_type": "code",
   "execution_count": 65,
   "id": "09b85a82-73ac-40dc-9ea0-19166034b331",
   "metadata": {},
   "outputs": [],
   "source": [
    "DataDrop.store_matrix(\"PTDF_data/A_gen.h5\", A_gen)"
   ]
  },
  {
   "cell_type": "code",
   "execution_count": 74,
   "id": "cb121d27-37db-4f57-9065-1dc38ea6e474",
   "metadata": {},
   "outputs": [],
   "source": [
    "DataDrop.store_matrix(\"PTDF_data/P_load.h5\", loads)"
   ]
  },
  {
   "cell_type": "code",
   "execution_count": 67,
   "id": "0b64c83d-cecf-48be-91a8-5c19207e6970",
   "metadata": {},
   "outputs": [],
   "source": [
    "DataDrop.store_matrix(\"PTDF_data/A_nuc.h5\", A_nuc)\n",
    "DataDrop.store_matrix(\"PTDF_data/P_nuc.h5\", nuclear_profiles)"
   ]
  },
  {
   "cell_type": "code",
   "execution_count": 68,
   "id": "43014ca5-00cd-42ee-b85b-f2a3fba737ae",
   "metadata": {},
   "outputs": [],
   "source": [
    "DataDrop.store_matrix(\"PTDF_data/PTDF_matrix.h5\", L)"
   ]
  },
  {
   "cell_type": "code",
   "execution_count": 69,
   "id": "7257a5d0-a602-466e-9a23-5266b4ef49fa",
   "metadata": {},
   "outputs": [],
   "source": [
    "DataDrop.store_matrix(\"PTDF_data/thermal_limits.h5\", convert(Vector{Float64}, lines_thermal_limit))"
   ]
  },
  {
   "cell_type": "code",
   "execution_count": 70,
   "id": "c77bb9f3-5510-4e4a-b9b9-038dda207b32",
   "metadata": {},
   "outputs": [],
   "source": [
    "DataDrop.store_matrix(\"PTDF_data/susceptance.h5\", b)"
   ]
  },
  {
   "cell_type": "code",
   "execution_count": null,
   "id": "361146de-7a6f-46e8-867a-b8af3d303dab",
   "metadata": {},
   "outputs": [],
   "source": []
  }
 ],
 "metadata": {
  "kernelspec": {
   "display_name": "Julia 1.10.3",
   "language": "julia",
   "name": "julia-1.10"
  },
  "language_info": {
   "file_extension": ".jl",
   "mimetype": "application/julia",
   "name": "julia",
   "version": "1.10.3"
  }
 },
 "nbformat": 4,
 "nbformat_minor": 5
}
