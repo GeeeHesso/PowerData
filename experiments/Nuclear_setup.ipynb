{
 "cells": [
  {
   "cell_type": "markdown",
   "id": "46c74566-13b8-4966-b54d-063e9d999cca",
   "metadata": {},
   "source": [
    "Goal\n",
    "====\n",
    "\n",
    "\n",
    "For each nuclear generator, examine the historic data and determine:\n",
    "- nominal power: average power when only considering time steps when power is above average\n",
    "- maintenance periods: find beginning and end of each period\n",
    "\n",
    "Output:\n",
    "- annual average\n",
    "- max power at every time step (either 5% above nominal power, or zero)"
   ]
  },
  {
   "cell_type": "code",
   "execution_count": null,
   "id": "d1eaad7b-91a5-48b0-ab39-7fddd4d3a7ff",
   "metadata": {},
   "outputs": [],
   "source": []
  }
 ],
 "metadata": {
  "kernelspec": {
   "display_name": "Python 3 (ipykernel)",
   "language": "python",
   "name": "python3"
  },
  "language_info": {
   "codemirror_mode": {
    "name": "ipython",
    "version": 3
   },
   "file_extension": ".py",
   "mimetype": "text/x-python",
   "name": "python",
   "nbconvert_exporter": "python",
   "pygments_lexer": "ipython3",
   "version": "3.10.14"
  }
 },
 "nbformat": 4,
 "nbformat_minor": 5
}
