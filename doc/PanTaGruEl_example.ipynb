{
 "cells": [
  {
   "cell_type": "markdown",
   "id": "839697f3-c035-4906-a606-fa82738c01da",
   "metadata": {},
   "source": [
    "# Example: the PanTaGruEl model of the European high-voltage network"
   ]
  },
  {
   "cell_type": "markdown",
   "id": "900bae4f-69fa-4409-a470-3cee221ef6d6",
   "metadata": {},
   "source": [
    "This notebook provides a complete example of how synthetic time series can be imported into a network given in the [PowerModel.jl](https://github.com/lanl-ansi/PowerModels.jl) format. \n",
    "\n",
    "To begin with, import the packages PowerModels and TemperateOptimalPowerFlow (TOPF), as well as a few other convenient packages:"
   ]
  },
  {
   "cell_type": "code",
   "execution_count": 1,
   "id": "bbab28ff-cbf2-48a3-9657-a9b2646b5b98",
   "metadata": {},
   "outputs": [
    {
     "name": "stderr",
     "output_type": "stream",
     "text": [
      "\u001b[32m\u001b[1mPrecompiling\u001b[22m\u001b[39m TemperateOptimalPowerFlow\n",
      "\u001b[32m  ✓ \u001b[39mTemperateOptimalPowerFlow\n",
      "  1 dependency successfully precompiled in 3 seconds. 80 already precompiled.\n"
     ]
    }
   ],
   "source": [
    "using PowerModels, TemperateOptimalPowerFlow"
   ]
  },
  {
   "cell_type": "code",
   "execution_count": 2,
   "id": "1810ed43-8ac8-4110-820e-bd9fa05af1ce",
   "metadata": {},
   "outputs": [],
   "source": [
    "using DataFrames, CSV"
   ]
  },
  {
   "cell_type": "markdown",
   "id": "19732df4-56df-42fe-8a5f-536eea6267a2",
   "metadata": {},
   "source": [
    "## Prepare the PanTaGruEl model"
   ]
  },
  {
   "cell_type": "markdown",
   "id": "e7b7ccb8-d2f5-4535-80c2-56639069378d",
   "metadata": {},
   "source": [
    "The PanTaGruEl network can be imported from the file `models/pantagruel.json` generated using the package [PanTaGruEl.jl](https://github.com/laurentpagnier/PanTaGruEl.jl)."
   ]
  },
  {
   "cell_type": "code",
   "execution_count": 3,
   "id": "2b67ba91-548e-41b0-871b-0fa6939071a8",
   "metadata": {},
   "outputs": [
    {
     "name": "stdout",
     "output_type": "stream",
     "text": [
      "\u001b[32m[info | PowerModels]: removing 2 cost terms from generator 788: Any[]\u001b[39m\n",
      "\u001b[32m[info | PowerModels]: removing 2 cost terms from generator 1070: Any[]\u001b[39m\n",
      "\u001b[32m[info | PowerModels]: removing 2 cost terms from generator 1067: Any[]\u001b[39m\n",
      "\u001b[32m[info | PowerModels]: removing 2 cost terms from generator 1068: Any[]\u001b[39m\n",
      "\u001b[32m[info | PowerModels]: removing 2 cost terms from generator 1069: Any[]\u001b[39m\n",
      "\u001b[32m[info | PowerModels]: removing 2 cost terms from generator 1066: Any[]\u001b[39m\n",
      "\u001b[32m[info | PowerModels]: removing 2 cost terms from generator 789: Any[]\u001b[39m\n"
     ]
    },
    {
     "data": {
      "text/plain": [
       "Dict{String, Any} with 11 entries:\n",
       "  \"bus\"      => Dict{String, Any}(\"4304\"=>Dict{String, Any}(\"coord\"=>Any[11.843…\n",
       "  \"name\"     => \"pantagruel\"\n",
       "  \"dcline\"   => Dict{String, Any}()\n",
       "  \"gen\"      => Dict{String, Any}(\"1\"=>Dict{String, Any}(\"model\"=>2, \"gen_bus\"=…\n",
       "  \"branch\"   => Dict{String, Any}(\"4304\"=>Dict{String, Any}(\"br_r\"=>0.00174284,…\n",
       "  \"storage\"  => Dict{String, Any}()\n",
       "  \"switch\"   => Dict{String, Any}()\n",
       "  \"baseMVA\"  => 100\n",
       "  \"per_unit\" => true\n",
       "  \"shunt\"    => Dict{String, Any}()\n",
       "  \"load\"     => Dict{String, Any}(\"3935\"=>Dict{String, Any}(\"status\"=>1, \"load_…"
      ]
     },
     "execution_count": 3,
     "metadata": {},
     "output_type": "execute_result"
    }
   ],
   "source": [
    "network = parse_file(\"../models/pantagruel.json\")"
   ]
  },
  {
   "cell_type": "markdown",
   "id": "f01cf268-d372-400e-8250-caac6aafbec8",
   "metadata": {},
   "source": [
    "The first step is to create lists that will be used as a static reference for all loads and generators."
   ]
  },
  {
   "cell_type": "code",
   "execution_count": 4,
   "id": "4b9c4f54-6473-48c0-ad63-2a16714fb833",
   "metadata": {},
   "outputs": [
    {
     "data": {
      "text/plain": [
       "3998"
      ]
     },
     "execution_count": 4,
     "metadata": {},
     "output_type": "execute_result"
    }
   ],
   "source": [
    "list_of_loads = create_list_of_loads(network)\n",
    "length(list_of_loads)"
   ]
  },
  {
   "cell_type": "code",
   "execution_count": 5,
   "id": "6e232967-da6c-475a-9191-ca56ed209e8a",
   "metadata": {},
   "outputs": [
    {
     "data": {
      "text/plain": [
       "1083"
      ]
     },
     "execution_count": 5,
     "metadata": {},
     "output_type": "execute_result"
    }
   ],
   "source": [
    "list_of_gens = create_list_of_gens(network)\n",
    "length(list_of_gens)"
   ]
  },
  {
   "cell_type": "markdown",
   "id": "a93026c7-3e4f-4a17-ae3c-a6687835396a",
   "metadata": {},
   "source": [
    "These lists should remain the same through all the process of data generation.\n",
    "If some files have already been created to store them (see below), then we should load the lists from the files instead:"
   ]
  },
  {
   "cell_type": "code",
   "execution_count": 6,
   "id": "5a2fdeb2-2fc9-4732-8445-f37d6768e0c0",
   "metadata": {},
   "outputs": [],
   "source": [
    "list_of_loads = string.(CSV.read(\"data/pantagruel_load_info.csv\", DataFrame).id)\n",
    "list_of_gens = string.(CSV.read(\"data/pantagruel_gen_info.csv\", DataFrame).id);"
   ]
  },
  {
   "cell_type": "markdown",
   "id": "2db0c0c5-2911-42d9-8b96-b5a8bcb6776f",
   "metadata": {},
   "source": [
    "Then we can gather some information for all loads in the list, such as the country label and the relative weight of the load in that country:"
   ]
  },
  {
   "cell_type": "code",
   "execution_count": 7,
   "id": "2cda6573-a631-477c-8532-c2cd1e2477a0",
   "metadata": {},
   "outputs": [
    {
     "data": {
      "text/html": [
       "<div><div style = \"float: left;\"><span>3998×4 DataFrame</span></div><div style = \"float: right;\"><span style = \"font-style: italic;\">3973 rows omitted</span></div><div style = \"clear: both;\"></div></div><div class = \"data-frame\" style = \"overflow-x: scroll;\"><table class = \"data-frame\" style = \"margin-bottom: 6px;\"><thead><tr class = \"header\"><th class = \"rowNumber\" style = \"font-weight: bold; text-align: right;\">Row</th><th style = \"text-align: left;\">id</th><th style = \"text-align: left;\">country</th><th style = \"text-align: left;\">load_prop</th><th style = \"text-align: left;\">name</th></tr><tr class = \"subheader headerLastRow\"><th class = \"rowNumber\" style = \"font-weight: bold; text-align: right;\"></th><th title = \"String\" style = \"text-align: left;\">String</th><th title = \"Any\" style = \"text-align: left;\">Any</th><th title = \"Any\" style = \"text-align: left;\">Any</th><th title = \"Any\" style = \"text-align: left;\">Any</th></tr></thead><tbody><tr><td class = \"rowNumber\" style = \"font-weight: bold; text-align: right;\">1</td><td style = \"text-align: left;\">3935</td><td style = \"text-align: left;\">DE</td><td style = \"text-align: left;\">0.0022038</td><td style = \"text-align: left;\">Unnamed 1340</td></tr><tr><td class = \"rowNumber\" style = \"font-weight: bold; text-align: right;\">2</td><td style = \"text-align: left;\">2243</td><td style = \"text-align: left;\">FR</td><td style = \"text-align: left;\">0.000443208</td><td style = \"text-align: left;\">Vallorcine</td></tr><tr><td class = \"rowNumber\" style = \"font-weight: bold; text-align: right;\">3</td><td style = \"text-align: left;\">1881</td><td style = \"text-align: left;\">FR</td><td style = \"text-align: left;\">0.00127502</td><td style = \"text-align: left;\">Mallemort</td></tr><tr><td class = \"rowNumber\" style = \"font-weight: bold; text-align: right;\">4</td><td style = \"text-align: left;\">1907</td><td style = \"text-align: left;\">FR</td><td style = \"text-align: left;\">0.000635447</td><td style = \"text-align: left;\">Breuil</td></tr><tr><td class = \"rowNumber\" style = \"font-weight: bold; text-align: right;\">5</td><td style = \"text-align: left;\">2923</td><td style = \"text-align: left;\">FR</td><td style = \"text-align: left;\">0.000650249</td><td style = \"text-align: left;\">La Justice</td></tr><tr><td class = \"rowNumber\" style = \"font-weight: bold; text-align: right;\">6</td><td style = \"text-align: left;\">599</td><td style = \"text-align: left;\">ES</td><td style = \"text-align: left;\">0.000506166</td><td style = \"text-align: left;\">Alcobendas</td></tr><tr><td class = \"rowNumber\" style = \"font-weight: bold; text-align: right;\">7</td><td style = \"text-align: left;\">2491</td><td style = \"text-align: left;\">IT</td><td style = \"text-align: left;\">0.00328872</td><td style = \"text-align: left;\">Trav.</td></tr><tr><td class = \"rowNumber\" style = \"font-weight: bold; text-align: right;\">8</td><td style = \"text-align: left;\">228</td><td style = \"text-align: left;\">ES</td><td style = \"text-align: left;\">0.00773441</td><td style = \"text-align: left;\">Sant Fost</td></tr><tr><td class = \"rowNumber\" style = \"font-weight: bold; text-align: right;\">9</td><td style = \"text-align: left;\">2590</td><td style = \"text-align: left;\">NL</td><td style = \"text-align: left;\">0.0248207</td><td style = \"text-align: left;\">Zwolle</td></tr><tr><td class = \"rowNumber\" style = \"font-weight: bold; text-align: right;\">10</td><td style = \"text-align: left;\">3697</td><td style = \"text-align: left;\">DE</td><td style = \"text-align: left;\">0.00301701</td><td style = \"text-align: left;\">Unnamed 1015</td></tr><tr><td class = \"rowNumber\" style = \"font-weight: bold; text-align: right;\">11</td><td style = \"text-align: left;\">2579</td><td style = \"text-align: left;\">NL</td><td style = \"text-align: left;\">0.015866</td><td style = \"text-align: left;\">Ens</td></tr><tr><td class = \"rowNumber\" style = \"font-weight: bold; text-align: right;\">12</td><td style = \"text-align: left;\">1880</td><td style = \"text-align: left;\">FR</td><td style = \"text-align: left;\">0.000772531</td><td style = \"text-align: left;\">L&apos;&apos;Ardoise</td></tr><tr><td class = \"rowNumber\" style = \"font-weight: bold; text-align: right;\">13</td><td style = \"text-align: left;\">2562</td><td style = \"text-align: left;\">IT</td><td style = \"text-align: left;\">0.00307548</td><td style = \"text-align: left;\">Voghera</td></tr><tr><td style = \"text-align: right;\">&vellip;</td><td style = \"text-align: right;\">&vellip;</td><td style = \"text-align: right;\">&vellip;</td><td style = \"text-align: right;\">&vellip;</td><td style = \"text-align: right;\">&vellip;</td></tr><tr><td class = \"rowNumber\" style = \"font-weight: bold; text-align: right;\">3987</td><td style = \"text-align: left;\">2667</td><td style = \"text-align: left;\">ES</td><td style = \"text-align: left;\">0.00062494</td><td style = \"text-align: left;\">Cordovilla</td></tr><tr><td class = \"rowNumber\" style = \"font-weight: bold; text-align: right;\">3988</td><td style = \"text-align: left;\">348</td><td style = \"text-align: left;\">ES</td><td style = \"text-align: left;\">0.000256431</td><td style = \"text-align: left;\">Aceca</td></tr><tr><td class = \"rowNumber\" style = \"font-weight: bold; text-align: right;\">3989</td><td style = \"text-align: left;\">3844</td><td style = \"text-align: left;\">PL</td><td style = \"text-align: left;\">0.00270093</td><td style = \"text-align: left;\">Unnamed 1214</td></tr><tr><td class = \"rowNumber\" style = \"font-weight: bold; text-align: right;\">3990</td><td style = \"text-align: left;\">1008</td><td style = \"text-align: left;\">DE</td><td style = \"text-align: left;\">0.00357771</td><td style = \"text-align: left;\">Neufinsing</td></tr><tr><td class = \"rowNumber\" style = \"font-weight: bold; text-align: right;\">3991</td><td style = \"text-align: left;\">3717</td><td style = \"text-align: left;\">DK</td><td style = \"text-align: left;\">0.000321574</td><td style = \"text-align: left;\">Unnamed 1038</td></tr><tr><td class = \"rowNumber\" style = \"font-weight: bold; text-align: right;\">3992</td><td style = \"text-align: left;\">434</td><td style = \"text-align: left;\">ES</td><td style = \"text-align: left;\">0.00107233</td><td style = \"text-align: left;\">Romica</td></tr><tr><td class = \"rowNumber\" style = \"font-weight: bold; text-align: right;\">3993</td><td style = \"text-align: left;\">2551</td><td style = \"text-align: left;\">IT</td><td style = \"text-align: left;\">0.00174498</td><td style = \"text-align: left;\">Monfalcone</td></tr><tr><td class = \"rowNumber\" style = \"font-weight: bold; text-align: right;\">3994</td><td style = \"text-align: left;\">3028</td><td style = \"text-align: left;\">ES</td><td style = \"text-align: left;\">8.80556e-5</td><td style = \"text-align: left;\">Conso</td></tr><tr><td class = \"rowNumber\" style = \"font-weight: bold; text-align: right;\">3995</td><td style = \"text-align: left;\">563</td><td style = \"text-align: left;\">ES</td><td style = \"text-align: left;\">0.00584992</td><td style = \"text-align: left;\">Sanchinarro</td></tr><tr><td class = \"rowNumber\" style = \"font-weight: bold; text-align: right;\">3996</td><td style = \"text-align: left;\">732</td><td style = \"text-align: left;\">DK</td><td style = \"text-align: left;\">0.000705152</td><td style = \"text-align: left;\">Unnamed 199</td></tr><tr><td class = \"rowNumber\" style = \"font-weight: bold; text-align: right;\">3997</td><td style = \"text-align: left;\">3276</td><td style = \"text-align: left;\">PT</td><td style = \"text-align: left;\">0.0137451</td><td style = \"text-align: left;\">Unnamed 115</td></tr><tr><td class = \"rowNumber\" style = \"font-weight: bold; text-align: right;\">3998</td><td style = \"text-align: left;\">3405</td><td style = \"text-align: left;\">ES</td><td style = \"text-align: left;\">0.000822005</td><td style = \"text-align: left;\">Unnamed 544</td></tr></tbody></table></div>"
      ],
      "text/latex": [
       "\\begin{tabular}{r|cccc}\n",
       "\t& id & country & load\\_prop & name\\\\\n",
       "\t\\hline\n",
       "\t& String & Any & Any & Any\\\\\n",
       "\t\\hline\n",
       "\t1 & 3935 & DE & 0.0022038 & Unnamed 1340 \\\\\n",
       "\t2 & 2243 & FR & 0.000443208 & Vallorcine \\\\\n",
       "\t3 & 1881 & FR & 0.00127502 & Mallemort \\\\\n",
       "\t4 & 1907 & FR & 0.000635447 & Breuil \\\\\n",
       "\t5 & 2923 & FR & 0.000650249 & La Justice \\\\\n",
       "\t6 & 599 & ES & 0.000506166 & Alcobendas \\\\\n",
       "\t7 & 2491 & IT & 0.00328872 & Trav. \\\\\n",
       "\t8 & 228 & ES & 0.00773441 & Sant Fost \\\\\n",
       "\t9 & 2590 & NL & 0.0248207 & Zwolle \\\\\n",
       "\t10 & 3697 & DE & 0.00301701 & Unnamed 1015 \\\\\n",
       "\t11 & 2579 & NL & 0.015866 & Ens \\\\\n",
       "\t12 & 1880 & FR & 0.000772531 & L''Ardoise \\\\\n",
       "\t13 & 2562 & IT & 0.00307548 & Voghera \\\\\n",
       "\t14 & 3215 & ES & 0.000508843 & Unnamed 530 \\\\\n",
       "\t15 & 3991 & PL & 0.00217359 & Unnamed 1410 \\\\\n",
       "\t16 & 3841 & PL & 0.00290049 & Unnamed 1209 \\\\\n",
       "\t17 & 1106 & DE & 0.00184848 & Hattorf \\\\\n",
       "\t18 & 2366 & HU & 0.0298313 & Martonvásár \\\\\n",
       "\t19 & 3196 & ES & 0.00176523 & Beariz \\\\\n",
       "\t20 & 1783 & FR & 0.00201846 & Larcay \\\\\n",
       "\t21 & 928 & DE & 0.00144803 & Koepchenwerk \\\\\n",
       "\t22 & 859 & DE & 0.000713821 & Niederhausen \\\\\n",
       "\t23 & 1863 & FR & 0.000602321 & Gervans \\\\\n",
       "\t24 & 561 & ES & 0.00618649 & Azca \\\\\n",
       "\t25 & 1825 & FR & 0.00231564 & Tamareau \\\\\n",
       "\t26 & 2631 & RS & 0.0154156 & Sremska Mitrovica \\\\\n",
       "\t27 & 2714 & CH & 0.00609282 & Mühleberg \\\\\n",
       "\t28 & 3157 & ES & 0.000962917 & La Granda \\\\\n",
       "\t29 & 3928 & ES & 0.000747424 & Unnamed 1332 \\\\\n",
       "\t30 & 815 & DE & 0.00112683 & Erzhausen \\\\\n",
       "\t$\\dots$ & $\\dots$ & $\\dots$ & $\\dots$ & $\\dots$ \\\\\n",
       "\\end{tabular}\n"
      ],
      "text/plain": [
       "\u001b[1m3998×4 DataFrame\u001b[0m\n",
       "\u001b[1m  Row \u001b[0m│\u001b[1m id     \u001b[0m\u001b[1m country \u001b[0m\u001b[1m load_prop   \u001b[0m\u001b[1m name         \u001b[0m\n",
       "      │\u001b[90m String \u001b[0m\u001b[90m Any     \u001b[0m\u001b[90m Any         \u001b[0m\u001b[90m Any          \u001b[0m\n",
       "──────┼────────────────────────────────────────────\n",
       "    1 │ 3935    DE       0.0022038    Unnamed 1340\n",
       "    2 │ 2243    FR       0.000443208  Vallorcine\n",
       "    3 │ 1881    FR       0.00127502   Mallemort\n",
       "    4 │ 1907    FR       0.000635447  Breuil\n",
       "    5 │ 2923    FR       0.000650249  La Justice\n",
       "    6 │ 599     ES       0.000506166  Alcobendas\n",
       "    7 │ 2491    IT       0.00328872   Trav.\n",
       "    8 │ 228     ES       0.00773441   Sant Fost\n",
       "    9 │ 2590    NL       0.0248207    Zwolle\n",
       "   10 │ 3697    DE       0.00301701   Unnamed 1015\n",
       "   11 │ 2579    NL       0.015866     Ens\n",
       "  ⋮   │   ⋮        ⋮          ⋮            ⋮\n",
       " 3989 │ 3844    PL       0.00270093   Unnamed 1214\n",
       " 3990 │ 1008    DE       0.00357771   Neufinsing\n",
       " 3991 │ 3717    DK       0.000321574  Unnamed 1038\n",
       " 3992 │ 434     ES       0.00107233   Romica\n",
       " 3993 │ 2551    IT       0.00174498   Monfalcone\n",
       " 3994 │ 3028    ES       8.80556e-5   Conso\n",
       " 3995 │ 563     ES       0.00584992   Sanchinarro\n",
       " 3996 │ 732     DK       0.000705152  Unnamed 199\n",
       " 3997 │ 3276    PT       0.0137451    Unnamed 115\n",
       " 3998 │ 3405    ES       0.000822005  Unnamed 544\n",
       "\u001b[36m                                  3977 rows omitted\u001b[0m"
      ]
     },
     "execution_count": 7,
     "metadata": {},
     "output_type": "execute_result"
    }
   ],
   "source": [
    "loads_info = get_loads_info(network, list_of_loads, [\"country\", \"load_prop\", \"name\"])"
   ]
  },
  {
   "cell_type": "markdown",
   "id": "7622ee0e-4cad-43b9-8ac9-6c3eaf82ab70",
   "metadata": {},
   "source": [
    "There are 22 countries in the current version of PanTaGruEl:"
   ]
  },
  {
   "cell_type": "code",
   "execution_count": 8,
   "id": "3233e2eb-8454-467d-ad9c-2604f17df81e",
   "metadata": {},
   "outputs": [
    {
     "data": {
      "text/plain": [
       "22"
      ]
     },
     "execution_count": 8,
     "metadata": {},
     "output_type": "execute_result"
    }
   ],
   "source": [
    "countries = unique(loads_info[:, \"country\"])\n",
    "length(countries)"
   ]
  },
  {
   "cell_type": "markdown",
   "id": "cf7c6a88-6bf3-4624-b50b-058a98c4e680",
   "metadata": {},
   "source": [
    "The number of loads in each country varies:"
   ]
  },
  {
   "cell_type": "code",
   "execution_count": 9,
   "id": "390d58cf-fd9a-4248-94b0-adac79cc4e88",
   "metadata": {},
   "outputs": [
    {
     "data": {
      "text/plain": [
       "OrderedCollections.OrderedDict{String, Int64} with 22 entries:\n",
       "  \"ES\" => 908\n",
       "  \"FR\" => 843\n",
       "  \"DE\" => 560\n",
       "  \"IT\" => 323\n",
       "  \"PL\" => 188\n",
       "  \"DK\" => 180\n",
       "  \"CH\" => 163\n",
       "  \"PT\" => 145\n",
       "  \"RO\" => 124\n",
       "  \"AT\" => 78\n",
       "  \"CZ\" => 71\n",
       "  \"BG\" => 64\n",
       "  \"BE\" => 50\n",
       "  \"HU\" => 47\n",
       "  \"RS\" => 47\n",
       "  \"SK\" => 43\n",
       "  \"GR\" => 38\n",
       "  \"NL\" => 38\n",
       "  \"BA\" => 35\n",
       "  \"HR\" => 28\n",
       "  \"SI\" => 15\n",
       "  \"ME\" => 10"
      ]
     },
     "execution_count": 9,
     "metadata": {},
     "output_type": "execute_result"
    }
   ],
   "source": [
    "load_count_by_country = Dict(country => count(x->(x == country), loads_info[:, \"country\"]) for country ∈ countries)\n",
    "sort(load_count_by_country, byvalue=true, rev=true)"
   ]
  },
  {
   "cell_type": "markdown",
   "id": "f753c4e9-258d-43b9-b6b3-88c4eedb560b",
   "metadata": {},
   "source": [
    "We can verify that the weights of the loads add up to one for each country separately:"
   ]
  },
  {
   "cell_type": "code",
   "execution_count": 10,
   "id": "c866011c-0083-4fc4-b946-9763fff020ed",
   "metadata": {},
   "outputs": [
    {
     "data": {
      "text/plain": [
       "Dict{String, Float64} with 22 entries:\n",
       "  \"SI\" => 1.0\n",
       "  \"ES\" => 1.0\n",
       "  \"GR\" => 1.0\n",
       "  \"HU\" => 1.0\n",
       "  \"CH\" => 1.0\n",
       "  \"RS\" => 1.0\n",
       "  \"DE\" => 1.0\n",
       "  \"FR\" => 1.0\n",
       "  \"PL\" => 1.0\n",
       "  \"IT\" => 1.0\n",
       "  \"AT\" => 1.0\n",
       "  \"HR\" => 1.0\n",
       "  \"PT\" => 1.0\n",
       "  \"ME\" => 1.0\n",
       "  \"NL\" => 1.0\n",
       "  \"BE\" => 1.0\n",
       "  \"RO\" => 1.0\n",
       "  \"BG\" => 1.0\n",
       "  \"CZ\" => 1.0\n",
       "  \"SK\" => 1.0\n",
       "  \"BA\" => 1.0\n",
       "  \"DK\" => 1.0"
      ]
     },
     "execution_count": 10,
     "metadata": {},
     "output_type": "execute_result"
    }
   ],
   "source": [
    "Dict(country => sum(loads_info[loads_info[:, \"country\"] .== country, \"load_prop\"]) for country ∈ countries)"
   ]
  },
  {
   "cell_type": "markdown",
   "id": "e480a2e9-4ecb-42a8-8be1-c48da9dd2274",
   "metadata": {},
   "source": [
    "The generators can also be examined:"
   ]
  },
  {
   "cell_type": "code",
   "execution_count": 11,
   "id": "b2b22ac6-7fd6-49a4-8c41-0ff7f8015b52",
   "metadata": {},
   "outputs": [
    {
     "data": {
      "text/html": [
       "<div><div style = \"float: left;\"><span>1083×6 DataFrame</span></div><div style = \"float: right;\"><span style = \"font-style: italic;\">1058 rows omitted</span></div><div style = \"clear: both;\"></div></div><div class = \"data-frame\" style = \"overflow-x: scroll;\"><table class = \"data-frame\" style = \"margin-bottom: 6px;\"><thead><tr class = \"header\"><th class = \"rowNumber\" style = \"font-weight: bold; text-align: right;\">Row</th><th style = \"text-align: left;\">id</th><th style = \"text-align: left;\">type</th><th style = \"text-align: left;\">pmax</th><th style = \"text-align: left;\">country</th><th style = \"text-align: left;\">name</th><th style = \"text-align: left;\">cost</th></tr><tr class = \"subheader headerLastRow\"><th class = \"rowNumber\" style = \"font-weight: bold; text-align: right;\"></th><th title = \"String\" style = \"text-align: left;\">String</th><th title = \"Any\" style = \"text-align: left;\">Any</th><th title = \"Any\" style = \"text-align: left;\">Any</th><th title = \"Any\" style = \"text-align: left;\">Any</th><th title = \"Any\" style = \"text-align: left;\">Any</th><th title = \"Any\" style = \"text-align: left;\">Any</th></tr></thead><tbody><tr><td class = \"rowNumber\" style = \"font-weight: bold; text-align: right;\">1</td><td style = \"text-align: left;\">1</td><td style = \"text-align: left;\">Hydro</td><td style = \"text-align: left;\">1.14</td><td style = \"text-align: left;\">BG</td><td style = \"text-align: left;\">Uzundzhovo</td><td style = \"text-align: left;\">Any[6000, 0]</td></tr><tr><td class = \"rowNumber\" style = \"font-weight: bold; text-align: right;\">2</td><td style = \"text-align: left;\">519</td><td style = \"text-align: left;\">hydro_pure_ps</td><td style = \"text-align: left;\">11.64</td><td style = \"text-align: left;\">BE</td><td style = \"text-align: left;\">Coo</td><td style = \"text-align: left;\">Any[10000, 0]</td></tr><tr><td class = \"rowNumber\" style = \"font-weight: bold; text-align: right;\">3</td><td style = \"text-align: left;\">788</td><td style = \"text-align: left;\">Geothermal</td><td style = \"text-align: left;\">0.19</td><td style = \"text-align: left;\">IT</td><td style = \"text-align: left;\">Montalto</td><td style = \"text-align: left;\">Any[]</td></tr><tr><td class = \"rowNumber\" style = \"font-weight: bold; text-align: right;\">4</td><td style = \"text-align: left;\">774</td><td style = \"text-align: left;\">fossil_brown_lignite</td><td style = \"text-align: left;\">1.77</td><td style = \"text-align: left;\">HU</td><td style = \"text-align: left;\">Tisza II</td><td style = \"text-align: left;\">Any[2400, 0]</td></tr><tr><td class = \"rowNumber\" style = \"font-weight: bold; text-align: right;\">5</td><td style = \"text-align: left;\">599</td><td style = \"text-align: left;\">Biomass</td><td style = \"text-align: left;\">0.01902</td><td style = \"text-align: left;\">FR</td><td style = \"text-align: left;\">Beaucouze</td><td style = \"text-align: left;\">Any[1000, 0]</td></tr><tr><td class = \"rowNumber\" style = \"font-weight: bold; text-align: right;\">6</td><td style = \"text-align: left;\">491</td><td style = \"text-align: left;\">hydro_ror</td><td style = \"text-align: left;\">0.723</td><td style = \"text-align: left;\">AT</td><td style = \"text-align: left;\">Pyhrn</td><td style = \"text-align: left;\">Any[1000, 0]</td></tr><tr><td class = \"rowNumber\" style = \"font-weight: bold; text-align: right;\">7</td><td style = \"text-align: left;\">228</td><td style = \"text-align: left;\">Hydro</td><td style = \"text-align: left;\">0.164</td><td style = \"text-align: left;\">DE</td><td style = \"text-align: left;\">Wengerohr</td><td style = \"text-align: left;\">Any[6000, 0]</td></tr><tr><td class = \"rowNumber\" style = \"font-weight: bold; text-align: right;\">8</td><td style = \"text-align: left;\">332</td><td style = \"text-align: left;\">fossil_coal_hard</td><td style = \"text-align: left;\">2.46</td><td style = \"text-align: left;\">PL</td><td style = \"text-align: left;\">Poznań Południe</td><td style = \"text-align: left;\">Any[3500, 0]</td></tr><tr><td class = \"rowNumber\" style = \"font-weight: bold; text-align: right;\">9</td><td style = \"text-align: left;\">190</td><td style = \"text-align: left;\">fossil_brown_lignite</td><td style = \"text-align: left;\">2.52</td><td style = \"text-align: left;\">CZ</td><td style = \"text-align: left;\">Tisová</td><td style = \"text-align: left;\">Any[2400, 0]</td></tr><tr><td class = \"rowNumber\" style = \"font-weight: bold; text-align: right;\">10</td><td style = \"text-align: left;\">227</td><td style = \"text-align: left;\">Hydro</td><td style = \"text-align: left;\">0.164</td><td style = \"text-align: left;\">DE</td><td style = \"text-align: left;\">Wengerohr</td><td style = \"text-align: left;\">Any[6000, 0]</td></tr><tr><td class = \"rowNumber\" style = \"font-weight: bold; text-align: right;\">11</td><td style = \"text-align: left;\">980</td><td style = \"text-align: left;\">fossil_coal_gas</td><td style = \"text-align: left;\">7.69</td><td style = \"text-align: left;\">NL</td><td style = \"text-align: left;\">Moerdijk</td><td style = \"text-align: left;\">Any[11000, 0]</td></tr><tr><td class = \"rowNumber\" style = \"font-weight: bold; text-align: right;\">12</td><td style = \"text-align: left;\">297</td><td style = \"text-align: left;\">fossil_coal_gas</td><td style = \"text-align: left;\">2.7</td><td style = \"text-align: left;\">DE</td><td style = \"text-align: left;\">Dresden-Süd</td><td style = \"text-align: left;\">Any[11000, 0]</td></tr><tr><td class = \"rowNumber\" style = \"font-weight: bold; text-align: right;\">13</td><td style = \"text-align: left;\">605</td><td style = \"text-align: left;\">hydro_ror</td><td style = \"text-align: left;\">0.93</td><td style = \"text-align: left;\">FR</td><td style = \"text-align: left;\">L&apos;&apos; Hospitalet</td><td style = \"text-align: left;\">Any[1000, 0]</td></tr><tr><td style = \"text-align: right;\">&vellip;</td><td style = \"text-align: right;\">&vellip;</td><td style = \"text-align: right;\">&vellip;</td><td style = \"text-align: right;\">&vellip;</td><td style = \"text-align: right;\">&vellip;</td><td style = \"text-align: right;\">&vellip;</td><td style = \"text-align: right;\">&vellip;</td></tr><tr><td class = \"rowNumber\" style = \"font-weight: bold; text-align: right;\">1072</td><td style = \"text-align: left;\">271</td><td style = \"text-align: left;\">fossil_coal_hard</td><td style = \"text-align: left;\">8.7</td><td style = \"text-align: left;\">DE</td><td style = \"text-align: left;\">BASF</td><td style = \"text-align: left;\">Any[3500, 0]</td></tr><tr><td class = \"rowNumber\" style = \"font-weight: bold; text-align: right;\">1073</td><td style = \"text-align: left;\">434</td><td style = \"text-align: left;\">hydro_ror</td><td style = \"text-align: left;\">1.38</td><td style = \"text-align: left;\">RO</td><td style = \"text-align: left;\">Iaz</td><td style = \"text-align: left;\">Any[1000, 0]</td></tr><tr><td class = \"rowNumber\" style = \"font-weight: bold; text-align: right;\">1074</td><td style = \"text-align: left;\">604</td><td style = \"text-align: left;\">hydro_ror</td><td style = \"text-align: left;\">0.96</td><td style = \"text-align: left;\">FR</td><td style = \"text-align: left;\">St. Chamas</td><td style = \"text-align: left;\">Any[1000, 0]</td></tr><tr><td class = \"rowNumber\" style = \"font-weight: bold; text-align: right;\">1075</td><td style = \"text-align: left;\">998</td><td style = \"text-align: left;\">Gas</td><td style = \"text-align: left;\">8.5567</td><td style = \"text-align: left;\">ES</td><td style = \"text-align: left;\">P.G. Rodriguez</td><td style = \"text-align: left;\">Any[11000, 0]</td></tr><tr><td class = \"rowNumber\" style = \"font-weight: bold; text-align: right;\">1076</td><td style = \"text-align: left;\">563</td><td style = \"text-align: left;\">Hydro</td><td style = \"text-align: left;\">0.01105</td><td style = \"text-align: left;\">FR</td><td style = \"text-align: left;\">Le Hourat</td><td style = \"text-align: left;\">Any[6000, 0]</td></tr><tr><td class = \"rowNumber\" style = \"font-weight: bold; text-align: right;\">1077</td><td style = \"text-align: left;\">655</td><td style = \"text-align: left;\">hydro_ror</td><td style = \"text-align: left;\">0.93</td><td style = \"text-align: left;\">FR</td><td style = \"text-align: left;\">Mallemort</td><td style = \"text-align: left;\">Any[1000, 0]</td></tr><tr><td class = \"rowNumber\" style = \"font-weight: bold; text-align: right;\">1078</td><td style = \"text-align: left;\">336</td><td style = \"text-align: left;\">Coal</td><td style = \"text-align: left;\">0.42</td><td style = \"text-align: left;\">PL</td><td style = \"text-align: left;\">Gdańsk Błonie</td><td style = \"text-align: left;\">Any[3500, 0]</td></tr><tr><td class = \"rowNumber\" style = \"font-weight: bold; text-align: right;\">1079</td><td style = \"text-align: left;\">732</td><td style = \"text-align: left;\">nuclear</td><td style = \"text-align: left;\">52</td><td style = \"text-align: left;\">FR</td><td style = \"text-align: left;\">Cattenom</td><td style = \"text-align: left;\">Any[1600, 0]</td></tr><tr><td class = \"rowNumber\" style = \"font-weight: bold; text-align: right;\">1080</td><td style = \"text-align: left;\">603</td><td style = \"text-align: left;\">fossil_oil</td><td style = \"text-align: left;\">14.15</td><td style = \"text-align: left;\">FR</td><td style = \"text-align: left;\">Le Havre</td><td style = \"text-align: left;\">Any[10000, 0]</td></tr><tr><td class = \"rowNumber\" style = \"font-weight: bold; text-align: right;\">1081</td><td style = \"text-align: left;\">414</td><td style = \"text-align: left;\">other_nl</td><td style = \"text-align: left;\">4.08</td><td style = \"text-align: left;\">RO</td><td style = \"text-align: left;\">Brâila</td><td style = \"text-align: left;\">Any[1000, 0]</td></tr><tr><td class = \"rowNumber\" style = \"font-weight: bold; text-align: right;\">1082</td><td style = \"text-align: left;\">710</td><td style = \"text-align: left;\">fossil_coal_gas</td><td style = \"text-align: left;\">1.53</td><td style = \"text-align: left;\">FR</td><td style = \"text-align: left;\">Chapelle&apos;&apos;d Arblay</td><td style = \"text-align: left;\">Any[11000, 0]</td></tr><tr><td class = \"rowNumber\" style = \"font-weight: bold; text-align: right;\">1083</td><td style = \"text-align: left;\">306</td><td style = \"text-align: left;\">Gas</td><td style = \"text-align: left;\">0.377</td><td style = \"text-align: left;\">DE</td><td style = \"text-align: left;\">Lubmin</td><td style = \"text-align: left;\">Any[11000, 0]</td></tr></tbody></table></div>"
      ],
      "text/latex": [
       "\\begin{tabular}{r|cccccc}\n",
       "\t& id & type & pmax & country & name & cost\\\\\n",
       "\t\\hline\n",
       "\t& String & Any & Any & Any & Any & Any\\\\\n",
       "\t\\hline\n",
       "\t1 & 1 & Hydro & 1.14 & BG & Uzundzhovo & [6000, 0] \\\\\n",
       "\t2 & 519 & hydro\\_pure\\_ps & 11.64 & BE & Coo & [10000, 0] \\\\\n",
       "\t3 & 788 & Geothermal & 0.19 & IT & Montalto & [] \\\\\n",
       "\t4 & 774 & fossil\\_brown\\_lignite & 1.77 & HU & Tisza II & [2400, 0] \\\\\n",
       "\t5 & 599 & Biomass & 0.01902 & FR & Beaucouze & [1000, 0] \\\\\n",
       "\t6 & 491 & hydro\\_ror & 0.723 & AT & Pyhrn & [1000, 0] \\\\\n",
       "\t7 & 228 & Hydro & 0.164 & DE & Wengerohr & [6000, 0] \\\\\n",
       "\t8 & 332 & fossil\\_coal\\_hard & 2.46 & PL & Poznań Południe & [3500, 0] \\\\\n",
       "\t9 & 190 & fossil\\_brown\\_lignite & 2.52 & CZ & Tisová & [2400, 0] \\\\\n",
       "\t10 & 227 & Hydro & 0.164 & DE & Wengerohr & [6000, 0] \\\\\n",
       "\t11 & 980 & fossil\\_coal\\_gas & 7.69 & NL & Moerdijk & [11000, 0] \\\\\n",
       "\t12 & 297 & fossil\\_coal\\_gas & 2.7 & DE & Dresden-Süd & [11000, 0] \\\\\n",
       "\t13 & 605 & hydro\\_ror & 0.93 & FR & L'' Hospitalet & [1000, 0] \\\\\n",
       "\t14 & 24 & fossil\\_coal\\_gas & 4.846 & GR & N. Santa & [11000, 0] \\\\\n",
       "\t15 & 928 & hydro\\_pure\\_storage & 1 & CH & Castasegna & [8000, 0] \\\\\n",
       "\t16 & 204 & fossil\\_brown\\_lignite & 21.47 & DE & Wilhelmshaven & [2400, 0] \\\\\n",
       "\t17 & 416 & fossil\\_coal\\_gas & 3.68 & RO & Bucureşti Sud & [11000, 0] \\\\\n",
       "\t18 & 23 & fossil\\_brown\\_lignite & 3.3 & GR & Meliti & [2400, 0] \\\\\n",
       "\t19 & 160 & other\\_nl & 19.57 & ES & C.N. Almaraz & [1000, 0] \\\\\n",
       "\t20 & 561 & Hydro & 0.098 & FR & Le Hourat & [6000, 0] \\\\\n",
       "\t21 & 859 & fossil\\_coal\\_gas & 2.47 & NL & Diemen & [11000, 0] \\\\\n",
       "\t22 & 891 & hydro\\_ror & 0.556 & SI & Šoštanj & [1000, 0] \\\\\n",
       "\t23 & 815 & fossil\\_oil & 1.51 & IT & Camin & [10000, 0] \\\\\n",
       "\t24 & 981 & fossil\\_brown\\_lignite & 12.4 & NL & Tilburg & [2400, 0] \\\\\n",
       "\t25 & 253 & fossil\\_coal\\_hard & 1.18 & DE & Heilbronn & [3500, 0] \\\\\n",
       "\t26 & 916 & hydro\\_pure\\_storage & 3.31 & CH & Bitsch & [8000, 0] \\\\\n",
       "\t27 & 39 & fossil\\_brown\\_lignite & 6 & GR & Amyndeo & [2400, 0] \\\\\n",
       "\t28 & 843 & fossil\\_coal\\_gas & 11.84 & IT & Ravenna & [11000, 0] \\\\\n",
       "\t29 & 112 & hydro\\_mixed & 7.8 & PT & Salamonde II & [6000, 0] \\\\\n",
       "\t30 & 791 & hydro\\_mixed & 1.5 & IT & Sondrio & [6000, 0] \\\\\n",
       "\t$\\dots$ & $\\dots$ & $\\dots$ & $\\dots$ & $\\dots$ & $\\dots$ & $\\dots$ \\\\\n",
       "\\end{tabular}\n"
      ],
      "text/plain": [
       "\u001b[1m1083×6 DataFrame\u001b[0m\n",
       "\u001b[1m  Row \u001b[0m│\u001b[1m id     \u001b[0m\u001b[1m type                 \u001b[0m\u001b[1m pmax    \u001b[0m\u001b[1m country \u001b[0m\u001b[1m name               \u001b[0m\u001b[1m co\u001b[0m ⋯\n",
       "      │\u001b[90m String \u001b[0m\u001b[90m Any                  \u001b[0m\u001b[90m Any     \u001b[0m\u001b[90m Any     \u001b[0m\u001b[90m Any                \u001b[0m\u001b[90m An\u001b[0m ⋯\n",
       "──────┼─────────────────────────────────────────────────────────────────────────\n",
       "    1 │ 1       Hydro                 1.14     BG       Uzundzhovo          An ⋯\n",
       "    2 │ 519     hydro_pure_ps         11.64    BE       Coo                 An\n",
       "    3 │ 788     Geothermal            0.19     IT       Montalto            An\n",
       "    4 │ 774     fossil_brown_lignite  1.77     HU       Tisza II            An\n",
       "    5 │ 599     Biomass               0.01902  FR       Beaucouze           An ⋯\n",
       "    6 │ 491     hydro_ror             0.723    AT       Pyhrn               An\n",
       "    7 │ 228     Hydro                 0.164    DE       Wengerohr           An\n",
       "    8 │ 332     fossil_coal_hard      2.46     PL       Poznań Południe     An\n",
       "    9 │ 190     fossil_brown_lignite  2.52     CZ       Tisová              An ⋯\n",
       "   10 │ 227     Hydro                 0.164    DE       Wengerohr           An\n",
       "   11 │ 980     fossil_coal_gas       7.69     NL       Moerdijk            An\n",
       "  ⋮   │   ⋮              ⋮               ⋮        ⋮             ⋮              ⋱\n",
       " 1074 │ 604     hydro_ror             0.96     FR       St. Chamas          An\n",
       " 1075 │ 998     Gas                   8.5567   ES       P.G. Rodriguez      An ⋯\n",
       " 1076 │ 563     Hydro                 0.01105  FR       Le Hourat           An\n",
       " 1077 │ 655     hydro_ror             0.93     FR       Mallemort           An\n",
       " 1078 │ 336     Coal                  0.42     PL       Gdańsk Błonie       An\n",
       " 1079 │ 732     nuclear               52       FR       Cattenom            An ⋯\n",
       " 1080 │ 603     fossil_oil            14.15    FR       Le Havre            An\n",
       " 1081 │ 414     other_nl              4.08     RO       Brâila              An\n",
       " 1082 │ 710     fossil_coal_gas       1.53     FR       Chapelle''d Arblay  An\n",
       " 1083 │ 306     Gas                   0.377    DE       Lubmin              An ⋯\n",
       "\u001b[36m                                                  1 column and 1062 rows omitted\u001b[0m"
      ]
     },
     "execution_count": 11,
     "metadata": {},
     "output_type": "execute_result"
    }
   ],
   "source": [
    "gens_info = get_gens_info(network, list_of_gens, [\"type\", \"pmax\", \"country\", \"name\", \"cost\"])"
   ]
  },
  {
   "cell_type": "markdown",
   "id": "affb821c-f6c3-4ade-86a4-5a2394cdb89f",
   "metadata": {},
   "source": [
    "Note that the cost is always linear in PanTaGruEl, so the \"cost\" column can be replaced by its linear value:"
   ]
  },
  {
   "cell_type": "code",
   "execution_count": 12,
   "id": "5ffd5068-ed14-479c-aaab-6d495ce3b76f",
   "metadata": {},
   "outputs": [
    {
     "data": {
      "text/html": [
       "<div><div style = \"float: left;\"><span>1083×6 DataFrame</span></div><div style = \"float: right;\"><span style = \"font-style: italic;\">1058 rows omitted</span></div><div style = \"clear: both;\"></div></div><div class = \"data-frame\" style = \"overflow-x: scroll;\"><table class = \"data-frame\" style = \"margin-bottom: 6px;\"><thead><tr class = \"header\"><th class = \"rowNumber\" style = \"font-weight: bold; text-align: right;\">Row</th><th style = \"text-align: left;\">id</th><th style = \"text-align: left;\">type</th><th style = \"text-align: left;\">pmax</th><th style = \"text-align: left;\">country</th><th style = \"text-align: left;\">name</th><th style = \"text-align: left;\">cost</th></tr><tr class = \"subheader headerLastRow\"><th class = \"rowNumber\" style = \"font-weight: bold; text-align: right;\"></th><th title = \"String\" style = \"text-align: left;\">String</th><th title = \"Any\" style = \"text-align: left;\">Any</th><th title = \"Any\" style = \"text-align: left;\">Any</th><th title = \"Any\" style = \"text-align: left;\">Any</th><th title = \"Any\" style = \"text-align: left;\">Any</th><th title = \"Int64\" style = \"text-align: left;\">Int64</th></tr></thead><tbody><tr><td class = \"rowNumber\" style = \"font-weight: bold; text-align: right;\">1</td><td style = \"text-align: left;\">1</td><td style = \"text-align: left;\">Hydro</td><td style = \"text-align: left;\">1.14</td><td style = \"text-align: left;\">BG</td><td style = \"text-align: left;\">Uzundzhovo</td><td style = \"text-align: right;\">6000</td></tr><tr><td class = \"rowNumber\" style = \"font-weight: bold; text-align: right;\">2</td><td style = \"text-align: left;\">519</td><td style = \"text-align: left;\">hydro_pure_ps</td><td style = \"text-align: left;\">11.64</td><td style = \"text-align: left;\">BE</td><td style = \"text-align: left;\">Coo</td><td style = \"text-align: right;\">10000</td></tr><tr><td class = \"rowNumber\" style = \"font-weight: bold; text-align: right;\">3</td><td style = \"text-align: left;\">788</td><td style = \"text-align: left;\">Geothermal</td><td style = \"text-align: left;\">0.19</td><td style = \"text-align: left;\">IT</td><td style = \"text-align: left;\">Montalto</td><td style = \"text-align: right;\">0</td></tr><tr><td class = \"rowNumber\" style = \"font-weight: bold; text-align: right;\">4</td><td style = \"text-align: left;\">774</td><td style = \"text-align: left;\">fossil_brown_lignite</td><td style = \"text-align: left;\">1.77</td><td style = \"text-align: left;\">HU</td><td style = \"text-align: left;\">Tisza II</td><td style = \"text-align: right;\">2400</td></tr><tr><td class = \"rowNumber\" style = \"font-weight: bold; text-align: right;\">5</td><td style = \"text-align: left;\">599</td><td style = \"text-align: left;\">Biomass</td><td style = \"text-align: left;\">0.01902</td><td style = \"text-align: left;\">FR</td><td style = \"text-align: left;\">Beaucouze</td><td style = \"text-align: right;\">1000</td></tr><tr><td class = \"rowNumber\" style = \"font-weight: bold; text-align: right;\">6</td><td style = \"text-align: left;\">491</td><td style = \"text-align: left;\">hydro_ror</td><td style = \"text-align: left;\">0.723</td><td style = \"text-align: left;\">AT</td><td style = \"text-align: left;\">Pyhrn</td><td style = \"text-align: right;\">1000</td></tr><tr><td class = \"rowNumber\" style = \"font-weight: bold; text-align: right;\">7</td><td style = \"text-align: left;\">228</td><td style = \"text-align: left;\">Hydro</td><td style = \"text-align: left;\">0.164</td><td style = \"text-align: left;\">DE</td><td style = \"text-align: left;\">Wengerohr</td><td style = \"text-align: right;\">6000</td></tr><tr><td class = \"rowNumber\" style = \"font-weight: bold; text-align: right;\">8</td><td style = \"text-align: left;\">332</td><td style = \"text-align: left;\">fossil_coal_hard</td><td style = \"text-align: left;\">2.46</td><td style = \"text-align: left;\">PL</td><td style = \"text-align: left;\">Poznań Południe</td><td style = \"text-align: right;\">3500</td></tr><tr><td class = \"rowNumber\" style = \"font-weight: bold; text-align: right;\">9</td><td style = \"text-align: left;\">190</td><td style = \"text-align: left;\">fossil_brown_lignite</td><td style = \"text-align: left;\">2.52</td><td style = \"text-align: left;\">CZ</td><td style = \"text-align: left;\">Tisová</td><td style = \"text-align: right;\">2400</td></tr><tr><td class = \"rowNumber\" style = \"font-weight: bold; text-align: right;\">10</td><td style = \"text-align: left;\">227</td><td style = \"text-align: left;\">Hydro</td><td style = \"text-align: left;\">0.164</td><td style = \"text-align: left;\">DE</td><td style = \"text-align: left;\">Wengerohr</td><td style = \"text-align: right;\">6000</td></tr><tr><td class = \"rowNumber\" style = \"font-weight: bold; text-align: right;\">11</td><td style = \"text-align: left;\">980</td><td style = \"text-align: left;\">fossil_coal_gas</td><td style = \"text-align: left;\">7.69</td><td style = \"text-align: left;\">NL</td><td style = \"text-align: left;\">Moerdijk</td><td style = \"text-align: right;\">11000</td></tr><tr><td class = \"rowNumber\" style = \"font-weight: bold; text-align: right;\">12</td><td style = \"text-align: left;\">297</td><td style = \"text-align: left;\">fossil_coal_gas</td><td style = \"text-align: left;\">2.7</td><td style = \"text-align: left;\">DE</td><td style = \"text-align: left;\">Dresden-Süd</td><td style = \"text-align: right;\">11000</td></tr><tr><td class = \"rowNumber\" style = \"font-weight: bold; text-align: right;\">13</td><td style = \"text-align: left;\">605</td><td style = \"text-align: left;\">hydro_ror</td><td style = \"text-align: left;\">0.93</td><td style = \"text-align: left;\">FR</td><td style = \"text-align: left;\">L&apos;&apos; Hospitalet</td><td style = \"text-align: right;\">1000</td></tr><tr><td style = \"text-align: right;\">&vellip;</td><td style = \"text-align: right;\">&vellip;</td><td style = \"text-align: right;\">&vellip;</td><td style = \"text-align: right;\">&vellip;</td><td style = \"text-align: right;\">&vellip;</td><td style = \"text-align: right;\">&vellip;</td><td style = \"text-align: right;\">&vellip;</td></tr><tr><td class = \"rowNumber\" style = \"font-weight: bold; text-align: right;\">1072</td><td style = \"text-align: left;\">271</td><td style = \"text-align: left;\">fossil_coal_hard</td><td style = \"text-align: left;\">8.7</td><td style = \"text-align: left;\">DE</td><td style = \"text-align: left;\">BASF</td><td style = \"text-align: right;\">3500</td></tr><tr><td class = \"rowNumber\" style = \"font-weight: bold; text-align: right;\">1073</td><td style = \"text-align: left;\">434</td><td style = \"text-align: left;\">hydro_ror</td><td style = \"text-align: left;\">1.38</td><td style = \"text-align: left;\">RO</td><td style = \"text-align: left;\">Iaz</td><td style = \"text-align: right;\">1000</td></tr><tr><td class = \"rowNumber\" style = \"font-weight: bold; text-align: right;\">1074</td><td style = \"text-align: left;\">604</td><td style = \"text-align: left;\">hydro_ror</td><td style = \"text-align: left;\">0.96</td><td style = \"text-align: left;\">FR</td><td style = \"text-align: left;\">St. Chamas</td><td style = \"text-align: right;\">1000</td></tr><tr><td class = \"rowNumber\" style = \"font-weight: bold; text-align: right;\">1075</td><td style = \"text-align: left;\">998</td><td style = \"text-align: left;\">Gas</td><td style = \"text-align: left;\">8.5567</td><td style = \"text-align: left;\">ES</td><td style = \"text-align: left;\">P.G. Rodriguez</td><td style = \"text-align: right;\">11000</td></tr><tr><td class = \"rowNumber\" style = \"font-weight: bold; text-align: right;\">1076</td><td style = \"text-align: left;\">563</td><td style = \"text-align: left;\">Hydro</td><td style = \"text-align: left;\">0.01105</td><td style = \"text-align: left;\">FR</td><td style = \"text-align: left;\">Le Hourat</td><td style = \"text-align: right;\">6000</td></tr><tr><td class = \"rowNumber\" style = \"font-weight: bold; text-align: right;\">1077</td><td style = \"text-align: left;\">655</td><td style = \"text-align: left;\">hydro_ror</td><td style = \"text-align: left;\">0.93</td><td style = \"text-align: left;\">FR</td><td style = \"text-align: left;\">Mallemort</td><td style = \"text-align: right;\">1000</td></tr><tr><td class = \"rowNumber\" style = \"font-weight: bold; text-align: right;\">1078</td><td style = \"text-align: left;\">336</td><td style = \"text-align: left;\">Coal</td><td style = \"text-align: left;\">0.42</td><td style = \"text-align: left;\">PL</td><td style = \"text-align: left;\">Gdańsk Błonie</td><td style = \"text-align: right;\">3500</td></tr><tr><td class = \"rowNumber\" style = \"font-weight: bold; text-align: right;\">1079</td><td style = \"text-align: left;\">732</td><td style = \"text-align: left;\">nuclear</td><td style = \"text-align: left;\">52</td><td style = \"text-align: left;\">FR</td><td style = \"text-align: left;\">Cattenom</td><td style = \"text-align: right;\">1600</td></tr><tr><td class = \"rowNumber\" style = \"font-weight: bold; text-align: right;\">1080</td><td style = \"text-align: left;\">603</td><td style = \"text-align: left;\">fossil_oil</td><td style = \"text-align: left;\">14.15</td><td style = \"text-align: left;\">FR</td><td style = \"text-align: left;\">Le Havre</td><td style = \"text-align: right;\">10000</td></tr><tr><td class = \"rowNumber\" style = \"font-weight: bold; text-align: right;\">1081</td><td style = \"text-align: left;\">414</td><td style = \"text-align: left;\">other_nl</td><td style = \"text-align: left;\">4.08</td><td style = \"text-align: left;\">RO</td><td style = \"text-align: left;\">Brâila</td><td style = \"text-align: right;\">1000</td></tr><tr><td class = \"rowNumber\" style = \"font-weight: bold; text-align: right;\">1082</td><td style = \"text-align: left;\">710</td><td style = \"text-align: left;\">fossil_coal_gas</td><td style = \"text-align: left;\">1.53</td><td style = \"text-align: left;\">FR</td><td style = \"text-align: left;\">Chapelle&apos;&apos;d Arblay</td><td style = \"text-align: right;\">11000</td></tr><tr><td class = \"rowNumber\" style = \"font-weight: bold; text-align: right;\">1083</td><td style = \"text-align: left;\">306</td><td style = \"text-align: left;\">Gas</td><td style = \"text-align: left;\">0.377</td><td style = \"text-align: left;\">DE</td><td style = \"text-align: left;\">Lubmin</td><td style = \"text-align: right;\">11000</td></tr></tbody></table></div>"
      ],
      "text/latex": [
       "\\begin{tabular}{r|cccccc}\n",
       "\t& id & type & pmax & country & name & cost\\\\\n",
       "\t\\hline\n",
       "\t& String & Any & Any & Any & Any & Int64\\\\\n",
       "\t\\hline\n",
       "\t1 & 1 & Hydro & 1.14 & BG & Uzundzhovo & 6000 \\\\\n",
       "\t2 & 519 & hydro\\_pure\\_ps & 11.64 & BE & Coo & 10000 \\\\\n",
       "\t3 & 788 & Geothermal & 0.19 & IT & Montalto & 0 \\\\\n",
       "\t4 & 774 & fossil\\_brown\\_lignite & 1.77 & HU & Tisza II & 2400 \\\\\n",
       "\t5 & 599 & Biomass & 0.01902 & FR & Beaucouze & 1000 \\\\\n",
       "\t6 & 491 & hydro\\_ror & 0.723 & AT & Pyhrn & 1000 \\\\\n",
       "\t7 & 228 & Hydro & 0.164 & DE & Wengerohr & 6000 \\\\\n",
       "\t8 & 332 & fossil\\_coal\\_hard & 2.46 & PL & Poznań Południe & 3500 \\\\\n",
       "\t9 & 190 & fossil\\_brown\\_lignite & 2.52 & CZ & Tisová & 2400 \\\\\n",
       "\t10 & 227 & Hydro & 0.164 & DE & Wengerohr & 6000 \\\\\n",
       "\t11 & 980 & fossil\\_coal\\_gas & 7.69 & NL & Moerdijk & 11000 \\\\\n",
       "\t12 & 297 & fossil\\_coal\\_gas & 2.7 & DE & Dresden-Süd & 11000 \\\\\n",
       "\t13 & 605 & hydro\\_ror & 0.93 & FR & L'' Hospitalet & 1000 \\\\\n",
       "\t14 & 24 & fossil\\_coal\\_gas & 4.846 & GR & N. Santa & 11000 \\\\\n",
       "\t15 & 928 & hydro\\_pure\\_storage & 1 & CH & Castasegna & 8000 \\\\\n",
       "\t16 & 204 & fossil\\_brown\\_lignite & 21.47 & DE & Wilhelmshaven & 2400 \\\\\n",
       "\t17 & 416 & fossil\\_coal\\_gas & 3.68 & RO & Bucureşti Sud & 11000 \\\\\n",
       "\t18 & 23 & fossil\\_brown\\_lignite & 3.3 & GR & Meliti & 2400 \\\\\n",
       "\t19 & 160 & other\\_nl & 19.57 & ES & C.N. Almaraz & 1000 \\\\\n",
       "\t20 & 561 & Hydro & 0.098 & FR & Le Hourat & 6000 \\\\\n",
       "\t21 & 859 & fossil\\_coal\\_gas & 2.47 & NL & Diemen & 11000 \\\\\n",
       "\t22 & 891 & hydro\\_ror & 0.556 & SI & Šoštanj & 1000 \\\\\n",
       "\t23 & 815 & fossil\\_oil & 1.51 & IT & Camin & 10000 \\\\\n",
       "\t24 & 981 & fossil\\_brown\\_lignite & 12.4 & NL & Tilburg & 2400 \\\\\n",
       "\t25 & 253 & fossil\\_coal\\_hard & 1.18 & DE & Heilbronn & 3500 \\\\\n",
       "\t26 & 916 & hydro\\_pure\\_storage & 3.31 & CH & Bitsch & 8000 \\\\\n",
       "\t27 & 39 & fossil\\_brown\\_lignite & 6 & GR & Amyndeo & 2400 \\\\\n",
       "\t28 & 843 & fossil\\_coal\\_gas & 11.84 & IT & Ravenna & 11000 \\\\\n",
       "\t29 & 112 & hydro\\_mixed & 7.8 & PT & Salamonde II & 6000 \\\\\n",
       "\t30 & 791 & hydro\\_mixed & 1.5 & IT & Sondrio & 6000 \\\\\n",
       "\t$\\dots$ & $\\dots$ & $\\dots$ & $\\dots$ & $\\dots$ & $\\dots$ & $\\dots$ \\\\\n",
       "\\end{tabular}\n"
      ],
      "text/plain": [
       "\u001b[1m1083×6 DataFrame\u001b[0m\n",
       "\u001b[1m  Row \u001b[0m│\u001b[1m id     \u001b[0m\u001b[1m type                 \u001b[0m\u001b[1m pmax    \u001b[0m\u001b[1m country \u001b[0m\u001b[1m name               \u001b[0m\u001b[1m co\u001b[0m ⋯\n",
       "      │\u001b[90m String \u001b[0m\u001b[90m Any                  \u001b[0m\u001b[90m Any     \u001b[0m\u001b[90m Any     \u001b[0m\u001b[90m Any                \u001b[0m\u001b[90m In\u001b[0m ⋯\n",
       "──────┼─────────────────────────────────────────────────────────────────────────\n",
       "    1 │ 1       Hydro                 1.14     BG       Uzundzhovo           6 ⋯\n",
       "    2 │ 519     hydro_pure_ps         11.64    BE       Coo                 10\n",
       "    3 │ 788     Geothermal            0.19     IT       Montalto\n",
       "    4 │ 774     fossil_brown_lignite  1.77     HU       Tisza II             2\n",
       "    5 │ 599     Biomass               0.01902  FR       Beaucouze            1 ⋯\n",
       "    6 │ 491     hydro_ror             0.723    AT       Pyhrn                1\n",
       "    7 │ 228     Hydro                 0.164    DE       Wengerohr            6\n",
       "    8 │ 332     fossil_coal_hard      2.46     PL       Poznań Południe      3\n",
       "    9 │ 190     fossil_brown_lignite  2.52     CZ       Tisová               2 ⋯\n",
       "   10 │ 227     Hydro                 0.164    DE       Wengerohr            6\n",
       "   11 │ 980     fossil_coal_gas       7.69     NL       Moerdijk            11\n",
       "  ⋮   │   ⋮              ⋮               ⋮        ⋮             ⋮              ⋱\n",
       " 1074 │ 604     hydro_ror             0.96     FR       St. Chamas           1\n",
       " 1075 │ 998     Gas                   8.5567   ES       P.G. Rodriguez      11 ⋯\n",
       " 1076 │ 563     Hydro                 0.01105  FR       Le Hourat            6\n",
       " 1077 │ 655     hydro_ror             0.93     FR       Mallemort            1\n",
       " 1078 │ 336     Coal                  0.42     PL       Gdańsk Błonie        3\n",
       " 1079 │ 732     nuclear               52       FR       Cattenom             1 ⋯\n",
       " 1080 │ 603     fossil_oil            14.15    FR       Le Havre            10\n",
       " 1081 │ 414     other_nl              4.08     RO       Brâila               1\n",
       " 1082 │ 710     fossil_coal_gas       1.53     FR       Chapelle''d Arblay  11\n",
       " 1083 │ 306     Gas                   0.377    DE       Lubmin              11 ⋯\n",
       "\u001b[36m                                                  1 column and 1062 rows omitted\u001b[0m"
      ]
     },
     "execution_count": 12,
     "metadata": {},
     "output_type": "execute_result"
    }
   ],
   "source": [
    "gens_info.cost = (x->length(x) > 0 ? x[1] : 0).(gens_info.cost)\n",
    "gens_info"
   ]
  },
  {
   "cell_type": "markdown",
   "id": "40892e05-8da5-4e9c-8a52-333df7b4e623",
   "metadata": {},
   "source": [
    "The info tables can be exported to CSV files:"
   ]
  },
  {
   "cell_type": "code",
   "execution_count": 13,
   "id": "ed3ccb29-d1dd-45bd-a5f8-5f5095f9f4a5",
   "metadata": {},
   "outputs": [],
   "source": [
    "# CSV.write(\"$data_directory/pantagruel_load_info.csv\", loads_info)"
   ]
  },
  {
   "cell_type": "code",
   "execution_count": 14,
   "id": "96264c14-f034-40fd-9410-26a6922a8347",
   "metadata": {},
   "outputs": [],
   "source": [
    "# CSV.write(\"$data_directory/pantagruel_gen_info.csv\", gens_info)"
   ]
  },
  {
   "cell_type": "markdown",
   "id": "3c4ab36e-8c28-4861-9f17-f286c6573b7e",
   "metadata": {},
   "source": [
    "The file `pantagruel_loads.csv` can then be used as a basis to generate time series for the loads using the `TimeSeries` package.\n",
    "Similarly, the file `pantagruel_gens.csv` can be used as a basis to generate a variable production cost. \n",
    "\n",
    "The documentation notebook [PanTaGruEl_time_series.ipynb](./PanTaGruEl_time_series.ipynb) shows how to proceed and creates CSV files with synthetic time series named `pantagruel_load_series.csv` and `pantagruel_gen_cost_series.csv`"
   ]
  },
  {
   "cell_type": "markdown",
   "id": "921483f5-5a55-49ad-8f32-fc4851f94528",
   "metadata": {},
   "source": [
    "## Assign loads corresponding to a given timestep"
   ]
  },
  {
   "cell_type": "markdown",
   "id": "17d34037-7668-499b-89db-4da1fae8d114",
   "metadata": {},
   "source": [
    "The model comes with a pre-set value for each load:"
   ]
  },
  {
   "cell_type": "code",
   "execution_count": 15,
   "id": "6173dd78-9ba5-4d5c-8a1c-d29eb1380b0d",
   "metadata": {},
   "outputs": [
    {
     "data": {
      "text/plain": [
       "10-element Vector{Float64}:\n",
       " 0.991773959053433\n",
       " 0.8502485878481437\n",
       " 0.5491873376602063\n",
       " 0.42357239643070443\n",
       " 1.7639757764158501\n",
       " 1.0707845577547312\n",
       " 1.8966499644786388\n",
       " 1.7682447350743928\n",
       " 2.6672019091946333\n",
       " 0.5240039676629611"
      ]
     },
     "execution_count": 15,
     "metadata": {},
     "output_type": "execute_result"
    }
   ],
   "source": [
    "[network[\"load\"][string(id)][\"pd\"] for id = 1:10]"
   ]
  },
  {
   "cell_type": "markdown",
   "id": "64c2798b-6696-4d1f-941d-01aec1c290fa",
   "metadata": {},
   "source": [
    "These values can be replaced by any particular timestep of the synthetic time series:"
   ]
  },
  {
   "cell_type": "code",
   "execution_count": 16,
   "id": "dc0cd256-072a-461c-abb6-2d41a5a8556a",
   "metadata": {},
   "outputs": [
    {
     "data": {
      "text/plain": [
       "10-element Vector{Float64}:\n",
       " 0.7446595719725443\n",
       " 0.5464496727856487\n",
       " 0.3541105263040253\n",
       " 0.38418819310111674\n",
       " 1.0846321773314256\n",
       " 0.7425666094818514\n",
       " 1.5055856572304538\n",
       " 1.0089063917456256\n",
       " 1.652165996556241\n",
       " 0.3566745501057052"
      ]
     },
     "execution_count": 16,
     "metadata": {},
     "output_type": "execute_result"
    }
   ],
   "source": [
    "assign_loads_from_file!(network, \"data/pantagruel_load_series.csv\", 0)\n",
    "[network[\"load\"][string(id)][\"pd\"] for id = 1:10]"
   ]
  },
  {
   "cell_type": "markdown",
   "id": "3705beb1-4b31-4c7a-9137-868838f6f865",
   "metadata": {},
   "source": [
    "In some cases, it is more convenient to load all the time series in memory first:"
   ]
  },
  {
   "cell_type": "code",
   "execution_count": 17,
   "id": "063d47fd-6de1-4cde-aa9e-5b4f5d5f32f7",
   "metadata": {},
   "outputs": [],
   "source": [
    "loads = CSV.read(\"data/pantagruel_load_series.csv\", DataFrame);"
   ]
  },
  {
   "cell_type": "markdown",
   "id": "25696989-b9ab-45a2-a0cf-50fa8e3a71e7",
   "metadata": {},
   "source": [
    "Then the load assignment works much faster. For instance, one can compare a winter day at peak hour:"
   ]
  },
  {
   "cell_type": "code",
   "execution_count": 18,
   "id": "4c7a37e1-dedb-41f1-89d2-31c305121f86",
   "metadata": {},
   "outputs": [
    {
     "data": {
      "text/plain": [
       "10-element Vector{Float64}:\n",
       " 1.0345068969732787\n",
       " 0.8260448280655366\n",
       " 0.5460505702683331\n",
       " 0.5049749730894599\n",
       " 1.8274297373471924\n",
       " 1.2671350244379402\n",
       " 2.443172673713758\n",
       " 1.6437777493464163\n",
       " 2.7921392822040714\n",
       " 0.47924970577535086"
      ]
     },
     "execution_count": 18,
     "metadata": {},
     "output_type": "execute_result"
    }
   ],
   "source": [
    "assign_loads!(network, loads, 17)\n",
    "[network[\"load\"][string(id)][\"pd\"] for id = 1:10]"
   ]
  },
  {
   "cell_type": "markdown",
   "id": "da5443fc-1b3e-4989-a74f-6cb32daab305",
   "metadata": {},
   "source": [
    "...with a quiet summer night where the loads are much smaller:"
   ]
  },
  {
   "cell_type": "code",
   "execution_count": 19,
   "id": "409a92b1-ee9c-4738-a6ee-150153021a7a",
   "metadata": {},
   "outputs": [
    {
     "data": {
      "text/plain": [
       "10-element Vector{Float64}:\n",
       " 0.5375472554440054\n",
       " 0.47201134948025997\n",
       " 0.31346646960682395\n",
       " 0.23781537063908323\n",
       " 1.3216694606077157\n",
       " 0.8042222569025296\n",
       " 1.1033609072302852\n",
       " 1.3706421892906258\n",
       " 1.4662215546392\n",
       " 0.3296066215708211"
      ]
     },
     "execution_count": 19,
     "metadata": {},
     "output_type": "execute_result"
    }
   ],
   "source": [
    "assign_loads!(network, loads, 24*182)\n",
    "[network[\"load\"][string(id)][\"pd\"] for id = 1:10]"
   ]
  },
  {
   "cell_type": "markdown",
   "id": "16c2f39f-adc2-4c28-9b95-dde85b16720a",
   "metadata": {},
   "source": [
    "## Assign production costs corresponding to a given timestep"
   ]
  },
  {
   "cell_type": "markdown",
   "id": "b4e4f0c4-10b0-4dee-bf4e-8e9a347fcaad",
   "metadata": {},
   "source": [
    "As with the load, the model already has a cost value for every generator:"
   ]
  },
  {
   "cell_type": "code",
   "execution_count": 20,
   "id": "52ccd88e-842a-4268-8429-5bf827dc9334",
   "metadata": {},
   "outputs": [
    {
     "data": {
      "text/plain": [
       "10-element Vector{Vector{Any}}:\n",
       " [6000, 0]\n",
       " [10000, 0]\n",
       " [1000, 0]\n",
       " [1000, 0]\n",
       " [6000, 0]\n",
       " [8000, 0]\n",
       " [8000, 0]\n",
       " [11000, 0]\n",
       " [2400, 0]\n",
       " [2400, 0]"
      ]
     },
     "execution_count": 20,
     "metadata": {},
     "output_type": "execute_result"
    }
   ],
   "source": [
    "[network[\"gen\"][string(id)][\"cost\"] for id = 1:10]"
   ]
  },
  {
   "cell_type": "markdown",
   "id": "591be08e-b90a-4a9a-aea4-0c1fc99e62d0",
   "metadata": {},
   "source": [
    "These values can be replaced with a particular timestep of some time series, either reading directly from a file:"
   ]
  },
  {
   "cell_type": "code",
   "execution_count": 21,
   "id": "22c27539-c9ce-45ed-8582-c69b7e40d9d3",
   "metadata": {},
   "outputs": [
    {
     "data": {
      "text/plain": [
       "10-element Vector{Vector{Any}}:\n",
       " [6420.331385689227, 0]\n",
       " [9832.759503044084, 0]\n",
       " [999.4252626883483, 0]\n",
       " [1061.43632511772, 0]\n",
       " [5942.199680823749, 0]\n",
       " [7787.958883076765, 0]\n",
       " [8394.24526193362, 0]\n",
       " [11491.79281589861, 0]\n",
       " [2322.4650601250573, 0]\n",
       " [2363.4118696171918, 0]"
      ]
     },
     "execution_count": 21,
     "metadata": {},
     "output_type": "execute_result"
    }
   ],
   "source": [
    "assign_costs_from_file!(network, \"data/pantagruel_gen_cost_series.csv\", 0)\n",
    "[network[\"gen\"][string(id)][\"cost\"] for id = 1:10]"
   ]
  },
  {
   "cell_type": "markdown",
   "id": "9127f5b0-ed87-417c-a54c-67cdee759488",
   "metadata": {},
   "source": [
    "...or loading the entire time series into memory first:"
   ]
  },
  {
   "cell_type": "code",
   "execution_count": 22,
   "id": "b1c99f64-7b6f-4de6-96c7-004126331f72",
   "metadata": {},
   "outputs": [],
   "source": [
    "costs = CSV.read(\"data/pantagruel_gen_cost_series.csv\", DataFrame);"
   ]
  },
  {
   "cell_type": "code",
   "execution_count": 23,
   "id": "5822c822-cea4-4171-84ba-d43fadc26f57",
   "metadata": {},
   "outputs": [
    {
     "data": {
      "text/plain": [
       "10-element Vector{Vector{Any}}:\n",
       " [7164.09240275266, 0]\n",
       " [10110.966350775965, 0]\n",
       " [945.8202678869371, 0]\n",
       " [1015.5867487647798, 0]\n",
       " [5800.825047859604, 0]\n",
       " [7942.79244515956, 0]\n",
       " [8219.912463126351, 0]\n",
       " [10917.159462393794, 0]\n",
       " [2292.4431070389596, 0]\n",
       " [2648.4385455151587, 0]"
      ]
     },
     "execution_count": 23,
     "metadata": {},
     "output_type": "execute_result"
    }
   ],
   "source": [
    "assign_costs!(network, costs, 1)\n",
    "[network[\"gen\"][string(id)][\"cost\"] for id = 1:10]"
   ]
  },
  {
   "cell_type": "markdown",
   "id": "27d29e54-e371-4f91-b5e1-4ebb65d7de11",
   "metadata": {},
   "source": [
    "## Perform Optimal Power Flow computation"
   ]
  },
  {
   "cell_type": "markdown",
   "id": "7e7589b8-6def-451e-a030-3a0924a26408",
   "metadata": {},
   "source": [
    "This requires using an optimizer, such as Ipopt (free) or Gurobi (commercial):"
   ]
  },
  {
   "cell_type": "code",
   "execution_count": 24,
   "id": "310d70ec-6ddf-42b1-99ab-6b78ae9551c2",
   "metadata": {},
   "outputs": [
    {
     "name": "stderr",
     "output_type": "stream",
     "text": [
      "\u001b[32m\u001b[1mPrecompiling\u001b[22m\u001b[39m TemperateOptimalPowerFlowGurobiExt\n"
     ]
    },
    {
     "name": "stdout",
     "output_type": "stream",
     "text": [
      "Set parameter TokenServer to value \"gurobilm.hevs.ch\"\n"
     ]
    },
    {
     "name": "stderr",
     "output_type": "stream",
     "text": [
      "\u001b[32m  ✓ \u001b[39m\u001b[90mTemperateOptimalPowerFlow → TemperateOptimalPowerFlowGurobiExt\u001b[39m\n",
      "  1 dependency successfully precompiled in 2 seconds. 83 already precompiled.\n"
     ]
    }
   ],
   "source": [
    "# using Ipopt\n",
    "using Gurobi"
   ]
  },
  {
   "cell_type": "markdown",
   "id": "64c01d27-6ed2-4130-88f0-672717e63e23",
   "metadata": {},
   "source": [
    "An optimizer can be obtained with:"
   ]
  },
  {
   "cell_type": "code",
   "execution_count": 25,
   "id": "f76f3f5e-ea4a-4e12-8369-155726cf7409",
   "metadata": {},
   "outputs": [],
   "source": [
    "optimizer = get_optimizer();"
   ]
  },
  {
   "cell_type": "markdown",
   "id": "0db80754-2074-4b7a-929e-16ba875f7ef3",
   "metadata": {},
   "source": [
    "Assign loads and generation costs from a particular time step:"
   ]
  },
  {
   "cell_type": "code",
   "execution_count": 26,
   "id": "3cc660b5-8b1f-4313-ae35-931d1ba88b35",
   "metadata": {},
   "outputs": [],
   "source": [
    "assign_loads!(network, loads, 0)\n",
    "assign_costs!(network, costs, 0)"
   ]
  },
  {
   "cell_type": "markdown",
   "id": "1fdca838-256a-45bb-86e9-38d204605afc",
   "metadata": {},
   "source": [
    "The command to run a DC OPF taking line costs into account is:"
   ]
  },
  {
   "cell_type": "code",
   "execution_count": 27,
   "id": "f64d54a0-0680-4455-96a8-d0c7e95b64d2",
   "metadata": {},
   "outputs": [
    {
     "name": "stdout",
     "output_type": "stream",
     "text": [
      "Gurobi Optimizer version 11.0.0 build v11.0.0rc2 (linux64 - \"Ubuntu 23.10\")\n",
      "\n",
      "CPU model: 12th Gen Intel(R) Core(TM) i7-1255U, instruction set [SSE2|AVX|AVX2]\n",
      "Thread count: 12 physical cores, 12 logical processors, using up to 12 threads\n",
      "\n",
      "Optimize a model with 23081 rows, 13555 columns and 64175 nonzeros\n",
      "Model fingerprint: 0x3c7b231e\n",
      "Coefficient statistics:\n",
      "  Matrix range     [1e+00, 3e+03]\n",
      "  Objective range  [7e+02, 1e+04]\n",
      "  Bounds range     [1e-02, 5e+01]\n",
      "  RHS range        [7e-12, 7e+00]\n",
      "Presolve removed 16605 rows and 7678 columns\n",
      "Presolve time: 0.05s\n",
      "Presolved: 6476 rows, 7549 columns, 29157 nonzeros\n",
      "\n",
      "Concurrent LP optimizer: primal simplex, dual simplex, and barrier\n",
      "Showing barrier log only...\n",
      "\n",
      "Ordering time: 0.01s\n",
      "\n",
      "Barrier statistics:\n",
      " Free vars  : 518\n",
      " AA' NZ     : 7.154e+04\n",
      " Factor NZ  : 2.406e+05 (roughly 8 MB of memory)\n",
      " Factor Ops : 1.245e+07 (less than 1 second per iteration)\n",
      " Threads    : 10\n",
      "\n",
      "                  Objective                Residual\n",
      "Iter       Primal          Dual         Primal    Dual     Compl     Time\n",
      "   0   2.16204988e+10 -2.57507556e+09  1.64e+04 7.18e+06  5.95e+07     0s\n",
      "   1   4.49757739e+09 -2.71916613e+09  3.40e+03 6.59e-04  1.26e+07     0s\n",
      "   2   2.53915850e+08 -2.43846345e+09  1.85e+02 4.90e-04  8.29e+05     0s\n",
      "   3   7.39684335e+07 -1.98486241e+09  4.84e+01 2.39e-04  2.97e+05     0s\n",
      "   4   1.67898554e+07 -7.18457065e+08  5.48e+00 3.51e-05  6.15e+04     0s\n",
      "   5   8.38109353e+06 -2.50219158e+08  4.70e-01 1.24e-05  1.90e+04     0s\n",
      "   6   6.13809594e+06 -9.43665923e+07  9.69e-02 8.45e-06  7.29e+03     0s\n",
      "   7   5.11075404e+06 -2.85869380e+07  3.00e-02 1.90e-05  2.44e+03     0s\n",
      "   8   4.55627113e+06 -8.62013817e+06  9.92e-03 2.40e-05  9.53e+02     0s\n",
      "   9   4.37088855e+06 -7.49952363e+05  5.43e-03 3.60e-05  3.70e+02     0s\n",
      "  10   4.21459934e+06  9.96903732e+05  2.28e-03 3.64e-05  2.33e+02     0s\n",
      "  11   4.12462335e+06  3.01079716e+06  5.69e-04 2.71e-05  8.05e+01     0s\n",
      "  12   4.09668201e+06  3.80563810e+06  2.02e-04 7.39e-06  2.10e+01     0s\n",
      "  13   4.08599494e+06  4.03103968e+06  7.93e-05 2.15e-06  3.97e+00     0s\n",
      "  14   4.07865325e+06  4.06891535e+06  9.34e-06 1.00e-05  7.04e-01     0s\n",
      "  15   4.07770876e+06  4.07723759e+06  6.09e-07 1.22e-06  3.40e-02     0s\n",
      "  16   4.07763178e+06  4.07763131e+06  1.23e-09 1.34e-07  3.41e-05     0s\n",
      "  17   4.07763170e+06  4.07763170e+06  7.52e-11 1.37e-10  3.41e-11     0s\n",
      "\n",
      "Barrier solved model in 17 iterations and 0.15 seconds (0.11 work units)\n",
      "Optimal objective 4.07763170e+06\n",
      "\n",
      "Crossover log...\n",
      "\n",
      "      10 DPushes remaining with DInf 0.0000000e+00                 0s\n",
      "       0 DPushes remaining with DInf 0.0000000e+00                 0s\n",
      "\n",
      "       0 PPushes remaining with PInf 0.0000000e+00                 0s\n",
      "\n",
      "  Push phase complete: Pinf 0.0000000e+00, Dinf 2.8409677e-08      0s\n",
      "\n",
      "\n",
      "Solved with barrier\n",
      "Iteration    Objective       Primal Inf.    Dual Inf.      Time\n",
      "      13    4.0776317e+06   0.000000e+00   0.000000e+00      0s\n",
      "\n",
      "Solved in 13 iterations and 0.19 seconds (0.13 work units)\n",
      "Optimal objective  4.077631700e+06\n",
      "\n",
      "User-callback calls 372, time in user-callback 0.00 sec\n"
     ]
    },
    {
     "data": {
      "text/plain": [
       "Dict{String, Any} with 8 entries:\n",
       "  \"solve_time\"         => 0.191429\n",
       "  \"optimizer\"          => \"Gurobi\"\n",
       "  \"termination_status\" => OPTIMAL\n",
       "  \"dual_status\"        => FEASIBLE_POINT\n",
       "  \"primal_status\"      => FEASIBLE_POINT\n",
       "  \"objective\"          => 4.07763e6\n",
       "  \"solution\"           => Dict{String, Any}(\"baseMVA\"=>100, \"branch\"=>Dict{Stri…\n",
       "  \"objective_lb\"       => 4.07763e6"
      ]
     },
     "execution_count": 27,
     "metadata": {},
     "output_type": "execute_result"
    }
   ],
   "source": [
    "opf = solve_dc_topf(network, optimizer)"
   ]
  },
  {
   "cell_type": "markdown",
   "id": "86ed1529-2b1e-469a-ac6f-b67920588d9f",
   "metadata": {},
   "source": [
    "The generators' power can then be read from the OPF's solution:"
   ]
  },
  {
   "cell_type": "code",
   "execution_count": 28,
   "id": "ae3c3cab-896d-4723-8213-724e51d0df51",
   "metadata": {},
   "outputs": [
    {
     "data": {
      "text/plain": [
       "1083-element Vector{Float64}:\n",
       "  0.0\n",
       "  0.0\n",
       "  0.19\n",
       "  1.77\n",
       "  0.01902\n",
       "  0.72300003\n",
       "  0.0\n",
       "  0.0\n",
       "  2.52\n",
       "  0.0\n",
       "  0.0\n",
       "  0.0\n",
       "  0.93\n",
       "  ⋮\n",
       "  0.0\n",
       "  1.38\n",
       "  0.96\n",
       "  0.0\n",
       "  0.0\n",
       "  0.93\n",
       "  0.0\n",
       " 52.0\n",
       "  0.0\n",
       "  4.08\n",
       "  0.0\n",
       "  0.0"
      ]
     },
     "execution_count": 28,
     "metadata": {},
     "output_type": "execute_result"
    }
   ],
   "source": [
    "[opf[\"solution\"][\"gen\"][gen_id][\"pg\"] for gen_id in list_of_gens]"
   ]
  },
  {
   "cell_type": "markdown",
   "id": "37016195-2aef-4669-83cb-aea4cb93740f",
   "metadata": {},
   "source": [
    "Other information, such as the power flowing through a line can also be obtained:"
   ]
  },
  {
   "cell_type": "code",
   "execution_count": 29,
   "id": "465ab371-ab92-49f0-b4d1-31f92c13660a",
   "metadata": {},
   "outputs": [
    {
     "data": {
      "text/plain": [
       "10-element Vector{Float64}:\n",
       "  0.3723297859862722\n",
       "  0.3723297859862722\n",
       "  0.02577313102452905\n",
       "  0.02577313102452905\n",
       "  0.4949034107365913\n",
       " -0.5258894736959743\n",
       " -0.21581180689888324\n",
       "  0.15148139938030436\n",
       " -0.15148139938030436\n",
       "  0.0"
      ]
     },
     "execution_count": 29,
     "metadata": {},
     "output_type": "execute_result"
    }
   ],
   "source": [
    "[opf[\"solution\"][\"branch\"][string(i)][\"pt\"] for i = 1:10]"
   ]
  },
  {
   "cell_type": "markdown",
   "id": "238db570-397a-43ae-8ee3-0cea931082c2",
   "metadata": {},
   "source": [
    "In some cases, the OPF won't converge, and one may want to raise the thermal limit, for instance by 10% with the function:"
   ]
  },
  {
   "cell_type": "code",
   "execution_count": 30,
   "id": "f30bd9db-c31a-4c22-92ef-f723d5bcb379",
   "metadata": {},
   "outputs": [],
   "source": [
    "raise_thermal_limit!(network, 1.1)"
   ]
  },
  {
   "cell_type": "markdown",
   "id": "13d6dc2e-34a7-468f-814b-f06c0b5f1093",
   "metadata": {},
   "source": [
    "To lower the thermal limit again, re-load the network or use:"
   ]
  },
  {
   "cell_type": "code",
   "execution_count": 31,
   "id": "cab488f3-daf9-4152-8ffa-c298b636465b",
   "metadata": {},
   "outputs": [],
   "source": [
    "raise_thermal_limit!(network, 1/1.1)"
   ]
  },
  {
   "cell_type": "markdown",
   "id": "9c85fc0d-96e8-4511-b9eb-2bff09d78182",
   "metadata": {},
   "source": [
    "## Implement ramp up/down constraints"
   ]
  },
  {
   "cell_type": "markdown",
   "id": "61857174-09b0-4b9e-bbaf-c3dd45f81700",
   "metadata": {},
   "source": [
    "Ramp up/down constraints take into account the solution to a previous OPF to bound the possible active power of some generators.\n",
    "\n",
    "To use it, the network data must first be updated to include the results of the OPF computation:"
   ]
  },
  {
   "cell_type": "code",
   "execution_count": 32,
   "id": "d4a13dc0-1e48-48fc-95c5-598e9f438470",
   "metadata": {},
   "outputs": [],
   "source": [
    "update_data!(network, opf[\"solution\"])"
   ]
  },
  {
   "cell_type": "code",
   "execution_count": 33,
   "id": "3ad585c0-21ea-438d-8e20-89cbf1c4dd34",
   "metadata": {},
   "outputs": [
    {
     "name": "stdout",
     "output_type": "stream",
     "text": [
      "Gurobi Optimizer version 11.0.0 build v11.0.0rc2 (linux64 - \"Ubuntu 23.10\")\n",
      "\n",
      "CPU model: 12th Gen Intel(R) Core(TM) i7-1255U, instruction set [SSE2|AVX|AVX2]\n",
      "Thread count: 12 physical cores, 12 logical processors, using up to 12 threads\n",
      "\n",
      "Optimize a model with 23081 rows, 13555 columns and 64175 nonzeros\n",
      "Model fingerprint: 0xec622379\n",
      "Coefficient statistics:\n",
      "  Matrix range     [1e+00, 3e+03]\n",
      "  Objective range  [7e+02, 1e+04]\n",
      "  Bounds range     [1e-02, 5e+01]\n",
      "  RHS range        [7e-12, 7e+00]\n",
      "Presolve removed 16605 rows and 7678 columns\n",
      "Presolve time: 0.04s\n",
      "Presolved: 6476 rows, 7549 columns, 29157 nonzeros\n",
      "\n",
      "Concurrent LP optimizer: primal simplex, dual simplex, and barrier\n",
      "Showing barrier log only...\n",
      "\n",
      "Ordering time: 0.01s\n",
      "\n",
      "Barrier statistics:\n",
      " Free vars  : 518\n",
      " AA' NZ     : 7.154e+04\n",
      " Factor NZ  : 2.406e+05 (roughly 8 MB of memory)\n",
      " Factor Ops : 1.245e+07 (less than 1 second per iteration)\n",
      " Threads    : 10\n",
      "\n",
      "                  Objective                Residual\n",
      "Iter       Primal          Dual         Primal    Dual     Compl     Time\n",
      "   0   2.16204988e+10 -2.57507556e+09  1.64e+04 7.18e+06  5.95e+07     0s\n",
      "   1   4.49757739e+09 -2.71916613e+09  3.40e+03 6.59e-04  1.26e+07     0s\n",
      "   2   2.53915850e+08 -2.43846345e+09  1.85e+02 4.90e-04  8.29e+05     0s\n",
      "   3   7.39684335e+07 -1.98486241e+09  4.84e+01 2.39e-04  2.97e+05     0s\n",
      "   4   1.67898554e+07 -7.18457065e+08  5.48e+00 3.51e-05  6.15e+04     0s\n",
      "   5   8.38109368e+06 -2.50219157e+08  4.70e-01 1.24e-05  1.90e+04     0s\n",
      "   6   6.13809596e+06 -9.43665950e+07  9.69e-02 8.45e-06  7.29e+03     0s\n",
      "   7   5.11075394e+06 -2.85869384e+07  3.00e-02 1.90e-05  2.44e+03     0s\n",
      "   8   4.55627106e+06 -8.62013847e+06  9.92e-03 2.40e-05  9.53e+02     0s\n",
      "   9   4.37088851e+06 -7.49965139e+05  5.43e-03 3.60e-05  3.70e+02     0s\n",
      "  10   4.21459926e+06  9.96899206e+05  2.28e-03 3.64e-05  2.33e+02     0s\n",
      "  11   4.12462327e+06  3.01078965e+06  5.69e-04 2.71e-05  8.05e+01     0s\n",
      "  12   4.09668185e+06  3.80563649e+06  2.02e-04 7.39e-06  2.10e+01     0s\n",
      "  13   4.08599486e+06  4.03103975e+06  7.93e-05 2.15e-06  3.97e+00     0s\n",
      "  14   4.07865323e+06  4.06891645e+06  9.34e-06 1.00e-05  7.03e-01     0s\n",
      "  15   4.07770876e+06  4.07723770e+06  6.09e-07 1.22e-06  3.40e-02     0s\n",
      "  16   4.07763178e+06  4.07763131e+06  1.51e-09 1.34e-07  3.41e-05     0s\n",
      "  17   4.07763170e+06  4.07763170e+06  1.25e-10 1.37e-10  3.41e-11     0s\n",
      "\n",
      "Barrier solved model in 17 iterations and 0.16 seconds (0.11 work units)\n",
      "Optimal objective 4.07763170e+06\n",
      "\n",
      "Crossover log...\n",
      "\n",
      "      10 DPushes remaining with DInf 0.0000000e+00                 0s\n",
      "       0 DPushes remaining with DInf 0.0000000e+00                 0s\n",
      "\n",
      "       0 PPushes remaining with PInf 0.0000000e+00                 0s\n",
      "\n",
      "  Push phase complete: Pinf 0.0000000e+00, Dinf 2.8409677e-08      0s\n",
      "\n",
      "\n",
      "Solved with barrier\n",
      "Iteration    Objective       Primal Inf.    Dual Inf.      Time\n",
      "      13    4.0776317e+06   0.000000e+00   0.000000e+00      0s\n",
      "\n",
      "Solved in 13 iterations and 0.21 seconds (0.13 work units)\n",
      "Optimal objective  4.077631700e+06\n",
      "\n",
      "User-callback calls 373, time in user-callback 0.00 sec\n"
     ]
    },
    {
     "data": {
      "text/plain": [
       "Dict{String, Any} with 8 entries:\n",
       "  \"solve_time\"         => 0.212495\n",
       "  \"optimizer\"          => \"Gurobi\"\n",
       "  \"termination_status\" => OPTIMAL\n",
       "  \"dual_status\"        => FEASIBLE_POINT\n",
       "  \"primal_status\"      => FEASIBLE_POINT\n",
       "  \"objective\"          => 4.07763e6\n",
       "  \"solution\"           => Dict{String, Any}(\"baseMVA\"=>100, \"branch\"=>Dict{Stri…\n",
       "  \"objective_lb\"       => 4.07763e6"
      ]
     },
     "execution_count": 33,
     "metadata": {},
     "output_type": "execute_result"
    }
   ],
   "source": [
    "opf = solve_dc_topf(network, optimizer)"
   ]
  },
  {
   "cell_type": "markdown",
   "id": "c4891ab8-60de-4b09-8c10-0207f587245d",
   "metadata": {},
   "source": [
    "Then, one can assign a maximum ramp up/down value for generators of a given type (in per units):"
   ]
  },
  {
   "cell_type": "code",
   "execution_count": 34,
   "id": "de2db386-cbe9-4a79-84be-7a832aa28888",
   "metadata": {},
   "outputs": [],
   "source": [
    "assign_ramp_max!(network, 1.0, [\"nuclear\", \"Nuclear\", \"nuclear_cons\"])"
   ]
  },
  {
   "cell_type": "code",
   "execution_count": 35,
   "id": "c8c93bc9-2b7a-4a9f-b465-c27b4241912b",
   "metadata": {},
   "outputs": [
    {
     "data": {
      "text/plain": [
       "Dict{String, Any} with 16 entries:\n",
       "  \"ramp_max\"   => 1.0\n",
       "  \"pg\"         => 12.88\n",
       "  \"model\"      => 2\n",
       "  \"qg\"         => NaN\n",
       "  \"gen_bus\"    => 2807\n",
       "  \"pmax\"       => 12.88\n",
       "  \"mbase\"      => 100\n",
       "  \"vg\"         => 1\n",
       "  \"index\"      => 257\n",
       "  \"cost\"       => Any[1700.98, 0]\n",
       "  \"gen_status\" => 1\n",
       "  \"qmax\"       => 6.44\n",
       "  \"qmin\"       => -6.44\n",
       "  \"type\"       => \"nuclear\"\n",
       "  \"pmin\"       => 0\n",
       "  \"ncost\"      => 2"
      ]
     },
     "execution_count": 35,
     "metadata": {},
     "output_type": "execute_result"
    }
   ],
   "source": [
    "network[\"gen\"][\"257\"]"
   ]
  },
  {
   "cell_type": "markdown",
   "id": "462f94b8-aaf6-4025-95f1-1119c4572363",
   "metadata": {},
   "source": [
    "This can also be done as a fraction of the max capacity:"
   ]
  },
  {
   "cell_type": "code",
   "execution_count": 36,
   "id": "7d3f2c2d-b519-4226-acd3-41db741082b0",
   "metadata": {},
   "outputs": [],
   "source": [
    "assign_ramp_max_ratio!(network, 0.1, [\"nuclear\", \"Nuclear\", \"nuclear_cons\"])"
   ]
  },
  {
   "cell_type": "code",
   "execution_count": 37,
   "id": "5e120404-660a-4eab-aa71-dea85904d019",
   "metadata": {},
   "outputs": [
    {
     "data": {
      "text/plain": [
       "Dict{String, Any} with 16 entries:\n",
       "  \"ramp_max\"   => 1.288\n",
       "  \"pg\"         => 12.88\n",
       "  \"model\"      => 2\n",
       "  \"qg\"         => NaN\n",
       "  \"gen_bus\"    => 2807\n",
       "  \"pmax\"       => 12.88\n",
       "  \"mbase\"      => 100\n",
       "  \"vg\"         => 1\n",
       "  \"index\"      => 257\n",
       "  \"cost\"       => Any[1700.98, 0]\n",
       "  \"gen_status\" => 1\n",
       "  \"qmax\"       => 6.44\n",
       "  \"qmin\"       => -6.44\n",
       "  \"type\"       => \"nuclear\"\n",
       "  \"pmin\"       => 0\n",
       "  \"ncost\"      => 2"
      ]
     },
     "execution_count": 37,
     "metadata": {},
     "output_type": "execute_result"
    }
   ],
   "source": [
    "network[\"gen\"][\"257\"]"
   ]
  },
  {
   "cell_type": "markdown",
   "id": "bc096fe0-e56e-42f9-b89e-40af130e179c",
   "metadata": {},
   "source": [
    "Assign loads and line costs from the next time step:"
   ]
  },
  {
   "cell_type": "code",
   "execution_count": 38,
   "id": "b0476fff-2114-439f-aac1-d89bd253bb70",
   "metadata": {},
   "outputs": [],
   "source": [
    "assign_loads!(network, loads, 1)\n",
    "assign_costs!(network, costs, 1)"
   ]
  },
  {
   "cell_type": "markdown",
   "id": "0ad1ef1b-5d81-4539-a24c-300b35dbfa1d",
   "metadata": {},
   "source": [
    "Perform a new OPF (note that the number of constraints has changed):"
   ]
  },
  {
   "cell_type": "code",
   "execution_count": 39,
   "id": "c5c8a6c9-88c1-4457-8599-2424460a7523",
   "metadata": {},
   "outputs": [
    {
     "name": "stdout",
     "output_type": "stream",
     "text": [
      "Gurobi Optimizer version 11.0.0 build v11.0.0rc2 (linux64 - \"Ubuntu 23.10\")\n",
      "\n",
      "CPU model: 12th Gen Intel(R) Core(TM) i7-1255U, instruction set [SSE2|AVX|AVX2]\n",
      "Thread count: 12 physical cores, 12 logical processors, using up to 12 threads\n",
      "\n",
      "Optimize a model with 23081 rows, 13555 columns and 64175 nonzeros\n",
      "Model fingerprint: 0x922be90a\n",
      "Coefficient statistics:\n",
      "  Matrix range     [1e+00, 3e+03]\n",
      "  Objective range  [7e+02, 1e+04]\n",
      "  Bounds range     [1e-02, 5e+01]\n",
      "  RHS range        [7e-12, 7e+00]\n",
      "Presolve removed 16605 rows and 7678 columns\n",
      "Presolve time: 0.04s\n",
      "Presolved: 6476 rows, 7548 columns, 29156 nonzeros\n",
      "\n",
      "Concurrent LP optimizer: primal simplex, dual simplex, and barrier\n",
      "Showing barrier log only...\n",
      "\n",
      "Ordering time: 0.01s\n",
      "\n",
      "Barrier statistics:\n",
      " Free vars  : 518\n",
      " AA' NZ     : 7.154e+04\n",
      " Factor NZ  : 2.408e+05 (roughly 8 MB of memory)\n",
      " Factor Ops : 1.247e+07 (less than 1 second per iteration)\n",
      " Threads    : 10\n",
      "\n",
      "                  Objective                Residual\n",
      "Iter       Primal          Dual         Primal    Dual     Compl     Time\n",
      "   0   2.03464990e+10 -2.61739910e+09  1.55e+04 7.38e+06  5.69e+07     0s\n",
      "   1   4.46063818e+09 -2.67432096e+09  3.41e+03 9.05e+05  1.26e+07     0s\n",
      "   2   3.58349653e+08 -2.49162140e+09  2.67e+02 4.95e-04  1.14e+06     0s\n",
      "   3   2.81279709e+07 -1.56349472e+09  1.53e+01 8.48e-05  1.57e+05     0s\n",
      "   4   1.02841537e+07 -3.73285317e+08  2.04e+00 1.42e-05  2.96e+04     0s\n",
      "   5   6.30698186e+06 -1.03282978e+08  1.66e-01 5.23e-06  7.98e+03     0s\n",
      "   6   5.16563613e+06 -4.17639054e+07  4.32e-02 1.23e-05  3.40e+03     0s\n",
      "   7   4.60534228e+06 -1.36311634e+07  1.52e-02 1.88e-05  1.32e+03     0s\n",
      "   8   4.17704720e+06 -6.65790243e+06  2.16e-03 2.64e-05  7.83e+02     0s\n",
      "   9   4.10266211e+06 -5.20686789e+05  1.50e-03 2.47e-05  3.34e+02     0s\n",
      "  10   3.97742018e+06  2.57436733e+06  4.82e-04 1.65e-05  1.01e+02     0s\n",
      "  11   3.91314155e+06  3.40920658e+06  8.05e-05 8.32e-06  3.64e+01     0s\n",
      "  12   3.89602513e+06  3.75546106e+06  1.07e-05 5.30e-06  1.02e+01     0s\n",
      "  13   3.89384324e+06  3.87063771e+06  4.53e-06 1.06e-06  1.68e+00     0s\n",
      "  14   3.89216401e+06  3.88995306e+06  3.29e-07 6.25e-08  1.60e-01     0s\n",
      "  15   3.89197495e+06  3.89196957e+06  3.51e-10 9.96e-09  3.89e-04     0s\n",
      "  16   3.89197442e+06  3.89197442e+06  6.34e-10 7.14e-11  3.46e-08     0s\n",
      "  17   3.89197442e+06  3.89197442e+06  3.42e-10 2.91e-11  3.46e-11     0s\n",
      "\n",
      "Barrier solved model in 17 iterations and 0.15 seconds (0.11 work units)\n",
      "Optimal objective 3.89197442e+06\n",
      "\n",
      "Crossover log...\n",
      "\n",
      "      10 DPushes remaining with DInf 0.0000000e+00                 0s\n",
      "       0 DPushes remaining with DInf 0.0000000e+00                 0s\n",
      "\n",
      "       0 PPushes remaining with PInf 0.0000000e+00                 0s\n",
      "\n",
      "  Push phase complete: Pinf 0.0000000e+00, Dinf 3.5165627e-08      0s\n",
      "\n",
      "\n",
      "Solved with barrier\n",
      "Iteration    Objective       Primal Inf.    Dual Inf.      Time\n",
      "      13    3.8919744e+06   0.000000e+00   0.000000e+00      0s\n",
      "\n",
      "Solved in 13 iterations and 0.20 seconds (0.14 work units)\n",
      "Optimal objective  3.891974422e+06\n",
      "\n",
      "User-callback calls 371, time in user-callback 0.00 sec\n"
     ]
    },
    {
     "data": {
      "text/plain": [
       "Dict{String, Any} with 8 entries:\n",
       "  \"solve_time\"         => 0.195692\n",
       "  \"optimizer\"          => \"Gurobi\"\n",
       "  \"termination_status\" => OPTIMAL\n",
       "  \"dual_status\"        => FEASIBLE_POINT\n",
       "  \"primal_status\"      => FEASIBLE_POINT\n",
       "  \"objective\"          => 3.89197e6\n",
       "  \"solution\"           => Dict{String, Any}(\"baseMVA\"=>100, \"branch\"=>Dict{Stri…\n",
       "  \"objective_lb\"       => 3.89197e6"
      ]
     },
     "execution_count": 39,
     "metadata": {},
     "output_type": "execute_result"
    }
   ],
   "source": [
    "opf = solve_dc_topf(network, optimizer)"
   ]
  },
  {
   "cell_type": "markdown",
   "id": "8adfa869-c676-4f26-85fa-b695bce4ca2a",
   "metadata": {},
   "source": [
    "## Iterate OPF"
   ]
  },
  {
   "cell_type": "markdown",
   "id": "448978ff-144b-469d-864a-d151c8b8efc5",
   "metadata": {},
   "source": [
    "To iterate the process for every time step, one can use the function `iterate_dc_opf`:"
   ]
  },
  {
   "cell_type": "code",
   "execution_count": 40,
   "id": "e2346503-6923-4a4e-bd47-64ab421eee61",
   "metadata": {},
   "outputs": [],
   "source": [
    "# iterate_dc_opf(network,\n",
    "#     \"data/pantagruel_load_series.csv\", \n",
    "#     \"data/pantagruel_gen_cost_series.csv\",\n",
    "#     \"data/pantagruel_gen_series.csv\",\n",
    "#     get_silent_optimizer())"
   ]
  },
  {
   "cell_type": "markdown",
   "id": "aec80c80-2ac2-40d3-9a4f-5b3414f11a3f",
   "metadata": {},
   "source": [
    "## Add line costs"
   ]
  },
  {
   "cell_type": "markdown",
   "id": "1cd33562-51dd-49f8-ae45-533178a86f01",
   "metadata": {},
   "source": [
    "In general, the OPF results in a certain number of lines being loaded at their maximum rate:"
   ]
  },
  {
   "cell_type": "code",
   "execution_count": 41,
   "id": "3b2e07c2-ecea-47b9-a889-16fe63994742",
   "metadata": {},
   "outputs": [],
   "source": [
    "optimizer = get_silent_optimizer();"
   ]
  },
  {
   "cell_type": "code",
   "execution_count": 42,
   "id": "a3424fa5-97a1-4e9e-a66c-820e83a49847",
   "metadata": {},
   "outputs": [
    {
     "data": {
      "text/plain": [
       "Dict{String, Float64} with 8375 entries:\n",
       "  \"4304\" => 0.039106\n",
       "  \"5422\" => 0.0191124\n",
       "  \"3935\" => 0.403133\n",
       "  \"5461\" => 0.110672\n",
       "  \"2243\" => 0.0197504\n",
       "  \"8169\" => 0.330046\n",
       "  \"1881\" => 0.0507151\n",
       "  \"5425\" => 0.0172724\n",
       "  \"4209\" => 0.427278\n",
       "  \"1907\" => 0.138911\n",
       "  \"2923\" => 0.409635\n",
       "  \"6753\" => 0.137247\n",
       "  \"7413\" => 0.12305\n",
       "  \"599\"  => 0.110428\n",
       "  \"2491\" => 0.0824372\n",
       "  \"5944\" => 0.0767605\n",
       "  \"228\"  => 0.0160537\n",
       "  \"2590\" => 1.0\n",
       "  \"3697\" => 0.0208966\n",
       "  \"5031\" => 0.10786\n",
       "  \"2579\" => 0.196347\n",
       "  \"5551\" => 0.366423\n",
       "  \"3991\" => 0.0293508\n",
       "  \"2562\" => 0.0877315\n",
       "  \"3215\" => 0.545515\n",
       "  ⋮      => ⋮"
      ]
     },
     "execution_count": 42,
     "metadata": {},
     "output_type": "execute_result"
    }
   ],
   "source": [
    "line_rates = compute_line_rates(network, optimizer)"
   ]
  },
  {
   "cell_type": "code",
   "execution_count": 43,
   "id": "bcc5053b-ae18-4abf-ad1b-4b73314b25c8",
   "metadata": {},
   "outputs": [
    {
     "data": {
      "text/plain": [
       "8375"
      ]
     },
     "execution_count": 43,
     "metadata": {},
     "output_type": "execute_result"
    }
   ],
   "source": [
    "length(line_rates)"
   ]
  },
  {
   "cell_type": "code",
   "execution_count": 44,
   "id": "211ce096-331c-4d59-b0b7-ac009beb64fa",
   "metadata": {},
   "outputs": [
    {
     "data": {
      "text/plain": [
       "39"
      ]
     },
     "execution_count": 44,
     "metadata": {},
     "output_type": "execute_result"
    }
   ],
   "source": [
    "count(values(line_rates) .> 0.99)"
   ]
  },
  {
   "cell_type": "markdown",
   "id": "d6b3f4f0-79e6-4dc7-b6ff-45a95e656219",
   "metadata": {},
   "source": [
    "Adding a cost for the line in the objective function solves the problem:"
   ]
  },
  {
   "cell_type": "code",
   "execution_count": 45,
   "id": "47d1465b-80fb-434f-afed-333b9ca39e63",
   "metadata": {},
   "outputs": [],
   "source": [
    "add_line_costs!(network, 5000)"
   ]
  },
  {
   "cell_type": "code",
   "execution_count": 46,
   "id": "a2ce8931-e378-4e84-b69a-faaf7eba4c7e",
   "metadata": {},
   "outputs": [
    {
     "data": {
      "text/plain": [
       "1"
      ]
     },
     "execution_count": 46,
     "metadata": {},
     "output_type": "execute_result"
    }
   ],
   "source": [
    "improved_line_rates = compute_line_rates(network, optimizer)\n",
    "count(values(improved_line_rates) .> 0.99)"
   ]
  },
  {
   "cell_type": "markdown",
   "id": "4f4a0db6-e7bd-4e1e-9d8c-3af5a1930e69",
   "metadata": {},
   "source": [
    "**More information about line costs can be found in the notebook [PanTaGruEl_line_rates](./PanTaGruEl_line_rates.ipynb).**"
   ]
  }
 ],
 "metadata": {
  "kernelspec": {
   "display_name": "Julia 1.10.0",
   "language": "julia",
   "name": "julia-1.10"
  },
  "language_info": {
   "file_extension": ".jl",
   "mimetype": "application/julia",
   "name": "julia",
   "version": "1.10.0"
  }
 },
 "nbformat": 4,
 "nbformat_minor": 5
}
