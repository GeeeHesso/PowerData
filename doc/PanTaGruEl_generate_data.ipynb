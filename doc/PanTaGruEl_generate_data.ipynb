{
 "cells": [
  {
   "cell_type": "markdown",
   "id": "47caac46-e441-4e89-9c8e-10de74d3b0aa",
   "metadata": {},
   "source": [
    "# Generating data for PanTaGruEl"
   ]
  },
  {
   "cell_type": "markdown",
   "id": "095e07a6-89b0-476b-83fb-fda857d76ada",
   "metadata": {},
   "source": [
    "This notebook contains the minimal setup needed to generate production time series with the model PanTaGruEl"
   ]
  },
  {
   "cell_type": "code",
   "execution_count": 1,
   "id": "ca52a3ae-6168-4d6f-9393-3e502d804583",
   "metadata": {},
   "outputs": [
    {
     "name": "stdout",
     "output_type": "stream",
     "text": [
      "Set parameter TokenServer to value \"gurobilm.hevs.ch\"\n"
     ]
    }
   ],
   "source": [
    "using PowerModels\n",
    "using TemperateOptimalPowerFlow\n",
    "using Gurobi"
   ]
  },
  {
   "cell_type": "markdown",
   "id": "dca58428-a422-42ab-a2b2-06624d694467",
   "metadata": {},
   "source": [
    "## Prepare the network"
   ]
  },
  {
   "cell_type": "code",
   "execution_count": 2,
   "id": "7c9b59d8-462f-4cdd-baff-3ec15cce85a0",
   "metadata": {},
   "outputs": [
    {
     "name": "stdout",
     "output_type": "stream",
     "text": [
      "\u001b[32m[info | PowerModels]: removing 2 cost terms from generator 788: Any[]\u001b[39m\n",
      "\u001b[32m[info | PowerModels]: removing 2 cost terms from generator 1070: Any[]\u001b[39m\n",
      "\u001b[32m[info | PowerModels]: removing 2 cost terms from generator 1067: Any[]\u001b[39m\n",
      "\u001b[32m[info | PowerModels]: removing 2 cost terms from generator 1068: Any[]\u001b[39m\n",
      "\u001b[32m[info | PowerModels]: removing 2 cost terms from generator 1069: Any[]\u001b[39m\n",
      "\u001b[32m[info | PowerModels]: removing 2 cost terms from generator 1066: Any[]\u001b[39m\n",
      "\u001b[32m[info | PowerModels]: removing 2 cost terms from generator 789: Any[]\u001b[39m\n"
     ]
    },
    {
     "data": {
      "text/plain": [
       "Dict{String, Any} with 11 entries:\n",
       "  \"bus\"      => Dict{String, Any}(\"4304\"=>Dict{String, Any}(\"coord\"=>Any[11.843…\n",
       "  \"name\"     => \"pantagruel\"\n",
       "  \"dcline\"   => Dict{String, Any}()\n",
       "  \"gen\"      => Dict{String, Any}(\"1\"=>Dict{String, Any}(\"model\"=>2, \"gen_bus\"=…\n",
       "  \"branch\"   => Dict{String, Any}(\"4304\"=>Dict{String, Any}(\"br_r\"=>0.00174284,…\n",
       "  \"storage\"  => Dict{String, Any}()\n",
       "  \"switch\"   => Dict{String, Any}()\n",
       "  \"baseMVA\"  => 100\n",
       "  \"per_unit\" => true\n",
       "  \"shunt\"    => Dict{String, Any}()\n",
       "  \"load\"     => Dict{String, Any}(\"3935\"=>Dict{String, Any}(\"status\"=>1, \"load_…"
      ]
     },
     "execution_count": 2,
     "metadata": {},
     "output_type": "execute_result"
    }
   ],
   "source": [
    "network = parse_file(\"../models/pantagruel.json\")"
   ]
  },
  {
   "cell_type": "code",
   "execution_count": 3,
   "id": "57b4e1c9-2f75-46a9-93a5-6a4781fd129d",
   "metadata": {},
   "outputs": [],
   "source": [
    "add_line_costs!(network, 2000)"
   ]
  },
  {
   "cell_type": "markdown",
   "id": "9cf2301d-5240-496f-99e9-49d01e7f6bfa",
   "metadata": {},
   "source": [
    "## Generate time series for production"
   ]
  },
  {
   "cell_type": "code",
   "execution_count": 4,
   "id": "065ed8cb-f6c2-4abf-8e32-fb571d54eb2d",
   "metadata": {},
   "outputs": [],
   "source": [
    "cd(\"./data\")"
   ]
  },
  {
   "cell_type": "code",
   "execution_count": null,
   "id": "4d55ff4e-f7bb-40e9-b278-febfb97255f0",
   "metadata": {
    "scrolled": true
   },
   "outputs": [],
   "source": [
    "iterate_dc_opf(network,\n",
    "    \"pantagruel_load_series.csv\",\n",
    "    \"pantagruel_gen_cost_series.csv\",\n",
    "    \"pantagruel_gen_series.csv\",\n",
    "    get_silent_optimizer())"
   ]
  },
  {
   "cell_type": "markdown",
   "id": "083bd0e7-0ff1-4fce-b9a0-734b09c71eab",
   "metadata": {},
   "source": [
    "## Examine the result"
   ]
  },
  {
   "cell_type": "code",
   "execution_count": 6,
   "id": "76947cf7-741d-436f-b7cc-009406036f9b",
   "metadata": {},
   "outputs": [],
   "source": [
    "using CSV, DataFrames"
   ]
  },
  {
   "cell_type": "code",
   "execution_count": null,
   "id": "85640458-482e-419c-afe3-ff7996a88686",
   "metadata": {},
   "outputs": [],
   "source": [
    "df = CSV.read(\"pantagruel_gen_series.csv\", DataFrame)"
   ]
  }
 ],
 "metadata": {
  "kernelspec": {
   "display_name": "Julia 1.10.0",
   "language": "julia",
   "name": "julia-1.10"
  },
  "language_info": {
   "file_extension": ".jl",
   "mimetype": "application/julia",
   "name": "julia",
   "version": "1.10.0"
  }
 },
 "nbformat": 4,
 "nbformat_minor": 5
}
