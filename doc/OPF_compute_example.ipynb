{
 "cells": [
  {
   "cell_type": "markdown",
   "id": "d21b933b-ec98-47e6-ba21-473877f8e4cd",
   "metadata": {},
   "source": [
    "# Parameters"
   ]
  },
  {
   "cell_type": "markdown",
   "id": "af82478d-1e40-4063-b67e-fb10630e9050",
   "metadata": {},
   "source": [
    "Use the setup created with the notebook [OPF_setup](./OPF_setup.ipynb)"
   ]
  },
  {
   "cell_type": "code",
   "execution_count": 1,
   "id": "4efe027b-eaeb-45dc-922a-9622aa9f1253",
   "metadata": {},
   "outputs": [
    {
     "data": {
      "text/plain": [
       "\"data/europe_opf_test\""
      ]
     },
     "execution_count": 1,
     "metadata": {},
     "output_type": "execute_result"
    }
   ],
   "source": [
    "model_file = \"../models/europe.json\"\n",
    "data_dir   = \"data/europe_opf_test\""
   ]
  },
  {
   "cell_type": "code",
   "execution_count": 2,
   "id": "beecd635-2638-4d9e-baf0-d79bcf129d01",
   "metadata": {},
   "outputs": [],
   "source": [
    "using TemperateOptimalPowerFlow\n",
    "using DataDrop, Plots"
   ]
  },
  {
   "cell_type": "markdown",
   "id": "96a59238-e825-40ef-af1e-9f71a8e78b67",
   "metadata": {},
   "source": [
    "# Small-scale test"
   ]
  },
  {
   "cell_type": "markdown",
   "id": "a017b0e5-7c29-4abc-87b0-b16170269a8f",
   "metadata": {},
   "source": [
    "Reduce the number of times steps:"
   ]
  },
  {
   "cell_type": "code",
   "execution_count": 3,
   "id": "5961335e-80ea-4bc7-a0cf-40990cec3480",
   "metadata": {},
   "outputs": [
    {
     "name": "stdout",
     "output_type": "stream",
     "text": [
      "[\u001b[34m2024-06-26 14:21:58\u001b[39m]  Scaling down file 'data/europe_opf_test/P_total.h5' from 8736 to 12 time steps\n",
      "[\u001b[34m2024-06-26 14:21:58\u001b[39m]  Scaling down file 'data/europe_opf_test/linear_line_cost.h5' from 8736 to 12 time steps\n"
     ]
    }
   ],
   "source": [
    "scale_down(data_dir, 12)"
   ]
  },
  {
   "cell_type": "markdown",
   "id": "c060709d-4539-4894-9b1b-59cc75aa49a4",
   "metadata": {},
   "source": [
    "Perform OPF:"
   ]
  },
  {
   "cell_type": "code",
   "execution_count": 4,
   "id": "f78cb233-6787-44a8-97eb-795ae3af3a2e",
   "metadata": {},
   "outputs": [
    {
     "name": "stderr",
     "output_type": "stream",
     "text": [
      "\u001b[32m\u001b[1mPrecompiling\u001b[22m\u001b[39m TemperateOptimalPowerFlowIpoptExt\n",
      "\u001b[32m  ✓ \u001b[39m\u001b[90mTemperateOptimalPowerFlow → TemperateOptimalPowerFlowGurobiExt\u001b[39m\n",
      "\u001b[32m  ✓ \u001b[39m\u001b[90mTemperateOptimalPowerFlow → TemperateOptimalPowerFlowIpoptExt\u001b[39m\n",
      "  2 dependencies successfully precompiled in 4 seconds. 61 already precompiled.\n"
     ]
    }
   ],
   "source": [
    "using Ipopt\n",
    "# using Gurobi"
   ]
  },
  {
   "cell_type": "code",
   "execution_count": 5,
   "id": "679d73ae-1eda-4fdf-bdf1-911a9dae1a4e",
   "metadata": {},
   "outputs": [
    {
     "name": "stdout",
     "output_type": "stream",
     "text": [
      "[\u001b[34m2024-06-26 14:22:19\u001b[39m]  OPF with 12 time steps, 771 generators, and 159 ramp constraints (cyclic)\n",
      "[\u001b[34m2024-06-26 14:22:19\u001b[39m]   -> checking model\n",
      "[\u001b[34m2024-06-26 14:22:19\u001b[39m]   -> defining variables\n",
      "[\u001b[34m2024-06-26 14:22:19\u001b[39m]   -> defining constraints\n",
      "[\u001b[34m2024-06-26 14:22:19\u001b[39m]   -> computing objective function\n",
      "[\u001b[34m2024-06-26 14:22:19\u001b[39m]   -> optimizing\n",
      "\n",
      "******************************************************************************\n",
      "This program contains Ipopt, a library for large-scale nonlinear optimization.\n",
      " Ipopt is released as open source code under the Eclipse Public License (EPL).\n",
      "         For more information visit https://github.com/coin-or/Ipopt\n",
      "******************************************************************************\n",
      "\n",
      "[\u001b[34m2024-06-26 14:25:17\u001b[39m]   -> exporting results\n",
      "[\u001b[34m2024-06-26 14:25:17\u001b[39m]  Saving results to file 'data/europe_opf_test/P_result_12.h5'\n"
     ]
    }
   ],
   "source": [
    "compute(data_dir, \"P_result_12\")"
   ]
  },
  {
   "cell_type": "code",
   "execution_count": 6,
   "id": "548c404a-ab86-4012-80bf-ebbfab63fec4",
   "metadata": {},
   "outputs": [
    {
     "name": "stdout",
     "output_type": "stream",
     "text": [
      "[\u001b[34m2024-06-26 14:25:18\u001b[39m]  Partitioning a dataset of 12 time steps into 3 chunks of 4 time steps\n",
      "[\u001b[34m2024-06-26 14:25:19\u001b[39m] \u001b[31m\u001b[1m 0/3\u001b[22m\u001b[39m OPF with 3 time steps, 771 generators, and 159 ramp constraints (cyclic)\n",
      "[\u001b[34m2024-06-26 14:25:19\u001b[39m] \u001b[31m\u001b[1m    \u001b[22m\u001b[39m  -> checking model\n",
      "[\u001b[34m2024-06-26 14:25:19\u001b[39m] \u001b[31m\u001b[1m    \u001b[22m\u001b[39m  -> defining variables\n",
      "[\u001b[34m2024-06-26 14:25:19\u001b[39m] \u001b[31m\u001b[1m    \u001b[22m\u001b[39m  -> defining constraints\n",
      "[\u001b[34m2024-06-26 14:25:19\u001b[39m] \u001b[31m\u001b[1m    \u001b[22m\u001b[39m  -> computing objective function\n",
      "[\u001b[34m2024-06-26 14:25:19\u001b[39m] \u001b[31m\u001b[1m    \u001b[22m\u001b[39m  -> optimizing\n",
      "[\u001b[34m2024-06-26 14:25:23\u001b[39m] \u001b[31m\u001b[1m    \u001b[22m\u001b[39m  -> exporting results\n",
      "[\u001b[34m2024-06-26 14:25:23\u001b[39m] \u001b[31m\u001b[1m 1/3\u001b[22m\u001b[39m OPF with 4 time steps, 771 generators, and 159 ramp constraints (fixed boundaries)\n",
      "[\u001b[34m2024-06-26 14:25:23\u001b[39m] \u001b[31m\u001b[1m    \u001b[22m\u001b[39m  -> checking model\n",
      "[\u001b[34m2024-06-26 14:25:23\u001b[39m] \u001b[31m\u001b[1m    \u001b[22m\u001b[39m  -> defining variables\n",
      "[\u001b[34m2024-06-26 14:25:23\u001b[39m] \u001b[31m\u001b[1m    \u001b[22m\u001b[39m  -> defining constraints\n",
      "[\u001b[34m2024-06-26 14:25:23\u001b[39m] \u001b[31m\u001b[1m    \u001b[22m\u001b[39m  -> computing objective function\n",
      "[\u001b[34m2024-06-26 14:25:24\u001b[39m] \u001b[31m\u001b[1m    \u001b[22m\u001b[39m  -> optimizing\n",
      "[\u001b[34m2024-06-26 14:25:32\u001b[39m] \u001b[31m\u001b[1m    \u001b[22m\u001b[39m  -> exporting results\n",
      "[\u001b[34m2024-06-26 14:25:32\u001b[39m]  Estimated remaining time: 18 s\n",
      "[\u001b[34m2024-06-26 14:25:32\u001b[39m] \u001b[31m\u001b[1m 2/3\u001b[22m\u001b[39m OPF with 4 time steps, 771 generators, and 159 ramp constraints (fixed boundaries)\n",
      "[\u001b[34m2024-06-26 14:25:32\u001b[39m] \u001b[31m\u001b[1m    \u001b[22m\u001b[39m  -> checking model\n",
      "[\u001b[34m2024-06-26 14:25:32\u001b[39m] \u001b[31m\u001b[1m    \u001b[22m\u001b[39m  -> defining variables\n",
      "[\u001b[34m2024-06-26 14:25:32\u001b[39m] \u001b[31m\u001b[1m    \u001b[22m\u001b[39m  -> defining constraints\n",
      "[\u001b[34m2024-06-26 14:25:32\u001b[39m] \u001b[31m\u001b[1m    \u001b[22m\u001b[39m  -> computing objective function\n",
      "[\u001b[34m2024-06-26 14:25:32\u001b[39m] \u001b[31m\u001b[1m    \u001b[22m\u001b[39m  -> optimizing\n",
      "[\u001b[34m2024-06-26 14:25:40\u001b[39m] \u001b[31m\u001b[1m    \u001b[22m\u001b[39m  -> exporting results\n",
      "[\u001b[34m2024-06-26 14:25:41\u001b[39m]  Estimated remaining time: 9 s\n",
      "[\u001b[34m2024-06-26 14:25:41\u001b[39m] \u001b[31m\u001b[1m 3/3\u001b[22m\u001b[39m OPF with 4 time steps, 771 generators, and 159 ramp constraints (fixed boundaries)\n",
      "[\u001b[34m2024-06-26 14:25:41\u001b[39m] \u001b[31m\u001b[1m    \u001b[22m\u001b[39m  -> checking model\n",
      "[\u001b[34m2024-06-26 14:25:41\u001b[39m] \u001b[31m\u001b[1m    \u001b[22m\u001b[39m  -> defining variables\n",
      "[\u001b[34m2024-06-26 14:25:41\u001b[39m] \u001b[31m\u001b[1m    \u001b[22m\u001b[39m  -> defining constraints\n",
      "[\u001b[34m2024-06-26 14:25:41\u001b[39m] \u001b[31m\u001b[1m    \u001b[22m\u001b[39m  -> computing objective function\n",
      "[\u001b[34m2024-06-26 14:25:41\u001b[39m] \u001b[31m\u001b[1m    \u001b[22m\u001b[39m  -> optimizing\n",
      "[\u001b[34m2024-06-26 14:25:50\u001b[39m] \u001b[31m\u001b[1m    \u001b[22m\u001b[39m  -> exporting results\n",
      "[\u001b[34m2024-06-26 14:25:50\u001b[39m]  Saving results to file 'data/europe_opf_test/P_result_3x4.h5'\n"
     ]
    }
   ],
   "source": [
    "compute(data_dir, \"P_result_3x4\", [3, 4])"
   ]
  },
  {
   "cell_type": "code",
   "execution_count": 7,
   "id": "eb1e08ac-f75f-4128-b03a-0b699ab42003",
   "metadata": {},
   "outputs": [
    {
     "name": "stdout",
     "output_type": "stream",
     "text": [
      "[\u001b[34m2024-06-26 14:25:50\u001b[39m]  Partitioning a dataset of 12 time steps into 2 chunks of 6 time steps\n",
      "[\u001b[34m2024-06-26 14:25:50\u001b[39m] \u001b[31m\u001b[1m 0/2\u001b[22m\u001b[39m OPF with 2 time steps, 771 generators, and 159 ramp constraints (cyclic)\n",
      "[\u001b[34m2024-06-26 14:25:50\u001b[39m] \u001b[31m\u001b[1m    \u001b[22m\u001b[39m  -> checking model\n",
      "[\u001b[34m2024-06-26 14:25:50\u001b[39m] \u001b[31m\u001b[1m    \u001b[22m\u001b[39m  -> defining variables\n",
      "[\u001b[34m2024-06-26 14:25:50\u001b[39m] \u001b[31m\u001b[1m    \u001b[22m\u001b[39m  -> defining constraints\n",
      "[\u001b[34m2024-06-26 14:25:50\u001b[39m] \u001b[31m\u001b[1m    \u001b[22m\u001b[39m  -> computing objective function\n",
      "[\u001b[34m2024-06-26 14:25:50\u001b[39m] \u001b[31m\u001b[1m    \u001b[22m\u001b[39m  -> optimizing\n",
      "[\u001b[34m2024-06-26 14:25:52\u001b[39m] \u001b[31m\u001b[1m    \u001b[22m\u001b[39m  -> exporting results\n",
      "[\u001b[34m2024-06-26 14:25:53\u001b[39m] \u001b[31m\u001b[1m 1/2\u001b[22m\u001b[39m Partitioning a dataset of 6 time steps into 2 chunks of 3 time steps\n",
      "[\u001b[34m2024-06-26 14:25:53\u001b[39m] \u001b[31m\u001b[1m 1/2 0/2\u001b[22m\u001b[39m OPF with 2 time steps, 771 generators, and 159 ramp constraints (fixed boundaries)\n",
      "[\u001b[34m2024-06-26 14:25:53\u001b[39m] \u001b[31m\u001b[1m        \u001b[22m\u001b[39m  -> checking model\n",
      "[\u001b[34m2024-06-26 14:25:53\u001b[39m] \u001b[31m\u001b[1m        \u001b[22m\u001b[39m  -> defining variables\n",
      "[\u001b[34m2024-06-26 14:25:53\u001b[39m] \u001b[31m\u001b[1m        \u001b[22m\u001b[39m  -> defining constraints\n",
      "[\u001b[34m2024-06-26 14:25:53\u001b[39m] \u001b[31m\u001b[1m        \u001b[22m\u001b[39m  -> computing objective function\n",
      "[\u001b[34m2024-06-26 14:25:53\u001b[39m] \u001b[31m\u001b[1m        \u001b[22m\u001b[39m  -> optimizing\n",
      "[\u001b[34m2024-06-26 14:25:55\u001b[39m] \u001b[31m\u001b[1m        \u001b[22m\u001b[39m  -> exporting results\n",
      "[\u001b[34m2024-06-26 14:25:55\u001b[39m] \u001b[31m\u001b[1m 1/2 1/2\u001b[22m\u001b[39m OPF with 3 time steps, 771 generators, and 159 ramp constraints (fixed boundaries)\n",
      "[\u001b[34m2024-06-26 14:25:55\u001b[39m] \u001b[31m\u001b[1m        \u001b[22m\u001b[39m  -> checking model\n",
      "[\u001b[34m2024-06-26 14:25:55\u001b[39m] \u001b[31m\u001b[1m        \u001b[22m\u001b[39m  -> defining variables\n",
      "[\u001b[34m2024-06-26 14:25:55\u001b[39m] \u001b[31m\u001b[1m        \u001b[22m\u001b[39m  -> defining constraints\n",
      "[\u001b[34m2024-06-26 14:25:55\u001b[39m] \u001b[31m\u001b[1m        \u001b[22m\u001b[39m  -> computing objective function\n",
      "[\u001b[34m2024-06-26 14:25:55\u001b[39m] \u001b[31m\u001b[1m        \u001b[22m\u001b[39m  -> optimizing\n",
      "[\u001b[34m2024-06-26 14:25:59\u001b[39m] \u001b[31m\u001b[1m        \u001b[22m\u001b[39m  -> exporting results\n",
      "[\u001b[34m2024-06-26 14:26:00\u001b[39m] \u001b[31m\u001b[1m 1/2\u001b[22m\u001b[39m Estimated remaining time: 4 s\n",
      "[\u001b[34m2024-06-26 14:26:00\u001b[39m] \u001b[31m\u001b[1m 1/2 2/2\u001b[22m\u001b[39m OPF with 3 time steps, 771 generators, and 159 ramp constraints (fixed boundaries)\n",
      "[\u001b[34m2024-06-26 14:26:00\u001b[39m] \u001b[31m\u001b[1m        \u001b[22m\u001b[39m  -> checking model\n",
      "[\u001b[34m2024-06-26 14:26:00\u001b[39m] \u001b[31m\u001b[1m        \u001b[22m\u001b[39m  -> defining variables\n",
      "[\u001b[34m2024-06-26 14:26:00\u001b[39m] \u001b[31m\u001b[1m        \u001b[22m\u001b[39m  -> defining constraints\n",
      "[\u001b[34m2024-06-26 14:26:00\u001b[39m] \u001b[31m\u001b[1m        \u001b[22m\u001b[39m  -> computing objective function\n",
      "[\u001b[34m2024-06-26 14:26:00\u001b[39m] \u001b[31m\u001b[1m        \u001b[22m\u001b[39m  -> optimizing\n",
      "[\u001b[34m2024-06-26 14:26:04\u001b[39m] \u001b[31m\u001b[1m        \u001b[22m\u001b[39m  -> exporting results\n",
      "[\u001b[34m2024-06-26 14:26:04\u001b[39m]  Estimated remaining time: 12 s\n",
      "[\u001b[34m2024-06-26 14:26:04\u001b[39m] \u001b[31m\u001b[1m 2/2\u001b[22m\u001b[39m Partitioning a dataset of 6 time steps into 2 chunks of 3 time steps\n",
      "[\u001b[34m2024-06-26 14:26:04\u001b[39m] \u001b[31m\u001b[1m 2/2 0/2\u001b[22m\u001b[39m OPF with 2 time steps, 771 generators, and 159 ramp constraints (fixed boundaries)\n",
      "[\u001b[34m2024-06-26 14:26:04\u001b[39m] \u001b[31m\u001b[1m        \u001b[22m\u001b[39m  -> checking model\n",
      "[\u001b[34m2024-06-26 14:26:04\u001b[39m] \u001b[31m\u001b[1m        \u001b[22m\u001b[39m  -> defining variables\n",
      "[\u001b[34m2024-06-26 14:26:04\u001b[39m] \u001b[31m\u001b[1m        \u001b[22m\u001b[39m  -> defining constraints\n",
      "[\u001b[34m2024-06-26 14:26:04\u001b[39m] \u001b[31m\u001b[1m        \u001b[22m\u001b[39m  -> computing objective function\n",
      "[\u001b[34m2024-06-26 14:26:04\u001b[39m] \u001b[31m\u001b[1m        \u001b[22m\u001b[39m  -> optimizing\n",
      "[\u001b[34m2024-06-26 14:26:07\u001b[39m] \u001b[31m\u001b[1m        \u001b[22m\u001b[39m  -> exporting results\n",
      "[\u001b[34m2024-06-26 14:26:07\u001b[39m] \u001b[31m\u001b[1m 2/2 1/2\u001b[22m\u001b[39m OPF with 3 time steps, 771 generators, and 159 ramp constraints (fixed boundaries)\n",
      "[\u001b[34m2024-06-26 14:26:07\u001b[39m] \u001b[31m\u001b[1m        \u001b[22m\u001b[39m  -> checking model\n",
      "[\u001b[34m2024-06-26 14:26:07\u001b[39m] \u001b[31m\u001b[1m        \u001b[22m\u001b[39m  -> defining variables\n",
      "[\u001b[34m2024-06-26 14:26:07\u001b[39m] \u001b[31m\u001b[1m        \u001b[22m\u001b[39m  -> defining constraints\n",
      "[\u001b[34m2024-06-26 14:26:07\u001b[39m] \u001b[31m\u001b[1m        \u001b[22m\u001b[39m  -> computing objective function\n",
      "[\u001b[34m2024-06-26 14:26:07\u001b[39m] \u001b[31m\u001b[1m        \u001b[22m\u001b[39m  -> optimizing\n",
      "[\u001b[34m2024-06-26 14:26:11\u001b[39m] \u001b[31m\u001b[1m        \u001b[22m\u001b[39m  -> exporting results\n",
      "[\u001b[34m2024-06-26 14:26:11\u001b[39m] \u001b[31m\u001b[1m 2/2\u001b[22m\u001b[39m Estimated remaining time: 4 s\n",
      "[\u001b[34m2024-06-26 14:26:11\u001b[39m] \u001b[31m\u001b[1m 2/2 2/2\u001b[22m\u001b[39m OPF with 3 time steps, 771 generators, and 159 ramp constraints (fixed boundaries)\n",
      "[\u001b[34m2024-06-26 14:26:11\u001b[39m] \u001b[31m\u001b[1m        \u001b[22m\u001b[39m  -> checking model\n",
      "[\u001b[34m2024-06-26 14:26:11\u001b[39m] \u001b[31m\u001b[1m        \u001b[22m\u001b[39m  -> defining variables\n",
      "[\u001b[34m2024-06-26 14:26:11\u001b[39m] \u001b[31m\u001b[1m        \u001b[22m\u001b[39m  -> defining constraints\n",
      "[\u001b[34m2024-06-26 14:26:11\u001b[39m] \u001b[31m\u001b[1m        \u001b[22m\u001b[39m  -> computing objective function\n",
      "[\u001b[34m2024-06-26 14:26:11\u001b[39m] \u001b[31m\u001b[1m        \u001b[22m\u001b[39m  -> optimizing\n",
      "[\u001b[34m2024-06-26 14:26:15\u001b[39m] \u001b[31m\u001b[1m        \u001b[22m\u001b[39m  -> exporting results\n",
      "[\u001b[34m2024-06-26 14:26:15\u001b[39m]  Saving results to file 'data/europe_opf_test/P_result_2x2x3.h5'\n"
     ]
    }
   ],
   "source": [
    "compute(data_dir, \"P_result_2x2x3\", [2, 2, 3])"
   ]
  },
  {
   "cell_type": "markdown",
   "id": "cfd88c0e-c7bb-48c3-a074-301cbb1f0b30",
   "metadata": {},
   "source": [
    "# Examine the results"
   ]
  },
  {
   "cell_type": "code",
   "execution_count": 11,
   "id": "a713b8e7-dfdf-4c0c-a570-4152122bbfc9",
   "metadata": {},
   "outputs": [
    {
     "data": {
      "text/plain": [
       "Dict{String, Matrix{Float64}} with 3 entries:\n",
       "  \"12\"    => [1.14 1.14 … 1.07048 1.14; 2.61791 2.54111 … 2.23146 2.61914; … ; …\n",
       "  \"3x4\"   => [1.14 1.07918 … 1.08627 1.14; 2.62196 2.54361 … 2.23157 2.62775; ……\n",
       "  \"2x2x3\" => [1.14 1.14 … 1.12143 1.14; 2.62188 2.54521 … 2.23143 2.62309; … ; …"
      ]
     },
     "execution_count": 11,
     "metadata": {},
     "output_type": "execute_result"
    }
   ],
   "source": [
    "P_results = Dict(partition => DataDrop.retrieve_matrix(\"$(data_dir)/P_result_$partition.h5\")\n",
    "    for partition ∈ [\"12\", \"3x4\", \"2x2x3\"])"
   ]
  },
  {
   "cell_type": "code",
   "execution_count": 6,
   "id": "7b60dde4-9bca-443e-a833-e054d7f3dfb0",
   "metadata": {},
   "outputs": [],
   "source": [
    "# network = import_model(model_file)\n",
    "# gen_ids = Dict(id => i for (i, id) ∈ enumerate(get_ordered_gen_ids(network)))"
   ]
  },
  {
   "cell_type": "code",
   "execution_count": null,
   "id": "5bd79b09-22cd-443b-97ce-c0c569856647",
   "metadata": {},
   "outputs": [],
   "source": [
    "# function plot_gen(id)\n",
    "#     bus_name = network[\"bus\"][string(network[\"gen\"][id][\"gen_bus\"])][\"name\"]\n",
    "#     gen_type = network[\"gen\"][id][\"type\"]\n",
    "#     title = \"$(bus_name) - $(gen_type)\"\n",
    "#     id = parse(Int, \n",
    "#     plot()\n",
    "#     for (partition, P) ∈ P_results\n",
    "#         plot!(100 * P[312, :], label=partition, title=title)\n",
    "#     end\n",
    "#     plot!()   \n",
    "# end"
   ]
  },
  {
   "cell_type": "code",
   "execution_count": null,
   "id": "fcfadfe1-4a92-4049-849a-8e8575bb95fb",
   "metadata": {},
   "outputs": [],
   "source": []
  }
 ],
 "metadata": {
  "kernelspec": {
   "display_name": "Julia 1.10.4",
   "language": "julia",
   "name": "julia-1.10"
  },
  "language_info": {
   "file_extension": ".jl",
   "mimetype": "application/julia",
   "name": "julia",
   "version": "1.10.4"
  }
 },
 "nbformat": 4,
 "nbformat_minor": 5
}
